{
 "cells": [
  {
   "cell_type": "code",
   "execution_count": 1,
   "metadata": {
    "collapsed": true
   },
   "outputs": [],
   "source": [
    "import pandas as pd\n",
    "import numpy as np\n",
    "import miceforest as mf\n"
   ]
  },
  {
   "cell_type": "code",
   "execution_count": 2,
   "outputs": [],
   "source": [
    "df = pd.read_csv(\"../data/V2_TEST_DATA_WITHDEMOGRAPHICS.csv\")"
   ],
   "metadata": {
    "collapsed": false,
    "pycharm": {
     "name": "#%%\n"
    }
   }
  },
  {
   "cell_type": "code",
   "execution_count": 3,
   "outputs": [],
   "source": [
    "df = df.drop(columns=[\"Unnamed: 0\", \"Unnamed: 0.1\"])"
   ],
   "metadata": {
    "collapsed": false,
    "pycharm": {
     "name": "#%%\n"
    }
   }
  },
  {
   "cell_type": "code",
   "execution_count": 4,
   "outputs": [
    {
     "data": {
      "text/plain": "    CrimeDate  Description   Post  District             Neighborhood  \\\n0  2018-12-30            7  523.0         3                 HOMELAND   \n1  2018-12-29            4  123.0         0                    UPTON   \n2  2018-12-29           12  441.0         2  PULASKI INDUSTRIAL AREA   \n3  2018-12-28            4  942.0         6                RIVERSIDE   \n4  2018-12-28            3  613.0         4          LANGSTON HUGHES   \n\n   Longitude  Latitude  Premise  Month  Hour  ...  perc18_24  perc25_64  \\\n0    39.3556  -76.6099       78     12     0  ...  25.103793  43.962919   \n1    39.3011  -76.6276       69     12     0  ...  10.168599  45.584826   \n2    39.3039  -76.5408       38     12     0  ...   5.425101  50.024291   \n3    39.2736  -76.6118       50     12     0  ...   4.993910  77.425903   \n4    39.3438  -76.6777       78     12     0  ...   9.433962  49.834663   \n\n    perc65up  perc_asian    perc_aa  perc_hisp  perc_white  \\\n0  15.253370   10.805892  15.947222   3.469260   64.852414   \n1  12.465753    1.401475  90.769231   1.064278    4.573235   \n2  11.303644    1.943320  31.433198  26.542510   38.801619   \n3   6.645013    2.287184   2.354852   3.315740   90.634727   \n4  24.129547    0.437658  94.728652   0.816962    2.655125   \n\n   median_price_homes_sold  racial_diversity_index  num_households  \n0                 338350.0               54.141457        347500.0  \n1                 105500.0               18.546981         53465.0  \n2                 125000.0               77.658458         83000.0  \n3                 350000.0               20.090743        306000.0  \n4                  69680.0               11.410513         40000.0  \n\n[5 rows x 36 columns]",
      "text/html": "<div>\n<style scoped>\n    .dataframe tbody tr th:only-of-type {\n        vertical-align: middle;\n    }\n\n    .dataframe tbody tr th {\n        vertical-align: top;\n    }\n\n    .dataframe thead th {\n        text-align: right;\n    }\n</style>\n<table border=\"1\" class=\"dataframe\">\n  <thead>\n    <tr style=\"text-align: right;\">\n      <th></th>\n      <th>CrimeDate</th>\n      <th>Description</th>\n      <th>Post</th>\n      <th>District</th>\n      <th>Neighborhood</th>\n      <th>Longitude</th>\n      <th>Latitude</th>\n      <th>Premise</th>\n      <th>Month</th>\n      <th>Hour</th>\n      <th>...</th>\n      <th>perc18_24</th>\n      <th>perc25_64</th>\n      <th>perc65up</th>\n      <th>perc_asian</th>\n      <th>perc_aa</th>\n      <th>perc_hisp</th>\n      <th>perc_white</th>\n      <th>median_price_homes_sold</th>\n      <th>racial_diversity_index</th>\n      <th>num_households</th>\n    </tr>\n  </thead>\n  <tbody>\n    <tr>\n      <th>0</th>\n      <td>2018-12-30</td>\n      <td>7</td>\n      <td>523.0</td>\n      <td>3</td>\n      <td>HOMELAND</td>\n      <td>39.3556</td>\n      <td>-76.6099</td>\n      <td>78</td>\n      <td>12</td>\n      <td>0</td>\n      <td>...</td>\n      <td>25.103793</td>\n      <td>43.962919</td>\n      <td>15.253370</td>\n      <td>10.805892</td>\n      <td>15.947222</td>\n      <td>3.469260</td>\n      <td>64.852414</td>\n      <td>338350.0</td>\n      <td>54.141457</td>\n      <td>347500.0</td>\n    </tr>\n    <tr>\n      <th>1</th>\n      <td>2018-12-29</td>\n      <td>4</td>\n      <td>123.0</td>\n      <td>0</td>\n      <td>UPTON</td>\n      <td>39.3011</td>\n      <td>-76.6276</td>\n      <td>69</td>\n      <td>12</td>\n      <td>0</td>\n      <td>...</td>\n      <td>10.168599</td>\n      <td>45.584826</td>\n      <td>12.465753</td>\n      <td>1.401475</td>\n      <td>90.769231</td>\n      <td>1.064278</td>\n      <td>4.573235</td>\n      <td>105500.0</td>\n      <td>18.546981</td>\n      <td>53465.0</td>\n    </tr>\n    <tr>\n      <th>2</th>\n      <td>2018-12-29</td>\n      <td>12</td>\n      <td>441.0</td>\n      <td>2</td>\n      <td>PULASKI INDUSTRIAL AREA</td>\n      <td>39.3039</td>\n      <td>-76.5408</td>\n      <td>38</td>\n      <td>12</td>\n      <td>0</td>\n      <td>...</td>\n      <td>5.425101</td>\n      <td>50.024291</td>\n      <td>11.303644</td>\n      <td>1.943320</td>\n      <td>31.433198</td>\n      <td>26.542510</td>\n      <td>38.801619</td>\n      <td>125000.0</td>\n      <td>77.658458</td>\n      <td>83000.0</td>\n    </tr>\n    <tr>\n      <th>3</th>\n      <td>2018-12-28</td>\n      <td>4</td>\n      <td>942.0</td>\n      <td>6</td>\n      <td>RIVERSIDE</td>\n      <td>39.2736</td>\n      <td>-76.6118</td>\n      <td>50</td>\n      <td>12</td>\n      <td>0</td>\n      <td>...</td>\n      <td>4.993910</td>\n      <td>77.425903</td>\n      <td>6.645013</td>\n      <td>2.287184</td>\n      <td>2.354852</td>\n      <td>3.315740</td>\n      <td>90.634727</td>\n      <td>350000.0</td>\n      <td>20.090743</td>\n      <td>306000.0</td>\n    </tr>\n    <tr>\n      <th>4</th>\n      <td>2018-12-28</td>\n      <td>3</td>\n      <td>613.0</td>\n      <td>4</td>\n      <td>LANGSTON HUGHES</td>\n      <td>39.3438</td>\n      <td>-76.6777</td>\n      <td>78</td>\n      <td>12</td>\n      <td>0</td>\n      <td>...</td>\n      <td>9.433962</td>\n      <td>49.834663</td>\n      <td>24.129547</td>\n      <td>0.437658</td>\n      <td>94.728652</td>\n      <td>0.816962</td>\n      <td>2.655125</td>\n      <td>69680.0</td>\n      <td>11.410513</td>\n      <td>40000.0</td>\n    </tr>\n  </tbody>\n</table>\n<p>5 rows × 36 columns</p>\n</div>"
     },
     "execution_count": 4,
     "metadata": {},
     "output_type": "execute_result"
    }
   ],
   "source": [
    "df.head()"
   ],
   "metadata": {
    "collapsed": false,
    "pycharm": {
     "name": "#%%\n"
    }
   }
  },
  {
   "cell_type": "code",
   "execution_count": 5,
   "outputs": [
    {
     "data": {
      "text/plain": "Index(['CrimeDate', 'Description', 'Post', 'District', 'Neighborhood',\n       'Longitude', 'Latitude', 'Premise', 'Month', 'Hour', 'Year', 'Outside',\n       'Season_autumn', 'Season_spring', 'Season_summer', 'Season_winter',\n       'Weapon_FIREARM', 'Weapon_HANDS', 'Weapon_KNIFE', 'Weapon_NONE',\n       'Weapon_OTHER', 'Holiday', 'Weekend', 'CSA', 'median_household_income',\n       'households_below_poverty', 'perc18_24', 'perc25_64', 'perc65up',\n       'perc_asian', 'perc_aa', 'perc_hisp', 'perc_white',\n       'median_price_homes_sold', 'racial_diversity_index', 'num_households'],\n      dtype='object')"
     },
     "execution_count": 5,
     "metadata": {},
     "output_type": "execute_result"
    }
   ],
   "source": [
    "df.columns\n"
   ],
   "metadata": {
    "collapsed": false,
    "pycharm": {
     "name": "#%%\n"
    }
   }
  },
  {
   "cell_type": "code",
   "execution_count": 6,
   "outputs": [],
   "source": [
    "df = df.drop(columns=[\"CrimeDate\",\"CSA\"])\n"
   ],
   "metadata": {
    "collapsed": false,
    "pycharm": {
     "name": "#%%\n"
    }
   }
  },
  {
   "cell_type": "code",
   "execution_count": 7,
   "outputs": [
    {
     "name": "stdout",
     "output_type": "stream",
     "text": [
      "<class 'pandas.core.frame.DataFrame'>\n",
      "RangeIndex: 51119 entries, 0 to 51118\n",
      "Data columns (total 34 columns):\n",
      " #   Column                    Non-Null Count  Dtype  \n",
      "---  ------                    --------------  -----  \n",
      " 0   Description               51119 non-null  int64  \n",
      " 1   Post                      51119 non-null  float64\n",
      " 2   District                  51119 non-null  int64  \n",
      " 3   Neighborhood              51119 non-null  object \n",
      " 4   Longitude                 51119 non-null  float64\n",
      " 5   Latitude                  51119 non-null  float64\n",
      " 6   Premise                   51119 non-null  int64  \n",
      " 7   Month                     51119 non-null  int64  \n",
      " 8   Hour                      51119 non-null  int64  \n",
      " 9   Year                      51119 non-null  int64  \n",
      " 10  Outside                   51119 non-null  int64  \n",
      " 11  Season_autumn             51119 non-null  int64  \n",
      " 12  Season_spring             51119 non-null  int64  \n",
      " 13  Season_summer             51119 non-null  int64  \n",
      " 14  Season_winter             51119 non-null  int64  \n",
      " 15  Weapon_FIREARM            51119 non-null  int64  \n",
      " 16  Weapon_HANDS              51119 non-null  int64  \n",
      " 17  Weapon_KNIFE              51119 non-null  int64  \n",
      " 18  Weapon_NONE               51119 non-null  int64  \n",
      " 19  Weapon_OTHER              51119 non-null  int64  \n",
      " 20  Holiday                   51119 non-null  int64  \n",
      " 21  Weekend                   51119 non-null  int64  \n",
      " 22  median_household_income   48881 non-null  float64\n",
      " 23  households_below_poverty  48881 non-null  float64\n",
      " 24  perc18_24                 48881 non-null  float64\n",
      " 25  perc25_64                 48881 non-null  float64\n",
      " 26  perc65up                  48881 non-null  float64\n",
      " 27  perc_asian                48881 non-null  float64\n",
      " 28  perc_aa                   48881 non-null  float64\n",
      " 29  perc_hisp                 48881 non-null  float64\n",
      " 30  perc_white                48881 non-null  float64\n",
      " 31  median_price_homes_sold   48881 non-null  float64\n",
      " 32  racial_diversity_index    48881 non-null  float64\n",
      " 33  num_households            48881 non-null  float64\n",
      "dtypes: float64(15), int64(18), object(1)\n",
      "memory usage: 13.3+ MB\n"
     ]
    }
   ],
   "source": [
    "df.info()\n"
   ],
   "metadata": {
    "collapsed": false,
    "pycharm": {
     "name": "#%%\n"
    }
   }
  },
  {
   "cell_type": "markdown",
   "source": [
    "Wonder if this will work with the saved imputer...\n"
   ],
   "metadata": {
    "collapsed": false,
    "pycharm": {
     "name": "#%% md\n"
    }
   }
  },
  {
   "cell_type": "code",
   "execution_count": 8,
   "outputs": [],
   "source": [
    "from sklearn.preprocessing import LabelEncoder\n",
    "le = LabelEncoder()"
   ],
   "metadata": {
    "collapsed": false,
    "pycharm": {
     "name": "#%%\n"
    }
   }
  },
  {
   "cell_type": "code",
   "execution_count": 9,
   "outputs": [
    {
     "data": {
      "text/plain": "LabelEncoder()"
     },
     "execution_count": 9,
     "metadata": {},
     "output_type": "execute_result"
    }
   ],
   "source": [
    "Neighborhood = pd.read_csv(\"../data/V2_Neighborhood_decoder.csv\", header=None)\n",
    "le.fit(Neighborhood[0])"
   ],
   "metadata": {
    "collapsed": false,
    "pycharm": {
     "name": "#%%\n"
    }
   }
  },
  {
   "cell_type": "code",
   "execution_count": 10,
   "outputs": [],
   "source": [
    "df[\"Neighborhood\"]=le.transform(df[\"Neighborhood\"])"
   ],
   "metadata": {
    "collapsed": false,
    "pycharm": {
     "name": "#%%\n"
    }
   }
  },
  {
   "cell_type": "markdown",
   "source": [
    "Let's load our pickled imputer model. Keep in mind that due to its size, I can only store it locally so you won't have access to it. You can run the Demographic_imputation_MICE.ipynb file to generate the model and it should be exactly the same.\n"
   ],
   "metadata": {
    "collapsed": false,
    "pycharm": {
     "name": "#%% md\n"
    }
   }
  },
  {
   "cell_type": "code",
   "execution_count": 11,
   "outputs": [],
   "source": [
    "import pickle"
   ],
   "metadata": {
    "collapsed": false,
    "pycharm": {
     "name": "#%%\n"
    }
   }
  },
  {
   "cell_type": "code",
   "execution_count": 12,
   "outputs": [],
   "source": [
    "impute = pickle.load(open(\"MICE_MODEL.sav\", \"rb\"))\n"
   ],
   "metadata": {
    "collapsed": false,
    "pycharm": {
     "name": "#%%\n"
    }
   }
  },
  {
   "cell_type": "code",
   "execution_count": 13,
   "outputs": [],
   "source": [
    "completed_data = impute.impute_new_data(new_data=df)"
   ],
   "metadata": {
    "collapsed": false,
    "pycharm": {
     "name": "#%%\n"
    }
   }
  },
  {
   "cell_type": "markdown",
   "source": [
    "New missing demographic data has been imputed using the same parameters from the training data.\n",
    "Now we need to apply the same methodology of taking the average per missing neighborhood.\n"
   ],
   "metadata": {
    "collapsed": false,
    "pycharm": {
     "name": "#%% md\n"
    }
   }
  },
  {
   "cell_type": "code",
   "execution_count": 21,
   "outputs": [],
   "source": [
    "completed_data_1 = completed_data.complete_data(0)"
   ],
   "metadata": {
    "collapsed": false,
    "pycharm": {
     "name": "#%%\n"
    }
   }
  },
  {
   "cell_type": "code",
   "execution_count": 15,
   "outputs": [],
   "source": [
    "df_NA = df[df.isna().any(axis=1)]"
   ],
   "metadata": {
    "collapsed": false,
    "pycharm": {
     "name": "#%%\n"
    }
   }
  },
  {
   "cell_type": "code",
   "execution_count": 16,
   "outputs": [],
   "source": [
    "missing_neigh = list(df_NA[\"Neighborhood\"].unique())"
   ],
   "metadata": {
    "collapsed": false,
    "pycharm": {
     "name": "#%%\n"
    }
   }
  },
  {
   "cell_type": "code",
   "execution_count": 17,
   "outputs": [],
   "source": [
    "temp = df.dropna()"
   ],
   "metadata": {
    "collapsed": false,
    "pycharm": {
     "name": "#%%\n"
    }
   }
  },
  {
   "cell_type": "code",
   "execution_count": 18,
   "outputs": [
    {
     "data": {
      "text/plain": "Empty DataFrame\nColumns: [Description, Post, District, Neighborhood, Longitude, Latitude, Premise, Month, Hour, Year, Outside, Season_autumn, Season_spring, Season_summer, Season_winter, Weapon_FIREARM, Weapon_HANDS, Weapon_KNIFE, Weapon_NONE, Weapon_OTHER, Holiday, Weekend, median_household_income, households_below_poverty, perc18_24, perc25_64, perc65up, perc_asian, perc_aa, perc_hisp, perc_white, median_price_homes_sold, racial_diversity_index, num_households]\nIndex: []\n\n[0 rows x 34 columns]",
      "text/html": "<div>\n<style scoped>\n    .dataframe tbody tr th:only-of-type {\n        vertical-align: middle;\n    }\n\n    .dataframe tbody tr th {\n        vertical-align: top;\n    }\n\n    .dataframe thead th {\n        text-align: right;\n    }\n</style>\n<table border=\"1\" class=\"dataframe\">\n  <thead>\n    <tr style=\"text-align: right;\">\n      <th></th>\n      <th>Description</th>\n      <th>Post</th>\n      <th>District</th>\n      <th>Neighborhood</th>\n      <th>Longitude</th>\n      <th>Latitude</th>\n      <th>Premise</th>\n      <th>Month</th>\n      <th>Hour</th>\n      <th>Year</th>\n      <th>...</th>\n      <th>perc18_24</th>\n      <th>perc25_64</th>\n      <th>perc65up</th>\n      <th>perc_asian</th>\n      <th>perc_aa</th>\n      <th>perc_hisp</th>\n      <th>perc_white</th>\n      <th>median_price_homes_sold</th>\n      <th>racial_diversity_index</th>\n      <th>num_households</th>\n    </tr>\n  </thead>\n  <tbody>\n  </tbody>\n</table>\n<p>0 rows × 34 columns</p>\n</div>"
     },
     "execution_count": 18,
     "metadata": {},
     "output_type": "execute_result"
    }
   ],
   "source": [
    "temp[temp[\"Neighborhood\"].isin(missing_neigh)]"
   ],
   "metadata": {
    "collapsed": false,
    "pycharm": {
     "name": "#%%\n"
    }
   }
  },
  {
   "cell_type": "code",
   "execution_count": 19,
   "outputs": [
    {
     "data": {
      "text/plain": "[50, 161, 143, 255, 192, 51, 115, 229, 189, 236, 235, 162]"
     },
     "execution_count": 19,
     "metadata": {},
     "output_type": "execute_result"
    }
   ],
   "source": [
    "missing_neigh"
   ],
   "metadata": {
    "collapsed": false,
    "pycharm": {
     "name": "#%%\n"
    }
   }
  },
  {
   "cell_type": "code",
   "execution_count": 22,
   "outputs": [],
   "source": [
    "means = completed_data_1.groupby(\"Neighborhood\").mean()"
   ],
   "metadata": {
    "collapsed": false,
    "pycharm": {
     "name": "#%%\n"
    }
   }
  },
  {
   "cell_type": "code",
   "execution_count": 23,
   "outputs": [
    {
     "data": {
      "text/plain": "Description                      6.449612\nPost                           512.883721\nDistrict                         3.000000\nLongitude                       39.326003\nLatitude                       -76.610587\nPremise                         56.945736\nMonth                            7.131783\nHour                            14.209302\nYear                          2017.697674\nOutside                          0.457364\nSeason_autumn                    0.310078\nSeason_spring                    0.224806\nSeason_summer                    0.240310\nSeason_winter                    0.224806\nWeapon_FIREARM                   0.116279\nWeapon_HANDS                     0.015504\nWeapon_KNIFE                     0.062016\nWeapon_NONE                      0.705426\nWeapon_OTHER                     0.093023\nHoliday                          0.054264\nWeekend                          0.255814\nmedian_household_income      41717.170689\nhouseholds_below_poverty        18.261209\nperc18_24                       29.333625\nperc25_64                       52.536777\nperc65up                         7.652555\nperc_asian                      11.914045\nperc_aa                         33.572292\nperc_hisp                        5.635948\nperc_white                      44.036575\nmedian_price_homes_sold     194418.604651\nracial_diversity_index          67.455526\nnum_households              170000.000000\nName: 0, dtype: float64"
     },
     "execution_count": 23,
     "metadata": {},
     "output_type": "execute_result"
    }
   ],
   "source": [
    "means.loc[0] #gives the mean values for Neighborhood 0"
   ],
   "metadata": {
    "collapsed": false,
    "pycharm": {
     "name": "#%%\n"
    }
   }
  },
  {
   "cell_type": "code",
   "execution_count": 24,
   "outputs": [],
   "source": [
    "means_1 = means[[\"median_household_income\",\"households_below_poverty\",\"perc18_24\",\"perc25_64\",\"perc65up\",\"perc_asian\",\"perc_aa\",\"perc_hisp\",\"perc_white\",\"median_price_homes_sold\",\"racial_diversity_index\",\"num_households\"]]"
   ],
   "metadata": {
    "collapsed": false,
    "pycharm": {
     "name": "#%%\n"
    }
   }
  },
  {
   "cell_type": "code",
   "execution_count": 25,
   "outputs": [
    {
     "data": {
      "text/plain": "              median_household_income  households_below_poverty  perc18_24  \\\nNeighborhood                                                                 \n50                       39667.630752                 18.552965   8.723770   \n161                      37655.022367                 22.759053   7.994984   \n143                      39302.949230                 21.276776   8.563042   \n255                      37796.117064                 22.213774   8.515442   \n192                      39533.754094                 19.128183   8.304127   \n51                       39336.822646                 19.292958   8.286141   \n115                      39916.039567                 18.709303   8.320370   \n229                      38973.590962                 19.630507   8.256106   \n189                      40145.248284                 18.336664   8.821019   \n236                      40972.747236                 20.553114   8.444936   \n235                      40667.174147                 20.431139   8.423005   \n162                      39482.402411                 18.379922   8.776153   \n\n              perc25_64   perc65up  perc_asian    perc_aa  perc_hisp  \\\nNeighborhood                                                           \n50            54.941721  10.003844    1.540094  53.824805  10.437545   \n161           55.744814   9.303305    1.841590  40.417766  12.738711   \n143           56.710589   9.147122    2.239167  52.048871   9.753833   \n255           56.638802   8.547951    2.218322  50.795114   9.648152   \n192           55.305136  10.344631    1.792258  53.074666  11.031319   \n51            55.232568  10.589232    1.802811  54.209064   9.837320   \n115           55.303422  10.473837    1.790862  52.818113  10.617414   \n229           55.209266  11.125595    1.866278  53.540003   9.624956   \n189           54.924880   9.645817    1.483072  53.724938  11.118117   \n236           56.509134   9.444682    2.301480  51.556978   9.842053   \n235           56.589688   9.870637    2.211304  51.662705   9.551874   \n162           54.991204   9.794628    1.572174  53.090995  10.692010   \n\n              perc_white  median_price_homes_sold  racial_diversity_index  \\\nNeighborhood                                                                \n50             32.778371             90677.514329               64.105443   \n161            41.200339             79729.898048               68.408272   \n143            35.372410             89208.333333               63.440295   \n255            36.632183             82748.739566               64.327034   \n192            34.001753             82987.118110               65.191030   \n51             32.832776             82451.662791               63.919140   \n115            33.934618             84712.323529               64.625704   \n229            33.317050             80264.634146               63.834691   \n189            32.548303             89086.903226               64.900157   \n236            36.244520             89883.333333               64.932314   \n235            36.695091             87078.461538               63.060760   \n162            33.051499             88487.500000               64.504211   \n\n              num_households  \nNeighborhood                  \n50              97169.607843  \n161             77835.032538  \n143             80230.952381  \n255             72463.681135  \n192             89140.944882  \n51              90937.209302  \n115             90250.000000  \n229             90902.439024  \n189             97932.258065  \n236             84840.476190  \n235             82623.076923  \n162             96312.500000  ",
      "text/html": "<div>\n<style scoped>\n    .dataframe tbody tr th:only-of-type {\n        vertical-align: middle;\n    }\n\n    .dataframe tbody tr th {\n        vertical-align: top;\n    }\n\n    .dataframe thead th {\n        text-align: right;\n    }\n</style>\n<table border=\"1\" class=\"dataframe\">\n  <thead>\n    <tr style=\"text-align: right;\">\n      <th></th>\n      <th>median_household_income</th>\n      <th>households_below_poverty</th>\n      <th>perc18_24</th>\n      <th>perc25_64</th>\n      <th>perc65up</th>\n      <th>perc_asian</th>\n      <th>perc_aa</th>\n      <th>perc_hisp</th>\n      <th>perc_white</th>\n      <th>median_price_homes_sold</th>\n      <th>racial_diversity_index</th>\n      <th>num_households</th>\n    </tr>\n    <tr>\n      <th>Neighborhood</th>\n      <th></th>\n      <th></th>\n      <th></th>\n      <th></th>\n      <th></th>\n      <th></th>\n      <th></th>\n      <th></th>\n      <th></th>\n      <th></th>\n      <th></th>\n      <th></th>\n    </tr>\n  </thead>\n  <tbody>\n    <tr>\n      <th>50</th>\n      <td>39667.630752</td>\n      <td>18.552965</td>\n      <td>8.723770</td>\n      <td>54.941721</td>\n      <td>10.003844</td>\n      <td>1.540094</td>\n      <td>53.824805</td>\n      <td>10.437545</td>\n      <td>32.778371</td>\n      <td>90677.514329</td>\n      <td>64.105443</td>\n      <td>97169.607843</td>\n    </tr>\n    <tr>\n      <th>161</th>\n      <td>37655.022367</td>\n      <td>22.759053</td>\n      <td>7.994984</td>\n      <td>55.744814</td>\n      <td>9.303305</td>\n      <td>1.841590</td>\n      <td>40.417766</td>\n      <td>12.738711</td>\n      <td>41.200339</td>\n      <td>79729.898048</td>\n      <td>68.408272</td>\n      <td>77835.032538</td>\n    </tr>\n    <tr>\n      <th>143</th>\n      <td>39302.949230</td>\n      <td>21.276776</td>\n      <td>8.563042</td>\n      <td>56.710589</td>\n      <td>9.147122</td>\n      <td>2.239167</td>\n      <td>52.048871</td>\n      <td>9.753833</td>\n      <td>35.372410</td>\n      <td>89208.333333</td>\n      <td>63.440295</td>\n      <td>80230.952381</td>\n    </tr>\n    <tr>\n      <th>255</th>\n      <td>37796.117064</td>\n      <td>22.213774</td>\n      <td>8.515442</td>\n      <td>56.638802</td>\n      <td>8.547951</td>\n      <td>2.218322</td>\n      <td>50.795114</td>\n      <td>9.648152</td>\n      <td>36.632183</td>\n      <td>82748.739566</td>\n      <td>64.327034</td>\n      <td>72463.681135</td>\n    </tr>\n    <tr>\n      <th>192</th>\n      <td>39533.754094</td>\n      <td>19.128183</td>\n      <td>8.304127</td>\n      <td>55.305136</td>\n      <td>10.344631</td>\n      <td>1.792258</td>\n      <td>53.074666</td>\n      <td>11.031319</td>\n      <td>34.001753</td>\n      <td>82987.118110</td>\n      <td>65.191030</td>\n      <td>89140.944882</td>\n    </tr>\n    <tr>\n      <th>51</th>\n      <td>39336.822646</td>\n      <td>19.292958</td>\n      <td>8.286141</td>\n      <td>55.232568</td>\n      <td>10.589232</td>\n      <td>1.802811</td>\n      <td>54.209064</td>\n      <td>9.837320</td>\n      <td>32.832776</td>\n      <td>82451.662791</td>\n      <td>63.919140</td>\n      <td>90937.209302</td>\n    </tr>\n    <tr>\n      <th>115</th>\n      <td>39916.039567</td>\n      <td>18.709303</td>\n      <td>8.320370</td>\n      <td>55.303422</td>\n      <td>10.473837</td>\n      <td>1.790862</td>\n      <td>52.818113</td>\n      <td>10.617414</td>\n      <td>33.934618</td>\n      <td>84712.323529</td>\n      <td>64.625704</td>\n      <td>90250.000000</td>\n    </tr>\n    <tr>\n      <th>229</th>\n      <td>38973.590962</td>\n      <td>19.630507</td>\n      <td>8.256106</td>\n      <td>55.209266</td>\n      <td>11.125595</td>\n      <td>1.866278</td>\n      <td>53.540003</td>\n      <td>9.624956</td>\n      <td>33.317050</td>\n      <td>80264.634146</td>\n      <td>63.834691</td>\n      <td>90902.439024</td>\n    </tr>\n    <tr>\n      <th>189</th>\n      <td>40145.248284</td>\n      <td>18.336664</td>\n      <td>8.821019</td>\n      <td>54.924880</td>\n      <td>9.645817</td>\n      <td>1.483072</td>\n      <td>53.724938</td>\n      <td>11.118117</td>\n      <td>32.548303</td>\n      <td>89086.903226</td>\n      <td>64.900157</td>\n      <td>97932.258065</td>\n    </tr>\n    <tr>\n      <th>236</th>\n      <td>40972.747236</td>\n      <td>20.553114</td>\n      <td>8.444936</td>\n      <td>56.509134</td>\n      <td>9.444682</td>\n      <td>2.301480</td>\n      <td>51.556978</td>\n      <td>9.842053</td>\n      <td>36.244520</td>\n      <td>89883.333333</td>\n      <td>64.932314</td>\n      <td>84840.476190</td>\n    </tr>\n    <tr>\n      <th>235</th>\n      <td>40667.174147</td>\n      <td>20.431139</td>\n      <td>8.423005</td>\n      <td>56.589688</td>\n      <td>9.870637</td>\n      <td>2.211304</td>\n      <td>51.662705</td>\n      <td>9.551874</td>\n      <td>36.695091</td>\n      <td>87078.461538</td>\n      <td>63.060760</td>\n      <td>82623.076923</td>\n    </tr>\n    <tr>\n      <th>162</th>\n      <td>39482.402411</td>\n      <td>18.379922</td>\n      <td>8.776153</td>\n      <td>54.991204</td>\n      <td>9.794628</td>\n      <td>1.572174</td>\n      <td>53.090995</td>\n      <td>10.692010</td>\n      <td>33.051499</td>\n      <td>88487.500000</td>\n      <td>64.504211</td>\n      <td>96312.500000</td>\n    </tr>\n  </tbody>\n</table>\n</div>"
     },
     "execution_count": 25,
     "metadata": {},
     "output_type": "execute_result"
    }
   ],
   "source": [
    "means_1.loc[missing_neigh]"
   ],
   "metadata": {
    "collapsed": false,
    "pycharm": {
     "name": "#%%\n"
    }
   }
  },
  {
   "cell_type": "code",
   "execution_count": 26,
   "outputs": [],
   "source": [
    "missing_means = means_1.loc[missing_neigh]\n"
   ],
   "metadata": {
    "collapsed": false,
    "pycharm": {
     "name": "#%%\n"
    }
   }
  },
  {
   "cell_type": "code",
   "execution_count": 27,
   "outputs": [
    {
     "data": {
      "text/plain": "37655.02236729482"
     },
     "execution_count": 27,
     "metadata": {},
     "output_type": "execute_result"
    }
   ],
   "source": [
    "missing_means[\"median_household_income\"].loc[161]"
   ],
   "metadata": {
    "collapsed": false,
    "pycharm": {
     "name": "#%%\n"
    }
   }
  },
  {
   "cell_type": "code",
   "execution_count": 28,
   "outputs": [],
   "source": [
    "completed_data_1.loc[completed_data_1[\"Neighborhood\"]==161,\"median_household_income\"] = missing_means[\"median_household_income\"].loc[161]"
   ],
   "metadata": {
    "collapsed": false,
    "pycharm": {
     "name": "#%%\n"
    }
   }
  },
  {
   "cell_type": "code",
   "execution_count": 29,
   "outputs": [
    {
     "data": {
      "text/plain": "38       37655.022367\n68       37655.022367\n73       37655.022367\n107      37655.022367\n125      37655.022367\n             ...     \n49616    37655.022367\n50145    37655.022367\n50338    37655.022367\n50496    37655.022367\n50971    37655.022367\nName: median_household_income, Length: 461, dtype: float64"
     },
     "execution_count": 29,
     "metadata": {},
     "output_type": "execute_result"
    }
   ],
   "source": [
    "completed_data_1.loc[completed_data_1[\"Neighborhood\"]==161][\"median_household_income\"]"
   ],
   "metadata": {
    "collapsed": false,
    "pycharm": {
     "name": "#%%\n"
    }
   }
  },
  {
   "cell_type": "code",
   "execution_count": 30,
   "outputs": [],
   "source": [
    "\n",
    "for i in missing_neigh:\n",
    "    completed_data_1.loc[completed_data_1[\"Neighborhood\"]==i,\"median_household_income\"] = missing_means[\"median_household_income\"].loc[i]\n",
    "    completed_data_1.loc[completed_data_1[\"Neighborhood\"]==i,\"households_below_poverty\"] = missing_means[\"households_below_poverty\"].loc[i]\n",
    "    completed_data_1.loc[completed_data_1[\"Neighborhood\"]==i,\"perc18_24\"] = missing_means[\"perc18_24\"].loc[i]\n",
    "    completed_data_1.loc[completed_data_1[\"Neighborhood\"]==i,\"perc25_64\"] = missing_means[\"perc25_64\"].loc[i]\n",
    "    completed_data_1.loc[completed_data_1[\"Neighborhood\"]==i,\"perc65up\"] = missing_means[\"perc65up\"].loc[i]\n",
    "    completed_data_1.loc[completed_data_1[\"Neighborhood\"]==i,\"perc_asian\"] = missing_means[\"perc_asian\"].loc[i]\n",
    "    completed_data_1.loc[completed_data_1[\"Neighborhood\"]==i,\"perc_aa\"] = missing_means[\"perc_aa\"].loc[i]\n",
    "    completed_data_1.loc[completed_data_1[\"Neighborhood\"]==i,\"perc_hisp\"] = missing_means[\"perc_hisp\"].loc[i]\n",
    "    completed_data_1.loc[completed_data_1[\"Neighborhood\"]==i,\"perc_white\"] = missing_means[\"perc_white\"].loc[i]\n",
    "    completed_data_1.loc[completed_data_1[\"Neighborhood\"]==i,\"median_price_homes_sold\"] = missing_means[\"median_price_homes_sold\"].loc[i]\n",
    "    completed_data_1.loc[completed_data_1[\"Neighborhood\"]==i,\"racial_diversity_index\"] = missing_means[\"racial_diversity_index\"].loc[i]\n",
    "    completed_data_1.loc[completed_data_1[\"Neighborhood\"]==i,\"num_households\"] = missing_means[\"num_households\"].loc[i]"
   ],
   "metadata": {
    "collapsed": false,
    "pycharm": {
     "name": "#%%\n"
    }
   }
  },
  {
   "cell_type": "code",
   "execution_count": 32,
   "outputs": [
    {
     "data": {
      "text/plain": "108      37796.117064\n268      37796.117064\n306      37796.117064\n324      37796.117064\n330      37796.117064\n             ...     \n50661    37796.117064\n50916    37796.117064\n50934    37796.117064\n51040    37796.117064\n51045    37796.117064\nName: median_household_income, Length: 599, dtype: float64"
     },
     "execution_count": 32,
     "metadata": {},
     "output_type": "execute_result"
    }
   ],
   "source": [
    "completed_data_1.loc[completed_data_1[\"Neighborhood\"]==255][\"median_household_income\"]"
   ],
   "metadata": {
    "collapsed": false,
    "pycharm": {
     "name": "#%%\n"
    }
   }
  },
  {
   "cell_type": "code",
   "execution_count": 33,
   "outputs": [],
   "source": [
    "completed_data_1.to_csv(\"../data/TEST_DATA_WITH_MICE_IMPUTED_DEMOGRAPHICS.csv\")"
   ],
   "metadata": {
    "collapsed": false,
    "pycharm": {
     "name": "#%%\n"
    }
   }
  },
  {
   "cell_type": "code",
   "execution_count": 34,
   "outputs": [
    {
     "name": "stdout",
     "output_type": "stream",
     "text": [
      "<class 'pandas.core.frame.DataFrame'>\n",
      "RangeIndex: 51119 entries, 0 to 51118\n",
      "Data columns (total 34 columns):\n",
      " #   Column                    Non-Null Count  Dtype  \n",
      "---  ------                    --------------  -----  \n",
      " 0   Description               51119 non-null  int64  \n",
      " 1   Post                      51119 non-null  float64\n",
      " 2   District                  51119 non-null  int64  \n",
      " 3   Neighborhood              51119 non-null  int32  \n",
      " 4   Longitude                 51119 non-null  float64\n",
      " 5   Latitude                  51119 non-null  float64\n",
      " 6   Premise                   51119 non-null  int64  \n",
      " 7   Month                     51119 non-null  int64  \n",
      " 8   Hour                      51119 non-null  int64  \n",
      " 9   Year                      51119 non-null  int64  \n",
      " 10  Outside                   51119 non-null  int64  \n",
      " 11  Season_autumn             51119 non-null  int64  \n",
      " 12  Season_spring             51119 non-null  int64  \n",
      " 13  Season_summer             51119 non-null  int64  \n",
      " 14  Season_winter             51119 non-null  int64  \n",
      " 15  Weapon_FIREARM            51119 non-null  int64  \n",
      " 16  Weapon_HANDS              51119 non-null  int64  \n",
      " 17  Weapon_KNIFE              51119 non-null  int64  \n",
      " 18  Weapon_NONE               51119 non-null  int64  \n",
      " 19  Weapon_OTHER              51119 non-null  int64  \n",
      " 20  Holiday                   51119 non-null  int64  \n",
      " 21  Weekend                   51119 non-null  int64  \n",
      " 22  median_household_income   51119 non-null  float64\n",
      " 23  households_below_poverty  51119 non-null  float64\n",
      " 24  perc18_24                 51119 non-null  float64\n",
      " 25  perc25_64                 51119 non-null  float64\n",
      " 26  perc65up                  51119 non-null  float64\n",
      " 27  perc_asian                51119 non-null  float64\n",
      " 28  perc_aa                   51119 non-null  float64\n",
      " 29  perc_hisp                 51119 non-null  float64\n",
      " 30  perc_white                51119 non-null  float64\n",
      " 31  median_price_homes_sold   51119 non-null  float64\n",
      " 32  racial_diversity_index    51119 non-null  float64\n",
      " 33  num_households            51119 non-null  float64\n",
      "dtypes: float64(15), int32(1), int64(18)\n",
      "memory usage: 13.1 MB\n"
     ]
    }
   ],
   "source": [
    "completed_data_1.info()"
   ],
   "metadata": {
    "collapsed": false,
    "pycharm": {
     "name": "#%%\n"
    }
   }
  },
  {
   "cell_type": "code",
   "execution_count": null,
   "outputs": [],
   "source": [],
   "metadata": {
    "collapsed": false,
    "pycharm": {
     "name": "#%%\n"
    }
   }
  }
 ],
 "metadata": {
  "kernelspec": {
   "display_name": "Python 3",
   "language": "python",
   "name": "python3"
  },
  "language_info": {
   "codemirror_mode": {
    "name": "ipython",
    "version": 2
   },
   "file_extension": ".py",
   "mimetype": "text/x-python",
   "name": "python",
   "nbconvert_exporter": "python",
   "pygments_lexer": "ipython2",
   "version": "2.7.6"
  }
 },
 "nbformat": 4,
 "nbformat_minor": 0
}