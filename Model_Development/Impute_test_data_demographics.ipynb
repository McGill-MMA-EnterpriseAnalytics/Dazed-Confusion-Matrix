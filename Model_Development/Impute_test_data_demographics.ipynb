{
 "cells": [
  {
   "cell_type": "code",
   "execution_count": 1,
   "metadata": {
    "collapsed": true
   },
   "outputs": [],
   "source": [
    "import pandas as pd\n",
    "import numpy as np\n",
    "import miceforest as mf\n"
   ]
  },
  {
   "cell_type": "code",
   "execution_count": 3,
   "outputs": [],
   "source": [
    "df = pd.read_csv(\"../data/V2_TEST_DATA_WITHDEMOGRAPHICS.csv\")"
   ],
   "metadata": {
    "collapsed": false,
    "pycharm": {
     "name": "#%%\n"
    }
   }
  },
  {
   "cell_type": "code",
   "execution_count": 5,
   "outputs": [],
   "source": [
    "df = df.drop(columns=[\"Unnamed: 0\", \"Unnamed: 0.1\"])"
   ],
   "metadata": {
    "collapsed": false,
    "pycharm": {
     "name": "#%%\n"
    }
   }
  },
  {
   "cell_type": "code",
   "execution_count": 6,
   "outputs": [
    {
     "data": {
      "text/plain": "    CrimeDate  Description  District             Neighborhood  Premise  Month  \\\n0  2018-12-30            7         3                 HOMELAND       78     12   \n1  2018-12-29            4         0                    UPTON       69     12   \n2  2018-12-29           12         2  PULASKI INDUSTRIAL AREA       38     12   \n3  2018-12-28            4         6                RIVERSIDE       50     12   \n4  2018-12-28            3         4          LANGSTON HUGHES       78     12   \n\n   Hour  Outside  Weapon_FIREARM  Weapon_HANDS  ...  perc18_24  perc25_64  \\\n0     0        1               0             0  ...  25.103793  43.962919   \n1     0        0               0             0  ...  10.168599  45.584826   \n2     0        0               0             0  ...   5.425101  50.024291   \n3     0        0               0             0  ...   4.993910  77.425903   \n4     0        1               0             0  ...   9.433962  49.834663   \n\n    perc65up  perc_asian    perc_aa  perc_hisp  perc_white  \\\n0  15.253370   10.805892  15.947222   3.469260   64.852414   \n1  12.465753    1.401475  90.769231   1.064278    4.573235   \n2  11.303644    1.943320  31.433198  26.542510   38.801619   \n3   6.645013    2.287184   2.354852   3.315740   90.634727   \n4  24.129547    0.437658  94.728652   0.816962    2.655125   \n\n   median_price_homes_sold  racial_diversity_index  num_households  \n0                 338350.0               54.141457        347500.0  \n1                 105500.0               18.546981         53465.0  \n2                 125000.0               77.658458         83000.0  \n3                 350000.0               20.090743        306000.0  \n4                  69680.0               11.410513         40000.0  \n\n[5 rows x 29 columns]",
      "text/html": "<div>\n<style scoped>\n    .dataframe tbody tr th:only-of-type {\n        vertical-align: middle;\n    }\n\n    .dataframe tbody tr th {\n        vertical-align: top;\n    }\n\n    .dataframe thead th {\n        text-align: right;\n    }\n</style>\n<table border=\"1\" class=\"dataframe\">\n  <thead>\n    <tr style=\"text-align: right;\">\n      <th></th>\n      <th>CrimeDate</th>\n      <th>Description</th>\n      <th>District</th>\n      <th>Neighborhood</th>\n      <th>Premise</th>\n      <th>Month</th>\n      <th>Hour</th>\n      <th>Outside</th>\n      <th>Weapon_FIREARM</th>\n      <th>Weapon_HANDS</th>\n      <th>...</th>\n      <th>perc18_24</th>\n      <th>perc25_64</th>\n      <th>perc65up</th>\n      <th>perc_asian</th>\n      <th>perc_aa</th>\n      <th>perc_hisp</th>\n      <th>perc_white</th>\n      <th>median_price_homes_sold</th>\n      <th>racial_diversity_index</th>\n      <th>num_households</th>\n    </tr>\n  </thead>\n  <tbody>\n    <tr>\n      <th>0</th>\n      <td>2018-12-30</td>\n      <td>7</td>\n      <td>3</td>\n      <td>HOMELAND</td>\n      <td>78</td>\n      <td>12</td>\n      <td>0</td>\n      <td>1</td>\n      <td>0</td>\n      <td>0</td>\n      <td>...</td>\n      <td>25.103793</td>\n      <td>43.962919</td>\n      <td>15.253370</td>\n      <td>10.805892</td>\n      <td>15.947222</td>\n      <td>3.469260</td>\n      <td>64.852414</td>\n      <td>338350.0</td>\n      <td>54.141457</td>\n      <td>347500.0</td>\n    </tr>\n    <tr>\n      <th>1</th>\n      <td>2018-12-29</td>\n      <td>4</td>\n      <td>0</td>\n      <td>UPTON</td>\n      <td>69</td>\n      <td>12</td>\n      <td>0</td>\n      <td>0</td>\n      <td>0</td>\n      <td>0</td>\n      <td>...</td>\n      <td>10.168599</td>\n      <td>45.584826</td>\n      <td>12.465753</td>\n      <td>1.401475</td>\n      <td>90.769231</td>\n      <td>1.064278</td>\n      <td>4.573235</td>\n      <td>105500.0</td>\n      <td>18.546981</td>\n      <td>53465.0</td>\n    </tr>\n    <tr>\n      <th>2</th>\n      <td>2018-12-29</td>\n      <td>12</td>\n      <td>2</td>\n      <td>PULASKI INDUSTRIAL AREA</td>\n      <td>38</td>\n      <td>12</td>\n      <td>0</td>\n      <td>0</td>\n      <td>0</td>\n      <td>0</td>\n      <td>...</td>\n      <td>5.425101</td>\n      <td>50.024291</td>\n      <td>11.303644</td>\n      <td>1.943320</td>\n      <td>31.433198</td>\n      <td>26.542510</td>\n      <td>38.801619</td>\n      <td>125000.0</td>\n      <td>77.658458</td>\n      <td>83000.0</td>\n    </tr>\n    <tr>\n      <th>3</th>\n      <td>2018-12-28</td>\n      <td>4</td>\n      <td>6</td>\n      <td>RIVERSIDE</td>\n      <td>50</td>\n      <td>12</td>\n      <td>0</td>\n      <td>0</td>\n      <td>0</td>\n      <td>0</td>\n      <td>...</td>\n      <td>4.993910</td>\n      <td>77.425903</td>\n      <td>6.645013</td>\n      <td>2.287184</td>\n      <td>2.354852</td>\n      <td>3.315740</td>\n      <td>90.634727</td>\n      <td>350000.0</td>\n      <td>20.090743</td>\n      <td>306000.0</td>\n    </tr>\n    <tr>\n      <th>4</th>\n      <td>2018-12-28</td>\n      <td>3</td>\n      <td>4</td>\n      <td>LANGSTON HUGHES</td>\n      <td>78</td>\n      <td>12</td>\n      <td>0</td>\n      <td>1</td>\n      <td>0</td>\n      <td>0</td>\n      <td>...</td>\n      <td>9.433962</td>\n      <td>49.834663</td>\n      <td>24.129547</td>\n      <td>0.437658</td>\n      <td>94.728652</td>\n      <td>0.816962</td>\n      <td>2.655125</td>\n      <td>69680.0</td>\n      <td>11.410513</td>\n      <td>40000.0</td>\n    </tr>\n  </tbody>\n</table>\n<p>5 rows × 29 columns</p>\n</div>"
     },
     "execution_count": 6,
     "metadata": {},
     "output_type": "execute_result"
    }
   ],
   "source": [
    "df.head()"
   ],
   "metadata": {
    "collapsed": false,
    "pycharm": {
     "name": "#%%\n"
    }
   }
  },
  {
   "cell_type": "code",
   "execution_count": 7,
   "outputs": [
    {
     "data": {
      "text/plain": "Index(['CrimeDate', 'Description', 'District', 'Neighborhood', 'Premise',\n       'Month', 'Hour', 'Outside', 'Weapon_FIREARM', 'Weapon_HANDS',\n       'Weapon_KNIFE', 'Weapon_NONE', 'Weapon_OTHER', 'Holiday', 'Weekend',\n       'CSA', 'Year', 'median_household_income', 'households_below_poverty',\n       'perc18_24', 'perc25_64', 'perc65up', 'perc_asian', 'perc_aa',\n       'perc_hisp', 'perc_white', 'median_price_homes_sold',\n       'racial_diversity_index', 'num_households'],\n      dtype='object')"
     },
     "execution_count": 7,
     "metadata": {},
     "output_type": "execute_result"
    }
   ],
   "source": [
    "df.columns\n"
   ],
   "metadata": {
    "collapsed": false,
    "pycharm": {
     "name": "#%%\n"
    }
   }
  },
  {
   "cell_type": "code",
   "execution_count": 8,
   "outputs": [],
   "source": [
    "df = df.drop(columns=[\"CrimeDate\",\"CSA\"])\n"
   ],
   "metadata": {
    "collapsed": false,
    "pycharm": {
     "name": "#%%\n"
    }
   }
  },
  {
   "cell_type": "code",
   "execution_count": 9,
   "outputs": [
    {
     "name": "stdout",
     "output_type": "stream",
     "text": [
      "<class 'pandas.core.frame.DataFrame'>\n",
      "RangeIndex: 51730 entries, 0 to 51729\n",
      "Data columns (total 27 columns):\n",
      " #   Column                    Non-Null Count  Dtype  \n",
      "---  ------                    --------------  -----  \n",
      " 0   Description               51730 non-null  int64  \n",
      " 1   District                  51730 non-null  int64  \n",
      " 2   Neighborhood              51730 non-null  object \n",
      " 3   Premise                   51730 non-null  int64  \n",
      " 4   Month                     51730 non-null  int64  \n",
      " 5   Hour                      51730 non-null  int64  \n",
      " 6   Outside                   51730 non-null  int64  \n",
      " 7   Weapon_FIREARM            51730 non-null  int64  \n",
      " 8   Weapon_HANDS              51730 non-null  int64  \n",
      " 9   Weapon_KNIFE              51730 non-null  int64  \n",
      " 10  Weapon_NONE               51730 non-null  int64  \n",
      " 11  Weapon_OTHER              51730 non-null  int64  \n",
      " 12  Holiday                   51730 non-null  int64  \n",
      " 13  Weekend                   51730 non-null  int64  \n",
      " 14  Year                      51730 non-null  int64  \n",
      " 15  median_household_income   49492 non-null  float64\n",
      " 16  households_below_poverty  49492 non-null  float64\n",
      " 17  perc18_24                 49492 non-null  float64\n",
      " 18  perc25_64                 49492 non-null  float64\n",
      " 19  perc65up                  49492 non-null  float64\n",
      " 20  perc_asian                49492 non-null  float64\n",
      " 21  perc_aa                   49492 non-null  float64\n",
      " 22  perc_hisp                 49492 non-null  float64\n",
      " 23  perc_white                49492 non-null  float64\n",
      " 24  median_price_homes_sold   49492 non-null  float64\n",
      " 25  racial_diversity_index    49492 non-null  float64\n",
      " 26  num_households            49492 non-null  float64\n",
      "dtypes: float64(12), int64(14), object(1)\n",
      "memory usage: 10.7+ MB\n"
     ]
    }
   ],
   "source": [
    "df.info()\n"
   ],
   "metadata": {
    "collapsed": false,
    "pycharm": {
     "name": "#%%\n"
    }
   }
  },
  {
   "cell_type": "markdown",
   "source": [
    "Wonder if this will work with the saved imputer...\n"
   ],
   "metadata": {
    "collapsed": false,
    "pycharm": {
     "name": "#%% md\n"
    }
   }
  },
  {
   "cell_type": "code",
   "execution_count": 10,
   "outputs": [],
   "source": [
    "from sklearn.preprocessing import LabelEncoder\n",
    "le = LabelEncoder()"
   ],
   "metadata": {
    "collapsed": false,
    "pycharm": {
     "name": "#%%\n"
    }
   }
  },
  {
   "cell_type": "code",
   "execution_count": 11,
   "outputs": [
    {
     "data": {
      "text/plain": "LabelEncoder()"
     },
     "execution_count": 11,
     "metadata": {},
     "output_type": "execute_result"
    }
   ],
   "source": [
    "Neighborhood = pd.read_csv(\"../data/V2_Neighborhood_decoder.csv\", header=None)\n",
    "le.fit(Neighborhood[0])"
   ],
   "metadata": {
    "collapsed": false,
    "pycharm": {
     "name": "#%%\n"
    }
   }
  },
  {
   "cell_type": "code",
   "execution_count": 12,
   "outputs": [],
   "source": [
    "df[\"Neighborhood\"]=le.transform(df[\"Neighborhood\"])"
   ],
   "metadata": {
    "collapsed": false,
    "pycharm": {
     "name": "#%%\n"
    }
   }
  },
  {
   "cell_type": "code",
   "execution_count": 15,
   "outputs": [],
   "source": [
    "import pickle"
   ],
   "metadata": {
    "collapsed": false,
    "pycharm": {
     "name": "#%%\n"
    }
   }
  },
  {
   "cell_type": "code",
   "execution_count": 16,
   "outputs": [],
   "source": [
    "impute = pickle.load(open(\"MICE_MODEL.sav\", \"rb\"))\n"
   ],
   "metadata": {
    "collapsed": false,
    "pycharm": {
     "name": "#%%\n"
    }
   }
  },
  {
   "cell_type": "code",
   "execution_count": 19,
   "outputs": [
    {
     "ename": "ValueError",
     "evalue": "Columns are not the same as kernel data",
     "output_type": "error",
     "traceback": [
      "\u001B[1;31m---------------------------------------------------------------------------\u001B[0m",
      "\u001B[1;31mValueError\u001B[0m                                Traceback (most recent call last)",
      "\u001B[1;32m<ipython-input-19-c3604829367a>\u001B[0m in \u001B[0;36m<module>\u001B[1;34m\u001B[0m\n\u001B[1;32m----> 1\u001B[1;33m \u001B[0mcompleted_data\u001B[0m \u001B[1;33m=\u001B[0m \u001B[0mimpute\u001B[0m\u001B[1;33m.\u001B[0m\u001B[0mimpute_new_data\u001B[0m\u001B[1;33m(\u001B[0m\u001B[0mnew_data\u001B[0m\u001B[1;33m=\u001B[0m\u001B[0mdf\u001B[0m\u001B[1;33m)\u001B[0m\u001B[1;33m\u001B[0m\u001B[1;33m\u001B[0m\u001B[0m\n\u001B[0m\u001B[0;32m      2\u001B[0m \u001B[1;33m\u001B[0m\u001B[0m\n",
      "\u001B[1;32mc:\\users\\administrator\\documents\\github\\dazed-confusion-matrix\\venv\\lib\\site-packages\\miceforest\\MultipleImputedKernel.py\u001B[0m in \u001B[0;36mimpute_new_data\u001B[1;34m(self, new_data, datasets, iterations, save_all_iterations, verbose)\u001B[0m\n\u001B[0;32m    165\u001B[0m         \u001B[1;32mif\u001B[0m \u001B[0mverbose\u001B[0m\u001B[1;33m:\u001B[0m\u001B[1;33m\u001B[0m\u001B[1;33m\u001B[0m\u001B[0m\n\u001B[0;32m    166\u001B[0m             \u001B[0mprint\u001B[0m\u001B[1;33m(\u001B[0m\u001B[1;34m\"Dataset \"\u001B[0m \u001B[1;33m+\u001B[0m \u001B[0mstr\u001B[0m\u001B[1;33m(\u001B[0m\u001B[0mdatasets\u001B[0m\u001B[1;33m[\u001B[0m\u001B[1;36m0\u001B[0m\u001B[1;33m]\u001B[0m\u001B[1;33m)\u001B[0m\u001B[1;33m)\u001B[0m\u001B[1;33m\u001B[0m\u001B[1;33m\u001B[0m\u001B[0m\n\u001B[1;32m--> 167\u001B[1;33m         imputed_data_set = self[datasets.pop(0)].impute_new_data(\n\u001B[0m\u001B[0;32m    168\u001B[0m             \u001B[0mnew_data\u001B[0m\u001B[1;33m=\u001B[0m\u001B[0mnew_data\u001B[0m\u001B[1;33m,\u001B[0m\u001B[1;33m\u001B[0m\u001B[1;33m\u001B[0m\u001B[0m\n\u001B[0;32m    169\u001B[0m             \u001B[0miterations\u001B[0m\u001B[1;33m=\u001B[0m\u001B[0miterations\u001B[0m\u001B[1;33m,\u001B[0m\u001B[1;33m\u001B[0m\u001B[1;33m\u001B[0m\u001B[0m\n",
      "\u001B[1;32mc:\\users\\administrator\\documents\\github\\dazed-confusion-matrix\\venv\\lib\\site-packages\\miceforest\\KernelDataSet.py\u001B[0m in \u001B[0;36mimpute_new_data\u001B[1;34m(self, new_data, iterations, save_all_iterations, verbose)\u001B[0m\n\u001B[0;32m    395\u001B[0m \u001B[1;33m\u001B[0m\u001B[0m\n\u001B[0;32m    396\u001B[0m         \u001B[1;32mif\u001B[0m \u001B[0mset\u001B[0m\u001B[1;33m(\u001B[0m\u001B[0mnew_data\u001B[0m\u001B[1;33m.\u001B[0m\u001B[0mcolumns\u001B[0m\u001B[1;33m)\u001B[0m \u001B[1;33m!=\u001B[0m \u001B[0mset\u001B[0m\u001B[1;33m(\u001B[0m\u001B[0mself\u001B[0m\u001B[1;33m.\u001B[0m\u001B[0mdata\u001B[0m\u001B[1;33m.\u001B[0m\u001B[0mcolumns\u001B[0m\u001B[1;33m)\u001B[0m\u001B[1;33m:\u001B[0m\u001B[1;33m\u001B[0m\u001B[1;33m\u001B[0m\u001B[0m\n\u001B[1;32m--> 397\u001B[1;33m             \u001B[1;32mraise\u001B[0m \u001B[0mValueError\u001B[0m\u001B[1;33m(\u001B[0m\u001B[1;34m\"Columns are not the same as kernel data\"\u001B[0m\u001B[1;33m)\u001B[0m\u001B[1;33m\u001B[0m\u001B[1;33m\u001B[0m\u001B[0m\n\u001B[0m\u001B[0;32m    398\u001B[0m \u001B[1;33m\u001B[0m\u001B[0m\n\u001B[0;32m    399\u001B[0m         \u001B[1;32mif\u001B[0m \u001B[0mself\u001B[0m\u001B[1;33m.\u001B[0m\u001B[0msave_models\u001B[0m \u001B[1;33m<\u001B[0m \u001B[1;36m1\u001B[0m\u001B[1;33m:\u001B[0m\u001B[1;33m\u001B[0m\u001B[1;33m\u001B[0m\u001B[0m\n",
      "\u001B[1;31mValueError\u001B[0m: Columns are not the same as kernel data"
     ]
    }
   ],
   "source": [
    "completed_data = impute.impute_new_data(new_data=df)"
   ],
   "metadata": {
    "collapsed": false,
    "pycharm": {
     "name": "#%%\n"
    }
   }
  },
  {
   "cell_type": "code",
   "execution_count": 20,
   "outputs": [
    {
     "data": {
      "text/plain": "51730"
     },
     "execution_count": 20,
     "metadata": {},
     "output_type": "execute_result"
    }
   ],
   "source": [
    "len(df)"
   ],
   "metadata": {
    "collapsed": false,
    "pycharm": {
     "name": "#%%\n"
    }
   }
  },
  {
   "cell_type": "code",
   "execution_count": null,
   "outputs": [],
   "source": [],
   "metadata": {
    "collapsed": false,
    "pycharm": {
     "name": "#%%\n"
    }
   }
  }
 ],
 "metadata": {
  "kernelspec": {
   "display_name": "Python 3",
   "language": "python",
   "name": "python3"
  },
  "language_info": {
   "codemirror_mode": {
    "name": "ipython",
    "version": 2
   },
   "file_extension": ".py",
   "mimetype": "text/x-python",
   "name": "python",
   "nbconvert_exporter": "python",
   "pygments_lexer": "ipython2",
   "version": "2.7.6"
  }
 },
 "nbformat": 4,
 "nbformat_minor": 0
}