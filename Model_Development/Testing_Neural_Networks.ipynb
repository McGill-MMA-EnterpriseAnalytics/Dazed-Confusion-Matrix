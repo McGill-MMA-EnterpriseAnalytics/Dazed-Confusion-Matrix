{
 "cells": [
  {
   "cell_type": "markdown",
   "id": "casual-escape",
   "metadata": {},
   "source": [
    "---\n",
    "<div style=\"text-align: right\"> Dazed & Confusion Matrix 2.0 <br> REQUIRED TO HAVE TENSORFLOW & TENSORFLOW-PROBABILITY INSTALLED </div>\n",
    "\n",
    "--- "
   ]
  },
  {
   "cell_type": "markdown",
   "id": "alternative-posting",
   "metadata": {},
   "source": [
    "# Load libriaries and functions."
   ]
  },
  {
   "cell_type": "code",
   "execution_count": 1,
   "id": "exceptional-plastic",
   "metadata": {},
   "outputs": [
    {
     "name": "stdout",
     "output_type": "stream",
     "text": [
      "theano: 1.0.4\n",
      "tensorflow: 2.3.0\n",
      "keras: 2.4.0\n",
      "tf_probability: 0.11.0\n",
      "autokeras: 1.0.12\n"
     ]
    }
   ],
   "source": [
    "# theano\n",
    "import theano\n",
    "print('theano: %s' % theano.__version__)\n",
    "# tensorflow\n",
    "import tensorflow as tf\n",
    "print('tensorflow: %s' % tf.__version__)\n",
    "# keras\n",
    "from tensorflow import keras\n",
    "print('keras: %s' % keras.__version__)\n",
    "import tensorflow_probability as tfp\n",
    "print('tf_probability: %s' % tfp.__version__)\n",
    "import autokeras as ak\n",
    "print('autokeras: %s' % ak.__version__)"
   ]
  },
  {
   "cell_type": "code",
   "execution_count": 2,
   "id": "ideal-karen",
   "metadata": {},
   "outputs": [],
   "source": [
    "import pandas as pd\n",
    "import numpy as np\n",
    "tfk = tf.keras\n",
    "tf.keras.backend.set_floatx(\"float64\")\n",
    "import tensorflow_probability as tfp\n",
    "tfd = tfp.distributions\n",
    "from sklearn.preprocessing import StandardScaler\n",
    "from sklearn.ensemble import IsolationForest"
   ]
  },
  {
   "cell_type": "code",
   "execution_count": 3,
   "id": "proud-script",
   "metadata": {},
   "outputs": [],
   "source": [
    "import requests\n",
    "import io"
   ]
  },
  {
   "cell_type": "code",
   "execution_count": 4,
   "id": "dietary-hanging",
   "metadata": {},
   "outputs": [],
   "source": [
    "# To plot pretty figures\n",
    "%matplotlib inline\n",
    "import matplotlib as mpl\n",
    "import matplotlib.pyplot as plt\n",
    "mpl.rc('axes', labelsize=14)\n",
    "mpl.rc('xtick', labelsize=12)\n",
    "mpl.rc('ytick', labelsize=12)"
   ]
  },
  {
   "cell_type": "markdown",
   "id": "entire-applicant",
   "metadata": {},
   "source": [
    "# Define helper functions"
   ]
  },
  {
   "cell_type": "code",
   "execution_count": 5,
   "id": "centered-antigua",
   "metadata": {},
   "outputs": [],
   "source": [
    "# Define helper functions.\n",
    "scaler = StandardScaler()\n",
    "detector = IsolationForest(n_estimators=1000, behaviour=\"deprecated\", contamination=\"auto\", random_state=0)\n",
    "neg_log_likelihood = lambda x, rv_x: -rv_x.log_prob(x)"
   ]
  },
  {
   "cell_type": "markdown",
   "id": "thousand-compatibility",
   "metadata": {},
   "source": [
    "# Loading the Data\n",
    "\n",
    "As sensors tend to drift due to aging, theretically, it is better to only use data from the past month six."
   ]
  },
  {
   "cell_type": "code",
   "execution_count": 6,
   "id": "changing-italian",
   "metadata": {},
   "outputs": [],
   "source": [
    "# Downloading the csv file from your GitHub account\n",
    "\n",
    "url = \"https://raw.githubusercontent.com/McGill-MMA-EnterpriseAnalytics/Dazed-Confusion-Matrix/dev/data/TRAIN_911_DEMO_MERGED_ENCODED.CSV\" # Make sure the url is the raw version of the file on GitHub\n",
    "download = requests.get(url).content\n",
    "\n",
    "# Reading the downloaded content and turning it into a pandas dataframe\n",
    "\n",
    "train_data = pd.read_csv(io.StringIO(download.decode('utf-8')))\n",
    "\n",
    "# Downloading the csv file from your GitHub account\n",
    "\n",
    "url_1 = \"https://raw.githubusercontent.com/McGill-MMA-EnterpriseAnalytics/Dazed-Confusion-Matrix/dev/data/TEST_911_DEMO_MERGED_ENCODED.CSV\" # Make sure the url is the raw version of the file on GitHub\n",
    "download_1 = requests.get(url_1).content\n",
    "\n",
    "# Reading the downloaded content and turning it into a pandas dataframe\n",
    "\n",
    "test_data = pd.read_csv(io.StringIO(download_1.decode('utf-8')))\n"
   ]
  },
  {
   "cell_type": "code",
   "execution_count": 7,
   "id": "infectious-region",
   "metadata": {},
   "outputs": [],
   "source": [
    "test_data['Priority_OUT_OF_SERVICE'] = test_data['Priority_OUT OF SERVICE']\n",
    "test_data = test_data.drop(['Priority_OUT OF SERVICE'], axis=1)\n",
    "train_data['Priority_OUT_OF_SERVICE'] = train_data['Priority_OUT OF SERVICE']\n",
    "train_data = train_data.drop(['Priority_OUT OF SERVICE'], axis=1)"
   ]
  },
  {
   "cell_type": "code",
   "execution_count": 8,
   "id": "golden-terrain",
   "metadata": {},
   "outputs": [
    {
     "data": {
      "text/plain": [
       "Description                 0\n",
       "Post                        0\n",
       "District                    0\n",
       "Neighborhood                0\n",
       "Longitude                   0\n",
       "Latitude                    0\n",
       "Premise                     0\n",
       "CallDescription             0\n",
       "Year                        0\n",
       "median_household_income     0\n",
       "households_below_poverty    0\n",
       "perc18_24                   0\n",
       "perc25_64                   0\n",
       "perc65up                    0\n",
       "perc_asian                  0\n",
       "perc_aa                     0\n",
       "perc_hisp                   0\n",
       "perc_white                  0\n",
       "median_price_homes_sold     0\n",
       "racial_diversity_index      0\n",
       "num_households              0\n",
       "Month                       0\n",
       "crime_hour                  0\n",
       "Outside                     0\n",
       "Weapon_FIREARM              0\n",
       "Weapon_HANDS                0\n",
       "Weapon_KNIFE                0\n",
       "Weapon_NONE                 0\n",
       "Weapon_OTHER                0\n",
       "call_hour                   0\n",
       "Season_autumn               0\n",
       "Season_spring               0\n",
       "Season_summer               0\n",
       "Season_winter               0\n",
       "Holiday                     0\n",
       "Weekend                     0\n",
       "Priority_HIGH               0\n",
       "Priority_LOW                0\n",
       "Priority_MEDIUM             0\n",
       "Priority_NON-EMERGENCY      0\n",
       "Priority_UNKNOWN            0\n",
       "Priority_OUT_OF_SERVICE     0\n",
       "dtype: int64"
      ]
     },
     "execution_count": 8,
     "metadata": {},
     "output_type": "execute_result"
    }
   ],
   "source": [
    "test_data.isnull().sum()"
   ]
  },
  {
   "cell_type": "code",
   "execution_count": 9,
   "id": "taken-patient",
   "metadata": {},
   "outputs": [
    {
     "data": {
      "text/plain": [
       "array([ 8,  7,  3,  0,  5, 11,  4, 12,  1, 13,  2, 14,  9, 10,  6],\n",
       "      dtype=int64)"
      ]
     },
     "execution_count": 9,
     "metadata": {},
     "output_type": "execute_result"
    }
   ],
   "source": [
    "train_data.Description.unique()"
   ]
  },
  {
   "cell_type": "code",
   "execution_count": 10,
   "id": "signal-disclaimer",
   "metadata": {},
   "outputs": [
    {
     "data": {
      "text/plain": [
       "7     1746\n",
       "8     1382\n",
       "5     1017\n",
       "3      996\n",
       "4      805\n",
       "0      517\n",
       "12     461\n",
       "2       97\n",
       "14      89\n",
       "10      57\n",
       "11      50\n",
       "6       41\n",
       "13      34\n",
       "1       31\n",
       "9       26\n",
       "Name: Description, dtype: int64"
      ]
     },
     "execution_count": 10,
     "metadata": {},
     "output_type": "execute_result"
    }
   ],
   "source": [
    "train_data['Description'].value_counts()"
   ]
  },
  {
   "cell_type": "code",
   "execution_count": 11,
   "id": "sound-memorial",
   "metadata": {},
   "outputs": [],
   "source": [
    "#test_data['Description']=test_data[\"Description\"].astype(np.float64)\n",
    "#train_data['Description']=train_data[\"Description\"].astype(np.float64)"
   ]
  },
  {
   "cell_type": "code",
   "execution_count": 12,
   "id": "cloudy-battle",
   "metadata": {},
   "outputs": [
    {
     "name": "stdout",
     "output_type": "stream",
     "text": [
      "<class 'pandas.core.frame.DataFrame'>\n",
      "RangeIndex: 1838 entries, 0 to 1837\n",
      "Data columns (total 42 columns):\n",
      " #   Column                    Non-Null Count  Dtype  \n",
      "---  ------                    --------------  -----  \n",
      " 0   Description               1838 non-null   int64  \n",
      " 1   Post                      1838 non-null   float64\n",
      " 2   District                  1838 non-null   int64  \n",
      " 3   Neighborhood              1838 non-null   int64  \n",
      " 4   Longitude                 1838 non-null   float64\n",
      " 5   Latitude                  1838 non-null   float64\n",
      " 6   Premise                   1838 non-null   int64  \n",
      " 7   CallDescription           1838 non-null   int64  \n",
      " 8   Year                      1838 non-null   int64  \n",
      " 9   median_household_income   1838 non-null   float64\n",
      " 10  households_below_poverty  1838 non-null   float64\n",
      " 11  perc18_24                 1838 non-null   float64\n",
      " 12  perc25_64                 1838 non-null   float64\n",
      " 13  perc65up                  1838 non-null   float64\n",
      " 14  perc_asian                1838 non-null   float64\n",
      " 15  perc_aa                   1838 non-null   float64\n",
      " 16  perc_hisp                 1838 non-null   float64\n",
      " 17  perc_white                1838 non-null   float64\n",
      " 18  median_price_homes_sold   1838 non-null   float64\n",
      " 19  racial_diversity_index    1838 non-null   float64\n",
      " 20  num_households            1838 non-null   float64\n",
      " 21  Month                     1838 non-null   int64  \n",
      " 22  crime_hour                1838 non-null   int64  \n",
      " 23  Outside                   1838 non-null   int64  \n",
      " 24  Weapon_FIREARM            1838 non-null   int64  \n",
      " 25  Weapon_HANDS              1838 non-null   int64  \n",
      " 26  Weapon_KNIFE              1838 non-null   int64  \n",
      " 27  Weapon_NONE               1838 non-null   int64  \n",
      " 28  Weapon_OTHER              1838 non-null   int64  \n",
      " 29  call_hour                 1838 non-null   int64  \n",
      " 30  Season_autumn             1838 non-null   int64  \n",
      " 31  Season_spring             1838 non-null   int64  \n",
      " 32  Season_summer             1838 non-null   int64  \n",
      " 33  Season_winter             1838 non-null   int64  \n",
      " 34  Holiday                   1838 non-null   int64  \n",
      " 35  Weekend                   1838 non-null   int64  \n",
      " 36  Priority_HIGH             1838 non-null   int64  \n",
      " 37  Priority_LOW              1838 non-null   int64  \n",
      " 38  Priority_MEDIUM           1838 non-null   int64  \n",
      " 39  Priority_NON-EMERGENCY    1838 non-null   int64  \n",
      " 40  Priority_UNKNOWN          1838 non-null   int64  \n",
      " 41  Priority_OUT_OF_SERVICE   1838 non-null   int64  \n",
      "dtypes: float64(15), int64(27)\n",
      "memory usage: 603.2 KB\n"
     ]
    }
   ],
   "source": [
    "test_data.info()"
   ]
  },
  {
   "cell_type": "code",
   "execution_count": 13,
   "id": "varying-backing",
   "metadata": {},
   "outputs": [],
   "source": [
    "X_test = test_data.drop(['Description'], axis=1)\n",
    "y_test = test_data[\"Description\"]"
   ]
  },
  {
   "cell_type": "code",
   "execution_count": 14,
   "id": "devoted-defensive",
   "metadata": {},
   "outputs": [],
   "source": [
    "X_train_full = train_data.drop(['Description'], axis=1)\n",
    "y_train_full = train_data['Description']"
   ]
  },
  {
   "cell_type": "code",
   "execution_count": 15,
   "id": "large-approach",
   "metadata": {},
   "outputs": [
    {
     "name": "stdout",
     "output_type": "stream",
     "text": [
      "(7349, 41) (1838, 41) (7349,) (1838,) (1838, 42) (7349, 42)\n"
     ]
    }
   ],
   "source": [
    "print(X_train_full.shape, X_test.shape, y_train_full.shape, y_test.shape, test_data.shape, train_data.shape)"
   ]
  },
  {
   "cell_type": "code",
   "execution_count": 16,
   "id": "protecting-twins",
   "metadata": {},
   "outputs": [],
   "source": [
    "scaler = StandardScaler()"
   ]
  },
  {
   "cell_type": "code",
   "execution_count": 17,
   "id": "indian-field",
   "metadata": {},
   "outputs": [
    {
     "data": {
      "text/plain": [
       "StandardScaler()"
      ]
     },
     "execution_count": 17,
     "metadata": {},
     "output_type": "execute_result"
    }
   ],
   "source": [
    "# Fit only to the training data\n",
    "scaler.fit(X_train_full)"
   ]
  },
  {
   "cell_type": "code",
   "execution_count": 18,
   "id": "important-water",
   "metadata": {},
   "outputs": [],
   "source": [
    "X_train_full = scaler.transform(X_train_full)\n",
    "X_test = scaler.transform(X_test)"
   ]
  },
  {
   "cell_type": "code",
   "execution_count": 19,
   "id": "genuine-smith",
   "metadata": {},
   "outputs": [],
   "source": [
    "#The validation set contains 1935 units of information from the 7350, which is 26.33% of the data \n",
    "X_valid, X_train = X_train_full[:1934], X_train_full[1934:]\n",
    "y_valid, y_train = y_train_full[:1934], y_train_full[1934:]"
   ]
  },
  {
   "cell_type": "code",
   "execution_count": 20,
   "id": "micro-camping",
   "metadata": {},
   "outputs": [],
   "source": [
    "keras.backend.clear_session()\n",
    "np.random.seed(42)\n",
    "tf.random.set_seed(42)"
   ]
  },
  {
   "cell_type": "code",
   "execution_count": 21,
   "id": "missing-jacob",
   "metadata": {},
   "outputs": [],
   "source": [
    "ANN_model = keras.models.Sequential([\n",
    "    keras.layers.Flatten(input_shape=[41]),  \n",
    "    keras.layers.Dense(30, activation=\"relu\"),\n",
    "    keras.layers.Dense(20, activation=\"relu\"),\n",
    "    keras.layers.Dense(15, activation=\"softmax\")\n",
    "])"
   ]
  },
  {
   "cell_type": "code",
   "execution_count": 22,
   "id": "equipped-hierarchy",
   "metadata": {},
   "outputs": [
    {
     "name": "stdout",
     "output_type": "stream",
     "text": [
      "Model: \"sequential\"\n",
      "_________________________________________________________________\n",
      "Layer (type)                 Output Shape              Param #   \n",
      "=================================================================\n",
      "flatten (Flatten)            (None, 41)                0         \n",
      "_________________________________________________________________\n",
      "dense (Dense)                (None, 30)                1260      \n",
      "_________________________________________________________________\n",
      "dense_1 (Dense)              (None, 20)                620       \n",
      "_________________________________________________________________\n",
      "dense_2 (Dense)              (None, 15)                315       \n",
      "=================================================================\n",
      "Total params: 2,195\n",
      "Trainable params: 2,195\n",
      "Non-trainable params: 0\n",
      "_________________________________________________________________\n"
     ]
    }
   ],
   "source": [
    "ANN_model.summary()"
   ]
  },
  {
   "cell_type": "code",
   "execution_count": 23,
   "id": "portuguese-flood",
   "metadata": {},
   "outputs": [],
   "source": [
    "ANN_model.compile(loss=\"sparse_categorical_crossentropy\",\n",
    "              optimizer=\"sgd\",\n",
    "              metrics=[\"accuracy\"])"
   ]
  },
  {
   "cell_type": "code",
   "execution_count": 24,
   "id": "stopped-hunter",
   "metadata": {},
   "outputs": [
    {
     "name": "stdout",
     "output_type": "stream",
     "text": [
      "Epoch 1/50\n",
      "170/170 [==============================] - 0s 2ms/step - loss: 2.4236 - accuracy: 0.2161 - val_loss: 2.1177 - val_accuracy: 0.3154\n",
      "Epoch 2/50\n",
      "170/170 [==============================] - 0s 742us/step - loss: 1.8957 - accuracy: 0.3662 - val_loss: 1.7267 - val_accuracy: 0.4012\n",
      "Epoch 3/50\n",
      "170/170 [==============================] - 0s 807us/step - loss: 1.5738 - accuracy: 0.4720 - val_loss: 1.4653 - val_accuracy: 0.5109\n",
      "Epoch 4/50\n",
      "170/170 [==============================] - 0s 759us/step - loss: 1.3631 - accuracy: 0.5638 - val_loss: 1.2984 - val_accuracy: 0.5812\n",
      "Epoch 5/50\n",
      "170/170 [==============================] - 0s 900us/step - loss: 1.2253 - accuracy: 0.6260 - val_loss: 1.1821 - val_accuracy: 0.6339\n",
      "Epoch 6/50\n",
      "170/170 [==============================] - 0s 787us/step - loss: 1.1284 - accuracy: 0.6567 - val_loss: 1.1026 - val_accuracy: 0.6618\n",
      "Epoch 7/50\n",
      "170/170 [==============================] - 0s 813us/step - loss: 1.0609 - accuracy: 0.6770 - val_loss: 1.0501 - val_accuracy: 0.6768\n",
      "Epoch 8/50\n",
      "170/170 [==============================] - 0s 888us/step - loss: 1.0161 - accuracy: 0.6831 - val_loss: 1.0165 - val_accuracy: 0.6789\n",
      "Epoch 9/50\n",
      "170/170 [==============================] - 0s 963us/step - loss: 0.9854 - accuracy: 0.6883 - val_loss: 0.9944 - val_accuracy: 0.6830\n",
      "Epoch 10/50\n",
      "170/170 [==============================] - 0s 848us/step - loss: 0.9630 - accuracy: 0.6923 - val_loss: 0.9760 - val_accuracy: 0.6861\n",
      "Epoch 11/50\n",
      "170/170 [==============================] - 0s 841us/step - loss: 0.9452 - accuracy: 0.6949 - val_loss: 0.9655 - val_accuracy: 0.6882\n",
      "Epoch 12/50\n",
      "170/170 [==============================] - 0s 782us/step - loss: 0.9304 - accuracy: 0.6955 - val_loss: 0.9526 - val_accuracy: 0.6898\n",
      "Epoch 13/50\n",
      "170/170 [==============================] - 0s 792us/step - loss: 0.9186 - accuracy: 0.6975 - val_loss: 0.9427 - val_accuracy: 0.6872\n",
      "Epoch 14/50\n",
      "170/170 [==============================] - 0s 798us/step - loss: 0.9071 - accuracy: 0.7001 - val_loss: 0.9382 - val_accuracy: 0.6918\n",
      "Epoch 15/50\n",
      "170/170 [==============================] - 0s 812us/step - loss: 0.8989 - accuracy: 0.6964 - val_loss: 0.9297 - val_accuracy: 0.6877\n",
      "Epoch 16/50\n",
      "170/170 [==============================] - 0s 844us/step - loss: 0.8898 - accuracy: 0.6999 - val_loss: 0.9224 - val_accuracy: 0.6939\n",
      "Epoch 17/50\n",
      "170/170 [==============================] - 0s 783us/step - loss: 0.8822 - accuracy: 0.7001 - val_loss: 0.9171 - val_accuracy: 0.6898\n",
      "Epoch 18/50\n",
      "170/170 [==============================] - 0s 894us/step - loss: 0.8757 - accuracy: 0.7018 - val_loss: 0.9111 - val_accuracy: 0.6913\n",
      "Epoch 19/50\n",
      "170/170 [==============================] - 0s 812us/step - loss: 0.8690 - accuracy: 0.7014 - val_loss: 0.9079 - val_accuracy: 0.6908\n",
      "Epoch 20/50\n",
      "170/170 [==============================] - 0s 794us/step - loss: 0.8629 - accuracy: 0.7021 - val_loss: 0.9040 - val_accuracy: 0.6892\n",
      "Epoch 21/50\n",
      "170/170 [==============================] - 0s 917us/step - loss: 0.8578 - accuracy: 0.7064 - val_loss: 0.9008 - val_accuracy: 0.6944\n",
      "Epoch 22/50\n",
      "170/170 [==============================] - 0s 794us/step - loss: 0.8528 - accuracy: 0.7036 - val_loss: 0.8991 - val_accuracy: 0.6913\n",
      "Epoch 23/50\n",
      "170/170 [==============================] - 0s 788us/step - loss: 0.8480 - accuracy: 0.7073 - val_loss: 0.8922 - val_accuracy: 0.6918\n",
      "Epoch 24/50\n",
      "170/170 [==============================] - 0s 777us/step - loss: 0.8437 - accuracy: 0.7077 - val_loss: 0.8954 - val_accuracy: 0.6903\n",
      "Epoch 25/50\n",
      "170/170 [==============================] - 0s 776us/step - loss: 0.8392 - accuracy: 0.7102 - val_loss: 0.8905 - val_accuracy: 0.6898\n",
      "Epoch 26/50\n",
      "170/170 [==============================] - 0s 824us/step - loss: 0.8352 - accuracy: 0.7102 - val_loss: 0.8881 - val_accuracy: 0.6934\n",
      "Epoch 27/50\n",
      "170/170 [==============================] - 0s 812us/step - loss: 0.8314 - accuracy: 0.7112 - val_loss: 0.8854 - val_accuracy: 0.6908\n",
      "Epoch 28/50\n",
      "170/170 [==============================] - 0s 828us/step - loss: 0.8286 - accuracy: 0.7114 - val_loss: 0.8805 - val_accuracy: 0.6949\n",
      "Epoch 29/50\n",
      "170/170 [==============================] - 0s 806us/step - loss: 0.8242 - accuracy: 0.7128 - val_loss: 0.8784 - val_accuracy: 0.6949\n",
      "Epoch 30/50\n",
      "170/170 [==============================] - 0s 776us/step - loss: 0.8218 - accuracy: 0.7145 - val_loss: 0.8781 - val_accuracy: 0.6934\n",
      "Epoch 31/50\n",
      "170/170 [==============================] - 0s 724us/step - loss: 0.8177 - accuracy: 0.7152 - val_loss: 0.8813 - val_accuracy: 0.6903\n",
      "Epoch 32/50\n",
      "170/170 [==============================] - 0s 740us/step - loss: 0.8155 - accuracy: 0.7156 - val_loss: 0.8761 - val_accuracy: 0.6903\n",
      "Epoch 33/50\n",
      "170/170 [==============================] - 0s 776us/step - loss: 0.8119 - accuracy: 0.7152 - val_loss: 0.8718 - val_accuracy: 0.6939\n",
      "Epoch 34/50\n",
      "170/170 [==============================] - 0s 883us/step - loss: 0.8098 - accuracy: 0.7151 - val_loss: 0.8690 - val_accuracy: 0.6960\n",
      "Epoch 35/50\n",
      "170/170 [==============================] - 0s 869us/step - loss: 0.8064 - accuracy: 0.7156 - val_loss: 0.8741 - val_accuracy: 0.6923\n",
      "Epoch 36/50\n",
      "170/170 [==============================] - 0s 759us/step - loss: 0.8034 - accuracy: 0.7186 - val_loss: 0.8667 - val_accuracy: 0.6960\n",
      "Epoch 37/50\n",
      "170/170 [==============================] - 0s 812us/step - loss: 0.8013 - accuracy: 0.7182 - val_loss: 0.8663 - val_accuracy: 0.6960\n",
      "Epoch 38/50\n",
      "170/170 [==============================] - 0s 717us/step - loss: 0.7991 - accuracy: 0.7173 - val_loss: 0.8660 - val_accuracy: 0.6960\n",
      "Epoch 39/50\n",
      "170/170 [==============================] - 0s 730us/step - loss: 0.7961 - accuracy: 0.7182 - val_loss: 0.8646 - val_accuracy: 0.6923\n",
      "Epoch 40/50\n",
      "170/170 [==============================] - 0s 741us/step - loss: 0.7943 - accuracy: 0.7178 - val_loss: 0.8626 - val_accuracy: 0.6908\n",
      "Epoch 41/50\n",
      "170/170 [==============================] - 0s 724us/step - loss: 0.7918 - accuracy: 0.7191 - val_loss: 0.8604 - val_accuracy: 0.6918\n",
      "Epoch 42/50\n",
      "170/170 [==============================] - 0s 747us/step - loss: 0.7893 - accuracy: 0.7195 - val_loss: 0.8604 - val_accuracy: 0.6913\n",
      "Epoch 43/50\n",
      "170/170 [==============================] - 0s 721us/step - loss: 0.7867 - accuracy: 0.7213 - val_loss: 0.8650 - val_accuracy: 0.6908\n",
      "Epoch 44/50\n",
      "170/170 [==============================] - 0s 724us/step - loss: 0.7848 - accuracy: 0.7237 - val_loss: 0.8597 - val_accuracy: 0.6980\n",
      "Epoch 45/50\n",
      "170/170 [==============================] - 0s 735us/step - loss: 0.7828 - accuracy: 0.7204 - val_loss: 0.8560 - val_accuracy: 0.6980\n",
      "Epoch 46/50\n",
      "170/170 [==============================] - 0s 771us/step - loss: 0.7812 - accuracy: 0.7200 - val_loss: 0.8570 - val_accuracy: 0.6965\n",
      "Epoch 47/50\n",
      "170/170 [==============================] - 0s 1ms/step - loss: 0.7786 - accuracy: 0.7228 - val_loss: 0.8570 - val_accuracy: 0.6949\n",
      "Epoch 48/50\n",
      "170/170 [==============================] - 0s 1ms/step - loss: 0.7765 - accuracy: 0.7245 - val_loss: 0.8551 - val_accuracy: 0.6986\n",
      "Epoch 49/50\n",
      "170/170 [==============================] - 0s 912us/step - loss: 0.7753 - accuracy: 0.7234 - val_loss: 0.8542 - val_accuracy: 0.6939\n",
      "Epoch 50/50\n",
      "170/170 [==============================] - 0s 872us/step - loss: 0.7732 - accuracy: 0.7241 - val_loss: 0.8579 - val_accuracy: 0.7017\n"
     ]
    }
   ],
   "source": [
    "#Set the epich to 150 because when testing different epochs this was the point before validation loss became eratic\n",
    "ANN_history = ANN_model.fit(X_train, y_train, epochs=50,\n",
    "                    validation_data=(X_valid, y_valid))\n"
   ]
  },
  {
   "cell_type": "code",
   "execution_count": 25,
   "id": "fluid-trick",
   "metadata": {},
   "outputs": [
    {
     "data": {
      "image/png": "[encoded data removed]",
      "text/plain": [
       "<Figure size 576x360 with 1 Axes>"
      ]
     },
     "metadata": {
      "needs_background": "light"
     },
     "output_type": "display_data"
    }
   ],
   "source": [
    "pd.DataFrame(ANN_history.history).plot(figsize=(8, 5))\n",
    "plt.grid(True)\n",
    "plt.gca().set_ylim(0, 1)\n",
    "plt.show()"
   ]
  },
  {
   "cell_type": "code",
   "execution_count": 26,
   "id": "sexual-bikini",
   "metadata": {},
   "outputs": [
    {
     "name": "stdout",
     "output_type": "stream",
     "text": [
      "58/58 [==============================] - 0s 606us/step - loss: 0.8419 - accuracy: 0.7100\n"
     ]
    },
    {
     "data": {
      "text/plain": [
       "[0.8419079299979682, 0.7100108813928183]"
      ]
     },
     "execution_count": 26,
     "metadata": {},
     "output_type": "execute_result"
    }
   ],
   "source": [
    "ANN_model.evaluate(X_test, y_test)"
   ]
  },
  {
   "cell_type": "code",
   "execution_count": 27,
   "id": "standing-morgan",
   "metadata": {},
   "outputs": [
    {
     "data": {
      "text/plain": [
       "array([[0.  , 0.  , 0.03, 0.05, 0.88, 0.  , 0.  , 0.02, 0.  , 0.  , 0.  ,\n",
       "        0.01, 0.  , 0.  , 0.  ],\n",
       "       [0.  , 0.  , 0.01, 0.  , 0.08, 0.  , 0.  , 0.83, 0.08, 0.  , 0.  ,\n",
       "        0.  , 0.  , 0.  , 0.  ],\n",
       "       [0.  , 0.01, 0.01, 0.01, 0.2 , 0.  , 0.  , 0.59, 0.16, 0.  , 0.  ,\n",
       "        0.01, 0.  , 0.  , 0.  ],\n",
       "       [0.06, 0.  , 0.  , 0.  , 0.  , 0.93, 0.  , 0.  , 0.  , 0.  , 0.  ,\n",
       "        0.  , 0.  , 0.  , 0.  ],\n",
       "       [0.  , 0.  , 0.  , 0.94, 0.02, 0.  , 0.  , 0.01, 0.02, 0.  , 0.  ,\n",
       "        0.  , 0.  , 0.  , 0.  ],\n",
       "       [0.  , 0.  , 0.01, 0.  , 0.11, 0.  , 0.  , 0.82, 0.05, 0.  , 0.  ,\n",
       "        0.  , 0.  , 0.  , 0.  ],\n",
       "       [0.  , 0.02, 0.06, 0.12, 0.64, 0.  , 0.  , 0.1 , 0.02, 0.  , 0.  ,\n",
       "        0.03, 0.01, 0.01, 0.  ],\n",
       "       [0.  , 0.  , 0.  , 0.04, 0.01, 0.  , 0.  , 0.3 , 0.65, 0.  , 0.  ,\n",
       "        0.  , 0.01, 0.  , 0.  ],\n",
       "       [0.  , 0.  , 0.02, 0.02, 0.13, 0.  , 0.  , 0.77, 0.05, 0.  , 0.  ,\n",
       "        0.01, 0.  , 0.  , 0.  ],\n",
       "       [0.04, 0.  , 0.01, 0.01, 0.  , 0.93, 0.  , 0.  , 0.  , 0.  , 0.  ,\n",
       "        0.  , 0.  , 0.  , 0.  ]])"
      ]
     },
     "execution_count": 27,
     "metadata": {},
     "output_type": "execute_result"
    }
   ],
   "source": [
    "X_new = X_test[:10]\n",
    "y_proba = ANN_model.predict(X_new)\n",
    "y_proba.round(2)"
   ]
  },
  {
   "cell_type": "code",
   "execution_count": 28,
   "id": "typical-ranch",
   "metadata": {},
   "outputs": [
    {
     "data": {
      "text/plain": [
       "array([4, 7, 7, 5, 3, 7, 4, 8, 7, 5], dtype=int64)"
      ]
     },
     "execution_count": 28,
     "metadata": {},
     "output_type": "execute_result"
    }
   ],
   "source": [
    "#y_pred = model.predict_classes(X_new) # deprecated\n",
    "y_pred = np.argmax(ANN_model.predict(X_new), axis=-1)\n",
    "y_pred"
   ]
  },
  {
   "cell_type": "code",
   "execution_count": 29,
   "id": "personalized-victor",
   "metadata": {
    "scrolled": true
   },
   "outputs": [
    {
     "data": {
      "text/plain": [
       "0    4\n",
       "1    7\n",
       "2    7\n",
       "3    5\n",
       "4    3\n",
       "5    7\n",
       "6    4\n",
       "7    7\n",
       "8    7\n",
       "9    5\n",
       "Name: Description, dtype: int64"
      ]
     },
     "execution_count": 29,
     "metadata": {},
     "output_type": "execute_result"
    }
   ],
   "source": [
    "y_new = y_test[:10]\n",
    "y_new"
   ]
  },
  {
   "cell_type": "markdown",
   "id": "cutting-fluid",
   "metadata": {},
   "source": [
    "# Trying it under autokeras"
   ]
  },
  {
   "cell_type": "code",
   "execution_count": 30,
   "id": "destroyed-gibraltar",
   "metadata": {},
   "outputs": [],
   "source": [
    "keras.backend.clear_session()\n",
    "np.random.seed(42)\n",
    "tf.random.set_seed(42)"
   ]
  },
  {
   "cell_type": "code",
   "execution_count": 31,
   "id": "american-victoria",
   "metadata": {},
   "outputs": [
    {
     "name": "stdout",
     "output_type": "stream",
     "text": [
      "Trial 5 Complete [00h 00m 09s]\n",
      "val_accuracy: 0.07902163687676388\n",
      "\n",
      "Best val_accuracy So Far: 0.07902163687676388\n",
      "Total elapsed time: 00h 00m 51s\n",
      "INFO:tensorflow:Oracle triggered exit\n",
      "WARNING:tensorflow:Layer concatenate is casting an input tensor from dtype float32 to the layer's dtype of float64, which is new behavior in TensorFlow 2.  The layer has dtype float64 because its dtype defaults to floatx.\n",
      "\n",
      "If you intended to run this layer in float64, you can safely ignore this warning. If in doubt, this warning is likely only an issue if you are porting a TensorFlow 1.X model to TensorFlow 2.\n",
      "\n",
      "To change all layers to have dtype float32 by default, call `tf.keras.backend.set_floatx('float32')`. To change just this layer, pass dtype='float32' to the layer constructor. If you are the author of this layer, you can disable autocasting by passing autocast=False to the base Layer constructor.\n",
      "\n",
      "WARNING:tensorflow:Layer concatenate is casting an input tensor from dtype float32 to the layer's dtype of float64, which is new behavior in TensorFlow 2.  The layer has dtype float64 because its dtype defaults to floatx.\n",
      "\n",
      "If you intended to run this layer in float64, you can safely ignore this warning. If in doubt, this warning is likely only an issue if you are porting a TensorFlow 1.X model to TensorFlow 2.\n",
      "\n",
      "To change all layers to have dtype float32 by default, call `tf.keras.backend.set_floatx('float32')`. To change just this layer, pass dtype='float32' to the layer constructor. If you are the author of this layer, you can disable autocasting by passing autocast=False to the base Layer constructor.\n",
      "\n",
      "Epoch 1/10\n",
      "WARNING:tensorflow:Layer concatenate is casting an input tensor from dtype float32 to the layer's dtype of float64, which is new behavior in TensorFlow 2.  The layer has dtype float64 because its dtype defaults to floatx.\n",
      "\n",
      "If you intended to run this layer in float64, you can safely ignore this warning. If in doubt, this warning is likely only an issue if you are porting a TensorFlow 1.X model to TensorFlow 2.\n",
      "\n",
      "To change all layers to have dtype float32 by default, call `tf.keras.backend.set_floatx('float32')`. To change just this layer, pass dtype='float32' to the layer constructor. If you are the author of this layer, you can disable autocasting by passing autocast=False to the base Layer constructor.\n",
      "\n",
      "WARNING:tensorflow:Layer concatenate is casting an input tensor from dtype float32 to the layer's dtype of float64, which is new behavior in TensorFlow 2.  The layer has dtype float64 because its dtype defaults to floatx.\n",
      "\n",
      "If you intended to run this layer in float64, you can safely ignore this warning. If in doubt, this warning is likely only an issue if you are porting a TensorFlow 1.X model to TensorFlow 2.\n",
      "\n",
      "To change all layers to have dtype float32 by default, call `tf.keras.backend.set_floatx('float32')`. To change just this layer, pass dtype='float32' to the layer constructor. If you are the author of this layer, you can disable autocasting by passing autocast=False to the base Layer constructor.\n",
      "\n",
      "170/170 [==============================] - 0s 2ms/step - loss: nan - accuracy: 0.0705\n",
      "Epoch 2/10\n",
      "170/170 [==============================] - 0s 2ms/step - loss: nan - accuracy: 0.0705\n",
      "Epoch 3/10\n",
      "170/170 [==============================] - 0s 1ms/step - loss: nan - accuracy: 0.0705\n",
      "Epoch 4/10\n",
      "170/170 [==============================] - 0s 2ms/step - loss: nan - accuracy: 0.0705\n",
      "Epoch 5/10\n",
      "170/170 [==============================] - 0s 2ms/step - loss: nan - accuracy: 0.0705\n",
      "Epoch 6/10\n",
      "170/170 [==============================] - 0s 2ms/step - loss: nan - accuracy: 0.0705\n",
      "Epoch 7/10\n",
      "170/170 [==============================] - 0s 2ms/step - loss: nan - accuracy: 0.0705\n",
      "Epoch 8/10\n",
      "170/170 [==============================] - 0s 1ms/step - loss: nan - accuracy: 0.0705\n",
      "Epoch 9/10\n",
      "170/170 [==============================] - 0s 1ms/step - loss: nan - accuracy: 0.0705\n",
      "Epoch 10/10\n",
      "170/170 [==============================] - 0s 2ms/step - loss: nan - accuracy: 0.0705\n",
      "WARNING:tensorflow:Layer concatenate is casting an input tensor from dtype float32 to the layer's dtype of float64, which is new behavior in TensorFlow 2.  The layer has dtype float64 because its dtype defaults to floatx.\n",
      "\n",
      "If you intended to run this layer in float64, you can safely ignore this warning. If in doubt, this warning is likely only an issue if you are porting a TensorFlow 1.X model to TensorFlow 2.\n",
      "\n",
      "To change all layers to have dtype float32 by default, call `tf.keras.backend.set_floatx('float32')`. To change just this layer, pass dtype='float32' to the layer constructor. If you are the author of this layer, you can disable autocasting by passing autocast=False to the base Layer constructor.\n",
      "\n",
      "WARNING:tensorflow:Layer concatenate is casting an input tensor from dtype float32 to the layer's dtype of float64, which is new behavior in TensorFlow 2.  The layer has dtype float64 because its dtype defaults to floatx.\n",
      "\n",
      "If you intended to run this layer in float64, you can safely ignore this warning. If in doubt, this warning is likely only an issue if you are porting a TensorFlow 1.X model to TensorFlow 2.\n",
      "\n",
      "To change all layers to have dtype float32 by default, call `tf.keras.backend.set_floatx('float32')`. To change just this layer, pass dtype='float32' to the layer constructor. If you are the author of this layer, you can disable autocasting by passing autocast=False to the base Layer constructor.\n",
      "\n",
      "WARNING:tensorflow:Layer concatenate is casting an input tensor from dtype float32 to the layer's dtype of float64, which is new behavior in TensorFlow 2.  The layer has dtype float64 because its dtype defaults to floatx.\n",
      "\n",
      "If you intended to run this layer in float64, you can safely ignore this warning. If in doubt, this warning is likely only an issue if you are porting a TensorFlow 1.X model to TensorFlow 2.\n",
      "\n",
      "To change all layers to have dtype float32 by default, call `tf.keras.backend.set_floatx('float32')`. To change just this layer, pass dtype='float32' to the layer constructor. If you are the author of this layer, you can disable autocasting by passing autocast=False to the base Layer constructor.\n",
      "\n",
      "WARNING:tensorflow:Layer concatenate is casting an input tensor from dtype float32 to the layer's dtype of float64, which is new behavior in TensorFlow 2.  The layer has dtype float64 because its dtype defaults to floatx.\n",
      "\n",
      "If you intended to run this layer in float64, you can safely ignore this warning. If in doubt, this warning is likely only an issue if you are porting a TensorFlow 1.X model to TensorFlow 2.\n",
      "\n",
      "To change all layers to have dtype float32 by default, call `tf.keras.backend.set_floatx('float32')`. To change just this layer, pass dtype='float32' to the layer constructor. If you are the author of this layer, you can disable autocasting by passing autocast=False to the base Layer constructor.\n",
      "\n",
      "WARNING:tensorflow:Layer concatenate is casting an input tensor from dtype float32 to the layer's dtype of float64, which is new behavior in TensorFlow 2.  The layer has dtype float64 because its dtype defaults to floatx.\n",
      "\n",
      "If you intended to run this layer in float64, you can safely ignore this warning. If in doubt, this warning is likely only an issue if you are porting a TensorFlow 1.X model to TensorFlow 2.\n",
      "\n",
      "To change all layers to have dtype float32 by default, call `tf.keras.backend.set_floatx('float32')`. To change just this layer, pass dtype='float32' to the layer constructor. If you are the author of this layer, you can disable autocasting by passing autocast=False to the base Layer constructor.\n",
      "\n",
      "WARNING:tensorflow:From C:\\Users\\andre\\python\\lib\\site-packages\\tensorflow\\python\\training\\tracking\\tracking.py:111: Model.state_updates (from tensorflow.python.keras.engine.training) is deprecated and will be removed in a future version.\n",
      "Instructions for updating:\n",
      "This property should not be used in TensorFlow 2.0, as updates are applied automatically.\n",
      "WARNING:tensorflow:From C:\\Users\\andre\\python\\lib\\site-packages\\tensorflow\\python\\training\\tracking\\tracking.py:111: Layer.updates (from tensorflow.python.keras.engine.base_layer) is deprecated and will be removed in a future version.\n",
      "Instructions for updating:\n",
      "This property should not be used in TensorFlow 2.0, as updates are applied automatically.\n",
      "WARNING:tensorflow:Layer concatenate is casting an input tensor from dtype float32 to the layer's dtype of float64, which is new behavior in TensorFlow 2.  The layer has dtype float64 because its dtype defaults to floatx.\n",
      "\n",
      "If you intended to run this layer in float64, you can safely ignore this warning. If in doubt, this warning is likely only an issue if you are porting a TensorFlow 1.X model to TensorFlow 2.\n",
      "\n",
      "To change all layers to have dtype float32 by default, call `tf.keras.backend.set_floatx('float32')`. To change just this layer, pass dtype='float32' to the layer constructor. If you are the author of this layer, you can disable autocasting by passing autocast=False to the base Layer constructor.\n",
      "\n",
      "WARNING:tensorflow:Layer concatenate is casting an input tensor from dtype float32 to the layer's dtype of float64, which is new behavior in TensorFlow 2.  The layer has dtype float64 because its dtype defaults to floatx.\n",
      "\n",
      "If you intended to run this layer in float64, you can safely ignore this warning. If in doubt, this warning is likely only an issue if you are porting a TensorFlow 1.X model to TensorFlow 2.\n",
      "\n",
      "To change all layers to have dtype float32 by default, call `tf.keras.backend.set_floatx('float32')`. To change just this layer, pass dtype='float32' to the layer constructor. If you are the author of this layer, you can disable autocasting by passing autocast=False to the base Layer constructor.\n",
      "\n",
      "INFO:tensorflow:Assets written to: .\\structured_data_classifier\\best_model\\assets\n"
     ]
    }
   ],
   "source": [
    "# It tries 10 different models.\n",
    "clf = ak.StructuredDataClassifier(overwrite=True, max_trials=5)\n",
    "# Feed the structured data classifier with training data.\n",
    "clf.fit(X_train, y_train, epochs=10)"
   ]
  },
  {
   "cell_type": "code",
   "execution_count": 32,
   "id": "pressed-revolution",
   "metadata": {},
   "outputs": [
    {
     "name": "stdout",
     "output_type": "stream",
     "text": [
      "WARNING:tensorflow:Layer concatenate_1 is casting an input tensor from dtype float32 to the layer's dtype of float64, which is new behavior in TensorFlow 2.  The layer has dtype float64 because its dtype defaults to floatx.\n",
      "\n",
      "If you intended to run this layer in float64, you can safely ignore this warning. If in doubt, this warning is likely only an issue if you are porting a TensorFlow 1.X model to TensorFlow 2.\n",
      "\n",
      "To change all layers to have dtype float32 by default, call `tf.keras.backend.set_floatx('float32')`. To change just this layer, pass dtype='float32' to the layer constructor. If you are the author of this layer, you can disable autocasting by passing autocast=False to the base Layer constructor.\n",
      "\n",
      "WARNING:tensorflow:5 out of the last 5 calls to <function recreate_function.<locals>.restored_function_body at 0x0000029015994310> triggered tf.function retracing. Tracing is expensive and the excessive number of tracings could be due to (1) creating @tf.function repeatedly in a loop, (2) passing tensors with different shapes, (3) passing Python objects instead of tensors. For (1), please define your @tf.function outside of the loop. For (2), @tf.function has experimental_relax_shapes=True option that relaxes argument shapes that can avoid unnecessary retracing. For (3), please refer to https://www.tensorflow.org/tutorials/customization/performance#python_or_tensor_args and https://www.tensorflow.org/api_docs/python/tf/function for  more details.\n",
      "WARNING:tensorflow:6 out of the last 6 calls to <function recreate_function.<locals>.restored_function_body at 0x0000029015975550> triggered tf.function retracing. Tracing is expensive and the excessive number of tracings could be due to (1) creating @tf.function repeatedly in a loop, (2) passing tensors with different shapes, (3) passing Python objects instead of tensors. For (1), please define your @tf.function outside of the loop. For (2), @tf.function has experimental_relax_shapes=True option that relaxes argument shapes that can avoid unnecessary retracing. For (3), please refer to https://www.tensorflow.org/tutorials/customization/performance#python_or_tensor_args and https://www.tensorflow.org/api_docs/python/tf/function for  more details.\n",
      "WARNING:tensorflow:7 out of the last 7 calls to <function recreate_function.<locals>.restored_function_body at 0x000002901594C670> triggered tf.function retracing. Tracing is expensive and the excessive number of tracings could be due to (1) creating @tf.function repeatedly in a loop, (2) passing tensors with different shapes, (3) passing Python objects instead of tensors. For (1), please define your @tf.function outside of the loop. For (2), @tf.function has experimental_relax_shapes=True option that relaxes argument shapes that can avoid unnecessary retracing. For (3), please refer to https://www.tensorflow.org/tutorials/customization/performance#python_or_tensor_args and https://www.tensorflow.org/api_docs/python/tf/function for  more details.\n",
      "WARNING:tensorflow:8 out of the last 8 calls to <function recreate_function.<locals>.restored_function_body at 0x00000290159948B0> triggered tf.function retracing. Tracing is expensive and the excessive number of tracings could be due to (1) creating @tf.function repeatedly in a loop, (2) passing tensors with different shapes, (3) passing Python objects instead of tensors. For (1), please define your @tf.function outside of the loop. For (2), @tf.function has experimental_relax_shapes=True option that relaxes argument shapes that can avoid unnecessary retracing. For (3), please refer to https://www.tensorflow.org/tutorials/customization/performance#python_or_tensor_args and https://www.tensorflow.org/api_docs/python/tf/function for  more details.\n",
      "WARNING:tensorflow:9 out of the last 9 calls to <function recreate_function.<locals>.restored_function_body at 0x000002901594CDC0> triggered tf.function retracing. Tracing is expensive and the excessive number of tracings could be due to (1) creating @tf.function repeatedly in a loop, (2) passing tensors with different shapes, (3) passing Python objects instead of tensors. For (1), please define your @tf.function outside of the loop. For (2), @tf.function has experimental_relax_shapes=True option that relaxes argument shapes that can avoid unnecessary retracing. For (3), please refer to https://www.tensorflow.org/tutorials/customization/performance#python_or_tensor_args and https://www.tensorflow.org/api_docs/python/tf/function for  more details.\n",
      "WARNING:tensorflow:10 out of the last 10 calls to <function recreate_function.<locals>.restored_function_body at 0x0000029015994CA0> triggered tf.function retracing. Tracing is expensive and the excessive number of tracings could be due to (1) creating @tf.function repeatedly in a loop, (2) passing tensors with different shapes, (3) passing Python objects instead of tensors. For (1), please define your @tf.function outside of the loop. For (2), @tf.function has experimental_relax_shapes=True option that relaxes argument shapes that can avoid unnecessary retracing. For (3), please refer to https://www.tensorflow.org/tutorials/customization/performance#python_or_tensor_args and https://www.tensorflow.org/api_docs/python/tf/function for  more details.\n",
      "WARNING:tensorflow:11 out of the last 11 calls to <function recreate_function.<locals>.restored_function_body at 0x0000029015985A60> triggered tf.function retracing. Tracing is expensive and the excessive number of tracings could be due to (1) creating @tf.function repeatedly in a loop, (2) passing tensors with different shapes, (3) passing Python objects instead of tensors. For (1), please define your @tf.function outside of the loop. For (2), @tf.function has experimental_relax_shapes=True option that relaxes argument shapes that can avoid unnecessary retracing. For (3), please refer to https://www.tensorflow.org/tutorials/customization/performance#python_or_tensor_args and https://www.tensorflow.org/api_docs/python/tf/function for  more details.\n",
      "WARNING:tensorflow:11 out of the last 11 calls to <function recreate_function.<locals>.restored_function_body at 0x00000290159944C0> triggered tf.function retracing. Tracing is expensive and the excessive number of tracings could be due to (1) creating @tf.function repeatedly in a loop, (2) passing tensors with different shapes, (3) passing Python objects instead of tensors. For (1), please define your @tf.function outside of the loop. For (2), @tf.function has experimental_relax_shapes=True option that relaxes argument shapes that can avoid unnecessary retracing. For (3), please refer to https://www.tensorflow.org/tutorials/customization/performance#python_or_tensor_args and https://www.tensorflow.org/api_docs/python/tf/function for  more details.\n",
      "WARNING:tensorflow:11 out of the last 11 calls to <function recreate_function.<locals>.restored_function_body at 0x00000290159698B0> triggered tf.function retracing. Tracing is expensive and the excessive number of tracings could be due to (1) creating @tf.function repeatedly in a loop, (2) passing tensors with different shapes, (3) passing Python objects instead of tensors. For (1), please define your @tf.function outside of the loop. For (2), @tf.function has experimental_relax_shapes=True option that relaxes argument shapes that can avoid unnecessary retracing. For (3), please refer to https://www.tensorflow.org/tutorials/customization/performance#python_or_tensor_args and https://www.tensorflow.org/api_docs/python/tf/function for  more details.\n",
      "WARNING:tensorflow:11 out of the last 11 calls to <function recreate_function.<locals>.restored_function_body at 0x00000290159AB160> triggered tf.function retracing. Tracing is expensive and the excessive number of tracings could be due to (1) creating @tf.function repeatedly in a loop, (2) passing tensors with different shapes, (3) passing Python objects instead of tensors. For (1), please define your @tf.function outside of the loop. For (2), @tf.function has experimental_relax_shapes=True option that relaxes argument shapes that can avoid unnecessary retracing. For (3), please refer to https://www.tensorflow.org/tutorials/customization/performance#python_or_tensor_args and https://www.tensorflow.org/api_docs/python/tf/function for  more details.\n",
      "WARNING:tensorflow:11 out of the last 11 calls to <function recreate_function.<locals>.restored_function_body at 0x00000290159ABAF0> triggered tf.function retracing. Tracing is expensive and the excessive number of tracings could be due to (1) creating @tf.function repeatedly in a loop, (2) passing tensors with different shapes, (3) passing Python objects instead of tensors. For (1), please define your @tf.function outside of the loop. For (2), @tf.function has experimental_relax_shapes=True option that relaxes argument shapes that can avoid unnecessary retracing. For (3), please refer to https://www.tensorflow.org/tutorials/customization/performance#python_or_tensor_args and https://www.tensorflow.org/api_docs/python/tf/function for  more details.\n",
      "WARNING:tensorflow:11 out of the last 11 calls to <function recreate_function.<locals>.restored_function_body at 0x0000029015975940> triggered tf.function retracing. Tracing is expensive and the excessive number of tracings could be due to (1) creating @tf.function repeatedly in a loop, (2) passing tensors with different shapes, (3) passing Python objects instead of tensors. For (1), please define your @tf.function outside of the loop. For (2), @tf.function has experimental_relax_shapes=True option that relaxes argument shapes that can avoid unnecessary retracing. For (3), please refer to https://www.tensorflow.org/tutorials/customization/performance#python_or_tensor_args and https://www.tensorflow.org/api_docs/python/tf/function for  more details.\n",
      "WARNING:tensorflow:11 out of the last 11 calls to <function recreate_function.<locals>.restored_function_body at 0x00000290159B51F0> triggered tf.function retracing. Tracing is expensive and the excessive number of tracings could be due to (1) creating @tf.function repeatedly in a loop, (2) passing tensors with different shapes, (3) passing Python objects instead of tensors. For (1), please define your @tf.function outside of the loop. For (2), @tf.function has experimental_relax_shapes=True option that relaxes argument shapes that can avoid unnecessary retracing. For (3), please refer to https://www.tensorflow.org/tutorials/customization/performance#python_or_tensor_args and https://www.tensorflow.org/api_docs/python/tf/function for  more details.\n",
      "WARNING:tensorflow:11 out of the last 11 calls to <function recreate_function.<locals>.restored_function_body at 0x00000290159C44C0> triggered tf.function retracing. Tracing is expensive and the excessive number of tracings could be due to (1) creating @tf.function repeatedly in a loop, (2) passing tensors with different shapes, (3) passing Python objects instead of tensors. For (1), please define your @tf.function outside of the loop. For (2), @tf.function has experimental_relax_shapes=True option that relaxes argument shapes that can avoid unnecessary retracing. For (3), please refer to https://www.tensorflow.org/tutorials/customization/performance#python_or_tensor_args and https://www.tensorflow.org/api_docs/python/tf/function for  more details.\n",
      "WARNING:tensorflow:11 out of the last 11 calls to <function recreate_function.<locals>.restored_function_body at 0x0000029015969040> triggered tf.function retracing. Tracing is expensive and the excessive number of tracings could be due to (1) creating @tf.function repeatedly in a loop, (2) passing tensors with different shapes, (3) passing Python objects instead of tensors. For (1), please define your @tf.function outside of the loop. For (2), @tf.function has experimental_relax_shapes=True option that relaxes argument shapes that can avoid unnecessary retracing. For (3), please refer to https://www.tensorflow.org/tutorials/customization/performance#python_or_tensor_args and https://www.tensorflow.org/api_docs/python/tf/function for  more details.\n",
      "WARNING:tensorflow:11 out of the last 11 calls to <function recreate_function.<locals>.restored_function_body at 0x00000290159B5280> triggered tf.function retracing. Tracing is expensive and the excessive number of tracings could be due to (1) creating @tf.function repeatedly in a loop, (2) passing tensors with different shapes, (3) passing Python objects instead of tensors. For (1), please define your @tf.function outside of the loop. For (2), @tf.function has experimental_relax_shapes=True option that relaxes argument shapes that can avoid unnecessary retracing. For (3), please refer to https://www.tensorflow.org/tutorials/customization/performance#python_or_tensor_args and https://www.tensorflow.org/api_docs/python/tf/function for  more details.\n",
      "WARNING:tensorflow:11 out of the last 11 calls to <function recreate_function.<locals>.restored_function_body at 0x00000290159C4AF0> triggered tf.function retracing. Tracing is expensive and the excessive number of tracings could be due to (1) creating @tf.function repeatedly in a loop, (2) passing tensors with different shapes, (3) passing Python objects instead of tensors. For (1), please define your @tf.function outside of the loop. For (2), @tf.function has experimental_relax_shapes=True option that relaxes argument shapes that can avoid unnecessary retracing. For (3), please refer to https://www.tensorflow.org/tutorials/customization/performance#python_or_tensor_args and https://www.tensorflow.org/api_docs/python/tf/function for  more details.\n",
      "WARNING:tensorflow:11 out of the last 11 calls to <function recreate_function.<locals>.restored_function_body at 0x00000290159B53A0> triggered tf.function retracing. Tracing is expensive and the excessive number of tracings could be due to (1) creating @tf.function repeatedly in a loop, (2) passing tensors with different shapes, (3) passing Python objects instead of tensors. For (1), please define your @tf.function outside of the loop. For (2), @tf.function has experimental_relax_shapes=True option that relaxes argument shapes that can avoid unnecessary retracing. For (3), please refer to https://www.tensorflow.org/tutorials/customization/performance#python_or_tensor_args and https://www.tensorflow.org/api_docs/python/tf/function for  more details.\n",
      "WARNING:tensorflow:11 out of the last 11 calls to <function recreate_function.<locals>.restored_function_body at 0x0000029015994D30> triggered tf.function retracing. Tracing is expensive and the excessive number of tracings could be due to (1) creating @tf.function repeatedly in a loop, (2) passing tensors with different shapes, (3) passing Python objects instead of tensors. For (1), please define your @tf.function outside of the loop. For (2), @tf.function has experimental_relax_shapes=True option that relaxes argument shapes that can avoid unnecessary retracing. For (3), please refer to https://www.tensorflow.org/tutorials/customization/performance#python_or_tensor_args and https://www.tensorflow.org/api_docs/python/tf/function for  more details.\n",
      "WARNING:tensorflow:11 out of the last 11 calls to <function recreate_function.<locals>.restored_function_body at 0x00000290159859D0> triggered tf.function retracing. Tracing is expensive and the excessive number of tracings could be due to (1) creating @tf.function repeatedly in a loop, (2) passing tensors with different shapes, (3) passing Python objects instead of tensors. For (1), please define your @tf.function outside of the loop. For (2), @tf.function has experimental_relax_shapes=True option that relaxes argument shapes that can avoid unnecessary retracing. For (3), please refer to https://www.tensorflow.org/tutorials/customization/performance#python_or_tensor_args and https://www.tensorflow.org/api_docs/python/tf/function for  more details.\n",
      "WARNING:tensorflow:11 out of the last 11 calls to <function recreate_function.<locals>.restored_function_body at 0x00000290159ABD30> triggered tf.function retracing. Tracing is expensive and the excessive number of tracings could be due to (1) creating @tf.function repeatedly in a loop, (2) passing tensors with different shapes, (3) passing Python objects instead of tensors. For (1), please define your @tf.function outside of the loop. For (2), @tf.function has experimental_relax_shapes=True option that relaxes argument shapes that can avoid unnecessary retracing. For (3), please refer to https://www.tensorflow.org/tutorials/customization/performance#python_or_tensor_args and https://www.tensorflow.org/api_docs/python/tf/function for  more details.\n",
      "WARNING:tensorflow:11 out of the last 11 calls to <function recreate_function.<locals>.restored_function_body at 0x00000290159B5B80> triggered tf.function retracing. Tracing is expensive and the excessive number of tracings could be due to (1) creating @tf.function repeatedly in a loop, (2) passing tensors with different shapes, (3) passing Python objects instead of tensors. For (1), please define your @tf.function outside of the loop. For (2), @tf.function has experimental_relax_shapes=True option that relaxes argument shapes that can avoid unnecessary retracing. For (3), please refer to https://www.tensorflow.org/tutorials/customization/performance#python_or_tensor_args and https://www.tensorflow.org/api_docs/python/tf/function for  more details.\n",
      "WARNING:tensorflow:11 out of the last 11 calls to <function recreate_function.<locals>.restored_function_body at 0x00000290159D1160> triggered tf.function retracing. Tracing is expensive and the excessive number of tracings could be due to (1) creating @tf.function repeatedly in a loop, (2) passing tensors with different shapes, (3) passing Python objects instead of tensors. For (1), please define your @tf.function outside of the loop. For (2), @tf.function has experimental_relax_shapes=True option that relaxes argument shapes that can avoid unnecessary retracing. For (3), please refer to https://www.tensorflow.org/tutorials/customization/performance#python_or_tensor_args and https://www.tensorflow.org/api_docs/python/tf/function for  more details.\n",
      "WARNING:tensorflow:11 out of the last 11 calls to <function recreate_function.<locals>.restored_function_body at 0x00000290159C48B0> triggered tf.function retracing. Tracing is expensive and the excessive number of tracings could be due to (1) creating @tf.function repeatedly in a loop, (2) passing tensors with different shapes, (3) passing Python objects instead of tensors. For (1), please define your @tf.function outside of the loop. For (2), @tf.function has experimental_relax_shapes=True option that relaxes argument shapes that can avoid unnecessary retracing. For (3), please refer to https://www.tensorflow.org/tutorials/customization/performance#python_or_tensor_args and https://www.tensorflow.org/api_docs/python/tf/function for  more details.\n",
      "WARNING:tensorflow:11 out of the last 11 calls to <function recreate_function.<locals>.restored_function_body at 0x0000029015994430> triggered tf.function retracing. Tracing is expensive and the excessive number of tracings could be due to (1) creating @tf.function repeatedly in a loop, (2) passing tensors with different shapes, (3) passing Python objects instead of tensors. For (1), please define your @tf.function outside of the loop. For (2), @tf.function has experimental_relax_shapes=True option that relaxes argument shapes that can avoid unnecessary retracing. For (3), please refer to https://www.tensorflow.org/tutorials/customization/performance#python_or_tensor_args and https://www.tensorflow.org/api_docs/python/tf/function for  more details.\n",
      "WARNING:tensorflow:11 out of the last 11 calls to <function recreate_function.<locals>.restored_function_body at 0x00000290159D1310> triggered tf.function retracing. Tracing is expensive and the excessive number of tracings could be due to (1) creating @tf.function repeatedly in a loop, (2) passing tensors with different shapes, (3) passing Python objects instead of tensors. For (1), please define your @tf.function outside of the loop. For (2), @tf.function has experimental_relax_shapes=True option that relaxes argument shapes that can avoid unnecessary retracing. For (3), please refer to https://www.tensorflow.org/tutorials/customization/performance#python_or_tensor_args and https://www.tensorflow.org/api_docs/python/tf/function for  more details.\n",
      "WARNING:tensorflow:11 out of the last 11 calls to <function recreate_function.<locals>.restored_function_body at 0x00000290159854C0> triggered tf.function retracing. Tracing is expensive and the excessive number of tracings could be due to (1) creating @tf.function repeatedly in a loop, (2) passing tensors with different shapes, (3) passing Python objects instead of tensors. For (1), please define your @tf.function outside of the loop. For (2), @tf.function has experimental_relax_shapes=True option that relaxes argument shapes that can avoid unnecessary retracing. For (3), please refer to https://www.tensorflow.org/tutorials/customization/performance#python_or_tensor_args and https://www.tensorflow.org/api_docs/python/tf/function for  more details.\n",
      "WARNING:tensorflow:11 out of the last 11 calls to <function recreate_function.<locals>.restored_function_body at 0x0000029015994820> triggered tf.function retracing. Tracing is expensive and the excessive number of tracings could be due to (1) creating @tf.function repeatedly in a loop, (2) passing tensors with different shapes, (3) passing Python objects instead of tensors. For (1), please define your @tf.function outside of the loop. For (2), @tf.function has experimental_relax_shapes=True option that relaxes argument shapes that can avoid unnecessary retracing. For (3), please refer to https://www.tensorflow.org/tutorials/customization/performance#python_or_tensor_args and https://www.tensorflow.org/api_docs/python/tf/function for  more details.\n",
      "WARNING:tensorflow:11 out of the last 11 calls to <function recreate_function.<locals>.restored_function_body at 0x00000290159C4040> triggered tf.function retracing. Tracing is expensive and the excessive number of tracings could be due to (1) creating @tf.function repeatedly in a loop, (2) passing tensors with different shapes, (3) passing Python objects instead of tensors. For (1), please define your @tf.function outside of the loop. For (2), @tf.function has experimental_relax_shapes=True option that relaxes argument shapes that can avoid unnecessary retracing. For (3), please refer to https://www.tensorflow.org/tutorials/customization/performance#python_or_tensor_args and https://www.tensorflow.org/api_docs/python/tf/function for  more details.\n",
      "WARNING:tensorflow:11 out of the last 11 calls to <function recreate_function.<locals>.restored_function_body at 0x00000290159FB790> triggered tf.function retracing. Tracing is expensive and the excessive number of tracings could be due to (1) creating @tf.function repeatedly in a loop, (2) passing tensors with different shapes, (3) passing Python objects instead of tensors. For (1), please define your @tf.function outside of the loop. For (2), @tf.function has experimental_relax_shapes=True option that relaxes argument shapes that can avoid unnecessary retracing. For (3), please refer to https://www.tensorflow.org/tutorials/customization/performance#python_or_tensor_args and https://www.tensorflow.org/api_docs/python/tf/function for  more details.\n",
      "WARNING:tensorflow:11 out of the last 11 calls to <function recreate_function.<locals>.restored_function_body at 0x00000290159B5C10> triggered tf.function retracing. Tracing is expensive and the excessive number of tracings could be due to (1) creating @tf.function repeatedly in a loop, (2) passing tensors with different shapes, (3) passing Python objects instead of tensors. For (1), please define your @tf.function outside of the loop. For (2), @tf.function has experimental_relax_shapes=True option that relaxes argument shapes that can avoid unnecessary retracing. For (3), please refer to https://www.tensorflow.org/tutorials/customization/performance#python_or_tensor_args and https://www.tensorflow.org/api_docs/python/tf/function for  more details.\n",
      "WARNING:tensorflow:11 out of the last 11 calls to <function recreate_function.<locals>.restored_function_body at 0x00000290159D1790> triggered tf.function retracing. Tracing is expensive and the excessive number of tracings could be due to (1) creating @tf.function repeatedly in a loop, (2) passing tensors with different shapes, (3) passing Python objects instead of tensors. For (1), please define your @tf.function outside of the loop. For (2), @tf.function has experimental_relax_shapes=True option that relaxes argument shapes that can avoid unnecessary retracing. For (3), please refer to https://www.tensorflow.org/tutorials/customization/performance#python_or_tensor_args and https://www.tensorflow.org/api_docs/python/tf/function for  more details.\n",
      "WARNING:tensorflow:11 out of the last 11 calls to <function recreate_function.<locals>.restored_function_body at 0x0000029015A091F0> triggered tf.function retracing. Tracing is expensive and the excessive number of tracings could be due to (1) creating @tf.function repeatedly in a loop, (2) passing tensors with different shapes, (3) passing Python objects instead of tensors. For (1), please define your @tf.function outside of the loop. For (2), @tf.function has experimental_relax_shapes=True option that relaxes argument shapes that can avoid unnecessary retracing. For (3), please refer to https://www.tensorflow.org/tutorials/customization/performance#python_or_tensor_args and https://www.tensorflow.org/api_docs/python/tf/function for  more details.\n",
      "WARNING:tensorflow:11 out of the last 11 calls to <function recreate_function.<locals>.restored_function_body at 0x0000029015975670> triggered tf.function retracing. Tracing is expensive and the excessive number of tracings could be due to (1) creating @tf.function repeatedly in a loop, (2) passing tensors with different shapes, (3) passing Python objects instead of tensors. For (1), please define your @tf.function outside of the loop. For (2), @tf.function has experimental_relax_shapes=True option that relaxes argument shapes that can avoid unnecessary retracing. For (3), please refer to https://www.tensorflow.org/tutorials/customization/performance#python_or_tensor_args and https://www.tensorflow.org/api_docs/python/tf/function for  more details.\n",
      "WARNING:tensorflow:11 out of the last 11 calls to <function recreate_function.<locals>.restored_function_body at 0x00000290159FB0D0> triggered tf.function retracing. Tracing is expensive and the excessive number of tracings could be due to (1) creating @tf.function repeatedly in a loop, (2) passing tensors with different shapes, (3) passing Python objects instead of tensors. For (1), please define your @tf.function outside of the loop. For (2), @tf.function has experimental_relax_shapes=True option that relaxes argument shapes that can avoid unnecessary retracing. For (3), please refer to https://www.tensorflow.org/tutorials/customization/performance#python_or_tensor_args and https://www.tensorflow.org/api_docs/python/tf/function for  more details.\n",
      "Model: \"functional_1\"\n",
      "_________________________________________________________________\n",
      "Layer (type)                 Output Shape              Param #   \n",
      "=================================================================\n",
      "input_1 (InputLayer)         [(None, 41)]              0         \n",
      "_________________________________________________________________\n",
      "multi_category_encoding (Mul (None, 41)                0         \n",
      "_________________________________________________________________\n",
      "normalization (Normalization (None, 41)                83        \n",
      "_________________________________________________________________\n",
      "dense (Dense)                (None, 32)                1344      \n",
      "_________________________________________________________________\n",
      "re_lu (ReLU)                 (None, 32)                0         \n",
      "_________________________________________________________________\n",
      "dense_1 (Dense)              (None, 32)                1056      \n",
      "_________________________________________________________________\n",
      "re_lu_1 (ReLU)               (None, 32)                0         \n",
      "_________________________________________________________________\n",
      "dense_2 (Dense)              (None, 15)                495       \n",
      "_________________________________________________________________\n",
      "classification_head_1 (Softm (None, 15)                0         \n",
      "=================================================================\n",
      "Total params: 2,978\n",
      "Trainable params: 2,895\n",
      "Non-trainable params: 83\n",
      "_________________________________________________________________\n"
     ]
    }
   ],
   "source": [
    "model = clf.export_model()\n",
    "model.summary()"
   ]
  },
  {
   "cell_type": "code",
   "execution_count": 22,
   "id": "racial-federation",
   "metadata": {},
   "outputs": [],
   "source": [
    "Auto_model = keras.models.Sequential([\n",
    "    keras.layers.InputLayer(input_shape=[41]),\n",
    "    keras.layers.experimental.preprocessing.CategoryEncoding(max_tokens=41, output_mode=\"count\"),\n",
    "    keras.layers.experimental.preprocessing.Normalization(),\n",
    "    keras.layers.Dense(32, activation=\"relu\"),\n",
    "    keras.layers.Dense(32, activation=\"relu\"),\n",
    "    keras.layers.Dense(15, activation=\"softmax\")\n",
    "])"
   ]
  },
  {
   "cell_type": "code",
   "execution_count": 23,
   "id": "manual-cookbook",
   "metadata": {},
   "outputs": [
    {
     "name": "stdout",
     "output_type": "stream",
     "text": [
      "Model: \"sequential_1\"\n",
      "_________________________________________________________________\n",
      "Layer (type)                 Output Shape              Param #   \n",
      "=================================================================\n",
      "category_encoding (CategoryE (None, 41)                0         \n",
      "_________________________________________________________________\n",
      "normalization (Normalization (None, 41)                83        \n",
      "_________________________________________________________________\n",
      "dense_3 (Dense)              (None, 32)                1344      \n",
      "_________________________________________________________________\n",
      "dense_4 (Dense)              (None, 32)                1056      \n",
      "_________________________________________________________________\n",
      "dense_5 (Dense)              (None, 15)                495       \n",
      "=================================================================\n",
      "Total params: 2,978\n",
      "Trainable params: 2,895\n",
      "Non-trainable params: 83\n",
      "_________________________________________________________________\n"
     ]
    }
   ],
   "source": [
    "Auto_model.summary()"
   ]
  },
  {
   "cell_type": "code",
   "execution_count": 24,
   "id": "conscious-mystery",
   "metadata": {},
   "outputs": [],
   "source": [
    "opt = keras.optimizers.Adam(learning_rate=0.001)"
   ]
  },
  {
   "cell_type": "code",
   "execution_count": 25,
   "id": "stylish-recycling",
   "metadata": {},
   "outputs": [],
   "source": [
    "Auto_model.compile(loss=\"sparse_categorical_crossentropy\",\n",
    "              optimizer= opt,\n",
    "              metrics=[\"accuracy\"])"
   ]
  },
  {
   "cell_type": "code",
   "execution_count": null,
   "id": "romance-smoke",
   "metadata": {},
   "outputs": [
    {
     "name": "stdout",
     "output_type": "stream",
     "text": [
      "Epoch 1/50\n"
     ]
    }
   ],
   "source": [
    "#Set the epich to 150 because when testing different epochs this was the point before validation loss became eratic\n",
    "Auto_history = Auto_model.fit(X_train, y_train, epochs=50,\n",
    "                    validation_data=(X_valid, y_valid))\n",
    "exit()"
   ]
  },
  {
   "cell_type": "code",
   "execution_count": null,
   "id": "statutory-programming",
   "metadata": {},
   "outputs": [],
   "source": [
    "pd.DataFrame(Auto_history.history).plot(figsize=(8, 5))\n",
    "plt.grid(True)\n",
    "plt.gca().set_ylim(0, 1)\n",
    "plt.show()"
   ]
  },
  {
   "cell_type": "code",
   "execution_count": null,
   "id": "expensive-glossary",
   "metadata": {},
   "outputs": [],
   "source": [
    "Auto_model.evaluate(X_test, y_test)"
   ]
  },
  {
   "cell_type": "code",
   "execution_count": null,
   "id": "respiratory-dominant",
   "metadata": {},
   "outputs": [],
   "source": [
    "X_new = X_test[:10]\n",
    "y_proba = Auto_model.predict(X_new)"
   ]
  },
  {
   "cell_type": "code",
   "execution_count": null,
   "id": "intimate-forward",
   "metadata": {},
   "outputs": [],
   "source": [
    "#y_pred = model.predict_classes(X_new) # deprecated\n",
    "y_pred = np.argmax(Auto_model.predict(X_new), axis=-1)\n",
    "y_pred"
   ]
  },
  {
   "cell_type": "code",
   "execution_count": null,
   "id": "divided-florence",
   "metadata": {
    "scrolled": true
   },
   "outputs": [],
   "source": [
    "y_new = y_test[:10]\n",
    "y_new"
   ]
  },
  {
   "cell_type": "markdown",
   "id": "controlled-aruba",
   "metadata": {},
   "source": [
    "# Trying the original ANN with adam as the optimizer"
   ]
  },
  {
   "cell_type": "code",
   "execution_count": null,
   "id": "catholic-chess",
   "metadata": {},
   "outputs": [],
   "source": [
    "keras.backend.clear_session()\n",
    "np.random.seed(42)\n",
    "tf.random.set_seed(42)"
   ]
  },
  {
   "cell_type": "code",
   "execution_count": null,
   "id": "funky-philippines",
   "metadata": {},
   "outputs": [],
   "source": [
    "adam_model = keras.models.Sequential([\n",
    "    keras.layers.Flatten(input_shape=[41]),  \n",
    "    keras.layers.Dense(30, activation=\"relu\"),\n",
    "    keras.layers.Dense(20, activation=\"relu\"),\n",
    "    keras.layers.Dense(15, activation=\"softmax\")\n",
    "])"
   ]
  },
  {
   "cell_type": "code",
   "execution_count": null,
   "id": "arranged-delay",
   "metadata": {},
   "outputs": [],
   "source": [
    "adam_model.summary()"
   ]
  },
  {
   "cell_type": "code",
   "execution_count": null,
   "id": "confirmed-release",
   "metadata": {},
   "outputs": [],
   "source": [
    "adam_model.compile(loss=\"sparse_categorical_crossentropy\",\n",
    "              optimizer= \"adam\",\n",
    "              metrics=[\"accuracy\"])"
   ]
  },
  {
   "cell_type": "code",
   "execution_count": null,
   "id": "demonstrated-scanner",
   "metadata": {},
   "outputs": [],
   "source": [
    "#Set the epich to 150 because when testing different epochs this was the point before validation loss became eratic\n",
    "adam_history = adam_model.fit(X_train, y_train, epochs=50,\n",
    "                    validation_data=(X_valid, y_valid))"
   ]
  },
  {
   "cell_type": "code",
   "execution_count": null,
   "id": "altered-congo",
   "metadata": {},
   "outputs": [],
   "source": [
    "pd.DataFrame(adam_history.history).plot(figsize=(8, 5))\n",
    "plt.grid(True)\n",
    "plt.gca().set_ylim(0, 1)\n",
    "plt.show()"
   ]
  },
  {
   "cell_type": "code",
   "execution_count": null,
   "id": "starting-career",
   "metadata": {},
   "outputs": [],
   "source": [
    "adam_model.evaluate(X_test, y_test)"
   ]
  },
  {
   "cell_type": "code",
   "execution_count": null,
   "id": "parallel-marsh",
   "metadata": {},
   "outputs": [],
   "source": [
    "X_new = X_test[:10]\n",
    "y_proba = adam_model.predict(X_new)"
   ]
  },
  {
   "cell_type": "code",
   "execution_count": null,
   "id": "residential-perth",
   "metadata": {},
   "outputs": [],
   "source": [
    "#y_pred = model.predict_classes(X_new) # deprecated\n",
    "y_pred = np.argmax(adam_model.predict(X_new), axis=-1)\n",
    "y_pred"
   ]
  },
  {
   "cell_type": "code",
   "execution_count": null,
   "id": "considerable-jefferson",
   "metadata": {
    "scrolled": true
   },
   "outputs": [],
   "source": [
    "y_new = y_test[:10]\n",
    "y_new"
   ]
  },
  {
   "cell_type": "markdown",
   "id": "fallen-remainder",
   "metadata": {},
   "source": [
    "# Trying to improve for accuracy with custom activation fucntion"
   ]
  },
  {
   "cell_type": "code",
   "execution_count": null,
   "id": "cardiovascular-deviation",
   "metadata": {},
   "outputs": [],
   "source": [
    "keras.backend.clear_session()\n",
    "np.random.seed(42)\n",
    "tf.random.set_seed(42)"
   ]
  },
  {
   "cell_type": "markdown",
   "id": "alpine-elder",
   "metadata": {},
   "source": [
    "## Custom Activation Function\n",
    "--- "
   ]
  },
  {
   "cell_type": "code",
   "execution_count": null,
   "id": "cardiac-breathing",
   "metadata": {},
   "outputs": [],
   "source": [
    "from keras import backend as K\n",
    "\n",
    "def my_swish(z, beta=1.0):\n",
    "    return z * tf.math.sigmoid(beta * z)"
   ]
  },
  {
   "cell_type": "code",
   "execution_count": null,
   "id": "approved-creation",
   "metadata": {},
   "outputs": [],
   "source": [
    "from keras.utils.generic_utils import get_custom_objects\n",
    "from keras.layers import Activation\n",
    "get_custom_objects().update({'my_swish': Activation(my_swish)})"
   ]
  },
  {
   "cell_type": "code",
   "execution_count": null,
   "id": "ordered-denmark",
   "metadata": {},
   "outputs": [],
   "source": [
    "swish_model = keras.models.Sequential([\n",
    "    keras.layers.Flatten(input_shape=[41]),  \n",
    "    keras.layers.Dense(30, activation=\"my_swish\"),\n",
    "    keras.layers.Dense(20, activation=\"my_swish\"),\n",
    "    keras.layers.Dense(15, activation=\"softmax\")\n",
    "])"
   ]
  },
  {
   "cell_type": "code",
   "execution_count": null,
   "id": "behavioral-technician",
   "metadata": {},
   "outputs": [],
   "source": [
    "swish_model.summary()"
   ]
  },
  {
   "cell_type": "code",
   "execution_count": null,
   "id": "secondary-channels",
   "metadata": {},
   "outputs": [],
   "source": [
    "swish_model.compile(loss=\"sparse_categorical_crossentropy\",\n",
    "              optimizer=\"sgd\",\n",
    "              metrics=[\"accuracy\"])"
   ]
  },
  {
   "cell_type": "code",
   "execution_count": null,
   "id": "uniform-slovak",
   "metadata": {},
   "outputs": [],
   "source": [
    "#Set the epich to 150 because when testing different epochs this was the point before validation loss became eratic\n",
    "swish_history = swish_model.fit(X_train, y_train, epochs=50,\n",
    "                    validation_data=(X_valid, y_valid))"
   ]
  },
  {
   "cell_type": "code",
   "execution_count": null,
   "id": "contemporary-produce",
   "metadata": {},
   "outputs": [],
   "source": [
    "pd.DataFrame(swish_history.history).plot(figsize=(8, 5))\n",
    "plt.grid(True)\n",
    "plt.gca().set_ylim(0, 1)\n",
    "plt.show()"
   ]
  },
  {
   "cell_type": "code",
   "execution_count": null,
   "id": "compressed-budapest",
   "metadata": {},
   "outputs": [],
   "source": [
    "swish_model.evaluate(X_test, y_test)"
   ]
  },
  {
   "cell_type": "code",
   "execution_count": null,
   "id": "ahead-wages",
   "metadata": {},
   "outputs": [],
   "source": [
    "X_new = X_test[:10]\n",
    "y_proba = swish_model.predict(X_new)"
   ]
  },
  {
   "cell_type": "code",
   "execution_count": null,
   "id": "confidential-somewhere",
   "metadata": {},
   "outputs": [],
   "source": [
    "#y_pred = model.predict_classes(X_new) # deprecated\n",
    "y_pred = np.argmax(swish_model.predict(X_new), axis=-1)\n",
    "y_pred"
   ]
  },
  {
   "cell_type": "code",
   "execution_count": null,
   "id": "civic-beginning",
   "metadata": {
    "scrolled": true
   },
   "outputs": [],
   "source": [
    "y_new = y_test[:10]\n",
    "y_new"
   ]
  },
  {
   "cell_type": "code",
   "execution_count": null,
   "id": "noticed-candidate",
   "metadata": {},
   "outputs": [],
   "source": []
  }
 ],
 "metadata": {
  "kernelspec": {
   "display_name": "Python 3",
   "language": "python",
   "name": "python3"
  },
  "language_info": {
   "codemirror_mode": {
    "name": "ipython",
    "version": 3
   },
   "file_extension": ".py",
   "mimetype": "text/x-python",
   "name": "python",
   "nbconvert_exporter": "python",
   "pygments_lexer": "ipython3",
   "version": "3.8.5"
  }
 },
 "nbformat": 4,
 "nbformat_minor": 5
}
