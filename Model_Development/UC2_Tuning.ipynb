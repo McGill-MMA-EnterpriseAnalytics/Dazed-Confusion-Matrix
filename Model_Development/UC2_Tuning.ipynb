{
 "cells": [
  {
   "cell_type": "code",
   "execution_count": 1,
   "metadata": {
    "ExecuteTime": {
     "end_time": "2021-02-20T20:30:15.603625Z",
     "start_time": "2021-02-20T20:30:15.316625Z"
    }
   },
   "outputs": [],
   "source": [
    "import numpy as np\n",
    "import pandas as pd\n",
    "import timeit"
   ]
  },
  {
   "cell_type": "code",
   "execution_count": 2,
   "metadata": {
    "ExecuteTime": {
     "end_time": "2021-02-20T20:30:16.747623Z",
     "start_time": "2021-02-20T20:30:16.213630Z"
    }
   },
   "outputs": [],
   "source": [
    "df = pd.read_csv('../data/BPD_CRIME_DATA_ENCODED.csv')"
   ]
  },
  {
   "cell_type": "code",
   "execution_count": 3,
   "metadata": {},
   "outputs": [
    {
     "data": {
      "text/html": [
       "<div>\n",
       "<style scoped>\n",
       "    .dataframe tbody tr th:only-of-type {\n",
       "        vertical-align: middle;\n",
       "    }\n",
       "\n",
       "    .dataframe tbody tr th {\n",
       "        vertical-align: top;\n",
       "    }\n",
       "\n",
       "    .dataframe thead th {\n",
       "        text-align: right;\n",
       "    }\n",
       "</style>\n",
       "<table border=\"1\" class=\"dataframe\">\n",
       "  <thead>\n",
       "    <tr style=\"text-align: right;\">\n",
       "      <th></th>\n",
       "      <th>Unnamed: 0</th>\n",
       "      <th>Description</th>\n",
       "      <th>Post</th>\n",
       "      <th>District</th>\n",
       "      <th>Neighborhood</th>\n",
       "      <th>Longitude</th>\n",
       "      <th>Latitude</th>\n",
       "      <th>Premise</th>\n",
       "      <th>Month</th>\n",
       "      <th>Hour</th>\n",
       "      <th>...</th>\n",
       "      <th>Outside</th>\n",
       "      <th>Weapon_FIREARM</th>\n",
       "      <th>Weapon_HANDS</th>\n",
       "      <th>Weapon_KNIFE</th>\n",
       "      <th>Weapon_NONE</th>\n",
       "      <th>Weapon_OTHER</th>\n",
       "      <th>Season_autumn</th>\n",
       "      <th>Season_spring</th>\n",
       "      <th>Season_summer</th>\n",
       "      <th>Season_winter</th>\n",
       "    </tr>\n",
       "  </thead>\n",
       "  <tbody>\n",
       "    <tr>\n",
       "      <th>0</th>\n",
       "      <td>0</td>\n",
       "      <td>12</td>\n",
       "      <td>913.0</td>\n",
       "      <td>6</td>\n",
       "      <td>26</td>\n",
       "      <td>-76.60541</td>\n",
       "      <td>39.22951</td>\n",
       "      <td>93</td>\n",
       "      <td>9</td>\n",
       "      <td>23</td>\n",
       "      <td>...</td>\n",
       "      <td>0</td>\n",
       "      <td>0</td>\n",
       "      <td>0</td>\n",
       "      <td>1</td>\n",
       "      <td>0</td>\n",
       "      <td>0</td>\n",
       "      <td>0</td>\n",
       "      <td>0</td>\n",
       "      <td>1</td>\n",
       "      <td>0</td>\n",
       "    </tr>\n",
       "    <tr>\n",
       "      <th>1</th>\n",
       "      <td>1</td>\n",
       "      <td>3</td>\n",
       "      <td>133.0</td>\n",
       "      <td>0</td>\n",
       "      <td>214</td>\n",
       "      <td>-76.63217</td>\n",
       "      <td>39.31360</td>\n",
       "      <td>103</td>\n",
       "      <td>9</td>\n",
       "      <td>23</td>\n",
       "      <td>...</td>\n",
       "      <td>1</td>\n",
       "      <td>0</td>\n",
       "      <td>0</td>\n",
       "      <td>0</td>\n",
       "      <td>1</td>\n",
       "      <td>0</td>\n",
       "      <td>0</td>\n",
       "      <td>0</td>\n",
       "      <td>1</td>\n",
       "      <td>0</td>\n",
       "    </tr>\n",
       "    <tr>\n",
       "      <th>2</th>\n",
       "      <td>2</td>\n",
       "      <td>14</td>\n",
       "      <td>524.0</td>\n",
       "      <td>3</td>\n",
       "      <td>268</td>\n",
       "      <td>-76.60697</td>\n",
       "      <td>39.34768</td>\n",
       "      <td>103</td>\n",
       "      <td>9</td>\n",
       "      <td>22</td>\n",
       "      <td>...</td>\n",
       "      <td>1</td>\n",
       "      <td>1</td>\n",
       "      <td>0</td>\n",
       "      <td>0</td>\n",
       "      <td>0</td>\n",
       "      <td>0</td>\n",
       "      <td>0</td>\n",
       "      <td>0</td>\n",
       "      <td>1</td>\n",
       "      <td>0</td>\n",
       "    </tr>\n",
       "    <tr>\n",
       "      <th>3</th>\n",
       "      <td>3</td>\n",
       "      <td>0</td>\n",
       "      <td>934.0</td>\n",
       "      <td>6</td>\n",
       "      <td>37</td>\n",
       "      <td>-76.64526</td>\n",
       "      <td>39.28315</td>\n",
       "      <td>93</td>\n",
       "      <td>9</td>\n",
       "      <td>22</td>\n",
       "      <td>...</td>\n",
       "      <td>0</td>\n",
       "      <td>0</td>\n",
       "      <td>0</td>\n",
       "      <td>0</td>\n",
       "      <td>0</td>\n",
       "      <td>1</td>\n",
       "      <td>0</td>\n",
       "      <td>0</td>\n",
       "      <td>1</td>\n",
       "      <td>0</td>\n",
       "    </tr>\n",
       "    <tr>\n",
       "      <th>4</th>\n",
       "      <td>4</td>\n",
       "      <td>5</td>\n",
       "      <td>113.0</td>\n",
       "      <td>0</td>\n",
       "      <td>63</td>\n",
       "      <td>-76.61365</td>\n",
       "      <td>39.28756</td>\n",
       "      <td>103</td>\n",
       "      <td>9</td>\n",
       "      <td>22</td>\n",
       "      <td>...</td>\n",
       "      <td>1</td>\n",
       "      <td>0</td>\n",
       "      <td>1</td>\n",
       "      <td>0</td>\n",
       "      <td>0</td>\n",
       "      <td>0</td>\n",
       "      <td>0</td>\n",
       "      <td>0</td>\n",
       "      <td>1</td>\n",
       "      <td>0</td>\n",
       "    </tr>\n",
       "    <tr>\n",
       "      <th>5</th>\n",
       "      <td>5</td>\n",
       "      <td>4</td>\n",
       "      <td>922.0</td>\n",
       "      <td>6</td>\n",
       "      <td>45</td>\n",
       "      <td>-76.62131</td>\n",
       "      <td>39.24867</td>\n",
       "      <td>93</td>\n",
       "      <td>9</td>\n",
       "      <td>22</td>\n",
       "      <td>...</td>\n",
       "      <td>0</td>\n",
       "      <td>0</td>\n",
       "      <td>0</td>\n",
       "      <td>0</td>\n",
       "      <td>1</td>\n",
       "      <td>0</td>\n",
       "      <td>0</td>\n",
       "      <td>0</td>\n",
       "      <td>1</td>\n",
       "      <td>0</td>\n",
       "    </tr>\n",
       "    <tr>\n",
       "      <th>6</th>\n",
       "      <td>6</td>\n",
       "      <td>6</td>\n",
       "      <td>232.0</td>\n",
       "      <td>5</td>\n",
       "      <td>32</td>\n",
       "      <td>-76.56827</td>\n",
       "      <td>39.28202</td>\n",
       "      <td>103</td>\n",
       "      <td>9</td>\n",
       "      <td>21</td>\n",
       "      <td>...</td>\n",
       "      <td>1</td>\n",
       "      <td>1</td>\n",
       "      <td>0</td>\n",
       "      <td>0</td>\n",
       "      <td>0</td>\n",
       "      <td>0</td>\n",
       "      <td>0</td>\n",
       "      <td>0</td>\n",
       "      <td>1</td>\n",
       "      <td>0</td>\n",
       "    </tr>\n",
       "    <tr>\n",
       "      <th>7</th>\n",
       "      <td>7</td>\n",
       "      <td>13</td>\n",
       "      <td>123.0</td>\n",
       "      <td>0</td>\n",
       "      <td>249</td>\n",
       "      <td>-76.62789</td>\n",
       "      <td>39.30254</td>\n",
       "      <td>103</td>\n",
       "      <td>9</td>\n",
       "      <td>21</td>\n",
       "      <td>...</td>\n",
       "      <td>1</td>\n",
       "      <td>0</td>\n",
       "      <td>0</td>\n",
       "      <td>0</td>\n",
       "      <td>1</td>\n",
       "      <td>0</td>\n",
       "      <td>0</td>\n",
       "      <td>0</td>\n",
       "      <td>1</td>\n",
       "      <td>0</td>\n",
       "    </tr>\n",
       "    <tr>\n",
       "      <th>8</th>\n",
       "      <td>8</td>\n",
       "      <td>0</td>\n",
       "      <td>641.0</td>\n",
       "      <td>4</td>\n",
       "      <td>267</td>\n",
       "      <td>-76.68365</td>\n",
       "      <td>39.31370</td>\n",
       "      <td>103</td>\n",
       "      <td>9</td>\n",
       "      <td>21</td>\n",
       "      <td>...</td>\n",
       "      <td>1</td>\n",
       "      <td>0</td>\n",
       "      <td>0</td>\n",
       "      <td>0</td>\n",
       "      <td>0</td>\n",
       "      <td>1</td>\n",
       "      <td>0</td>\n",
       "      <td>0</td>\n",
       "      <td>1</td>\n",
       "      <td>0</td>\n",
       "    </tr>\n",
       "    <tr>\n",
       "      <th>9</th>\n",
       "      <td>9</td>\n",
       "      <td>5</td>\n",
       "      <td>332.0</td>\n",
       "      <td>1</td>\n",
       "      <td>15</td>\n",
       "      <td>-76.57419</td>\n",
       "      <td>39.30551</td>\n",
       "      <td>93</td>\n",
       "      <td>9</td>\n",
       "      <td>21</td>\n",
       "      <td>...</td>\n",
       "      <td>0</td>\n",
       "      <td>0</td>\n",
       "      <td>1</td>\n",
       "      <td>0</td>\n",
       "      <td>0</td>\n",
       "      <td>0</td>\n",
       "      <td>0</td>\n",
       "      <td>0</td>\n",
       "      <td>1</td>\n",
       "      <td>0</td>\n",
       "    </tr>\n",
       "  </tbody>\n",
       "</table>\n",
       "<p>10 rows × 21 columns</p>\n",
       "</div>"
      ],
      "text/plain": [
       "   Unnamed: 0  Description   Post  District  Neighborhood  Longitude  \\\n",
       "0           0           12  913.0         6            26  -76.60541   \n",
       "1           1            3  133.0         0           214  -76.63217   \n",
       "2           2           14  524.0         3           268  -76.60697   \n",
       "3           3            0  934.0         6            37  -76.64526   \n",
       "4           4            5  113.0         0            63  -76.61365   \n",
       "5           5            4  922.0         6            45  -76.62131   \n",
       "6           6            6  232.0         5            32  -76.56827   \n",
       "7           7           13  123.0         0           249  -76.62789   \n",
       "8           8            0  641.0         4           267  -76.68365   \n",
       "9           9            5  332.0         1            15  -76.57419   \n",
       "\n",
       "   Latitude  Premise  Month  Hour  ...  Outside  Weapon_FIREARM  Weapon_HANDS  \\\n",
       "0  39.22951       93      9    23  ...        0               0             0   \n",
       "1  39.31360      103      9    23  ...        1               0             0   \n",
       "2  39.34768      103      9    22  ...        1               1             0   \n",
       "3  39.28315       93      9    22  ...        0               0             0   \n",
       "4  39.28756      103      9    22  ...        1               0             1   \n",
       "5  39.24867       93      9    22  ...        0               0             0   \n",
       "6  39.28202      103      9    21  ...        1               1             0   \n",
       "7  39.30254      103      9    21  ...        1               0             0   \n",
       "8  39.31370      103      9    21  ...        1               0             0   \n",
       "9  39.30551       93      9    21  ...        0               0             1   \n",
       "\n",
       "   Weapon_KNIFE  Weapon_NONE  Weapon_OTHER  Season_autumn  Season_spring  \\\n",
       "0             1            0             0              0              0   \n",
       "1             0            1             0              0              0   \n",
       "2             0            0             0              0              0   \n",
       "3             0            0             1              0              0   \n",
       "4             0            0             0              0              0   \n",
       "5             0            1             0              0              0   \n",
       "6             0            0             0              0              0   \n",
       "7             0            1             0              0              0   \n",
       "8             0            0             1              0              0   \n",
       "9             0            0             0              0              0   \n",
       "\n",
       "   Season_summer  Season_winter  \n",
       "0              1              0  \n",
       "1              1              0  \n",
       "2              1              0  \n",
       "3              1              0  \n",
       "4              1              0  \n",
       "5              1              0  \n",
       "6              1              0  \n",
       "7              1              0  \n",
       "8              1              0  \n",
       "9              1              0  \n",
       "\n",
       "[10 rows x 21 columns]"
      ]
     },
     "execution_count": 3,
     "metadata": {},
     "output_type": "execute_result"
    }
   ],
   "source": [
    "df.head(10)"
   ]
  },
  {
   "cell_type": "code",
   "execution_count": 4,
   "metadata": {},
   "outputs": [],
   "source": [
    "uc2_df = df[['Outside', 'Weapon_FIREARM','Weapon_HANDS','Weapon_KNIFE','Weapon_NONE','Weapon_OTHER', 'Neighborhood', 'Premise', 'Month', 'Hour','Description']]"
   ]
  },
  {
   "cell_type": "code",
   "execution_count": 5,
   "metadata": {},
   "outputs": [],
   "source": [
    "X = uc2_df.drop(columns = ['Description'])\n",
    "Y = uc2_df['Description']"
   ]
  },
  {
   "cell_type": "code",
   "execution_count": 19,
   "metadata": {},
   "outputs": [],
   "source": [
    "from sklearn.multiclass import OneVsRestClassifier\n",
    "from sklearn.svm import LinearSVC"
   ]
  },
  {
   "cell_type": "code",
   "execution_count": 7,
   "metadata": {},
   "outputs": [],
   "source": [
    "Lin_SVC = LinearSVC(random_state=5,max_iter=10000,multi_class=\"ovr\")"
   ]
  },
  {
   "cell_type": "code",
   "execution_count": 9,
   "metadata": {},
   "outputs": [],
   "source": [
    "from sklearn.model_selection import cross_val_score"
   ]
  },
  {
   "cell_type": "code",
   "execution_count": 9,
   "metadata": {},
   "outputs": [
    {
     "name": "stdout",
     "output_type": "stream",
     "text": [
      "Time:  4803.7388706\n"
     ]
    }
   ],
   "source": [
    "start = timeit.default_timer()\n",
    "scores = cross_val_score(Lin_SVC, X, Y, cv=5, scoring='f1_macro', n_jobs=-1)\n",
    "stop = timeit.default_timer()\n",
    "print('Time: ', stop - start)"
   ]
  },
  {
   "cell_type": "code",
   "execution_count": 12,
   "metadata": {},
   "outputs": [
    {
     "data": {
      "text/plain": [
       "array([0.23303586, 0.23636201, 0.20444472, 0.18134136, 0.19534521])"
      ]
     },
     "execution_count": 12,
     "metadata": {},
     "output_type": "execute_result"
    }
   ],
   "source": [
    "scores"
   ]
  },
  {
   "cell_type": "markdown",
   "metadata": {},
   "source": [
    "### This seems to not work as well as just one-hoting everything....let's use the original un-encoded data"
   ]
  },
  {
   "cell_type": "code",
   "execution_count": 18,
   "metadata": {},
   "outputs": [
    {
     "data": {
      "text/html": [
       "<div>\n",
       "<style scoped>\n",
       "    .dataframe tbody tr th:only-of-type {\n",
       "        vertical-align: middle;\n",
       "    }\n",
       "\n",
       "    .dataframe tbody tr th {\n",
       "        vertical-align: top;\n",
       "    }\n",
       "\n",
       "    .dataframe thead th {\n",
       "        text-align: right;\n",
       "    }\n",
       "</style>\n",
       "<table border=\"1\" class=\"dataframe\">\n",
       "  <thead>\n",
       "    <tr style=\"text-align: right;\">\n",
       "      <th></th>\n",
       "      <th>CrimeDate</th>\n",
       "      <th>CrimeTime</th>\n",
       "      <th>CrimeCode</th>\n",
       "      <th>Location</th>\n",
       "      <th>Description</th>\n",
       "      <th>Inside/Outside</th>\n",
       "      <th>Weapon</th>\n",
       "      <th>Post</th>\n",
       "      <th>District</th>\n",
       "      <th>Neighborhood</th>\n",
       "      <th>Longitude</th>\n",
       "      <th>Latitude</th>\n",
       "      <th>Location 1</th>\n",
       "      <th>Premise</th>\n",
       "      <th>Total Incidents</th>\n",
       "      <th>Season</th>\n",
       "      <th>Month</th>\n",
       "      <th>Hour</th>\n",
       "    </tr>\n",
       "  </thead>\n",
       "  <tbody>\n",
       "    <tr>\n",
       "      <th>0</th>\n",
       "      <td>2017-09-02</td>\n",
       "      <td>23:30:00</td>\n",
       "      <td>3JK</td>\n",
       "      <td>4200 AUDREY AVE</td>\n",
       "      <td>ROBBERY - RESIDENCE</td>\n",
       "      <td>Inside</td>\n",
       "      <td>KNIFE</td>\n",
       "      <td>913.0</td>\n",
       "      <td>SOUTHERN</td>\n",
       "      <td>Brooklyn</td>\n",
       "      <td>-76.60541</td>\n",
       "      <td>39.22951</td>\n",
       "      <td>(39.2295100000, -76.6054100000)</td>\n",
       "      <td>ROW/TOWNHO</td>\n",
       "      <td>1</td>\n",
       "      <td>summer</td>\n",
       "      <td>9</td>\n",
       "      <td>23</td>\n",
       "    </tr>\n",
       "    <tr>\n",
       "      <th>1</th>\n",
       "      <td>2017-09-02</td>\n",
       "      <td>23:00:00</td>\n",
       "      <td>7A</td>\n",
       "      <td>800 NEWINGTON AVE</td>\n",
       "      <td>AUTO THEFT</td>\n",
       "      <td>Outside</td>\n",
       "      <td>NONE</td>\n",
       "      <td>133.0</td>\n",
       "      <td>CENTRAL</td>\n",
       "      <td>Reservoir Hill</td>\n",
       "      <td>-76.63217</td>\n",
       "      <td>39.31360</td>\n",
       "      <td>(39.3136000000, -76.6321700000)</td>\n",
       "      <td>STREET</td>\n",
       "      <td>1</td>\n",
       "      <td>summer</td>\n",
       "      <td>9</td>\n",
       "      <td>23</td>\n",
       "    </tr>\n",
       "    <tr>\n",
       "      <th>2</th>\n",
       "      <td>2017-09-02</td>\n",
       "      <td>22:53:00</td>\n",
       "      <td>9S</td>\n",
       "      <td>600 RADNOR AV</td>\n",
       "      <td>SHOOTING</td>\n",
       "      <td>Outside</td>\n",
       "      <td>FIREARM</td>\n",
       "      <td>524.0</td>\n",
       "      <td>NORTHERN</td>\n",
       "      <td>Winston-Govans</td>\n",
       "      <td>-76.60697</td>\n",
       "      <td>39.34768</td>\n",
       "      <td>(39.3476800000, -76.6069700000)</td>\n",
       "      <td>STREET</td>\n",
       "      <td>1</td>\n",
       "      <td>summer</td>\n",
       "      <td>9</td>\n",
       "      <td>22</td>\n",
       "    </tr>\n",
       "    <tr>\n",
       "      <th>3</th>\n",
       "      <td>2017-09-02</td>\n",
       "      <td>22:50:00</td>\n",
       "      <td>4C</td>\n",
       "      <td>1800 RAMSAY ST</td>\n",
       "      <td>AGG. ASSAULT</td>\n",
       "      <td>Inside</td>\n",
       "      <td>OTHER</td>\n",
       "      <td>934.0</td>\n",
       "      <td>SOUTHERN</td>\n",
       "      <td>Carrollton Ridge</td>\n",
       "      <td>-76.64526</td>\n",
       "      <td>39.28315</td>\n",
       "      <td>(39.2831500000, -76.6452600000)</td>\n",
       "      <td>ROW/TOWNHO</td>\n",
       "      <td>1</td>\n",
       "      <td>summer</td>\n",
       "      <td>9</td>\n",
       "      <td>22</td>\n",
       "    </tr>\n",
       "    <tr>\n",
       "      <th>4</th>\n",
       "      <td>2017-09-02</td>\n",
       "      <td>22:31:00</td>\n",
       "      <td>4E</td>\n",
       "      <td>100 LIGHT ST</td>\n",
       "      <td>COMMON ASSAULT</td>\n",
       "      <td>Outside</td>\n",
       "      <td>HANDS</td>\n",
       "      <td>113.0</td>\n",
       "      <td>CENTRAL</td>\n",
       "      <td>Downtown West</td>\n",
       "      <td>-76.61365</td>\n",
       "      <td>39.28756</td>\n",
       "      <td>(39.2875600000, -76.6136500000)</td>\n",
       "      <td>STREET</td>\n",
       "      <td>1</td>\n",
       "      <td>summer</td>\n",
       "      <td>9</td>\n",
       "      <td>22</td>\n",
       "    </tr>\n",
       "    <tr>\n",
       "      <th>5</th>\n",
       "      <td>2017-09-02</td>\n",
       "      <td>22:00:00</td>\n",
       "      <td>5A</td>\n",
       "      <td>CHERRYCREST RD</td>\n",
       "      <td>BURGLARY</td>\n",
       "      <td>Inside</td>\n",
       "      <td>NONE</td>\n",
       "      <td>922.0</td>\n",
       "      <td>SOUTHERN</td>\n",
       "      <td>Cherry Hill</td>\n",
       "      <td>-76.62131</td>\n",
       "      <td>39.24867</td>\n",
       "      <td>(39.2486700000, -76.6213100000)</td>\n",
       "      <td>ROW/TOWNHO</td>\n",
       "      <td>1</td>\n",
       "      <td>summer</td>\n",
       "      <td>9</td>\n",
       "      <td>22</td>\n",
       "    </tr>\n",
       "    <tr>\n",
       "      <th>6</th>\n",
       "      <td>2017-09-02</td>\n",
       "      <td>21:15:00</td>\n",
       "      <td>1F</td>\n",
       "      <td>3400 HARMONY CT</td>\n",
       "      <td>HOMICIDE</td>\n",
       "      <td>Outside</td>\n",
       "      <td>FIREARM</td>\n",
       "      <td>232.0</td>\n",
       "      <td>SOUTHEASTERN</td>\n",
       "      <td>Canton</td>\n",
       "      <td>-76.56827</td>\n",
       "      <td>39.28202</td>\n",
       "      <td>(39.2820200000, -76.5682700000)</td>\n",
       "      <td>STREET</td>\n",
       "      <td>1</td>\n",
       "      <td>summer</td>\n",
       "      <td>9</td>\n",
       "      <td>21</td>\n",
       "    </tr>\n",
       "    <tr>\n",
       "      <th>7</th>\n",
       "      <td>2017-09-02</td>\n",
       "      <td>21:35:00</td>\n",
       "      <td>3B</td>\n",
       "      <td>400 W LANVALE ST</td>\n",
       "      <td>ROBBERY - STREET</td>\n",
       "      <td>Outside</td>\n",
       "      <td>NONE</td>\n",
       "      <td>123.0</td>\n",
       "      <td>CENTRAL</td>\n",
       "      <td>Upton</td>\n",
       "      <td>-76.62789</td>\n",
       "      <td>39.30254</td>\n",
       "      <td>(39.3025400000, -76.6278900000)</td>\n",
       "      <td>STREET</td>\n",
       "      <td>1</td>\n",
       "      <td>summer</td>\n",
       "      <td>9</td>\n",
       "      <td>21</td>\n",
       "    </tr>\n",
       "    <tr>\n",
       "      <th>8</th>\n",
       "      <td>2017-09-02</td>\n",
       "      <td>21:00:00</td>\n",
       "      <td>4C</td>\n",
       "      <td>2300 LYNDHURST AVE</td>\n",
       "      <td>AGG. ASSAULT</td>\n",
       "      <td>Outside</td>\n",
       "      <td>OTHER</td>\n",
       "      <td>641.0</td>\n",
       "      <td>NORTHWESTERN</td>\n",
       "      <td>Windsor Hills</td>\n",
       "      <td>-76.68365</td>\n",
       "      <td>39.31370</td>\n",
       "      <td>(39.3137000000, -76.6836500000)</td>\n",
       "      <td>STREET</td>\n",
       "      <td>1</td>\n",
       "      <td>summer</td>\n",
       "      <td>9</td>\n",
       "      <td>21</td>\n",
       "    </tr>\n",
       "    <tr>\n",
       "      <th>9</th>\n",
       "      <td>2017-09-02</td>\n",
       "      <td>21:00:00</td>\n",
       "      <td>4E</td>\n",
       "      <td>1200 N ELLWOOD AVE</td>\n",
       "      <td>COMMON ASSAULT</td>\n",
       "      <td>Inside</td>\n",
       "      <td>HANDS</td>\n",
       "      <td>332.0</td>\n",
       "      <td>EASTERN</td>\n",
       "      <td>Berea</td>\n",
       "      <td>-76.57419</td>\n",
       "      <td>39.30551</td>\n",
       "      <td>(39.3055100000, -76.5741900000)</td>\n",
       "      <td>ROW/TOWNHO</td>\n",
       "      <td>1</td>\n",
       "      <td>summer</td>\n",
       "      <td>9</td>\n",
       "      <td>21</td>\n",
       "    </tr>\n",
       "  </tbody>\n",
       "</table>\n",
       "</div>"
      ],
      "text/plain": [
       "    CrimeDate CrimeTime CrimeCode            Location          Description  \\\n",
       "0  2017-09-02  23:30:00       3JK     4200 AUDREY AVE  ROBBERY - RESIDENCE   \n",
       "1  2017-09-02  23:00:00        7A   800 NEWINGTON AVE           AUTO THEFT   \n",
       "2  2017-09-02  22:53:00        9S       600 RADNOR AV             SHOOTING   \n",
       "3  2017-09-02  22:50:00        4C      1800 RAMSAY ST         AGG. ASSAULT   \n",
       "4  2017-09-02  22:31:00        4E        100 LIGHT ST       COMMON ASSAULT   \n",
       "5  2017-09-02  22:00:00        5A      CHERRYCREST RD             BURGLARY   \n",
       "6  2017-09-02  21:15:00        1F     3400 HARMONY CT             HOMICIDE   \n",
       "7  2017-09-02  21:35:00        3B    400 W LANVALE ST     ROBBERY - STREET   \n",
       "8  2017-09-02  21:00:00        4C  2300 LYNDHURST AVE         AGG. ASSAULT   \n",
       "9  2017-09-02  21:00:00        4E  1200 N ELLWOOD AVE       COMMON ASSAULT   \n",
       "\n",
       "  Inside/Outside   Weapon   Post      District      Neighborhood  Longitude  \\\n",
       "0         Inside    KNIFE  913.0      SOUTHERN          Brooklyn  -76.60541   \n",
       "1        Outside     NONE  133.0       CENTRAL    Reservoir Hill  -76.63217   \n",
       "2        Outside  FIREARM  524.0      NORTHERN    Winston-Govans  -76.60697   \n",
       "3         Inside    OTHER  934.0      SOUTHERN  Carrollton Ridge  -76.64526   \n",
       "4        Outside    HANDS  113.0       CENTRAL     Downtown West  -76.61365   \n",
       "5         Inside     NONE  922.0      SOUTHERN       Cherry Hill  -76.62131   \n",
       "6        Outside  FIREARM  232.0  SOUTHEASTERN            Canton  -76.56827   \n",
       "7        Outside     NONE  123.0       CENTRAL             Upton  -76.62789   \n",
       "8        Outside    OTHER  641.0  NORTHWESTERN     Windsor Hills  -76.68365   \n",
       "9         Inside    HANDS  332.0       EASTERN             Berea  -76.57419   \n",
       "\n",
       "   Latitude                       Location 1     Premise  Total Incidents  \\\n",
       "0  39.22951  (39.2295100000, -76.6054100000)  ROW/TOWNHO                1   \n",
       "1  39.31360  (39.3136000000, -76.6321700000)      STREET                1   \n",
       "2  39.34768  (39.3476800000, -76.6069700000)      STREET                1   \n",
       "3  39.28315  (39.2831500000, -76.6452600000)  ROW/TOWNHO                1   \n",
       "4  39.28756  (39.2875600000, -76.6136500000)      STREET                1   \n",
       "5  39.24867  (39.2486700000, -76.6213100000)  ROW/TOWNHO                1   \n",
       "6  39.28202  (39.2820200000, -76.5682700000)      STREET                1   \n",
       "7  39.30254  (39.3025400000, -76.6278900000)      STREET                1   \n",
       "8  39.31370  (39.3137000000, -76.6836500000)      STREET                1   \n",
       "9  39.30551  (39.3055100000, -76.5741900000)  ROW/TOWNHO                1   \n",
       "\n",
       "   Season  Month  Hour  \n",
       "0  summer      9    23  \n",
       "1  summer      9    23  \n",
       "2  summer      9    22  \n",
       "3  summer      9    22  \n",
       "4  summer      9    22  \n",
       "5  summer      9    22  \n",
       "6  summer      9    21  \n",
       "7  summer      9    21  \n",
       "8  summer      9    21  \n",
       "9  summer      9    21  "
      ]
     },
     "execution_count": 18,
     "metadata": {},
     "output_type": "execute_result"
    }
   ],
   "source": [
    "df2 = pd.read_csv('../data/BPD_CRIME_DATA_CLEAN.csv')\n",
    "df2.head(10)"
   ]
  },
  {
   "cell_type": "code",
   "execution_count": 19,
   "metadata": {},
   "outputs": [],
   "source": [
    "uc2_df_raw = df2[['Inside/Outside', 'Weapon', 'Neighborhood', 'Premise', 'Month', 'Hour','Description']]"
   ]
  },
  {
   "cell_type": "code",
   "execution_count": 20,
   "metadata": {},
   "outputs": [],
   "source": [
    "uc2_df_1hot = pd.get_dummies(uc2_df_raw, columns = ['Inside/Outside', 'Weapon', 'Neighborhood', 'Premise', 'Month', 'Hour'])"
   ]
  },
  {
   "cell_type": "code",
   "execution_count": 21,
   "metadata": {},
   "outputs": [],
   "source": [
    "X_raw = uc2_df_raw.drop(columns = ['Description'])\n",
    "Y_raw = uc2_df_raw['Description']"
   ]
  },
  {
   "cell_type": "code",
   "execution_count": 22,
   "metadata": {},
   "outputs": [],
   "source": [
    "X_1hot = uc2_df_1hot.drop(columns = ['Description'])\n",
    "Y_1hot = uc2_df_1hot['Description']"
   ]
  },
  {
   "cell_type": "markdown",
   "metadata": {},
   "source": [
    "### SVC needs to have numerical data"
   ]
  },
  {
   "cell_type": "code",
   "execution_count": 68,
   "metadata": {},
   "outputs": [
    {
     "name": "stdout",
     "output_type": "stream",
     "text": [
      "Time:  36.170450900000105\n"
     ]
    }
   ],
   "source": [
    "start = timeit.default_timer()\n",
    "scores = cross_val_score(Lin_SVC, X_1hot, Y_1hot, cv=5, scoring='f1_macro', n_jobs=-1)\n",
    "stop = timeit.default_timer()\n",
    "print('Time: ', stop - start)"
   ]
  },
  {
   "cell_type": "code",
   "execution_count": 69,
   "metadata": {},
   "outputs": [
    {
     "data": {
      "text/plain": [
       "0.37987782098653705"
      ]
     },
     "execution_count": 69,
     "metadata": {},
     "output_type": "execute_result"
    }
   ],
   "source": [
    "np.mean(scores)"
   ]
  },
  {
   "cell_type": "markdown",
   "metadata": {},
   "source": [
    "### Looks like SVC somehow runs way faster with 400 features encoded this way, with better F1 score as well."
   ]
  },
  {
   "cell_type": "code",
   "execution_count": 73,
   "metadata": {},
   "outputs": [],
   "source": [
    "from sklearn.tree import DecisionTreeClassifier\n",
    "decisiontree = DecisionTreeClassifier(random_state=42069, max_depth=10)"
   ]
  },
  {
   "cell_type": "code",
   "execution_count": 74,
   "metadata": {},
   "outputs": [
    {
     "name": "stdout",
     "output_type": "stream",
     "text": [
      "Time:  0.679333900000529\n"
     ]
    }
   ],
   "source": [
    "start = timeit.default_timer()\n",
    "scores = cross_val_score(decisiontree, X, Y, cv=5, scoring='f1_macro', n_jobs=-1)\n",
    "stop = timeit.default_timer()\n",
    "print('Time: ', stop - start)"
   ]
  },
  {
   "cell_type": "code",
   "execution_count": 75,
   "metadata": {},
   "outputs": [
    {
     "data": {
      "text/plain": [
       "0.36238750220282967"
      ]
     },
     "execution_count": 75,
     "metadata": {},
     "output_type": "execute_result"
    }
   ],
   "source": [
    "np.mean(scores)"
   ]
  },
  {
   "cell_type": "code",
   "execution_count": 78,
   "metadata": {},
   "outputs": [
    {
     "name": "stdout",
     "output_type": "stream",
     "text": [
      "Time:  7.723623400000179\n"
     ]
    }
   ],
   "source": [
    "start = timeit.default_timer()\n",
    "scores = cross_val_score(decisiontree, X_1hot, Y_1hot, cv=5, scoring='f1_macro', n_jobs=-1)\n",
    "stop = timeit.default_timer()\n",
    "print('Time: ', stop - start)"
   ]
  },
  {
   "cell_type": "code",
   "execution_count": 79,
   "metadata": {},
   "outputs": [
    {
     "data": {
      "text/plain": [
       "0.33490280127149696"
      ]
     },
     "execution_count": 79,
     "metadata": {},
     "output_type": "execute_result"
    }
   ],
   "source": [
    "np.mean(scores)"
   ]
  },
  {
   "cell_type": "markdown",
   "metadata": {},
   "source": [
    "### Alright this is a bit more along the lines of what I was expecting. Trees and label encoding it is."
   ]
  },
  {
   "cell_type": "code",
   "execution_count": 80,
   "metadata": {},
   "outputs": [],
   "source": [
    "from sklearn.ensemble import RandomForestClassifier\n",
    "RF = RandomForestClassifier(random_state=42069, n_estimators=100)"
   ]
  },
  {
   "cell_type": "code",
   "execution_count": 81,
   "metadata": {},
   "outputs": [
    {
     "name": "stdout",
     "output_type": "stream",
     "text": [
      "Time:  20.41716610000003\n"
     ]
    }
   ],
   "source": [
    "start = timeit.default_timer()\n",
    "scores = cross_val_score(RF, X, Y, cv=5, scoring='f1_macro', n_jobs=-1)\n",
    "stop = timeit.default_timer()\n",
    "print('Time: ', stop - start)"
   ]
  },
  {
   "cell_type": "code",
   "execution_count": 82,
   "metadata": {},
   "outputs": [
    {
     "data": {
      "text/plain": [
       "0.35047364964988215"
      ]
     },
     "execution_count": 82,
     "metadata": {},
     "output_type": "execute_result"
    }
   ],
   "source": [
    "np.mean(scores)"
   ]
  },
  {
   "cell_type": "code",
   "execution_count": 85,
   "metadata": {},
   "outputs": [
    {
     "name": "stdout",
     "output_type": "stream",
     "text": [
      "Time:  237.8473168999999\n"
     ]
    }
   ],
   "source": [
    "start = timeit.default_timer()\n",
    "scores = cross_val_score(RF, X_1hot, Y_1hot, cv=5, scoring='f1_macro', n_jobs=-1)\n",
    "stop = timeit.default_timer()\n",
    "print('Time: ', stop - start)"
   ]
  },
  {
   "cell_type": "code",
   "execution_count": 86,
   "metadata": {},
   "outputs": [
    {
     "data": {
      "text/plain": [
       "0.3713700388817019"
      ]
     },
     "execution_count": 86,
     "metadata": {},
     "output_type": "execute_result"
    }
   ],
   "source": [
    "np.mean(scores)"
   ]
  },
  {
   "cell_type": "markdown",
   "metadata": {},
   "source": [
    "### Let's stick to the label encoded data"
   ]
  },
  {
   "cell_type": "code",
   "execution_count": 25,
   "metadata": {},
   "outputs": [],
   "source": [
    "import lightgbm as lgb"
   ]
  },
  {
   "cell_type": "code",
   "execution_count": 112,
   "metadata": {},
   "outputs": [],
   "source": [
    "clf = lgb.LGBMClassifier(objective='multiclass',\n",
    "                         random_state=42069, silent=True, \n",
    "                         n_jobs=-1, n_estimators=100, class_weight='balanced')"
   ]
  },
  {
   "cell_type": "code",
   "execution_count": 113,
   "metadata": {},
   "outputs": [
    {
     "name": "stdout",
     "output_type": "stream",
     "text": [
      "Time:  16.556128099999114\n"
     ]
    }
   ],
   "source": [
    "start = timeit.default_timer()\n",
    "scores = cross_val_score(clf, X, Y, cv=5, scoring='f1_macro', n_jobs=-1)\n",
    "stop = timeit.default_timer()\n",
    "print('Time: ', stop - start)"
   ]
  },
  {
   "cell_type": "code",
   "execution_count": 114,
   "metadata": {},
   "outputs": [
    {
     "data": {
      "text/plain": [
       "0.37961515279128244"
      ]
     },
     "execution_count": 114,
     "metadata": {},
     "output_type": "execute_result"
    }
   ],
   "source": [
    "np.mean(scores)"
   ]
  },
  {
   "cell_type": "code",
   "execution_count": 109,
   "metadata": {},
   "outputs": [],
   "source": [
    "clftest = lgb.LGBMClassifier(objective='multiclass',num_class=15,\n",
    "                         random_state=42069, silent=True,  \n",
    "                         n_jobs=-1, n_estimators=100)"
   ]
  },
  {
   "cell_type": "code",
   "execution_count": 110,
   "metadata": {},
   "outputs": [
    {
     "name": "stdout",
     "output_type": "stream",
     "text": [
      "Time:  16.58224209999935\n"
     ]
    }
   ],
   "source": [
    "start = timeit.default_timer()\n",
    "scores = cross_val_score(clftest, X, Y, cv=5, scoring='f1_macro', n_jobs=-1)\n",
    "stop = timeit.default_timer()\n",
    "print('Time: ', stop - start)"
   ]
  },
  {
   "cell_type": "code",
   "execution_count": 111,
   "metadata": {},
   "outputs": [
    {
     "data": {
      "text/plain": [
       "0.3934788496293208"
      ]
     },
     "execution_count": 111,
     "metadata": {},
     "output_type": "execute_result"
    }
   ],
   "source": [
    "np.mean(scores)"
   ]
  },
  {
   "cell_type": "code",
   "execution_count": 117,
   "metadata": {},
   "outputs": [],
   "source": [
    "clfbin = lgb.LGBMClassifier(objective='binary',\n",
    "                         random_state=42069, silent=True,  \n",
    "                         n_jobs=-1, n_estimators=100)\n",
    "YOLO = OneVsRestClassifier(clfbin)"
   ]
  },
  {
   "cell_type": "code",
   "execution_count": 118,
   "metadata": {},
   "outputs": [
    {
     "name": "stdout",
     "output_type": "stream",
     "text": [
      "Time:  18.24579050000102\n"
     ]
    }
   ],
   "source": [
    "start = timeit.default_timer()\n",
    "scores = cross_val_score(YOLO, X, Y, cv=5, scoring='f1_macro', n_jobs=-1)\n",
    "stop = timeit.default_timer()\n",
    "print('Time: ', stop - start)"
   ]
  },
  {
   "cell_type": "code",
   "execution_count": 119,
   "metadata": {},
   "outputs": [
    {
     "data": {
      "text/plain": [
       "0.39380963781716927"
      ]
     },
     "execution_count": 119,
     "metadata": {},
     "output_type": "execute_result"
    }
   ],
   "source": [
    "np.mean(scores)"
   ]
  },
  {
   "cell_type": "code",
   "execution_count": 128,
   "metadata": {},
   "outputs": [],
   "source": [
    "from sklearn.multiclass import OneVsOneClassifier\n",
    "\n",
    "OneVsOneClassifier = OneVsOneClassifier(clfbin)"
   ]
  },
  {
   "cell_type": "code",
   "execution_count": 129,
   "metadata": {},
   "outputs": [
    {
     "name": "stdout",
     "output_type": "stream",
     "text": [
      "Time:  47.00051369999892\n"
     ]
    }
   ],
   "source": [
    "start = timeit.default_timer()\n",
    "scores = cross_val_score(OneVsOneClassifier, X, Y, cv=5, scoring='f1_macro', n_jobs=-1)\n",
    "stop = timeit.default_timer()\n",
    "print('Time: ', stop - start)"
   ]
  },
  {
   "cell_type": "code",
   "execution_count": 130,
   "metadata": {},
   "outputs": [
    {
     "data": {
      "text/plain": [
       "0.3915604296048928"
      ]
     },
     "execution_count": 130,
     "metadata": {},
     "output_type": "execute_result"
    }
   ],
   "source": [
    "np.mean(scores)"
   ]
  },
  {
   "cell_type": "code",
   "execution_count": 132,
   "metadata": {},
   "outputs": [],
   "source": [
    "clftest = lgb.LGBMClassifier(max_depth=10,objective='multiclass',num_class=15,\n",
    "                         random_state=42069, silent=True,  \n",
    "                         n_jobs=-1, n_estimators=100)"
   ]
  },
  {
   "cell_type": "code",
   "execution_count": 133,
   "metadata": {},
   "outputs": [
    {
     "name": "stdout",
     "output_type": "stream",
     "text": [
      "Time:  17.752916400000686\n"
     ]
    }
   ],
   "source": [
    "start = timeit.default_timer()\n",
    "scores = cross_val_score(clftest, X, Y, cv=5, scoring='f1_macro', n_jobs=-1)\n",
    "stop = timeit.default_timer()\n",
    "print('Time: ', stop - start)"
   ]
  },
  {
   "cell_type": "code",
   "execution_count": 134,
   "metadata": {},
   "outputs": [
    {
     "data": {
      "text/plain": [
       "0.3959441676568475"
      ]
     },
     "execution_count": 134,
     "metadata": {},
     "output_type": "execute_result"
    }
   ],
   "source": [
    "np.mean(scores)"
   ]
  },
  {
   "cell_type": "markdown",
   "metadata": {},
   "source": [
    "### Alright the extra layer doesn't seem to add much with the OVO or OVR. But the max_depth is very impactful. Let's try XGBoost now"
   ]
  },
  {
   "cell_type": "code",
   "execution_count": 26,
   "metadata": {},
   "outputs": [],
   "source": [
    "import xgboost as xgb"
   ]
  },
  {
   "cell_type": "code",
   "execution_count": 140,
   "metadata": {},
   "outputs": [],
   "source": [
    "EXTREME = xgb.XGBClassifier(max_depth=10,objective=\"multiclass\",num_class=15, random_state=42069, n_jobs=-1, n_estimators=100)"
   ]
  },
  {
   "cell_type": "code",
   "execution_count": 141,
   "metadata": {},
   "outputs": [
    {
     "name": "stdout",
     "output_type": "stream",
     "text": [
      "Time:  162.03995419999956\n"
     ]
    }
   ],
   "source": [
    "start = timeit.default_timer()\n",
    "scores = cross_val_score(EXTREME, X, Y, cv=5, scoring='f1_macro', n_jobs=-1)\n",
    "stop = timeit.default_timer()\n",
    "print('Time: ', stop - start)"
   ]
  },
  {
   "cell_type": "code",
   "execution_count": 142,
   "metadata": {},
   "outputs": [
    {
     "data": {
      "text/plain": [
       "0.39240706239763695"
      ]
     },
     "execution_count": 142,
     "metadata": {},
     "output_type": "execute_result"
    }
   ],
   "source": [
    "np.mean(scores)"
   ]
  },
  {
   "cell_type": "markdown",
   "metadata": {},
   "source": [
    "### Let's optimize the two gradient boosting methods."
   ]
  },
  {
   "cell_type": "code",
   "execution_count": 27,
   "metadata": {},
   "outputs": [],
   "source": [
    "from sklearn.model_selection import RandomizedSearchCV\n",
    "from scipy.stats import randint"
   ]
  },
  {
   "cell_type": "code",
   "execution_count": 13,
   "metadata": {},
   "outputs": [],
   "source": [
    "param_distribs = {\n",
    "        'n_estimators': randint(low=1, high=200),\n",
    "        'max_depth': randint(low=2, high=20),\n",
    "        'num_leaves': randint(low=4, high=40)\n",
    "    }"
   ]
  },
  {
   "cell_type": "code",
   "execution_count": 28,
   "metadata": {},
   "outputs": [],
   "source": [
    "LGBC = lgb.LGBMClassifier(objective='multiclass',num_class=15,\n",
    "                         random_state=42069, silent=True,  \n",
    "                         n_jobs=-1,force_col_wise=True)"
   ]
  },
  {
   "cell_type": "code",
   "execution_count": 16,
   "metadata": {},
   "outputs": [],
   "source": [
    "LGBM_rand_search = RandomizedSearchCV(LGBC, param_distributions=param_distribs,\n",
    "                                n_iter=20, cv=5, scoring='f1_macro', random_state=42069)"
   ]
  },
  {
   "cell_type": "code",
   "execution_count": 17,
   "metadata": {},
   "outputs": [
    {
     "data": {
      "text/plain": [
       "RandomizedSearchCV(cv=5,\n",
       "                   estimator=LGBMClassifier(force_col_wise=True, num_class=15,\n",
       "                                            objective='multiclass',\n",
       "                                            random_state=42069),\n",
       "                   n_iter=20,\n",
       "                   param_distributions={'max_depth': <scipy.stats._distn_infrastructure.rv_frozen object at 0x000001409E1AE6A0>,\n",
       "                                        'n_estimators': <scipy.stats._distn_infrastructure.rv_frozen object at 0x000001409E1AE490>,\n",
       "                                        'num_leaves': <scipy.stats._distn_infrastructure.rv_frozen object at 0x000001409E1AE7F0>},\n",
       "                   random_state=42069, scoring='f1_macro')"
      ]
     },
     "execution_count": 17,
     "metadata": {},
     "output_type": "execute_result"
    }
   ],
   "source": [
    "LGBM_rand_search.fit(X,Y)"
   ]
  },
  {
   "cell_type": "code",
   "execution_count": 18,
   "metadata": {},
   "outputs": [
    {
     "name": "stdout",
     "output_type": "stream",
     "text": [
      "0.3858947508563777 {'max_depth': 11, 'n_estimators': 97, 'num_leaves': 10}\n",
      "0.38941148152591376 {'max_depth': 16, 'n_estimators': 16, 'num_leaves': 36}\n",
      "0.3795571968057777 {'max_depth': 10, 'n_estimators': 199, 'num_leaves': 7}\n",
      "0.366023138073585 {'max_depth': 7, 'n_estimators': 6, 'num_leaves': 15}\n",
      "0.36445218683372865 {'max_depth': 12, 'n_estimators': 8, 'num_leaves': 12}\n",
      "0.38882679140506393 {'max_depth': 14, 'n_estimators': 196, 'num_leaves': 22}\n",
      "0.3892916156701003 {'max_depth': 4, 'n_estimators': 114, 'num_leaves': 23}\n",
      "0.3924125008824013 {'max_depth': 17, 'n_estimators': 37, 'num_leaves': 33}\n",
      "0.3915480588038748 {'max_depth': 16, 'n_estimators': 186, 'num_leaves': 27}\n",
      "0.38907970187285645 {'max_depth': 6, 'n_estimators': 51, 'num_leaves': 14}\n",
      "0.3731934637553084 {'max_depth': 17, 'n_estimators': 77, 'num_leaves': 4}\n",
      "0.38987709711828017 {'max_depth': 16, 'n_estimators': 167, 'num_leaves': 37}\n",
      "0.3918099493484415 {'max_depth': 16, 'n_estimators': 136, 'num_leaves': 32}\n",
      "0.38474121578546094 {'max_depth': 10, 'n_estimators': 52, 'num_leaves': 13}\n",
      "0.3877835029457973 {'max_depth': 9, 'n_estimators': 101, 'num_leaves': 13}\n",
      "0.39444179109108435 {'max_depth': 19, 'n_estimators': 47, 'num_leaves': 35}\n",
      "0.3893364954964283 {'max_depth': 16, 'n_estimators': 115, 'num_leaves': 13}\n",
      "0.3001165446086148 {'max_depth': 2, 'n_estimators': 37, 'num_leaves': 13}\n",
      "0.3871963481948346 {'max_depth': 7, 'n_estimators': 162, 'num_leaves': 8}\n",
      "0.38742612470410787 {'max_depth': 19, 'n_estimators': 20, 'num_leaves': 26}\n"
     ]
    }
   ],
   "source": [
    "LGcvres = LGBM_rand_search.cv_results_\n",
    "for mean_score, params in zip(LGcvres[\"mean_test_score\"], LGcvres[\"params\"]):\n",
    "    print(mean_score, params)"
   ]
  },
  {
   "cell_type": "code",
   "execution_count": 19,
   "metadata": {},
   "outputs": [],
   "source": [
    "param_distribs = {\n",
    "        'n_estimators': randint(low=1, high=200),\n",
    "        'max_depth': randint(low=2, high=12),\n",
    "        'min_child_weight': randint(low=1,high=8)\n",
    "    }"
   ]
  },
  {
   "cell_type": "code",
   "execution_count": 21,
   "metadata": {},
   "outputs": [],
   "source": [
    "EXTREME_BOOSTING = xgb.XGBClassifier(silent=True,objective=\"multiclass\",num_class=15, random_state=42069, n_jobs=-1,verbosity=0,seed=42069)"
   ]
  },
  {
   "cell_type": "code",
   "execution_count": 24,
   "metadata": {},
   "outputs": [],
   "source": [
    "EXTREME_rand_search = RandomizedSearchCV(EXTREME_BOOSTING, param_distributions=param_distribs,\n",
    "                                n_iter=10, cv=5, scoring='f1_macro', random_state=42069)"
   ]
  },
  {
   "cell_type": "markdown",
   "metadata": {},
   "source": [
    "### This keeps bluescreening my computer. I was not able to find out why. I'll do 10 iterations manually."
   ]
  },
  {
   "cell_type": "code",
   "execution_count": 19,
   "metadata": {},
   "outputs": [
    {
     "data": {
      "text/plain": [
       "102"
      ]
     },
     "execution_count": 19,
     "metadata": {},
     "output_type": "execute_result"
    }
   ],
   "source": [
    "np.random.randint(1,200)"
   ]
  },
  {
   "cell_type": "code",
   "execution_count": 20,
   "metadata": {},
   "outputs": [
    {
     "data": {
      "text/plain": [
       "5"
      ]
     },
     "execution_count": 20,
     "metadata": {},
     "output_type": "execute_result"
    }
   ],
   "source": [
    "np.random.randint(2,12)"
   ]
  },
  {
   "cell_type": "code",
   "execution_count": 21,
   "metadata": {},
   "outputs": [
    {
     "data": {
      "text/plain": [
       "5"
      ]
     },
     "execution_count": 21,
     "metadata": {},
     "output_type": "execute_result"
    }
   ],
   "source": [
    "np.random.randint(1,8)"
   ]
  },
  {
   "cell_type": "code",
   "execution_count": 22,
   "metadata": {},
   "outputs": [],
   "source": [
    "EXTREME_BOOSTING1 = xgb.XGBClassifier(silent=True,objective=\"multiclass\",num_class=15, \n",
    "                                     random_state=42069, n_jobs=-1,verbosity=0,seed=42069,\n",
    "                                     n_estimators=202,\n",
    "                                     max_depth=5,\n",
    "                                     min_child_weight=5)"
   ]
  },
  {
   "cell_type": "code",
   "execution_count": 25,
   "metadata": {},
   "outputs": [
    {
     "name": "stdout",
     "output_type": "stream",
     "text": [
      "Time:  149.09187560000004\n"
     ]
    }
   ],
   "source": [
    "start = timeit.default_timer()\n",
    "scores = cross_val_score(EXTREME_BOOSTING1, X, Y, cv=5, scoring='f1_macro', n_jobs=-1)\n",
    "stop = timeit.default_timer()\n",
    "print('Time: ', stop - start)"
   ]
  },
  {
   "cell_type": "code",
   "execution_count": 26,
   "metadata": {},
   "outputs": [
    {
     "data": {
      "text/plain": [
       "0.3975921215676042"
      ]
     },
     "execution_count": 26,
     "metadata": {},
     "output_type": "execute_result"
    }
   ],
   "source": [
    "np.mean(scores)"
   ]
  },
  {
   "cell_type": "markdown",
   "metadata": {},
   "source": [
    "### Typo...redo"
   ]
  },
  {
   "cell_type": "code",
   "execution_count": 27,
   "metadata": {},
   "outputs": [],
   "source": [
    "EXTREME_BOOSTING1 = xgb.XGBClassifier(silent=True,objective=\"multiclass\",num_class=15, \n",
    "                                     random_state=42069, n_jobs=-1,verbosity=0,seed=42069,\n",
    "                                     n_estimators=102,\n",
    "                                     max_depth=5,\n",
    "                                     min_child_weight=5)"
   ]
  },
  {
   "cell_type": "code",
   "execution_count": 28,
   "metadata": {},
   "outputs": [
    {
     "name": "stdout",
     "output_type": "stream",
     "text": [
      "Time:  73.65490320000004\n"
     ]
    }
   ],
   "source": [
    "start = timeit.default_timer()\n",
    "scores = cross_val_score(EXTREME_BOOSTING1, X, Y, cv=5, scoring='f1_macro', n_jobs=-1)\n",
    "stop = timeit.default_timer()\n",
    "print('Time: ', stop - start)"
   ]
  },
  {
   "cell_type": "code",
   "execution_count": 29,
   "metadata": {},
   "outputs": [
    {
     "data": {
      "text/plain": [
       "0.39558630543076384"
      ]
     },
     "execution_count": 29,
     "metadata": {},
     "output_type": "execute_result"
    }
   ],
   "source": [
    "np.mean(scores)"
   ]
  },
  {
   "cell_type": "markdown",
   "metadata": {},
   "source": [
    "### 2"
   ]
  },
  {
   "cell_type": "code",
   "execution_count": 31,
   "metadata": {},
   "outputs": [
    {
     "data": {
      "text/plain": [
       "191"
      ]
     },
     "execution_count": 31,
     "metadata": {},
     "output_type": "execute_result"
    }
   ],
   "source": [
    "np.random.randint(1,200)"
   ]
  },
  {
   "cell_type": "code",
   "execution_count": 32,
   "metadata": {},
   "outputs": [
    {
     "data": {
      "text/plain": [
       "6"
      ]
     },
     "execution_count": 32,
     "metadata": {},
     "output_type": "execute_result"
    }
   ],
   "source": [
    "np.random.randint(2,12)"
   ]
  },
  {
   "cell_type": "code",
   "execution_count": 33,
   "metadata": {},
   "outputs": [
    {
     "data": {
      "text/plain": [
       "2"
      ]
     },
     "execution_count": 33,
     "metadata": {},
     "output_type": "execute_result"
    }
   ],
   "source": [
    "np.random.randint(1,8)"
   ]
  },
  {
   "cell_type": "code",
   "execution_count": 34,
   "metadata": {},
   "outputs": [],
   "source": [
    "EXTREME_BOOSTING2 = xgb.XGBClassifier(silent=True,objective=\"multiclass\",num_class=15, \n",
    "                                     random_state=42069, n_jobs=-1,verbosity=0,seed=42069,\n",
    "                                     n_estimators=191,\n",
    "                                     max_depth=6,\n",
    "                                     min_child_weight=2)"
   ]
  },
  {
   "cell_type": "code",
   "execution_count": 35,
   "metadata": {},
   "outputs": [
    {
     "name": "stdout",
     "output_type": "stream",
     "text": [
      "Time:  174.0649979000001\n"
     ]
    }
   ],
   "source": [
    "start = timeit.default_timer()\n",
    "scores = cross_val_score(EXTREME_BOOSTING2, X, Y, cv=5, scoring='f1_macro', n_jobs=-1)\n",
    "stop = timeit.default_timer()\n",
    "print('Time: ', stop - start)"
   ]
  },
  {
   "cell_type": "code",
   "execution_count": 36,
   "metadata": {},
   "outputs": [
    {
     "data": {
      "text/plain": [
       "0.3965518615444861"
      ]
     },
     "execution_count": 36,
     "metadata": {},
     "output_type": "execute_result"
    }
   ],
   "source": [
    "np.mean(scores)"
   ]
  },
  {
   "cell_type": "markdown",
   "metadata": {},
   "source": [
    "### 3"
   ]
  },
  {
   "cell_type": "code",
   "execution_count": 37,
   "metadata": {},
   "outputs": [
    {
     "data": {
      "text/plain": [
       "43"
      ]
     },
     "execution_count": 37,
     "metadata": {},
     "output_type": "execute_result"
    }
   ],
   "source": [
    "np.random.randint(1,200)"
   ]
  },
  {
   "cell_type": "code",
   "execution_count": 38,
   "metadata": {},
   "outputs": [
    {
     "data": {
      "text/plain": [
       "10"
      ]
     },
     "execution_count": 38,
     "metadata": {},
     "output_type": "execute_result"
    }
   ],
   "source": [
    "np.random.randint(2,12)"
   ]
  },
  {
   "cell_type": "code",
   "execution_count": 39,
   "metadata": {},
   "outputs": [
    {
     "data": {
      "text/plain": [
       "7"
      ]
     },
     "execution_count": 39,
     "metadata": {},
     "output_type": "execute_result"
    }
   ],
   "source": [
    "np.random.randint(1,8)"
   ]
  },
  {
   "cell_type": "code",
   "execution_count": 40,
   "metadata": {},
   "outputs": [],
   "source": [
    "EXTREME_BOOSTING3 = xgb.XGBClassifier(silent=True,objective=\"multiclass\",num_class=15, \n",
    "                                     random_state=42069, n_jobs=-1,verbosity=0,seed=42069,\n",
    "                                     n_estimators=43,\n",
    "                                     max_depth=10,\n",
    "                                     min_child_weight=7)"
   ]
  },
  {
   "cell_type": "code",
   "execution_count": 41,
   "metadata": {},
   "outputs": [
    {
     "name": "stdout",
     "output_type": "stream",
     "text": [
      "Time:  64.94500210000001\n"
     ]
    }
   ],
   "source": [
    "start = timeit.default_timer()\n",
    "scores = cross_val_score(EXTREME_BOOSTING3, X, Y, cv=5, scoring='f1_macro', n_jobs=-1)\n",
    "stop = timeit.default_timer()\n",
    "print('Time: ', stop - start)"
   ]
  },
  {
   "cell_type": "code",
   "execution_count": 42,
   "metadata": {},
   "outputs": [
    {
     "data": {
      "text/plain": [
       "0.39336694060576394"
      ]
     },
     "execution_count": 42,
     "metadata": {},
     "output_type": "execute_result"
    }
   ],
   "source": [
    "np.mean(scores)"
   ]
  },
  {
   "cell_type": "markdown",
   "metadata": {},
   "source": [
    "### Note in case of crash: try XGBRFClassifier"
   ]
  },
  {
   "cell_type": "markdown",
   "metadata": {},
   "source": [
    "### 4"
   ]
  },
  {
   "cell_type": "code",
   "execution_count": 43,
   "metadata": {},
   "outputs": [
    {
     "data": {
      "text/plain": [
       "114"
      ]
     },
     "execution_count": 43,
     "metadata": {},
     "output_type": "execute_result"
    }
   ],
   "source": [
    "np.random.randint(1,200)"
   ]
  },
  {
   "cell_type": "code",
   "execution_count": 44,
   "metadata": {},
   "outputs": [
    {
     "data": {
      "text/plain": [
       "7"
      ]
     },
     "execution_count": 44,
     "metadata": {},
     "output_type": "execute_result"
    }
   ],
   "source": [
    "np.random.randint(2,12)"
   ]
  },
  {
   "cell_type": "code",
   "execution_count": 45,
   "metadata": {},
   "outputs": [
    {
     "data": {
      "text/plain": [
       "2"
      ]
     },
     "execution_count": 45,
     "metadata": {},
     "output_type": "execute_result"
    }
   ],
   "source": [
    "np.random.randint(1,8)"
   ]
  },
  {
   "cell_type": "code",
   "execution_count": 46,
   "metadata": {},
   "outputs": [],
   "source": [
    "EXTREME_BOOSTING4 = xgb.XGBClassifier(silent=True,objective=\"multiclass\",num_class=15, \n",
    "                                     random_state=42069, n_jobs=-1,verbosity=0,seed=42069,\n",
    "                                     n_estimators=114,\n",
    "                                     max_depth=7,\n",
    "                                     min_child_weight=2)"
   ]
  },
  {
   "cell_type": "code",
   "execution_count": 47,
   "metadata": {},
   "outputs": [
    {
     "name": "stdout",
     "output_type": "stream",
     "text": [
      "Time:  127.15204059999996\n"
     ]
    }
   ],
   "source": [
    "start = timeit.default_timer()\n",
    "scores = cross_val_score(EXTREME_BOOSTING4, X, Y, cv=5, scoring='f1_macro', n_jobs=-1)\n",
    "stop = timeit.default_timer()\n",
    "print('Time: ', stop - start)"
   ]
  },
  {
   "cell_type": "code",
   "execution_count": 48,
   "metadata": {},
   "outputs": [
    {
     "data": {
      "text/plain": [
       "0.3972690012421871"
      ]
     },
     "execution_count": 48,
     "metadata": {},
     "output_type": "execute_result"
    }
   ],
   "source": [
    "np.mean(scores)"
   ]
  },
  {
   "cell_type": "markdown",
   "metadata": {},
   "source": [
    "### 5"
   ]
  },
  {
   "cell_type": "code",
   "execution_count": 49,
   "metadata": {},
   "outputs": [
    {
     "data": {
      "text/plain": [
       "171"
      ]
     },
     "execution_count": 49,
     "metadata": {},
     "output_type": "execute_result"
    }
   ],
   "source": [
    "np.random.randint(1,200)"
   ]
  },
  {
   "cell_type": "code",
   "execution_count": 50,
   "metadata": {},
   "outputs": [
    {
     "data": {
      "text/plain": [
       "3"
      ]
     },
     "execution_count": 50,
     "metadata": {},
     "output_type": "execute_result"
    }
   ],
   "source": [
    "np.random.randint(2,12)"
   ]
  },
  {
   "cell_type": "code",
   "execution_count": 51,
   "metadata": {},
   "outputs": [
    {
     "data": {
      "text/plain": [
       "4"
      ]
     },
     "execution_count": 51,
     "metadata": {},
     "output_type": "execute_result"
    }
   ],
   "source": [
    "np.random.randint(1,8)"
   ]
  },
  {
   "cell_type": "code",
   "execution_count": 52,
   "metadata": {},
   "outputs": [],
   "source": [
    "EXTREME_BOOSTING5 = xgb.XGBClassifier(silent=True,objective=\"multiclass\",num_class=15, \n",
    "                                     random_state=42069, n_jobs=-1,verbosity=0,seed=42069,\n",
    "                                     n_estimators=171,\n",
    "                                     max_depth=3,\n",
    "                                     min_child_weight=4)"
   ]
  },
  {
   "cell_type": "code",
   "execution_count": 53,
   "metadata": {},
   "outputs": [
    {
     "name": "stdout",
     "output_type": "stream",
     "text": [
      "Time:  81.49451619999991\n"
     ]
    }
   ],
   "source": [
    "start = timeit.default_timer()\n",
    "scores = cross_val_score(EXTREME_BOOSTING5, X, Y, cv=5, scoring='f1_macro', n_jobs=-1)\n",
    "stop = timeit.default_timer()\n",
    "print('Time: ', stop - start)"
   ]
  },
  {
   "cell_type": "code",
   "execution_count": 54,
   "metadata": {},
   "outputs": [
    {
     "data": {
      "text/plain": [
       "0.392626452418696"
      ]
     },
     "execution_count": 54,
     "metadata": {},
     "output_type": "execute_result"
    }
   ],
   "source": [
    "np.mean(scores)"
   ]
  },
  {
   "cell_type": "markdown",
   "metadata": {},
   "source": [
    "### 6"
   ]
  },
  {
   "cell_type": "code",
   "execution_count": 55,
   "metadata": {},
   "outputs": [
    {
     "data": {
      "text/plain": [
       "151"
      ]
     },
     "execution_count": 55,
     "metadata": {},
     "output_type": "execute_result"
    }
   ],
   "source": [
    "np.random.randint(1,200)"
   ]
  },
  {
   "cell_type": "code",
   "execution_count": 56,
   "metadata": {},
   "outputs": [
    {
     "data": {
      "text/plain": [
       "11"
      ]
     },
     "execution_count": 56,
     "metadata": {},
     "output_type": "execute_result"
    }
   ],
   "source": [
    "np.random.randint(2,12)"
   ]
  },
  {
   "cell_type": "code",
   "execution_count": 57,
   "metadata": {},
   "outputs": [
    {
     "data": {
      "text/plain": [
       "2"
      ]
     },
     "execution_count": 57,
     "metadata": {},
     "output_type": "execute_result"
    }
   ],
   "source": [
    "np.random.randint(1,8)"
   ]
  },
  {
   "cell_type": "code",
   "execution_count": 58,
   "metadata": {},
   "outputs": [],
   "source": [
    "EXTREME_BOOSTING6 = xgb.XGBClassifier(silent=True,objective=\"multiclass\",num_class=15, \n",
    "                                     random_state=42069, n_jobs=-1,verbosity=0,seed=42069,\n",
    "                                     n_estimators=151,\n",
    "                                     max_depth=11,\n",
    "                                     min_child_weight=2)"
   ]
  },
  {
   "cell_type": "code",
   "execution_count": 59,
   "metadata": {},
   "outputs": [
    {
     "name": "stdout",
     "output_type": "stream",
     "text": [
      "Time:  270.59044829999993\n"
     ]
    }
   ],
   "source": [
    "start = timeit.default_timer()\n",
    "scores = cross_val_score(EXTREME_BOOSTING6, X, Y, cv=5, scoring='f1_macro', n_jobs=-1)\n",
    "stop = timeit.default_timer()\n",
    "print('Time: ', stop - start)"
   ]
  },
  {
   "cell_type": "code",
   "execution_count": 60,
   "metadata": {},
   "outputs": [
    {
     "data": {
      "text/plain": [
       "0.38961906996973"
      ]
     },
     "execution_count": 60,
     "metadata": {},
     "output_type": "execute_result"
    }
   ],
   "source": [
    "np.mean(scores)"
   ]
  },
  {
   "cell_type": "markdown",
   "metadata": {},
   "source": [
    "### 7"
   ]
  },
  {
   "cell_type": "code",
   "execution_count": 61,
   "metadata": {},
   "outputs": [
    {
     "data": {
      "text/plain": [
       "151"
      ]
     },
     "execution_count": 61,
     "metadata": {},
     "output_type": "execute_result"
    }
   ],
   "source": [
    "np.random.randint(1,200)"
   ]
  },
  {
   "cell_type": "code",
   "execution_count": 62,
   "metadata": {},
   "outputs": [
    {
     "data": {
      "text/plain": [
       "9"
      ]
     },
     "execution_count": 62,
     "metadata": {},
     "output_type": "execute_result"
    }
   ],
   "source": [
    "np.random.randint(2,12)"
   ]
  },
  {
   "cell_type": "code",
   "execution_count": 63,
   "metadata": {},
   "outputs": [
    {
     "data": {
      "text/plain": [
       "2"
      ]
     },
     "execution_count": 63,
     "metadata": {},
     "output_type": "execute_result"
    }
   ],
   "source": [
    "np.random.randint(1,8)"
   ]
  },
  {
   "cell_type": "code",
   "execution_count": 64,
   "metadata": {},
   "outputs": [],
   "source": [
    "EXTREME_BOOSTING7 = xgb.XGBClassifier(silent=True,objective=\"multiclass\",num_class=15, \n",
    "                                     random_state=42069, n_jobs=-1,verbosity=0,seed=42069,\n",
    "                                     n_estimators=151,\n",
    "                                     max_depth=9,\n",
    "                                     min_child_weight=2)"
   ]
  },
  {
   "cell_type": "code",
   "execution_count": 65,
   "metadata": {},
   "outputs": [
    {
     "name": "stdout",
     "output_type": "stream",
     "text": [
      "Time:  215.09670449999976\n"
     ]
    }
   ],
   "source": [
    "start = timeit.default_timer()\n",
    "scores = cross_val_score(EXTREME_BOOSTING7, X, Y, cv=5, scoring='f1_macro', n_jobs=-1)\n",
    "stop = timeit.default_timer()\n",
    "print('Time: ', stop - start)"
   ]
  },
  {
   "cell_type": "code",
   "execution_count": 66,
   "metadata": {},
   "outputs": [
    {
     "data": {
      "text/plain": [
       "0.3937495828312184"
      ]
     },
     "execution_count": 66,
     "metadata": {},
     "output_type": "execute_result"
    }
   ],
   "source": [
    "np.mean(scores)"
   ]
  },
  {
   "cell_type": "markdown",
   "metadata": {},
   "source": [
    "### 8"
   ]
  },
  {
   "cell_type": "code",
   "execution_count": 75,
   "metadata": {},
   "outputs": [
    {
     "data": {
      "text/plain": [
       "12"
      ]
     },
     "execution_count": 75,
     "metadata": {},
     "output_type": "execute_result"
    }
   ],
   "source": [
    "np.random.randint(1,200)"
   ]
  },
  {
   "cell_type": "code",
   "execution_count": 68,
   "metadata": {},
   "outputs": [
    {
     "data": {
      "text/plain": [
       "11"
      ]
     },
     "execution_count": 68,
     "metadata": {},
     "output_type": "execute_result"
    }
   ],
   "source": [
    "np.random.randint(2,12)"
   ]
  },
  {
   "cell_type": "code",
   "execution_count": 76,
   "metadata": {},
   "outputs": [
    {
     "data": {
      "text/plain": [
       "1"
      ]
     },
     "execution_count": 76,
     "metadata": {},
     "output_type": "execute_result"
    }
   ],
   "source": [
    "np.random.randint(1,8)"
   ]
  },
  {
   "cell_type": "code",
   "execution_count": 77,
   "metadata": {},
   "outputs": [],
   "source": [
    "EXTREME_BOOSTING8 = xgb.XGBClassifier(silent=True,objective=\"multiclass\",num_class=15, \n",
    "                                     random_state=42069, n_jobs=-1,verbosity=0,seed=42069,\n",
    "                                     n_estimators=12,\n",
    "                                     max_depth=11,\n",
    "                                     min_child_weight=1)"
   ]
  },
  {
   "cell_type": "code",
   "execution_count": 78,
   "metadata": {},
   "outputs": [
    {
     "name": "stdout",
     "output_type": "stream",
     "text": [
      "Time:  20.870125500000086\n"
     ]
    }
   ],
   "source": [
    "start = timeit.default_timer()\n",
    "scores = cross_val_score(EXTREME_BOOSTING8, X, Y, cv=5, scoring='f1_macro', n_jobs=-1)\n",
    "stop = timeit.default_timer()\n",
    "print('Time: ', stop - start)"
   ]
  },
  {
   "cell_type": "code",
   "execution_count": 79,
   "metadata": {},
   "outputs": [
    {
     "data": {
      "text/plain": [
       "0.3878935658666197"
      ]
     },
     "execution_count": 79,
     "metadata": {},
     "output_type": "execute_result"
    }
   ],
   "source": [
    "np.mean(scores)"
   ]
  },
  {
   "cell_type": "markdown",
   "metadata": {},
   "source": [
    "### 9"
   ]
  },
  {
   "cell_type": "code",
   "execution_count": 80,
   "metadata": {},
   "outputs": [
    {
     "data": {
      "text/plain": [
       "131"
      ]
     },
     "execution_count": 80,
     "metadata": {},
     "output_type": "execute_result"
    }
   ],
   "source": [
    "np.random.randint(1,200)"
   ]
  },
  {
   "cell_type": "code",
   "execution_count": 81,
   "metadata": {},
   "outputs": [
    {
     "data": {
      "text/plain": [
       "2"
      ]
     },
     "execution_count": 81,
     "metadata": {},
     "output_type": "execute_result"
    }
   ],
   "source": [
    "np.random.randint(2,12)"
   ]
  },
  {
   "cell_type": "code",
   "execution_count": 82,
   "metadata": {},
   "outputs": [
    {
     "data": {
      "text/plain": [
       "6"
      ]
     },
     "execution_count": 82,
     "metadata": {},
     "output_type": "execute_result"
    }
   ],
   "source": [
    "np.random.randint(1,8)"
   ]
  },
  {
   "cell_type": "code",
   "execution_count": 83,
   "metadata": {},
   "outputs": [],
   "source": [
    "EXTREME_BOOSTING9 = xgb.XGBClassifier(silent=True,objective=\"multiclass\",num_class=15, \n",
    "                                     random_state=42069, n_jobs=-1,verbosity=0,seed=42069,\n",
    "                                     n_estimators=131,\n",
    "                                     max_depth=2,\n",
    "                                     min_child_weight=6)"
   ]
  },
  {
   "cell_type": "code",
   "execution_count": 84,
   "metadata": {},
   "outputs": [
    {
     "name": "stdout",
     "output_type": "stream",
     "text": [
      "Time:  41.3307477999997\n"
     ]
    }
   ],
   "source": [
    "start = timeit.default_timer()\n",
    "scores = cross_val_score(EXTREME_BOOSTING9, X, Y, cv=5, scoring='f1_macro', n_jobs=-1)\n",
    "stop = timeit.default_timer()\n",
    "print('Time: ', stop - start)"
   ]
  },
  {
   "cell_type": "code",
   "execution_count": 85,
   "metadata": {},
   "outputs": [
    {
     "data": {
      "text/plain": [
       "0.3768124124195277"
      ]
     },
     "execution_count": 85,
     "metadata": {},
     "output_type": "execute_result"
    }
   ],
   "source": [
    "np.mean(scores)"
   ]
  },
  {
   "cell_type": "markdown",
   "metadata": {},
   "source": [
    "### 10"
   ]
  },
  {
   "cell_type": "code",
   "execution_count": 86,
   "metadata": {},
   "outputs": [
    {
     "data": {
      "text/plain": [
       "43"
      ]
     },
     "execution_count": 86,
     "metadata": {},
     "output_type": "execute_result"
    }
   ],
   "source": [
    "np.random.randint(1,200)"
   ]
  },
  {
   "cell_type": "code",
   "execution_count": 87,
   "metadata": {},
   "outputs": [
    {
     "data": {
      "text/plain": [
       "4"
      ]
     },
     "execution_count": 87,
     "metadata": {},
     "output_type": "execute_result"
    }
   ],
   "source": [
    "np.random.randint(2,12)"
   ]
  },
  {
   "cell_type": "code",
   "execution_count": 88,
   "metadata": {},
   "outputs": [
    {
     "data": {
      "text/plain": [
       "4"
      ]
     },
     "execution_count": 88,
     "metadata": {},
     "output_type": "execute_result"
    }
   ],
   "source": [
    "np.random.randint(1,8)"
   ]
  },
  {
   "cell_type": "code",
   "execution_count": 89,
   "metadata": {},
   "outputs": [],
   "source": [
    "EXTREME_BOOSTING10 = xgb.XGBClassifier(silent=True,objective=\"multiclass\",num_class=15, \n",
    "                                     random_state=42069, n_jobs=-1,verbosity=0,seed=42069,\n",
    "                                     n_estimators=43,\n",
    "                                     max_depth=4,\n",
    "                                     min_child_weight=4)"
   ]
  },
  {
   "cell_type": "code",
   "execution_count": 90,
   "metadata": {},
   "outputs": [
    {
     "name": "stdout",
     "output_type": "stream",
     "text": [
      "Time:  24.875418199999785\n"
     ]
    }
   ],
   "source": [
    "start = timeit.default_timer()\n",
    "scores = cross_val_score(EXTREME_BOOSTING10, X, Y, cv=5, scoring='f1_macro', n_jobs=-1)\n",
    "stop = timeit.default_timer()\n",
    "print('Time: ', stop - start)"
   ]
  },
  {
   "cell_type": "code",
   "execution_count": 91,
   "metadata": {},
   "outputs": [
    {
     "data": {
      "text/plain": [
       "0.3824389970507225"
      ]
     },
     "execution_count": 91,
     "metadata": {},
     "output_type": "execute_result"
    }
   ],
   "source": [
    "np.mean(scores)"
   ]
  },
  {
   "cell_type": "markdown",
   "metadata": {},
   "source": [
    "### One more. Feeling good about this one."
   ]
  },
  {
   "cell_type": "code",
   "execution_count": 16,
   "metadata": {},
   "outputs": [],
   "source": [
    "EXTREME_BOOSTING_BEST = xgb.XGBClassifier(silent=True,objective=\"multiclass\",num_class=15, \n",
    "                                     random_state=42069, n_jobs=-1,verbosity=0,seed=42069,\n",
    "                                     n_estimators=200,\n",
    "                                     max_depth=5,\n",
    "                                     min_child_weight=2)"
   ]
  },
  {
   "cell_type": "code",
   "execution_count": 17,
   "metadata": {},
   "outputs": [
    {
     "name": "stdout",
     "output_type": "stream",
     "text": [
      "Time:  160.1271604\n"
     ]
    }
   ],
   "source": [
    "start = timeit.default_timer()\n",
    "scores = cross_val_score(EXTREME_BOOSTING_BEST, X, Y, cv=5, scoring='f1_macro', n_jobs=-1)\n",
    "stop = timeit.default_timer()\n",
    "print('Time: ', stop - start)"
   ]
  },
  {
   "cell_type": "code",
   "execution_count": 18,
   "metadata": {},
   "outputs": [
    {
     "data": {
      "text/plain": [
       "0.39925205260356617"
      ]
     },
     "execution_count": 18,
     "metadata": {},
     "output_type": "execute_result"
    }
   ],
   "source": [
    "np.mean(scores)"
   ]
  },
  {
   "cell_type": "markdown",
   "metadata": {},
   "source": [
    "### Alright. Let's try out XGBRF!"
   ]
  },
  {
   "cell_type": "code",
   "execution_count": 20,
   "metadata": {},
   "outputs": [],
   "source": [
    "EXTREME_FOREST = xgb.XGBRFClassifier(n_estimators=100,max_depth=10,verbosity=0,objective=\"multiclass\",\n",
    "                                    n_jobs=-1, min_child_weight=1,random_state=42069) "
   ]
  },
  {
   "cell_type": "code",
   "execution_count": 21,
   "metadata": {},
   "outputs": [
    {
     "name": "stdout",
     "output_type": "stream",
     "text": [
      "Time:  148.24737459999994\n"
     ]
    }
   ],
   "source": [
    "start = timeit.default_timer()\n",
    "scores = cross_val_score(EXTREME_FOREST, X, Y, cv=5, scoring='f1_macro', n_jobs=-1)\n",
    "stop = timeit.default_timer()\n",
    "print('Time: ', stop - start)"
   ]
  },
  {
   "cell_type": "code",
   "execution_count": 22,
   "metadata": {},
   "outputs": [
    {
     "data": {
      "text/plain": [
       "0.37649193791611857"
      ]
     },
     "execution_count": 22,
     "metadata": {},
     "output_type": "execute_result"
    }
   ],
   "source": [
    "np.mean(scores)"
   ]
  },
  {
   "cell_type": "code",
   "execution_count": 27,
   "metadata": {},
   "outputs": [],
   "source": [
    "EXTREME_FOREST = xgb.XGBRFClassifier(n_estimators=100,max_depth=10,verbosity=0,objective=\"multiclass\",\n",
    "                                    n_jobs=-1, min_child_weight=1,random_state=42069,num_parallel_tree=50,num_boost_round=2)"
   ]
  },
  {
   "cell_type": "code",
   "execution_count": 28,
   "metadata": {},
   "outputs": [
    {
     "name": "stdout",
     "output_type": "stream",
     "text": [
      "Time:  145.00088070000015\n"
     ]
    }
   ],
   "source": [
    "start = timeit.default_timer()\n",
    "scores = cross_val_score(EXTREME_FOREST, X, Y, cv=5, scoring='f1_macro', n_jobs=-1)\n",
    "stop = timeit.default_timer()\n",
    "print('Time: ', stop - start)"
   ]
  },
  {
   "cell_type": "code",
   "execution_count": 29,
   "metadata": {},
   "outputs": [
    {
     "data": {
      "text/plain": [
       "0.37649193791611857"
      ]
     },
     "execution_count": 29,
     "metadata": {},
     "output_type": "execute_result"
    }
   ],
   "source": [
    "np.mean(scores)"
   ]
  },
  {
   "cell_type": "markdown",
   "metadata": {},
   "source": [
    "### 5 iterations for this one. Don't want to risk bluescreens and it takes longer."
   ]
  },
  {
   "cell_type": "code",
   "execution_count": 30,
   "metadata": {},
   "outputs": [
    {
     "data": {
      "text/plain": [
       "192"
      ]
     },
     "execution_count": 30,
     "metadata": {},
     "output_type": "execute_result"
    }
   ],
   "source": [
    "np.random.randint(1,200)"
   ]
  },
  {
   "cell_type": "code",
   "execution_count": 31,
   "metadata": {},
   "outputs": [
    {
     "data": {
      "text/plain": [
       "2"
      ]
     },
     "execution_count": 31,
     "metadata": {},
     "output_type": "execute_result"
    }
   ],
   "source": [
    "np.random.randint(2,12)"
   ]
  },
  {
   "cell_type": "code",
   "execution_count": 32,
   "metadata": {},
   "outputs": [
    {
     "data": {
      "text/plain": [
       "5"
      ]
     },
     "execution_count": 32,
     "metadata": {},
     "output_type": "execute_result"
    }
   ],
   "source": [
    "np.random.randint(1,8)"
   ]
  },
  {
   "cell_type": "code",
   "execution_count": 33,
   "metadata": {},
   "outputs": [
    {
     "data": {
      "text/plain": [
       "81"
      ]
     },
     "execution_count": 33,
     "metadata": {},
     "output_type": "execute_result"
    }
   ],
   "source": [
    "np.random.randint(1,200)"
   ]
  },
  {
   "cell_type": "code",
   "execution_count": 40,
   "metadata": {},
   "outputs": [],
   "source": [
    "EXTREME_FOREST1 = xgb.XGBRFClassifier(n_estimators=192,\n",
    "                                     max_depth=2,\n",
    "                                     min_child_weight=5,\n",
    "                                     num_parallel_tree=81,\n",
    "                                     verbosity=0,objective=\"multiclass\", n_jobs=-1, random_state=42069)"
   ]
  },
  {
   "cell_type": "code",
   "execution_count": 41,
   "metadata": {},
   "outputs": [
    {
     "name": "stdout",
     "output_type": "stream",
     "text": [
      "Time:  55.047176000000036\n"
     ]
    }
   ],
   "source": [
    "start = timeit.default_timer()\n",
    "scores = cross_val_score(EXTREME_FOREST1, X, Y, cv=5, scoring='f1_macro', n_jobs=-1)\n",
    "stop = timeit.default_timer()\n",
    "print('Time: ', stop - start)"
   ]
  },
  {
   "cell_type": "code",
   "execution_count": 42,
   "metadata": {},
   "outputs": [
    {
     "data": {
      "text/plain": [
       "0.2766512843309265"
      ]
     },
     "execution_count": 42,
     "metadata": {},
     "output_type": "execute_result"
    }
   ],
   "source": [
    "np.mean(scores)"
   ]
  },
  {
   "cell_type": "markdown",
   "metadata": {},
   "source": [
    "### 2"
   ]
  },
  {
   "cell_type": "code",
   "execution_count": 67,
   "metadata": {},
   "outputs": [
    {
     "data": {
      "text/plain": [
       "106"
      ]
     },
     "execution_count": 67,
     "metadata": {},
     "output_type": "execute_result"
    }
   ],
   "source": [
    "np.random.randint(1,200)"
   ]
  },
  {
   "cell_type": "code",
   "execution_count": 68,
   "metadata": {},
   "outputs": [
    {
     "data": {
      "text/plain": [
       "6"
      ]
     },
     "execution_count": 68,
     "metadata": {},
     "output_type": "execute_result"
    }
   ],
   "source": [
    "np.random.randint(2,12)"
   ]
  },
  {
   "cell_type": "code",
   "execution_count": 69,
   "metadata": {},
   "outputs": [
    {
     "data": {
      "text/plain": [
       "1"
      ]
     },
     "execution_count": 69,
     "metadata": {},
     "output_type": "execute_result"
    }
   ],
   "source": [
    "np.random.randint(1,8)"
   ]
  },
  {
   "cell_type": "code",
   "execution_count": 70,
   "metadata": {},
   "outputs": [
    {
     "data": {
      "text/plain": [
       "192"
      ]
     },
     "execution_count": 70,
     "metadata": {},
     "output_type": "execute_result"
    }
   ],
   "source": [
    "np.random.randint(1,200)"
   ]
  },
  {
   "cell_type": "code",
   "execution_count": 71,
   "metadata": {},
   "outputs": [],
   "source": [
    "EXTREME_FOREST2 = xgb.XGBRFClassifier(n_estimators=106,\n",
    "                                     max_depth=6,\n",
    "                                     min_child_weight=1,\n",
    "                                     num_parallel_tree=192,\n",
    "                                     verbosity=0,objective=\"multiclass\", n_jobs=-1, random_state=42069)"
   ]
  },
  {
   "cell_type": "code",
   "execution_count": 72,
   "metadata": {},
   "outputs": [
    {
     "name": "stdout",
     "output_type": "stream",
     "text": [
      "Time:  81.85985870000059\n"
     ]
    }
   ],
   "source": [
    "start = timeit.default_timer()\n",
    "scores = cross_val_score(EXTREME_FOREST2, X, Y, cv=5, scoring='f1_macro', n_jobs=-1)\n",
    "stop = timeit.default_timer()\n",
    "print('Time: ', stop - start)"
   ]
  },
  {
   "cell_type": "code",
   "execution_count": 73,
   "metadata": {},
   "outputs": [
    {
     "data": {
      "text/plain": [
       "0.3541164632950945"
      ]
     },
     "execution_count": 73,
     "metadata": {},
     "output_type": "execute_result"
    }
   ],
   "source": [
    "np.mean(scores)"
   ]
  },
  {
   "cell_type": "markdown",
   "metadata": {},
   "source": [
    "### 3"
   ]
  },
  {
   "cell_type": "code",
   "execution_count": 74,
   "metadata": {},
   "outputs": [
    {
     "data": {
      "text/plain": [
       "29"
      ]
     },
     "execution_count": 74,
     "metadata": {},
     "output_type": "execute_result"
    }
   ],
   "source": [
    "np.random.randint(1,200)"
   ]
  },
  {
   "cell_type": "code",
   "execution_count": 75,
   "metadata": {},
   "outputs": [
    {
     "data": {
      "text/plain": [
       "11"
      ]
     },
     "execution_count": 75,
     "metadata": {},
     "output_type": "execute_result"
    }
   ],
   "source": [
    "np.random.randint(2,12)"
   ]
  },
  {
   "cell_type": "code",
   "execution_count": 76,
   "metadata": {},
   "outputs": [
    {
     "data": {
      "text/plain": [
       "5"
      ]
     },
     "execution_count": 76,
     "metadata": {},
     "output_type": "execute_result"
    }
   ],
   "source": [
    "np.random.randint(1,8)"
   ]
  },
  {
   "cell_type": "code",
   "execution_count": 77,
   "metadata": {},
   "outputs": [
    {
     "data": {
      "text/plain": [
       "104"
      ]
     },
     "execution_count": 77,
     "metadata": {},
     "output_type": "execute_result"
    }
   ],
   "source": [
    "np.random.randint(1,200)"
   ]
  },
  {
   "cell_type": "code",
   "execution_count": 78,
   "metadata": {},
   "outputs": [],
   "source": [
    "EXTREME_FOREST3 = xgb.XGBRFClassifier(n_estimators=29,\n",
    "                                     max_depth=11,\n",
    "                                     min_child_weight=5,\n",
    "                                     num_parallel_tree=104,\n",
    "                                     verbosity=0,objective=\"multiclass\", n_jobs=-1, random_state=42069)"
   ]
  },
  {
   "cell_type": "code",
   "execution_count": 79,
   "metadata": {},
   "outputs": [
    {
     "name": "stdout",
     "output_type": "stream",
     "text": [
      "Time:  45.4970443000002\n"
     ]
    }
   ],
   "source": [
    "start = timeit.default_timer()\n",
    "scores = cross_val_score(EXTREME_FOREST3, X, Y, cv=5, scoring='f1_macro', n_jobs=-1)\n",
    "stop = timeit.default_timer()\n",
    "print('Time: ', stop - start)"
   ]
  },
  {
   "cell_type": "code",
   "execution_count": 80,
   "metadata": {},
   "outputs": [
    {
     "data": {
      "text/plain": [
       "0.3721445598734325"
      ]
     },
     "execution_count": 80,
     "metadata": {},
     "output_type": "execute_result"
    }
   ],
   "source": [
    "np.mean(scores)"
   ]
  },
  {
   "cell_type": "markdown",
   "metadata": {},
   "source": [
    "### 4"
   ]
  },
  {
   "cell_type": "code",
   "execution_count": 81,
   "metadata": {},
   "outputs": [
    {
     "data": {
      "text/plain": [
       "175"
      ]
     },
     "execution_count": 81,
     "metadata": {},
     "output_type": "execute_result"
    }
   ],
   "source": [
    "np.random.randint(1,200)"
   ]
  },
  {
   "cell_type": "code",
   "execution_count": 82,
   "metadata": {},
   "outputs": [
    {
     "data": {
      "text/plain": [
       "4"
      ]
     },
     "execution_count": 82,
     "metadata": {},
     "output_type": "execute_result"
    }
   ],
   "source": [
    "np.random.randint(2,12)"
   ]
  },
  {
   "cell_type": "code",
   "execution_count": 83,
   "metadata": {},
   "outputs": [
    {
     "data": {
      "text/plain": [
       "6"
      ]
     },
     "execution_count": 83,
     "metadata": {},
     "output_type": "execute_result"
    }
   ],
   "source": [
    "np.random.randint(1,8)"
   ]
  },
  {
   "cell_type": "code",
   "execution_count": 84,
   "metadata": {},
   "outputs": [
    {
     "data": {
      "text/plain": [
       "41"
      ]
     },
     "execution_count": 84,
     "metadata": {},
     "output_type": "execute_result"
    }
   ],
   "source": [
    "np.random.randint(1,200)"
   ]
  },
  {
   "cell_type": "code",
   "execution_count": 85,
   "metadata": {},
   "outputs": [],
   "source": [
    "EXTREME_FOREST4 = xgb.XGBRFClassifier(n_estimators=175,\n",
    "                                     max_depth=4,\n",
    "                                     min_child_weight=6,\n",
    "                                     num_parallel_tree=41,\n",
    "                                     verbosity=0,objective=\"multiclass\", n_jobs=-1, random_state=42069)"
   ]
  },
  {
   "cell_type": "code",
   "execution_count": 86,
   "metadata": {},
   "outputs": [
    {
     "name": "stdout",
     "output_type": "stream",
     "text": [
      "Time:  89.45518390000052\n"
     ]
    }
   ],
   "source": [
    "start = timeit.default_timer()\n",
    "scores = cross_val_score(EXTREME_FOREST4, X, Y, cv=5, scoring='f1_macro', n_jobs=-1)\n",
    "stop = timeit.default_timer()\n",
    "print('Time: ', stop - start)"
   ]
  },
  {
   "cell_type": "code",
   "execution_count": 87,
   "metadata": {},
   "outputs": [
    {
     "data": {
      "text/plain": [
       "0.3216429521560607"
      ]
     },
     "execution_count": 87,
     "metadata": {},
     "output_type": "execute_result"
    }
   ],
   "source": [
    "np.mean(scores)"
   ]
  },
  {
   "cell_type": "markdown",
   "metadata": {},
   "source": [
    "### 5"
   ]
  },
  {
   "cell_type": "code",
   "execution_count": 88,
   "metadata": {},
   "outputs": [
    {
     "data": {
      "text/plain": [
       "55"
      ]
     },
     "execution_count": 88,
     "metadata": {},
     "output_type": "execute_result"
    }
   ],
   "source": [
    "np.random.randint(1,200)"
   ]
  },
  {
   "cell_type": "code",
   "execution_count": 89,
   "metadata": {},
   "outputs": [
    {
     "data": {
      "text/plain": [
       "11"
      ]
     },
     "execution_count": 89,
     "metadata": {},
     "output_type": "execute_result"
    }
   ],
   "source": [
    "np.random.randint(2,12)"
   ]
  },
  {
   "cell_type": "code",
   "execution_count": 103,
   "metadata": {},
   "outputs": [
    {
     "data": {
      "text/plain": [
       "3"
      ]
     },
     "execution_count": 103,
     "metadata": {},
     "output_type": "execute_result"
    }
   ],
   "source": [
    "np.random.randint(1,8)"
   ]
  },
  {
   "cell_type": "code",
   "execution_count": 91,
   "metadata": {},
   "outputs": [
    {
     "data": {
      "text/plain": [
       "61"
      ]
     },
     "execution_count": 91,
     "metadata": {},
     "output_type": "execute_result"
    }
   ],
   "source": [
    "np.random.randint(1,200)"
   ]
  },
  {
   "cell_type": "code",
   "execution_count": 104,
   "metadata": {},
   "outputs": [],
   "source": [
    "EXTREME_FOREST5 = xgb.XGBRFClassifier(n_estimators=55,\n",
    "                                     max_depth=11,\n",
    "                                     min_child_weight=3,\n",
    "                                     num_parallel_tree=61,\n",
    "                                     verbosity=0,objective=\"multiclass\", n_jobs=-1, random_state=42069)"
   ]
  },
  {
   "cell_type": "code",
   "execution_count": 105,
   "metadata": {},
   "outputs": [
    {
     "name": "stdout",
     "output_type": "stream",
     "text": [
      "Time:  85.26243900000009\n"
     ]
    }
   ],
   "source": [
    "start = timeit.default_timer()\n",
    "scores = cross_val_score(EXTREME_FOREST5, X, Y, cv=5, scoring='f1_macro', n_jobs=-1)\n",
    "stop = timeit.default_timer()\n",
    "print('Time: ', stop - start)"
   ]
  },
  {
   "cell_type": "code",
   "execution_count": 106,
   "metadata": {},
   "outputs": [
    {
     "data": {
      "text/plain": [
       "0.3756802979736685"
      ]
     },
     "execution_count": 106,
     "metadata": {},
     "output_type": "execute_result"
    }
   ],
   "source": [
    "np.mean(scores)"
   ]
  },
  {
   "cell_type": "markdown",
   "metadata": {},
   "source": [
    "## Not better. Let's try to add in regularization terms to XGboost and LightGBM"
   ]
  },
  {
   "cell_type": "code",
   "execution_count": 46,
   "metadata": {},
   "outputs": [],
   "source": [
    "EXTREME_BOOSTING_L1 = xgb.XGBClassifier(silent=True,objective=\"multiclass\",num_class=15, \n",
    "                                     random_state=42069, n_jobs=-1,verbosity=0,seed=42069,\n",
    "                                     n_estimators=200,\n",
    "                                     max_depth=5,\n",
    "                                     min_child_weight=2, alpha=1)"
   ]
  },
  {
   "cell_type": "code",
   "execution_count": 47,
   "metadata": {},
   "outputs": [
    {
     "name": "stdout",
     "output_type": "stream",
     "text": [
      "Time:  151.0908370000002\n"
     ]
    }
   ],
   "source": [
    "start = timeit.default_timer()\n",
    "scores = cross_val_score(EXTREME_BOOSTING_L1, X, Y, cv=5, scoring='f1_macro', n_jobs=-1)\n",
    "stop = timeit.default_timer()\n",
    "print('Time: ', stop - start)"
   ]
  },
  {
   "cell_type": "code",
   "execution_count": 48,
   "metadata": {},
   "outputs": [
    {
     "data": {
      "text/plain": [
       "0.3994989956084797"
      ]
     },
     "execution_count": 48,
     "metadata": {},
     "output_type": "execute_result"
    }
   ],
   "source": [
    "np.mean(scores)"
   ]
  },
  {
   "cell_type": "code",
   "execution_count": 49,
   "metadata": {},
   "outputs": [],
   "source": [
    "EXTREME_BOOSTING_L1_10 = xgb.XGBClassifier(silent=True,objective=\"multiclass\",num_class=15, \n",
    "                                     random_state=42069, n_jobs=-1,verbosity=0,seed=42069,\n",
    "                                     n_estimators=200,\n",
    "                                     max_depth=5,\n",
    "                                     min_child_weight=2, alpha=10)"
   ]
  },
  {
   "cell_type": "code",
   "execution_count": 51,
   "metadata": {},
   "outputs": [
    {
     "name": "stdout",
     "output_type": "stream",
     "text": [
      "Time:  135.25555200000008\n"
     ]
    }
   ],
   "source": [
    "start = timeit.default_timer()\n",
    "scores = cross_val_score(EXTREME_BOOSTING_L1_10, X, Y, cv=5, scoring='f1_macro', n_jobs=-1)\n",
    "stop = timeit.default_timer()\n",
    "print('Time: ', stop - start)"
   ]
  },
  {
   "cell_type": "code",
   "execution_count": 52,
   "metadata": {},
   "outputs": [
    {
     "data": {
      "text/plain": [
       "0.390676158756245"
      ]
     },
     "execution_count": 52,
     "metadata": {},
     "output_type": "execute_result"
    }
   ],
   "source": [
    "np.mean(scores)"
   ]
  },
  {
   "cell_type": "code",
   "execution_count": 53,
   "metadata": {},
   "outputs": [],
   "source": [
    "EXTREME_BOOSTING_L1_last = xgb.XGBClassifier(silent=True,objective=\"multiclass\",num_class=15, \n",
    "                                     random_state=42069, n_jobs=-1,verbosity=0,seed=42069,\n",
    "                                     n_estimators=200,\n",
    "                                     max_depth=5,\n",
    "                                     min_child_weight=2, alpha=0.1)"
   ]
  },
  {
   "cell_type": "code",
   "execution_count": 55,
   "metadata": {},
   "outputs": [
    {
     "name": "stdout",
     "output_type": "stream",
     "text": [
      "Time:  155.84109450000005\n"
     ]
    }
   ],
   "source": [
    "start = timeit.default_timer()\n",
    "scores = cross_val_score(EXTREME_BOOSTING_L1_last, X, Y, cv=5, scoring='f1_macro', n_jobs=-1)\n",
    "stop = timeit.default_timer()\n",
    "print('Time: ', stop - start)"
   ]
  },
  {
   "cell_type": "code",
   "execution_count": 56,
   "metadata": {},
   "outputs": [
    {
     "data": {
      "text/plain": [
       "0.3992092295522157"
      ]
     },
     "execution_count": 56,
     "metadata": {},
     "output_type": "execute_result"
    }
   ],
   "source": [
    "np.mean(scores)"
   ]
  },
  {
   "cell_type": "code",
   "execution_count": 58,
   "metadata": {},
   "outputs": [],
   "source": [
    "EXTREME_BOOSTING_L2_small = xgb.XGBClassifier(silent=True,objective=\"multiclass\",num_class=15, \n",
    "                                     random_state=42069, n_jobs=-1,verbosity=0,seed=42069,\n",
    "                                     n_estimators=200,\n",
    "                                     max_depth=5,\n",
    "                                     min_child_weight=2, reg_lambda=0.1)"
   ]
  },
  {
   "cell_type": "code",
   "execution_count": 59,
   "metadata": {},
   "outputs": [
    {
     "name": "stdout",
     "output_type": "stream",
     "text": [
      "Time:  152.36755810000022\n"
     ]
    }
   ],
   "source": [
    "start = timeit.default_timer()\n",
    "scores = cross_val_score(EXTREME_BOOSTING_L2_small, X, Y, cv=5, scoring='f1_macro', n_jobs=-1)\n",
    "stop = timeit.default_timer()\n",
    "print('Time: ', stop - start)"
   ]
  },
  {
   "cell_type": "code",
   "execution_count": 60,
   "metadata": {},
   "outputs": [
    {
     "data": {
      "text/plain": [
       "0.3977379835793263"
      ]
     },
     "execution_count": 60,
     "metadata": {},
     "output_type": "execute_result"
    }
   ],
   "source": [
    "np.mean(scores)"
   ]
  },
  {
   "cell_type": "code",
   "execution_count": 61,
   "metadata": {},
   "outputs": [],
   "source": [
    "EXTREME_BOOSTING_L2_bigger = xgb.XGBClassifier(silent=True,objective=\"multiclass\",num_class=15, \n",
    "                                     random_state=42069, n_jobs=-1,verbosity=0,seed=42069,\n",
    "                                     n_estimators=200,\n",
    "                                     max_depth=5,\n",
    "                                     min_child_weight=2, reg_lambda=10)"
   ]
  },
  {
   "cell_type": "code",
   "execution_count": 62,
   "metadata": {},
   "outputs": [
    {
     "name": "stdout",
     "output_type": "stream",
     "text": [
      "Time:  168.3271654\n"
     ]
    }
   ],
   "source": [
    "start = timeit.default_timer()\n",
    "scores = cross_val_score(EXTREME_BOOSTING_L2_bigger, X, Y, cv=5, scoring='f1_macro', n_jobs=-1)\n",
    "stop = timeit.default_timer()\n",
    "print('Time: ', stop - start)"
   ]
  },
  {
   "cell_type": "code",
   "execution_count": 63,
   "metadata": {},
   "outputs": [
    {
     "data": {
      "text/plain": [
       "0.3978918844609928"
      ]
     },
     "execution_count": 63,
     "metadata": {},
     "output_type": "execute_result"
    }
   ],
   "source": [
    "np.mean(scores)"
   ]
  },
  {
   "cell_type": "code",
   "execution_count": 64,
   "metadata": {},
   "outputs": [],
   "source": [
    "EXTREME_BOOSTING_L2_biggest = xgb.XGBClassifier(silent=True,objective=\"multiclass\",num_class=15, \n",
    "                                     random_state=42069, n_jobs=-1,verbosity=0,seed=42069,\n",
    "                                     n_estimators=200,\n",
    "                                     max_depth=5,\n",
    "                                     min_child_weight=2, reg_lambda=100)"
   ]
  },
  {
   "cell_type": "code",
   "execution_count": 65,
   "metadata": {},
   "outputs": [
    {
     "name": "stdout",
     "output_type": "stream",
     "text": [
      "Time:  146.08500169999934\n"
     ]
    }
   ],
   "source": [
    "start = timeit.default_timer()\n",
    "scores = cross_val_score(EXTREME_BOOSTING_L2_biggest, X, Y, cv=5, scoring='f1_macro', n_jobs=-1)\n",
    "stop = timeit.default_timer()\n",
    "print('Time: ', stop - start)"
   ]
  },
  {
   "cell_type": "code",
   "execution_count": 66,
   "metadata": {},
   "outputs": [
    {
     "data": {
      "text/plain": [
       "0.3926808657091339"
      ]
     },
     "execution_count": 66,
     "metadata": {},
     "output_type": "execute_result"
    }
   ],
   "source": [
    "np.mean(scores)"
   ]
  },
  {
   "cell_type": "code",
   "execution_count": 107,
   "metadata": {},
   "outputs": [],
   "source": [
    "EXTREME_BOOSTING_BEST = xgb.XGBClassifier(silent=True,objective=\"multiclass\",num_class=15, \n",
    "                                     random_state=42069, n_jobs=-1,verbosity=0,seed=42069,\n",
    "                                     n_estimators=200,\n",
    "                                     max_depth=5,\n",
    "                                     min_child_weight=2, alpha=1)"
   ]
  },
  {
   "cell_type": "markdown",
   "metadata": {},
   "source": [
    "### LightGBM"
   ]
  },
  {
   "cell_type": "code",
   "execution_count": 113,
   "metadata": {},
   "outputs": [],
   "source": [
    "param_distribs = {\n",
    "        'n_estimators': randint(low=1, high=200),\n",
    "        'max_depth': randint(low=2, high=20),\n",
    "        'num_leaves': randint(low=4, high=40),\n",
    "        'lambda_l1': randint(low=1/10,high=10000/10)\n",
    "    }"
   ]
  },
  {
   "cell_type": "code",
   "execution_count": 114,
   "metadata": {},
   "outputs": [],
   "source": [
    "LGBM_rand_search = RandomizedSearchCV(LGBC, param_distributions=param_distribs,\n",
    "                                n_iter=20, cv=5, scoring='f1_macro', random_state=42069)"
   ]
  },
  {
   "cell_type": "code",
   "execution_count": 115,
   "metadata": {},
   "outputs": [
    {
     "name": "stdout",
     "output_type": "stream",
     "text": [
      "[LightGBM] [Warning] lambda_l1 is set=361, reg_alpha=0.0 will be ignored. Current value: lambda_l1=361\n",
      "[LightGBM] [Warning] lambda_l1 is set=361, reg_alpha=0.0 will be ignored. Current value: lambda_l1=361\n",
      "[LightGBM] [Warning] lambda_l1 is set=361, reg_alpha=0.0 will be ignored. Current value: lambda_l1=361\n",
      "[LightGBM] [Warning] lambda_l1 is set=361, reg_alpha=0.0 will be ignored. Current value: lambda_l1=361\n",
      "[LightGBM] [Warning] lambda_l1 is set=361, reg_alpha=0.0 will be ignored. Current value: lambda_l1=361\n",
      "[LightGBM] [Warning] lambda_l1 is set=846, reg_alpha=0.0 will be ignored. Current value: lambda_l1=846\n",
      "[LightGBM] [Warning] lambda_l1 is set=846, reg_alpha=0.0 will be ignored. Current value: lambda_l1=846\n",
      "[LightGBM] [Warning] lambda_l1 is set=846, reg_alpha=0.0 will be ignored. Current value: lambda_l1=846\n",
      "[LightGBM] [Warning] lambda_l1 is set=846, reg_alpha=0.0 will be ignored. Current value: lambda_l1=846\n",
      "[LightGBM] [Warning] lambda_l1 is set=846, reg_alpha=0.0 will be ignored. Current value: lambda_l1=846\n",
      "[LightGBM] [Warning] lambda_l1 is set=822, reg_alpha=0.0 will be ignored. Current value: lambda_l1=822\n",
      "[LightGBM] [Warning] lambda_l1 is set=822, reg_alpha=0.0 will be ignored. Current value: lambda_l1=822\n",
      "[LightGBM] [Warning] lambda_l1 is set=822, reg_alpha=0.0 will be ignored. Current value: lambda_l1=822\n",
      "[LightGBM] [Warning] lambda_l1 is set=822, reg_alpha=0.0 will be ignored. Current value: lambda_l1=822\n",
      "[LightGBM] [Warning] lambda_l1 is set=822, reg_alpha=0.0 will be ignored. Current value: lambda_l1=822\n",
      "[LightGBM] [Warning] lambda_l1 is set=933, reg_alpha=0.0 will be ignored. Current value: lambda_l1=933\n",
      "[LightGBM] [Warning] lambda_l1 is set=933, reg_alpha=0.0 will be ignored. Current value: lambda_l1=933\n",
      "[LightGBM] [Warning] lambda_l1 is set=933, reg_alpha=0.0 will be ignored. Current value: lambda_l1=933\n",
      "[LightGBM] [Warning] lambda_l1 is set=933, reg_alpha=0.0 will be ignored. Current value: lambda_l1=933\n",
      "[LightGBM] [Warning] lambda_l1 is set=933, reg_alpha=0.0 will be ignored. Current value: lambda_l1=933\n",
      "[LightGBM] [Warning] lambda_l1 is set=586, reg_alpha=0.0 will be ignored. Current value: lambda_l1=586\n",
      "[LightGBM] [Warning] lambda_l1 is set=586, reg_alpha=0.0 will be ignored. Current value: lambda_l1=586\n",
      "[LightGBM] [Warning] lambda_l1 is set=586, reg_alpha=0.0 will be ignored. Current value: lambda_l1=586\n",
      "[LightGBM] [Warning] lambda_l1 is set=586, reg_alpha=0.0 will be ignored. Current value: lambda_l1=586\n",
      "[LightGBM] [Warning] lambda_l1 is set=586, reg_alpha=0.0 will be ignored. Current value: lambda_l1=586\n",
      "[LightGBM] [Warning] lambda_l1 is set=364, reg_alpha=0.0 will be ignored. Current value: lambda_l1=364\n",
      "[LightGBM] [Warning] lambda_l1 is set=364, reg_alpha=0.0 will be ignored. Current value: lambda_l1=364\n",
      "[LightGBM] [Warning] lambda_l1 is set=364, reg_alpha=0.0 will be ignored. Current value: lambda_l1=364\n",
      "[LightGBM] [Warning] lambda_l1 is set=364, reg_alpha=0.0 will be ignored. Current value: lambda_l1=364\n",
      "[LightGBM] [Warning] lambda_l1 is set=364, reg_alpha=0.0 will be ignored. Current value: lambda_l1=364\n",
      "[LightGBM] [Warning] lambda_l1 is set=625, reg_alpha=0.0 will be ignored. Current value: lambda_l1=625\n",
      "[LightGBM] [Warning] lambda_l1 is set=625, reg_alpha=0.0 will be ignored. Current value: lambda_l1=625\n",
      "[LightGBM] [Warning] lambda_l1 is set=625, reg_alpha=0.0 will be ignored. Current value: lambda_l1=625\n",
      "[LightGBM] [Warning] lambda_l1 is set=625, reg_alpha=0.0 will be ignored. Current value: lambda_l1=625\n",
      "[LightGBM] [Warning] lambda_l1 is set=625, reg_alpha=0.0 will be ignored. Current value: lambda_l1=625\n",
      "[LightGBM] [Warning] lambda_l1 is set=179, reg_alpha=0.0 will be ignored. Current value: lambda_l1=179\n",
      "[LightGBM] [Warning] lambda_l1 is set=179, reg_alpha=0.0 will be ignored. Current value: lambda_l1=179\n",
      "[LightGBM] [Warning] lambda_l1 is set=179, reg_alpha=0.0 will be ignored. Current value: lambda_l1=179\n",
      "[LightGBM] [Warning] lambda_l1 is set=179, reg_alpha=0.0 will be ignored. Current value: lambda_l1=179\n",
      "[LightGBM] [Warning] lambda_l1 is set=179, reg_alpha=0.0 will be ignored. Current value: lambda_l1=179\n",
      "[LightGBM] [Warning] lambda_l1 is set=260, reg_alpha=0.0 will be ignored. Current value: lambda_l1=260\n",
      "[LightGBM] [Warning] lambda_l1 is set=260, reg_alpha=0.0 will be ignored. Current value: lambda_l1=260\n",
      "[LightGBM] [Warning] lambda_l1 is set=260, reg_alpha=0.0 will be ignored. Current value: lambda_l1=260\n",
      "[LightGBM] [Warning] lambda_l1 is set=260, reg_alpha=0.0 will be ignored. Current value: lambda_l1=260\n",
      "[LightGBM] [Warning] lambda_l1 is set=260, reg_alpha=0.0 will be ignored. Current value: lambda_l1=260\n",
      "[LightGBM] [Warning] lambda_l1 is set=64, reg_alpha=0.0 will be ignored. Current value: lambda_l1=64\n",
      "[LightGBM] [Warning] lambda_l1 is set=64, reg_alpha=0.0 will be ignored. Current value: lambda_l1=64\n",
      "[LightGBM] [Warning] lambda_l1 is set=64, reg_alpha=0.0 will be ignored. Current value: lambda_l1=64\n",
      "[LightGBM] [Warning] lambda_l1 is set=64, reg_alpha=0.0 will be ignored. Current value: lambda_l1=64\n",
      "[LightGBM] [Warning] lambda_l1 is set=64, reg_alpha=0.0 will be ignored. Current value: lambda_l1=64\n",
      "[LightGBM] [Warning] lambda_l1 is set=90, reg_alpha=0.0 will be ignored. Current value: lambda_l1=90\n",
      "[LightGBM] [Warning] lambda_l1 is set=90, reg_alpha=0.0 will be ignored. Current value: lambda_l1=90\n",
      "[LightGBM] [Warning] lambda_l1 is set=90, reg_alpha=0.0 will be ignored. Current value: lambda_l1=90\n",
      "[LightGBM] [Warning] lambda_l1 is set=90, reg_alpha=0.0 will be ignored. Current value: lambda_l1=90\n",
      "[LightGBM] [Warning] lambda_l1 is set=90, reg_alpha=0.0 will be ignored. Current value: lambda_l1=90\n",
      "[LightGBM] [Warning] lambda_l1 is set=456, reg_alpha=0.0 will be ignored. Current value: lambda_l1=456\n",
      "[LightGBM] [Warning] lambda_l1 is set=456, reg_alpha=0.0 will be ignored. Current value: lambda_l1=456\n",
      "[LightGBM] [Warning] lambda_l1 is set=456, reg_alpha=0.0 will be ignored. Current value: lambda_l1=456\n",
      "[LightGBM] [Warning] lambda_l1 is set=456, reg_alpha=0.0 will be ignored. Current value: lambda_l1=456\n",
      "[LightGBM] [Warning] lambda_l1 is set=456, reg_alpha=0.0 will be ignored. Current value: lambda_l1=456\n",
      "[LightGBM] [Warning] lambda_l1 is set=839, reg_alpha=0.0 will be ignored. Current value: lambda_l1=839\n",
      "[LightGBM] [Warning] lambda_l1 is set=839, reg_alpha=0.0 will be ignored. Current value: lambda_l1=839\n",
      "[LightGBM] [Warning] lambda_l1 is set=839, reg_alpha=0.0 will be ignored. Current value: lambda_l1=839\n",
      "[LightGBM] [Warning] lambda_l1 is set=839, reg_alpha=0.0 will be ignored. Current value: lambda_l1=839\n",
      "[LightGBM] [Warning] lambda_l1 is set=839, reg_alpha=0.0 will be ignored. Current value: lambda_l1=839\n",
      "[LightGBM] [Warning] lambda_l1 is set=221, reg_alpha=0.0 will be ignored. Current value: lambda_l1=221\n",
      "[LightGBM] [Warning] lambda_l1 is set=221, reg_alpha=0.0 will be ignored. Current value: lambda_l1=221\n",
      "[LightGBM] [Warning] lambda_l1 is set=221, reg_alpha=0.0 will be ignored. Current value: lambda_l1=221\n",
      "[LightGBM] [Warning] lambda_l1 is set=221, reg_alpha=0.0 will be ignored. Current value: lambda_l1=221\n",
      "[LightGBM] [Warning] lambda_l1 is set=221, reg_alpha=0.0 will be ignored. Current value: lambda_l1=221\n",
      "[LightGBM] [Warning] lambda_l1 is set=974, reg_alpha=0.0 will be ignored. Current value: lambda_l1=974\n",
      "[LightGBM] [Warning] lambda_l1 is set=974, reg_alpha=0.0 will be ignored. Current value: lambda_l1=974\n",
      "[LightGBM] [Warning] lambda_l1 is set=974, reg_alpha=0.0 will be ignored. Current value: lambda_l1=974\n",
      "[LightGBM] [Warning] lambda_l1 is set=974, reg_alpha=0.0 will be ignored. Current value: lambda_l1=974\n",
      "[LightGBM] [Warning] lambda_l1 is set=974, reg_alpha=0.0 will be ignored. Current value: lambda_l1=974\n",
      "[LightGBM] [Warning] lambda_l1 is set=508, reg_alpha=0.0 will be ignored. Current value: lambda_l1=508\n",
      "[LightGBM] [Warning] lambda_l1 is set=508, reg_alpha=0.0 will be ignored. Current value: lambda_l1=508\n",
      "[LightGBM] [Warning] lambda_l1 is set=508, reg_alpha=0.0 will be ignored. Current value: lambda_l1=508\n",
      "[LightGBM] [Warning] lambda_l1 is set=508, reg_alpha=0.0 will be ignored. Current value: lambda_l1=508\n",
      "[LightGBM] [Warning] lambda_l1 is set=508, reg_alpha=0.0 will be ignored. Current value: lambda_l1=508\n"
     ]
    },
    {
     "name": "stdout",
     "output_type": "stream",
     "text": [
      "[LightGBM] [Warning] lambda_l1 is set=155, reg_alpha=0.0 will be ignored. Current value: lambda_l1=155\n",
      "[LightGBM] [Warning] lambda_l1 is set=155, reg_alpha=0.0 will be ignored. Current value: lambda_l1=155\n",
      "[LightGBM] [Warning] lambda_l1 is set=155, reg_alpha=0.0 will be ignored. Current value: lambda_l1=155\n",
      "[LightGBM] [Warning] lambda_l1 is set=155, reg_alpha=0.0 will be ignored. Current value: lambda_l1=155\n",
      "[LightGBM] [Warning] lambda_l1 is set=155, reg_alpha=0.0 will be ignored. Current value: lambda_l1=155\n",
      "[LightGBM] [Warning] lambda_l1 is set=135, reg_alpha=0.0 will be ignored. Current value: lambda_l1=135\n",
      "[LightGBM] [Warning] lambda_l1 is set=135, reg_alpha=0.0 will be ignored. Current value: lambda_l1=135\n",
      "[LightGBM] [Warning] lambda_l1 is set=135, reg_alpha=0.0 will be ignored. Current value: lambda_l1=135\n",
      "[LightGBM] [Warning] lambda_l1 is set=135, reg_alpha=0.0 will be ignored. Current value: lambda_l1=135\n",
      "[LightGBM] [Warning] lambda_l1 is set=135, reg_alpha=0.0 will be ignored. Current value: lambda_l1=135\n",
      "[LightGBM] [Warning] lambda_l1 is set=551, reg_alpha=0.0 will be ignored. Current value: lambda_l1=551\n",
      "[LightGBM] [Warning] lambda_l1 is set=551, reg_alpha=0.0 will be ignored. Current value: lambda_l1=551\n",
      "[LightGBM] [Warning] lambda_l1 is set=551, reg_alpha=0.0 will be ignored. Current value: lambda_l1=551\n",
      "[LightGBM] [Warning] lambda_l1 is set=551, reg_alpha=0.0 will be ignored. Current value: lambda_l1=551\n",
      "[LightGBM] [Warning] lambda_l1 is set=551, reg_alpha=0.0 will be ignored. Current value: lambda_l1=551\n",
      "[LightGBM] [Warning] lambda_l1 is set=937, reg_alpha=0.0 will be ignored. Current value: lambda_l1=937\n",
      "[LightGBM] [Warning] lambda_l1 is set=937, reg_alpha=0.0 will be ignored. Current value: lambda_l1=937\n",
      "[LightGBM] [Warning] lambda_l1 is set=937, reg_alpha=0.0 will be ignored. Current value: lambda_l1=937\n",
      "[LightGBM] [Warning] lambda_l1 is set=937, reg_alpha=0.0 will be ignored. Current value: lambda_l1=937\n",
      "[LightGBM] [Warning] lambda_l1 is set=937, reg_alpha=0.0 will be ignored. Current value: lambda_l1=937\n",
      "[LightGBM] [Warning] lambda_l1 is set=64, reg_alpha=0.0 will be ignored. Current value: lambda_l1=64\n"
     ]
    },
    {
     "data": {
      "text/plain": [
       "RandomizedSearchCV(cv=5,\n",
       "                   estimator=LGBMClassifier(force_col_wise=True, num_class=15,\n",
       "                                            objective='multiclass',\n",
       "                                            random_state=42069),\n",
       "                   n_iter=20,\n",
       "                   param_distributions={'lambda_l1': <scipy.stats._distn_infrastructure.rv_frozen object at 0x00000183E05ADCA0>,\n",
       "                                        'max_depth': <scipy.stats._distn_infrastructure.rv_frozen object at 0x00000183E0591A90>,\n",
       "                                        'n_estimators': <scipy.stats._distn_infrastructure.rv_frozen object at 0x00000183E05ADBB0>,\n",
       "                                        'num_leaves': <scipy.stats._distn_infrastructure.rv_frozen object at 0x00000183E05AD1C0>},\n",
       "                   random_state=42069, scoring='f1_macro')"
      ]
     },
     "execution_count": 115,
     "metadata": {},
     "output_type": "execute_result"
    }
   ],
   "source": [
    "LGBM_rand_search.fit(X,Y)"
   ]
  },
  {
   "cell_type": "code",
   "execution_count": 116,
   "metadata": {},
   "outputs": [
    {
     "name": "stdout",
     "output_type": "stream",
     "text": [
      "0.29822767984635556 {'lambda_l1': 361, 'max_depth': 2, 'n_estimators': 186, 'num_leaves': 10}\n",
      "0.1474246312042118 {'lambda_l1': 846, 'max_depth': 17, 'n_estimators': 102, 'num_leaves': 36}\n",
      "0.10012233670015751 {'lambda_l1': 822, 'max_depth': 10, 'n_estimators': 199, 'num_leaves': 7}\n",
      "0.0827121161929592 {'lambda_l1': 933, 'max_depth': 7, 'n_estimators': 140, 'num_leaves': 34}\n",
      "0.1798238404697728 {'lambda_l1': 586, 'max_depth': 9, 'n_estimators': 137, 'num_leaves': 30}\n",
      "0.3091631012884618 {'lambda_l1': 364, 'max_depth': 5, 'n_estimators': 147, 'num_leaves': 6}\n",
      "0.17885541148318554 {'lambda_l1': 625, 'max_depth': 17, 'n_estimators': 37, 'num_leaves': 33}\n",
      "0.3236946004690312 {'lambda_l1': 179, 'max_depth': 16, 'n_estimators': 186, 'num_leaves': 27}\n",
      "0.3162032946583251 {'lambda_l1': 260, 'max_depth': 12, 'n_estimators': 94, 'num_leaves': 16}\n",
      "0.3642010102366921 {'lambda_l1': 64, 'max_depth': 16, 'n_estimators': 167, 'num_leaves': 37}\n",
      "0.34458636021093375 {'lambda_l1': 90, 'max_depth': 16, 'n_estimators': 136, 'num_leaves': 32}\n",
      "0.07869201893711955 {'lambda_l1': 456, 'max_depth': 11, 'n_estimators': 89, 'num_leaves': 28}\n",
      "0.12058336728844447 {'lambda_l1': 839, 'max_depth': 6, 'n_estimators': 57, 'num_leaves': 13}\n",
      "0.3156957721107645 {'lambda_l1': 221, 'max_depth': 19, 'n_estimators': 47, 'num_leaves': 35}\n",
      "0.09001100014309815 {'lambda_l1': 974, 'max_depth': 11, 'n_estimators': 65, 'num_leaves': 13}\n",
      "0.08286314808035747 {'lambda_l1': 508, 'max_depth': 7, 'n_estimators': 162, 'num_leaves': 8}\n",
      "0.30992590281934196 {'lambda_l1': 155, 'max_depth': 19, 'n_estimators': 20, 'num_leaves': 26}\n",
      "0.3339691953805527 {'lambda_l1': 135, 'max_depth': 18, 'n_estimators': 101, 'num_leaves': 9}\n",
      "0.17885230912720157 {'lambda_l1': 551, 'max_depth': 13, 'n_estimators': 34, 'num_leaves': 7}\n",
      "0.08361168374526802 {'lambda_l1': 937, 'max_depth': 18, 'n_estimators': 198, 'num_leaves': 20}\n"
     ]
    }
   ],
   "source": [
    "LGcvres = LGBM_rand_search.cv_results_\n",
    "for mean_score, params in zip(LGcvres[\"mean_test_score\"], LGcvres[\"params\"]):\n",
    "    print(mean_score, params)"
   ]
  },
  {
   "cell_type": "markdown",
   "metadata": {},
   "source": [
    "### Much worse. Let's try with values between 0-1"
   ]
  },
  {
   "cell_type": "code",
   "execution_count": 33,
   "metadata": {},
   "outputs": [],
   "source": [
    "from scipy.stats import uniform"
   ]
  },
  {
   "cell_type": "code",
   "execution_count": 137,
   "metadata": {},
   "outputs": [],
   "source": [
    "param_distribs = {\n",
    "        'n_estimators': randint(low=1, high=200),\n",
    "        'max_depth': randint(low=2, high=20),\n",
    "        'num_leaves': randint(low=4, high=40),\n",
    "        'lambda_l1': uniform()\n",
    "    }"
   ]
  },
  {
   "cell_type": "code",
   "execution_count": 138,
   "metadata": {},
   "outputs": [],
   "source": [
    "LGBM_rand_search = RandomizedSearchCV(LGBC, param_distributions=param_distribs,\n",
    "                                n_iter=20, cv=5, scoring='f1_macro', random_state=42069)"
   ]
  },
  {
   "cell_type": "code",
   "execution_count": 139,
   "metadata": {},
   "outputs": [
    {
     "name": "stdout",
     "output_type": "stream",
     "text": [
      "[LightGBM] [Warning] lambda_l1 is set=0.0305083682942634, reg_alpha=0.0 will be ignored. Current value: lambda_l1=0.0305083682942634\n",
      "[LightGBM] [Warning] lambda_l1 is set=0.0305083682942634, reg_alpha=0.0 will be ignored. Current value: lambda_l1=0.0305083682942634\n",
      "[LightGBM] [Warning] lambda_l1 is set=0.0305083682942634, reg_alpha=0.0 will be ignored. Current value: lambda_l1=0.0305083682942634\n",
      "[LightGBM] [Warning] lambda_l1 is set=0.0305083682942634, reg_alpha=0.0 will be ignored. Current value: lambda_l1=0.0305083682942634\n",
      "[LightGBM] [Warning] lambda_l1 is set=0.0305083682942634, reg_alpha=0.0 will be ignored. Current value: lambda_l1=0.0305083682942634\n",
      "[LightGBM] [Warning] lambda_l1 is set=0.713502812931968, reg_alpha=0.0 will be ignored. Current value: lambda_l1=0.713502812931968\n",
      "[LightGBM] [Warning] Accuracy may be bad since you didn't explicitly set num_leaves OR 2^max_depth > num_leaves. (num_leaves=31).\n",
      "[LightGBM] [Warning] lambda_l1 is set=0.713502812931968, reg_alpha=0.0 will be ignored. Current value: lambda_l1=0.713502812931968\n",
      "[LightGBM] [Warning] Accuracy may be bad since you didn't explicitly set num_leaves OR 2^max_depth > num_leaves. (num_leaves=31).\n",
      "[LightGBM] [Warning] lambda_l1 is set=0.713502812931968, reg_alpha=0.0 will be ignored. Current value: lambda_l1=0.713502812931968\n",
      "[LightGBM] [Warning] Accuracy may be bad since you didn't explicitly set num_leaves OR 2^max_depth > num_leaves. (num_leaves=31).\n",
      "[LightGBM] [Warning] lambda_l1 is set=0.713502812931968, reg_alpha=0.0 will be ignored. Current value: lambda_l1=0.713502812931968\n",
      "[LightGBM] [Warning] Accuracy may be bad since you didn't explicitly set num_leaves OR 2^max_depth > num_leaves. (num_leaves=31).\n",
      "[LightGBM] [Warning] lambda_l1 is set=0.713502812931968, reg_alpha=0.0 will be ignored. Current value: lambda_l1=0.713502812931968\n",
      "[LightGBM] [Warning] Accuracy may be bad since you didn't explicitly set num_leaves OR 2^max_depth > num_leaves. (num_leaves=31).\n",
      "[LightGBM] [Warning] lambda_l1 is set=0.24675681190230125, reg_alpha=0.0 will be ignored. Current value: lambda_l1=0.24675681190230125\n",
      "[LightGBM] [Warning] lambda_l1 is set=0.24675681190230125, reg_alpha=0.0 will be ignored. Current value: lambda_l1=0.24675681190230125\n",
      "[LightGBM] [Warning] lambda_l1 is set=0.24675681190230125, reg_alpha=0.0 will be ignored. Current value: lambda_l1=0.24675681190230125\n",
      "[LightGBM] [Warning] lambda_l1 is set=0.24675681190230125, reg_alpha=0.0 will be ignored. Current value: lambda_l1=0.24675681190230125\n",
      "[LightGBM] [Warning] lambda_l1 is set=0.24675681190230125, reg_alpha=0.0 will be ignored. Current value: lambda_l1=0.24675681190230125\n",
      "[LightGBM] [Warning] lambda_l1 is set=0.8939919210333938, reg_alpha=0.0 will be ignored. Current value: lambda_l1=0.8939919210333938\n",
      "[LightGBM] [Warning] lambda_l1 is set=0.8939919210333938, reg_alpha=0.0 will be ignored. Current value: lambda_l1=0.8939919210333938\n",
      "[LightGBM] [Warning] lambda_l1 is set=0.8939919210333938, reg_alpha=0.0 will be ignored. Current value: lambda_l1=0.8939919210333938\n",
      "[LightGBM] [Warning] lambda_l1 is set=0.8939919210333938, reg_alpha=0.0 will be ignored. Current value: lambda_l1=0.8939919210333938\n",
      "[LightGBM] [Warning] lambda_l1 is set=0.8939919210333938, reg_alpha=0.0 will be ignored. Current value: lambda_l1=0.8939919210333938\n",
      "[LightGBM] [Warning] lambda_l1 is set=0.5747355202328911, reg_alpha=0.0 will be ignored. Current value: lambda_l1=0.5747355202328911\n",
      "[LightGBM] [Warning] lambda_l1 is set=0.5747355202328911, reg_alpha=0.0 will be ignored. Current value: lambda_l1=0.5747355202328911\n",
      "[LightGBM] [Warning] lambda_l1 is set=0.5747355202328911, reg_alpha=0.0 will be ignored. Current value: lambda_l1=0.5747355202328911\n",
      "[LightGBM] [Warning] lambda_l1 is set=0.5747355202328911, reg_alpha=0.0 will be ignored. Current value: lambda_l1=0.5747355202328911\n",
      "[LightGBM] [Warning] lambda_l1 is set=0.5747355202328911, reg_alpha=0.0 will be ignored. Current value: lambda_l1=0.5747355202328911\n",
      "[LightGBM] [Warning] lambda_l1 is set=0.3268208424427793, reg_alpha=0.0 will be ignored. Current value: lambda_l1=0.3268208424427793\n",
      "[LightGBM] [Warning] lambda_l1 is set=0.3268208424427793, reg_alpha=0.0 will be ignored. Current value: lambda_l1=0.3268208424427793\n",
      "[LightGBM] [Warning] lambda_l1 is set=0.3268208424427793, reg_alpha=0.0 will be ignored. Current value: lambda_l1=0.3268208424427793\n",
      "[LightGBM] [Warning] lambda_l1 is set=0.3268208424427793, reg_alpha=0.0 will be ignored. Current value: lambda_l1=0.3268208424427793\n",
      "[LightGBM] [Warning] lambda_l1 is set=0.3268208424427793, reg_alpha=0.0 will be ignored. Current value: lambda_l1=0.3268208424427793\n",
      "[LightGBM] [Warning] lambda_l1 is set=0.03289536460436582, reg_alpha=0.0 will be ignored. Current value: lambda_l1=0.03289536460436582\n",
      "[LightGBM] [Warning] lambda_l1 is set=0.03289536460436582, reg_alpha=0.0 will be ignored. Current value: lambda_l1=0.03289536460436582\n",
      "[LightGBM] [Warning] lambda_l1 is set=0.03289536460436582, reg_alpha=0.0 will be ignored. Current value: lambda_l1=0.03289536460436582\n",
      "[LightGBM] [Warning] lambda_l1 is set=0.03289536460436582, reg_alpha=0.0 will be ignored. Current value: lambda_l1=0.03289536460436582\n",
      "[LightGBM] [Warning] lambda_l1 is set=0.03289536460436582, reg_alpha=0.0 will be ignored. Current value: lambda_l1=0.03289536460436582\n",
      "[LightGBM] [Warning] lambda_l1 is set=0.7463765809575578, reg_alpha=0.0 will be ignored. Current value: lambda_l1=0.7463765809575578\n",
      "[LightGBM] [Warning] lambda_l1 is set=0.7463765809575578, reg_alpha=0.0 will be ignored. Current value: lambda_l1=0.7463765809575578\n",
      "[LightGBM] [Warning] lambda_l1 is set=0.7463765809575578, reg_alpha=0.0 will be ignored. Current value: lambda_l1=0.7463765809575578\n",
      "[LightGBM] [Warning] lambda_l1 is set=0.7463765809575578, reg_alpha=0.0 will be ignored. Current value: lambda_l1=0.7463765809575578\n",
      "[LightGBM] [Warning] lambda_l1 is set=0.7463765809575578, reg_alpha=0.0 will be ignored. Current value: lambda_l1=0.7463765809575578\n",
      "[LightGBM] [Warning] lambda_l1 is set=0.8751189902070862, reg_alpha=0.0 will be ignored. Current value: lambda_l1=0.8751189902070862\n",
      "[LightGBM] [Warning] lambda_l1 is set=0.8751189902070862, reg_alpha=0.0 will be ignored. Current value: lambda_l1=0.8751189902070862\n",
      "[LightGBM] [Warning] lambda_l1 is set=0.8751189902070862, reg_alpha=0.0 will be ignored. Current value: lambda_l1=0.8751189902070862\n",
      "[LightGBM] [Warning] lambda_l1 is set=0.8751189902070862, reg_alpha=0.0 will be ignored. Current value: lambda_l1=0.8751189902070862\n",
      "[LightGBM] [Warning] lambda_l1 is set=0.8751189902070862, reg_alpha=0.0 will be ignored. Current value: lambda_l1=0.8751189902070862\n",
      "[LightGBM] [Warning] lambda_l1 is set=0.8599853733826538, reg_alpha=0.0 will be ignored. Current value: lambda_l1=0.8599853733826538\n",
      "[LightGBM] [Warning] lambda_l1 is set=0.8599853733826538, reg_alpha=0.0 will be ignored. Current value: lambda_l1=0.8599853733826538\n",
      "[LightGBM] [Warning] lambda_l1 is set=0.8599853733826538, reg_alpha=0.0 will be ignored. Current value: lambda_l1=0.8599853733826538\n",
      "[LightGBM] [Warning] lambda_l1 is set=0.8599853733826538, reg_alpha=0.0 will be ignored. Current value: lambda_l1=0.8599853733826538\n",
      "[LightGBM] [Warning] lambda_l1 is set=0.8599853733826538, reg_alpha=0.0 will be ignored. Current value: lambda_l1=0.8599853733826538\n",
      "[LightGBM] [Warning] lambda_l1 is set=0.4541650895300515, reg_alpha=0.0 will be ignored. Current value: lambda_l1=0.4541650895300515\n",
      "[LightGBM] [Warning] lambda_l1 is set=0.4541650895300515, reg_alpha=0.0 will be ignored. Current value: lambda_l1=0.4541650895300515\n",
      "[LightGBM] [Warning] lambda_l1 is set=0.4541650895300515, reg_alpha=0.0 will be ignored. Current value: lambda_l1=0.4541650895300515\n",
      "[LightGBM] [Warning] lambda_l1 is set=0.4541650895300515, reg_alpha=0.0 will be ignored. Current value: lambda_l1=0.4541650895300515\n",
      "[LightGBM] [Warning] lambda_l1 is set=0.4541650895300515, reg_alpha=0.0 will be ignored. Current value: lambda_l1=0.4541650895300515\n",
      "[LightGBM] [Warning] lambda_l1 is set=0.7230562748129451, reg_alpha=0.0 will be ignored. Current value: lambda_l1=0.7230562748129451\n",
      "[LightGBM] [Warning] lambda_l1 is set=0.7230562748129451, reg_alpha=0.0 will be ignored. Current value: lambda_l1=0.7230562748129451\n"
     ]
    },
    {
     "name": "stdout",
     "output_type": "stream",
     "text": [
      "[LightGBM] [Warning] lambda_l1 is set=0.7230562748129451, reg_alpha=0.0 will be ignored. Current value: lambda_l1=0.7230562748129451\n",
      "[LightGBM] [Warning] lambda_l1 is set=0.7230562748129451, reg_alpha=0.0 will be ignored. Current value: lambda_l1=0.7230562748129451\n",
      "[LightGBM] [Warning] lambda_l1 is set=0.7230562748129451, reg_alpha=0.0 will be ignored. Current value: lambda_l1=0.7230562748129451\n",
      "[LightGBM] [Warning] lambda_l1 is set=0.10476093200590864, reg_alpha=0.0 will be ignored. Current value: lambda_l1=0.10476093200590864\n",
      "[LightGBM] [Warning] lambda_l1 is set=0.10476093200590864, reg_alpha=0.0 will be ignored. Current value: lambda_l1=0.10476093200590864\n",
      "[LightGBM] [Warning] lambda_l1 is set=0.10476093200590864, reg_alpha=0.0 will be ignored. Current value: lambda_l1=0.10476093200590864\n",
      "[LightGBM] [Warning] lambda_l1 is set=0.10476093200590864, reg_alpha=0.0 will be ignored. Current value: lambda_l1=0.10476093200590864\n",
      "[LightGBM] [Warning] lambda_l1 is set=0.10476093200590864, reg_alpha=0.0 will be ignored. Current value: lambda_l1=0.10476093200590864\n",
      "[LightGBM] [Warning] lambda_l1 is set=0.11522816271128777, reg_alpha=0.0 will be ignored. Current value: lambda_l1=0.11522816271128777\n",
      "[LightGBM] [Warning] lambda_l1 is set=0.11522816271128777, reg_alpha=0.0 will be ignored. Current value: lambda_l1=0.11522816271128777\n",
      "[LightGBM] [Warning] lambda_l1 is set=0.11522816271128777, reg_alpha=0.0 will be ignored. Current value: lambda_l1=0.11522816271128777\n",
      "[LightGBM] [Warning] lambda_l1 is set=0.11522816271128777, reg_alpha=0.0 will be ignored. Current value: lambda_l1=0.11522816271128777\n",
      "[LightGBM] [Warning] lambda_l1 is set=0.11522816271128777, reg_alpha=0.0 will be ignored. Current value: lambda_l1=0.11522816271128777\n",
      "[LightGBM] [Warning] lambda_l1 is set=0.1500390712179248, reg_alpha=0.0 will be ignored. Current value: lambda_l1=0.1500390712179248\n",
      "[LightGBM] [Warning] lambda_l1 is set=0.1500390712179248, reg_alpha=0.0 will be ignored. Current value: lambda_l1=0.1500390712179248\n",
      "[LightGBM] [Warning] lambda_l1 is set=0.1500390712179248, reg_alpha=0.0 will be ignored. Current value: lambda_l1=0.1500390712179248\n",
      "[LightGBM] [Warning] lambda_l1 is set=0.1500390712179248, reg_alpha=0.0 will be ignored. Current value: lambda_l1=0.1500390712179248\n",
      "[LightGBM] [Warning] lambda_l1 is set=0.1500390712179248, reg_alpha=0.0 will be ignored. Current value: lambda_l1=0.1500390712179248\n",
      "[LightGBM] [Warning] lambda_l1 is set=0.7191377044667698, reg_alpha=0.0 will be ignored. Current value: lambda_l1=0.7191377044667698\n",
      "[LightGBM] [Warning] lambda_l1 is set=0.7191377044667698, reg_alpha=0.0 will be ignored. Current value: lambda_l1=0.7191377044667698\n",
      "[LightGBM] [Warning] lambda_l1 is set=0.7191377044667698, reg_alpha=0.0 will be ignored. Current value: lambda_l1=0.7191377044667698\n",
      "[LightGBM] [Warning] lambda_l1 is set=0.7191377044667698, reg_alpha=0.0 will be ignored. Current value: lambda_l1=0.7191377044667698\n",
      "[LightGBM] [Warning] lambda_l1 is set=0.7191377044667698, reg_alpha=0.0 will be ignored. Current value: lambda_l1=0.7191377044667698\n",
      "[LightGBM] [Warning] lambda_l1 is set=0.6827690914562236, reg_alpha=0.0 will be ignored. Current value: lambda_l1=0.6827690914562236\n",
      "[LightGBM] [Warning] Accuracy may be bad since you didn't explicitly set num_leaves OR 2^max_depth > num_leaves. (num_leaves=31).\n",
      "[LightGBM] [Warning] lambda_l1 is set=0.6827690914562236, reg_alpha=0.0 will be ignored. Current value: lambda_l1=0.6827690914562236\n",
      "[LightGBM] [Warning] Accuracy may be bad since you didn't explicitly set num_leaves OR 2^max_depth > num_leaves. (num_leaves=31).\n",
      "[LightGBM] [Warning] lambda_l1 is set=0.6827690914562236, reg_alpha=0.0 will be ignored. Current value: lambda_l1=0.6827690914562236\n",
      "[LightGBM] [Warning] Accuracy may be bad since you didn't explicitly set num_leaves OR 2^max_depth > num_leaves. (num_leaves=31).\n",
      "[LightGBM] [Warning] lambda_l1 is set=0.6827690914562236, reg_alpha=0.0 will be ignored. Current value: lambda_l1=0.6827690914562236\n",
      "[LightGBM] [Warning] Accuracy may be bad since you didn't explicitly set num_leaves OR 2^max_depth > num_leaves. (num_leaves=31).\n",
      "[LightGBM] [Warning] lambda_l1 is set=0.6827690914562236, reg_alpha=0.0 will be ignored. Current value: lambda_l1=0.6827690914562236\n",
      "[LightGBM] [Warning] Accuracy may be bad since you didn't explicitly set num_leaves OR 2^max_depth > num_leaves. (num_leaves=31).\n",
      "[LightGBM] [Warning] lambda_l1 is set=0.8071046985548547, reg_alpha=0.0 will be ignored. Current value: lambda_l1=0.8071046985548547\n",
      "[LightGBM] [Warning] lambda_l1 is set=0.8071046985548547, reg_alpha=0.0 will be ignored. Current value: lambda_l1=0.8071046985548547\n",
      "[LightGBM] [Warning] lambda_l1 is set=0.8071046985548547, reg_alpha=0.0 will be ignored. Current value: lambda_l1=0.8071046985548547\n",
      "[LightGBM] [Warning] lambda_l1 is set=0.8071046985548547, reg_alpha=0.0 will be ignored. Current value: lambda_l1=0.8071046985548547\n",
      "[LightGBM] [Warning] lambda_l1 is set=0.8071046985548547, reg_alpha=0.0 will be ignored. Current value: lambda_l1=0.8071046985548547\n",
      "[LightGBM] [Warning] lambda_l1 is set=0.8182528961606967, reg_alpha=0.0 will be ignored. Current value: lambda_l1=0.8182528961606967\n",
      "[LightGBM] [Warning] lambda_l1 is set=0.8182528961606967, reg_alpha=0.0 will be ignored. Current value: lambda_l1=0.8182528961606967\n",
      "[LightGBM] [Warning] lambda_l1 is set=0.8182528961606967, reg_alpha=0.0 will be ignored. Current value: lambda_l1=0.8182528961606967\n",
      "[LightGBM] [Warning] lambda_l1 is set=0.8182528961606967, reg_alpha=0.0 will be ignored. Current value: lambda_l1=0.8182528961606967\n",
      "[LightGBM] [Warning] lambda_l1 is set=0.8182528961606967, reg_alpha=0.0 will be ignored. Current value: lambda_l1=0.8182528961606967\n",
      "[LightGBM] [Warning] lambda_l1 is set=0.877628744258157, reg_alpha=0.0 will be ignored. Current value: lambda_l1=0.877628744258157\n",
      "[LightGBM] [Warning] lambda_l1 is set=0.877628744258157, reg_alpha=0.0 will be ignored. Current value: lambda_l1=0.877628744258157\n",
      "[LightGBM] [Warning] lambda_l1 is set=0.877628744258157, reg_alpha=0.0 will be ignored. Current value: lambda_l1=0.877628744258157\n",
      "[LightGBM] [Warning] lambda_l1 is set=0.877628744258157, reg_alpha=0.0 will be ignored. Current value: lambda_l1=0.877628744258157\n",
      "[LightGBM] [Warning] lambda_l1 is set=0.877628744258157, reg_alpha=0.0 will be ignored. Current value: lambda_l1=0.877628744258157\n",
      "[LightGBM] [Warning] lambda_l1 is set=0.877628744258157, reg_alpha=0.0 will be ignored. Current value: lambda_l1=0.877628744258157\n"
     ]
    },
    {
     "data": {
      "text/plain": [
       "RandomizedSearchCV(cv=5,\n",
       "                   estimator=LGBMClassifier(force_col_wise=True, num_class=15,\n",
       "                                            objective='multiclass',\n",
       "                                            random_state=42069),\n",
       "                   n_iter=20,\n",
       "                   param_distributions={'lambda_l1': <scipy.stats._distn_infrastructure.rv_frozen object at 0x00000183E05DB460>,\n",
       "                                        'max_depth': <scipy.stats._distn_infrastructure.rv_frozen object at 0x00000183E05D07C0>,\n",
       "                                        'n_estimators': <scipy.stats._distn_infrastructure.rv_frozen object at 0x00000183CBB56D90>,\n",
       "                                        'num_leaves': <scipy.stats._distn_infrastructure.rv_frozen object at 0x00000183E05D0820>},\n",
       "                   random_state=42069, scoring='f1_macro')"
      ]
     },
     "execution_count": 139,
     "metadata": {},
     "output_type": "execute_result"
    }
   ],
   "source": [
    "LGBM_rand_search.fit(X,Y)"
   ]
  },
  {
   "cell_type": "code",
   "execution_count": 140,
   "metadata": {
    "scrolled": true
   },
   "outputs": [
    {
     "name": "stdout",
     "output_type": "stream",
     "text": [
      "0.3901688183339046 {'lambda_l1': 0.0305083682942634, 'max_depth': 18, 'n_estimators': 199, 'num_leaves': 18}\n",
      "0.39478471080340566 {'lambda_l1': 0.713502812931968, 'max_depth': 7, 'n_estimators': 55, 'num_leaves': 31}\n",
      "0.3932885026929707 {'lambda_l1': 0.24675681190230125, 'max_depth': 5, 'n_estimators': 166, 'num_leaves': 9}\n",
      "0.36114751697367553 {'lambda_l1': 0.8939919210333938, 'max_depth': 12, 'n_estimators': 8, 'num_leaves': 12}\n",
      "0.3971247621163892 {'lambda_l1': 0.5747355202328911, 'max_depth': 14, 'n_estimators': 196, 'num_leaves': 22}\n",
      "0.39352074748570054 {'lambda_l1': 0.3268208424427793, 'max_depth': 17, 'n_estimators': 37, 'num_leaves': 33}\n",
      "0.3918982596215635 {'lambda_l1': 0.03289536460436582, 'max_depth': 16, 'n_estimators': 186, 'num_leaves': 27}\n",
      "0.396116076252536 {'lambda_l1': 0.7463765809575578, 'max_depth': 12, 'n_estimators': 94, 'num_leaves': 16}\n",
      "0.39502720683033077 {'lambda_l1': 0.8751189902070862, 'max_depth': 8, 'n_estimators': 46, 'num_leaves': 37}\n",
      "0.3912952507728047 {'lambda_l1': 0.8599853733826538, 'max_depth': 9, 'n_estimators': 37, 'num_leaves': 32}\n",
      "0.3963239446364047 {'lambda_l1': 0.4541650895300515, 'max_depth': 11, 'n_estimators': 89, 'num_leaves': 28}\n",
      "0.3840586658573793 {'lambda_l1': 0.7230562748129451, 'max_depth': 10, 'n_estimators': 57, 'num_leaves': 13}\n",
      "0.395200374536845 {'lambda_l1': 0.10476093200590864, 'max_depth': 19, 'n_estimators': 47, 'num_leaves': 35}\n",
      "0.3870964603939985 {'lambda_l1': 0.11522816271128777, 'max_depth': 11, 'n_estimators': 65, 'num_leaves': 13}\n",
      "0.39019348283655114 {'lambda_l1': 0.1500390712179248, 'max_depth': 7, 'n_estimators': 162, 'num_leaves': 8}\n",
      "0.38488101240744077 {'lambda_l1': 0.7191377044667698, 'max_depth': 19, 'n_estimators': 20, 'num_leaves': 26}\n",
      "0.39818261246032316 {'lambda_l1': 0.6827690914562236, 'max_depth': 6, 'n_estimators': 134, 'num_leaves': 31}\n",
      "0.3970857344205022 {'lambda_l1': 0.8071046985548547, 'max_depth': 5, 'n_estimators': 170, 'num_leaves': 34}\n",
      "0.3910474696197312 {'lambda_l1': 0.8182528961606967, 'max_depth': 7, 'n_estimators': 49, 'num_leaves': 20}\n",
      "0.399882274409016 {'lambda_l1': 0.877628744258157, 'max_depth': 13, 'n_estimators': 164, 'num_leaves': 32}\n"
     ]
    }
   ],
   "source": [
    "LGcvres = LGBM_rand_search.cv_results_\n",
    "for mean_score, params in zip(LGcvres[\"mean_test_score\"], LGcvres[\"params\"]):\n",
    "    print(mean_score, params)"
   ]
  },
  {
   "cell_type": "markdown",
   "metadata": {},
   "source": [
    "### Aaaaaaand L2"
   ]
  },
  {
   "cell_type": "code",
   "execution_count": 29,
   "metadata": {},
   "outputs": [],
   "source": [
    "param_distribs = {\n",
    "        'n_estimators': randint(low=1, high=200),\n",
    "        'max_depth': randint(low=2, high=20),\n",
    "        'num_leaves': randint(low=4, high=40),\n",
    "        'lambda_l2': randint(low=1,high=1000)\n",
    "    }"
   ]
  },
  {
   "cell_type": "code",
   "execution_count": 30,
   "metadata": {},
   "outputs": [],
   "source": [
    "LGBM_rand_search = RandomizedSearchCV(LGBC, param_distributions=param_distribs,\n",
    "                                n_iter=15, cv=5, scoring='f1_macro', random_state=42069)"
   ]
  },
  {
   "cell_type": "code",
   "execution_count": 31,
   "metadata": {},
   "outputs": [
    {
     "name": "stdout",
     "output_type": "stream",
     "text": [
      "[LightGBM] [Warning] lambda_l2 is set=362, reg_lambda=0.0 will be ignored. Current value: lambda_l2=362\n",
      "[LightGBM] [Warning] lambda_l2 is set=362, reg_lambda=0.0 will be ignored. Current value: lambda_l2=362\n",
      "[LightGBM] [Warning] lambda_l2 is set=362, reg_lambda=0.0 will be ignored. Current value: lambda_l2=362\n",
      "[LightGBM] [Warning] lambda_l2 is set=362, reg_lambda=0.0 will be ignored. Current value: lambda_l2=362\n",
      "[LightGBM] [Warning] lambda_l2 is set=362, reg_lambda=0.0 will be ignored. Current value: lambda_l2=362\n",
      "[LightGBM] [Warning] lambda_l2 is set=847, reg_lambda=0.0 will be ignored. Current value: lambda_l2=847\n",
      "[LightGBM] [Warning] lambda_l2 is set=847, reg_lambda=0.0 will be ignored. Current value: lambda_l2=847\n",
      "[LightGBM] [Warning] lambda_l2 is set=847, reg_lambda=0.0 will be ignored. Current value: lambda_l2=847\n",
      "[LightGBM] [Warning] lambda_l2 is set=847, reg_lambda=0.0 will be ignored. Current value: lambda_l2=847\n",
      "[LightGBM] [Warning] lambda_l2 is set=847, reg_lambda=0.0 will be ignored. Current value: lambda_l2=847\n",
      "[LightGBM] [Warning] lambda_l2 is set=823, reg_lambda=0.0 will be ignored. Current value: lambda_l2=823\n",
      "[LightGBM] [Warning] lambda_l2 is set=823, reg_lambda=0.0 will be ignored. Current value: lambda_l2=823\n",
      "[LightGBM] [Warning] lambda_l2 is set=823, reg_lambda=0.0 will be ignored. Current value: lambda_l2=823\n",
      "[LightGBM] [Warning] lambda_l2 is set=823, reg_lambda=0.0 will be ignored. Current value: lambda_l2=823\n",
      "[LightGBM] [Warning] lambda_l2 is set=823, reg_lambda=0.0 will be ignored. Current value: lambda_l2=823\n",
      "[LightGBM] [Warning] lambda_l2 is set=934, reg_lambda=0.0 will be ignored. Current value: lambda_l2=934\n",
      "[LightGBM] [Warning] lambda_l2 is set=934, reg_lambda=0.0 will be ignored. Current value: lambda_l2=934\n",
      "[LightGBM] [Warning] lambda_l2 is set=934, reg_lambda=0.0 will be ignored. Current value: lambda_l2=934\n",
      "[LightGBM] [Warning] lambda_l2 is set=934, reg_lambda=0.0 will be ignored. Current value: lambda_l2=934\n",
      "[LightGBM] [Warning] lambda_l2 is set=934, reg_lambda=0.0 will be ignored. Current value: lambda_l2=934\n",
      "[LightGBM] [Warning] lambda_l2 is set=587, reg_lambda=0.0 will be ignored. Current value: lambda_l2=587\n",
      "[LightGBM] [Warning] lambda_l2 is set=587, reg_lambda=0.0 will be ignored. Current value: lambda_l2=587\n",
      "[LightGBM] [Warning] lambda_l2 is set=587, reg_lambda=0.0 will be ignored. Current value: lambda_l2=587\n",
      "[LightGBM] [Warning] lambda_l2 is set=587, reg_lambda=0.0 will be ignored. Current value: lambda_l2=587\n",
      "[LightGBM] [Warning] lambda_l2 is set=587, reg_lambda=0.0 will be ignored. Current value: lambda_l2=587\n",
      "[LightGBM] [Warning] lambda_l2 is set=365, reg_lambda=0.0 will be ignored. Current value: lambda_l2=365\n",
      "[LightGBM] [Warning] lambda_l2 is set=365, reg_lambda=0.0 will be ignored. Current value: lambda_l2=365\n",
      "[LightGBM] [Warning] lambda_l2 is set=365, reg_lambda=0.0 will be ignored. Current value: lambda_l2=365\n",
      "[LightGBM] [Warning] lambda_l2 is set=365, reg_lambda=0.0 will be ignored. Current value: lambda_l2=365\n",
      "[LightGBM] [Warning] lambda_l2 is set=365, reg_lambda=0.0 will be ignored. Current value: lambda_l2=365\n",
      "[LightGBM] [Warning] lambda_l2 is set=626, reg_lambda=0.0 will be ignored. Current value: lambda_l2=626\n",
      "[LightGBM] [Warning] lambda_l2 is set=626, reg_lambda=0.0 will be ignored. Current value: lambda_l2=626\n",
      "[LightGBM] [Warning] lambda_l2 is set=626, reg_lambda=0.0 will be ignored. Current value: lambda_l2=626\n",
      "[LightGBM] [Warning] lambda_l2 is set=626, reg_lambda=0.0 will be ignored. Current value: lambda_l2=626\n",
      "[LightGBM] [Warning] lambda_l2 is set=626, reg_lambda=0.0 will be ignored. Current value: lambda_l2=626\n",
      "[LightGBM] [Warning] lambda_l2 is set=180, reg_lambda=0.0 will be ignored. Current value: lambda_l2=180\n",
      "[LightGBM] [Warning] lambda_l2 is set=180, reg_lambda=0.0 will be ignored. Current value: lambda_l2=180\n",
      "[LightGBM] [Warning] lambda_l2 is set=180, reg_lambda=0.0 will be ignored. Current value: lambda_l2=180\n",
      "[LightGBM] [Warning] lambda_l2 is set=180, reg_lambda=0.0 will be ignored. Current value: lambda_l2=180\n",
      "[LightGBM] [Warning] lambda_l2 is set=180, reg_lambda=0.0 will be ignored. Current value: lambda_l2=180\n",
      "[LightGBM] [Warning] lambda_l2 is set=261, reg_lambda=0.0 will be ignored. Current value: lambda_l2=261\n",
      "[LightGBM] [Warning] lambda_l2 is set=261, reg_lambda=0.0 will be ignored. Current value: lambda_l2=261\n",
      "[LightGBM] [Warning] lambda_l2 is set=261, reg_lambda=0.0 will be ignored. Current value: lambda_l2=261\n",
      "[LightGBM] [Warning] lambda_l2 is set=261, reg_lambda=0.0 will be ignored. Current value: lambda_l2=261\n",
      "[LightGBM] [Warning] lambda_l2 is set=261, reg_lambda=0.0 will be ignored. Current value: lambda_l2=261\n",
      "[LightGBM] [Warning] lambda_l2 is set=65, reg_lambda=0.0 will be ignored. Current value: lambda_l2=65\n",
      "[LightGBM] [Warning] lambda_l2 is set=65, reg_lambda=0.0 will be ignored. Current value: lambda_l2=65\n",
      "[LightGBM] [Warning] lambda_l2 is set=65, reg_lambda=0.0 will be ignored. Current value: lambda_l2=65\n",
      "[LightGBM] [Warning] lambda_l2 is set=65, reg_lambda=0.0 will be ignored. Current value: lambda_l2=65\n",
      "[LightGBM] [Warning] lambda_l2 is set=65, reg_lambda=0.0 will be ignored. Current value: lambda_l2=65\n",
      "[LightGBM] [Warning] lambda_l2 is set=91, reg_lambda=0.0 will be ignored. Current value: lambda_l2=91\n",
      "[LightGBM] [Warning] lambda_l2 is set=91, reg_lambda=0.0 will be ignored. Current value: lambda_l2=91\n",
      "[LightGBM] [Warning] lambda_l2 is set=91, reg_lambda=0.0 will be ignored. Current value: lambda_l2=91\n",
      "[LightGBM] [Warning] lambda_l2 is set=91, reg_lambda=0.0 will be ignored. Current value: lambda_l2=91\n",
      "[LightGBM] [Warning] lambda_l2 is set=91, reg_lambda=0.0 will be ignored. Current value: lambda_l2=91\n",
      "[LightGBM] [Warning] lambda_l2 is set=457, reg_lambda=0.0 will be ignored. Current value: lambda_l2=457\n",
      "[LightGBM] [Warning] lambda_l2 is set=457, reg_lambda=0.0 will be ignored. Current value: lambda_l2=457\n",
      "[LightGBM] [Warning] lambda_l2 is set=457, reg_lambda=0.0 will be ignored. Current value: lambda_l2=457\n",
      "[LightGBM] [Warning] lambda_l2 is set=457, reg_lambda=0.0 will be ignored. Current value: lambda_l2=457\n",
      "[LightGBM] [Warning] lambda_l2 is set=457, reg_lambda=0.0 will be ignored. Current value: lambda_l2=457\n",
      "[LightGBM] [Warning] lambda_l2 is set=840, reg_lambda=0.0 will be ignored. Current value: lambda_l2=840\n",
      "[LightGBM] [Warning] lambda_l2 is set=840, reg_lambda=0.0 will be ignored. Current value: lambda_l2=840\n",
      "[LightGBM] [Warning] lambda_l2 is set=840, reg_lambda=0.0 will be ignored. Current value: lambda_l2=840\n",
      "[LightGBM] [Warning] lambda_l2 is set=840, reg_lambda=0.0 will be ignored. Current value: lambda_l2=840\n",
      "[LightGBM] [Warning] lambda_l2 is set=840, reg_lambda=0.0 will be ignored. Current value: lambda_l2=840\n",
      "[LightGBM] [Warning] lambda_l2 is set=222, reg_lambda=0.0 will be ignored. Current value: lambda_l2=222\n",
      "[LightGBM] [Warning] lambda_l2 is set=222, reg_lambda=0.0 will be ignored. Current value: lambda_l2=222\n",
      "[LightGBM] [Warning] lambda_l2 is set=222, reg_lambda=0.0 will be ignored. Current value: lambda_l2=222\n",
      "[LightGBM] [Warning] lambda_l2 is set=222, reg_lambda=0.0 will be ignored. Current value: lambda_l2=222\n",
      "[LightGBM] [Warning] lambda_l2 is set=222, reg_lambda=0.0 will be ignored. Current value: lambda_l2=222\n",
      "[LightGBM] [Warning] lambda_l2 is set=975, reg_lambda=0.0 will be ignored. Current value: lambda_l2=975\n",
      "[LightGBM] [Warning] lambda_l2 is set=975, reg_lambda=0.0 will be ignored. Current value: lambda_l2=975\n",
      "[LightGBM] [Warning] lambda_l2 is set=975, reg_lambda=0.0 will be ignored. Current value: lambda_l2=975\n",
      "[LightGBM] [Warning] lambda_l2 is set=975, reg_lambda=0.0 will be ignored. Current value: lambda_l2=975\n",
      "[LightGBM] [Warning] lambda_l2 is set=975, reg_lambda=0.0 will be ignored. Current value: lambda_l2=975\n",
      "[LightGBM] [Warning] lambda_l2 is set=65, reg_lambda=0.0 will be ignored. Current value: lambda_l2=65\n"
     ]
    },
    {
     "data": {
      "text/plain": [
       "RandomizedSearchCV(cv=5,\n",
       "                   estimator=LGBMClassifier(force_col_wise=True, num_class=15,\n",
       "                                            objective='multiclass',\n",
       "                                            random_state=42069),\n",
       "                   n_iter=15,\n",
       "                   param_distributions={'lambda_l2': <scipy.stats._distn_infrastructure.rv_frozen object at 0x000002B2803E4160>,\n",
       "                                        'max_depth': <scipy.stats._distn_infrastructure.rv_frozen object at 0x000002B2803D4E80>,\n",
       "                                        'n_estimators': <scipy.stats._distn_infrastructure.rv_frozen object at 0x000002B2803D4CA0>,\n",
       "                                        'num_leaves': <scipy.stats._distn_infrastructure.rv_frozen object at 0x000002B2803D49D0>},\n",
       "                   random_state=42069, scoring='f1_macro')"
      ]
     },
     "execution_count": 31,
     "metadata": {},
     "output_type": "execute_result"
    }
   ],
   "source": [
    "LGBM_rand_search.fit(X,Y)"
   ]
  },
  {
   "cell_type": "code",
   "execution_count": 32,
   "metadata": {},
   "outputs": [
    {
     "name": "stdout",
     "output_type": "stream",
     "text": [
      "0.3347870059482255 {'lambda_l2': 362, 'max_depth': 2, 'n_estimators': 186, 'num_leaves': 10}\n",
      "0.34455540061189904 {'lambda_l2': 847, 'max_depth': 17, 'n_estimators': 102, 'num_leaves': 36}\n",
      "0.3493551500594863 {'lambda_l2': 823, 'max_depth': 10, 'n_estimators': 199, 'num_leaves': 7}\n",
      "0.34648630546655534 {'lambda_l2': 934, 'max_depth': 7, 'n_estimators': 140, 'num_leaves': 34}\n",
      "0.35806953100928196 {'lambda_l2': 587, 'max_depth': 9, 'n_estimators': 137, 'num_leaves': 30}\n",
      "0.35166729697737265 {'lambda_l2': 365, 'max_depth': 5, 'n_estimators': 147, 'num_leaves': 6}\n",
      "0.3205837970000044 {'lambda_l2': 626, 'max_depth': 17, 'n_estimators': 37, 'num_leaves': 33}\n",
      "0.3842441317745668 {'lambda_l2': 180, 'max_depth': 16, 'n_estimators': 186, 'num_leaves': 27}\n",
      "0.36330340067967376 {'lambda_l2': 261, 'max_depth': 12, 'n_estimators': 94, 'num_leaves': 16}\n",
      "0.39167129098527675 {'lambda_l2': 65, 'max_depth': 16, 'n_estimators': 167, 'num_leaves': 37}\n",
      "0.38788840640417654 {'lambda_l2': 91, 'max_depth': 16, 'n_estimators': 136, 'num_leaves': 32}\n",
      "0.35110911228284813 {'lambda_l2': 457, 'max_depth': 11, 'n_estimators': 89, 'num_leaves': 28}\n",
      "0.3196735773384939 {'lambda_l2': 840, 'max_depth': 6, 'n_estimators': 57, 'num_leaves': 13}\n",
      "0.3454450857533499 {'lambda_l2': 222, 'max_depth': 19, 'n_estimators': 47, 'num_leaves': 35}\n",
      "0.3224000697387605 {'lambda_l2': 975, 'max_depth': 11, 'n_estimators': 65, 'num_leaves': 13}\n"
     ]
    }
   ],
   "source": [
    "LGcvres = LGBM_rand_search.cv_results_\n",
    "for mean_score, params in zip(LGcvres[\"mean_test_score\"], LGcvres[\"params\"]):\n",
    "    print(mean_score, params)"
   ]
  },
  {
   "cell_type": "code",
   "execution_count": 37,
   "metadata": {},
   "outputs": [],
   "source": [
    "param_distribs = {\n",
    "        'n_estimators': randint(low=1, high=200),\n",
    "        'max_depth': randint(low=2, high=20),\n",
    "        'num_leaves': randint(low=4, high=40),\n",
    "        'lambda_l2': uniform()\n",
    "    }"
   ]
  },
  {
   "cell_type": "code",
   "execution_count": 38,
   "metadata": {},
   "outputs": [],
   "source": [
    "LGBM_rand_search = RandomizedSearchCV(LGBC, param_distributions=param_distribs,\n",
    "                                n_iter=20, cv=5, scoring='f1_macro', random_state=42069)"
   ]
  },
  {
   "cell_type": "code",
   "execution_count": 39,
   "metadata": {},
   "outputs": [
    {
     "name": "stdout",
     "output_type": "stream",
     "text": [
      "[LightGBM] [Warning] lambda_l2 is set=0.0305083682942634, reg_lambda=0.0 will be ignored. Current value: lambda_l2=0.0305083682942634\n",
      "[LightGBM] [Warning] lambda_l2 is set=0.0305083682942634, reg_lambda=0.0 will be ignored. Current value: lambda_l2=0.0305083682942634\n",
      "[LightGBM] [Warning] lambda_l2 is set=0.0305083682942634, reg_lambda=0.0 will be ignored. Current value: lambda_l2=0.0305083682942634\n",
      "[LightGBM] [Warning] lambda_l2 is set=0.0305083682942634, reg_lambda=0.0 will be ignored. Current value: lambda_l2=0.0305083682942634\n",
      "[LightGBM] [Warning] lambda_l2 is set=0.713502812931968, reg_lambda=0.0 will be ignored. Current value: lambda_l2=0.713502812931968\n",
      "[LightGBM] [Warning] Accuracy may be bad since you didn't explicitly set num_leaves OR 2^max_depth > num_leaves. (num_leaves=31).\n",
      "[LightGBM] [Warning] lambda_l2 is set=0.713502812931968, reg_lambda=0.0 will be ignored. Current value: lambda_l2=0.713502812931968\n",
      "[LightGBM] [Warning] Accuracy may be bad since you didn't explicitly set num_leaves OR 2^max_depth > num_leaves. (num_leaves=31).\n",
      "[LightGBM] [Warning] lambda_l2 is set=0.713502812931968, reg_lambda=0.0 will be ignored. Current value: lambda_l2=0.713502812931968\n",
      "[LightGBM] [Warning] Accuracy may be bad since you didn't explicitly set num_leaves OR 2^max_depth > num_leaves. (num_leaves=31).\n",
      "[LightGBM] [Warning] lambda_l2 is set=0.713502812931968, reg_lambda=0.0 will be ignored. Current value: lambda_l2=0.713502812931968\n",
      "[LightGBM] [Warning] Accuracy may be bad since you didn't explicitly set num_leaves OR 2^max_depth > num_leaves. (num_leaves=31).\n",
      "[LightGBM] [Warning] lambda_l2 is set=0.713502812931968, reg_lambda=0.0 will be ignored. Current value: lambda_l2=0.713502812931968\n",
      "[LightGBM] [Warning] Accuracy may be bad since you didn't explicitly set num_leaves OR 2^max_depth > num_leaves. (num_leaves=31).\n",
      "[LightGBM] [Warning] lambda_l2 is set=0.24675681190230125, reg_lambda=0.0 will be ignored. Current value: lambda_l2=0.24675681190230125\n",
      "[LightGBM] [Warning] lambda_l2 is set=0.24675681190230125, reg_lambda=0.0 will be ignored. Current value: lambda_l2=0.24675681190230125\n",
      "[LightGBM] [Warning] lambda_l2 is set=0.24675681190230125, reg_lambda=0.0 will be ignored. Current value: lambda_l2=0.24675681190230125\n",
      "[LightGBM] [Warning] lambda_l2 is set=0.24675681190230125, reg_lambda=0.0 will be ignored. Current value: lambda_l2=0.24675681190230125\n",
      "[LightGBM] [Warning] lambda_l2 is set=0.24675681190230125, reg_lambda=0.0 will be ignored. Current value: lambda_l2=0.24675681190230125\n",
      "[LightGBM] [Warning] lambda_l2 is set=0.8939919210333938, reg_lambda=0.0 will be ignored. Current value: lambda_l2=0.8939919210333938\n",
      "[LightGBM] [Warning] lambda_l2 is set=0.8939919210333938, reg_lambda=0.0 will be ignored. Current value: lambda_l2=0.8939919210333938\n",
      "[LightGBM] [Warning] lambda_l2 is set=0.8939919210333938, reg_lambda=0.0 will be ignored. Current value: lambda_l2=0.8939919210333938\n",
      "[LightGBM] [Warning] lambda_l2 is set=0.8939919210333938, reg_lambda=0.0 will be ignored. Current value: lambda_l2=0.8939919210333938\n",
      "[LightGBM] [Warning] lambda_l2 is set=0.8939919210333938, reg_lambda=0.0 will be ignored. Current value: lambda_l2=0.8939919210333938\n",
      "[LightGBM] [Warning] lambda_l2 is set=0.5747355202328911, reg_lambda=0.0 will be ignored. Current value: lambda_l2=0.5747355202328911\n",
      "[LightGBM] [Warning] lambda_l2 is set=0.5747355202328911, reg_lambda=0.0 will be ignored. Current value: lambda_l2=0.5747355202328911\n",
      "[LightGBM] [Warning] lambda_l2 is set=0.5747355202328911, reg_lambda=0.0 will be ignored. Current value: lambda_l2=0.5747355202328911\n",
      "[LightGBM] [Warning] lambda_l2 is set=0.5747355202328911, reg_lambda=0.0 will be ignored. Current value: lambda_l2=0.5747355202328911\n",
      "[LightGBM] [Warning] lambda_l2 is set=0.5747355202328911, reg_lambda=0.0 will be ignored. Current value: lambda_l2=0.5747355202328911\n",
      "[LightGBM] [Warning] lambda_l2 is set=0.3268208424427793, reg_lambda=0.0 will be ignored. Current value: lambda_l2=0.3268208424427793\n",
      "[LightGBM] [Warning] lambda_l2 is set=0.3268208424427793, reg_lambda=0.0 will be ignored. Current value: lambda_l2=0.3268208424427793\n",
      "[LightGBM] [Warning] lambda_l2 is set=0.3268208424427793, reg_lambda=0.0 will be ignored. Current value: lambda_l2=0.3268208424427793\n",
      "[LightGBM] [Warning] lambda_l2 is set=0.3268208424427793, reg_lambda=0.0 will be ignored. Current value: lambda_l2=0.3268208424427793\n",
      "[LightGBM] [Warning] lambda_l2 is set=0.3268208424427793, reg_lambda=0.0 will be ignored. Current value: lambda_l2=0.3268208424427793\n",
      "[LightGBM] [Warning] lambda_l2 is set=0.03289536460436582, reg_lambda=0.0 will be ignored. Current value: lambda_l2=0.03289536460436582\n",
      "[LightGBM] [Warning] lambda_l2 is set=0.03289536460436582, reg_lambda=0.0 will be ignored. Current value: lambda_l2=0.03289536460436582\n",
      "[LightGBM] [Warning] lambda_l2 is set=0.03289536460436582, reg_lambda=0.0 will be ignored. Current value: lambda_l2=0.03289536460436582\n",
      "[LightGBM] [Warning] lambda_l2 is set=0.03289536460436582, reg_lambda=0.0 will be ignored. Current value: lambda_l2=0.03289536460436582\n",
      "[LightGBM] [Warning] lambda_l2 is set=0.03289536460436582, reg_lambda=0.0 will be ignored. Current value: lambda_l2=0.03289536460436582\n",
      "[LightGBM] [Warning] lambda_l2 is set=0.7463765809575578, reg_lambda=0.0 will be ignored. Current value: lambda_l2=0.7463765809575578\n",
      "[LightGBM] [Warning] lambda_l2 is set=0.7463765809575578, reg_lambda=0.0 will be ignored. Current value: lambda_l2=0.7463765809575578\n",
      "[LightGBM] [Warning] lambda_l2 is set=0.7463765809575578, reg_lambda=0.0 will be ignored. Current value: lambda_l2=0.7463765809575578\n",
      "[LightGBM] [Warning] lambda_l2 is set=0.7463765809575578, reg_lambda=0.0 will be ignored. Current value: lambda_l2=0.7463765809575578\n",
      "[LightGBM] [Warning] lambda_l2 is set=0.7463765809575578, reg_lambda=0.0 will be ignored. Current value: lambda_l2=0.7463765809575578\n",
      "[LightGBM] [Warning] lambda_l2 is set=0.8751189902070862, reg_lambda=0.0 will be ignored. Current value: lambda_l2=0.8751189902070862\n",
      "[LightGBM] [Warning] lambda_l2 is set=0.8751189902070862, reg_lambda=0.0 will be ignored. Current value: lambda_l2=0.8751189902070862\n",
      "[LightGBM] [Warning] lambda_l2 is set=0.8751189902070862, reg_lambda=0.0 will be ignored. Current value: lambda_l2=0.8751189902070862\n",
      "[LightGBM] [Warning] lambda_l2 is set=0.8751189902070862, reg_lambda=0.0 will be ignored. Current value: lambda_l2=0.8751189902070862\n",
      "[LightGBM] [Warning] lambda_l2 is set=0.8751189902070862, reg_lambda=0.0 will be ignored. Current value: lambda_l2=0.8751189902070862\n",
      "[LightGBM] [Warning] lambda_l2 is set=0.8599853733826538, reg_lambda=0.0 will be ignored. Current value: lambda_l2=0.8599853733826538\n",
      "[LightGBM] [Warning] lambda_l2 is set=0.8599853733826538, reg_lambda=0.0 will be ignored. Current value: lambda_l2=0.8599853733826538\n",
      "[LightGBM] [Warning] lambda_l2 is set=0.8599853733826538, reg_lambda=0.0 will be ignored. Current value: lambda_l2=0.8599853733826538\n",
      "[LightGBM] [Warning] lambda_l2 is set=0.8599853733826538, reg_lambda=0.0 will be ignored. Current value: lambda_l2=0.8599853733826538\n",
      "[LightGBM] [Warning] lambda_l2 is set=0.8599853733826538, reg_lambda=0.0 will be ignored. Current value: lambda_l2=0.8599853733826538\n",
      "[LightGBM] [Warning] lambda_l2 is set=0.4541650895300515, reg_lambda=0.0 will be ignored. Current value: lambda_l2=0.4541650895300515\n",
      "[LightGBM] [Warning] lambda_l2 is set=0.4541650895300515, reg_lambda=0.0 will be ignored. Current value: lambda_l2=0.4541650895300515\n",
      "[LightGBM] [Warning] lambda_l2 is set=0.4541650895300515, reg_lambda=0.0 will be ignored. Current value: lambda_l2=0.4541650895300515\n",
      "[LightGBM] [Warning] lambda_l2 is set=0.4541650895300515, reg_lambda=0.0 will be ignored. Current value: lambda_l2=0.4541650895300515\n",
      "[LightGBM] [Warning] lambda_l2 is set=0.4541650895300515, reg_lambda=0.0 will be ignored. Current value: lambda_l2=0.4541650895300515\n",
      "[LightGBM] [Warning] lambda_l2 is set=0.7230562748129451, reg_lambda=0.0 will be ignored. Current value: lambda_l2=0.7230562748129451\n",
      "[LightGBM] [Warning] lambda_l2 is set=0.7230562748129451, reg_lambda=0.0 will be ignored. Current value: lambda_l2=0.7230562748129451\n",
      "[LightGBM] [Warning] lambda_l2 is set=0.7230562748129451, reg_lambda=0.0 will be ignored. Current value: lambda_l2=0.7230562748129451\n"
     ]
    },
    {
     "name": "stdout",
     "output_type": "stream",
     "text": [
      "[LightGBM] [Warning] lambda_l2 is set=0.7230562748129451, reg_lambda=0.0 will be ignored. Current value: lambda_l2=0.7230562748129451\n",
      "[LightGBM] [Warning] lambda_l2 is set=0.7230562748129451, reg_lambda=0.0 will be ignored. Current value: lambda_l2=0.7230562748129451\n",
      "[LightGBM] [Warning] lambda_l2 is set=0.10476093200590864, reg_lambda=0.0 will be ignored. Current value: lambda_l2=0.10476093200590864\n",
      "[LightGBM] [Warning] lambda_l2 is set=0.10476093200590864, reg_lambda=0.0 will be ignored. Current value: lambda_l2=0.10476093200590864\n",
      "[LightGBM] [Warning] lambda_l2 is set=0.10476093200590864, reg_lambda=0.0 will be ignored. Current value: lambda_l2=0.10476093200590864\n",
      "[LightGBM] [Warning] lambda_l2 is set=0.10476093200590864, reg_lambda=0.0 will be ignored. Current value: lambda_l2=0.10476093200590864\n",
      "[LightGBM] [Warning] lambda_l2 is set=0.10476093200590864, reg_lambda=0.0 will be ignored. Current value: lambda_l2=0.10476093200590864\n",
      "[LightGBM] [Warning] lambda_l2 is set=0.11522816271128777, reg_lambda=0.0 will be ignored. Current value: lambda_l2=0.11522816271128777\n",
      "[LightGBM] [Warning] lambda_l2 is set=0.11522816271128777, reg_lambda=0.0 will be ignored. Current value: lambda_l2=0.11522816271128777\n",
      "[LightGBM] [Warning] lambda_l2 is set=0.11522816271128777, reg_lambda=0.0 will be ignored. Current value: lambda_l2=0.11522816271128777\n",
      "[LightGBM] [Warning] lambda_l2 is set=0.11522816271128777, reg_lambda=0.0 will be ignored. Current value: lambda_l2=0.11522816271128777\n",
      "[LightGBM] [Warning] lambda_l2 is set=0.11522816271128777, reg_lambda=0.0 will be ignored. Current value: lambda_l2=0.11522816271128777\n",
      "[LightGBM] [Warning] lambda_l2 is set=0.1500390712179248, reg_lambda=0.0 will be ignored. Current value: lambda_l2=0.1500390712179248\n",
      "[LightGBM] [Warning] lambda_l2 is set=0.1500390712179248, reg_lambda=0.0 will be ignored. Current value: lambda_l2=0.1500390712179248\n",
      "[LightGBM] [Warning] lambda_l2 is set=0.1500390712179248, reg_lambda=0.0 will be ignored. Current value: lambda_l2=0.1500390712179248\n",
      "[LightGBM] [Warning] lambda_l2 is set=0.1500390712179248, reg_lambda=0.0 will be ignored. Current value: lambda_l2=0.1500390712179248\n",
      "[LightGBM] [Warning] lambda_l2 is set=0.1500390712179248, reg_lambda=0.0 will be ignored. Current value: lambda_l2=0.1500390712179248\n",
      "[LightGBM] [Warning] lambda_l2 is set=0.7191377044667698, reg_lambda=0.0 will be ignored. Current value: lambda_l2=0.7191377044667698\n",
      "[LightGBM] [Warning] lambda_l2 is set=0.7191377044667698, reg_lambda=0.0 will be ignored. Current value: lambda_l2=0.7191377044667698\n",
      "[LightGBM] [Warning] lambda_l2 is set=0.7191377044667698, reg_lambda=0.0 will be ignored. Current value: lambda_l2=0.7191377044667698\n",
      "[LightGBM] [Warning] lambda_l2 is set=0.7191377044667698, reg_lambda=0.0 will be ignored. Current value: lambda_l2=0.7191377044667698\n",
      "[LightGBM] [Warning] lambda_l2 is set=0.7191377044667698, reg_lambda=0.0 will be ignored. Current value: lambda_l2=0.7191377044667698\n",
      "[LightGBM] [Warning] lambda_l2 is set=0.6827690914562236, reg_lambda=0.0 will be ignored. Current value: lambda_l2=0.6827690914562236\n",
      "[LightGBM] [Warning] Accuracy may be bad since you didn't explicitly set num_leaves OR 2^max_depth > num_leaves. (num_leaves=31).\n",
      "[LightGBM] [Warning] lambda_l2 is set=0.6827690914562236, reg_lambda=0.0 will be ignored. Current value: lambda_l2=0.6827690914562236\n",
      "[LightGBM] [Warning] Accuracy may be bad since you didn't explicitly set num_leaves OR 2^max_depth > num_leaves. (num_leaves=31).\n",
      "[LightGBM] [Warning] lambda_l2 is set=0.6827690914562236, reg_lambda=0.0 will be ignored. Current value: lambda_l2=0.6827690914562236\n",
      "[LightGBM] [Warning] Accuracy may be bad since you didn't explicitly set num_leaves OR 2^max_depth > num_leaves. (num_leaves=31).\n",
      "[LightGBM] [Warning] lambda_l2 is set=0.6827690914562236, reg_lambda=0.0 will be ignored. Current value: lambda_l2=0.6827690914562236\n",
      "[LightGBM] [Warning] Accuracy may be bad since you didn't explicitly set num_leaves OR 2^max_depth > num_leaves. (num_leaves=31).\n",
      "[LightGBM] [Warning] lambda_l2 is set=0.6827690914562236, reg_lambda=0.0 will be ignored. Current value: lambda_l2=0.6827690914562236\n",
      "[LightGBM] [Warning] Accuracy may be bad since you didn't explicitly set num_leaves OR 2^max_depth > num_leaves. (num_leaves=31).\n",
      "[LightGBM] [Warning] lambda_l2 is set=0.8071046985548547, reg_lambda=0.0 will be ignored. Current value: lambda_l2=0.8071046985548547\n",
      "[LightGBM] [Warning] lambda_l2 is set=0.8071046985548547, reg_lambda=0.0 will be ignored. Current value: lambda_l2=0.8071046985548547\n",
      "[LightGBM] [Warning] lambda_l2 is set=0.8071046985548547, reg_lambda=0.0 will be ignored. Current value: lambda_l2=0.8071046985548547\n",
      "[LightGBM] [Warning] lambda_l2 is set=0.8071046985548547, reg_lambda=0.0 will be ignored. Current value: lambda_l2=0.8071046985548547\n",
      "[LightGBM] [Warning] lambda_l2 is set=0.8071046985548547, reg_lambda=0.0 will be ignored. Current value: lambda_l2=0.8071046985548547\n",
      "[LightGBM] [Warning] lambda_l2 is set=0.8182528961606967, reg_lambda=0.0 will be ignored. Current value: lambda_l2=0.8182528961606967\n",
      "[LightGBM] [Warning] lambda_l2 is set=0.8182528961606967, reg_lambda=0.0 will be ignored. Current value: lambda_l2=0.8182528961606967\n",
      "[LightGBM] [Warning] lambda_l2 is set=0.8182528961606967, reg_lambda=0.0 will be ignored. Current value: lambda_l2=0.8182528961606967\n",
      "[LightGBM] [Warning] lambda_l2 is set=0.8182528961606967, reg_lambda=0.0 will be ignored. Current value: lambda_l2=0.8182528961606967\n",
      "[LightGBM] [Warning] lambda_l2 is set=0.8182528961606967, reg_lambda=0.0 will be ignored. Current value: lambda_l2=0.8182528961606967\n",
      "[LightGBM] [Warning] lambda_l2 is set=0.877628744258157, reg_lambda=0.0 will be ignored. Current value: lambda_l2=0.877628744258157\n",
      "[LightGBM] [Warning] lambda_l2 is set=0.877628744258157, reg_lambda=0.0 will be ignored. Current value: lambda_l2=0.877628744258157\n",
      "[LightGBM] [Warning] lambda_l2 is set=0.877628744258157, reg_lambda=0.0 will be ignored. Current value: lambda_l2=0.877628744258157\n",
      "[LightGBM] [Warning] lambda_l2 is set=0.877628744258157, reg_lambda=0.0 will be ignored. Current value: lambda_l2=0.877628744258157\n",
      "[LightGBM] [Warning] lambda_l2 is set=0.877628744258157, reg_lambda=0.0 will be ignored. Current value: lambda_l2=0.877628744258157\n",
      "[LightGBM] [Warning] lambda_l2 is set=0.03289536460436582, reg_lambda=0.0 will be ignored. Current value: lambda_l2=0.03289536460436582\n"
     ]
    },
    {
     "data": {
      "text/plain": [
       "RandomizedSearchCV(cv=5,\n",
       "                   estimator=LGBMClassifier(force_col_wise=True, num_class=15,\n",
       "                                            objective='multiclass',\n",
       "                                            random_state=42069),\n",
       "                   n_iter=20,\n",
       "                   param_distributions={'lambda_l2': <scipy.stats._distn_infrastructure.rv_frozen object at 0x000002B28314DDF0>,\n",
       "                                        'max_depth': <scipy.stats._distn_infrastructure.rv_frozen object at 0x000002B2D50ED1F0>,\n",
       "                                        'n_estimators': <scipy.stats._distn_infrastructure.rv_frozen object at 0x000002B28314DD90>,\n",
       "                                        'num_leaves': <scipy.stats._distn_infrastructure.rv_frozen object at 0x000002B2D50EDD90>},\n",
       "                   random_state=42069, scoring='f1_macro')"
      ]
     },
     "execution_count": 39,
     "metadata": {},
     "output_type": "execute_result"
    }
   ],
   "source": [
    "LGBM_rand_search.fit(X,Y)"
   ]
  },
  {
   "cell_type": "code",
   "execution_count": 40,
   "metadata": {},
   "outputs": [
    {
     "name": "stdout",
     "output_type": "stream",
     "text": [
      "0.39796015025206466 {'lambda_l2': 0.0305083682942634, 'max_depth': 18, 'n_estimators': 199, 'num_leaves': 18}\n",
      "0.39026798290840836 {'lambda_l2': 0.713502812931968, 'max_depth': 7, 'n_estimators': 55, 'num_leaves': 31}\n",
      "0.3916789053478866 {'lambda_l2': 0.24675681190230125, 'max_depth': 5, 'n_estimators': 166, 'num_leaves': 9}\n",
      "0.34990149134225196 {'lambda_l2': 0.8939919210333938, 'max_depth': 12, 'n_estimators': 8, 'num_leaves': 12}\n",
      "0.39415964650062923 {'lambda_l2': 0.5747355202328911, 'max_depth': 14, 'n_estimators': 196, 'num_leaves': 22}\n",
      "0.38890560406218344 {'lambda_l2': 0.3268208424427793, 'max_depth': 17, 'n_estimators': 37, 'num_leaves': 33}\n",
      "0.3982421550760736 {'lambda_l2': 0.03289536460436582, 'max_depth': 16, 'n_estimators': 186, 'num_leaves': 27}\n",
      "0.3901279609341365 {'lambda_l2': 0.7463765809575578, 'max_depth': 12, 'n_estimators': 94, 'num_leaves': 16}\n",
      "0.39075833333521703 {'lambda_l2': 0.8751189902070862, 'max_depth': 8, 'n_estimators': 46, 'num_leaves': 37}\n",
      "0.38785615220541503 {'lambda_l2': 0.8599853733826538, 'max_depth': 9, 'n_estimators': 37, 'num_leaves': 32}\n",
      "0.3934596391870293 {'lambda_l2': 0.4541650895300515, 'max_depth': 11, 'n_estimators': 89, 'num_leaves': 28}\n",
      "0.3846214987887979 {'lambda_l2': 0.7230562748129451, 'max_depth': 10, 'n_estimators': 57, 'num_leaves': 13}\n",
      "0.39492475300669766 {'lambda_l2': 0.10476093200590864, 'max_depth': 19, 'n_estimators': 47, 'num_leaves': 35}\n",
      "0.39038343910432766 {'lambda_l2': 0.11522816271128777, 'max_depth': 11, 'n_estimators': 65, 'num_leaves': 13}\n",
      "0.39024910451377515 {'lambda_l2': 0.1500390712179248, 'max_depth': 7, 'n_estimators': 162, 'num_leaves': 8}\n",
      "0.37813469777274933 {'lambda_l2': 0.7191377044667698, 'max_depth': 19, 'n_estimators': 20, 'num_leaves': 26}\n",
      "0.39540170282388976 {'lambda_l2': 0.6827690914562236, 'max_depth': 6, 'n_estimators': 134, 'num_leaves': 31}\n",
      "0.39500424621577623 {'lambda_l2': 0.8071046985548547, 'max_depth': 5, 'n_estimators': 170, 'num_leaves': 34}\n",
      "0.38706923207776467 {'lambda_l2': 0.8182528961606967, 'max_depth': 7, 'n_estimators': 49, 'num_leaves': 20}\n",
      "0.3952729153278888 {'lambda_l2': 0.877628744258157, 'max_depth': 13, 'n_estimators': 164, 'num_leaves': 32}\n"
     ]
    }
   ],
   "source": [
    "LGcvres = LGBM_rand_search.cv_results_\n",
    "for mean_score, params in zip(LGcvres[\"mean_test_score\"], LGcvres[\"params\"]):\n",
    "    print(mean_score, params)"
   ]
  },
  {
   "cell_type": "markdown",
   "metadata": {},
   "source": [
    "### Okay I really want to beat 0.4 so let's manually adjust the best L1 (0.399882274409016)"
   ]
  },
  {
   "cell_type": "code",
   "execution_count": 95,
   "metadata": {},
   "outputs": [],
   "source": [
    "LGBC_tweak = lgb.LGBMClassifier(objective='multiclass',num_class=15,\n",
    "                         random_state=42069, silent=True,  \n",
    "                         n_jobs=-1,force_col_wise=True,\n",
    "                         lambda_l1=0.6827690914562236,\n",
    "                         max_depth=5,\n",
    "                         n_estimators=134,\n",
    "                         num_leaves=31)"
   ]
  },
  {
   "cell_type": "code",
   "execution_count": 96,
   "metadata": {},
   "outputs": [
    {
     "name": "stdout",
     "output_type": "stream",
     "text": [
      "Time:  24.86710949999997\n"
     ]
    }
   ],
   "source": [
    "start = timeit.default_timer()\n",
    "scores = cross_val_score(LGBC_tweak, X, Y, cv=5, scoring='f1_macro', n_jobs=-1)\n",
    "stop = timeit.default_timer()\n",
    "print('Time: ', stop - start)"
   ]
  },
  {
   "cell_type": "code",
   "execution_count": 97,
   "metadata": {},
   "outputs": [
    {
     "data": {
      "text/plain": [
       "0.3960500109660182"
      ]
     },
     "execution_count": 97,
     "metadata": {},
     "output_type": "execute_result"
    }
   ],
   "source": [
    "np.mean(scores)"
   ]
  },
  {
   "cell_type": "markdown",
   "metadata": {},
   "source": [
    "### Damn. Can't beat it. (Tried many combos)."
   ]
  },
  {
   "cell_type": "code",
   "execution_count": 99,
   "metadata": {},
   "outputs": [],
   "source": [
    "FINAL = lgb.LGBMClassifier(objective='multiclass',num_class=15,\n",
    "                         random_state=42069, silent=True,  \n",
    "                         n_jobs=-1,force_col_wise=True,\n",
    "                         lambda_l1=0.877628744258157,\n",
    "                         max_depth=13,\n",
    "                         n_estimators=164,\n",
    "                         num_leaves=32)"
   ]
  },
  {
   "cell_type": "code",
   "execution_count": 100,
   "metadata": {},
   "outputs": [],
   "source": [
    "FINAL_MODEL = FINAL.fit(X,Y)"
   ]
  },
  {
   "cell_type": "code",
   "execution_count": 102,
   "metadata": {},
   "outputs": [
    {
     "data": {
      "text/plain": [
       "<AxesSubplot:title={'center':'Feature importance'}, xlabel='Feature importance', ylabel='Features'>"
      ]
     },
     "execution_count": 102,
     "metadata": {},
     "output_type": "execute_result"
    },
    {
     "data": {
      "image/png": "[encoded data removed]",
      "text/plain": [
       "<Figure size 432x288 with 1 Axes>"
      ]
     },
     "metadata": {
      "needs_background": "light"
     },
     "output_type": "display_data"
    }
   ],
   "source": [
    "lgb.plot_importance(FINAL_MODEL)"
   ]
  },
  {
   "cell_type": "code",
   "execution_count": 106,
   "metadata": {},
   "outputs": [],
   "source": [
    "X_maybe = X.drop(columns=[\"Weapon_KNIFE\"])"
   ]
  },
  {
   "cell_type": "code",
   "execution_count": 107,
   "metadata": {},
   "outputs": [
    {
     "name": "stdout",
     "output_type": "stream",
     "text": [
      "Time:  33.38617999999997\n"
     ]
    }
   ],
   "source": [
    "start = timeit.default_timer()\n",
    "scores = cross_val_score(FINAL, X_maybe, Y, cv=5, scoring='f1_macro', n_jobs=-1)\n",
    "stop = timeit.default_timer()\n",
    "print('Time: ', stop - start)"
   ]
  },
  {
   "cell_type": "code",
   "execution_count": 108,
   "metadata": {},
   "outputs": [
    {
     "data": {
      "text/plain": [
       "0.39864835449440195"
      ]
     },
     "execution_count": 108,
     "metadata": {},
     "output_type": "execute_result"
    }
   ],
   "source": [
    "np.mean(scores)"
   ]
  },
  {
   "cell_type": "markdown",
   "metadata": {},
   "source": [
    "### Dropping least important features doesn't seem like a good idea. This is it."
   ]
  },
  {
   "cell_type": "code",
   "execution_count": 110,
   "metadata": {},
   "outputs": [
    {
     "data": {
      "text/plain": [
       "<lightgbm.basic.Booster at 0x2b2cd948130>"
      ]
     },
     "execution_count": 110,
     "metadata": {},
     "output_type": "execute_result"
    }
   ],
   "source": [
    "FINAL_MODEL.booster_.save_model(\"MODEL.txt\")"
   ]
  },
  {
   "cell_type": "markdown",
   "metadata": {},
   "source": [
    "# TEST THIS ON NEW DATA"
   ]
  },
  {
   "cell_type": "code",
   "execution_count": 172,
   "metadata": {},
   "outputs": [],
   "source": [
    "bpd_df = pd.read_csv('../data/Test_data_2017-18.csv')"
   ]
  },
  {
   "cell_type": "code",
   "execution_count": 173,
   "metadata": {},
   "outputs": [],
   "source": [
    "bpd_df.CrimeDate = pd.to_datetime(bpd_df.CrimeDate)"
   ]
  },
  {
   "cell_type": "code",
   "execution_count": 174,
   "metadata": {},
   "outputs": [],
   "source": [
    "date = bpd_df.CrimeDate.dt.month*100 + bpd_df.CrimeDate.dt.day\n",
    "bpd_df['Season'] = (pd.cut(date,[0,321,620,922,1220,1300],\n",
    "                       labels=['winter','spring','summer','autumn','winter '])\n",
    "                  .str.strip()\n",
    "               )"
   ]
  },
  {
   "cell_type": "code",
   "execution_count": 175,
   "metadata": {},
   "outputs": [],
   "source": [
    "bpd_df['Month'] = bpd_df.CrimeDate.dt.month"
   ]
  },
  {
   "cell_type": "code",
   "execution_count": 176,
   "metadata": {},
   "outputs": [],
   "source": [
    "bpd_df['CrimeTime'] = [time if time != \"24:00:00\" else \"0:00:00\" for time in bpd_df['CrimeTime']]"
   ]
  },
  {
   "cell_type": "code",
   "execution_count": 177,
   "metadata": {},
   "outputs": [],
   "source": [
    "bpd_df.CrimeTime = pd.to_datetime(bpd_df['CrimeTime'],format= '%H:%M:%S').dt.time"
   ]
  },
  {
   "cell_type": "code",
   "execution_count": 178,
   "metadata": {},
   "outputs": [],
   "source": [
    "bpd_df['Hour'] = [int(str(time)[:2]) for time in bpd_df.CrimeTime]"
   ]
  },
  {
   "cell_type": "code",
   "execution_count": 179,
   "metadata": {},
   "outputs": [],
   "source": [
    "bpd_df['Inside/Outside'] = bpd_df['Inside/Outside'].replace('I', 'Inside')\n",
    "bpd_df['Inside/Outside'] = bpd_df['Inside/Outside'].replace('O', 'Outside')"
   ]
  },
  {
   "cell_type": "code",
   "execution_count": 180,
   "metadata": {},
   "outputs": [
    {
     "name": "stderr",
     "output_type": "stream",
     "text": [
      "<ipython-input-180-f5ecb6ffdff8>:8: SettingWithCopyWarning: \n",
      "A value is trying to be set on a copy of a slice from a DataFrame.\n",
      "Try using .loc[row_indexer,col_indexer] = value instead\n",
      "\n",
      "See the caveats in the documentation: https://pandas.pydata.org/pandas-docs/stable/user_guide/indexing.html#returning-a-view-versus-a-copy\n",
      "  bpd_df[bpd_df['Premise'] == 'SHED/GARAGE']['Premise'] = 'SHED/GARAGE'\n"
     ]
    }
   ],
   "source": [
    "bpd_df['Premise'] = bpd_df['Premise'].replace('Street', 'STREET')\n",
    "bpd_df['Premise'] = bpd_df['Premise'].replace('GARAGE ON', 'SHED/GARAGE')\n",
    "bpd_df['Premise'] = bpd_df['Premise'].replace('GARAGE ON', 'SHED/GARAGE')                           \n",
    "                           \n",
    "\n",
    "bpd_df[bpd_df['Premise'] == 'Street']['Premise'] = 'STREET'\n",
    "bpd_df[bpd_df['Premise'] == 'GARAGE ON']['Premise'] = 'SHED/GARAGE'\n",
    "bpd_df[bpd_df['Premise'] == 'SHED/GARAGE']['Premise'] = 'SHED/GARAGE'\n",
    "bpd_df[bpd_df['Premise'] == 'Garage']['Premise'] = 'SHED/GARAGE'"
   ]
  },
  {
   "cell_type": "code",
   "execution_count": 181,
   "metadata": {},
   "outputs": [],
   "source": [
    "bpd_df['Weapon'] = bpd_df['Weapon'].fillna('NONE')"
   ]
  },
  {
   "cell_type": "code",
   "execution_count": 182,
   "metadata": {},
   "outputs": [],
   "source": [
    "bpd_df = bpd_df.drop(columns=[\"Location\",\"Location 1\"])"
   ]
  },
  {
   "cell_type": "code",
   "execution_count": 183,
   "metadata": {},
   "outputs": [],
   "source": [
    "bpd_df = bpd_df.drop(columns=\"Total Incidents\")"
   ]
  },
  {
   "cell_type": "code",
   "execution_count": 184,
   "metadata": {},
   "outputs": [],
   "source": [
    "bpd_df[\"CrimeDate\"] = pd.to_datetime(bpd_df[\"CrimeDate\"])\n",
    "bpd_df[\"Year\"] = bpd_df[\"CrimeDate\"].dt.year"
   ]
  },
  {
   "cell_type": "code",
   "execution_count": 185,
   "metadata": {},
   "outputs": [],
   "source": [
    "bpd_df = bpd_df.drop(columns=[\"CrimeDate\",\"CrimeTime\"])"
   ]
  },
  {
   "cell_type": "code",
   "execution_count": 186,
   "metadata": {},
   "outputs": [],
   "source": [
    "bpd_df = bpd_df.drop(columns=\"CrimeCode\")"
   ]
  },
  {
   "cell_type": "code",
   "execution_count": 187,
   "metadata": {},
   "outputs": [],
   "source": [
    "Description = pd.read_csv(\"../data/Description_decoder.csv\", header=None)"
   ]
  },
  {
   "cell_type": "code",
   "execution_count": 188,
   "metadata": {},
   "outputs": [
    {
     "data": {
      "text/html": [
       "<div>\n",
       "<style scoped>\n",
       "    .dataframe tbody tr th:only-of-type {\n",
       "        vertical-align: middle;\n",
       "    }\n",
       "\n",
       "    .dataframe tbody tr th {\n",
       "        vertical-align: top;\n",
       "    }\n",
       "\n",
       "    .dataframe thead th {\n",
       "        text-align: right;\n",
       "    }\n",
       "</style>\n",
       "<table border=\"1\" class=\"dataframe\">\n",
       "  <thead>\n",
       "    <tr style=\"text-align: right;\">\n",
       "      <th></th>\n",
       "      <th>0</th>\n",
       "      <th>1</th>\n",
       "    </tr>\n",
       "  </thead>\n",
       "  <tbody>\n",
       "    <tr>\n",
       "      <th>0</th>\n",
       "      <td>AGG. ASSAULT</td>\n",
       "      <td>0</td>\n",
       "    </tr>\n",
       "    <tr>\n",
       "      <th>1</th>\n",
       "      <td>ARSON</td>\n",
       "      <td>1</td>\n",
       "    </tr>\n",
       "    <tr>\n",
       "      <th>2</th>\n",
       "      <td>ASSAULT BY THREAT</td>\n",
       "      <td>2</td>\n",
       "    </tr>\n",
       "    <tr>\n",
       "      <th>3</th>\n",
       "      <td>AUTO THEFT</td>\n",
       "      <td>3</td>\n",
       "    </tr>\n",
       "    <tr>\n",
       "      <th>4</th>\n",
       "      <td>BURGLARY</td>\n",
       "      <td>4</td>\n",
       "    </tr>\n",
       "    <tr>\n",
       "      <th>5</th>\n",
       "      <td>COMMON ASSAULT</td>\n",
       "      <td>5</td>\n",
       "    </tr>\n",
       "    <tr>\n",
       "      <th>6</th>\n",
       "      <td>HOMICIDE</td>\n",
       "      <td>6</td>\n",
       "    </tr>\n",
       "    <tr>\n",
       "      <th>7</th>\n",
       "      <td>LARCENY</td>\n",
       "      <td>7</td>\n",
       "    </tr>\n",
       "    <tr>\n",
       "      <th>8</th>\n",
       "      <td>LARCENY FROM AUTO</td>\n",
       "      <td>8</td>\n",
       "    </tr>\n",
       "    <tr>\n",
       "      <th>9</th>\n",
       "      <td>RAPE</td>\n",
       "      <td>9</td>\n",
       "    </tr>\n",
       "    <tr>\n",
       "      <th>10</th>\n",
       "      <td>ROBBERY - CARJACKING</td>\n",
       "      <td>10</td>\n",
       "    </tr>\n",
       "    <tr>\n",
       "      <th>11</th>\n",
       "      <td>ROBBERY - COMMERCIAL</td>\n",
       "      <td>11</td>\n",
       "    </tr>\n",
       "    <tr>\n",
       "      <th>12</th>\n",
       "      <td>ROBBERY - RESIDENCE</td>\n",
       "      <td>12</td>\n",
       "    </tr>\n",
       "    <tr>\n",
       "      <th>13</th>\n",
       "      <td>ROBBERY - STREET</td>\n",
       "      <td>13</td>\n",
       "    </tr>\n",
       "    <tr>\n",
       "      <th>14</th>\n",
       "      <td>SHOOTING</td>\n",
       "      <td>14</td>\n",
       "    </tr>\n",
       "  </tbody>\n",
       "</table>\n",
       "</div>"
      ],
      "text/plain": [
       "                       0   1\n",
       "0           AGG. ASSAULT   0\n",
       "1                  ARSON   1\n",
       "2      ASSAULT BY THREAT   2\n",
       "3             AUTO THEFT   3\n",
       "4               BURGLARY   4\n",
       "5         COMMON ASSAULT   5\n",
       "6               HOMICIDE   6\n",
       "7                LARCENY   7\n",
       "8      LARCENY FROM AUTO   8\n",
       "9                   RAPE   9\n",
       "10  ROBBERY - CARJACKING  10\n",
       "11  ROBBERY - COMMERCIAL  11\n",
       "12   ROBBERY - RESIDENCE  12\n",
       "13      ROBBERY - STREET  13\n",
       "14              SHOOTING  14"
      ]
     },
     "execution_count": 188,
     "metadata": {},
     "output_type": "execute_result"
    }
   ],
   "source": [
    "Description"
   ]
  },
  {
   "cell_type": "code",
   "execution_count": 189,
   "metadata": {},
   "outputs": [
    {
     "data": {
      "text/plain": [
       "0        LARCENY FROM AUTO\n",
       "1                  LARCENY\n",
       "2                 BURGLARY\n",
       "3         ROBBERY - STREET\n",
       "4                 BURGLARY\n",
       "               ...        \n",
       "65664           AUTO THEFT\n",
       "65665             BURGLARY\n",
       "65666    LARCENY FROM AUTO\n",
       "65667       COMMON ASSAULT\n",
       "65668           AUTO THEFT\n",
       "Name: Description, Length: 65669, dtype: object"
      ]
     },
     "execution_count": 189,
     "metadata": {},
     "output_type": "execute_result"
    }
   ],
   "source": [
    "bpd_df[\"Description\"] "
   ]
  },
  {
   "cell_type": "code",
   "execution_count": 190,
   "metadata": {},
   "outputs": [],
   "source": [
    "from sklearn.preprocessing import LabelEncoder "
   ]
  },
  {
   "cell_type": "code",
   "execution_count": 191,
   "metadata": {},
   "outputs": [],
   "source": [
    "le = LabelEncoder()"
   ]
  },
  {
   "cell_type": "code",
   "execution_count": 192,
   "metadata": {},
   "outputs": [
    {
     "data": {
      "text/plain": [
       "LabelEncoder()"
      ]
     },
     "execution_count": 192,
     "metadata": {},
     "output_type": "execute_result"
    }
   ],
   "source": [
    "le.fit(Description[0])"
   ]
  },
  {
   "cell_type": "code",
   "execution_count": 193,
   "metadata": {},
   "outputs": [
    {
     "data": {
      "text/plain": [
       "array(['AGG. ASSAULT', 'ARSON', 'ASSAULT BY THREAT', 'AUTO THEFT',\n",
       "       'BURGLARY', 'COMMON ASSAULT', 'HOMICIDE', 'LARCENY',\n",
       "       'LARCENY FROM AUTO', 'RAPE', 'ROBBERY - CARJACKING',\n",
       "       'ROBBERY - COMMERCIAL', 'ROBBERY - RESIDENCE', 'ROBBERY - STREET',\n",
       "       'SHOOTING'], dtype=object)"
      ]
     },
     "execution_count": 193,
     "metadata": {},
     "output_type": "execute_result"
    }
   ],
   "source": [
    "le.classes_"
   ]
  },
  {
   "cell_type": "code",
   "execution_count": 194,
   "metadata": {},
   "outputs": [],
   "source": [
    "bpd_df[\"Description\"]=le.transform(bpd_df[\"Description\"])"
   ]
  },
  {
   "cell_type": "code",
   "execution_count": 195,
   "metadata": {},
   "outputs": [],
   "source": [
    "Neigh = pd.read_csv(\"../data/Neighborhood_decoder.csv\", header=None)"
   ]
  },
  {
   "cell_type": "code",
   "execution_count": 196,
   "metadata": {},
   "outputs": [
    {
     "data": {
      "text/plain": [
       "LabelEncoder()"
      ]
     },
     "execution_count": 196,
     "metadata": {},
     "output_type": "execute_result"
    }
   ],
   "source": [
    "le.fit(Neigh[0])"
   ]
  },
  {
   "cell_type": "code",
   "execution_count": 197,
   "metadata": {},
   "outputs": [
    {
     "ename": "ValueError",
     "evalue": "y contains previously unseen labels: 'Mcelderry Park'",
     "output_type": "error",
     "traceback": [
      "\u001B[1;31m---------------------------------------------------------------------------\u001B[0m",
      "\u001B[1;31mKeyError\u001B[0m                                  Traceback (most recent call last)",
      "\u001B[1;32mC:\\ProgramData\\Anaconda3\\lib\\site-packages\\sklearn\\preprocessing\\_label.py\u001B[0m in \u001B[0;36m_encode_python\u001B[1;34m(values, uniques, encode)\u001B[0m\n\u001B[0;32m     65\u001B[0m         \u001B[1;32mtry\u001B[0m\u001B[1;33m:\u001B[0m\u001B[1;33m\u001B[0m\u001B[1;33m\u001B[0m\u001B[0m\n\u001B[1;32m---> 66\u001B[1;33m             \u001B[0mencoded\u001B[0m \u001B[1;33m=\u001B[0m \u001B[0mnp\u001B[0m\u001B[1;33m.\u001B[0m\u001B[0marray\u001B[0m\u001B[1;33m(\u001B[0m\u001B[1;33m[\u001B[0m\u001B[0mtable\u001B[0m\u001B[1;33m[\u001B[0m\u001B[0mv\u001B[0m\u001B[1;33m]\u001B[0m \u001B[1;32mfor\u001B[0m \u001B[0mv\u001B[0m \u001B[1;32min\u001B[0m \u001B[0mvalues\u001B[0m\u001B[1;33m]\u001B[0m\u001B[1;33m)\u001B[0m\u001B[1;33m\u001B[0m\u001B[1;33m\u001B[0m\u001B[0m\n\u001B[0m\u001B[0;32m     67\u001B[0m         \u001B[1;32mexcept\u001B[0m \u001B[0mKeyError\u001B[0m \u001B[1;32mas\u001B[0m \u001B[0me\u001B[0m\u001B[1;33m:\u001B[0m\u001B[1;33m\u001B[0m\u001B[1;33m\u001B[0m\u001B[0m\n",
      "\u001B[1;32mC:\\ProgramData\\Anaconda3\\lib\\site-packages\\sklearn\\preprocessing\\_label.py\u001B[0m in \u001B[0;36m<listcomp>\u001B[1;34m(.0)\u001B[0m\n\u001B[0;32m     65\u001B[0m         \u001B[1;32mtry\u001B[0m\u001B[1;33m:\u001B[0m\u001B[1;33m\u001B[0m\u001B[1;33m\u001B[0m\u001B[0m\n\u001B[1;32m---> 66\u001B[1;33m             \u001B[0mencoded\u001B[0m \u001B[1;33m=\u001B[0m \u001B[0mnp\u001B[0m\u001B[1;33m.\u001B[0m\u001B[0marray\u001B[0m\u001B[1;33m(\u001B[0m\u001B[1;33m[\u001B[0m\u001B[0mtable\u001B[0m\u001B[1;33m[\u001B[0m\u001B[0mv\u001B[0m\u001B[1;33m]\u001B[0m \u001B[1;32mfor\u001B[0m \u001B[0mv\u001B[0m \u001B[1;32min\u001B[0m \u001B[0mvalues\u001B[0m\u001B[1;33m]\u001B[0m\u001B[1;33m)\u001B[0m\u001B[1;33m\u001B[0m\u001B[1;33m\u001B[0m\u001B[0m\n\u001B[0m\u001B[0;32m     67\u001B[0m         \u001B[1;32mexcept\u001B[0m \u001B[0mKeyError\u001B[0m \u001B[1;32mas\u001B[0m \u001B[0me\u001B[0m\u001B[1;33m:\u001B[0m\u001B[1;33m\u001B[0m\u001B[1;33m\u001B[0m\u001B[0m\n",
      "\u001B[1;31mKeyError\u001B[0m: 'Mcelderry Park'",
      "\nDuring handling of the above exception, another exception occurred:\n",
      "\u001B[1;31mValueError\u001B[0m                                Traceback (most recent call last)",
      "\u001B[1;32m<ipython-input-197-3687220436c9>\u001B[0m in \u001B[0;36m<module>\u001B[1;34m\u001B[0m\n\u001B[1;32m----> 1\u001B[1;33m \u001B[0mbpd_df\u001B[0m\u001B[1;33m[\u001B[0m\u001B[1;34m\"Neighborhood\"\u001B[0m\u001B[1;33m]\u001B[0m\u001B[1;33m=\u001B[0m\u001B[0mle\u001B[0m\u001B[1;33m.\u001B[0m\u001B[0mtransform\u001B[0m\u001B[1;33m(\u001B[0m\u001B[0mbpd_df\u001B[0m\u001B[1;33m[\u001B[0m\u001B[1;34m\"Neighborhood\"\u001B[0m\u001B[1;33m]\u001B[0m\u001B[1;33m)\u001B[0m\u001B[1;33m\u001B[0m\u001B[1;33m\u001B[0m\u001B[0m\n\u001B[0m",
      "\u001B[1;32mC:\\ProgramData\\Anaconda3\\lib\\site-packages\\sklearn\\preprocessing\\_label.py\u001B[0m in \u001B[0;36mtransform\u001B[1;34m(self, y)\u001B[0m\n\u001B[0;32m    275\u001B[0m             \u001B[1;32mreturn\u001B[0m \u001B[0mnp\u001B[0m\u001B[1;33m.\u001B[0m\u001B[0marray\u001B[0m\u001B[1;33m(\u001B[0m\u001B[1;33m[\u001B[0m\u001B[1;33m]\u001B[0m\u001B[1;33m)\u001B[0m\u001B[1;33m\u001B[0m\u001B[1;33m\u001B[0m\u001B[0m\n\u001B[0;32m    276\u001B[0m \u001B[1;33m\u001B[0m\u001B[0m\n\u001B[1;32m--> 277\u001B[1;33m         \u001B[0m_\u001B[0m\u001B[1;33m,\u001B[0m \u001B[0my\u001B[0m \u001B[1;33m=\u001B[0m \u001B[0m_encode\u001B[0m\u001B[1;33m(\u001B[0m\u001B[0my\u001B[0m\u001B[1;33m,\u001B[0m \u001B[0muniques\u001B[0m\u001B[1;33m=\u001B[0m\u001B[0mself\u001B[0m\u001B[1;33m.\u001B[0m\u001B[0mclasses_\u001B[0m\u001B[1;33m,\u001B[0m \u001B[0mencode\u001B[0m\u001B[1;33m=\u001B[0m\u001B[1;32mTrue\u001B[0m\u001B[1;33m)\u001B[0m\u001B[1;33m\u001B[0m\u001B[1;33m\u001B[0m\u001B[0m\n\u001B[0m\u001B[0;32m    278\u001B[0m         \u001B[1;32mreturn\u001B[0m \u001B[0my\u001B[0m\u001B[1;33m\u001B[0m\u001B[1;33m\u001B[0m\u001B[0m\n\u001B[0;32m    279\u001B[0m \u001B[1;33m\u001B[0m\u001B[0m\n",
      "\u001B[1;32mC:\\ProgramData\\Anaconda3\\lib\\site-packages\\sklearn\\preprocessing\\_label.py\u001B[0m in \u001B[0;36m_encode\u001B[1;34m(values, uniques, encode, check_unknown)\u001B[0m\n\u001B[0;32m    111\u001B[0m     \u001B[1;32mif\u001B[0m \u001B[0mvalues\u001B[0m\u001B[1;33m.\u001B[0m\u001B[0mdtype\u001B[0m \u001B[1;33m==\u001B[0m \u001B[0mobject\u001B[0m\u001B[1;33m:\u001B[0m\u001B[1;33m\u001B[0m\u001B[1;33m\u001B[0m\u001B[0m\n\u001B[0;32m    112\u001B[0m         \u001B[1;32mtry\u001B[0m\u001B[1;33m:\u001B[0m\u001B[1;33m\u001B[0m\u001B[1;33m\u001B[0m\u001B[0m\n\u001B[1;32m--> 113\u001B[1;33m             \u001B[0mres\u001B[0m \u001B[1;33m=\u001B[0m \u001B[0m_encode_python\u001B[0m\u001B[1;33m(\u001B[0m\u001B[0mvalues\u001B[0m\u001B[1;33m,\u001B[0m \u001B[0muniques\u001B[0m\u001B[1;33m,\u001B[0m \u001B[0mencode\u001B[0m\u001B[1;33m)\u001B[0m\u001B[1;33m\u001B[0m\u001B[1;33m\u001B[0m\u001B[0m\n\u001B[0m\u001B[0;32m    114\u001B[0m         \u001B[1;32mexcept\u001B[0m \u001B[0mTypeError\u001B[0m\u001B[1;33m:\u001B[0m\u001B[1;33m\u001B[0m\u001B[1;33m\u001B[0m\u001B[0m\n\u001B[0;32m    115\u001B[0m             types = sorted(t.__qualname__\n",
      "\u001B[1;32mC:\\ProgramData\\Anaconda3\\lib\\site-packages\\sklearn\\preprocessing\\_label.py\u001B[0m in \u001B[0;36m_encode_python\u001B[1;34m(values, uniques, encode)\u001B[0m\n\u001B[0;32m     66\u001B[0m             \u001B[0mencoded\u001B[0m \u001B[1;33m=\u001B[0m \u001B[0mnp\u001B[0m\u001B[1;33m.\u001B[0m\u001B[0marray\u001B[0m\u001B[1;33m(\u001B[0m\u001B[1;33m[\u001B[0m\u001B[0mtable\u001B[0m\u001B[1;33m[\u001B[0m\u001B[0mv\u001B[0m\u001B[1;33m]\u001B[0m \u001B[1;32mfor\u001B[0m \u001B[0mv\u001B[0m \u001B[1;32min\u001B[0m \u001B[0mvalues\u001B[0m\u001B[1;33m]\u001B[0m\u001B[1;33m)\u001B[0m\u001B[1;33m\u001B[0m\u001B[1;33m\u001B[0m\u001B[0m\n\u001B[0;32m     67\u001B[0m         \u001B[1;32mexcept\u001B[0m \u001B[0mKeyError\u001B[0m \u001B[1;32mas\u001B[0m \u001B[0me\u001B[0m\u001B[1;33m:\u001B[0m\u001B[1;33m\u001B[0m\u001B[1;33m\u001B[0m\u001B[0m\n\u001B[1;32m---> 68\u001B[1;33m             raise ValueError(\"y contains previously unseen labels: %s\"\n\u001B[0m\u001B[0;32m     69\u001B[0m                              % str(e))\n\u001B[0;32m     70\u001B[0m         \u001B[1;32mreturn\u001B[0m \u001B[0muniques\u001B[0m\u001B[1;33m,\u001B[0m \u001B[0mencoded\u001B[0m\u001B[1;33m\u001B[0m\u001B[1;33m\u001B[0m\u001B[0m\n",
      "\u001B[1;31mValueError\u001B[0m: y contains previously unseen labels: 'Mcelderry Park'"
     ]
    }
   ],
   "source": [
    "bpd_df[\"Neighborhood\"]=le.transform(bpd_df[\"Neighborhood\"])"
   ]
  },
  {
   "cell_type": "code",
   "execution_count": 198,
   "metadata": {},
   "outputs": [
    {
     "data": {
      "text/html": [
       "<div>\n",
       "<style scoped>\n",
       "    .dataframe tbody tr th:only-of-type {\n",
       "        vertical-align: middle;\n",
       "    }\n",
       "\n",
       "    .dataframe tbody tr th {\n",
       "        vertical-align: top;\n",
       "    }\n",
       "\n",
       "    .dataframe thead th {\n",
       "        text-align: right;\n",
       "    }\n",
       "</style>\n",
       "<table border=\"1\" class=\"dataframe\">\n",
       "  <thead>\n",
       "    <tr style=\"text-align: right;\">\n",
       "      <th></th>\n",
       "      <th>Description</th>\n",
       "      <th>Inside/Outside</th>\n",
       "      <th>Weapon</th>\n",
       "      <th>Post</th>\n",
       "      <th>District</th>\n",
       "      <th>Neighborhood</th>\n",
       "      <th>Longitude</th>\n",
       "      <th>Latitude</th>\n",
       "      <th>Premise</th>\n",
       "      <th>Season</th>\n",
       "      <th>Month</th>\n",
       "      <th>Hour</th>\n",
       "      <th>Year</th>\n",
       "    </tr>\n",
       "  </thead>\n",
       "  <tbody>\n",
       "    <tr>\n",
       "      <th>20</th>\n",
       "      <td>3</td>\n",
       "      <td>Outside</td>\n",
       "      <td>NONE</td>\n",
       "      <td>221.0</td>\n",
       "      <td>SOUTHEAST</td>\n",
       "      <td>Mcelderry Park</td>\n",
       "      <td>39.2983</td>\n",
       "      <td>-76.5794</td>\n",
       "      <td>STREET</td>\n",
       "      <td>winter</td>\n",
       "      <td>12</td>\n",
       "      <td>0</td>\n",
       "      <td>2018</td>\n",
       "    </tr>\n",
       "    <tr>\n",
       "      <th>69</th>\n",
       "      <td>7</td>\n",
       "      <td>Outside</td>\n",
       "      <td>NONE</td>\n",
       "      <td>333.0</td>\n",
       "      <td>EASTERN</td>\n",
       "      <td>Mcelderry Park</td>\n",
       "      <td>39.2988</td>\n",
       "      <td>-76.5820</td>\n",
       "      <td>STREET</td>\n",
       "      <td>autumn</td>\n",
       "      <td>12</td>\n",
       "      <td>0</td>\n",
       "      <td>2018</td>\n",
       "    </tr>\n",
       "    <tr>\n",
       "      <th>325</th>\n",
       "      <td>4</td>\n",
       "      <td>Inside</td>\n",
       "      <td>NONE</td>\n",
       "      <td>221.0</td>\n",
       "      <td>SOUTHEAST</td>\n",
       "      <td>Mcelderry Park</td>\n",
       "      <td>39.2965</td>\n",
       "      <td>-76.5787</td>\n",
       "      <td>ROW/TOWNHOUSE-OCC</td>\n",
       "      <td>summer</td>\n",
       "      <td>9</td>\n",
       "      <td>0</td>\n",
       "      <td>2018</td>\n",
       "    </tr>\n",
       "    <tr>\n",
       "      <th>407</th>\n",
       "      <td>7</td>\n",
       "      <td>Inside</td>\n",
       "      <td>NONE</td>\n",
       "      <td>221.0</td>\n",
       "      <td>SOUTHEAST</td>\n",
       "      <td>Mcelderry Park</td>\n",
       "      <td>39.2970</td>\n",
       "      <td>-76.5807</td>\n",
       "      <td>ROW/TOWNHOUSE-OCC</td>\n",
       "      <td>summer</td>\n",
       "      <td>8</td>\n",
       "      <td>0</td>\n",
       "      <td>2018</td>\n",
       "    </tr>\n",
       "    <tr>\n",
       "      <th>599</th>\n",
       "      <td>7</td>\n",
       "      <td>Inside</td>\n",
       "      <td>NONE</td>\n",
       "      <td>321.0</td>\n",
       "      <td>EASTERN</td>\n",
       "      <td>Mcelderry Park</td>\n",
       "      <td>39.2967</td>\n",
       "      <td>-76.5849</td>\n",
       "      <td>ROW/TOWNHOUSE-VAC</td>\n",
       "      <td>spring</td>\n",
       "      <td>6</td>\n",
       "      <td>0</td>\n",
       "      <td>2018</td>\n",
       "    </tr>\n",
       "    <tr>\n",
       "      <th>...</th>\n",
       "      <td>...</td>\n",
       "      <td>...</td>\n",
       "      <td>...</td>\n",
       "      <td>...</td>\n",
       "      <td>...</td>\n",
       "      <td>...</td>\n",
       "      <td>...</td>\n",
       "      <td>...</td>\n",
       "      <td>...</td>\n",
       "      <td>...</td>\n",
       "      <td>...</td>\n",
       "      <td>...</td>\n",
       "      <td>...</td>\n",
       "    </tr>\n",
       "    <tr>\n",
       "      <th>65325</th>\n",
       "      <td>5</td>\n",
       "      <td>Inside</td>\n",
       "      <td>NONE</td>\n",
       "      <td>333.0</td>\n",
       "      <td>EASTERN</td>\n",
       "      <td>Mcelderry Park</td>\n",
       "      <td>39.2989</td>\n",
       "      <td>-76.5783</td>\n",
       "      <td>ROW/TOWNHOUSE-OCC</td>\n",
       "      <td>spring</td>\n",
       "      <td>6</td>\n",
       "      <td>23</td>\n",
       "      <td>2018</td>\n",
       "    </tr>\n",
       "    <tr>\n",
       "      <th>65403</th>\n",
       "      <td>13</td>\n",
       "      <td>Outside</td>\n",
       "      <td>FIREARM</td>\n",
       "      <td>221.0</td>\n",
       "      <td>SOUTHEAST</td>\n",
       "      <td>Mcelderry Park</td>\n",
       "      <td>39.2968</td>\n",
       "      <td>-76.5822</td>\n",
       "      <td>STREET</td>\n",
       "      <td>winter</td>\n",
       "      <td>2</td>\n",
       "      <td>23</td>\n",
       "      <td>2018</td>\n",
       "    </tr>\n",
       "    <tr>\n",
       "      <th>65415</th>\n",
       "      <td>0</td>\n",
       "      <td>Outside</td>\n",
       "      <td>HANDS</td>\n",
       "      <td>221.0</td>\n",
       "      <td>SOUTHEAST</td>\n",
       "      <td>Mcelderry Park</td>\n",
       "      <td>39.2963</td>\n",
       "      <td>-76.5772</td>\n",
       "      <td>STREET</td>\n",
       "      <td>autumn</td>\n",
       "      <td>12</td>\n",
       "      <td>23</td>\n",
       "      <td>2018</td>\n",
       "    </tr>\n",
       "    <tr>\n",
       "      <th>65431</th>\n",
       "      <td>0</td>\n",
       "      <td>Inside</td>\n",
       "      <td>OTHER</td>\n",
       "      <td>221.0</td>\n",
       "      <td>SOUTHEAST</td>\n",
       "      <td>Mcelderry Park</td>\n",
       "      <td>39.2950</td>\n",
       "      <td>-76.5777</td>\n",
       "      <td>ROW/TOWNHOUSE-OCC</td>\n",
       "      <td>summer</td>\n",
       "      <td>9</td>\n",
       "      <td>23</td>\n",
       "      <td>2018</td>\n",
       "    </tr>\n",
       "    <tr>\n",
       "      <th>65477</th>\n",
       "      <td>7</td>\n",
       "      <td>NaN</td>\n",
       "      <td>NONE</td>\n",
       "      <td>221.0</td>\n",
       "      <td>SOUTHEAST</td>\n",
       "      <td>Mcelderry Park</td>\n",
       "      <td>39.2949</td>\n",
       "      <td>-76.5792</td>\n",
       "      <td>NaN</td>\n",
       "      <td>winter</td>\n",
       "      <td>12</td>\n",
       "      <td>23</td>\n",
       "      <td>2017</td>\n",
       "    </tr>\n",
       "  </tbody>\n",
       "</table>\n",
       "<p>752 rows × 13 columns</p>\n",
       "</div>"
      ],
      "text/plain": [
       "       Description Inside/Outside   Weapon   Post   District    Neighborhood  \\\n",
       "20               3        Outside     NONE  221.0  SOUTHEAST  Mcelderry Park   \n",
       "69               7        Outside     NONE  333.0    EASTERN  Mcelderry Park   \n",
       "325              4         Inside     NONE  221.0  SOUTHEAST  Mcelderry Park   \n",
       "407              7         Inside     NONE  221.0  SOUTHEAST  Mcelderry Park   \n",
       "599              7         Inside     NONE  321.0    EASTERN  Mcelderry Park   \n",
       "...            ...            ...      ...    ...        ...             ...   \n",
       "65325            5         Inside     NONE  333.0    EASTERN  Mcelderry Park   \n",
       "65403           13        Outside  FIREARM  221.0  SOUTHEAST  Mcelderry Park   \n",
       "65415            0        Outside    HANDS  221.0  SOUTHEAST  Mcelderry Park   \n",
       "65431            0         Inside    OTHER  221.0  SOUTHEAST  Mcelderry Park   \n",
       "65477            7            NaN     NONE  221.0  SOUTHEAST  Mcelderry Park   \n",
       "\n",
       "       Longitude  Latitude               Premise  Season  Month  Hour  Year  \n",
       "20       39.2983  -76.5794  STREET                winter     12     0  2018  \n",
       "69       39.2988  -76.5820  STREET                autumn     12     0  2018  \n",
       "325      39.2965  -76.5787     ROW/TOWNHOUSE-OCC  summer      9     0  2018  \n",
       "407      39.2970  -76.5807     ROW/TOWNHOUSE-OCC  summer      8     0  2018  \n",
       "599      39.2967  -76.5849     ROW/TOWNHOUSE-VAC  spring      6     0  2018  \n",
       "...          ...       ...                   ...     ...    ...   ...   ...  \n",
       "65325    39.2989  -76.5783     ROW/TOWNHOUSE-OCC  spring      6    23  2018  \n",
       "65403    39.2968  -76.5822  STREET                winter      2    23  2018  \n",
       "65415    39.2963  -76.5772  STREET                autumn     12    23  2018  \n",
       "65431    39.2950  -76.5777     ROW/TOWNHOUSE-OCC  summer      9    23  2018  \n",
       "65477    39.2949  -76.5792                   NaN  winter     12    23  2017  \n",
       "\n",
       "[752 rows x 13 columns]"
      ]
     },
     "execution_count": 198,
     "metadata": {},
     "output_type": "execute_result"
    }
   ],
   "source": [
    "bpd_df[bpd_df[\"Neighborhood\"]==\"Mcelderry Park\"]"
   ]
  },
  {
   "cell_type": "markdown",
   "metadata": {},
   "source": [
    "### Gotta drop these"
   ]
  },
  {
   "cell_type": "markdown",
   "metadata": {},
   "source": [
    "### The sad thing is that there are many new neighborhoods with crime that were not there or did not have crime in previous years. We need to drop these to make the predictions work. Something to consider when retraining the model in the future."
   ]
  },
  {
   "cell_type": "code",
   "execution_count": 199,
   "metadata": {},
   "outputs": [],
   "source": [
    "bpd_df = bpd_df[bpd_df[\"Neighborhood\"].isin(Neigh[0])]"
   ]
  },
  {
   "cell_type": "code",
   "execution_count": 200,
   "metadata": {},
   "outputs": [],
   "source": [
    "bpd_df[\"Neighborhood\"]=le.transform(bpd_df[\"Neighborhood\"])"
   ]
  },
  {
   "cell_type": "code",
   "execution_count": 201,
   "metadata": {},
   "outputs": [],
   "source": [
    "Premise = pd.read_csv(\"../data/Premise_decoder.csv\", header=None)"
   ]
  },
  {
   "cell_type": "code",
   "execution_count": 202,
   "metadata": {},
   "outputs": [
    {
     "data": {
      "text/plain": [
       "LabelEncoder()"
      ]
     },
     "execution_count": 202,
     "metadata": {},
     "output_type": "execute_result"
    }
   ],
   "source": [
    "le.fit(Premise[0])"
   ]
  },
  {
   "cell_type": "code",
   "execution_count": 203,
   "metadata": {},
   "outputs": [
    {
     "ename": "ValueError",
     "evalue": "y contains previously unseen labels: nan",
     "output_type": "error",
     "traceback": [
      "\u001B[1;31m---------------------------------------------------------------------------\u001B[0m",
      "\u001B[1;31mKeyError\u001B[0m                                  Traceback (most recent call last)",
      "\u001B[1;32mC:\\ProgramData\\Anaconda3\\lib\\site-packages\\sklearn\\preprocessing\\_label.py\u001B[0m in \u001B[0;36m_encode_python\u001B[1;34m(values, uniques, encode)\u001B[0m\n\u001B[0;32m     65\u001B[0m         \u001B[1;32mtry\u001B[0m\u001B[1;33m:\u001B[0m\u001B[1;33m\u001B[0m\u001B[1;33m\u001B[0m\u001B[0m\n\u001B[1;32m---> 66\u001B[1;33m             \u001B[0mencoded\u001B[0m \u001B[1;33m=\u001B[0m \u001B[0mnp\u001B[0m\u001B[1;33m.\u001B[0m\u001B[0marray\u001B[0m\u001B[1;33m(\u001B[0m\u001B[1;33m[\u001B[0m\u001B[0mtable\u001B[0m\u001B[1;33m[\u001B[0m\u001B[0mv\u001B[0m\u001B[1;33m]\u001B[0m \u001B[1;32mfor\u001B[0m \u001B[0mv\u001B[0m \u001B[1;32min\u001B[0m \u001B[0mvalues\u001B[0m\u001B[1;33m]\u001B[0m\u001B[1;33m)\u001B[0m\u001B[1;33m\u001B[0m\u001B[1;33m\u001B[0m\u001B[0m\n\u001B[0m\u001B[0;32m     67\u001B[0m         \u001B[1;32mexcept\u001B[0m \u001B[0mKeyError\u001B[0m \u001B[1;32mas\u001B[0m \u001B[0me\u001B[0m\u001B[1;33m:\u001B[0m\u001B[1;33m\u001B[0m\u001B[1;33m\u001B[0m\u001B[0m\n",
      "\u001B[1;32mC:\\ProgramData\\Anaconda3\\lib\\site-packages\\sklearn\\preprocessing\\_label.py\u001B[0m in \u001B[0;36m<listcomp>\u001B[1;34m(.0)\u001B[0m\n\u001B[0;32m     65\u001B[0m         \u001B[1;32mtry\u001B[0m\u001B[1;33m:\u001B[0m\u001B[1;33m\u001B[0m\u001B[1;33m\u001B[0m\u001B[0m\n\u001B[1;32m---> 66\u001B[1;33m             \u001B[0mencoded\u001B[0m \u001B[1;33m=\u001B[0m \u001B[0mnp\u001B[0m\u001B[1;33m.\u001B[0m\u001B[0marray\u001B[0m\u001B[1;33m(\u001B[0m\u001B[1;33m[\u001B[0m\u001B[0mtable\u001B[0m\u001B[1;33m[\u001B[0m\u001B[0mv\u001B[0m\u001B[1;33m]\u001B[0m \u001B[1;32mfor\u001B[0m \u001B[0mv\u001B[0m \u001B[1;32min\u001B[0m \u001B[0mvalues\u001B[0m\u001B[1;33m]\u001B[0m\u001B[1;33m)\u001B[0m\u001B[1;33m\u001B[0m\u001B[1;33m\u001B[0m\u001B[0m\n\u001B[0m\u001B[0;32m     67\u001B[0m         \u001B[1;32mexcept\u001B[0m \u001B[0mKeyError\u001B[0m \u001B[1;32mas\u001B[0m \u001B[0me\u001B[0m\u001B[1;33m:\u001B[0m\u001B[1;33m\u001B[0m\u001B[1;33m\u001B[0m\u001B[0m\n",
      "\u001B[1;31mKeyError\u001B[0m: nan",
      "\nDuring handling of the above exception, another exception occurred:\n",
      "\u001B[1;31mValueError\u001B[0m                                Traceback (most recent call last)",
      "\u001B[1;32m<ipython-input-203-0f7847ceee43>\u001B[0m in \u001B[0;36m<module>\u001B[1;34m\u001B[0m\n\u001B[1;32m----> 1\u001B[1;33m \u001B[0mbpd_df\u001B[0m\u001B[1;33m[\u001B[0m\u001B[1;34m\"Premise\"\u001B[0m\u001B[1;33m]\u001B[0m\u001B[1;33m=\u001B[0m\u001B[0mle\u001B[0m\u001B[1;33m.\u001B[0m\u001B[0mtransform\u001B[0m\u001B[1;33m(\u001B[0m\u001B[0mbpd_df\u001B[0m\u001B[1;33m[\u001B[0m\u001B[1;34m\"Premise\"\u001B[0m\u001B[1;33m]\u001B[0m\u001B[1;33m)\u001B[0m\u001B[1;33m\u001B[0m\u001B[1;33m\u001B[0m\u001B[0m\n\u001B[0m",
      "\u001B[1;32mC:\\ProgramData\\Anaconda3\\lib\\site-packages\\sklearn\\preprocessing\\_label.py\u001B[0m in \u001B[0;36mtransform\u001B[1;34m(self, y)\u001B[0m\n\u001B[0;32m    275\u001B[0m             \u001B[1;32mreturn\u001B[0m \u001B[0mnp\u001B[0m\u001B[1;33m.\u001B[0m\u001B[0marray\u001B[0m\u001B[1;33m(\u001B[0m\u001B[1;33m[\u001B[0m\u001B[1;33m]\u001B[0m\u001B[1;33m)\u001B[0m\u001B[1;33m\u001B[0m\u001B[1;33m\u001B[0m\u001B[0m\n\u001B[0;32m    276\u001B[0m \u001B[1;33m\u001B[0m\u001B[0m\n\u001B[1;32m--> 277\u001B[1;33m         \u001B[0m_\u001B[0m\u001B[1;33m,\u001B[0m \u001B[0my\u001B[0m \u001B[1;33m=\u001B[0m \u001B[0m_encode\u001B[0m\u001B[1;33m(\u001B[0m\u001B[0my\u001B[0m\u001B[1;33m,\u001B[0m \u001B[0muniques\u001B[0m\u001B[1;33m=\u001B[0m\u001B[0mself\u001B[0m\u001B[1;33m.\u001B[0m\u001B[0mclasses_\u001B[0m\u001B[1;33m,\u001B[0m \u001B[0mencode\u001B[0m\u001B[1;33m=\u001B[0m\u001B[1;32mTrue\u001B[0m\u001B[1;33m)\u001B[0m\u001B[1;33m\u001B[0m\u001B[1;33m\u001B[0m\u001B[0m\n\u001B[0m\u001B[0;32m    278\u001B[0m         \u001B[1;32mreturn\u001B[0m \u001B[0my\u001B[0m\u001B[1;33m\u001B[0m\u001B[1;33m\u001B[0m\u001B[0m\n\u001B[0;32m    279\u001B[0m \u001B[1;33m\u001B[0m\u001B[0m\n",
      "\u001B[1;32mC:\\ProgramData\\Anaconda3\\lib\\site-packages\\sklearn\\preprocessing\\_label.py\u001B[0m in \u001B[0;36m_encode\u001B[1;34m(values, uniques, encode, check_unknown)\u001B[0m\n\u001B[0;32m    111\u001B[0m     \u001B[1;32mif\u001B[0m \u001B[0mvalues\u001B[0m\u001B[1;33m.\u001B[0m\u001B[0mdtype\u001B[0m \u001B[1;33m==\u001B[0m \u001B[0mobject\u001B[0m\u001B[1;33m:\u001B[0m\u001B[1;33m\u001B[0m\u001B[1;33m\u001B[0m\u001B[0m\n\u001B[0;32m    112\u001B[0m         \u001B[1;32mtry\u001B[0m\u001B[1;33m:\u001B[0m\u001B[1;33m\u001B[0m\u001B[1;33m\u001B[0m\u001B[0m\n\u001B[1;32m--> 113\u001B[1;33m             \u001B[0mres\u001B[0m \u001B[1;33m=\u001B[0m \u001B[0m_encode_python\u001B[0m\u001B[1;33m(\u001B[0m\u001B[0mvalues\u001B[0m\u001B[1;33m,\u001B[0m \u001B[0muniques\u001B[0m\u001B[1;33m,\u001B[0m \u001B[0mencode\u001B[0m\u001B[1;33m)\u001B[0m\u001B[1;33m\u001B[0m\u001B[1;33m\u001B[0m\u001B[0m\n\u001B[0m\u001B[0;32m    114\u001B[0m         \u001B[1;32mexcept\u001B[0m \u001B[0mTypeError\u001B[0m\u001B[1;33m:\u001B[0m\u001B[1;33m\u001B[0m\u001B[1;33m\u001B[0m\u001B[0m\n\u001B[0;32m    115\u001B[0m             types = sorted(t.__qualname__\n",
      "\u001B[1;32mC:\\ProgramData\\Anaconda3\\lib\\site-packages\\sklearn\\preprocessing\\_label.py\u001B[0m in \u001B[0;36m_encode_python\u001B[1;34m(values, uniques, encode)\u001B[0m\n\u001B[0;32m     66\u001B[0m             \u001B[0mencoded\u001B[0m \u001B[1;33m=\u001B[0m \u001B[0mnp\u001B[0m\u001B[1;33m.\u001B[0m\u001B[0marray\u001B[0m\u001B[1;33m(\u001B[0m\u001B[1;33m[\u001B[0m\u001B[0mtable\u001B[0m\u001B[1;33m[\u001B[0m\u001B[0mv\u001B[0m\u001B[1;33m]\u001B[0m \u001B[1;32mfor\u001B[0m \u001B[0mv\u001B[0m \u001B[1;32min\u001B[0m \u001B[0mvalues\u001B[0m\u001B[1;33m]\u001B[0m\u001B[1;33m)\u001B[0m\u001B[1;33m\u001B[0m\u001B[1;33m\u001B[0m\u001B[0m\n\u001B[0;32m     67\u001B[0m         \u001B[1;32mexcept\u001B[0m \u001B[0mKeyError\u001B[0m \u001B[1;32mas\u001B[0m \u001B[0me\u001B[0m\u001B[1;33m:\u001B[0m\u001B[1;33m\u001B[0m\u001B[1;33m\u001B[0m\u001B[0m\n\u001B[1;32m---> 68\u001B[1;33m             raise ValueError(\"y contains previously unseen labels: %s\"\n\u001B[0m\u001B[0;32m     69\u001B[0m                              % str(e))\n\u001B[0;32m     70\u001B[0m         \u001B[1;32mreturn\u001B[0m \u001B[0muniques\u001B[0m\u001B[1;33m,\u001B[0m \u001B[0mencoded\u001B[0m\u001B[1;33m\u001B[0m\u001B[1;33m\u001B[0m\u001B[0m\n",
      "\u001B[1;31mValueError\u001B[0m: y contains previously unseen labels: nan"
     ]
    }
   ],
   "source": [
    "bpd_df[\"Premise\"]=le.transform(bpd_df[\"Premise\"])"
   ]
  },
  {
   "cell_type": "code",
   "execution_count": 204,
   "metadata": {},
   "outputs": [],
   "source": [
    "bpd_df = bpd_df[bpd_df[\"Premise\"].notna()]"
   ]
  },
  {
   "cell_type": "code",
   "execution_count": 205,
   "metadata": {},
   "outputs": [
    {
     "ename": "ValueError",
     "evalue": "y contains previously unseen labels: 'STREET              '",
     "output_type": "error",
     "traceback": [
      "\u001B[1;31m---------------------------------------------------------------------------\u001B[0m",
      "\u001B[1;31mKeyError\u001B[0m                                  Traceback (most recent call last)",
      "\u001B[1;32mC:\\ProgramData\\Anaconda3\\lib\\site-packages\\sklearn\\preprocessing\\_label.py\u001B[0m in \u001B[0;36m_encode_python\u001B[1;34m(values, uniques, encode)\u001B[0m\n\u001B[0;32m     65\u001B[0m         \u001B[1;32mtry\u001B[0m\u001B[1;33m:\u001B[0m\u001B[1;33m\u001B[0m\u001B[1;33m\u001B[0m\u001B[0m\n\u001B[1;32m---> 66\u001B[1;33m             \u001B[0mencoded\u001B[0m \u001B[1;33m=\u001B[0m \u001B[0mnp\u001B[0m\u001B[1;33m.\u001B[0m\u001B[0marray\u001B[0m\u001B[1;33m(\u001B[0m\u001B[1;33m[\u001B[0m\u001B[0mtable\u001B[0m\u001B[1;33m[\u001B[0m\u001B[0mv\u001B[0m\u001B[1;33m]\u001B[0m \u001B[1;32mfor\u001B[0m \u001B[0mv\u001B[0m \u001B[1;32min\u001B[0m \u001B[0mvalues\u001B[0m\u001B[1;33m]\u001B[0m\u001B[1;33m)\u001B[0m\u001B[1;33m\u001B[0m\u001B[1;33m\u001B[0m\u001B[0m\n\u001B[0m\u001B[0;32m     67\u001B[0m         \u001B[1;32mexcept\u001B[0m \u001B[0mKeyError\u001B[0m \u001B[1;32mas\u001B[0m \u001B[0me\u001B[0m\u001B[1;33m:\u001B[0m\u001B[1;33m\u001B[0m\u001B[1;33m\u001B[0m\u001B[0m\n",
      "\u001B[1;32mC:\\ProgramData\\Anaconda3\\lib\\site-packages\\sklearn\\preprocessing\\_label.py\u001B[0m in \u001B[0;36m<listcomp>\u001B[1;34m(.0)\u001B[0m\n\u001B[0;32m     65\u001B[0m         \u001B[1;32mtry\u001B[0m\u001B[1;33m:\u001B[0m\u001B[1;33m\u001B[0m\u001B[1;33m\u001B[0m\u001B[0m\n\u001B[1;32m---> 66\u001B[1;33m             \u001B[0mencoded\u001B[0m \u001B[1;33m=\u001B[0m \u001B[0mnp\u001B[0m\u001B[1;33m.\u001B[0m\u001B[0marray\u001B[0m\u001B[1;33m(\u001B[0m\u001B[1;33m[\u001B[0m\u001B[0mtable\u001B[0m\u001B[1;33m[\u001B[0m\u001B[0mv\u001B[0m\u001B[1;33m]\u001B[0m \u001B[1;32mfor\u001B[0m \u001B[0mv\u001B[0m \u001B[1;32min\u001B[0m \u001B[0mvalues\u001B[0m\u001B[1;33m]\u001B[0m\u001B[1;33m)\u001B[0m\u001B[1;33m\u001B[0m\u001B[1;33m\u001B[0m\u001B[0m\n\u001B[0m\u001B[0;32m     67\u001B[0m         \u001B[1;32mexcept\u001B[0m \u001B[0mKeyError\u001B[0m \u001B[1;32mas\u001B[0m \u001B[0me\u001B[0m\u001B[1;33m:\u001B[0m\u001B[1;33m\u001B[0m\u001B[1;33m\u001B[0m\u001B[0m\n",
      "\u001B[1;31mKeyError\u001B[0m: 'STREET              '",
      "\nDuring handling of the above exception, another exception occurred:\n",
      "\u001B[1;31mValueError\u001B[0m                                Traceback (most recent call last)",
      "\u001B[1;32m<ipython-input-205-0f7847ceee43>\u001B[0m in \u001B[0;36m<module>\u001B[1;34m\u001B[0m\n\u001B[1;32m----> 1\u001B[1;33m \u001B[0mbpd_df\u001B[0m\u001B[1;33m[\u001B[0m\u001B[1;34m\"Premise\"\u001B[0m\u001B[1;33m]\u001B[0m\u001B[1;33m=\u001B[0m\u001B[0mle\u001B[0m\u001B[1;33m.\u001B[0m\u001B[0mtransform\u001B[0m\u001B[1;33m(\u001B[0m\u001B[0mbpd_df\u001B[0m\u001B[1;33m[\u001B[0m\u001B[1;34m\"Premise\"\u001B[0m\u001B[1;33m]\u001B[0m\u001B[1;33m)\u001B[0m\u001B[1;33m\u001B[0m\u001B[1;33m\u001B[0m\u001B[0m\n\u001B[0m",
      "\u001B[1;32mC:\\ProgramData\\Anaconda3\\lib\\site-packages\\sklearn\\preprocessing\\_label.py\u001B[0m in \u001B[0;36mtransform\u001B[1;34m(self, y)\u001B[0m\n\u001B[0;32m    275\u001B[0m             \u001B[1;32mreturn\u001B[0m \u001B[0mnp\u001B[0m\u001B[1;33m.\u001B[0m\u001B[0marray\u001B[0m\u001B[1;33m(\u001B[0m\u001B[1;33m[\u001B[0m\u001B[1;33m]\u001B[0m\u001B[1;33m)\u001B[0m\u001B[1;33m\u001B[0m\u001B[1;33m\u001B[0m\u001B[0m\n\u001B[0;32m    276\u001B[0m \u001B[1;33m\u001B[0m\u001B[0m\n\u001B[1;32m--> 277\u001B[1;33m         \u001B[0m_\u001B[0m\u001B[1;33m,\u001B[0m \u001B[0my\u001B[0m \u001B[1;33m=\u001B[0m \u001B[0m_encode\u001B[0m\u001B[1;33m(\u001B[0m\u001B[0my\u001B[0m\u001B[1;33m,\u001B[0m \u001B[0muniques\u001B[0m\u001B[1;33m=\u001B[0m\u001B[0mself\u001B[0m\u001B[1;33m.\u001B[0m\u001B[0mclasses_\u001B[0m\u001B[1;33m,\u001B[0m \u001B[0mencode\u001B[0m\u001B[1;33m=\u001B[0m\u001B[1;32mTrue\u001B[0m\u001B[1;33m)\u001B[0m\u001B[1;33m\u001B[0m\u001B[1;33m\u001B[0m\u001B[0m\n\u001B[0m\u001B[0;32m    278\u001B[0m         \u001B[1;32mreturn\u001B[0m \u001B[0my\u001B[0m\u001B[1;33m\u001B[0m\u001B[1;33m\u001B[0m\u001B[0m\n\u001B[0;32m    279\u001B[0m \u001B[1;33m\u001B[0m\u001B[0m\n",
      "\u001B[1;32mC:\\ProgramData\\Anaconda3\\lib\\site-packages\\sklearn\\preprocessing\\_label.py\u001B[0m in \u001B[0;36m_encode\u001B[1;34m(values, uniques, encode, check_unknown)\u001B[0m\n\u001B[0;32m    111\u001B[0m     \u001B[1;32mif\u001B[0m \u001B[0mvalues\u001B[0m\u001B[1;33m.\u001B[0m\u001B[0mdtype\u001B[0m \u001B[1;33m==\u001B[0m \u001B[0mobject\u001B[0m\u001B[1;33m:\u001B[0m\u001B[1;33m\u001B[0m\u001B[1;33m\u001B[0m\u001B[0m\n\u001B[0;32m    112\u001B[0m         \u001B[1;32mtry\u001B[0m\u001B[1;33m:\u001B[0m\u001B[1;33m\u001B[0m\u001B[1;33m\u001B[0m\u001B[0m\n\u001B[1;32m--> 113\u001B[1;33m             \u001B[0mres\u001B[0m \u001B[1;33m=\u001B[0m \u001B[0m_encode_python\u001B[0m\u001B[1;33m(\u001B[0m\u001B[0mvalues\u001B[0m\u001B[1;33m,\u001B[0m \u001B[0muniques\u001B[0m\u001B[1;33m,\u001B[0m \u001B[0mencode\u001B[0m\u001B[1;33m)\u001B[0m\u001B[1;33m\u001B[0m\u001B[1;33m\u001B[0m\u001B[0m\n\u001B[0m\u001B[0;32m    114\u001B[0m         \u001B[1;32mexcept\u001B[0m \u001B[0mTypeError\u001B[0m\u001B[1;33m:\u001B[0m\u001B[1;33m\u001B[0m\u001B[1;33m\u001B[0m\u001B[0m\n\u001B[0;32m    115\u001B[0m             types = sorted(t.__qualname__\n",
      "\u001B[1;32mC:\\ProgramData\\Anaconda3\\lib\\site-packages\\sklearn\\preprocessing\\_label.py\u001B[0m in \u001B[0;36m_encode_python\u001B[1;34m(values, uniques, encode)\u001B[0m\n\u001B[0;32m     66\u001B[0m             \u001B[0mencoded\u001B[0m \u001B[1;33m=\u001B[0m \u001B[0mnp\u001B[0m\u001B[1;33m.\u001B[0m\u001B[0marray\u001B[0m\u001B[1;33m(\u001B[0m\u001B[1;33m[\u001B[0m\u001B[0mtable\u001B[0m\u001B[1;33m[\u001B[0m\u001B[0mv\u001B[0m\u001B[1;33m]\u001B[0m \u001B[1;32mfor\u001B[0m \u001B[0mv\u001B[0m \u001B[1;32min\u001B[0m \u001B[0mvalues\u001B[0m\u001B[1;33m]\u001B[0m\u001B[1;33m)\u001B[0m\u001B[1;33m\u001B[0m\u001B[1;33m\u001B[0m\u001B[0m\n\u001B[0;32m     67\u001B[0m         \u001B[1;32mexcept\u001B[0m \u001B[0mKeyError\u001B[0m \u001B[1;32mas\u001B[0m \u001B[0me\u001B[0m\u001B[1;33m:\u001B[0m\u001B[1;33m\u001B[0m\u001B[1;33m\u001B[0m\u001B[0m\n\u001B[1;32m---> 68\u001B[1;33m             raise ValueError(\"y contains previously unseen labels: %s\"\n\u001B[0m\u001B[0;32m     69\u001B[0m                              % str(e))\n\u001B[0;32m     70\u001B[0m         \u001B[1;32mreturn\u001B[0m \u001B[0muniques\u001B[0m\u001B[1;33m,\u001B[0m \u001B[0mencoded\u001B[0m\u001B[1;33m\u001B[0m\u001B[1;33m\u001B[0m\u001B[0m\n",
      "\u001B[1;31mValueError\u001B[0m: y contains previously unseen labels: 'STREET              '"
     ]
    }
   ],
   "source": [
    "bpd_df[\"Premise\"]=le.transform(bpd_df[\"Premise\"])"
   ]
  },
  {
   "cell_type": "code",
   "execution_count": 206,
   "metadata": {},
   "outputs": [],
   "source": [
    "bpd_df['Premise'] = bpd_df['Premise'].replace('STREET              ', 'STREET')"
   ]
  },
  {
   "cell_type": "code",
   "execution_count": 207,
   "metadata": {},
   "outputs": [
    {
     "data": {
      "text/plain": [
       "array(['STREET', 'ROW/TOWNHOUSE-OCC', 'HOTEL/MOTEL         ',\n",
       "       'OTHER - INSIDE      ', 'ROW/TOWNHOUSE-VAC',\n",
       "       'RETAIL/SMALL BUSINES', 'APT/CONDO - OCCUPIED',\n",
       "       'PARKING LOT-OUTSIDE ', 'PORCH/DECK          ',\n",
       "       'GARAGE ON PRIV. PROP', 'RELIGIOUS  INSTITUTI',\n",
       "       'OTHER - OUTSIDE     ', 'SCHOOL              ', 'VACANT BUILDING',\n",
       "       'SHED/GARAGE', 'OTHER/RESIDENTIAL', 'YARD', 'YARD/BUSINESS',\n",
       "       'VEHICLE', 'FAST FOOD', 'POLICE DEPARTMENT   ',\n",
       "       'GAS STATION         ', 'DRIVEWAY', 'RESTAURANT',\n",
       "       'RECREATION FACILITY', 'BAR', 'SHOPPING MALLS/CNTR ',\n",
       "       'HOSP/NURS. HOME', 'PARK', 'ALLEY', 'PARKING LOT',\n",
       "       'DRUG STORE / MED  BL', 'CONVENIENCE STORE',\n",
       "       'LAUNDRY/CLEANRS/SHOE', 'PUBLIC HOUSING', 'SINGLE HOUSE',\n",
       "       'BUS.  STORAGE SHED', 'CAR  REPAIR SHOP    ', 'DWELLING',\n",
       "       'BUS/AUTO            ', 'LIQUOR STORE        ', 'OFFICE BUILDING',\n",
       "       'BANK/FINANCIAL INST', 'BARBER/BEAUTY SHOP  ', 'CAR LOT-NEW/USED',\n",
       "       'WHOLESALE/DISC. STOR', 'GROCERY/CONFECTION ',\n",
       "       'JEWELRY STORE       ', 'SPECIALTY STORE     ', 'UNKNOWN',\n",
       "       'PUBLIC AREA', 'CARRY OUT', 'PARKING LOT-INSIDE  ', 'GARAGE',\n",
       "       'PUBLIC BUILDING', 'VACANT LOT/WOODS    ', 'INNER HARBOR-S-KEY  ',\n",
       "       'CLOTHING/SHOE STORE ', 'COMMON BUSINESS', \"BOX CARS/COMM'L TRLR\",\n",
       "       'MARKET STALLS       ', 'HOSPITAL', 'CLUB HOUSE/FRATERNIT',\n",
       "       'BOAT/SHIP           ', 'INNER HARBOR-W-LIGHT',\n",
       "       'BUS/RAILROAD STATION', 'TAVERN/NIGHT CLUB   ',\n",
       "       'INNER HARBOR-N-PRATT', 'PIZZA/OTHER DELIVERY',\n",
       "       'STADIUM             ', 'SHED', 'BUS. PARK LOT-OUTSID',\n",
       "       'LIBRARY             ', 'APARTMENT HALLWAY   ',\n",
       "       'WAREHOUSE           ', 'PENITENTIARY/JAIL   ',\n",
       "       'BAKERY              ', 'CHAIN FOOD STORE    ', 'VACANT DWELLING',\n",
       "       'CONSTRUCTION SITE', 'FINANCE/LOAN COMPANY',\n",
       "       'PLAYGROUND/ATHLETIC ', 'AUTO PARTS STORE    ', 'DEPARTMENT STORE',\n",
       "       'DOCTORS OFFICE      ', 'CONVENTION CENTER',\n",
       "       'HOUSE UNDER CONSTRUC', 'RACE TRACK          ',\n",
       "       'DAY CARE FACILITY', 'FIRE DEPARTMENT     ',\n",
       "       'LIGHT RAIL          ', 'SCHOOL PLAYGROUND   ',\n",
       "       'SALESMAN/COLLECTORS ', 'COURT HOUSE         ',\n",
       "       'APT/CONDO - VACANT', 'APT. LOCKER/LAUNDRY',\n",
       "       'CEMETERY            ', 'HARDWARE/BLDG. SUP. ',\n",
       "       'BLDG UNDER CONST.', 'PAWN SHOP           ',\n",
       "       'BUS. PARK LOT-INSIDE', 'ATM MACHINES        ',\n",
       "       'MAILBOX-STREET/RES. ', 'THEATRE             ', 'PUBLIC SCHOOL',\n",
       "       'RENTAL/VIDEO STORE  ', 'MINI STORAGE LOCKERS',\n",
       "       'PHOTO STUDIO/CAMERA ', 'BRIDGE-PIERS-DOCKS  ', 'CAB',\n",
       "       'MANUFACTURING PLANT ', 'MOBILE HOME'], dtype=object)"
      ]
     },
     "execution_count": 207,
     "metadata": {},
     "output_type": "execute_result"
    }
   ],
   "source": [
    "bpd_df[\"Premise\"].unique()"
   ]
  },
  {
   "cell_type": "markdown",
   "metadata": {},
   "source": [
    "### More cleaning needs to be done.... get rid of spaces at end"
   ]
  },
  {
   "cell_type": "code",
   "execution_count": 208,
   "metadata": {},
   "outputs": [],
   "source": [
    "bpd_df[\"Premise\"] = [i.rstrip() for i in bpd_df[\"Premise\"]]"
   ]
  },
  {
   "cell_type": "code",
   "execution_count": 209,
   "metadata": {},
   "outputs": [
    {
     "data": {
      "text/plain": [
       "array(['STREET', 'ROW/TOWNHOUSE-OCC', 'HOTEL/MOTEL', 'OTHER - INSIDE',\n",
       "       'ROW/TOWNHOUSE-VAC', 'RETAIL/SMALL BUSINES',\n",
       "       'APT/CONDO - OCCUPIED', 'PARKING LOT-OUTSIDE', 'PORCH/DECK',\n",
       "       'GARAGE ON PRIV. PROP', 'RELIGIOUS  INSTITUTI', 'OTHER - OUTSIDE',\n",
       "       'SCHOOL', 'VACANT BUILDING', 'SHED/GARAGE', 'OTHER/RESIDENTIAL',\n",
       "       'YARD', 'YARD/BUSINESS', 'VEHICLE', 'FAST FOOD',\n",
       "       'POLICE DEPARTMENT', 'GAS STATION', 'DRIVEWAY', 'RESTAURANT',\n",
       "       'RECREATION FACILITY', 'BAR', 'SHOPPING MALLS/CNTR',\n",
       "       'HOSP/NURS. HOME', 'PARK', 'ALLEY', 'PARKING LOT',\n",
       "       'DRUG STORE / MED  BL', 'CONVENIENCE STORE',\n",
       "       'LAUNDRY/CLEANRS/SHOE', 'PUBLIC HOUSING', 'SINGLE HOUSE',\n",
       "       'BUS.  STORAGE SHED', 'CAR  REPAIR SHOP', 'DWELLING', 'BUS/AUTO',\n",
       "       'LIQUOR STORE', 'OFFICE BUILDING', 'BANK/FINANCIAL INST',\n",
       "       'BARBER/BEAUTY SHOP', 'CAR LOT-NEW/USED', 'WHOLESALE/DISC. STOR',\n",
       "       'GROCERY/CONFECTION', 'JEWELRY STORE', 'SPECIALTY STORE',\n",
       "       'UNKNOWN', 'PUBLIC AREA', 'CARRY OUT', 'PARKING LOT-INSIDE',\n",
       "       'GARAGE', 'PUBLIC BUILDING', 'VACANT LOT/WOODS',\n",
       "       'INNER HARBOR-S-KEY', 'CLOTHING/SHOE STORE', 'COMMON BUSINESS',\n",
       "       \"BOX CARS/COMM'L TRLR\", 'MARKET STALLS', 'HOSPITAL',\n",
       "       'CLUB HOUSE/FRATERNIT', 'BOAT/SHIP', 'INNER HARBOR-W-LIGHT',\n",
       "       'BUS/RAILROAD STATION', 'TAVERN/NIGHT CLUB',\n",
       "       'INNER HARBOR-N-PRATT', 'PIZZA/OTHER DELIVERY', 'STADIUM', 'SHED',\n",
       "       'BUS. PARK LOT-OUTSID', 'LIBRARY', 'APARTMENT HALLWAY',\n",
       "       'WAREHOUSE', 'PENITENTIARY/JAIL', 'BAKERY', 'CHAIN FOOD STORE',\n",
       "       'VACANT DWELLING', 'CONSTRUCTION SITE', 'FINANCE/LOAN COMPANY',\n",
       "       'PLAYGROUND/ATHLETIC', 'AUTO PARTS STORE', 'DEPARTMENT STORE',\n",
       "       'DOCTORS OFFICE', 'CONVENTION CENTER', 'HOUSE UNDER CONSTRUC',\n",
       "       'RACE TRACK', 'DAY CARE FACILITY', 'FIRE DEPARTMENT', 'LIGHT RAIL',\n",
       "       'SCHOOL PLAYGROUND', 'SALESMAN/COLLECTORS', 'COURT HOUSE',\n",
       "       'APT/CONDO - VACANT', 'APT. LOCKER/LAUNDRY', 'CEMETERY',\n",
       "       'HARDWARE/BLDG. SUP.', 'BLDG UNDER CONST.', 'PAWN SHOP',\n",
       "       'BUS. PARK LOT-INSIDE', 'ATM MACHINES', 'MAILBOX-STREET/RES.',\n",
       "       'THEATRE', 'PUBLIC SCHOOL', 'RENTAL/VIDEO STORE',\n",
       "       'MINI STORAGE LOCKERS', 'PHOTO STUDIO/CAMERA',\n",
       "       'BRIDGE-PIERS-DOCKS', 'CAB', 'MANUFACTURING PLANT', 'MOBILE HOME'],\n",
       "      dtype=object)"
      ]
     },
     "execution_count": 209,
     "metadata": {},
     "output_type": "execute_result"
    }
   ],
   "source": [
    "bpd_df[\"Premise\"].unique()"
   ]
  },
  {
   "cell_type": "code",
   "execution_count": 210,
   "metadata": {},
   "outputs": [
    {
     "data": {
      "text/plain": [
       "47045"
      ]
     },
     "execution_count": 210,
     "metadata": {},
     "output_type": "execute_result"
    }
   ],
   "source": [
    "len(bpd_df)"
   ]
  },
  {
   "cell_type": "code",
   "execution_count": 211,
   "metadata": {},
   "outputs": [],
   "source": [
    "bpd_df = bpd_df[bpd_df[\"Premise\"].isin(Premise[0])]"
   ]
  },
  {
   "cell_type": "code",
   "execution_count": 212,
   "metadata": {},
   "outputs": [
    {
     "data": {
      "text/plain": [
       "22799"
      ]
     },
     "execution_count": 212,
     "metadata": {},
     "output_type": "execute_result"
    }
   ],
   "source": [
    "len(bpd_df)"
   ]
  },
  {
   "cell_type": "markdown",
   "metadata": {},
   "source": [
    "### Many new premises it seems."
   ]
  },
  {
   "cell_type": "code",
   "execution_count": 213,
   "metadata": {},
   "outputs": [],
   "source": [
    "bpd_df[\"Premise\"]=le.transform(bpd_df[\"Premise\"])"
   ]
  },
  {
   "cell_type": "code",
   "execution_count": 214,
   "metadata": {},
   "outputs": [],
   "source": [
    "bpd_df = pd.get_dummies(bpd_df, columns=[\"Inside/Outside\"],drop_first=True)"
   ]
  },
  {
   "cell_type": "code",
   "execution_count": 215,
   "metadata": {},
   "outputs": [],
   "source": [
    "bpd_df= bpd_df.rename(columns={\"Inside/Outside_Outside\":\"Outside\"})"
   ]
  },
  {
   "cell_type": "code",
   "execution_count": 216,
   "metadata": {},
   "outputs": [
    {
     "data": {
      "text/html": [
       "<div>\n",
       "<style scoped>\n",
       "    .dataframe tbody tr th:only-of-type {\n",
       "        vertical-align: middle;\n",
       "    }\n",
       "\n",
       "    .dataframe tbody tr th {\n",
       "        vertical-align: top;\n",
       "    }\n",
       "\n",
       "    .dataframe thead th {\n",
       "        text-align: right;\n",
       "    }\n",
       "</style>\n",
       "<table border=\"1\" class=\"dataframe\">\n",
       "  <thead>\n",
       "    <tr style=\"text-align: right;\">\n",
       "      <th></th>\n",
       "      <th>Description</th>\n",
       "      <th>Weapon</th>\n",
       "      <th>Post</th>\n",
       "      <th>District</th>\n",
       "      <th>Neighborhood</th>\n",
       "      <th>Longitude</th>\n",
       "      <th>Latitude</th>\n",
       "      <th>Premise</th>\n",
       "      <th>Season</th>\n",
       "      <th>Month</th>\n",
       "      <th>Hour</th>\n",
       "      <th>Year</th>\n",
       "      <th>Outside</th>\n",
       "    </tr>\n",
       "  </thead>\n",
       "  <tbody>\n",
       "    <tr>\n",
       "      <th>2135</th>\n",
       "      <td>1</td>\n",
       "      <td>FIRE</td>\n",
       "      <td>432.0</td>\n",
       "      <td>NORTHEAST</td>\n",
       "      <td>11</td>\n",
       "      <td>39.3223</td>\n",
       "      <td>-76.5700</td>\n",
       "      <td>118</td>\n",
       "      <td>spring</td>\n",
       "      <td>5</td>\n",
       "      <td>0</td>\n",
       "      <td>2018</td>\n",
       "      <td>1</td>\n",
       "    </tr>\n",
       "    <tr>\n",
       "      <th>2451</th>\n",
       "      <td>1</td>\n",
       "      <td>FIRE</td>\n",
       "      <td>633.0</td>\n",
       "      <td>NORTHWEST</td>\n",
       "      <td>3</td>\n",
       "      <td>39.3486</td>\n",
       "      <td>-76.6780</td>\n",
       "      <td>103</td>\n",
       "      <td>spring</td>\n",
       "      <td>4</td>\n",
       "      <td>0</td>\n",
       "      <td>2018</td>\n",
       "      <td>1</td>\n",
       "    </tr>\n",
       "    <tr>\n",
       "      <th>3767</th>\n",
       "      <td>1</td>\n",
       "      <td>FIRE</td>\n",
       "      <td>621.0</td>\n",
       "      <td>NORTHWEST</td>\n",
       "      <td>120</td>\n",
       "      <td>39.3366</td>\n",
       "      <td>-76.6918</td>\n",
       "      <td>103</td>\n",
       "      <td>summer</td>\n",
       "      <td>8</td>\n",
       "      <td>1</td>\n",
       "      <td>2018</td>\n",
       "      <td>1</td>\n",
       "    </tr>\n",
       "    <tr>\n",
       "      <th>4495</th>\n",
       "      <td>1</td>\n",
       "      <td>FIRE</td>\n",
       "      <td>424.0</td>\n",
       "      <td>NORTHEAST</td>\n",
       "      <td>175</td>\n",
       "      <td>39.3648</td>\n",
       "      <td>-76.5559</td>\n",
       "      <td>103</td>\n",
       "      <td>summer</td>\n",
       "      <td>7</td>\n",
       "      <td>1</td>\n",
       "      <td>2018</td>\n",
       "      <td>1</td>\n",
       "    </tr>\n",
       "    <tr>\n",
       "      <th>4496</th>\n",
       "      <td>1</td>\n",
       "      <td>FIRE</td>\n",
       "      <td>424.0</td>\n",
       "      <td>NORTHEAST</td>\n",
       "      <td>175</td>\n",
       "      <td>39.3648</td>\n",
       "      <td>-76.5559</td>\n",
       "      <td>103</td>\n",
       "      <td>summer</td>\n",
       "      <td>7</td>\n",
       "      <td>1</td>\n",
       "      <td>2018</td>\n",
       "      <td>1</td>\n",
       "    </tr>\n",
       "    <tr>\n",
       "      <th>...</th>\n",
       "      <td>...</td>\n",
       "      <td>...</td>\n",
       "      <td>...</td>\n",
       "      <td>...</td>\n",
       "      <td>...</td>\n",
       "      <td>...</td>\n",
       "      <td>...</td>\n",
       "      <td>...</td>\n",
       "      <td>...</td>\n",
       "      <td>...</td>\n",
       "      <td>...</td>\n",
       "      <td>...</td>\n",
       "      <td>...</td>\n",
       "    </tr>\n",
       "    <tr>\n",
       "      <th>62097</th>\n",
       "      <td>1</td>\n",
       "      <td>FIRE</td>\n",
       "      <td>313.0</td>\n",
       "      <td>EASTERN</td>\n",
       "      <td>99</td>\n",
       "      <td>39.3100</td>\n",
       "      <td>-76.6124</td>\n",
       "      <td>0</td>\n",
       "      <td>winter</td>\n",
       "      <td>12</td>\n",
       "      <td>22</td>\n",
       "      <td>2017</td>\n",
       "      <td>1</td>\n",
       "    </tr>\n",
       "    <tr>\n",
       "      <th>63399</th>\n",
       "      <td>1</td>\n",
       "      <td>FIRE</td>\n",
       "      <td>922.0</td>\n",
       "      <td>SOUTHERN</td>\n",
       "      <td>45</td>\n",
       "      <td>39.2487</td>\n",
       "      <td>-76.6270</td>\n",
       "      <td>103</td>\n",
       "      <td>winter</td>\n",
       "      <td>1</td>\n",
       "      <td>23</td>\n",
       "      <td>2018</td>\n",
       "      <td>1</td>\n",
       "    </tr>\n",
       "    <tr>\n",
       "      <th>64392</th>\n",
       "      <td>1</td>\n",
       "      <td>FIRE</td>\n",
       "      <td>923.0</td>\n",
       "      <td>SOUTHERN</td>\n",
       "      <td>135</td>\n",
       "      <td>39.2567</td>\n",
       "      <td>-76.6454</td>\n",
       "      <td>118</td>\n",
       "      <td>winter</td>\n",
       "      <td>2</td>\n",
       "      <td>23</td>\n",
       "      <td>2018</td>\n",
       "      <td>1</td>\n",
       "    </tr>\n",
       "    <tr>\n",
       "      <th>65194</th>\n",
       "      <td>1</td>\n",
       "      <td>FIRE</td>\n",
       "      <td>935.0</td>\n",
       "      <td>SOUTHERN</td>\n",
       "      <td>174</td>\n",
       "      <td>39.2812</td>\n",
       "      <td>-76.6435</td>\n",
       "      <td>103</td>\n",
       "      <td>winter</td>\n",
       "      <td>2</td>\n",
       "      <td>23</td>\n",
       "      <td>2018</td>\n",
       "      <td>1</td>\n",
       "    </tr>\n",
       "    <tr>\n",
       "      <th>65461</th>\n",
       "      <td>1</td>\n",
       "      <td>FIRE</td>\n",
       "      <td>444.0</td>\n",
       "      <td>NORTHEAST</td>\n",
       "      <td>87</td>\n",
       "      <td>39.3314</td>\n",
       "      <td>-76.5392</td>\n",
       "      <td>103</td>\n",
       "      <td>spring</td>\n",
       "      <td>5</td>\n",
       "      <td>23</td>\n",
       "      <td>2018</td>\n",
       "      <td>1</td>\n",
       "    </tr>\n",
       "  </tbody>\n",
       "</table>\n",
       "<p>70 rows × 13 columns</p>\n",
       "</div>"
      ],
      "text/plain": [
       "       Description Weapon   Post   District  Neighborhood  Longitude  \\\n",
       "2135             1   FIRE  432.0  NORTHEAST            11    39.3223   \n",
       "2451             1   FIRE  633.0  NORTHWEST             3    39.3486   \n",
       "3767             1   FIRE  621.0  NORTHWEST           120    39.3366   \n",
       "4495             1   FIRE  424.0  NORTHEAST           175    39.3648   \n",
       "4496             1   FIRE  424.0  NORTHEAST           175    39.3648   \n",
       "...            ...    ...    ...        ...           ...        ...   \n",
       "62097            1   FIRE  313.0    EASTERN            99    39.3100   \n",
       "63399            1   FIRE  922.0   SOUTHERN            45    39.2487   \n",
       "64392            1   FIRE  923.0   SOUTHERN           135    39.2567   \n",
       "65194            1   FIRE  935.0   SOUTHERN           174    39.2812   \n",
       "65461            1   FIRE  444.0  NORTHEAST            87    39.3314   \n",
       "\n",
       "       Latitude  Premise  Season  Month  Hour  Year  Outside  \n",
       "2135   -76.5700      118  spring      5     0  2018        1  \n",
       "2451   -76.6780      103  spring      4     0  2018        1  \n",
       "3767   -76.6918      103  summer      8     1  2018        1  \n",
       "4495   -76.5559      103  summer      7     1  2018        1  \n",
       "4496   -76.5559      103  summer      7     1  2018        1  \n",
       "...         ...      ...     ...    ...   ...   ...      ...  \n",
       "62097  -76.6124        0  winter     12    22  2017        1  \n",
       "63399  -76.6270      103  winter      1    23  2018        1  \n",
       "64392  -76.6454      118  winter      2    23  2018        1  \n",
       "65194  -76.6435      103  winter      2    23  2018        1  \n",
       "65461  -76.5392      103  spring      5    23  2018        1  \n",
       "\n",
       "[70 rows x 13 columns]"
      ]
     },
     "execution_count": 216,
     "metadata": {},
     "output_type": "execute_result"
    }
   ],
   "source": [
    "bpd_df[bpd_df[\"Weapon\"]==\"FIRE\"]"
   ]
  },
  {
   "cell_type": "code",
   "execution_count": 217,
   "metadata": {},
   "outputs": [],
   "source": [
    "bpd_df = bpd_df[bpd_df[\"Weapon\"]!=\"FIRE\"]"
   ]
  },
  {
   "cell_type": "markdown",
   "metadata": {},
   "source": [
    "### Aaaaand a new weapon type. Fire for arson. Drop."
   ]
  },
  {
   "cell_type": "code",
   "execution_count": 218,
   "metadata": {},
   "outputs": [
    {
     "data": {
      "text/plain": [
       "array(['NONE', 'KNIFE', 'FIREARM', 'OTHER', 'HANDS'], dtype=object)"
      ]
     },
     "execution_count": 218,
     "metadata": {},
     "output_type": "execute_result"
    }
   ],
   "source": [
    "bpd_df[\"Weapon\"].unique()"
   ]
  },
  {
   "cell_type": "code",
   "execution_count": 219,
   "metadata": {},
   "outputs": [],
   "source": [
    "bpd_df = pd.get_dummies(bpd_df, columns=[\"Weapon\"])"
   ]
  },
  {
   "cell_type": "code",
   "execution_count": 220,
   "metadata": {},
   "outputs": [
    {
     "data": {
      "text/html": [
       "<div>\n",
       "<style scoped>\n",
       "    .dataframe tbody tr th:only-of-type {\n",
       "        vertical-align: middle;\n",
       "    }\n",
       "\n",
       "    .dataframe tbody tr th {\n",
       "        vertical-align: top;\n",
       "    }\n",
       "\n",
       "    .dataframe thead th {\n",
       "        text-align: right;\n",
       "    }\n",
       "</style>\n",
       "<table border=\"1\" class=\"dataframe\">\n",
       "  <thead>\n",
       "    <tr style=\"text-align: right;\">\n",
       "      <th></th>\n",
       "      <th>Description</th>\n",
       "      <th>Post</th>\n",
       "      <th>District</th>\n",
       "      <th>Neighborhood</th>\n",
       "      <th>Longitude</th>\n",
       "      <th>Latitude</th>\n",
       "      <th>Premise</th>\n",
       "      <th>Season</th>\n",
       "      <th>Month</th>\n",
       "      <th>Hour</th>\n",
       "      <th>Year</th>\n",
       "      <th>Outside</th>\n",
       "      <th>Weapon_FIREARM</th>\n",
       "      <th>Weapon_HANDS</th>\n",
       "      <th>Weapon_KNIFE</th>\n",
       "      <th>Weapon_NONE</th>\n",
       "      <th>Weapon_OTHER</th>\n",
       "    </tr>\n",
       "  </thead>\n",
       "  <tbody>\n",
       "    <tr>\n",
       "      <th>1</th>\n",
       "      <td>7</td>\n",
       "      <td>523.0</td>\n",
       "      <td>NORTHERN</td>\n",
       "      <td>118</td>\n",
       "      <td>39.3556</td>\n",
       "      <td>-76.6099</td>\n",
       "      <td>103</td>\n",
       "      <td>winter</td>\n",
       "      <td>12</td>\n",
       "      <td>0</td>\n",
       "      <td>2018</td>\n",
       "      <td>1</td>\n",
       "      <td>0</td>\n",
       "      <td>0</td>\n",
       "      <td>0</td>\n",
       "      <td>1</td>\n",
       "      <td>0</td>\n",
       "    </tr>\n",
       "    <tr>\n",
       "      <th>5</th>\n",
       "      <td>3</td>\n",
       "      <td>613.0</td>\n",
       "      <td>NORTHWEST</td>\n",
       "      <td>136</td>\n",
       "      <td>39.3438</td>\n",
       "      <td>-76.6777</td>\n",
       "      <td>103</td>\n",
       "      <td>winter</td>\n",
       "      <td>12</td>\n",
       "      <td>0</td>\n",
       "      <td>2018</td>\n",
       "      <td>1</td>\n",
       "      <td>0</td>\n",
       "      <td>0</td>\n",
       "      <td>0</td>\n",
       "      <td>1</td>\n",
       "      <td>0</td>\n",
       "    </tr>\n",
       "    <tr>\n",
       "      <th>7</th>\n",
       "      <td>8</td>\n",
       "      <td>942.0</td>\n",
       "      <td>SOUTHERN</td>\n",
       "      <td>82</td>\n",
       "      <td>39.2756</td>\n",
       "      <td>-76.6129</td>\n",
       "      <td>103</td>\n",
       "      <td>winter</td>\n",
       "      <td>12</td>\n",
       "      <td>0</td>\n",
       "      <td>2018</td>\n",
       "      <td>1</td>\n",
       "      <td>0</td>\n",
       "      <td>0</td>\n",
       "      <td>0</td>\n",
       "      <td>1</td>\n",
       "      <td>0</td>\n",
       "    </tr>\n",
       "    <tr>\n",
       "      <th>8</th>\n",
       "      <td>7</td>\n",
       "      <td>232.0</td>\n",
       "      <td>SOUTHEAST</td>\n",
       "      <td>71</td>\n",
       "      <td>39.2906</td>\n",
       "      <td>-76.5315</td>\n",
       "      <td>103</td>\n",
       "      <td>winter</td>\n",
       "      <td>12</td>\n",
       "      <td>0</td>\n",
       "      <td>2018</td>\n",
       "      <td>1</td>\n",
       "      <td>0</td>\n",
       "      <td>0</td>\n",
       "      <td>0</td>\n",
       "      <td>1</td>\n",
       "      <td>0</td>\n",
       "    </tr>\n",
       "    <tr>\n",
       "      <th>9</th>\n",
       "      <td>7</td>\n",
       "      <td>835.0</td>\n",
       "      <td>SOUTHWEST</td>\n",
       "      <td>227</td>\n",
       "      <td>39.2878</td>\n",
       "      <td>-76.6745</td>\n",
       "      <td>103</td>\n",
       "      <td>winter</td>\n",
       "      <td>12</td>\n",
       "      <td>0</td>\n",
       "      <td>2018</td>\n",
       "      <td>1</td>\n",
       "      <td>0</td>\n",
       "      <td>0</td>\n",
       "      <td>0</td>\n",
       "      <td>1</td>\n",
       "      <td>0</td>\n",
       "    </tr>\n",
       "    <tr>\n",
       "      <th>...</th>\n",
       "      <td>...</td>\n",
       "      <td>...</td>\n",
       "      <td>...</td>\n",
       "      <td>...</td>\n",
       "      <td>...</td>\n",
       "      <td>...</td>\n",
       "      <td>...</td>\n",
       "      <td>...</td>\n",
       "      <td>...</td>\n",
       "      <td>...</td>\n",
       "      <td>...</td>\n",
       "      <td>...</td>\n",
       "      <td>...</td>\n",
       "      <td>...</td>\n",
       "      <td>...</td>\n",
       "      <td>...</td>\n",
       "      <td>...</td>\n",
       "    </tr>\n",
       "    <tr>\n",
       "      <th>65655</th>\n",
       "      <td>5</td>\n",
       "      <td>232.0</td>\n",
       "      <td>SOUTHEAST</td>\n",
       "      <td>132</td>\n",
       "      <td>39.2918</td>\n",
       "      <td>-76.5598</td>\n",
       "      <td>10</td>\n",
       "      <td>spring</td>\n",
       "      <td>5</td>\n",
       "      <td>23</td>\n",
       "      <td>2018</td>\n",
       "      <td>0</td>\n",
       "      <td>0</td>\n",
       "      <td>0</td>\n",
       "      <td>0</td>\n",
       "      <td>1</td>\n",
       "      <td>0</td>\n",
       "    </tr>\n",
       "    <tr>\n",
       "      <th>65659</th>\n",
       "      <td>6</td>\n",
       "      <td>722.0</td>\n",
       "      <td>WESTERN</td>\n",
       "      <td>158</td>\n",
       "      <td>39.2951</td>\n",
       "      <td>-76.6474</td>\n",
       "      <td>103</td>\n",
       "      <td>spring</td>\n",
       "      <td>4</td>\n",
       "      <td>23</td>\n",
       "      <td>2018</td>\n",
       "      <td>1</td>\n",
       "      <td>1</td>\n",
       "      <td>0</td>\n",
       "      <td>0</td>\n",
       "      <td>0</td>\n",
       "      <td>0</td>\n",
       "    </tr>\n",
       "    <tr>\n",
       "      <th>65662</th>\n",
       "      <td>8</td>\n",
       "      <td>331.0</td>\n",
       "      <td>EASTERN</td>\n",
       "      <td>235</td>\n",
       "      <td>39.3124</td>\n",
       "      <td>-76.5899</td>\n",
       "      <td>103</td>\n",
       "      <td>spring</td>\n",
       "      <td>3</td>\n",
       "      <td>23</td>\n",
       "      <td>2018</td>\n",
       "      <td>1</td>\n",
       "      <td>0</td>\n",
       "      <td>0</td>\n",
       "      <td>0</td>\n",
       "      <td>1</td>\n",
       "      <td>0</td>\n",
       "    </tr>\n",
       "    <tr>\n",
       "      <th>65666</th>\n",
       "      <td>8</td>\n",
       "      <td>824.0</td>\n",
       "      <td>SOUTHWEST</td>\n",
       "      <td>1</td>\n",
       "      <td>39.2926</td>\n",
       "      <td>-76.6816</td>\n",
       "      <td>103</td>\n",
       "      <td>summer</td>\n",
       "      <td>9</td>\n",
       "      <td>23</td>\n",
       "      <td>2017</td>\n",
       "      <td>1</td>\n",
       "      <td>0</td>\n",
       "      <td>0</td>\n",
       "      <td>0</td>\n",
       "      <td>1</td>\n",
       "      <td>0</td>\n",
       "    </tr>\n",
       "    <tr>\n",
       "      <th>65668</th>\n",
       "      <td>3</td>\n",
       "      <td>624.0</td>\n",
       "      <td>NORTHWEST</td>\n",
       "      <td>267</td>\n",
       "      <td>39.3142</td>\n",
       "      <td>-76.6865</td>\n",
       "      <td>103</td>\n",
       "      <td>summer</td>\n",
       "      <td>9</td>\n",
       "      <td>23</td>\n",
       "      <td>2017</td>\n",
       "      <td>1</td>\n",
       "      <td>0</td>\n",
       "      <td>0</td>\n",
       "      <td>0</td>\n",
       "      <td>1</td>\n",
       "      <td>0</td>\n",
       "    </tr>\n",
       "  </tbody>\n",
       "</table>\n",
       "<p>22729 rows × 17 columns</p>\n",
       "</div>"
      ],
      "text/plain": [
       "       Description   Post   District  Neighborhood  Longitude  Latitude  \\\n",
       "1                7  523.0   NORTHERN           118    39.3556  -76.6099   \n",
       "5                3  613.0  NORTHWEST           136    39.3438  -76.6777   \n",
       "7                8  942.0   SOUTHERN            82    39.2756  -76.6129   \n",
       "8                7  232.0  SOUTHEAST            71    39.2906  -76.5315   \n",
       "9                7  835.0  SOUTHWEST           227    39.2878  -76.6745   \n",
       "...            ...    ...        ...           ...        ...       ...   \n",
       "65655            5  232.0  SOUTHEAST           132    39.2918  -76.5598   \n",
       "65659            6  722.0    WESTERN           158    39.2951  -76.6474   \n",
       "65662            8  331.0    EASTERN           235    39.3124  -76.5899   \n",
       "65666            8  824.0  SOUTHWEST             1    39.2926  -76.6816   \n",
       "65668            3  624.0  NORTHWEST           267    39.3142  -76.6865   \n",
       "\n",
       "       Premise  Season  Month  Hour  Year  Outside  Weapon_FIREARM  \\\n",
       "1          103  winter     12     0  2018        1               0   \n",
       "5          103  winter     12     0  2018        1               0   \n",
       "7          103  winter     12     0  2018        1               0   \n",
       "8          103  winter     12     0  2018        1               0   \n",
       "9          103  winter     12     0  2018        1               0   \n",
       "...        ...     ...    ...   ...   ...      ...             ...   \n",
       "65655       10  spring      5    23  2018        0               0   \n",
       "65659      103  spring      4    23  2018        1               1   \n",
       "65662      103  spring      3    23  2018        1               0   \n",
       "65666      103  summer      9    23  2017        1               0   \n",
       "65668      103  summer      9    23  2017        1               0   \n",
       "\n",
       "       Weapon_HANDS  Weapon_KNIFE  Weapon_NONE  Weapon_OTHER  \n",
       "1                 0             0            1             0  \n",
       "5                 0             0            1             0  \n",
       "7                 0             0            1             0  \n",
       "8                 0             0            1             0  \n",
       "9                 0             0            1             0  \n",
       "...             ...           ...          ...           ...  \n",
       "65655             0             0            1             0  \n",
       "65659             0             0            0             0  \n",
       "65662             0             0            1             0  \n",
       "65666             0             0            1             0  \n",
       "65668             0             0            1             0  \n",
       "\n",
       "[22729 rows x 17 columns]"
      ]
     },
     "execution_count": 220,
     "metadata": {},
     "output_type": "execute_result"
    }
   ],
   "source": [
    "bpd_df"
   ]
  },
  {
   "cell_type": "code",
   "execution_count": 221,
   "metadata": {},
   "outputs": [],
   "source": [
    "finally_maybe = bpd_df[['Outside', 'Weapon_FIREARM','Weapon_HANDS','Weapon_KNIFE','Weapon_NONE','Weapon_OTHER', 'Neighborhood', 'Premise', 'Month', 'Hour','Description']]"
   ]
  },
  {
   "cell_type": "code",
   "execution_count": 222,
   "metadata": {},
   "outputs": [],
   "source": [
    "finally_maybe.to_csv(\"../data/Test_transformed.csv\")"
   ]
  },
  {
   "cell_type": "code",
   "execution_count": 433,
   "metadata": {},
   "outputs": [],
   "source": [
    "X_test = finally_maybe.drop(columns = ['Description'])\n",
    "Y_test = finally_maybe['Description']"
   ]
  },
  {
   "cell_type": "code",
   "execution_count": 434,
   "metadata": {},
   "outputs": [],
   "source": [
    "FINAL_PREDICTIONS = FINAL_MODEL.predict(X_test)"
   ]
  },
  {
   "cell_type": "code",
   "execution_count": 166,
   "metadata": {},
   "outputs": [],
   "source": [
    "from sklearn import metrics"
   ]
  },
  {
   "cell_type": "code",
   "execution_count": 436,
   "metadata": {},
   "outputs": [
    {
     "data": {
      "text/plain": [
       "0.404021294381627"
      ]
     },
     "execution_count": 436,
     "metadata": {},
     "output_type": "execute_result"
    }
   ],
   "source": [
    "metrics.accuracy_score(FINAL_PREDICTIONS,Y_test)"
   ]
  },
  {
   "cell_type": "code",
   "execution_count": 440,
   "metadata": {},
   "outputs": [
    {
     "data": {
      "text/plain": [
       "0.404021294381627"
      ]
     },
     "execution_count": 440,
     "metadata": {},
     "output_type": "execute_result"
    }
   ],
   "source": [
    "metrics.recall_score(FINAL_PREDICTIONS,Y_test,average=\"weighted\",zero_division=0)"
   ]
  },
  {
   "cell_type": "code",
   "execution_count": 441,
   "metadata": {},
   "outputs": [
    {
     "data": {
      "text/plain": [
       "0.5125862534031598"
      ]
     },
     "execution_count": 441,
     "metadata": {},
     "output_type": "execute_result"
    }
   ],
   "source": [
    "metrics.precision_score(FINAL_PREDICTIONS,Y_test,average=\"weighted\",zero_division=0)"
   ]
  },
  {
   "cell_type": "code",
   "execution_count": 442,
   "metadata": {},
   "outputs": [
    {
     "data": {
      "text/plain": [
       "0.4394776208370662"
      ]
     },
     "execution_count": 442,
     "metadata": {},
     "output_type": "execute_result"
    }
   ],
   "source": [
    "metrics.f1_score(FINAL_PREDICTIONS,Y_test,average=\"weighted\",zero_division=0)"
   ]
  },
  {
   "cell_type": "markdown",
   "metadata": {},
   "source": [
    "# TO LOAD MODEL"
   ]
  },
  {
   "cell_type": "code",
   "execution_count": 456,
   "metadata": {},
   "outputs": [],
   "source": [
    "# MODEL = lgb.Booster(model_file='YOLO_SWAG.txt')"
   ]
  },
  {
   "cell_type": "markdown",
   "metadata": {},
   "source": [
    "# NB SUPPOSEDLY BETTER. TUNE"
   ]
  },
  {
   "cell_type": "code",
   "execution_count": 28,
   "metadata": {},
   "outputs": [],
   "source": [
    "from sklearn.naive_bayes import BernoulliNB"
   ]
  },
  {
   "cell_type": "code",
   "execution_count": 29,
   "metadata": {},
   "outputs": [],
   "source": [
    "clf = BernoulliNB()"
   ]
  },
  {
   "cell_type": "code",
   "execution_count": 36,
   "metadata": {},
   "outputs": [],
   "source": [
    "param_grid = [\n",
    "    {'alpha':[0.1,0.2,0.3,0.4,0.5,0.6,0.7,0.8,0.9,1] }\n",
    "  ]"
   ]
  },
  {
   "cell_type": "code",
   "execution_count": 37,
   "metadata": {},
   "outputs": [],
   "source": [
    "from sklearn.model_selection import GridSearchCV"
   ]
  },
  {
   "cell_type": "code",
   "execution_count": 38,
   "metadata": {},
   "outputs": [],
   "source": [
    "grid_search = GridSearchCV(clf, param_grid, cv=5,\n",
    "                           scoring='f1_macro',\n",
    "                           return_train_score=True)"
   ]
  },
  {
   "cell_type": "code",
   "execution_count": 39,
   "metadata": {},
   "outputs": [
    {
     "data": {
      "text/plain": [
       "GridSearchCV(cv=5, estimator=BernoulliNB(),\n",
       "             param_grid=[{'alpha': [0.1, 0.2, 0.3, 0.4, 0.5, 0.6, 0.7, 0.8, 0.9,\n",
       "                                    1]}],\n",
       "             return_train_score=True, scoring='f1_macro')"
      ]
     },
     "execution_count": 39,
     "metadata": {},
     "output_type": "execute_result"
    }
   ],
   "source": [
    "grid_search.fit(X_1hot,Y_1hot)"
   ]
  },
  {
   "cell_type": "code",
   "execution_count": 40,
   "metadata": {},
   "outputs": [
    {
     "data": {
      "text/plain": [
       "0.4130233086995429"
      ]
     },
     "execution_count": 40,
     "metadata": {},
     "output_type": "execute_result"
    }
   ],
   "source": [
    "grid_search.best_score_"
   ]
  },
  {
   "cell_type": "code",
   "execution_count": 41,
   "metadata": {},
   "outputs": [
    {
     "data": {
      "text/plain": [
       "{'alpha': 0.1}"
      ]
     },
     "execution_count": 41,
     "metadata": {},
     "output_type": "execute_result"
    }
   ],
   "source": [
    "grid_search.best_params_"
   ]
  },
  {
   "cell_type": "markdown",
   "metadata": {},
   "source": [
    "### NB performs better with everything 1 hotted. This doesn't take too long. Acceptable."
   ]
  },
  {
   "cell_type": "code",
   "execution_count": 42,
   "metadata": {},
   "outputs": [],
   "source": [
    "FINAL = BernoulliNB(alpha=0.1)"
   ]
  },
  {
   "cell_type": "code",
   "execution_count": 44,
   "metadata": {},
   "outputs": [
    {
     "name": "stdout",
     "output_type": "stream",
     "text": [
      "Time:  14.031531999999743\n"
     ]
    }
   ],
   "source": [
    "start = timeit.default_timer()\n",
    "FINAL_MODEL = FINAL.fit(X_1hot,Y_1hot)\n",
    "stop = timeit.default_timer()\n",
    "print('Time: ', stop - start)"
   ]
  },
  {
   "cell_type": "code",
   "execution_count": 45,
   "metadata": {},
   "outputs": [
    {
     "data": {
      "text/plain": [
       "(276529, 441)"
      ]
     },
     "execution_count": 45,
     "metadata": {},
     "output_type": "execute_result"
    }
   ],
   "source": [
    "X_1hot.shape"
   ]
  },
  {
   "cell_type": "code",
   "execution_count": 65,
   "metadata": {},
   "outputs": [],
   "source": [
    "from joblib import dump, load"
   ]
  },
  {
   "cell_type": "code",
   "execution_count": 66,
   "metadata": {},
   "outputs": [
    {
     "data": {
      "text/plain": [
       "['FINAL_MODEL.joblib']"
      ]
     },
     "execution_count": 66,
     "metadata": {},
     "output_type": "execute_result"
    }
   ],
   "source": [
    "dump(FINAL_MODEL,\"FINAL_MODEL.joblib\")"
   ]
  },
  {
   "cell_type": "markdown",
   "metadata": {},
   "source": [
    "## Redo Test Set for this and save as new csv. Results in new notebook."
   ]
  },
  {
   "cell_type": "markdown",
   "metadata": {},
   "source": [
    "### I reran some earlier cells instead of redoing it all"
   ]
  },
  {
   "cell_type": "code",
   "execution_count": 156,
   "metadata": {},
   "outputs": [
    {
     "data": {
      "text/html": [
       "<div>\n",
       "<style scoped>\n",
       "    .dataframe tbody tr th:only-of-type {\n",
       "        vertical-align: middle;\n",
       "    }\n",
       "\n",
       "    .dataframe tbody tr th {\n",
       "        vertical-align: top;\n",
       "    }\n",
       "\n",
       "    .dataframe thead th {\n",
       "        text-align: right;\n",
       "    }\n",
       "</style>\n",
       "<table border=\"1\" class=\"dataframe\">\n",
       "  <thead>\n",
       "    <tr style=\"text-align: right;\">\n",
       "      <th></th>\n",
       "      <th>Description</th>\n",
       "      <th>Inside/Outside</th>\n",
       "      <th>Weapon</th>\n",
       "      <th>Post</th>\n",
       "      <th>District</th>\n",
       "      <th>Neighborhood</th>\n",
       "      <th>Longitude</th>\n",
       "      <th>Latitude</th>\n",
       "      <th>Premise</th>\n",
       "      <th>Season</th>\n",
       "      <th>Month</th>\n",
       "      <th>Hour</th>\n",
       "      <th>Year</th>\n",
       "    </tr>\n",
       "  </thead>\n",
       "  <tbody>\n",
       "    <tr>\n",
       "      <th>1</th>\n",
       "      <td>LARCENY</td>\n",
       "      <td>Outside</td>\n",
       "      <td>NONE</td>\n",
       "      <td>523.0</td>\n",
       "      <td>NORTHERN</td>\n",
       "      <td>Homeland</td>\n",
       "      <td>39.3556</td>\n",
       "      <td>-76.6099</td>\n",
       "      <td>STREET</td>\n",
       "      <td>winter</td>\n",
       "      <td>12</td>\n",
       "      <td>0</td>\n",
       "      <td>2018</td>\n",
       "    </tr>\n",
       "    <tr>\n",
       "      <th>5</th>\n",
       "      <td>AUTO THEFT</td>\n",
       "      <td>Outside</td>\n",
       "      <td>NONE</td>\n",
       "      <td>613.0</td>\n",
       "      <td>NORTHWEST</td>\n",
       "      <td>Langston Hughes</td>\n",
       "      <td>39.3438</td>\n",
       "      <td>-76.6777</td>\n",
       "      <td>STREET</td>\n",
       "      <td>winter</td>\n",
       "      <td>12</td>\n",
       "      <td>0</td>\n",
       "      <td>2018</td>\n",
       "    </tr>\n",
       "    <tr>\n",
       "      <th>7</th>\n",
       "      <td>LARCENY FROM AUTO</td>\n",
       "      <td>Outside</td>\n",
       "      <td>NONE</td>\n",
       "      <td>942.0</td>\n",
       "      <td>SOUTHERN</td>\n",
       "      <td>Federal Hill</td>\n",
       "      <td>39.2756</td>\n",
       "      <td>-76.6129</td>\n",
       "      <td>STREET</td>\n",
       "      <td>winter</td>\n",
       "      <td>12</td>\n",
       "      <td>0</td>\n",
       "      <td>2018</td>\n",
       "    </tr>\n",
       "    <tr>\n",
       "      <th>8</th>\n",
       "      <td>LARCENY</td>\n",
       "      <td>Outside</td>\n",
       "      <td>NONE</td>\n",
       "      <td>232.0</td>\n",
       "      <td>SOUTHEAST</td>\n",
       "      <td>Eastwood</td>\n",
       "      <td>39.2906</td>\n",
       "      <td>-76.5315</td>\n",
       "      <td>STREET</td>\n",
       "      <td>winter</td>\n",
       "      <td>12</td>\n",
       "      <td>0</td>\n",
       "      <td>2018</td>\n",
       "    </tr>\n",
       "    <tr>\n",
       "      <th>9</th>\n",
       "      <td>LARCENY</td>\n",
       "      <td>Outside</td>\n",
       "      <td>NONE</td>\n",
       "      <td>835.0</td>\n",
       "      <td>SOUTHWEST</td>\n",
       "      <td>Saint Josephs</td>\n",
       "      <td>39.2878</td>\n",
       "      <td>-76.6745</td>\n",
       "      <td>STREET</td>\n",
       "      <td>winter</td>\n",
       "      <td>12</td>\n",
       "      <td>0</td>\n",
       "      <td>2018</td>\n",
       "    </tr>\n",
       "    <tr>\n",
       "      <th>...</th>\n",
       "      <td>...</td>\n",
       "      <td>...</td>\n",
       "      <td>...</td>\n",
       "      <td>...</td>\n",
       "      <td>...</td>\n",
       "      <td>...</td>\n",
       "      <td>...</td>\n",
       "      <td>...</td>\n",
       "      <td>...</td>\n",
       "      <td>...</td>\n",
       "      <td>...</td>\n",
       "      <td>...</td>\n",
       "      <td>...</td>\n",
       "    </tr>\n",
       "    <tr>\n",
       "      <th>65655</th>\n",
       "      <td>COMMON ASSAULT</td>\n",
       "      <td>Inside</td>\n",
       "      <td>NONE</td>\n",
       "      <td>232.0</td>\n",
       "      <td>SOUTHEAST</td>\n",
       "      <td>Kresson</td>\n",
       "      <td>39.2918</td>\n",
       "      <td>-76.5598</td>\n",
       "      <td>BAR</td>\n",
       "      <td>spring</td>\n",
       "      <td>5</td>\n",
       "      <td>23</td>\n",
       "      <td>2018</td>\n",
       "    </tr>\n",
       "    <tr>\n",
       "      <th>65659</th>\n",
       "      <td>HOMICIDE</td>\n",
       "      <td>Outside</td>\n",
       "      <td>FIREARM</td>\n",
       "      <td>722.0</td>\n",
       "      <td>WESTERN</td>\n",
       "      <td>Midtown-Edmondson</td>\n",
       "      <td>39.2951</td>\n",
       "      <td>-76.6474</td>\n",
       "      <td>STREET</td>\n",
       "      <td>spring</td>\n",
       "      <td>4</td>\n",
       "      <td>23</td>\n",
       "      <td>2018</td>\n",
       "    </tr>\n",
       "    <tr>\n",
       "      <th>65662</th>\n",
       "      <td>LARCENY FROM AUTO</td>\n",
       "      <td>Outside</td>\n",
       "      <td>NONE</td>\n",
       "      <td>331.0</td>\n",
       "      <td>EASTERN</td>\n",
       "      <td>South Clifton Park</td>\n",
       "      <td>39.3124</td>\n",
       "      <td>-76.5899</td>\n",
       "      <td>STREET</td>\n",
       "      <td>spring</td>\n",
       "      <td>3</td>\n",
       "      <td>23</td>\n",
       "      <td>2018</td>\n",
       "    </tr>\n",
       "    <tr>\n",
       "      <th>65666</th>\n",
       "      <td>LARCENY FROM AUTO</td>\n",
       "      <td>Outside</td>\n",
       "      <td>NONE</td>\n",
       "      <td>824.0</td>\n",
       "      <td>SOUTHWEST</td>\n",
       "      <td>Allendale</td>\n",
       "      <td>39.2926</td>\n",
       "      <td>-76.6816</td>\n",
       "      <td>STREET</td>\n",
       "      <td>summer</td>\n",
       "      <td>9</td>\n",
       "      <td>23</td>\n",
       "      <td>2017</td>\n",
       "    </tr>\n",
       "    <tr>\n",
       "      <th>65668</th>\n",
       "      <td>AUTO THEFT</td>\n",
       "      <td>Outside</td>\n",
       "      <td>NONE</td>\n",
       "      <td>624.0</td>\n",
       "      <td>NORTHWEST</td>\n",
       "      <td>Windsor Hills</td>\n",
       "      <td>39.3142</td>\n",
       "      <td>-76.6865</td>\n",
       "      <td>STREET</td>\n",
       "      <td>summer</td>\n",
       "      <td>9</td>\n",
       "      <td>23</td>\n",
       "      <td>2017</td>\n",
       "    </tr>\n",
       "  </tbody>\n",
       "</table>\n",
       "<p>22729 rows × 13 columns</p>\n",
       "</div>"
      ],
      "text/plain": [
       "             Description Inside/Outside   Weapon   Post   District  \\\n",
       "1                LARCENY        Outside     NONE  523.0   NORTHERN   \n",
       "5             AUTO THEFT        Outside     NONE  613.0  NORTHWEST   \n",
       "7      LARCENY FROM AUTO        Outside     NONE  942.0   SOUTHERN   \n",
       "8                LARCENY        Outside     NONE  232.0  SOUTHEAST   \n",
       "9                LARCENY        Outside     NONE  835.0  SOUTHWEST   \n",
       "...                  ...            ...      ...    ...        ...   \n",
       "65655     COMMON ASSAULT         Inside     NONE  232.0  SOUTHEAST   \n",
       "65659           HOMICIDE        Outside  FIREARM  722.0    WESTERN   \n",
       "65662  LARCENY FROM AUTO        Outside     NONE  331.0    EASTERN   \n",
       "65666  LARCENY FROM AUTO        Outside     NONE  824.0  SOUTHWEST   \n",
       "65668         AUTO THEFT        Outside     NONE  624.0  NORTHWEST   \n",
       "\n",
       "             Neighborhood  Longitude  Latitude Premise  Season  Month  Hour  \\\n",
       "1                Homeland    39.3556  -76.6099  STREET  winter     12     0   \n",
       "5         Langston Hughes    39.3438  -76.6777  STREET  winter     12     0   \n",
       "7            Federal Hill    39.2756  -76.6129  STREET  winter     12     0   \n",
       "8                Eastwood    39.2906  -76.5315  STREET  winter     12     0   \n",
       "9           Saint Josephs    39.2878  -76.6745  STREET  winter     12     0   \n",
       "...                   ...        ...       ...     ...     ...    ...   ...   \n",
       "65655             Kresson    39.2918  -76.5598     BAR  spring      5    23   \n",
       "65659   Midtown-Edmondson    39.2951  -76.6474  STREET  spring      4    23   \n",
       "65662  South Clifton Park    39.3124  -76.5899  STREET  spring      3    23   \n",
       "65666           Allendale    39.2926  -76.6816  STREET  summer      9    23   \n",
       "65668       Windsor Hills    39.3142  -76.6865  STREET  summer      9    23   \n",
       "\n",
       "       Year  \n",
       "1      2018  \n",
       "5      2018  \n",
       "7      2018  \n",
       "8      2018  \n",
       "9      2018  \n",
       "...     ...  \n",
       "65655  2018  \n",
       "65659  2018  \n",
       "65662  2018  \n",
       "65666  2017  \n",
       "65668  2017  \n",
       "\n",
       "[22729 rows x 13 columns]"
      ]
     },
     "execution_count": 156,
     "metadata": {},
     "output_type": "execute_result"
    }
   ],
   "source": [
    "bpd_df"
   ]
  },
  {
   "cell_type": "code",
   "execution_count": 157,
   "metadata": {},
   "outputs": [],
   "source": [
    "uc2_df = bpd_df[['Inside/Outside', 'Weapon', 'Neighborhood', 'Premise', 'Month', 'Hour','Description']]"
   ]
  },
  {
   "cell_type": "code",
   "execution_count": 158,
   "metadata": {},
   "outputs": [],
   "source": [
    "uc2_df = pd.get_dummies(uc2_df, columns = ['Inside/Outside', 'Weapon', 'Neighborhood', 'Premise', 'Month', 'Hour'])"
   ]
  },
  {
   "cell_type": "code",
   "execution_count": 159,
   "metadata": {},
   "outputs": [
    {
     "data": {
      "text/plain": [
       "(22729, 308)"
      ]
     },
     "execution_count": 159,
     "metadata": {},
     "output_type": "execute_result"
    }
   ],
   "source": [
    "uc2_df.shape"
   ]
  },
  {
   "cell_type": "code",
   "execution_count": 160,
   "metadata": {},
   "outputs": [],
   "source": [
    "X_test = uc2_df.drop(columns = ['Description'])\n",
    "Y_test = uc2_df['Description']"
   ]
  },
  {
   "cell_type": "code",
   "execution_count": 161,
   "metadata": {},
   "outputs": [
    {
     "ename": "ValueError",
     "evalue": "Expected input with 441 features, got 307 instead",
     "output_type": "error",
     "traceback": [
      "\u001B[1;31m---------------------------------------------------------------------------\u001B[0m",
      "\u001B[1;31mValueError\u001B[0m                                Traceback (most recent call last)",
      "\u001B[1;32m<ipython-input-161-05b80dea0f42>\u001B[0m in \u001B[0;36m<module>\u001B[1;34m\u001B[0m\n\u001B[1;32m----> 1\u001B[1;33m \u001B[0mmaybe\u001B[0m \u001B[1;33m=\u001B[0m \u001B[0mFINAL_MODEL\u001B[0m\u001B[1;33m.\u001B[0m\u001B[0mpredict\u001B[0m\u001B[1;33m(\u001B[0m\u001B[0mX_test\u001B[0m\u001B[1;33m)\u001B[0m\u001B[1;33m\u001B[0m\u001B[1;33m\u001B[0m\u001B[0m\n\u001B[0m",
      "\u001B[1;32mC:\\ProgramData\\Anaconda3\\lib\\site-packages\\sklearn\\naive_bayes.py\u001B[0m in \u001B[0;36mpredict\u001B[1;34m(self, X)\u001B[0m\n\u001B[0;32m     76\u001B[0m         \u001B[0mcheck_is_fitted\u001B[0m\u001B[1;33m(\u001B[0m\u001B[0mself\u001B[0m\u001B[1;33m)\u001B[0m\u001B[1;33m\u001B[0m\u001B[1;33m\u001B[0m\u001B[0m\n\u001B[0;32m     77\u001B[0m         \u001B[0mX\u001B[0m \u001B[1;33m=\u001B[0m \u001B[0mself\u001B[0m\u001B[1;33m.\u001B[0m\u001B[0m_check_X\u001B[0m\u001B[1;33m(\u001B[0m\u001B[0mX\u001B[0m\u001B[1;33m)\u001B[0m\u001B[1;33m\u001B[0m\u001B[1;33m\u001B[0m\u001B[0m\n\u001B[1;32m---> 78\u001B[1;33m         \u001B[0mjll\u001B[0m \u001B[1;33m=\u001B[0m \u001B[0mself\u001B[0m\u001B[1;33m.\u001B[0m\u001B[0m_joint_log_likelihood\u001B[0m\u001B[1;33m(\u001B[0m\u001B[0mX\u001B[0m\u001B[1;33m)\u001B[0m\u001B[1;33m\u001B[0m\u001B[1;33m\u001B[0m\u001B[0m\n\u001B[0m\u001B[0;32m     79\u001B[0m         \u001B[1;32mreturn\u001B[0m \u001B[0mself\u001B[0m\u001B[1;33m.\u001B[0m\u001B[0mclasses_\u001B[0m\u001B[1;33m[\u001B[0m\u001B[0mnp\u001B[0m\u001B[1;33m.\u001B[0m\u001B[0margmax\u001B[0m\u001B[1;33m(\u001B[0m\u001B[0mjll\u001B[0m\u001B[1;33m,\u001B[0m \u001B[0maxis\u001B[0m\u001B[1;33m=\u001B[0m\u001B[1;36m1\u001B[0m\u001B[1;33m)\u001B[0m\u001B[1;33m]\u001B[0m\u001B[1;33m\u001B[0m\u001B[1;33m\u001B[0m\u001B[0m\n\u001B[0;32m     80\u001B[0m \u001B[1;33m\u001B[0m\u001B[0m\n",
      "\u001B[1;32mC:\\ProgramData\\Anaconda3\\lib\\site-packages\\sklearn\\naive_bayes.py\u001B[0m in \u001B[0;36m_joint_log_likelihood\u001B[1;34m(self, X)\u001B[0m\n\u001B[0;32m   1009\u001B[0m \u001B[1;33m\u001B[0m\u001B[0m\n\u001B[0;32m   1010\u001B[0m         \u001B[1;32mif\u001B[0m \u001B[0mn_features_X\u001B[0m \u001B[1;33m!=\u001B[0m \u001B[0mn_features\u001B[0m\u001B[1;33m:\u001B[0m\u001B[1;33m\u001B[0m\u001B[1;33m\u001B[0m\u001B[0m\n\u001B[1;32m-> 1011\u001B[1;33m             raise ValueError(\"Expected input with %d features, got %d instead\"\n\u001B[0m\u001B[0;32m   1012\u001B[0m                              % (n_features, n_features_X))\n\u001B[0;32m   1013\u001B[0m \u001B[1;33m\u001B[0m\u001B[0m\n",
      "\u001B[1;31mValueError\u001B[0m: Expected input with 441 features, got 307 instead"
     ]
    }
   ],
   "source": [
    "maybe = FINAL_MODEL.predict(X_test)"
   ]
  },
  {
   "cell_type": "code",
   "execution_count": 162,
   "metadata": {},
   "outputs": [],
   "source": [
    "differences = []\n",
    "for i in X_1hot.columns:\n",
    "    if i not in X_test.columns:\n",
    "        differences.append(i)"
   ]
  },
  {
   "cell_type": "code",
   "execution_count": 163,
   "metadata": {},
   "outputs": [
    {
     "data": {
      "text/plain": [
       "['Neighborhood_Bayview',\n",
       " 'Neighborhood_Belvedere',\n",
       " 'Neighborhood_Boyd-Booth',\n",
       " \"Neighborhood_Butcher's Hill\",\n",
       " 'Neighborhood_CARE',\n",
       " 'Neighborhood_Carroll - Camden Industri',\n",
       " 'Neighborhood_Chinquapin Park',\n",
       " 'Neighborhood_Coldstream Homestead Mont',\n",
       " 'Neighborhood_Concerned Citizens Of For',\n",
       " 'Neighborhood_Coppin Heights/Ash-Co-Eas',\n",
       " 'Neighborhood_Curtis Bay Industrial Are',\n",
       " 'Neighborhood_Downtown West',\n",
       " 'Neighborhood_Dundalk Marine Terminal',\n",
       " 'Neighborhood_Edgewood',\n",
       " 'Neighborhood_Evesham Park',\n",
       " 'Neighborhood_Glenham-Belhar',\n",
       " 'Neighborhood_Hamilton Hills',\n",
       " 'Neighborhood_Locust Point Industrial A',\n",
       " 'Neighborhood_Lower Edmondson Village',\n",
       " 'Neighborhood_McElderry Park',\n",
       " 'Neighborhood_Middle Branch/Reedbird Pa',\n",
       " 'Neighborhood_North Roland Park/Poplar',\n",
       " 'Neighborhood_Northwest Community Actio',\n",
       " 'Neighborhood_Old Goucher',\n",
       " 'Neighborhood_Orangeville Industrial Ar',\n",
       " 'Neighborhood_Orchard Ridge',\n",
       " 'Neighborhood_Patterson Park Neighborho',\n",
       " 'Neighborhood_Penrose/Fayette Street Ou',\n",
       " \"Neighborhood_Ridgely's Delight\",\n",
       " 'Neighborhood_Rosemont Homeowners/Tenan',\n",
       " 'Neighborhood_South Baltimore',\n",
       " 'Neighborhood_Spring Garden Industrial',\n",
       " 'Neighborhood_Stonewood-Pentwood-Winsto',\n",
       " 'Neighborhood_Villages Of Homeland',\n",
       " 'Neighborhood_Washington Village/Pigtow',\n",
       " 'Neighborhood_Wilhelm Park',\n",
       " 'Neighborhood_Woodbourne-McCabe',\n",
       " 'Neighborhood_Wrenlane',\n",
       " 'Neighborhood_York-Homeland',\n",
       " 'Premise_APARTMENT',\n",
       " 'Premise_APT. LOCKE',\n",
       " 'Premise_APT/CONDO',\n",
       " 'Premise_ARENA',\n",
       " 'Premise_ATM MACHIN',\n",
       " 'Premise_AUTO PARTS',\n",
       " 'Premise_Alley',\n",
       " 'Premise_BANK/FINAN',\n",
       " 'Premise_BARBER/BEA',\n",
       " 'Premise_BLDG UNDER',\n",
       " 'Premise_BOAT YARD',\n",
       " 'Premise_BOX CARS/C',\n",
       " 'Premise_BRIDGE-PIE',\n",
       " 'Premise_BUS.  STOR',\n",
       " 'Premise_BUS. PARK',\n",
       " 'Premise_BUS/RAILRO',\n",
       " 'Premise_CAR  REPAI',\n",
       " 'Premise_CAR LOT-NE',\n",
       " 'Premise_CHAIN FOOD',\n",
       " 'Premise_CLOTHING/S',\n",
       " 'Premise_CLUB HOUSE',\n",
       " 'Premise_CONSTRUCTI',\n",
       " 'Premise_CONVENIENC',\n",
       " 'Premise_CONVENTION',\n",
       " 'Premise_COURT HOUS',\n",
       " 'Premise_Church',\n",
       " 'Premise_Common Bus',\n",
       " 'Premise_DEPARTMENT',\n",
       " 'Premise_DOCTORS OF',\n",
       " 'Premise_DRUG STORE',\n",
       " 'Premise_Day Care F',\n",
       " 'Premise_Dwelling',\n",
       " 'Premise_FINANCE/LO',\n",
       " 'Premise_FIRE DEPAR',\n",
       " 'Premise_GAS STATIO',\n",
       " 'Premise_GROCERY/CO',\n",
       " 'Premise_Gas Statio',\n",
       " 'Premise_HARDWARE/B',\n",
       " 'Premise_HOSP/NURS.',\n",
       " 'Premise_HOTEL/MOTE',\n",
       " 'Premise_HOUSE UNDE',\n",
       " 'Premise_Hospital',\n",
       " 'Premise_INNER HARB',\n",
       " 'Premise_JEWELRY ST',\n",
       " 'Premise_LAUNDRY/CL',\n",
       " 'Premise_LIQUOR STO',\n",
       " 'Premise_MAILBOX-ST',\n",
       " 'Premise_MANUFACTUR',\n",
       " 'Premise_MARKET STA',\n",
       " 'Premise_MINI STORA',\n",
       " 'Premise_MOBILE HOM',\n",
       " 'Premise_MTA LOT',\n",
       " 'Premise_NIGHT DEPO',\n",
       " 'Premise_OFFICE BUI',\n",
       " 'Premise_OTHER - IN',\n",
       " 'Premise_OTHER - OU',\n",
       " 'Premise_OTHER/RESI',\n",
       " 'Premise_PARKING LO',\n",
       " 'Premise_PENITENTIA',\n",
       " 'Premise_PHOTO STUD',\n",
       " 'Premise_PIZZA/OTHE',\n",
       " 'Premise_PLAYGROUND',\n",
       " 'Premise_POLICE DEP',\n",
       " 'Premise_POOL/BOWLI',\n",
       " 'Premise_PUBLIC BUI',\n",
       " 'Premise_PUBLIC HOU',\n",
       " 'Premise_Parking Lo',\n",
       " 'Premise_Private Sc',\n",
       " 'Premise_Public Are',\n",
       " 'Premise_Public Hou',\n",
       " 'Premise_Public Sch',\n",
       " 'Premise_RAILROAD C',\n",
       " 'Premise_RECREATION',\n",
       " 'Premise_RELIGIOUS',\n",
       " 'Premise_RENTAL/VID',\n",
       " 'Premise_RETAIL/SMA',\n",
       " 'Premise_ROW/TOWNHO',\n",
       " 'Premise_SALESMAN/C',\n",
       " 'Premise_SCHOOL PLA',\n",
       " 'Premise_SHOPPING M',\n",
       " 'Premise_SINGLE HOU',\n",
       " 'Premise_SKYWALK',\n",
       " 'Premise_SPECIALTY',\n",
       " 'Premise_STRUCTURE-',\n",
       " 'Premise_SUBWAY',\n",
       " 'Premise_TAVERN/NIG',\n",
       " 'Premise_TRACTOR TR',\n",
       " 'Premise_TRUCKING &',\n",
       " 'Premise_UTILITIES-',\n",
       " 'Premise_VACANT BUI',\n",
       " 'Premise_VACANT LOT',\n",
       " 'Premise_Vacant Dwe',\n",
       " 'Premise_Vehicle',\n",
       " 'Premise_WHOLESALE/',\n",
       " 'Premise_YARD/BUSIN']"
      ]
     },
     "execution_count": 163,
     "metadata": {},
     "output_type": "execute_result"
    }
   ],
   "source": [
    "differences"
   ]
  },
  {
   "cell_type": "code",
   "execution_count": 164,
   "metadata": {},
   "outputs": [],
   "source": [
    "X_test[differences] = 0"
   ]
  },
  {
   "cell_type": "code",
   "execution_count": 165,
   "metadata": {},
   "outputs": [],
   "source": [
    "maybe = FINAL_MODEL.predict(X_test)"
   ]
  },
  {
   "cell_type": "code",
   "execution_count": 167,
   "metadata": {},
   "outputs": [
    {
     "data": {
      "text/plain": [
       "0.2694795195565137"
      ]
     },
     "execution_count": 167,
     "metadata": {},
     "output_type": "execute_result"
    }
   ],
   "source": [
    "metrics.accuracy_score(maybe,Y_test)"
   ]
  },
  {
   "cell_type": "code",
   "execution_count": 169,
   "metadata": {},
   "outputs": [
    {
     "data": {
      "text/plain": [
       "0.2694795195565137"
      ]
     },
     "execution_count": 169,
     "metadata": {},
     "output_type": "execute_result"
    }
   ],
   "source": [
    "metrics.recall_score(maybe,Y_test,average=\"weighted\",zero_division=0)"
   ]
  },
  {
   "cell_type": "code",
   "execution_count": 170,
   "metadata": {},
   "outputs": [
    {
     "data": {
      "text/plain": [
       "0.39516007211451837"
      ]
     },
     "execution_count": 170,
     "metadata": {},
     "output_type": "execute_result"
    }
   ],
   "source": [
    "metrics.precision_score(maybe,Y_test,average=\"weighted\",zero_division=0)"
   ]
  },
  {
   "cell_type": "code",
   "execution_count": 171,
   "metadata": {},
   "outputs": [
    {
     "data": {
      "text/plain": [
       "0.2969819354806202"
      ]
     },
     "execution_count": 171,
     "metadata": {},
     "output_type": "execute_result"
    }
   ],
   "source": [
    "metrics.f1_score(maybe,Y_test,average=\"weighted\",zero_division=0)"
   ]
  },
  {
   "cell_type": "markdown",
   "metadata": {},
   "source": [
    "# Very interesting. 1-hoting everything results in far fewer features if those categories are missing in the new data, resulting in substandard performance! Original model is the way to go."
   ]
  },
  {
   "cell_type": "code",
   "execution_count": null,
   "metadata": {},
   "outputs": [],
   "source": []
  }
 ],
 "metadata": {
  "hide_input": false,
  "kernelspec": {
   "display_name": "Python 3",
   "language": "python",
   "name": "python3"
  },
  "language_info": {
   "codemirror_mode": {
    "name": "ipython",
    "version": 3
   },
   "file_extension": ".py",
   "mimetype": "text/x-python",
   "name": "python",
   "nbconvert_exporter": "python",
   "pygments_lexer": "ipython3",
   "version": "3.7.7"
  },
  "toc": {
   "base_numbering": 1,
   "nav_menu": {},
   "number_sections": true,
   "sideBar": true,
   "skip_h1_title": false,
   "title_cell": "Table of Contents",
   "title_sidebar": "Contents",
   "toc_cell": false,
   "toc_position": {},
   "toc_section_display": true,
   "toc_window_display": false
  },
  "varInspector": {
   "cols": {
    "lenName": 16,
    "lenType": 16,
    "lenVar": 40
   },
   "kernels_config": {
    "python": {
     "delete_cmd_postfix": "",
     "delete_cmd_prefix": "del ",
     "library": "var_list.py",
     "varRefreshCmd": "print(var_dic_list())"
    },
    "r": {
     "delete_cmd_postfix": ") ",
     "delete_cmd_prefix": "rm(",
     "library": "var_list.r",
     "varRefreshCmd": "cat(var_dic_list()) "
    }
   },
   "types_to_exclude": [
    "module",
    "function",
    "builtin_function_or_method",
    "instance",
    "_Feature"
   ],
   "window_display": false
  }
 },
 "nbformat": 4,
 "nbformat_minor": 4
}