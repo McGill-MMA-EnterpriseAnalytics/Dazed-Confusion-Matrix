{
 "cells": [
  {
   "cell_type": "code",
   "execution_count": 1,
   "metadata": {
    "collapsed": true
   },
   "outputs": [],
   "source": [
    "import pandas as pd\n",
    "import numpy as np"
   ]
  },
  {
   "cell_type": "code",
   "execution_count": 5,
   "outputs": [],
   "source": [
    "df = pd.read_csv(\"../data/BPD_CRIME_DATA_W_IMPUTED_DEMO.csv\")"
   ],
   "metadata": {
    "collapsed": false,
    "pycharm": {
     "name": "#%%\n"
    }
   }
  },
  {
   "cell_type": "code",
   "execution_count": 6,
   "outputs": [
    {
     "data": {
      "text/plain": "   Unnamed: 0  Description   Post  District  Neighborhood  Longitude  \\\n0           0           11  913.0         6            26  -76.60541   \n1           1            3  133.0         0           214  -76.63217   \n2           2           14  524.0         3           268  -76.60697   \n3           3            0  934.0         6            37  -76.64526   \n4           4            5  113.0         0            63  -76.61365   \n\n   Latitude  Premise  Month  Hour  ...  Outside  Weapon_FIREARM  Weapon_HANDS  \\\n0  39.22951       93      9    23  ...        0               0             0   \n1  39.31360      103      9    23  ...        1               0             0   \n2  39.34768      103      9    22  ...        1               1             0   \n3  39.28315       93      9    22  ...        0               0             0   \n4  39.28756      103      9    22  ...        1               0             1   \n\n   Weapon_KNIFE  Weapon_NONE  Weapon_OTHER  Season_autumn  Season_spring  \\\n0             1            0             0              0              0   \n1             0            1             0              0              0   \n2             0            0             0              0              0   \n3             0            0             1              0              0   \n4             0            0             0              0              0   \n\n   Season_summer  Season_winter  \n0              1              0  \n1              1              0  \n2              1              0  \n3              1              0  \n4              1              0  \n\n[5 rows x 31 columns]",
      "text/html": "<div>\n<style scoped>\n    .dataframe tbody tr th:only-of-type {\n        vertical-align: middle;\n    }\n\n    .dataframe tbody tr th {\n        vertical-align: top;\n    }\n\n    .dataframe thead th {\n        text-align: right;\n    }\n</style>\n<table border=\"1\" class=\"dataframe\">\n  <thead>\n    <tr style=\"text-align: right;\">\n      <th></th>\n      <th>Unnamed: 0</th>\n      <th>Description</th>\n      <th>Post</th>\n      <th>District</th>\n      <th>Neighborhood</th>\n      <th>Longitude</th>\n      <th>Latitude</th>\n      <th>Premise</th>\n      <th>Month</th>\n      <th>Hour</th>\n      <th>...</th>\n      <th>Outside</th>\n      <th>Weapon_FIREARM</th>\n      <th>Weapon_HANDS</th>\n      <th>Weapon_KNIFE</th>\n      <th>Weapon_NONE</th>\n      <th>Weapon_OTHER</th>\n      <th>Season_autumn</th>\n      <th>Season_spring</th>\n      <th>Season_summer</th>\n      <th>Season_winter</th>\n    </tr>\n  </thead>\n  <tbody>\n    <tr>\n      <th>0</th>\n      <td>0</td>\n      <td>11</td>\n      <td>913.0</td>\n      <td>6</td>\n      <td>26</td>\n      <td>-76.60541</td>\n      <td>39.22951</td>\n      <td>93</td>\n      <td>9</td>\n      <td>23</td>\n      <td>...</td>\n      <td>0</td>\n      <td>0</td>\n      <td>0</td>\n      <td>1</td>\n      <td>0</td>\n      <td>0</td>\n      <td>0</td>\n      <td>0</td>\n      <td>1</td>\n      <td>0</td>\n    </tr>\n    <tr>\n      <th>1</th>\n      <td>1</td>\n      <td>3</td>\n      <td>133.0</td>\n      <td>0</td>\n      <td>214</td>\n      <td>-76.63217</td>\n      <td>39.31360</td>\n      <td>103</td>\n      <td>9</td>\n      <td>23</td>\n      <td>...</td>\n      <td>1</td>\n      <td>0</td>\n      <td>0</td>\n      <td>0</td>\n      <td>1</td>\n      <td>0</td>\n      <td>0</td>\n      <td>0</td>\n      <td>1</td>\n      <td>0</td>\n    </tr>\n    <tr>\n      <th>2</th>\n      <td>2</td>\n      <td>14</td>\n      <td>524.0</td>\n      <td>3</td>\n      <td>268</td>\n      <td>-76.60697</td>\n      <td>39.34768</td>\n      <td>103</td>\n      <td>9</td>\n      <td>22</td>\n      <td>...</td>\n      <td>1</td>\n      <td>1</td>\n      <td>0</td>\n      <td>0</td>\n      <td>0</td>\n      <td>0</td>\n      <td>0</td>\n      <td>0</td>\n      <td>1</td>\n      <td>0</td>\n    </tr>\n    <tr>\n      <th>3</th>\n      <td>3</td>\n      <td>0</td>\n      <td>934.0</td>\n      <td>6</td>\n      <td>37</td>\n      <td>-76.64526</td>\n      <td>39.28315</td>\n      <td>93</td>\n      <td>9</td>\n      <td>22</td>\n      <td>...</td>\n      <td>0</td>\n      <td>0</td>\n      <td>0</td>\n      <td>0</td>\n      <td>0</td>\n      <td>1</td>\n      <td>0</td>\n      <td>0</td>\n      <td>1</td>\n      <td>0</td>\n    </tr>\n    <tr>\n      <th>4</th>\n      <td>4</td>\n      <td>5</td>\n      <td>113.0</td>\n      <td>0</td>\n      <td>63</td>\n      <td>-76.61365</td>\n      <td>39.28756</td>\n      <td>103</td>\n      <td>9</td>\n      <td>22</td>\n      <td>...</td>\n      <td>1</td>\n      <td>0</td>\n      <td>1</td>\n      <td>0</td>\n      <td>0</td>\n      <td>0</td>\n      <td>0</td>\n      <td>0</td>\n      <td>1</td>\n      <td>0</td>\n    </tr>\n  </tbody>\n</table>\n<p>5 rows × 31 columns</p>\n</div>"
     },
     "execution_count": 6,
     "metadata": {},
     "output_type": "execute_result"
    }
   ],
   "source": [
    "df.head()\n"
   ],
   "metadata": {
    "collapsed": false,
    "pycharm": {
     "name": "#%%\n"
    }
   }
  },
  {
   "cell_type": "code",
   "execution_count": 7,
   "outputs": [],
   "source": [
    "df = df.drop(columns=\"Unnamed: 0\")\n"
   ],
   "metadata": {
    "collapsed": false,
    "pycharm": {
     "name": "#%%\n"
    }
   }
  },
  {
   "cell_type": "code",
   "execution_count": 8,
   "outputs": [
    {
     "data": {
      "text/plain": "   Description   Post  District  Neighborhood  Longitude  Latitude  Premise  \\\n0           11  913.0         6            26  -76.60541  39.22951       93   \n1            3  133.0         0           214  -76.63217  39.31360      103   \n2           14  524.0         3           268  -76.60697  39.34768      103   \n3            0  934.0         6            37  -76.64526  39.28315       93   \n4            5  113.0         0            63  -76.61365  39.28756      103   \n\n   Month  Hour  Year  ...  Outside  Weapon_FIREARM  Weapon_HANDS  \\\n0      9    23  2017  ...        0               0             0   \n1      9    23  2017  ...        1               0             0   \n2      9    22  2017  ...        1               1             0   \n3      9    22  2017  ...        0               0             0   \n4      9    22  2017  ...        1               0             1   \n\n   Weapon_KNIFE  Weapon_NONE  Weapon_OTHER  Season_autumn  Season_spring  \\\n0             1            0             0              0              0   \n1             0            1             0              0              0   \n2             0            0             0              0              0   \n3             0            0             1              0              0   \n4             0            0             0              0              0   \n\n   Season_summer  Season_winter  \n0              1              0  \n1              1              0  \n2              1              0  \n3              1              0  \n4              1              0  \n\n[5 rows x 30 columns]",
      "text/html": "<div>\n<style scoped>\n    .dataframe tbody tr th:only-of-type {\n        vertical-align: middle;\n    }\n\n    .dataframe tbody tr th {\n        vertical-align: top;\n    }\n\n    .dataframe thead th {\n        text-align: right;\n    }\n</style>\n<table border=\"1\" class=\"dataframe\">\n  <thead>\n    <tr style=\"text-align: right;\">\n      <th></th>\n      <th>Description</th>\n      <th>Post</th>\n      <th>District</th>\n      <th>Neighborhood</th>\n      <th>Longitude</th>\n      <th>Latitude</th>\n      <th>Premise</th>\n      <th>Month</th>\n      <th>Hour</th>\n      <th>Year</th>\n      <th>...</th>\n      <th>Outside</th>\n      <th>Weapon_FIREARM</th>\n      <th>Weapon_HANDS</th>\n      <th>Weapon_KNIFE</th>\n      <th>Weapon_NONE</th>\n      <th>Weapon_OTHER</th>\n      <th>Season_autumn</th>\n      <th>Season_spring</th>\n      <th>Season_summer</th>\n      <th>Season_winter</th>\n    </tr>\n  </thead>\n  <tbody>\n    <tr>\n      <th>0</th>\n      <td>11</td>\n      <td>913.0</td>\n      <td>6</td>\n      <td>26</td>\n      <td>-76.60541</td>\n      <td>39.22951</td>\n      <td>93</td>\n      <td>9</td>\n      <td>23</td>\n      <td>2017</td>\n      <td>...</td>\n      <td>0</td>\n      <td>0</td>\n      <td>0</td>\n      <td>1</td>\n      <td>0</td>\n      <td>0</td>\n      <td>0</td>\n      <td>0</td>\n      <td>1</td>\n      <td>0</td>\n    </tr>\n    <tr>\n      <th>1</th>\n      <td>3</td>\n      <td>133.0</td>\n      <td>0</td>\n      <td>214</td>\n      <td>-76.63217</td>\n      <td>39.31360</td>\n      <td>103</td>\n      <td>9</td>\n      <td>23</td>\n      <td>2017</td>\n      <td>...</td>\n      <td>1</td>\n      <td>0</td>\n      <td>0</td>\n      <td>0</td>\n      <td>1</td>\n      <td>0</td>\n      <td>0</td>\n      <td>0</td>\n      <td>1</td>\n      <td>0</td>\n    </tr>\n    <tr>\n      <th>2</th>\n      <td>14</td>\n      <td>524.0</td>\n      <td>3</td>\n      <td>268</td>\n      <td>-76.60697</td>\n      <td>39.34768</td>\n      <td>103</td>\n      <td>9</td>\n      <td>22</td>\n      <td>2017</td>\n      <td>...</td>\n      <td>1</td>\n      <td>1</td>\n      <td>0</td>\n      <td>0</td>\n      <td>0</td>\n      <td>0</td>\n      <td>0</td>\n      <td>0</td>\n      <td>1</td>\n      <td>0</td>\n    </tr>\n    <tr>\n      <th>3</th>\n      <td>0</td>\n      <td>934.0</td>\n      <td>6</td>\n      <td>37</td>\n      <td>-76.64526</td>\n      <td>39.28315</td>\n      <td>93</td>\n      <td>9</td>\n      <td>22</td>\n      <td>2017</td>\n      <td>...</td>\n      <td>0</td>\n      <td>0</td>\n      <td>0</td>\n      <td>0</td>\n      <td>0</td>\n      <td>1</td>\n      <td>0</td>\n      <td>0</td>\n      <td>1</td>\n      <td>0</td>\n    </tr>\n    <tr>\n      <th>4</th>\n      <td>5</td>\n      <td>113.0</td>\n      <td>0</td>\n      <td>63</td>\n      <td>-76.61365</td>\n      <td>39.28756</td>\n      <td>103</td>\n      <td>9</td>\n      <td>22</td>\n      <td>2017</td>\n      <td>...</td>\n      <td>1</td>\n      <td>0</td>\n      <td>1</td>\n      <td>0</td>\n      <td>0</td>\n      <td>0</td>\n      <td>0</td>\n      <td>0</td>\n      <td>1</td>\n      <td>0</td>\n    </tr>\n  </tbody>\n</table>\n<p>5 rows × 30 columns</p>\n</div>"
     },
     "execution_count": 8,
     "metadata": {},
     "output_type": "execute_result"
    }
   ],
   "source": [
    "df.head()\n"
   ],
   "metadata": {
    "collapsed": false,
    "pycharm": {
     "name": "#%%\n"
    }
   }
  },
  {
   "cell_type": "code",
   "execution_count": 10,
   "outputs": [
    {
     "name": "stdout",
     "output_type": "stream",
     "text": [
      "<class 'pandas.core.frame.DataFrame'>\n",
      "RangeIndex: 263121 entries, 0 to 263120\n",
      "Data columns (total 30 columns):\n",
      " #   Column                    Non-Null Count   Dtype  \n",
      "---  ------                    --------------   -----  \n",
      " 0   Description               263121 non-null  int64  \n",
      " 1   Post                      263121 non-null  float64\n",
      " 2   District                  263121 non-null  int64  \n",
      " 3   Neighborhood              263121 non-null  int64  \n",
      " 4   Longitude                 263121 non-null  float64\n",
      " 5   Latitude                  263121 non-null  float64\n",
      " 6   Premise                   263121 non-null  int64  \n",
      " 7   Month                     263121 non-null  int64  \n",
      " 8   Hour                      263121 non-null  int64  \n",
      " 9   Year                      263121 non-null  int64  \n",
      " 10  median_household_income   263121 non-null  float64\n",
      " 11  households_below_poverty  263121 non-null  float64\n",
      " 12  perc18_24                 263121 non-null  float64\n",
      " 13  perc25_64                 263121 non-null  float64\n",
      " 14  perc65up                  263121 non-null  float64\n",
      " 15  perc_asian                263121 non-null  float64\n",
      " 16  perc_aa                   263121 non-null  float64\n",
      " 17  perc_hisp                 263121 non-null  float64\n",
      " 18  pwhi                      263121 non-null  float64\n",
      " 19  median_price_homes_sold   263121 non-null  float64\n",
      " 20  Outside                   263121 non-null  int64  \n",
      " 21  Weapon_FIREARM            263121 non-null  int64  \n",
      " 22  Weapon_HANDS              263121 non-null  int64  \n",
      " 23  Weapon_KNIFE              263121 non-null  int64  \n",
      " 24  Weapon_NONE               263121 non-null  int64  \n",
      " 25  Weapon_OTHER              263121 non-null  int64  \n",
      " 26  Season_autumn             263121 non-null  int64  \n",
      " 27  Season_spring             263121 non-null  int64  \n",
      " 28  Season_summer             263121 non-null  int64  \n",
      " 29  Season_winter             263121 non-null  int64  \n",
      "dtypes: float64(13), int64(17)\n",
      "memory usage: 60.2 MB\n"
     ]
    }
   ],
   "source": [
    "df.info()"
   ],
   "metadata": {
    "collapsed": false,
    "pycharm": {
     "name": "#%%\n"
    }
   }
  },
  {
   "cell_type": "code",
   "execution_count": 11,
   "outputs": [],
   "source": [
    "df = df.drop(columns=[\"Post\", \"District\",\"Longitude\",\"Latitude\",\"Year\",\"Season_autumn\",\"Season_spring\",\"Season_summer\",\"Season_winter\"])\n"
   ],
   "metadata": {
    "collapsed": false,
    "pycharm": {
     "name": "#%%\n"
    }
   }
  },
  {
   "cell_type": "code",
   "execution_count": 12,
   "outputs": [
    {
     "name": "stdout",
     "output_type": "stream",
     "text": [
      "<class 'pandas.core.frame.DataFrame'>\n",
      "RangeIndex: 263121 entries, 0 to 263120\n",
      "Data columns (total 21 columns):\n",
      " #   Column                    Non-Null Count   Dtype  \n",
      "---  ------                    --------------   -----  \n",
      " 0   Description               263121 non-null  int64  \n",
      " 1   Neighborhood              263121 non-null  int64  \n",
      " 2   Premise                   263121 non-null  int64  \n",
      " 3   Month                     263121 non-null  int64  \n",
      " 4   Hour                      263121 non-null  int64  \n",
      " 5   median_household_income   263121 non-null  float64\n",
      " 6   households_below_poverty  263121 non-null  float64\n",
      " 7   perc18_24                 263121 non-null  float64\n",
      " 8   perc25_64                 263121 non-null  float64\n",
      " 9   perc65up                  263121 non-null  float64\n",
      " 10  perc_asian                263121 non-null  float64\n",
      " 11  perc_aa                   263121 non-null  float64\n",
      " 12  perc_hisp                 263121 non-null  float64\n",
      " 13  pwhi                      263121 non-null  float64\n",
      " 14  median_price_homes_sold   263121 non-null  float64\n",
      " 15  Outside                   263121 non-null  int64  \n",
      " 16  Weapon_FIREARM            263121 non-null  int64  \n",
      " 17  Weapon_HANDS              263121 non-null  int64  \n",
      " 18  Weapon_KNIFE              263121 non-null  int64  \n",
      " 19  Weapon_NONE               263121 non-null  int64  \n",
      " 20  Weapon_OTHER              263121 non-null  int64  \n",
      "dtypes: float64(10), int64(11)\n",
      "memory usage: 42.2 MB\n"
     ]
    }
   ],
   "source": [
    "df.info()\n"
   ],
   "metadata": {
    "collapsed": false,
    "pycharm": {
     "name": "#%%\n"
    }
   }
  },
  {
   "cell_type": "code",
   "execution_count": 13,
   "outputs": [],
   "source": [
    "X = df.drop(columns = ['Description'])\n",
    "y = df['Description']\n"
   ],
   "metadata": {
    "collapsed": false,
    "pycharm": {
     "name": "#%%\n"
    }
   }
  },
  {
   "cell_type": "markdown",
   "source": [
    "Let's test out random forest and compare to the old version\n",
    "\n"
   ],
   "metadata": {
    "collapsed": false,
    "pycharm": {
     "name": "#%% md\n"
    }
   }
  },
  {
   "cell_type": "code",
   "execution_count": 14,
   "outputs": [],
   "source": [
    "from sklearn.ensemble import RandomForestClassifier\n",
    "RF = RandomForestClassifier(random_state=42069, n_estimators=100)\n"
   ],
   "metadata": {
    "collapsed": false,
    "pycharm": {
     "name": "#%%\n"
    }
   }
  },
  {
   "cell_type": "code",
   "execution_count": 16,
   "outputs": [],
   "source": [
    "import timeit\n",
    "from sklearn.model_selection import cross_val_score"
   ],
   "metadata": {
    "collapsed": false,
    "pycharm": {
     "name": "#%%\n"
    }
   }
  },
  {
   "cell_type": "code",
   "execution_count": 17,
   "outputs": [
    {
     "name": "stdout",
     "output_type": "stream",
     "text": [
      "Time:  42.794005200000015\n"
     ]
    }
   ],
   "source": [
    "start = timeit.default_timer()\n",
    "scores = cross_val_score(RF, X, y, cv=5, scoring='f1_macro', n_jobs=-1)\n",
    "stop = timeit.default_timer()\n",
    "print('Time: ', stop - start)"
   ],
   "metadata": {
    "collapsed": false,
    "pycharm": {
     "name": "#%%\n"
    }
   }
  },
  {
   "cell_type": "code",
   "execution_count": 22,
   "outputs": [
    {
     "data": {
      "text/plain": "0.3494268735205196"
     },
     "execution_count": 22,
     "metadata": {},
     "output_type": "execute_result"
    }
   ],
   "source": [
    "np.mean(scores)"
   ],
   "metadata": {
    "collapsed": false,
    "pycharm": {
     "name": "#%%\n"
    }
   }
  },
  {
   "cell_type": "markdown",
   "source": [
    "Roughly the same...."
   ],
   "metadata": {
    "collapsed": false,
    "pycharm": {
     "name": "#%% md\n"
    }
   }
  },
  {
   "cell_type": "code",
   "execution_count": 23,
   "outputs": [],
   "source": [
    "import lightgbm as lgb"
   ],
   "metadata": {
    "collapsed": false,
    "pycharm": {
     "name": "#%%\n"
    }
   }
  },
  {
   "cell_type": "code",
   "execution_count": 25,
   "outputs": [],
   "source": [
    "clf = lgb.LGBMClassifier(objective='multiclass',\n",
    "                         random_state=42069, silent=True,\n",
    "                         n_jobs=-1, n_estimators=100, class_weight='balanced')\n"
   ],
   "metadata": {
    "collapsed": false,
    "pycharm": {
     "name": "#%%\n"
    }
   }
  },
  {
   "cell_type": "code",
   "execution_count": 27,
   "outputs": [
    {
     "name": "stdout",
     "output_type": "stream",
     "text": [
      "Time:  26.592783000000054\n"
     ]
    }
   ],
   "source": [
    "start = timeit.default_timer()\n",
    "scores = cross_val_score(clf, X, y, cv=5, scoring='f1_macro', n_jobs=-1)\n",
    "stop = timeit.default_timer()\n",
    "print('Time: ', stop - start)"
   ],
   "metadata": {
    "collapsed": false,
    "pycharm": {
     "name": "#%%\n"
    }
   }
  },
  {
   "cell_type": "code",
   "execution_count": 28,
   "outputs": [
    {
     "data": {
      "text/plain": "0.3817401630071062"
     },
     "execution_count": 28,
     "metadata": {},
     "output_type": "execute_result"
    }
   ],
   "source": [
    "np.mean(scores)\n"
   ],
   "metadata": {
    "collapsed": false,
    "pycharm": {
     "name": "#%%\n"
    }
   }
  },
  {
   "cell_type": "markdown",
   "source": [
    "Very marginally better. Let's try to tune this a little.\n"
   ],
   "metadata": {
    "collapsed": false,
    "pycharm": {
     "name": "#%% md\n"
    }
   }
  },
  {
   "cell_type": "code",
   "execution_count": 29,
   "outputs": [
    {
     "data": {
      "text/plain": "LGBMClassifier(class_weight='balanced', objective='multiclass',\n               random_state=42069)"
     },
     "execution_count": 29,
     "metadata": {},
     "output_type": "execute_result"
    }
   ],
   "source": [
    "clf.fit(X,y)\n"
   ],
   "metadata": {
    "collapsed": false,
    "pycharm": {
     "name": "#%%\n"
    }
   }
  },
  {
   "cell_type": "code",
   "execution_count": 30,
   "outputs": [
    {
     "data": {
      "text/plain": "<AxesSubplot:title={'center':'Feature importance'}, xlabel='Feature importance', ylabel='Features'>"
     },
     "execution_count": 30,
     "metadata": {},
     "output_type": "execute_result"
    },
    {
     "data": {
      "text/plain": "<Figure size 432x288 with 1 Axes>",
      "image/png": "[encoded data removed]"
     },
     "metadata": {
      "needs_background": "light"
     },
     "output_type": "display_data"
    }
   ],
   "source": [
    "lgb.plot_importance(clf)\n"
   ],
   "metadata": {
    "collapsed": false,
    "pycharm": {
     "name": "#%%\n"
    }
   }
  },
  {
   "cell_type": "markdown",
   "source": [
    "Looks like the new features work well. We can later try to drop the weapon type and the outside variable for a more generalizable model"
   ],
   "metadata": {
    "collapsed": false,
    "pycharm": {
     "name": "#%% md\n"
    }
   }
  },
  {
   "cell_type": "code",
   "execution_count": 33,
   "outputs": [],
   "source": [
    "from sklearn.model_selection import RandomizedSearchCV\n",
    "from scipy.stats import randint\n"
   ],
   "metadata": {
    "collapsed": false,
    "pycharm": {
     "name": "#%%\n"
    }
   }
  },
  {
   "cell_type": "code",
   "execution_count": 35,
   "outputs": [],
   "source": [
    "LGBC = lgb.LGBMClassifier(objective='multiclass',num_class=15,\n",
    "                         random_state=42069, silent=True,\n",
    "                         n_jobs=-1)"
   ],
   "metadata": {
    "collapsed": false,
    "pycharm": {
     "name": "#%%\n"
    }
   }
  },
  {
   "cell_type": "code",
   "execution_count": 36,
   "outputs": [],
   "source": [
    "param_distribs = {\n",
    "        'n_estimators': randint(low=1, high=200),\n",
    "        'max_depth': randint(low=2, high=20),\n",
    "        'num_leaves': randint(low=4, high=40)\n",
    "    }"
   ],
   "metadata": {
    "collapsed": false,
    "pycharm": {
     "name": "#%%\n"
    }
   }
  },
  {
   "cell_type": "code",
   "execution_count": 37,
   "outputs": [],
   "source": [
    "LGBM_rand_search = RandomizedSearchCV(LGBC, param_distributions=param_distribs,\n",
    "                                n_iter=20, cv=5, scoring='f1_macro', random_state=42069)"
   ],
   "metadata": {
    "collapsed": false,
    "pycharm": {
     "name": "#%%\n"
    }
   }
  },
  {
   "cell_type": "code",
   "execution_count": 38,
   "outputs": [
    {
     "data": {
      "text/plain": "RandomizedSearchCV(cv=5,\n                   estimator=LGBMClassifier(num_class=15,\n                                            objective='multiclass',\n                                            random_state=42069),\n                   n_iter=20,\n                   param_distributions={'max_depth': <scipy.stats._distn_infrastructure.rv_frozen object at 0x000002512E99F460>,\n                                        'n_estimators': <scipy.stats._distn_infrastructure.rv_frozen object at 0x000002512E99FEB0>,\n                                        'num_leaves': <scipy.stats._distn_infrastructure.rv_frozen object at 0x0000025130624F40>},\n                   random_state=42069, scoring='f1_macro')"
     },
     "execution_count": 38,
     "metadata": {},
     "output_type": "execute_result"
    }
   ],
   "source": [
    "LGBM_rand_search.fit(X,y)\n"
   ],
   "metadata": {
    "collapsed": false,
    "pycharm": {
     "name": "#%%\n"
    }
   }
  },
  {
   "cell_type": "code",
   "execution_count": 39,
   "outputs": [
    {
     "name": "stdout",
     "output_type": "stream",
     "text": [
      "0.3907127029315588 {'max_depth': 11, 'n_estimators': 97, 'num_leaves': 10}\n",
      "0.39802441828519003 {'max_depth': 16, 'n_estimators': 16, 'num_leaves': 36}\n",
      "0.38888420443726524 {'max_depth': 10, 'n_estimators': 199, 'num_leaves': 7}\n",
      "0.38128770377018906 {'max_depth': 7, 'n_estimators': 6, 'num_leaves': 15}\n",
      "0.3888686190540488 {'max_depth': 12, 'n_estimators': 8, 'num_leaves': 12}\n",
      "0.3876687514608196 {'max_depth': 14, 'n_estimators': 196, 'num_leaves': 22}\n",
      "0.393412202956508 {'max_depth': 4, 'n_estimators': 114, 'num_leaves': 23}\n",
      "0.39803899259858444 {'max_depth': 17, 'n_estimators': 37, 'num_leaves': 33}\n",
      "0.3905838543995611 {'max_depth': 16, 'n_estimators': 186, 'num_leaves': 27}\n",
      "0.39290646278251085 {'max_depth': 6, 'n_estimators': 51, 'num_leaves': 14}\n",
      "0.3812540179938139 {'max_depth': 17, 'n_estimators': 77, 'num_leaves': 4}\n",
      "0.3935849112539783 {'max_depth': 16, 'n_estimators': 167, 'num_leaves': 37}\n",
      "0.39342813427830536 {'max_depth': 16, 'n_estimators': 136, 'num_leaves': 32}\n",
      "0.3949806034612816 {'max_depth': 10, 'n_estimators': 52, 'num_leaves': 13}\n",
      "0.3936190946629112 {'max_depth': 9, 'n_estimators': 101, 'num_leaves': 13}\n",
      "0.39736555476696095 {'max_depth': 19, 'n_estimators': 47, 'num_leaves': 35}\n",
      "0.3937152908174623 {'max_depth': 16, 'n_estimators': 115, 'num_leaves': 13}\n",
      "0.3170617652164756 {'max_depth': 2, 'n_estimators': 37, 'num_leaves': 13}\n",
      "0.3921361902239511 {'max_depth': 7, 'n_estimators': 162, 'num_leaves': 8}\n",
      "0.3965016731150571 {'max_depth': 19, 'n_estimators': 20, 'num_leaves': 26}\n"
     ]
    }
   ],
   "source": [
    "LGcvres = LGBM_rand_search.cv_results_\n",
    "for mean_score, params in zip(LGcvres[\"mean_test_score\"], LGcvres[\"params\"]):\n",
    "    print(mean_score, params)"
   ],
   "metadata": {
    "collapsed": false,
    "pycharm": {
     "name": "#%%\n"
    }
   }
  },
  {
   "cell_type": "code",
   "execution_count": 40,
   "outputs": [
    {
     "data": {
      "text/plain": "<AxesSubplot:title={'center':'Feature importance'}, xlabel='Feature importance', ylabel='Features'>"
     },
     "execution_count": 40,
     "metadata": {},
     "output_type": "execute_result"
    },
    {
     "data": {
      "text/plain": "<Figure size 432x288 with 1 Axes>",
      "image/png": "[encoded data removed]"
     },
     "metadata": {
      "needs_background": "light"
     },
     "output_type": "display_data"
    }
   ],
   "source": [
    "lgb.plot_importance(LGBM_rand_search.best_estimator_)\n"
   ],
   "metadata": {
    "collapsed": false,
    "pycharm": {
     "name": "#%%\n"
    }
   }
  },
  {
   "cell_type": "markdown",
   "source": [
    "Let's try this with dart\n"
   ],
   "metadata": {
    "collapsed": false,
    "pycharm": {
     "name": "#%% md\n"
    }
   }
  },
  {
   "cell_type": "code",
   "execution_count": 41,
   "outputs": [],
   "source": [
    "LGB_DART = lgb.LGBMClassifier(objective='multiclass',num_class=15,\n",
    "                         random_state=42069, silent=True,\n",
    "                         n_jobs=-1, boosting_type=\"dart\")\n",
    "LGBM_rand_search = RandomizedSearchCV(LGB_DART, param_distributions=param_distribs,\n",
    "                                n_iter=20, cv=5, scoring='f1_macro', random_state=42069)\n"
   ],
   "metadata": {
    "collapsed": false,
    "pycharm": {
     "name": "#%%\n"
    }
   }
  },
  {
   "cell_type": "code",
   "execution_count": 42,
   "outputs": [
    {
     "data": {
      "text/plain": "RandomizedSearchCV(cv=5,\n                   estimator=LGBMClassifier(boosting_type='dart', num_class=15,\n                                            objective='multiclass',\n                                            random_state=42069),\n                   n_iter=20,\n                   param_distributions={'max_depth': <scipy.stats._distn_infrastructure.rv_frozen object at 0x000002512E99F460>,\n                                        'n_estimators': <scipy.stats._distn_infrastructure.rv_frozen object at 0x000002512E99FEB0>,\n                                        'num_leaves': <scipy.stats._distn_infrastructure.rv_frozen object at 0x0000025130624F40>},\n                   random_state=42069, scoring='f1_macro')"
     },
     "execution_count": 42,
     "metadata": {},
     "output_type": "execute_result"
    }
   ],
   "source": [
    "LGBM_rand_search.fit(X,y)\n"
   ],
   "metadata": {
    "collapsed": false,
    "pycharm": {
     "name": "#%%\n"
    }
   }
  },
  {
   "cell_type": "code",
   "execution_count": 43,
   "outputs": [
    {
     "name": "stdout",
     "output_type": "stream",
     "text": [
      "0.38299209228191355 {'max_depth': 11, 'n_estimators': 97, 'num_leaves': 10}\n",
      "0.39501056727819345 {'max_depth': 16, 'n_estimators': 16, 'num_leaves': 36}\n",
      "0.3809199071154582 {'max_depth': 10, 'n_estimators': 199, 'num_leaves': 7}\n",
      "0.38128770377018906 {'max_depth': 7, 'n_estimators': 6, 'num_leaves': 15}\n",
      "0.38526869931466123 {'max_depth': 12, 'n_estimators': 8, 'num_leaves': 12}\n",
      "0.3946929660454266 {'max_depth': 14, 'n_estimators': 196, 'num_leaves': 22}\n",
      "0.38200898446779064 {'max_depth': 4, 'n_estimators': 114, 'num_leaves': 23}\n",
      "0.39397608733830564 {'max_depth': 17, 'n_estimators': 37, 'num_leaves': 33}\n",
      "0.3948914439711963 {'max_depth': 16, 'n_estimators': 186, 'num_leaves': 27}\n",
      "0.3886501284985988 {'max_depth': 6, 'n_estimators': 51, 'num_leaves': 14}\n",
      "0.34592284395862427 {'max_depth': 17, 'n_estimators': 77, 'num_leaves': 4}\n",
      "0.39584990369734724 {'max_depth': 16, 'n_estimators': 167, 'num_leaves': 37}\n",
      "0.39632344806094266 {'max_depth': 16, 'n_estimators': 136, 'num_leaves': 32}\n",
      "0.3884714886267494 {'max_depth': 10, 'n_estimators': 52, 'num_leaves': 13}\n",
      "0.3890101619200569 {'max_depth': 9, 'n_estimators': 101, 'num_leaves': 13}\n",
      "0.3946249200446336 {'max_depth': 19, 'n_estimators': 47, 'num_leaves': 35}\n",
      "0.3895307067074284 {'max_depth': 16, 'n_estimators': 115, 'num_leaves': 13}\n",
      "0.2988134570972332 {'max_depth': 2, 'n_estimators': 37, 'num_leaves': 13}\n",
      "0.380907768108264 {'max_depth': 7, 'n_estimators': 162, 'num_leaves': 8}\n",
      "0.39366811181737005 {'max_depth': 19, 'n_estimators': 20, 'num_leaves': 26}\n"
     ]
    }
   ],
   "source": [
    "LGcvres = LGBM_rand_search.cv_results_\n",
    "for mean_score, params in zip(LGcvres[\"mean_test_score\"], LGcvres[\"params\"]):\n",
    "    print(mean_score, params)"
   ],
   "metadata": {
    "collapsed": false,
    "pycharm": {
     "name": "#%%\n"
    }
   }
  },
  {
   "cell_type": "code",
   "execution_count": 44,
   "outputs": [
    {
     "data": {
      "text/plain": "<AxesSubplot:title={'center':'Feature importance'}, xlabel='Feature importance', ylabel='Features'>"
     },
     "execution_count": 44,
     "metadata": {},
     "output_type": "execute_result"
    },
    {
     "data": {
      "text/plain": "<Figure size 432x288 with 1 Axes>",
      "image/png": "[encoded data removed]"
     },
     "metadata": {
      "needs_background": "light"
     },
     "output_type": "display_data"
    }
   ],
   "source": [
    "lgb.plot_importance(LGBM_rand_search.best_estimator_)\n"
   ],
   "metadata": {
    "collapsed": false,
    "pycharm": {
     "name": "#%%\n"
    }
   }
  },
  {
   "cell_type": "markdown",
   "source": [
    "Wow premise is REALLY important in that one.\n"
   ],
   "metadata": {
    "collapsed": false,
    "pycharm": {
     "name": "#%% md\n"
    }
   }
  },
  {
   "cell_type": "markdown",
   "source": [
    "Let's try the earlier normal gbdt but let's remove the weapons from the model. Realistically the police may not know the type of weapon when they are dispatched."
   ],
   "metadata": {
    "collapsed": false,
    "pycharm": {
     "name": "#%% md\n"
    }
   }
  },
  {
   "cell_type": "code",
   "execution_count": 45,
   "outputs": [],
   "source": [
    "X_mod = X.drop(columns=[\"Weapon_NONE\",\"Weapon_FIREARM\",\"Weapon_HANDS\",\"Weapon_KNIFE\",\"Weapon_OTHER\"])\n"
   ],
   "metadata": {
    "collapsed": false,
    "pycharm": {
     "name": "#%%\n"
    }
   }
  },
  {
   "cell_type": "code",
   "execution_count": 46,
   "outputs": [],
   "source": [
    "LGBM_rand_search = RandomizedSearchCV(LGBC, param_distributions=param_distribs,\n",
    "                                n_iter=20, cv=5, scoring='f1_macro', random_state=42069)\n"
   ],
   "metadata": {
    "collapsed": false,
    "pycharm": {
     "name": "#%%\n"
    }
   }
  },
  {
   "cell_type": "code",
   "execution_count": 47,
   "outputs": [
    {
     "data": {
      "text/plain": "RandomizedSearchCV(cv=5,\n                   estimator=LGBMClassifier(num_class=15,\n                                            objective='multiclass',\n                                            random_state=42069),\n                   n_iter=20,\n                   param_distributions={'max_depth': <scipy.stats._distn_infrastructure.rv_frozen object at 0x000002512E99F460>,\n                                        'n_estimators': <scipy.stats._distn_infrastructure.rv_frozen object at 0x000002512E99FEB0>,\n                                        'num_leaves': <scipy.stats._distn_infrastructure.rv_frozen object at 0x0000025130624F40>},\n                   random_state=42069, scoring='f1_macro')"
     },
     "execution_count": 47,
     "metadata": {},
     "output_type": "execute_result"
    }
   ],
   "source": [
    "LGBM_rand_search.fit(X_mod,y)\n"
   ],
   "metadata": {
    "collapsed": false,
    "pycharm": {
     "name": "#%%\n"
    }
   }
  },
  {
   "cell_type": "code",
   "execution_count": 48,
   "outputs": [
    {
     "name": "stdout",
     "output_type": "stream",
     "text": [
      "0.1857094026288368 {'max_depth': 11, 'n_estimators': 97, 'num_leaves': 10}\n",
      "0.1886882770069729 {'max_depth': 16, 'n_estimators': 16, 'num_leaves': 36}\n",
      "0.18507472907421474 {'max_depth': 10, 'n_estimators': 199, 'num_leaves': 7}\n",
      "0.1664868067590049 {'max_depth': 7, 'n_estimators': 6, 'num_leaves': 15}\n",
      "0.17170673006198992 {'max_depth': 12, 'n_estimators': 8, 'num_leaves': 12}\n",
      "0.1912537733684516 {'max_depth': 14, 'n_estimators': 196, 'num_leaves': 22}\n",
      "0.1864689890233055 {'max_depth': 4, 'n_estimators': 114, 'num_leaves': 23}\n",
      "0.19196017825158018 {'max_depth': 17, 'n_estimators': 37, 'num_leaves': 33}\n",
      "0.19013860113437048 {'max_depth': 16, 'n_estimators': 186, 'num_leaves': 27}\n",
      "0.18819228501315005 {'max_depth': 6, 'n_estimators': 51, 'num_leaves': 14}\n",
      "0.1736340790078322 {'max_depth': 17, 'n_estimators': 77, 'num_leaves': 4}\n",
      "0.19378931044400088 {'max_depth': 16, 'n_estimators': 167, 'num_leaves': 37}\n",
      "0.191993853310528 {'max_depth': 16, 'n_estimators': 136, 'num_leaves': 32}\n",
      "0.18788145772284953 {'max_depth': 10, 'n_estimators': 52, 'num_leaves': 13}\n",
      "0.18865352100790267 {'max_depth': 9, 'n_estimators': 101, 'num_leaves': 13}\n",
      "0.19484050725878166 {'max_depth': 19, 'n_estimators': 47, 'num_leaves': 35}\n",
      "0.18739499686674801 {'max_depth': 16, 'n_estimators': 115, 'num_leaves': 13}\n",
      "0.14968687424634802 {'max_depth': 2, 'n_estimators': 37, 'num_leaves': 13}\n",
      "0.18818059409590465 {'max_depth': 7, 'n_estimators': 162, 'num_leaves': 8}\n",
      "0.19072375047140816 {'max_depth': 19, 'n_estimators': 20, 'num_leaves': 26}\n"
     ]
    }
   ],
   "source": [
    "LGcvres = LGBM_rand_search.cv_results_\n",
    "for mean_score, params in zip(LGcvres[\"mean_test_score\"], LGcvres[\"params\"]):\n",
    "    print(mean_score, params)"
   ],
   "metadata": {
    "collapsed": false,
    "pycharm": {
     "name": "#%%\n"
    }
   }
  },
  {
   "cell_type": "markdown",
   "source": [
    "Oh jeez. Alright never mind that..."
   ],
   "metadata": {
    "collapsed": false,
    "pycharm": {
     "name": "#%% md\n"
    }
   }
  },
  {
   "cell_type": "markdown",
   "source": [
    "Let's tune the full lightgbm model. Let's see first is \"balanced\" class weights does anything.\n"
   ],
   "metadata": {
    "collapsed": false,
    "pycharm": {
     "name": "#%% md\n"
    }
   }
  },
  {
   "cell_type": "code",
   "execution_count": 52,
   "outputs": [],
   "source": [
    "LGBC = lgb.LGBMClassifier(objective='multiclass',num_class=15,\n",
    "                         random_state=42069, silent=True,\n",
    "                         n_jobs=-1, class_weight=\"balanced\")\n"
   ],
   "metadata": {
    "collapsed": false,
    "pycharm": {
     "name": "#%%\n"
    }
   }
  },
  {
   "cell_type": "code",
   "execution_count": 53,
   "outputs": [],
   "source": [
    "LGBM_rand_search = RandomizedSearchCV(LGBC, param_distributions=param_distribs,\n",
    "                                n_iter=20, cv=5, scoring='f1_macro', random_state=42069,\n",
    "                                      n_jobs=-1)"
   ],
   "metadata": {
    "collapsed": false,
    "pycharm": {
     "name": "#%%\n"
    }
   }
  },
  {
   "cell_type": "code",
   "execution_count": 54,
   "outputs": [
    {
     "data": {
      "text/plain": "RandomizedSearchCV(cv=5,\n                   estimator=LGBMClassifier(class_weight='balanced',\n                                            num_class=15,\n                                            objective='multiclass',\n                                            random_state=42069),\n                   n_iter=20, n_jobs=-1,\n                   param_distributions={'max_depth': <scipy.stats._distn_infrastructure.rv_frozen object at 0x000002512E99F460>,\n                                        'n_estimators': <scipy.stats._distn_infrastructure.rv_frozen object at 0x000002512E99FEB0>,\n                                        'num_leaves': <scipy.stats._distn_infrastructure.rv_frozen object at 0x0000025130624F40>},\n                   random_state=42069, scoring='f1_macro')"
     },
     "execution_count": 54,
     "metadata": {},
     "output_type": "execute_result"
    }
   ],
   "source": [
    "LGBM_rand_search.fit(X,y)\n"
   ],
   "metadata": {
    "collapsed": false,
    "pycharm": {
     "name": "#%%\n"
    }
   }
  },
  {
   "cell_type": "code",
   "execution_count": 55,
   "outputs": [
    {
     "name": "stdout",
     "output_type": "stream",
     "text": [
      "0.3737716023509803 {'max_depth': 11, 'n_estimators': 97, 'num_leaves': 10}\n",
      "0.37115775079113067 {'max_depth': 16, 'n_estimators': 16, 'num_leaves': 36}\n",
      "0.3724598851556195 {'max_depth': 10, 'n_estimators': 199, 'num_leaves': 7}\n",
      "0.3630944149305413 {'max_depth': 7, 'n_estimators': 6, 'num_leaves': 15}\n",
      "0.36452950038146587 {'max_depth': 12, 'n_estimators': 8, 'num_leaves': 12}\n",
      "0.382109093617201 {'max_depth': 14, 'n_estimators': 196, 'num_leaves': 22}\n",
      "0.37317612427108066 {'max_depth': 4, 'n_estimators': 114, 'num_leaves': 23}\n",
      "0.3748149479750134 {'max_depth': 17, 'n_estimators': 37, 'num_leaves': 33}\n",
      "0.3862079322887834 {'max_depth': 16, 'n_estimators': 186, 'num_leaves': 27}\n",
      "0.3714430838510686 {'max_depth': 6, 'n_estimators': 51, 'num_leaves': 14}\n",
      "0.3629331044800769 {'max_depth': 17, 'n_estimators': 77, 'num_leaves': 4}\n",
      "0.38926644523407894 {'max_depth': 16, 'n_estimators': 167, 'num_leaves': 37}\n",
      "0.38581762939283637 {'max_depth': 16, 'n_estimators': 136, 'num_leaves': 32}\n",
      "0.3731739236009333 {'max_depth': 10, 'n_estimators': 52, 'num_leaves': 13}\n",
      "0.3750006811005543 {'max_depth': 9, 'n_estimators': 101, 'num_leaves': 13}\n",
      "0.3763855296245303 {'max_depth': 19, 'n_estimators': 47, 'num_leaves': 35}\n",
      "0.37489834265435773 {'max_depth': 16, 'n_estimators': 115, 'num_leaves': 13}\n",
      "0.33183986516448455 {'max_depth': 2, 'n_estimators': 37, 'num_leaves': 13}\n",
      "0.3731403051831066 {'max_depth': 7, 'n_estimators': 162, 'num_leaves': 8}\n",
      "0.3718066547634372 {'max_depth': 19, 'n_estimators': 20, 'num_leaves': 26}\n"
     ]
    }
   ],
   "source": [
    "LGcvres = LGBM_rand_search.cv_results_\n",
    "for mean_score, params in zip(LGcvres[\"mean_test_score\"], LGcvres[\"params\"]):\n",
    "    print(mean_score, params)\n"
   ],
   "metadata": {
    "collapsed": false,
    "pycharm": {
     "name": "#%%\n"
    }
   }
  },
  {
   "cell_type": "markdown",
   "source": [
    "Leave it out.\n"
   ],
   "metadata": {
    "collapsed": false,
    "pycharm": {
     "name": "#%% md\n"
    }
   }
  },
  {
   "cell_type": "code",
   "execution_count": 56,
   "outputs": [],
   "source": [
    "LGBC = lgb.LGBMClassifier(objective='multiclass',num_class=15,\n",
    "                         random_state=42069, silent=True,\n",
    "                         n_jobs=-1)"
   ],
   "metadata": {
    "collapsed": false,
    "pycharm": {
     "name": "#%%\n"
    }
   }
  },
  {
   "cell_type": "code",
   "execution_count": 57,
   "outputs": [],
   "source": [
    "from scipy.stats import uniform"
   ],
   "metadata": {
    "collapsed": false,
    "pycharm": {
     "name": "#%%\n"
    }
   }
  },
  {
   "cell_type": "code",
   "execution_count": 58,
   "outputs": [],
   "source": [
    "param_distribs = {\n",
    "        'n_estimators': randint(low=15, high=200),\n",
    "        'max_depth': randint(low=15, high=17),\n",
    "        'num_leaves': randint(low=30, high=45),\n",
    "        'min_child_samples': randint(low=10,high=30),\n",
    "        'min_child_weight': uniform()\n",
    "    }\n"
   ],
   "metadata": {
    "collapsed": false,
    "pycharm": {
     "name": "#%%\n"
    }
   }
  },
  {
   "cell_type": "code",
   "execution_count": 59,
   "outputs": [],
   "source": [
    "LGBM_rand_search = RandomizedSearchCV(LGBC, param_distributions=param_distribs,\n",
    "                                n_iter=20, cv=5, scoring='f1_macro', random_state=42069,\n",
    "                                      n_jobs=-1)"
   ],
   "metadata": {
    "collapsed": false,
    "pycharm": {
     "name": "#%%\n"
    }
   }
  },
  {
   "cell_type": "code",
   "execution_count": 60,
   "outputs": [
    {
     "data": {
      "text/plain": "RandomizedSearchCV(cv=5,\n                   estimator=LGBMClassifier(num_class=15,\n                                            objective='multiclass',\n                                            random_state=42069),\n                   n_iter=20, n_jobs=-1,\n                   param_distributions={'max_depth': <scipy.stats._distn_infrastructure.rv_frozen object at 0x00000251306630D0>,\n                                        'min_child_samples': <scipy.stats._distn_infrastructure.rv_frozen object at 0x0000025130730B80>,\n                                        'min_child_weight': <scipy.stats._distn_infrastructure.rv_frozen object at 0x0000025130769970>,\n                                        'n_estimators': <scipy.stats._distn_infrastructure.rv_frozen object at 0x000002513079C490>,\n                                        'num_leaves': <scipy.stats._distn_infrastructure.rv_frozen object at 0x000002513065C730>},\n                   random_state=42069, scoring='f1_macro')"
     },
     "execution_count": 60,
     "metadata": {},
     "output_type": "execute_result"
    }
   ],
   "source": [
    "LGBM_rand_search.fit(X,y)\n"
   ],
   "metadata": {
    "collapsed": false,
    "pycharm": {
     "name": "#%%\n"
    }
   }
  },
  {
   "cell_type": "code",
   "execution_count": 61,
   "outputs": [
    {
     "name": "stdout",
     "output_type": "stream",
     "text": [
      "0.4031911750952659 {'max_depth': 16, 'min_child_samples': 10, 'min_child_weight': 0.41940860113960576, 'n_estimators': 93, 'num_leaves': 35}\n",
      "0.40270594039866997 {'max_depth': 15, 'min_child_samples': 18, 'min_child_weight': 0.6620502392389118, 'n_estimators': 146, 'num_leaves': 35}\n",
      "0.4046591575720601 {'max_depth': 16, 'min_child_samples': 21, 'min_child_weight': 0.4914575294525261, 'n_estimators': 89, 'num_leaves': 37}\n",
      "0.40137619947110964 {'max_depth': 15, 'min_child_samples': 22, 'min_child_weight': 0.49660526717232956, 'n_estimators': 128, 'num_leaves': 33}\n",
      "0.40070712111169 {'max_depth': 16, 'min_child_samples': 25, 'min_child_weight': 0.3135187483250599, 'n_estimators': 172, 'num_leaves': 33}\n",
      "0.39853560397299004 {'max_depth': 15, 'min_child_samples': 24, 'min_child_weight': 0.9138246554699263, 'n_estimators': 19, 'num_leaves': 32}\n",
      "0.40298075627569363 {'max_depth': 15, 'min_child_samples': 25, 'min_child_weight': 0.18048109766184528, 'n_estimators': 61, 'num_leaves': 36}\n",
      "0.40066984688393126 {'max_depth': 16, 'min_child_samples': 11, 'min_child_weight': 0.8599853733826538, 'n_estimators': 150, 'num_leaves': 34}\n",
      "0.4029577075885413 {'max_depth': 15, 'min_child_samples': 18, 'min_child_weight': 0.4536401175507633, 'n_estimators': 103, 'num_leaves': 38}\n",
      "0.40066135164060573 {'max_depth': 16, 'min_child_samples': 14, 'min_child_weight': 0.39474027903497433, 'n_estimators': 198, 'num_leaves': 32}\n",
      "0.4030475948983794 {'max_depth': 16, 'min_child_samples': 27, 'min_child_weight': 0.7863768484072393, 'n_estimators': 73, 'num_leaves': 44}\n",
      "0.40242438611466264 {'max_depth': 15, 'min_child_samples': 19, 'min_child_weight': 0.8087979115966082, 'n_estimators': 77, 'num_leaves': 43}\n",
      "0.3999196917125831 {'max_depth': 16, 'min_child_samples': 19, 'min_child_weight': 0.1500390712179248, 'n_estimators': 176, 'num_leaves': 34}\n",
      "0.4032171744134988 {'max_depth': 16, 'min_child_samples': 27, 'min_child_weight': 0.5538005840009248, 'n_estimators': 150, 'num_leaves': 30}\n",
      "0.4050984316731074 {'max_depth': 15, 'min_child_samples': 15, 'min_child_weight': 0.3367232227806366, 'n_estimators': 48, 'num_leaves': 38}\n",
      "0.3985903966361005 {'max_depth': 16, 'min_child_samples': 13, 'min_child_weight': 0.16233204142995317, 'n_estimators': 167, 'num_leaves': 30}\n",
      "0.40282353919266034 {'max_depth': 16, 'min_child_samples': 26, 'min_child_weight': 0.7490152715748896, 'n_estimators': 95, 'num_leaves': 33}\n",
      "0.4030958009396433 {'max_depth': 15, 'min_child_samples': 21, 'min_child_weight': 0.34528737588928426, 'n_estimators': 107, 'num_leaves': 31}\n",
      "0.4003402766836664 {'max_depth': 15, 'min_child_samples': 11, 'min_child_weight': 0.1126001456727258, 'n_estimators': 175, 'num_leaves': 32}\n",
      "0.4044360620914749 {'max_depth': 16, 'min_child_samples': 18, 'min_child_weight': 0.7063959971264504, 'n_estimators': 59, 'num_leaves': 37}\n"
     ]
    }
   ],
   "source": [
    "LGcvres = LGBM_rand_search.cv_results_\n",
    "for mean_score, params in zip(LGcvres[\"mean_test_score\"], LGcvres[\"params\"]):\n",
    "    print(mean_score, params)\n"
   ],
   "metadata": {
    "collapsed": false,
    "pycharm": {
     "name": "#%%\n"
    }
   }
  },
  {
   "cell_type": "code",
   "execution_count": 62,
   "outputs": [
    {
     "data": {
      "text/plain": "LGBMClassifier(max_depth=15, min_child_samples=15,\n               min_child_weight=0.3367232227806366, n_estimators=48,\n               num_class=15, num_leaves=38, objective='multiclass',\n               random_state=42069)"
     },
     "execution_count": 62,
     "metadata": {},
     "output_type": "execute_result"
    }
   ],
   "source": [
    "LGBM_rand_search.best_estimator_\n"
   ],
   "metadata": {
    "collapsed": false,
    "pycharm": {
     "name": "#%%\n"
    }
   }
  },
  {
   "cell_type": "code",
   "execution_count": 63,
   "outputs": [],
   "source": [
    "param_distribs = {\n",
    "        'n_estimators': randint(low=15, high=200),\n",
    "        'max_depth': randint(low=15, high=17),\n",
    "        'num_leaves': randint(low=30, high=45),\n",
    "        'min_child_samples': randint(low=10,high=30),\n",
    "        'min_child_weight': uniform(),\n",
    "        'lambda_l1': uniform()\n",
    "    }\n"
   ],
   "metadata": {
    "collapsed": false,
    "pycharm": {
     "name": "#%%\n"
    }
   }
  },
  {
   "cell_type": "code",
   "execution_count": 64,
   "outputs": [],
   "source": [
    "LGBM_rand_search = RandomizedSearchCV(LGBC, param_distributions=param_distribs,\n",
    "                                n_iter=20, cv=5, scoring='f1_macro', random_state=42069,\n",
    "                                      n_jobs=-1)"
   ],
   "metadata": {
    "collapsed": false,
    "pycharm": {
     "name": "#%%\n"
    }
   }
  },
  {
   "cell_type": "code",
   "execution_count": 65,
   "outputs": [
    {
     "data": {
      "text/plain": "RandomizedSearchCV(cv=5,\n                   estimator=LGBMClassifier(num_class=15,\n                                            objective='multiclass',\n                                            random_state=42069),\n                   n_iter=20, n_jobs=-1,\n                   param_distributions={'lambda_l1': <scipy.stats._distn_infrastructure.rv_frozen object at 0x0000025130AFAB20>,\n                                        'max_depth': <scipy.stats._distn_infrastructure.rv_frozen object at 0x0000025130AD4F10>,\n                                        'min_child_samples': <scipy.stats._di...astructure.rv_frozen object at 0x00000251308055E0>,\n                                        'min_child_weight': <scipy.stats._distn_infrastructure.rv_frozen object at 0x0000025130AD42B0>,\n                                        'n_estimators': <scipy.stats._distn_infrastructure.rv_frozen object at 0x0000025130805730>,\n                                        'num_leaves': <scipy.stats._distn_infrastructure.rv_frozen object at 0x00000251306EE9A0>},\n                   random_state=42069, scoring='f1_macro')"
     },
     "execution_count": 65,
     "metadata": {},
     "output_type": "execute_result"
    }
   ],
   "source": [
    "LGBM_rand_search.fit(X,y)\n"
   ],
   "metadata": {
    "collapsed": false,
    "pycharm": {
     "name": "#%%\n"
    }
   }
  },
  {
   "cell_type": "code",
   "execution_count": 66,
   "outputs": [
    {
     "name": "stdout",
     "output_type": "stream",
     "text": [
      "0.40020646862722814 {'lambda_l1': 0.0305083682942634, 'max_depth': 16, 'min_child_samples': 26, 'min_child_weight': 0.8776921490738175, 'n_estimators': 30, 'num_leaves': 35}\n",
      "0.40418126486551664 {'lambda_l1': 0.13056784693397416, 'max_depth': 16, 'min_child_samples': 18, 'min_child_weight': 0.6620502392389118, 'n_estimators': 146, 'num_leaves': 35}\n",
      "0.40243987015531824 {'lambda_l1': 0.9630119867175215, 'max_depth': 15, 'min_child_samples': 20, 'min_child_weight': 0.3016653725163685, 'n_estimators': 141, 'num_leaves': 40}\n",
      "0.3999237178875027 {'lambda_l1': 0.490222539727429, 'max_depth': 15, 'min_child_samples': 12, 'min_child_weight': 0.935715819071844, 'n_estimators': 30, 'num_leaves': 34}\n",
      "0.3975305594795493 {'lambda_l1': 0.2992071809835386, 'max_depth': 15, 'min_child_samples': 24, 'min_child_weight': 0.9138246554699263, 'n_estimators': 19, 'num_leaves': 32}\n",
      "0.3995938336707273 {'lambda_l1': 0.3961186121041812, 'max_depth': 16, 'min_child_samples': 22, 'min_child_weight': 0.8751189902070862, 'n_estimators': 181, 'num_leaves': 43}\n",
      "0.40646026342692687 {'lambda_l1': 0.28027473285783355, 'max_depth': 15, 'min_child_samples': 17, 'min_child_weight': 0.39621729832228114, 'n_estimators': 66, 'num_leaves': 39}\n",
      "0.4002676045998282 {'lambda_l1': 0.865510006371484, 'max_depth': 16, 'min_child_samples': 14, 'min_child_weight': 0.39474027903497433, 'n_estimators': 198, 'num_leaves': 32}\n",
      "0.40383982337693974 {'lambda_l1': 0.28968910950989224, 'max_depth': 15, 'min_child_samples': 27, 'min_child_weight': 0.7863768484072393, 'n_estimators': 73, 'num_leaves': 44}\n",
      "0.40322563007922874 {'lambda_l1': 0.2007233777630717, 'max_depth': 15, 'min_child_samples': 14, 'min_child_weight': 0.5765641448796773, 'n_estimators': 88, 'num_leaves': 42}\n",
      "0.4026318201890529 {'lambda_l1': 0.2501000760389388, 'max_depth': 16, 'min_child_samples': 14, 'min_child_weight': 0.7191377044667698, 'n_estimators': 169, 'num_leaves': 31}\n",
      "0.4036844456911923 {'lambda_l1': 0.5538005840009248, 'max_depth': 16, 'min_child_samples': 26, 'min_child_weight': 0.8948228021091145, 'n_estimators': 54, 'num_leaves': 41}\n",
      "0.39961671059996684 {'lambda_l1': 0.8071046985548547, 'max_depth': 15, 'min_child_samples': 13, 'min_child_weight': 0.16233204142995317, 'n_estimators': 167, 'num_leaves': 30}\n",
      "0.40010866728817984 {'lambda_l1': 0.7259390841736599, 'max_depth': 15, 'min_child_samples': 26, 'min_child_weight': 0.06639882085940796, 'n_estimators': 37, 'num_leaves': 41}\n",
      "0.401930610770248 {'lambda_l1': 0.34528737588928426, 'max_depth': 15, 'min_child_samples': 11, 'min_child_weight': 0.47793242224056254, 'n_estimators': 175, 'num_leaves': 32}\n",
      "0.40327222975538346 {'lambda_l1': 0.5562428167017777, 'max_depth': 15, 'min_child_samples': 28, 'min_child_weight': 0.09972238498590791, 'n_estimators': 125, 'num_leaves': 36}\n",
      "0.40246696630123235 {'lambda_l1': 0.16118222362734203, 'max_depth': 16, 'min_child_samples': 20, 'min_child_weight': 0.9159505837896823, 'n_estimators': 81, 'num_leaves': 42}\n",
      "0.40463542836249894 {'lambda_l1': 0.1504265363290468, 'max_depth': 15, 'min_child_samples': 23, 'min_child_weight': 0.6831946537622348, 'n_estimators': 96, 'num_leaves': 30}\n",
      "0.4041151364519172 {'lambda_l1': 0.2517786519501227, 'max_depth': 15, 'min_child_samples': 14, 'min_child_weight': 0.3948891862691042, 'n_estimators': 134, 'num_leaves': 42}\n",
      "0.4013199447005621 {'lambda_l1': 0.5862600073343188, 'max_depth': 16, 'min_child_samples': 26, 'min_child_weight': 0.5286875475002714, 'n_estimators': 30, 'num_leaves': 39}\n"
     ]
    }
   ],
   "source": [
    "LGcvres = LGBM_rand_search.cv_results_\n",
    "for mean_score, params in zip(LGcvres[\"mean_test_score\"], LGcvres[\"params\"]):\n",
    "    print(mean_score, params)"
   ],
   "metadata": {
    "collapsed": false,
    "pycharm": {
     "name": "#%%\n"
    }
   }
  },
  {
   "cell_type": "code",
   "execution_count": 68,
   "outputs": [
    {
     "data": {
      "text/plain": "LGBMClassifier(lambda_l1=0.28027473285783355, max_depth=15,\n               min_child_samples=17, min_child_weight=0.39621729832228114,\n               n_estimators=66, num_class=15, num_leaves=39,\n               objective='multiclass', random_state=42069)"
     },
     "execution_count": 68,
     "metadata": {},
     "output_type": "execute_result"
    }
   ],
   "source": [
    "LGBM_rand_search.best_estimator_\n"
   ],
   "metadata": {
    "collapsed": false,
    "pycharm": {
     "name": "#%%\n"
    }
   }
  },
  {
   "cell_type": "code",
   "execution_count": 69,
   "outputs": [
    {
     "data": {
      "text/plain": "0.40646026342692687"
     },
     "execution_count": 69,
     "metadata": {},
     "output_type": "execute_result"
    }
   ],
   "source": [
    "LGBM_rand_search.best_score_\n"
   ],
   "metadata": {
    "collapsed": false,
    "pycharm": {
     "name": "#%%\n"
    }
   }
  },
  {
   "cell_type": "markdown",
   "source": [
    "Let's try scaling some of the values.\n"
   ],
   "metadata": {
    "collapsed": false,
    "pycharm": {
     "name": "#%% md\n"
    }
   }
  },
  {
   "cell_type": "code",
   "execution_count": 70,
   "outputs": [],
   "source": [
    "from sklearn.preprocessing import StandardScaler\n",
    "scaler = StandardScaler()\n"
   ],
   "metadata": {
    "collapsed": false,
    "pycharm": {
     "name": "#%%\n"
    }
   }
  },
  {
   "cell_type": "code",
   "execution_count": 71,
   "outputs": [
    {
     "data": {
      "text/plain": "        Neighborhood        Premise          Month           Hour  \\\ncount  263121.000000  263121.000000  263121.000000  263121.000000   \nmean      123.946599      83.956978       6.515622      13.293242   \nstd        78.991879      28.945102       3.295076       6.768847   \nmin         0.000000       0.000000       1.000000       0.000000   \n25%        55.000000      70.000000       4.000000       9.000000   \n50%       113.000000      93.000000       7.000000      15.000000   \n75%       194.000000     103.000000       9.000000      19.000000   \nmax       277.000000     119.000000      12.000000      23.000000   \n\n       median_household_income  households_below_poverty      perc18_24  \\\ncount            263121.000000             263121.000000  263121.000000   \nmean              44212.251491                 20.296604       9.558646   \nstd               17502.208001                 10.086615       2.679498   \nmin               13478.164522                  0.811908       2.901160   \n25%               35968.392670                 13.236715       8.256030   \n50%               41122.224490                 19.592153       9.133858   \n75%               48731.137681                 24.788732      10.162632   \nmax              113496.137874                 48.720930      30.297173   \n\n           perc25_64       perc65up     perc_asian        perc_aa  \\\ncount  263121.000000  263121.000000  263121.000000  263121.000000   \nmean       57.456996      10.554383       2.771763      59.411279   \nstd         5.574479       3.032408       2.335105      25.800404   \nmin        43.598031       4.414003       0.000000       1.726247   \n25%        54.453395       8.549864       1.450267      37.597429   \n50%        56.755872      10.316265       2.241641      63.120737   \n75%        59.311311      12.060096       3.549592      80.566406   \nmax        77.957456      26.968635      16.255931      97.440983   \n\n           perc_hisp           pwhi  median_price_homes_sold        Outside  \\\ncount  263121.000000  263121.000000            263121.000000  263121.000000   \nmean        6.361663      29.356800            123438.263105       0.500010   \nstd         4.457139      21.366813             76773.567820       0.500001   \nmin         0.017008       0.358262             12550.000000       0.000000   \n25%         2.646678      13.412688             70000.000000       0.000000   \n50%         5.540199      26.539951            100000.000000       1.000000   \n75%         9.410076      42.834558            178000.000000       1.000000   \nmax        35.227378      90.032994            377500.000000       1.000000   \n\n       Weapon_FIREARM   Weapon_HANDS   Weapon_KNIFE    Weapon_NONE  \\\ncount   263121.000000  263121.000000  263121.000000  263121.000000   \nmean         0.079055       0.176333       0.034573       0.658161   \nstd          0.269825       0.381104       0.182697       0.474327   \nmin          0.000000       0.000000       0.000000       0.000000   \n25%          0.000000       0.000000       0.000000       0.000000   \n50%          0.000000       0.000000       0.000000       1.000000   \n75%          0.000000       0.000000       0.000000       1.000000   \nmax          1.000000       1.000000       1.000000       1.000000   \n\n        Weapon_OTHER  \ncount  263121.000000  \nmean        0.051877  \nstd         0.221780  \nmin         0.000000  \n25%         0.000000  \n50%         0.000000  \n75%         0.000000  \nmax         1.000000  ",
      "text/html": "<div>\n<style scoped>\n    .dataframe tbody tr th:only-of-type {\n        vertical-align: middle;\n    }\n\n    .dataframe tbody tr th {\n        vertical-align: top;\n    }\n\n    .dataframe thead th {\n        text-align: right;\n    }\n</style>\n<table border=\"1\" class=\"dataframe\">\n  <thead>\n    <tr style=\"text-align: right;\">\n      <th></th>\n      <th>Neighborhood</th>\n      <th>Premise</th>\n      <th>Month</th>\n      <th>Hour</th>\n      <th>median_household_income</th>\n      <th>households_below_poverty</th>\n      <th>perc18_24</th>\n      <th>perc25_64</th>\n      <th>perc65up</th>\n      <th>perc_asian</th>\n      <th>perc_aa</th>\n      <th>perc_hisp</th>\n      <th>pwhi</th>\n      <th>median_price_homes_sold</th>\n      <th>Outside</th>\n      <th>Weapon_FIREARM</th>\n      <th>Weapon_HANDS</th>\n      <th>Weapon_KNIFE</th>\n      <th>Weapon_NONE</th>\n      <th>Weapon_OTHER</th>\n    </tr>\n  </thead>\n  <tbody>\n    <tr>\n      <th>count</th>\n      <td>263121.000000</td>\n      <td>263121.000000</td>\n      <td>263121.000000</td>\n      <td>263121.000000</td>\n      <td>263121.000000</td>\n      <td>263121.000000</td>\n      <td>263121.000000</td>\n      <td>263121.000000</td>\n      <td>263121.000000</td>\n      <td>263121.000000</td>\n      <td>263121.000000</td>\n      <td>263121.000000</td>\n      <td>263121.000000</td>\n      <td>263121.000000</td>\n      <td>263121.000000</td>\n      <td>263121.000000</td>\n      <td>263121.000000</td>\n      <td>263121.000000</td>\n      <td>263121.000000</td>\n      <td>263121.000000</td>\n    </tr>\n    <tr>\n      <th>mean</th>\n      <td>123.946599</td>\n      <td>83.956978</td>\n      <td>6.515622</td>\n      <td>13.293242</td>\n      <td>44212.251491</td>\n      <td>20.296604</td>\n      <td>9.558646</td>\n      <td>57.456996</td>\n      <td>10.554383</td>\n      <td>2.771763</td>\n      <td>59.411279</td>\n      <td>6.361663</td>\n      <td>29.356800</td>\n      <td>123438.263105</td>\n      <td>0.500010</td>\n      <td>0.079055</td>\n      <td>0.176333</td>\n      <td>0.034573</td>\n      <td>0.658161</td>\n      <td>0.051877</td>\n    </tr>\n    <tr>\n      <th>std</th>\n      <td>78.991879</td>\n      <td>28.945102</td>\n      <td>3.295076</td>\n      <td>6.768847</td>\n      <td>17502.208001</td>\n      <td>10.086615</td>\n      <td>2.679498</td>\n      <td>5.574479</td>\n      <td>3.032408</td>\n      <td>2.335105</td>\n      <td>25.800404</td>\n      <td>4.457139</td>\n      <td>21.366813</td>\n      <td>76773.567820</td>\n      <td>0.500001</td>\n      <td>0.269825</td>\n      <td>0.381104</td>\n      <td>0.182697</td>\n      <td>0.474327</td>\n      <td>0.221780</td>\n    </tr>\n    <tr>\n      <th>min</th>\n      <td>0.000000</td>\n      <td>0.000000</td>\n      <td>1.000000</td>\n      <td>0.000000</td>\n      <td>13478.164522</td>\n      <td>0.811908</td>\n      <td>2.901160</td>\n      <td>43.598031</td>\n      <td>4.414003</td>\n      <td>0.000000</td>\n      <td>1.726247</td>\n      <td>0.017008</td>\n      <td>0.358262</td>\n      <td>12550.000000</td>\n      <td>0.000000</td>\n      <td>0.000000</td>\n      <td>0.000000</td>\n      <td>0.000000</td>\n      <td>0.000000</td>\n      <td>0.000000</td>\n    </tr>\n    <tr>\n      <th>25%</th>\n      <td>55.000000</td>\n      <td>70.000000</td>\n      <td>4.000000</td>\n      <td>9.000000</td>\n      <td>35968.392670</td>\n      <td>13.236715</td>\n      <td>8.256030</td>\n      <td>54.453395</td>\n      <td>8.549864</td>\n      <td>1.450267</td>\n      <td>37.597429</td>\n      <td>2.646678</td>\n      <td>13.412688</td>\n      <td>70000.000000</td>\n      <td>0.000000</td>\n      <td>0.000000</td>\n      <td>0.000000</td>\n      <td>0.000000</td>\n      <td>0.000000</td>\n      <td>0.000000</td>\n    </tr>\n    <tr>\n      <th>50%</th>\n      <td>113.000000</td>\n      <td>93.000000</td>\n      <td>7.000000</td>\n      <td>15.000000</td>\n      <td>41122.224490</td>\n      <td>19.592153</td>\n      <td>9.133858</td>\n      <td>56.755872</td>\n      <td>10.316265</td>\n      <td>2.241641</td>\n      <td>63.120737</td>\n      <td>5.540199</td>\n      <td>26.539951</td>\n      <td>100000.000000</td>\n      <td>1.000000</td>\n      <td>0.000000</td>\n      <td>0.000000</td>\n      <td>0.000000</td>\n      <td>1.000000</td>\n      <td>0.000000</td>\n    </tr>\n    <tr>\n      <th>75%</th>\n      <td>194.000000</td>\n      <td>103.000000</td>\n      <td>9.000000</td>\n      <td>19.000000</td>\n      <td>48731.137681</td>\n      <td>24.788732</td>\n      <td>10.162632</td>\n      <td>59.311311</td>\n      <td>12.060096</td>\n      <td>3.549592</td>\n      <td>80.566406</td>\n      <td>9.410076</td>\n      <td>42.834558</td>\n      <td>178000.000000</td>\n      <td>1.000000</td>\n      <td>0.000000</td>\n      <td>0.000000</td>\n      <td>0.000000</td>\n      <td>1.000000</td>\n      <td>0.000000</td>\n    </tr>\n    <tr>\n      <th>max</th>\n      <td>277.000000</td>\n      <td>119.000000</td>\n      <td>12.000000</td>\n      <td>23.000000</td>\n      <td>113496.137874</td>\n      <td>48.720930</td>\n      <td>30.297173</td>\n      <td>77.957456</td>\n      <td>26.968635</td>\n      <td>16.255931</td>\n      <td>97.440983</td>\n      <td>35.227378</td>\n      <td>90.032994</td>\n      <td>377500.000000</td>\n      <td>1.000000</td>\n      <td>1.000000</td>\n      <td>1.000000</td>\n      <td>1.000000</td>\n      <td>1.000000</td>\n      <td>1.000000</td>\n    </tr>\n  </tbody>\n</table>\n</div>"
     },
     "execution_count": 71,
     "metadata": {},
     "output_type": "execute_result"
    }
   ],
   "source": [
    "X.describe()\n"
   ],
   "metadata": {
    "collapsed": false,
    "pycharm": {
     "name": "#%%\n"
    }
   }
  },
  {
   "cell_type": "code",
   "execution_count": 80,
   "outputs": [],
   "source": [
    "X_std = X.copy()\n",
    "colnames = ['median_household_income', 'households_below_poverty', 'perc18_24','perc25_64','perc65up','perc_asian','perc_aa', 'perc_hisp','pwhi',\t'median_price_homes_sold']\n",
    "features = X_std[colnames]\n",
    "creativity = scaler.fit(features.values)\n",
    "features = creativity.transform(features.values)"
   ],
   "metadata": {
    "collapsed": false,
    "pycharm": {
     "name": "#%%\n"
    }
   }
  },
  {
   "cell_type": "code",
   "execution_count": 81,
   "outputs": [],
   "source": [
    "X_std[colnames] = features"
   ],
   "metadata": {
    "collapsed": false,
    "pycharm": {
     "name": "#%%\n"
    }
   }
  },
  {
   "cell_type": "code",
   "execution_count": 82,
   "outputs": [
    {
     "data": {
      "text/plain": "        Neighborhood        Premise          Month           Hour  \\\ncount  263121.000000  263121.000000  263121.000000  263121.000000   \nmean      123.946599      83.956978       6.515622      13.293242   \nstd        78.991879      28.945102       3.295076       6.768847   \nmin         0.000000       0.000000       1.000000       0.000000   \n25%        55.000000      70.000000       4.000000       9.000000   \n50%       113.000000      93.000000       7.000000      15.000000   \n75%       194.000000     103.000000       9.000000      19.000000   \nmax       277.000000     119.000000      12.000000      23.000000   \n\n       median_household_income  households_below_poverty     perc18_24  \\\ncount             2.631210e+05              2.631210e+05  2.631210e+05   \nmean             -2.623748e-16             -1.235722e-16 -1.071805e-16   \nstd               1.000002e+00              1.000002e+00  1.000002e+00   \nmin              -1.756015e+00             -1.931742e+00 -2.484607e+00   \n25%              -4.710191e-01             -6.999278e-01 -4.861427e-01   \n50%              -1.765510e-01             -6.984032e-02 -1.585327e-01   \n75%               2.581900e-01              4.453563e-01  2.254106e-01   \nmax               3.958587e+00              2.818030e+00  7.739722e+00   \n\n          perc25_64      perc65up    perc_asian       perc_aa     perc_hisp  \\\ncount  2.631210e+05  2.631210e+05  2.631210e+05  2.631210e+05  2.631210e+05   \nmean  -3.374471e-16  4.088468e-16 -3.635874e-16 -5.720074e-16  4.558344e-17   \nstd    1.000002e+00  1.000002e+00  1.000002e+00  1.000002e+00  1.000002e+00   \nmin   -2.486150e+00 -2.024922e+00 -1.187000e+00 -2.235823e+00 -1.423484e+00   \n25%   -5.388140e-01 -6.610334e-01 -5.659271e-01 -8.454864e-01 -8.334926e-01   \n50%   -1.257741e-01 -7.852457e-02 -2.270232e-01  1.437755e-01 -1.843032e-01   \n75%    3.326443e-01  4.965413e-01  3.331030e-01  8.199549e-01  6.839407e-01   \nmax    3.677563e+00  5.412953e+00  5.774556e+00  1.473999e+00  6.476301e+00   \n\n               pwhi  median_price_homes_sold        Outside  Weapon_FIREARM  \\\ncount  2.631210e+05             2.631210e+05  263121.000000   263121.000000   \nmean   3.305340e-17             1.841701e-17       0.500010        0.079055   \nstd    1.000002e+00             1.000002e+00       0.500001        0.269825   \nmin   -1.357179e+00            -1.444357e+00       0.000000        0.000000   \n25%   -7.462106e-01            -6.960516e-01       0.000000        0.000000   \n50%   -1.318332e-01            -3.052914e-01       1.000000        0.000000   \n75%    6.307812e-01             7.106852e-01       1.000000        0.000000   \nmax    2.839745e+00             3.309241e+00       1.000000        1.000000   \n\n        Weapon_HANDS   Weapon_KNIFE    Weapon_NONE   Weapon_OTHER  \ncount  263121.000000  263121.000000  263121.000000  263121.000000  \nmean        0.176333       0.034573       0.658161       0.051877  \nstd         0.381104       0.182697       0.474327       0.221780  \nmin         0.000000       0.000000       0.000000       0.000000  \n25%         0.000000       0.000000       0.000000       0.000000  \n50%         0.000000       0.000000       1.000000       0.000000  \n75%         0.000000       0.000000       1.000000       0.000000  \nmax         1.000000       1.000000       1.000000       1.000000  ",
      "text/html": "<div>\n<style scoped>\n    .dataframe tbody tr th:only-of-type {\n        vertical-align: middle;\n    }\n\n    .dataframe tbody tr th {\n        vertical-align: top;\n    }\n\n    .dataframe thead th {\n        text-align: right;\n    }\n</style>\n<table border=\"1\" class=\"dataframe\">\n  <thead>\n    <tr style=\"text-align: right;\">\n      <th></th>\n      <th>Neighborhood</th>\n      <th>Premise</th>\n      <th>Month</th>\n      <th>Hour</th>\n      <th>median_household_income</th>\n      <th>households_below_poverty</th>\n      <th>perc18_24</th>\n      <th>perc25_64</th>\n      <th>perc65up</th>\n      <th>perc_asian</th>\n      <th>perc_aa</th>\n      <th>perc_hisp</th>\n      <th>pwhi</th>\n      <th>median_price_homes_sold</th>\n      <th>Outside</th>\n      <th>Weapon_FIREARM</th>\n      <th>Weapon_HANDS</th>\n      <th>Weapon_KNIFE</th>\n      <th>Weapon_NONE</th>\n      <th>Weapon_OTHER</th>\n    </tr>\n  </thead>\n  <tbody>\n    <tr>\n      <th>count</th>\n      <td>263121.000000</td>\n      <td>263121.000000</td>\n      <td>263121.000000</td>\n      <td>263121.000000</td>\n      <td>2.631210e+05</td>\n      <td>2.631210e+05</td>\n      <td>2.631210e+05</td>\n      <td>2.631210e+05</td>\n      <td>2.631210e+05</td>\n      <td>2.631210e+05</td>\n      <td>2.631210e+05</td>\n      <td>2.631210e+05</td>\n      <td>2.631210e+05</td>\n      <td>2.631210e+05</td>\n      <td>263121.000000</td>\n      <td>263121.000000</td>\n      <td>263121.000000</td>\n      <td>263121.000000</td>\n      <td>263121.000000</td>\n      <td>263121.000000</td>\n    </tr>\n    <tr>\n      <th>mean</th>\n      <td>123.946599</td>\n      <td>83.956978</td>\n      <td>6.515622</td>\n      <td>13.293242</td>\n      <td>-2.623748e-16</td>\n      <td>-1.235722e-16</td>\n      <td>-1.071805e-16</td>\n      <td>-3.374471e-16</td>\n      <td>4.088468e-16</td>\n      <td>-3.635874e-16</td>\n      <td>-5.720074e-16</td>\n      <td>4.558344e-17</td>\n      <td>3.305340e-17</td>\n      <td>1.841701e-17</td>\n      <td>0.500010</td>\n      <td>0.079055</td>\n      <td>0.176333</td>\n      <td>0.034573</td>\n      <td>0.658161</td>\n      <td>0.051877</td>\n    </tr>\n    <tr>\n      <th>std</th>\n      <td>78.991879</td>\n      <td>28.945102</td>\n      <td>3.295076</td>\n      <td>6.768847</td>\n      <td>1.000002e+00</td>\n      <td>1.000002e+00</td>\n      <td>1.000002e+00</td>\n      <td>1.000002e+00</td>\n      <td>1.000002e+00</td>\n      <td>1.000002e+00</td>\n      <td>1.000002e+00</td>\n      <td>1.000002e+00</td>\n      <td>1.000002e+00</td>\n      <td>1.000002e+00</td>\n      <td>0.500001</td>\n      <td>0.269825</td>\n      <td>0.381104</td>\n      <td>0.182697</td>\n      <td>0.474327</td>\n      <td>0.221780</td>\n    </tr>\n    <tr>\n      <th>min</th>\n      <td>0.000000</td>\n      <td>0.000000</td>\n      <td>1.000000</td>\n      <td>0.000000</td>\n      <td>-1.756015e+00</td>\n      <td>-1.931742e+00</td>\n      <td>-2.484607e+00</td>\n      <td>-2.486150e+00</td>\n      <td>-2.024922e+00</td>\n      <td>-1.187000e+00</td>\n      <td>-2.235823e+00</td>\n      <td>-1.423484e+00</td>\n      <td>-1.357179e+00</td>\n      <td>-1.444357e+00</td>\n      <td>0.000000</td>\n      <td>0.000000</td>\n      <td>0.000000</td>\n      <td>0.000000</td>\n      <td>0.000000</td>\n      <td>0.000000</td>\n    </tr>\n    <tr>\n      <th>25%</th>\n      <td>55.000000</td>\n      <td>70.000000</td>\n      <td>4.000000</td>\n      <td>9.000000</td>\n      <td>-4.710191e-01</td>\n      <td>-6.999278e-01</td>\n      <td>-4.861427e-01</td>\n      <td>-5.388140e-01</td>\n      <td>-6.610334e-01</td>\n      <td>-5.659271e-01</td>\n      <td>-8.454864e-01</td>\n      <td>-8.334926e-01</td>\n      <td>-7.462106e-01</td>\n      <td>-6.960516e-01</td>\n      <td>0.000000</td>\n      <td>0.000000</td>\n      <td>0.000000</td>\n      <td>0.000000</td>\n      <td>0.000000</td>\n      <td>0.000000</td>\n    </tr>\n    <tr>\n      <th>50%</th>\n      <td>113.000000</td>\n      <td>93.000000</td>\n      <td>7.000000</td>\n      <td>15.000000</td>\n      <td>-1.765510e-01</td>\n      <td>-6.984032e-02</td>\n      <td>-1.585327e-01</td>\n      <td>-1.257741e-01</td>\n      <td>-7.852457e-02</td>\n      <td>-2.270232e-01</td>\n      <td>1.437755e-01</td>\n      <td>-1.843032e-01</td>\n      <td>-1.318332e-01</td>\n      <td>-3.052914e-01</td>\n      <td>1.000000</td>\n      <td>0.000000</td>\n      <td>0.000000</td>\n      <td>0.000000</td>\n      <td>1.000000</td>\n      <td>0.000000</td>\n    </tr>\n    <tr>\n      <th>75%</th>\n      <td>194.000000</td>\n      <td>103.000000</td>\n      <td>9.000000</td>\n      <td>19.000000</td>\n      <td>2.581900e-01</td>\n      <td>4.453563e-01</td>\n      <td>2.254106e-01</td>\n      <td>3.326443e-01</td>\n      <td>4.965413e-01</td>\n      <td>3.331030e-01</td>\n      <td>8.199549e-01</td>\n      <td>6.839407e-01</td>\n      <td>6.307812e-01</td>\n      <td>7.106852e-01</td>\n      <td>1.000000</td>\n      <td>0.000000</td>\n      <td>0.000000</td>\n      <td>0.000000</td>\n      <td>1.000000</td>\n      <td>0.000000</td>\n    </tr>\n    <tr>\n      <th>max</th>\n      <td>277.000000</td>\n      <td>119.000000</td>\n      <td>12.000000</td>\n      <td>23.000000</td>\n      <td>3.958587e+00</td>\n      <td>2.818030e+00</td>\n      <td>7.739722e+00</td>\n      <td>3.677563e+00</td>\n      <td>5.412953e+00</td>\n      <td>5.774556e+00</td>\n      <td>1.473999e+00</td>\n      <td>6.476301e+00</td>\n      <td>2.839745e+00</td>\n      <td>3.309241e+00</td>\n      <td>1.000000</td>\n      <td>1.000000</td>\n      <td>1.000000</td>\n      <td>1.000000</td>\n      <td>1.000000</td>\n      <td>1.000000</td>\n    </tr>\n  </tbody>\n</table>\n</div>"
     },
     "execution_count": 82,
     "metadata": {},
     "output_type": "execute_result"
    }
   ],
   "source": [
    "X_std.describe()"
   ],
   "metadata": {
    "collapsed": false,
    "pycharm": {
     "name": "#%%\n"
    }
   }
  },
  {
   "cell_type": "code",
   "execution_count": 83,
   "outputs": [
    {
     "data": {
      "text/plain": "RandomizedSearchCV(cv=5,\n                   estimator=LGBMClassifier(num_class=15,\n                                            objective='multiclass',\n                                            random_state=42069),\n                   n_iter=20, n_jobs=-1,\n                   param_distributions={'lambda_l1': <scipy.stats._distn_infrastructure.rv_frozen object at 0x0000025130AFAB20>,\n                                        'max_depth': <scipy.stats._distn_infrastructure.rv_frozen object at 0x0000025130AD4F10>,\n                                        'min_child_samples': <scipy.stats._di...astructure.rv_frozen object at 0x00000251308055E0>,\n                                        'min_child_weight': <scipy.stats._distn_infrastructure.rv_frozen object at 0x0000025130AD42B0>,\n                                        'n_estimators': <scipy.stats._distn_infrastructure.rv_frozen object at 0x0000025130805730>,\n                                        'num_leaves': <scipy.stats._distn_infrastructure.rv_frozen object at 0x00000251306EE9A0>},\n                   random_state=42069, scoring='f1_macro')"
     },
     "execution_count": 83,
     "metadata": {},
     "output_type": "execute_result"
    }
   ],
   "source": [
    "LGBM_rand_search.fit(X_std,y)"
   ],
   "metadata": {
    "collapsed": false,
    "pycharm": {
     "name": "#%%\n"
    }
   }
  },
  {
   "cell_type": "code",
   "execution_count": 84,
   "outputs": [
    {
     "name": "stdout",
     "output_type": "stream",
     "text": [
      "0.4002037614512754 {'lambda_l1': 0.0305083682942634, 'max_depth': 16, 'min_child_samples': 26, 'min_child_weight': 0.8776921490738175, 'n_estimators': 30, 'num_leaves': 35}\n",
      "0.40418562211402687 {'lambda_l1': 0.13056784693397416, 'max_depth': 16, 'min_child_samples': 18, 'min_child_weight': 0.6620502392389118, 'n_estimators': 146, 'num_leaves': 35}\n",
      "0.4026443551328314 {'lambda_l1': 0.9630119867175215, 'max_depth': 15, 'min_child_samples': 20, 'min_child_weight': 0.3016653725163685, 'n_estimators': 141, 'num_leaves': 40}\n",
      "0.39992104509301923 {'lambda_l1': 0.490222539727429, 'max_depth': 15, 'min_child_samples': 12, 'min_child_weight': 0.935715819071844, 'n_estimators': 30, 'num_leaves': 34}\n",
      "0.39772739267262575 {'lambda_l1': 0.2992071809835386, 'max_depth': 15, 'min_child_samples': 24, 'min_child_weight': 0.9138246554699263, 'n_estimators': 19, 'num_leaves': 32}\n",
      "0.39958604904553424 {'lambda_l1': 0.3961186121041812, 'max_depth': 16, 'min_child_samples': 22, 'min_child_weight': 0.8751189902070862, 'n_estimators': 181, 'num_leaves': 43}\n",
      "0.40632502504072543 {'lambda_l1': 0.28027473285783355, 'max_depth': 15, 'min_child_samples': 17, 'min_child_weight': 0.39621729832228114, 'n_estimators': 66, 'num_leaves': 39}\n",
      "0.4010193374555417 {'lambda_l1': 0.865510006371484, 'max_depth': 16, 'min_child_samples': 14, 'min_child_weight': 0.39474027903497433, 'n_estimators': 198, 'num_leaves': 32}\n",
      "0.4042785838853858 {'lambda_l1': 0.28968910950989224, 'max_depth': 15, 'min_child_samples': 27, 'min_child_weight': 0.7863768484072393, 'n_estimators': 73, 'num_leaves': 44}\n",
      "0.4030755162517158 {'lambda_l1': 0.2007233777630717, 'max_depth': 15, 'min_child_samples': 14, 'min_child_weight': 0.5765641448796773, 'n_estimators': 88, 'num_leaves': 42}\n",
      "0.40263598331974154 {'lambda_l1': 0.2501000760389388, 'max_depth': 16, 'min_child_samples': 14, 'min_child_weight': 0.7191377044667698, 'n_estimators': 169, 'num_leaves': 31}\n",
      "0.4036821352991252 {'lambda_l1': 0.5538005840009248, 'max_depth': 16, 'min_child_samples': 26, 'min_child_weight': 0.8948228021091145, 'n_estimators': 54, 'num_leaves': 41}\n",
      "0.40022522783206493 {'lambda_l1': 0.8071046985548547, 'max_depth': 15, 'min_child_samples': 13, 'min_child_weight': 0.16233204142995317, 'n_estimators': 167, 'num_leaves': 30}\n",
      "0.4005721006557308 {'lambda_l1': 0.7259390841736599, 'max_depth': 15, 'min_child_samples': 26, 'min_child_weight': 0.06639882085940796, 'n_estimators': 37, 'num_leaves': 41}\n",
      "0.40196587202118045 {'lambda_l1': 0.34528737588928426, 'max_depth': 15, 'min_child_samples': 11, 'min_child_weight': 0.47793242224056254, 'n_estimators': 175, 'num_leaves': 32}\n",
      "0.4024326902990748 {'lambda_l1': 0.5562428167017777, 'max_depth': 15, 'min_child_samples': 28, 'min_child_weight': 0.09972238498590791, 'n_estimators': 125, 'num_leaves': 36}\n",
      "0.402472232274646 {'lambda_l1': 0.16118222362734203, 'max_depth': 16, 'min_child_samples': 20, 'min_child_weight': 0.9159505837896823, 'n_estimators': 81, 'num_leaves': 42}\n",
      "0.40463542836249894 {'lambda_l1': 0.1504265363290468, 'max_depth': 15, 'min_child_samples': 23, 'min_child_weight': 0.6831946537622348, 'n_estimators': 96, 'num_leaves': 30}\n",
      "0.40453717959951907 {'lambda_l1': 0.2517786519501227, 'max_depth': 15, 'min_child_samples': 14, 'min_child_weight': 0.3948891862691042, 'n_estimators': 134, 'num_leaves': 42}\n",
      "0.4020154650117793 {'lambda_l1': 0.5862600073343188, 'max_depth': 16, 'min_child_samples': 26, 'min_child_weight': 0.5286875475002714, 'n_estimators': 30, 'num_leaves': 39}\n"
     ]
    }
   ],
   "source": [
    "LGcvres = LGBM_rand_search.cv_results_\n",
    "for mean_score, params in zip(LGcvres[\"mean_test_score\"], LGcvres[\"params\"]):\n",
    "    print(mean_score, params)"
   ],
   "metadata": {
    "collapsed": false,
    "pycharm": {
     "name": "#%%\n"
    }
   }
  },
  {
   "cell_type": "code",
   "execution_count": 85,
   "outputs": [
    {
     "data": {
      "text/plain": "0.40632502504072543"
     },
     "execution_count": 85,
     "metadata": {},
     "output_type": "execute_result"
    }
   ],
   "source": [
    "LGBM_rand_search.best_score_\n"
   ],
   "metadata": {
    "collapsed": false,
    "pycharm": {
     "name": "#%%\n"
    }
   }
  },
  {
   "cell_type": "code",
   "execution_count": 87,
   "outputs": [
    {
     "data": {
      "text/plain": "LGBMClassifier(lambda_l1=0.28027473285783355, max_depth=15,\n               min_child_samples=17, min_child_weight=0.39621729832228114,\n               n_estimators=66, num_class=15, num_leaves=39,\n               objective='multiclass', random_state=42069)"
     },
     "execution_count": 87,
     "metadata": {},
     "output_type": "execute_result"
    }
   ],
   "source": [
    "LGBM_rand_search.best_estimator_"
   ],
   "metadata": {
    "collapsed": false,
    "pycharm": {
     "name": "#%%\n"
    }
   }
  },
  {
   "cell_type": "markdown",
   "source": [
    "Not much difference. Let's stick to the original values."
   ],
   "metadata": {
    "collapsed": false,
    "pycharm": {
     "name": "#%% md\n"
    }
   }
  },
  {
   "cell_type": "code",
   "execution_count": 88,
   "outputs": [],
   "source": [
    "from sklearn.model_selection import GridSearchCV\n"
   ],
   "metadata": {
    "collapsed": false,
    "pycharm": {
     "name": "#%%\n"
    }
   }
  },
  {
   "cell_type": "code",
   "execution_count": 89,
   "outputs": [],
   "source": [
    "param_grid = {\n",
    "        'n_estimators': [60,66,71],\n",
    "        'max_depth': [15],\n",
    "        'num_leaves': [39,40,41],\n",
    "        'min_child_samples': [16,17,18],\n",
    "        'min_child_weight': [0.3,0.4,0.5],\n",
    "        'lambda_l1': [0.25,0.28,0.3]\n",
    "    }\n"
   ],
   "metadata": {
    "collapsed": false,
    "pycharm": {
     "name": "#%%\n"
    }
   }
  },
  {
   "cell_type": "code",
   "execution_count": 90,
   "outputs": [],
   "source": [
    "grid_search = GridSearchCV(LGBC,param_grid,cv=5,scoring=\"f1_macro\",n_jobs=-1)\n"
   ],
   "metadata": {
    "collapsed": false,
    "pycharm": {
     "name": "#%%\n"
    }
   }
  },
  {
   "cell_type": "code",
   "execution_count": 91,
   "outputs": [
    {
     "data": {
      "text/plain": "GridSearchCV(cv=5,\n             estimator=LGBMClassifier(num_class=15, objective='multiclass',\n                                      random_state=42069),\n             n_jobs=-1,\n             param_grid={'lambda_l1': [0.25, 0.28, 0.3], 'max_depth': [15],\n                         'min_child_samples': [16, 17, 18],\n                         'min_child_weight': [0.3, 0.4, 0.5],\n                         'n_estimators': [60, 66, 71],\n                         'num_leaves': [39, 40, 41]},\n             scoring='f1_macro')"
     },
     "execution_count": 91,
     "metadata": {},
     "output_type": "execute_result"
    }
   ],
   "source": [
    "grid_search.fit(X,y)\n"
   ],
   "metadata": {
    "collapsed": false,
    "pycharm": {
     "name": "#%%\n"
    }
   }
  },
  {
   "cell_type": "code",
   "execution_count": 92,
   "outputs": [
    {
     "data": {
      "text/plain": "LGBMClassifier(lambda_l1=0.25, max_depth=15, min_child_samples=16,\n               min_child_weight=0.4, n_estimators=71, num_class=15,\n               num_leaves=40, objective='multiclass', random_state=42069)"
     },
     "execution_count": 92,
     "metadata": {},
     "output_type": "execute_result"
    }
   ],
   "source": [
    "grid_search.best_estimator_\n"
   ],
   "metadata": {
    "collapsed": false,
    "pycharm": {
     "name": "#%%\n"
    }
   }
  },
  {
   "cell_type": "code",
   "execution_count": 93,
   "outputs": [
    {
     "data": {
      "text/plain": "0.4072591033485537"
     },
     "execution_count": 93,
     "metadata": {},
     "output_type": "execute_result"
    }
   ],
   "source": [
    "grid_search.best_score_\n"
   ],
   "metadata": {
    "collapsed": false,
    "pycharm": {
     "name": "#%%\n"
    }
   }
  },
  {
   "cell_type": "code",
   "execution_count": 99,
   "outputs": [],
   "source": [
    "param_grid = {\n",
    "        'n_estimators': [71,74,77],\n",
    "        'max_depth': [15],\n",
    "        'num_leaves': [39,40],\n",
    "        'min_child_samples': [16,17],\n",
    "        'min_child_weight': [0.39,0.4],\n",
    "        'lambda_l1': [0.25, 0.26, 0.27]\n",
    "    }"
   ],
   "metadata": {
    "collapsed": false,
    "pycharm": {
     "name": "#%%\n"
    }
   }
  },
  {
   "cell_type": "code",
   "execution_count": 100,
   "outputs": [],
   "source": [
    "LGBC = lgb.LGBMClassifier(objective='multiclass',num_class=15,\n",
    "                         random_state=42069, silent=True,\n",
    "                         n_jobs=-1)\n"
   ],
   "metadata": {
    "collapsed": false,
    "pycharm": {
     "name": "#%%\n"
    }
   }
  },
  {
   "cell_type": "code",
   "execution_count": 101,
   "outputs": [],
   "source": [
    "grid_search = GridSearchCV(LGBC,param_grid,cv=5,scoring=\"f1_macro\",n_jobs=-1)\n"
   ],
   "metadata": {
    "collapsed": false,
    "pycharm": {
     "name": "#%%\n"
    }
   }
  },
  {
   "cell_type": "code",
   "execution_count": 102,
   "outputs": [
    {
     "data": {
      "text/plain": "GridSearchCV(cv=5,\n             estimator=LGBMClassifier(num_class=15, objective='multiclass',\n                                      random_state=42069),\n             n_jobs=-1,\n             param_grid={'lambda_l1': [0.25, 0.26, 0.27], 'max_depth': [15],\n                         'min_child_samples': [16, 17],\n                         'min_child_weight': [0.39, 0.4],\n                         'n_estimators': [71, 74, 77], 'num_leaves': [39, 40]},\n             scoring='f1_macro')"
     },
     "execution_count": 102,
     "metadata": {},
     "output_type": "execute_result"
    }
   ],
   "source": [
    "grid_search.fit(X,y)\n"
   ],
   "metadata": {
    "collapsed": false,
    "pycharm": {
     "name": "#%%\n"
    }
   }
  },
  {
   "cell_type": "code",
   "execution_count": 105,
   "outputs": [
    {
     "data": {
      "text/plain": "0.4072591033485537"
     },
     "execution_count": 105,
     "metadata": {},
     "output_type": "execute_result"
    }
   ],
   "source": [
    "grid_search.best_score_"
   ],
   "metadata": {
    "collapsed": false,
    "pycharm": {
     "name": "#%%\n"
    }
   }
  },
  {
   "cell_type": "code",
   "execution_count": 104,
   "outputs": [
    {
     "data": {
      "text/plain": "LGBMClassifier(lambda_l1=0.25, max_depth=15, min_child_samples=16,\n               min_child_weight=0.4, n_estimators=71, num_class=15,\n               num_leaves=40, objective='multiclass', random_state=42069)"
     },
     "execution_count": 104,
     "metadata": {},
     "output_type": "execute_result"
    }
   ],
   "source": [
    "grid_search.best_estimator_\n"
   ],
   "metadata": {
    "collapsed": false,
    "pycharm": {
     "name": "#%%\n"
    }
   }
  },
  {
   "cell_type": "markdown",
   "source": [
    "Let's go with this one as the first option. One other idea is that the median income and price seem to have been imputed as continuous variables. Perhaps taking the median per neighborhood of the imputed neighborhoods would work better?\n"
   ],
   "metadata": {
    "collapsed": false,
    "pycharm": {
     "name": "#%% md\n"
    }
   }
  },
  {
   "cell_type": "code",
   "execution_count": 106,
   "outputs": [],
   "source": [
    "FINAL_RAW_IMP = lgb.LGBMClassifier(objective=\"multiclass\", num_class=15,max_depth=15,\n",
    "                                   min_child_weight=0.4,n_estimators=71,num_leaves=40,\n",
    "                                   lambda_l1 = 0.25, min_child_samples=16, random_state=42069,\n",
    "                                   n_jobs=-1,)\n"
   ],
   "metadata": {
    "collapsed": false,
    "pycharm": {
     "name": "#%%\n"
    }
   }
  },
  {
   "cell_type": "code",
   "execution_count": 107,
   "outputs": [],
   "source": [
    "FINAL_RAW_IMP_MODEL = FINAL_RAW_IMP.fit(X,y)\n"
   ],
   "metadata": {
    "collapsed": false,
    "pycharm": {
     "name": "#%%\n"
    }
   }
  },
  {
   "cell_type": "code",
   "execution_count": 108,
   "outputs": [
    {
     "data": {
      "text/plain": "<AxesSubplot:title={'center':'Feature importance'}, xlabel='Feature importance', ylabel='Features'>"
     },
     "execution_count": 108,
     "metadata": {},
     "output_type": "execute_result"
    },
    {
     "data": {
      "text/plain": "<Figure size 432x288 with 1 Axes>",
      "image/png": "[encoded data removed]"
     },
     "metadata": {
      "needs_background": "light"
     },
     "output_type": "display_data"
    }
   ],
   "source": [
    "lgb.plot_importance(FINAL_RAW_IMP_MODEL)\n"
   ],
   "metadata": {
    "collapsed": false,
    "pycharm": {
     "name": "#%%\n"
    }
   }
  },
  {
   "cell_type": "code",
   "execution_count": 115,
   "outputs": [
    {
     "data": {
      "text/plain": "<lightgbm.basic.Booster at 0x251307d1820>"
     },
     "execution_count": 115,
     "metadata": {},
     "output_type": "execute_result"
    }
   ],
   "source": [
    "FINAL_RAW_IMP_MODEL.booster_.save_model(\"MODEL_IMPUTED_DEMO.txt\")"
   ],
   "metadata": {
    "collapsed": false,
    "pycharm": {
     "name": "#%%\n"
    }
   }
  },
  {
   "cell_type": "code",
   "execution_count": 116,
   "outputs": [],
   "source": [
    "old_df = pd.read_csv(\"../data/BPD_CRIME_DATA_WITHDEMOGRAPHICS.csv\")"
   ],
   "metadata": {
    "collapsed": false,
    "pycharm": {
     "name": "#%%\n"
    }
   }
  },
  {
   "cell_type": "code",
   "execution_count": 118,
   "outputs": [],
   "source": [
    "temp_1 = old_df[old_df[\"median_price_homes_sold\"].isna()]"
   ],
   "metadata": {
    "collapsed": false,
    "pycharm": {
     "name": "#%%\n"
    }
   }
  },
  {
   "cell_type": "code",
   "execution_count": 119,
   "outputs": [],
   "source": [
    "temp_2 = old_df[old_df[\"median_household_income\"].isna()]"
   ],
   "metadata": {
    "collapsed": false,
    "pycharm": {
     "name": "#%%\n"
    }
   }
  },
  {
   "cell_type": "code",
   "execution_count": 122,
   "outputs": [
    {
     "data": {
      "text/plain": "151128"
     },
     "execution_count": 122,
     "metadata": {},
     "output_type": "execute_result"
    }
   ],
   "source": [
    "len(temp_1)"
   ],
   "metadata": {
    "collapsed": false,
    "pycharm": {
     "name": "#%%\n"
    }
   }
  },
  {
   "cell_type": "code",
   "execution_count": 123,
   "outputs": [
    {
     "data": {
      "text/plain": "151128"
     },
     "execution_count": 123,
     "metadata": {},
     "output_type": "execute_result"
    }
   ],
   "source": [
    "len(temp_2)"
   ],
   "metadata": {
    "collapsed": false,
    "pycharm": {
     "name": "#%%\n"
    }
   }
  },
  {
   "cell_type": "code",
   "execution_count": 124,
   "outputs": [],
   "source": [
    "test = old_df[old_df[\"median_price_homes_sold\"].isna() & old_df[\"median_household_income\"].isna()]"
   ],
   "metadata": {
    "collapsed": false,
    "pycharm": {
     "name": "#%%\n"
    }
   }
  },
  {
   "cell_type": "code",
   "execution_count": 125,
   "outputs": [
    {
     "data": {
      "text/plain": "151128"
     },
     "execution_count": 125,
     "metadata": {},
     "output_type": "execute_result"
    }
   ],
   "source": [
    "len(test)"
   ],
   "metadata": {
    "collapsed": false,
    "pycharm": {
     "name": "#%%\n"
    }
   }
  },
  {
   "cell_type": "code",
   "execution_count": 127,
   "outputs": [],
   "source": [
    "temp_1 = temp_1.reset_index()\n",
    "temp_2 = temp_2.reset_index()"
   ],
   "metadata": {
    "collapsed": false,
    "pycharm": {
     "name": "#%%\n"
    }
   }
  },
  {
   "cell_type": "code",
   "execution_count": 128,
   "outputs": [
    {
     "data": {
      "text/plain": "        index  Unnamed: 0  Unnamed: 0.1  Description  Inside/Outside  Weapon  \\\n0        True        True          True         True            True    True   \n1        True        True          True         True            True    True   \n2        True        True          True         True            True    True   \n3        True        True          True         True            True    True   \n4        True        True          True         True            True    True   \n...       ...         ...           ...          ...             ...     ...   \n151123   True        True          True         True            True    True   \n151124   True        True          True         True            True    True   \n151125   True        True          True         True            True    True   \n151126   True        True          True         True            True    True   \n151127   True        True          True         True            True    True   \n\n        Post  District  Neighborhood  Longitude  ...  \\\n0       True      True          True       True  ...   \n1       True      True          True       True  ...   \n2       True      True          True       True  ...   \n3       True      True          True       True  ...   \n4       True      True          True       True  ...   \n...      ...       ...           ...        ...  ...   \n151123  True      True          True       True  ...   \n151124  True      True          True       True  ...   \n151125  True      True          True       True  ...   \n151126  True      True          True       True  ...   \n151127  True      True          True       True  ...   \n\n        households_below_poverty  perc18_24  perc25_64  perc65up  perc_asian  \\\n0                          False      False      False     False       False   \n1                          False      False      False     False       False   \n2                          False      False      False     False       False   \n3                          False      False      False     False       False   \n4                          False      False      False     False       False   \n...                          ...        ...        ...       ...         ...   \n151123                     False      False      False     False       False   \n151124                     False      False      False     False       False   \n151125                     False      False      False     False       False   \n151126                     False      False      False     False       False   \n151127                     False      False      False     False       False   \n\n        perc_aa  perc_hisp   pwhi  num_households  median_price_homes_sold  \n0         False      False  False           False                    False  \n1         False      False  False           False                    False  \n2         False      False  False           False                    False  \n3         False      False  False           False                    False  \n4         False      False  False           False                    False  \n...         ...        ...    ...             ...                      ...  \n151123    False      False  False           False                    False  \n151124    False      False  False           False                    False  \n151125    False      False  False           False                    False  \n151126    False      False  False           False                    False  \n151127    False      False  False           False                    False  \n\n[151128 rows x 28 columns]",
      "text/html": "<div>\n<style scoped>\n    .dataframe tbody tr th:only-of-type {\n        vertical-align: middle;\n    }\n\n    .dataframe tbody tr th {\n        vertical-align: top;\n    }\n\n    .dataframe thead th {\n        text-align: right;\n    }\n</style>\n<table border=\"1\" class=\"dataframe\">\n  <thead>\n    <tr style=\"text-align: right;\">\n      <th></th>\n      <th>index</th>\n      <th>Unnamed: 0</th>\n      <th>Unnamed: 0.1</th>\n      <th>Description</th>\n      <th>Inside/Outside</th>\n      <th>Weapon</th>\n      <th>Post</th>\n      <th>District</th>\n      <th>Neighborhood</th>\n      <th>Longitude</th>\n      <th>...</th>\n      <th>households_below_poverty</th>\n      <th>perc18_24</th>\n      <th>perc25_64</th>\n      <th>perc65up</th>\n      <th>perc_asian</th>\n      <th>perc_aa</th>\n      <th>perc_hisp</th>\n      <th>pwhi</th>\n      <th>num_households</th>\n      <th>median_price_homes_sold</th>\n    </tr>\n  </thead>\n  <tbody>\n    <tr>\n      <th>0</th>\n      <td>True</td>\n      <td>True</td>\n      <td>True</td>\n      <td>True</td>\n      <td>True</td>\n      <td>True</td>\n      <td>True</td>\n      <td>True</td>\n      <td>True</td>\n      <td>True</td>\n      <td>...</td>\n      <td>False</td>\n      <td>False</td>\n      <td>False</td>\n      <td>False</td>\n      <td>False</td>\n      <td>False</td>\n      <td>False</td>\n      <td>False</td>\n      <td>False</td>\n      <td>False</td>\n    </tr>\n    <tr>\n      <th>1</th>\n      <td>True</td>\n      <td>True</td>\n      <td>True</td>\n      <td>True</td>\n      <td>True</td>\n      <td>True</td>\n      <td>True</td>\n      <td>True</td>\n      <td>True</td>\n      <td>True</td>\n      <td>...</td>\n      <td>False</td>\n      <td>False</td>\n      <td>False</td>\n      <td>False</td>\n      <td>False</td>\n      <td>False</td>\n      <td>False</td>\n      <td>False</td>\n      <td>False</td>\n      <td>False</td>\n    </tr>\n    <tr>\n      <th>2</th>\n      <td>True</td>\n      <td>True</td>\n      <td>True</td>\n      <td>True</td>\n      <td>True</td>\n      <td>True</td>\n      <td>True</td>\n      <td>True</td>\n      <td>True</td>\n      <td>True</td>\n      <td>...</td>\n      <td>False</td>\n      <td>False</td>\n      <td>False</td>\n      <td>False</td>\n      <td>False</td>\n      <td>False</td>\n      <td>False</td>\n      <td>False</td>\n      <td>False</td>\n      <td>False</td>\n    </tr>\n    <tr>\n      <th>3</th>\n      <td>True</td>\n      <td>True</td>\n      <td>True</td>\n      <td>True</td>\n      <td>True</td>\n      <td>True</td>\n      <td>True</td>\n      <td>True</td>\n      <td>True</td>\n      <td>True</td>\n      <td>...</td>\n      <td>False</td>\n      <td>False</td>\n      <td>False</td>\n      <td>False</td>\n      <td>False</td>\n      <td>False</td>\n      <td>False</td>\n      <td>False</td>\n      <td>False</td>\n      <td>False</td>\n    </tr>\n    <tr>\n      <th>4</th>\n      <td>True</td>\n      <td>True</td>\n      <td>True</td>\n      <td>True</td>\n      <td>True</td>\n      <td>True</td>\n      <td>True</td>\n      <td>True</td>\n      <td>True</td>\n      <td>True</td>\n      <td>...</td>\n      <td>False</td>\n      <td>False</td>\n      <td>False</td>\n      <td>False</td>\n      <td>False</td>\n      <td>False</td>\n      <td>False</td>\n      <td>False</td>\n      <td>False</td>\n      <td>False</td>\n    </tr>\n    <tr>\n      <th>...</th>\n      <td>...</td>\n      <td>...</td>\n      <td>...</td>\n      <td>...</td>\n      <td>...</td>\n      <td>...</td>\n      <td>...</td>\n      <td>...</td>\n      <td>...</td>\n      <td>...</td>\n      <td>...</td>\n      <td>...</td>\n      <td>...</td>\n      <td>...</td>\n      <td>...</td>\n      <td>...</td>\n      <td>...</td>\n      <td>...</td>\n      <td>...</td>\n      <td>...</td>\n      <td>...</td>\n    </tr>\n    <tr>\n      <th>151123</th>\n      <td>True</td>\n      <td>True</td>\n      <td>True</td>\n      <td>True</td>\n      <td>True</td>\n      <td>True</td>\n      <td>True</td>\n      <td>True</td>\n      <td>True</td>\n      <td>True</td>\n      <td>...</td>\n      <td>False</td>\n      <td>False</td>\n      <td>False</td>\n      <td>False</td>\n      <td>False</td>\n      <td>False</td>\n      <td>False</td>\n      <td>False</td>\n      <td>False</td>\n      <td>False</td>\n    </tr>\n    <tr>\n      <th>151124</th>\n      <td>True</td>\n      <td>True</td>\n      <td>True</td>\n      <td>True</td>\n      <td>True</td>\n      <td>True</td>\n      <td>True</td>\n      <td>True</td>\n      <td>True</td>\n      <td>True</td>\n      <td>...</td>\n      <td>False</td>\n      <td>False</td>\n      <td>False</td>\n      <td>False</td>\n      <td>False</td>\n      <td>False</td>\n      <td>False</td>\n      <td>False</td>\n      <td>False</td>\n      <td>False</td>\n    </tr>\n    <tr>\n      <th>151125</th>\n      <td>True</td>\n      <td>True</td>\n      <td>True</td>\n      <td>True</td>\n      <td>True</td>\n      <td>True</td>\n      <td>True</td>\n      <td>True</td>\n      <td>True</td>\n      <td>True</td>\n      <td>...</td>\n      <td>False</td>\n      <td>False</td>\n      <td>False</td>\n      <td>False</td>\n      <td>False</td>\n      <td>False</td>\n      <td>False</td>\n      <td>False</td>\n      <td>False</td>\n      <td>False</td>\n    </tr>\n    <tr>\n      <th>151126</th>\n      <td>True</td>\n      <td>True</td>\n      <td>True</td>\n      <td>True</td>\n      <td>True</td>\n      <td>True</td>\n      <td>True</td>\n      <td>True</td>\n      <td>True</td>\n      <td>True</td>\n      <td>...</td>\n      <td>False</td>\n      <td>False</td>\n      <td>False</td>\n      <td>False</td>\n      <td>False</td>\n      <td>False</td>\n      <td>False</td>\n      <td>False</td>\n      <td>False</td>\n      <td>False</td>\n    </tr>\n    <tr>\n      <th>151127</th>\n      <td>True</td>\n      <td>True</td>\n      <td>True</td>\n      <td>True</td>\n      <td>True</td>\n      <td>True</td>\n      <td>True</td>\n      <td>True</td>\n      <td>True</td>\n      <td>True</td>\n      <td>...</td>\n      <td>False</td>\n      <td>False</td>\n      <td>False</td>\n      <td>False</td>\n      <td>False</td>\n      <td>False</td>\n      <td>False</td>\n      <td>False</td>\n      <td>False</td>\n      <td>False</td>\n    </tr>\n  </tbody>\n</table>\n<p>151128 rows × 28 columns</p>\n</div>"
     },
     "execution_count": 128,
     "metadata": {},
     "output_type": "execute_result"
    }
   ],
   "source": [
    "temp_1 == temp_2"
   ],
   "metadata": {
    "collapsed": false,
    "pycharm": {
     "name": "#%%\n"
    }
   }
  },
  {
   "cell_type": "markdown",
   "source": [
    "Looks like we'll have to do this exercise for all imputed neighborhoods.\n"
   ],
   "metadata": {
    "collapsed": false,
    "pycharm": {
     "name": "#%% md\n"
    }
   }
  },
  {
   "cell_type": "code",
   "execution_count": 129,
   "outputs": [
    {
     "data": {
      "text/plain": "Patterson Park Neighborho    3265\nHamilton Hills               3165\nColdstream Homestead Mont    3161\nMcElderry Park               2900\nCentral Park Heights         2873\n                             ... \nVillages Of Homeland           36\nGreenmount Cemetery            23\nMt Pleasant Park               13\nBlythewood                      4\nDundalk Marine Terminal         1\nName: Neighborhood, Length: 207, dtype: int64"
     },
     "execution_count": 129,
     "metadata": {},
     "output_type": "execute_result"
    }
   ],
   "source": [
    "temp_1[\"Neighborhood\"].value_counts()\n"
   ],
   "metadata": {
    "collapsed": false,
    "pycharm": {
     "name": "#%%\n"
    }
   }
  },
  {
   "cell_type": "markdown",
   "source": [
    "## Just noticed an error. The \"new\" neighborhoods in the test data may be mispellings. McElderry vs Mcelderry...\n"
   ],
   "metadata": {
    "collapsed": false,
    "pycharm": {
     "name": "#%% md\n"
    }
   }
  },
  {
   "cell_type": "markdown",
   "source": [
    "# Also noticed inconsistencies in the naming conventions. Will have to redo demographic matching and imputation. Stopping here for this exercise and will redo later.........\n"
   ],
   "metadata": {
    "collapsed": false,
    "pycharm": {
     "name": "#%% md\n"
    }
   }
  },
  {
   "cell_type": "code",
   "execution_count": null,
   "outputs": [],
   "source": [],
   "metadata": {
    "collapsed": false,
    "pycharm": {
     "name": "#%%\n"
    }
   }
  }
 ],
 "metadata": {
  "kernelspec": {
   "display_name": "Python 3",
   "language": "python",
   "name": "python3"
  },
  "language_info": {
   "codemirror_mode": {
    "name": "ipython",
    "version": 2
   },
   "file_extension": ".py",
   "mimetype": "text/x-python",
   "name": "python",
   "nbconvert_exporter": "python",
   "pygments_lexer": "ipython2",
   "version": "2.7.6"
  }
 },
 "nbformat": 4,
 "nbformat_minor": 0
}