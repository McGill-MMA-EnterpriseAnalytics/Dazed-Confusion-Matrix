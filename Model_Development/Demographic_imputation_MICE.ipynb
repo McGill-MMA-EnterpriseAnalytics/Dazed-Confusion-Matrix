{
 "cells": [
  {
   "cell_type": "code",
   "execution_count": 1,
   "metadata": {
    "collapsed": true
   },
   "outputs": [],
   "source": [
    "import pandas as pd\n",
    "import numpy as np\n",
    "import miceforest as mf"
   ]
  },
  {
   "cell_type": "code",
   "execution_count": 2,
   "outputs": [],
   "source": [
    "df = pd.read_csv(\"../data/V2_BPD_CRIME_DATA_WITHDEMOGRAPHICS.csv\")\n"
   ],
   "metadata": {
    "collapsed": false,
    "pycharm": {
     "name": "#%%\n"
    }
   }
  },
  {
   "cell_type": "code",
   "execution_count": 3,
   "outputs": [
    {
     "data": {
      "text/plain": "    Unnamed: 0   CrimeDate           Description Inside/Outside   Weapon  \\\n0            0  2017-09-02   ROBBERY - RESIDENCE         INSIDE    KNIFE   \n1            1  2017-09-02            AUTO THEFT        OUTSIDE     NONE   \n2            2  2017-09-02              SHOOTING        OUTSIDE  FIREARM   \n3            3  2017-09-02          AGG. ASSAULT         INSIDE    OTHER   \n4            4  2017-09-02        COMMON ASSAULT        OUTSIDE    HANDS   \n5            5  2017-09-02              BURGLARY         INSIDE     NONE   \n6            6  2017-09-02              HOMICIDE        OUTSIDE  FIREARM   \n7            7  2017-09-02      ROBBERY - STREET        OUTSIDE     NONE   \n8            8  2017-09-02          AGG. ASSAULT        OUTSIDE    OTHER   \n9            9  2017-09-02        COMMON ASSAULT         INSIDE    HANDS   \n10          10  2017-09-02          AGG. ASSAULT        OUTSIDE    OTHER   \n11          11  2017-09-02  ROBBERY - COMMERCIAL         INSIDE  FIREARM   \n12          12  2017-09-02          AGG. ASSAULT        OUTSIDE    OTHER   \n13          13  2017-09-02     LARCENY FROM AUTO        OUTSIDE     NONE   \n14          14  2017-09-02              BURGLARY         INSIDE     NONE   \n15          15  2017-09-02              SHOOTING        OUTSIDE  FIREARM   \n16          16  2017-09-02              HOMICIDE        OUTSIDE  FIREARM   \n17          17  2017-09-02        COMMON ASSAULT        OUTSIDE    HANDS   \n18          18  2017-09-02               LARCENY         INSIDE     NONE   \n19          19  2017-09-02              BURGLARY         INSIDE     NONE   \n\n     Post      District              Neighborhood  Longitude  Latitude  ...  \\\n0   913.0      SOUTHERN                  BROOKLYN  -76.60541  39.22951  ...   \n1   133.0       CENTRAL            RESERVOIR HILL  -76.63217  39.31360  ...   \n2   524.0      NORTHERN            WINSTON-GOVANS  -76.60697  39.34768  ...   \n3   934.0      SOUTHERN          CARROLLTON RIDGE  -76.64526  39.28315  ...   \n4   113.0       CENTRAL             DOWNTOWN WEST  -76.61365  39.28756  ...   \n5   922.0      SOUTHERN               CHERRY HILL  -76.62131  39.24867  ...   \n6   232.0  SOUTHEASTERN                    CANTON  -76.56827  39.28202  ...   \n7   123.0       CENTRAL                     UPTON  -76.62789  39.30254  ...   \n8   641.0  NORTHWESTERN             WINDSOR HILLS  -76.68365  39.31370  ...   \n9   332.0       EASTERN                     BEREA  -76.57419  39.30551  ...   \n10  641.0  NORTHWESTERN             WINDSOR HILLS  -76.68365  39.31370  ...   \n11  844.0  SOUTHWESTERN                  EDGEWOOD  -76.67759  39.29402  ...   \n12  641.0  NORTHWESTERN             WINDSOR HILLS  -76.68169  39.31400  ...   \n13  444.0  NORTHEASTERN                 FRANKFORD  -76.54270  39.33288  ...   \n14  243.0  SOUTHEASTERN  HOLABIRD INDUSTRIAL PARK  -76.53557  39.26533  ...   \n15  343.0       EASTERN                    OLIVER  -76.60246  39.31038  ...   \n16  343.0       EASTERN                    OLIVER  -76.60246  39.31038  ...   \n17  132.0       CENTRAL              MADISON PARK  -76.62256  39.30083  ...   \n18  212.0  SOUTHEASTERN           WASHINGTON HILL  -76.59390  39.29020  ...   \n19  426.0  NORTHEASTERN                WALTHERSON  -76.55734  39.33643  ...   \n\n    perc18_24  perc25_64   perc65up  perc_asian    perc_aa  perc_hisp  \\\n0    8.248062  57.449612   7.302326    2.527132  37.961240  14.906977   \n1    8.231621  56.940108  11.003879    0.624468  83.990917   2.876336   \n2    7.664336  52.242424  15.599068    0.093240  90.013986   1.948718   \n3    7.730214  52.805320  10.888797    2.873597  73.573591   6.732767   \n4   18.475432  71.268942   4.990051   16.255931  29.021889   4.959437   \n5    9.134854  45.575112   9.779375    0.929598  87.469013   5.813089   \n6    5.849147  75.246217  10.533269    4.383858   3.939467   3.086716   \n7   11.429971  47.277179  10.803134    1.860921  91.635651   0.636631   \n8    7.680189  54.647499  15.064986    0.059078  95.057109   1.024025   \n9    8.788912  52.139479  15.157848    0.417996  93.664063   2.034980   \n10   7.680189  54.647499  15.064986    0.059078  95.057109   1.024025   \n11   9.105392  51.678922  15.649510    0.000000  95.759804   1.311275   \n12   7.680189  54.647499  15.064986    0.059078  95.057109   1.024025   \n13   8.958899  59.311311  10.003397    3.549592  80.566406   3.324558   \n14   5.197815  48.998510  12.613806    2.002980  29.581195  25.591789   \n15   7.831402  51.165160  12.924997    0.254680  93.976824   1.973768   \n16   7.831402  51.165160  12.924997    0.254680  93.976824   1.973768   \n17  11.429971  47.277179  10.803134    1.860921  91.635651   0.636631   \n18   9.802886  61.985216   8.342133    5.332629  52.094333  14.695530   \n19   6.927748  61.054654  12.250589    0.601066  57.181807   3.253191   \n\n    perc_white  median_price_homes_sold  racial_diversity_index  \\\n0    39.682171                  52000.0               73.926734   \n1    10.966033                 127500.0               31.631200   \n2     6.685315                  71300.0               20.532109   \n3    12.782758                  40000.0               49.751399   \n4    43.961427                 207000.0               69.322521   \n5     4.362915                  45000.0               30.277140   \n6    85.575306                 306500.0               26.305424   \n7     4.221352                 100000.0               16.462884   \n8     2.116975                  85000.0               10.833830   \n9     2.364976                  42786.0               14.578103   \n10    2.116975                  85000.0               10.833830   \n11    1.348039                  73500.0                8.375596   \n12    2.116975                  85000.0               10.833830   \n13   11.714504                 112750.0               35.917188   \n14   41.251448                  85000.0               79.170017   \n15    3.285369                 107875.0               11.438799   \n16    3.285369                 107875.0               11.438799   \n17    4.221352                 100000.0               16.462884   \n18   26.539951                 300000.0               67.734173   \n19   37.247490                 150000.0               54.643662   \n\n    num_households  \n0          45000.0  \n1          78950.0  \n2          60000.0  \n3          22500.0  \n4         207000.0  \n5          38000.0  \n6         285500.0  \n7          53465.0  \n8          65500.0  \n9          20000.0  \n10         65500.0  \n11         55000.0  \n12         65500.0  \n13         94500.0  \n14         83000.0  \n15         32450.0  \n16         32450.0  \n17         53465.0  \n18        292900.0  \n19        144450.0  \n\n[20 rows x 28 columns]",
      "text/html": "<div>\n<style scoped>\n    .dataframe tbody tr th:only-of-type {\n        vertical-align: middle;\n    }\n\n    .dataframe tbody tr th {\n        vertical-align: top;\n    }\n\n    .dataframe thead th {\n        text-align: right;\n    }\n</style>\n<table border=\"1\" class=\"dataframe\">\n  <thead>\n    <tr style=\"text-align: right;\">\n      <th></th>\n      <th>Unnamed: 0</th>\n      <th>CrimeDate</th>\n      <th>Description</th>\n      <th>Inside/Outside</th>\n      <th>Weapon</th>\n      <th>Post</th>\n      <th>District</th>\n      <th>Neighborhood</th>\n      <th>Longitude</th>\n      <th>Latitude</th>\n      <th>...</th>\n      <th>perc18_24</th>\n      <th>perc25_64</th>\n      <th>perc65up</th>\n      <th>perc_asian</th>\n      <th>perc_aa</th>\n      <th>perc_hisp</th>\n      <th>perc_white</th>\n      <th>median_price_homes_sold</th>\n      <th>racial_diversity_index</th>\n      <th>num_households</th>\n    </tr>\n  </thead>\n  <tbody>\n    <tr>\n      <th>0</th>\n      <td>0</td>\n      <td>2017-09-02</td>\n      <td>ROBBERY - RESIDENCE</td>\n      <td>INSIDE</td>\n      <td>KNIFE</td>\n      <td>913.0</td>\n      <td>SOUTHERN</td>\n      <td>BROOKLYN</td>\n      <td>-76.60541</td>\n      <td>39.22951</td>\n      <td>...</td>\n      <td>8.248062</td>\n      <td>57.449612</td>\n      <td>7.302326</td>\n      <td>2.527132</td>\n      <td>37.961240</td>\n      <td>14.906977</td>\n      <td>39.682171</td>\n      <td>52000.0</td>\n      <td>73.926734</td>\n      <td>45000.0</td>\n    </tr>\n    <tr>\n      <th>1</th>\n      <td>1</td>\n      <td>2017-09-02</td>\n      <td>AUTO THEFT</td>\n      <td>OUTSIDE</td>\n      <td>NONE</td>\n      <td>133.0</td>\n      <td>CENTRAL</td>\n      <td>RESERVOIR HILL</td>\n      <td>-76.63217</td>\n      <td>39.31360</td>\n      <td>...</td>\n      <td>8.231621</td>\n      <td>56.940108</td>\n      <td>11.003879</td>\n      <td>0.624468</td>\n      <td>83.990917</td>\n      <td>2.876336</td>\n      <td>10.966033</td>\n      <td>127500.0</td>\n      <td>31.631200</td>\n      <td>78950.0</td>\n    </tr>\n    <tr>\n      <th>2</th>\n      <td>2</td>\n      <td>2017-09-02</td>\n      <td>SHOOTING</td>\n      <td>OUTSIDE</td>\n      <td>FIREARM</td>\n      <td>524.0</td>\n      <td>NORTHERN</td>\n      <td>WINSTON-GOVANS</td>\n      <td>-76.60697</td>\n      <td>39.34768</td>\n      <td>...</td>\n      <td>7.664336</td>\n      <td>52.242424</td>\n      <td>15.599068</td>\n      <td>0.093240</td>\n      <td>90.013986</td>\n      <td>1.948718</td>\n      <td>6.685315</td>\n      <td>71300.0</td>\n      <td>20.532109</td>\n      <td>60000.0</td>\n    </tr>\n    <tr>\n      <th>3</th>\n      <td>3</td>\n      <td>2017-09-02</td>\n      <td>AGG. ASSAULT</td>\n      <td>INSIDE</td>\n      <td>OTHER</td>\n      <td>934.0</td>\n      <td>SOUTHERN</td>\n      <td>CARROLLTON RIDGE</td>\n      <td>-76.64526</td>\n      <td>39.28315</td>\n      <td>...</td>\n      <td>7.730214</td>\n      <td>52.805320</td>\n      <td>10.888797</td>\n      <td>2.873597</td>\n      <td>73.573591</td>\n      <td>6.732767</td>\n      <td>12.782758</td>\n      <td>40000.0</td>\n      <td>49.751399</td>\n      <td>22500.0</td>\n    </tr>\n    <tr>\n      <th>4</th>\n      <td>4</td>\n      <td>2017-09-02</td>\n      <td>COMMON ASSAULT</td>\n      <td>OUTSIDE</td>\n      <td>HANDS</td>\n      <td>113.0</td>\n      <td>CENTRAL</td>\n      <td>DOWNTOWN WEST</td>\n      <td>-76.61365</td>\n      <td>39.28756</td>\n      <td>...</td>\n      <td>18.475432</td>\n      <td>71.268942</td>\n      <td>4.990051</td>\n      <td>16.255931</td>\n      <td>29.021889</td>\n      <td>4.959437</td>\n      <td>43.961427</td>\n      <td>207000.0</td>\n      <td>69.322521</td>\n      <td>207000.0</td>\n    </tr>\n    <tr>\n      <th>5</th>\n      <td>5</td>\n      <td>2017-09-02</td>\n      <td>BURGLARY</td>\n      <td>INSIDE</td>\n      <td>NONE</td>\n      <td>922.0</td>\n      <td>SOUTHERN</td>\n      <td>CHERRY HILL</td>\n      <td>-76.62131</td>\n      <td>39.24867</td>\n      <td>...</td>\n      <td>9.134854</td>\n      <td>45.575112</td>\n      <td>9.779375</td>\n      <td>0.929598</td>\n      <td>87.469013</td>\n      <td>5.813089</td>\n      <td>4.362915</td>\n      <td>45000.0</td>\n      <td>30.277140</td>\n      <td>38000.0</td>\n    </tr>\n    <tr>\n      <th>6</th>\n      <td>6</td>\n      <td>2017-09-02</td>\n      <td>HOMICIDE</td>\n      <td>OUTSIDE</td>\n      <td>FIREARM</td>\n      <td>232.0</td>\n      <td>SOUTHEASTERN</td>\n      <td>CANTON</td>\n      <td>-76.56827</td>\n      <td>39.28202</td>\n      <td>...</td>\n      <td>5.849147</td>\n      <td>75.246217</td>\n      <td>10.533269</td>\n      <td>4.383858</td>\n      <td>3.939467</td>\n      <td>3.086716</td>\n      <td>85.575306</td>\n      <td>306500.0</td>\n      <td>26.305424</td>\n      <td>285500.0</td>\n    </tr>\n    <tr>\n      <th>7</th>\n      <td>7</td>\n      <td>2017-09-02</td>\n      <td>ROBBERY - STREET</td>\n      <td>OUTSIDE</td>\n      <td>NONE</td>\n      <td>123.0</td>\n      <td>CENTRAL</td>\n      <td>UPTON</td>\n      <td>-76.62789</td>\n      <td>39.30254</td>\n      <td>...</td>\n      <td>11.429971</td>\n      <td>47.277179</td>\n      <td>10.803134</td>\n      <td>1.860921</td>\n      <td>91.635651</td>\n      <td>0.636631</td>\n      <td>4.221352</td>\n      <td>100000.0</td>\n      <td>16.462884</td>\n      <td>53465.0</td>\n    </tr>\n    <tr>\n      <th>8</th>\n      <td>8</td>\n      <td>2017-09-02</td>\n      <td>AGG. ASSAULT</td>\n      <td>OUTSIDE</td>\n      <td>OTHER</td>\n      <td>641.0</td>\n      <td>NORTHWESTERN</td>\n      <td>WINDSOR HILLS</td>\n      <td>-76.68365</td>\n      <td>39.31370</td>\n      <td>...</td>\n      <td>7.680189</td>\n      <td>54.647499</td>\n      <td>15.064986</td>\n      <td>0.059078</td>\n      <td>95.057109</td>\n      <td>1.024025</td>\n      <td>2.116975</td>\n      <td>85000.0</td>\n      <td>10.833830</td>\n      <td>65500.0</td>\n    </tr>\n    <tr>\n      <th>9</th>\n      <td>9</td>\n      <td>2017-09-02</td>\n      <td>COMMON ASSAULT</td>\n      <td>INSIDE</td>\n      <td>HANDS</td>\n      <td>332.0</td>\n      <td>EASTERN</td>\n      <td>BEREA</td>\n      <td>-76.57419</td>\n      <td>39.30551</td>\n      <td>...</td>\n      <td>8.788912</td>\n      <td>52.139479</td>\n      <td>15.157848</td>\n      <td>0.417996</td>\n      <td>93.664063</td>\n      <td>2.034980</td>\n      <td>2.364976</td>\n      <td>42786.0</td>\n      <td>14.578103</td>\n      <td>20000.0</td>\n    </tr>\n    <tr>\n      <th>10</th>\n      <td>10</td>\n      <td>2017-09-02</td>\n      <td>AGG. ASSAULT</td>\n      <td>OUTSIDE</td>\n      <td>OTHER</td>\n      <td>641.0</td>\n      <td>NORTHWESTERN</td>\n      <td>WINDSOR HILLS</td>\n      <td>-76.68365</td>\n      <td>39.31370</td>\n      <td>...</td>\n      <td>7.680189</td>\n      <td>54.647499</td>\n      <td>15.064986</td>\n      <td>0.059078</td>\n      <td>95.057109</td>\n      <td>1.024025</td>\n      <td>2.116975</td>\n      <td>85000.0</td>\n      <td>10.833830</td>\n      <td>65500.0</td>\n    </tr>\n    <tr>\n      <th>11</th>\n      <td>11</td>\n      <td>2017-09-02</td>\n      <td>ROBBERY - COMMERCIAL</td>\n      <td>INSIDE</td>\n      <td>FIREARM</td>\n      <td>844.0</td>\n      <td>SOUTHWESTERN</td>\n      <td>EDGEWOOD</td>\n      <td>-76.67759</td>\n      <td>39.29402</td>\n      <td>...</td>\n      <td>9.105392</td>\n      <td>51.678922</td>\n      <td>15.649510</td>\n      <td>0.000000</td>\n      <td>95.759804</td>\n      <td>1.311275</td>\n      <td>1.348039</td>\n      <td>73500.0</td>\n      <td>8.375596</td>\n      <td>55000.0</td>\n    </tr>\n    <tr>\n      <th>12</th>\n      <td>12</td>\n      <td>2017-09-02</td>\n      <td>AGG. ASSAULT</td>\n      <td>OUTSIDE</td>\n      <td>OTHER</td>\n      <td>641.0</td>\n      <td>NORTHWESTERN</td>\n      <td>WINDSOR HILLS</td>\n      <td>-76.68169</td>\n      <td>39.31400</td>\n      <td>...</td>\n      <td>7.680189</td>\n      <td>54.647499</td>\n      <td>15.064986</td>\n      <td>0.059078</td>\n      <td>95.057109</td>\n      <td>1.024025</td>\n      <td>2.116975</td>\n      <td>85000.0</td>\n      <td>10.833830</td>\n      <td>65500.0</td>\n    </tr>\n    <tr>\n      <th>13</th>\n      <td>13</td>\n      <td>2017-09-02</td>\n      <td>LARCENY FROM AUTO</td>\n      <td>OUTSIDE</td>\n      <td>NONE</td>\n      <td>444.0</td>\n      <td>NORTHEASTERN</td>\n      <td>FRANKFORD</td>\n      <td>-76.54270</td>\n      <td>39.33288</td>\n      <td>...</td>\n      <td>8.958899</td>\n      <td>59.311311</td>\n      <td>10.003397</td>\n      <td>3.549592</td>\n      <td>80.566406</td>\n      <td>3.324558</td>\n      <td>11.714504</td>\n      <td>112750.0</td>\n      <td>35.917188</td>\n      <td>94500.0</td>\n    </tr>\n    <tr>\n      <th>14</th>\n      <td>14</td>\n      <td>2017-09-02</td>\n      <td>BURGLARY</td>\n      <td>INSIDE</td>\n      <td>NONE</td>\n      <td>243.0</td>\n      <td>SOUTHEASTERN</td>\n      <td>HOLABIRD INDUSTRIAL PARK</td>\n      <td>-76.53557</td>\n      <td>39.26533</td>\n      <td>...</td>\n      <td>5.197815</td>\n      <td>48.998510</td>\n      <td>12.613806</td>\n      <td>2.002980</td>\n      <td>29.581195</td>\n      <td>25.591789</td>\n      <td>41.251448</td>\n      <td>85000.0</td>\n      <td>79.170017</td>\n      <td>83000.0</td>\n    </tr>\n    <tr>\n      <th>15</th>\n      <td>15</td>\n      <td>2017-09-02</td>\n      <td>SHOOTING</td>\n      <td>OUTSIDE</td>\n      <td>FIREARM</td>\n      <td>343.0</td>\n      <td>EASTERN</td>\n      <td>OLIVER</td>\n      <td>-76.60246</td>\n      <td>39.31038</td>\n      <td>...</td>\n      <td>7.831402</td>\n      <td>51.165160</td>\n      <td>12.924997</td>\n      <td>0.254680</td>\n      <td>93.976824</td>\n      <td>1.973768</td>\n      <td>3.285369</td>\n      <td>107875.0</td>\n      <td>11.438799</td>\n      <td>32450.0</td>\n    </tr>\n    <tr>\n      <th>16</th>\n      <td>16</td>\n      <td>2017-09-02</td>\n      <td>HOMICIDE</td>\n      <td>OUTSIDE</td>\n      <td>FIREARM</td>\n      <td>343.0</td>\n      <td>EASTERN</td>\n      <td>OLIVER</td>\n      <td>-76.60246</td>\n      <td>39.31038</td>\n      <td>...</td>\n      <td>7.831402</td>\n      <td>51.165160</td>\n      <td>12.924997</td>\n      <td>0.254680</td>\n      <td>93.976824</td>\n      <td>1.973768</td>\n      <td>3.285369</td>\n      <td>107875.0</td>\n      <td>11.438799</td>\n      <td>32450.0</td>\n    </tr>\n    <tr>\n      <th>17</th>\n      <td>17</td>\n      <td>2017-09-02</td>\n      <td>COMMON ASSAULT</td>\n      <td>OUTSIDE</td>\n      <td>HANDS</td>\n      <td>132.0</td>\n      <td>CENTRAL</td>\n      <td>MADISON PARK</td>\n      <td>-76.62256</td>\n      <td>39.30083</td>\n      <td>...</td>\n      <td>11.429971</td>\n      <td>47.277179</td>\n      <td>10.803134</td>\n      <td>1.860921</td>\n      <td>91.635651</td>\n      <td>0.636631</td>\n      <td>4.221352</td>\n      <td>100000.0</td>\n      <td>16.462884</td>\n      <td>53465.0</td>\n    </tr>\n    <tr>\n      <th>18</th>\n      <td>18</td>\n      <td>2017-09-02</td>\n      <td>LARCENY</td>\n      <td>INSIDE</td>\n      <td>NONE</td>\n      <td>212.0</td>\n      <td>SOUTHEASTERN</td>\n      <td>WASHINGTON HILL</td>\n      <td>-76.59390</td>\n      <td>39.29020</td>\n      <td>...</td>\n      <td>9.802886</td>\n      <td>61.985216</td>\n      <td>8.342133</td>\n      <td>5.332629</td>\n      <td>52.094333</td>\n      <td>14.695530</td>\n      <td>26.539951</td>\n      <td>300000.0</td>\n      <td>67.734173</td>\n      <td>292900.0</td>\n    </tr>\n    <tr>\n      <th>19</th>\n      <td>19</td>\n      <td>2017-09-02</td>\n      <td>BURGLARY</td>\n      <td>INSIDE</td>\n      <td>NONE</td>\n      <td>426.0</td>\n      <td>NORTHEASTERN</td>\n      <td>WALTHERSON</td>\n      <td>-76.55734</td>\n      <td>39.33643</td>\n      <td>...</td>\n      <td>6.927748</td>\n      <td>61.054654</td>\n      <td>12.250589</td>\n      <td>0.601066</td>\n      <td>57.181807</td>\n      <td>3.253191</td>\n      <td>37.247490</td>\n      <td>150000.0</td>\n      <td>54.643662</td>\n      <td>144450.0</td>\n    </tr>\n  </tbody>\n</table>\n<p>20 rows × 28 columns</p>\n</div>"
     },
     "execution_count": 3,
     "metadata": {},
     "output_type": "execute_result"
    }
   ],
   "source": [
    "df.head(20)"
   ],
   "metadata": {
    "collapsed": false,
    "pycharm": {
     "name": "#%%\n"
    }
   }
  },
  {
   "cell_type": "code",
   "execution_count": 4,
   "outputs": [],
   "source": [
    "df = df.drop(columns=[\"Unnamed: 0\"])\n"
   ],
   "metadata": {
    "collapsed": false,
    "pycharm": {
     "name": "#%%\n"
    }
   }
  },
  {
   "cell_type": "code",
   "execution_count": 5,
   "outputs": [
    {
     "name": "stdout",
     "output_type": "stream",
     "text": [
      "<class 'pandas.core.frame.DataFrame'>\n",
      "RangeIndex: 263121 entries, 0 to 263120\n",
      "Data columns (total 27 columns):\n",
      " #   Column                    Non-Null Count   Dtype  \n",
      "---  ------                    --------------   -----  \n",
      " 0   CrimeDate                 263121 non-null  object \n",
      " 1   Description               263121 non-null  object \n",
      " 2   Inside/Outside            263121 non-null  object \n",
      " 3   Weapon                    263121 non-null  object \n",
      " 4   Post                      263121 non-null  float64\n",
      " 5   District                  263121 non-null  object \n",
      " 6   Neighborhood              263121 non-null  object \n",
      " 7   Longitude                 263121 non-null  float64\n",
      " 8   Latitude                  263121 non-null  float64\n",
      " 9   Premise                   263121 non-null  object \n",
      " 10  Season                    263121 non-null  object \n",
      " 11  Month                     263121 non-null  int64  \n",
      " 12  Hour                      263121 non-null  int64  \n",
      " 13  Year                      263121 non-null  int64  \n",
      " 14  CSA                       259150 non-null  object \n",
      " 15  median_household_income   246601 non-null  float64\n",
      " 16  households_below_poverty  246601 non-null  float64\n",
      " 17  perc18_24                 246601 non-null  float64\n",
      " 18  perc25_64                 246601 non-null  float64\n",
      " 19  perc65up                  246601 non-null  float64\n",
      " 20  perc_asian                246601 non-null  float64\n",
      " 21  perc_aa                   246601 non-null  float64\n",
      " 22  perc_hisp                 246601 non-null  float64\n",
      " 23  perc_white                246601 non-null  float64\n",
      " 24  median_price_homes_sold   246601 non-null  float64\n",
      " 25  racial_diversity_index    246601 non-null  float64\n",
      " 26  num_households            246601 non-null  float64\n",
      "dtypes: float64(15), int64(3), object(9)\n",
      "memory usage: 54.2+ MB\n"
     ]
    }
   ],
   "source": [
    "df.info()\n"
   ],
   "metadata": {
    "collapsed": false,
    "pycharm": {
     "name": "#%%\n"
    }
   }
  },
  {
   "cell_type": "markdown",
   "source": [
    "Looks like the new neighborhood matching filled many missing values now!\n"
   ],
   "metadata": {
    "collapsed": false,
    "pycharm": {
     "name": "#%% md\n"
    }
   }
  },
  {
   "cell_type": "code",
   "execution_count": 6,
   "outputs": [],
   "source": [
    "from sklearn.preprocessing import LabelEncoder\n",
    "le = LabelEncoder()"
   ],
   "metadata": {
    "collapsed": false,
    "pycharm": {
     "name": "#%%\n"
    }
   }
  },
  {
   "cell_type": "code",
   "execution_count": 7,
   "outputs": [
    {
     "data": {
      "text/plain": "LabelEncoder()"
     },
     "execution_count": 7,
     "metadata": {},
     "output_type": "execute_result"
    }
   ],
   "source": [
    "Neighborhood = pd.read_csv(\"../data/V2_Neighborhood_decoder.csv\", header=None)\n",
    "le.fit(Neighborhood[0])\n"
   ],
   "metadata": {
    "collapsed": false,
    "pycharm": {
     "name": "#%%\n"
    }
   }
  },
  {
   "cell_type": "code",
   "execution_count": 8,
   "outputs": [],
   "source": [
    "df[\"Neighborhood\"]=le.transform(df[\"Neighborhood\"])\n"
   ],
   "metadata": {
    "collapsed": false,
    "pycharm": {
     "name": "#%%\n"
    }
   }
  },
  {
   "cell_type": "code",
   "execution_count": 9,
   "outputs": [
    {
     "data": {
      "text/plain": "    CrimeDate          Description Inside/Outside   Weapon   Post  District  \\\n0  2017-09-02  ROBBERY - RESIDENCE         INSIDE    KNIFE  913.0  SOUTHERN   \n1  2017-09-02           AUTO THEFT        OUTSIDE     NONE  133.0   CENTRAL   \n2  2017-09-02             SHOOTING        OUTSIDE  FIREARM  524.0  NORTHERN   \n3  2017-09-02         AGG. ASSAULT         INSIDE    OTHER  934.0  SOUTHERN   \n4  2017-09-02       COMMON ASSAULT        OUTSIDE    HANDS  113.0   CENTRAL   \n\n   Neighborhood  Longitude  Latitude     Premise  ...  perc18_24  perc25_64  \\\n0            26  -76.60541  39.22951  ROW/TOWNHO  ...   8.248062  57.449612   \n1           213  -76.63217  39.31360      STREET  ...   8.231621  56.940108   \n2           267  -76.60697  39.34768      STREET  ...   7.664336  52.242424   \n3            37  -76.64526  39.28315  ROW/TOWNHO  ...   7.730214  52.805320   \n4            63  -76.61365  39.28756      STREET  ...  18.475432  71.268942   \n\n    perc65up  perc_asian    perc_aa  perc_hisp  perc_white  \\\n0   7.302326    2.527132  37.961240  14.906977   39.682171   \n1  11.003879    0.624468  83.990917   2.876336   10.966033   \n2  15.599068    0.093240  90.013986   1.948718    6.685315   \n3  10.888797    2.873597  73.573591   6.732767   12.782758   \n4   4.990051   16.255931  29.021889   4.959437   43.961427   \n\n   median_price_homes_sold  racial_diversity_index  num_households  \n0                  52000.0               73.926734         45000.0  \n1                 127500.0               31.631200         78950.0  \n2                  71300.0               20.532109         60000.0  \n3                  40000.0               49.751399         22500.0  \n4                 207000.0               69.322521        207000.0  \n\n[5 rows x 27 columns]",
      "text/html": "<div>\n<style scoped>\n    .dataframe tbody tr th:only-of-type {\n        vertical-align: middle;\n    }\n\n    .dataframe tbody tr th {\n        vertical-align: top;\n    }\n\n    .dataframe thead th {\n        text-align: right;\n    }\n</style>\n<table border=\"1\" class=\"dataframe\">\n  <thead>\n    <tr style=\"text-align: right;\">\n      <th></th>\n      <th>CrimeDate</th>\n      <th>Description</th>\n      <th>Inside/Outside</th>\n      <th>Weapon</th>\n      <th>Post</th>\n      <th>District</th>\n      <th>Neighborhood</th>\n      <th>Longitude</th>\n      <th>Latitude</th>\n      <th>Premise</th>\n      <th>...</th>\n      <th>perc18_24</th>\n      <th>perc25_64</th>\n      <th>perc65up</th>\n      <th>perc_asian</th>\n      <th>perc_aa</th>\n      <th>perc_hisp</th>\n      <th>perc_white</th>\n      <th>median_price_homes_sold</th>\n      <th>racial_diversity_index</th>\n      <th>num_households</th>\n    </tr>\n  </thead>\n  <tbody>\n    <tr>\n      <th>0</th>\n      <td>2017-09-02</td>\n      <td>ROBBERY - RESIDENCE</td>\n      <td>INSIDE</td>\n      <td>KNIFE</td>\n      <td>913.0</td>\n      <td>SOUTHERN</td>\n      <td>26</td>\n      <td>-76.60541</td>\n      <td>39.22951</td>\n      <td>ROW/TOWNHO</td>\n      <td>...</td>\n      <td>8.248062</td>\n      <td>57.449612</td>\n      <td>7.302326</td>\n      <td>2.527132</td>\n      <td>37.961240</td>\n      <td>14.906977</td>\n      <td>39.682171</td>\n      <td>52000.0</td>\n      <td>73.926734</td>\n      <td>45000.0</td>\n    </tr>\n    <tr>\n      <th>1</th>\n      <td>2017-09-02</td>\n      <td>AUTO THEFT</td>\n      <td>OUTSIDE</td>\n      <td>NONE</td>\n      <td>133.0</td>\n      <td>CENTRAL</td>\n      <td>213</td>\n      <td>-76.63217</td>\n      <td>39.31360</td>\n      <td>STREET</td>\n      <td>...</td>\n      <td>8.231621</td>\n      <td>56.940108</td>\n      <td>11.003879</td>\n      <td>0.624468</td>\n      <td>83.990917</td>\n      <td>2.876336</td>\n      <td>10.966033</td>\n      <td>127500.0</td>\n      <td>31.631200</td>\n      <td>78950.0</td>\n    </tr>\n    <tr>\n      <th>2</th>\n      <td>2017-09-02</td>\n      <td>SHOOTING</td>\n      <td>OUTSIDE</td>\n      <td>FIREARM</td>\n      <td>524.0</td>\n      <td>NORTHERN</td>\n      <td>267</td>\n      <td>-76.60697</td>\n      <td>39.34768</td>\n      <td>STREET</td>\n      <td>...</td>\n      <td>7.664336</td>\n      <td>52.242424</td>\n      <td>15.599068</td>\n      <td>0.093240</td>\n      <td>90.013986</td>\n      <td>1.948718</td>\n      <td>6.685315</td>\n      <td>71300.0</td>\n      <td>20.532109</td>\n      <td>60000.0</td>\n    </tr>\n    <tr>\n      <th>3</th>\n      <td>2017-09-02</td>\n      <td>AGG. ASSAULT</td>\n      <td>INSIDE</td>\n      <td>OTHER</td>\n      <td>934.0</td>\n      <td>SOUTHERN</td>\n      <td>37</td>\n      <td>-76.64526</td>\n      <td>39.28315</td>\n      <td>ROW/TOWNHO</td>\n      <td>...</td>\n      <td>7.730214</td>\n      <td>52.805320</td>\n      <td>10.888797</td>\n      <td>2.873597</td>\n      <td>73.573591</td>\n      <td>6.732767</td>\n      <td>12.782758</td>\n      <td>40000.0</td>\n      <td>49.751399</td>\n      <td>22500.0</td>\n    </tr>\n    <tr>\n      <th>4</th>\n      <td>2017-09-02</td>\n      <td>COMMON ASSAULT</td>\n      <td>OUTSIDE</td>\n      <td>HANDS</td>\n      <td>113.0</td>\n      <td>CENTRAL</td>\n      <td>63</td>\n      <td>-76.61365</td>\n      <td>39.28756</td>\n      <td>STREET</td>\n      <td>...</td>\n      <td>18.475432</td>\n      <td>71.268942</td>\n      <td>4.990051</td>\n      <td>16.255931</td>\n      <td>29.021889</td>\n      <td>4.959437</td>\n      <td>43.961427</td>\n      <td>207000.0</td>\n      <td>69.322521</td>\n      <td>207000.0</td>\n    </tr>\n  </tbody>\n</table>\n<p>5 rows × 27 columns</p>\n</div>"
     },
     "execution_count": 9,
     "metadata": {},
     "output_type": "execute_result"
    }
   ],
   "source": [
    "df.head(5)\n"
   ],
   "metadata": {
    "collapsed": false,
    "pycharm": {
     "name": "#%%\n"
    }
   }
  },
  {
   "cell_type": "code",
   "execution_count": 10,
   "outputs": [
    {
     "data": {
      "text/plain": "LabelEncoder()"
     },
     "execution_count": 10,
     "metadata": {},
     "output_type": "execute_result"
    }
   ],
   "source": [
    "Premise = pd.read_csv(\"../data/V2_Premise_decoder.csv\", header=None)\n",
    "le.fit(Premise[0])\n"
   ],
   "metadata": {
    "collapsed": false,
    "pycharm": {
     "name": "#%%\n"
    }
   }
  },
  {
   "cell_type": "code",
   "execution_count": 11,
   "outputs": [],
   "source": [
    "df[\"Premise\"]=le.transform(df[\"Premise\"])\n"
   ],
   "metadata": {
    "collapsed": false,
    "pycharm": {
     "name": "#%%\n"
    }
   }
  },
  {
   "cell_type": "code",
   "execution_count": 12,
   "outputs": [
    {
     "data": {
      "text/plain": "LabelEncoder()"
     },
     "execution_count": 12,
     "metadata": {},
     "output_type": "execute_result"
    }
   ],
   "source": [
    "District = pd.read_csv(\"../data/V2_District_decoder.csv\", header=None)\n",
    "le.fit(District[0])\n"
   ],
   "metadata": {
    "collapsed": false,
    "pycharm": {
     "name": "#%%\n"
    }
   }
  },
  {
   "cell_type": "code",
   "execution_count": 13,
   "outputs": [],
   "source": [
    "df[\"District\"]=le.transform(df[\"District\"])"
   ],
   "metadata": {
    "collapsed": false,
    "pycharm": {
     "name": "#%%\n"
    }
   }
  },
  {
   "cell_type": "code",
   "execution_count": 14,
   "outputs": [
    {
     "data": {
      "text/plain": "LabelEncoder()"
     },
     "execution_count": 14,
     "metadata": {},
     "output_type": "execute_result"
    }
   ],
   "source": [
    "Description = pd.read_csv(\"../data/V2_Description_decoder.csv\", header=None)\n",
    "le.fit(Description[0])\n"
   ],
   "metadata": {
    "collapsed": false,
    "pycharm": {
     "name": "#%%\n"
    }
   }
  },
  {
   "cell_type": "code",
   "execution_count": 15,
   "outputs": [],
   "source": [
    "df[\"Description\"]=le.transform(df[\"Description\"])"
   ],
   "metadata": {
    "collapsed": false,
    "pycharm": {
     "name": "#%%\n"
    }
   }
  },
  {
   "cell_type": "code",
   "execution_count": 16,
   "outputs": [
    {
     "data": {
      "text/plain": "    CrimeDate  Description Inside/Outside   Weapon   Post  District  \\\n0  2017-09-02           11         INSIDE    KNIFE  913.0         6   \n1  2017-09-02            3        OUTSIDE     NONE  133.0         0   \n2  2017-09-02           14        OUTSIDE  FIREARM  524.0         3   \n3  2017-09-02            0         INSIDE    OTHER  934.0         6   \n4  2017-09-02            5        OUTSIDE    HANDS  113.0         0   \n\n   Neighborhood  Longitude  Latitude  Premise  ...  perc18_24  perc25_64  \\\n0            26  -76.60541  39.22951       69  ...   8.248062  57.449612   \n1           213  -76.63217  39.31360       78  ...   8.231621  56.940108   \n2           267  -76.60697  39.34768       78  ...   7.664336  52.242424   \n3            37  -76.64526  39.28315       69  ...   7.730214  52.805320   \n4            63  -76.61365  39.28756       78  ...  18.475432  71.268942   \n\n    perc65up  perc_asian    perc_aa  perc_hisp  perc_white  \\\n0   7.302326    2.527132  37.961240  14.906977   39.682171   \n1  11.003879    0.624468  83.990917   2.876336   10.966033   \n2  15.599068    0.093240  90.013986   1.948718    6.685315   \n3  10.888797    2.873597  73.573591   6.732767   12.782758   \n4   4.990051   16.255931  29.021889   4.959437   43.961427   \n\n   median_price_homes_sold  racial_diversity_index  num_households  \n0                  52000.0               73.926734         45000.0  \n1                 127500.0               31.631200         78950.0  \n2                  71300.0               20.532109         60000.0  \n3                  40000.0               49.751399         22500.0  \n4                 207000.0               69.322521        207000.0  \n\n[5 rows x 27 columns]",
      "text/html": "<div>\n<style scoped>\n    .dataframe tbody tr th:only-of-type {\n        vertical-align: middle;\n    }\n\n    .dataframe tbody tr th {\n        vertical-align: top;\n    }\n\n    .dataframe thead th {\n        text-align: right;\n    }\n</style>\n<table border=\"1\" class=\"dataframe\">\n  <thead>\n    <tr style=\"text-align: right;\">\n      <th></th>\n      <th>CrimeDate</th>\n      <th>Description</th>\n      <th>Inside/Outside</th>\n      <th>Weapon</th>\n      <th>Post</th>\n      <th>District</th>\n      <th>Neighborhood</th>\n      <th>Longitude</th>\n      <th>Latitude</th>\n      <th>Premise</th>\n      <th>...</th>\n      <th>perc18_24</th>\n      <th>perc25_64</th>\n      <th>perc65up</th>\n      <th>perc_asian</th>\n      <th>perc_aa</th>\n      <th>perc_hisp</th>\n      <th>perc_white</th>\n      <th>median_price_homes_sold</th>\n      <th>racial_diversity_index</th>\n      <th>num_households</th>\n    </tr>\n  </thead>\n  <tbody>\n    <tr>\n      <th>0</th>\n      <td>2017-09-02</td>\n      <td>11</td>\n      <td>INSIDE</td>\n      <td>KNIFE</td>\n      <td>913.0</td>\n      <td>6</td>\n      <td>26</td>\n      <td>-76.60541</td>\n      <td>39.22951</td>\n      <td>69</td>\n      <td>...</td>\n      <td>8.248062</td>\n      <td>57.449612</td>\n      <td>7.302326</td>\n      <td>2.527132</td>\n      <td>37.961240</td>\n      <td>14.906977</td>\n      <td>39.682171</td>\n      <td>52000.0</td>\n      <td>73.926734</td>\n      <td>45000.0</td>\n    </tr>\n    <tr>\n      <th>1</th>\n      <td>2017-09-02</td>\n      <td>3</td>\n      <td>OUTSIDE</td>\n      <td>NONE</td>\n      <td>133.0</td>\n      <td>0</td>\n      <td>213</td>\n      <td>-76.63217</td>\n      <td>39.31360</td>\n      <td>78</td>\n      <td>...</td>\n      <td>8.231621</td>\n      <td>56.940108</td>\n      <td>11.003879</td>\n      <td>0.624468</td>\n      <td>83.990917</td>\n      <td>2.876336</td>\n      <td>10.966033</td>\n      <td>127500.0</td>\n      <td>31.631200</td>\n      <td>78950.0</td>\n    </tr>\n    <tr>\n      <th>2</th>\n      <td>2017-09-02</td>\n      <td>14</td>\n      <td>OUTSIDE</td>\n      <td>FIREARM</td>\n      <td>524.0</td>\n      <td>3</td>\n      <td>267</td>\n      <td>-76.60697</td>\n      <td>39.34768</td>\n      <td>78</td>\n      <td>...</td>\n      <td>7.664336</td>\n      <td>52.242424</td>\n      <td>15.599068</td>\n      <td>0.093240</td>\n      <td>90.013986</td>\n      <td>1.948718</td>\n      <td>6.685315</td>\n      <td>71300.0</td>\n      <td>20.532109</td>\n      <td>60000.0</td>\n    </tr>\n    <tr>\n      <th>3</th>\n      <td>2017-09-02</td>\n      <td>0</td>\n      <td>INSIDE</td>\n      <td>OTHER</td>\n      <td>934.0</td>\n      <td>6</td>\n      <td>37</td>\n      <td>-76.64526</td>\n      <td>39.28315</td>\n      <td>69</td>\n      <td>...</td>\n      <td>7.730214</td>\n      <td>52.805320</td>\n      <td>10.888797</td>\n      <td>2.873597</td>\n      <td>73.573591</td>\n      <td>6.732767</td>\n      <td>12.782758</td>\n      <td>40000.0</td>\n      <td>49.751399</td>\n      <td>22500.0</td>\n    </tr>\n    <tr>\n      <th>4</th>\n      <td>2017-09-02</td>\n      <td>5</td>\n      <td>OUTSIDE</td>\n      <td>HANDS</td>\n      <td>113.0</td>\n      <td>0</td>\n      <td>63</td>\n      <td>-76.61365</td>\n      <td>39.28756</td>\n      <td>78</td>\n      <td>...</td>\n      <td>18.475432</td>\n      <td>71.268942</td>\n      <td>4.990051</td>\n      <td>16.255931</td>\n      <td>29.021889</td>\n      <td>4.959437</td>\n      <td>43.961427</td>\n      <td>207000.0</td>\n      <td>69.322521</td>\n      <td>207000.0</td>\n    </tr>\n  </tbody>\n</table>\n<p>5 rows × 27 columns</p>\n</div>"
     },
     "execution_count": 16,
     "metadata": {},
     "output_type": "execute_result"
    }
   ],
   "source": [
    "df.head()"
   ],
   "metadata": {
    "collapsed": false,
    "pycharm": {
     "name": "#%%\n"
    }
   }
  },
  {
   "cell_type": "code",
   "execution_count": 17,
   "outputs": [],
   "source": [
    "df = pd.get_dummies(df, columns=[\"Inside/Outside\"],drop_first=True)\n",
    "df= df.rename(columns={\"Inside/Outside_OUTSIDE\":\"Outside\"})\n"
   ],
   "metadata": {
    "collapsed": false,
    "pycharm": {
     "name": "#%%\n"
    }
   }
  },
  {
   "cell_type": "code",
   "execution_count": 18,
   "outputs": [],
   "source": [
    "df = pd.get_dummies(df, columns=[\"Weapon\", \"Season\"])\n"
   ],
   "metadata": {
    "collapsed": false,
    "pycharm": {
     "name": "#%%\n"
    }
   }
  },
  {
   "cell_type": "code",
   "execution_count": 19,
   "outputs": [],
   "source": [
    "from pandas.tseries.holiday import USFederalHolidayCalendar\n",
    "calendar = USFederalHolidayCalendar()\n"
   ],
   "metadata": {
    "collapsed": false,
    "pycharm": {
     "name": "#%%\n"
    }
   }
  },
  {
   "cell_type": "code",
   "execution_count": 20,
   "outputs": [],
   "source": [
    "df.CrimeDate = pd.to_datetime(df.CrimeDate)\n",
    "dr = pd.date_range(start='2012-01-01', end='2017-09-02')\n",
    "holidays = calendar.holidays(start=dr.min(), end=dr.max())\n",
    "\n",
    "df['Holiday'] = df['CrimeDate'].isin(holidays)"
   ],
   "metadata": {
    "collapsed": false,
    "pycharm": {
     "name": "#%%\n"
    }
   }
  },
  {
   "cell_type": "code",
   "execution_count": 21,
   "outputs": [],
   "source": [
    "df['Holiday'] = df['Holiday'].replace(False, 0)\n",
    "df['Holiday'] = df['Holiday'].replace(True, 1)"
   ],
   "metadata": {
    "collapsed": false,
    "pycharm": {
     "name": "#%%\n"
    }
   }
  },
  {
   "cell_type": "code",
   "execution_count": 22,
   "outputs": [],
   "source": [
    "df[\"Weekday\"] = pd.to_datetime(df[\"CrimeDate\"]).dt.dayofweek\n",
    "df[\"Weekend\"] = (df[\"Weekday\"] > 4).astype(int)\n",
    "df = df.drop(columns=[\"Weekday\"])\n"
   ],
   "metadata": {
    "collapsed": false,
    "pycharm": {
     "name": "#%%\n"
    }
   }
  },
  {
   "cell_type": "code",
   "execution_count": 23,
   "outputs": [
    {
     "data": {
      "text/plain": "Index(['CrimeDate', 'Description', 'Post', 'District', 'Neighborhood',\n       'Longitude', 'Latitude', 'Premise', 'Month', 'Hour', 'Year', 'CSA',\n       'median_household_income', 'households_below_poverty', 'perc18_24',\n       'perc25_64', 'perc65up', 'perc_asian', 'perc_aa', 'perc_hisp',\n       'perc_white', 'median_price_homes_sold', 'racial_diversity_index',\n       'num_households', 'Outside', 'Weapon_FIREARM', 'Weapon_HANDS',\n       'Weapon_KNIFE', 'Weapon_NONE', 'Weapon_OTHER', 'Season_autumn',\n       'Season_spring', 'Season_summer', 'Season_winter', 'Holiday',\n       'Weekend'],\n      dtype='object')"
     },
     "execution_count": 23,
     "metadata": {},
     "output_type": "execute_result"
    }
   ],
   "source": [
    "df.columns\n"
   ],
   "metadata": {
    "collapsed": false,
    "pycharm": {
     "name": "#%%\n"
    }
   }
  },
  {
   "cell_type": "code",
   "execution_count": 24,
   "outputs": [],
   "source": [
    "df = df.drop(columns=[\"CrimeDate\",\"CSA\"])"
   ],
   "metadata": {
    "collapsed": false,
    "pycharm": {
     "name": "#%%\n"
    }
   }
  },
  {
   "cell_type": "markdown",
   "source": [
    "Alright, imputation time\n",
    "\n"
   ],
   "metadata": {
    "collapsed": false,
    "pycharm": {
     "name": "#%% md\n"
    }
   }
  },
  {
   "cell_type": "code",
   "execution_count": 25,
   "outputs": [
    {
     "name": "stdout",
     "output_type": "stream",
     "text": [
      "<class 'pandas.core.frame.DataFrame'>\n",
      "RangeIndex: 263121 entries, 0 to 263120\n",
      "Data columns (total 34 columns):\n",
      " #   Column                    Non-Null Count   Dtype  \n",
      "---  ------                    --------------   -----  \n",
      " 0   Description               263121 non-null  int32  \n",
      " 1   Post                      263121 non-null  float64\n",
      " 2   District                  263121 non-null  int32  \n",
      " 3   Neighborhood              263121 non-null  int32  \n",
      " 4   Longitude                 263121 non-null  float64\n",
      " 5   Latitude                  263121 non-null  float64\n",
      " 6   Premise                   263121 non-null  int32  \n",
      " 7   Month                     263121 non-null  int64  \n",
      " 8   Hour                      263121 non-null  int64  \n",
      " 9   Year                      263121 non-null  int64  \n",
      " 10  median_household_income   246601 non-null  float64\n",
      " 11  households_below_poverty  246601 non-null  float64\n",
      " 12  perc18_24                 246601 non-null  float64\n",
      " 13  perc25_64                 246601 non-null  float64\n",
      " 14  perc65up                  246601 non-null  float64\n",
      " 15  perc_asian                246601 non-null  float64\n",
      " 16  perc_aa                   246601 non-null  float64\n",
      " 17  perc_hisp                 246601 non-null  float64\n",
      " 18  perc_white                246601 non-null  float64\n",
      " 19  median_price_homes_sold   246601 non-null  float64\n",
      " 20  racial_diversity_index    246601 non-null  float64\n",
      " 21  num_households            246601 non-null  float64\n",
      " 22  Outside                   263121 non-null  uint8  \n",
      " 23  Weapon_FIREARM            263121 non-null  uint8  \n",
      " 24  Weapon_HANDS              263121 non-null  uint8  \n",
      " 25  Weapon_KNIFE              263121 non-null  uint8  \n",
      " 26  Weapon_NONE               263121 non-null  uint8  \n",
      " 27  Weapon_OTHER              263121 non-null  uint8  \n",
      " 28  Season_autumn             263121 non-null  uint8  \n",
      " 29  Season_spring             263121 non-null  uint8  \n",
      " 30  Season_summer             263121 non-null  uint8  \n",
      " 31  Season_winter             263121 non-null  uint8  \n",
      " 32  Holiday                   263121 non-null  int64  \n",
      " 33  Weekend                   263121 non-null  int32  \n",
      "dtypes: float64(15), int32(5), int64(4), uint8(10)\n",
      "memory usage: 45.7 MB\n"
     ]
    }
   ],
   "source": [
    "df.info()"
   ],
   "metadata": {
    "collapsed": false,
    "pycharm": {
     "name": "#%%\n"
    }
   }
  },
  {
   "cell_type": "code",
   "execution_count": 25,
   "outputs": [],
   "source": [
    "kernel = mf.MultipleImputedKernel(data=df, save_all_iterations=True,random_state=42069)\n"
   ],
   "metadata": {
    "collapsed": false,
    "pycharm": {
     "name": "#%%\n"
    }
   }
  },
  {
   "cell_type": "code",
   "execution_count": 26,
   "outputs": [
    {
     "name": "stdout",
     "output_type": "stream",
     "text": [
      "Dataset 0\n",
      "1  | median_household_income | households_below_poverty | perc18_24 | perc25_64 | perc65up | perc_asian | perc_aa | perc_hisp | perc_white | median_price_homes_sold | racial_diversity_index | num_households\n",
      "2  | median_household_income | households_below_poverty | perc18_24 | perc25_64 | perc65up | perc_asian | perc_aa | perc_hisp | perc_white | median_price_homes_sold | racial_diversity_index | num_households\n",
      "3  | median_household_income | households_below_poverty | perc18_24 | perc25_64 | perc65up | perc_asian | perc_aa | perc_hisp | perc_white | median_price_homes_sold | racial_diversity_index | num_households\n",
      "4  | median_household_income | households_below_poverty | perc18_24 | perc25_64 | perc65up | perc_asian | perc_aa | perc_hisp | perc_white | median_price_homes_sold | racial_diversity_index | num_households\n",
      "5  | median_household_income | households_below_poverty | perc18_24 | perc25_64 | perc65up | perc_asian | perc_aa | perc_hisp | perc_white | median_price_homes_sold | racial_diversity_index | num_households\n",
      "Dataset 1\n",
      "1  | median_household_income | households_below_poverty | perc18_24 | perc25_64 | perc65up | perc_asian | perc_aa | perc_hisp | perc_white | median_price_homes_sold | racial_diversity_index | num_households\n",
      "2  | median_household_income | households_below_poverty | perc18_24 | perc25_64 | perc65up | perc_asian | perc_aa | perc_hisp | perc_white | median_price_homes_sold | racial_diversity_index | num_households\n",
      "3  | median_household_income | households_below_poverty | perc18_24 | perc25_64 | perc65up | perc_asian | perc_aa | perc_hisp | perc_white | median_price_homes_sold | racial_diversity_index | num_households\n",
      "4  | median_household_income | households_below_poverty | perc18_24 | perc25_64 | perc65up | perc_asian | perc_aa | perc_hisp | perc_white | median_price_homes_sold | racial_diversity_index | num_households\n",
      "5  | median_household_income | households_below_poverty | perc18_24 | perc25_64 | perc65up | perc_asian | perc_aa | perc_hisp | perc_white | median_price_homes_sold | racial_diversity_index | num_households\n",
      "Dataset 2\n",
      "1  | median_household_income | households_below_poverty | perc18_24 | perc25_64 | perc65up | perc_asian | perc_aa | perc_hisp | perc_white | median_price_homes_sold | racial_diversity_index | num_households\n",
      "2  | median_household_income | households_below_poverty | perc18_24 | perc25_64 | perc65up | perc_asian | perc_aa | perc_hisp | perc_white | median_price_homes_sold | racial_diversity_index | num_households\n",
      "3  | median_household_income | households_below_poverty | perc18_24 | perc25_64 | perc65up | perc_asian | perc_aa | perc_hisp | perc_white | median_price_homes_sold | racial_diversity_index | num_households\n",
      "4  | median_household_income | households_below_poverty | perc18_24 | perc25_64 | perc65up | perc_asian | perc_aa | perc_hisp | perc_white | median_price_homes_sold | racial_diversity_index | num_households\n",
      "5  | median_household_income | households_below_poverty | perc18_24 | perc25_64 | perc65up | perc_asian | perc_aa | perc_hisp | perc_white | median_price_homes_sold | racial_diversity_index | num_households\n",
      "Dataset 3\n",
      "1  | median_household_income | households_below_poverty | perc18_24 | perc25_64 | perc65up | perc_asian | perc_aa | perc_hisp | perc_white | median_price_homes_sold | racial_diversity_index | num_households\n",
      "2  | median_household_income | households_below_poverty | perc18_24 | perc25_64 | perc65up | perc_asian | perc_aa | perc_hisp | perc_white | median_price_homes_sold | racial_diversity_index | num_households\n",
      "3  | median_household_income | households_below_poverty | perc18_24 | perc25_64 | perc65up | perc_asian | perc_aa | perc_hisp | perc_white | median_price_homes_sold | racial_diversity_index | num_households\n",
      "4  | median_household_income | households_below_poverty | perc18_24 | perc25_64 | perc65up | perc_asian | perc_aa | perc_hisp | perc_white | median_price_homes_sold | racial_diversity_index | num_households\n",
      "5  | median_household_income | households_below_poverty | perc18_24 | perc25_64 | perc65up | perc_asian | perc_aa | perc_hisp | perc_white | median_price_homes_sold | racial_diversity_index | num_households\n",
      "Dataset 4\n",
      "1  | median_household_income | households_below_poverty | perc18_24 | perc25_64 | perc65up | perc_asian | perc_aa | perc_hisp | perc_white | median_price_homes_sold | racial_diversity_index | num_households\n",
      "2  | median_household_income | households_below_poverty | perc18_24 | perc25_64 | perc65up | perc_asian | perc_aa | perc_hisp | perc_white | median_price_homes_sold | racial_diversity_index | num_households\n",
      "3  | median_household_income | households_below_poverty | perc18_24 | perc25_64 | perc65up | perc_asian | perc_aa | perc_hisp | perc_white | median_price_homes_sold | racial_diversity_index | num_households\n",
      "4  | median_household_income | households_below_poverty | perc18_24 | perc25_64 | perc65up | perc_asian | perc_aa | perc_hisp | perc_white | median_price_homes_sold | racial_diversity_index | num_households\n",
      "5  | median_household_income | households_below_poverty | perc18_24 | perc25_64 | perc65up | perc_asian | perc_aa | perc_hisp | perc_white | median_price_homes_sold | racial_diversity_index | num_households\n"
     ]
    }
   ],
   "source": [
    "kernel.mice(5,verbose=True,n_jobs=-1)\n"
   ],
   "metadata": {
    "collapsed": false,
    "pycharm": {
     "name": "#%%\n"
    }
   }
  },
  {
   "cell_type": "code",
   "execution_count": 28,
   "outputs": [
    {
     "data": {
      "text/plain": "<Figure size 432x288 with 12 Axes>",
      "image/png": "[encoded data removed]"
     },
     "metadata": {
      "needs_background": "light"
     },
     "output_type": "display_data"
    },
    {
     "data": {
      "text/plain": "<Figure size 432x288 with 12 Axes>",
      "image/png": "[encoded data removed]"
     },
     "metadata": {
      "needs_background": "light"
     },
     "output_type": "display_data"
    }
   ],
   "source": [
    "kernel.plot_correlations(wspace=0.4,hspace=0.5)\n",
    "kernel.plot_mean_convergence()\n"
   ],
   "metadata": {
    "collapsed": false,
    "pycharm": {
     "name": "#%%\n"
    }
   }
  },
  {
   "cell_type": "markdown",
   "source": [
    "Not great, but there are a lot of variables to impute. So not bad over all.\n"
   ],
   "metadata": {
    "collapsed": false,
    "pycharm": {
     "name": "#%% md\n"
    }
   }
  },
  {
   "cell_type": "markdown",
   "source": [
    "Let's do something a little different though. As the statistics are by neighborhood, let's take the average imputed values for each demographic column per neighborhood."
   ],
   "metadata": {
    "collapsed": false,
    "pycharm": {
     "name": "#%% md\n"
    }
   }
  },
  {
   "cell_type": "markdown",
   "source": [
    "First, let's see which neighborhoods have missing demo data."
   ],
   "metadata": {
    "collapsed": false,
    "pycharm": {
     "name": "#%% md\n"
    }
   }
  },
  {
   "cell_type": "code",
   "execution_count": 30,
   "outputs": [],
   "source": [
    "df_NA = df[df.isna().any(axis=1)]"
   ],
   "metadata": {
    "collapsed": false,
    "pycharm": {
     "name": "#%%\n"
    }
   }
  },
  {
   "cell_type": "code",
   "source": [
    "missing_neigh = list(df_NA[\"Neighborhood\"].unique())"
   ],
   "metadata": {
    "collapsed": false,
    "pycharm": {
     "name": "#%%\n"
    }
   },
   "execution_count": 41,
   "outputs": []
  },
  {
   "cell_type": "code",
   "execution_count": 49,
   "outputs": [],
   "source": [
    "temp = df.dropna()"
   ],
   "metadata": {
    "collapsed": false,
    "pycharm": {
     "name": "#%%\n"
    }
   }
  },
  {
   "cell_type": "code",
   "execution_count": 53,
   "outputs": [
    {
     "data": {
      "text/plain": "Empty DataFrame\nColumns: [Description, Post, District, Neighborhood, Longitude, Latitude, Premise, Month, Hour, Year, median_household_income, households_below_poverty, perc18_24, perc25_64, perc65up, perc_asian, perc_aa, perc_hisp, perc_white, median_price_homes_sold, racial_diversity_index, num_households, Outside, Weapon_FIREARM, Weapon_HANDS, Weapon_KNIFE, Weapon_NONE, Weapon_OTHER, Season_autumn, Season_spring, Season_summer, Season_winter, Holiday, Weekend]\nIndex: []\n\n[0 rows x 34 columns]",
      "text/html": "<div>\n<style scoped>\n    .dataframe tbody tr th:only-of-type {\n        vertical-align: middle;\n    }\n\n    .dataframe tbody tr th {\n        vertical-align: top;\n    }\n\n    .dataframe thead th {\n        text-align: right;\n    }\n</style>\n<table border=\"1\" class=\"dataframe\">\n  <thead>\n    <tr style=\"text-align: right;\">\n      <th></th>\n      <th>Description</th>\n      <th>Post</th>\n      <th>District</th>\n      <th>Neighborhood</th>\n      <th>Longitude</th>\n      <th>Latitude</th>\n      <th>Premise</th>\n      <th>Month</th>\n      <th>Hour</th>\n      <th>Year</th>\n      <th>...</th>\n      <th>Weapon_HANDS</th>\n      <th>Weapon_KNIFE</th>\n      <th>Weapon_NONE</th>\n      <th>Weapon_OTHER</th>\n      <th>Season_autumn</th>\n      <th>Season_spring</th>\n      <th>Season_summer</th>\n      <th>Season_winter</th>\n      <th>Holiday</th>\n      <th>Weekend</th>\n    </tr>\n  </thead>\n  <tbody>\n  </tbody>\n</table>\n<p>0 rows × 34 columns</p>\n</div>"
     },
     "execution_count": 53,
     "metadata": {},
     "output_type": "execute_result"
    }
   ],
   "source": [
    "temp[temp[\"Neighborhood\"].isin(missing_neigh)]"
   ],
   "metadata": {
    "collapsed": false,
    "pycharm": {
     "name": "#%%\n"
    }
   }
  },
  {
   "cell_type": "code",
   "source": [
    "missing_neigh\n"
   ],
   "metadata": {
    "collapsed": false,
    "pycharm": {
     "name": "#%%\n"
    }
   },
   "execution_count": 55,
   "outputs": [
    {
     "data": {
      "text/plain": "[161, 50, 105, 33, 255, 143, 272, 235, 115, 162, 236, 192, 51, 229, 189]"
     },
     "execution_count": 55,
     "metadata": {},
     "output_type": "execute_result"
    }
   ]
  },
  {
   "cell_type": "code",
   "execution_count": 56,
   "outputs": [],
   "source": [
    "completed_data = kernel.complete_data(0)\n"
   ],
   "metadata": {
    "collapsed": false,
    "pycharm": {
     "name": "#%%\n"
    }
   }
  },
  {
   "cell_type": "code",
   "execution_count": 58,
   "outputs": [],
   "source": [
    "means = completed_data.groupby(\"Neighborhood\").mean()"
   ],
   "metadata": {
    "collapsed": false,
    "pycharm": {
     "name": "#%%\n"
    }
   }
  },
  {
   "cell_type": "code",
   "execution_count": 72,
   "outputs": [
    {
     "data": {
      "text/plain": "Description                      6.092105\nPost                           513.000000\nDistrict                         3.000000\nLongitude                      -76.610755\nLatitude                        39.326156\nPremise                         60.546784\nMonth                            6.422515\nHour                            12.707602\nYear                          2014.288012\nmedian_household_income      32079.406398\nhouseholds_below_poverty        23.743346\nperc18_24                       30.061426\nperc25_64                       51.903770\nperc65up                         7.732875\nperc_asian                      13.221988\nperc_aa                         33.263784\nperc_hisp                        5.138070\nperc_white                      44.233086\nmedian_price_homes_sold     177968.567251\nracial_diversity_index          67.562291\nnum_households              170000.000000\nOutside                          0.478070\nWeapon_FIREARM                   0.086257\nWeapon_HANDS                     0.135965\nWeapon_KNIFE                     0.033626\nWeapon_NONE                      0.701754\nWeapon_OTHER                     0.042398\nSeason_autumn                    0.229532\nSeason_spring                    0.273392\nSeason_summer                    0.271930\nSeason_winter                    0.225146\nHoliday                          0.026316\nWeekend                          0.255848\nName: 0, dtype: float64"
     },
     "execution_count": 72,
     "metadata": {},
     "output_type": "execute_result"
    }
   ],
   "source": [
    "means.loc[0] #gives the mean values for Neighborhood 0"
   ],
   "metadata": {
    "collapsed": false,
    "pycharm": {
     "name": "#%%\n"
    }
   }
  },
  {
   "cell_type": "code",
   "execution_count": 78,
   "outputs": [],
   "source": [
    "means_1 = means[[\"median_household_income\",\"households_below_poverty\",\"perc18_24\",\"perc25_64\",\"perc65up\",\"perc_asian\",\"perc_aa\",\"perc_hisp\",\"perc_white\",\"median_price_homes_sold\",\"racial_diversity_index\",\"num_households\"]]"
   ],
   "metadata": {
    "collapsed": false,
    "pycharm": {
     "name": "#%%\n"
    }
   }
  },
  {
   "cell_type": "code",
   "execution_count": 81,
   "outputs": [
    {
     "data": {
      "text/plain": "              median_household_income  households_below_poverty  perc18_24  \\\nNeighborhood                                                                 \n161                      39365.284733                 20.411377   8.108047   \n50                       44224.565951                 14.284952   8.166410   \n105                      54488.705021                 11.022557   8.193093   \n33                       42661.017540                 16.973091   8.550614   \n255                      39959.167795                 21.711771   9.138640   \n143                      42485.227523                 20.159916   8.805965   \n272                      43080.107957                 14.682253   8.342014   \n235                      44032.600712                 19.617187   9.071878   \n115                      41547.120158                 16.241289   8.396022   \n162                      47429.677860                 13.354044   8.216770   \n236                      42827.059521                 19.834369   9.010705   \n192                      43941.506309                 14.807993   8.170851   \n51                       42047.552212                 17.349771   8.033806   \n229                      42236.725916                 16.577496   7.864157   \n189                      54381.504211                 11.008561   7.984606   \n\n              perc25_64   perc65up  perc_asian    perc_aa  perc_hisp  \\\nNeighborhood                                                           \n161           54.609735  11.622739    1.658318  67.513252   5.103472   \n50            55.928270  12.274558    1.748075  70.027585   4.377973   \n105           57.859233  11.873033    1.969814  62.200678   3.660667   \n33            56.026512  11.039537    1.740690  58.380259   7.902264   \n255           58.175635  10.082631    2.294766  62.882457   4.856457   \n143           58.044925  10.110776    2.291139  53.831216   6.415997   \n272           54.937599  13.397322    1.598585  71.893307   4.254235   \n235           58.756274  10.153834    2.389855  55.671869   5.128208   \n115           55.017621  13.427975    1.956451  68.151713   4.338069   \n162           56.528829  12.292284    1.856685  66.948579   4.171930   \n236           58.183800  10.476836    2.254789  59.783561   5.154844   \n192           54.702686  14.738171    2.007472  64.952993   4.499322   \n51            53.823530  13.287942    1.763340  67.329169   4.585401   \n229           52.939026  16.016937    1.850265  64.904190   4.656464   \n189           58.208919  11.200643    1.953443  62.948326   3.343352   \n\n              perc_white  median_price_homes_sold  racial_diversity_index  \\\nNeighborhood                                                                \n161            22.327602             92167.844716               48.977228   \n50             20.543227            103620.440842               47.504554   \n105            29.018713            112384.841390               52.376280   \n33             30.465367            103641.311052               58.621103   \n255            27.649100             90546.464412               50.904094   \n143            32.345609             87842.550943               57.273979   \n272            19.375262            103299.974576               44.936465   \n235            31.566194             92354.166667               54.461885   \n115            22.294753            104910.644578               46.721062   \n162            24.104005            106834.147619               49.419288   \n236            29.465849             93803.679612               53.568947   \n192            25.839362            110819.466227               47.602016   \n51             22.815482            103487.346883               49.125532   \n229            25.878770            105876.898964               49.938034   \n189            28.420340            112284.574586               52.105057   \n\n              num_households  \nNeighborhood                  \n161             86861.036082  \n50             106869.124960  \n105            119609.020537  \n33             108569.857398  \n255             85240.968259  \n143             87414.905660  \n272            104281.906780  \n235             89576.388889  \n115            102671.581325  \n162            111537.142857  \n236             93165.469256  \n192            109460.098847  \n51             101504.715447  \n229            105868.393782  \n189            118209.116022  ",
      "text/html": "<div>\n<style scoped>\n    .dataframe tbody tr th:only-of-type {\n        vertical-align: middle;\n    }\n\n    .dataframe tbody tr th {\n        vertical-align: top;\n    }\n\n    .dataframe thead th {\n        text-align: right;\n    }\n</style>\n<table border=\"1\" class=\"dataframe\">\n  <thead>\n    <tr style=\"text-align: right;\">\n      <th></th>\n      <th>median_household_income</th>\n      <th>households_below_poverty</th>\n      <th>perc18_24</th>\n      <th>perc25_64</th>\n      <th>perc65up</th>\n      <th>perc_asian</th>\n      <th>perc_aa</th>\n      <th>perc_hisp</th>\n      <th>perc_white</th>\n      <th>median_price_homes_sold</th>\n      <th>racial_diversity_index</th>\n      <th>num_households</th>\n    </tr>\n    <tr>\n      <th>Neighborhood</th>\n      <th></th>\n      <th></th>\n      <th></th>\n      <th></th>\n      <th></th>\n      <th></th>\n      <th></th>\n      <th></th>\n      <th></th>\n      <th></th>\n      <th></th>\n      <th></th>\n    </tr>\n  </thead>\n  <tbody>\n    <tr>\n      <th>161</th>\n      <td>39365.284733</td>\n      <td>20.411377</td>\n      <td>8.108047</td>\n      <td>54.609735</td>\n      <td>11.622739</td>\n      <td>1.658318</td>\n      <td>67.513252</td>\n      <td>5.103472</td>\n      <td>22.327602</td>\n      <td>92167.844716</td>\n      <td>48.977228</td>\n      <td>86861.036082</td>\n    </tr>\n    <tr>\n      <th>50</th>\n      <td>44224.565951</td>\n      <td>14.284952</td>\n      <td>8.166410</td>\n      <td>55.928270</td>\n      <td>12.274558</td>\n      <td>1.748075</td>\n      <td>70.027585</td>\n      <td>4.377973</td>\n      <td>20.543227</td>\n      <td>103620.440842</td>\n      <td>47.504554</td>\n      <td>106869.124960</td>\n    </tr>\n    <tr>\n      <th>105</th>\n      <td>54488.705021</td>\n      <td>11.022557</td>\n      <td>8.193093</td>\n      <td>57.859233</td>\n      <td>11.873033</td>\n      <td>1.969814</td>\n      <td>62.200678</td>\n      <td>3.660667</td>\n      <td>29.018713</td>\n      <td>112384.841390</td>\n      <td>52.376280</td>\n      <td>119609.020537</td>\n    </tr>\n    <tr>\n      <th>33</th>\n      <td>42661.017540</td>\n      <td>16.973091</td>\n      <td>8.550614</td>\n      <td>56.026512</td>\n      <td>11.039537</td>\n      <td>1.740690</td>\n      <td>58.380259</td>\n      <td>7.902264</td>\n      <td>30.465367</td>\n      <td>103641.311052</td>\n      <td>58.621103</td>\n      <td>108569.857398</td>\n    </tr>\n    <tr>\n      <th>255</th>\n      <td>39959.167795</td>\n      <td>21.711771</td>\n      <td>9.138640</td>\n      <td>58.175635</td>\n      <td>10.082631</td>\n      <td>2.294766</td>\n      <td>62.882457</td>\n      <td>4.856457</td>\n      <td>27.649100</td>\n      <td>90546.464412</td>\n      <td>50.904094</td>\n      <td>85240.968259</td>\n    </tr>\n    <tr>\n      <th>143</th>\n      <td>42485.227523</td>\n      <td>20.159916</td>\n      <td>8.805965</td>\n      <td>58.044925</td>\n      <td>10.110776</td>\n      <td>2.291139</td>\n      <td>53.831216</td>\n      <td>6.415997</td>\n      <td>32.345609</td>\n      <td>87842.550943</td>\n      <td>57.273979</td>\n      <td>87414.905660</td>\n    </tr>\n    <tr>\n      <th>272</th>\n      <td>43080.107957</td>\n      <td>14.682253</td>\n      <td>8.342014</td>\n      <td>54.937599</td>\n      <td>13.397322</td>\n      <td>1.598585</td>\n      <td>71.893307</td>\n      <td>4.254235</td>\n      <td>19.375262</td>\n      <td>103299.974576</td>\n      <td>44.936465</td>\n      <td>104281.906780</td>\n    </tr>\n    <tr>\n      <th>235</th>\n      <td>44032.600712</td>\n      <td>19.617187</td>\n      <td>9.071878</td>\n      <td>58.756274</td>\n      <td>10.153834</td>\n      <td>2.389855</td>\n      <td>55.671869</td>\n      <td>5.128208</td>\n      <td>31.566194</td>\n      <td>92354.166667</td>\n      <td>54.461885</td>\n      <td>89576.388889</td>\n    </tr>\n    <tr>\n      <th>115</th>\n      <td>41547.120158</td>\n      <td>16.241289</td>\n      <td>8.396022</td>\n      <td>55.017621</td>\n      <td>13.427975</td>\n      <td>1.956451</td>\n      <td>68.151713</td>\n      <td>4.338069</td>\n      <td>22.294753</td>\n      <td>104910.644578</td>\n      <td>46.721062</td>\n      <td>102671.581325</td>\n    </tr>\n    <tr>\n      <th>162</th>\n      <td>47429.677860</td>\n      <td>13.354044</td>\n      <td>8.216770</td>\n      <td>56.528829</td>\n      <td>12.292284</td>\n      <td>1.856685</td>\n      <td>66.948579</td>\n      <td>4.171930</td>\n      <td>24.104005</td>\n      <td>106834.147619</td>\n      <td>49.419288</td>\n      <td>111537.142857</td>\n    </tr>\n    <tr>\n      <th>236</th>\n      <td>42827.059521</td>\n      <td>19.834369</td>\n      <td>9.010705</td>\n      <td>58.183800</td>\n      <td>10.476836</td>\n      <td>2.254789</td>\n      <td>59.783561</td>\n      <td>5.154844</td>\n      <td>29.465849</td>\n      <td>93803.679612</td>\n      <td>53.568947</td>\n      <td>93165.469256</td>\n    </tr>\n    <tr>\n      <th>192</th>\n      <td>43941.506309</td>\n      <td>14.807993</td>\n      <td>8.170851</td>\n      <td>54.702686</td>\n      <td>14.738171</td>\n      <td>2.007472</td>\n      <td>64.952993</td>\n      <td>4.499322</td>\n      <td>25.839362</td>\n      <td>110819.466227</td>\n      <td>47.602016</td>\n      <td>109460.098847</td>\n    </tr>\n    <tr>\n      <th>51</th>\n      <td>42047.552212</td>\n      <td>17.349771</td>\n      <td>8.033806</td>\n      <td>53.823530</td>\n      <td>13.287942</td>\n      <td>1.763340</td>\n      <td>67.329169</td>\n      <td>4.585401</td>\n      <td>22.815482</td>\n      <td>103487.346883</td>\n      <td>49.125532</td>\n      <td>101504.715447</td>\n    </tr>\n    <tr>\n      <th>229</th>\n      <td>42236.725916</td>\n      <td>16.577496</td>\n      <td>7.864157</td>\n      <td>52.939026</td>\n      <td>16.016937</td>\n      <td>1.850265</td>\n      <td>64.904190</td>\n      <td>4.656464</td>\n      <td>25.878770</td>\n      <td>105876.898964</td>\n      <td>49.938034</td>\n      <td>105868.393782</td>\n    </tr>\n    <tr>\n      <th>189</th>\n      <td>54381.504211</td>\n      <td>11.008561</td>\n      <td>7.984606</td>\n      <td>58.208919</td>\n      <td>11.200643</td>\n      <td>1.953443</td>\n      <td>62.948326</td>\n      <td>3.343352</td>\n      <td>28.420340</td>\n      <td>112284.574586</td>\n      <td>52.105057</td>\n      <td>118209.116022</td>\n    </tr>\n  </tbody>\n</table>\n</div>"
     },
     "execution_count": 81,
     "metadata": {},
     "output_type": "execute_result"
    }
   ],
   "source": [
    "means_1.loc[missing_neigh]"
   ],
   "metadata": {
    "collapsed": false,
    "pycharm": {
     "name": "#%%\n"
    }
   }
  },
  {
   "cell_type": "code",
   "execution_count": 82,
   "outputs": [],
   "source": [
    "missing_means = means_1.loc[missing_neigh]\n"
   ],
   "metadata": {
    "collapsed": false,
    "pycharm": {
     "name": "#%%\n"
    }
   }
  },
  {
   "cell_type": "code",
   "execution_count": 84,
   "outputs": [
    {
     "data": {
      "text/plain": "39365.28473268834"
     },
     "execution_count": 84,
     "metadata": {},
     "output_type": "execute_result"
    }
   ],
   "source": [
    "missing_means[\"median_household_income\"].loc[161]"
   ],
   "metadata": {
    "collapsed": false,
    "pycharm": {
     "name": "#%%\n"
    }
   }
  },
  {
   "cell_type": "code",
   "execution_count": 86,
   "outputs": [],
   "source": [
    "completed_data.loc[completed_data[\"Neighborhood\"]==161,\"median_household_income\"] = missing_means[\"median_household_income\"].loc[161]"
   ],
   "metadata": {
    "collapsed": false,
    "pycharm": {
     "name": "#%%\n"
    }
   }
  },
  {
   "cell_type": "code",
   "execution_count": 90,
   "outputs": [
    {
     "data": {
      "text/plain": "21        39365.284733\n587       39365.284733\n724       39365.284733\n875       39365.284733\n877       39365.284733\n              ...     \n262453    39365.284733\n262625    39365.284733\n262699    39365.284733\n262710    39365.284733\n263054    39365.284733\nName: median_household_income, Length: 3104, dtype: float64"
     },
     "execution_count": 90,
     "metadata": {},
     "output_type": "execute_result"
    }
   ],
   "source": [
    "completed_data.loc[completed_data[\"Neighborhood\"]==161][\"median_household_income\"]"
   ],
   "metadata": {
    "collapsed": false,
    "pycharm": {
     "name": "#%%\n"
    }
   }
  },
  {
   "cell_type": "code",
   "execution_count": 99,
   "outputs": [],
   "source": [
    "for i in missing_neigh:\n",
    "    completed_data.loc[completed_data[\"Neighborhood\"]==i,\"median_household_income\"] = missing_means[\"median_household_income\"].loc[i]\n",
    "    completed_data.loc[completed_data[\"Neighborhood\"]==i,\"households_below_poverty\"] = missing_means[\"households_below_poverty\"].loc[i]\n",
    "    completed_data.loc[completed_data[\"Neighborhood\"]==i,\"perc18_24\"] = missing_means[\"perc18_24\"].loc[i]\n",
    "    completed_data.loc[completed_data[\"Neighborhood\"]==i,\"perc25_64\"] = missing_means[\"perc25_64\"].loc[i]\n",
    "    completed_data.loc[completed_data[\"Neighborhood\"]==i,\"perc65up\"] = missing_means[\"perc65up\"].loc[i]\n",
    "    completed_data.loc[completed_data[\"Neighborhood\"]==i,\"perc_asian\"] = missing_means[\"perc_asian\"].loc[i]\n",
    "    completed_data.loc[completed_data[\"Neighborhood\"]==i,\"perc_aa\"] = missing_means[\"perc_aa\"].loc[i]\n",
    "    completed_data.loc[completed_data[\"Neighborhood\"]==i,\"perc_hisp\"] = missing_means[\"perc_hisp\"].loc[i]\n",
    "    completed_data.loc[completed_data[\"Neighborhood\"]==i,\"perc_white\"] = missing_means[\"perc_white\"].loc[i]\n",
    "    completed_data.loc[completed_data[\"Neighborhood\"]==i,\"median_price_homes_sold\"] = missing_means[\"median_price_homes_sold\"].loc[i]\n",
    "    completed_data.loc[completed_data[\"Neighborhood\"]==i,\"racial_diversity_index\"] = missing_means[\"racial_diversity_index\"].loc[i]\n",
    "    completed_data.loc[completed_data[\"Neighborhood\"]==i,\"num_households\"] = missing_means[\"num_households\"].loc[i]"
   ],
   "metadata": {
    "collapsed": false,
    "pycharm": {
     "name": "#%%\n"
    }
   }
  },
  {
   "cell_type": "code",
   "execution_count": 102,
   "outputs": [
    {
     "data": {
      "text/plain": "79        39959.167795\n119       39959.167795\n134       39959.167795\n296       39959.167795\n306       39959.167795\n              ...     \n262562    39959.167795\n262582    39959.167795\n262750    39959.167795\n262761    39959.167795\n262964    39959.167795\nName: median_household_income, Length: 3119, dtype: float64"
     },
     "execution_count": 102,
     "metadata": {},
     "output_type": "execute_result"
    }
   ],
   "source": [
    "completed_data.loc[completed_data[\"Neighborhood\"]==255][\"median_household_income\"]"
   ],
   "metadata": {
    "collapsed": false,
    "pycharm": {
     "name": "#%%\n"
    }
   }
  },
  {
   "cell_type": "code",
   "execution_count": 103,
   "outputs": [],
   "source": [
    "completed_data.to_csv(\"../data/CRIME_DATA_WITH_MICE_IMPUTED_DEMOGRAPHICS.csv\")\n"
   ],
   "metadata": {
    "collapsed": false,
    "pycharm": {
     "name": "#%%\n"
    }
   }
  },
  {
   "cell_type": "code",
   "execution_count": 28,
   "outputs": [],
   "source": [
    "import pickle\n"
   ],
   "metadata": {
    "collapsed": false,
    "pycharm": {
     "name": "#%%\n"
    }
   }
  },
  {
   "cell_type": "code",
   "execution_count": 29,
   "outputs": [],
   "source": [
    "pickle.dump(kernel, open(\"MICE_MODEL.sav\",\"wb\"))"
   ],
   "metadata": {
    "collapsed": false,
    "pycharm": {
     "name": "#%%\n"
    }
   }
  },
  {
   "cell_type": "code",
   "execution_count": null,
   "outputs": [],
   "source": [],
   "metadata": {
    "collapsed": false,
    "pycharm": {
     "name": "#%%\n"
    }
   }
  }
 ],
 "metadata": {
  "kernelspec": {
   "display_name": "Python 3",
   "language": "python",
   "name": "python3"
  },
  "language_info": {
   "codemirror_mode": {
    "name": "ipython",
    "version": 2
   },
   "file_extension": ".py",
   "mimetype": "text/x-python",
   "name": "python",
   "nbconvert_exporter": "python",
   "pygments_lexer": "ipython2",
   "version": "2.7.6"
  }
 },
 "nbformat": 4,
 "nbformat_minor": 0
}