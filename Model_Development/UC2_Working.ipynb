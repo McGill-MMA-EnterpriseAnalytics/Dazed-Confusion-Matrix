{
 "cells": [
  {
   "cell_type": "markdown",
   "metadata": {},
   "source": [
    "# UC2 - Multinomial classification on Crime Description\n",
    "### Tiancheng Zhang"
   ]
  },
  {
   "cell_type": "code",
   "execution_count": 2,
   "metadata": {},
   "outputs": [],
   "source": [
    "import numpy as np\n",
    "import pandas as pd\n",
    "import matplotlib.pyplot as plt\n",
    "import seaborn as sns\n",
    "\n",
    "import datetime"
   ]
  },
  {
   "cell_type": "markdown",
   "metadata": {},
   "source": [
    "### Overview\n",
    "- Available scikit-learn packages: https://scikit-learn.org/stable/modules/multiclass.html\n",
    "- Target variable: Description\n",
    "- Predictors: Inside/Outside, Weapon, Neighborhood, Premise, Month, Hour.\n",
    "\n"
   ]
  },
  {
   "cell_type": "code",
   "execution_count": 46,
   "metadata": {},
   "outputs": [
    {
     "data": {
      "text/html": [
       "<div>\n",
       "<style scoped>\n",
       "    .dataframe tbody tr th:only-of-type {\n",
       "        vertical-align: middle;\n",
       "    }\n",
       "\n",
       "    .dataframe tbody tr th {\n",
       "        vertical-align: top;\n",
       "    }\n",
       "\n",
       "    .dataframe thead th {\n",
       "        text-align: right;\n",
       "    }\n",
       "</style>\n",
       "<table border=\"1\" class=\"dataframe\">\n",
       "  <thead>\n",
       "    <tr style=\"text-align: right;\">\n",
       "      <th></th>\n",
       "      <th>CrimeDate</th>\n",
       "      <th>CrimeTime</th>\n",
       "      <th>CrimeCode</th>\n",
       "      <th>Location</th>\n",
       "      <th>Description</th>\n",
       "      <th>Inside/Outside</th>\n",
       "      <th>Weapon</th>\n",
       "      <th>Post</th>\n",
       "      <th>District</th>\n",
       "      <th>Neighborhood</th>\n",
       "      <th>Longitude</th>\n",
       "      <th>Latitude</th>\n",
       "      <th>Location 1</th>\n",
       "      <th>Premise</th>\n",
       "      <th>Total Incidents</th>\n",
       "      <th>Season</th>\n",
       "      <th>Month</th>\n",
       "      <th>Hour</th>\n",
       "    </tr>\n",
       "  </thead>\n",
       "  <tbody>\n",
       "    <tr>\n",
       "      <th>0</th>\n",
       "      <td>2017-09-02</td>\n",
       "      <td>23:30:00</td>\n",
       "      <td>3JK</td>\n",
       "      <td>4200 AUDREY AVE</td>\n",
       "      <td>ROBBERY - RESIDENCE</td>\n",
       "      <td>Inside</td>\n",
       "      <td>KNIFE</td>\n",
       "      <td>913.0</td>\n",
       "      <td>SOUTHERN</td>\n",
       "      <td>Brooklyn</td>\n",
       "      <td>-76.60541</td>\n",
       "      <td>39.22951</td>\n",
       "      <td>(39.2295100000, -76.6054100000)</td>\n",
       "      <td>ROW/TOWNHO</td>\n",
       "      <td>1</td>\n",
       "      <td>summer</td>\n",
       "      <td>9</td>\n",
       "      <td>23</td>\n",
       "    </tr>\n",
       "    <tr>\n",
       "      <th>1</th>\n",
       "      <td>2017-09-02</td>\n",
       "      <td>23:00:00</td>\n",
       "      <td>7A</td>\n",
       "      <td>800 NEWINGTON AVE</td>\n",
       "      <td>AUTO THEFT</td>\n",
       "      <td>Outside</td>\n",
       "      <td>NONE</td>\n",
       "      <td>133.0</td>\n",
       "      <td>CENTRAL</td>\n",
       "      <td>Reservoir Hill</td>\n",
       "      <td>-76.63217</td>\n",
       "      <td>39.31360</td>\n",
       "      <td>(39.3136000000, -76.6321700000)</td>\n",
       "      <td>STREET</td>\n",
       "      <td>1</td>\n",
       "      <td>summer</td>\n",
       "      <td>9</td>\n",
       "      <td>23</td>\n",
       "    </tr>\n",
       "    <tr>\n",
       "      <th>2</th>\n",
       "      <td>2017-09-02</td>\n",
       "      <td>22:53:00</td>\n",
       "      <td>9S</td>\n",
       "      <td>600 RADNOR AV</td>\n",
       "      <td>SHOOTING</td>\n",
       "      <td>Outside</td>\n",
       "      <td>FIREARM</td>\n",
       "      <td>524.0</td>\n",
       "      <td>NORTHERN</td>\n",
       "      <td>Winston-Govans</td>\n",
       "      <td>-76.60697</td>\n",
       "      <td>39.34768</td>\n",
       "      <td>(39.3476800000, -76.6069700000)</td>\n",
       "      <td>STREET</td>\n",
       "      <td>1</td>\n",
       "      <td>summer</td>\n",
       "      <td>9</td>\n",
       "      <td>22</td>\n",
       "    </tr>\n",
       "    <tr>\n",
       "      <th>3</th>\n",
       "      <td>2017-09-02</td>\n",
       "      <td>22:50:00</td>\n",
       "      <td>4C</td>\n",
       "      <td>1800 RAMSAY ST</td>\n",
       "      <td>AGG. ASSAULT</td>\n",
       "      <td>Inside</td>\n",
       "      <td>OTHER</td>\n",
       "      <td>934.0</td>\n",
       "      <td>SOUTHERN</td>\n",
       "      <td>Carrollton Ridge</td>\n",
       "      <td>-76.64526</td>\n",
       "      <td>39.28315</td>\n",
       "      <td>(39.2831500000, -76.6452600000)</td>\n",
       "      <td>ROW/TOWNHO</td>\n",
       "      <td>1</td>\n",
       "      <td>summer</td>\n",
       "      <td>9</td>\n",
       "      <td>22</td>\n",
       "    </tr>\n",
       "    <tr>\n",
       "      <th>4</th>\n",
       "      <td>2017-09-02</td>\n",
       "      <td>22:31:00</td>\n",
       "      <td>4E</td>\n",
       "      <td>100 LIGHT ST</td>\n",
       "      <td>COMMON ASSAULT</td>\n",
       "      <td>Outside</td>\n",
       "      <td>HANDS</td>\n",
       "      <td>113.0</td>\n",
       "      <td>CENTRAL</td>\n",
       "      <td>Downtown West</td>\n",
       "      <td>-76.61365</td>\n",
       "      <td>39.28756</td>\n",
       "      <td>(39.2875600000, -76.6136500000)</td>\n",
       "      <td>STREET</td>\n",
       "      <td>1</td>\n",
       "      <td>summer</td>\n",
       "      <td>9</td>\n",
       "      <td>22</td>\n",
       "    </tr>\n",
       "    <tr>\n",
       "      <th>5</th>\n",
       "      <td>2017-09-02</td>\n",
       "      <td>22:00:00</td>\n",
       "      <td>5A</td>\n",
       "      <td>CHERRYCREST RD</td>\n",
       "      <td>BURGLARY</td>\n",
       "      <td>Inside</td>\n",
       "      <td>NONE</td>\n",
       "      <td>922.0</td>\n",
       "      <td>SOUTHERN</td>\n",
       "      <td>Cherry Hill</td>\n",
       "      <td>-76.62131</td>\n",
       "      <td>39.24867</td>\n",
       "      <td>(39.2486700000, -76.6213100000)</td>\n",
       "      <td>ROW/TOWNHO</td>\n",
       "      <td>1</td>\n",
       "      <td>summer</td>\n",
       "      <td>9</td>\n",
       "      <td>22</td>\n",
       "    </tr>\n",
       "    <tr>\n",
       "      <th>6</th>\n",
       "      <td>2017-09-02</td>\n",
       "      <td>21:15:00</td>\n",
       "      <td>1F</td>\n",
       "      <td>3400 HARMONY CT</td>\n",
       "      <td>HOMICIDE</td>\n",
       "      <td>Outside</td>\n",
       "      <td>FIREARM</td>\n",
       "      <td>232.0</td>\n",
       "      <td>SOUTHEASTERN</td>\n",
       "      <td>Canton</td>\n",
       "      <td>-76.56827</td>\n",
       "      <td>39.28202</td>\n",
       "      <td>(39.2820200000, -76.5682700000)</td>\n",
       "      <td>STREET</td>\n",
       "      <td>1</td>\n",
       "      <td>summer</td>\n",
       "      <td>9</td>\n",
       "      <td>21</td>\n",
       "    </tr>\n",
       "    <tr>\n",
       "      <th>7</th>\n",
       "      <td>2017-09-02</td>\n",
       "      <td>21:35:00</td>\n",
       "      <td>3B</td>\n",
       "      <td>400 W LANVALE ST</td>\n",
       "      <td>ROBBERY - STREET</td>\n",
       "      <td>Outside</td>\n",
       "      <td>NONE</td>\n",
       "      <td>123.0</td>\n",
       "      <td>CENTRAL</td>\n",
       "      <td>Upton</td>\n",
       "      <td>-76.62789</td>\n",
       "      <td>39.30254</td>\n",
       "      <td>(39.3025400000, -76.6278900000)</td>\n",
       "      <td>STREET</td>\n",
       "      <td>1</td>\n",
       "      <td>summer</td>\n",
       "      <td>9</td>\n",
       "      <td>21</td>\n",
       "    </tr>\n",
       "    <tr>\n",
       "      <th>8</th>\n",
       "      <td>2017-09-02</td>\n",
       "      <td>21:00:00</td>\n",
       "      <td>4C</td>\n",
       "      <td>2300 LYNDHURST AVE</td>\n",
       "      <td>AGG. ASSAULT</td>\n",
       "      <td>Outside</td>\n",
       "      <td>OTHER</td>\n",
       "      <td>641.0</td>\n",
       "      <td>NORTHWESTERN</td>\n",
       "      <td>Windsor Hills</td>\n",
       "      <td>-76.68365</td>\n",
       "      <td>39.31370</td>\n",
       "      <td>(39.3137000000, -76.6836500000)</td>\n",
       "      <td>STREET</td>\n",
       "      <td>1</td>\n",
       "      <td>summer</td>\n",
       "      <td>9</td>\n",
       "      <td>21</td>\n",
       "    </tr>\n",
       "    <tr>\n",
       "      <th>9</th>\n",
       "      <td>2017-09-02</td>\n",
       "      <td>21:00:00</td>\n",
       "      <td>4E</td>\n",
       "      <td>1200 N ELLWOOD AVE</td>\n",
       "      <td>COMMON ASSAULT</td>\n",
       "      <td>Inside</td>\n",
       "      <td>HANDS</td>\n",
       "      <td>332.0</td>\n",
       "      <td>EASTERN</td>\n",
       "      <td>Berea</td>\n",
       "      <td>-76.57419</td>\n",
       "      <td>39.30551</td>\n",
       "      <td>(39.3055100000, -76.5741900000)</td>\n",
       "      <td>ROW/TOWNHO</td>\n",
       "      <td>1</td>\n",
       "      <td>summer</td>\n",
       "      <td>9</td>\n",
       "      <td>21</td>\n",
       "    </tr>\n",
       "  </tbody>\n",
       "</table>\n",
       "</div>"
      ],
      "text/plain": [
       "    CrimeDate CrimeTime CrimeCode            Location          Description  \\\n",
       "0  2017-09-02  23:30:00       3JK     4200 AUDREY AVE  ROBBERY - RESIDENCE   \n",
       "1  2017-09-02  23:00:00        7A   800 NEWINGTON AVE           AUTO THEFT   \n",
       "2  2017-09-02  22:53:00        9S       600 RADNOR AV             SHOOTING   \n",
       "3  2017-09-02  22:50:00        4C      1800 RAMSAY ST         AGG. ASSAULT   \n",
       "4  2017-09-02  22:31:00        4E        100 LIGHT ST       COMMON ASSAULT   \n",
       "5  2017-09-02  22:00:00        5A      CHERRYCREST RD             BURGLARY   \n",
       "6  2017-09-02  21:15:00        1F     3400 HARMONY CT             HOMICIDE   \n",
       "7  2017-09-02  21:35:00        3B    400 W LANVALE ST     ROBBERY - STREET   \n",
       "8  2017-09-02  21:00:00        4C  2300 LYNDHURST AVE         AGG. ASSAULT   \n",
       "9  2017-09-02  21:00:00        4E  1200 N ELLWOOD AVE       COMMON ASSAULT   \n",
       "\n",
       "  Inside/Outside   Weapon   Post      District      Neighborhood  Longitude  \\\n",
       "0         Inside    KNIFE  913.0      SOUTHERN          Brooklyn  -76.60541   \n",
       "1        Outside     NONE  133.0       CENTRAL    Reservoir Hill  -76.63217   \n",
       "2        Outside  FIREARM  524.0      NORTHERN    Winston-Govans  -76.60697   \n",
       "3         Inside    OTHER  934.0      SOUTHERN  Carrollton Ridge  -76.64526   \n",
       "4        Outside    HANDS  113.0       CENTRAL     Downtown West  -76.61365   \n",
       "5         Inside     NONE  922.0      SOUTHERN       Cherry Hill  -76.62131   \n",
       "6        Outside  FIREARM  232.0  SOUTHEASTERN            Canton  -76.56827   \n",
       "7        Outside     NONE  123.0       CENTRAL             Upton  -76.62789   \n",
       "8        Outside    OTHER  641.0  NORTHWESTERN     Windsor Hills  -76.68365   \n",
       "9         Inside    HANDS  332.0       EASTERN             Berea  -76.57419   \n",
       "\n",
       "   Latitude                       Location 1     Premise  Total Incidents  \\\n",
       "0  39.22951  (39.2295100000, -76.6054100000)  ROW/TOWNHO                1   \n",
       "1  39.31360  (39.3136000000, -76.6321700000)      STREET                1   \n",
       "2  39.34768  (39.3476800000, -76.6069700000)      STREET                1   \n",
       "3  39.28315  (39.2831500000, -76.6452600000)  ROW/TOWNHO                1   \n",
       "4  39.28756  (39.2875600000, -76.6136500000)      STREET                1   \n",
       "5  39.24867  (39.2486700000, -76.6213100000)  ROW/TOWNHO                1   \n",
       "6  39.28202  (39.2820200000, -76.5682700000)      STREET                1   \n",
       "7  39.30254  (39.3025400000, -76.6278900000)      STREET                1   \n",
       "8  39.31370  (39.3137000000, -76.6836500000)      STREET                1   \n",
       "9  39.30551  (39.3055100000, -76.5741900000)  ROW/TOWNHO                1   \n",
       "\n",
       "   Season  Month  Hour  \n",
       "0  summer      9    23  \n",
       "1  summer      9    23  \n",
       "2  summer      9    22  \n",
       "3  summer      9    22  \n",
       "4  summer      9    22  \n",
       "5  summer      9    22  \n",
       "6  summer      9    21  \n",
       "7  summer      9    21  \n",
       "8  summer      9    21  \n",
       "9  summer      9    21  "
      ]
     },
     "execution_count": 46,
     "metadata": {},
     "output_type": "execute_result"
    }
   ],
   "source": [
    "bpd_df = pd.read_csv('../data/BPD_CRIME_DATA_CLEAN.csv')\n",
    "bpd_df.head(10)"
   ]
  },
  {
   "cell_type": "code",
   "execution_count": 63,
   "metadata": {},
   "outputs": [
    {
     "data": {
      "text/plain": [
       "LARCENY                 60528\n",
       "COMMON ASSAULT          45518\n",
       "BURGLARY                42538\n",
       "LARCENY FROM AUTO       36295\n",
       "AGG. ASSAULT            27513\n",
       "AUTO THEFT              26838\n",
       "ROBBERY - STREET        17691\n",
       "ROBBERY - COMMERCIAL     4141\n",
       "ASSAULT BY THREAT        3503\n",
       "SHOOTING                 2910\n",
       "ROBBERY - RESIDENCE      2866\n",
       "RAPE                     1637\n",
       "HOMICIDE                 1559\n",
       "ROBBERY - CARJACKING     1528\n",
       "ARSON                    1464\n",
       "Name: Description, dtype: int64"
      ]
     },
     "execution_count": 63,
     "metadata": {},
     "output_type": "execute_result"
    }
   ],
   "source": [
    "bpd_df.Description.value_counts()"
   ]
  },
  {
   "cell_type": "code",
   "execution_count": 48,
   "metadata": {},
   "outputs": [
    {
     "data": {
      "text/plain": [
       "FIREARM    2910\n",
       "Name: Weapon, dtype: int64"
      ]
     },
     "execution_count": 48,
     "metadata": {},
     "output_type": "execute_result"
    }
   ],
   "source": [
    "#description and weapon\n",
    "#all shooting are with firearm\n",
    "bpd_df[bpd_df.Description == 'SHOOTING']['Weapon'].value_counts()"
   ]
  },
  {
   "cell_type": "code",
   "execution_count": 49,
   "metadata": {},
   "outputs": [
    {
     "data": {
      "text/plain": [
       "ROBBERY - STREET        7934\n",
       "AGG. ASSAULT            5711\n",
       "SHOOTING                2910\n",
       "ROBBERY - COMMERCIAL    2444\n",
       "HOMICIDE                1304\n",
       "ROBBERY - CARJACKING    1056\n",
       "ROBBERY - RESIDENCE      953\n",
       "Name: Description, dtype: int64"
      ]
     },
     "execution_count": 49,
     "metadata": {},
     "output_type": "execute_result"
    }
   ],
   "source": [
    "#but not all crimes with firearms are SHOOTING\n",
    "#so Weapon is still a valid predictor\n",
    "bpd_df[bpd_df.Weapon == 'FIREARM']['Description'].value_counts()"
   ]
  },
  {
   "cell_type": "code",
   "execution_count": 61,
   "metadata": {
    "scrolled": true
   },
   "outputs": [
    {
     "name": "stderr",
     "output_type": "stream",
     "text": [
      "/Users/tuliprichard/anaconda3/lib/python3.7/site-packages/ipykernel_launcher.py:11: UserWarning: Matplotlib is currently using module://ipykernel.pylab.backend_inline, which is a non-GUI backend, so cannot show the figure.\n",
      "  # This is added back by InteractiveShellApp.init_path()\n"
     ]
    },
    {
     "data": {
      "image/png": "[encoded data removed]",
      "text/plain": [
       "<Figure size 1008x720 with 2 Axes>"
      ]
     },
     "metadata": {
      "needs_background": "light"
     },
     "output_type": "display_data"
    }
   ],
   "source": [
    "inside = bpd_df[bpd_df['Inside/Outside'] == 'Inside']\n",
    "outside = bpd_df[bpd_df['Inside/Outside'] == 'Outside']\n",
    "\n",
    "\n",
    "fig, ax = plt.subplots(2,1)\n",
    "# fig.set(xlabel='common xlabel', ylabel='common ylabel')\n",
    "sns.countplot(y = outside['Description'], ax = ax[0])\n",
    "sns.countplot(y = inside['Description'], ax = ax[1])\n",
    "fig.set_size_inches(14,10)\n",
    "# fig.figure(figsize=(18, 12), dpi=300)\n",
    "fig.show()\n",
    "fig.savefig('filename.png', dpi=300)"
   ]
  },
  {
   "cell_type": "markdown",
   "metadata": {},
   "source": [
    "We do notice correlation between descriptions and Inside/Outside such as AUTO-THEFT and LANCERY FROM AUTO. But overall it's still a valid and important predictor."
   ]
  },
  {
   "cell_type": "markdown",
   "metadata": {},
   "source": [
    "### Data Preparation"
   ]
  },
  {
   "cell_type": "code",
   "execution_count": 7,
   "metadata": {},
   "outputs": [],
   "source": [
    "uc2_df = bpd_df[['Inside/Outside', 'Weapon', 'Neighborhood', 'Premise', 'Month', 'Hour','Description']]"
   ]
  },
  {
   "cell_type": "code",
   "execution_count": 8,
   "metadata": {},
   "outputs": [],
   "source": [
    "uc2_df = pd.get_dummies(uc2_df, columns = ['Inside/Outside', 'Weapon', 'Neighborhood', 'Premise', 'Month', 'Hour'])"
   ]
  },
  {
   "cell_type": "code",
   "execution_count": 9,
   "metadata": {},
   "outputs": [],
   "source": [
    "# from sklearn.preprocessing import OneHotEncoder\n",
    "\n",
    "# cat_encoder = OneHotEncoder()\n",
    "# X_train_cat_1hot = cat_encoder.fit_transform(X_train_cat)\n",
    "# X_train_cat_1hot"
   ]
  },
  {
   "cell_type": "code",
   "execution_count": 10,
   "metadata": {},
   "outputs": [
    {
     "data": {
      "text/plain": [
       "(276529, 442)"
      ]
     },
     "execution_count": 10,
     "metadata": {},
     "output_type": "execute_result"
    }
   ],
   "source": [
    "uc2_df.shape"
   ]
  },
  {
   "cell_type": "code",
   "execution_count": 11,
   "metadata": {},
   "outputs": [],
   "source": [
    "X = uc2_df.drop(columns = ['Description'])\n",
    "Y = uc2_df['Description']"
   ]
  },
  {
   "cell_type": "markdown",
   "metadata": {},
   "source": [
    "### sklearn.multiclass - OneVsRestClassifier"
   ]
  },
  {
   "cell_type": "markdown",
   "metadata": {},
   "source": [
    "The one-vs-rest strategy, also known as one-vs-all, is implemented in OneVsRestClassifier. The strategy consists in fitting one classifier per class. For each classifier, the class is fitted against all the other classes. In addition to its computational efficiency (only n_classes classifiers are needed), one advantage of this approach is its interpretability. Since each class is represented by one and only one classifier, it is possible to gain knowledge about the class by inspecting its corresponding classifier. This is the most commonly used strategy and is a fair default choice."
   ]
  },
  {
   "cell_type": "markdown",
   "metadata": {},
   "source": [
    "#### LinearSVC (Multiclass as One-Vs-The-Rest)"
   ]
  },
  {
   "cell_type": "code",
   "execution_count": 12,
   "metadata": {},
   "outputs": [],
   "source": [
    "from sklearn.multiclass import OneVsRestClassifier\n",
    "from sklearn.svm import LinearSVC"
   ]
  },
  {
   "cell_type": "code",
   "execution_count": 13,
   "metadata": {
    "scrolled": false
   },
   "outputs": [],
   "source": [
    "LinearSVC_OVR = OneVsRestClassifier(LinearSVC(random_state=42069))"
   ]
  },
  {
   "cell_type": "code",
   "execution_count": 14,
   "metadata": {},
   "outputs": [
    {
     "data": {
      "text/plain": [
       "0.37988094219210206"
      ]
     },
     "execution_count": 14,
     "metadata": {},
     "output_type": "execute_result"
    }
   ],
   "source": [
    "from sklearn.model_selection import cross_val_score\n",
    "\n",
    "scores = cross_val_score(LinearSVC_OVR, X, Y, cv=5, scoring='f1_macro',n_jobs=-1)\n",
    "np.mean(scores)"
   ]
  },
  {
   "cell_type": "markdown",
   "metadata": {},
   "source": [
    "#### GradientBoostingClassifier (Multiclass as One-Vs-The-Rest)"
   ]
  },
  {
   "cell_type": "code",
   "execution_count": 15,
   "metadata": {},
   "outputs": [],
   "source": [
    "from sklearn.ensemble import GradientBoostingClassifier"
   ]
  },
  {
   "cell_type": "code",
   "execution_count": 16,
   "metadata": {},
   "outputs": [],
   "source": [
    "GB_CLF = GradientBoostingClassifier()"
   ]
  },
  {
   "cell_type": "code",
   "execution_count": 17,
   "metadata": {},
   "outputs": [],
   "source": [
    "# scores = cross_val_score(GB_CLF, X, Y, cv=5, scoring='f1_macro',n_jobs=-1)\n",
    "# np.mean(scores)"
   ]
  },
  {
   "cell_type": "markdown",
   "metadata": {},
   "source": [
    "Taking forever to run. So I'll leave it to Marek."
   ]
  },
  {
   "cell_type": "code",
   "execution_count": null,
   "metadata": {},
   "outputs": [],
   "source": []
  },
  {
   "cell_type": "markdown",
   "metadata": {},
   "source": [
    "#### GaussianProcessClassifier (setting multi_class = “one_vs_rest”)"
   ]
  },
  {
   "cell_type": "code",
   "execution_count": 54,
   "metadata": {},
   "outputs": [],
   "source": [
    "from sklearn.gaussian_process import GaussianProcessClassifier"
   ]
  },
  {
   "cell_type": "code",
   "execution_count": 55,
   "metadata": {},
   "outputs": [],
   "source": [
    "GP_CLF = GaussianProcessClassifier(random_state=42069, multi_class='one_vs_rest', n_jobs=-1)"
   ]
  },
  {
   "cell_type": "code",
   "execution_count": null,
   "metadata": {},
   "outputs": [],
   "source": [
    "#kernel = 1.0 * RBF(1.0)\n",
    "# scores = cross_val_score(GP_CLF, X, Y, cv=5, scoring='f1_macro',n_jobs=-1)\n",
    "# np.mean(scores)"
   ]
  },
  {
   "cell_type": "markdown",
   "metadata": {},
   "source": [
    "After crashing my computer 2 times... Gave up"
   ]
  },
  {
   "cell_type": "code",
   "execution_count": null,
   "metadata": {},
   "outputs": [],
   "source": []
  },
  {
   "cell_type": "markdown",
   "metadata": {},
   "source": [
    "#### PassiveAggressiveClassifier"
   ]
  },
  {
   "cell_type": "code",
   "execution_count": 20,
   "metadata": {},
   "outputs": [],
   "source": [
    "from sklearn.linear_model import PassiveAggressiveClassifier"
   ]
  },
  {
   "cell_type": "code",
   "execution_count": 21,
   "metadata": {},
   "outputs": [],
   "source": [
    "PA_CLF = PassiveAggressiveClassifier(random_state = 42069, n_jobs = -1)"
   ]
  },
  {
   "cell_type": "code",
   "execution_count": 22,
   "metadata": {},
   "outputs": [
    {
     "data": {
      "text/plain": [
       "0.32170887467463927"
      ]
     },
     "execution_count": 22,
     "metadata": {},
     "output_type": "execute_result"
    }
   ],
   "source": [
    "scores = cross_val_score(PA_CLF, X, Y, cv=5, scoring='f1_macro',n_jobs=-1)\n",
    "np.mean(scores)"
   ]
  },
  {
   "cell_type": "code",
   "execution_count": null,
   "metadata": {},
   "outputs": [],
   "source": []
  },
  {
   "cell_type": "markdown",
   "metadata": {},
   "source": [
    "#### sklearn.linear_model.Perceptron"
   ]
  },
  {
   "cell_type": "code",
   "execution_count": 23,
   "metadata": {},
   "outputs": [],
   "source": [
    "from sklearn.linear_model import Perceptron"
   ]
  },
  {
   "cell_type": "code",
   "execution_count": 24,
   "metadata": {},
   "outputs": [],
   "source": [
    "Perc = Perceptron(random_state = 42069, n_jobs = -1)"
   ]
  },
  {
   "cell_type": "code",
   "execution_count": 25,
   "metadata": {},
   "outputs": [
    {
     "data": {
      "text/plain": [
       "0.33467419703182044"
      ]
     },
     "execution_count": 25,
     "metadata": {},
     "output_type": "execute_result"
    }
   ],
   "source": [
    "scores = cross_val_score(Perc, X, Y, cv=5, scoring='f1_macro',n_jobs=-1)\n",
    "np.mean(scores)"
   ]
  },
  {
   "cell_type": "code",
   "execution_count": null,
   "metadata": {},
   "outputs": [],
   "source": []
  },
  {
   "cell_type": "markdown",
   "metadata": {},
   "source": [
    "#### sklearn.linear_model.SGDClassifier"
   ]
  },
  {
   "cell_type": "code",
   "execution_count": 26,
   "metadata": {},
   "outputs": [],
   "source": [
    "from sklearn.linear_model import SGDClassifier"
   ]
  },
  {
   "cell_type": "code",
   "execution_count": 27,
   "metadata": {},
   "outputs": [],
   "source": [
    "SGDC_CLF = SGDClassifier(random_state = 42069, n_jobs = -1)"
   ]
  },
  {
   "cell_type": "code",
   "execution_count": 28,
   "metadata": {},
   "outputs": [
    {
     "data": {
      "text/plain": [
       "0.36959335764571094"
      ]
     },
     "execution_count": 28,
     "metadata": {},
     "output_type": "execute_result"
    }
   ],
   "source": [
    "scores = cross_val_score(SGDC_CLF, X, Y, cv=5, scoring='f1_macro',n_jobs=-1)\n",
    "np.mean(scores)"
   ]
  },
  {
   "cell_type": "code",
   "execution_count": null,
   "metadata": {},
   "outputs": [],
   "source": []
  },
  {
   "cell_type": "code",
   "execution_count": null,
   "metadata": {},
   "outputs": [],
   "source": []
  },
  {
   "cell_type": "markdown",
   "metadata": {},
   "source": [
    "## inherently multiclass"
   ]
  },
  {
   "cell_type": "code",
   "execution_count": 29,
   "metadata": {},
   "outputs": [],
   "source": [
    "from sklearn.naive_bayes import BernoulliNB"
   ]
  },
  {
   "cell_type": "code",
   "execution_count": 30,
   "metadata": {},
   "outputs": [],
   "source": [
    "NBB = BernoulliNB()"
   ]
  },
  {
   "cell_type": "code",
   "execution_count": 31,
   "metadata": {},
   "outputs": [
    {
     "data": {
      "text/plain": [
       "0.4086207926955268"
      ]
     },
     "execution_count": 31,
     "metadata": {},
     "output_type": "execute_result"
    }
   ],
   "source": [
    "scores = cross_val_score(NBB, X, Y, cv=5, scoring='f1_macro',n_jobs=-1)\n",
    "np.mean(scores)"
   ]
  },
  {
   "cell_type": "code",
   "execution_count": null,
   "metadata": {},
   "outputs": [],
   "source": []
  },
  {
   "cell_type": "code",
   "execution_count": 32,
   "metadata": {},
   "outputs": [],
   "source": [
    "from sklearn.model_selection import GridSearchCV"
   ]
  },
  {
   "cell_type": "code",
   "execution_count": 33,
   "metadata": {},
   "outputs": [],
   "source": [
    "parameters = {'alpha':[0.1 * i for i in range(11)]}\n",
    "#Additive (Laplace/Lidstone) smoothing parameter (0 for no smoothing)."
   ]
  },
  {
   "cell_type": "code",
   "execution_count": 39,
   "metadata": {},
   "outputs": [
    {
     "data": {
      "text/plain": [
       "GridSearchCV(estimator=BernoulliNB(), n_jobs=-1,\n",
       "             param_grid={'alpha': [0.1, 0.2, 0.30000000000000004, 0.4, 0.5,\n",
       "                                   0.6000000000000001, 0.7000000000000001, 0.8,\n",
       "                                   0.9, 1.0]},\n",
       "             scoring='f1_macro')"
      ]
     },
     "execution_count": 39,
     "metadata": {},
     "output_type": "execute_result"
    }
   ],
   "source": [
    "NBB_GSCV = GridSearchCV(NBB, parameters, scoring='f1_macro', n_jobs = -1)\n",
    "NBB_GSCV.fit(X,Y)"
   ]
  },
  {
   "cell_type": "code",
   "execution_count": 40,
   "metadata": {},
   "outputs": [
    {
     "data": {
      "text/plain": [
       "0.4130233086995429"
      ]
     },
     "execution_count": 40,
     "metadata": {},
     "output_type": "execute_result"
    }
   ],
   "source": [
    "NBB_GSCV.best_score_"
   ]
  },
  {
   "cell_type": "code",
   "execution_count": null,
   "metadata": {},
   "outputs": [],
   "source": []
  },
  {
   "cell_type": "code",
   "execution_count": null,
   "metadata": {},
   "outputs": [],
   "source": []
  },
  {
   "cell_type": "code",
   "execution_count": 41,
   "metadata": {},
   "outputs": [],
   "source": [
    "from sklearn.discriminant_analysis import LinearDiscriminantAnalysis"
   ]
  },
  {
   "cell_type": "code",
   "execution_count": 42,
   "metadata": {},
   "outputs": [],
   "source": [
    "LDA = LinearDiscriminantAnalysis()"
   ]
  },
  {
   "cell_type": "code",
   "execution_count": 43,
   "metadata": {},
   "outputs": [
    {
     "data": {
      "text/plain": [
       "0.3813541250546903"
      ]
     },
     "execution_count": 43,
     "metadata": {},
     "output_type": "execute_result"
    }
   ],
   "source": [
    "scores = cross_val_score(LDA, X, Y, cv=5, scoring='f1_macro',n_jobs=-1)\n",
    "np.mean(scores)"
   ]
  },
  {
   "cell_type": "code",
   "execution_count": null,
   "metadata": {},
   "outputs": [],
   "source": []
  },
  {
   "cell_type": "code",
   "execution_count": null,
   "metadata": {},
   "outputs": [],
   "source": []
  },
  {
   "cell_type": "code",
   "execution_count": null,
   "metadata": {},
   "outputs": [],
   "source": []
  },
  {
   "cell_type": "code",
   "execution_count": null,
   "metadata": {},
   "outputs": [],
   "source": []
  },
  {
   "cell_type": "code",
   "execution_count": null,
   "metadata": {},
   "outputs": [],
   "source": []
  },
  {
   "cell_type": "markdown",
   "metadata": {},
   "source": [
    "### Built-in Multiclass"
   ]
  },
  {
   "cell_type": "markdown",
   "metadata": {},
   "source": [
    "#### linear_model.RidgeClassifierCV"
   ]
  },
  {
   "cell_type": "code",
   "execution_count": 19,
   "metadata": {},
   "outputs": [],
   "source": [
    "from sklearn.linear_model import RidgeClassifierCV"
   ]
  },
  {
   "cell_type": "code",
   "execution_count": 43,
   "metadata": {},
   "outputs": [],
   "source": [
    "RidgeCLF = OneVsRestClassifier(RidgeClassifierCV(alphas = [0.1,0.5,1,10], cv=None,scoring='f1_macro',store_cv_values = True))"
   ]
  },
  {
   "cell_type": "code",
   "execution_count": 44,
   "metadata": {
    "scrolled": true
   },
   "outputs": [
    {
     "data": {
      "text/plain": [
       "OneVsRestClassifier(estimator=RidgeClassifierCV(alphas=array([ 0.1,  0.5,  1. , 10. ]),\n",
       "                                                scoring='f1_macro',\n",
       "                                                store_cv_values=True))"
      ]
     },
     "execution_count": 44,
     "metadata": {},
     "output_type": "execute_result"
    }
   ],
   "source": [
    "# clf2.fit(X, Y)"
   ]
  },
  {
   "cell_type": "code",
   "execution_count": 46,
   "metadata": {},
   "outputs": [
    {
     "ename": "AttributeError",
     "evalue": "'OneVsRestClassifier' object has no attribute 'alpha_'",
     "output_type": "error",
     "traceback": [
      "\u001b[0;31m---------------------------------------------------------------------------\u001b[0m",
      "\u001b[0;31mAttributeError\u001b[0m                            Traceback (most recent call last)",
      "\u001b[0;32m<ipython-input-46-3835ee9f645a>\u001b[0m in \u001b[0;36m<module>\u001b[0;34m\u001b[0m\n\u001b[0;32m----> 1\u001b[0;31m \u001b[0mclf2\u001b[0m\u001b[0;34m.\u001b[0m\u001b[0malpha_\u001b[0m\u001b[0;34m\u001b[0m\u001b[0;34m\u001b[0m\u001b[0m\n\u001b[0m",
      "\u001b[0;31mAttributeError\u001b[0m: 'OneVsRestClassifier' object has no attribute 'alpha_'"
     ]
    }
   ],
   "source": [
    "# clf2.alpha_"
   ]
  },
  {
   "cell_type": "code",
   "execution_count": null,
   "metadata": {},
   "outputs": [],
   "source": [
    "# clf2.best_score_"
   ]
  },
  {
   "cell_type": "code",
   "execution_count": null,
   "metadata": {},
   "outputs": [],
   "source": []
  },
  {
   "cell_type": "markdown",
   "metadata": {},
   "source": [
    "### Model - OneVsOneClassifier"
   ]
  },
  {
   "cell_type": "markdown",
   "metadata": {},
   "source": [
    "OneVsOneClassifier constructs one classifier per pair of classes. At prediction time, the class which received the most votes is selected. In the event of a tie (among two classes with an equal number of votes), it selects the class with the highest aggregate classification confidence by summing over the pair-wise classification confidence levels computed by the underlying binary classifiers.\n",
    "\n",
    "Since it requires to fit n_classes * (n_classes - 1) / 2 classifiers, this method is usually slower than one-vs-the-rest, due to its O(n_classes^2) complexity. However, this method may be advantageous for algorithms such as kernel algorithms which don’t scale well with n_samples. This is because each individual learning problem only involves a small subset of the data whereas, with one-vs-the-rest, the complete dataset is used n_classes times. The decision function is the result of a monotonic transformation of the one-versus-one classification."
   ]
  },
  {
   "cell_type": "code",
   "execution_count": 81,
   "metadata": {},
   "outputs": [],
   "source": [
    "from sklearn.multiclass import OneVsOneClassifier\n",
    "\n",
    "OneVsOneClassifier = OneVsOneClassifier(LinearSVC(random_state=5))\n",
    "clf2 = OneVsOneClassifier.fit(X, Y)\n",
    "# clf2.predict(X)"
   ]
  },
  {
   "cell_type": "code",
   "execution_count": 82,
   "metadata": {},
   "outputs": [
    {
     "data": {
      "text/plain": [
       "array([0.37355751, 0.38458121, 0.39799876, 0.40021676, 0.39568538])"
      ]
     },
     "execution_count": 82,
     "metadata": {},
     "output_type": "execute_result"
    }
   ],
   "source": [
    "from sklearn.model_selection import cross_val_score\n",
    "\n",
    "scores = cross_val_score(clf2, X, Y, cv=5, scoring='f1_macro')\n",
    "scores"
   ]
  },
  {
   "cell_type": "markdown",
   "metadata": {},
   "source": [
    "### Model - OutputCodeClassifier\n",
    "Error-Correcting Output Code-based strategies are fairly different from one-vs-the-rest and one-vs-one. With these strategies, each class is represented in a Euclidean space, where each dimension can only be 0 or 1. Another way to put it is that each class is represented by a binary code (an array of 0 and 1). The matrix which keeps track of the location/code of each class is called the code book. The code size is the dimensionality of the aforementioned space. Intuitively, each class should be represented by a code as unique as possible and a good code book should be designed to optimize classification accuracy. In this implementation, we simply use a randomly-generated code book as advocated in 3 although more elaborate methods may be added in the future.\n",
    "\n",
    "At fitting time, one binary classifier per bit in the code book is fitted. At prediction time, the classifiers are used to project new points in the class space and the class closest to the points is chosen.\n",
    "\n",
    "In OutputCodeClassifier, the code_size attribute allows the user to control the number of classifiers which will be used. It is a percentage of the total number of classes.\n",
    "\n",
    "A number between 0 and 1 will require fewer classifiers than one-vs-the-rest. In theory, log2(n_classes) / n_classes is sufficient to represent each class unambiguously. However, in practice, it may not lead to good accuracy since log2(n_classes) is much smaller than n_classes.\n",
    "\n",
    "A number greater than 1 will require more classifiers than one-vs-the-rest. In this case, some classifiers will in theory correct for the mistakes made by other classifiers, hence the name “error-correcting”. In practice, however, this may not happen as classifier mistakes will typically be correlated. The error-correcting output codes have a similar effect to bagging."
   ]
  },
  {
   "cell_type": "code",
   "execution_count": null,
   "metadata": {},
   "outputs": [],
   "source": [
    "#parameter: code_size"
   ]
  },
  {
   "cell_type": "code",
   "execution_count": 84,
   "metadata": {},
   "outputs": [
    {
     "data": {
      "text/plain": [
       "OutputCodeClassifier(code_size=2, estimator=LinearSVC(random_state=5),\n",
       "                     random_state=5)"
      ]
     },
     "execution_count": 84,
     "metadata": {},
     "output_type": "execute_result"
    }
   ],
   "source": [
    "from sklearn.multiclass import OutputCodeClassifier\n",
    "from sklearn.svm import LinearSVC\n",
    "\n",
    "clf3 = OutputCodeClassifier(LinearSVC(random_state=5),\n",
    "                            code_size=2, random_state=5)\n",
    "clf3.fit(X, Y)"
   ]
  },
  {
   "cell_type": "code",
   "execution_count": 85,
   "metadata": {},
   "outputs": [
    {
     "data": {
      "text/plain": [
       "array([0.30526063, 0.30308781, 0.30823036, 0.32186999, 0.31872546])"
      ]
     },
     "execution_count": 85,
     "metadata": {},
     "output_type": "execute_result"
    }
   ],
   "source": [
    "from sklearn.model_selection import cross_val_score\n",
    "\n",
    "scores = cross_val_score(clf3, X, Y, cv=5, scoring='f1_macro')\n",
    "scores"
   ]
  },
  {
   "cell_type": "code",
   "execution_count": null,
   "metadata": {},
   "outputs": [],
   "source": []
  },
  {
   "cell_type": "code",
   "execution_count": null,
   "metadata": {},
   "outputs": [],
   "source": [
    "from sklearn.neural_network import MLPClassifier\n",
    "from sklearn.multiclass import OneVsRestClassifier\n",
    "OneVsRestClassifier = OneVsRestClassifier(MLPClassifier(hidden_layer_sizes = 100))\n",
    "                                          \n",
    "# clf4 = OneVsRestClassifier.fit(X, Y)"
   ]
  },
  {
   "cell_type": "code",
   "execution_count": null,
   "metadata": {},
   "outputs": [],
   "source": [
    "from sklearn.model_selection import cross_val_score\n",
    "\n",
    "scores = cross_val_score(clf3, X, Y, cv=5, scoring='f1_macro')\n",
    "scores"
   ]
  },
  {
   "cell_type": "code",
   "execution_count": 7,
   "metadata": {},
   "outputs": [
    {
     "data": {
      "text/html": [
       "<div>\n",
       "<style scoped>\n",
       "    .dataframe tbody tr th:only-of-type {\n",
       "        vertical-align: middle;\n",
       "    }\n",
       "\n",
       "    .dataframe tbody tr th {\n",
       "        vertical-align: top;\n",
       "    }\n",
       "\n",
       "    .dataframe thead th {\n",
       "        text-align: right;\n",
       "    }\n",
       "</style>\n",
       "<table border=\"1\" class=\"dataframe\">\n",
       "  <thead>\n",
       "    <tr style=\"text-align: right;\">\n",
       "      <th></th>\n",
       "      <th>Unnamed: 0</th>\n",
       "      <th>CrimeDate</th>\n",
       "      <th>CrimeTime</th>\n",
       "      <th>CrimeCode</th>\n",
       "      <th>Location</th>\n",
       "      <th>Description</th>\n",
       "      <th>Inside/Outside</th>\n",
       "      <th>Weapon</th>\n",
       "      <th>Post</th>\n",
       "      <th>District</th>\n",
       "      <th>Neighborhood</th>\n",
       "      <th>Longitude</th>\n",
       "      <th>Latitude</th>\n",
       "      <th>Location 1</th>\n",
       "      <th>Premise</th>\n",
       "      <th>Total Incidents</th>\n",
       "      <th>callDateTime</th>\n",
       "      <th>Priority</th>\n",
       "      <th>CallDescription</th>\n",
       "    </tr>\n",
       "  </thead>\n",
       "  <tbody>\n",
       "    <tr>\n",
       "      <th>0</th>\n",
       "      <td>31238</td>\n",
       "      <td>2017-01-19 00:00:00</td>\n",
       "      <td>19:00:00</td>\n",
       "      <td>6D</td>\n",
       "      <td>4200 WICKFORD RD</td>\n",
       "      <td>LARCENY FROM AUTO</td>\n",
       "      <td>NaN</td>\n",
       "      <td>NaN</td>\n",
       "      <td>541.0</td>\n",
       "      <td>NORTHERN</td>\n",
       "      <td>Roland Park</td>\n",
       "      <td>-76.62663</td>\n",
       "      <td>39.34035</td>\n",
       "      <td>(39.3403500000, -76.6266300000)</td>\n",
       "      <td>NaN</td>\n",
       "      <td>1</td>\n",
       "      <td>2017-01-20 09:37:00</td>\n",
       "      <td>Low</td>\n",
       "      <td>LARCENY F/AUTO</td>\n",
       "    </tr>\n",
       "    <tr>\n",
       "      <th>1</th>\n",
       "      <td>31239</td>\n",
       "      <td>2017-01-19 00:00:00</td>\n",
       "      <td>19:00:00</td>\n",
       "      <td>6D</td>\n",
       "      <td>800 WEDGEWOOD RD</td>\n",
       "      <td>LARCENY FROM AUTO</td>\n",
       "      <td>NaN</td>\n",
       "      <td>NaN</td>\n",
       "      <td>823.0</td>\n",
       "      <td>SOUTHWESTERN</td>\n",
       "      <td>West Hills</td>\n",
       "      <td>-76.70612</td>\n",
       "      <td>39.29449</td>\n",
       "      <td>(39.2944900000, -76.7061200000)</td>\n",
       "      <td>NaN</td>\n",
       "      <td>1</td>\n",
       "      <td>2017-01-20 05:55:00</td>\n",
       "      <td>Low</td>\n",
       "      <td>LARCENY F/AUTO</td>\n",
       "    </tr>\n",
       "    <tr>\n",
       "      <th>2</th>\n",
       "      <td>31244</td>\n",
       "      <td>2017-01-19 00:00:00</td>\n",
       "      <td>18:30:00</td>\n",
       "      <td>6E</td>\n",
       "      <td>3000 SHANNON DR</td>\n",
       "      <td>LARCENY</td>\n",
       "      <td>NaN</td>\n",
       "      <td>NaN</td>\n",
       "      <td>432.0</td>\n",
       "      <td>NORTHEASTERN</td>\n",
       "      <td>Belair-Edison</td>\n",
       "      <td>-76.56774</td>\n",
       "      <td>39.32524</td>\n",
       "      <td>(39.3252400000, -76.5677400000)</td>\n",
       "      <td>NaN</td>\n",
       "      <td>1</td>\n",
       "      <td>2017-01-20 14:34:00</td>\n",
       "      <td>Low</td>\n",
       "      <td>LARCENY F/AUTO</td>\n",
       "    </tr>\n",
       "    <tr>\n",
       "      <th>3</th>\n",
       "      <td>31255</td>\n",
       "      <td>2017-01-19 00:00:00</td>\n",
       "      <td>17:50:00</td>\n",
       "      <td>7A</td>\n",
       "      <td>0 N PORT ST</td>\n",
       "      <td>AUTO THEFT</td>\n",
       "      <td>O</td>\n",
       "      <td>NaN</td>\n",
       "      <td>221.0</td>\n",
       "      <td>SOUTHEASTERN</td>\n",
       "      <td>Patterson Place</td>\n",
       "      <td>-76.58267</td>\n",
       "      <td>39.29265</td>\n",
       "      <td>(39.2926500000, -76.5826700000)</td>\n",
       "      <td>STREET</td>\n",
       "      <td>1</td>\n",
       "      <td>2017-01-19 17:51:00</td>\n",
       "      <td>Medium</td>\n",
       "      <td>AUTO THEFT</td>\n",
       "    </tr>\n",
       "    <tr>\n",
       "      <th>4</th>\n",
       "      <td>31256</td>\n",
       "      <td>2017-01-19 00:00:00</td>\n",
       "      <td>17:30:00</td>\n",
       "      <td>5A</td>\n",
       "      <td>1300 CAMBRIA ST</td>\n",
       "      <td>BURGLARY</td>\n",
       "      <td>NaN</td>\n",
       "      <td>NaN</td>\n",
       "      <td>911.0</td>\n",
       "      <td>SOUTHERN</td>\n",
       "      <td>Curtis Bay</td>\n",
       "      <td>-76.59111</td>\n",
       "      <td>39.23224</td>\n",
       "      <td>(39.2322400000, -76.5911100000)</td>\n",
       "      <td>NaN</td>\n",
       "      <td>1</td>\n",
       "      <td>2017-01-19 17:38:00</td>\n",
       "      <td>Medium</td>\n",
       "      <td>BURGLARY</td>\n",
       "    </tr>\n",
       "    <tr>\n",
       "      <th>...</th>\n",
       "      <td>...</td>\n",
       "      <td>...</td>\n",
       "      <td>...</td>\n",
       "      <td>...</td>\n",
       "      <td>...</td>\n",
       "      <td>...</td>\n",
       "      <td>...</td>\n",
       "      <td>...</td>\n",
       "      <td>...</td>\n",
       "      <td>...</td>\n",
       "      <td>...</td>\n",
       "      <td>...</td>\n",
       "      <td>...</td>\n",
       "      <td>...</td>\n",
       "      <td>...</td>\n",
       "      <td>...</td>\n",
       "      <td>...</td>\n",
       "      <td>...</td>\n",
       "      <td>...</td>\n",
       "    </tr>\n",
       "    <tr>\n",
       "      <th>1234</th>\n",
       "      <td>127881</td>\n",
       "      <td>2015-01-31 00:00:00</td>\n",
       "      <td>02:00:00</td>\n",
       "      <td>6D</td>\n",
       "      <td>800 N CALVERT ST</td>\n",
       "      <td>LARCENY FROM AUTO</td>\n",
       "      <td>O</td>\n",
       "      <td>NaN</td>\n",
       "      <td>142.0</td>\n",
       "      <td>CENTRAL</td>\n",
       "      <td>Mount Vernon</td>\n",
       "      <td>-76.61301</td>\n",
       "      <td>39.29885</td>\n",
       "      <td>(39.2988500000, -76.6130100000)</td>\n",
       "      <td>STREET</td>\n",
       "      <td>1</td>\n",
       "      <td>2015-02-01 14:03:00</td>\n",
       "      <td>Medium</td>\n",
       "      <td>911/No Voice</td>\n",
       "    </tr>\n",
       "    <tr>\n",
       "      <th>1235</th>\n",
       "      <td>127882</td>\n",
       "      <td>2015-01-31 00:00:00</td>\n",
       "      <td>01:30:00</td>\n",
       "      <td>7A</td>\n",
       "      <td>6500 FALKIRK RD</td>\n",
       "      <td>AUTO THEFT</td>\n",
       "      <td>O</td>\n",
       "      <td>NaN</td>\n",
       "      <td>414.0</td>\n",
       "      <td>NORTHEASTERN</td>\n",
       "      <td>Idlewood</td>\n",
       "      <td>-76.58411</td>\n",
       "      <td>39.37173</td>\n",
       "      <td>(39.3717300000, -76.5841100000)</td>\n",
       "      <td>STREET</td>\n",
       "      <td>1</td>\n",
       "      <td>2015-01-31 10:01:00</td>\n",
       "      <td>Medium</td>\n",
       "      <td>Auto Theft</td>\n",
       "    </tr>\n",
       "    <tr>\n",
       "      <th>1236</th>\n",
       "      <td>127886</td>\n",
       "      <td>2015-01-31 00:00:00</td>\n",
       "      <td>00:45:00</td>\n",
       "      <td>6D</td>\n",
       "      <td>100 E 25TH ST</td>\n",
       "      <td>LARCENY FROM AUTO</td>\n",
       "      <td>O</td>\n",
       "      <td>NaN</td>\n",
       "      <td>514.0</td>\n",
       "      <td>NORTHERN</td>\n",
       "      <td>Barclay</td>\n",
       "      <td>-76.61471</td>\n",
       "      <td>39.31790</td>\n",
       "      <td>(39.3179000000, -76.6147100000)</td>\n",
       "      <td>STREET</td>\n",
       "      <td>1</td>\n",
       "      <td>2015-01-31 13:57:00</td>\n",
       "      <td>Low</td>\n",
       "      <td>Larceny f/Auto</td>\n",
       "    </tr>\n",
       "    <tr>\n",
       "      <th>1237</th>\n",
       "      <td>127887</td>\n",
       "      <td>2015-01-31 00:00:00</td>\n",
       "      <td>00:45:00</td>\n",
       "      <td>6G</td>\n",
       "      <td>600 PRESIDENT ST</td>\n",
       "      <td>LARCENY</td>\n",
       "      <td>I</td>\n",
       "      <td>NaN</td>\n",
       "      <td>211.0</td>\n",
       "      <td>SOUTHEASTERN</td>\n",
       "      <td>Inner Harbor</td>\n",
       "      <td>-76.60197</td>\n",
       "      <td>39.28405</td>\n",
       "      <td>(39.2840500000, -76.6019700000)</td>\n",
       "      <td>RESTAURANT</td>\n",
       "      <td>1</td>\n",
       "      <td>2015-01-31 15:09:00</td>\n",
       "      <td>Low</td>\n",
       "      <td>Larceny</td>\n",
       "    </tr>\n",
       "    <tr>\n",
       "      <th>1238</th>\n",
       "      <td>127889</td>\n",
       "      <td>2015-01-31 00:00:00</td>\n",
       "      <td>00:10:00</td>\n",
       "      <td>6G</td>\n",
       "      <td>1700 THAMES ST</td>\n",
       "      <td>LARCENY</td>\n",
       "      <td>I</td>\n",
       "      <td>NaN</td>\n",
       "      <td>213.0</td>\n",
       "      <td>SOUTHEASTERN</td>\n",
       "      <td>Fells Point</td>\n",
       "      <td>-76.59225</td>\n",
       "      <td>39.28188</td>\n",
       "      <td>(39.2818800000, -76.5922500000)</td>\n",
       "      <td>BAR</td>\n",
       "      <td>1</td>\n",
       "      <td>2015-01-31 15:21:00</td>\n",
       "      <td>Low</td>\n",
       "      <td>Larceny</td>\n",
       "    </tr>\n",
       "  </tbody>\n",
       "</table>\n",
       "<p>1239 rows × 19 columns</p>\n",
       "</div>"
      ],
      "text/plain": [
       "      Unnamed: 0            CrimeDate CrimeTime CrimeCode          Location  \\\n",
       "0          31238  2017-01-19 00:00:00  19:00:00        6D  4200 WICKFORD RD   \n",
       "1          31239  2017-01-19 00:00:00  19:00:00        6D  800 WEDGEWOOD RD   \n",
       "2          31244  2017-01-19 00:00:00  18:30:00        6E   3000 SHANNON DR   \n",
       "3          31255  2017-01-19 00:00:00  17:50:00        7A       0 N PORT ST   \n",
       "4          31256  2017-01-19 00:00:00  17:30:00        5A   1300 CAMBRIA ST   \n",
       "...          ...                  ...       ...       ...               ...   \n",
       "1234      127881  2015-01-31 00:00:00  02:00:00        6D  800 N CALVERT ST   \n",
       "1235      127882  2015-01-31 00:00:00  01:30:00        7A   6500 FALKIRK RD   \n",
       "1236      127886  2015-01-31 00:00:00  00:45:00        6D     100 E 25TH ST   \n",
       "1237      127887  2015-01-31 00:00:00  00:45:00        6G  600 PRESIDENT ST   \n",
       "1238      127889  2015-01-31 00:00:00  00:10:00        6G    1700 THAMES ST   \n",
       "\n",
       "            Description Inside/Outside Weapon   Post      District  \\\n",
       "0     LARCENY FROM AUTO            NaN    NaN  541.0      NORTHERN   \n",
       "1     LARCENY FROM AUTO            NaN    NaN  823.0  SOUTHWESTERN   \n",
       "2               LARCENY            NaN    NaN  432.0  NORTHEASTERN   \n",
       "3            AUTO THEFT              O    NaN  221.0  SOUTHEASTERN   \n",
       "4              BURGLARY            NaN    NaN  911.0      SOUTHERN   \n",
       "...                 ...            ...    ...    ...           ...   \n",
       "1234  LARCENY FROM AUTO              O    NaN  142.0       CENTRAL   \n",
       "1235         AUTO THEFT              O    NaN  414.0  NORTHEASTERN   \n",
       "1236  LARCENY FROM AUTO              O    NaN  514.0      NORTHERN   \n",
       "1237            LARCENY              I    NaN  211.0  SOUTHEASTERN   \n",
       "1238            LARCENY              I    NaN  213.0  SOUTHEASTERN   \n",
       "\n",
       "         Neighborhood  Longitude  Latitude                       Location 1  \\\n",
       "0         Roland Park  -76.62663  39.34035  (39.3403500000, -76.6266300000)   \n",
       "1          West Hills  -76.70612  39.29449  (39.2944900000, -76.7061200000)   \n",
       "2       Belair-Edison  -76.56774  39.32524  (39.3252400000, -76.5677400000)   \n",
       "3     Patterson Place  -76.58267  39.29265  (39.2926500000, -76.5826700000)   \n",
       "4          Curtis Bay  -76.59111  39.23224  (39.2322400000, -76.5911100000)   \n",
       "...               ...        ...       ...                              ...   \n",
       "1234     Mount Vernon  -76.61301  39.29885  (39.2988500000, -76.6130100000)   \n",
       "1235         Idlewood  -76.58411  39.37173  (39.3717300000, -76.5841100000)   \n",
       "1236          Barclay  -76.61471  39.31790  (39.3179000000, -76.6147100000)   \n",
       "1237     Inner Harbor  -76.60197  39.28405  (39.2840500000, -76.6019700000)   \n",
       "1238      Fells Point  -76.59225  39.28188  (39.2818800000, -76.5922500000)   \n",
       "\n",
       "         Premise  Total Incidents         callDateTime Priority  \\\n",
       "0            NaN                1  2017-01-20 09:37:00      Low   \n",
       "1            NaN                1  2017-01-20 05:55:00      Low   \n",
       "2            NaN                1  2017-01-20 14:34:00      Low   \n",
       "3         STREET                1  2017-01-19 17:51:00   Medium   \n",
       "4            NaN                1  2017-01-19 17:38:00   Medium   \n",
       "...          ...              ...                  ...      ...   \n",
       "1234      STREET                1  2015-02-01 14:03:00   Medium   \n",
       "1235      STREET                1  2015-01-31 10:01:00   Medium   \n",
       "1236      STREET                1  2015-01-31 13:57:00      Low   \n",
       "1237  RESTAURANT                1  2015-01-31 15:09:00      Low   \n",
       "1238         BAR                1  2015-01-31 15:21:00      Low   \n",
       "\n",
       "     CallDescription  \n",
       "0     LARCENY F/AUTO  \n",
       "1     LARCENY F/AUTO  \n",
       "2     LARCENY F/AUTO  \n",
       "3         AUTO THEFT  \n",
       "4           BURGLARY  \n",
       "...              ...  \n",
       "1234    911/No Voice  \n",
       "1235      Auto Theft  \n",
       "1236  Larceny f/Auto  \n",
       "1237         Larceny  \n",
       "1238         Larceny  \n",
       "\n",
       "[1239 rows x 19 columns]"
      ]
     },
     "execution_count": 7,
     "metadata": {},
     "output_type": "execute_result"
    }
   ],
   "source": [
    "bpd911_df"
   ]
  },
  {
   "cell_type": "code",
   "execution_count": 8,
   "metadata": {},
   "outputs": [],
   "source": [
    "bpd911_df = pd.read_csv('../data/crimes_with_calls_cleaned.csv')"
   ]
  },
  {
   "cell_type": "code",
   "execution_count": 9,
   "metadata": {},
   "outputs": [],
   "source": [
    "uc2_911_df = bpd911_df[['Inside/Outside', 'Weapon', 'Neighborhood', 'Premise', 'Month', 'Hour','Description', 'Priority']]\n",
    "uc2_911_df = pd.get_dummies(uc2_911_df, columns = ['Inside/Outside', 'Weapon', 'Neighborhood', 'Premise', 'Month', 'Hour', 'Priority'])"
   ]
  },
  {
   "cell_type": "code",
   "execution_count": 11,
   "metadata": {},
   "outputs": [],
   "source": [
    "X = uc2_911_df.drop(columns = ['Description'])\n",
    "Y = uc2_911_df['Description']"
   ]
  },
  {
   "cell_type": "code",
   "execution_count": 15,
   "metadata": {},
   "outputs": [],
   "source": [
    "from sklearn.naive_bayes import BernoulliNB\n",
    "from sklearn.model_selection import cross_val_score"
   ]
  },
  {
   "cell_type": "code",
   "execution_count": 55,
   "metadata": {},
   "outputs": [],
   "source": [
    "NBB = BernoulliNB(fit_prior=True)"
   ]
  },
  {
   "cell_type": "code",
   "execution_count": 56,
   "metadata": {},
   "outputs": [
    {
     "name": "stderr",
     "output_type": "stream",
     "text": [
      "/Users/tuliprichard/anaconda3/lib/python3.7/site-packages/sklearn/model_selection/_split.py:672: UserWarning: The least populated class in y has only 4 members, which is less than n_splits=5.\n",
      "  % (min_groups, self.n_splits)), UserWarning)\n"
     ]
    },
    {
     "data": {
      "text/plain": [
       "0.32765847959263183"
      ]
     },
     "execution_count": 56,
     "metadata": {},
     "output_type": "execute_result"
    }
   ],
   "source": [
    "scores = cross_val_score(NBB, X, Y, cv=5, scoring='f1_macro',n_jobs=-1)\n",
    "np.mean(scores)"
   ]
  },
  {
   "cell_type": "code",
   "execution_count": 57,
   "metadata": {},
   "outputs": [],
   "source": [
    "from sklearn.model_selection import GridSearchCV"
   ]
  },
  {
   "cell_type": "code",
   "execution_count": 69,
   "metadata": {},
   "outputs": [],
   "source": [
    "parameters = {'alpha':[0.05 * i for i in range(15)]}\n",
    "#Additive (Laplace/Lidstone) smoothing parameter (0 for no smoothing)."
   ]
  },
  {
   "cell_type": "code",
   "execution_count": 70,
   "metadata": {},
   "outputs": [
    {
     "name": "stderr",
     "output_type": "stream",
     "text": [
      "/Users/tuliprichard/anaconda3/lib/python3.7/site-packages/sklearn/model_selection/_split.py:672: UserWarning: The least populated class in y has only 4 members, which is less than n_splits=5.\n",
      "  % (min_groups, self.n_splits)), UserWarning)\n"
     ]
    },
    {
     "data": {
      "text/plain": [
       "GridSearchCV(estimator=BernoulliNB(), n_jobs=-1,\n",
       "             param_grid={'alpha': [0.0, 0.05, 0.1, 0.15000000000000002, 0.2,\n",
       "                                   0.25, 0.30000000000000004,\n",
       "                                   0.35000000000000003, 0.4, 0.45, 0.5, 0.55,\n",
       "                                   0.6000000000000001, 0.65,\n",
       "                                   0.7000000000000001]},\n",
       "             scoring='f1_macro')"
      ]
     },
     "execution_count": 70,
     "metadata": {},
     "output_type": "execute_result"
    }
   ],
   "source": [
    "NBB_GSCV = GridSearchCV(NBB, parameters, scoring='f1_macro', n_jobs = -1)\n",
    "NBB_GSCV.fit(X,Y)"
   ]
  },
  {
   "cell_type": "code",
   "execution_count": 71,
   "metadata": {},
   "outputs": [
    {
     "data": {
      "text/plain": [
       "0.4343237582749927"
      ]
     },
     "execution_count": 71,
     "metadata": {},
     "output_type": "execute_result"
    }
   ],
   "source": [
    "NBB_GSCV.best_score_"
   ]
  },
  {
   "cell_type": "code",
   "execution_count": null,
   "metadata": {},
   "outputs": [],
   "source": []
  }
 ],
 "metadata": {
  "hide_input": false,
  "kernelspec": {
   "display_name": "Python 3",
   "language": "python",
   "name": "python3"
  },
  "language_info": {
   "codemirror_mode": {
    "name": "ipython",
    "version": 3
   },
   "file_extension": ".py",
   "mimetype": "text/x-python",
   "name": "python",
   "nbconvert_exporter": "python",
   "pygments_lexer": "ipython3",
   "version": "3.7.7"
  },
  "toc": {
   "base_numbering": 1,
   "nav_menu": {},
   "number_sections": true,
   "sideBar": true,
   "skip_h1_title": false,
   "title_cell": "Table of Contents",
   "title_sidebar": "Contents",
   "toc_cell": false,
   "toc_position": {},
   "toc_section_display": true,
   "toc_window_display": false
  },
  "varInspector": {
   "cols": {
    "lenName": 16,
    "lenType": 16,
    "lenVar": 40
   },
   "kernels_config": {
    "python": {
     "delete_cmd_postfix": "",
     "delete_cmd_prefix": "del ",
     "library": "var_list.py",
     "varRefreshCmd": "print(var_dic_list())"
    },
    "r": {
     "delete_cmd_postfix": ") ",
     "delete_cmd_prefix": "rm(",
     "library": "var_list.r",
     "varRefreshCmd": "cat(var_dic_list()) "
    }
   },
   "types_to_exclude": [
    "module",
    "function",
    "builtin_function_or_method",
    "instance",
    "_Feature"
   ],
   "window_display": false
  }
 },
 "nbformat": 4,
 "nbformat_minor": 4
}
