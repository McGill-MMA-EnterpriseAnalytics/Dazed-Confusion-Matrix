{
 "cells": [
  {
   "cell_type": "markdown",
   "id": "casual-escape",
   "metadata": {},
   "source": [
    "---\n",
    "<div style=\"text-align: right\"> Dazed & Confusion Matrix 2.0 <br> REQUIRED TO HAVE TENSORFLOW & TENSORFLOW-PROBABILITY INSTALLED </div>\n",
    "\n",
    "--- "
   ]
  },
  {
   "cell_type": "markdown",
   "id": "alternative-posting",
   "metadata": {},
   "source": [
    "# Load libriaries and functions."
   ]
  },
  {
   "cell_type": "code",
   "execution_count": 1,
   "id": "exceptional-plastic",
   "metadata": {},
   "outputs": [
    {
     "name": "stdout",
     "output_type": "stream",
     "text": [
      "theano: 1.0.4\n",
      "tensorflow: 2.3.0\n",
      "keras: 2.4.0\n",
      "tf_probability: 0.11.0\n",
      "autokeras: 1.0.12\n"
     ]
    }
   ],
   "source": [
    "# theano\n",
    "import theano\n",
    "print('theano: %s' % theano.__version__)\n",
    "# tensorflow\n",
    "import tensorflow as tf\n",
    "print('tensorflow: %s' % tf.__version__)\n",
    "# keras\n",
    "from tensorflow import keras\n",
    "print('keras: %s' % keras.__version__)\n",
    "import tensorflow_probability as tfp\n",
    "print('tf_probability: %s' % tfp.__version__)\n",
    "import autokeras as ak\n",
    "print('autokeras: %s' % ak.__version__)"
   ]
  },
  {
   "cell_type": "code",
   "execution_count": 2,
   "id": "ideal-karen",
   "metadata": {},
   "outputs": [],
   "source": [
    "import pandas as pd\n",
    "import numpy as np\n",
    "tfk = tf.keras\n",
    "tf.keras.backend.set_floatx(\"float64\")\n",
    "import tensorflow_probability as tfp\n",
    "tfd = tfp.distributions\n",
    "from sklearn.preprocessing import StandardScaler\n",
    "from sklearn.ensemble import IsolationForest"
   ]
  },
  {
   "cell_type": "code",
   "execution_count": 3,
   "id": "proud-script",
   "metadata": {},
   "outputs": [],
   "source": [
    "import requests\n",
    "import io"
   ]
  },
  {
   "cell_type": "code",
   "execution_count": 4,
   "id": "dietary-hanging",
   "metadata": {},
   "outputs": [],
   "source": [
    "# To plot pretty figures\n",
    "%matplotlib inline\n",
    "import matplotlib as mpl\n",
    "import matplotlib.pyplot as plt\n",
    "mpl.rc('axes', labelsize=14)\n",
    "mpl.rc('xtick', labelsize=12)\n",
    "mpl.rc('ytick', labelsize=12)"
   ]
  },
  {
   "cell_type": "markdown",
   "id": "entire-applicant",
   "metadata": {},
   "source": [
    "# Define helper functions"
   ]
  },
  {
   "cell_type": "code",
   "execution_count": 5,
   "id": "centered-antigua",
   "metadata": {},
   "outputs": [],
   "source": [
    "scaler = StandardScaler()"
   ]
  },
  {
   "cell_type": "markdown",
   "id": "thousand-compatibility",
   "metadata": {},
   "source": [
    "# Loading the Data\n",
    "\n",
    "As sensors tend to drift due to aging, theretically, it is better to only use data from the past month six."
   ]
  },
  {
   "cell_type": "code",
   "execution_count": 6,
   "id": "changing-italian",
   "metadata": {},
   "outputs": [],
   "source": [
    "# Downloading the csv file from your GitHub account\n",
    "\n",
    "url = \"https://raw.githubusercontent.com/McGill-MMA-EnterpriseAnalytics/Dazed-Confusion-Matrix/dev/data/TRAIN_911_DEMO_MERGED_ENCODED.CSV\" # Make sure the url is the raw version of the file on GitHub\n",
    "download = requests.get(url).content\n",
    "\n",
    "# Reading the downloaded content and turning it into a pandas dataframe\n",
    "\n",
    "train_data = pd.read_csv(io.StringIO(download.decode('utf-8')))\n",
    "\n",
    "# Downloading the csv file from your GitHub account\n",
    "\n",
    "url_1 = \"https://raw.githubusercontent.com/McGill-MMA-EnterpriseAnalytics/Dazed-Confusion-Matrix/dev/data/TEST_911_DEMO_MERGED_ENCODED.CSV\" # Make sure the url is the raw version of the file on GitHub\n",
    "download_1 = requests.get(url_1).content\n",
    "\n",
    "# Reading the downloaded content and turning it into a pandas dataframe\n",
    "\n",
    "test_data = pd.read_csv(io.StringIO(download_1.decode('utf-8')))\n"
   ]
  },
  {
   "cell_type": "code",
   "execution_count": 7,
   "id": "infectious-region",
   "metadata": {},
   "outputs": [],
   "source": [
    "test_data['Priority_OUT_OF_SERVICE'] = test_data['Priority_OUT OF SERVICE']\n",
    "test_data = test_data.drop(['Priority_OUT OF SERVICE'], axis=1)\n",
    "train_data['Priority_OUT_OF_SERVICE'] = train_data['Priority_OUT OF SERVICE']\n",
    "train_data = train_data.drop(['Priority_OUT OF SERVICE'], axis=1)"
   ]
  },
  {
   "cell_type": "code",
   "execution_count": 8,
   "id": "golden-terrain",
   "metadata": {},
   "outputs": [
    {
     "data": {
      "text/plain": [
       "Description                 0\n",
       "Post                        0\n",
       "District                    0\n",
       "Neighborhood                0\n",
       "Longitude                   0\n",
       "Latitude                    0\n",
       "Premise                     0\n",
       "CallDescription             0\n",
       "Year                        0\n",
       "median_household_income     0\n",
       "households_below_poverty    0\n",
       "perc18_24                   0\n",
       "perc25_64                   0\n",
       "perc65up                    0\n",
       "perc_asian                  0\n",
       "perc_aa                     0\n",
       "perc_hisp                   0\n",
       "perc_white                  0\n",
       "median_price_homes_sold     0\n",
       "racial_diversity_index      0\n",
       "num_households              0\n",
       "Month                       0\n",
       "crime_hour                  0\n",
       "Outside                     0\n",
       "Weapon_FIREARM              0\n",
       "Weapon_HANDS                0\n",
       "Weapon_KNIFE                0\n",
       "Weapon_NONE                 0\n",
       "Weapon_OTHER                0\n",
       "call_hour                   0\n",
       "Season_autumn               0\n",
       "Season_spring               0\n",
       "Season_summer               0\n",
       "Season_winter               0\n",
       "Holiday                     0\n",
       "Weekend                     0\n",
       "Priority_HIGH               0\n",
       "Priority_LOW                0\n",
       "Priority_MEDIUM             0\n",
       "Priority_NON-EMERGENCY      0\n",
       "Priority_UNKNOWN            0\n",
       "Priority_OUT_OF_SERVICE     0\n",
       "dtype: int64"
      ]
     },
     "execution_count": 8,
     "metadata": {},
     "output_type": "execute_result"
    }
   ],
   "source": [
    "test_data.isnull().sum()"
   ]
  },
  {
   "cell_type": "code",
   "execution_count": 9,
   "id": "taken-patient",
   "metadata": {},
   "outputs": [
    {
     "data": {
      "text/plain": [
       "array([ 8,  7,  3,  0,  5, 11,  4, 12,  1, 13,  2, 14,  9, 10,  6],\n",
       "      dtype=int64)"
      ]
     },
     "execution_count": 9,
     "metadata": {},
     "output_type": "execute_result"
    }
   ],
   "source": [
    "train_data.Description.unique()"
   ]
  },
  {
   "cell_type": "code",
   "execution_count": 10,
   "id": "signal-disclaimer",
   "metadata": {},
   "outputs": [
    {
     "data": {
      "text/plain": [
       "7     1746\n",
       "8     1382\n",
       "5     1017\n",
       "3      996\n",
       "4      805\n",
       "0      517\n",
       "12     461\n",
       "2       97\n",
       "14      89\n",
       "10      57\n",
       "11      50\n",
       "6       41\n",
       "13      34\n",
       "1       31\n",
       "9       26\n",
       "Name: Description, dtype: int64"
      ]
     },
     "execution_count": 10,
     "metadata": {},
     "output_type": "execute_result"
    }
   ],
   "source": [
    "train_data['Description'].value_counts()"
   ]
  },
  {
   "cell_type": "code",
   "execution_count": 11,
   "id": "roman-campus",
   "metadata": {},
   "outputs": [],
   "source": [
    "#test_data['Description']=test_data[\"Description\"].astype(np.float64)\n",
    "#train_data['Description']=train_data[\"Description\"].astype(np.float64)"
   ]
  },
  {
   "cell_type": "code",
   "execution_count": 12,
   "id": "cloudy-battle",
   "metadata": {},
   "outputs": [
    {
     "name": "stdout",
     "output_type": "stream",
     "text": [
      "<class 'pandas.core.frame.DataFrame'>\n",
      "RangeIndex: 1838 entries, 0 to 1837\n",
      "Data columns (total 42 columns):\n",
      " #   Column                    Non-Null Count  Dtype  \n",
      "---  ------                    --------------  -----  \n",
      " 0   Description               1838 non-null   int64  \n",
      " 1   Post                      1838 non-null   float64\n",
      " 2   District                  1838 non-null   int64  \n",
      " 3   Neighborhood              1838 non-null   int64  \n",
      " 4   Longitude                 1838 non-null   float64\n",
      " 5   Latitude                  1838 non-null   float64\n",
      " 6   Premise                   1838 non-null   int64  \n",
      " 7   CallDescription           1838 non-null   int64  \n",
      " 8   Year                      1838 non-null   int64  \n",
      " 9   median_household_income   1838 non-null   float64\n",
      " 10  households_below_poverty  1838 non-null   float64\n",
      " 11  perc18_24                 1838 non-null   float64\n",
      " 12  perc25_64                 1838 non-null   float64\n",
      " 13  perc65up                  1838 non-null   float64\n",
      " 14  perc_asian                1838 non-null   float64\n",
      " 15  perc_aa                   1838 non-null   float64\n",
      " 16  perc_hisp                 1838 non-null   float64\n",
      " 17  perc_white                1838 non-null   float64\n",
      " 18  median_price_homes_sold   1838 non-null   float64\n",
      " 19  racial_diversity_index    1838 non-null   float64\n",
      " 20  num_households            1838 non-null   float64\n",
      " 21  Month                     1838 non-null   int64  \n",
      " 22  crime_hour                1838 non-null   int64  \n",
      " 23  Outside                   1838 non-null   int64  \n",
      " 24  Weapon_FIREARM            1838 non-null   int64  \n",
      " 25  Weapon_HANDS              1838 non-null   int64  \n",
      " 26  Weapon_KNIFE              1838 non-null   int64  \n",
      " 27  Weapon_NONE               1838 non-null   int64  \n",
      " 28  Weapon_OTHER              1838 non-null   int64  \n",
      " 29  call_hour                 1838 non-null   int64  \n",
      " 30  Season_autumn             1838 non-null   int64  \n",
      " 31  Season_spring             1838 non-null   int64  \n",
      " 32  Season_summer             1838 non-null   int64  \n",
      " 33  Season_winter             1838 non-null   int64  \n",
      " 34  Holiday                   1838 non-null   int64  \n",
      " 35  Weekend                   1838 non-null   int64  \n",
      " 36  Priority_HIGH             1838 non-null   int64  \n",
      " 37  Priority_LOW              1838 non-null   int64  \n",
      " 38  Priority_MEDIUM           1838 non-null   int64  \n",
      " 39  Priority_NON-EMERGENCY    1838 non-null   int64  \n",
      " 40  Priority_UNKNOWN          1838 non-null   int64  \n",
      " 41  Priority_OUT_OF_SERVICE   1838 non-null   int64  \n",
      "dtypes: float64(15), int64(27)\n",
      "memory usage: 603.2 KB\n"
     ]
    }
   ],
   "source": [
    "test_data.info()"
   ]
  },
  {
   "cell_type": "code",
   "execution_count": 13,
   "id": "varying-backing",
   "metadata": {},
   "outputs": [],
   "source": [
    "X_test = test_data.drop(['Description'], axis=1)\n",
    "y_test = test_data[\"Description\"]"
   ]
  },
  {
   "cell_type": "code",
   "execution_count": 14,
   "id": "devoted-defensive",
   "metadata": {},
   "outputs": [],
   "source": [
    "X_train_full = train_data.drop(['Description'], axis=1)\n",
    "y_train_full = train_data['Description']"
   ]
  },
  {
   "cell_type": "code",
   "execution_count": 15,
   "id": "large-approach",
   "metadata": {},
   "outputs": [
    {
     "name": "stdout",
     "output_type": "stream",
     "text": [
      "(7349, 41) (1838, 41) (7349,) (1838,) (1838, 42) (7349, 42)\n"
     ]
    }
   ],
   "source": [
    "print(X_train_full.shape, X_test.shape, y_train_full.shape, y_test.shape, test_data.shape, train_data.shape)"
   ]
  },
  {
   "cell_type": "code",
   "execution_count": 17,
   "id": "indian-field",
   "metadata": {},
   "outputs": [
    {
     "data": {
      "text/plain": [
       "StandardScaler()"
      ]
     },
     "execution_count": 17,
     "metadata": {},
     "output_type": "execute_result"
    }
   ],
   "source": [
    "# Fit only to the training data\n",
    "scaler.fit(X_train_full)"
   ]
  },
  {
   "cell_type": "code",
   "execution_count": 18,
   "id": "important-water",
   "metadata": {},
   "outputs": [],
   "source": [
    "X_train_full = scaler.transform(X_train_full)\n",
    "X_test = scaler.transform(X_test)"
   ]
  },
  {
   "cell_type": "code",
   "execution_count": 19,
   "id": "genuine-smith",
   "metadata": {},
   "outputs": [],
   "source": [
    "#The validation set contains 1935 units of information from the 7350, which is 26.33% of the data \n",
    "X_valid, X_train = X_train_full[:1934], X_train_full[1934:]\n",
    "y_valid, y_train = y_train_full[:1934], y_train_full[1934:]"
   ]
  },
  {
   "cell_type": "code",
   "execution_count": 86,
   "id": "micro-camping",
   "metadata": {},
   "outputs": [],
   "source": [
    "keras.backend.clear_session()\n",
    "np.random.seed(42)\n",
    "tf.random.set_seed(42)"
   ]
  },
  {
   "cell_type": "code",
   "execution_count": 87,
   "id": "missing-jacob",
   "metadata": {},
   "outputs": [],
   "source": [
    "ANN_model = keras.models.Sequential([\n",
    "    keras.layers.Flatten(input_shape=[41]),  \n",
    "    keras.layers.Dense(30, activation=\"relu\"),\n",
    "    keras.layers.Dense(20, activation=\"relu\"),\n",
    "    keras.layers.Dense(15, activation=\"softmax\")\n",
    "])"
   ]
  },
  {
   "cell_type": "code",
   "execution_count": 88,
   "id": "equipped-hierarchy",
   "metadata": {
    "scrolled": true
   },
   "outputs": [
    {
     "name": "stdout",
     "output_type": "stream",
     "text": [
      "Model: \"sequential\"\n",
      "_________________________________________________________________\n",
      "Layer (type)                 Output Shape              Param #   \n",
      "=================================================================\n",
      "flatten (Flatten)            (None, 41)                0         \n",
      "_________________________________________________________________\n",
      "dense (Dense)                (None, 30)                1260      \n",
      "_________________________________________________________________\n",
      "dense_1 (Dense)              (None, 20)                620       \n",
      "_________________________________________________________________\n",
      "dense_2 (Dense)              (None, 15)                315       \n",
      "=================================================================\n",
      "Total params: 2,195\n",
      "Trainable params: 2,195\n",
      "Non-trainable params: 0\n",
      "_________________________________________________________________\n"
     ]
    }
   ],
   "source": [
    "ANN_model.summary()"
   ]
  },
  {
   "cell_type": "code",
   "execution_count": 89,
   "id": "portuguese-flood",
   "metadata": {},
   "outputs": [],
   "source": [
    "ANN_model.compile(loss=\"sparse_categorical_crossentropy\",\n",
    "              optimizer=\"sgd\",\n",
    "              metrics=[\"accuracy\"])"
   ]
  },
  {
   "cell_type": "code",
   "execution_count": 90,
   "id": "stopped-hunter",
   "metadata": {},
   "outputs": [
    {
     "name": "stdout",
     "output_type": "stream",
     "text": [
      "Epoch 1/50\n",
      "170/170 [==============================] - 0s 1ms/step - loss: 2.4236 - accuracy: 0.2161 - val_loss: 2.1177 - val_accuracy: 0.3154\n",
      "Epoch 2/50\n",
      "170/170 [==============================] - 0s 830us/step - loss: 1.8957 - accuracy: 0.3662 - val_loss: 1.7267 - val_accuracy: 0.4012\n",
      "Epoch 3/50\n",
      "170/170 [==============================] - 0s 676us/step - loss: 1.5738 - accuracy: 0.4720 - val_loss: 1.4653 - val_accuracy: 0.5109\n",
      "Epoch 4/50\n",
      "170/170 [==============================] - 0s 753us/step - loss: 1.3631 - accuracy: 0.5638 - val_loss: 1.2984 - val_accuracy: 0.5812\n",
      "Epoch 5/50\n",
      "170/170 [==============================] - 0s 671us/step - loss: 1.2253 - accuracy: 0.6260 - val_loss: 1.1821 - val_accuracy: 0.6339\n",
      "Epoch 6/50\n",
      "170/170 [==============================] - 0s 763us/step - loss: 1.1284 - accuracy: 0.6567 - val_loss: 1.1026 - val_accuracy: 0.6618\n",
      "Epoch 7/50\n",
      "170/170 [==============================] - 0s 694us/step - loss: 1.0609 - accuracy: 0.6770 - val_loss: 1.0501 - val_accuracy: 0.6768\n",
      "Epoch 8/50\n",
      "170/170 [==============================] - 0s 712us/step - loss: 1.0161 - accuracy: 0.6831 - val_loss: 1.0165 - val_accuracy: 0.6789\n",
      "Epoch 9/50\n",
      "170/170 [==============================] - 0s 659us/step - loss: 0.9854 - accuracy: 0.6883 - val_loss: 0.9944 - val_accuracy: 0.6830\n",
      "Epoch 10/50\n",
      "170/170 [==============================] - 0s 729us/step - loss: 0.9630 - accuracy: 0.6923 - val_loss: 0.9760 - val_accuracy: 0.6861\n",
      "Epoch 11/50\n",
      "170/170 [==============================] - 0s 812us/step - loss: 0.9452 - accuracy: 0.6949 - val_loss: 0.9655 - val_accuracy: 0.6882\n",
      "Epoch 12/50\n",
      "170/170 [==============================] - 0s 671us/step - loss: 0.9304 - accuracy: 0.6955 - val_loss: 0.9526 - val_accuracy: 0.6898\n",
      "Epoch 13/50\n",
      "170/170 [==============================] - 0s 724us/step - loss: 0.9186 - accuracy: 0.6975 - val_loss: 0.9427 - val_accuracy: 0.6872\n",
      "Epoch 14/50\n",
      "170/170 [==============================] - 0s 836us/step - loss: 0.9071 - accuracy: 0.7001 - val_loss: 0.9382 - val_accuracy: 0.6918\n",
      "Epoch 15/50\n",
      "170/170 [==============================] - 0s 829us/step - loss: 0.8989 - accuracy: 0.6964 - val_loss: 0.9297 - val_accuracy: 0.6877\n",
      "Epoch 16/50\n",
      "170/170 [==============================] - 0s 682us/step - loss: 0.8898 - accuracy: 0.6999 - val_loss: 0.9224 - val_accuracy: 0.6939\n",
      "Epoch 17/50\n",
      "170/170 [==============================] - 0s 712us/step - loss: 0.8822 - accuracy: 0.7001 - val_loss: 0.9171 - val_accuracy: 0.6898\n",
      "Epoch 18/50\n",
      "170/170 [==============================] - 0s 725us/step - loss: 0.8757 - accuracy: 0.7018 - val_loss: 0.9111 - val_accuracy: 0.6913\n",
      "Epoch 19/50\n",
      "170/170 [==============================] - 0s 747us/step - loss: 0.8690 - accuracy: 0.7014 - val_loss: 0.9079 - val_accuracy: 0.6908\n",
      "Epoch 20/50\n",
      "170/170 [==============================] - 0s 706us/step - loss: 0.8629 - accuracy: 0.7021 - val_loss: 0.9040 - val_accuracy: 0.6892\n",
      "Epoch 21/50\n",
      "170/170 [==============================] - 0s 715us/step - loss: 0.8578 - accuracy: 0.7064 - val_loss: 0.9008 - val_accuracy: 0.6944\n",
      "Epoch 22/50\n",
      "170/170 [==============================] - 0s 795us/step - loss: 0.8528 - accuracy: 0.7036 - val_loss: 0.8991 - val_accuracy: 0.6913\n",
      "Epoch 23/50\n",
      "170/170 [==============================] - 0s 841us/step - loss: 0.8480 - accuracy: 0.7073 - val_loss: 0.8922 - val_accuracy: 0.6918\n",
      "Epoch 24/50\n",
      "170/170 [==============================] - 0s 824us/step - loss: 0.8437 - accuracy: 0.7077 - val_loss: 0.8954 - val_accuracy: 0.6903\n",
      "Epoch 25/50\n",
      "170/170 [==============================] - 0s 978us/step - loss: 0.8392 - accuracy: 0.7102 - val_loss: 0.8905 - val_accuracy: 0.6898\n",
      "Epoch 26/50\n",
      "170/170 [==============================] - 0s 959us/step - loss: 0.8352 - accuracy: 0.7102 - val_loss: 0.8881 - val_accuracy: 0.6934\n",
      "Epoch 27/50\n",
      "170/170 [==============================] - 0s 876us/step - loss: 0.8314 - accuracy: 0.7112 - val_loss: 0.8854 - val_accuracy: 0.6908\n",
      "Epoch 28/50\n",
      "170/170 [==============================] - 0s 939us/step - loss: 0.8286 - accuracy: 0.7114 - val_loss: 0.8805 - val_accuracy: 0.6949\n",
      "Epoch 29/50\n",
      "170/170 [==============================] - 0s 812us/step - loss: 0.8242 - accuracy: 0.7128 - val_loss: 0.8784 - val_accuracy: 0.6949\n",
      "Epoch 30/50\n",
      "170/170 [==============================] - 0s 806us/step - loss: 0.8218 - accuracy: 0.7145 - val_loss: 0.8781 - val_accuracy: 0.6934\n",
      "Epoch 31/50\n",
      "170/170 [==============================] - 0s 771us/step - loss: 0.8177 - accuracy: 0.7152 - val_loss: 0.8813 - val_accuracy: 0.6903\n",
      "Epoch 32/50\n",
      "170/170 [==============================] - 0s 842us/step - loss: 0.8155 - accuracy: 0.7156 - val_loss: 0.8761 - val_accuracy: 0.6903\n",
      "Epoch 33/50\n",
      "170/170 [==============================] - 0s 682us/step - loss: 0.8119 - accuracy: 0.7152 - val_loss: 0.8718 - val_accuracy: 0.6939\n",
      "Epoch 34/50\n",
      "170/170 [==============================] - 0s 788us/step - loss: 0.8098 - accuracy: 0.7151 - val_loss: 0.8690 - val_accuracy: 0.6960\n",
      "Epoch 35/50\n",
      "170/170 [==============================] - 0s 676us/step - loss: 0.8064 - accuracy: 0.7156 - val_loss: 0.8741 - val_accuracy: 0.6923\n",
      "Epoch 36/50\n",
      "170/170 [==============================] - 0s 768us/step - loss: 0.8034 - accuracy: 0.7186 - val_loss: 0.8667 - val_accuracy: 0.6960\n",
      "Epoch 37/50\n",
      "170/170 [==============================] - 0s 788us/step - loss: 0.8013 - accuracy: 0.7182 - val_loss: 0.8663 - val_accuracy: 0.6960\n",
      "Epoch 38/50\n",
      "170/170 [==============================] - 0s 776us/step - loss: 0.7991 - accuracy: 0.7173 - val_loss: 0.8660 - val_accuracy: 0.6960\n",
      "Epoch 39/50\n",
      "170/170 [==============================] - 0s 753us/step - loss: 0.7961 - accuracy: 0.7182 - val_loss: 0.8646 - val_accuracy: 0.6923\n",
      "Epoch 40/50\n",
      "170/170 [==============================] - 0s 816us/step - loss: 0.7943 - accuracy: 0.7178 - val_loss: 0.8626 - val_accuracy: 0.6908\n",
      "Epoch 41/50\n",
      "170/170 [==============================] - 0s 1ms/step - loss: 0.7918 - accuracy: 0.7191 - val_loss: 0.8604 - val_accuracy: 0.6918\n",
      "Epoch 42/50\n",
      "170/170 [==============================] - 0s 918us/step - loss: 0.7893 - accuracy: 0.7195 - val_loss: 0.8604 - val_accuracy: 0.6913\n",
      "Epoch 43/50\n",
      "170/170 [==============================] - 0s 792us/step - loss: 0.7867 - accuracy: 0.7213 - val_loss: 0.8650 - val_accuracy: 0.6908\n",
      "Epoch 44/50\n",
      "170/170 [==============================] - 0s 806us/step - loss: 0.7848 - accuracy: 0.7237 - val_loss: 0.8597 - val_accuracy: 0.6980\n",
      "Epoch 45/50\n",
      "170/170 [==============================] - 0s 747us/step - loss: 0.7828 - accuracy: 0.7204 - val_loss: 0.8560 - val_accuracy: 0.6980\n",
      "Epoch 46/50\n",
      "170/170 [==============================] - 0s 788us/step - loss: 0.7812 - accuracy: 0.7200 - val_loss: 0.8570 - val_accuracy: 0.6965\n",
      "Epoch 47/50\n",
      "170/170 [==============================] - 0s 769us/step - loss: 0.7786 - accuracy: 0.7228 - val_loss: 0.8570 - val_accuracy: 0.6949\n",
      "Epoch 48/50\n",
      "170/170 [==============================] - 0s 824us/step - loss: 0.7765 - accuracy: 0.7245 - val_loss: 0.8551 - val_accuracy: 0.6986\n",
      "Epoch 49/50\n",
      "170/170 [==============================] - 0s 718us/step - loss: 0.7753 - accuracy: 0.7234 - val_loss: 0.8542 - val_accuracy: 0.6939\n",
      "Epoch 50/50\n",
      "170/170 [==============================] - 0s 709us/step - loss: 0.7732 - accuracy: 0.7241 - val_loss: 0.8579 - val_accuracy: 0.7017\n"
     ]
    }
   ],
   "source": [
    "#Set the epich to 150 because when testing different epochs this was the point before validation loss became eratic\n",
    "ANN_history = ANN_model.fit(X_train, y_train, epochs=50,\n",
    "                    validation_data=(X_valid, y_valid))\n"
   ]
  },
  {
   "cell_type": "code",
   "execution_count": 91,
   "id": "fluid-trick",
   "metadata": {},
   "outputs": [
    {
     "data": {
      "image/png": "[encoded data removed]",
      "text/plain": [
       "<Figure size 576x360 with 1 Axes>"
      ]
     },
     "metadata": {
      "needs_background": "light"
     },
     "output_type": "display_data"
    }
   ],
   "source": [
    "pd.DataFrame(ANN_history.history).plot(figsize=(8, 5))\n",
    "plt.grid(True)\n",
    "plt.gca().set_ylim(0, 1)\n",
    "plt.show()"
   ]
  },
  {
   "cell_type": "code",
   "execution_count": 92,
   "id": "sexual-bikini",
   "metadata": {},
   "outputs": [
    {
     "name": "stdout",
     "output_type": "stream",
     "text": [
      "58/58 [==============================] - 0s 397us/step - loss: 0.8419 - accuracy: 0.7100\n"
     ]
    },
    {
     "data": {
      "text/plain": [
       "[0.8419079299979682, 0.7100108813928183]"
      ]
     },
     "execution_count": 92,
     "metadata": {},
     "output_type": "execute_result"
    }
   ],
   "source": [
    "ANN_model.evaluate(X_test, y_test)"
   ]
  },
  {
   "cell_type": "code",
   "execution_count": 93,
   "id": "standing-morgan",
   "metadata": {},
   "outputs": [
    {
     "data": {
      "text/plain": [
       "array([[0.  , 0.  , 0.03, 0.05, 0.88, 0.  , 0.  , 0.02, 0.  , 0.  , 0.  ,\n",
       "        0.01, 0.  , 0.  , 0.  ],\n",
       "       [0.  , 0.  , 0.01, 0.  , 0.08, 0.  , 0.  , 0.83, 0.08, 0.  , 0.  ,\n",
       "        0.  , 0.  , 0.  , 0.  ],\n",
       "       [0.  , 0.01, 0.01, 0.01, 0.2 , 0.  , 0.  , 0.59, 0.16, 0.  , 0.  ,\n",
       "        0.01, 0.  , 0.  , 0.  ],\n",
       "       [0.06, 0.  , 0.  , 0.  , 0.  , 0.93, 0.  , 0.  , 0.  , 0.  , 0.  ,\n",
       "        0.  , 0.  , 0.  , 0.  ],\n",
       "       [0.  , 0.  , 0.  , 0.94, 0.02, 0.  , 0.  , 0.01, 0.02, 0.  , 0.  ,\n",
       "        0.  , 0.  , 0.  , 0.  ],\n",
       "       [0.  , 0.  , 0.01, 0.  , 0.11, 0.  , 0.  , 0.82, 0.05, 0.  , 0.  ,\n",
       "        0.  , 0.  , 0.  , 0.  ],\n",
       "       [0.  , 0.02, 0.06, 0.12, 0.64, 0.  , 0.  , 0.1 , 0.02, 0.  , 0.  ,\n",
       "        0.03, 0.01, 0.01, 0.  ],\n",
       "       [0.  , 0.  , 0.  , 0.04, 0.01, 0.  , 0.  , 0.3 , 0.65, 0.  , 0.  ,\n",
       "        0.  , 0.01, 0.  , 0.  ],\n",
       "       [0.  , 0.  , 0.02, 0.02, 0.13, 0.  , 0.  , 0.77, 0.05, 0.  , 0.  ,\n",
       "        0.01, 0.  , 0.  , 0.  ],\n",
       "       [0.04, 0.  , 0.01, 0.01, 0.  , 0.93, 0.  , 0.  , 0.  , 0.  , 0.  ,\n",
       "        0.  , 0.  , 0.  , 0.  ]])"
      ]
     },
     "execution_count": 93,
     "metadata": {},
     "output_type": "execute_result"
    }
   ],
   "source": [
    "X_new = X_test[:10]\n",
    "y_proba = ANN_model.predict(X_new)\n",
    "y_proba.round(2)"
   ]
  },
  {
   "cell_type": "code",
   "execution_count": 94,
   "id": "typical-ranch",
   "metadata": {},
   "outputs": [
    {
     "data": {
      "text/plain": [
       "array([4, 7, 7, 5, 3, 7, 4, 8, 7, 5], dtype=int64)"
      ]
     },
     "execution_count": 94,
     "metadata": {},
     "output_type": "execute_result"
    }
   ],
   "source": [
    "#y_pred = model.predict_classes(X_new) # deprecated\n",
    "y_pred = np.argmax(ANN_model.predict(X_new), axis=-1)\n",
    "y_pred"
   ]
  },
  {
   "cell_type": "code",
   "execution_count": 95,
   "id": "personalized-victor",
   "metadata": {
    "scrolled": true
   },
   "outputs": [
    {
     "data": {
      "text/plain": [
       "0    4\n",
       "1    7\n",
       "2    7\n",
       "3    5\n",
       "4    3\n",
       "5    7\n",
       "6    4\n",
       "7    7\n",
       "8    7\n",
       "9    5\n",
       "Name: Description, dtype: int64"
      ]
     },
     "execution_count": 95,
     "metadata": {},
     "output_type": "execute_result"
    }
   ],
   "source": [
    "y_new = y_test[:10]\n",
    "y_new"
   ]
  },
  {
   "cell_type": "markdown",
   "id": "similar-commercial",
   "metadata": {},
   "source": [
    "# Trying it under autokeras"
   ]
  },
  {
   "cell_type": "code",
   "execution_count": 26,
   "id": "critical-effects",
   "metadata": {},
   "outputs": [],
   "source": [
    "keras.backend.clear_session()\n",
    "np.random.seed(42)\n",
    "tf.random.set_seed(42)"
   ]
  },
  {
   "cell_type": "code",
   "execution_count": 28,
   "id": "shaped-investor",
   "metadata": {},
   "outputs": [
    {
     "name": "stdout",
     "output_type": "stream",
     "text": [
      "Trial 15 Complete [00h 00m 06s]\n",
      "val_loss: 0.8834274134766013\n",
      "\n",
      "Best val_loss So Far: 0.877049161147533\n",
      "Total elapsed time: 00h 01m 21s\n",
      "INFO:tensorflow:Oracle triggered exit\n",
      "Epoch 1/10\n",
      "170/170 [==============================] - 0s 3ms/step - loss: 1.3802 - accuracy: 0.5638\n",
      "Epoch 2/10\n",
      "170/170 [==============================] - 0s 2ms/step - loss: 1.0065 - accuracy: 0.6691\n",
      "Epoch 3/10\n",
      "170/170 [==============================] - 0s 3ms/step - loss: 0.9490 - accuracy: 0.6868\n",
      "Epoch 4/10\n",
      "170/170 [==============================] - 0s 3ms/step - loss: 0.9094 - accuracy: 0.6999\n",
      "Epoch 5/10\n",
      "170/170 [==============================] - 0s 3ms/step - loss: 0.8991 - accuracy: 0.6933\n",
      "Epoch 6/10\n",
      "170/170 [==============================] - 0s 3ms/step - loss: 0.8774 - accuracy: 0.6994\n",
      "Epoch 7/10\n",
      "170/170 [==============================] - 0s 3ms/step - loss: 0.8667 - accuracy: 0.7012\n",
      "Epoch 8/10\n",
      "170/170 [==============================] - 0s 3ms/step - loss: 0.8460 - accuracy: 0.7108\n",
      "Epoch 9/10\n",
      "170/170 [==============================] - 0s 3ms/step - loss: 0.8425 - accuracy: 0.7110\n",
      "Epoch 10/10\n",
      "170/170 [==============================] - 0s 3ms/step - loss: 0.8220 - accuracy: 0.7082\n",
      "INFO:tensorflow:Assets written to: .\\auto_model\\best_model\\assets\n"
     ]
    }
   ],
   "source": [
    "input_node = ak.StructuredDataInput()\n",
    "output_node = ak.StructuredDataBlock(categorical_encoding=False)(input_node)\n",
    "output_node = ak.ClassificationHead()(output_node)\n",
    "clf = ak.AutoModel(\n",
    "    inputs=input_node, outputs=output_node, overwrite=True, max_trials=15\n",
    ")\n",
    "clf.fit(X_train, y_train, epochs=10)"
   ]
  },
  {
   "cell_type": "code",
   "execution_count": 29,
   "id": "heard-length",
   "metadata": {},
   "outputs": [],
   "source": [
    "test_loss, test_acc = clf.evaluate(X_test, y_test, verbose=0)"
   ]
  },
  {
   "cell_type": "code",
   "execution_count": 30,
   "id": "protected-distributor",
   "metadata": {},
   "outputs": [
    {
     "name": "stdout",
     "output_type": "stream",
     "text": [
      "Test accuracy:  0.721436343852013\n",
      "Test loss:  0.8000593592085439\n"
     ]
    }
   ],
   "source": [
    "print('Test accuracy: ', test_acc)\n",
    "print('Test loss: ', test_loss)"
   ]
  },
  {
   "cell_type": "code",
   "execution_count": 31,
   "id": "rough-spice",
   "metadata": {},
   "outputs": [
    {
     "name": "stdout",
     "output_type": "stream",
     "text": [
      "Model: \"functional_1\"\n",
      "_________________________________________________________________\n",
      "Layer (type)                 Output Shape              Param #   \n",
      "=================================================================\n",
      "input_1 (InputLayer)         [(None, 41)]              0         \n",
      "_________________________________________________________________\n",
      "dense (Dense)                (None, 512)               21504     \n",
      "_________________________________________________________________\n",
      "re_lu (ReLU)                 (None, 512)               0         \n",
      "_________________________________________________________________\n",
      "dropout (Dropout)            (None, 512)               0         \n",
      "_________________________________________________________________\n",
      "dense_1 (Dense)              (None, 128)               65664     \n",
      "_________________________________________________________________\n",
      "re_lu_1 (ReLU)               (None, 128)               0         \n",
      "_________________________________________________________________\n",
      "dropout_1 (Dropout)          (None, 128)               0         \n",
      "_________________________________________________________________\n",
      "dense_2 (Dense)              (None, 15)                1935      \n",
      "_________________________________________________________________\n",
      "classification_head_1 (Softm (None, 15)                0         \n",
      "=================================================================\n",
      "Total params: 89,103\n",
      "Trainable params: 89,103\n",
      "Non-trainable params: 0\n",
      "_________________________________________________________________\n"
     ]
    }
   ],
   "source": [
    "model = clf.export_model()\n",
    "model.summary()"
   ]
  },
  {
   "cell_type": "code",
   "execution_count": 116,
   "id": "deluxe-albany",
   "metadata": {},
   "outputs": [],
   "source": [
    "Auto_model = keras.models.Sequential([\n",
    "    keras.layers.InputLayer(input_shape=[41]),\n",
    "    keras.layers.Dense(512, activation=\"relu\"),\n",
    "    keras.layers.Dropout(0.5),\n",
    "    keras.layers.Dense(128, activation=\"relu\"),\n",
    "    keras.layers.Dropout(0.2),\n",
    "    keras.layers.Dense(15, activation=\"softmax\")\n",
    "])"
   ]
  },
  {
   "cell_type": "code",
   "execution_count": 117,
   "id": "under-familiar",
   "metadata": {},
   "outputs": [
    {
     "name": "stdout",
     "output_type": "stream",
     "text": [
      "Model: \"sequential_3\"\n",
      "_________________________________________________________________\n",
      "Layer (type)                 Output Shape              Param #   \n",
      "=================================================================\n",
      "dense_9 (Dense)              (None, 512)               21504     \n",
      "_________________________________________________________________\n",
      "dropout_4 (Dropout)          (None, 512)               0         \n",
      "_________________________________________________________________\n",
      "dense_10 (Dense)             (None, 128)               65664     \n",
      "_________________________________________________________________\n",
      "dropout_5 (Dropout)          (None, 128)               0         \n",
      "_________________________________________________________________\n",
      "dense_11 (Dense)             (None, 15)                1935      \n",
      "=================================================================\n",
      "Total params: 89,103\n",
      "Trainable params: 89,103\n",
      "Non-trainable params: 0\n",
      "_________________________________________________________________\n"
     ]
    }
   ],
   "source": [
    "Auto_model.summary()"
   ]
  },
  {
   "cell_type": "code",
   "execution_count": 119,
   "id": "ambient-primary",
   "metadata": {},
   "outputs": [],
   "source": [
    "Auto_model.compile(loss=\"sparse_categorical_crossentropy\",\n",
    "              optimizer= 'sgd',\n",
    "              metrics=[\"accuracy\"])"
   ]
  },
  {
   "cell_type": "code",
   "execution_count": 120,
   "id": "ambient-vegetable",
   "metadata": {},
   "outputs": [
    {
     "name": "stdout",
     "output_type": "stream",
     "text": [
      "Epoch 1/50\n",
      "170/170 [==============================] - 0s 3ms/step - loss: 2.0651 - accuracy: 0.3317 - val_loss: 1.5103 - val_accuracy: 0.5946\n",
      "Epoch 2/50\n",
      "170/170 [==============================] - 0s 2ms/step - loss: 1.3729 - accuracy: 0.5795 - val_loss: 1.1569 - val_accuracy: 0.6598\n",
      "Epoch 3/50\n",
      "170/170 [==============================] - 0s 2ms/step - loss: 1.1492 - accuracy: 0.6428 - val_loss: 1.0421 - val_accuracy: 0.6794\n",
      "Epoch 4/50\n",
      "170/170 [==============================] - 0s 2ms/step - loss: 1.0646 - accuracy: 0.6591 - val_loss: 0.9912 - val_accuracy: 0.6774\n",
      "Epoch 5/50\n",
      "170/170 [==============================] - 0s 2ms/step - loss: 1.0166 - accuracy: 0.6704 - val_loss: 0.9554 - val_accuracy: 0.6846\n",
      "Epoch 6/50\n",
      "170/170 [==============================] - 0s 2ms/step - loss: 0.9818 - accuracy: 0.6790 - val_loss: 0.9337 - val_accuracy: 0.6892\n",
      "Epoch 7/50\n",
      "170/170 [==============================] - 0s 2ms/step - loss: 0.9481 - accuracy: 0.6846 - val_loss: 0.9172 - val_accuracy: 0.6929\n",
      "Epoch 8/50\n",
      "170/170 [==============================] - 0s 2ms/step - loss: 0.9336 - accuracy: 0.6927 - val_loss: 0.9088 - val_accuracy: 0.6923\n",
      "Epoch 9/50\n",
      "170/170 [==============================] - 0s 2ms/step - loss: 0.9223 - accuracy: 0.6873 - val_loss: 0.9025 - val_accuracy: 0.6908\n",
      "Epoch 10/50\n",
      "170/170 [==============================] - 0s 2ms/step - loss: 0.9133 - accuracy: 0.6903 - val_loss: 0.8931 - val_accuracy: 0.6913\n",
      "Epoch 11/50\n",
      "170/170 [==============================] - 0s 2ms/step - loss: 0.8964 - accuracy: 0.6975 - val_loss: 0.8898 - val_accuracy: 0.6960\n",
      "Epoch 12/50\n",
      "170/170 [==============================] - 0s 2ms/step - loss: 0.8881 - accuracy: 0.6997 - val_loss: 0.8856 - val_accuracy: 0.6944\n",
      "Epoch 13/50\n",
      "170/170 [==============================] - 0s 2ms/step - loss: 0.8872 - accuracy: 0.6944 - val_loss: 0.8785 - val_accuracy: 0.6923\n",
      "Epoch 14/50\n",
      "170/170 [==============================] - 0s 2ms/step - loss: 0.8736 - accuracy: 0.7008 - val_loss: 0.8816 - val_accuracy: 0.6970\n",
      "Epoch 15/50\n",
      "170/170 [==============================] - 0s 2ms/step - loss: 0.8748 - accuracy: 0.6971 - val_loss: 0.8729 - val_accuracy: 0.6949\n",
      "Epoch 16/50\n",
      "170/170 [==============================] - 0s 2ms/step - loss: 0.8656 - accuracy: 0.7030 - val_loss: 0.8721 - val_accuracy: 0.6939\n",
      "Epoch 17/50\n",
      "170/170 [==============================] - 0s 3ms/step - loss: 0.8661 - accuracy: 0.6975 - val_loss: 0.8674 - val_accuracy: 0.6944\n",
      "Epoch 18/50\n",
      "170/170 [==============================] - 1s 4ms/step - loss: 0.8502 - accuracy: 0.6994 - val_loss: 0.8654 - val_accuracy: 0.6939\n",
      "Epoch 19/50\n",
      "170/170 [==============================] - 1s 4ms/step - loss: 0.8476 - accuracy: 0.7043 - val_loss: 0.8650 - val_accuracy: 0.6980\n",
      "Epoch 20/50\n",
      "170/170 [==============================] - 1s 3ms/step - loss: 0.8457 - accuracy: 0.7053 - val_loss: 0.8615 - val_accuracy: 0.6975\n",
      "Epoch 21/50\n",
      "170/170 [==============================] - 1s 3ms/step - loss: 0.8445 - accuracy: 0.6995 - val_loss: 0.8602 - val_accuracy: 0.6980\n",
      "Epoch 22/50\n",
      "170/170 [==============================] - 1s 3ms/step - loss: 0.8368 - accuracy: 0.7082 - val_loss: 0.8590 - val_accuracy: 0.6996\n",
      "Epoch 23/50\n",
      "170/170 [==============================] - 1s 3ms/step - loss: 0.8355 - accuracy: 0.7115 - val_loss: 0.8580 - val_accuracy: 0.6954\n",
      "Epoch 24/50\n",
      "170/170 [==============================] - 1s 3ms/step - loss: 0.8327 - accuracy: 0.7086 - val_loss: 0.8580 - val_accuracy: 0.7006\n",
      "Epoch 25/50\n",
      "170/170 [==============================] - 0s 3ms/step - loss: 0.8288 - accuracy: 0.7071 - val_loss: 0.8562 - val_accuracy: 0.7006\n",
      "Epoch 26/50\n",
      "170/170 [==============================] - 0s 3ms/step - loss: 0.8226 - accuracy: 0.7049 - val_loss: 0.8562 - val_accuracy: 0.6991\n",
      "Epoch 27/50\n",
      "170/170 [==============================] - 0s 3ms/step - loss: 0.8116 - accuracy: 0.7088 - val_loss: 0.8539 - val_accuracy: 0.6965\n",
      "Epoch 28/50\n",
      "170/170 [==============================] - 1s 3ms/step - loss: 0.8167 - accuracy: 0.7062 - val_loss: 0.8521 - val_accuracy: 0.7006\n",
      "Epoch 29/50\n",
      "170/170 [==============================] - 1s 4ms/step - loss: 0.8116 - accuracy: 0.7154 - val_loss: 0.8501 - val_accuracy: 0.6965\n",
      "Epoch 30/50\n",
      "170/170 [==============================] - 1s 3ms/step - loss: 0.8138 - accuracy: 0.7101 - val_loss: 0.8510 - val_accuracy: 0.7011\n",
      "Epoch 31/50\n",
      "170/170 [==============================] - 0s 3ms/step - loss: 0.8042 - accuracy: 0.7106 - val_loss: 0.8530 - val_accuracy: 0.7022\n",
      "Epoch 32/50\n",
      "170/170 [==============================] - 0s 3ms/step - loss: 0.7946 - accuracy: 0.7162 - val_loss: 0.8485 - val_accuracy: 0.7027\n",
      "Epoch 33/50\n",
      "170/170 [==============================] - 0s 3ms/step - loss: 0.7956 - accuracy: 0.7165 - val_loss: 0.8487 - val_accuracy: 0.6996\n",
      "Epoch 34/50\n",
      "170/170 [==============================] - 0s 3ms/step - loss: 0.8044 - accuracy: 0.7117 - val_loss: 0.8460 - val_accuracy: 0.7011\n",
      "Epoch 35/50\n",
      "170/170 [==============================] - 0s 3ms/step - loss: 0.8000 - accuracy: 0.7182 - val_loss: 0.8484 - val_accuracy: 0.7042\n",
      "Epoch 36/50\n",
      "170/170 [==============================] - 0s 2ms/step - loss: 0.8013 - accuracy: 0.7176 - val_loss: 0.8466 - val_accuracy: 0.7006\n",
      "Epoch 37/50\n",
      "170/170 [==============================] - 0s 2ms/step - loss: 0.7938 - accuracy: 0.7162 - val_loss: 0.8447 - val_accuracy: 0.6996\n",
      "Epoch 38/50\n",
      "170/170 [==============================] - 0s 3ms/step - loss: 0.7904 - accuracy: 0.7189 - val_loss: 0.8450 - val_accuracy: 0.6996\n",
      "Epoch 39/50\n",
      "170/170 [==============================] - 0s 3ms/step - loss: 0.7861 - accuracy: 0.7163 - val_loss: 0.8447 - val_accuracy: 0.7017\n",
      "Epoch 40/50\n",
      "170/170 [==============================] - 0s 3ms/step - loss: 0.7862 - accuracy: 0.7189 - val_loss: 0.8438 - val_accuracy: 0.7063\n",
      "Epoch 41/50\n",
      "170/170 [==============================] - 0s 3ms/step - loss: 0.7820 - accuracy: 0.7208 - val_loss: 0.8442 - val_accuracy: 0.7001\n",
      "Epoch 42/50\n",
      "170/170 [==============================] - 0s 3ms/step - loss: 0.7822 - accuracy: 0.7138 - val_loss: 0.8426 - val_accuracy: 0.7032\n",
      "Epoch 43/50\n",
      "170/170 [==============================] - 0s 3ms/step - loss: 0.7713 - accuracy: 0.7206 - val_loss: 0.8440 - val_accuracy: 0.7042\n",
      "Epoch 44/50\n",
      "170/170 [==============================] - 0s 3ms/step - loss: 0.7745 - accuracy: 0.7206 - val_loss: 0.8437 - val_accuracy: 0.7037\n",
      "Epoch 45/50\n",
      "170/170 [==============================] - 0s 2ms/step - loss: 0.7687 - accuracy: 0.7223 - val_loss: 0.8428 - val_accuracy: 0.7022\n",
      "Epoch 46/50\n",
      "170/170 [==============================] - 0s 2ms/step - loss: 0.7703 - accuracy: 0.7243 - val_loss: 0.8428 - val_accuracy: 0.7006\n",
      "Epoch 47/50\n",
      "170/170 [==============================] - 0s 3ms/step - loss: 0.7675 - accuracy: 0.7256 - val_loss: 0.8414 - val_accuracy: 0.7022\n",
      "Epoch 48/50\n",
      "170/170 [==============================] - 0s 2ms/step - loss: 0.7663 - accuracy: 0.7235 - val_loss: 0.8415 - val_accuracy: 0.7022\n",
      "Epoch 49/50\n",
      "170/170 [==============================] - 0s 3ms/step - loss: 0.7661 - accuracy: 0.7217 - val_loss: 0.8417 - val_accuracy: 0.7032\n",
      "Epoch 50/50\n",
      "170/170 [==============================] - 0s 3ms/step - loss: 0.7704 - accuracy: 0.7256 - val_loss: 0.8443 - val_accuracy: 0.7032\n"
     ]
    }
   ],
   "source": [
    "Auto_history = Auto_model.fit(X_train, y_train, epochs=50,\n",
    "                    validation_data=(X_valid, y_valid))"
   ]
  },
  {
   "cell_type": "code",
   "execution_count": 121,
   "id": "integrated-adrian",
   "metadata": {},
   "outputs": [
    {
     "data": {
      "image/png": "[encoded data removed]",
      "text/plain": [
       "<Figure size 576x360 with 1 Axes>"
      ]
     },
     "metadata": {
      "needs_background": "light"
     },
     "output_type": "display_data"
    }
   ],
   "source": [
    "pd.DataFrame(Auto_history.history).plot(figsize=(8, 5))\n",
    "plt.grid(True)\n",
    "plt.gca().set_ylim(0, 1)\n",
    "plt.show()"
   ]
  },
  {
   "cell_type": "code",
   "execution_count": 122,
   "id": "interracial-savage",
   "metadata": {},
   "outputs": [
    {
     "name": "stdout",
     "output_type": "stream",
     "text": [
      "58/58 [==============================] - 0s 1ms/step - loss: 0.8098 - accuracy: 0.7122\n"
     ]
    },
    {
     "data": {
      "text/plain": [
       "[0.8097818004812587, 0.7121871599564744]"
      ]
     },
     "execution_count": 122,
     "metadata": {},
     "output_type": "execute_result"
    }
   ],
   "source": [
    "Auto_model.evaluate(X_test, y_test)"
   ]
  },
  {
   "cell_type": "code",
   "execution_count": 113,
   "id": "fancy-roommate",
   "metadata": {},
   "outputs": [],
   "source": [
    "X_new = X_test[:10]\n",
    "y_proba = Auto_model.predict(X_new)"
   ]
  },
  {
   "cell_type": "code",
   "execution_count": 114,
   "id": "altered-carry",
   "metadata": {},
   "outputs": [
    {
     "data": {
      "text/plain": [
       "array([4, 7, 7, 5, 3, 7, 4, 8, 7, 5], dtype=int64)"
      ]
     },
     "execution_count": 114,
     "metadata": {},
     "output_type": "execute_result"
    }
   ],
   "source": [
    "#y_pred = model.predict_classes(X_new) # deprecated\n",
    "y_pred = np.argmax(Auto_model.predict(X_new), axis=-1)\n",
    "y_pred"
   ]
  },
  {
   "cell_type": "code",
   "execution_count": 115,
   "id": "bizarre-commission",
   "metadata": {
    "scrolled": true
   },
   "outputs": [
    {
     "data": {
      "text/plain": [
       "0    4\n",
       "1    7\n",
       "2    7\n",
       "3    5\n",
       "4    3\n",
       "5    7\n",
       "6    4\n",
       "7    7\n",
       "8    7\n",
       "9    5\n",
       "Name: Description, dtype: int64"
      ]
     },
     "execution_count": 115,
     "metadata": {},
     "output_type": "execute_result"
    }
   ],
   "source": [
    "y_new = y_test[:10]\n",
    "y_new"
   ]
  },
  {
   "cell_type": "markdown",
   "id": "convinced-liverpool",
   "metadata": {},
   "source": [
    "# Trying to improve for accuracy with custom activation fucntion"
   ]
  },
  {
   "cell_type": "code",
   "execution_count": 123,
   "id": "contrary-improvement",
   "metadata": {},
   "outputs": [],
   "source": [
    "keras.backend.clear_session()\n",
    "np.random.seed(42)\n",
    "tf.random.set_seed(42)"
   ]
  },
  {
   "cell_type": "markdown",
   "id": "colored-cameroon",
   "metadata": {},
   "source": [
    "## Custom Activation Function\n",
    "--- "
   ]
  },
  {
   "cell_type": "code",
   "execution_count": 124,
   "id": "boxed-talent",
   "metadata": {},
   "outputs": [],
   "source": [
    "from keras import backend as K\n",
    "\n",
    "def my_swish(z, beta=1.0):\n",
    "    return z * tf.math.sigmoid(beta * z)"
   ]
  },
  {
   "cell_type": "code",
   "execution_count": 125,
   "id": "ranging-kinase",
   "metadata": {},
   "outputs": [],
   "source": [
    "from keras.utils.generic_utils import get_custom_objects\n",
    "from keras.layers import Activation\n",
    "get_custom_objects().update({'my_swish': Activation(my_swish)})"
   ]
  },
  {
   "cell_type": "code",
   "execution_count": 128,
   "id": "found-joseph",
   "metadata": {},
   "outputs": [],
   "source": [
    "swish_model = keras.models.Sequential([\n",
    "    keras.layers.InputLayer(input_shape=[41]),\n",
    "    keras.layers.Dense(512, activation=\"my_swish\"),\n",
    "    keras.layers.Dropout(0.42),\n",
    "    keras.layers.Dense(128, activation=\"my_swish\"),\n",
    "    keras.layers.Dropout(0.15),\n",
    "    keras.layers.Dense(15, activation=\"softmax\")\n",
    "])"
   ]
  },
  {
   "cell_type": "code",
   "execution_count": 129,
   "id": "humanitarian-diamond",
   "metadata": {},
   "outputs": [
    {
     "name": "stdout",
     "output_type": "stream",
     "text": [
      "Model: \"sequential_1\"\n",
      "_________________________________________________________________\n",
      "Layer (type)                 Output Shape              Param #   \n",
      "=================================================================\n",
      "dense_3 (Dense)              (None, 512)               21504     \n",
      "_________________________________________________________________\n",
      "dropout_2 (Dropout)          (None, 512)               0         \n",
      "_________________________________________________________________\n",
      "dense_4 (Dense)              (None, 128)               65664     \n",
      "_________________________________________________________________\n",
      "dropout_3 (Dropout)          (None, 128)               0         \n",
      "_________________________________________________________________\n",
      "dense_5 (Dense)              (None, 15)                1935      \n",
      "=================================================================\n",
      "Total params: 89,103\n",
      "Trainable params: 89,103\n",
      "Non-trainable params: 0\n",
      "_________________________________________________________________\n"
     ]
    }
   ],
   "source": [
    "swish_model.summary()"
   ]
  },
  {
   "cell_type": "code",
   "execution_count": 130,
   "id": "flush-invitation",
   "metadata": {},
   "outputs": [],
   "source": [
    "swish_model.compile(loss=\"sparse_categorical_crossentropy\",\n",
    "              optimizer=\"sgd\",\n",
    "              metrics=[\"accuracy\"])"
   ]
  },
  {
   "cell_type": "code",
   "execution_count": 131,
   "id": "imported-gentleman",
   "metadata": {},
   "outputs": [
    {
     "name": "stdout",
     "output_type": "stream",
     "text": [
      "Epoch 1/50\n",
      "170/170 [==============================] - 0s 3ms/step - loss: 2.3773 - accuracy: 0.3453 - val_loss: 2.0323 - val_accuracy: 0.5326\n",
      "Epoch 2/50\n",
      "170/170 [==============================] - 0s 2ms/step - loss: 1.7538 - accuracy: 0.5564 - val_loss: 1.5034 - val_accuracy: 0.6044\n",
      "Epoch 3/50\n",
      "170/170 [==============================] - 0s 2ms/step - loss: 1.3583 - accuracy: 0.6299 - val_loss: 1.2269 - val_accuracy: 0.6556\n",
      "Epoch 4/50\n",
      "170/170 [==============================] - 0s 3ms/step - loss: 1.1598 - accuracy: 0.6571 - val_loss: 1.0947 - val_accuracy: 0.6686\n",
      "Epoch 5/50\n",
      "170/170 [==============================] - 0s 2ms/step - loss: 1.0666 - accuracy: 0.6757 - val_loss: 1.0297 - val_accuracy: 0.6799\n",
      "Epoch 6/50\n",
      "170/170 [==============================] - 0s 2ms/step - loss: 1.0146 - accuracy: 0.6759 - val_loss: 0.9922 - val_accuracy: 0.6805\n",
      "Epoch 7/50\n",
      "170/170 [==============================] - 0s 2ms/step - loss: 0.9771 - accuracy: 0.6838 - val_loss: 0.9685 - val_accuracy: 0.6903\n",
      "Epoch 8/50\n",
      "170/170 [==============================] - 0s 2ms/step - loss: 0.9584 - accuracy: 0.6855 - val_loss: 0.9523 - val_accuracy: 0.6892\n",
      "Epoch 9/50\n",
      "170/170 [==============================] - 0s 2ms/step - loss: 0.9452 - accuracy: 0.6909 - val_loss: 0.9392 - val_accuracy: 0.6908\n",
      "Epoch 10/50\n",
      "170/170 [==============================] - 0s 2ms/step - loss: 0.9365 - accuracy: 0.6916 - val_loss: 0.9286 - val_accuracy: 0.6929\n",
      "Epoch 11/50\n",
      "170/170 [==============================] - 0s 2ms/step - loss: 0.9218 - accuracy: 0.6890 - val_loss: 0.9211 - val_accuracy: 0.6918\n",
      "Epoch 12/50\n",
      "170/170 [==============================] - 0s 2ms/step - loss: 0.9205 - accuracy: 0.6883 - val_loss: 0.9143 - val_accuracy: 0.6913\n",
      "Epoch 13/50\n",
      "170/170 [==============================] - 0s 3ms/step - loss: 0.9096 - accuracy: 0.6990 - val_loss: 0.9085 - val_accuracy: 0.6913\n",
      "Epoch 14/50\n",
      "170/170 [==============================] - 0s 3ms/step - loss: 0.8973 - accuracy: 0.6988 - val_loss: 0.9051 - val_accuracy: 0.6913\n",
      "Epoch 15/50\n",
      "170/170 [==============================] - 0s 2ms/step - loss: 0.8949 - accuracy: 0.6995 - val_loss: 0.9002 - val_accuracy: 0.6892\n",
      "Epoch 16/50\n",
      "170/170 [==============================] - 0s 2ms/step - loss: 0.8905 - accuracy: 0.6975 - val_loss: 0.8976 - val_accuracy: 0.6913\n",
      "Epoch 17/50\n",
      "170/170 [==============================] - 0s 3ms/step - loss: 0.8822 - accuracy: 0.6955 - val_loss: 0.8938 - val_accuracy: 0.6908\n",
      "Epoch 18/50\n",
      "170/170 [==============================] - 0s 3ms/step - loss: 0.8846 - accuracy: 0.6940 - val_loss: 0.8902 - val_accuracy: 0.6929\n",
      "Epoch 19/50\n",
      "170/170 [==============================] - 0s 2ms/step - loss: 0.8751 - accuracy: 0.6953 - val_loss: 0.8889 - val_accuracy: 0.6898\n",
      "Epoch 20/50\n",
      "170/170 [==============================] - 0s 2ms/step - loss: 0.8726 - accuracy: 0.6977 - val_loss: 0.8867 - val_accuracy: 0.6918\n",
      "Epoch 21/50\n",
      "170/170 [==============================] - 0s 2ms/step - loss: 0.8762 - accuracy: 0.6944 - val_loss: 0.8840 - val_accuracy: 0.6923\n",
      "Epoch 22/50\n",
      "170/170 [==============================] - 0s 3ms/step - loss: 0.8617 - accuracy: 0.7005 - val_loss: 0.8819 - val_accuracy: 0.6934\n",
      "Epoch 23/50\n",
      "170/170 [==============================] - 0s 2ms/step - loss: 0.8699 - accuracy: 0.7016 - val_loss: 0.8794 - val_accuracy: 0.6949\n",
      "Epoch 24/50\n",
      "170/170 [==============================] - 0s 2ms/step - loss: 0.8680 - accuracy: 0.7008 - val_loss: 0.8789 - val_accuracy: 0.6944\n",
      "Epoch 25/50\n",
      "170/170 [==============================] - 0s 3ms/step - loss: 0.8592 - accuracy: 0.7032 - val_loss: 0.8783 - val_accuracy: 0.6934\n",
      "Epoch 26/50\n",
      "170/170 [==============================] - 0s 2ms/step - loss: 0.8555 - accuracy: 0.7003 - val_loss: 0.8776 - val_accuracy: 0.6934\n",
      "Epoch 27/50\n",
      "170/170 [==============================] - 0s 3ms/step - loss: 0.8512 - accuracy: 0.7043 - val_loss: 0.8754 - val_accuracy: 0.6944\n",
      "Epoch 28/50\n",
      "170/170 [==============================] - 0s 2ms/step - loss: 0.8547 - accuracy: 0.7005 - val_loss: 0.8737 - val_accuracy: 0.6949\n",
      "Epoch 29/50\n",
      "170/170 [==============================] - 0s 3ms/step - loss: 0.8549 - accuracy: 0.7051 - val_loss: 0.8721 - val_accuracy: 0.6954\n",
      "Epoch 30/50\n",
      "170/170 [==============================] - 1s 3ms/step - loss: 0.8523 - accuracy: 0.6971 - val_loss: 0.8720 - val_accuracy: 0.6949\n",
      "Epoch 31/50\n",
      "170/170 [==============================] - 1s 3ms/step - loss: 0.8440 - accuracy: 0.7012 - val_loss: 0.8724 - val_accuracy: 0.6980\n",
      "Epoch 32/50\n",
      "170/170 [==============================] - 1s 4ms/step - loss: 0.8477 - accuracy: 0.7021 - val_loss: 0.8707 - val_accuracy: 0.6965\n",
      "Epoch 33/50\n",
      "170/170 [==============================] - 1s 3ms/step - loss: 0.8441 - accuracy: 0.7060 - val_loss: 0.8698 - val_accuracy: 0.6949\n",
      "Epoch 34/50\n",
      "170/170 [==============================] - 0s 3ms/step - loss: 0.8477 - accuracy: 0.7038 - val_loss: 0.8682 - val_accuracy: 0.6954\n",
      "Epoch 35/50\n",
      "170/170 [==============================] - 0s 3ms/step - loss: 0.8412 - accuracy: 0.7016 - val_loss: 0.8687 - val_accuracy: 0.6949\n",
      "Epoch 36/50\n",
      "170/170 [==============================] - 1s 3ms/step - loss: 0.8405 - accuracy: 0.7010 - val_loss: 0.8670 - val_accuracy: 0.6960\n",
      "Epoch 37/50\n",
      "170/170 [==============================] - 1s 3ms/step - loss: 0.8382 - accuracy: 0.7056 - val_loss: 0.8665 - val_accuracy: 0.6949\n",
      "Epoch 38/50\n",
      "170/170 [==============================] - 0s 3ms/step - loss: 0.8335 - accuracy: 0.7058 - val_loss: 0.8662 - val_accuracy: 0.6949\n",
      "Epoch 39/50\n",
      "170/170 [==============================] - 1s 3ms/step - loss: 0.8312 - accuracy: 0.7053 - val_loss: 0.8650 - val_accuracy: 0.6960\n",
      "Epoch 40/50\n",
      "170/170 [==============================] - 1s 4ms/step - loss: 0.8278 - accuracy: 0.7058 - val_loss: 0.8639 - val_accuracy: 0.6970\n",
      "Epoch 41/50\n",
      "170/170 [==============================] - 1s 3ms/step - loss: 0.8381 - accuracy: 0.7034 - val_loss: 0.8632 - val_accuracy: 0.6960\n",
      "Epoch 42/50\n",
      "170/170 [==============================] - 0s 3ms/step - loss: 0.8323 - accuracy: 0.7043 - val_loss: 0.8627 - val_accuracy: 0.6954\n",
      "Epoch 43/50\n",
      "170/170 [==============================] - 1s 3ms/step - loss: 0.8264 - accuracy: 0.7066 - val_loss: 0.8640 - val_accuracy: 0.6970\n",
      "Epoch 44/50\n",
      "170/170 [==============================] - 0s 3ms/step - loss: 0.8225 - accuracy: 0.7066 - val_loss: 0.8630 - val_accuracy: 0.6975\n",
      "Epoch 45/50\n",
      "170/170 [==============================] - 0s 3ms/step - loss: 0.8241 - accuracy: 0.7067 - val_loss: 0.8618 - val_accuracy: 0.6934\n",
      "Epoch 46/50\n",
      "170/170 [==============================] - 0s 3ms/step - loss: 0.8259 - accuracy: 0.7127 - val_loss: 0.8616 - val_accuracy: 0.6965\n",
      "Epoch 47/50\n",
      "170/170 [==============================] - 0s 3ms/step - loss: 0.8250 - accuracy: 0.7056 - val_loss: 0.8617 - val_accuracy: 0.6965\n",
      "Epoch 48/50\n",
      "170/170 [==============================] - 1s 3ms/step - loss: 0.8234 - accuracy: 0.7090 - val_loss: 0.8617 - val_accuracy: 0.6954\n",
      "Epoch 49/50\n",
      "170/170 [==============================] - 0s 3ms/step - loss: 0.8223 - accuracy: 0.7077 - val_loss: 0.8602 - val_accuracy: 0.6949\n",
      "Epoch 50/50\n",
      "170/170 [==============================] - 0s 3ms/step - loss: 0.8250 - accuracy: 0.7060 - val_loss: 0.8607 - val_accuracy: 0.6939\n"
     ]
    }
   ],
   "source": [
    "#Set the epich to 150 because when testing different epochs this was the point before validation loss became eratic\n",
    "swish_history = swish_model.fit(X_train, y_train, epochs=50,\n",
    "                    validation_data=(X_valid, y_valid))"
   ]
  },
  {
   "cell_type": "code",
   "execution_count": 132,
   "id": "unnecessary-reality",
   "metadata": {},
   "outputs": [
    {
     "data": {
      "image/png": "[encoded data removed]",
      "text/plain": [
       "<Figure size 576x360 with 1 Axes>"
      ]
     },
     "metadata": {
      "needs_background": "light"
     },
     "output_type": "display_data"
    }
   ],
   "source": [
    "pd.DataFrame(swish_history.history).plot(figsize=(8, 5))\n",
    "plt.grid(True)\n",
    "plt.gca().set_ylim(0, 1)\n",
    "plt.show()"
   ]
  },
  {
   "cell_type": "code",
   "execution_count": 133,
   "id": "conceptual-child",
   "metadata": {},
   "outputs": [
    {
     "name": "stdout",
     "output_type": "stream",
     "text": [
      "58/58 [==============================] - 0s 948us/step - loss: 0.8183 - accuracy: 0.7138\n"
     ]
    },
    {
     "data": {
      "text/plain": [
       "[0.8182927177442689, 0.7138193688792165]"
      ]
     },
     "execution_count": 133,
     "metadata": {},
     "output_type": "execute_result"
    }
   ],
   "source": [
    "swish_model.evaluate(X_test, y_test)"
   ]
  },
  {
   "cell_type": "code",
   "execution_count": 134,
   "id": "seasonal-specific",
   "metadata": {},
   "outputs": [
    {
     "name": "stdout",
     "output_type": "stream",
     "text": [
      "WARNING:tensorflow:5 out of the last 9 calls to <function Model.make_predict_function.<locals>.predict_function at 0x000001D43E2E8C10> triggered tf.function retracing. Tracing is expensive and the excessive number of tracings could be due to (1) creating @tf.function repeatedly in a loop, (2) passing tensors with different shapes, (3) passing Python objects instead of tensors. For (1), please define your @tf.function outside of the loop. For (2), @tf.function has experimental_relax_shapes=True option that relaxes argument shapes that can avoid unnecessary retracing. For (3), please refer to https://www.tensorflow.org/tutorials/customization/performance#python_or_tensor_args and https://www.tensorflow.org/api_docs/python/tf/function for  more details.\n"
     ]
    }
   ],
   "source": [
    "X_new = X_test[:10]\n",
    "y_proba = swish_model.predict(X_new)"
   ]
  },
  {
   "cell_type": "code",
   "execution_count": 135,
   "id": "friendly-engineering",
   "metadata": {},
   "outputs": [
    {
     "data": {
      "text/plain": [
       "array([4, 7, 7, 5, 3, 7, 4, 8, 7, 5], dtype=int64)"
      ]
     },
     "execution_count": 135,
     "metadata": {},
     "output_type": "execute_result"
    }
   ],
   "source": [
    "#y_pred = model.predict_classes(X_new) # deprecated\n",
    "y_pred = np.argmax(swish_model.predict(X_new), axis=-1)\n",
    "y_pred"
   ]
  },
  {
   "cell_type": "code",
   "execution_count": 136,
   "id": "reliable-relationship",
   "metadata": {
    "scrolled": true
   },
   "outputs": [
    {
     "data": {
      "text/plain": [
       "0    4\n",
       "1    7\n",
       "2    7\n",
       "3    5\n",
       "4    3\n",
       "5    7\n",
       "6    4\n",
       "7    7\n",
       "8    7\n",
       "9    5\n",
       "Name: Description, dtype: int64"
      ]
     },
     "execution_count": 136,
     "metadata": {},
     "output_type": "execute_result"
    }
   ],
   "source": [
    "y_new = y_test[:10]\n",
    "y_new"
   ]
  },
  {
   "cell_type": "code",
   "execution_count": 139,
   "id": "opponent-retrieval",
   "metadata": {},
   "outputs": [
    {
     "data": {
      "text/plain": [
       "<matplotlib.legend.Legend at 0x1d43d0504f0>"
      ]
     },
     "execution_count": 139,
     "metadata": {},
     "output_type": "execute_result"
    },
    {
     "data": {
      "image/png": "[encoded data removed]",
      "text/plain": [
       "<Figure size 432x288 with 1 Axes>"
      ]
     },
     "metadata": {
      "needs_background": "light"
     },
     "output_type": "display_data"
    }
   ],
   "source": [
    "# summarize history for loss\n",
    "plt.plot(ANN_history.history['val_loss'])\n",
    "plt.plot(swish_history.history['val_loss'])\n",
    "plt.plot(Auto_history.history['val_loss'])\n",
    "plt.title('TRUE model loss')\n",
    "plt.ylabel('loss')\n",
    "plt.xlabel('epoch')\n",
    "plt.legend(['ANN Model', 'Custom Model', 'AutoKeras Model'], loc='upper right')"
   ]
  },
  {
   "cell_type": "code",
   "execution_count": 141,
   "id": "capital-calvin",
   "metadata": {},
   "outputs": [
    {
     "data": {
      "text/plain": [
       "<matplotlib.legend.Legend at 0x1d43e315640>"
      ]
     },
     "execution_count": 141,
     "metadata": {},
     "output_type": "execute_result"
    },
    {
     "data": {
      "image/png": "[encoded data removed]",
      "text/plain": [
       "<Figure size 432x288 with 1 Axes>"
      ]
     },
     "metadata": {
      "needs_background": "light"
     },
     "output_type": "display_data"
    }
   ],
   "source": [
    "# summarize history for accuracy\n",
    "plt.plot(ANN_history.history['val_accuracy'])\n",
    "plt.plot(swish_history.history['val_accuracy'])\n",
    "plt.plot(Auto_history.history['val_accuracy'])\n",
    "plt.title('TRUE model accuracy')\n",
    "plt.ylabel('accuracy')\n",
    "plt.xlabel('epoch')\n",
    "plt.legend(['ANN Model', 'Custom Model', 'AutoKeras Model'], loc='lower right')"
   ]
  },
  {
   "cell_type": "code",
   "execution_count": null,
   "id": "ultimate-settle",
   "metadata": {},
   "outputs": [],
   "source": []
  }
 ],
 "metadata": {
  "kernelspec": {
   "display_name": "Python 3",
   "language": "python",
   "name": "python3"
  },
  "language_info": {
   "codemirror_mode": {
    "name": "ipython",
    "version": 3
   },
   "file_extension": ".py",
   "mimetype": "text/x-python",
   "name": "python",
   "nbconvert_exporter": "python",
   "pygments_lexer": "ipython3",
   "version": "3.8.5"
  }
 },
 "nbformat": 4,
 "nbformat_minor": 5
}
