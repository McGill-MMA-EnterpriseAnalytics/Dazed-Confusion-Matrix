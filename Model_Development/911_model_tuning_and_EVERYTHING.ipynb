{
 "cells": [
  {
   "cell_type": "code",
   "execution_count": 1,
   "metadata": {
    "collapsed": true
   },
   "outputs": [],
   "source": [
    "import pandas as pd\n",
    "import numpy as np\n",
    "import lightgbm as lgb\n",
    "import miceforest as mf"
   ]
  },
  {
   "cell_type": "code",
   "execution_count": 3,
   "outputs": [],
   "source": [
    "df = pd.read_csv(\"../data/crimes_with_calls_2015_unique_demographics.csv\")"
   ],
   "metadata": {
    "collapsed": false,
    "pycharm": {
     "name": "#%%\n"
    }
   }
  },
  {
   "cell_type": "code",
   "execution_count": 4,
   "outputs": [
    {
     "data": {
      "text/plain": "Index(['Unnamed: 0', 'Unnamed: 0.1', 'CrimeDate', 'CrimeTime', 'CrimeCode',\n       'Location', 'Description', 'Inside/Outside', 'Weapon', 'Post',\n       'District', 'Neighborhood', 'Longitude', 'Latitude', 'Location 1',\n       'Premise', 'Total Incidents', 'CrimeId', 'callDateTime', 'Priority',\n       'CallDescription', 'CallId', 'Year', 'CSA', 'median_household_income',\n       'households_below_poverty', 'perc18_24', 'perc25_64', 'perc65up',\n       'perc_asian', 'perc_aa', 'perc_hisp', 'perc_white',\n       'median_price_homes_sold', 'racial_diversity_index', 'num_households'],\n      dtype='object')"
     },
     "execution_count": 4,
     "metadata": {},
     "output_type": "execute_result"
    }
   ],
   "source": [
    "df.columns"
   ],
   "metadata": {
    "collapsed": false,
    "pycharm": {
     "name": "#%%\n"
    }
   }
  },
  {
   "cell_type": "code",
   "execution_count": 5,
   "outputs": [],
   "source": [
    "df = df.drop(columns=[\"Unnamed: 0\", \"Unnamed: 0.1\",\"Location\",\"Location 1\"])"
   ],
   "metadata": {
    "collapsed": false,
    "pycharm": {
     "name": "#%%\n"
    }
   }
  },
  {
   "cell_type": "markdown",
   "source": [
    "Let's do some transformations first, so we don't have to do them twice for the test data."
   ],
   "metadata": {
    "collapsed": false,
    "pycharm": {
     "name": "#%% md\n"
    }
   }
  },
  {
   "cell_type": "code",
   "execution_count": 6,
   "outputs": [],
   "source": [
    "df['Neighborhood'] = df['Neighborhood'].replace('Patterson Park Neighborho', 'Patterson Park')\n",
    "df.CrimeDate = pd.to_datetime(df.CrimeDate)\n",
    "df['Month'] = df.CrimeDate.dt.month\n",
    "df['CrimeTime'] = [time if time != \"24:00:00\" else \"0:00:00\" for time in df['CrimeTime']]\n",
    "df.CrimeTime = pd.to_datetime(df['CrimeTime'],format= '%H:%M:%S').dt.time\n",
    "df['crime_hour'] = [int(str(time)[:2]) for time in df.CrimeTime]\n",
    "df[\"Year\"] = df[\"CrimeDate\"].dt.year\n",
    "df['Inside/Outside'] = df['Inside/Outside'].str.upper()\n",
    "df['Inside/Outside'] = df['Inside/Outside'].replace('I', 'INSIDE')\n",
    "df['Inside/Outside'] = df['Inside/Outside'].replace('O', 'OUTSIDE')\n",
    "df = pd.get_dummies(df, columns=[\"Inside/Outside\"],drop_first=True)\n",
    "df = df.rename(columns={\"Inside/Outside_OUTSIDE\":\"Outside\"})\n",
    "df['Weapon'] = df['Weapon'].fillna('NONE')\n",
    "df = pd.get_dummies(df, columns=[\"Weapon\"])\n",
    "df['Description'] = df['Description'].replace('RAPE', 'SEXUAL ASSAULT')\n",
    "date = df.CrimeDate.dt.month*100 + df.CrimeDate.dt.day\n",
    "df['Season'] = (pd.cut(date,[0,321,620,922,1220,1300],\n",
    "                       labels=['winter','spring','summer','autumn','winter '])\n",
    "                  .str.strip()\n",
    "               )"
   ],
   "metadata": {
    "collapsed": false,
    "pycharm": {
     "name": "#%%\n"
    }
   }
  },
  {
   "cell_type": "markdown",
   "source": [
    "let's add another column for the call hour\n"
   ],
   "metadata": {
    "collapsed": false,
    "pycharm": {
     "name": "#%% md\n"
    }
   }
  },
  {
   "cell_type": "code",
   "execution_count": 7,
   "outputs": [],
   "source": [
    "import datetime\n",
    "df['callDateTime'] = [datetime.datetime.strptime(d, \"%Y-%m-%d %H:%M:%S\") for d in df[\"callDateTime\"]]\n",
    "\n"
   ],
   "metadata": {
    "collapsed": false,
    "pycharm": {
     "name": "#%%\n"
    }
   }
  },
  {
   "cell_type": "code",
   "execution_count": 8,
   "outputs": [],
   "source": [
    "df['calltime'] = [datetime.datetime.time(d) for d in df['callDateTime']]"
   ],
   "metadata": {
    "collapsed": false,
    "pycharm": {
     "name": "#%%\n"
    }
   }
  },
  {
   "cell_type": "code",
   "execution_count": 9,
   "outputs": [],
   "source": [
    "df['calltime'] = [time if time != \"24:00:00\" else \"0:00:00\" for time in df['calltime']]\n",
    "df.callDateTime = pd.to_datetime(df['callDateTime'],format= '%H:%M:%S').dt.time\n",
    "df['call_hour'] = [int(str(time)[:2]) for time in df.callDateTime]\n"
   ],
   "metadata": {
    "collapsed": false,
    "pycharm": {
     "name": "#%%\n"
    }
   }
  },
  {
   "cell_type": "code",
   "execution_count": 107,
   "outputs": [
    {
     "data": {
      "text/plain": "0     7\n1    18\n2     8\n3    20\n4    12\n5    20\n6    20\n7    22\n8    11\n9    18\nName: call_hour, dtype: int64"
     },
     "execution_count": 107,
     "metadata": {},
     "output_type": "execute_result"
    }
   ],
   "source": [
    "df[\"call_hour\"].head(10)"
   ],
   "metadata": {
    "collapsed": false,
    "pycharm": {
     "name": "#%%\n"
    }
   }
  },
  {
   "cell_type": "code",
   "execution_count": 108,
   "outputs": [
    {
     "data": {
      "text/plain": "Index(['CrimeDate', 'CrimeTime', 'CrimeCode', 'Description', 'Post',\n       'District', 'Neighborhood', 'Longitude', 'Latitude', 'Premise',\n       'Total Incidents', 'CrimeId', 'callDateTime', 'Priority',\n       'CallDescription', 'CallId', 'Year', 'CSA', 'median_household_income',\n       'households_below_poverty', 'perc18_24', 'perc25_64', 'perc65up',\n       'perc_asian', 'perc_aa', 'perc_hisp', 'perc_white',\n       'median_price_homes_sold', 'racial_diversity_index', 'num_households',\n       'Month', 'crime_hour', 'Outside', 'Weapon_FIREARM', 'Weapon_HANDS',\n       'Weapon_KNIFE', 'Weapon_NONE', 'Weapon_OTHER', 'Season', 'calltime',\n       'call_hour'],\n      dtype='object')"
     },
     "execution_count": 108,
     "metadata": {},
     "output_type": "execute_result"
    }
   ],
   "source": [
    "df.columns"
   ],
   "metadata": {
    "collapsed": false,
    "pycharm": {
     "name": "#%%\n"
    }
   }
  },
  {
   "cell_type": "code",
   "execution_count": 10,
   "outputs": [],
   "source": [
    "df = df.drop(columns=[\"calltime\"])"
   ],
   "metadata": {
    "collapsed": false,
    "pycharm": {
     "name": "#%%\n"
    }
   }
  },
  {
   "cell_type": "code",
   "execution_count": 11,
   "outputs": [],
   "source": [
    "df = pd.get_dummies(df, columns=[\"Season\"])\n"
   ],
   "metadata": {
    "collapsed": false,
    "pycharm": {
     "name": "#%%\n"
    }
   }
  },
  {
   "cell_type": "code",
   "execution_count": 12,
   "outputs": [],
   "source": [
    "df = df.drop(columns=[\"CSA\"])\n"
   ],
   "metadata": {
    "collapsed": false,
    "pycharm": {
     "name": "#%%\n"
    }
   }
  },
  {
   "cell_type": "code",
   "execution_count": 112,
   "outputs": [
    {
     "name": "stdout",
     "output_type": "stream",
     "text": [
      "<class 'pandas.core.frame.DataFrame'>\n",
      "RangeIndex: 9275 entries, 0 to 9274\n",
      "Data columns (total 42 columns):\n",
      " #   Column                    Non-Null Count  Dtype         \n",
      "---  ------                    --------------  -----         \n",
      " 0   CrimeDate                 9275 non-null   datetime64[ns]\n",
      " 1   CrimeTime                 9275 non-null   object        \n",
      " 2   CrimeCode                 9275 non-null   object        \n",
      " 3   Description               9275 non-null   object        \n",
      " 4   Post                      9275 non-null   float64       \n",
      " 5   District                  9275 non-null   object        \n",
      " 6   Neighborhood              9275 non-null   object        \n",
      " 7   Longitude                 9275 non-null   float64       \n",
      " 8   Latitude                  9275 non-null   float64       \n",
      " 9   Premise                   9188 non-null   object        \n",
      " 10  Total Incidents           9275 non-null   int64         \n",
      " 11  CrimeId                   9275 non-null   int64         \n",
      " 12  callDateTime              9275 non-null   object        \n",
      " 13  Priority                  9206 non-null   object        \n",
      " 14  CallDescription           9275 non-null   object        \n",
      " 15  CallId                    0 non-null      float64       \n",
      " 16  Year                      9275 non-null   int64         \n",
      " 17  median_household_income   8579 non-null   float64       \n",
      " 18  households_below_poverty  8579 non-null   float64       \n",
      " 19  perc18_24                 8579 non-null   float64       \n",
      " 20  perc25_64                 8579 non-null   float64       \n",
      " 21  perc65up                  8579 non-null   float64       \n",
      " 22  perc_asian                8579 non-null   float64       \n",
      " 23  perc_aa                   8579 non-null   float64       \n",
      " 24  perc_hisp                 8579 non-null   float64       \n",
      " 25  perc_white                8579 non-null   float64       \n",
      " 26  median_price_homes_sold   8579 non-null   float64       \n",
      " 27  racial_diversity_index    8579 non-null   float64       \n",
      " 28  num_households            8579 non-null   float64       \n",
      " 29  Month                     9275 non-null   int64         \n",
      " 30  crime_hour                9275 non-null   int64         \n",
      " 31  Outside                   9275 non-null   uint8         \n",
      " 32  Weapon_FIREARM            9275 non-null   uint8         \n",
      " 33  Weapon_HANDS              9275 non-null   uint8         \n",
      " 34  Weapon_KNIFE              9275 non-null   uint8         \n",
      " 35  Weapon_NONE               9275 non-null   uint8         \n",
      " 36  Weapon_OTHER              9275 non-null   uint8         \n",
      " 37  call_hour                 9275 non-null   int64         \n",
      " 38  Season_autumn             9275 non-null   uint8         \n",
      " 39  Season_spring             9275 non-null   uint8         \n",
      " 40  Season_summer             9275 non-null   uint8         \n",
      " 41  Season_winter             9275 non-null   uint8         \n",
      "dtypes: datetime64[ns](1), float64(16), int64(6), object(9), uint8(10)\n",
      "memory usage: 2.4+ MB\n"
     ]
    }
   ],
   "source": [
    "df.info()"
   ],
   "metadata": {
    "collapsed": false,
    "pycharm": {
     "name": "#%%\n"
    }
   }
  },
  {
   "cell_type": "code",
   "execution_count": 113,
   "outputs": [
    {
     "data": {
      "text/plain": "Series([], Name: CallId, dtype: int64)"
     },
     "execution_count": 113,
     "metadata": {},
     "output_type": "execute_result"
    }
   ],
   "source": [
    "df[\"CallId\"].value_counts()"
   ],
   "metadata": {
    "collapsed": false,
    "pycharm": {
     "name": "#%%\n"
    }
   }
  },
  {
   "cell_type": "markdown",
   "source": [
    "drop\n"
   ],
   "metadata": {
    "collapsed": false,
    "pycharm": {
     "name": "#%% md\n"
    }
   }
  },
  {
   "cell_type": "code",
   "execution_count": 13,
   "outputs": [],
   "source": [
    "df = df.drop(columns=[\"CallId\"])\n"
   ],
   "metadata": {
    "collapsed": false,
    "pycharm": {
     "name": "#%%\n"
    }
   }
  },
  {
   "cell_type": "code",
   "execution_count": 115,
   "outputs": [
    {
     "data": {
      "text/plain": "9275"
     },
     "execution_count": 115,
     "metadata": {},
     "output_type": "execute_result"
    }
   ],
   "source": [
    "len(df)"
   ],
   "metadata": {
    "collapsed": false,
    "pycharm": {
     "name": "#%%\n"
    }
   }
  },
  {
   "cell_type": "code",
   "execution_count": 14,
   "outputs": [],
   "source": [
    "df[\"Priority\"] = df[\"Priority\"].fillna(\"Unknown\")"
   ],
   "metadata": {
    "collapsed": false,
    "pycharm": {
     "name": "#%%\n"
    }
   }
  },
  {
   "cell_type": "code",
   "execution_count": 117,
   "outputs": [
    {
     "name": "stdout",
     "output_type": "stream",
     "text": [
      "<class 'pandas.core.frame.DataFrame'>\n",
      "RangeIndex: 9275 entries, 0 to 9274\n",
      "Data columns (total 41 columns):\n",
      " #   Column                    Non-Null Count  Dtype         \n",
      "---  ------                    --------------  -----         \n",
      " 0   CrimeDate                 9275 non-null   datetime64[ns]\n",
      " 1   CrimeTime                 9275 non-null   object        \n",
      " 2   CrimeCode                 9275 non-null   object        \n",
      " 3   Description               9275 non-null   object        \n",
      " 4   Post                      9275 non-null   float64       \n",
      " 5   District                  9275 non-null   object        \n",
      " 6   Neighborhood              9275 non-null   object        \n",
      " 7   Longitude                 9275 non-null   float64       \n",
      " 8   Latitude                  9275 non-null   float64       \n",
      " 9   Premise                   9188 non-null   object        \n",
      " 10  Total Incidents           9275 non-null   int64         \n",
      " 11  CrimeId                   9275 non-null   int64         \n",
      " 12  callDateTime              9275 non-null   object        \n",
      " 13  Priority                  9275 non-null   object        \n",
      " 14  CallDescription           9275 non-null   object        \n",
      " 15  Year                      9275 non-null   int64         \n",
      " 16  median_household_income   8579 non-null   float64       \n",
      " 17  households_below_poverty  8579 non-null   float64       \n",
      " 18  perc18_24                 8579 non-null   float64       \n",
      " 19  perc25_64                 8579 non-null   float64       \n",
      " 20  perc65up                  8579 non-null   float64       \n",
      " 21  perc_asian                8579 non-null   float64       \n",
      " 22  perc_aa                   8579 non-null   float64       \n",
      " 23  perc_hisp                 8579 non-null   float64       \n",
      " 24  perc_white                8579 non-null   float64       \n",
      " 25  median_price_homes_sold   8579 non-null   float64       \n",
      " 26  racial_diversity_index    8579 non-null   float64       \n",
      " 27  num_households            8579 non-null   float64       \n",
      " 28  Month                     9275 non-null   int64         \n",
      " 29  crime_hour                9275 non-null   int64         \n",
      " 30  Outside                   9275 non-null   uint8         \n",
      " 31  Weapon_FIREARM            9275 non-null   uint8         \n",
      " 32  Weapon_HANDS              9275 non-null   uint8         \n",
      " 33  Weapon_KNIFE              9275 non-null   uint8         \n",
      " 34  Weapon_NONE               9275 non-null   uint8         \n",
      " 35  Weapon_OTHER              9275 non-null   uint8         \n",
      " 36  call_hour                 9275 non-null   int64         \n",
      " 37  Season_autumn             9275 non-null   uint8         \n",
      " 38  Season_spring             9275 non-null   uint8         \n",
      " 39  Season_summer             9275 non-null   uint8         \n",
      " 40  Season_winter             9275 non-null   uint8         \n",
      "dtypes: datetime64[ns](1), float64(15), int64(6), object(9), uint8(10)\n",
      "memory usage: 2.3+ MB\n"
     ]
    }
   ],
   "source": [
    "df.info()"
   ],
   "metadata": {
    "collapsed": false,
    "pycharm": {
     "name": "#%%\n"
    }
   }
  },
  {
   "cell_type": "markdown",
   "source": [
    "Drop missing premises\n"
   ],
   "metadata": {
    "collapsed": false,
    "pycharm": {
     "name": "#%% md\n"
    }
   }
  },
  {
   "cell_type": "code",
   "execution_count": 15,
   "outputs": [],
   "source": [
    "df = df[df[\"Premise\"].notna()]\n"
   ],
   "metadata": {
    "collapsed": false,
    "pycharm": {
     "name": "#%%\n"
    }
   }
  },
  {
   "cell_type": "code",
   "execution_count": 119,
   "outputs": [
    {
     "name": "stdout",
     "output_type": "stream",
     "text": [
      "<class 'pandas.core.frame.DataFrame'>\n",
      "Int64Index: 9188 entries, 0 to 9274\n",
      "Data columns (total 41 columns):\n",
      " #   Column                    Non-Null Count  Dtype         \n",
      "---  ------                    --------------  -----         \n",
      " 0   CrimeDate                 9188 non-null   datetime64[ns]\n",
      " 1   CrimeTime                 9188 non-null   object        \n",
      " 2   CrimeCode                 9188 non-null   object        \n",
      " 3   Description               9188 non-null   object        \n",
      " 4   Post                      9188 non-null   float64       \n",
      " 5   District                  9188 non-null   object        \n",
      " 6   Neighborhood              9188 non-null   object        \n",
      " 7   Longitude                 9188 non-null   float64       \n",
      " 8   Latitude                  9188 non-null   float64       \n",
      " 9   Premise                   9188 non-null   object        \n",
      " 10  Total Incidents           9188 non-null   int64         \n",
      " 11  CrimeId                   9188 non-null   int64         \n",
      " 12  callDateTime              9188 non-null   object        \n",
      " 13  Priority                  9188 non-null   object        \n",
      " 14  CallDescription           9188 non-null   object        \n",
      " 15  Year                      9188 non-null   int64         \n",
      " 16  median_household_income   8496 non-null   float64       \n",
      " 17  households_below_poverty  8496 non-null   float64       \n",
      " 18  perc18_24                 8496 non-null   float64       \n",
      " 19  perc25_64                 8496 non-null   float64       \n",
      " 20  perc65up                  8496 non-null   float64       \n",
      " 21  perc_asian                8496 non-null   float64       \n",
      " 22  perc_aa                   8496 non-null   float64       \n",
      " 23  perc_hisp                 8496 non-null   float64       \n",
      " 24  perc_white                8496 non-null   float64       \n",
      " 25  median_price_homes_sold   8496 non-null   float64       \n",
      " 26  racial_diversity_index    8496 non-null   float64       \n",
      " 27  num_households            8496 non-null   float64       \n",
      " 28  Month                     9188 non-null   int64         \n",
      " 29  crime_hour                9188 non-null   int64         \n",
      " 30  Outside                   9188 non-null   uint8         \n",
      " 31  Weapon_FIREARM            9188 non-null   uint8         \n",
      " 32  Weapon_HANDS              9188 non-null   uint8         \n",
      " 33  Weapon_KNIFE              9188 non-null   uint8         \n",
      " 34  Weapon_NONE               9188 non-null   uint8         \n",
      " 35  Weapon_OTHER              9188 non-null   uint8         \n",
      " 36  call_hour                 9188 non-null   int64         \n",
      " 37  Season_autumn             9188 non-null   uint8         \n",
      " 38  Season_spring             9188 non-null   uint8         \n",
      " 39  Season_summer             9188 non-null   uint8         \n",
      " 40  Season_winter             9188 non-null   uint8         \n",
      "dtypes: datetime64[ns](1), float64(15), int64(6), object(9), uint8(10)\n",
      "memory usage: 2.3+ MB\n"
     ]
    }
   ],
   "source": [
    "df.info()\n"
   ],
   "metadata": {
    "collapsed": false,
    "pycharm": {
     "name": "#%%\n"
    }
   }
  },
  {
   "cell_type": "code",
   "execution_count": 16,
   "outputs": [
    {
     "data": {
      "text/plain": "93073     1\n115421    1\n86279     1\n121558    1\n89945     1\n         ..\n130405    1\n128356    1\n93156     1\n108612    1\n86014     1\nName: CrimeId, Length: 9188, dtype: int64"
     },
     "execution_count": 16,
     "metadata": {},
     "output_type": "execute_result"
    }
   ],
   "source": [
    "df[\"CrimeId\"].value_counts()\n"
   ],
   "metadata": {
    "collapsed": false,
    "pycharm": {
     "name": "#%%\n"
    }
   }
  },
  {
   "cell_type": "code",
   "execution_count": 17,
   "outputs": [],
   "source": [
    "df = df.drop(columns=[\"CrimeId\"])\n"
   ],
   "metadata": {
    "collapsed": false,
    "pycharm": {
     "name": "#%%\n"
    }
   }
  },
  {
   "cell_type": "code",
   "execution_count": 18,
   "outputs": [],
   "source": [
    "df = df.drop(columns=[\"CrimeCode\", \"callDateTime\", \"Total Incidents\"])"
   ],
   "metadata": {
    "collapsed": false,
    "pycharm": {
     "name": "#%%\n"
    }
   }
  },
  {
   "cell_type": "code",
   "execution_count": 19,
   "outputs": [],
   "source": [
    "from pandas.tseries.holiday import USFederalHolidayCalendar\n",
    "calendar = USFederalHolidayCalendar()\n",
    "df.CrimeDate = pd.to_datetime(df.CrimeDate)\n",
    "\n",
    "# Enter proper date range\n",
    "dr = pd.date_range(start='2012-01-01', end='2017-09-02')\n",
    "holidays = calendar.holidays(start=dr.min(), end=dr.max())\n",
    "df['Holiday'] = df['CrimeDate'].isin(holidays)\n",
    "df['Holiday'] = df['Holiday'].replace(False, 0)\n",
    "df['Holiday'] = df['Holiday'].replace(True, 1)\n",
    "\n",
    "df[\"Weekday\"] = pd.to_datetime(df[\"CrimeDate\"]).dt.dayofweek\n",
    "df[\"Weekend\"] = (df[\"Weekday\"] > 4).astype(int)\n",
    "df = df.drop(columns=[\"Weekday\"])"
   ],
   "metadata": {
    "collapsed": false,
    "pycharm": {
     "name": "#%%\n"
    }
   }
  },
  {
   "cell_type": "code",
   "execution_count": 124,
   "outputs": [
    {
     "data": {
      "text/plain": "Index(['CrimeDate', 'CrimeTime', 'Description', 'Post', 'District',\n       'Neighborhood', 'Longitude', 'Latitude', 'Premise', 'Priority',\n       'CallDescription', 'Year', 'median_household_income',\n       'households_below_poverty', 'perc18_24', 'perc25_64', 'perc65up',\n       'perc_asian', 'perc_aa', 'perc_hisp', 'perc_white',\n       'median_price_homes_sold', 'racial_diversity_index', 'num_households',\n       'Month', 'crime_hour', 'Outside', 'Weapon_FIREARM', 'Weapon_HANDS',\n       'Weapon_KNIFE', 'Weapon_NONE', 'Weapon_OTHER', 'call_hour',\n       'Season_autumn', 'Season_spring', 'Season_summer', 'Season_winter',\n       'Holiday', 'Weekend'],\n      dtype='object')"
     },
     "execution_count": 124,
     "metadata": {},
     "output_type": "execute_result"
    }
   ],
   "source": [
    "df.columns"
   ],
   "metadata": {
    "collapsed": false,
    "pycharm": {
     "name": "#%%\n"
    }
   }
  },
  {
   "cell_type": "code",
   "execution_count": 20,
   "outputs": [],
   "source": [
    "df = df.drop(columns=[\"CrimeDate\",\"CrimeTime\"])\n"
   ],
   "metadata": {
    "collapsed": false,
    "pycharm": {
     "name": "#%%\n"
    }
   }
  },
  {
   "cell_type": "code",
   "execution_count": 21,
   "outputs": [],
   "source": [
    "df['Premise'] = df['Premise'].str.upper()\n",
    "\n",
    "# Premise Modifications\n",
    "\n",
    "df['Premise'] = df['Premise'].replace('GARAGE ON', 'SHED/GARAGE')\n",
    "df['Premise'] = df['Premise'].replace('APT. LOCKE', 'APARTMENT')\n",
    "df['Premise'] = df['Premise'].replace('APT/CONDO', 'APARTMENT')\n",
    "df['Premise'] = df['Premise'].replace('COMMON BUS', 'BUS/AUTO')\n",
    "df['Premise'] = df['Premise'].replace('HOSP/NURS.', 'HOSPITAL')\n",
    "df['Premise'] = df['Premise'].replace('VEHICLE', 'BUS/AUTO')\n",
    "df['Premise'] = df['Premise'].replace('PRIVATE SC', 'SCHOOL')\n",
    "df['Premise'] = df['Premise'].replace('PUBLIC SCH', 'SCHOOL')\n",
    "df['Premise'] = df['Premise'].replace('TAVERN/NIG', 'BAR')\n",
    "df['Premise'] = df['Premise'].replace('RAILROAD C', 'BUS/RAILRO')\n",
    "df['Premise'] = df['Premise'].replace('COMMON BUS', 'BUS/AUTO')\n",
    "df['Premise'] = df['Premise'].replace('CHURCH', 'RELIGIOUS')\n",
    "df['Premise'] = df['Premise'].replace('ARENA', 'STADIUM')\n",
    "df['Premise'] = df['Premise'].replace('YARD/BUSIN', 'YARD')\n",
    "df['Premise'] = df['Premise'].replace('PIZZA/OTHE', 'RESTAURANT')\n",
    "df['Premise'] = df['Premise'].replace('DAY CARE F', 'SCHOOL PLA')\n",
    "df['Premise'] = df['Premise'].replace('MANUFACTUR', 'WAREHOUSE')\n",
    "df['Premise'] = df['Premise'].replace('MOBILE HOM', 'DWELLING')\n",
    "df['Premise'] = df['Premise'].replace('BOX CARS/C', 'BUS/RAILRO')\n",
    "df['Premise'] = df['Premise'].replace('PHOTO STUD', 'RETAIL/SMA')\n",
    "df['Premise'] = df['Premise'].replace('TRUCKING &', 'TRACTOR TR')\n",
    "df['Premise'] = df['Premise'].replace('SKYWALK', 'PUBLIC ARE')\n",
    "df['Premise'] = df['Premise'].replace('FINANCE/LO', 'BANK/FINAN')\n",
    "df['Premise'] = df['Premise'].replace('STRUCTURE-', 'UNKNOWN')\n",
    "df['Premise'] = df['Premise'].replace('BLDG UNDER', 'CONSTRUCTI')\n",
    "df['Premise'] = df['Premise'].replace('HOUSE UNDE', 'CONSTRUCTI')\n",
    "df['Premise'] = df['Premise'].replace('MAILBOX-ST', 'STREET')\n",
    "df['Premise'] = df['Premise'].replace('RENTAL/VID', 'RETAIL/SMA')"
   ],
   "metadata": {
    "collapsed": false,
    "pycharm": {
     "name": "#%%\n"
    }
   }
  },
  {
   "cell_type": "code",
   "execution_count": 22,
   "outputs": [],
   "source": [
    "df['Neighborhood'] = df['Neighborhood'].str.upper()\n"
   ],
   "metadata": {
    "collapsed": false,
    "pycharm": {
     "name": "#%%\n"
    }
   }
  },
  {
   "cell_type": "code",
   "execution_count": 23,
   "outputs": [],
   "source": [
    "df['Priority'] = df['Priority'].str.upper()\n"
   ],
   "metadata": {
    "collapsed": false,
    "pycharm": {
     "name": "#%%\n"
    }
   }
  },
  {
   "cell_type": "code",
   "execution_count": 24,
   "outputs": [],
   "source": [
    "df[\"CallDescription\"] = df['CallDescription'].str.upper()"
   ],
   "metadata": {
    "collapsed": false,
    "pycharm": {
     "name": "#%%\n"
    }
   }
  },
  {
   "cell_type": "code",
   "execution_count": 132,
   "outputs": [],
   "source": [
    "pd.set_option('display.max_rows', 500)"
   ],
   "metadata": {
    "collapsed": false,
    "pycharm": {
     "name": "#%%\n"
    }
   }
  },
  {
   "cell_type": "code",
   "execution_count": 25,
   "outputs": [],
   "source": [
    "temp = df[\"CallDescription\"].value_counts()\n"
   ],
   "metadata": {
    "collapsed": false,
    "pycharm": {
     "name": "#%%\n"
    }
   }
  },
  {
   "cell_type": "code",
   "execution_count": 26,
   "outputs": [],
   "source": [
    "stuff = list(temp.index)"
   ],
   "metadata": {
    "collapsed": false,
    "pycharm": {
     "name": "#%%\n"
    }
   }
  },
  {
   "cell_type": "code",
   "execution_count": 27,
   "outputs": [
    {
     "data": {
      "text/plain": "['**POSSIBLE',\n '*5G',\n '*6D',\n '*75',\n '*7C',\n '*ATTEMPT',\n '*ATTEMPTED',\n '*BAILOUT',\n '*BY THREAT',\n '*CHECK WELL BEIN',\n '*CHECK WELLBEING',\n '*CHEK WELL BEING',\n '*CK WELL BEING',\n '*COMMERCIAL',\n '*COMMERCIAL BURG',\n '*DOMESTIC',\n '*FEMALE SCREAMIN',\n '*GET BELONGINGS',\n '*HEALTH CARE FAC',\n '*HOLLERING HELP',\n '*HOME INVASION',\n '*INFOR ONLY',\n '*INVEST',\n '*INVEST TROUBLE',\n '*INVESTIGATE',\n '*NOTIFY',\n '*OUT OF JURIS',\n '*PEACE ORDER',\n '*POLICE ASSIST',\n '*POLICE INFO',\n '*POLICE INFOR',\n '*POLICE INFORMAT',\n '*POSSIBLE',\n '*PROT ORDER',\n '*REAR TAG',\n '*SEE TEXT',\n '*UNKNOWN PROBLEM',\n '*VEH FIRE',\n '*VEHICLE',\n '27',\n '3N',\n '49',\n '4D',\n '56',\n '6D',\n '6J',\n '7C',\n '911/HANGUP',\n '911/NO VOICE',\n 'ABDUCTION OTHER',\n 'AED NONBREATHIG',\n 'AED NONBREATHING',\n 'AGGRAV ASSAULT',\n 'ANIMAL CRUELTY',\n 'ANIMAL DISTURB',\n 'ANIMAL IN HARBOR',\n 'ARMED PERSON',\n 'ASSIST',\n 'ASSISTANCE',\n 'ATTEMPT',\n 'ATTEMPT AUT THFT',\n 'ATTEMPTED',\n 'ATTEMPTED THEFT',\n 'ATTEMTED',\n 'ATTMPT BURGLARY',\n 'AUDIBLE ALARM',\n 'AUTO ACC/INJURY',\n 'AUTO ACCIDENT',\n 'AUTO THEFT',\n 'BAIL OUT',\n 'BANK CHECK',\n 'BIKE LARCENY',\n 'BURGLARY',\n 'BY THREAT',\n 'BY THREATS',\n 'CAB HOLDUP',\n 'CAR FIRE',\n 'CAR JACKING',\n 'CHECK WELLBEING',\n 'CHECKWELLBEING',\n 'CHILD REMOVAL',\n 'CHK WELL BEING',\n 'CK WELL BEING',\n 'CK WELL-BEING',\n 'COMMON ASSAULT',\n 'CURFEW VIOLATION',\n 'CUTTING',\n 'DEPT ACCIDENT',\n 'DESTRUCT PROPTY',\n 'DISCHRG FIREARM',\n 'DISORDERLY',\n 'DISPUTE',\n 'DOG BITE',\n 'DOMESTIC',\n 'EMERG. PETITION',\n 'EX PARTE',\n 'EXPARTE',\n 'FALSE PRETENSE',\n 'FAMILY DISTURB',\n 'FIELD INTERVIEW',\n 'FIRE',\n 'FOLLOW UP',\n 'FOLLOW-UP',\n 'FOOT  PATROL',\n 'FOOT PATROL',\n 'GAMBLING',\n 'GET   BELONGINGS',\n 'GET BELONGINGS',\n 'GET BELONINGS',\n 'GTON',\n 'HIT AND RUN',\n 'HOLDUP ALARM',\n 'ILL/DUMP IN PROG',\n 'IMMEDIATE INC',\n 'INJURED PERSON',\n 'INTOXICATED PERS',\n 'INVEST',\n 'INVEST TRB',\n 'INVEST TROUBLE',\n 'INVEST.',\n 'INVESTGATE',\n 'INVESTIG AUTO',\n 'INVESTIGATE',\n 'INVESTIGATE AUTO',\n 'INVESTIGTE',\n 'INVOL DETENTION',\n 'JUV DISTURBANCE',\n 'LAB REQUEST',\n 'LARCENCY',\n 'LARCENY',\n 'LARCENY F/AUTO',\n 'LOITERING',\n 'LOST PROPERTY',\n 'LOUD MUSIC',\n 'LYING IN STREET',\n 'MALE SCREAMING',\n 'MENTAL CASE',\n 'MISSING PERSON',\n 'NARCOTICS INSIDE',\n 'NARCOTICS ONVIEW',\n 'NARCOTICSOUTSIDE',\n 'NOTIFY',\n 'OPEN DOOR',\n 'OTHER',\n 'OUT OF JURISDC',\n 'PARKING CMPT',\n 'PEACE ORDER',\n 'PERSONAL RELIEF',\n 'PHONE THREAT',\n 'POLICE ASSIT',\n 'POLICE INFO',\n 'POSS',\n 'POSSIBLE',\n 'PRIVATE TOW',\n 'PRKG COMPLAINT',\n 'PROSTITUTION',\n 'PROT ORDER',\n 'PROTECT ORDER',\n 'PROTECTIVE ORDER',\n 'PURSE SNATCH',\n 'RA POLICE',\n 'RAILROADS',\n 'REAR TAG',\n 'RECOVER PROPERTY',\n 'RECOVER VEH',\n 'RECOVERED PROPTY',\n 'RECOVERED VEH',\n 'REPAIRS/SERVICE',\n 'REPO',\n 'REQUEST SERVICE',\n 'ROBBERY ARMED',\n 'ROBBERY UNARMED',\n 'SCHOOL/CHURCH',\n 'SEARCH& SEIZURE',\n 'SEARCH&SEIZURE',\n 'SEE TEXT',\n 'SHOOTING',\n 'SICK CASE',\n 'SILENT ALARM',\n 'STREET OBSTRUCT',\n 'SUBJECT STOP',\n 'SUPV COMPLAINT',\n 'SUSPICIOUS PERS',\n 'THREAT',\n 'TOW - DO NOT USE',\n 'TOWED VEHICLE',\n 'TRAFFIC STOP',\n 'TRANSPORT',\n 'TRASPASSING',\n 'TROUBLE UNKNOWN',\n 'UNAUTHOR USE',\n 'UNAUTHORIZED USE',\n 'UNDER $500',\n 'UNFOUNDED',\n 'UNKNOWN TROUBLE',\n 'VEHICLE DISTURB',\n 'VERBAL THREAT',\n 'VIOL COURT ORDER',\n 'WANTED ON WARR',\n 'WARRANT SERVICE',\n 'WELL BEING CHECK',\n 'WELLBEING CHECK',\n '`']"
     },
     "execution_count": 27,
     "metadata": {},
     "output_type": "execute_result"
    }
   ],
   "source": [
    "sorted(stuff)"
   ],
   "metadata": {
    "collapsed": false,
    "pycharm": {
     "name": "#%%\n"
    }
   }
  },
  {
   "cell_type": "code",
   "execution_count": 28,
   "outputs": [],
   "source": [
    "df = df[df[\"CallDescription\"]!= \"`\"]"
   ],
   "metadata": {
    "collapsed": false,
    "pycharm": {
     "name": "#%%\n"
    }
   }
  },
  {
   "cell_type": "code",
   "execution_count": 29,
   "outputs": [
    {
     "name": "stderr",
     "output_type": "stream",
     "text": [
      "<ipython-input-29-3747ea68fe77>:1: FutureWarning: The default value of regex will change from True to False in a future version. In addition, single character regular expressions will*not* be treated as literal strings when regex=True.\n",
      "  df[\"CallDescription\"] = df[\"CallDescription\"].str.replace(\"*\",\"\")\n"
     ]
    }
   ],
   "source": [
    "df[\"CallDescription\"] = df[\"CallDescription\"].str.replace(\"*\",\"\")"
   ],
   "metadata": {
    "collapsed": false,
    "pycharm": {
     "name": "#%%\n"
    }
   }
  },
  {
   "cell_type": "code",
   "execution_count": 30,
   "outputs": [],
   "source": [
    "temp = df[\"CallDescription\"].value_counts()"
   ],
   "metadata": {
    "collapsed": false,
    "pycharm": {
     "name": "#%%\n"
    }
   }
  },
  {
   "cell_type": "code",
   "execution_count": 31,
   "outputs": [
    {
     "data": {
      "text/plain": "['27',\n '3N',\n '49',\n '4D',\n '56',\n '5G',\n '6D',\n '6J',\n '75',\n '7C',\n '911/HANGUP',\n '911/NO VOICE',\n 'ABDUCTION OTHER',\n 'AED NONBREATHIG',\n 'AED NONBREATHING',\n 'AGGRAV ASSAULT',\n 'ANIMAL CRUELTY',\n 'ANIMAL DISTURB',\n 'ANIMAL IN HARBOR',\n 'ARMED PERSON',\n 'ASSIST',\n 'ASSISTANCE',\n 'ATTEMPT',\n 'ATTEMPT AUT THFT',\n 'ATTEMPTED',\n 'ATTEMPTED THEFT',\n 'ATTEMTED',\n 'ATTMPT BURGLARY',\n 'AUDIBLE ALARM',\n 'AUTO ACC/INJURY',\n 'AUTO ACCIDENT',\n 'AUTO THEFT',\n 'BAIL OUT',\n 'BAILOUT',\n 'BANK CHECK',\n 'BIKE LARCENY',\n 'BURGLARY',\n 'BY THREAT',\n 'BY THREATS',\n 'CAB HOLDUP',\n 'CAR FIRE',\n 'CAR JACKING',\n 'CHECK WELL BEIN',\n 'CHECK WELLBEING',\n 'CHECKWELLBEING',\n 'CHEK WELL BEING',\n 'CHILD REMOVAL',\n 'CHK WELL BEING',\n 'CK WELL BEING',\n 'CK WELL-BEING',\n 'COMMERCIAL',\n 'COMMERCIAL BURG',\n 'COMMON ASSAULT',\n 'CURFEW VIOLATION',\n 'CUTTING',\n 'DEPT ACCIDENT',\n 'DESTRUCT PROPTY',\n 'DISCHRG FIREARM',\n 'DISORDERLY',\n 'DISPUTE',\n 'DOG BITE',\n 'DOMESTIC',\n 'EMERG. PETITION',\n 'EX PARTE',\n 'EXPARTE',\n 'FALSE PRETENSE',\n 'FAMILY DISTURB',\n 'FEMALE SCREAMIN',\n 'FIELD INTERVIEW',\n 'FIRE',\n 'FOLLOW UP',\n 'FOLLOW-UP',\n 'FOOT  PATROL',\n 'FOOT PATROL',\n 'GAMBLING',\n 'GET   BELONGINGS',\n 'GET BELONGINGS',\n 'GET BELONINGS',\n 'GTON',\n 'HEALTH CARE FAC',\n 'HIT AND RUN',\n 'HOLDUP ALARM',\n 'HOLLERING HELP',\n 'HOME INVASION',\n 'ILL/DUMP IN PROG',\n 'IMMEDIATE INC',\n 'INFOR ONLY',\n 'INJURED PERSON',\n 'INTOXICATED PERS',\n 'INVEST',\n 'INVEST TRB',\n 'INVEST TROUBLE',\n 'INVEST.',\n 'INVESTGATE',\n 'INVESTIG AUTO',\n 'INVESTIGATE',\n 'INVESTIGATE AUTO',\n 'INVESTIGTE',\n 'INVOL DETENTION',\n 'JUV DISTURBANCE',\n 'LAB REQUEST',\n 'LARCENCY',\n 'LARCENY',\n 'LARCENY F/AUTO',\n 'LOITERING',\n 'LOST PROPERTY',\n 'LOUD MUSIC',\n 'LYING IN STREET',\n 'MALE SCREAMING',\n 'MENTAL CASE',\n 'MISSING PERSON',\n 'NARCOTICS INSIDE',\n 'NARCOTICS ONVIEW',\n 'NARCOTICSOUTSIDE',\n 'NOTIFY',\n 'OPEN DOOR',\n 'OTHER',\n 'OUT OF JURIS',\n 'OUT OF JURISDC',\n 'PARKING CMPT',\n 'PEACE ORDER',\n 'PERSONAL RELIEF',\n 'PHONE THREAT',\n 'POLICE ASSIST',\n 'POLICE ASSIT',\n 'POLICE INFO',\n 'POLICE INFOR',\n 'POLICE INFORMAT',\n 'POSS',\n 'POSSIBLE',\n 'PRIVATE TOW',\n 'PRKG COMPLAINT',\n 'PROSTITUTION',\n 'PROT ORDER',\n 'PROTECT ORDER',\n 'PROTECTIVE ORDER',\n 'PURSE SNATCH',\n 'RA POLICE',\n 'RAILROADS',\n 'REAR TAG',\n 'RECOVER PROPERTY',\n 'RECOVER VEH',\n 'RECOVERED PROPTY',\n 'RECOVERED VEH',\n 'REPAIRS/SERVICE',\n 'REPO',\n 'REQUEST SERVICE',\n 'ROBBERY ARMED',\n 'ROBBERY UNARMED',\n 'SCHOOL/CHURCH',\n 'SEARCH& SEIZURE',\n 'SEARCH&SEIZURE',\n 'SEE TEXT',\n 'SHOOTING',\n 'SICK CASE',\n 'SILENT ALARM',\n 'STREET OBSTRUCT',\n 'SUBJECT STOP',\n 'SUPV COMPLAINT',\n 'SUSPICIOUS PERS',\n 'THREAT',\n 'TOW - DO NOT USE',\n 'TOWED VEHICLE',\n 'TRAFFIC STOP',\n 'TRANSPORT',\n 'TRASPASSING',\n 'TROUBLE UNKNOWN',\n 'UNAUTHOR USE',\n 'UNAUTHORIZED USE',\n 'UNDER $500',\n 'UNFOUNDED',\n 'UNKNOWN PROBLEM',\n 'UNKNOWN TROUBLE',\n 'VEH FIRE',\n 'VEHICLE',\n 'VEHICLE DISTURB',\n 'VERBAL THREAT',\n 'VIOL COURT ORDER',\n 'WANTED ON WARR',\n 'WARRANT SERVICE',\n 'WELL BEING CHECK',\n 'WELLBEING CHECK']"
     },
     "execution_count": 31,
     "metadata": {},
     "output_type": "execute_result"
    }
   ],
   "source": [
    "stuff = list(temp.index)\n",
    "sorted(stuff)"
   ],
   "metadata": {
    "collapsed": false,
    "pycharm": {
     "name": "#%%\n"
    }
   }
  },
  {
   "cell_type": "markdown",
   "source": [
    "Lots of spelling mistakes..."
   ],
   "metadata": {
    "collapsed": false,
    "pycharm": {
     "name": "#%% md\n"
    }
   }
  },
  {
   "cell_type": "code",
   "execution_count": 32,
   "outputs": [],
   "source": [
    "df['CallDescription'] = df['CallDescription'].replace('AED NONBREATHIG', 'AED NONBREATHING')\n",
    "df['CallDescription'] = df['CallDescription'].replace('ASSIST', 'ASSISTANCE')\n",
    "df['CallDescription'] = df['CallDescription'].replace('ATTEMPT', 'ATTEMPTED')\n",
    "df['CallDescription'] = df['CallDescription'].replace('ATTEMTED', 'ATTEMPTED')\n",
    "df['CallDescription'] = df['CallDescription'].replace('ATTMPT BURGLARY', 'ATTEMPTED THEFT')\n",
    "df['CallDescription'] = df['CallDescription'].replace('BAIL OUT', 'BAILOUT')\n",
    "df['CallDescription'] = df['CallDescription'].replace('BY THREATS', 'BY THREAT')\n",
    "df['CallDescription'] = df['CallDescription'].replace('CHECK WELL BEIN', 'CHECK WELLBEING')\n",
    "df['CallDescription'] = df['CallDescription'].replace('CHECKWELLBEING', 'CHECK WELLBEING')\n",
    "df['CallDescription'] = df['CallDescription'].replace('CHEK WELL BEING', 'CHECK WELLBEING')\n",
    "df['CallDescription'] = df['CallDescription'].replace('CHK WELL BEING', 'CHECK WELLBEING')\n",
    "df['CallDescription'] = df['CallDescription'].replace('CK WELL BEING', 'CHECK WELLBEING')\n",
    "df['CallDescription'] = df['CallDescription'].replace('CK WELL-BEING', 'CHECK WELLBEING')\n",
    "df['CallDescription'] = df['CallDescription'].replace('WELL BEING CHECK', 'CHECK WELLBEING')\n",
    "df['CallDescription'] = df['CallDescription'].replace('WELLBEING CHECK', 'CHECK WELLBEING')\n",
    "df['CallDescription'] = df['CallDescription'].replace('EXPARTE', 'EX PARTE')\n",
    "df['CallDescription'] = df['CallDescription'].replace('FOLLOW UP', 'FOLLOW-UP')\n",
    "df['CallDescription'] = df['CallDescription'].replace('FOOT  PATROL', 'FOOT PATROL')\n",
    "df['CallDescription'] = df['CallDescription'].replace('GET   BELONGINGS', 'GET BELONGINGS')\n",
    "df['CallDescription'] = df['CallDescription'].replace('GET BELONINGS', 'GET BELONGINGS')\n",
    "df['CallDescription'] = df['CallDescription'].replace('INVEST', 'INVESTIGATE')\n",
    "df['CallDescription'] = df['CallDescription'].replace('INVEST TRB', 'INVESTIGATE')\n",
    "df['CallDescription'] = df['CallDescription'].replace('INVEST TROUBLE', 'INVESTIGATE')\n",
    "df['CallDescription'] = df['CallDescription'].replace('INVEST.', 'INVESTIGATE')\n",
    "df['CallDescription'] = df['CallDescription'].replace('INVESTGATE', 'INVESTIGATE')\n",
    "df['CallDescription'] = df['CallDescription'].replace('INVESTIGTE', 'INVESTIGATE')\n",
    "df['CallDescription'] = df['CallDescription'].replace('INVESTIG AUTO', 'INVESTIGATE AUTO')\n",
    "df['CallDescription'] = df['CallDescription'].replace('LARCENCY', 'LARCENY')\n",
    "df['CallDescription'] = df['CallDescription'].replace('OUT OF JURIS', 'OUT OF JURISDC')\n",
    "df['CallDescription'] = df['CallDescription'].replace('POLICE ASSIT', 'POLICE ASSIST')\n",
    "df['CallDescription'] = df['CallDescription'].replace('POLICE INFOR', 'POLICE INFO')\n",
    "df['CallDescription'] = df['CallDescription'].replace('POLICE INFORMAT', 'POLICE ASSIST')\n",
    "df['CallDescription'] = df['CallDescription'].replace('POSS', 'POSSIBLE')\n",
    "df['CallDescription'] = df['CallDescription'].replace('PROT ORDER', 'PROTECTIVE ORDER')\n",
    "df['CallDescription'] = df['CallDescription'].replace('PROTECT ORDER', 'PROTECTIVE ORDER')\n",
    "df['CallDescription'] = df['CallDescription'].replace('SEARCH& SEIZURE', 'SEARCH&SEIZURE')\n",
    "df['CallDescription'] = df['CallDescription'].replace('UNAUTHOR USE', 'UNAUTHORIZED USE')\n",
    "df['CallDescription'] = df['CallDescription'].replace('UNKNOWN TROUBLE', 'UNKNOWN PROBLEM')"
   ],
   "metadata": {
    "collapsed": false,
    "pycharm": {
     "name": "#%%\n"
    }
   }
  },
  {
   "cell_type": "code",
   "execution_count": 33,
   "outputs": [],
   "source": [
    "df['Priority'] = df['Priority'].replace('EMERGENCY', 'HIGH')"
   ],
   "metadata": {
    "collapsed": false,
    "pycharm": {
     "name": "#%%\n"
    }
   }
  },
  {
   "cell_type": "code",
   "execution_count": 34,
   "outputs": [],
   "source": [
    "df = pd.get_dummies(df, columns=[\"Priority\"])"
   ],
   "metadata": {
    "collapsed": false,
    "pycharm": {
     "name": "#%%\n"
    }
   }
  },
  {
   "cell_type": "markdown",
   "source": [
    "let's do a stratified split now\n",
    "\n"
   ],
   "metadata": {
    "collapsed": false,
    "pycharm": {
     "name": "#%% md\n"
    }
   }
  },
  {
   "cell_type": "code",
   "execution_count": 9,
   "outputs": [],
   "source": [
    "from sklearn.model_selection import train_test_split"
   ],
   "metadata": {
    "collapsed": false,
    "pycharm": {
     "name": "#%%\n"
    }
   }
  },
  {
   "cell_type": "code",
   "execution_count": 35,
   "outputs": [],
   "source": [
    "\n",
    "\n",
    "train , test = train_test_split(df,shuffle=True, stratify=df[[\"Description\"]], random_state=42069, test_size=0.2)"
   ],
   "metadata": {
    "collapsed": false,
    "pycharm": {
     "name": "#%%\n"
    }
   }
  },
  {
   "cell_type": "code",
   "execution_count": 36,
   "outputs": [],
   "source": [
    "def income_cat_proportions(data):\n",
    "    return data[\"Description\"].value_counts() / len(data)\n",
    "\n",
    "train_set, test_set = train_test_split(df, test_size=0.2, random_state=42069)\n",
    "\n",
    "compare_props = pd.DataFrame({\n",
    "    \"Overall\": income_cat_proportions(df),\n",
    "    \"Stratified\": income_cat_proportions(test),\n",
    "    \"Random\": income_cat_proportions(test_set),\n",
    "}).sort_index()\n",
    "compare_props[\"Rand. %error\"] = 100 * compare_props[\"Random\"] / compare_props[\"Overall\"] - 100\n",
    "compare_props[\"Strat. %error\"] = 100 * compare_props[\"Stratified\"] / compare_props[\"Overall\"] - 100"
   ],
   "metadata": {
    "collapsed": false,
    "pycharm": {
     "name": "#%%\n"
    }
   }
  },
  {
   "cell_type": "code",
   "execution_count": 37,
   "outputs": [
    {
     "data": {
      "text/plain": "                       Overall  Stratified    Random  Rand. %error  \\\nAGG. ASSAULT          0.070317    0.070185  0.076170      8.323760   \nARSON                 0.004245    0.004353  0.003808    -10.285706   \nASSAULT BY THREAT     0.013171    0.013058  0.011425    -13.251468   \nAUTO THEFT            0.135518    0.135473  0.122416     -9.668052   \nBURGLARY              0.109503    0.109358  0.103373     -5.597427   \nCOMMON ASSAULT        0.138348    0.138194  0.148531      7.360693   \nHOMICIDE              0.005551    0.005441  0.007617     37.210096   \nLARCENY               0.237618    0.237758  0.235038     -1.085896   \nLARCENY FROM AUTO     0.188092    0.188248  0.195321      3.843405   \nROBBERY - CARJACKING  0.003483    0.003264  0.004353     24.959195   \nROBBERY - COMMERCIAL  0.007728    0.007617  0.005985    -22.560499   \nROBBERY - RESIDENCE   0.006749    0.006529  0.006529     -3.257398   \nROBBERY - STREET      0.062806    0.063112  0.060936     -2.977956   \nSEXUAL ASSAULT        0.004681    0.004897  0.005441     16.241111   \nSHOOTING              0.012191    0.012514  0.013058      7.107881   \n\n                      Strat. %error  \nAGG. ASSAULT              -0.187392  \nARSON                      2.530621  \nASSAULT BY THREAT         -0.858821  \nAUTO THEFT                -0.032644  \nBURGLARY                  -0.132015  \nCOMMON ASSAULT            -0.111297  \nHOMICIDE                  -1.992788  \nLARCENY                    0.058943  \nLARCENY FROM AUTO          0.083059  \nROBBERY - CARJACKING      -6.280604  \nROBBERY - COMMERCIAL      -1.440635  \nROBBERY - RESIDENCE       -3.257398  \nROBBERY - STREET           0.487117  \nSEXUAL ASSAULT             4.617000  \nSHOOTING                   2.645053  ",
      "text/html": "<div>\n<style scoped>\n    .dataframe tbody tr th:only-of-type {\n        vertical-align: middle;\n    }\n\n    .dataframe tbody tr th {\n        vertical-align: top;\n    }\n\n    .dataframe thead th {\n        text-align: right;\n    }\n</style>\n<table border=\"1\" class=\"dataframe\">\n  <thead>\n    <tr style=\"text-align: right;\">\n      <th></th>\n      <th>Overall</th>\n      <th>Stratified</th>\n      <th>Random</th>\n      <th>Rand. %error</th>\n      <th>Strat. %error</th>\n    </tr>\n  </thead>\n  <tbody>\n    <tr>\n      <th>AGG. ASSAULT</th>\n      <td>0.070317</td>\n      <td>0.070185</td>\n      <td>0.076170</td>\n      <td>8.323760</td>\n      <td>-0.187392</td>\n    </tr>\n    <tr>\n      <th>ARSON</th>\n      <td>0.004245</td>\n      <td>0.004353</td>\n      <td>0.003808</td>\n      <td>-10.285706</td>\n      <td>2.530621</td>\n    </tr>\n    <tr>\n      <th>ASSAULT BY THREAT</th>\n      <td>0.013171</td>\n      <td>0.013058</td>\n      <td>0.011425</td>\n      <td>-13.251468</td>\n      <td>-0.858821</td>\n    </tr>\n    <tr>\n      <th>AUTO THEFT</th>\n      <td>0.135518</td>\n      <td>0.135473</td>\n      <td>0.122416</td>\n      <td>-9.668052</td>\n      <td>-0.032644</td>\n    </tr>\n    <tr>\n      <th>BURGLARY</th>\n      <td>0.109503</td>\n      <td>0.109358</td>\n      <td>0.103373</td>\n      <td>-5.597427</td>\n      <td>-0.132015</td>\n    </tr>\n    <tr>\n      <th>COMMON ASSAULT</th>\n      <td>0.138348</td>\n      <td>0.138194</td>\n      <td>0.148531</td>\n      <td>7.360693</td>\n      <td>-0.111297</td>\n    </tr>\n    <tr>\n      <th>HOMICIDE</th>\n      <td>0.005551</td>\n      <td>0.005441</td>\n      <td>0.007617</td>\n      <td>37.210096</td>\n      <td>-1.992788</td>\n    </tr>\n    <tr>\n      <th>LARCENY</th>\n      <td>0.237618</td>\n      <td>0.237758</td>\n      <td>0.235038</td>\n      <td>-1.085896</td>\n      <td>0.058943</td>\n    </tr>\n    <tr>\n      <th>LARCENY FROM AUTO</th>\n      <td>0.188092</td>\n      <td>0.188248</td>\n      <td>0.195321</td>\n      <td>3.843405</td>\n      <td>0.083059</td>\n    </tr>\n    <tr>\n      <th>ROBBERY - CARJACKING</th>\n      <td>0.003483</td>\n      <td>0.003264</td>\n      <td>0.004353</td>\n      <td>24.959195</td>\n      <td>-6.280604</td>\n    </tr>\n    <tr>\n      <th>ROBBERY - COMMERCIAL</th>\n      <td>0.007728</td>\n      <td>0.007617</td>\n      <td>0.005985</td>\n      <td>-22.560499</td>\n      <td>-1.440635</td>\n    </tr>\n    <tr>\n      <th>ROBBERY - RESIDENCE</th>\n      <td>0.006749</td>\n      <td>0.006529</td>\n      <td>0.006529</td>\n      <td>-3.257398</td>\n      <td>-3.257398</td>\n    </tr>\n    <tr>\n      <th>ROBBERY - STREET</th>\n      <td>0.062806</td>\n      <td>0.063112</td>\n      <td>0.060936</td>\n      <td>-2.977956</td>\n      <td>0.487117</td>\n    </tr>\n    <tr>\n      <th>SEXUAL ASSAULT</th>\n      <td>0.004681</td>\n      <td>0.004897</td>\n      <td>0.005441</td>\n      <td>16.241111</td>\n      <td>4.617000</td>\n    </tr>\n    <tr>\n      <th>SHOOTING</th>\n      <td>0.012191</td>\n      <td>0.012514</td>\n      <td>0.013058</td>\n      <td>7.107881</td>\n      <td>2.645053</td>\n    </tr>\n  </tbody>\n</table>\n</div>"
     },
     "execution_count": 37,
     "metadata": {},
     "output_type": "execute_result"
    }
   ],
   "source": [
    "compare_props\n"
   ],
   "metadata": {
    "collapsed": false,
    "pycharm": {
     "name": "#%%\n"
    }
   }
  },
  {
   "cell_type": "code",
   "execution_count": 168,
   "outputs": [
    {
     "data": {
      "text/plain": "Index(['Description', 'Post', 'District', 'Neighborhood', 'Longitude',\n       'Latitude', 'Premise', 'CallDescription', 'Year',\n       'median_household_income', 'households_below_poverty', 'perc18_24',\n       'perc25_64', 'perc65up', 'perc_asian', 'perc_aa', 'perc_hisp',\n       'perc_white', 'median_price_homes_sold', 'racial_diversity_index',\n       'num_households', 'Month', 'crime_hour', 'Outside', 'Weapon_FIREARM',\n       'Weapon_HANDS', 'Weapon_KNIFE', 'Weapon_NONE', 'Weapon_OTHER',\n       'call_hour', 'Season_autumn', 'Season_spring', 'Season_summer',\n       'Season_winter', 'Holiday', 'Weekend', 'Priority_HIGH', 'Priority_LOW',\n       'Priority_MEDIUM', 'Priority_NON-EMERGENCY', 'Priority_OUT OF SERVICE',\n       'Priority_UNKNOWN'],\n      dtype='object')"
     },
     "execution_count": 168,
     "metadata": {},
     "output_type": "execute_result"
    }
   ],
   "source": [
    "train.columns\n"
   ],
   "metadata": {
    "collapsed": false,
    "pycharm": {
     "name": "#%%\n"
    }
   }
  },
  {
   "cell_type": "markdown",
   "source": [
    "let's label encode Description, District, Neighborhood, Premise, CallDescription"
   ],
   "metadata": {
    "collapsed": false,
    "pycharm": {
     "name": "#%% md\n"
    }
   }
  },
  {
   "cell_type": "code",
   "execution_count": 39,
   "outputs": [],
   "source": [
    "from sklearn.preprocessing import LabelEncoder\n",
    "le = LabelEncoder()"
   ],
   "metadata": {
    "collapsed": false,
    "pycharm": {
     "name": "#%%\n"
    }
   }
  },
  {
   "cell_type": "markdown",
   "source": [
    "Again, let's transform the test data as well so we don't have to do it twice. LabelEncoder has to be called each time. Let's add an unknown label to take care of issues with the test data."
   ],
   "metadata": {
    "collapsed": false,
    "pycharm": {
     "name": "#%% md\n"
    }
   }
  },
  {
   "cell_type": "code",
   "execution_count": 40,
   "outputs": [
    {
     "name": "stderr",
     "output_type": "stream",
     "text": [
      "<ipython-input-40-dd8f74988a74>:1: SettingWithCopyWarning: \n",
      "A value is trying to be set on a copy of a slice from a DataFrame.\n",
      "Try using .loc[row_indexer,col_indexer] = value instead\n",
      "\n",
      "See the caveats in the documentation: https://pandas.pydata.org/pandas-docs/stable/user_guide/indexing.html#returning-a-view-versus-a-copy\n",
      "  train[\"Description\"] = le.fit_transform(train[train.columns[0]])\n"
     ]
    }
   ],
   "source": [
    "train[\"Description\"] = le.fit_transform(train[train.columns[0]])\n",
    "Description = dict(zip(le.classes_, le.transform(le.classes_)))\n"
   ],
   "metadata": {
    "collapsed": false,
    "pycharm": {
     "name": "#%%\n"
    }
   }
  },
  {
   "cell_type": "code",
   "execution_count": 41,
   "outputs": [
    {
     "name": "stderr",
     "output_type": "stream",
     "text": [
      "<ipython-input-41-2490a7a8ba10>:1: SettingWithCopyWarning: \n",
      "A value is trying to be set on a copy of a slice from a DataFrame.\n",
      "Try using .loc[row_indexer,col_indexer] = value instead\n",
      "\n",
      "See the caveats in the documentation: https://pandas.pydata.org/pandas-docs/stable/user_guide/indexing.html#returning-a-view-versus-a-copy\n",
      "  test[\"Description\"] = le.transform(test[\"Description\"])\n"
     ]
    }
   ],
   "source": [
    "test[\"Description\"] = le.transform(test[\"Description\"])"
   ],
   "metadata": {
    "collapsed": false,
    "pycharm": {
     "name": "#%%\n"
    }
   }
  },
  {
   "cell_type": "code",
   "execution_count": 42,
   "outputs": [
    {
     "name": "stderr",
     "output_type": "stream",
     "text": [
      "<ipython-input-42-da6a39826da7>:1: SettingWithCopyWarning: \n",
      "A value is trying to be set on a copy of a slice from a DataFrame.\n",
      "Try using .loc[row_indexer,col_indexer] = value instead\n",
      "\n",
      "See the caveats in the documentation: https://pandas.pydata.org/pandas-docs/stable/user_guide/indexing.html#returning-a-view-versus-a-copy\n",
      "  train[\"District\"] = le.fit_transform(train[train.columns[2]])\n"
     ]
    }
   ],
   "source": [
    "train[\"District\"] = le.fit_transform(train[train.columns[2]])\n",
    "District = dict(zip(le.classes_, le.transform(le.classes_)))"
   ],
   "metadata": {
    "collapsed": false,
    "pycharm": {
     "name": "#%%\n"
    }
   }
  },
  {
   "cell_type": "code",
   "execution_count": 43,
   "outputs": [
    {
     "name": "stderr",
     "output_type": "stream",
     "text": [
      "<ipython-input-43-e71555037c98>:1: SettingWithCopyWarning: \n",
      "A value is trying to be set on a copy of a slice from a DataFrame.\n",
      "Try using .loc[row_indexer,col_indexer] = value instead\n",
      "\n",
      "See the caveats in the documentation: https://pandas.pydata.org/pandas-docs/stable/user_guide/indexing.html#returning-a-view-versus-a-copy\n",
      "  test[\"District\"] = le.transform(test[\"District\"])\n"
     ]
    }
   ],
   "source": [
    "test[\"District\"] = le.transform(test[\"District\"])"
   ],
   "metadata": {
    "collapsed": false,
    "pycharm": {
     "name": "#%%\n"
    }
   }
  },
  {
   "cell_type": "code",
   "execution_count": 44,
   "outputs": [
    {
     "name": "stderr",
     "output_type": "stream",
     "text": [
      "<ipython-input-44-f75cebfd2a4f>:1: SettingWithCopyWarning: \n",
      "A value is trying to be set on a copy of a slice from a DataFrame.\n",
      "Try using .loc[row_indexer,col_indexer] = value instead\n",
      "\n",
      "See the caveats in the documentation: https://pandas.pydata.org/pandas-docs/stable/user_guide/indexing.html#returning-a-view-versus-a-copy\n",
      "  train[\"Neighborhood\"] = le.fit_transform(train[train.columns[3]])\n"
     ]
    }
   ],
   "source": [
    "train[\"Neighborhood\"] = le.fit_transform(train[train.columns[3]])\n",
    "Neighborhood = dict(zip(le.classes_, le.transform(le.classes_)))"
   ],
   "metadata": {
    "collapsed": false,
    "pycharm": {
     "name": "#%%\n"
    }
   }
  },
  {
   "cell_type": "code",
   "execution_count": 45,
   "outputs": [
    {
     "name": "stderr",
     "output_type": "stream",
     "text": [
      "<ipython-input-45-e3ce4ac61923>:1: SettingWithCopyWarning: \n",
      "A value is trying to be set on a copy of a slice from a DataFrame.\n",
      "Try using .loc[row_indexer,col_indexer] = value instead\n",
      "\n",
      "See the caveats in the documentation: https://pandas.pydata.org/pandas-docs/stable/user_guide/indexing.html#returning-a-view-versus-a-copy\n",
      "  test[\"Neighborhood\"] = le.transform(test[\"Neighborhood\"])\n"
     ]
    }
   ],
   "source": [
    "test[\"Neighborhood\"] = le.transform(test[\"Neighborhood\"])\n"
   ],
   "metadata": {
    "collapsed": false,
    "pycharm": {
     "name": "#%%\n"
    }
   }
  },
  {
   "cell_type": "code",
   "execution_count": 46,
   "outputs": [],
   "source": [
    "temp = le.fit(train[train.columns[6]])\n"
   ],
   "metadata": {
    "collapsed": false,
    "pycharm": {
     "name": "#%%\n"
    }
   }
  },
  {
   "cell_type": "code",
   "execution_count": 47,
   "outputs": [],
   "source": [
    "import bisect\n",
    "le_classes = le.classes_.tolist()\n",
    "bisect.insort_left(le_classes, '<unknown>')\n",
    "le.classes_ = le_classes"
   ],
   "metadata": {
    "collapsed": false,
    "pycharm": {
     "name": "#%%\n"
    }
   }
  },
  {
   "cell_type": "code",
   "execution_count": 48,
   "outputs": [
    {
     "data": {
      "text/plain": "['<unknown>',\n 'ALLEY',\n 'APARTMENT',\n 'ATM MACHIN',\n 'AUTO PARTS',\n 'BANK/FINAN',\n 'BAR',\n 'BARBER/BEA',\n 'BOAT/SHIP',\n 'BUS. PARK',\n 'BUS/AUTO',\n 'BUS/RAILRO',\n 'CAR  REPAI',\n 'CAR LOT-NE',\n 'CARRY OUT',\n 'CLOTHING/S',\n 'CLUB HOUSE',\n 'CONSTRUCTI',\n 'CONVENIENC',\n 'CONVENTION',\n 'COURT HOUS',\n 'DEPARTMENT',\n 'DOCTORS OF',\n 'DRIVEWAY',\n 'DRUG STORE',\n 'DWELLING',\n 'FAST FOOD',\n 'FIRE DEPAR',\n 'GAS STATIO',\n 'GROCERY/CO',\n 'HARDWARE/B',\n 'HOSPITAL',\n 'HOTEL/MOTE',\n 'INNER HARB',\n 'LAUNDRY/CL',\n 'LIBRARY',\n 'LIGHT RAIL',\n 'LIQUOR STO',\n 'MARKET STA',\n 'NIGHT DEPO',\n 'OFFICE BUI',\n 'OTHER - IN',\n 'OTHER - OU',\n 'OTHER/RESI',\n 'PARK',\n 'PARKING LO',\n 'PAWN SHOP',\n 'PLAYGROUND',\n 'PORCH/DECK',\n 'PUBLIC ARE',\n 'PUBLIC BUI',\n 'PUBLIC HOU',\n 'RACE TRACK',\n 'RECREATION',\n 'RELIGIOUS',\n 'RESTAURANT',\n 'RETAIL/SMA',\n 'ROW/TOWNHO',\n 'SALESMAN/C',\n 'SCHOOL',\n 'SCHOOL PLA',\n 'SHED/GARAG',\n 'SHED/GARAGE',\n 'SHOPPING M',\n 'SINGLE HOU',\n 'SPECIALTY',\n 'STADIUM',\n 'STREET',\n 'THEATRE',\n 'UNKNOWN',\n 'UTILITIES-',\n 'VACANT BUI',\n 'VACANT LOT',\n 'WAREHOUSE',\n 'WHOLESALE/',\n 'YARD']"
     },
     "execution_count": 48,
     "metadata": {},
     "output_type": "execute_result"
    }
   ],
   "source": [
    "le.classes_"
   ],
   "metadata": {
    "collapsed": false,
    "pycharm": {
     "name": "#%%\n"
    }
   }
  },
  {
   "cell_type": "code",
   "execution_count": 49,
   "outputs": [],
   "source": [
    "Premise = dict(zip(le.classes_, le.transform(le.classes_)))\n"
   ],
   "metadata": {
    "collapsed": false,
    "pycharm": {
     "name": "#%%\n"
    }
   }
  },
  {
   "cell_type": "code",
   "execution_count": 50,
   "outputs": [
    {
     "name": "stderr",
     "output_type": "stream",
     "text": [
      "<ipython-input-50-1f5d965f6ce4>:1: SettingWithCopyWarning: \n",
      "A value is trying to be set on a copy of a slice from a DataFrame.\n",
      "Try using .loc[row_indexer,col_indexer] = value instead\n",
      "\n",
      "See the caveats in the documentation: https://pandas.pydata.org/pandas-docs/stable/user_guide/indexing.html#returning-a-view-versus-a-copy\n",
      "  train[\"Premise\"] = le.transform(train[train.columns[6]])\n"
     ]
    }
   ],
   "source": [
    "train[\"Premise\"] = le.transform(train[train.columns[6]])"
   ],
   "metadata": {
    "collapsed": false,
    "pycharm": {
     "name": "#%%\n"
    }
   }
  },
  {
   "cell_type": "code",
   "execution_count": 51,
   "outputs": [
    {
     "name": "stderr",
     "output_type": "stream",
     "text": [
      "c:\\users\\administrator\\documents\\github\\dazed-confusion-matrix\\venv\\lib\\site-packages\\pandas\\core\\indexing.py:1720: SettingWithCopyWarning: \n",
      "A value is trying to be set on a copy of a slice from a DataFrame.\n",
      "Try using .loc[row_indexer,col_indexer] = value instead\n",
      "\n",
      "See the caveats in the documentation: https://pandas.pydata.org/pandas-docs/stable/user_guide/indexing.html#returning-a-view-versus-a-copy\n",
      "  self._setitem_single_column(loc, value, pi)\n"
     ]
    }
   ],
   "source": [
    "test.loc[~test[\"Premise\"].isin(le.classes_),\"Premise\"] = \"<unknown>\""
   ],
   "metadata": {
    "collapsed": false,
    "pycharm": {
     "name": "#%%\n"
    }
   }
  },
  {
   "cell_type": "code",
   "execution_count": 52,
   "outputs": [
    {
     "name": "stderr",
     "output_type": "stream",
     "text": [
      "<ipython-input-52-920e440ab0ad>:1: SettingWithCopyWarning: \n",
      "A value is trying to be set on a copy of a slice from a DataFrame.\n",
      "Try using .loc[row_indexer,col_indexer] = value instead\n",
      "\n",
      "See the caveats in the documentation: https://pandas.pydata.org/pandas-docs/stable/user_guide/indexing.html#returning-a-view-versus-a-copy\n",
      "  test[\"Premise\"] = le.transform(test[\"Premise\"])\n"
     ]
    }
   ],
   "source": [
    "test[\"Premise\"] = le.transform(test[\"Premise\"])"
   ],
   "metadata": {
    "collapsed": false,
    "pycharm": {
     "name": "#%%\n"
    }
   }
  },
  {
   "cell_type": "code",
   "execution_count": 53,
   "outputs": [],
   "source": [
    "temp = le.fit(train[train.columns[7]])"
   ],
   "metadata": {
    "collapsed": false,
    "pycharm": {
     "name": "#%%\n"
    }
   }
  },
  {
   "cell_type": "code",
   "execution_count": 54,
   "outputs": [],
   "source": [
    "le_classes = le.classes_.tolist()\n",
    "bisect.insort_left(le_classes, '<unknown>')\n",
    "le.classes_ = le_classes"
   ],
   "metadata": {
    "collapsed": false,
    "pycharm": {
     "name": "#%%\n"
    }
   }
  },
  {
   "cell_type": "code",
   "execution_count": 55,
   "outputs": [],
   "source": [
    "Call_Desc = dict(zip(le.classes_, le.transform(le.classes_)))\n"
   ],
   "metadata": {
    "collapsed": false,
    "pycharm": {
     "name": "#%%\n"
    }
   }
  },
  {
   "cell_type": "code",
   "execution_count": 56,
   "outputs": [
    {
     "name": "stderr",
     "output_type": "stream",
     "text": [
      "<ipython-input-56-3846805b1696>:1: SettingWithCopyWarning: \n",
      "A value is trying to be set on a copy of a slice from a DataFrame.\n",
      "Try using .loc[row_indexer,col_indexer] = value instead\n",
      "\n",
      "See the caveats in the documentation: https://pandas.pydata.org/pandas-docs/stable/user_guide/indexing.html#returning-a-view-versus-a-copy\n",
      "  train[\"CallDescription\"] = le.transform(train[train.columns[7]])\n"
     ]
    }
   ],
   "source": [
    "train[\"CallDescription\"] = le.transform(train[train.columns[7]])"
   ],
   "metadata": {
    "collapsed": false,
    "pycharm": {
     "name": "#%%\n"
    }
   }
  },
  {
   "cell_type": "code",
   "execution_count": 57,
   "outputs": [
    {
     "name": "stderr",
     "output_type": "stream",
     "text": [
      "c:\\users\\administrator\\documents\\github\\dazed-confusion-matrix\\venv\\lib\\site-packages\\pandas\\core\\indexing.py:1720: SettingWithCopyWarning: \n",
      "A value is trying to be set on a copy of a slice from a DataFrame.\n",
      "Try using .loc[row_indexer,col_indexer] = value instead\n",
      "\n",
      "See the caveats in the documentation: https://pandas.pydata.org/pandas-docs/stable/user_guide/indexing.html#returning-a-view-versus-a-copy\n",
      "  self._setitem_single_column(loc, value, pi)\n"
     ]
    }
   ],
   "source": [
    "test.loc[~test[\"CallDescription\"].isin(le.classes_),\"CallDescription\"] = \"<unknown>\""
   ],
   "metadata": {
    "collapsed": false,
    "pycharm": {
     "name": "#%%\n"
    }
   }
  },
  {
   "cell_type": "code",
   "execution_count": 58,
   "outputs": [
    {
     "name": "stderr",
     "output_type": "stream",
     "text": [
      "<ipython-input-58-157e6b88c743>:1: SettingWithCopyWarning: \n",
      "A value is trying to be set on a copy of a slice from a DataFrame.\n",
      "Try using .loc[row_indexer,col_indexer] = value instead\n",
      "\n",
      "See the caveats in the documentation: https://pandas.pydata.org/pandas-docs/stable/user_guide/indexing.html#returning-a-view-versus-a-copy\n",
      "  test[\"CallDescription\"] = le.transform(test[\"CallDescription\"])\n"
     ]
    }
   ],
   "source": [
    "test[\"CallDescription\"] = le.transform(test[\"CallDescription\"])"
   ],
   "metadata": {
    "collapsed": false,
    "pycharm": {
     "name": "#%%\n"
    }
   }
  },
  {
   "cell_type": "markdown",
   "source": [
    "Finally we can impute"
   ],
   "metadata": {
    "collapsed": false,
    "pycharm": {
     "name": "#%% md\n"
    }
   }
  },
  {
   "cell_type": "code",
   "execution_count": 59,
   "outputs": [],
   "source": [
    "kernel = mf.MultipleImputedKernel(data=train, save_all_iterations=True,random_state=42069)\n"
   ],
   "metadata": {
    "collapsed": false,
    "pycharm": {
     "name": "#%%\n"
    }
   }
  },
  {
   "cell_type": "code",
   "execution_count": 60,
   "outputs": [
    {
     "name": "stdout",
     "output_type": "stream",
     "text": [
      "Dataset 0\n",
      "1  | median_household_income | households_below_poverty | perc18_24 | perc25_64 | perc65up | perc_asian | perc_aa | perc_hisp | perc_white | median_price_homes_sold | racial_diversity_index | num_households\n",
      "2  | median_household_income | households_below_poverty | perc18_24 | perc25_64 | perc65up | perc_asian | perc_aa | perc_hisp | perc_white | median_price_homes_sold | racial_diversity_index | num_households\n",
      "3  | median_household_income | households_below_poverty | perc18_24 | perc25_64 | perc65up | perc_asian | perc_aa | perc_hisp | perc_white | median_price_homes_sold | racial_diversity_index | num_households\n",
      "4  | median_household_income | households_below_poverty | perc18_24 | perc25_64 | perc65up | perc_asian | perc_aa | perc_hisp | perc_white | median_price_homes_sold | racial_diversity_index | num_households\n",
      "5  | median_household_income | households_below_poverty | perc18_24 | perc25_64 | perc65up | perc_asian | perc_aa | perc_hisp | perc_white | median_price_homes_sold | racial_diversity_index | num_households\n",
      "Dataset 1\n",
      "1  | median_household_income | households_below_poverty | perc18_24 | perc25_64 | perc65up | perc_asian | perc_aa | perc_hisp | perc_white | median_price_homes_sold | racial_diversity_index | num_households\n",
      "2  | median_household_income | households_below_poverty | perc18_24 | perc25_64 | perc65up | perc_asian | perc_aa | perc_hisp | perc_white | median_price_homes_sold | racial_diversity_index | num_households\n",
      "3  | median_household_income | households_below_poverty | perc18_24 | perc25_64 | perc65up | perc_asian | perc_aa | perc_hisp | perc_white | median_price_homes_sold | racial_diversity_index | num_households\n",
      "4  | median_household_income | households_below_poverty | perc18_24 | perc25_64 | perc65up | perc_asian | perc_aa | perc_hisp | perc_white | median_price_homes_sold | racial_diversity_index | num_households\n",
      "5  | median_household_income | households_below_poverty | perc18_24 | perc25_64 | perc65up | perc_asian | perc_aa | perc_hisp | perc_white | median_price_homes_sold | racial_diversity_index | num_households\n",
      "Dataset 2\n",
      "1  | median_household_income | households_below_poverty | perc18_24 | perc25_64 | perc65up | perc_asian | perc_aa | perc_hisp | perc_white | median_price_homes_sold | racial_diversity_index | num_households\n",
      "2  | median_household_income | households_below_poverty | perc18_24 | perc25_64 | perc65up | perc_asian | perc_aa | perc_hisp | perc_white | median_price_homes_sold | racial_diversity_index | num_households\n",
      "3  | median_household_income | households_below_poverty | perc18_24 | perc25_64 | perc65up | perc_asian | perc_aa | perc_hisp | perc_white | median_price_homes_sold | racial_diversity_index | num_households\n",
      "4  | median_household_income | households_below_poverty | perc18_24 | perc25_64 | perc65up | perc_asian | perc_aa | perc_hisp | perc_white | median_price_homes_sold | racial_diversity_index | num_households\n",
      "5  | median_household_income | households_below_poverty | perc18_24 | perc25_64 | perc65up | perc_asian | perc_aa | perc_hisp | perc_white | median_price_homes_sold | racial_diversity_index | num_households\n",
      "Dataset 3\n",
      "1  | median_household_income | households_below_poverty | perc18_24 | perc25_64 | perc65up | perc_asian | perc_aa | perc_hisp | perc_white | median_price_homes_sold | racial_diversity_index | num_households\n",
      "2  | median_household_income | households_below_poverty | perc18_24 | perc25_64 | perc65up | perc_asian | perc_aa | perc_hisp | perc_white | median_price_homes_sold | racial_diversity_index | num_households\n",
      "3  | median_household_income | households_below_poverty | perc18_24 | perc25_64 | perc65up | perc_asian | perc_aa | perc_hisp | perc_white | median_price_homes_sold | racial_diversity_index | num_households\n",
      "4  | median_household_income | households_below_poverty | perc18_24 | perc25_64 | perc65up | perc_asian | perc_aa | perc_hisp | perc_white | median_price_homes_sold | racial_diversity_index | num_households\n",
      "5  | median_household_income | households_below_poverty | perc18_24 | perc25_64 | perc65up | perc_asian | perc_aa | perc_hisp | perc_white | median_price_homes_sold | racial_diversity_index | num_households\n",
      "Dataset 4\n",
      "1  | median_household_income | households_below_poverty | perc18_24 | perc25_64 | perc65up | perc_asian | perc_aa | perc_hisp | perc_white | median_price_homes_sold | racial_diversity_index | num_households\n",
      "2  | median_household_income | households_below_poverty | perc18_24 | perc25_64 | perc65up | perc_asian | perc_aa | perc_hisp | perc_white | median_price_homes_sold | racial_diversity_index | num_households\n",
      "3  | median_household_income | households_below_poverty | perc18_24 | perc25_64 | perc65up | perc_asian | perc_aa | perc_hisp | perc_white | median_price_homes_sold | racial_diversity_index | num_households\n",
      "4  | median_household_income | households_below_poverty | perc18_24 | perc25_64 | perc65up | perc_asian | perc_aa | perc_hisp | perc_white | median_price_homes_sold | racial_diversity_index | num_households\n",
      "5  | median_household_income | households_below_poverty | perc18_24 | perc25_64 | perc65up | perc_asian | perc_aa | perc_hisp | perc_white | median_price_homes_sold | racial_diversity_index | num_households\n"
     ]
    }
   ],
   "source": [
    "kernel.mice(5,verbose=True,n_jobs=-1)"
   ],
   "metadata": {
    "collapsed": false,
    "pycharm": {
     "name": "#%%\n"
    }
   }
  },
  {
   "cell_type": "code",
   "execution_count": 248,
   "outputs": [
    {
     "data": {
      "text/plain": "<Figure size 432x288 with 12 Axes>",
      "image/png": "[encoded data removed]"
     },
     "metadata": {
      "needs_background": "light"
     },
     "output_type": "display_data"
    },
    {
     "data": {
      "text/plain": "<Figure size 432x288 with 12 Axes>",
      "image/png": "[encoded data removed]"
     },
     "metadata": {
      "needs_background": "light"
     },
     "output_type": "display_data"
    }
   ],
   "source": [
    "kernel.plot_correlations(wspace=0.4,hspace=0.5)\n",
    "kernel.plot_mean_convergence()"
   ],
   "metadata": {
    "collapsed": false,
    "pycharm": {
     "name": "#%%\n"
    }
   }
  },
  {
   "cell_type": "markdown",
   "source": [
    "About the same as in the larger data. At least it's consistent"
   ],
   "metadata": {
    "collapsed": false,
    "pycharm": {
     "name": "#%% md\n"
    }
   }
  },
  {
   "cell_type": "markdown",
   "source": [
    "Let's take the average per neighborhood"
   ],
   "metadata": {
    "collapsed": false,
    "pycharm": {
     "name": "#%% md\n"
    }
   }
  },
  {
   "cell_type": "code",
   "execution_count": 61,
   "outputs": [],
   "source": [
    "df_NA = train[train.isna().any(axis=1)]"
   ],
   "metadata": {
    "collapsed": false,
    "pycharm": {
     "name": "#%%\n"
    }
   }
  },
  {
   "cell_type": "code",
   "execution_count": 62,
   "outputs": [],
   "source": [
    "missing_neigh = list(df_NA[\"Neighborhood\"].unique())"
   ],
   "metadata": {
    "collapsed": false,
    "pycharm": {
     "name": "#%%\n"
    }
   }
  },
  {
   "cell_type": "code",
   "execution_count": 63,
   "outputs": [],
   "source": [
    "temp = train.dropna()"
   ],
   "metadata": {
    "collapsed": false,
    "pycharm": {
     "name": "#%%\n"
    }
   }
  },
  {
   "cell_type": "code",
   "execution_count": 64,
   "outputs": [
    {
     "data": {
      "text/plain": "Empty DataFrame\nColumns: [Description, Post, District, Neighborhood, Longitude, Latitude, Premise, CallDescription, Year, median_household_income, households_below_poverty, perc18_24, perc25_64, perc65up, perc_asian, perc_aa, perc_hisp, perc_white, median_price_homes_sold, racial_diversity_index, num_households, Month, crime_hour, Outside, Weapon_FIREARM, Weapon_HANDS, Weapon_KNIFE, Weapon_NONE, Weapon_OTHER, call_hour, Season_autumn, Season_spring, Season_summer, Season_winter, Holiday, Weekend, Priority_HIGH, Priority_LOW, Priority_MEDIUM, Priority_NON-EMERGENCY, Priority_OUT OF SERVICE, Priority_UNKNOWN]\nIndex: []\n\n[0 rows x 42 columns]",
      "text/html": "<div>\n<style scoped>\n    .dataframe tbody tr th:only-of-type {\n        vertical-align: middle;\n    }\n\n    .dataframe tbody tr th {\n        vertical-align: top;\n    }\n\n    .dataframe thead th {\n        text-align: right;\n    }\n</style>\n<table border=\"1\" class=\"dataframe\">\n  <thead>\n    <tr style=\"text-align: right;\">\n      <th></th>\n      <th>Description</th>\n      <th>Post</th>\n      <th>District</th>\n      <th>Neighborhood</th>\n      <th>Longitude</th>\n      <th>Latitude</th>\n      <th>Premise</th>\n      <th>CallDescription</th>\n      <th>Year</th>\n      <th>median_household_income</th>\n      <th>...</th>\n      <th>Season_summer</th>\n      <th>Season_winter</th>\n      <th>Holiday</th>\n      <th>Weekend</th>\n      <th>Priority_HIGH</th>\n      <th>Priority_LOW</th>\n      <th>Priority_MEDIUM</th>\n      <th>Priority_NON-EMERGENCY</th>\n      <th>Priority_OUT OF SERVICE</th>\n      <th>Priority_UNKNOWN</th>\n    </tr>\n  </thead>\n  <tbody>\n  </tbody>\n</table>\n<p>0 rows × 42 columns</p>\n</div>"
     },
     "execution_count": 64,
     "metadata": {},
     "output_type": "execute_result"
    }
   ],
   "source": [
    "temp[temp[\"Neighborhood\"].isin(missing_neigh)]"
   ],
   "metadata": {
    "collapsed": false,
    "pycharm": {
     "name": "#%%\n"
    }
   }
  },
  {
   "cell_type": "code",
   "execution_count": 65,
   "outputs": [
    {
     "data": {
      "text/plain": "[31,\n 48,\n 248,\n 110,\n 188,\n 101,\n 155,\n 165,\n 156,\n 49,\n 185,\n 265,\n 182,\n 228,\n 222,\n 229,\n 137]"
     },
     "execution_count": 65,
     "metadata": {},
     "output_type": "execute_result"
    }
   ],
   "source": [
    "missing_neigh\n"
   ],
   "metadata": {
    "collapsed": false,
    "pycharm": {
     "name": "#%%\n"
    }
   }
  },
  {
   "cell_type": "code",
   "execution_count": 66,
   "outputs": [],
   "source": [
    "completed_data = kernel.complete_data(0)\n"
   ],
   "metadata": {
    "collapsed": false,
    "pycharm": {
     "name": "#%%\n"
    }
   }
  },
  {
   "cell_type": "code",
   "execution_count": 67,
   "outputs": [],
   "source": [
    "means = completed_data.groupby(\"Neighborhood\").mean()"
   ],
   "metadata": {
    "collapsed": false,
    "pycharm": {
     "name": "#%%\n"
    }
   }
  },
  {
   "cell_type": "code",
   "execution_count": 68,
   "outputs": [
    {
     "data": {
      "text/plain": "Description                      7.000000\nPost                           513.000000\nDistrict                         3.000000\nLongitude                      -76.611147\nLatitude                        39.325675\nPremise                         57.923077\nCallDescription                 66.923077\nYear                          2015.000000\nmedian_household_income      32241.138221\nhouseholds_below_poverty        23.847087\nperc18_24                       30.297173\nperc25_64                       52.065716\nperc65up                         7.079005\nperc_asian                      13.862044\nperc_aa                         32.036724\nperc_hisp                        5.200532\nperc_white                      44.485383\nmedian_price_homes_sold     167000.000000\nracial_diversity_index          67.515185\nnum_households              170000.000000\nMonth                            5.923077\ncrime_hour                      17.923077\nOutside                          0.923077\nWeapon_FIREARM                   0.153846\nWeapon_HANDS                     0.076923\nWeapon_KNIFE                     0.000000\nWeapon_NONE                      0.769231\nWeapon_OTHER                     0.000000\ncall_hour                       12.307692\nSeason_autumn                    0.153846\nSeason_spring                    0.307692\nSeason_summer                    0.153846\nSeason_winter                    0.384615\nHoliday                          0.000000\nWeekend                          0.307692\nPriority_HIGH                    0.153846\nPriority_LOW                     0.615385\nPriority_MEDIUM                  0.230769\nPriority_NON-EMERGENCY           0.000000\nPriority_OUT OF SERVICE          0.000000\nPriority_UNKNOWN                 0.000000\nName: 0, dtype: float64"
     },
     "execution_count": 68,
     "metadata": {},
     "output_type": "execute_result"
    }
   ],
   "source": [
    "means.loc[0] #gives the mean values for Neighborhood 0"
   ],
   "metadata": {
    "collapsed": false,
    "pycharm": {
     "name": "#%%\n"
    }
   }
  },
  {
   "cell_type": "code",
   "execution_count": 69,
   "outputs": [],
   "source": [
    "means_1 = means[[\"median_household_income\",\"households_below_poverty\",\"perc18_24\",\"perc25_64\",\"perc65up\",\"perc_asian\",\"perc_aa\",\"perc_hisp\",\"perc_white\",\"median_price_homes_sold\",\"racial_diversity_index\",\"num_households\"]]"
   ],
   "metadata": {
    "collapsed": false,
    "pycharm": {
     "name": "#%%\n"
    }
   }
  },
  {
   "cell_type": "code",
   "execution_count": 70,
   "outputs": [
    {
     "data": {
      "text/plain": "              median_household_income  households_below_poverty  perc18_24  \\\nNeighborhood                                                                 \n31                       38275.264981                 21.466483   9.684237   \n48                       44102.318987                 14.570103   8.956599   \n248                      39159.000600                 24.033555   9.024927   \n110                      42269.424527                 16.340106   8.856210   \n188                      42618.042417                 20.789362   9.322343   \n101                      53064.021380                 11.577135   8.478103   \n155                      38380.777827                 21.783262   8.929459   \n165                      43097.798955                 18.017305   8.572686   \n156                      43907.487626                 14.699578   8.603376   \n49                       39198.139760                 18.919294   9.688698   \n185                      49611.370781                 11.009538   7.957281   \n265                      46793.027751                 12.517344   8.289441   \n182                      60296.189140                  9.792737   8.232473   \n228                      38816.140017                 21.329212   8.999718   \n222                      48063.837246                 11.248803   8.565698   \n229                      45212.784434                 19.510474   8.843772   \n137                      39841.697007                 23.847087   8.367859   \n\n              perc25_64   perc65up  perc_asian    perc_aa  perc_hisp  \\\nNeighborhood                                                           \n31            54.769230  10.485668    1.635046  63.212835   7.892944   \n48            56.460933  11.856502    1.719332  68.558091   3.805212   \n248           55.597806  10.239969    1.726552  67.280798   5.066093   \n110           55.015705  12.698926    1.617462  71.417897   4.349768   \n188           56.225559   9.951727    1.593463  55.554186   9.060029   \n101           58.071892  11.421826    1.754725  60.355161   3.157008   \n155           54.720432  11.338161    1.295277  75.136248   4.907984   \n165           55.649709  11.559736    1.931758  57.182917   7.377819   \n156           56.851117  11.665733    1.650353  71.401408   3.763275   \n49            53.499030  13.427464    1.145096  77.495614   2.948783   \n185           55.212019  13.893511    2.666220  54.704333   4.184107   \n265           55.685756  12.561427    1.576762  68.926238   4.280516   \n182           58.236995  10.762317    1.423722  62.127075   2.341732   \n228           55.685756  10.446122    1.677523  66.773663   6.187690   \n222           54.813601  14.619796    3.733943  51.547241   3.214106   \n229           57.123053  10.306021    2.487119  53.973480   5.897081   \n137           55.075718   9.890578    1.620709  65.191812   8.695652   \n\n              perc_white  median_price_homes_sold  racial_diversity_index  \\\nNeighborhood                                                                \n31             27.454851             87819.736842               56.416779   \n48             21.195789             94189.075630               44.661339   \n248            23.252498             62907.142857               47.040323   \n110            19.534278             91129.411765               43.686194   \n188            36.953675            107865.116279               62.018112   \n101            29.019614            103807.222222               53.445817   \n155            16.863099             64342.105263               44.118403   \n165            34.116784             98808.333333               55.845333   \n156            20.465509             87558.333333               46.497019   \n49             14.401879             69800.000000               34.000832   \n185            34.037064            130612.500000               48.398476   \n265            21.349725             96666.666667               47.535496   \n182            29.024380            105850.000000               53.057430   \n228            23.318203             60333.333333               53.893948   \n222            39.190025            152087.500000               42.985180   \n229            36.645584            105487.500000               53.831859   \n137            30.992808             59000.000000               56.946652   \n\n              num_households  \nNeighborhood                  \n31              94350.000000  \n48             108068.739496  \n248             80566.190476  \n110            105947.058824  \n188            111563.953488  \n101            117514.444444  \n155             81644.736842  \n165            108158.333333  \n156            105725.000000  \n49              88200.000000  \n185            132987.500000  \n265            108700.000000  \n182            116600.000000  \n228             77316.666667  \n222            143912.500000  \n229            115900.000000  \n137             67750.000000  ",
      "text/html": "<div>\n<style scoped>\n    .dataframe tbody tr th:only-of-type {\n        vertical-align: middle;\n    }\n\n    .dataframe tbody tr th {\n        vertical-align: top;\n    }\n\n    .dataframe thead th {\n        text-align: right;\n    }\n</style>\n<table border=\"1\" class=\"dataframe\">\n  <thead>\n    <tr style=\"text-align: right;\">\n      <th></th>\n      <th>median_household_income</th>\n      <th>households_below_poverty</th>\n      <th>perc18_24</th>\n      <th>perc25_64</th>\n      <th>perc65up</th>\n      <th>perc_asian</th>\n      <th>perc_aa</th>\n      <th>perc_hisp</th>\n      <th>perc_white</th>\n      <th>median_price_homes_sold</th>\n      <th>racial_diversity_index</th>\n      <th>num_households</th>\n    </tr>\n    <tr>\n      <th>Neighborhood</th>\n      <th></th>\n      <th></th>\n      <th></th>\n      <th></th>\n      <th></th>\n      <th></th>\n      <th></th>\n      <th></th>\n      <th></th>\n      <th></th>\n      <th></th>\n      <th></th>\n    </tr>\n  </thead>\n  <tbody>\n    <tr>\n      <th>31</th>\n      <td>38275.264981</td>\n      <td>21.466483</td>\n      <td>9.684237</td>\n      <td>54.769230</td>\n      <td>10.485668</td>\n      <td>1.635046</td>\n      <td>63.212835</td>\n      <td>7.892944</td>\n      <td>27.454851</td>\n      <td>87819.736842</td>\n      <td>56.416779</td>\n      <td>94350.000000</td>\n    </tr>\n    <tr>\n      <th>48</th>\n      <td>44102.318987</td>\n      <td>14.570103</td>\n      <td>8.956599</td>\n      <td>56.460933</td>\n      <td>11.856502</td>\n      <td>1.719332</td>\n      <td>68.558091</td>\n      <td>3.805212</td>\n      <td>21.195789</td>\n      <td>94189.075630</td>\n      <td>44.661339</td>\n      <td>108068.739496</td>\n    </tr>\n    <tr>\n      <th>248</th>\n      <td>39159.000600</td>\n      <td>24.033555</td>\n      <td>9.024927</td>\n      <td>55.597806</td>\n      <td>10.239969</td>\n      <td>1.726552</td>\n      <td>67.280798</td>\n      <td>5.066093</td>\n      <td>23.252498</td>\n      <td>62907.142857</td>\n      <td>47.040323</td>\n      <td>80566.190476</td>\n    </tr>\n    <tr>\n      <th>110</th>\n      <td>42269.424527</td>\n      <td>16.340106</td>\n      <td>8.856210</td>\n      <td>55.015705</td>\n      <td>12.698926</td>\n      <td>1.617462</td>\n      <td>71.417897</td>\n      <td>4.349768</td>\n      <td>19.534278</td>\n      <td>91129.411765</td>\n      <td>43.686194</td>\n      <td>105947.058824</td>\n    </tr>\n    <tr>\n      <th>188</th>\n      <td>42618.042417</td>\n      <td>20.789362</td>\n      <td>9.322343</td>\n      <td>56.225559</td>\n      <td>9.951727</td>\n      <td>1.593463</td>\n      <td>55.554186</td>\n      <td>9.060029</td>\n      <td>36.953675</td>\n      <td>107865.116279</td>\n      <td>62.018112</td>\n      <td>111563.953488</td>\n    </tr>\n    <tr>\n      <th>101</th>\n      <td>53064.021380</td>\n      <td>11.577135</td>\n      <td>8.478103</td>\n      <td>58.071892</td>\n      <td>11.421826</td>\n      <td>1.754725</td>\n      <td>60.355161</td>\n      <td>3.157008</td>\n      <td>29.019614</td>\n      <td>103807.222222</td>\n      <td>53.445817</td>\n      <td>117514.444444</td>\n    </tr>\n    <tr>\n      <th>155</th>\n      <td>38380.777827</td>\n      <td>21.783262</td>\n      <td>8.929459</td>\n      <td>54.720432</td>\n      <td>11.338161</td>\n      <td>1.295277</td>\n      <td>75.136248</td>\n      <td>4.907984</td>\n      <td>16.863099</td>\n      <td>64342.105263</td>\n      <td>44.118403</td>\n      <td>81644.736842</td>\n    </tr>\n    <tr>\n      <th>165</th>\n      <td>43097.798955</td>\n      <td>18.017305</td>\n      <td>8.572686</td>\n      <td>55.649709</td>\n      <td>11.559736</td>\n      <td>1.931758</td>\n      <td>57.182917</td>\n      <td>7.377819</td>\n      <td>34.116784</td>\n      <td>98808.333333</td>\n      <td>55.845333</td>\n      <td>108158.333333</td>\n    </tr>\n    <tr>\n      <th>156</th>\n      <td>43907.487626</td>\n      <td>14.699578</td>\n      <td>8.603376</td>\n      <td>56.851117</td>\n      <td>11.665733</td>\n      <td>1.650353</td>\n      <td>71.401408</td>\n      <td>3.763275</td>\n      <td>20.465509</td>\n      <td>87558.333333</td>\n      <td>46.497019</td>\n      <td>105725.000000</td>\n    </tr>\n    <tr>\n      <th>49</th>\n      <td>39198.139760</td>\n      <td>18.919294</td>\n      <td>9.688698</td>\n      <td>53.499030</td>\n      <td>13.427464</td>\n      <td>1.145096</td>\n      <td>77.495614</td>\n      <td>2.948783</td>\n      <td>14.401879</td>\n      <td>69800.000000</td>\n      <td>34.000832</td>\n      <td>88200.000000</td>\n    </tr>\n    <tr>\n      <th>185</th>\n      <td>49611.370781</td>\n      <td>11.009538</td>\n      <td>7.957281</td>\n      <td>55.212019</td>\n      <td>13.893511</td>\n      <td>2.666220</td>\n      <td>54.704333</td>\n      <td>4.184107</td>\n      <td>34.037064</td>\n      <td>130612.500000</td>\n      <td>48.398476</td>\n      <td>132987.500000</td>\n    </tr>\n    <tr>\n      <th>265</th>\n      <td>46793.027751</td>\n      <td>12.517344</td>\n      <td>8.289441</td>\n      <td>55.685756</td>\n      <td>12.561427</td>\n      <td>1.576762</td>\n      <td>68.926238</td>\n      <td>4.280516</td>\n      <td>21.349725</td>\n      <td>96666.666667</td>\n      <td>47.535496</td>\n      <td>108700.000000</td>\n    </tr>\n    <tr>\n      <th>182</th>\n      <td>60296.189140</td>\n      <td>9.792737</td>\n      <td>8.232473</td>\n      <td>58.236995</td>\n      <td>10.762317</td>\n      <td>1.423722</td>\n      <td>62.127075</td>\n      <td>2.341732</td>\n      <td>29.024380</td>\n      <td>105850.000000</td>\n      <td>53.057430</td>\n      <td>116600.000000</td>\n    </tr>\n    <tr>\n      <th>228</th>\n      <td>38816.140017</td>\n      <td>21.329212</td>\n      <td>8.999718</td>\n      <td>55.685756</td>\n      <td>10.446122</td>\n      <td>1.677523</td>\n      <td>66.773663</td>\n      <td>6.187690</td>\n      <td>23.318203</td>\n      <td>60333.333333</td>\n      <td>53.893948</td>\n      <td>77316.666667</td>\n    </tr>\n    <tr>\n      <th>222</th>\n      <td>48063.837246</td>\n      <td>11.248803</td>\n      <td>8.565698</td>\n      <td>54.813601</td>\n      <td>14.619796</td>\n      <td>3.733943</td>\n      <td>51.547241</td>\n      <td>3.214106</td>\n      <td>39.190025</td>\n      <td>152087.500000</td>\n      <td>42.985180</td>\n      <td>143912.500000</td>\n    </tr>\n    <tr>\n      <th>229</th>\n      <td>45212.784434</td>\n      <td>19.510474</td>\n      <td>8.843772</td>\n      <td>57.123053</td>\n      <td>10.306021</td>\n      <td>2.487119</td>\n      <td>53.973480</td>\n      <td>5.897081</td>\n      <td>36.645584</td>\n      <td>105487.500000</td>\n      <td>53.831859</td>\n      <td>115900.000000</td>\n    </tr>\n    <tr>\n      <th>137</th>\n      <td>39841.697007</td>\n      <td>23.847087</td>\n      <td>8.367859</td>\n      <td>55.075718</td>\n      <td>9.890578</td>\n      <td>1.620709</td>\n      <td>65.191812</td>\n      <td>8.695652</td>\n      <td>30.992808</td>\n      <td>59000.000000</td>\n      <td>56.946652</td>\n      <td>67750.000000</td>\n    </tr>\n  </tbody>\n</table>\n</div>"
     },
     "execution_count": 70,
     "metadata": {},
     "output_type": "execute_result"
    }
   ],
   "source": [
    "means_1.loc[missing_neigh]"
   ],
   "metadata": {
    "collapsed": false,
    "pycharm": {
     "name": "#%%\n"
    }
   }
  },
  {
   "cell_type": "code",
   "execution_count": 71,
   "outputs": [],
   "source": [
    "missing_means = means_1.loc[missing_neigh]\n"
   ],
   "metadata": {
    "collapsed": false,
    "pycharm": {
     "name": "#%%\n"
    }
   }
  },
  {
   "cell_type": "code",
   "execution_count": 72,
   "outputs": [],
   "source": [
    "for i in missing_neigh:\n",
    "    completed_data.loc[completed_data[\"Neighborhood\"]==i,\"median_household_income\"] = missing_means[\"median_household_income\"].loc[i]\n",
    "    completed_data.loc[completed_data[\"Neighborhood\"]==i,\"households_below_poverty\"] = missing_means[\"households_below_poverty\"].loc[i]\n",
    "    completed_data.loc[completed_data[\"Neighborhood\"]==i,\"perc18_24\"] = missing_means[\"perc18_24\"].loc[i]\n",
    "    completed_data.loc[completed_data[\"Neighborhood\"]==i,\"perc25_64\"] = missing_means[\"perc25_64\"].loc[i]\n",
    "    completed_data.loc[completed_data[\"Neighborhood\"]==i,\"perc65up\"] = missing_means[\"perc65up\"].loc[i]\n",
    "    completed_data.loc[completed_data[\"Neighborhood\"]==i,\"perc_asian\"] = missing_means[\"perc_asian\"].loc[i]\n",
    "    completed_data.loc[completed_data[\"Neighborhood\"]==i,\"perc_aa\"] = missing_means[\"perc_aa\"].loc[i]\n",
    "    completed_data.loc[completed_data[\"Neighborhood\"]==i,\"perc_hisp\"] = missing_means[\"perc_hisp\"].loc[i]\n",
    "    completed_data.loc[completed_data[\"Neighborhood\"]==i,\"perc_white\"] = missing_means[\"perc_white\"].loc[i]\n",
    "    completed_data.loc[completed_data[\"Neighborhood\"]==i,\"median_price_homes_sold\"] = missing_means[\"median_price_homes_sold\"].loc[i]\n",
    "    completed_data.loc[completed_data[\"Neighborhood\"]==i,\"racial_diversity_index\"] = missing_means[\"racial_diversity_index\"].loc[i]\n",
    "    completed_data.loc[completed_data[\"Neighborhood\"]==i,\"num_households\"] = missing_means[\"num_households\"].loc[i]\n"
   ],
   "metadata": {
    "collapsed": false,
    "pycharm": {
     "name": "#%%\n"
    }
   }
  },
  {
   "cell_type": "code",
   "execution_count": 74,
   "outputs": [],
   "source": [
    "completed_data.to_csv(\"../data/TRAIN_911_DEMO_MERGED_ENCODED.CSV\",index=False)"
   ],
   "metadata": {
    "collapsed": false,
    "pycharm": {
     "name": "#%%\n"
    }
   }
  },
  {
   "cell_type": "markdown",
   "source": [
    "# RUN FROM HERE IF MODEL FILE CORRUPT AGAIN"
   ],
   "metadata": {
    "collapsed": false,
    "pycharm": {
     "name": "#%% md\n"
    }
   }
  },
  {
   "cell_type": "code",
   "execution_count": 4,
   "outputs": [],
   "source": [
    "completed_data = pd.read_csv(\"../data/TRAIN_911_DEMO_MERGED_ENCODED.CSV\")"
   ],
   "metadata": {
    "collapsed": false,
    "pycharm": {
     "name": "#%%\n"
    }
   }
  },
  {
   "cell_type": "code",
   "execution_count": 5,
   "outputs": [],
   "source": [
    "X = completed_data.drop(columns=[\"Description\"])\n",
    "y = completed_data[\"Description\"]"
   ],
   "metadata": {
    "collapsed": false,
    "pycharm": {
     "name": "#%%\n"
    }
   }
  },
  {
   "cell_type": "code",
   "execution_count": 263,
   "outputs": [
    {
     "data": {
      "text/plain": "Index(['Post', 'District', 'Neighborhood', 'Longitude', 'Latitude', 'Premise',\n       'CallDescription', 'Year', 'median_household_income',\n       'households_below_poverty', 'perc18_24', 'perc25_64', 'perc65up',\n       'perc_asian', 'perc_aa', 'perc_hisp', 'perc_white',\n       'median_price_homes_sold', 'racial_diversity_index', 'num_households',\n       'Month', 'crime_hour', 'Outside', 'Weapon_FIREARM', 'Weapon_HANDS',\n       'Weapon_KNIFE', 'Weapon_NONE', 'Weapon_OTHER', 'call_hour',\n       'Season_autumn', 'Season_spring', 'Season_summer', 'Season_winter',\n       'Holiday', 'Weekend', 'Priority_HIGH', 'Priority_LOW',\n       'Priority_MEDIUM', 'Priority_NON-EMERGENCY', 'Priority_OUT OF SERVICE',\n       'Priority_UNKNOWN'],\n      dtype='object')"
     },
     "execution_count": 263,
     "metadata": {},
     "output_type": "execute_result"
    }
   ],
   "source": [
    "X.columns"
   ],
   "metadata": {
    "collapsed": false,
    "pycharm": {
     "name": "#%%\n"
    }
   }
  },
  {
   "cell_type": "code",
   "execution_count": 6,
   "outputs": [],
   "source": [
    "X = X.drop(columns=[\"Post\",\"District\",\"Longitude\", \"Latitude\", \"Year\", \"Season_autumn\", \"Season_spring\", \"Season_winter\", \"Season_summer\"])"
   ],
   "metadata": {
    "collapsed": false,
    "pycharm": {
     "name": "#%%\n"
    }
   }
  },
  {
   "cell_type": "code",
   "execution_count": 10,
   "outputs": [],
   "source": [
    "X_train, X_valid, y_train, y_valid = train_test_split(X,y,test_size=0.2,random_state=42069)\n"
   ],
   "metadata": {
    "collapsed": false,
    "pycharm": {
     "name": "#%%\n"
    }
   }
  },
  {
   "cell_type": "markdown",
   "source": [
    "Finally we can train a bloody model. Let's just do lightGBM. Running out of time. This is due very soon."
   ],
   "metadata": {
    "collapsed": false,
    "pycharm": {
     "name": "#%% md\n"
    }
   }
  },
  {
   "cell_type": "code",
   "execution_count": 1,
   "outputs": [],
   "source": [
    "import mlflow\n",
    "import mlflow.pyfunc\n",
    "import mlflow.sklearn\n",
    "import mlflow.lightgbm\n",
    "from sklearn.model_selection import cross_val_score\n",
    "from hyperopt import fmin, tpe, hp, Trials, STATUS_OK\n",
    "from hyperopt.pyll import scope\n",
    "from IPython.display import Image\n"
   ],
   "metadata": {
    "collapsed": false,
    "pycharm": {
     "name": "#%%\n"
    }
   }
  },
  {
   "cell_type": "code",
   "execution_count": 267,
   "outputs": [],
   "source": [
    "search_space = {\n",
    "    'max_depth': scope.int(hp.quniform('max_depth', 4, 30,1)),\n",
    "    'n_estimators': scope.int(hp.quniform('n_estimators', 4, 200, 1)),\n",
    "    'num_leaves': scope.int(hp.quniform('num_leaves', 5, 50,1)),\n",
    "    'reg_alpha': hp.loguniform('reg_l1', -6, 7),\n",
    "    'min_child_weight': hp.uniform('min_child_weight', 0, 1),\n",
    "    'min_child_samples': scope.int(hp.quniform('min_child_samples',4,40,1)),\n",
    "    'objective': \"multiclass\",\n",
    "    \"random_state\": 42069,\n",
    "    \"n_jobs\": -1,\n",
    "    \"silent\": True,\n",
    "    \"num_class\": 15,\n",
    "    \"boosting\": hp.choice(\"boosting\",[\"gbdt\", \"dart\", \"goss\"]),\n",
    "    \"class_weight\": hp.choice(\"class_weight\",[\"balanced\",None])\n",
    "}"
   ],
   "metadata": {
    "collapsed": false,
    "pycharm": {
     "name": "#%%\n"
    }
   }
  },
  {
   "cell_type": "code",
   "execution_count": 268,
   "outputs": [],
   "source": [
    "def train_model(params):\n",
    "    mlflow.lightgbm.autolog()\n",
    "    with mlflow.start_run(nested=True):\n",
    "        booster = lgb.LGBMClassifier()\n",
    "        booster.set_params(**params)\n",
    "        booster.fit(X,y)\n",
    "\n",
    "        mlflow.log_params(params)\n",
    "\n",
    "        score = cross_val_score(booster, X, y, cv=5, scoring='f1_macro', n_jobs=-1)\n",
    "        mean_score = np.mean(score)\n",
    "\n",
    "        mlflow.log_metric('f1_macro', mean_score)\n",
    "\n",
    "        return {'status': STATUS_OK, 'loss': -1*mean_score, 'booster': booster.get_params()}"
   ],
   "metadata": {
    "collapsed": false,
    "pycharm": {
     "name": "#%%\n"
    }
   }
  },
  {
   "cell_type": "code",
   "execution_count": 269,
   "outputs": [
    {
     "name": "stdout",
     "output_type": "stream",
     "text": [
      "[LightGBM] [Warning]                                  \n",
      "boosting is set=dart, boosting_type=gbdt will be ignored. Current value: boosting=dart\n",
      "100%|██████████| 50/50 [02:10<00:00,  2.62s/trial, best loss: -0.5611587738965664]\n"
     ]
    }
   ],
   "source": [
    "with mlflow.start_run(run_name='lightgbm_911_1'):\n",
    "  best_params = fmin(\n",
    "    fn=train_model,\n",
    "    space=search_space,\n",
    "    algo=tpe.suggest,\n",
    "    max_evals=50,\n",
    "    trials=Trials(),\n",
    "    rstate=np.random.RandomState(42069)\n",
    "  )\n"
   ],
   "metadata": {
    "collapsed": false,
    "pycharm": {
     "name": "#%%\n"
    }
   }
  },
  {
   "cell_type": "markdown",
   "source": [
    "Oops. Let's redo that with the proper X and y, and use the validation sets for early stopping.\n",
    "\n"
   ],
   "metadata": {
    "collapsed": false,
    "pycharm": {
     "name": "#%% md\n"
    }
   }
  },
  {
   "cell_type": "code",
   "execution_count": 282,
   "outputs": [],
   "source": [
    "def train_model(params):\n",
    "    mlflow.lightgbm.autolog()\n",
    "    with mlflow.start_run(nested=True):\n",
    "        booster = lgb.LGBMClassifier(**params, n_jobs=-1, silent=True, objective = \"multiclass\",random_state=42069,\n",
    "                    num_class=15)\n",
    "        booster.fit(X_train,y_train,eval_metric=\"auc_mu\", eval_set=[(X_valid, y_valid)], early_stopping_rounds=15)\n",
    "\n",
    "        mlflow.log_params(params)\n",
    "\n",
    "        score = cross_val_score(booster, X_train, y_train, cv=5, scoring='f1_macro', n_jobs=-1)\n",
    "        mean_score = np.mean(score)\n",
    "\n",
    "        mlflow.log_metric('f1_macro', mean_score)\n",
    "\n",
    "        return {'status': STATUS_OK, 'loss': -1*mean_score, 'booster': booster.get_params()}"
   ],
   "metadata": {
    "collapsed": false,
    "pycharm": {
     "name": "#%%\n"
    }
   }
  },
  {
   "cell_type": "code",
   "execution_count": 283,
   "outputs": [],
   "source": [
    "search_space = {\n",
    "    'max_depth': scope.int(hp.quniform('max_depth', 4, 30,1)),\n",
    "    'n_estimators': scope.int(hp.quniform('n_estimators', 4, 200, 1)),\n",
    "    'num_leaves': scope.int(hp.quniform('num_leaves', 5, 50,1)),\n",
    "    'reg_alpha': hp.loguniform('reg_l1', -6, 7),\n",
    "    'min_child_weight': hp.uniform('min_child_weight', 0, 1),\n",
    "    'min_child_samples': scope.int(hp.quniform('min_child_samples',4,40,1)),\n",
    "    \"boosting\": hp.choice(\"boosting\",[\"gbdt\", \"dart\", \"goss\"]),\n",
    "    \"class_weight\": hp.choice(\"class_weight\",[\"balanced\",None])\n",
    "}"
   ],
   "metadata": {
    "collapsed": false,
    "pycharm": {
     "name": "#%%\n"
    }
   }
  },
  {
   "cell_type": "code",
   "execution_count": 284,
   "outputs": [
    {
     "name": "stdout",
     "output_type": "stream",
     "text": [
      "[1]\tvalid_0's auc_mu: 0.926991\tvalid_0's multi_logloss: 1.88533\n",
      "[2]\tvalid_0's auc_mu: 0.943708\tvalid_0's multi_logloss: 1.61635\n",
      "[3]\tvalid_0's auc_mu: 0.955199\tvalid_0's multi_logloss: 1.43055\n",
      "[4]\tvalid_0's auc_mu: 0.957861\tvalid_0's multi_logloss: 1.29258\n",
      "[5]\tvalid_0's auc_mu: 0.959629\tvalid_0's multi_logloss: 1.1879\n",
      "[6]\tvalid_0's auc_mu: 0.96096\tvalid_0's multi_logloss: 1.10469\n",
      "[7]\tvalid_0's auc_mu: 0.961682\tvalid_0's multi_logloss: 1.03526\n",
      "[8]\tvalid_0's auc_mu: 0.960316\tvalid_0's multi_logloss: 1.16761\n",
      "[9]\tvalid_0's auc_mu: 0.959665\tvalid_0's multi_logloss: 1.08371\n",
      "[10]\tvalid_0's auc_mu: 0.959054\tvalid_0's multi_logloss: 1.09283\n",
      "[11]\tvalid_0's auc_mu: 0.959362\tvalid_0's multi_logloss: 1.02356\n",
      "[12]\tvalid_0's auc_mu: 0.959878\tvalid_0's multi_logloss: 0.967742\n",
      "[13]\tvalid_0's auc_mu: 0.959567\tvalid_0's multi_logloss: 0.979862\n",
      "[14]\tvalid_0's auc_mu: 0.958976\tvalid_0's multi_logloss: 0.974474\n",
      "[15]\tvalid_0's auc_mu: 0.959576\tvalid_0's multi_logloss: 0.927644\n",
      "[16]\tvalid_0's auc_mu: 0.961401\tvalid_0's multi_logloss: 0.889298\n",
      "[17]\tvalid_0's auc_mu: 0.960818\tvalid_0's multi_logloss: 0.856526\n",
      "[18]\tvalid_0's auc_mu: 0.960766\tvalid_0's multi_logloss: 0.829265\n",
      "[19]\tvalid_0's auc_mu: 0.961405\tvalid_0's multi_logloss: 0.847176\n",
      "[20]\tvalid_0's auc_mu: 0.961908\tvalid_0's multi_logloss: 0.819197\n",
      "[21]\tvalid_0's auc_mu: 0.962713\tvalid_0's multi_logloss: 0.794882\n",
      "[22]\tvalid_0's auc_mu: 0.963084\tvalid_0's multi_logloss: 0.775281\n",
      "[23]\tvalid_0's auc_mu: 0.963777\tvalid_0's multi_logloss: 0.757159\n",
      "[24]\tvalid_0's auc_mu: 0.964934\tvalid_0's multi_logloss: 0.742719\n",
      "[25]\tvalid_0's auc_mu: 0.966632\tvalid_0's multi_logloss: 0.731061\n",
      "[26]\tvalid_0's auc_mu: 0.967145\tvalid_0's multi_logloss: 0.720557\n",
      "[27]\tvalid_0's auc_mu: 0.966624\tvalid_0's multi_logloss: 0.713523\n",
      "[28]\tvalid_0's auc_mu: 0.967885\tvalid_0's multi_logloss: 0.706301\n",
      "[29]\tvalid_0's auc_mu: 0.967966\tvalid_0's multi_logloss: 0.702248\n",
      "[30]\tvalid_0's auc_mu: 0.967734\tvalid_0's multi_logloss: 0.69821\n",
      "[31]\tvalid_0's auc_mu: 0.967571\tvalid_0's multi_logloss: 0.693903\n",
      "[32]\tvalid_0's auc_mu: 0.967489\tvalid_0's multi_logloss: 0.693979\n",
      "[33]\tvalid_0's auc_mu: 0.967575\tvalid_0's multi_logloss: 0.696513\n",
      "[34]\tvalid_0's auc_mu: 0.968548\tvalid_0's multi_logloss: 0.692951\n",
      "[35]\tvalid_0's auc_mu: 0.968612\tvalid_0's multi_logloss: 0.697424\n",
      "[36]\tvalid_0's auc_mu: 0.968692\tvalid_0's multi_logloss: 0.692399\n",
      "[37]\tvalid_0's auc_mu: 0.968528\tvalid_0's multi_logloss: 0.694809\n",
      "[38]\tvalid_0's auc_mu: 0.968128\tvalid_0's multi_logloss: 0.697276\n",
      "[39]\tvalid_0's auc_mu: 0.968094\tvalid_0's multi_logloss: 0.692488\n",
      "[40]\tvalid_0's auc_mu: 0.968054\tvalid_0's multi_logloss: 0.687567\n",
      "[41]\tvalid_0's auc_mu: 0.968007\tvalid_0's multi_logloss: 0.690392\n",
      "[42]\tvalid_0's auc_mu: 0.968026\tvalid_0's multi_logloss: 0.686164\n",
      "[43]\tvalid_0's auc_mu: 0.967792\tvalid_0's multi_logloss: 0.690689\n",
      "[44]\tvalid_0's auc_mu: 0.96778\tvalid_0's multi_logloss: 0.687313\n",
      "[45]\tvalid_0's auc_mu: 0.967872\tvalid_0's multi_logloss: 0.683443\n",
      "[46]\tvalid_0's auc_mu: 0.967987\tvalid_0's multi_logloss: 0.680454\n",
      "[47]\tvalid_0's auc_mu: 0.968024\tvalid_0's multi_logloss: 0.677583\n",
      "[48]\tvalid_0's auc_mu: 0.967623\tvalid_0's multi_logloss: 0.675751\n",
      "[49]\tvalid_0's auc_mu: 0.967513\tvalid_0's multi_logloss: 0.675192\n",
      "[50]\tvalid_0's auc_mu: 0.967819\tvalid_0's multi_logloss: 0.673784\n",
      "[51]\tvalid_0's auc_mu: 0.967626\tvalid_0's multi_logloss: 0.673958\n",
      "[52]\tvalid_0's auc_mu: 0.967599\tvalid_0's multi_logloss: 0.673581\n",
      "[53]\tvalid_0's auc_mu: 0.966956\tvalid_0's multi_logloss: 0.673437\n",
      "[54]\tvalid_0's auc_mu: 0.966936\tvalid_0's multi_logloss: 0.673507\n",
      "[55]\tvalid_0's auc_mu: 0.967163\tvalid_0's multi_logloss: 0.673336\n",
      "[56]\tvalid_0's auc_mu: 0.966667\tvalid_0's multi_logloss: 0.674192\n",
      "[57]\tvalid_0's auc_mu: 0.966704\tvalid_0's multi_logloss: 0.674091\n",
      "[58]\tvalid_0's auc_mu: 0.966747\tvalid_0's multi_logloss: 0.673238\n",
      "[59]\tvalid_0's auc_mu: 0.966453\tvalid_0's multi_logloss: 0.672547\n",
      "[60]\tvalid_0's auc_mu: 0.96638\tvalid_0's multi_logloss: 0.674315\n",
      "[61]\tvalid_0's auc_mu: 0.966214\tvalid_0's multi_logloss: 0.6746\n",
      "[62]\tvalid_0's auc_mu: 0.966108\tvalid_0's multi_logloss: 0.67387\n",
      "[63]\tvalid_0's auc_mu: 0.966117\tvalid_0's multi_logloss: 0.672971\n",
      "[64]\tvalid_0's auc_mu: 0.966043\tvalid_0's multi_logloss: 0.672251\n",
      "[65]\tvalid_0's auc_mu: 0.96602\tvalid_0's multi_logloss: 0.672588\n",
      "[66]\tvalid_0's auc_mu: 0.96592\tvalid_0's multi_logloss: 0.671896\n",
      "[67]\tvalid_0's auc_mu: 0.966202\tvalid_0's multi_logloss: 0.670741\n",
      "[68]\tvalid_0's auc_mu: 0.966191\tvalid_0's multi_logloss: 0.670209\n",
      "[69]\tvalid_0's auc_mu: 0.966341\tvalid_0's multi_logloss: 0.669639\n",
      "[70]\tvalid_0's auc_mu: 0.966296\tvalid_0's multi_logloss: 0.669267\n",
      "[71]\tvalid_0's auc_mu: 0.96637\tvalid_0's multi_logloss: 0.668921\n",
      "[72]\tvalid_0's auc_mu: 0.966339\tvalid_0's multi_logloss: 0.668549\n",
      "[73]\tvalid_0's auc_mu: 0.966524\tvalid_0's multi_logloss: 0.668664\n",
      "[74]\tvalid_0's auc_mu: 0.966564\tvalid_0's multi_logloss: 0.66846\n",
      "[75]\tvalid_0's auc_mu: 0.966457\tvalid_0's multi_logloss: 0.668899\n",
      "[76]\tvalid_0's auc_mu: 0.966256\tvalid_0's multi_logloss: 0.669094\n",
      "[77]\tvalid_0's auc_mu: 0.966332\tvalid_0's multi_logloss: 0.668111\n",
      "[78]\tvalid_0's auc_mu: 0.966465\tvalid_0's multi_logloss: 0.66819\n",
      "[1]\tvalid_0's auc_mu: 0.725298\tvalid_0's multi_logloss: 2.3984                  \n",
      "[2]\tvalid_0's auc_mu: 0.767688\tvalid_0's multi_logloss: 2.25152                 \n",
      "[3]\tvalid_0's auc_mu: 0.770774\tvalid_0's multi_logloss: 2.16196                 \n",
      "[4]\tvalid_0's auc_mu: 0.770719\tvalid_0's multi_logloss: 2.09299                 \n",
      "[5]\tvalid_0's auc_mu: 0.771122\tvalid_0's multi_logloss: 2.0358                  \n",
      "[6]\tvalid_0's auc_mu: 0.773002\tvalid_0's multi_logloss: 1.98889                 \n",
      "[7]\tvalid_0's auc_mu: 0.77306\tvalid_0's multi_logloss: 1.94946                  \n",
      "[8]\tvalid_0's auc_mu: 0.77377\tvalid_0's multi_logloss: 1.84559                  \n",
      "[9]\tvalid_0's auc_mu: 0.773739\tvalid_0's multi_logloss: 1.81103                 \n",
      "[10]\tvalid_0's auc_mu: 0.773769\tvalid_0's multi_logloss: 1.82331                \n",
      "[11]\tvalid_0's auc_mu: 0.773929\tvalid_0's multi_logloss: 1.79222                \n",
      "[12]\tvalid_0's auc_mu: 0.773799\tvalid_0's multi_logloss: 1.76598                \n",
      "[13]\tvalid_0's auc_mu: 0.773792\tvalid_0's multi_logloss: 1.77579                \n",
      "[14]\tvalid_0's auc_mu: 0.773781\tvalid_0's multi_logloss: 1.77625                \n",
      "[15]\tvalid_0's auc_mu: 0.774312\tvalid_0's multi_logloss: 1.75206                \n",
      "[16]\tvalid_0's auc_mu: 0.773817\tvalid_0's multi_logloss: 1.73021                \n",
      "[17]\tvalid_0's auc_mu: 0.774355\tvalid_0's multi_logloss: 1.7113                 \n",
      "[18]\tvalid_0's auc_mu: 0.774344\tvalid_0's multi_logloss: 1.69459                \n",
      "[19]\tvalid_0's auc_mu: 0.774363\tvalid_0's multi_logloss: 1.73563                \n",
      "[20]\tvalid_0's auc_mu: 0.774296\tvalid_0's multi_logloss: 1.71601                \n",
      "[21]\tvalid_0's auc_mu: 0.774385\tvalid_0's multi_logloss: 1.69787                \n",
      "[22]\tvalid_0's auc_mu: 0.774379\tvalid_0's multi_logloss: 1.68247                \n",
      "[23]\tvalid_0's auc_mu: 0.774383\tvalid_0's multi_logloss: 1.66903                \n",
      "[24]\tvalid_0's auc_mu: 0.774405\tvalid_0's multi_logloss: 1.65635                \n",
      "[25]\tvalid_0's auc_mu: 0.774398\tvalid_0's multi_logloss: 1.64575                \n",
      "[26]\tvalid_0's auc_mu: 0.77436\tvalid_0's multi_logloss: 1.63616                 \n",
      "[27]\tvalid_0's auc_mu: 0.77381\tvalid_0's multi_logloss: 1.62676                 \n",
      "[28]\tvalid_0's auc_mu: 0.77381\tvalid_0's multi_logloss: 1.61842                 \n",
      "[29]\tvalid_0's auc_mu: 0.773816\tvalid_0's multi_logloss: 1.61081                \n",
      "[30]\tvalid_0's auc_mu: 0.773805\tvalid_0's multi_logloss: 1.60324                \n",
      "[31]\tvalid_0's auc_mu: 0.773595\tvalid_0's multi_logloss: 1.59661                \n",
      "[32]\tvalid_0's auc_mu: 0.773585\tvalid_0's multi_logloss: 1.60025                \n",
      "[33]\tvalid_0's auc_mu: 0.773586\tvalid_0's multi_logloss: 1.61056                \n",
      "[34]\tvalid_0's auc_mu: 0.773586\tvalid_0's multi_logloss: 1.6035                 \n",
      "[35]\tvalid_0's auc_mu: 0.773586\tvalid_0's multi_logloss: 1.59131                \n",
      "[36]\tvalid_0's auc_mu: 0.773586\tvalid_0's multi_logloss: 1.58375                \n",
      "[37]\tvalid_0's auc_mu: 0.773587\tvalid_0's multi_logloss: 1.59471                \n",
      "[38]\tvalid_0's auc_mu: 0.773586\tvalid_0's multi_logloss: 1.6128                 \n",
      "[39]\tvalid_0's auc_mu: 0.773586\tvalid_0's multi_logloss: 1.60281                \n",
      "[40]\tvalid_0's auc_mu: 0.773586\tvalid_0's multi_logloss: 1.59507                \n",
      "[41]\tvalid_0's auc_mu: 0.773586\tvalid_0's multi_logloss: 1.60851                \n",
      "[42]\tvalid_0's auc_mu: 0.773586\tvalid_0's multi_logloss: 1.59979                \n",
      "[43]\tvalid_0's auc_mu: 0.773587\tvalid_0's multi_logloss: 1.60269                \n",
      "[44]\tvalid_0's auc_mu: 0.773587\tvalid_0's multi_logloss: 1.59294                \n",
      "[45]\tvalid_0's auc_mu: 0.773587\tvalid_0's multi_logloss: 1.58479                \n",
      "[46]\tvalid_0's auc_mu: 0.773587\tvalid_0's multi_logloss: 1.57775                \n",
      "[47]\tvalid_0's auc_mu: 0.773587\tvalid_0's multi_logloss: 1.57113                \n",
      "[48]\tvalid_0's auc_mu: 0.773535\tvalid_0's multi_logloss: 1.56448                \n",
      "[49]\tvalid_0's auc_mu: 0.773535\tvalid_0's multi_logloss: 1.55883                \n",
      "[50]\tvalid_0's auc_mu: 0.773537\tvalid_0's multi_logloss: 1.55302                \n",
      "[51]\tvalid_0's auc_mu: 0.773537\tvalid_0's multi_logloss: 1.54805                \n",
      "[52]\tvalid_0's auc_mu: 0.773556\tvalid_0's multi_logloss: 1.5559                 \n",
      "[53]\tvalid_0's auc_mu: 0.773508\tvalid_0's multi_logloss: 1.55029                \n",
      "[54]\tvalid_0's auc_mu: 0.773508\tvalid_0's multi_logloss: 1.55867                \n",
      "[55]\tvalid_0's auc_mu: 0.773537\tvalid_0's multi_logloss: 1.56227                \n",
      "[56]\tvalid_0's auc_mu: 0.773537\tvalid_0's multi_logloss: 1.55666                \n",
      "[57]\tvalid_0's auc_mu: 0.773508\tvalid_0's multi_logloss: 1.56763                \n",
      "[58]\tvalid_0's auc_mu: 0.773511\tvalid_0's multi_logloss: 1.56159                \n",
      "[59]\tvalid_0's auc_mu: 0.773511\tvalid_0's multi_logloss: 1.55555                \n",
      "[60]\tvalid_0's auc_mu: 0.773515\tvalid_0's multi_logloss: 1.55039                \n",
      "[61]\tvalid_0's auc_mu: 0.773513\tvalid_0's multi_logloss: 1.5451                 \n",
      "[62]\tvalid_0's auc_mu: 0.773513\tvalid_0's multi_logloss: 1.54555                \n",
      "[63]\tvalid_0's auc_mu: 0.773513\tvalid_0's multi_logloss: 1.54931                \n",
      "[64]\tvalid_0's auc_mu: 0.773513\tvalid_0's multi_logloss: 1.55672                \n",
      "[65]\tvalid_0's auc_mu: 0.773513\tvalid_0's multi_logloss: 1.55146                \n",
      "[66]\tvalid_0's auc_mu: 0.773513\tvalid_0's multi_logloss: 1.55775                \n",
      "[67]\tvalid_0's auc_mu: 0.77351\tvalid_0's multi_logloss: 1.55187                 \n",
      "[68]\tvalid_0's auc_mu: 0.77351\tvalid_0's multi_logloss: 1.55863                 \n",
      "[69]\tvalid_0's auc_mu: 0.773513\tvalid_0's multi_logloss: 1.56332                \n",
      "[70]\tvalid_0's auc_mu: 0.773513\tvalid_0's multi_logloss: 1.55763                \n",
      "[71]\tvalid_0's auc_mu: 0.773513\tvalid_0's multi_logloss: 1.56292                \n",
      "[72]\tvalid_0's auc_mu: 0.773517\tvalid_0's multi_logloss: 1.55728                \n",
      "[73]\tvalid_0's auc_mu: 0.773514\tvalid_0's multi_logloss: 1.56823                \n",
      "[74]\tvalid_0's auc_mu: 0.773514\tvalid_0's multi_logloss: 1.57532                \n",
      "[75]\tvalid_0's auc_mu: 0.77351\tvalid_0's multi_logloss: 1.56787                 \n",
      "[76]\tvalid_0's auc_mu: 0.773514\tvalid_0's multi_logloss: 1.56172                \n",
      "[77]\tvalid_0's auc_mu: 0.77351\tvalid_0's multi_logloss: 1.56754                 \n",
      "[78]\tvalid_0's auc_mu: 0.77351\tvalid_0's multi_logloss: 1.57194                 \n",
      "[79]\tvalid_0's auc_mu: 0.773514\tvalid_0's multi_logloss: 1.56555                \n",
      "[80]\tvalid_0's auc_mu: 0.773523\tvalid_0's multi_logloss: 1.55894                \n",
      "[81]\tvalid_0's auc_mu: 0.773523\tvalid_0's multi_logloss: 1.56526                \n",
      "[82]\tvalid_0's auc_mu: 0.773523\tvalid_0's multi_logloss: 1.56766                \n",
      "[83]\tvalid_0's auc_mu: 0.773527\tvalid_0's multi_logloss: 1.56159                \n",
      "[84]\tvalid_0's auc_mu: 0.773523\tvalid_0's multi_logloss: 1.5559                 \n",
      "[85]\tvalid_0's auc_mu: 0.773523\tvalid_0's multi_logloss: 1.56218                \n",
      "[86]\tvalid_0's auc_mu: 0.773527\tvalid_0's multi_logloss: 1.55601                \n",
      "[87]\tvalid_0's auc_mu: 0.773523\tvalid_0's multi_logloss: 1.55069                \n",
      "[88]\tvalid_0's auc_mu: 0.773523\tvalid_0's multi_logloss: 1.5544                 \n",
      "[89]\tvalid_0's auc_mu: 0.773523\tvalid_0's multi_logloss: 1.5601                 \n",
      "[90]\tvalid_0's auc_mu: 0.773514\tvalid_0's multi_logloss: 1.5656                 \n",
      "[91]\tvalid_0's auc_mu: 0.773514\tvalid_0's multi_logloss: 1.57191                \n",
      "[92]\tvalid_0's auc_mu: 0.77351\tvalid_0's multi_logloss: 1.57771                 \n",
      "[93]\tvalid_0's auc_mu: 0.77351\tvalid_0's multi_logloss: 1.58359                 \n",
      "[94]\tvalid_0's auc_mu: 0.773514\tvalid_0's multi_logloss: 1.57634                \n",
      "[95]\tvalid_0's auc_mu: 0.773514\tvalid_0's multi_logloss: 1.58468                \n",
      "[96]\tvalid_0's auc_mu: 0.773514\tvalid_0's multi_logloss: 1.58835                \n",
      "[97]\tvalid_0's auc_mu: 0.773514\tvalid_0's multi_logloss: 1.59315                \n",
      "[98]\tvalid_0's auc_mu: 0.77353\tvalid_0's multi_logloss: 1.58353                 \n",
      "[99]\tvalid_0's auc_mu: 0.773514\tvalid_0's multi_logloss: 1.57628                \n",
      "[100]\tvalid_0's auc_mu: 0.77351\tvalid_0's multi_logloss: 1.56952                \n",
      "[101]\tvalid_0's auc_mu: 0.773534\tvalid_0's multi_logloss: 1.56273               \n",
      "[102]\tvalid_0's auc_mu: 0.773528\tvalid_0's multi_logloss: 1.55713               \n",
      "[103]\tvalid_0's auc_mu: 0.773528\tvalid_0's multi_logloss: 1.55969               \n",
      "[104]\tvalid_0's auc_mu: 0.773528\tvalid_0's multi_logloss: 1.5539                \n",
      "[105]\tvalid_0's auc_mu: 0.773549\tvalid_0's multi_logloss: 1.54805               \n",
      "[106]\tvalid_0's auc_mu: 0.773581\tvalid_0's multi_logloss: 1.54312               \n",
      "[107]\tvalid_0's auc_mu: 0.773602\tvalid_0's multi_logloss: 1.53814               \n",
      "[108]\tvalid_0's auc_mu: 0.773602\tvalid_0's multi_logloss: 1.53394               \n",
      "[109]\tvalid_0's auc_mu: 0.773581\tvalid_0's multi_logloss: 1.5299                \n",
      "[110]\tvalid_0's auc_mu: 0.773602\tvalid_0's multi_logloss: 1.5259                \n",
      "[111]\tvalid_0's auc_mu: 0.773602\tvalid_0's multi_logloss: 1.52956               \n",
      "[112]\tvalid_0's auc_mu: 0.773602\tvalid_0's multi_logloss: 1.53256               \n",
      "[113]\tvalid_0's auc_mu: 0.773602\tvalid_0's multi_logloss: 1.5287                \n",
      "[114]\tvalid_0's auc_mu: 0.773602\tvalid_0's multi_logloss: 1.53518               \n",
      "[115]\tvalid_0's auc_mu: 0.773593\tvalid_0's multi_logloss: 1.53509               \n",
      "[116]\tvalid_0's auc_mu: 0.773602\tvalid_0's multi_logloss: 1.53031               \n",
      "[117]\tvalid_0's auc_mu: 0.773602\tvalid_0's multi_logloss: 1.53491               \n",
      "[118]\tvalid_0's auc_mu: 0.773602\tvalid_0's multi_logloss: 1.5396                \n",
      "[119]\tvalid_0's auc_mu: 0.773602\tvalid_0's multi_logloss: 1.54282               \n",
      "[120]\tvalid_0's auc_mu: 0.773602\tvalid_0's multi_logloss: 1.53803               \n",
      "[121]\tvalid_0's auc_mu: 0.773602\tvalid_0's multi_logloss: 1.54131               \n",
      "[122]\tvalid_0's auc_mu: 0.773602\tvalid_0's multi_logloss: 1.54587               \n",
      "[123]\tvalid_0's auc_mu: 0.773581\tvalid_0's multi_logloss: 1.54075               \n",
      "[124]\tvalid_0's auc_mu: 0.773581\tvalid_0's multi_logloss: 1.54683               \n",
      "[125]\tvalid_0's auc_mu: 0.773602\tvalid_0's multi_logloss: 1.54118               \n",
      "[126]\tvalid_0's auc_mu: 0.773602\tvalid_0's multi_logloss: 1.5365                \n",
      "[127]\tvalid_0's auc_mu: 0.773581\tvalid_0's multi_logloss: 1.53205               \n",
      "[128]\tvalid_0's auc_mu: 0.773581\tvalid_0's multi_logloss: 1.53684               \n",
      "[129]\tvalid_0's auc_mu: 0.773602\tvalid_0's multi_logloss: 1.532                 \n",
      "[130]\tvalid_0's auc_mu: 0.773602\tvalid_0's multi_logloss: 1.53514               \n",
      "[131]\tvalid_0's auc_mu: 0.773602\tvalid_0's multi_logloss: 1.5379                \n",
      "[132]\tvalid_0's auc_mu: 0.773602\tvalid_0's multi_logloss: 1.54236               \n",
      "[133]\tvalid_0's auc_mu: 0.773602\tvalid_0's multi_logloss: 1.54586               \n",
      "[134]\tvalid_0's auc_mu: 0.773602\tvalid_0's multi_logloss: 1.54072               \n",
      "[135]\tvalid_0's auc_mu: 0.773602\tvalid_0's multi_logloss: 1.5356                \n",
      "[136]\tvalid_0's auc_mu: 0.773602\tvalid_0's multi_logloss: 1.53867               \n",
      "[137]\tvalid_0's auc_mu: 0.773602\tvalid_0's multi_logloss: 1.53407               \n",
      "[138]\tvalid_0's auc_mu: 0.773602\tvalid_0's multi_logloss: 1.53701               \n",
      "[139]\tvalid_0's auc_mu: 0.773602\tvalid_0's multi_logloss: 1.54066               \n",
      "[140]\tvalid_0's auc_mu: 0.773602\tvalid_0's multi_logloss: 1.53603               \n",
      "[141]\tvalid_0's auc_mu: 0.773602\tvalid_0's multi_logloss: 1.53881               \n",
      "[142]\tvalid_0's auc_mu: 0.773602\tvalid_0's multi_logloss: 1.53374               \n",
      "[143]\tvalid_0's auc_mu: 0.773602\tvalid_0's multi_logloss: 1.52955               \n",
      "[144]\tvalid_0's auc_mu: 0.773602\tvalid_0's multi_logloss: 1.52557               \n",
      "[145]\tvalid_0's auc_mu: 0.773593\tvalid_0's multi_logloss: 1.52924               \n",
      "[146]\tvalid_0's auc_mu: 0.773602\tvalid_0's multi_logloss: 1.52497               \n",
      "[147]\tvalid_0's auc_mu: 0.773602\tvalid_0's multi_logloss: 1.52891               \n",
      "[148]\tvalid_0's auc_mu: 0.773602\tvalid_0's multi_logloss: 1.52505               \n",
      "[149]\tvalid_0's auc_mu: 0.773593\tvalid_0's multi_logloss: 1.52135               \n",
      "[150]\tvalid_0's auc_mu: 0.773602\tvalid_0's multi_logloss: 1.51768               \n",
      "[151]\tvalid_0's auc_mu: 0.773602\tvalid_0's multi_logloss: 1.52186               \n",
      "[152]\tvalid_0's auc_mu: 0.773602\tvalid_0's multi_logloss: 1.51836               \n",
      "[153]\tvalid_0's auc_mu: 0.773602\tvalid_0's multi_logloss: 1.52239               \n",
      "[154]\tvalid_0's auc_mu: 0.773602\tvalid_0's multi_logloss: 1.52554               \n",
      "[155]\tvalid_0's auc_mu: 0.773602\tvalid_0's multi_logloss: 1.52154               \n",
      "[156]\tvalid_0's auc_mu: 0.773602\tvalid_0's multi_logloss: 1.51806               \n",
      "[157]\tvalid_0's auc_mu: 0.773602\tvalid_0's multi_logloss: 1.52076               \n",
      "[1]\tvalid_0's auc_mu: 0.935087\tvalid_0's multi_logloss: 1.60785                 \n",
      "[2]\tvalid_0's auc_mu: 0.940263\tvalid_0's multi_logloss: 1.38672                 \n",
      "[3]\tvalid_0's auc_mu: 0.943241\tvalid_0's multi_logloss: 1.23452                 \n",
      "[4]\tvalid_0's auc_mu: 0.950134\tvalid_0's multi_logloss: 1.11901                 \n",
      "[5]\tvalid_0's auc_mu: 0.950265\tvalid_0's multi_logloss: 1.03122                 \n",
      "[6]\tvalid_0's auc_mu: 0.952515\tvalid_0's multi_logloss: 0.958977                \n",
      "[7]\tvalid_0's auc_mu: 0.953698\tvalid_0's multi_logloss: 0.900266                \n",
      "[8]\tvalid_0's auc_mu: 0.956552\tvalid_0's multi_logloss: 1.01584                 \n",
      "[9]\tvalid_0's auc_mu: 0.957492\tvalid_0's multi_logloss: 0.946983                \n",
      "[10]\tvalid_0's auc_mu: 0.956042\tvalid_0's multi_logloss: 0.95193                \n",
      "[11]\tvalid_0's auc_mu: 0.958146\tvalid_0's multi_logloss: 0.894061               \n",
      "[12]\tvalid_0's auc_mu: 0.959218\tvalid_0's multi_logloss: 0.847188               \n",
      "[13]\tvalid_0's auc_mu: 0.958523\tvalid_0's multi_logloss: 0.857077               \n",
      "[14]\tvalid_0's auc_mu: 0.958232\tvalid_0's multi_logloss: 0.851721               \n",
      "[15]\tvalid_0's auc_mu: 0.958056\tvalid_0's multi_logloss: 0.812437               \n",
      "[16]\tvalid_0's auc_mu: 0.957646\tvalid_0's multi_logloss: 0.780232               \n",
      "[17]\tvalid_0's auc_mu: 0.957871\tvalid_0's multi_logloss: 0.754586               \n",
      "[18]\tvalid_0's auc_mu: 0.959785\tvalid_0's multi_logloss: 0.731905               \n",
      "[19]\tvalid_0's auc_mu: 0.96078\tvalid_0's multi_logloss: 0.746587                \n",
      "[20]\tvalid_0's auc_mu: 0.961781\tvalid_0's multi_logloss: 0.724493               \n",
      "[21]\tvalid_0's auc_mu: 0.962361\tvalid_0's multi_logloss: 0.70584                \n",
      "[22]\tvalid_0's auc_mu: 0.961923\tvalid_0's multi_logloss: 0.68976                \n",
      "[23]\tvalid_0's auc_mu: 0.961349\tvalid_0's multi_logloss: 0.677688               \n",
      "[24]\tvalid_0's auc_mu: 0.961197\tvalid_0's multi_logloss: 0.667426               \n",
      "[25]\tvalid_0's auc_mu: 0.960682\tvalid_0's multi_logloss: 0.658967               \n",
      "[26]\tvalid_0's auc_mu: 0.961445\tvalid_0's multi_logloss: 0.651328               \n",
      "[27]\tvalid_0's auc_mu: 0.961902\tvalid_0's multi_logloss: 0.645103               \n",
      "[28]\tvalid_0's auc_mu: 0.96123\tvalid_0's multi_logloss: 0.640298                \n",
      "[29]\tvalid_0's auc_mu: 0.9616\tvalid_0's multi_logloss: 0.636071                 \n",
      "[30]\tvalid_0's auc_mu: 0.96139\tvalid_0's multi_logloss: 0.633126                \n",
      "[31]\tvalid_0's auc_mu: 0.961952\tvalid_0's multi_logloss: 0.629615               \n",
      "[32]\tvalid_0's auc_mu: 0.961829\tvalid_0's multi_logloss: 0.630807               \n",
      "[33]\tvalid_0's auc_mu: 0.961992\tvalid_0's multi_logloss: 0.633986               \n",
      "[34]\tvalid_0's auc_mu: 0.962128\tvalid_0's multi_logloss: 0.631432               \n",
      "[35]\tvalid_0's auc_mu: 0.962162\tvalid_0's multi_logloss: 0.639609               \n",
      "[36]\tvalid_0's auc_mu: 0.962639\tvalid_0's multi_logloss: 0.635351               \n",
      "[37]\tvalid_0's auc_mu: 0.962792\tvalid_0's multi_logloss: 0.638735               \n",
      "[38]\tvalid_0's auc_mu: 0.9628\tvalid_0's multi_logloss: 0.643461                 \n",
      "[39]\tvalid_0's auc_mu: 0.963096\tvalid_0's multi_logloss: 0.638674               \n",
      "[40]\tvalid_0's auc_mu: 0.963303\tvalid_0's multi_logloss: 0.634606               \n",
      "[41]\tvalid_0's auc_mu: 0.963068\tvalid_0's multi_logloss: 0.638373               \n",
      "[42]\tvalid_0's auc_mu: 0.963271\tvalid_0's multi_logloss: 0.634121               \n",
      "[43]\tvalid_0's auc_mu: 0.963455\tvalid_0's multi_logloss: 0.640686               \n",
      "[44]\tvalid_0's auc_mu: 0.962771\tvalid_0's multi_logloss: 0.63632                \n",
      "[45]\tvalid_0's auc_mu: 0.962961\tvalid_0's multi_logloss: 0.63222                \n",
      "[46]\tvalid_0's auc_mu: 0.963097\tvalid_0's multi_logloss: 0.629348               \n",
      "[47]\tvalid_0's auc_mu: 0.963358\tvalid_0's multi_logloss: 0.626363               \n",
      "[48]\tvalid_0's auc_mu: 0.963817\tvalid_0's multi_logloss: 0.622889               \n",
      "[49]\tvalid_0's auc_mu: 0.963392\tvalid_0's multi_logloss: 0.6206                 \n",
      "[50]\tvalid_0's auc_mu: 0.963293\tvalid_0's multi_logloss: 0.619513               \n",
      "[51]\tvalid_0's auc_mu: 0.963474\tvalid_0's multi_logloss: 0.619534               \n",
      "[52]\tvalid_0's auc_mu: 0.963546\tvalid_0's multi_logloss: 0.620644               \n",
      "[53]\tvalid_0's auc_mu: 0.963585\tvalid_0's multi_logloss: 0.619328               \n",
      "[54]\tvalid_0's auc_mu: 0.963533\tvalid_0's multi_logloss: 0.620557               \n",
      "[55]\tvalid_0's auc_mu: 0.963338\tvalid_0's multi_logloss: 0.620813               \n",
      "[56]\tvalid_0's auc_mu: 0.963068\tvalid_0's multi_logloss: 0.619495               \n",
      "[57]\tvalid_0's auc_mu: 0.963344\tvalid_0's multi_logloss: 0.620964               \n",
      "[58]\tvalid_0's auc_mu: 0.963486\tvalid_0's multi_logloss: 0.618799               \n",
      "[59]\tvalid_0's auc_mu: 0.96375\tvalid_0's multi_logloss: 0.618275                \n",
      "[60]\tvalid_0's auc_mu: 0.964526\tvalid_0's multi_logloss: 0.616956               \n",
      "[61]\tvalid_0's auc_mu: 0.964641\tvalid_0's multi_logloss: 0.616892               \n",
      "[62]\tvalid_0's auc_mu: 0.964605\tvalid_0's multi_logloss: 0.616551               \n",
      "[63]\tvalid_0's auc_mu: 0.964702\tvalid_0's multi_logloss: 0.616487               \n",
      "[64]\tvalid_0's auc_mu: 0.964624\tvalid_0's multi_logloss: 0.61745                \n",
      "[65]\tvalid_0's auc_mu: 0.964713\tvalid_0's multi_logloss: 0.616693               \n",
      "[66]\tvalid_0's auc_mu: 0.964658\tvalid_0's multi_logloss: 0.617803               \n",
      "[67]\tvalid_0's auc_mu: 0.964964\tvalid_0's multi_logloss: 0.616327               \n",
      "[68]\tvalid_0's auc_mu: 0.964957\tvalid_0's multi_logloss: 0.617136               \n",
      "[69]\tvalid_0's auc_mu: 0.964499\tvalid_0's multi_logloss: 0.617865               \n",
      "[70]\tvalid_0's auc_mu: 0.965262\tvalid_0's multi_logloss: 0.616482               \n",
      "[71]\tvalid_0's auc_mu: 0.964991\tvalid_0's multi_logloss: 0.617133               \n",
      "[72]\tvalid_0's auc_mu: 0.965568\tvalid_0's multi_logloss: 0.61653                \n",
      "[73]\tvalid_0's auc_mu: 0.965495\tvalid_0's multi_logloss: 0.617182               \n",
      "[74]\tvalid_0's auc_mu: 0.965481\tvalid_0's multi_logloss: 0.618447               \n",
      "[75]\tvalid_0's auc_mu: 0.965315\tvalid_0's multi_logloss: 0.617337               \n",
      "[76]\tvalid_0's auc_mu: 0.965161\tvalid_0's multi_logloss: 0.615862               \n",
      "[77]\tvalid_0's auc_mu: 0.9651\tvalid_0's multi_logloss: 0.616553                 \n",
      "[78]\tvalid_0's auc_mu: 0.964694\tvalid_0's multi_logloss: 0.617059               \n",
      "[79]\tvalid_0's auc_mu: 0.964938\tvalid_0's multi_logloss: 0.61612                \n",
      "[80]\tvalid_0's auc_mu: 0.964688\tvalid_0's multi_logloss: 0.616065               \n",
      "[81]\tvalid_0's auc_mu: 0.964674\tvalid_0's multi_logloss: 0.616573               \n",
      "[82]\tvalid_0's auc_mu: 0.964763\tvalid_0's multi_logloss: 0.616888               \n",
      "[83]\tvalid_0's auc_mu: 0.965007\tvalid_0's multi_logloss: 0.616283               \n",
      "[84]\tvalid_0's auc_mu: 0.965218\tvalid_0's multi_logloss: 0.615828               \n",
      "[85]\tvalid_0's auc_mu: 0.96528\tvalid_0's multi_logloss: 0.616307                \n",
      "[86]\tvalid_0's auc_mu: 0.965456\tvalid_0's multi_logloss: 0.615792               \n",
      "[87]\tvalid_0's auc_mu: 0.965623\tvalid_0's multi_logloss: 0.61557                \n",
      "[88]\tvalid_0's auc_mu: 0.965622\tvalid_0's multi_logloss: 0.615479               \n",
      "[89]\tvalid_0's auc_mu: 0.965678\tvalid_0's multi_logloss: 0.615667               \n",
      "[90]\tvalid_0's auc_mu: 0.965719\tvalid_0's multi_logloss: 0.615934               \n",
      "[91]\tvalid_0's auc_mu: 0.9658\tvalid_0's multi_logloss: 0.616631                 \n",
      "[92]\tvalid_0's auc_mu: 0.965926\tvalid_0's multi_logloss: 0.617166               \n",
      "[93]\tvalid_0's auc_mu: 0.965952\tvalid_0's multi_logloss: 0.617802               \n",
      "[94]\tvalid_0's auc_mu: 0.966037\tvalid_0's multi_logloss: 0.616841               \n",
      "[95]\tvalid_0's auc_mu: 0.965932\tvalid_0's multi_logloss: 0.617495               \n",
      "[96]\tvalid_0's auc_mu: 0.965921\tvalid_0's multi_logloss: 0.617855               \n",
      "[97]\tvalid_0's auc_mu: 0.965851\tvalid_0's multi_logloss: 0.618664               \n",
      "[98]\tvalid_0's auc_mu: 0.965906\tvalid_0's multi_logloss: 0.617331               \n",
      "[99]\tvalid_0's auc_mu: 0.965661\tvalid_0's multi_logloss: 0.615982               \n",
      "[100]\tvalid_0's auc_mu: 0.965487\tvalid_0's multi_logloss: 0.615442              \n",
      "[101]\tvalid_0's auc_mu: 0.96574\tvalid_0's multi_logloss: 0.615053               \n",
      "[102]\tvalid_0's auc_mu: 0.965602\tvalid_0's multi_logloss: 0.614707              \n",
      "[103]\tvalid_0's auc_mu: 0.965584\tvalid_0's multi_logloss: 0.615442              \n",
      "[104]\tvalid_0's auc_mu: 0.965555\tvalid_0's multi_logloss: 0.615266              \n",
      "[105]\tvalid_0's auc_mu: 0.965525\tvalid_0's multi_logloss: 0.61513               \n",
      "[106]\tvalid_0's auc_mu: 0.965013\tvalid_0's multi_logloss: 0.614846              \n",
      "[107]\tvalid_0's auc_mu: 0.965\tvalid_0's multi_logloss: 0.615373                 \n",
      "[108]\tvalid_0's auc_mu: 0.964938\tvalid_0's multi_logloss: 0.615383              \n",
      "[109]\tvalid_0's auc_mu: 0.965193\tvalid_0's multi_logloss: 0.615716              \n",
      "[110]\tvalid_0's auc_mu: 0.965013\tvalid_0's multi_logloss: 0.615825              \n",
      "[111]\tvalid_0's auc_mu: 0.964986\tvalid_0's multi_logloss: 0.615578              \n",
      "[112]\tvalid_0's auc_mu: 0.964882\tvalid_0's multi_logloss: 0.615367              \n",
      "[113]\tvalid_0's auc_mu: 0.964755\tvalid_0's multi_logloss: 0.615468              \n",
      "[114]\tvalid_0's auc_mu: 0.9646\tvalid_0's multi_logloss: 0.615344                \n",
      "[115]\tvalid_0's auc_mu: 0.964975\tvalid_0's multi_logloss: 0.615191              \n",
      "[116]\tvalid_0's auc_mu: 0.964808\tvalid_0's multi_logloss: 0.61508               \n",
      "[117]\tvalid_0's auc_mu: 0.964827\tvalid_0's multi_logloss: 0.614922              \n",
      "[118]\tvalid_0's auc_mu: 0.96461\tvalid_0's multi_logloss: 0.614909               \n",
      "[119]\tvalid_0's auc_mu: 0.964884\tvalid_0's multi_logloss: 0.614914              \n",
      "[120]\tvalid_0's auc_mu: 0.964281\tvalid_0's multi_logloss: 0.615595              \n",
      "[121]\tvalid_0's auc_mu: 0.964302\tvalid_0's multi_logloss: 0.615431              \n",
      "[122]\tvalid_0's auc_mu: 0.964336\tvalid_0's multi_logloss: 0.615426              \n",
      "[123]\tvalid_0's auc_mu: 0.964383\tvalid_0's multi_logloss: 0.615307              \n",
      "[124]\tvalid_0's auc_mu: 0.964337\tvalid_0's multi_logloss: 0.615628              \n",
      "[125]\tvalid_0's auc_mu: 0.964262\tvalid_0's multi_logloss: 0.61454               \n",
      "[126]\tvalid_0's auc_mu: 0.964855\tvalid_0's multi_logloss: 0.614578              \n",
      "[127]\tvalid_0's auc_mu: 0.964912\tvalid_0's multi_logloss: 0.615318              \n",
      "[128]\tvalid_0's auc_mu: 0.964907\tvalid_0's multi_logloss: 0.615273              \n",
      "[129]\tvalid_0's auc_mu: 0.96504\tvalid_0's multi_logloss: 0.61448                \n",
      "[130]\tvalid_0's auc_mu: 0.965048\tvalid_0's multi_logloss: 0.614269              \n",
      "[131]\tvalid_0's auc_mu: 0.965038\tvalid_0's multi_logloss: 0.614289              \n",
      "[132]\tvalid_0's auc_mu: 0.964992\tvalid_0's multi_logloss: 0.614253              \n",
      "[133]\tvalid_0's auc_mu: 0.965049\tvalid_0's multi_logloss: 0.614167              \n",
      "[134]\tvalid_0's auc_mu: 0.965013\tvalid_0's multi_logloss: 0.613573              \n",
      "[135]\tvalid_0's auc_mu: 0.964947\tvalid_0's multi_logloss: 0.61399               \n",
      "[136]\tvalid_0's auc_mu: 0.964851\tvalid_0's multi_logloss: 0.613784              \n",
      "[137]\tvalid_0's auc_mu: 0.964964\tvalid_0's multi_logloss: 0.613769              \n",
      "[138]\tvalid_0's auc_mu: 0.964982\tvalid_0's multi_logloss: 0.613528              \n",
      "[139]\tvalid_0's auc_mu: 0.96493\tvalid_0's multi_logloss: 0.613401               \n",
      "[140]\tvalid_0's auc_mu: 0.965125\tvalid_0's multi_logloss: 0.612949              \n",
      "[141]\tvalid_0's auc_mu: 0.965077\tvalid_0's multi_logloss: 0.612924              \n",
      "[142]\tvalid_0's auc_mu: 0.965\tvalid_0's multi_logloss: 0.61302                  \n",
      "[143]\tvalid_0's auc_mu: 0.964818\tvalid_0's multi_logloss: 0.613666              \n",
      "[144]\tvalid_0's auc_mu: 0.964998\tvalid_0's multi_logloss: 0.613987              \n",
      "[145]\tvalid_0's auc_mu: 0.965009\tvalid_0's multi_logloss: 0.613755              \n",
      "[146]\tvalid_0's auc_mu: 0.964839\tvalid_0's multi_logloss: 0.61431               \n",
      "[147]\tvalid_0's auc_mu: 0.964764\tvalid_0's multi_logloss: 0.613969              \n",
      "[148]\tvalid_0's auc_mu: 0.964616\tvalid_0's multi_logloss: 0.615507              \n",
      "[149]\tvalid_0's auc_mu: 0.96469\tvalid_0's multi_logloss: 0.616237               \n",
      "[150]\tvalid_0's auc_mu: 0.964869\tvalid_0's multi_logloss: 0.616735              \n",
      "[151]\tvalid_0's auc_mu: 0.964847\tvalid_0's multi_logloss: 0.61632               \n",
      "[152]\tvalid_0's auc_mu: 0.964814\tvalid_0's multi_logloss: 0.616788              \n",
      "[153]\tvalid_0's auc_mu: 0.964976\tvalid_0's multi_logloss: 0.616381              \n",
      "[154]\tvalid_0's auc_mu: 0.964912\tvalid_0's multi_logloss: 0.616018              \n",
      "[155]\tvalid_0's auc_mu: 0.964208\tvalid_0's multi_logloss: 0.617419              \n",
      "[156]\tvalid_0's auc_mu: 0.96465\tvalid_0's multi_logloss: 0.617835               \n",
      "[157]\tvalid_0's auc_mu: 0.964486\tvalid_0's multi_logloss: 0.617633              \n",
      "[158]\tvalid_0's auc_mu: 0.963972\tvalid_0's multi_logloss: 0.618098              \n",
      "[159]\tvalid_0's auc_mu: 0.963963\tvalid_0's multi_logloss: 0.617654              \n",
      "[160]\tvalid_0's auc_mu: 0.963895\tvalid_0's multi_logloss: 0.617396              \n",
      "[161]\tvalid_0's auc_mu: 0.963885\tvalid_0's multi_logloss: 0.617154              \n",
      "[162]\tvalid_0's auc_mu: 0.964548\tvalid_0's multi_logloss: 0.618278              \n",
      "[163]\tvalid_0's auc_mu: 0.964318\tvalid_0's multi_logloss: 0.618049              \n",
      "[1]\tvalid_0's auc_mu: 0.795906\tvalid_0's multi_logloss: 2.06447                 \n",
      "Training until validation scores don't improve for 15 rounds                    \n",
      "[2]\tvalid_0's auc_mu: 0.800812\tvalid_0's multi_logloss: 1.91277                 \n",
      "[3]\tvalid_0's auc_mu: 0.804001\tvalid_0's multi_logloss: 1.80192                 \n",
      "[4]\tvalid_0's auc_mu: 0.810152\tvalid_0's multi_logloss: 1.71283                 \n",
      "[5]\tvalid_0's auc_mu: 0.811275\tvalid_0's multi_logloss: 1.64177                 \n",
      "[6]\tvalid_0's auc_mu: 0.813713\tvalid_0's multi_logloss: 1.5837                  \n",
      "[7]\tvalid_0's auc_mu: 0.813259\tvalid_0's multi_logloss: 1.53534                 \n",
      "[8]\tvalid_0's auc_mu: 0.814906\tvalid_0's multi_logloss: 1.49211                 \n",
      "[9]\tvalid_0's auc_mu: 0.815377\tvalid_0's multi_logloss: 1.45653                 \n",
      "[10]\tvalid_0's auc_mu: 0.815528\tvalid_0's multi_logloss: 1.42644                \n",
      "[11]\tvalid_0's auc_mu: 0.815907\tvalid_0's multi_logloss: 1.40122                \n",
      "[12]\tvalid_0's auc_mu: 0.819511\tvalid_0's multi_logloss: 1.37863                \n",
      "[13]\tvalid_0's auc_mu: 0.820371\tvalid_0's multi_logloss: 1.35673                \n",
      "[14]\tvalid_0's auc_mu: 0.820438\tvalid_0's multi_logloss: 1.33999                \n",
      "[15]\tvalid_0's auc_mu: 0.820557\tvalid_0's multi_logloss: 1.32528                \n",
      "[16]\tvalid_0's auc_mu: 0.822679\tvalid_0's multi_logloss: 1.3112                 \n",
      "[17]\tvalid_0's auc_mu: 0.82261\tvalid_0's multi_logloss: 1.29923                 \n",
      "[18]\tvalid_0's auc_mu: 0.822809\tvalid_0's multi_logloss: 1.28841                \n",
      "[19]\tvalid_0's auc_mu: 0.823836\tvalid_0's multi_logloss: 1.27724                \n",
      "[20]\tvalid_0's auc_mu: 0.824133\tvalid_0's multi_logloss: 1.26861                \n",
      "[21]\tvalid_0's auc_mu: 0.825166\tvalid_0's multi_logloss: 1.26053                \n",
      "[22]\tvalid_0's auc_mu: 0.82518\tvalid_0's multi_logloss: 1.2516                  \n",
      "[23]\tvalid_0's auc_mu: 0.825301\tvalid_0's multi_logloss: 1.24499                \n",
      "[24]\tvalid_0's auc_mu: 0.825275\tvalid_0's multi_logloss: 1.23921                \n",
      "[25]\tvalid_0's auc_mu: 0.825252\tvalid_0's multi_logloss: 1.23378                \n",
      "[26]\tvalid_0's auc_mu: 0.825847\tvalid_0's multi_logloss: 1.22879                \n",
      "[27]\tvalid_0's auc_mu: 0.826843\tvalid_0's multi_logloss: 1.2237                 \n",
      "[28]\tvalid_0's auc_mu: 0.826951\tvalid_0's multi_logloss: 1.22041                \n",
      "[29]\tvalid_0's auc_mu: 0.827243\tvalid_0's multi_logloss: 1.21656                \n",
      "[30]\tvalid_0's auc_mu: 0.827219\tvalid_0's multi_logloss: 1.21288                \n",
      "[31]\tvalid_0's auc_mu: 0.827268\tvalid_0's multi_logloss: 1.20837                \n",
      "[32]\tvalid_0's auc_mu: 0.827918\tvalid_0's multi_logloss: 1.20444                \n",
      "[33]\tvalid_0's auc_mu: 0.827981\tvalid_0's multi_logloss: 1.2018                 \n",
      "[34]\tvalid_0's auc_mu: 0.828289\tvalid_0's multi_logloss: 1.19802                \n",
      "[35]\tvalid_0's auc_mu: 0.828383\tvalid_0's multi_logloss: 1.1951                 \n",
      "[36]\tvalid_0's auc_mu: 0.828226\tvalid_0's multi_logloss: 1.19312                \n",
      "[37]\tvalid_0's auc_mu: 0.828184\tvalid_0's multi_logloss: 1.19138                \n",
      "[38]\tvalid_0's auc_mu: 0.828167\tvalid_0's multi_logloss: 1.18984                \n",
      "[39]\tvalid_0's auc_mu: 0.828242\tvalid_0's multi_logloss: 1.18807                \n",
      "[40]\tvalid_0's auc_mu: 0.828215\tvalid_0's multi_logloss: 1.18653                \n",
      "[41]\tvalid_0's auc_mu: 0.828242\tvalid_0's multi_logloss: 1.18518                \n",
      "[42]\tvalid_0's auc_mu: 0.828278\tvalid_0's multi_logloss: 1.18347                \n",
      "[43]\tvalid_0's auc_mu: 0.828275\tvalid_0's multi_logloss: 1.18131                \n",
      "[44]\tvalid_0's auc_mu: 0.828285\tvalid_0's multi_logloss: 1.17961                \n",
      "[45]\tvalid_0's auc_mu: 0.828353\tvalid_0's multi_logloss: 1.17811                \n",
      "[46]\tvalid_0's auc_mu: 0.828366\tvalid_0's multi_logloss: 1.17771                \n",
      "[47]\tvalid_0's auc_mu: 0.828526\tvalid_0's multi_logloss: 1.17657                \n",
      "[48]\tvalid_0's auc_mu: 0.82848\tvalid_0's multi_logloss: 1.17519                 \n",
      "[49]\tvalid_0's auc_mu: 0.828514\tvalid_0's multi_logloss: 1.17371                \n",
      "[50]\tvalid_0's auc_mu: 0.828455\tvalid_0's multi_logloss: 1.17216                \n",
      "[51]\tvalid_0's auc_mu: 0.828475\tvalid_0's multi_logloss: 1.17105                \n",
      "[52]\tvalid_0's auc_mu: 0.828458\tvalid_0's multi_logloss: 1.16996                \n",
      "[53]\tvalid_0's auc_mu: 0.82826\tvalid_0's multi_logloss: 1.16907                 \n",
      "[54]\tvalid_0's auc_mu: 0.828281\tvalid_0's multi_logloss: 1.16771                \n",
      "[55]\tvalid_0's auc_mu: 0.828303\tvalid_0's multi_logloss: 1.16702                \n",
      "[56]\tvalid_0's auc_mu: 0.828304\tvalid_0's multi_logloss: 1.16641                \n",
      "[57]\tvalid_0's auc_mu: 0.828306\tvalid_0's multi_logloss: 1.16557                \n",
      "[58]\tvalid_0's auc_mu: 0.82838\tvalid_0's multi_logloss: 1.165                   \n",
      "[59]\tvalid_0's auc_mu: 0.828418\tvalid_0's multi_logloss: 1.16294                \n",
      "[60]\tvalid_0's auc_mu: 0.82848\tvalid_0's multi_logloss: 1.16137                 \n",
      "[61]\tvalid_0's auc_mu: 0.828351\tvalid_0's multi_logloss: 1.16021                \n",
      "[62]\tvalid_0's auc_mu: 0.828429\tvalid_0's multi_logloss: 1.15879                \n",
      "Early stopping, best iteration is:                                              \n",
      "[47]\tvalid_0's auc_mu: 0.828526\tvalid_0's multi_logloss: 1.17657\n",
      "[1]\tvalid_0's auc_mu: 0.94113\tvalid_0's multi_logloss: 1.94657                  \n",
      "[2]\tvalid_0's auc_mu: 0.948063\tvalid_0's multi_logloss: 1.68534                 \n",
      "[3]\tvalid_0's auc_mu: 0.949359\tvalid_0's multi_logloss: 1.50477                 \n",
      "[4]\tvalid_0's auc_mu: 0.951635\tvalid_0's multi_logloss: 1.3644                  \n",
      "[5]\tvalid_0's auc_mu: 0.954454\tvalid_0's multi_logloss: 1.25604                 \n",
      "[6]\tvalid_0's auc_mu: 0.95862\tvalid_0's multi_logloss: 1.16598                  \n",
      "[7]\tvalid_0's auc_mu: 0.959927\tvalid_0's multi_logloss: 1.09298                 \n",
      "[8]\tvalid_0's auc_mu: 0.960857\tvalid_0's multi_logloss: 1.22124                 \n",
      "[9]\tvalid_0's auc_mu: 0.96231\tvalid_0's multi_logloss: 1.13629                  \n",
      "[10]\tvalid_0's auc_mu: 0.962236\tvalid_0's multi_logloss: 1.1448                 \n",
      "[11]\tvalid_0's auc_mu: 0.96329\tvalid_0's multi_logloss: 1.07315                 \n",
      "[12]\tvalid_0's auc_mu: 0.965703\tvalid_0's multi_logloss: 1.01409                \n",
      "[13]\tvalid_0's auc_mu: 0.965763\tvalid_0's multi_logloss: 1.02743                \n",
      "[14]\tvalid_0's auc_mu: 0.965471\tvalid_0's multi_logloss: 1.0212                 \n",
      "[15]\tvalid_0's auc_mu: 0.965821\tvalid_0's multi_logloss: 0.970165               \n",
      "[16]\tvalid_0's auc_mu: 0.965857\tvalid_0's multi_logloss: 0.927837               \n",
      "[17]\tvalid_0's auc_mu: 0.966613\tvalid_0's multi_logloss: 0.890944               \n",
      "[18]\tvalid_0's auc_mu: 0.967178\tvalid_0's multi_logloss: 0.860034               \n",
      "[19]\tvalid_0's auc_mu: 0.96755\tvalid_0's multi_logloss: 0.878756                \n",
      "[20]\tvalid_0's auc_mu: 0.966897\tvalid_0's multi_logloss: 0.850299               \n",
      "[21]\tvalid_0's auc_mu: 0.96809\tvalid_0's multi_logloss: 0.82305                 \n",
      "[22]\tvalid_0's auc_mu: 0.967436\tvalid_0's multi_logloss: 0.801826               \n",
      "[23]\tvalid_0's auc_mu: 0.967772\tvalid_0's multi_logloss: 0.783276               \n",
      "[24]\tvalid_0's auc_mu: 0.967252\tvalid_0's multi_logloss: 0.768085               \n",
      "[25]\tvalid_0's auc_mu: 0.967375\tvalid_0's multi_logloss: 0.753681               \n",
      "[26]\tvalid_0's auc_mu: 0.967228\tvalid_0's multi_logloss: 0.741417               \n",
      "[27]\tvalid_0's auc_mu: 0.967613\tvalid_0's multi_logloss: 0.730058               \n",
      "[28]\tvalid_0's auc_mu: 0.967813\tvalid_0's multi_logloss: 0.721124               \n",
      "[29]\tvalid_0's auc_mu: 0.967744\tvalid_0's multi_logloss: 0.711936               \n",
      "[30]\tvalid_0's auc_mu: 0.968595\tvalid_0's multi_logloss: 0.705676               \n",
      "[31]\tvalid_0's auc_mu: 0.969028\tvalid_0's multi_logloss: 0.699605               \n",
      "[32]\tvalid_0's auc_mu: 0.969053\tvalid_0's multi_logloss: 0.700124               \n",
      "[33]\tvalid_0's auc_mu: 0.968931\tvalid_0's multi_logloss: 0.704179               \n",
      "[34]\tvalid_0's auc_mu: 0.968929\tvalid_0's multi_logloss: 0.697254               \n",
      "[35]\tvalid_0's auc_mu: 0.968767\tvalid_0's multi_logloss: 0.704552               \n",
      "[36]\tvalid_0's auc_mu: 0.968875\tvalid_0's multi_logloss: 0.696647               \n",
      "[37]\tvalid_0's auc_mu: 0.968679\tvalid_0's multi_logloss: 0.700133               \n",
      "[38]\tvalid_0's auc_mu: 0.968847\tvalid_0's multi_logloss: 0.705395               \n",
      "[39]\tvalid_0's auc_mu: 0.96919\tvalid_0's multi_logloss: 0.698416                \n",
      "[40]\tvalid_0's auc_mu: 0.968825\tvalid_0's multi_logloss: 0.692439               \n",
      "[41]\tvalid_0's auc_mu: 0.968687\tvalid_0's multi_logloss: 0.698033               \n",
      "[42]\tvalid_0's auc_mu: 0.969006\tvalid_0's multi_logloss: 0.691708               \n",
      "[43]\tvalid_0's auc_mu: 0.969121\tvalid_0's multi_logloss: 0.698144               \n",
      "[44]\tvalid_0's auc_mu: 0.969083\tvalid_0's multi_logloss: 0.69214                \n",
      "[45]\tvalid_0's auc_mu: 0.968788\tvalid_0's multi_logloss: 0.687461               \n",
      "[46]\tvalid_0's auc_mu: 0.969048\tvalid_0's multi_logloss: 0.681908               \n",
      "[47]\tvalid_0's auc_mu: 0.968911\tvalid_0's multi_logloss: 0.676528               \n",
      "[48]\tvalid_0's auc_mu: 0.96885\tvalid_0's multi_logloss: 0.672278                \n",
      "[49]\tvalid_0's auc_mu: 0.968278\tvalid_0's multi_logloss: 0.669184               \n",
      "[50]\tvalid_0's auc_mu: 0.968067\tvalid_0's multi_logloss: 0.666215               \n",
      "[51]\tvalid_0's auc_mu: 0.968246\tvalid_0's multi_logloss: 0.664041               \n",
      "[52]\tvalid_0's auc_mu: 0.968279\tvalid_0's multi_logloss: 0.666051               \n",
      "[53]\tvalid_0's auc_mu: 0.967978\tvalid_0's multi_logloss: 0.663657               \n",
      "[54]\tvalid_0's auc_mu: 0.967906\tvalid_0's multi_logloss: 0.665547               \n",
      "[55]\tvalid_0's auc_mu: 0.968134\tvalid_0's multi_logloss: 0.666301               \n",
      "[56]\tvalid_0's auc_mu: 0.967963\tvalid_0's multi_logloss: 0.664064               \n",
      "[57]\tvalid_0's auc_mu: 0.968199\tvalid_0's multi_logloss: 0.665903               \n",
      "[58]\tvalid_0's auc_mu: 0.968055\tvalid_0's multi_logloss: 0.66367                \n",
      "[59]\tvalid_0's auc_mu: 0.967738\tvalid_0's multi_logloss: 0.660627               \n",
      "[60]\tvalid_0's auc_mu: 0.967564\tvalid_0's multi_logloss: 0.658013               \n",
      "[61]\tvalid_0's auc_mu: 0.967932\tvalid_0's multi_logloss: 0.656263               \n",
      "[62]\tvalid_0's auc_mu: 0.967572\tvalid_0's multi_logloss: 0.656386               \n",
      "[63]\tvalid_0's auc_mu: 0.967727\tvalid_0's multi_logloss: 0.657279               \n",
      "[64]\tvalid_0's auc_mu: 0.967882\tvalid_0's multi_logloss: 0.658316               \n",
      "[65]\tvalid_0's auc_mu: 0.967451\tvalid_0's multi_logloss: 0.657092               \n",
      "[66]\tvalid_0's auc_mu: 0.967542\tvalid_0's multi_logloss: 0.658293               \n",
      "[67]\tvalid_0's auc_mu: 0.967314\tvalid_0's multi_logloss: 0.657562               \n",
      "[68]\tvalid_0's auc_mu: 0.967369\tvalid_0's multi_logloss: 0.658606               \n",
      "[69]\tvalid_0's auc_mu: 0.967245\tvalid_0's multi_logloss: 0.659834               \n",
      "[70]\tvalid_0's auc_mu: 0.96743\tvalid_0's multi_logloss: 0.657644                \n",
      "[71]\tvalid_0's auc_mu: 0.967167\tvalid_0's multi_logloss: 0.658955               \n",
      "[72]\tvalid_0's auc_mu: 0.967584\tvalid_0's multi_logloss: 0.657057               \n",
      "[73]\tvalid_0's auc_mu: 0.967402\tvalid_0's multi_logloss: 0.6579                 \n",
      "[74]\tvalid_0's auc_mu: 0.967467\tvalid_0's multi_logloss: 0.658696               \n",
      "[75]\tvalid_0's auc_mu: 0.967533\tvalid_0's multi_logloss: 0.65584                \n",
      "[76]\tvalid_0's auc_mu: 0.967305\tvalid_0's multi_logloss: 0.655095               \n",
      "[77]\tvalid_0's auc_mu: 0.967315\tvalid_0's multi_logloss: 0.656104               \n",
      "[78]\tvalid_0's auc_mu: 0.967182\tvalid_0's multi_logloss: 0.65731                \n",
      "[79]\tvalid_0's auc_mu: 0.967022\tvalid_0's multi_logloss: 0.655012               \n",
      "[80]\tvalid_0's auc_mu: 0.967503\tvalid_0's multi_logloss: 0.652473               \n",
      "[81]\tvalid_0's auc_mu: 0.967736\tvalid_0's multi_logloss: 0.652961               \n",
      "[82]\tvalid_0's auc_mu: 0.967623\tvalid_0's multi_logloss: 0.653386               \n",
      "[83]\tvalid_0's auc_mu: 0.968172\tvalid_0's multi_logloss: 0.651456               \n",
      "[84]\tvalid_0's auc_mu: 0.968648\tvalid_0's multi_logloss: 0.649594               \n",
      "[85]\tvalid_0's auc_mu: 0.968756\tvalid_0's multi_logloss: 0.650461               \n",
      "[86]\tvalid_0's auc_mu: 0.96894\tvalid_0's multi_logloss: 0.648356                \n",
      "[87]\tvalid_0's auc_mu: 0.968811\tvalid_0's multi_logloss: 0.648167               \n",
      "[88]\tvalid_0's auc_mu: 0.9688\tvalid_0's multi_logloss: 0.648462                 \n",
      "[89]\tvalid_0's auc_mu: 0.968839\tvalid_0's multi_logloss: 0.649338               \n",
      "[90]\tvalid_0's auc_mu: 0.968831\tvalid_0's multi_logloss: 0.650186               \n",
      "[91]\tvalid_0's auc_mu: 0.96896\tvalid_0's multi_logloss: 0.651016                \n",
      "[92]\tvalid_0's auc_mu: 0.96897\tvalid_0's multi_logloss: 0.652005                \n",
      "[93]\tvalid_0's auc_mu: 0.968942\tvalid_0's multi_logloss: 0.653163               \n",
      "[94]\tvalid_0's auc_mu: 0.969312\tvalid_0's multi_logloss: 0.651974               \n",
      "[95]\tvalid_0's auc_mu: 0.969305\tvalid_0's multi_logloss: 0.653094               \n",
      "[96]\tvalid_0's auc_mu: 0.969331\tvalid_0's multi_logloss: 0.654345               \n",
      "[97]\tvalid_0's auc_mu: 0.969517\tvalid_0's multi_logloss: 0.655593               \n",
      "[98]\tvalid_0's auc_mu: 0.969784\tvalid_0's multi_logloss: 0.653349               \n",
      "[99]\tvalid_0's auc_mu: 0.969854\tvalid_0's multi_logloss: 0.650972               \n",
      "[100]\tvalid_0's auc_mu: 0.969589\tvalid_0's multi_logloss: 0.649307              \n",
      "[101]\tvalid_0's auc_mu: 0.969485\tvalid_0's multi_logloss: 0.647996              \n",
      "[102]\tvalid_0's auc_mu: 0.969611\tvalid_0's multi_logloss: 0.64684               \n",
      "[1]\tvalid_0's auc_mu: 0.940741\tvalid_0's multi_logloss: 2.04717                  \n",
      "Training until validation scores don't improve for 15 rounds                     \n",
      "[2]\tvalid_0's auc_mu: 0.947218\tvalid_0's multi_logloss: 1.81523                  \n",
      "[3]\tvalid_0's auc_mu: 0.949508\tvalid_0's multi_logloss: 1.65468                  \n",
      "[4]\tvalid_0's auc_mu: 0.953155\tvalid_0's multi_logloss: 1.53255                  \n",
      "[5]\tvalid_0's auc_mu: 0.954176\tvalid_0's multi_logloss: 1.43453                  \n",
      "[6]\tvalid_0's auc_mu: 0.957512\tvalid_0's multi_logloss: 1.35725                  \n",
      "[7]\tvalid_0's auc_mu: 0.959781\tvalid_0's multi_logloss: 1.29214                  \n",
      "[8]\tvalid_0's auc_mu: 0.960683\tvalid_0's multi_logloss: 1.239                    \n",
      "[9]\tvalid_0's auc_mu: 0.962089\tvalid_0's multi_logloss: 1.19223                  \n",
      "[10]\tvalid_0's auc_mu: 0.962543\tvalid_0's multi_logloss: 1.15105                 \n",
      "[11]\tvalid_0's auc_mu: 0.963912\tvalid_0's multi_logloss: 1.11667                 \n",
      "[12]\tvalid_0's auc_mu: 0.965208\tvalid_0's multi_logloss: 1.08822                 \n",
      "[13]\tvalid_0's auc_mu: 0.965199\tvalid_0's multi_logloss: 1.05818                 \n",
      "[14]\tvalid_0's auc_mu: 0.966323\tvalid_0's multi_logloss: 1.03166                 \n",
      "[15]\tvalid_0's auc_mu: 0.966472\tvalid_0's multi_logloss: 1.00999                 \n",
      "[16]\tvalid_0's auc_mu: 0.966906\tvalid_0's multi_logloss: 0.991131                \n",
      "[17]\tvalid_0's auc_mu: 0.967269\tvalid_0's multi_logloss: 0.972698                \n",
      "[18]\tvalid_0's auc_mu: 0.967216\tvalid_0's multi_logloss: 0.957326                \n",
      "[19]\tvalid_0's auc_mu: 0.967575\tvalid_0's multi_logloss: 0.94505                 \n",
      "[20]\tvalid_0's auc_mu: 0.967212\tvalid_0's multi_logloss: 0.932922                \n",
      "[21]\tvalid_0's auc_mu: 0.967192\tvalid_0's multi_logloss: 0.923268                \n",
      "[22]\tvalid_0's auc_mu: 0.967106\tvalid_0's multi_logloss: 0.915798                \n",
      "[23]\tvalid_0's auc_mu: 0.967659\tvalid_0's multi_logloss: 0.905821                \n",
      "[24]\tvalid_0's auc_mu: 0.967532\tvalid_0's multi_logloss: 0.899317                \n",
      "[25]\tvalid_0's auc_mu: 0.967394\tvalid_0's multi_logloss: 0.892386                \n",
      "[26]\tvalid_0's auc_mu: 0.967791\tvalid_0's multi_logloss: 0.885752                \n",
      "[27]\tvalid_0's auc_mu: 0.967924\tvalid_0's multi_logloss: 0.878577                \n",
      "[28]\tvalid_0's auc_mu: 0.967821\tvalid_0's multi_logloss: 0.871649                \n",
      "[29]\tvalid_0's auc_mu: 0.96757\tvalid_0's multi_logloss: 0.86741                  \n",
      "[30]\tvalid_0's auc_mu: 0.967645\tvalid_0's multi_logloss: 0.860727                \n",
      "[31]\tvalid_0's auc_mu: 0.968\tvalid_0's multi_logloss: 0.855598                   \n",
      "[32]\tvalid_0's auc_mu: 0.968106\tvalid_0's multi_logloss: 0.851835                \n",
      "[33]\tvalid_0's auc_mu: 0.968\tvalid_0's multi_logloss: 0.848407                   \n",
      "[34]\tvalid_0's auc_mu: 0.968079\tvalid_0's multi_logloss: 0.846406                \n",
      "[35]\tvalid_0's auc_mu: 0.968067\tvalid_0's multi_logloss: 0.844477                \n",
      "[36]\tvalid_0's auc_mu: 0.968065\tvalid_0's multi_logloss: 0.840643                \n",
      "[37]\tvalid_0's auc_mu: 0.967884\tvalid_0's multi_logloss: 0.837626                \n",
      "[38]\tvalid_0's auc_mu: 0.967821\tvalid_0's multi_logloss: 0.835392                \n",
      "[39]\tvalid_0's auc_mu: 0.967934\tvalid_0's multi_logloss: 0.833043                \n",
      "[40]\tvalid_0's auc_mu: 0.967913\tvalid_0's multi_logloss: 0.832037                \n",
      "[41]\tvalid_0's auc_mu: 0.968161\tvalid_0's multi_logloss: 0.830168                \n",
      "[42]\tvalid_0's auc_mu: 0.968392\tvalid_0's multi_logloss: 0.827923                \n",
      "[43]\tvalid_0's auc_mu: 0.968396\tvalid_0's multi_logloss: 0.824532                \n",
      "[44]\tvalid_0's auc_mu: 0.967911\tvalid_0's multi_logloss: 0.821593                \n",
      "[45]\tvalid_0's auc_mu: 0.967858\tvalid_0's multi_logloss: 0.820348                \n",
      "[46]\tvalid_0's auc_mu: 0.968035\tvalid_0's multi_logloss: 0.818141                \n",
      "[47]\tvalid_0's auc_mu: 0.968099\tvalid_0's multi_logloss: 0.815416                \n",
      "[48]\tvalid_0's auc_mu: 0.968383\tvalid_0's multi_logloss: 0.813631                \n",
      "[49]\tvalid_0's auc_mu: 0.968366\tvalid_0's multi_logloss: 0.81269                 \n",
      "[50]\tvalid_0's auc_mu: 0.968462\tvalid_0's multi_logloss: 0.810421                \n",
      "[51]\tvalid_0's auc_mu: 0.968407\tvalid_0's multi_logloss: 0.809928                \n",
      "[52]\tvalid_0's auc_mu: 0.96811\tvalid_0's multi_logloss: 0.808237                 \n",
      "[53]\tvalid_0's auc_mu: 0.968184\tvalid_0's multi_logloss: 0.807061                \n",
      "[54]\tvalid_0's auc_mu: 0.967832\tvalid_0's multi_logloss: 0.807354                \n",
      "[55]\tvalid_0's auc_mu: 0.967839\tvalid_0's multi_logloss: 0.807665                \n",
      "[56]\tvalid_0's auc_mu: 0.967931\tvalid_0's multi_logloss: 0.806584                \n",
      "[57]\tvalid_0's auc_mu: 0.967941\tvalid_0's multi_logloss: 0.805976                \n",
      "[58]\tvalid_0's auc_mu: 0.967848\tvalid_0's multi_logloss: 0.803664                \n",
      "[59]\tvalid_0's auc_mu: 0.967845\tvalid_0's multi_logloss: 0.802598                \n",
      "[60]\tvalid_0's auc_mu: 0.967825\tvalid_0's multi_logloss: 0.801433                \n",
      "[61]\tvalid_0's auc_mu: 0.967863\tvalid_0's multi_logloss: 0.798967                \n",
      "[62]\tvalid_0's auc_mu: 0.967917\tvalid_0's multi_logloss: 0.797787                \n",
      "[63]\tvalid_0's auc_mu: 0.96799\tvalid_0's multi_logloss: 0.796027                 \n",
      "[64]\tvalid_0's auc_mu: 0.967994\tvalid_0's multi_logloss: 0.794946                \n",
      "[65]\tvalid_0's auc_mu: 0.968071\tvalid_0's multi_logloss: 0.794877                \n",
      "Early stopping, best iteration is:                                               \n",
      "[50]\tvalid_0's auc_mu: 0.968462\tvalid_0's multi_logloss: 0.810421\n",
      "[1]\tvalid_0's auc_mu: 0.937529\tvalid_0's multi_logloss: 1.95224                  \n",
      "[2]\tvalid_0's auc_mu: 0.943666\tvalid_0's multi_logloss: 1.69431                  \n",
      "[3]\tvalid_0's auc_mu: 0.945929\tvalid_0's multi_logloss: 1.51752                  \n",
      "[4]\tvalid_0's auc_mu: 0.948675\tvalid_0's multi_logloss: 1.37851                  \n",
      "[5]\tvalid_0's auc_mu: 0.952905\tvalid_0's multi_logloss: 1.26656                  \n",
      "[6]\tvalid_0's auc_mu: 0.955554\tvalid_0's multi_logloss: 1.17753                  \n",
      "[7]\tvalid_0's auc_mu: 0.958818\tvalid_0's multi_logloss: 1.10462                  \n",
      "[8]\tvalid_0's auc_mu: 0.960061\tvalid_0's multi_logloss: 1.23011                  \n",
      "[9]\tvalid_0's auc_mu: 0.962714\tvalid_0's multi_logloss: 1.14582                  \n",
      "[10]\tvalid_0's auc_mu: 0.962904\tvalid_0's multi_logloss: 1.15535                 \n",
      "[11]\tvalid_0's auc_mu: 0.963328\tvalid_0's multi_logloss: 1.08566                 \n",
      "[12]\tvalid_0's auc_mu: 0.964712\tvalid_0's multi_logloss: 1.02872                 \n",
      "[13]\tvalid_0's auc_mu: 0.964526\tvalid_0's multi_logloss: 1.04139                 \n",
      "[14]\tvalid_0's auc_mu: 0.964533\tvalid_0's multi_logloss: 1.03561                 \n",
      "[15]\tvalid_0's auc_mu: 0.966279\tvalid_0's multi_logloss: 0.985372                \n",
      "[16]\tvalid_0's auc_mu: 0.966546\tvalid_0's multi_logloss: 0.944115                \n",
      "[17]\tvalid_0's auc_mu: 0.966547\tvalid_0's multi_logloss: 0.909668                \n",
      "[18]\tvalid_0's auc_mu: 0.966726\tvalid_0's multi_logloss: 0.880554                \n",
      "[19]\tvalid_0's auc_mu: 0.967162\tvalid_0's multi_logloss: 0.89872                 \n",
      "[20]\tvalid_0's auc_mu: 0.967419\tvalid_0's multi_logloss: 0.868194                \n",
      "[21]\tvalid_0's auc_mu: 0.967762\tvalid_0's multi_logloss: 0.843796                \n",
      "[22]\tvalid_0's auc_mu: 0.968005\tvalid_0's multi_logloss: 0.823014                \n",
      "[23]\tvalid_0's auc_mu: 0.967558\tvalid_0's multi_logloss: 0.805288                \n",
      "[24]\tvalid_0's auc_mu: 0.967288\tvalid_0's multi_logloss: 0.789139                \n",
      "[25]\tvalid_0's auc_mu: 0.967866\tvalid_0's multi_logloss: 0.773982                \n",
      "[26]\tvalid_0's auc_mu: 0.967588\tvalid_0's multi_logloss: 0.759408                \n",
      "[27]\tvalid_0's auc_mu: 0.968787\tvalid_0's multi_logloss: 0.748507                \n",
      "[28]\tvalid_0's auc_mu: 0.968172\tvalid_0's multi_logloss: 0.73909                 \n",
      "[29]\tvalid_0's auc_mu: 0.968254\tvalid_0's multi_logloss: 0.731562                \n",
      "[30]\tvalid_0's auc_mu: 0.968331\tvalid_0's multi_logloss: 0.723537                \n",
      "[31]\tvalid_0's auc_mu: 0.967935\tvalid_0's multi_logloss: 0.716974                \n",
      "[32]\tvalid_0's auc_mu: 0.967885\tvalid_0's multi_logloss: 0.716712                \n",
      "[33]\tvalid_0's auc_mu: 0.967448\tvalid_0's multi_logloss: 0.721473                \n",
      "[34]\tvalid_0's auc_mu: 0.967203\tvalid_0's multi_logloss: 0.713569                \n",
      "[35]\tvalid_0's auc_mu: 0.967496\tvalid_0's multi_logloss: 0.720801                \n",
      "[36]\tvalid_0's auc_mu: 0.967693\tvalid_0's multi_logloss: 0.71189                 \n",
      "[37]\tvalid_0's auc_mu: 0.967691\tvalid_0's multi_logloss: 0.715617                \n",
      "[38]\tvalid_0's auc_mu: 0.967654\tvalid_0's multi_logloss: 0.723017                \n",
      "[39]\tvalid_0's auc_mu: 0.968486\tvalid_0's multi_logloss: 0.713658                \n",
      "[40]\tvalid_0's auc_mu: 0.96918\tvalid_0's multi_logloss: 0.706141                 \n",
      "[41]\tvalid_0's auc_mu: 0.969358\tvalid_0's multi_logloss: 0.71237                 \n",
      "[42]\tvalid_0's auc_mu: 0.968632\tvalid_0's multi_logloss: 0.705495                \n",
      "[43]\tvalid_0's auc_mu: 0.968702\tvalid_0's multi_logloss: 0.712755                \n",
      "[44]\tvalid_0's auc_mu: 0.969987\tvalid_0's multi_logloss: 0.705671                \n",
      "[45]\tvalid_0's auc_mu: 0.96978\tvalid_0's multi_logloss: 0.699318                 \n",
      "[46]\tvalid_0's auc_mu: 0.96876\tvalid_0's multi_logloss: 0.694582                 \n",
      "[47]\tvalid_0's auc_mu: 0.968939\tvalid_0's multi_logloss: 0.689618                \n",
      "[48]\tvalid_0's auc_mu: 0.969183\tvalid_0's multi_logloss: 0.683899                \n",
      "[49]\tvalid_0's auc_mu: 0.969286\tvalid_0's multi_logloss: 0.679676                \n",
      "[50]\tvalid_0's auc_mu: 0.970026\tvalid_0's multi_logloss: 0.675274                \n",
      "[51]\tvalid_0's auc_mu: 0.969682\tvalid_0's multi_logloss: 0.673381                \n",
      "[52]\tvalid_0's auc_mu: 0.968798\tvalid_0's multi_logloss: 0.675803                \n",
      "[53]\tvalid_0's auc_mu: 0.969577\tvalid_0's multi_logloss: 0.671734                \n",
      "[54]\tvalid_0's auc_mu: 0.969416\tvalid_0's multi_logloss: 0.674561                \n",
      "[55]\tvalid_0's auc_mu: 0.969309\tvalid_0's multi_logloss: 0.675732                \n",
      "[56]\tvalid_0's auc_mu: 0.969381\tvalid_0's multi_logloss: 0.671817                \n",
      "[57]\tvalid_0's auc_mu: 0.969318\tvalid_0's multi_logloss: 0.674289                \n",
      "[58]\tvalid_0's auc_mu: 0.968927\tvalid_0's multi_logloss: 0.671136                \n",
      "[59]\tvalid_0's auc_mu: 0.969256\tvalid_0's multi_logloss: 0.669711                \n",
      "[60]\tvalid_0's auc_mu: 0.969241\tvalid_0's multi_logloss: 0.667165                \n",
      "[61]\tvalid_0's auc_mu: 0.969184\tvalid_0's multi_logloss: 0.663394                \n",
      "[62]\tvalid_0's auc_mu: 0.96936\tvalid_0's multi_logloss: 0.662935                 \n",
      "[63]\tvalid_0's auc_mu: 0.969467\tvalid_0's multi_logloss: 0.663889                \n",
      "[64]\tvalid_0's auc_mu: 0.969346\tvalid_0's multi_logloss: 0.665793                \n",
      "[65]\tvalid_0's auc_mu: 0.969279\tvalid_0's multi_logloss: 0.663659                \n",
      "[66]\tvalid_0's auc_mu: 0.969256\tvalid_0's multi_logloss: 0.665306                \n",
      "[67]\tvalid_0's auc_mu: 0.969153\tvalid_0's multi_logloss: 0.662511                \n",
      "[68]\tvalid_0's auc_mu: 0.969036\tvalid_0's multi_logloss: 0.664217                \n",
      "[69]\tvalid_0's auc_mu: 0.968857\tvalid_0's multi_logloss: 0.665943                \n",
      "[70]\tvalid_0's auc_mu: 0.969076\tvalid_0's multi_logloss: 0.663658                \n",
      "[71]\tvalid_0's auc_mu: 0.969078\tvalid_0's multi_logloss: 0.665213                \n",
      "[72]\tvalid_0's auc_mu: 0.96891\tvalid_0's multi_logloss: 0.662804                 \n",
      "[73]\tvalid_0's auc_mu: 0.968947\tvalid_0's multi_logloss: 0.66376                 \n",
      "[74]\tvalid_0's auc_mu: 0.968909\tvalid_0's multi_logloss: 0.664919                \n",
      "[75]\tvalid_0's auc_mu: 0.969084\tvalid_0's multi_logloss: 0.661992                \n",
      "[76]\tvalid_0's auc_mu: 0.969131\tvalid_0's multi_logloss: 0.660666                \n",
      "[77]\tvalid_0's auc_mu: 0.9692\tvalid_0's multi_logloss: 0.661856                  \n",
      "[78]\tvalid_0's auc_mu: 0.969215\tvalid_0's multi_logloss: 0.66322                 \n",
      "[79]\tvalid_0's auc_mu: 0.969065\tvalid_0's multi_logloss: 0.661163                \n",
      "[80]\tvalid_0's auc_mu: 0.96923\tvalid_0's multi_logloss: 0.659598                 \n",
      "[81]\tvalid_0's auc_mu: 0.969273\tvalid_0's multi_logloss: 0.660395                \n",
      "[82]\tvalid_0's auc_mu: 0.969303\tvalid_0's multi_logloss: 0.660641                \n",
      "[83]\tvalid_0's auc_mu: 0.969003\tvalid_0's multi_logloss: 0.658477                \n",
      "[84]\tvalid_0's auc_mu: 0.968807\tvalid_0's multi_logloss: 0.657918                \n",
      "[85]\tvalid_0's auc_mu: 0.968931\tvalid_0's multi_logloss: 0.659223                \n",
      "[86]\tvalid_0's auc_mu: 0.968728\tvalid_0's multi_logloss: 0.656821                \n",
      "[87]\tvalid_0's auc_mu: 0.968486\tvalid_0's multi_logloss: 0.656247                \n",
      "[88]\tvalid_0's auc_mu: 0.968454\tvalid_0's multi_logloss: 0.656674                \n",
      "[89]\tvalid_0's auc_mu: 0.968377\tvalid_0's multi_logloss: 0.65756                 \n",
      "[90]\tvalid_0's auc_mu: 0.968431\tvalid_0's multi_logloss: 0.65844                 \n",
      "[91]\tvalid_0's auc_mu: 0.968439\tvalid_0's multi_logloss: 0.659898                \n",
      "[92]\tvalid_0's auc_mu: 0.968421\tvalid_0's multi_logloss: 0.660947                \n",
      "[93]\tvalid_0's auc_mu: 0.968516\tvalid_0's multi_logloss: 0.66243                 \n",
      "[94]\tvalid_0's auc_mu: 0.969363\tvalid_0's multi_logloss: 0.659792                \n",
      "[95]\tvalid_0's auc_mu: 0.969441\tvalid_0's multi_logloss: 0.661143                \n",
      "[96]\tvalid_0's auc_mu: 0.969432\tvalid_0's multi_logloss: 0.661979                \n",
      "[97]\tvalid_0's auc_mu: 0.969441\tvalid_0's multi_logloss: 0.663357                \n",
      "[98]\tvalid_0's auc_mu: 0.96946\tvalid_0's multi_logloss: 0.661384                 \n",
      "[99]\tvalid_0's auc_mu: 0.969106\tvalid_0's multi_logloss: 0.658886                \n",
      "[100]\tvalid_0's auc_mu: 0.969101\tvalid_0's multi_logloss: 0.656695               \n",
      "[101]\tvalid_0's auc_mu: 0.96925\tvalid_0's multi_logloss: 0.65564                 \n",
      "[102]\tvalid_0's auc_mu: 0.969127\tvalid_0's multi_logloss: 0.653877               \n",
      "[103]\tvalid_0's auc_mu: 0.969186\tvalid_0's multi_logloss: 0.65527                \n",
      "[104]\tvalid_0's auc_mu: 0.96952\tvalid_0's multi_logloss: 0.653973                \n",
      "[105]\tvalid_0's auc_mu: 0.969523\tvalid_0's multi_logloss: 0.651788               \n",
      "[106]\tvalid_0's auc_mu: 0.96935\tvalid_0's multi_logloss: 0.650768                \n",
      "[107]\tvalid_0's auc_mu: 0.968839\tvalid_0's multi_logloss: 0.650533               \n",
      "[108]\tvalid_0's auc_mu: 0.96917\tvalid_0's multi_logloss: 0.64967                 \n",
      "[109]\tvalid_0's auc_mu: 0.969137\tvalid_0's multi_logloss: 0.648548               \n",
      "[110]\tvalid_0's auc_mu: 0.968871\tvalid_0's multi_logloss: 0.648415               \n",
      "[111]\tvalid_0's auc_mu: 0.968941\tvalid_0's multi_logloss: 0.648715               \n",
      "[112]\tvalid_0's auc_mu: 0.968947\tvalid_0's multi_logloss: 0.64887                \n",
      "[113]\tvalid_0's auc_mu: 0.968629\tvalid_0's multi_logloss: 0.648969               \n",
      "[114]\tvalid_0's auc_mu: 0.968636\tvalid_0's multi_logloss: 0.649236               \n",
      "[115]\tvalid_0's auc_mu: 0.968588\tvalid_0's multi_logloss: 0.649673               \n",
      "[116]\tvalid_0's auc_mu: 0.968549\tvalid_0's multi_logloss: 0.649084               \n",
      "[117]\tvalid_0's auc_mu: 0.968584\tvalid_0's multi_logloss: 0.649549               \n",
      "[118]\tvalid_0's auc_mu: 0.968652\tvalid_0's multi_logloss: 0.649708               \n",
      "[119]\tvalid_0's auc_mu: 0.968507\tvalid_0's multi_logloss: 0.650104               \n",
      "[120]\tvalid_0's auc_mu: 0.968414\tvalid_0's multi_logloss: 0.649067               \n",
      "[121]\tvalid_0's auc_mu: 0.96844\tvalid_0's multi_logloss: 0.64933                 \n",
      "[122]\tvalid_0's auc_mu: 0.968408\tvalid_0's multi_logloss: 0.649551               \n",
      "[123]\tvalid_0's auc_mu: 0.968479\tvalid_0's multi_logloss: 0.648772               \n",
      "[124]\tvalid_0's auc_mu: 0.968572\tvalid_0's multi_logloss: 0.649165               \n",
      "[125]\tvalid_0's auc_mu: 0.968714\tvalid_0's multi_logloss: 0.648553               \n",
      "[126]\tvalid_0's auc_mu: 0.968798\tvalid_0's multi_logloss: 0.647963               \n",
      "[127]\tvalid_0's auc_mu: 0.968851\tvalid_0's multi_logloss: 0.646733               \n",
      "[128]\tvalid_0's auc_mu: 0.968861\tvalid_0's multi_logloss: 0.64684                \n",
      "[129]\tvalid_0's auc_mu: 0.968622\tvalid_0's multi_logloss: 0.645961               \n",
      "[130]\tvalid_0's auc_mu: 0.968613\tvalid_0's multi_logloss: 0.646194               \n",
      "[131]\tvalid_0's auc_mu: 0.968804\tvalid_0's multi_logloss: 0.646123               \n",
      "[132]\tvalid_0's auc_mu: 0.968744\tvalid_0's multi_logloss: 0.646446               \n",
      "[133]\tvalid_0's auc_mu: 0.968499\tvalid_0's multi_logloss: 0.646761               \n",
      "[134]\tvalid_0's auc_mu: 0.96828\tvalid_0's multi_logloss: 0.646303                \n",
      "[135]\tvalid_0's auc_mu: 0.967919\tvalid_0's multi_logloss: 0.645555               \n",
      "[136]\tvalid_0's auc_mu: 0.967942\tvalid_0's multi_logloss: 0.645639               \n",
      "[137]\tvalid_0's auc_mu: 0.968433\tvalid_0's multi_logloss: 0.644141               \n",
      "[138]\tvalid_0's auc_mu: 0.968434\tvalid_0's multi_logloss: 0.644462               \n",
      "[139]\tvalid_0's auc_mu: 0.968418\tvalid_0's multi_logloss: 0.644704               \n",
      "[140]\tvalid_0's auc_mu: 0.968487\tvalid_0's multi_logloss: 0.645393               \n",
      "[141]\tvalid_0's auc_mu: 0.96847\tvalid_0's multi_logloss: 0.645543                \n",
      "[142]\tvalid_0's auc_mu: 0.968055\tvalid_0's multi_logloss: 0.645724               \n",
      "[143]\tvalid_0's auc_mu: 0.967989\tvalid_0's multi_logloss: 0.646189               \n",
      "[144]\tvalid_0's auc_mu: 0.968329\tvalid_0's multi_logloss: 0.645759               \n",
      "[145]\tvalid_0's auc_mu: 0.968331\tvalid_0's multi_logloss: 0.645889               \n",
      "[146]\tvalid_0's auc_mu: 0.968341\tvalid_0's multi_logloss: 0.646629               \n",
      "[147]\tvalid_0's auc_mu: 0.968341\tvalid_0's multi_logloss: 0.646585               \n",
      "[148]\tvalid_0's auc_mu: 0.967911\tvalid_0's multi_logloss: 0.646384               \n",
      "[149]\tvalid_0's auc_mu: 0.96779\tvalid_0's multi_logloss: 0.646723                \n",
      "[150]\tvalid_0's auc_mu: 0.967266\tvalid_0's multi_logloss: 0.646201               \n",
      "[151]\tvalid_0's auc_mu: 0.967309\tvalid_0's multi_logloss: 0.64607                \n",
      "[152]\tvalid_0's auc_mu: 0.967283\tvalid_0's multi_logloss: 0.64574                \n",
      "[153]\tvalid_0's auc_mu: 0.967062\tvalid_0's multi_logloss: 0.645586               \n",
      "[154]\tvalid_0's auc_mu: 0.967382\tvalid_0's multi_logloss: 0.645453               \n",
      "[155]\tvalid_0's auc_mu: 0.966719\tvalid_0's multi_logloss: 0.645139               \n",
      "[156]\tvalid_0's auc_mu: 0.966579\tvalid_0's multi_logloss: 0.644807               \n",
      "[157]\tvalid_0's auc_mu: 0.966377\tvalid_0's multi_logloss: 0.644825               \n",
      "[158]\tvalid_0's auc_mu: 0.966261\tvalid_0's multi_logloss: 0.645153               \n",
      "[159]\tvalid_0's auc_mu: 0.966208\tvalid_0's multi_logloss: 0.645039               \n",
      "[160]\tvalid_0's auc_mu: 0.966484\tvalid_0's multi_logloss: 0.64487                \n",
      "[161]\tvalid_0's auc_mu: 0.966505\tvalid_0's multi_logloss: 0.64478                \n",
      "[162]\tvalid_0's auc_mu: 0.966237\tvalid_0's multi_logloss: 0.645302               \n",
      "[163]\tvalid_0's auc_mu: 0.966132\tvalid_0's multi_logloss: 0.645316               \n",
      "[164]\tvalid_0's auc_mu: 0.966549\tvalid_0's multi_logloss: 0.645423               \n",
      "[165]\tvalid_0's auc_mu: 0.966549\tvalid_0's multi_logloss: 0.645852               \n",
      "[166]\tvalid_0's auc_mu: 0.966556\tvalid_0's multi_logloss: 0.645527               \n",
      "[167]\tvalid_0's auc_mu: 0.96664\tvalid_0's multi_logloss: 0.645219                \n",
      "[168]\tvalid_0's auc_mu: 0.966564\tvalid_0's multi_logloss: 0.645143               \n",
      "[169]\tvalid_0's auc_mu: 0.966814\tvalid_0's multi_logloss: 0.644931               \n",
      "[170]\tvalid_0's auc_mu: 0.966821\tvalid_0's multi_logloss: 0.644988               \n",
      "[171]\tvalid_0's auc_mu: 0.966817\tvalid_0's multi_logloss: 0.644933               \n",
      "[172]\tvalid_0's auc_mu: 0.966494\tvalid_0's multi_logloss: 0.645639               \n",
      "[173]\tvalid_0's auc_mu: 0.966481\tvalid_0's multi_logloss: 0.645613               \n",
      "[174]\tvalid_0's auc_mu: 0.966133\tvalid_0's multi_logloss: 0.64611                \n",
      "[175]\tvalid_0's auc_mu: 0.965875\tvalid_0's multi_logloss: 0.645923               \n",
      "[176]\tvalid_0's auc_mu: 0.965904\tvalid_0's multi_logloss: 0.646385               \n",
      "[177]\tvalid_0's auc_mu: 0.966046\tvalid_0's multi_logloss: 0.646027               \n",
      "[178]\tvalid_0's auc_mu: 0.965265\tvalid_0's multi_logloss: 0.646969               \n",
      "[179]\tvalid_0's auc_mu: 0.964898\tvalid_0's multi_logloss: 0.647456               \n",
      "[180]\tvalid_0's auc_mu: 0.965003\tvalid_0's multi_logloss: 0.647229               \n",
      "[181]\tvalid_0's auc_mu: 0.965292\tvalid_0's multi_logloss: 0.647175               \n",
      "[182]\tvalid_0's auc_mu: 0.96521\tvalid_0's multi_logloss: 0.646901                \n",
      "[183]\tvalid_0's auc_mu: 0.965187\tvalid_0's multi_logloss: 0.646875               \n",
      "[184]\tvalid_0's auc_mu: 0.964488\tvalid_0's multi_logloss: 0.647507               \n",
      "[185]\tvalid_0's auc_mu: 0.964986\tvalid_0's multi_logloss: 0.647661               \n",
      "[186]\tvalid_0's auc_mu: 0.965076\tvalid_0's multi_logloss: 0.647362               \n",
      "[187]\tvalid_0's auc_mu: 0.964919\tvalid_0's multi_logloss: 0.647502               \n",
      "[1]\tvalid_0's auc_mu: 0.933033\tvalid_0's multi_logloss: 1.61343                  \n",
      "Training until validation scores don't improve for 15 rounds                     \n",
      "[2]\tvalid_0's auc_mu: 0.943324\tvalid_0's multi_logloss: 1.3862                   \n",
      "[3]\tvalid_0's auc_mu: 0.949348\tvalid_0's multi_logloss: 1.2293                   \n",
      "[4]\tvalid_0's auc_mu: 0.949254\tvalid_0's multi_logloss: 1.11749                  \n",
      "[5]\tvalid_0's auc_mu: 0.952015\tvalid_0's multi_logloss: 1.02621                  \n",
      "[6]\tvalid_0's auc_mu: 0.953048\tvalid_0's multi_logloss: 0.955157                 \n",
      "[7]\tvalid_0's auc_mu: 0.954991\tvalid_0's multi_logloss: 0.900982                 \n",
      "[8]\tvalid_0's auc_mu: 0.959274\tvalid_0's multi_logloss: 0.853811                 \n",
      "[9]\tvalid_0's auc_mu: 0.959262\tvalid_0's multi_logloss: 0.817441                 \n",
      "[10]\tvalid_0's auc_mu: 0.959769\tvalid_0's multi_logloss: 0.787486                \n",
      "[11]\tvalid_0's auc_mu: 0.95967\tvalid_0's multi_logloss: 0.764147                 \n",
      "[12]\tvalid_0's auc_mu: 0.959346\tvalid_0's multi_logloss: 0.743501                \n",
      "[13]\tvalid_0's auc_mu: 0.96046\tvalid_0's multi_logloss: 0.724786                 \n",
      "[14]\tvalid_0's auc_mu: 0.960319\tvalid_0's multi_logloss: 0.710075                \n",
      "[15]\tvalid_0's auc_mu: 0.961659\tvalid_0's multi_logloss: 0.69815                 \n",
      "[16]\tvalid_0's auc_mu: 0.961972\tvalid_0's multi_logloss: 0.687936                \n",
      "[17]\tvalid_0's auc_mu: 0.963118\tvalid_0's multi_logloss: 0.681315                \n",
      "[18]\tvalid_0's auc_mu: 0.962555\tvalid_0's multi_logloss: 0.676099                \n",
      "[19]\tvalid_0's auc_mu: 0.962278\tvalid_0's multi_logloss: 0.671684                \n",
      "[20]\tvalid_0's auc_mu: 0.962586\tvalid_0's multi_logloss: 0.668584                \n",
      "[21]\tvalid_0's auc_mu: 0.963532\tvalid_0's multi_logloss: 0.666041                \n",
      "[22]\tvalid_0's auc_mu: 0.963534\tvalid_0's multi_logloss: 0.664212                \n",
      "[23]\tvalid_0's auc_mu: 0.963353\tvalid_0's multi_logloss: 0.662968                \n",
      "[24]\tvalid_0's auc_mu: 0.963153\tvalid_0's multi_logloss: 0.662934                \n",
      "[25]\tvalid_0's auc_mu: 0.963101\tvalid_0's multi_logloss: 0.662274                \n",
      "[26]\tvalid_0's auc_mu: 0.963821\tvalid_0's multi_logloss: 0.662106                \n",
      "[27]\tvalid_0's auc_mu: 0.964222\tvalid_0's multi_logloss: 0.660902                \n",
      "[28]\tvalid_0's auc_mu: 0.963894\tvalid_0's multi_logloss: 0.661241                \n",
      "[29]\tvalid_0's auc_mu: 0.963846\tvalid_0's multi_logloss: 0.660558                \n",
      "[30]\tvalid_0's auc_mu: 0.964046\tvalid_0's multi_logloss: 0.661978                \n",
      "[31]\tvalid_0's auc_mu: 0.964435\tvalid_0's multi_logloss: 0.662775                \n",
      "[32]\tvalid_0's auc_mu: 0.963903\tvalid_0's multi_logloss: 0.66314                 \n",
      "[33]\tvalid_0's auc_mu: 0.96331\tvalid_0's multi_logloss: 0.66448                  \n",
      "[34]\tvalid_0's auc_mu: 0.963688\tvalid_0's multi_logloss: 0.665405                \n",
      "[35]\tvalid_0's auc_mu: 0.963326\tvalid_0's multi_logloss: 0.666321                \n",
      "[36]\tvalid_0's auc_mu: 0.963639\tvalid_0's multi_logloss: 0.667492                \n",
      "[37]\tvalid_0's auc_mu: 0.963667\tvalid_0's multi_logloss: 0.668397                \n",
      "[38]\tvalid_0's auc_mu: 0.963637\tvalid_0's multi_logloss: 0.669539                \n",
      "[39]\tvalid_0's auc_mu: 0.963674\tvalid_0's multi_logloss: 0.670434                \n",
      "[40]\tvalid_0's auc_mu: 0.963625\tvalid_0's multi_logloss: 0.672036                \n",
      "[41]\tvalid_0's auc_mu: 0.963623\tvalid_0's multi_logloss: 0.674207                \n",
      "[42]\tvalid_0's auc_mu: 0.963409\tvalid_0's multi_logloss: 0.675845                \n",
      "[43]\tvalid_0's auc_mu: 0.963039\tvalid_0's multi_logloss: 0.678008                \n",
      "[44]\tvalid_0's auc_mu: 0.963288\tvalid_0's multi_logloss: 0.67924                 \n",
      "Early stopping, best iteration is:                                               \n",
      "[29]\tvalid_0's auc_mu: 0.963846\tvalid_0's multi_logloss: 0.660558\n",
      "[1]\tvalid_0's auc_mu: 0.939666\tvalid_0's multi_logloss: 2.15177                  \n",
      "[2]\tvalid_0's auc_mu: 0.947147\tvalid_0's multi_logloss: 1.93256                  \n",
      "[3]\tvalid_0's auc_mu: 0.949149\tvalid_0's multi_logloss: 1.78063                  \n",
      "[4]\tvalid_0's auc_mu: 0.9529\tvalid_0's multi_logloss: 1.66724                    \n",
      "[5]\tvalid_0's auc_mu: 0.95277\tvalid_0's multi_logloss: 1.58076                   \n",
      "[6]\tvalid_0's auc_mu: 0.957163\tvalid_0's multi_logloss: 1.50578                  \n",
      "[7]\tvalid_0's auc_mu: 0.958653\tvalid_0's multi_logloss: 1.44355                  \n",
      "[8]\tvalid_0's auc_mu: 0.959414\tvalid_0's multi_logloss: 1.56382                  \n",
      "[9]\tvalid_0's auc_mu: 0.959139\tvalid_0's multi_logloss: 1.49149                  \n",
      "[10]\tvalid_0's auc_mu: 0.958115\tvalid_0's multi_logloss: 1.50216                 \n",
      "[11]\tvalid_0's auc_mu: 0.958372\tvalid_0's multi_logloss: 1.4415                  \n",
      "[12]\tvalid_0's auc_mu: 0.959022\tvalid_0's multi_logloss: 1.3931                  \n",
      "[13]\tvalid_0's auc_mu: 0.958084\tvalid_0's multi_logloss: 1.40638                 \n",
      "[14]\tvalid_0's auc_mu: 0.958167\tvalid_0's multi_logloss: 1.40207                 \n",
      "[15]\tvalid_0's auc_mu: 0.959658\tvalid_0's multi_logloss: 1.35535                 \n",
      "[16]\tvalid_0's auc_mu: 0.959717\tvalid_0's multi_logloss: 1.31763                 \n",
      "[17]\tvalid_0's auc_mu: 0.960883\tvalid_0's multi_logloss: 1.2824                  \n",
      "[18]\tvalid_0's auc_mu: 0.960783\tvalid_0's multi_logloss: 1.25383                 \n",
      "[19]\tvalid_0's auc_mu: 0.961259\tvalid_0's multi_logloss: 1.28889                 \n",
      "[20]\tvalid_0's auc_mu: 0.961662\tvalid_0's multi_logloss: 1.26008                 \n",
      "[21]\tvalid_0's auc_mu: 0.961105\tvalid_0's multi_logloss: 1.23436                 \n",
      "[22]\tvalid_0's auc_mu: 0.961686\tvalid_0's multi_logloss: 1.21098                 \n",
      "[23]\tvalid_0's auc_mu: 0.961561\tvalid_0's multi_logloss: 1.19115                 \n",
      "[24]\tvalid_0's auc_mu: 0.961744\tvalid_0's multi_logloss: 1.17435                 \n",
      "[25]\tvalid_0's auc_mu: 0.961917\tvalid_0's multi_logloss: 1.158                   \n",
      "[26]\tvalid_0's auc_mu: 0.962255\tvalid_0's multi_logloss: 1.14334                 \n",
      "[27]\tvalid_0's auc_mu: 0.961897\tvalid_0's multi_logloss: 1.13156                 \n",
      "[28]\tvalid_0's auc_mu: 0.962144\tvalid_0's multi_logloss: 1.11994                 \n",
      "[29]\tvalid_0's auc_mu: 0.962578\tvalid_0's multi_logloss: 1.10988                 \n",
      "[30]\tvalid_0's auc_mu: 0.963695\tvalid_0's multi_logloss: 1.10096                 \n",
      "[31]\tvalid_0's auc_mu: 0.963635\tvalid_0's multi_logloss: 1.09109                 \n",
      "[32]\tvalid_0's auc_mu: 0.963974\tvalid_0's multi_logloss: 1.09558                 \n",
      "[33]\tvalid_0's auc_mu: 0.96395\tvalid_0's multi_logloss: 1.10867                  \n",
      "[34]\tvalid_0's auc_mu: 0.964007\tvalid_0's multi_logloss: 1.0989                  \n",
      "[35]\tvalid_0's auc_mu: 0.964034\tvalid_0's multi_logloss: 1.12286                 \n",
      "[36]\tvalid_0's auc_mu: 0.963885\tvalid_0's multi_logloss: 1.11201                 \n",
      "[37]\tvalid_0's auc_mu: 0.963652\tvalid_0's multi_logloss: 1.12419                 \n",
      "[38]\tvalid_0's auc_mu: 0.963799\tvalid_0's multi_logloss: 1.14363                 \n",
      "[39]\tvalid_0's auc_mu: 0.963672\tvalid_0's multi_logloss: 1.13184                 \n",
      "[40]\tvalid_0's auc_mu: 0.963709\tvalid_0's multi_logloss: 1.1217                  \n",
      "[41]\tvalid_0's auc_mu: 0.963767\tvalid_0's multi_logloss: 1.13684                 \n",
      "[42]\tvalid_0's auc_mu: 0.963765\tvalid_0's multi_logloss: 1.12287                 \n",
      "[43]\tvalid_0's auc_mu: 0.963946\tvalid_0's multi_logloss: 1.14245                 \n",
      "[44]\tvalid_0's auc_mu: 0.963901\tvalid_0's multi_logloss: 1.13184                 \n",
      "[45]\tvalid_0's auc_mu: 0.964193\tvalid_0's multi_logloss: 1.12007                 \n",
      "[46]\tvalid_0's auc_mu: 0.964428\tvalid_0's multi_logloss: 1.10918                 \n",
      "[47]\tvalid_0's auc_mu: 0.964201\tvalid_0's multi_logloss: 1.09964                 \n",
      "[48]\tvalid_0's auc_mu: 0.964297\tvalid_0's multi_logloss: 1.09117                 \n",
      "[49]\tvalid_0's auc_mu: 0.964876\tvalid_0's multi_logloss: 1.08326                 \n",
      "[50]\tvalid_0's auc_mu: 0.965004\tvalid_0's multi_logloss: 1.07683                 \n",
      "[51]\tvalid_0's auc_mu: 0.964467\tvalid_0's multi_logloss: 1.0703                  \n",
      "[52]\tvalid_0's auc_mu: 0.964466\tvalid_0's multi_logloss: 1.08006                 \n",
      "[53]\tvalid_0's auc_mu: 0.964706\tvalid_0's multi_logloss: 1.07406                 \n",
      "[54]\tvalid_0's auc_mu: 0.964625\tvalid_0's multi_logloss: 1.08323                 \n",
      "[55]\tvalid_0's auc_mu: 0.964578\tvalid_0's multi_logloss: 1.08626                 \n",
      "[56]\tvalid_0's auc_mu: 0.964708\tvalid_0's multi_logloss: 1.07954                 \n",
      "[57]\tvalid_0's auc_mu: 0.964901\tvalid_0's multi_logloss: 1.09159                 \n",
      "[58]\tvalid_0's auc_mu: 0.964702\tvalid_0's multi_logloss: 1.08366                 \n",
      "[59]\tvalid_0's auc_mu: 0.964712\tvalid_0's multi_logloss: 1.07601                 \n",
      "[60]\tvalid_0's auc_mu: 0.964983\tvalid_0's multi_logloss: 1.06888                 \n",
      "[61]\tvalid_0's auc_mu: 0.965206\tvalid_0's multi_logloss: 1.06401                 \n",
      "[62]\tvalid_0's auc_mu: 0.965254\tvalid_0's multi_logloss: 1.06474                 \n",
      "[63]\tvalid_0's auc_mu: 0.965265\tvalid_0's multi_logloss: 1.06933                 \n",
      "[64]\tvalid_0's auc_mu: 0.965441\tvalid_0's multi_logloss: 1.07957                 \n",
      "[65]\tvalid_0's auc_mu: 0.965328\tvalid_0's multi_logloss: 1.07297                 \n",
      "[66]\tvalid_0's auc_mu: 0.965316\tvalid_0's multi_logloss: 1.08107                 \n",
      "[67]\tvalid_0's auc_mu: 0.965313\tvalid_0's multi_logloss: 1.07451                 \n",
      "[68]\tvalid_0's auc_mu: 0.965306\tvalid_0's multi_logloss: 1.08203                 \n",
      "[69]\tvalid_0's auc_mu: 0.965293\tvalid_0's multi_logloss: 1.08778                 \n",
      "[70]\tvalid_0's auc_mu: 0.96542\tvalid_0's multi_logloss: 1.07958                  \n",
      "[71]\tvalid_0's auc_mu: 0.96548\tvalid_0's multi_logloss: 1.08571                  \n",
      "[72]\tvalid_0's auc_mu: 0.965196\tvalid_0's multi_logloss: 1.07882                 \n",
      "[73]\tvalid_0's auc_mu: 0.965195\tvalid_0's multi_logloss: 1.08752                 \n",
      "[74]\tvalid_0's auc_mu: 0.965136\tvalid_0's multi_logloss: 1.09584                 \n",
      "[75]\tvalid_0's auc_mu: 0.965301\tvalid_0's multi_logloss: 1.08861                 \n",
      "[76]\tvalid_0's auc_mu: 0.965099\tvalid_0's multi_logloss: 1.0808                  \n",
      "[77]\tvalid_0's auc_mu: 0.965189\tvalid_0's multi_logloss: 1.08767                 \n",
      "[78]\tvalid_0's auc_mu: 0.965254\tvalid_0's multi_logloss: 1.09268                 \n",
      "[79]\tvalid_0's auc_mu: 0.965269\tvalid_0's multi_logloss: 1.08542                 \n",
      "[80]\tvalid_0's auc_mu: 0.965173\tvalid_0's multi_logloss: 1.07733                 \n",
      "[81]\tvalid_0's auc_mu: 0.965304\tvalid_0's multi_logloss: 1.08232                 \n",
      "[82]\tvalid_0's auc_mu: 0.9653\tvalid_0's multi_logloss: 1.08579                   \n",
      "[83]\tvalid_0's auc_mu: 0.965318\tvalid_0's multi_logloss: 1.07946                 \n",
      "[84]\tvalid_0's auc_mu: 0.965465\tvalid_0's multi_logloss: 1.07173                 \n",
      "[85]\tvalid_0's auc_mu: 0.965447\tvalid_0's multi_logloss: 1.07834                 \n",
      "[86]\tvalid_0's auc_mu: 0.965693\tvalid_0's multi_logloss: 1.07222                 \n",
      "[87]\tvalid_0's auc_mu: 0.965615\tvalid_0's multi_logloss: 1.06596                 \n",
      "[88]\tvalid_0's auc_mu: 0.965685\tvalid_0's multi_logloss: 1.07021                 \n",
      "[89]\tvalid_0's auc_mu: 0.965722\tvalid_0's multi_logloss: 1.07673                 \n",
      "[90]\tvalid_0's auc_mu: 0.965816\tvalid_0's multi_logloss: 1.08253                 \n",
      "[91]\tvalid_0's auc_mu: 0.965723\tvalid_0's multi_logloss: 1.08964                 \n",
      "[92]\tvalid_0's auc_mu: 0.965573\tvalid_0's multi_logloss: 1.09625                 \n",
      "[93]\tvalid_0's auc_mu: 0.965549\tvalid_0's multi_logloss: 1.10309                 \n",
      "[94]\tvalid_0's auc_mu: 0.96574\tvalid_0's multi_logloss: 1.09347                  \n",
      "[95]\tvalid_0's auc_mu: 0.965771\tvalid_0's multi_logloss: 1.10213                 \n",
      "[96]\tvalid_0's auc_mu: 0.965725\tvalid_0's multi_logloss: 1.10783                 \n",
      "[97]\tvalid_0's auc_mu: 0.965673\tvalid_0's multi_logloss: 1.11415                 \n",
      "[98]\tvalid_0's auc_mu: 0.965449\tvalid_0's multi_logloss: 1.10456                 \n",
      "[99]\tvalid_0's auc_mu: 0.965511\tvalid_0's multi_logloss: 1.09467                 \n",
      "[100]\tvalid_0's auc_mu: 0.965557\tvalid_0's multi_logloss: 1.08755                \n",
      "[101]\tvalid_0's auc_mu: 0.965763\tvalid_0's multi_logloss: 1.07888                \n",
      "[102]\tvalid_0's auc_mu: 0.965859\tvalid_0's multi_logloss: 1.07314                \n",
      "[103]\tvalid_0's auc_mu: 0.965778\tvalid_0's multi_logloss: 1.0845                 \n",
      "[104]\tvalid_0's auc_mu: 0.965623\tvalid_0's multi_logloss: 1.07669                \n",
      "[105]\tvalid_0's auc_mu: 0.965642\tvalid_0's multi_logloss: 1.07164                \n",
      "[106]\tvalid_0's auc_mu: 0.965843\tvalid_0's multi_logloss: 1.06439                \n",
      "[107]\tvalid_0's auc_mu: 0.965895\tvalid_0's multi_logloss: 1.05816                \n",
      "[108]\tvalid_0's auc_mu: 0.965934\tvalid_0's multi_logloss: 1.05277                \n",
      "[109]\tvalid_0's auc_mu: 0.965995\tvalid_0's multi_logloss: 1.04881                \n",
      "[110]\tvalid_0's auc_mu: 0.966197\tvalid_0's multi_logloss: 1.04395                \n",
      "[111]\tvalid_0's auc_mu: 0.966201\tvalid_0's multi_logloss: 1.04834                \n",
      "[112]\tvalid_0's auc_mu: 0.966194\tvalid_0's multi_logloss: 1.05187                \n",
      "[113]\tvalid_0's auc_mu: 0.966178\tvalid_0's multi_logloss: 1.04809                \n",
      "[114]\tvalid_0's auc_mu: 0.966156\tvalid_0's multi_logloss: 1.05399                \n",
      "[115]\tvalid_0's auc_mu: 0.9661\tvalid_0's multi_logloss: 1.06087                  \n",
      "[116]\tvalid_0's auc_mu: 0.966201\tvalid_0's multi_logloss: 1.05674                \n",
      "[117]\tvalid_0's auc_mu: 0.966152\tvalid_0's multi_logloss: 1.06188                \n",
      "[118]\tvalid_0's auc_mu: 0.966185\tvalid_0's multi_logloss: 1.06724                \n",
      "[119]\tvalid_0's auc_mu: 0.966199\tvalid_0's multi_logloss: 1.07085                \n",
      "[120]\tvalid_0's auc_mu: 0.966082\tvalid_0's multi_logloss: 1.06551                \n",
      "[121]\tvalid_0's auc_mu: 0.96601\tvalid_0's multi_logloss: 1.0695                  \n",
      "[1]\tvalid_0's auc_mu: 0.9381\tvalid_0's multi_logloss: 1.93151                    \n",
      "[2]\tvalid_0's auc_mu: 0.946106\tvalid_0's multi_logloss: 1.66552                  \n",
      "[3]\tvalid_0's auc_mu: 0.950348\tvalid_0's multi_logloss: 1.48118                  \n",
      "[4]\tvalid_0's auc_mu: 0.949418\tvalid_0's multi_logloss: 1.34741                  \n",
      "[5]\tvalid_0's auc_mu: 0.952697\tvalid_0's multi_logloss: 1.23981                  \n",
      "[6]\tvalid_0's auc_mu: 0.955944\tvalid_0's multi_logloss: 1.14999                  \n",
      "[7]\tvalid_0's auc_mu: 0.95761\tvalid_0's multi_logloss: 1.07638                   \n",
      "[8]\tvalid_0's auc_mu: 0.95859\tvalid_0's multi_logloss: 1.20191                   \n",
      "[9]\tvalid_0's auc_mu: 0.959054\tvalid_0's multi_logloss: 1.11746                  \n",
      "[10]\tvalid_0's auc_mu: 0.959728\tvalid_0's multi_logloss: 1.12378                 \n",
      "[11]\tvalid_0's auc_mu: 0.96063\tvalid_0's multi_logloss: 1.05339                  \n",
      "[12]\tvalid_0's auc_mu: 0.960809\tvalid_0's multi_logloss: 0.994534                \n",
      "[13]\tvalid_0's auc_mu: 0.960579\tvalid_0's multi_logloss: 1.00721                 \n",
      "[14]\tvalid_0's auc_mu: 0.961007\tvalid_0's multi_logloss: 1.00165                 \n",
      "[15]\tvalid_0's auc_mu: 0.96075\tvalid_0's multi_logloss: 0.951331                 \n",
      "[16]\tvalid_0's auc_mu: 0.961994\tvalid_0's multi_logloss: 0.909612                \n",
      "[17]\tvalid_0's auc_mu: 0.962371\tvalid_0's multi_logloss: 0.874014                \n",
      "[18]\tvalid_0's auc_mu: 0.962254\tvalid_0's multi_logloss: 0.842438                \n",
      "[19]\tvalid_0's auc_mu: 0.963573\tvalid_0's multi_logloss: 0.859693                \n",
      "[20]\tvalid_0's auc_mu: 0.963528\tvalid_0's multi_logloss: 0.832903                \n",
      "[21]\tvalid_0's auc_mu: 0.963934\tvalid_0's multi_logloss: 0.808005                \n",
      "[22]\tvalid_0's auc_mu: 0.965598\tvalid_0's multi_logloss: 0.785196                \n",
      "[23]\tvalid_0's auc_mu: 0.965575\tvalid_0's multi_logloss: 0.768281                \n",
      "[24]\tvalid_0's auc_mu: 0.965705\tvalid_0's multi_logloss: 0.752707                \n",
      "[25]\tvalid_0's auc_mu: 0.966259\tvalid_0's multi_logloss: 0.737673                \n",
      "[26]\tvalid_0's auc_mu: 0.966743\tvalid_0's multi_logloss: 0.72618                 \n",
      "[27]\tvalid_0's auc_mu: 0.966722\tvalid_0's multi_logloss: 0.71585                 \n",
      "[28]\tvalid_0's auc_mu: 0.967535\tvalid_0's multi_logloss: 0.706712                \n",
      "[29]\tvalid_0's auc_mu: 0.967118\tvalid_0's multi_logloss: 0.69885                 \n",
      "[30]\tvalid_0's auc_mu: 0.967286\tvalid_0's multi_logloss: 0.693139                \n",
      "[31]\tvalid_0's auc_mu: 0.967617\tvalid_0's multi_logloss: 0.688273                \n",
      "[32]\tvalid_0's auc_mu: 0.967834\tvalid_0's multi_logloss: 0.688442                \n",
      "[33]\tvalid_0's auc_mu: 0.96805\tvalid_0's multi_logloss: 0.691333                 \n",
      "[34]\tvalid_0's auc_mu: 0.968407\tvalid_0's multi_logloss: 0.685605                \n",
      "[35]\tvalid_0's auc_mu: 0.968028\tvalid_0's multi_logloss: 0.690657                \n",
      "[36]\tvalid_0's auc_mu: 0.968709\tvalid_0's multi_logloss: 0.683575                \n",
      "[37]\tvalid_0's auc_mu: 0.969129\tvalid_0's multi_logloss: 0.685432                \n",
      "[38]\tvalid_0's auc_mu: 0.969057\tvalid_0's multi_logloss: 0.688961                \n",
      "[39]\tvalid_0's auc_mu: 0.969257\tvalid_0's multi_logloss: 0.683135                \n",
      "[40]\tvalid_0's auc_mu: 0.96908\tvalid_0's multi_logloss: 0.67792                  \n",
      "[41]\tvalid_0's auc_mu: 0.96919\tvalid_0's multi_logloss: 0.681984                 \n",
      "[42]\tvalid_0's auc_mu: 0.969192\tvalid_0's multi_logloss: 0.677333                \n",
      "[43]\tvalid_0's auc_mu: 0.968969\tvalid_0's multi_logloss: 0.682045                \n",
      "[44]\tvalid_0's auc_mu: 0.96888\tvalid_0's multi_logloss: 0.67722                  \n",
      "[45]\tvalid_0's auc_mu: 0.969099\tvalid_0's multi_logloss: 0.673276                \n",
      "[46]\tvalid_0's auc_mu: 0.96865\tvalid_0's multi_logloss: 0.669745                 \n",
      "[47]\tvalid_0's auc_mu: 0.968904\tvalid_0's multi_logloss: 0.666486                \n",
      "[48]\tvalid_0's auc_mu: 0.968743\tvalid_0's multi_logloss: 0.664294                \n",
      "[49]\tvalid_0's auc_mu: 0.969156\tvalid_0's multi_logloss: 0.662666                \n",
      "[50]\tvalid_0's auc_mu: 0.968987\tvalid_0's multi_logloss: 0.661765                \n",
      "[51]\tvalid_0's auc_mu: 0.9691\tvalid_0's multi_logloss: 0.660313                  \n",
      "[52]\tvalid_0's auc_mu: 0.968814\tvalid_0's multi_logloss: 0.66093                 \n",
      "[53]\tvalid_0's auc_mu: 0.968786\tvalid_0's multi_logloss: 0.659528                \n",
      "[54]\tvalid_0's auc_mu: 0.96905\tvalid_0's multi_logloss: 0.659742                 \n",
      "[55]\tvalid_0's auc_mu: 0.968891\tvalid_0's multi_logloss: 0.659979                \n",
      "[56]\tvalid_0's auc_mu: 0.969402\tvalid_0's multi_logloss: 0.657669                \n",
      "[57]\tvalid_0's auc_mu: 0.969311\tvalid_0's multi_logloss: 0.658349                \n",
      "[58]\tvalid_0's auc_mu: 0.96955\tvalid_0's multi_logloss: 0.657024                 \n",
      "[59]\tvalid_0's auc_mu: 0.969886\tvalid_0's multi_logloss: 0.656001                \n",
      "[60]\tvalid_0's auc_mu: 0.969624\tvalid_0's multi_logloss: 0.655087                \n",
      "[61]\tvalid_0's auc_mu: 0.969944\tvalid_0's multi_logloss: 0.654651                \n",
      "[62]\tvalid_0's auc_mu: 0.969758\tvalid_0's multi_logloss: 0.654815                \n",
      "[63]\tvalid_0's auc_mu: 0.96971\tvalid_0's multi_logloss: 0.654768                 \n",
      "[64]\tvalid_0's auc_mu: 0.969904\tvalid_0's multi_logloss: 0.654866                \n",
      "[65]\tvalid_0's auc_mu: 0.969645\tvalid_0's multi_logloss: 0.654823                \n",
      "[66]\tvalid_0's auc_mu: 0.969586\tvalid_0's multi_logloss: 0.654854                \n",
      "[67]\tvalid_0's auc_mu: 0.969775\tvalid_0's multi_logloss: 0.655287                \n",
      "[68]\tvalid_0's auc_mu: 0.969731\tvalid_0's multi_logloss: 0.655301                \n",
      "[69]\tvalid_0's auc_mu: 0.969977\tvalid_0's multi_logloss: 0.655446                \n",
      "[70]\tvalid_0's auc_mu: 0.970373\tvalid_0's multi_logloss: 0.654859                \n",
      "[71]\tvalid_0's auc_mu: 0.970298\tvalid_0's multi_logloss: 0.654916                \n",
      "[72]\tvalid_0's auc_mu: 0.969768\tvalid_0's multi_logloss: 0.654821                \n",
      "[73]\tvalid_0's auc_mu: 0.969761\tvalid_0's multi_logloss: 0.654238                \n",
      "[74]\tvalid_0's auc_mu: 0.969745\tvalid_0's multi_logloss: 0.653976                \n",
      "[75]\tvalid_0's auc_mu: 0.969891\tvalid_0's multi_logloss: 0.654046                \n",
      "[76]\tvalid_0's auc_mu: 0.969897\tvalid_0's multi_logloss: 0.652788                \n",
      "[77]\tvalid_0's auc_mu: 0.969598\tvalid_0's multi_logloss: 0.652573                \n",
      "[78]\tvalid_0's auc_mu: 0.96968\tvalid_0's multi_logloss: 0.652573                 \n",
      "[79]\tvalid_0's auc_mu: 0.969218\tvalid_0's multi_logloss: 0.652531                \n",
      "[80]\tvalid_0's auc_mu: 0.969703\tvalid_0's multi_logloss: 0.653024                \n",
      "[81]\tvalid_0's auc_mu: 0.969715\tvalid_0's multi_logloss: 0.652553                \n",
      "[82]\tvalid_0's auc_mu: 0.969752\tvalid_0's multi_logloss: 0.652341                \n",
      "[83]\tvalid_0's auc_mu: 0.969342\tvalid_0's multi_logloss: 0.652143                \n",
      "[84]\tvalid_0's auc_mu: 0.968771\tvalid_0's multi_logloss: 0.653347                \n",
      "[85]\tvalid_0's auc_mu: 0.96876\tvalid_0's multi_logloss: 0.652677                 \n",
      "[86]\tvalid_0's auc_mu: 0.968725\tvalid_0's multi_logloss: 0.653284                \n",
      "[87]\tvalid_0's auc_mu: 0.968768\tvalid_0's multi_logloss: 0.653694                \n",
      "[88]\tvalid_0's auc_mu: 0.968643\tvalid_0's multi_logloss: 0.653179                \n",
      "[89]\tvalid_0's auc_mu: 0.968658\tvalid_0's multi_logloss: 0.652453                \n",
      "[90]\tvalid_0's auc_mu: 0.968801\tvalid_0's multi_logloss: 0.65187                 \n",
      "[91]\tvalid_0's auc_mu: 0.968765\tvalid_0's multi_logloss: 0.651606                \n",
      "[92]\tvalid_0's auc_mu: 0.968969\tvalid_0's multi_logloss: 0.651136                \n",
      "[93]\tvalid_0's auc_mu: 0.969047\tvalid_0's multi_logloss: 0.650806                \n",
      "[94]\tvalid_0's auc_mu: 0.968792\tvalid_0's multi_logloss: 0.651801                \n",
      "[95]\tvalid_0's auc_mu: 0.968807\tvalid_0's multi_logloss: 0.65133                 \n",
      "[96]\tvalid_0's auc_mu: 0.968848\tvalid_0's multi_logloss: 0.650951                \n",
      "[97]\tvalid_0's auc_mu: 0.968829\tvalid_0's multi_logloss: 0.651                   \n",
      "[98]\tvalid_0's auc_mu: 0.968685\tvalid_0's multi_logloss: 0.650592                \n",
      "[99]\tvalid_0's auc_mu: 0.968363\tvalid_0's multi_logloss: 0.650532                \n",
      "[100]\tvalid_0's auc_mu: 0.968416\tvalid_0's multi_logloss: 0.651531               \n",
      "[101]\tvalid_0's auc_mu: 0.968467\tvalid_0's multi_logloss: 0.653101               \n",
      "[102]\tvalid_0's auc_mu: 0.968227\tvalid_0's multi_logloss: 0.652871               \n",
      "[103]\tvalid_0's auc_mu: 0.967926\tvalid_0's multi_logloss: 0.651885               \n",
      "[104]\tvalid_0's auc_mu: 0.968221\tvalid_0's multi_logloss: 0.652415               \n",
      "[105]\tvalid_0's auc_mu: 0.968195\tvalid_0's multi_logloss: 0.653548               \n",
      "[106]\tvalid_0's auc_mu: 0.968347\tvalid_0's multi_logloss: 0.653926               \n",
      "[107]\tvalid_0's auc_mu: 0.968923\tvalid_0's multi_logloss: 0.655406               \n",
      "[108]\tvalid_0's auc_mu: 0.968291\tvalid_0's multi_logloss: 0.65597                \n",
      "[109]\tvalid_0's auc_mu: 0.96777\tvalid_0's multi_logloss: 0.657129                \n",
      "[110]\tvalid_0's auc_mu: 0.967307\tvalid_0's multi_logloss: 0.657857               \n",
      "[111]\tvalid_0's auc_mu: 0.967336\tvalid_0's multi_logloss: 0.65658                \n",
      "[112]\tvalid_0's auc_mu: 0.967348\tvalid_0's multi_logloss: 0.655767               \n",
      "[113]\tvalid_0's auc_mu: 0.967511\tvalid_0's multi_logloss: 0.658315               \n",
      "[114]\tvalid_0's auc_mu: 0.967817\tvalid_0's multi_logloss: 0.65673                \n",
      "[115]\tvalid_0's auc_mu: 0.967532\tvalid_0's multi_logloss: 0.655335               \n",
      "[116]\tvalid_0's auc_mu: 0.967867\tvalid_0's multi_logloss: 0.656987               \n",
      "[117]\tvalid_0's auc_mu: 0.967682\tvalid_0's multi_logloss: 0.655644               \n",
      "[118]\tvalid_0's auc_mu: 0.967695\tvalid_0's multi_logloss: 0.65455                \n",
      "[119]\tvalid_0's auc_mu: 0.968205\tvalid_0's multi_logloss: 0.653738               \n",
      "[120]\tvalid_0's auc_mu: 0.968249\tvalid_0's multi_logloss: 0.655203               \n",
      "[121]\tvalid_0's auc_mu: 0.968411\tvalid_0's multi_logloss: 0.654256               \n",
      "[122]\tvalid_0's auc_mu: 0.968251\tvalid_0's multi_logloss: 0.653313               \n",
      "[123]\tvalid_0's auc_mu: 0.967961\tvalid_0's multi_logloss: 0.653693               \n",
      "[124]\tvalid_0's auc_mu: 0.968025\tvalid_0's multi_logloss: 0.652625               \n",
      "[125]\tvalid_0's auc_mu: 0.967041\tvalid_0's multi_logloss: 0.653786               \n",
      "[126]\tvalid_0's auc_mu: 0.967233\tvalid_0's multi_logloss: 0.654369               \n",
      "[127]\tvalid_0's auc_mu: 0.967203\tvalid_0's multi_logloss: 0.655277               \n",
      "[128]\tvalid_0's auc_mu: 0.967219\tvalid_0's multi_logloss: 0.653984               \n",
      "[129]\tvalid_0's auc_mu: 0.96729\tvalid_0's multi_logloss: 0.655807                \n",
      "[130]\tvalid_0's auc_mu: 0.96729\tvalid_0's multi_logloss: 0.654831                \n",
      "[131]\tvalid_0's auc_mu: 0.967321\tvalid_0's multi_logloss: 0.654102               \n",
      "[132]\tvalid_0's auc_mu: 0.967274\tvalid_0's multi_logloss: 0.653082               \n",
      "[133]\tvalid_0's auc_mu: 0.96736\tvalid_0's multi_logloss: 0.652362                \n",
      "[134]\tvalid_0's auc_mu: 0.967387\tvalid_0's multi_logloss: 0.65318                \n",
      "[135]\tvalid_0's auc_mu: 0.966942\tvalid_0's multi_logloss: 0.654875               \n",
      "[136]\tvalid_0's auc_mu: 0.966918\tvalid_0's multi_logloss: 0.653723               \n",
      "[137]\tvalid_0's auc_mu: 0.966744\tvalid_0's multi_logloss: 0.655793               \n",
      "[138]\tvalid_0's auc_mu: 0.966818\tvalid_0's multi_logloss: 0.654864               \n",
      "[139]\tvalid_0's auc_mu: 0.966813\tvalid_0's multi_logloss: 0.653689               \n",
      "[140]\tvalid_0's auc_mu: 0.96685\tvalid_0's multi_logloss: 0.654153                \n",
      "[141]\tvalid_0's auc_mu: 0.967019\tvalid_0's multi_logloss: 0.653294               \n",
      "[142]\tvalid_0's auc_mu: 0.967042\tvalid_0's multi_logloss: 0.655425               \n",
      "[143]\tvalid_0's auc_mu: 0.966826\tvalid_0's multi_logloss: 0.656849               \n",
      "[144]\tvalid_0's auc_mu: 0.966794\tvalid_0's multi_logloss: 0.658235               \n",
      "[145]\tvalid_0's auc_mu: 0.96691\tvalid_0's multi_logloss: 0.65694                 \n",
      "[1]\tvalid_0's auc_mu: 0.5\tvalid_0's multi_logloss: 2.70805                        \n",
      "[2]\tvalid_0's auc_mu: 0.5\tvalid_0's multi_logloss: 2.70805                        \n",
      "[3]\tvalid_0's auc_mu: 0.5\tvalid_0's multi_logloss: 2.70805                        \n",
      "[4]\tvalid_0's auc_mu: 0.5\tvalid_0's multi_logloss: 2.70805                        \n",
      "[5]\tvalid_0's auc_mu: 0.5\tvalid_0's multi_logloss: 2.70805                        \n",
      "[6]\tvalid_0's auc_mu: 0.5\tvalid_0's multi_logloss: 2.70805                        \n",
      "[7]\tvalid_0's auc_mu: 0.5\tvalid_0's multi_logloss: 2.70805                        \n",
      "[8]\tvalid_0's auc_mu: 0.5\tvalid_0's multi_logloss: 2.70805                        \n",
      "[9]\tvalid_0's auc_mu: 0.5\tvalid_0's multi_logloss: 2.70805                        \n",
      "[10]\tvalid_0's auc_mu: 0.5\tvalid_0's multi_logloss: 2.70805                       \n",
      "[11]\tvalid_0's auc_mu: 0.5\tvalid_0's multi_logloss: 2.70805                       \n",
      "[12]\tvalid_0's auc_mu: 0.5\tvalid_0's multi_logloss: 2.70805                       \n",
      "[13]\tvalid_0's auc_mu: 0.5\tvalid_0's multi_logloss: 2.70805                       \n",
      "[14]\tvalid_0's auc_mu: 0.5\tvalid_0's multi_logloss: 2.70805                       \n",
      "[15]\tvalid_0's auc_mu: 0.5\tvalid_0's multi_logloss: 2.70805                       \n",
      "[16]\tvalid_0's auc_mu: 0.5\tvalid_0's multi_logloss: 2.70805                       \n",
      "[17]\tvalid_0's auc_mu: 0.5\tvalid_0's multi_logloss: 2.70805                       \n",
      "[18]\tvalid_0's auc_mu: 0.5\tvalid_0's multi_logloss: 2.70805                       \n",
      "[19]\tvalid_0's auc_mu: 0.5\tvalid_0's multi_logloss: 2.70805                       \n",
      "[20]\tvalid_0's auc_mu: 0.5\tvalid_0's multi_logloss: 2.70805                       \n",
      "[21]\tvalid_0's auc_mu: 0.5\tvalid_0's multi_logloss: 2.70805                       \n",
      "[22]\tvalid_0's auc_mu: 0.5\tvalid_0's multi_logloss: 2.70805                       \n",
      "[23]\tvalid_0's auc_mu: 0.5\tvalid_0's multi_logloss: 2.70805                       \n",
      "[24]\tvalid_0's auc_mu: 0.5\tvalid_0's multi_logloss: 2.70805                       \n",
      "[25]\tvalid_0's auc_mu: 0.5\tvalid_0's multi_logloss: 2.70805                       \n",
      "[26]\tvalid_0's auc_mu: 0.5\tvalid_0's multi_logloss: 2.70805                       \n",
      "[27]\tvalid_0's auc_mu: 0.5\tvalid_0's multi_logloss: 2.70805                       \n",
      "[28]\tvalid_0's auc_mu: 0.5\tvalid_0's multi_logloss: 2.70805                       \n",
      "[29]\tvalid_0's auc_mu: 0.5\tvalid_0's multi_logloss: 2.70805                       \n",
      "[30]\tvalid_0's auc_mu: 0.5\tvalid_0's multi_logloss: 2.70805                       \n",
      "[31]\tvalid_0's auc_mu: 0.5\tvalid_0's multi_logloss: 2.70805                       \n",
      "[32]\tvalid_0's auc_mu: 0.5\tvalid_0's multi_logloss: 2.70805                       \n",
      "[33]\tvalid_0's auc_mu: 0.5\tvalid_0's multi_logloss: 2.70805                       \n",
      "[34]\tvalid_0's auc_mu: 0.5\tvalid_0's multi_logloss: 2.70805                       \n",
      "[35]\tvalid_0's auc_mu: 0.5\tvalid_0's multi_logloss: 2.70805                       \n",
      "[36]\tvalid_0's auc_mu: 0.5\tvalid_0's multi_logloss: 2.70805                       \n",
      "[37]\tvalid_0's auc_mu: 0.5\tvalid_0's multi_logloss: 2.70805                       \n",
      "[38]\tvalid_0's auc_mu: 0.5\tvalid_0's multi_logloss: 2.70805                       \n",
      "[39]\tvalid_0's auc_mu: 0.5\tvalid_0's multi_logloss: 2.70805                       \n",
      "[40]\tvalid_0's auc_mu: 0.5\tvalid_0's multi_logloss: 2.70805                       \n",
      "[41]\tvalid_0's auc_mu: 0.5\tvalid_0's multi_logloss: 2.70805                       \n",
      "[42]\tvalid_0's auc_mu: 0.5\tvalid_0's multi_logloss: 2.70805                       \n",
      "[43]\tvalid_0's auc_mu: 0.5\tvalid_0's multi_logloss: 2.70805                       \n",
      "[44]\tvalid_0's auc_mu: 0.5\tvalid_0's multi_logloss: 2.70805                       \n",
      "[45]\tvalid_0's auc_mu: 0.5\tvalid_0's multi_logloss: 2.70805                       \n",
      "[46]\tvalid_0's auc_mu: 0.5\tvalid_0's multi_logloss: 2.70805                       \n",
      "[47]\tvalid_0's auc_mu: 0.5\tvalid_0's multi_logloss: 2.70805                       \n",
      "[48]\tvalid_0's auc_mu: 0.5\tvalid_0's multi_logloss: 2.70805                       \n",
      "[49]\tvalid_0's auc_mu: 0.5\tvalid_0's multi_logloss: 2.70805                       \n",
      "[50]\tvalid_0's auc_mu: 0.5\tvalid_0's multi_logloss: 2.70805                       \n",
      "[51]\tvalid_0's auc_mu: 0.5\tvalid_0's multi_logloss: 2.70805                       \n",
      "[52]\tvalid_0's auc_mu: 0.5\tvalid_0's multi_logloss: 2.70805                       \n",
      "[53]\tvalid_0's auc_mu: 0.5\tvalid_0's multi_logloss: 2.70805                       \n",
      "[54]\tvalid_0's auc_mu: 0.5\tvalid_0's multi_logloss: 2.70805                       \n",
      "[55]\tvalid_0's auc_mu: 0.5\tvalid_0's multi_logloss: 2.70805                       \n",
      "[56]\tvalid_0's auc_mu: 0.5\tvalid_0's multi_logloss: 2.70805                       \n",
      "[57]\tvalid_0's auc_mu: 0.5\tvalid_0's multi_logloss: 2.70805                       \n",
      "[58]\tvalid_0's auc_mu: 0.5\tvalid_0's multi_logloss: 2.70805                       \n",
      "[59]\tvalid_0's auc_mu: 0.5\tvalid_0's multi_logloss: 2.70805                       \n",
      "[60]\tvalid_0's auc_mu: 0.5\tvalid_0's multi_logloss: 2.70805                       \n",
      "[61]\tvalid_0's auc_mu: 0.5\tvalid_0's multi_logloss: 2.70805                       \n",
      "[62]\tvalid_0's auc_mu: 0.5\tvalid_0's multi_logloss: 2.70805                       \n",
      "[63]\tvalid_0's auc_mu: 0.5\tvalid_0's multi_logloss: 2.70805                       \n",
      "[64]\tvalid_0's auc_mu: 0.5\tvalid_0's multi_logloss: 2.70805                       \n",
      "[65]\tvalid_0's auc_mu: 0.5\tvalid_0's multi_logloss: 2.70805                       \n",
      "[66]\tvalid_0's auc_mu: 0.5\tvalid_0's multi_logloss: 2.70805                       \n",
      "[67]\tvalid_0's auc_mu: 0.5\tvalid_0's multi_logloss: 2.70805                       \n",
      "[68]\tvalid_0's auc_mu: 0.5\tvalid_0's multi_logloss: 2.70805                       \n",
      "[69]\tvalid_0's auc_mu: 0.5\tvalid_0's multi_logloss: 2.70805                       \n",
      "[70]\tvalid_0's auc_mu: 0.5\tvalid_0's multi_logloss: 2.70805                       \n",
      "[71]\tvalid_0's auc_mu: 0.5\tvalid_0's multi_logloss: 2.70805                       \n",
      "[72]\tvalid_0's auc_mu: 0.5\tvalid_0's multi_logloss: 2.70805                       \n",
      "[73]\tvalid_0's auc_mu: 0.5\tvalid_0's multi_logloss: 2.70805                       \n",
      "[74]\tvalid_0's auc_mu: 0.5\tvalid_0's multi_logloss: 2.70805                       \n",
      "[75]\tvalid_0's auc_mu: 0.5\tvalid_0's multi_logloss: 2.70805                       \n",
      "[76]\tvalid_0's auc_mu: 0.5\tvalid_0's multi_logloss: 2.70805                       \n",
      "[77]\tvalid_0's auc_mu: 0.5\tvalid_0's multi_logloss: 2.70805                       \n",
      "[78]\tvalid_0's auc_mu: 0.5\tvalid_0's multi_logloss: 2.70805                       \n",
      "[79]\tvalid_0's auc_mu: 0.5\tvalid_0's multi_logloss: 2.70805                       \n",
      "[80]\tvalid_0's auc_mu: 0.5\tvalid_0's multi_logloss: 2.70805                       \n",
      "[81]\tvalid_0's auc_mu: 0.5\tvalid_0's multi_logloss: 2.70805                       \n",
      "[82]\tvalid_0's auc_mu: 0.5\tvalid_0's multi_logloss: 2.70805                       \n",
      "[83]\tvalid_0's auc_mu: 0.5\tvalid_0's multi_logloss: 2.70805                       \n",
      "[84]\tvalid_0's auc_mu: 0.5\tvalid_0's multi_logloss: 2.70805                       \n",
      "[85]\tvalid_0's auc_mu: 0.5\tvalid_0's multi_logloss: 2.70805                       \n",
      "[86]\tvalid_0's auc_mu: 0.5\tvalid_0's multi_logloss: 2.70805                       \n",
      "[87]\tvalid_0's auc_mu: 0.5\tvalid_0's multi_logloss: 2.70805                       \n",
      "[88]\tvalid_0's auc_mu: 0.5\tvalid_0's multi_logloss: 2.70805                       \n",
      "[89]\tvalid_0's auc_mu: 0.5\tvalid_0's multi_logloss: 2.70805                       \n",
      "[90]\tvalid_0's auc_mu: 0.5\tvalid_0's multi_logloss: 2.70805                       \n",
      "[91]\tvalid_0's auc_mu: 0.5\tvalid_0's multi_logloss: 2.70805                       \n",
      "[92]\tvalid_0's auc_mu: 0.5\tvalid_0's multi_logloss: 2.70805                       \n",
      "[93]\tvalid_0's auc_mu: 0.5\tvalid_0's multi_logloss: 2.70805                       \n",
      "[94]\tvalid_0's auc_mu: 0.5\tvalid_0's multi_logloss: 2.70805                       \n",
      "[95]\tvalid_0's auc_mu: 0.5\tvalid_0's multi_logloss: 2.70805                       \n",
      "[96]\tvalid_0's auc_mu: 0.5\tvalid_0's multi_logloss: 2.70805                       \n",
      "[97]\tvalid_0's auc_mu: 0.5\tvalid_0's multi_logloss: 2.70805                       \n",
      "[98]\tvalid_0's auc_mu: 0.5\tvalid_0's multi_logloss: 2.70805                       \n",
      "[99]\tvalid_0's auc_mu: 0.5\tvalid_0's multi_logloss: 2.70805                       \n",
      "[100]\tvalid_0's auc_mu: 0.5\tvalid_0's multi_logloss: 2.70805                      \n",
      "[101]\tvalid_0's auc_mu: 0.5\tvalid_0's multi_logloss: 2.70805                      \n",
      "[102]\tvalid_0's auc_mu: 0.5\tvalid_0's multi_logloss: 2.70805                      \n",
      "[103]\tvalid_0's auc_mu: 0.5\tvalid_0's multi_logloss: 2.70805                      \n",
      "[104]\tvalid_0's auc_mu: 0.5\tvalid_0's multi_logloss: 2.70805                      \n",
      "[105]\tvalid_0's auc_mu: 0.5\tvalid_0's multi_logloss: 2.70805                      \n",
      "[106]\tvalid_0's auc_mu: 0.5\tvalid_0's multi_logloss: 2.70805                      \n",
      "[107]\tvalid_0's auc_mu: 0.5\tvalid_0's multi_logloss: 2.70805                      \n",
      "[108]\tvalid_0's auc_mu: 0.5\tvalid_0's multi_logloss: 2.70805                      \n",
      "[109]\tvalid_0's auc_mu: 0.5\tvalid_0's multi_logloss: 2.70805                      \n",
      "[110]\tvalid_0's auc_mu: 0.5\tvalid_0's multi_logloss: 2.70805                      \n",
      "[111]\tvalid_0's auc_mu: 0.5\tvalid_0's multi_logloss: 2.70805                      \n",
      "[112]\tvalid_0's auc_mu: 0.5\tvalid_0's multi_logloss: 2.70805                      \n",
      "[113]\tvalid_0's auc_mu: 0.5\tvalid_0's multi_logloss: 2.70805                      \n",
      "[114]\tvalid_0's auc_mu: 0.5\tvalid_0's multi_logloss: 2.70805                      \n",
      "[115]\tvalid_0's auc_mu: 0.5\tvalid_0's multi_logloss: 2.70805                      \n",
      "[116]\tvalid_0's auc_mu: 0.5\tvalid_0's multi_logloss: 2.70805                      \n",
      "[117]\tvalid_0's auc_mu: 0.5\tvalid_0's multi_logloss: 2.70805                      \n",
      "[118]\tvalid_0's auc_mu: 0.5\tvalid_0's multi_logloss: 2.70805                      \n",
      "[119]\tvalid_0's auc_mu: 0.5\tvalid_0's multi_logloss: 2.70805                      \n",
      "[120]\tvalid_0's auc_mu: 0.5\tvalid_0's multi_logloss: 2.70805                      \n",
      "[121]\tvalid_0's auc_mu: 0.5\tvalid_0's multi_logloss: 2.70805                      \n",
      "[122]\tvalid_0's auc_mu: 0.5\tvalid_0's multi_logloss: 2.70805                      \n",
      "[123]\tvalid_0's auc_mu: 0.5\tvalid_0's multi_logloss: 2.70805                      \n",
      "[124]\tvalid_0's auc_mu: 0.5\tvalid_0's multi_logloss: 2.70805                      \n",
      "[125]\tvalid_0's auc_mu: 0.5\tvalid_0's multi_logloss: 2.70805                      \n",
      "[126]\tvalid_0's auc_mu: 0.5\tvalid_0's multi_logloss: 2.70805                      \n",
      "[127]\tvalid_0's auc_mu: 0.5\tvalid_0's multi_logloss: 2.70805                      \n",
      "[128]\tvalid_0's auc_mu: 0.5\tvalid_0's multi_logloss: 2.70805                      \n",
      "[129]\tvalid_0's auc_mu: 0.5\tvalid_0's multi_logloss: 2.70805                      \n",
      "[130]\tvalid_0's auc_mu: 0.5\tvalid_0's multi_logloss: 2.70805                      \n",
      "[131]\tvalid_0's auc_mu: 0.5\tvalid_0's multi_logloss: 2.70805                      \n",
      "[132]\tvalid_0's auc_mu: 0.5\tvalid_0's multi_logloss: 2.70805                      \n",
      "[133]\tvalid_0's auc_mu: 0.5\tvalid_0's multi_logloss: 2.70805                      \n",
      "[134]\tvalid_0's auc_mu: 0.5\tvalid_0's multi_logloss: 2.70805                      \n",
      "[135]\tvalid_0's auc_mu: 0.5\tvalid_0's multi_logloss: 2.70805                      \n",
      "[136]\tvalid_0's auc_mu: 0.5\tvalid_0's multi_logloss: 2.70805                      \n",
      "[137]\tvalid_0's auc_mu: 0.5\tvalid_0's multi_logloss: 2.70805                      \n",
      "[138]\tvalid_0's auc_mu: 0.5\tvalid_0's multi_logloss: 2.70805                      \n",
      "[139]\tvalid_0's auc_mu: 0.5\tvalid_0's multi_logloss: 2.70805                      \n",
      "[140]\tvalid_0's auc_mu: 0.5\tvalid_0's multi_logloss: 2.70805                      \n",
      "[141]\tvalid_0's auc_mu: 0.5\tvalid_0's multi_logloss: 2.70805                      \n",
      "[142]\tvalid_0's auc_mu: 0.5\tvalid_0's multi_logloss: 2.70805                      \n",
      "[1]\tvalid_0's auc_mu: 0.922377\tvalid_0's multi_logloss: 1.62346                   \n",
      "[2]\tvalid_0's auc_mu: 0.931182\tvalid_0's multi_logloss: 1.40642                   \n",
      "[3]\tvalid_0's auc_mu: 0.939998\tvalid_0's multi_logloss: 1.2526                    \n",
      "[4]\tvalid_0's auc_mu: 0.942319\tvalid_0's multi_logloss: 1.14088                   \n",
      "[5]\tvalid_0's auc_mu: 0.947507\tvalid_0's multi_logloss: 1.0536                    \n",
      "[6]\tvalid_0's auc_mu: 0.950072\tvalid_0's multi_logloss: 0.980241                  \n",
      "[7]\tvalid_0's auc_mu: 0.952143\tvalid_0's multi_logloss: 0.91998                   \n",
      "[8]\tvalid_0's auc_mu: 0.956665\tvalid_0's multi_logloss: 1.0326                    \n",
      "[9]\tvalid_0's auc_mu: 0.958186\tvalid_0's multi_logloss: 0.962965                  \n",
      "[10]\tvalid_0's auc_mu: 0.957544\tvalid_0's multi_logloss: 0.967937                 \n",
      "[11]\tvalid_0's auc_mu: 0.958047\tvalid_0's multi_logloss: 0.909989                 \n",
      "[12]\tvalid_0's auc_mu: 0.958916\tvalid_0's multi_logloss: 0.863105                 \n",
      "[13]\tvalid_0's auc_mu: 0.958383\tvalid_0's multi_logloss: 0.872862                 \n",
      "[14]\tvalid_0's auc_mu: 0.958356\tvalid_0's multi_logloss: 0.866813                 \n",
      "[15]\tvalid_0's auc_mu: 0.958704\tvalid_0's multi_logloss: 0.826875                 \n",
      "[16]\tvalid_0's auc_mu: 0.959468\tvalid_0's multi_logloss: 0.793618                 \n",
      "[17]\tvalid_0's auc_mu: 0.960863\tvalid_0's multi_logloss: 0.764849                 \n",
      "[18]\tvalid_0's auc_mu: 0.961908\tvalid_0's multi_logloss: 0.740876                 \n",
      "[19]\tvalid_0's auc_mu: 0.962324\tvalid_0's multi_logloss: 0.757312                 \n",
      "[20]\tvalid_0's auc_mu: 0.964413\tvalid_0's multi_logloss: 0.733239                 \n",
      "[21]\tvalid_0's auc_mu: 0.965149\tvalid_0's multi_logloss: 0.714486                 \n",
      "[22]\tvalid_0's auc_mu: 0.964904\tvalid_0's multi_logloss: 0.698647                 \n",
      "[23]\tvalid_0's auc_mu: 0.965474\tvalid_0's multi_logloss: 0.683776                 \n",
      "[24]\tvalid_0's auc_mu: 0.965985\tvalid_0's multi_logloss: 0.671359                 \n",
      "[25]\tvalid_0's auc_mu: 0.965749\tvalid_0's multi_logloss: 0.662058                 \n",
      "[26]\tvalid_0's auc_mu: 0.966425\tvalid_0's multi_logloss: 0.653048                 \n",
      "[27]\tvalid_0's auc_mu: 0.967087\tvalid_0's multi_logloss: 0.646276                 \n",
      "[28]\tvalid_0's auc_mu: 0.96645\tvalid_0's multi_logloss: 0.640546                  \n",
      "[29]\tvalid_0's auc_mu: 0.96891\tvalid_0's multi_logloss: 0.634572                  \n",
      "[30]\tvalid_0's auc_mu: 0.968894\tvalid_0's multi_logloss: 0.630328                 \n",
      "[31]\tvalid_0's auc_mu: 0.968972\tvalid_0's multi_logloss: 0.625837                 \n",
      "[32]\tvalid_0's auc_mu: 0.96924\tvalid_0's multi_logloss: 0.626836                  \n",
      "[33]\tvalid_0's auc_mu: 0.969095\tvalid_0's multi_logloss: 0.631105                 \n",
      "[34]\tvalid_0's auc_mu: 0.968743\tvalid_0's multi_logloss: 0.626654                 \n",
      "[35]\tvalid_0's auc_mu: 0.96967\tvalid_0's multi_logloss: 0.635324                  \n",
      "[36]\tvalid_0's auc_mu: 0.969984\tvalid_0's multi_logloss: 0.630067                 \n",
      "[37]\tvalid_0's auc_mu: 0.969836\tvalid_0's multi_logloss: 0.634388                 \n",
      "[38]\tvalid_0's auc_mu: 0.969964\tvalid_0's multi_logloss: 0.640521                 \n",
      "[39]\tvalid_0's auc_mu: 0.969886\tvalid_0's multi_logloss: 0.634441                 \n",
      "[40]\tvalid_0's auc_mu: 0.969807\tvalid_0's multi_logloss: 0.628745                 \n",
      "[41]\tvalid_0's auc_mu: 0.96959\tvalid_0's multi_logloss: 0.634394                  \n",
      "[42]\tvalid_0's auc_mu: 0.969784\tvalid_0's multi_logloss: 0.629692                 \n",
      "[43]\tvalid_0's auc_mu: 0.969764\tvalid_0's multi_logloss: 0.637841                 \n",
      "[44]\tvalid_0's auc_mu: 0.969991\tvalid_0's multi_logloss: 0.631417                 \n",
      "[45]\tvalid_0's auc_mu: 0.970378\tvalid_0's multi_logloss: 0.625534                 \n",
      "[46]\tvalid_0's auc_mu: 0.970503\tvalid_0's multi_logloss: 0.62153                  \n",
      "[47]\tvalid_0's auc_mu: 0.969591\tvalid_0's multi_logloss: 0.618672                 \n",
      "[48]\tvalid_0's auc_mu: 0.969416\tvalid_0's multi_logloss: 0.615742                 \n",
      "[49]\tvalid_0's auc_mu: 0.969776\tvalid_0's multi_logloss: 0.613599                 \n",
      "[50]\tvalid_0's auc_mu: 0.969064\tvalid_0's multi_logloss: 0.612803                 \n",
      "[51]\tvalid_0's auc_mu: 0.969265\tvalid_0's multi_logloss: 0.611101                 \n",
      "[52]\tvalid_0's auc_mu: 0.969203\tvalid_0's multi_logloss: 0.613659                 \n",
      "[53]\tvalid_0's auc_mu: 0.968548\tvalid_0's multi_logloss: 0.611676                 \n",
      "[54]\tvalid_0's auc_mu: 0.968466\tvalid_0's multi_logloss: 0.613702                 \n",
      "[55]\tvalid_0's auc_mu: 0.968368\tvalid_0's multi_logloss: 0.61452                  \n",
      "[56]\tvalid_0's auc_mu: 0.968826\tvalid_0's multi_logloss: 0.61204                  \n",
      "[57]\tvalid_0's auc_mu: 0.968922\tvalid_0's multi_logloss: 0.614785                 \n",
      "[58]\tvalid_0's auc_mu: 0.968618\tvalid_0's multi_logloss: 0.612354                 \n",
      "[1]\tvalid_0's auc_mu: 0.939921\tvalid_0's multi_logloss: 2.18214                   \n",
      "Training until validation scores don't improve for 15 rounds                      \n",
      "[2]\tvalid_0's auc_mu: 0.946029\tvalid_0's multi_logloss: 1.96406                   \n",
      "[3]\tvalid_0's auc_mu: 0.94621\tvalid_0's multi_logloss: 1.81514                    \n",
      "[4]\tvalid_0's auc_mu: 0.951757\tvalid_0's multi_logloss: 1.70276                   \n",
      "[5]\tvalid_0's auc_mu: 0.952452\tvalid_0's multi_logloss: 1.61563                   \n",
      "[6]\tvalid_0's auc_mu: 0.956462\tvalid_0's multi_logloss: 1.54245                   \n",
      "[7]\tvalid_0's auc_mu: 0.957532\tvalid_0's multi_logloss: 1.48002                   \n",
      "[8]\tvalid_0's auc_mu: 0.960332\tvalid_0's multi_logloss: 1.43006                   \n",
      "[9]\tvalid_0's auc_mu: 0.961046\tvalid_0's multi_logloss: 1.38718                   \n",
      "[10]\tvalid_0's auc_mu: 0.962003\tvalid_0's multi_logloss: 1.34835                  \n",
      "[11]\tvalid_0's auc_mu: 0.962186\tvalid_0's multi_logloss: 1.31701                  \n",
      "[12]\tvalid_0's auc_mu: 0.963168\tvalid_0's multi_logloss: 1.28896                  \n",
      "[13]\tvalid_0's auc_mu: 0.963481\tvalid_0's multi_logloss: 1.26347                  \n",
      "[14]\tvalid_0's auc_mu: 0.963621\tvalid_0's multi_logloss: 1.24522                  \n",
      "[15]\tvalid_0's auc_mu: 0.963599\tvalid_0's multi_logloss: 1.22513                  \n",
      "[16]\tvalid_0's auc_mu: 0.963935\tvalid_0's multi_logloss: 1.20901                  \n",
      "[17]\tvalid_0's auc_mu: 0.963559\tvalid_0's multi_logloss: 1.19271                  \n",
      "[18]\tvalid_0's auc_mu: 0.964136\tvalid_0's multi_logloss: 1.17865                  \n",
      "[19]\tvalid_0's auc_mu: 0.965\tvalid_0's multi_logloss: 1.16672                     \n",
      "[20]\tvalid_0's auc_mu: 0.964956\tvalid_0's multi_logloss: 1.15529                  \n",
      "Did not meet early stopping. Best iteration is:                                   \n",
      "[19]\tvalid_0's auc_mu: 0.965\tvalid_0's multi_logloss: 1.16672\n",
      "[1]\tvalid_0's auc_mu: 0.941057\tvalid_0's multi_logloss: 1.93558                   \n",
      "Training until validation scores don't improve for 15 rounds                      \n",
      "[2]\tvalid_0's auc_mu: 0.949676\tvalid_0's multi_logloss: 1.66681                   \n",
      "[3]\tvalid_0's auc_mu: 0.949367\tvalid_0's multi_logloss: 1.48201                   \n",
      "[4]\tvalid_0's auc_mu: 0.951858\tvalid_0's multi_logloss: 1.34254                   \n",
      "[5]\tvalid_0's auc_mu: 0.954298\tvalid_0's multi_logloss: 1.23294                   \n",
      "[6]\tvalid_0's auc_mu: 0.955438\tvalid_0's multi_logloss: 1.1457                    \n",
      "[7]\tvalid_0's auc_mu: 0.959118\tvalid_0's multi_logloss: 1.07509                   \n",
      "[8]\tvalid_0's auc_mu: 0.961439\tvalid_0's multi_logloss: 1.01337                   \n",
      "[9]\tvalid_0's auc_mu: 0.963624\tvalid_0's multi_logloss: 0.962662                  \n",
      "[10]\tvalid_0's auc_mu: 0.964939\tvalid_0's multi_logloss: 0.918306                 \n",
      "[11]\tvalid_0's auc_mu: 0.964168\tvalid_0's multi_logloss: 0.8894                   \n",
      "[12]\tvalid_0's auc_mu: 0.964293\tvalid_0's multi_logloss: 0.865417                 \n",
      "[13]\tvalid_0's auc_mu: 0.965454\tvalid_0's multi_logloss: 0.841976                 \n",
      "[14]\tvalid_0's auc_mu: 0.966689\tvalid_0's multi_logloss: 0.822334                 \n",
      "[15]\tvalid_0's auc_mu: 0.967189\tvalid_0's multi_logloss: 0.805291                 \n",
      "[16]\tvalid_0's auc_mu: 0.966361\tvalid_0's multi_logloss: 0.788846                 \n",
      "[17]\tvalid_0's auc_mu: 0.966938\tvalid_0's multi_logloss: 0.775824                 \n",
      "[18]\tvalid_0's auc_mu: 0.967705\tvalid_0's multi_logloss: 0.763565                 \n",
      "[19]\tvalid_0's auc_mu: 0.968105\tvalid_0's multi_logloss: 0.753853                 \n",
      "[20]\tvalid_0's auc_mu: 0.968924\tvalid_0's multi_logloss: 0.744611                 \n",
      "[21]\tvalid_0's auc_mu: 0.969467\tvalid_0's multi_logloss: 0.735052                 \n",
      "[22]\tvalid_0's auc_mu: 0.969877\tvalid_0's multi_logloss: 0.726893                 \n",
      "[23]\tvalid_0's auc_mu: 0.970816\tvalid_0's multi_logloss: 0.718032                 \n",
      "[24]\tvalid_0's auc_mu: 0.970578\tvalid_0's multi_logloss: 0.71332                  \n",
      "[25]\tvalid_0's auc_mu: 0.970253\tvalid_0's multi_logloss: 0.707152                 \n",
      "[26]\tvalid_0's auc_mu: 0.970387\tvalid_0's multi_logloss: 0.700084                 \n",
      "[27]\tvalid_0's auc_mu: 0.970415\tvalid_0's multi_logloss: 0.692616                 \n",
      "[28]\tvalid_0's auc_mu: 0.97033\tvalid_0's multi_logloss: 0.690802                  \n",
      "[29]\tvalid_0's auc_mu: 0.970385\tvalid_0's multi_logloss: 0.69008                  \n",
      "[30]\tvalid_0's auc_mu: 0.970667\tvalid_0's multi_logloss: 0.688635                 \n",
      "[31]\tvalid_0's auc_mu: 0.970403\tvalid_0's multi_logloss: 0.686887                 \n",
      "[32]\tvalid_0's auc_mu: 0.970034\tvalid_0's multi_logloss: 0.685964                 \n",
      "[33]\tvalid_0's auc_mu: 0.970308\tvalid_0's multi_logloss: 0.683722                 \n",
      "[34]\tvalid_0's auc_mu: 0.970405\tvalid_0's multi_logloss: 0.680262                 \n",
      "[35]\tvalid_0's auc_mu: 0.970533\tvalid_0's multi_logloss: 0.679917                 \n",
      "[36]\tvalid_0's auc_mu: 0.970517\tvalid_0's multi_logloss: 0.680878                 \n",
      "[37]\tvalid_0's auc_mu: 0.970785\tvalid_0's multi_logloss: 0.6798                   \n",
      "[38]\tvalid_0's auc_mu: 0.969393\tvalid_0's multi_logloss: 0.679792                 \n",
      "Early stopping, best iteration is:                                                \n",
      "[23]\tvalid_0's auc_mu: 0.970816\tvalid_0's multi_logloss: 0.718032\n",
      "[1]\tvalid_0's auc_mu: 0.948039\tvalid_0's multi_logloss: 1.9654                    \n",
      "[2]\tvalid_0's auc_mu: 0.944841\tvalid_0's multi_logloss: 1.71178                   \n",
      "[3]\tvalid_0's auc_mu: 0.949703\tvalid_0's multi_logloss: 1.53964                   \n",
      "[4]\tvalid_0's auc_mu: 0.952483\tvalid_0's multi_logloss: 1.41007                   \n",
      "[5]\tvalid_0's auc_mu: 0.954256\tvalid_0's multi_logloss: 1.30764                   \n",
      "[6]\tvalid_0's auc_mu: 0.958181\tvalid_0's multi_logloss: 1.22032                   \n",
      "[7]\tvalid_0's auc_mu: 0.95901\tvalid_0's multi_logloss: 1.14883                    \n",
      "[8]\tvalid_0's auc_mu: 0.958844\tvalid_0's multi_logloss: 1.27874                   \n",
      "[9]\tvalid_0's auc_mu: 0.958852\tvalid_0's multi_logloss: 1.194                     \n",
      "[10]\tvalid_0's auc_mu: 0.958337\tvalid_0's multi_logloss: 1.2026                   \n",
      "[11]\tvalid_0's auc_mu: 0.962335\tvalid_0's multi_logloss: 1.13064                  \n",
      "[12]\tvalid_0's auc_mu: 0.963427\tvalid_0's multi_logloss: 1.07307                  \n",
      "[13]\tvalid_0's auc_mu: 0.962818\tvalid_0's multi_logloss: 1.0857                   \n",
      "[14]\tvalid_0's auc_mu: 0.962796\tvalid_0's multi_logloss: 1.07975                  \n",
      "[15]\tvalid_0's auc_mu: 0.964076\tvalid_0's multi_logloss: 1.03045                  \n",
      "[16]\tvalid_0's auc_mu: 0.964477\tvalid_0's multi_logloss: 0.989053                 \n",
      "[17]\tvalid_0's auc_mu: 0.964936\tvalid_0's multi_logloss: 0.953518                 \n",
      "[18]\tvalid_0's auc_mu: 0.96541\tvalid_0's multi_logloss: 0.921474                  \n",
      "[19]\tvalid_0's auc_mu: 0.96729\tvalid_0's multi_logloss: 0.943594                  \n",
      "[20]\tvalid_0's auc_mu: 0.966949\tvalid_0's multi_logloss: 0.913407                 \n",
      "[21]\tvalid_0's auc_mu: 0.967696\tvalid_0's multi_logloss: 0.885449                 \n",
      "[22]\tvalid_0's auc_mu: 0.967942\tvalid_0's multi_logloss: 0.864285                 \n",
      "[23]\tvalid_0's auc_mu: 0.968882\tvalid_0's multi_logloss: 0.844493                 \n",
      "[24]\tvalid_0's auc_mu: 0.967524\tvalid_0's multi_logloss: 0.828322                 \n",
      "[25]\tvalid_0's auc_mu: 0.968343\tvalid_0's multi_logloss: 0.812806                 \n",
      "[26]\tvalid_0's auc_mu: 0.968278\tvalid_0's multi_logloss: 0.801456                 \n",
      "[27]\tvalid_0's auc_mu: 0.967427\tvalid_0's multi_logloss: 0.788909                 \n",
      "[28]\tvalid_0's auc_mu: 0.967683\tvalid_0's multi_logloss: 0.779088                 \n",
      "[1]\tvalid_0's auc_mu: 0.908878\tvalid_0's multi_logloss: 1.78804                   \n",
      "[2]\tvalid_0's auc_mu: 0.915968\tvalid_0's multi_logloss: 1.59366                   \n",
      "[3]\tvalid_0's auc_mu: 0.916272\tvalid_0's multi_logloss: 1.45438                   \n",
      "[4]\tvalid_0's auc_mu: 0.91647\tvalid_0's multi_logloss: 1.35137                    \n",
      "[5]\tvalid_0's auc_mu: 0.917902\tvalid_0's multi_logloss: 1.27107                   \n",
      "[6]\tvalid_0's auc_mu: 0.920006\tvalid_0's multi_logloss: 1.20572                   \n",
      "[7]\tvalid_0's auc_mu: 0.920475\tvalid_0's multi_logloss: 1.15189                   \n",
      "[8]\tvalid_0's auc_mu: 0.934169\tvalid_0's multi_logloss: 1.227                     \n",
      "[9]\tvalid_0's auc_mu: 0.933552\tvalid_0's multi_logloss: 1.15987                   \n",
      "[10]\tvalid_0's auc_mu: 0.934803\tvalid_0's multi_logloss: 1.16376                  \n",
      "[11]\tvalid_0's auc_mu: 0.93451\tvalid_0's multi_logloss: 1.11034                   \n",
      "[12]\tvalid_0's auc_mu: 0.934978\tvalid_0's multi_logloss: 1.06537                  \n",
      "[13]\tvalid_0's auc_mu: 0.93429\tvalid_0's multi_logloss: 1.0747                    \n",
      "[14]\tvalid_0's auc_mu: 0.934745\tvalid_0's multi_logloss: 1.06914                  \n",
      "[15]\tvalid_0's auc_mu: 0.935622\tvalid_0's multi_logloss: 1.02997                  \n",
      "[16]\tvalid_0's auc_mu: 0.936349\tvalid_0's multi_logloss: 0.995816                 \n",
      "[17]\tvalid_0's auc_mu: 0.936828\tvalid_0's multi_logloss: 0.967264                 \n",
      "[18]\tvalid_0's auc_mu: 0.937345\tvalid_0's multi_logloss: 0.94193                  \n",
      "[19]\tvalid_0's auc_mu: 0.93722\tvalid_0's multi_logloss: 0.962621                  \n",
      "[20]\tvalid_0's auc_mu: 0.937755\tvalid_0's multi_logloss: 0.938883                 \n",
      "[21]\tvalid_0's auc_mu: 0.938266\tvalid_0's multi_logloss: 0.917941                 \n",
      "[22]\tvalid_0's auc_mu: 0.938401\tvalid_0's multi_logloss: 0.899089                 \n",
      "[23]\tvalid_0's auc_mu: 0.938936\tvalid_0's multi_logloss: 0.884011                 \n",
      "[24]\tvalid_0's auc_mu: 0.940281\tvalid_0's multi_logloss: 0.870292                 \n",
      "[25]\tvalid_0's auc_mu: 0.940536\tvalid_0's multi_logloss: 0.858309                 \n",
      "[26]\tvalid_0's auc_mu: 0.940238\tvalid_0's multi_logloss: 0.847764                 \n",
      "[27]\tvalid_0's auc_mu: 0.941106\tvalid_0's multi_logloss: 0.837776                 \n",
      "[28]\tvalid_0's auc_mu: 0.942064\tvalid_0's multi_logloss: 0.828746                 \n",
      "[29]\tvalid_0's auc_mu: 0.941769\tvalid_0's multi_logloss: 0.821219                 \n",
      "[30]\tvalid_0's auc_mu: 0.94236\tvalid_0's multi_logloss: 0.814326                  \n",
      "[31]\tvalid_0's auc_mu: 0.942183\tvalid_0's multi_logloss: 0.808655                 \n",
      "[32]\tvalid_0's auc_mu: 0.942165\tvalid_0's multi_logloss: 0.81118                  \n",
      "[33]\tvalid_0's auc_mu: 0.942264\tvalid_0's multi_logloss: 0.818501                 \n",
      "[34]\tvalid_0's auc_mu: 0.942147\tvalid_0's multi_logloss: 0.811736                 \n",
      "[35]\tvalid_0's auc_mu: 0.943221\tvalid_0's multi_logloss: 0.824331                 \n",
      "[36]\tvalid_0's auc_mu: 0.943455\tvalid_0's multi_logloss: 0.816861                 \n",
      "[37]\tvalid_0's auc_mu: 0.943434\tvalid_0's multi_logloss: 0.823512                 \n",
      "[38]\tvalid_0's auc_mu: 0.944306\tvalid_0's multi_logloss: 0.830265                 \n",
      "[39]\tvalid_0's auc_mu: 0.946772\tvalid_0's multi_logloss: 0.81472                  \n",
      "[40]\tvalid_0's auc_mu: 0.947023\tvalid_0's multi_logloss: 0.804841                 \n",
      "[41]\tvalid_0's auc_mu: 0.947003\tvalid_0's multi_logloss: 0.814726                 \n",
      "[42]\tvalid_0's auc_mu: 0.947666\tvalid_0's multi_logloss: 0.805206                 \n",
      "[43]\tvalid_0's auc_mu: 0.947821\tvalid_0's multi_logloss: 0.817992                 \n",
      "[44]\tvalid_0's auc_mu: 0.948354\tvalid_0's multi_logloss: 0.807707                 \n",
      "[45]\tvalid_0's auc_mu: 0.948482\tvalid_0's multi_logloss: 0.798789                 \n",
      "[46]\tvalid_0's auc_mu: 0.949089\tvalid_0's multi_logloss: 0.790587                 \n",
      "[47]\tvalid_0's auc_mu: 0.948644\tvalid_0's multi_logloss: 0.78399                  \n",
      "[48]\tvalid_0's auc_mu: 0.950133\tvalid_0's multi_logloss: 0.777962                 \n",
      "[49]\tvalid_0's auc_mu: 0.950112\tvalid_0's multi_logloss: 0.772168                 \n",
      "[50]\tvalid_0's auc_mu: 0.950077\tvalid_0's multi_logloss: 0.767313                 \n",
      "[51]\tvalid_0's auc_mu: 0.950298\tvalid_0's multi_logloss: 0.762761                 \n",
      "[52]\tvalid_0's auc_mu: 0.950399\tvalid_0's multi_logloss: 0.769371                 \n",
      "[53]\tvalid_0's auc_mu: 0.950645\tvalid_0's multi_logloss: 0.764738                 \n",
      "[54]\tvalid_0's auc_mu: 0.950657\tvalid_0's multi_logloss: 0.770275                 \n",
      "[55]\tvalid_0's auc_mu: 0.950686\tvalid_0's multi_logloss: 0.772346                 \n",
      "[56]\tvalid_0's auc_mu: 0.950553\tvalid_0's multi_logloss: 0.767335                 \n",
      "[57]\tvalid_0's auc_mu: 0.950938\tvalid_0's multi_logloss: 0.774014                 \n",
      "[58]\tvalid_0's auc_mu: 0.951236\tvalid_0's multi_logloss: 0.768286                 \n",
      "[59]\tvalid_0's auc_mu: 0.951245\tvalid_0's multi_logloss: 0.763908                 \n",
      "[60]\tvalid_0's auc_mu: 0.951456\tvalid_0's multi_logloss: 0.760206                 \n",
      "[61]\tvalid_0's auc_mu: 0.951511\tvalid_0's multi_logloss: 0.756298                 \n",
      "[62]\tvalid_0's auc_mu: 0.951552\tvalid_0's multi_logloss: 0.756589                 \n",
      "[63]\tvalid_0's auc_mu: 0.95143\tvalid_0's multi_logloss: 0.7595                    \n",
      "[64]\tvalid_0's auc_mu: 0.951228\tvalid_0's multi_logloss: 0.765777                 \n",
      "[65]\tvalid_0's auc_mu: 0.951442\tvalid_0's multi_logloss: 0.761778                 \n",
      "[66]\tvalid_0's auc_mu: 0.951263\tvalid_0's multi_logloss: 0.766874                 \n",
      "[67]\tvalid_0's auc_mu: 0.951503\tvalid_0's multi_logloss: 0.762475                 \n",
      "[68]\tvalid_0's auc_mu: 0.95145\tvalid_0's multi_logloss: 0.766743                  \n",
      "[69]\tvalid_0's auc_mu: 0.95169\tvalid_0's multi_logloss: 0.770308                  \n",
      "[70]\tvalid_0's auc_mu: 0.951422\tvalid_0's multi_logloss: 0.766197                 \n",
      "[71]\tvalid_0's auc_mu: 0.951016\tvalid_0's multi_logloss: 0.769889                 \n",
      "[72]\tvalid_0's auc_mu: 0.951403\tvalid_0's multi_logloss: 0.765105                 \n",
      "[73]\tvalid_0's auc_mu: 0.951265\tvalid_0's multi_logloss: 0.769411                 \n",
      "[74]\tvalid_0's auc_mu: 0.951416\tvalid_0's multi_logloss: 0.774171                 \n",
      "[75]\tvalid_0's auc_mu: 0.950908\tvalid_0's multi_logloss: 0.768999                 \n",
      "[76]\tvalid_0's auc_mu: 0.951006\tvalid_0's multi_logloss: 0.764767                 \n",
      "[77]\tvalid_0's auc_mu: 0.951048\tvalid_0's multi_logloss: 0.76917                  \n",
      "[78]\tvalid_0's auc_mu: 0.951158\tvalid_0's multi_logloss: 0.771908                 \n",
      "[79]\tvalid_0's auc_mu: 0.951139\tvalid_0's multi_logloss: 0.766641                 \n",
      "[80]\tvalid_0's auc_mu: 0.951308\tvalid_0's multi_logloss: 0.762217                 \n",
      "[81]\tvalid_0's auc_mu: 0.951324\tvalid_0's multi_logloss: 0.764593                 \n",
      "[82]\tvalid_0's auc_mu: 0.951332\tvalid_0's multi_logloss: 0.766474                 \n",
      "[83]\tvalid_0's auc_mu: 0.951302\tvalid_0's multi_logloss: 0.762475                 \n",
      "[84]\tvalid_0's auc_mu: 0.951567\tvalid_0's multi_logloss: 0.75861                  \n",
      "[85]\tvalid_0's auc_mu: 0.951488\tvalid_0's multi_logloss: 0.762315                 \n",
      "[86]\tvalid_0's auc_mu: 0.951462\tvalid_0's multi_logloss: 0.758254                 \n",
      "[87]\tvalid_0's auc_mu: 0.951746\tvalid_0's multi_logloss: 0.75491                  \n",
      "[88]\tvalid_0's auc_mu: 0.951689\tvalid_0's multi_logloss: 0.75749                  \n",
      "[89]\tvalid_0's auc_mu: 0.951611\tvalid_0's multi_logloss: 0.76134                  \n",
      "[90]\tvalid_0's auc_mu: 0.951601\tvalid_0's multi_logloss: 0.764822                 \n",
      "[91]\tvalid_0's auc_mu: 0.951463\tvalid_0's multi_logloss: 0.768857                 \n",
      "[92]\tvalid_0's auc_mu: 0.951446\tvalid_0's multi_logloss: 0.77257                  \n",
      "[93]\tvalid_0's auc_mu: 0.95142\tvalid_0's multi_logloss: 0.776632                  \n",
      "[94]\tvalid_0's auc_mu: 0.951621\tvalid_0's multi_logloss: 0.77108                  \n",
      "[95]\tvalid_0's auc_mu: 0.951413\tvalid_0's multi_logloss: 0.775965                 \n",
      "[96]\tvalid_0's auc_mu: 0.951263\tvalid_0's multi_logloss: 0.779688                 \n",
      "[97]\tvalid_0's auc_mu: 0.951197\tvalid_0's multi_logloss: 0.783983                 \n",
      "[98]\tvalid_0's auc_mu: 0.951119\tvalid_0's multi_logloss: 0.777813                 \n",
      "[99]\tvalid_0's auc_mu: 0.951226\tvalid_0's multi_logloss: 0.772323                 \n",
      "[100]\tvalid_0's auc_mu: 0.951217\tvalid_0's multi_logloss: 0.767289                \n",
      "[101]\tvalid_0's auc_mu: 0.951352\tvalid_0's multi_logloss: 0.763039                \n",
      "[102]\tvalid_0's auc_mu: 0.951503\tvalid_0's multi_logloss: 0.759301                \n",
      "[103]\tvalid_0's auc_mu: 0.951594\tvalid_0's multi_logloss: 0.765062                \n",
      "[104]\tvalid_0's auc_mu: 0.951605\tvalid_0's multi_logloss: 0.761087                \n",
      "[105]\tvalid_0's auc_mu: 0.951643\tvalid_0's multi_logloss: 0.757591                \n",
      "[106]\tvalid_0's auc_mu: 0.951386\tvalid_0's multi_logloss: 0.754084                \n",
      "[107]\tvalid_0's auc_mu: 0.95156\tvalid_0's multi_logloss: 0.750649                 \n",
      "[108]\tvalid_0's auc_mu: 0.951598\tvalid_0's multi_logloss: 0.748071                \n",
      "[109]\tvalid_0's auc_mu: 0.951483\tvalid_0's multi_logloss: 0.745522                \n",
      "[110]\tvalid_0's auc_mu: 0.951506\tvalid_0's multi_logloss: 0.743167                \n",
      "[111]\tvalid_0's auc_mu: 0.951487\tvalid_0's multi_logloss: 0.745649                \n",
      "[112]\tvalid_0's auc_mu: 0.951484\tvalid_0's multi_logloss: 0.747705                \n",
      "[113]\tvalid_0's auc_mu: 0.951471\tvalid_0's multi_logloss: 0.74548                 \n",
      "[114]\tvalid_0's auc_mu: 0.951446\tvalid_0's multi_logloss: 0.748641                \n",
      "[115]\tvalid_0's auc_mu: 0.95144\tvalid_0's multi_logloss: 0.75226                  \n",
      "[116]\tvalid_0's auc_mu: 0.951553\tvalid_0's multi_logloss: 0.74887                 \n",
      "[117]\tvalid_0's auc_mu: 0.951542\tvalid_0's multi_logloss: 0.752121                \n",
      "[118]\tvalid_0's auc_mu: 0.951507\tvalid_0's multi_logloss: 0.75515                 \n",
      "[119]\tvalid_0's auc_mu: 0.951513\tvalid_0's multi_logloss: 0.75738                 \n",
      "[120]\tvalid_0's auc_mu: 0.951339\tvalid_0's multi_logloss: 0.754074                \n",
      "[121]\tvalid_0's auc_mu: 0.951352\tvalid_0's multi_logloss: 0.756426                \n",
      "[122]\tvalid_0's auc_mu: 0.951315\tvalid_0's multi_logloss: 0.758909                \n",
      "[123]\tvalid_0's auc_mu: 0.9515\tvalid_0's multi_logloss: 0.754972                  \n",
      "[124]\tvalid_0's auc_mu: 0.951596\tvalid_0's multi_logloss: 0.758719                \n",
      "[125]\tvalid_0's auc_mu: 0.951403\tvalid_0's multi_logloss: 0.75512                 \n",
      "[126]\tvalid_0's auc_mu: 0.951616\tvalid_0's multi_logloss: 0.751691                \n",
      "[127]\tvalid_0's auc_mu: 0.951686\tvalid_0's multi_logloss: 0.748047                \n",
      "[128]\tvalid_0's auc_mu: 0.951587\tvalid_0's multi_logloss: 0.750851                \n",
      "[129]\tvalid_0's auc_mu: 0.951944\tvalid_0's multi_logloss: 0.748101                \n",
      "[130]\tvalid_0's auc_mu: 0.951946\tvalid_0's multi_logloss: 0.7502                  \n",
      "[131]\tvalid_0's auc_mu: 0.951677\tvalid_0's multi_logloss: 0.751937                \n",
      "[132]\tvalid_0's auc_mu: 0.951673\tvalid_0's multi_logloss: 0.754675                \n",
      "[133]\tvalid_0's auc_mu: 0.951774\tvalid_0's multi_logloss: 0.756991                \n",
      "[134]\tvalid_0's auc_mu: 0.951699\tvalid_0's multi_logloss: 0.75359                 \n",
      "[135]\tvalid_0's auc_mu: 0.951985\tvalid_0's multi_logloss: 0.750251                \n",
      "[1]\tvalid_0's auc_mu: 0.5\tvalid_0's multi_logloss: 2.70805                        \n",
      "[2]\tvalid_0's auc_mu: 0.5\tvalid_0's multi_logloss: 2.70805                        \n",
      "[3]\tvalid_0's auc_mu: 0.5\tvalid_0's multi_logloss: 2.70805                        \n",
      "[4]\tvalid_0's auc_mu: 0.5\tvalid_0's multi_logloss: 2.70805                        \n",
      "[5]\tvalid_0's auc_mu: 0.5\tvalid_0's multi_logloss: 2.70805                        \n",
      "[6]\tvalid_0's auc_mu: 0.5\tvalid_0's multi_logloss: 2.70805                        \n",
      "[7]\tvalid_0's auc_mu: 0.5\tvalid_0's multi_logloss: 2.70805                        \n",
      "[8]\tvalid_0's auc_mu: 0.5\tvalid_0's multi_logloss: 2.70805                        \n",
      "[9]\tvalid_0's auc_mu: 0.5\tvalid_0's multi_logloss: 2.70805                        \n",
      "[10]\tvalid_0's auc_mu: 0.5\tvalid_0's multi_logloss: 2.70805                       \n",
      "[11]\tvalid_0's auc_mu: 0.5\tvalid_0's multi_logloss: 2.70805                       \n",
      "[12]\tvalid_0's auc_mu: 0.5\tvalid_0's multi_logloss: 2.70805                       \n",
      "[13]\tvalid_0's auc_mu: 0.5\tvalid_0's multi_logloss: 2.70805                       \n",
      "[14]\tvalid_0's auc_mu: 0.5\tvalid_0's multi_logloss: 2.70805                       \n",
      "[15]\tvalid_0's auc_mu: 0.5\tvalid_0's multi_logloss: 2.70805                       \n",
      "[16]\tvalid_0's auc_mu: 0.5\tvalid_0's multi_logloss: 2.70805                       \n",
      "[17]\tvalid_0's auc_mu: 0.5\tvalid_0's multi_logloss: 2.70805                       \n",
      "[18]\tvalid_0's auc_mu: 0.5\tvalid_0's multi_logloss: 2.70805                       \n",
      "[19]\tvalid_0's auc_mu: 0.5\tvalid_0's multi_logloss: 2.70805                       \n",
      "[20]\tvalid_0's auc_mu: 0.5\tvalid_0's multi_logloss: 2.70805                       \n",
      "[21]\tvalid_0's auc_mu: 0.5\tvalid_0's multi_logloss: 2.70805                       \n",
      "[22]\tvalid_0's auc_mu: 0.5\tvalid_0's multi_logloss: 2.70805                       \n",
      "[23]\tvalid_0's auc_mu: 0.5\tvalid_0's multi_logloss: 2.70805                       \n",
      "[24]\tvalid_0's auc_mu: 0.5\tvalid_0's multi_logloss: 2.70805                       \n",
      "[25]\tvalid_0's auc_mu: 0.5\tvalid_0's multi_logloss: 2.70805                       \n",
      "[26]\tvalid_0's auc_mu: 0.5\tvalid_0's multi_logloss: 2.70805                       \n",
      "[27]\tvalid_0's auc_mu: 0.5\tvalid_0's multi_logloss: 2.70805                       \n",
      "[28]\tvalid_0's auc_mu: 0.5\tvalid_0's multi_logloss: 2.70805                       \n",
      "[29]\tvalid_0's auc_mu: 0.5\tvalid_0's multi_logloss: 2.70805                       \n",
      "[30]\tvalid_0's auc_mu: 0.5\tvalid_0's multi_logloss: 2.70805                       \n",
      "[31]\tvalid_0's auc_mu: 0.5\tvalid_0's multi_logloss: 2.70805                       \n",
      "[32]\tvalid_0's auc_mu: 0.5\tvalid_0's multi_logloss: 2.70805                       \n",
      "[33]\tvalid_0's auc_mu: 0.5\tvalid_0's multi_logloss: 2.70805                       \n",
      "[34]\tvalid_0's auc_mu: 0.5\tvalid_0's multi_logloss: 2.70805                       \n",
      "[35]\tvalid_0's auc_mu: 0.5\tvalid_0's multi_logloss: 2.70805                       \n",
      "[36]\tvalid_0's auc_mu: 0.5\tvalid_0's multi_logloss: 2.70805                       \n",
      "[37]\tvalid_0's auc_mu: 0.5\tvalid_0's multi_logloss: 2.70805                       \n",
      "[38]\tvalid_0's auc_mu: 0.5\tvalid_0's multi_logloss: 2.70805                       \n",
      "[39]\tvalid_0's auc_mu: 0.5\tvalid_0's multi_logloss: 2.70805                       \n",
      "[40]\tvalid_0's auc_mu: 0.5\tvalid_0's multi_logloss: 2.70805                       \n",
      "[41]\tvalid_0's auc_mu: 0.5\tvalid_0's multi_logloss: 2.70805                       \n",
      "[1]\tvalid_0's auc_mu: 0.944292\tvalid_0's multi_logloss: 2.02201                   \n",
      "[2]\tvalid_0's auc_mu: 0.952381\tvalid_0's multi_logloss: 1.784                     \n",
      "[3]\tvalid_0's auc_mu: 0.954497\tvalid_0's multi_logloss: 1.62223                   \n",
      "[4]\tvalid_0's auc_mu: 0.954633\tvalid_0's multi_logloss: 1.5016                    \n",
      "[5]\tvalid_0's auc_mu: 0.956636\tvalid_0's multi_logloss: 1.40042                   \n",
      "[6]\tvalid_0's auc_mu: 0.958467\tvalid_0's multi_logloss: 1.32077                   \n",
      "[7]\tvalid_0's auc_mu: 0.960426\tvalid_0's multi_logloss: 1.25698                   \n",
      "[8]\tvalid_0's auc_mu: 0.961073\tvalid_0's multi_logloss: 1.38325                   \n",
      "[9]\tvalid_0's auc_mu: 0.961285\tvalid_0's multi_logloss: 1.30184                   \n",
      "[10]\tvalid_0's auc_mu: 0.961381\tvalid_0's multi_logloss: 1.30757                  \n",
      "[11]\tvalid_0's auc_mu: 0.963831\tvalid_0's multi_logloss: 1.2402                   \n",
      "[12]\tvalid_0's auc_mu: 0.965323\tvalid_0's multi_logloss: 1.18242                  \n",
      "[13]\tvalid_0's auc_mu: 0.965286\tvalid_0's multi_logloss: 1.19411                  \n",
      "[14]\tvalid_0's auc_mu: 0.96485\tvalid_0's multi_logloss: 1.18896                   \n",
      "[15]\tvalid_0's auc_mu: 0.964762\tvalid_0's multi_logloss: 1.14233                  \n",
      "[16]\tvalid_0's auc_mu: 0.965995\tvalid_0's multi_logloss: 1.10082                  \n",
      "[17]\tvalid_0's auc_mu: 0.966094\tvalid_0's multi_logloss: 1.06623                  \n",
      "[18]\tvalid_0's auc_mu: 0.966737\tvalid_0's multi_logloss: 1.03429                  \n",
      "[19]\tvalid_0's auc_mu: 0.96733\tvalid_0's multi_logloss: 1.0578                    \n",
      "[20]\tvalid_0's auc_mu: 0.967433\tvalid_0's multi_logloss: 1.02636                  \n",
      "[21]\tvalid_0's auc_mu: 0.96789\tvalid_0's multi_logloss: 0.999561                  \n",
      "[22]\tvalid_0's auc_mu: 0.96817\tvalid_0's multi_logloss: 0.975645                  \n",
      "[23]\tvalid_0's auc_mu: 0.968539\tvalid_0's multi_logloss: 0.955208                 \n",
      "[24]\tvalid_0's auc_mu: 0.968391\tvalid_0's multi_logloss: 0.936983                 \n",
      "[25]\tvalid_0's auc_mu: 0.969008\tvalid_0's multi_logloss: 0.920195                 \n",
      "[26]\tvalid_0's auc_mu: 0.968913\tvalid_0's multi_logloss: 0.905818                 \n",
      "[27]\tvalid_0's auc_mu: 0.968971\tvalid_0's multi_logloss: 0.892983                 \n",
      "[28]\tvalid_0's auc_mu: 0.967979\tvalid_0's multi_logloss: 0.882005                 \n",
      "[29]\tvalid_0's auc_mu: 0.967901\tvalid_0's multi_logloss: 0.872739                 \n",
      "[30]\tvalid_0's auc_mu: 0.967776\tvalid_0's multi_logloss: 0.862126                 \n",
      "[31]\tvalid_0's auc_mu: 0.96815\tvalid_0's multi_logloss: 0.854361                  \n",
      "[32]\tvalid_0's auc_mu: 0.968066\tvalid_0's multi_logloss: 0.857085                 \n",
      "[33]\tvalid_0's auc_mu: 0.968122\tvalid_0's multi_logloss: 0.865309                 \n",
      "[34]\tvalid_0's auc_mu: 0.968818\tvalid_0's multi_logloss: 0.856243                 \n",
      "[35]\tvalid_0's auc_mu: 0.968925\tvalid_0's multi_logloss: 0.871148                 \n",
      "[36]\tvalid_0's auc_mu: 0.968482\tvalid_0's multi_logloss: 0.861494                 \n",
      "[37]\tvalid_0's auc_mu: 0.968403\tvalid_0's multi_logloss: 0.868827                 \n",
      "[38]\tvalid_0's auc_mu: 0.967907\tvalid_0's multi_logloss: 0.881227                 \n",
      "[39]\tvalid_0's auc_mu: 0.968015\tvalid_0's multi_logloss: 0.869332                 \n",
      "[40]\tvalid_0's auc_mu: 0.96825\tvalid_0's multi_logloss: 0.860691                  \n",
      "[41]\tvalid_0's auc_mu: 0.968136\tvalid_0's multi_logloss: 0.871404                 \n",
      "[42]\tvalid_0's auc_mu: 0.968316\tvalid_0's multi_logloss: 0.861174                 \n",
      "[43]\tvalid_0's auc_mu: 0.968185\tvalid_0's multi_logloss: 0.873997                 \n",
      "[44]\tvalid_0's auc_mu: 0.96785\tvalid_0's multi_logloss: 0.863188                  \n",
      "[45]\tvalid_0's auc_mu: 0.968317\tvalid_0's multi_logloss: 0.853712                 \n",
      "[46]\tvalid_0's auc_mu: 0.968175\tvalid_0's multi_logloss: 0.845859                 \n",
      "[47]\tvalid_0's auc_mu: 0.968257\tvalid_0's multi_logloss: 0.838282                 \n",
      "[48]\tvalid_0's auc_mu: 0.96795\tvalid_0's multi_logloss: 0.831735                  \n",
      "[49]\tvalid_0's auc_mu: 0.968125\tvalid_0's multi_logloss: 0.826203                 \n",
      "[50]\tvalid_0's auc_mu: 0.96793\tvalid_0's multi_logloss: 0.82151                   \n",
      "[51]\tvalid_0's auc_mu: 0.967573\tvalid_0's multi_logloss: 0.81646                  \n",
      "[52]\tvalid_0's auc_mu: 0.967649\tvalid_0's multi_logloss: 0.822894                 \n",
      "[53]\tvalid_0's auc_mu: 0.967519\tvalid_0's multi_logloss: 0.81739                  \n",
      "[54]\tvalid_0's auc_mu: 0.967461\tvalid_0's multi_logloss: 0.82314                  \n",
      "[55]\tvalid_0's auc_mu: 0.967558\tvalid_0's multi_logloss: 0.825175                 \n",
      "[56]\tvalid_0's auc_mu: 0.967799\tvalid_0's multi_logloss: 0.820059                 \n",
      "[57]\tvalid_0's auc_mu: 0.967685\tvalid_0's multi_logloss: 0.826713                 \n",
      "[58]\tvalid_0's auc_mu: 0.967583\tvalid_0's multi_logloss: 0.821762                 \n",
      "[59]\tvalid_0's auc_mu: 0.96765\tvalid_0's multi_logloss: 0.817074                  \n",
      "[60]\tvalid_0's auc_mu: 0.967925\tvalid_0's multi_logloss: 0.812509                 \n",
      "[61]\tvalid_0's auc_mu: 0.9678\tvalid_0's multi_logloss: 0.808764                   \n",
      "[62]\tvalid_0's auc_mu: 0.967794\tvalid_0's multi_logloss: 0.809443                 \n",
      "[63]\tvalid_0's auc_mu: 0.967631\tvalid_0's multi_logloss: 0.812805                 \n",
      "[64]\tvalid_0's auc_mu: 0.967641\tvalid_0's multi_logloss: 0.818331                 \n",
      "[65]\tvalid_0's auc_mu: 0.967759\tvalid_0's multi_logloss: 0.813798                 \n",
      "[66]\tvalid_0's auc_mu: 0.967667\tvalid_0's multi_logloss: 0.81867                  \n",
      "[67]\tvalid_0's auc_mu: 0.967798\tvalid_0's multi_logloss: 0.813777                 \n",
      "[68]\tvalid_0's auc_mu: 0.967677\tvalid_0's multi_logloss: 0.818234                 \n",
      "[69]\tvalid_0's auc_mu: 0.967687\tvalid_0's multi_logloss: 0.82206                  \n",
      "[70]\tvalid_0's auc_mu: 0.968263\tvalid_0's multi_logloss: 0.816834                 \n",
      "[71]\tvalid_0's auc_mu: 0.968113\tvalid_0's multi_logloss: 0.820955                 \n",
      "[72]\tvalid_0's auc_mu: 0.968262\tvalid_0's multi_logloss: 0.816622                 \n",
      "[73]\tvalid_0's auc_mu: 0.968163\tvalid_0's multi_logloss: 0.820736                 \n",
      "[74]\tvalid_0's auc_mu: 0.968192\tvalid_0's multi_logloss: 0.825024                 \n",
      "[75]\tvalid_0's auc_mu: 0.968004\tvalid_0's multi_logloss: 0.819133                 \n",
      "[76]\tvalid_0's auc_mu: 0.968015\tvalid_0's multi_logloss: 0.815077                 \n",
      "[77]\tvalid_0's auc_mu: 0.967836\tvalid_0's multi_logloss: 0.819527                 \n",
      "[78]\tvalid_0's auc_mu: 0.968172\tvalid_0's multi_logloss: 0.8224                   \n",
      "[79]\tvalid_0's auc_mu: 0.968283\tvalid_0's multi_logloss: 0.817692                 \n",
      "[80]\tvalid_0's auc_mu: 0.968064\tvalid_0's multi_logloss: 0.812689                 \n",
      "[81]\tvalid_0's auc_mu: 0.968126\tvalid_0's multi_logloss: 0.815378                 \n",
      "[82]\tvalid_0's auc_mu: 0.968138\tvalid_0's multi_logloss: 0.817227                 \n",
      "[83]\tvalid_0's auc_mu: 0.968495\tvalid_0's multi_logloss: 0.812788                 \n",
      "[84]\tvalid_0's auc_mu: 0.968404\tvalid_0's multi_logloss: 0.808997                 \n",
      "[85]\tvalid_0's auc_mu: 0.968384\tvalid_0's multi_logloss: 0.812684                 \n",
      "[86]\tvalid_0's auc_mu: 0.96814\tvalid_0's multi_logloss: 0.808275                  \n",
      "[87]\tvalid_0's auc_mu: 0.967961\tvalid_0's multi_logloss: 0.804821                 \n",
      "[88]\tvalid_0's auc_mu: 0.967969\tvalid_0's multi_logloss: 0.80747                  \n",
      "[89]\tvalid_0's auc_mu: 0.96804\tvalid_0's multi_logloss: 0.811398                  \n",
      "[90]\tvalid_0's auc_mu: 0.967805\tvalid_0's multi_logloss: 0.814666                 \n",
      "[91]\tvalid_0's auc_mu: 0.967846\tvalid_0's multi_logloss: 0.819152                 \n",
      "[92]\tvalid_0's auc_mu: 0.967737\tvalid_0's multi_logloss: 0.823061                 \n",
      "[93]\tvalid_0's auc_mu: 0.967824\tvalid_0's multi_logloss: 0.827661                 \n",
      "[94]\tvalid_0's auc_mu: 0.967935\tvalid_0's multi_logloss: 0.821918                 \n",
      "[95]\tvalid_0's auc_mu: 0.967927\tvalid_0's multi_logloss: 0.826814                 \n",
      "[96]\tvalid_0's auc_mu: 0.968111\tvalid_0's multi_logloss: 0.83083                  \n",
      "[97]\tvalid_0's auc_mu: 0.968101\tvalid_0's multi_logloss: 0.835377                 \n",
      "[98]\tvalid_0's auc_mu: 0.967768\tvalid_0's multi_logloss: 0.829312                 \n",
      "[99]\tvalid_0's auc_mu: 0.967557\tvalid_0's multi_logloss: 0.823035                 \n",
      "[100]\tvalid_0's auc_mu: 0.967787\tvalid_0's multi_logloss: 0.818228                \n",
      "[101]\tvalid_0's auc_mu: 0.967464\tvalid_0's multi_logloss: 0.813439                \n",
      "[102]\tvalid_0's auc_mu: 0.967475\tvalid_0's multi_logloss: 0.808453                \n",
      "[103]\tvalid_0's auc_mu: 0.967428\tvalid_0's multi_logloss: 0.814283                \n",
      "[104]\tvalid_0's auc_mu: 0.96733\tvalid_0's multi_logloss: 0.810521                 \n",
      "[105]\tvalid_0's auc_mu: 0.967464\tvalid_0's multi_logloss: 0.807189                \n",
      "[106]\tvalid_0's auc_mu: 0.967432\tvalid_0's multi_logloss: 0.802622                \n",
      "[107]\tvalid_0's auc_mu: 0.96696\tvalid_0's multi_logloss: 0.799552                 \n",
      "[108]\tvalid_0's auc_mu: 0.967114\tvalid_0's multi_logloss: 0.7961                  \n",
      "[109]\tvalid_0's auc_mu: 0.967176\tvalid_0's multi_logloss: 0.793293                \n",
      "[110]\tvalid_0's auc_mu: 0.967541\tvalid_0's multi_logloss: 0.7895                  \n",
      "[111]\tvalid_0's auc_mu: 0.967331\tvalid_0's multi_logloss: 0.792178                \n",
      "[112]\tvalid_0's auc_mu: 0.967317\tvalid_0's multi_logloss: 0.794206                \n",
      "[113]\tvalid_0's auc_mu: 0.96739\tvalid_0's multi_logloss: 0.79181                  \n",
      "[114]\tvalid_0's auc_mu: 0.967477\tvalid_0's multi_logloss: 0.79487                 \n",
      "[115]\tvalid_0's auc_mu: 0.967451\tvalid_0's multi_logloss: 0.798645                \n",
      "[116]\tvalid_0's auc_mu: 0.967694\tvalid_0's multi_logloss: 0.795698                \n",
      "[117]\tvalid_0's auc_mu: 0.967732\tvalid_0's multi_logloss: 0.798872                \n",
      "[118]\tvalid_0's auc_mu: 0.967721\tvalid_0's multi_logloss: 0.801912                \n",
      "[119]\tvalid_0's auc_mu: 0.967685\tvalid_0's multi_logloss: 0.804244                \n",
      "[120]\tvalid_0's auc_mu: 0.967483\tvalid_0's multi_logloss: 0.800776                \n",
      "[121]\tvalid_0's auc_mu: 0.967537\tvalid_0's multi_logloss: 0.803227                \n",
      "[122]\tvalid_0's auc_mu: 0.967433\tvalid_0's multi_logloss: 0.805818                \n",
      "[123]\tvalid_0's auc_mu: 0.967475\tvalid_0's multi_logloss: 0.802086                \n",
      "[124]\tvalid_0's auc_mu: 0.967527\tvalid_0's multi_logloss: 0.805558                \n",
      "[125]\tvalid_0's auc_mu: 0.96737\tvalid_0's multi_logloss: 0.801765                 \n",
      "[126]\tvalid_0's auc_mu: 0.96751\tvalid_0's multi_logloss: 0.798428                 \n",
      "[127]\tvalid_0's auc_mu: 0.967542\tvalid_0's multi_logloss: 0.79529                 \n",
      "[128]\tvalid_0's auc_mu: 0.967551\tvalid_0's multi_logloss: 0.798028                \n",
      "[129]\tvalid_0's auc_mu: 0.967919\tvalid_0's multi_logloss: 0.795919                \n",
      "[130]\tvalid_0's auc_mu: 0.967747\tvalid_0's multi_logloss: 0.798002                \n",
      "[131]\tvalid_0's auc_mu: 0.968038\tvalid_0's multi_logloss: 0.799678                \n",
      "[132]\tvalid_0's auc_mu: 0.967854\tvalid_0's multi_logloss: 0.802577                \n",
      "[133]\tvalid_0's auc_mu: 0.967812\tvalid_0's multi_logloss: 0.805071                \n",
      "[134]\tvalid_0's auc_mu: 0.967977\tvalid_0's multi_logloss: 0.800912                \n",
      "[135]\tvalid_0's auc_mu: 0.967617\tvalid_0's multi_logloss: 0.79812                 \n",
      "[136]\tvalid_0's auc_mu: 0.967598\tvalid_0's multi_logloss: 0.800229                \n",
      "[137]\tvalid_0's auc_mu: 0.967084\tvalid_0's multi_logloss: 0.797204                \n",
      "[138]\tvalid_0's auc_mu: 0.967083\tvalid_0's multi_logloss: 0.799235                \n",
      "[139]\tvalid_0's auc_mu: 0.967084\tvalid_0's multi_logloss: 0.801737                \n",
      "[140]\tvalid_0's auc_mu: 0.967661\tvalid_0's multi_logloss: 0.797962                \n",
      "[141]\tvalid_0's auc_mu: 0.96736\tvalid_0's multi_logloss: 0.799948                 \n",
      "[142]\tvalid_0's auc_mu: 0.967374\tvalid_0's multi_logloss: 0.796964                \n",
      "[143]\tvalid_0's auc_mu: 0.967406\tvalid_0's multi_logloss: 0.794378                \n",
      "[144]\tvalid_0's auc_mu: 0.967461\tvalid_0's multi_logloss: 0.791584                \n",
      "[145]\tvalid_0's auc_mu: 0.967459\tvalid_0's multi_logloss: 0.793726                \n",
      "[146]\tvalid_0's auc_mu: 0.967245\tvalid_0's multi_logloss: 0.791176                \n",
      "[147]\tvalid_0's auc_mu: 0.967234\tvalid_0's multi_logloss: 0.793527                \n",
      "[148]\tvalid_0's auc_mu: 0.967126\tvalid_0's multi_logloss: 0.790906                \n",
      "[149]\tvalid_0's auc_mu: 0.967249\tvalid_0's multi_logloss: 0.787968                \n",
      "[150]\tvalid_0's auc_mu: 0.967169\tvalid_0's multi_logloss: 0.78548                 \n",
      "[151]\tvalid_0's auc_mu: 0.967134\tvalid_0's multi_logloss: 0.787894                \n",
      "[152]\tvalid_0's auc_mu: 0.967272\tvalid_0's multi_logloss: 0.785712                \n",
      "[153]\tvalid_0's auc_mu: 0.967293\tvalid_0's multi_logloss: 0.788042                \n",
      "[154]\tvalid_0's auc_mu: 0.967294\tvalid_0's multi_logloss: 0.789646                \n",
      "[155]\tvalid_0's auc_mu: 0.967213\tvalid_0's multi_logloss: 0.787319                \n",
      "[156]\tvalid_0's auc_mu: 0.967506\tvalid_0's multi_logloss: 0.784683                \n",
      "[157]\tvalid_0's auc_mu: 0.967461\tvalid_0's multi_logloss: 0.786241                \n",
      "[158]\tvalid_0's auc_mu: 0.967214\tvalid_0's multi_logloss: 0.784194                \n",
      "[159]\tvalid_0's auc_mu: 0.967193\tvalid_0's multi_logloss: 0.786726                \n",
      "[160]\tvalid_0's auc_mu: 0.967135\tvalid_0's multi_logloss: 0.788596                \n",
      "[161]\tvalid_0's auc_mu: 0.96712\tvalid_0's multi_logloss: 0.790876                 \n",
      "[162]\tvalid_0's auc_mu: 0.966818\tvalid_0's multi_logloss: 0.788145                \n",
      "[163]\tvalid_0's auc_mu: 0.966767\tvalid_0's multi_logloss: 0.789797                \n",
      "[164]\tvalid_0's auc_mu: 0.967106\tvalid_0's multi_logloss: 0.787411                \n",
      "[165]\tvalid_0's auc_mu: 0.966431\tvalid_0's multi_logloss: 0.784907                \n",
      "[166]\tvalid_0's auc_mu: 0.966362\tvalid_0's multi_logloss: 0.787039                \n",
      "[167]\tvalid_0's auc_mu: 0.967273\tvalid_0's multi_logloss: 0.785007                \n",
      "[168]\tvalid_0's auc_mu: 0.967327\tvalid_0's multi_logloss: 0.786587                \n",
      "[169]\tvalid_0's auc_mu: 0.967385\tvalid_0's multi_logloss: 0.788367                \n",
      "[170]\tvalid_0's auc_mu: 0.967299\tvalid_0's multi_logloss: 0.790848                \n",
      "[171]\tvalid_0's auc_mu: 0.96735\tvalid_0's multi_logloss: 0.79367                  \n",
      "[172]\tvalid_0's auc_mu: 0.967068\tvalid_0's multi_logloss: 0.791088                \n",
      "[173]\tvalid_0's auc_mu: 0.967105\tvalid_0's multi_logloss: 0.792767                \n",
      "[174]\tvalid_0's auc_mu: 0.967439\tvalid_0's multi_logloss: 0.790647                \n",
      "[175]\tvalid_0's auc_mu: 0.967346\tvalid_0's multi_logloss: 0.792529                \n",
      "[176]\tvalid_0's auc_mu: 0.967205\tvalid_0's multi_logloss: 0.789555                \n",
      "[177]\tvalid_0's auc_mu: 0.967137\tvalid_0's multi_logloss: 0.791334                \n",
      "[178]\tvalid_0's auc_mu: 0.96697\tvalid_0's multi_logloss: 0.788928                 \n",
      "[179]\tvalid_0's auc_mu: 0.966713\tvalid_0's multi_logloss: 0.786809                \n",
      "[180]\tvalid_0's auc_mu: 0.966729\tvalid_0's multi_logloss: 0.78865                 \n",
      "[181]\tvalid_0's auc_mu: 0.966557\tvalid_0's multi_logloss: 0.791515                \n",
      "[182]\tvalid_0's auc_mu: 0.966588\tvalid_0's multi_logloss: 0.793488                \n",
      "[183]\tvalid_0's auc_mu: 0.96676\tvalid_0's multi_logloss: 0.790513                 \n",
      "[184]\tvalid_0's auc_mu: 0.966918\tvalid_0's multi_logloss: 0.788202                \n",
      "[185]\tvalid_0's auc_mu: 0.966515\tvalid_0's multi_logloss: 0.78544                 \n",
      "[186]\tvalid_0's auc_mu: 0.966406\tvalid_0's multi_logloss: 0.787165                \n",
      "[187]\tvalid_0's auc_mu: 0.966394\tvalid_0's multi_logloss: 0.784974                \n",
      "[188]\tvalid_0's auc_mu: 0.966435\tvalid_0's multi_logloss: 0.786547                \n",
      "[189]\tvalid_0's auc_mu: 0.966472\tvalid_0's multi_logloss: 0.788338                \n",
      "[190]\tvalid_0's auc_mu: 0.9665\tvalid_0's multi_logloss: 0.789899                  \n",
      "[191]\tvalid_0's auc_mu: 0.96656\tvalid_0's multi_logloss: 0.786941                 \n",
      "[192]\tvalid_0's auc_mu: 0.96636\tvalid_0's multi_logloss: 0.789497                 \n",
      "[193]\tvalid_0's auc_mu: 0.966109\tvalid_0's multi_logloss: 0.787212                \n",
      "[194]\tvalid_0's auc_mu: 0.96607\tvalid_0's multi_logloss: 0.78958                  \n",
      "[195]\tvalid_0's auc_mu: 0.966356\tvalid_0's multi_logloss: 0.791507                \n",
      "[196]\tvalid_0's auc_mu: 0.966513\tvalid_0's multi_logloss: 0.789063                \n",
      "[197]\tvalid_0's auc_mu: 0.966264\tvalid_0's multi_logloss: 0.790899                \n",
      "[198]\tvalid_0's auc_mu: 0.966425\tvalid_0's multi_logloss: 0.788508                \n",
      "[199]\tvalid_0's auc_mu: 0.966107\tvalid_0's multi_logloss: 0.786215                \n",
      "[1]\tvalid_0's auc_mu: 0.936663\tvalid_0's multi_logloss: 1.60354                   \n",
      "[2]\tvalid_0's auc_mu: 0.941731\tvalid_0's multi_logloss: 1.38142                   \n",
      "[3]\tvalid_0's auc_mu: 0.946206\tvalid_0's multi_logloss: 1.22559                   \n",
      "[4]\tvalid_0's auc_mu: 0.948728\tvalid_0's multi_logloss: 1.11321                   \n",
      "[5]\tvalid_0's auc_mu: 0.949577\tvalid_0's multi_logloss: 1.02618                   \n",
      "[6]\tvalid_0's auc_mu: 0.95027\tvalid_0's multi_logloss: 0.956763                   \n",
      "[7]\tvalid_0's auc_mu: 0.950691\tvalid_0's multi_logloss: 0.900855                  \n",
      "[8]\tvalid_0's auc_mu: 0.951292\tvalid_0's multi_logloss: 1.01651                   \n",
      "[9]\tvalid_0's auc_mu: 0.953021\tvalid_0's multi_logloss: 0.946437                  \n",
      "[10]\tvalid_0's auc_mu: 0.953628\tvalid_0's multi_logloss: 0.949603                 \n",
      "[11]\tvalid_0's auc_mu: 0.955615\tvalid_0's multi_logloss: 0.892234                 \n",
      "[12]\tvalid_0's auc_mu: 0.955514\tvalid_0's multi_logloss: 0.848144                 \n",
      "[13]\tvalid_0's auc_mu: 0.955219\tvalid_0's multi_logloss: 0.85644                  \n",
      "[14]\tvalid_0's auc_mu: 0.955625\tvalid_0's multi_logloss: 0.851138                 \n",
      "[15]\tvalid_0's auc_mu: 0.956251\tvalid_0's multi_logloss: 0.814258                 \n",
      "[16]\tvalid_0's auc_mu: 0.956916\tvalid_0's multi_logloss: 0.783926                 \n",
      "[17]\tvalid_0's auc_mu: 0.957577\tvalid_0's multi_logloss: 0.758948                 \n",
      "[18]\tvalid_0's auc_mu: 0.957819\tvalid_0's multi_logloss: 0.738566                 \n",
      "[19]\tvalid_0's auc_mu: 0.95957\tvalid_0's multi_logloss: 0.748165                  \n",
      "[20]\tvalid_0's auc_mu: 0.960809\tvalid_0's multi_logloss: 0.728374                 \n",
      "[21]\tvalid_0's auc_mu: 0.961383\tvalid_0's multi_logloss: 0.713712                 \n",
      "[22]\tvalid_0's auc_mu: 0.963081\tvalid_0's multi_logloss: 0.702116                 \n",
      "[23]\tvalid_0's auc_mu: 0.963253\tvalid_0's multi_logloss: 0.690283                 \n",
      "[24]\tvalid_0's auc_mu: 0.963665\tvalid_0's multi_logloss: 0.682148                 \n",
      "[25]\tvalid_0's auc_mu: 0.96363\tvalid_0's multi_logloss: 0.674602                  \n",
      "[26]\tvalid_0's auc_mu: 0.963249\tvalid_0's multi_logloss: 0.669562                 \n",
      "[27]\tvalid_0's auc_mu: 0.96388\tvalid_0's multi_logloss: 0.666786                  \n",
      "[28]\tvalid_0's auc_mu: 0.964338\tvalid_0's multi_logloss: 0.662154                 \n",
      "[29]\tvalid_0's auc_mu: 0.964656\tvalid_0's multi_logloss: 0.658876                 \n",
      "[30]\tvalid_0's auc_mu: 0.964212\tvalid_0's multi_logloss: 0.657552                 \n",
      "[31]\tvalid_0's auc_mu: 0.964752\tvalid_0's multi_logloss: 0.657396                 \n",
      "[32]\tvalid_0's auc_mu: 0.964287\tvalid_0's multi_logloss: 0.657071                 \n",
      "[33]\tvalid_0's auc_mu: 0.96449\tvalid_0's multi_logloss: 0.657915                  \n",
      "[34]\tvalid_0's auc_mu: 0.963378\tvalid_0's multi_logloss: 0.657866                 \n",
      "[35]\tvalid_0's auc_mu: 0.963383\tvalid_0's multi_logloss: 0.661031                 \n",
      "[36]\tvalid_0's auc_mu: 0.962915\tvalid_0's multi_logloss: 0.65914                  \n",
      "[37]\tvalid_0's auc_mu: 0.963203\tvalid_0's multi_logloss: 0.660358                 \n",
      "[38]\tvalid_0's auc_mu: 0.96249\tvalid_0's multi_logloss: 0.661882                  \n",
      "[39]\tvalid_0's auc_mu: 0.962405\tvalid_0's multi_logloss: 0.659919                 \n",
      "[40]\tvalid_0's auc_mu: 0.962649\tvalid_0's multi_logloss: 0.659669                 \n",
      "[41]\tvalid_0's auc_mu: 0.96285\tvalid_0's multi_logloss: 0.660546                  \n",
      "[42]\tvalid_0's auc_mu: 0.962849\tvalid_0's multi_logloss: 0.658113                 \n",
      "[43]\tvalid_0's auc_mu: 0.962705\tvalid_0's multi_logloss: 0.660944                 \n",
      "[44]\tvalid_0's auc_mu: 0.962585\tvalid_0's multi_logloss: 0.660124                 \n",
      "[45]\tvalid_0's auc_mu: 0.962699\tvalid_0's multi_logloss: 0.657805                 \n",
      "[46]\tvalid_0's auc_mu: 0.96299\tvalid_0's multi_logloss: 0.656331                  \n",
      "[47]\tvalid_0's auc_mu: 0.962819\tvalid_0's multi_logloss: 0.655941                 \n",
      "[48]\tvalid_0's auc_mu: 0.963401\tvalid_0's multi_logloss: 0.654894                 \n",
      "[49]\tvalid_0's auc_mu: 0.963402\tvalid_0's multi_logloss: 0.65517                  \n",
      "[50]\tvalid_0's auc_mu: 0.96347\tvalid_0's multi_logloss: 0.657021                  \n",
      "[51]\tvalid_0's auc_mu: 0.963773\tvalid_0's multi_logloss: 0.657456                 \n",
      "[52]\tvalid_0's auc_mu: 0.963356\tvalid_0's multi_logloss: 0.655519                 \n",
      "[53]\tvalid_0's auc_mu: 0.963142\tvalid_0's multi_logloss: 0.658407                 \n",
      "[54]\tvalid_0's auc_mu: 0.963023\tvalid_0's multi_logloss: 0.656612                 \n",
      "[55]\tvalid_0's auc_mu: 0.963148\tvalid_0's multi_logloss: 0.656002                 \n",
      "[56]\tvalid_0's auc_mu: 0.963748\tvalid_0's multi_logloss: 0.657725                 \n",
      "[57]\tvalid_0's auc_mu: 0.963683\tvalid_0's multi_logloss: 0.656289                 \n",
      "[58]\tvalid_0's auc_mu: 0.963717\tvalid_0's multi_logloss: 0.657436                 \n",
      "[59]\tvalid_0's auc_mu: 0.963918\tvalid_0's multi_logloss: 0.660096                 \n",
      "[60]\tvalid_0's auc_mu: 0.963609\tvalid_0's multi_logloss: 0.66166                  \n",
      "[61]\tvalid_0's auc_mu: 0.964281\tvalid_0's multi_logloss: 0.662465                 \n",
      "[62]\tvalid_0's auc_mu: 0.9645\tvalid_0's multi_logloss: 0.661608                   \n",
      "[63]\tvalid_0's auc_mu: 0.964557\tvalid_0's multi_logloss: 0.659885                 \n",
      "[64]\tvalid_0's auc_mu: 0.964792\tvalid_0's multi_logloss: 0.658061                 \n",
      "[65]\tvalid_0's auc_mu: 0.964854\tvalid_0's multi_logloss: 0.6587                   \n",
      "[66]\tvalid_0's auc_mu: 0.964734\tvalid_0's multi_logloss: 0.657113                 \n",
      "[67]\tvalid_0's auc_mu: 0.964942\tvalid_0's multi_logloss: 0.658956                 \n",
      "[68]\tvalid_0's auc_mu: 0.965099\tvalid_0's multi_logloss: 0.656982                 \n",
      "[69]\tvalid_0's auc_mu: 0.964913\tvalid_0's multi_logloss: 0.656076                 \n",
      "[70]\tvalid_0's auc_mu: 0.964698\tvalid_0's multi_logloss: 0.659384                 \n",
      "[71]\tvalid_0's auc_mu: 0.96471\tvalid_0's multi_logloss: 0.658365                  \n",
      "[72]\tvalid_0's auc_mu: 0.965102\tvalid_0's multi_logloss: 0.659952                 \n",
      "[73]\tvalid_0's auc_mu: 0.965197\tvalid_0's multi_logloss: 0.658015                 \n",
      "[74]\tvalid_0's auc_mu: 0.964633\tvalid_0's multi_logloss: 0.656939                 \n",
      "[75]\tvalid_0's auc_mu: 0.964827\tvalid_0's multi_logloss: 0.659601                 \n",
      "[76]\tvalid_0's auc_mu: 0.964989\tvalid_0's multi_logloss: 0.660605                 \n",
      "[77]\tvalid_0's auc_mu: 0.964977\tvalid_0's multi_logloss: 0.658858                 \n",
      "[78]\tvalid_0's auc_mu: 0.964596\tvalid_0's multi_logloss: 0.657986                 \n",
      "[79]\tvalid_0's auc_mu: 0.964547\tvalid_0's multi_logloss: 0.660088                 \n",
      "[80]\tvalid_0's auc_mu: 0.965131\tvalid_0's multi_logloss: 0.660143                 \n",
      "[81]\tvalid_0's auc_mu: 0.964903\tvalid_0's multi_logloss: 0.65909                  \n",
      "[82]\tvalid_0's auc_mu: 0.964735\tvalid_0's multi_logloss: 0.65827                  \n",
      "[83]\tvalid_0's auc_mu: 0.964614\tvalid_0's multi_logloss: 0.661057                 \n",
      "[84]\tvalid_0's auc_mu: 0.965049\tvalid_0's multi_logloss: 0.663776                 \n",
      "[85]\tvalid_0's auc_mu: 0.965113\tvalid_0's multi_logloss: 0.662                    \n",
      "[86]\tvalid_0's auc_mu: 0.965501\tvalid_0's multi_logloss: 0.663989                 \n",
      "[87]\tvalid_0's auc_mu: 0.965643\tvalid_0's multi_logloss: 0.665096                 \n",
      "[88]\tvalid_0's auc_mu: 0.965397\tvalid_0's multi_logloss: 0.66372                  \n",
      "[89]\tvalid_0's auc_mu: 0.96557\tvalid_0's multi_logloss: 0.661832                  \n",
      "[90]\tvalid_0's auc_mu: 0.965811\tvalid_0's multi_logloss: 0.66042                  \n",
      "[91]\tvalid_0's auc_mu: 0.965931\tvalid_0's multi_logloss: 0.658457                 \n",
      "[92]\tvalid_0's auc_mu: 0.965936\tvalid_0's multi_logloss: 0.65691                  \n",
      "[93]\tvalid_0's auc_mu: 0.965926\tvalid_0's multi_logloss: 0.655529                 \n",
      "[94]\tvalid_0's auc_mu: 0.965448\tvalid_0's multi_logloss: 0.657205                 \n",
      "[95]\tvalid_0's auc_mu: 0.965975\tvalid_0's multi_logloss: 0.655737                 \n",
      "[96]\tvalid_0's auc_mu: 0.96591\tvalid_0's multi_logloss: 0.654653                  \n",
      "[97]\tvalid_0's auc_mu: 0.965933\tvalid_0's multi_logloss: 0.653163                 \n",
      "[98]\tvalid_0's auc_mu: 0.965425\tvalid_0's multi_logloss: 0.655458                 \n",
      "[99]\tvalid_0's auc_mu: 0.965177\tvalid_0's multi_logloss: 0.657845                 \n",
      "[100]\tvalid_0's auc_mu: 0.965489\tvalid_0's multi_logloss: 0.660808                \n",
      "[101]\tvalid_0's auc_mu: 0.96603\tvalid_0's multi_logloss: 0.662899                 \n",
      "[102]\tvalid_0's auc_mu: 0.966367\tvalid_0's multi_logloss: 0.665504                \n",
      "[103]\tvalid_0's auc_mu: 0.965622\tvalid_0's multi_logloss: 0.663139                \n",
      "[104]\tvalid_0's auc_mu: 0.966392\tvalid_0's multi_logloss: 0.665969                \n",
      "[105]\tvalid_0's auc_mu: 0.965766\tvalid_0's multi_logloss: 0.668475                \n",
      "[106]\tvalid_0's auc_mu: 0.965885\tvalid_0's multi_logloss: 0.670194                \n",
      "[107]\tvalid_0's auc_mu: 0.966187\tvalid_0's multi_logloss: 0.672764                \n",
      "[108]\tvalid_0's auc_mu: 0.965909\tvalid_0's multi_logloss: 0.675565                \n",
      "[109]\tvalid_0's auc_mu: 0.966086\tvalid_0's multi_logloss: 0.678469                \n",
      "[110]\tvalid_0's auc_mu: 0.966975\tvalid_0's multi_logloss: 0.680669                \n",
      "[111]\tvalid_0's auc_mu: 0.966959\tvalid_0's multi_logloss: 0.678594                \n",
      "[112]\tvalid_0's auc_mu: 0.966716\tvalid_0's multi_logloss: 0.676963                \n",
      "[113]\tvalid_0's auc_mu: 0.966387\tvalid_0's multi_logloss: 0.679752                \n",
      "[114]\tvalid_0's auc_mu: 0.96664\tvalid_0's multi_logloss: 0.67701                  \n",
      "[115]\tvalid_0's auc_mu: 0.96677\tvalid_0's multi_logloss: 0.67413                  \n",
      "[116]\tvalid_0's auc_mu: 0.96702\tvalid_0's multi_logloss: 0.675762                 \n",
      "[117]\tvalid_0's auc_mu: 0.966777\tvalid_0's multi_logloss: 0.673586                \n",
      "[118]\tvalid_0's auc_mu: 0.966796\tvalid_0's multi_logloss: 0.671613                \n",
      "[119]\tvalid_0's auc_mu: 0.96683\tvalid_0's multi_logloss: 0.670121                 \n",
      "[120]\tvalid_0's auc_mu: 0.967087\tvalid_0's multi_logloss: 0.674176                \n",
      "[121]\tvalid_0's auc_mu: 0.967156\tvalid_0's multi_logloss: 0.672459                \n",
      "[122]\tvalid_0's auc_mu: 0.967154\tvalid_0's multi_logloss: 0.670761                \n",
      "[123]\tvalid_0's auc_mu: 0.966969\tvalid_0's multi_logloss: 0.674075                \n",
      "[124]\tvalid_0's auc_mu: 0.967074\tvalid_0's multi_logloss: 0.672256                \n",
      "[125]\tvalid_0's auc_mu: 0.966404\tvalid_0's multi_logloss: 0.675606                \n",
      "[126]\tvalid_0's auc_mu: 0.966865\tvalid_0's multi_logloss: 0.67771                 \n",
      "[127]\tvalid_0's auc_mu: 0.967185\tvalid_0's multi_logloss: 0.680189                \n",
      "[128]\tvalid_0's auc_mu: 0.967093\tvalid_0's multi_logloss: 0.678137                \n",
      "[129]\tvalid_0's auc_mu: 0.966665\tvalid_0's multi_logloss: 0.680755                \n",
      "[130]\tvalid_0's auc_mu: 0.966755\tvalid_0's multi_logloss: 0.678883                \n",
      "[131]\tvalid_0's auc_mu: 0.966982\tvalid_0's multi_logloss: 0.677617                \n",
      "[132]\tvalid_0's auc_mu: 0.966973\tvalid_0's multi_logloss: 0.67557                 \n",
      "[133]\tvalid_0's auc_mu: 0.966976\tvalid_0's multi_logloss: 0.674021                \n",
      "[134]\tvalid_0's auc_mu: 0.966929\tvalid_0's multi_logloss: 0.675962                \n",
      "[135]\tvalid_0's auc_mu: 0.966845\tvalid_0's multi_logloss: 0.678084                \n",
      "[136]\tvalid_0's auc_mu: 0.966954\tvalid_0's multi_logloss: 0.676372                \n",
      "[137]\tvalid_0's auc_mu: 0.966547\tvalid_0's multi_logloss: 0.679738                \n",
      "[138]\tvalid_0's auc_mu: 0.966829\tvalid_0's multi_logloss: 0.678006                \n",
      "[139]\tvalid_0's auc_mu: 0.966867\tvalid_0's multi_logloss: 0.675654                \n",
      "[140]\tvalid_0's auc_mu: 0.966777\tvalid_0's multi_logloss: 0.678872                \n",
      "[141]\tvalid_0's auc_mu: 0.966818\tvalid_0's multi_logloss: 0.677271                \n",
      "[142]\tvalid_0's auc_mu: 0.966814\tvalid_0's multi_logloss: 0.679969                \n",
      "[143]\tvalid_0's auc_mu: 0.966392\tvalid_0's multi_logloss: 0.681598                \n",
      "[144]\tvalid_0's auc_mu: 0.966452\tvalid_0's multi_logloss: 0.682471                \n",
      "[145]\tvalid_0's auc_mu: 0.966449\tvalid_0's multi_logloss: 0.680514                \n",
      "[146]\tvalid_0's auc_mu: 0.966649\tvalid_0's multi_logloss: 0.682746                \n",
      "[147]\tvalid_0's auc_mu: 0.966628\tvalid_0's multi_logloss: 0.680828                \n",
      "[148]\tvalid_0's auc_mu: 0.966521\tvalid_0's multi_logloss: 0.684891                \n",
      "[149]\tvalid_0's auc_mu: 0.965931\tvalid_0's multi_logloss: 0.687097                \n",
      "[150]\tvalid_0's auc_mu: 0.966379\tvalid_0's multi_logloss: 0.689491                \n",
      "[151]\tvalid_0's auc_mu: 0.966365\tvalid_0's multi_logloss: 0.687507                \n",
      "[152]\tvalid_0's auc_mu: 0.965961\tvalid_0's multi_logloss: 0.691112                \n",
      "[153]\tvalid_0's auc_mu: 0.965992\tvalid_0's multi_logloss: 0.6889                  \n",
      "[154]\tvalid_0's auc_mu: 0.965926\tvalid_0's multi_logloss: 0.687527                \n",
      "[155]\tvalid_0's auc_mu: 0.965824\tvalid_0's multi_logloss: 0.68937                 \n",
      "[156]\tvalid_0's auc_mu: 0.965483\tvalid_0's multi_logloss: 0.691816                \n",
      "[157]\tvalid_0's auc_mu: 0.965477\tvalid_0's multi_logloss: 0.690012                \n",
      "[158]\tvalid_0's auc_mu: 0.965639\tvalid_0's multi_logloss: 0.693304                \n",
      "[159]\tvalid_0's auc_mu: 0.965594\tvalid_0's multi_logloss: 0.690981                \n",
      "[160]\tvalid_0's auc_mu: 0.96569\tvalid_0's multi_logloss: 0.689335                 \n",
      "[161]\tvalid_0's auc_mu: 0.96564\tvalid_0's multi_logloss: 0.687595                 \n",
      "[162]\tvalid_0's auc_mu: 0.965881\tvalid_0's multi_logloss: 0.690099                \n",
      "[163]\tvalid_0's auc_mu: 0.965732\tvalid_0's multi_logloss: 0.688645                \n",
      "[164]\tvalid_0's auc_mu: 0.965456\tvalid_0's multi_logloss: 0.691874                \n",
      "[165]\tvalid_0's auc_mu: 0.965347\tvalid_0's multi_logloss: 0.695059                \n",
      "[166]\tvalid_0's auc_mu: 0.965388\tvalid_0's multi_logloss: 0.69297                 \n",
      "[167]\tvalid_0's auc_mu: 0.965217\tvalid_0's multi_logloss: 0.695668                \n",
      "[168]\tvalid_0's auc_mu: 0.965224\tvalid_0's multi_logloss: 0.693944                \n",
      "[169]\tvalid_0's auc_mu: 0.965196\tvalid_0's multi_logloss: 0.692107                \n",
      "[170]\tvalid_0's auc_mu: 0.965362\tvalid_0's multi_logloss: 0.690012                \n",
      "[171]\tvalid_0's auc_mu: 0.965229\tvalid_0's multi_logloss: 0.688135                \n",
      "[172]\tvalid_0's auc_mu: 0.965607\tvalid_0's multi_logloss: 0.69193                 \n",
      "[173]\tvalid_0's auc_mu: 0.965627\tvalid_0's multi_logloss: 0.690338                \n",
      "[174]\tvalid_0's auc_mu: 0.965417\tvalid_0's multi_logloss: 0.693256                \n",
      "[175]\tvalid_0's auc_mu: 0.965348\tvalid_0's multi_logloss: 0.691699                \n",
      "[176]\tvalid_0's auc_mu: 0.965745\tvalid_0's multi_logloss: 0.692709                \n",
      "[177]\tvalid_0's auc_mu: 0.965714\tvalid_0's multi_logloss: 0.690791                \n",
      "[1]\tvalid_0's auc_mu: 0.5\tvalid_0's multi_logloss: 2.70805                        \n",
      "Training until validation scores don't improve for 15 rounds                      \n",
      "[2]\tvalid_0's auc_mu: 0.5\tvalid_0's multi_logloss: 2.70805                        \n",
      "[3]\tvalid_0's auc_mu: 0.5\tvalid_0's multi_logloss: 2.70805                        \n",
      "[4]\tvalid_0's auc_mu: 0.5\tvalid_0's multi_logloss: 2.70805                        \n",
      "[5]\tvalid_0's auc_mu: 0.5\tvalid_0's multi_logloss: 2.70805                        \n",
      "[6]\tvalid_0's auc_mu: 0.5\tvalid_0's multi_logloss: 2.70805                        \n",
      "[7]\tvalid_0's auc_mu: 0.5\tvalid_0's multi_logloss: 2.70805                        \n",
      "[8]\tvalid_0's auc_mu: 0.5\tvalid_0's multi_logloss: 2.70805                        \n",
      "[9]\tvalid_0's auc_mu: 0.5\tvalid_0's multi_logloss: 2.70805                        \n",
      "[10]\tvalid_0's auc_mu: 0.5\tvalid_0's multi_logloss: 2.70805                       \n",
      "[11]\tvalid_0's auc_mu: 0.5\tvalid_0's multi_logloss: 2.70805                       \n",
      "[12]\tvalid_0's auc_mu: 0.5\tvalid_0's multi_logloss: 2.70805                       \n",
      "[13]\tvalid_0's auc_mu: 0.5\tvalid_0's multi_logloss: 2.70805                       \n",
      "[14]\tvalid_0's auc_mu: 0.5\tvalid_0's multi_logloss: 2.70805                       \n",
      "[15]\tvalid_0's auc_mu: 0.5\tvalid_0's multi_logloss: 2.70805                       \n",
      "[16]\tvalid_0's auc_mu: 0.5\tvalid_0's multi_logloss: 2.70805                       \n",
      "Early stopping, best iteration is:                                                \n",
      "[1]\tvalid_0's auc_mu: 0.5\tvalid_0's multi_logloss: 2.70805\n",
      "[1]\tvalid_0's auc_mu: 0.94075\tvalid_0's multi_logloss: 1.93648                    \n",
      "Training until validation scores don't improve for 15 rounds                      \n",
      "[2]\tvalid_0's auc_mu: 0.942972\tvalid_0's multi_logloss: 1.67284                   \n",
      "[3]\tvalid_0's auc_mu: 0.947168\tvalid_0's multi_logloss: 1.48918                   \n",
      "[4]\tvalid_0's auc_mu: 0.951255\tvalid_0's multi_logloss: 1.34852                   \n",
      "[5]\tvalid_0's auc_mu: 0.951721\tvalid_0's multi_logloss: 1.2429                    \n",
      "[6]\tvalid_0's auc_mu: 0.957204\tvalid_0's multi_logloss: 1.1554                    \n",
      "[7]\tvalid_0's auc_mu: 0.959058\tvalid_0's multi_logloss: 1.0846                    \n",
      "[8]\tvalid_0's auc_mu: 0.960666\tvalid_0's multi_logloss: 1.02299                   \n",
      "[9]\tvalid_0's auc_mu: 0.960904\tvalid_0's multi_logloss: 0.971805                  \n",
      "[10]\tvalid_0's auc_mu: 0.961661\tvalid_0's multi_logloss: 0.929666                 \n",
      "[11]\tvalid_0's auc_mu: 0.962729\tvalid_0's multi_logloss: 0.892321                 \n",
      "[12]\tvalid_0's auc_mu: 0.964158\tvalid_0's multi_logloss: 0.860551                 \n",
      "[13]\tvalid_0's auc_mu: 0.963595\tvalid_0's multi_logloss: 0.835002                 \n",
      "[14]\tvalid_0's auc_mu: 0.965172\tvalid_0's multi_logloss: 0.811066                 \n",
      "[15]\tvalid_0's auc_mu: 0.964941\tvalid_0's multi_logloss: 0.7914                   \n",
      "[16]\tvalid_0's auc_mu: 0.965284\tvalid_0's multi_logloss: 0.775436                 \n",
      "[17]\tvalid_0's auc_mu: 0.965794\tvalid_0's multi_logloss: 0.761809                 \n",
      "[18]\tvalid_0's auc_mu: 0.966042\tvalid_0's multi_logloss: 0.748679                 \n",
      "[19]\tvalid_0's auc_mu: 0.965355\tvalid_0's multi_logloss: 0.737138                 \n",
      "[20]\tvalid_0's auc_mu: 0.966479\tvalid_0's multi_logloss: 0.726564                 \n",
      "[21]\tvalid_0's auc_mu: 0.966158\tvalid_0's multi_logloss: 0.718308                 \n",
      "[22]\tvalid_0's auc_mu: 0.965529\tvalid_0's multi_logloss: 0.711178                 \n",
      "[23]\tvalid_0's auc_mu: 0.965749\tvalid_0's multi_logloss: 0.704338                 \n",
      "[24]\tvalid_0's auc_mu: 0.964933\tvalid_0's multi_logloss: 0.699913                 \n",
      "[25]\tvalid_0's auc_mu: 0.96408\tvalid_0's multi_logloss: 0.695073                  \n",
      "[26]\tvalid_0's auc_mu: 0.964974\tvalid_0's multi_logloss: 0.689701                 \n",
      "[27]\tvalid_0's auc_mu: 0.965793\tvalid_0's multi_logloss: 0.684732                 \n",
      "[28]\tvalid_0's auc_mu: 0.965994\tvalid_0's multi_logloss: 0.680153                 \n",
      "[29]\tvalid_0's auc_mu: 0.965772\tvalid_0's multi_logloss: 0.675941                 \n",
      "[30]\tvalid_0's auc_mu: 0.965687\tvalid_0's multi_logloss: 0.672831                 \n",
      "[31]\tvalid_0's auc_mu: 0.965969\tvalid_0's multi_logloss: 0.669536                 \n",
      "[32]\tvalid_0's auc_mu: 0.965903\tvalid_0's multi_logloss: 0.667196                 \n",
      "[33]\tvalid_0's auc_mu: 0.966214\tvalid_0's multi_logloss: 0.665695                 \n",
      "[34]\tvalid_0's auc_mu: 0.96602\tvalid_0's multi_logloss: 0.664367                  \n",
      "[35]\tvalid_0's auc_mu: 0.966252\tvalid_0's multi_logloss: 0.6625                   \n",
      "Early stopping, best iteration is:                                                \n",
      "[20]\tvalid_0's auc_mu: 0.966479\tvalid_0's multi_logloss: 0.726564\n",
      "[1]\tvalid_0's auc_mu: 0.939041\tvalid_0's multi_logloss: 1.9417                    \n",
      "Training until validation scores don't improve for 15 rounds                      \n",
      "[2]\tvalid_0's auc_mu: 0.94085\tvalid_0's multi_logloss: 1.67994                    \n",
      "[3]\tvalid_0's auc_mu: 0.944433\tvalid_0's multi_logloss: 1.4992                    \n",
      "[4]\tvalid_0's auc_mu: 0.948585\tvalid_0's multi_logloss: 1.36134                   \n",
      "[5]\tvalid_0's auc_mu: 0.952056\tvalid_0's multi_logloss: 1.25144                   \n",
      "[6]\tvalid_0's auc_mu: 0.955675\tvalid_0's multi_logloss: 1.16498                   \n",
      "[7]\tvalid_0's auc_mu: 0.957488\tvalid_0's multi_logloss: 1.09444                   \n",
      "[8]\tvalid_0's auc_mu: 0.9577\tvalid_0's multi_logloss: 1.03376                     \n",
      "[9]\tvalid_0's auc_mu: 0.958326\tvalid_0's multi_logloss: 0.982282                  \n",
      "[10]\tvalid_0's auc_mu: 0.959113\tvalid_0's multi_logloss: 0.939609                 \n",
      "[11]\tvalid_0's auc_mu: 0.961217\tvalid_0's multi_logloss: 0.904839                 \n",
      "[12]\tvalid_0's auc_mu: 0.961362\tvalid_0's multi_logloss: 0.873091                 \n",
      "[13]\tvalid_0's auc_mu: 0.962413\tvalid_0's multi_logloss: 0.847375                 \n",
      "[14]\tvalid_0's auc_mu: 0.963815\tvalid_0's multi_logloss: 0.824686                 \n",
      "[15]\tvalid_0's auc_mu: 0.964473\tvalid_0's multi_logloss: 0.804807                 \n",
      "[16]\tvalid_0's auc_mu: 0.963531\tvalid_0's multi_logloss: 0.786953                 \n",
      "[17]\tvalid_0's auc_mu: 0.963513\tvalid_0's multi_logloss: 0.772765                 \n",
      "[18]\tvalid_0's auc_mu: 0.963602\tvalid_0's multi_logloss: 0.760785                 \n",
      "[19]\tvalid_0's auc_mu: 0.964003\tvalid_0's multi_logloss: 0.750247                 \n",
      "[20]\tvalid_0's auc_mu: 0.963342\tvalid_0's multi_logloss: 0.740762                 \n",
      "[21]\tvalid_0's auc_mu: 0.963942\tvalid_0's multi_logloss: 0.731532                 \n",
      "[22]\tvalid_0's auc_mu: 0.964205\tvalid_0's multi_logloss: 0.722057                 \n",
      "[23]\tvalid_0's auc_mu: 0.964005\tvalid_0's multi_logloss: 0.715098                 \n",
      "[24]\tvalid_0's auc_mu: 0.965052\tvalid_0's multi_logloss: 0.708861                 \n",
      "[25]\tvalid_0's auc_mu: 0.96477\tvalid_0's multi_logloss: 0.70372                   \n",
      "[26]\tvalid_0's auc_mu: 0.964245\tvalid_0's multi_logloss: 0.697967                 \n",
      "[27]\tvalid_0's auc_mu: 0.964545\tvalid_0's multi_logloss: 0.692789                 \n",
      "[28]\tvalid_0's auc_mu: 0.964881\tvalid_0's multi_logloss: 0.688429                 \n",
      "[29]\tvalid_0's auc_mu: 0.964914\tvalid_0's multi_logloss: 0.68366                  \n",
      "[30]\tvalid_0's auc_mu: 0.965209\tvalid_0's multi_logloss: 0.680314                 \n",
      "[31]\tvalid_0's auc_mu: 0.965459\tvalid_0's multi_logloss: 0.678542                 \n",
      "[32]\tvalid_0's auc_mu: 0.965055\tvalid_0's multi_logloss: 0.675677                 \n",
      "[33]\tvalid_0's auc_mu: 0.965544\tvalid_0's multi_logloss: 0.673272                 \n",
      "[34]\tvalid_0's auc_mu: 0.96509\tvalid_0's multi_logloss: 0.670845                  \n",
      "[35]\tvalid_0's auc_mu: 0.965414\tvalid_0's multi_logloss: 0.667397                 \n",
      "[36]\tvalid_0's auc_mu: 0.964941\tvalid_0's multi_logloss: 0.66604                  \n",
      "[37]\tvalid_0's auc_mu: 0.96515\tvalid_0's multi_logloss: 0.664713                  \n",
      "[38]\tvalid_0's auc_mu: 0.965131\tvalid_0's multi_logloss: 0.663249                 \n",
      "[39]\tvalid_0's auc_mu: 0.965223\tvalid_0's multi_logloss: 0.663273                 \n",
      "[40]\tvalid_0's auc_mu: 0.965838\tvalid_0's multi_logloss: 0.661995                 \n",
      "[41]\tvalid_0's auc_mu: 0.966316\tvalid_0's multi_logloss: 0.660836                 \n",
      "[42]\tvalid_0's auc_mu: 0.966249\tvalid_0's multi_logloss: 0.659723                 \n",
      "[43]\tvalid_0's auc_mu: 0.966241\tvalid_0's multi_logloss: 0.658928                 \n",
      "[44]\tvalid_0's auc_mu: 0.966294\tvalid_0's multi_logloss: 0.659312                 \n",
      "[45]\tvalid_0's auc_mu: 0.96625\tvalid_0's multi_logloss: 0.659207                  \n",
      "[46]\tvalid_0's auc_mu: 0.9661\tvalid_0's multi_logloss: 0.658636                   \n",
      "[47]\tvalid_0's auc_mu: 0.965886\tvalid_0's multi_logloss: 0.658489                 \n",
      "[48]\tvalid_0's auc_mu: 0.96577\tvalid_0's multi_logloss: 0.658376                  \n",
      "[49]\tvalid_0's auc_mu: 0.965704\tvalid_0's multi_logloss: 0.658366                 \n",
      "[50]\tvalid_0's auc_mu: 0.96569\tvalid_0's multi_logloss: 0.658632                  \n",
      "[51]\tvalid_0's auc_mu: 0.96533\tvalid_0's multi_logloss: 0.659315                  \n",
      "[52]\tvalid_0's auc_mu: 0.965274\tvalid_0's multi_logloss: 0.659558                 \n",
      "[53]\tvalid_0's auc_mu: 0.965351\tvalid_0's multi_logloss: 0.659989                 \n",
      "[54]\tvalid_0's auc_mu: 0.96513\tvalid_0's multi_logloss: 0.660098                  \n",
      "[55]\tvalid_0's auc_mu: 0.964823\tvalid_0's multi_logloss: 0.66067                  \n",
      "[56]\tvalid_0's auc_mu: 0.965359\tvalid_0's multi_logloss: 0.66065                  \n",
      "Early stopping, best iteration is:                                                \n",
      "[41]\tvalid_0's auc_mu: 0.966316\tvalid_0's multi_logloss: 0.660836\n",
      "[1]\tvalid_0's auc_mu: 0.948039\tvalid_0's multi_logloss: 1.94737                   \n",
      "Training until validation scores don't improve for 15 rounds                      \n",
      "[2]\tvalid_0's auc_mu: 0.94485\tvalid_0's multi_logloss: 1.68501                    \n",
      "[3]\tvalid_0's auc_mu: 0.947509\tvalid_0's multi_logloss: 1.50057                   \n",
      "[4]\tvalid_0's auc_mu: 0.951729\tvalid_0's multi_logloss: 1.36482                   \n",
      "[5]\tvalid_0's auc_mu: 0.95496\tvalid_0's multi_logloss: 1.25683                    \n",
      "[6]\tvalid_0's auc_mu: 0.956823\tvalid_0's multi_logloss: 1.17176                   \n",
      "[7]\tvalid_0's auc_mu: 0.956407\tvalid_0's multi_logloss: 1.10131                   \n",
      "[8]\tvalid_0's auc_mu: 0.958098\tvalid_0's multi_logloss: 1.04203                   \n",
      "[9]\tvalid_0's auc_mu: 0.959789\tvalid_0's multi_logloss: 0.99325                   \n",
      "[10]\tvalid_0's auc_mu: 0.960186\tvalid_0's multi_logloss: 0.95163                  \n",
      "[11]\tvalid_0's auc_mu: 0.962965\tvalid_0's multi_logloss: 0.916692                 \n",
      "[12]\tvalid_0's auc_mu: 0.963475\tvalid_0's multi_logloss: 0.886282                 \n",
      "[13]\tvalid_0's auc_mu: 0.964361\tvalid_0's multi_logloss: 0.859783                 \n",
      "[14]\tvalid_0's auc_mu: 0.9646\tvalid_0's multi_logloss: 0.837473                   \n",
      "[15]\tvalid_0's auc_mu: 0.964725\tvalid_0's multi_logloss: 0.817536                 \n",
      "[16]\tvalid_0's auc_mu: 0.96505\tvalid_0's multi_logloss: 0.800596                  \n",
      "[17]\tvalid_0's auc_mu: 0.965699\tvalid_0's multi_logloss: 0.785062                 \n",
      "[18]\tvalid_0's auc_mu: 0.96702\tvalid_0's multi_logloss: 0.770557                  \n",
      "[19]\tvalid_0's auc_mu: 0.96767\tvalid_0's multi_logloss: 0.759112                  \n",
      "[20]\tvalid_0's auc_mu: 0.967283\tvalid_0's multi_logloss: 0.74781                  \n",
      "[21]\tvalid_0's auc_mu: 0.967857\tvalid_0's multi_logloss: 0.739537                 \n",
      "[22]\tvalid_0's auc_mu: 0.96836\tvalid_0's multi_logloss: 0.730875                  \n",
      "[23]\tvalid_0's auc_mu: 0.968278\tvalid_0's multi_logloss: 0.723103                 \n",
      "[24]\tvalid_0's auc_mu: 0.968228\tvalid_0's multi_logloss: 0.715828                 \n",
      "[25]\tvalid_0's auc_mu: 0.968379\tvalid_0's multi_logloss: 0.709002                 \n",
      "[26]\tvalid_0's auc_mu: 0.968485\tvalid_0's multi_logloss: 0.702841                 \n",
      "[27]\tvalid_0's auc_mu: 0.968759\tvalid_0's multi_logloss: 0.697863                 \n",
      "[28]\tvalid_0's auc_mu: 0.968698\tvalid_0's multi_logloss: 0.692681                 \n",
      "[29]\tvalid_0's auc_mu: 0.968004\tvalid_0's multi_logloss: 0.689513                 \n",
      "[30]\tvalid_0's auc_mu: 0.968338\tvalid_0's multi_logloss: 0.683777                 \n",
      "[31]\tvalid_0's auc_mu: 0.968338\tvalid_0's multi_logloss: 0.680524                 \n",
      "[32]\tvalid_0's auc_mu: 0.969064\tvalid_0's multi_logloss: 0.67648                  \n",
      "[33]\tvalid_0's auc_mu: 0.968403\tvalid_0's multi_logloss: 0.673834                 \n",
      "[34]\tvalid_0's auc_mu: 0.968616\tvalid_0's multi_logloss: 0.670409                 \n",
      "[35]\tvalid_0's auc_mu: 0.968122\tvalid_0's multi_logloss: 0.668015                 \n",
      "[36]\tvalid_0's auc_mu: 0.968356\tvalid_0's multi_logloss: 0.666255                 \n",
      "[37]\tvalid_0's auc_mu: 0.968131\tvalid_0's multi_logloss: 0.663969                 \n",
      "[38]\tvalid_0's auc_mu: 0.968213\tvalid_0's multi_logloss: 0.661351                 \n",
      "[39]\tvalid_0's auc_mu: 0.968331\tvalid_0's multi_logloss: 0.658782                 \n",
      "[40]\tvalid_0's auc_mu: 0.968455\tvalid_0's multi_logloss: 0.657014                 \n",
      "[41]\tvalid_0's auc_mu: 0.968357\tvalid_0's multi_logloss: 0.65434                  \n",
      "[42]\tvalid_0's auc_mu: 0.967415\tvalid_0's multi_logloss: 0.653099                 \n",
      "[43]\tvalid_0's auc_mu: 0.967116\tvalid_0's multi_logloss: 0.652454                 \n",
      "[44]\tvalid_0's auc_mu: 0.966923\tvalid_0's multi_logloss: 0.652261                 \n",
      "[45]\tvalid_0's auc_mu: 0.966793\tvalid_0's multi_logloss: 0.650792                 \n",
      "[46]\tvalid_0's auc_mu: 0.966175\tvalid_0's multi_logloss: 0.650417                 \n",
      "[47]\tvalid_0's auc_mu: 0.965664\tvalid_0's multi_logloss: 0.650421                 \n",
      "Early stopping, best iteration is:                                                \n",
      "[32]\tvalid_0's auc_mu: 0.969064\tvalid_0's multi_logloss: 0.67648\n",
      "[1]\tvalid_0's auc_mu: 0.943411\tvalid_0's multi_logloss: 1.96321                   \n",
      "Training until validation scores don't improve for 15 rounds                      \n",
      "[2]\tvalid_0's auc_mu: 0.943084\tvalid_0's multi_logloss: 1.71002                   \n",
      "[3]\tvalid_0's auc_mu: 0.949656\tvalid_0's multi_logloss: 1.53945                   \n",
      "[4]\tvalid_0's auc_mu: 0.95355\tvalid_0's multi_logloss: 1.4073                     \n",
      "[5]\tvalid_0's auc_mu: 0.955328\tvalid_0's multi_logloss: 1.30434                   \n",
      "[6]\tvalid_0's auc_mu: 0.958439\tvalid_0's multi_logloss: 1.21824                   \n",
      "[7]\tvalid_0's auc_mu: 0.959191\tvalid_0's multi_logloss: 1.14549                   \n",
      "[8]\tvalid_0's auc_mu: 0.960125\tvalid_0's multi_logloss: 1.08764                   \n",
      "[9]\tvalid_0's auc_mu: 0.961322\tvalid_0's multi_logloss: 1.03655                   \n",
      "[10]\tvalid_0's auc_mu: 0.963909\tvalid_0's multi_logloss: 0.992989                 \n",
      "[11]\tvalid_0's auc_mu: 0.964388\tvalid_0's multi_logloss: 0.956782                 \n",
      "[12]\tvalid_0's auc_mu: 0.96534\tvalid_0's multi_logloss: 0.924258                  \n",
      "[13]\tvalid_0's auc_mu: 0.965261\tvalid_0's multi_logloss: 0.897402                 \n",
      "[14]\tvalid_0's auc_mu: 0.965867\tvalid_0's multi_logloss: 0.872589                 \n",
      "[15]\tvalid_0's auc_mu: 0.965846\tvalid_0's multi_logloss: 0.851096                 \n",
      "[16]\tvalid_0's auc_mu: 0.966693\tvalid_0's multi_logloss: 0.83217                  \n",
      "[17]\tvalid_0's auc_mu: 0.966717\tvalid_0's multi_logloss: 0.817538                 \n",
      "[18]\tvalid_0's auc_mu: 0.966793\tvalid_0's multi_logloss: 0.803968                 \n",
      "[19]\tvalid_0's auc_mu: 0.966794\tvalid_0's multi_logloss: 0.791673                 \n",
      "[20]\tvalid_0's auc_mu: 0.966704\tvalid_0's multi_logloss: 0.780975                 \n",
      "[21]\tvalid_0's auc_mu: 0.966346\tvalid_0's multi_logloss: 0.771534                 \n",
      "[22]\tvalid_0's auc_mu: 0.966392\tvalid_0's multi_logloss: 0.763275                 \n",
      "[23]\tvalid_0's auc_mu: 0.966681\tvalid_0's multi_logloss: 0.754571                 \n",
      "[24]\tvalid_0's auc_mu: 0.966433\tvalid_0's multi_logloss: 0.747988                 \n",
      "[25]\tvalid_0's auc_mu: 0.966002\tvalid_0's multi_logloss: 0.74139                  \n",
      "[26]\tvalid_0's auc_mu: 0.966927\tvalid_0's multi_logloss: 0.734281                 \n",
      "[27]\tvalid_0's auc_mu: 0.965916\tvalid_0's multi_logloss: 0.729283                 \n",
      "[28]\tvalid_0's auc_mu: 0.966246\tvalid_0's multi_logloss: 0.72479                  \n",
      "[29]\tvalid_0's auc_mu: 0.965285\tvalid_0's multi_logloss: 0.721093                 \n",
      "[30]\tvalid_0's auc_mu: 0.965669\tvalid_0's multi_logloss: 0.716973                 \n",
      "[31]\tvalid_0's auc_mu: 0.965041\tvalid_0's multi_logloss: 0.712662                 \n",
      "[32]\tvalid_0's auc_mu: 0.964784\tvalid_0's multi_logloss: 0.709076                 \n",
      "[33]\tvalid_0's auc_mu: 0.964799\tvalid_0's multi_logloss: 0.705768                 \n",
      "[34]\tvalid_0's auc_mu: 0.965932\tvalid_0's multi_logloss: 0.70245                  \n",
      "[35]\tvalid_0's auc_mu: 0.965922\tvalid_0's multi_logloss: 0.699866                 \n",
      "[36]\tvalid_0's auc_mu: 0.965597\tvalid_0's multi_logloss: 0.697516                 \n",
      "[37]\tvalid_0's auc_mu: 0.965724\tvalid_0's multi_logloss: 0.695326                 \n",
      "[38]\tvalid_0's auc_mu: 0.965925\tvalid_0's multi_logloss: 0.693029                 \n",
      "[39]\tvalid_0's auc_mu: 0.965681\tvalid_0's multi_logloss: 0.69084                  \n",
      "[40]\tvalid_0's auc_mu: 0.965718\tvalid_0's multi_logloss: 0.690203                 \n",
      "[41]\tvalid_0's auc_mu: 0.964836\tvalid_0's multi_logloss: 0.68779                  \n",
      "Early stopping, best iteration is:                                                \n",
      "[26]\tvalid_0's auc_mu: 0.966927\tvalid_0's multi_logloss: 0.734281\n",
      "[1]\tvalid_0's auc_mu: 0.944964\tvalid_0's multi_logloss: 1.97551                   \n",
      "Training until validation scores don't improve for 15 rounds                      \n",
      "[2]\tvalid_0's auc_mu: 0.943319\tvalid_0's multi_logloss: 1.72225                   \n",
      "[3]\tvalid_0's auc_mu: 0.951619\tvalid_0's multi_logloss: 1.54864                   \n",
      "[4]\tvalid_0's auc_mu: 0.955788\tvalid_0's multi_logloss: 1.4165                    \n",
      "[5]\tvalid_0's auc_mu: 0.959496\tvalid_0's multi_logloss: 1.31316                   \n",
      "[6]\tvalid_0's auc_mu: 0.960372\tvalid_0's multi_logloss: 1.23113                   \n",
      "[7]\tvalid_0's auc_mu: 0.960748\tvalid_0's multi_logloss: 1.15854                   \n",
      "[8]\tvalid_0's auc_mu: 0.963812\tvalid_0's multi_logloss: 1.0991                    \n",
      "[9]\tvalid_0's auc_mu: 0.964964\tvalid_0's multi_logloss: 1.04741                   \n",
      "[10]\tvalid_0's auc_mu: 0.965149\tvalid_0's multi_logloss: 1.00442                  \n",
      "[11]\tvalid_0's auc_mu: 0.965416\tvalid_0's multi_logloss: 0.967557                 \n",
      "[12]\tvalid_0's auc_mu: 0.965952\tvalid_0's multi_logloss: 0.935777                 \n",
      "[13]\tvalid_0's auc_mu: 0.966225\tvalid_0's multi_logloss: 0.910521                 \n",
      "[14]\tvalid_0's auc_mu: 0.96629\tvalid_0's multi_logloss: 0.885744                  \n",
      "[15]\tvalid_0's auc_mu: 0.966048\tvalid_0's multi_logloss: 0.864876                 \n",
      "[16]\tvalid_0's auc_mu: 0.966122\tvalid_0's multi_logloss: 0.847585                 \n",
      "[17]\tvalid_0's auc_mu: 0.966052\tvalid_0's multi_logloss: 0.832094                 \n",
      "[18]\tvalid_0's auc_mu: 0.966099\tvalid_0's multi_logloss: 0.817308                 \n",
      "[19]\tvalid_0's auc_mu: 0.966129\tvalid_0's multi_logloss: 0.804868                 \n",
      "[20]\tvalid_0's auc_mu: 0.966037\tvalid_0's multi_logloss: 0.794382                 \n",
      "[21]\tvalid_0's auc_mu: 0.966305\tvalid_0's multi_logloss: 0.783453                 \n",
      "[22]\tvalid_0's auc_mu: 0.965612\tvalid_0's multi_logloss: 0.775454                 \n",
      "[23]\tvalid_0's auc_mu: 0.965639\tvalid_0's multi_logloss: 0.76741                  \n",
      "[24]\tvalid_0's auc_mu: 0.96558\tvalid_0's multi_logloss: 0.759125                  \n",
      "[25]\tvalid_0's auc_mu: 0.965278\tvalid_0's multi_logloss: 0.752823                 \n",
      "[26]\tvalid_0's auc_mu: 0.9657\tvalid_0's multi_logloss: 0.746535                   \n",
      "[27]\tvalid_0's auc_mu: 0.965405\tvalid_0's multi_logloss: 0.741117                 \n",
      "[28]\tvalid_0's auc_mu: 0.965137\tvalid_0's multi_logloss: 0.736181                 \n",
      "[29]\tvalid_0's auc_mu: 0.965124\tvalid_0's multi_logloss: 0.73069                  \n",
      "[30]\tvalid_0's auc_mu: 0.965496\tvalid_0's multi_logloss: 0.726182                 \n",
      "[31]\tvalid_0's auc_mu: 0.965144\tvalid_0's multi_logloss: 0.722794                 \n",
      "[32]\tvalid_0's auc_mu: 0.96523\tvalid_0's multi_logloss: 0.718404                  \n",
      "[33]\tvalid_0's auc_mu: 0.965382\tvalid_0's multi_logloss: 0.714588                 \n",
      "[34]\tvalid_0's auc_mu: 0.965465\tvalid_0's multi_logloss: 0.711051                 \n",
      "[35]\tvalid_0's auc_mu: 0.965712\tvalid_0's multi_logloss: 0.70892                  \n",
      "[36]\tvalid_0's auc_mu: 0.965452\tvalid_0's multi_logloss: 0.706795                 \n",
      "Early stopping, best iteration is:                                                \n",
      "[21]\tvalid_0's auc_mu: 0.966305\tvalid_0's multi_logloss: 0.783453\n",
      "[1]\tvalid_0's auc_mu: 0.942037\tvalid_0's multi_logloss: 1.96419                   \n",
      "Training until validation scores don't improve for 15 rounds                    \n",
      "[2]\tvalid_0's auc_mu: 0.941776\tvalid_0's multi_logloss: 1.70994                 \n",
      "[3]\tvalid_0's auc_mu: 0.948762\tvalid_0's multi_logloss: 1.53877                 \n",
      "[4]\tvalid_0's auc_mu: 0.953628\tvalid_0's multi_logloss: 1.40417                 \n",
      "[5]\tvalid_0's auc_mu: 0.957211\tvalid_0's multi_logloss: 1.295                   \n",
      "[6]\tvalid_0's auc_mu: 0.959068\tvalid_0's multi_logloss: 1.20825                 \n",
      "[7]\tvalid_0's auc_mu: 0.959129\tvalid_0's multi_logloss: 1.13759                 \n",
      "[8]\tvalid_0's auc_mu: 0.961783\tvalid_0's multi_logloss: 1.07855                 \n",
      "[9]\tvalid_0's auc_mu: 0.962557\tvalid_0's multi_logloss: 1.02926                 \n",
      "[10]\tvalid_0's auc_mu: 0.963055\tvalid_0's multi_logloss: 0.987648               \n",
      "[11]\tvalid_0's auc_mu: 0.963072\tvalid_0's multi_logloss: 0.950866               \n",
      "[12]\tvalid_0's auc_mu: 0.963907\tvalid_0's multi_logloss: 0.918163               \n",
      "[13]\tvalid_0's auc_mu: 0.964688\tvalid_0's multi_logloss: 0.891985               \n",
      "[14]\tvalid_0's auc_mu: 0.96481\tvalid_0's multi_logloss: 0.869512                \n",
      "[15]\tvalid_0's auc_mu: 0.965391\tvalid_0's multi_logloss: 0.847546               \n",
      "[16]\tvalid_0's auc_mu: 0.966307\tvalid_0's multi_logloss: 0.830626               \n",
      "[17]\tvalid_0's auc_mu: 0.966022\tvalid_0's multi_logloss: 0.815774               \n",
      "[18]\tvalid_0's auc_mu: 0.966006\tvalid_0's multi_logloss: 0.800024               \n",
      "[19]\tvalid_0's auc_mu: 0.966371\tvalid_0's multi_logloss: 0.787992               \n",
      "[20]\tvalid_0's auc_mu: 0.965746\tvalid_0's multi_logloss: 0.777525               \n",
      "[21]\tvalid_0's auc_mu: 0.965278\tvalid_0's multi_logloss: 0.768416               \n",
      "[22]\tvalid_0's auc_mu: 0.966033\tvalid_0's multi_logloss: 0.758676               \n",
      "[23]\tvalid_0's auc_mu: 0.965685\tvalid_0's multi_logloss: 0.751289               \n",
      "[24]\tvalid_0's auc_mu: 0.965354\tvalid_0's multi_logloss: 0.744821               \n",
      "[25]\tvalid_0's auc_mu: 0.96514\tvalid_0's multi_logloss: 0.739062                \n",
      "[26]\tvalid_0's auc_mu: 0.964946\tvalid_0's multi_logloss: 0.732823               \n",
      "[27]\tvalid_0's auc_mu: 0.964344\tvalid_0's multi_logloss: 0.727894               \n",
      "[28]\tvalid_0's auc_mu: 0.964554\tvalid_0's multi_logloss: 0.723899               \n",
      "[29]\tvalid_0's auc_mu: 0.963853\tvalid_0's multi_logloss: 0.719279               \n",
      "[30]\tvalid_0's auc_mu: 0.964325\tvalid_0's multi_logloss: 0.715108               \n",
      "[31]\tvalid_0's auc_mu: 0.964203\tvalid_0's multi_logloss: 0.712119               \n",
      "[32]\tvalid_0's auc_mu: 0.9639\tvalid_0's multi_logloss: 0.708505                 \n",
      "[33]\tvalid_0's auc_mu: 0.963399\tvalid_0's multi_logloss: 0.70596                \n",
      "[34]\tvalid_0's auc_mu: 0.96495\tvalid_0's multi_logloss: 0.702579                \n",
      "Early stopping, best iteration is:                                              \n",
      "[19]\tvalid_0's auc_mu: 0.966371\tvalid_0's multi_logloss: 0.787992\n",
      "[1]\tvalid_0's auc_mu: 0.939806\tvalid_0's multi_logloss: 1.98606                  \n",
      "Training until validation scores don't improve for 15 rounds                     \n",
      "[2]\tvalid_0's auc_mu: 0.944693\tvalid_0's multi_logloss: 1.7359                   \n",
      "[3]\tvalid_0's auc_mu: 0.952932\tvalid_0's multi_logloss: 1.56515                  \n",
      "[4]\tvalid_0's auc_mu: 0.957962\tvalid_0's multi_logloss: 1.43181                  \n",
      "[5]\tvalid_0's auc_mu: 0.959887\tvalid_0's multi_logloss: 1.32941                  \n",
      "[6]\tvalid_0's auc_mu: 0.961226\tvalid_0's multi_logloss: 1.24808                  \n",
      "[7]\tvalid_0's auc_mu: 0.962625\tvalid_0's multi_logloss: 1.17857                  \n",
      "[8]\tvalid_0's auc_mu: 0.963972\tvalid_0's multi_logloss: 1.11732                  \n",
      "Did not meet early stopping. Best iteration is:                                  \n",
      "[8]\tvalid_0's auc_mu: 0.963972\tvalid_0's multi_logloss: 1.11732\n",
      "[1]\tvalid_0's auc_mu: 0.943029\tvalid_0's multi_logloss: 1.95193                  \n",
      "Training until validation scores don't improve for 15 rounds                     \n",
      "[2]\tvalid_0's auc_mu: 0.949323\tvalid_0's multi_logloss: 1.68578                  \n",
      "[3]\tvalid_0's auc_mu: 0.952043\tvalid_0's multi_logloss: 1.51141                  \n",
      "[4]\tvalid_0's auc_mu: 0.956515\tvalid_0's multi_logloss: 1.37824                  \n",
      "[5]\tvalid_0's auc_mu: 0.961318\tvalid_0's multi_logloss: 1.27121                  \n",
      "[6]\tvalid_0's auc_mu: 0.960998\tvalid_0's multi_logloss: 1.18212                  \n",
      "[7]\tvalid_0's auc_mu: 0.961803\tvalid_0's multi_logloss: 1.11296                  \n",
      "[8]\tvalid_0's auc_mu: 0.963674\tvalid_0's multi_logloss: 1.05533                  \n",
      "[9]\tvalid_0's auc_mu: 0.965051\tvalid_0's multi_logloss: 1.00582                  \n",
      "[10]\tvalid_0's auc_mu: 0.964586\tvalid_0's multi_logloss: 0.96366                 \n",
      "[11]\tvalid_0's auc_mu: 0.966171\tvalid_0's multi_logloss: 0.929955                \n",
      "[12]\tvalid_0's auc_mu: 0.966285\tvalid_0's multi_logloss: 0.898087                \n",
      "[13]\tvalid_0's auc_mu: 0.966237\tvalid_0's multi_logloss: 0.873279                \n",
      "[14]\tvalid_0's auc_mu: 0.96648\tvalid_0's multi_logloss: 0.850226                 \n",
      "[15]\tvalid_0's auc_mu: 0.966761\tvalid_0's multi_logloss: 0.829425                \n",
      "[16]\tvalid_0's auc_mu: 0.966923\tvalid_0's multi_logloss: 0.812077                \n",
      "[17]\tvalid_0's auc_mu: 0.968016\tvalid_0's multi_logloss: 0.797064                \n",
      "[18]\tvalid_0's auc_mu: 0.968218\tvalid_0's multi_logloss: 0.78296                 \n",
      "[19]\tvalid_0's auc_mu: 0.968227\tvalid_0's multi_logloss: 0.77262                 \n",
      "[20]\tvalid_0's auc_mu: 0.968108\tvalid_0's multi_logloss: 0.761691                \n",
      "[21]\tvalid_0's auc_mu: 0.967499\tvalid_0's multi_logloss: 0.752944                \n",
      "[22]\tvalid_0's auc_mu: 0.967599\tvalid_0's multi_logloss: 0.74444                 \n",
      "[23]\tvalid_0's auc_mu: 0.967577\tvalid_0's multi_logloss: 0.73713                 \n",
      "[24]\tvalid_0's auc_mu: 0.967241\tvalid_0's multi_logloss: 0.731301                \n",
      "[25]\tvalid_0's auc_mu: 0.966895\tvalid_0's multi_logloss: 0.725116                \n",
      "[26]\tvalid_0's auc_mu: 0.966831\tvalid_0's multi_logloss: 0.719701                \n",
      "[27]\tvalid_0's auc_mu: 0.966872\tvalid_0's multi_logloss: 0.715133                \n",
      "[28]\tvalid_0's auc_mu: 0.966262\tvalid_0's multi_logloss: 0.710393                \n",
      "[29]\tvalid_0's auc_mu: 0.96668\tvalid_0's multi_logloss: 0.705698                 \n",
      "[30]\tvalid_0's auc_mu: 0.966426\tvalid_0's multi_logloss: 0.702248                \n",
      "[31]\tvalid_0's auc_mu: 0.965541\tvalid_0's multi_logloss: 0.698665                \n",
      "[32]\tvalid_0's auc_mu: 0.965972\tvalid_0's multi_logloss: 0.695261                \n",
      "[33]\tvalid_0's auc_mu: 0.966154\tvalid_0's multi_logloss: 0.692096                \n",
      "[34]\tvalid_0's auc_mu: 0.966037\tvalid_0's multi_logloss: 0.688327                \n",
      "Early stopping, best iteration is:                                               \n",
      "[19]\tvalid_0's auc_mu: 0.968227\tvalid_0's multi_logloss: 0.77262\n",
      "[1]\tvalid_0's auc_mu: 0.936221\tvalid_0's multi_logloss: 1.99119                   \n",
      "Training until validation scores don't improve for 15 rounds                      \n",
      "[2]\tvalid_0's auc_mu: 0.950029\tvalid_0's multi_logloss: 1.7508                    \n",
      "[3]\tvalid_0's auc_mu: 0.956862\tvalid_0's multi_logloss: 1.58808                   \n",
      "[4]\tvalid_0's auc_mu: 0.960804\tvalid_0's multi_logloss: 1.46136                   \n",
      "[5]\tvalid_0's auc_mu: 0.961708\tvalid_0's multi_logloss: 1.36023                   \n",
      "[6]\tvalid_0's auc_mu: 0.966067\tvalid_0's multi_logloss: 1.27907                   \n",
      "[7]\tvalid_0's auc_mu: 0.968467\tvalid_0's multi_logloss: 1.2145                    \n",
      "[8]\tvalid_0's auc_mu: 0.967649\tvalid_0's multi_logloss: 1.15897                   \n",
      "[9]\tvalid_0's auc_mu: 0.968086\tvalid_0's multi_logloss: 1.11353                   \n",
      "[10]\tvalid_0's auc_mu: 0.968371\tvalid_0's multi_logloss: 1.07824                  \n",
      "[11]\tvalid_0's auc_mu: 0.969388\tvalid_0's multi_logloss: 1.04031                  \n",
      "[12]\tvalid_0's auc_mu: 0.96971\tvalid_0's multi_logloss: 1.01133                   \n",
      "[13]\tvalid_0's auc_mu: 0.96921\tvalid_0's multi_logloss: 0.985587                  \n",
      "[14]\tvalid_0's auc_mu: 0.969311\tvalid_0's multi_logloss: 0.961364                 \n",
      "[15]\tvalid_0's auc_mu: 0.970069\tvalid_0's multi_logloss: 0.940396                 \n",
      "[16]\tvalid_0's auc_mu: 0.970124\tvalid_0's multi_logloss: 0.922761                 \n",
      "[17]\tvalid_0's auc_mu: 0.970753\tvalid_0's multi_logloss: 0.906876                 \n",
      "[18]\tvalid_0's auc_mu: 0.970268\tvalid_0's multi_logloss: 0.892692                 \n",
      "[19]\tvalid_0's auc_mu: 0.970269\tvalid_0's multi_logloss: 0.878977                 \n",
      "[20]\tvalid_0's auc_mu: 0.970107\tvalid_0's multi_logloss: 0.867784                 \n",
      "[21]\tvalid_0's auc_mu: 0.970701\tvalid_0's multi_logloss: 0.858859                 \n",
      "[22]\tvalid_0's auc_mu: 0.970955\tvalid_0's multi_logloss: 0.849101                 \n",
      "[23]\tvalid_0's auc_mu: 0.970979\tvalid_0's multi_logloss: 0.840006                 \n",
      "[24]\tvalid_0's auc_mu: 0.971366\tvalid_0's multi_logloss: 0.833574                 \n",
      "[25]\tvalid_0's auc_mu: 0.971233\tvalid_0's multi_logloss: 0.822206                 \n",
      "[26]\tvalid_0's auc_mu: 0.971651\tvalid_0's multi_logloss: 0.813751                 \n",
      "[27]\tvalid_0's auc_mu: 0.971743\tvalid_0's multi_logloss: 0.807205                 \n",
      "[28]\tvalid_0's auc_mu: 0.971386\tvalid_0's multi_logloss: 0.801004                 \n",
      "[29]\tvalid_0's auc_mu: 0.971435\tvalid_0's multi_logloss: 0.793639                 \n",
      "[30]\tvalid_0's auc_mu: 0.972654\tvalid_0's multi_logloss: 0.787268                 \n",
      "[31]\tvalid_0's auc_mu: 0.971935\tvalid_0's multi_logloss: 0.781397                 \n",
      "[32]\tvalid_0's auc_mu: 0.97251\tvalid_0's multi_logloss: 0.776397                  \n",
      "[33]\tvalid_0's auc_mu: 0.972506\tvalid_0's multi_logloss: 0.771764                 \n",
      "[34]\tvalid_0's auc_mu: 0.972857\tvalid_0's multi_logloss: 0.767979                 \n",
      "[35]\tvalid_0's auc_mu: 0.973084\tvalid_0's multi_logloss: 0.763152                 \n",
      "[36]\tvalid_0's auc_mu: 0.97343\tvalid_0's multi_logloss: 0.75797                   \n",
      "[37]\tvalid_0's auc_mu: 0.973665\tvalid_0's multi_logloss: 0.753734                 \n",
      "[38]\tvalid_0's auc_mu: 0.973284\tvalid_0's multi_logloss: 0.749087                 \n",
      "[39]\tvalid_0's auc_mu: 0.974214\tvalid_0's multi_logloss: 0.744946                 \n",
      "[40]\tvalid_0's auc_mu: 0.974253\tvalid_0's multi_logloss: 0.74094                  \n",
      "[41]\tvalid_0's auc_mu: 0.974219\tvalid_0's multi_logloss: 0.737302                 \n",
      "[42]\tvalid_0's auc_mu: 0.974295\tvalid_0's multi_logloss: 0.734361                 \n",
      "[43]\tvalid_0's auc_mu: 0.9743\tvalid_0's multi_logloss: 0.730564                   \n",
      "[44]\tvalid_0's auc_mu: 0.974163\tvalid_0's multi_logloss: 0.727988                 \n",
      "[45]\tvalid_0's auc_mu: 0.973884\tvalid_0's multi_logloss: 0.725636                 \n",
      "[46]\tvalid_0's auc_mu: 0.973604\tvalid_0's multi_logloss: 0.723317                 \n",
      "Did not meet early stopping. Best iteration is:                                   \n",
      "[43]\tvalid_0's auc_mu: 0.9743\tvalid_0's multi_logloss: 0.730564\n",
      "[1]\tvalid_0's auc_mu: 0.950854\tvalid_0's multi_logloss: 1.94603                   \n",
      "Training until validation scores don't improve for 15 rounds                      \n",
      "[2]\tvalid_0's auc_mu: 0.963665\tvalid_0's multi_logloss: 1.68479                   \n",
      "[3]\tvalid_0's auc_mu: 0.965968\tvalid_0's multi_logloss: 1.51245                   \n",
      "[4]\tvalid_0's auc_mu: 0.967612\tvalid_0's multi_logloss: 1.3796                    \n",
      "[5]\tvalid_0's auc_mu: 0.967779\tvalid_0's multi_logloss: 1.27407                   \n",
      "[6]\tvalid_0's auc_mu: 0.969939\tvalid_0's multi_logloss: 1.18821                   \n",
      "[7]\tvalid_0's auc_mu: 0.970179\tvalid_0's multi_logloss: 1.11649                   \n",
      "[8]\tvalid_0's auc_mu: 0.97018\tvalid_0's multi_logloss: 1.05869                    \n",
      "[9]\tvalid_0's auc_mu: 0.972322\tvalid_0's multi_logloss: 1.00811                   \n",
      "[10]\tvalid_0's auc_mu: 0.971591\tvalid_0's multi_logloss: 0.9651                   \n",
      "[11]\tvalid_0's auc_mu: 0.971516\tvalid_0's multi_logloss: 0.928443                 \n",
      "[12]\tvalid_0's auc_mu: 0.971898\tvalid_0's multi_logloss: 0.89698                  \n",
      "[13]\tvalid_0's auc_mu: 0.971833\tvalid_0's multi_logloss: 0.872629                 \n",
      "[14]\tvalid_0's auc_mu: 0.971262\tvalid_0's multi_logloss: 0.849577                 \n",
      "[15]\tvalid_0's auc_mu: 0.970998\tvalid_0's multi_logloss: 0.82971                  \n",
      "[16]\tvalid_0's auc_mu: 0.971011\tvalid_0's multi_logloss: 0.813113                 \n",
      "[17]\tvalid_0's auc_mu: 0.97071\tvalid_0's multi_logloss: 0.797962                  \n",
      "[18]\tvalid_0's auc_mu: 0.97055\tvalid_0's multi_logloss: 0.78388                   \n",
      "[19]\tvalid_0's auc_mu: 0.971122\tvalid_0's multi_logloss: 0.770092                 \n",
      "[20]\tvalid_0's auc_mu: 0.970704\tvalid_0's multi_logloss: 0.758574                 \n",
      "[21]\tvalid_0's auc_mu: 0.97069\tvalid_0's multi_logloss: 0.74955                   \n",
      "[22]\tvalid_0's auc_mu: 0.970445\tvalid_0's multi_logloss: 0.741102                 \n",
      "[23]\tvalid_0's auc_mu: 0.970567\tvalid_0's multi_logloss: 0.732433                 \n",
      "[24]\tvalid_0's auc_mu: 0.970956\tvalid_0's multi_logloss: 0.724298                 \n",
      "Early stopping, best iteration is:                                                \n",
      "[9]\tvalid_0's auc_mu: 0.972322\tvalid_0's multi_logloss: 1.00811\n",
      "[1]\tvalid_0's auc_mu: 0.942972\tvalid_0's multi_logloss: 1.93414                   \n",
      "Training until validation scores don't improve for 15 rounds                      \n",
      "[2]\tvalid_0's auc_mu: 0.948911\tvalid_0's multi_logloss: 1.67555                   \n",
      "[3]\tvalid_0's auc_mu: 0.955176\tvalid_0's multi_logloss: 1.49279                   \n",
      "[4]\tvalid_0's auc_mu: 0.957713\tvalid_0's multi_logloss: 1.35943                   \n",
      "Did not meet early stopping. Best iteration is:                                   \n",
      "[4]\tvalid_0's auc_mu: 0.957713\tvalid_0's multi_logloss: 1.35943\n",
      "[1]\tvalid_0's auc_mu: 0.936906\tvalid_0's multi_logloss: 1.65973                   \n",
      "Training until validation scores don't improve for 15 rounds                      \n",
      "[2]\tvalid_0's auc_mu: 0.941488\tvalid_0's multi_logloss: 1.44811                   \n",
      "[3]\tvalid_0's auc_mu: 0.939782\tvalid_0's multi_logloss: 1.30064                   \n",
      "[4]\tvalid_0's auc_mu: 0.941753\tvalid_0's multi_logloss: 1.1926                    \n",
      "[5]\tvalid_0's auc_mu: 0.942385\tvalid_0's multi_logloss: 1.10457                   \n",
      "[6]\tvalid_0's auc_mu: 0.943519\tvalid_0's multi_logloss: 1.03464                   \n",
      "[7]\tvalid_0's auc_mu: 0.945477\tvalid_0's multi_logloss: 0.97521                   \n",
      "[8]\tvalid_0's auc_mu: 0.944382\tvalid_0's multi_logloss: 0.928177                  \n",
      "[9]\tvalid_0's auc_mu: 0.945356\tvalid_0's multi_logloss: 0.888047                  \n",
      "[10]\tvalid_0's auc_mu: 0.948038\tvalid_0's multi_logloss: 0.854523                 \n",
      "[11]\tvalid_0's auc_mu: 0.948155\tvalid_0's multi_logloss: 0.826581                 \n",
      "[12]\tvalid_0's auc_mu: 0.949224\tvalid_0's multi_logloss: 0.801847                 \n",
      "[13]\tvalid_0's auc_mu: 0.949622\tvalid_0's multi_logloss: 0.78181                  \n",
      "[14]\tvalid_0's auc_mu: 0.95014\tvalid_0's multi_logloss: 0.763602                  \n",
      "[15]\tvalid_0's auc_mu: 0.950494\tvalid_0's multi_logloss: 0.748807                 \n",
      "[16]\tvalid_0's auc_mu: 0.950847\tvalid_0's multi_logloss: 0.736101                 \n",
      "[17]\tvalid_0's auc_mu: 0.951236\tvalid_0's multi_logloss: 0.724491                 \n",
      "[18]\tvalid_0's auc_mu: 0.951364\tvalid_0's multi_logloss: 0.714823                 \n",
      "[19]\tvalid_0's auc_mu: 0.951879\tvalid_0's multi_logloss: 0.70645                  \n",
      "[20]\tvalid_0's auc_mu: 0.952077\tvalid_0's multi_logloss: 0.699573                 \n",
      "[21]\tvalid_0's auc_mu: 0.952337\tvalid_0's multi_logloss: 0.692359                 \n",
      "[22]\tvalid_0's auc_mu: 0.952647\tvalid_0's multi_logloss: 0.686739                 \n",
      "[23]\tvalid_0's auc_mu: 0.952672\tvalid_0's multi_logloss: 0.682124                 \n",
      "[24]\tvalid_0's auc_mu: 0.953049\tvalid_0's multi_logloss: 0.676948                 \n",
      "[25]\tvalid_0's auc_mu: 0.953095\tvalid_0's multi_logloss: 0.67375                  \n",
      "[26]\tvalid_0's auc_mu: 0.95337\tvalid_0's multi_logloss: 0.669768                  \n",
      "[27]\tvalid_0's auc_mu: 0.953456\tvalid_0's multi_logloss: 0.666905                 \n",
      "[28]\tvalid_0's auc_mu: 0.953705\tvalid_0's multi_logloss: 0.664154                 \n",
      "[29]\tvalid_0's auc_mu: 0.954291\tvalid_0's multi_logloss: 0.661446                 \n",
      "[30]\tvalid_0's auc_mu: 0.954373\tvalid_0's multi_logloss: 0.658974                 \n",
      "[31]\tvalid_0's auc_mu: 0.954464\tvalid_0's multi_logloss: 0.656748                 \n",
      "[32]\tvalid_0's auc_mu: 0.954591\tvalid_0's multi_logloss: 0.654637                 \n",
      "[33]\tvalid_0's auc_mu: 0.954588\tvalid_0's multi_logloss: 0.652853                 \n",
      "[34]\tvalid_0's auc_mu: 0.954735\tvalid_0's multi_logloss: 0.650771                 \n",
      "[35]\tvalid_0's auc_mu: 0.95495\tvalid_0's multi_logloss: 0.649521                  \n",
      "[36]\tvalid_0's auc_mu: 0.954997\tvalid_0's multi_logloss: 0.647863                 \n",
      "[37]\tvalid_0's auc_mu: 0.954985\tvalid_0's multi_logloss: 0.646694                 \n",
      "[38]\tvalid_0's auc_mu: 0.954907\tvalid_0's multi_logloss: 0.645713                 \n",
      "Did not meet early stopping. Best iteration is:                                   \n",
      "[36]\tvalid_0's auc_mu: 0.954997\tvalid_0's multi_logloss: 0.647863\n",
      "[1]\tvalid_0's auc_mu: 0.939324\tvalid_0's multi_logloss: 2.26928                   \n",
      "Training until validation scores don't improve for 15 rounds                      \n",
      "[2]\tvalid_0's auc_mu: 0.93873\tvalid_0's multi_logloss: 2.06482                    \n",
      "[3]\tvalid_0's auc_mu: 0.941526\tvalid_0's multi_logloss: 1.92456                   \n",
      "[4]\tvalid_0's auc_mu: 0.944134\tvalid_0's multi_logloss: 1.81732                   \n",
      "[5]\tvalid_0's auc_mu: 0.94532\tvalid_0's multi_logloss: 1.73226                    \n",
      "[6]\tvalid_0's auc_mu: 0.947777\tvalid_0's multi_logloss: 1.6617                    \n",
      "[7]\tvalid_0's auc_mu: 0.949503\tvalid_0's multi_logloss: 1.60371                   \n",
      "[8]\tvalid_0's auc_mu: 0.951622\tvalid_0's multi_logloss: 1.55329                   \n",
      "[9]\tvalid_0's auc_mu: 0.952077\tvalid_0's multi_logloss: 1.51293                   \n",
      "[10]\tvalid_0's auc_mu: 0.951755\tvalid_0's multi_logloss: 1.47886                  \n",
      "[11]\tvalid_0's auc_mu: 0.952058\tvalid_0's multi_logloss: 1.44863                  \n",
      "[12]\tvalid_0's auc_mu: 0.9517\tvalid_0's multi_logloss: 1.42119                    \n",
      "[13]\tvalid_0's auc_mu: 0.951733\tvalid_0's multi_logloss: 1.39682                  \n",
      "[14]\tvalid_0's auc_mu: 0.95194\tvalid_0's multi_logloss: 1.37565                   \n",
      "[15]\tvalid_0's auc_mu: 0.951891\tvalid_0's multi_logloss: 1.35677                  \n",
      "[16]\tvalid_0's auc_mu: 0.952423\tvalid_0's multi_logloss: 1.34086                  \n",
      "[17]\tvalid_0's auc_mu: 0.95253\tvalid_0's multi_logloss: 1.32831                   \n",
      "[18]\tvalid_0's auc_mu: 0.952836\tvalid_0's multi_logloss: 1.31717                  \n",
      "[19]\tvalid_0's auc_mu: 0.953388\tvalid_0's multi_logloss: 1.30738                  \n",
      "[20]\tvalid_0's auc_mu: 0.953497\tvalid_0's multi_logloss: 1.29738                  \n",
      "[21]\tvalid_0's auc_mu: 0.953847\tvalid_0's multi_logloss: 1.29078                  \n",
      "[22]\tvalid_0's auc_mu: 0.956403\tvalid_0's multi_logloss: 1.28305                  \n",
      "[23]\tvalid_0's auc_mu: 0.956872\tvalid_0's multi_logloss: 1.27584                  \n",
      "[24]\tvalid_0's auc_mu: 0.957654\tvalid_0's multi_logloss: 1.26979                  \n",
      "[25]\tvalid_0's auc_mu: 0.957621\tvalid_0's multi_logloss: 1.26401                  \n",
      "[26]\tvalid_0's auc_mu: 0.957734\tvalid_0's multi_logloss: 1.2598                   \n",
      "[27]\tvalid_0's auc_mu: 0.95832\tvalid_0's multi_logloss: 1.25529                   \n",
      "[28]\tvalid_0's auc_mu: 0.958304\tvalid_0's multi_logloss: 1.2519                   \n",
      "[29]\tvalid_0's auc_mu: 0.958431\tvalid_0's multi_logloss: 1.24879                  \n",
      "[30]\tvalid_0's auc_mu: 0.958693\tvalid_0's multi_logloss: 1.2457                   \n",
      "[31]\tvalid_0's auc_mu: 0.958677\tvalid_0's multi_logloss: 1.24315                  \n",
      "[32]\tvalid_0's auc_mu: 0.958662\tvalid_0's multi_logloss: 1.24087                  \n",
      "[33]\tvalid_0's auc_mu: 0.958644\tvalid_0's multi_logloss: 1.23853                  \n",
      "[34]\tvalid_0's auc_mu: 0.958849\tvalid_0's multi_logloss: 1.23611                  \n",
      "[35]\tvalid_0's auc_mu: 0.958863\tvalid_0's multi_logloss: 1.23448                  \n",
      "[36]\tvalid_0's auc_mu: 0.958869\tvalid_0's multi_logloss: 1.23301                  \n",
      "[37]\tvalid_0's auc_mu: 0.958847\tvalid_0's multi_logloss: 1.23182                  \n",
      "[38]\tvalid_0's auc_mu: 0.958843\tvalid_0's multi_logloss: 1.23062                  \n",
      "[39]\tvalid_0's auc_mu: 0.958858\tvalid_0's multi_logloss: 1.22881                  \n",
      "[40]\tvalid_0's auc_mu: 0.958844\tvalid_0's multi_logloss: 1.22812                  \n",
      "[41]\tvalid_0's auc_mu: 0.958844\tvalid_0's multi_logloss: 1.22751                  \n",
      "[42]\tvalid_0's auc_mu: 0.958825\tvalid_0's multi_logloss: 1.22701                  \n",
      "[43]\tvalid_0's auc_mu: 0.958853\tvalid_0's multi_logloss: 1.22675                  \n",
      "[44]\tvalid_0's auc_mu: 0.958839\tvalid_0's multi_logloss: 1.22651                  \n",
      "[45]\tvalid_0's auc_mu: 0.958835\tvalid_0's multi_logloss: 1.22577                  \n",
      "[46]\tvalid_0's auc_mu: 0.958837\tvalid_0's multi_logloss: 1.22557                  \n",
      "[47]\tvalid_0's auc_mu: 0.958851\tvalid_0's multi_logloss: 1.22544                  \n",
      "[48]\tvalid_0's auc_mu: 0.958861\tvalid_0's multi_logloss: 1.22539                  \n",
      "[49]\tvalid_0's auc_mu: 0.958861\tvalid_0's multi_logloss: 1.22523                  \n",
      "[50]\tvalid_0's auc_mu: 0.958861\tvalid_0's multi_logloss: 1.22508                  \n",
      "[51]\tvalid_0's auc_mu: 0.958919\tvalid_0's multi_logloss: 1.22491                  \n",
      "[52]\tvalid_0's auc_mu: 0.958919\tvalid_0's multi_logloss: 1.2249                   \n",
      "[53]\tvalid_0's auc_mu: 0.95891\tvalid_0's multi_logloss: 1.22496                   \n",
      "[54]\tvalid_0's auc_mu: 0.95891\tvalid_0's multi_logloss: 1.22484                   \n",
      "[55]\tvalid_0's auc_mu: 0.95891\tvalid_0's multi_logloss: 1.22486                   \n",
      "[56]\tvalid_0's auc_mu: 0.95891\tvalid_0's multi_logloss: 1.22484                   \n",
      "[57]\tvalid_0's auc_mu: 0.95891\tvalid_0's multi_logloss: 1.22486                   \n",
      "[58]\tvalid_0's auc_mu: 0.95891\tvalid_0's multi_logloss: 1.22487                   \n",
      "[59]\tvalid_0's auc_mu: 0.95891\tvalid_0's multi_logloss: 1.22488                   \n",
      "[60]\tvalid_0's auc_mu: 0.95891\tvalid_0's multi_logloss: 1.2249                    \n",
      "[61]\tvalid_0's auc_mu: 0.95891\tvalid_0's multi_logloss: 1.22491                   \n",
      "[62]\tvalid_0's auc_mu: 0.95891\tvalid_0's multi_logloss: 1.22492                   \n",
      "[63]\tvalid_0's auc_mu: 0.95891\tvalid_0's multi_logloss: 1.22493                   \n",
      "[64]\tvalid_0's auc_mu: 0.95891\tvalid_0's multi_logloss: 1.22494                   \n",
      "[65]\tvalid_0's auc_mu: 0.95891\tvalid_0's multi_logloss: 1.22494                   \n",
      "[66]\tvalid_0's auc_mu: 0.95891\tvalid_0's multi_logloss: 1.22491                   \n",
      "Early stopping, best iteration is:                                                \n",
      "[51]\tvalid_0's auc_mu: 0.958919\tvalid_0's multi_logloss: 1.22491\n",
      "[1]\tvalid_0's auc_mu: 0.934405\tvalid_0's multi_logloss: 1.64594                   \n",
      "Training until validation scores don't improve for 15 rounds                      \n",
      "[2]\tvalid_0's auc_mu: 0.940027\tvalid_0's multi_logloss: 1.42294                   \n",
      "[3]\tvalid_0's auc_mu: 0.943054\tvalid_0's multi_logloss: 1.27156                   \n",
      "[4]\tvalid_0's auc_mu: 0.944596\tvalid_0's multi_logloss: 1.15805                   \n",
      "[5]\tvalid_0's auc_mu: 0.947098\tvalid_0's multi_logloss: 1.06983                   \n",
      "[6]\tvalid_0's auc_mu: 0.94877\tvalid_0's multi_logloss: 0.998252                   \n",
      "[7]\tvalid_0's auc_mu: 0.950615\tvalid_0's multi_logloss: 0.941542                  \n",
      "[8]\tvalid_0's auc_mu: 0.951216\tvalid_0's multi_logloss: 0.895004                  \n",
      "[9]\tvalid_0's auc_mu: 0.955366\tvalid_0's multi_logloss: 0.854834                  \n",
      "[10]\tvalid_0's auc_mu: 0.956661\tvalid_0's multi_logloss: 0.820394                 \n",
      "[11]\tvalid_0's auc_mu: 0.956467\tvalid_0's multi_logloss: 0.797005                 \n",
      "[12]\tvalid_0's auc_mu: 0.955774\tvalid_0's multi_logloss: 0.77829                  \n",
      "[13]\tvalid_0's auc_mu: 0.956457\tvalid_0's multi_logloss: 0.760427                 \n",
      "[14]\tvalid_0's auc_mu: 0.955581\tvalid_0's multi_logloss: 0.745928                 \n",
      "[15]\tvalid_0's auc_mu: 0.955379\tvalid_0's multi_logloss: 0.732693                 \n",
      "[16]\tvalid_0's auc_mu: 0.956781\tvalid_0's multi_logloss: 0.720622                 \n",
      "[17]\tvalid_0's auc_mu: 0.957461\tvalid_0's multi_logloss: 0.708433                 \n",
      "[18]\tvalid_0's auc_mu: 0.95766\tvalid_0's multi_logloss: 0.698714                  \n",
      "[19]\tvalid_0's auc_mu: 0.957668\tvalid_0's multi_logloss: 0.691215                 \n",
      "[20]\tvalid_0's auc_mu: 0.957143\tvalid_0's multi_logloss: 0.685526                 \n",
      "[21]\tvalid_0's auc_mu: 0.957373\tvalid_0's multi_logloss: 0.679428                 \n",
      "[22]\tvalid_0's auc_mu: 0.957562\tvalid_0's multi_logloss: 0.674702                 \n",
      "Did not meet early stopping. Best iteration is:                                   \n",
      "[19]\tvalid_0's auc_mu: 0.957668\tvalid_0's multi_logloss: 0.691215\n",
      "[1]\tvalid_0's auc_mu: 0.650615\tvalid_0's multi_logloss: 3.58168                   \n",
      "Training until validation scores don't improve for 15 rounds                      \n",
      "[2]\tvalid_0's auc_mu: 0.878443\tvalid_0's multi_logloss: 3.3683                    \n",
      "[3]\tvalid_0's auc_mu: 0.885379\tvalid_0's multi_logloss: 3.21742                   \n",
      "[4]\tvalid_0's auc_mu: 0.900538\tvalid_0's multi_logloss: 3.08596                   \n",
      "[5]\tvalid_0's auc_mu: 0.908899\tvalid_0's multi_logloss: 2.98472                   \n",
      "[6]\tvalid_0's auc_mu: 0.910179\tvalid_0's multi_logloss: 2.90216                   \n",
      "[7]\tvalid_0's auc_mu: 0.910752\tvalid_0's multi_logloss: 2.83153                   \n",
      "[8]\tvalid_0's auc_mu: 0.912622\tvalid_0's multi_logloss: 2.77494                   \n",
      "[9]\tvalid_0's auc_mu: 0.912995\tvalid_0's multi_logloss: 2.72537                   \n",
      "[10]\tvalid_0's auc_mu: 0.913833\tvalid_0's multi_logloss: 2.68607                  \n",
      "[11]\tvalid_0's auc_mu: 0.913833\tvalid_0's multi_logloss: 2.64988                  \n",
      "[12]\tvalid_0's auc_mu: 0.913833\tvalid_0's multi_logloss: 2.6139                   \n",
      "[13]\tvalid_0's auc_mu: 0.913721\tvalid_0's multi_logloss: 2.58219                  \n",
      "[14]\tvalid_0's auc_mu: 0.913721\tvalid_0's multi_logloss: 2.56194                  \n",
      "[15]\tvalid_0's auc_mu: 0.913721\tvalid_0's multi_logloss: 2.54355                  \n",
      "[16]\tvalid_0's auc_mu: 0.913721\tvalid_0's multi_logloss: 2.52653                  \n",
      "[17]\tvalid_0's auc_mu: 0.913556\tvalid_0's multi_logloss: 2.51124                  \n",
      "[18]\tvalid_0's auc_mu: 0.913556\tvalid_0's multi_logloss: 2.49693                  \n",
      "[19]\tvalid_0's auc_mu: 0.913513\tvalid_0's multi_logloss: 2.4841                   \n",
      "[20]\tvalid_0's auc_mu: 0.913479\tvalid_0's multi_logloss: 2.47214                  \n",
      "[21]\tvalid_0's auc_mu: 0.913351\tvalid_0's multi_logloss: 2.46136                  \n",
      "[22]\tvalid_0's auc_mu: 0.913351\tvalid_0's multi_logloss: 2.45143                  \n",
      "[23]\tvalid_0's auc_mu: 0.913223\tvalid_0's multi_logloss: 2.44228                  \n",
      "[24]\tvalid_0's auc_mu: 0.913223\tvalid_0's multi_logloss: 2.43395                  \n",
      "[25]\tvalid_0's auc_mu: 0.913029\tvalid_0's multi_logloss: 2.42641                  \n",
      "Early stopping, best iteration is:                                                \n",
      "[10]\tvalid_0's auc_mu: 0.913833\tvalid_0's multi_logloss: 2.68607\n",
      "[1]\tvalid_0's auc_mu: 0.941288\tvalid_0's multi_logloss: 2.04904                   \n",
      "Training until validation scores don't improve for 15 rounds                      \n",
      "[2]\tvalid_0's auc_mu: 0.946596\tvalid_0's multi_logloss: 1.81694                   \n",
      "[3]\tvalid_0's auc_mu: 0.949101\tvalid_0's multi_logloss: 1.65646                   \n",
      "[4]\tvalid_0's auc_mu: 0.951223\tvalid_0's multi_logloss: 1.53351                   \n",
      "[5]\tvalid_0's auc_mu: 0.957119\tvalid_0's multi_logloss: 1.43564                   \n",
      "[6]\tvalid_0's auc_mu: 0.958371\tvalid_0's multi_logloss: 1.35948                   \n",
      "[7]\tvalid_0's auc_mu: 0.958522\tvalid_0's multi_logloss: 1.29219                   \n",
      "[8]\tvalid_0's auc_mu: 0.960802\tvalid_0's multi_logloss: 1.23924                   \n",
      "[9]\tvalid_0's auc_mu: 0.961649\tvalid_0's multi_logloss: 1.19242                   \n",
      "[10]\tvalid_0's auc_mu: 0.962377\tvalid_0's multi_logloss: 1.15145                  \n",
      "[11]\tvalid_0's auc_mu: 0.962685\tvalid_0's multi_logloss: 1.11582                  \n",
      "[12]\tvalid_0's auc_mu: 0.964203\tvalid_0's multi_logloss: 1.08707                  \n",
      "[13]\tvalid_0's auc_mu: 0.964115\tvalid_0's multi_logloss: 1.06078                  \n",
      "[14]\tvalid_0's auc_mu: 0.964177\tvalid_0's multi_logloss: 1.03921                  \n",
      "[15]\tvalid_0's auc_mu: 0.964492\tvalid_0's multi_logloss: 1.01853                  \n",
      "[16]\tvalid_0's auc_mu: 0.964869\tvalid_0's multi_logloss: 1.00064                  \n",
      "[17]\tvalid_0's auc_mu: 0.965582\tvalid_0's multi_logloss: 0.983136                 \n",
      "[18]\tvalid_0's auc_mu: 0.966053\tvalid_0's multi_logloss: 0.970141                 \n",
      "[19]\tvalid_0's auc_mu: 0.966267\tvalid_0's multi_logloss: 0.956565                 \n",
      "[20]\tvalid_0's auc_mu: 0.965776\tvalid_0's multi_logloss: 0.945496                 \n",
      "[21]\tvalid_0's auc_mu: 0.966252\tvalid_0's multi_logloss: 0.935057                 \n",
      "[22]\tvalid_0's auc_mu: 0.966015\tvalid_0's multi_logloss: 0.925896                 \n",
      "[23]\tvalid_0's auc_mu: 0.96618\tvalid_0's multi_logloss: 0.91732                   \n",
      "[24]\tvalid_0's auc_mu: 0.966142\tvalid_0's multi_logloss: 0.910614                 \n",
      "[25]\tvalid_0's auc_mu: 0.966208\tvalid_0's multi_logloss: 0.903374                 \n",
      "[26]\tvalid_0's auc_mu: 0.966005\tvalid_0's multi_logloss: 0.897215                 \n",
      "[27]\tvalid_0's auc_mu: 0.966201\tvalid_0's multi_logloss: 0.891635                 \n",
      "[28]\tvalid_0's auc_mu: 0.966191\tvalid_0's multi_logloss: 0.886312                 \n",
      "[29]\tvalid_0's auc_mu: 0.966003\tvalid_0's multi_logloss: 0.881718                 \n",
      "[30]\tvalid_0's auc_mu: 0.96604\tvalid_0's multi_logloss: 0.876757                  \n",
      "[31]\tvalid_0's auc_mu: 0.966229\tvalid_0's multi_logloss: 0.87257                  \n",
      "[32]\tvalid_0's auc_mu: 0.96628\tvalid_0's multi_logloss: 0.868459                  \n",
      "[33]\tvalid_0's auc_mu: 0.966378\tvalid_0's multi_logloss: 0.865521                 \n",
      "[34]\tvalid_0's auc_mu: 0.966515\tvalid_0's multi_logloss: 0.862487                 \n",
      "[35]\tvalid_0's auc_mu: 0.966598\tvalid_0's multi_logloss: 0.860065                 \n",
      "[36]\tvalid_0's auc_mu: 0.966408\tvalid_0's multi_logloss: 0.857436                 \n",
      "[37]\tvalid_0's auc_mu: 0.966422\tvalid_0's multi_logloss: 0.854501                 \n",
      "[38]\tvalid_0's auc_mu: 0.966554\tvalid_0's multi_logloss: 0.850804                 \n",
      "[39]\tvalid_0's auc_mu: 0.966779\tvalid_0's multi_logloss: 0.847994                 \n",
      "[40]\tvalid_0's auc_mu: 0.966935\tvalid_0's multi_logloss: 0.846059                 \n",
      "[41]\tvalid_0's auc_mu: 0.966787\tvalid_0's multi_logloss: 0.843749                 \n",
      "[42]\tvalid_0's auc_mu: 0.966615\tvalid_0's multi_logloss: 0.841895                 \n",
      "[43]\tvalid_0's auc_mu: 0.966727\tvalid_0's multi_logloss: 0.8405                   \n",
      "[44]\tvalid_0's auc_mu: 0.96675\tvalid_0's multi_logloss: 0.839057                  \n",
      "[45]\tvalid_0's auc_mu: 0.966589\tvalid_0's multi_logloss: 0.837238                 \n",
      "[46]\tvalid_0's auc_mu: 0.966584\tvalid_0's multi_logloss: 0.836241                 \n",
      "[47]\tvalid_0's auc_mu: 0.966712\tvalid_0's multi_logloss: 0.835398                 \n",
      "[48]\tvalid_0's auc_mu: 0.966792\tvalid_0's multi_logloss: 0.834385                 \n",
      "[49]\tvalid_0's auc_mu: 0.966848\tvalid_0's multi_logloss: 0.833456                 \n",
      "[50]\tvalid_0's auc_mu: 0.966899\tvalid_0's multi_logloss: 0.832419                 \n",
      "[51]\tvalid_0's auc_mu: 0.966925\tvalid_0's multi_logloss: 0.831691                 \n",
      "[52]\tvalid_0's auc_mu: 0.966916\tvalid_0's multi_logloss: 0.831074                 \n",
      "[53]\tvalid_0's auc_mu: 0.966884\tvalid_0's multi_logloss: 0.830263                 \n",
      "[54]\tvalid_0's auc_mu: 0.966896\tvalid_0's multi_logloss: 0.829636                 \n",
      "[55]\tvalid_0's auc_mu: 0.966914\tvalid_0's multi_logloss: 0.829126                 \n",
      "Early stopping, best iteration is:                                                \n",
      "[40]\tvalid_0's auc_mu: 0.966935\tvalid_0's multi_logloss: 0.846059\n",
      "[1]\tvalid_0's auc_mu: 0.945063\tvalid_0's multi_logloss: 1.60747                   \n",
      "Training until validation scores don't improve for 15 rounds                      \n",
      "[2]\tvalid_0's auc_mu: 0.951272\tvalid_0's multi_logloss: 1.38218                   \n",
      "[3]\tvalid_0's auc_mu: 0.950824\tvalid_0's multi_logloss: 1.23224                   \n",
      "[4]\tvalid_0's auc_mu: 0.951456\tvalid_0's multi_logloss: 1.11928                   \n",
      "[5]\tvalid_0's auc_mu: 0.95147\tvalid_0's multi_logloss: 1.03277                    \n",
      "[6]\tvalid_0's auc_mu: 0.95271\tvalid_0's multi_logloss: 0.96192                    \n",
      "[7]\tvalid_0's auc_mu: 0.95468\tvalid_0's multi_logloss: 0.905086                   \n",
      "[8]\tvalid_0's auc_mu: 0.95462\tvalid_0's multi_logloss: 0.860519                   \n",
      "[9]\tvalid_0's auc_mu: 0.956067\tvalid_0's multi_logloss: 0.82274                   \n",
      "[10]\tvalid_0's auc_mu: 0.957414\tvalid_0's multi_logloss: 0.790575                 \n",
      "[11]\tvalid_0's auc_mu: 0.95671\tvalid_0's multi_logloss: 0.768755                  \n",
      "[12]\tvalid_0's auc_mu: 0.957802\tvalid_0's multi_logloss: 0.7505                   \n",
      "[13]\tvalid_0's auc_mu: 0.958266\tvalid_0's multi_logloss: 0.737654                 \n",
      "[14]\tvalid_0's auc_mu: 0.957903\tvalid_0's multi_logloss: 0.723468                 \n",
      "[15]\tvalid_0's auc_mu: 0.958629\tvalid_0's multi_logloss: 0.712427                 \n",
      "[16]\tvalid_0's auc_mu: 0.959044\tvalid_0's multi_logloss: 0.703996                 \n",
      "[17]\tvalid_0's auc_mu: 0.959501\tvalid_0's multi_logloss: 0.695452                 \n",
      "[18]\tvalid_0's auc_mu: 0.959817\tvalid_0's multi_logloss: 0.689473                 \n",
      "[19]\tvalid_0's auc_mu: 0.959017\tvalid_0's multi_logloss: 0.686126                 \n",
      "[20]\tvalid_0's auc_mu: 0.958447\tvalid_0's multi_logloss: 0.682496                 \n",
      "[21]\tvalid_0's auc_mu: 0.958012\tvalid_0's multi_logloss: 0.678906                 \n",
      "[22]\tvalid_0's auc_mu: 0.959263\tvalid_0's multi_logloss: 0.67434                  \n",
      "[23]\tvalid_0's auc_mu: 0.959353\tvalid_0's multi_logloss: 0.671187                 \n",
      "[24]\tvalid_0's auc_mu: 0.959608\tvalid_0's multi_logloss: 0.669826                 \n",
      "[25]\tvalid_0's auc_mu: 0.95913\tvalid_0's multi_logloss: 0.667161                  \n",
      "[26]\tvalid_0's auc_mu: 0.959119\tvalid_0's multi_logloss: 0.665341                 \n",
      "[27]\tvalid_0's auc_mu: 0.959058\tvalid_0's multi_logloss: 0.666592                 \n",
      "[28]\tvalid_0's auc_mu: 0.959516\tvalid_0's multi_logloss: 0.664942                 \n",
      "[29]\tvalid_0's auc_mu: 0.959168\tvalid_0's multi_logloss: 0.664482                 \n",
      "[30]\tvalid_0's auc_mu: 0.959314\tvalid_0's multi_logloss: 0.667997                 \n",
      "[31]\tvalid_0's auc_mu: 0.959055\tvalid_0's multi_logloss: 0.668621                 \n",
      "[32]\tvalid_0's auc_mu: 0.959152\tvalid_0's multi_logloss: 0.66805                  \n",
      "[33]\tvalid_0's auc_mu: 0.958515\tvalid_0's multi_logloss: 0.671592                 \n",
      "Early stopping, best iteration is:                                                \n",
      "[18]\tvalid_0's auc_mu: 0.959817\tvalid_0's multi_logloss: 0.689473\n",
      "[1]\tvalid_0's auc_mu: 0.940489\tvalid_0's multi_logloss: 2.10857                   \n",
      "Training until validation scores don't improve for 15 rounds                      \n",
      "[2]\tvalid_0's auc_mu: 0.945595\tvalid_0's multi_logloss: 1.88211                   \n",
      "[3]\tvalid_0's auc_mu: 0.950135\tvalid_0's multi_logloss: 1.72596                   \n",
      "[4]\tvalid_0's auc_mu: 0.952384\tvalid_0's multi_logloss: 1.61139                   \n",
      "[5]\tvalid_0's auc_mu: 0.952171\tvalid_0's multi_logloss: 1.51782                   \n",
      "[6]\tvalid_0's auc_mu: 0.956345\tvalid_0's multi_logloss: 1.4419                    \n",
      "[7]\tvalid_0's auc_mu: 0.956415\tvalid_0's multi_logloss: 1.38109                   \n",
      "[8]\tvalid_0's auc_mu: 0.958386\tvalid_0's multi_logloss: 1.32717                   \n",
      "[9]\tvalid_0's auc_mu: 0.959007\tvalid_0's multi_logloss: 1.27967                   \n",
      "[10]\tvalid_0's auc_mu: 0.959699\tvalid_0's multi_logloss: 1.2402                   \n",
      "[11]\tvalid_0's auc_mu: 0.960073\tvalid_0's multi_logloss: 1.20469                  \n",
      "[12]\tvalid_0's auc_mu: 0.960335\tvalid_0's multi_logloss: 1.17559                  \n",
      "[13]\tvalid_0's auc_mu: 0.960539\tvalid_0's multi_logloss: 1.15096                  \n",
      "[14]\tvalid_0's auc_mu: 0.961416\tvalid_0's multi_logloss: 1.1286                   \n",
      "[15]\tvalid_0's auc_mu: 0.961614\tvalid_0's multi_logloss: 1.10856                  \n",
      "[16]\tvalid_0's auc_mu: 0.961721\tvalid_0's multi_logloss: 1.09167                  \n",
      "[17]\tvalid_0's auc_mu: 0.962208\tvalid_0's multi_logloss: 1.07619                  \n",
      "[18]\tvalid_0's auc_mu: 0.962087\tvalid_0's multi_logloss: 1.06241                  \n",
      "[19]\tvalid_0's auc_mu: 0.961756\tvalid_0's multi_logloss: 1.05127                  \n",
      "[20]\tvalid_0's auc_mu: 0.962456\tvalid_0's multi_logloss: 1.0386                   \n",
      "[21]\tvalid_0's auc_mu: 0.962491\tvalid_0's multi_logloss: 1.02966                  \n",
      "[22]\tvalid_0's auc_mu: 0.962813\tvalid_0's multi_logloss: 1.02003                  \n",
      "[23]\tvalid_0's auc_mu: 0.963002\tvalid_0's multi_logloss: 1.01198                  \n",
      "[24]\tvalid_0's auc_mu: 0.963121\tvalid_0's multi_logloss: 1.00361                  \n",
      "[25]\tvalid_0's auc_mu: 0.963227\tvalid_0's multi_logloss: 0.997878                 \n",
      "[26]\tvalid_0's auc_mu: 0.963213\tvalid_0's multi_logloss: 0.990539                 \n",
      "[27]\tvalid_0's auc_mu: 0.963294\tvalid_0's multi_logloss: 0.985137                 \n",
      "[28]\tvalid_0's auc_mu: 0.963426\tvalid_0's multi_logloss: 0.980055                 \n",
      "[29]\tvalid_0's auc_mu: 0.963568\tvalid_0's multi_logloss: 0.974657                 \n",
      "[30]\tvalid_0's auc_mu: 0.963651\tvalid_0's multi_logloss: 0.969762                 \n",
      "[31]\tvalid_0's auc_mu: 0.963539\tvalid_0's multi_logloss: 0.966216                 \n",
      "[32]\tvalid_0's auc_mu: 0.96365\tvalid_0's multi_logloss: 0.963406                  \n",
      "[33]\tvalid_0's auc_mu: 0.963545\tvalid_0's multi_logloss: 0.960905                 \n",
      "[34]\tvalid_0's auc_mu: 0.963727\tvalid_0's multi_logloss: 0.958036                 \n",
      "[35]\tvalid_0's auc_mu: 0.96374\tvalid_0's multi_logloss: 0.954644                  \n",
      "[36]\tvalid_0's auc_mu: 0.963708\tvalid_0's multi_logloss: 0.952243                 \n",
      "[37]\tvalid_0's auc_mu: 0.963527\tvalid_0's multi_logloss: 0.949536                 \n",
      "[38]\tvalid_0's auc_mu: 0.963754\tvalid_0's multi_logloss: 0.947765                 \n",
      "[39]\tvalid_0's auc_mu: 0.963784\tvalid_0's multi_logloss: 0.945888                 \n",
      "[40]\tvalid_0's auc_mu: 0.963825\tvalid_0's multi_logloss: 0.944242                 \n",
      "[41]\tvalid_0's auc_mu: 0.963911\tvalid_0's multi_logloss: 0.942344                 \n",
      "[42]\tvalid_0's auc_mu: 0.964197\tvalid_0's multi_logloss: 0.940614                 \n",
      "[43]\tvalid_0's auc_mu: 0.964189\tvalid_0's multi_logloss: 0.939494                 \n",
      "[44]\tvalid_0's auc_mu: 0.964264\tvalid_0's multi_logloss: 0.938115                 \n",
      "[45]\tvalid_0's auc_mu: 0.964328\tvalid_0's multi_logloss: 0.936874                 \n",
      "[46]\tvalid_0's auc_mu: 0.964305\tvalid_0's multi_logloss: 0.935949                 \n",
      "[47]\tvalid_0's auc_mu: 0.96431\tvalid_0's multi_logloss: 0.934869                  \n",
      "[48]\tvalid_0's auc_mu: 0.964336\tvalid_0's multi_logloss: 0.933881                 \n",
      "[49]\tvalid_0's auc_mu: 0.964369\tvalid_0's multi_logloss: 0.932731                 \n",
      "[50]\tvalid_0's auc_mu: 0.964373\tvalid_0's multi_logloss: 0.9319                   \n",
      "[51]\tvalid_0's auc_mu: 0.964374\tvalid_0's multi_logloss: 0.931336                 \n",
      "[52]\tvalid_0's auc_mu: 0.964399\tvalid_0's multi_logloss: 0.930957                 \n",
      "[53]\tvalid_0's auc_mu: 0.964414\tvalid_0's multi_logloss: 0.93055                  \n",
      "[54]\tvalid_0's auc_mu: 0.964419\tvalid_0's multi_logloss: 0.930258                 \n",
      "[55]\tvalid_0's auc_mu: 0.964424\tvalid_0's multi_logloss: 0.929992                 \n",
      "[56]\tvalid_0's auc_mu: 0.964432\tvalid_0's multi_logloss: 0.930039                 \n",
      "[57]\tvalid_0's auc_mu: 0.964443\tvalid_0's multi_logloss: 0.929835                 \n",
      "[58]\tvalid_0's auc_mu: 0.964441\tvalid_0's multi_logloss: 0.929592                 \n",
      "[59]\tvalid_0's auc_mu: 0.964441\tvalid_0's multi_logloss: 0.929388                 \n",
      "[60]\tvalid_0's auc_mu: 0.964435\tvalid_0's multi_logloss: 0.929142                 \n",
      "[61]\tvalid_0's auc_mu: 0.964437\tvalid_0's multi_logloss: 0.92905                  \n",
      "[62]\tvalid_0's auc_mu: 0.964446\tvalid_0's multi_logloss: 0.92886                  \n",
      "[63]\tvalid_0's auc_mu: 0.96445\tvalid_0's multi_logloss: 0.928763                  \n",
      "[64]\tvalid_0's auc_mu: 0.964537\tvalid_0's multi_logloss: 0.928461                 \n",
      "[65]\tvalid_0's auc_mu: 0.964538\tvalid_0's multi_logloss: 0.928309                 \n",
      "[66]\tvalid_0's auc_mu: 0.964546\tvalid_0's multi_logloss: 0.928269                 \n",
      "[67]\tvalid_0's auc_mu: 0.964546\tvalid_0's multi_logloss: 0.928127                 \n",
      "[68]\tvalid_0's auc_mu: 0.964546\tvalid_0's multi_logloss: 0.928079                 \n",
      "[69]\tvalid_0's auc_mu: 0.964547\tvalid_0's multi_logloss: 0.928048                 \n",
      "[70]\tvalid_0's auc_mu: 0.964547\tvalid_0's multi_logloss: 0.92802                  \n",
      "[71]\tvalid_0's auc_mu: 0.964547\tvalid_0's multi_logloss: 0.928069                 \n",
      "[72]\tvalid_0's auc_mu: 0.964548\tvalid_0's multi_logloss: 0.928                    \n",
      "[73]\tvalid_0's auc_mu: 0.964553\tvalid_0's multi_logloss: 0.928015                 \n",
      "[74]\tvalid_0's auc_mu: 0.964553\tvalid_0's multi_logloss: 0.927996                 \n",
      "[75]\tvalid_0's auc_mu: 0.964553\tvalid_0's multi_logloss: 0.927977                 \n",
      "[76]\tvalid_0's auc_mu: 0.964553\tvalid_0's multi_logloss: 0.927959                 \n",
      "[77]\tvalid_0's auc_mu: 0.964553\tvalid_0's multi_logloss: 0.92793                  \n",
      "[78]\tvalid_0's auc_mu: 0.964553\tvalid_0's multi_logloss: 0.927915                 \n",
      "[79]\tvalid_0's auc_mu: 0.964553\tvalid_0's multi_logloss: 0.9279                   \n",
      "[80]\tvalid_0's auc_mu: 0.964553\tvalid_0's multi_logloss: 0.927886                 \n",
      "[81]\tvalid_0's auc_mu: 0.964553\tvalid_0's multi_logloss: 0.927873                 \n",
      "[82]\tvalid_0's auc_mu: 0.964553\tvalid_0's multi_logloss: 0.92786                  \n",
      "[83]\tvalid_0's auc_mu: 0.964553\tvalid_0's multi_logloss: 0.927849                 \n",
      "[84]\tvalid_0's auc_mu: 0.964553\tvalid_0's multi_logloss: 0.927837                 \n",
      "[85]\tvalid_0's auc_mu: 0.964553\tvalid_0's multi_logloss: 0.927827                 \n",
      "[86]\tvalid_0's auc_mu: 0.964553\tvalid_0's multi_logloss: 0.927817                 \n",
      "[87]\tvalid_0's auc_mu: 0.964553\tvalid_0's multi_logloss: 0.927807                 \n",
      "Did not meet early stopping. Best iteration is:                                   \n",
      "[75]\tvalid_0's auc_mu: 0.964553\tvalid_0's multi_logloss: 0.927977\n",
      "[1]\tvalid_0's auc_mu: 0.931591\tvalid_0's multi_logloss: 1.9004                    \n",
      "Training until validation scores don't improve for 15 rounds                      \n",
      "[2]\tvalid_0's auc_mu: 0.942241\tvalid_0's multi_logloss: 1.62999                   \n",
      "[3]\tvalid_0's auc_mu: 0.954165\tvalid_0's multi_logloss: 1.44604                   \n",
      "[4]\tvalid_0's auc_mu: 0.957469\tvalid_0's multi_logloss: 1.31086                   \n",
      "[5]\tvalid_0's auc_mu: 0.957862\tvalid_0's multi_logloss: 1.20357                   \n",
      "[6]\tvalid_0's auc_mu: 0.958442\tvalid_0's multi_logloss: 1.11797                   \n",
      "[7]\tvalid_0's auc_mu: 0.959671\tvalid_0's multi_logloss: 1.04555                   \n",
      "[8]\tvalid_0's auc_mu: 0.958139\tvalid_0's multi_logloss: 0.989922                  \n",
      "[9]\tvalid_0's auc_mu: 0.960141\tvalid_0's multi_logloss: 0.941231                  \n",
      "[10]\tvalid_0's auc_mu: 0.959671\tvalid_0's multi_logloss: 0.903089                 \n",
      "[11]\tvalid_0's auc_mu: 0.961555\tvalid_0's multi_logloss: 0.866756                 \n",
      "[12]\tvalid_0's auc_mu: 0.962985\tvalid_0's multi_logloss: 0.837824                 \n",
      "[13]\tvalid_0's auc_mu: 0.964553\tvalid_0's multi_logloss: 0.813355                 \n",
      "Did not meet early stopping. Best iteration is:                                   \n",
      "[13]\tvalid_0's auc_mu: 0.964553\tvalid_0's multi_logloss: 0.813355\n",
      "[1]\tvalid_0's auc_mu: 0.779336\tvalid_0's multi_logloss: 2.15649                   \n",
      "Training until validation scores don't improve for 15 rounds                      \n",
      "[2]\tvalid_0's auc_mu: 0.788942\tvalid_0's multi_logloss: 2.04646                   \n",
      "[3]\tvalid_0's auc_mu: 0.789721\tvalid_0's multi_logloss: 1.9619                    \n",
      "[4]\tvalid_0's auc_mu: 0.790224\tvalid_0's multi_logloss: 1.8949                    \n",
      "[5]\tvalid_0's auc_mu: 0.790938\tvalid_0's multi_logloss: 1.83959                   \n",
      "[6]\tvalid_0's auc_mu: 0.791747\tvalid_0's multi_logloss: 1.79343                   \n",
      "[7]\tvalid_0's auc_mu: 0.791619\tvalid_0's multi_logloss: 1.75453                   \n",
      "[8]\tvalid_0's auc_mu: 0.792107\tvalid_0's multi_logloss: 1.72098                   \n",
      "[9]\tvalid_0's auc_mu: 0.792096\tvalid_0's multi_logloss: 1.69259                   \n",
      "[10]\tvalid_0's auc_mu: 0.792259\tvalid_0's multi_logloss: 1.66793                  \n",
      "[11]\tvalid_0's auc_mu: 0.793748\tvalid_0's multi_logloss: 1.64743                  \n",
      "[12]\tvalid_0's auc_mu: 0.798066\tvalid_0's multi_logloss: 1.62632                  \n",
      "[13]\tvalid_0's auc_mu: 0.804331\tvalid_0's multi_logloss: 1.60635                  \n",
      "[14]\tvalid_0's auc_mu: 0.805086\tvalid_0's multi_logloss: 1.59138                  \n",
      "[15]\tvalid_0's auc_mu: 0.805452\tvalid_0's multi_logloss: 1.5768                   \n",
      "[16]\tvalid_0's auc_mu: 0.805933\tvalid_0's multi_logloss: 1.56365                  \n",
      "[17]\tvalid_0's auc_mu: 0.806012\tvalid_0's multi_logloss: 1.55305                  \n",
      "[18]\tvalid_0's auc_mu: 0.806301\tvalid_0's multi_logloss: 1.54325                  \n",
      "[19]\tvalid_0's auc_mu: 0.805798\tvalid_0's multi_logloss: 1.53124                  \n",
      "[20]\tvalid_0's auc_mu: 0.805786\tvalid_0's multi_logloss: 1.5234                   \n",
      "[21]\tvalid_0's auc_mu: 0.805767\tvalid_0's multi_logloss: 1.5149                   \n",
      "[22]\tvalid_0's auc_mu: 0.806609\tvalid_0's multi_logloss: 1.50857                  \n",
      "[23]\tvalid_0's auc_mu: 0.806624\tvalid_0's multi_logloss: 1.50229                  \n",
      "[24]\tvalid_0's auc_mu: 0.807036\tvalid_0's multi_logloss: 1.49658                  \n",
      "[25]\tvalid_0's auc_mu: 0.807494\tvalid_0's multi_logloss: 1.48955                  \n",
      "[26]\tvalid_0's auc_mu: 0.80748\tvalid_0's multi_logloss: 1.48587                   \n",
      "[27]\tvalid_0's auc_mu: 0.807428\tvalid_0's multi_logloss: 1.4817                   \n",
      "[28]\tvalid_0's auc_mu: 0.807561\tvalid_0's multi_logloss: 1.47824                  \n",
      "[29]\tvalid_0's auc_mu: 0.807238\tvalid_0's multi_logloss: 1.47519                  \n",
      "[30]\tvalid_0's auc_mu: 0.807264\tvalid_0's multi_logloss: 1.47222                  \n",
      "[31]\tvalid_0's auc_mu: 0.807258\tvalid_0's multi_logloss: 1.47011                  \n",
      "[32]\tvalid_0's auc_mu: 0.807314\tvalid_0's multi_logloss: 1.46656                  \n",
      "[33]\tvalid_0's auc_mu: 0.807405\tvalid_0's multi_logloss: 1.46281                  \n",
      "[34]\tvalid_0's auc_mu: 0.80738\tvalid_0's multi_logloss: 1.46014                   \n",
      "[35]\tvalid_0's auc_mu: 0.807447\tvalid_0's multi_logloss: 1.4574                   \n",
      "[36]\tvalid_0's auc_mu: 0.807448\tvalid_0's multi_logloss: 1.45534                  \n",
      "[37]\tvalid_0's auc_mu: 0.8074\tvalid_0's multi_logloss: 1.45212                    \n",
      "[38]\tvalid_0's auc_mu: 0.807401\tvalid_0's multi_logloss: 1.45075                  \n",
      "[39]\tvalid_0's auc_mu: 0.807565\tvalid_0's multi_logloss: 1.44849                  \n",
      "[40]\tvalid_0's auc_mu: 0.80749\tvalid_0's multi_logloss: 1.44726                   \n",
      "[41]\tvalid_0's auc_mu: 0.807584\tvalid_0's multi_logloss: 1.44596                  \n",
      "[42]\tvalid_0's auc_mu: 0.80744\tvalid_0's multi_logloss: 1.44315                   \n",
      "[43]\tvalid_0's auc_mu: 0.8072\tvalid_0's multi_logloss: 1.44014                    \n",
      "[44]\tvalid_0's auc_mu: 0.807343\tvalid_0's multi_logloss: 1.43911                  \n",
      "[45]\tvalid_0's auc_mu: 0.807294\tvalid_0's multi_logloss: 1.43808                  \n",
      "[46]\tvalid_0's auc_mu: 0.807286\tvalid_0's multi_logloss: 1.43719                  \n",
      "[47]\tvalid_0's auc_mu: 0.807298\tvalid_0's multi_logloss: 1.43684                  \n",
      "[48]\tvalid_0's auc_mu: 0.807315\tvalid_0's multi_logloss: 1.43605                  \n",
      "[49]\tvalid_0's auc_mu: 0.807425\tvalid_0's multi_logloss: 1.43494                  \n",
      "[50]\tvalid_0's auc_mu: 0.807375\tvalid_0's multi_logloss: 1.43395                  \n",
      "[51]\tvalid_0's auc_mu: 0.807383\tvalid_0's multi_logloss: 1.43281                  \n",
      "[52]\tvalid_0's auc_mu: 0.8074\tvalid_0's multi_logloss: 1.43163                    \n",
      "[53]\tvalid_0's auc_mu: 0.807406\tvalid_0's multi_logloss: 1.43079                  \n",
      "[54]\tvalid_0's auc_mu: 0.807327\tvalid_0's multi_logloss: 1.42958                  \n",
      "[55]\tvalid_0's auc_mu: 0.807383\tvalid_0's multi_logloss: 1.42867                  \n",
      "[56]\tvalid_0's auc_mu: 0.807393\tvalid_0's multi_logloss: 1.42767                  \n",
      "Early stopping, best iteration is:                                                \n",
      "[41]\tvalid_0's auc_mu: 0.807584\tvalid_0's multi_logloss: 1.44596\n",
      "[1]\tvalid_0's auc_mu: 0.937317\tvalid_0's multi_logloss: 1.93276                   \n",
      "Training until validation scores don't improve for 15 rounds                      \n",
      "[2]\tvalid_0's auc_mu: 0.946977\tvalid_0's multi_logloss: 1.66499                   \n",
      "[3]\tvalid_0's auc_mu: 0.955146\tvalid_0's multi_logloss: 1.47985                   \n",
      "[4]\tvalid_0's auc_mu: 0.957594\tvalid_0's multi_logloss: 1.34366                   \n",
      "[5]\tvalid_0's auc_mu: 0.960865\tvalid_0's multi_logloss: 1.23539                   \n",
      "[6]\tvalid_0's auc_mu: 0.96258\tvalid_0's multi_logloss: 1.14527                    \n",
      "[7]\tvalid_0's auc_mu: 0.962594\tvalid_0's multi_logloss: 1.07506                   \n",
      "[8]\tvalid_0's auc_mu: 0.963891\tvalid_0's multi_logloss: 1.01393                   \n",
      "[9]\tvalid_0's auc_mu: 0.964894\tvalid_0's multi_logloss: 0.964626                  \n",
      "[10]\tvalid_0's auc_mu: 0.966417\tvalid_0's multi_logloss: 0.924074                 \n",
      "[11]\tvalid_0's auc_mu: 0.967158\tvalid_0's multi_logloss: 0.889874                 \n",
      "[12]\tvalid_0's auc_mu: 0.967384\tvalid_0's multi_logloss: 0.859158                 \n",
      "[13]\tvalid_0's auc_mu: 0.967603\tvalid_0's multi_logloss: 0.832804                 \n",
      "[14]\tvalid_0's auc_mu: 0.968825\tvalid_0's multi_logloss: 0.809772                 \n",
      "[15]\tvalid_0's auc_mu: 0.96895\tvalid_0's multi_logloss: 0.79061                   \n",
      "[16]\tvalid_0's auc_mu: 0.96943\tvalid_0's multi_logloss: 0.77311                   \n",
      "[17]\tvalid_0's auc_mu: 0.969951\tvalid_0's multi_logloss: 0.756844                 \n",
      "[18]\tvalid_0's auc_mu: 0.970301\tvalid_0's multi_logloss: 0.744335                 \n",
      "[19]\tvalid_0's auc_mu: 0.97098\tvalid_0's multi_logloss: 0.732218                  \n",
      "[20]\tvalid_0's auc_mu: 0.971445\tvalid_0's multi_logloss: 0.722598                 \n",
      "[21]\tvalid_0's auc_mu: 0.971132\tvalid_0's multi_logloss: 0.713847                 \n",
      "[22]\tvalid_0's auc_mu: 0.970668\tvalid_0's multi_logloss: 0.707663                 \n",
      "[23]\tvalid_0's auc_mu: 0.971037\tvalid_0's multi_logloss: 0.700683                 \n",
      "[24]\tvalid_0's auc_mu: 0.970887\tvalid_0's multi_logloss: 0.694577                 \n",
      "[25]\tvalid_0's auc_mu: 0.970471\tvalid_0's multi_logloss: 0.688692                 \n",
      "[26]\tvalid_0's auc_mu: 0.970385\tvalid_0's multi_logloss: 0.68396                  \n",
      "[27]\tvalid_0's auc_mu: 0.970241\tvalid_0's multi_logloss: 0.679529                 \n",
      "[28]\tvalid_0's auc_mu: 0.969704\tvalid_0's multi_logloss: 0.676702                 \n",
      "[29]\tvalid_0's auc_mu: 0.97036\tvalid_0's multi_logloss: 0.672561                  \n",
      "[30]\tvalid_0's auc_mu: 0.970207\tvalid_0's multi_logloss: 0.670164                 \n",
      "[31]\tvalid_0's auc_mu: 0.969503\tvalid_0's multi_logloss: 0.667068                 \n",
      "[32]\tvalid_0's auc_mu: 0.969715\tvalid_0's multi_logloss: 0.6643                   \n",
      "[33]\tvalid_0's auc_mu: 0.969966\tvalid_0's multi_logloss: 0.663332                 \n",
      "[34]\tvalid_0's auc_mu: 0.969901\tvalid_0's multi_logloss: 0.661676                 \n",
      "[35]\tvalid_0's auc_mu: 0.96976\tvalid_0's multi_logloss: 0.658989                  \n",
      "Early stopping, best iteration is:                                                \n",
      "[20]\tvalid_0's auc_mu: 0.971445\tvalid_0's multi_logloss: 0.722598\n",
      "[1]\tvalid_0's auc_mu: 0.944642\tvalid_0's multi_logloss: 1.92308                   \n",
      "Training until validation scores don't improve for 15 rounds                      \n",
      "[2]\tvalid_0's auc_mu: 0.943129\tvalid_0's multi_logloss: 1.6581                    \n",
      "[3]\tvalid_0's auc_mu: 0.948194\tvalid_0's multi_logloss: 1.47482                   \n",
      "[4]\tvalid_0's auc_mu: 0.95364\tvalid_0's multi_logloss: 1.3363                     \n",
      "[5]\tvalid_0's auc_mu: 0.954992\tvalid_0's multi_logloss: 1.2307                    \n",
      "[6]\tvalid_0's auc_mu: 0.956787\tvalid_0's multi_logloss: 1.14377                   \n",
      "[7]\tvalid_0's auc_mu: 0.957802\tvalid_0's multi_logloss: 1.07129                   \n",
      "[8]\tvalid_0's auc_mu: 0.960324\tvalid_0's multi_logloss: 1.01275                   \n",
      "[9]\tvalid_0's auc_mu: 0.960368\tvalid_0's multi_logloss: 0.963248                  \n",
      "[10]\tvalid_0's auc_mu: 0.961918\tvalid_0's multi_logloss: 0.921173                 \n",
      "[11]\tvalid_0's auc_mu: 0.962967\tvalid_0's multi_logloss: 0.884827                 \n",
      "[12]\tvalid_0's auc_mu: 0.962481\tvalid_0's multi_logloss: 0.857081                 \n",
      "[13]\tvalid_0's auc_mu: 0.963285\tvalid_0's multi_logloss: 0.831684                 \n",
      "[14]\tvalid_0's auc_mu: 0.963837\tvalid_0's multi_logloss: 0.809684                 \n",
      "[15]\tvalid_0's auc_mu: 0.964107\tvalid_0's multi_logloss: 0.78909                  \n",
      "[16]\tvalid_0's auc_mu: 0.964936\tvalid_0's multi_logloss: 0.770983                 \n",
      "[17]\tvalid_0's auc_mu: 0.964696\tvalid_0's multi_logloss: 0.755662                 \n",
      "[18]\tvalid_0's auc_mu: 0.96527\tvalid_0's multi_logloss: 0.742402                  \n",
      "[19]\tvalid_0's auc_mu: 0.965068\tvalid_0's multi_logloss: 0.732488                 \n",
      "[20]\tvalid_0's auc_mu: 0.966479\tvalid_0's multi_logloss: 0.720013                 \n",
      "[21]\tvalid_0's auc_mu: 0.966835\tvalid_0's multi_logloss: 0.712572                 \n",
      "[22]\tvalid_0's auc_mu: 0.966526\tvalid_0's multi_logloss: 0.705675                 \n",
      "[23]\tvalid_0's auc_mu: 0.966781\tvalid_0's multi_logloss: 0.698318                 \n",
      "[24]\tvalid_0's auc_mu: 0.966719\tvalid_0's multi_logloss: 0.691913                 \n",
      "[25]\tvalid_0's auc_mu: 0.966802\tvalid_0's multi_logloss: 0.686411                 \n",
      "[26]\tvalid_0's auc_mu: 0.966925\tvalid_0's multi_logloss: 0.68284                  \n",
      "[27]\tvalid_0's auc_mu: 0.967237\tvalid_0's multi_logloss: 0.678274                 \n",
      "[28]\tvalid_0's auc_mu: 0.9673\tvalid_0's multi_logloss: 0.673879                   \n",
      "[29]\tvalid_0's auc_mu: 0.967006\tvalid_0's multi_logloss: 0.671025                 \n",
      "[30]\tvalid_0's auc_mu: 0.966765\tvalid_0's multi_logloss: 0.668776                 \n",
      "[31]\tvalid_0's auc_mu: 0.967081\tvalid_0's multi_logloss: 0.665948                 \n",
      "[32]\tvalid_0's auc_mu: 0.967171\tvalid_0's multi_logloss: 0.663391                 \n",
      "[33]\tvalid_0's auc_mu: 0.966563\tvalid_0's multi_logloss: 0.662579                 \n",
      "[34]\tvalid_0's auc_mu: 0.966324\tvalid_0's multi_logloss: 0.661193                 \n",
      "[35]\tvalid_0's auc_mu: 0.966347\tvalid_0's multi_logloss: 0.660289                 \n",
      "[36]\tvalid_0's auc_mu: 0.966972\tvalid_0's multi_logloss: 0.658912                 \n",
      "[37]\tvalid_0's auc_mu: 0.966904\tvalid_0's multi_logloss: 0.656932                 \n",
      "[38]\tvalid_0's auc_mu: 0.967209\tvalid_0's multi_logloss: 0.656037                 \n",
      "[39]\tvalid_0's auc_mu: 0.967288\tvalid_0's multi_logloss: 0.653926                 \n",
      "[40]\tvalid_0's auc_mu: 0.967977\tvalid_0's multi_logloss: 0.652946                 \n",
      "[41]\tvalid_0's auc_mu: 0.968242\tvalid_0's multi_logloss: 0.651776                 \n",
      "[42]\tvalid_0's auc_mu: 0.967986\tvalid_0's multi_logloss: 0.651434                 \n",
      "[43]\tvalid_0's auc_mu: 0.967329\tvalid_0's multi_logloss: 0.650404                 \n",
      "[44]\tvalid_0's auc_mu: 0.967402\tvalid_0's multi_logloss: 0.649915                 \n",
      "[45]\tvalid_0's auc_mu: 0.967189\tvalid_0's multi_logloss: 0.650575                 \n",
      "[46]\tvalid_0's auc_mu: 0.967332\tvalid_0's multi_logloss: 0.65084                  \n",
      "[47]\tvalid_0's auc_mu: 0.966702\tvalid_0's multi_logloss: 0.651613                 \n",
      "[48]\tvalid_0's auc_mu: 0.966448\tvalid_0's multi_logloss: 0.651936                 \n",
      "[49]\tvalid_0's auc_mu: 0.966296\tvalid_0's multi_logloss: 0.652101                 \n",
      "[50]\tvalid_0's auc_mu: 0.96646\tvalid_0's multi_logloss: 0.65286                   \n",
      "[51]\tvalid_0's auc_mu: 0.966063\tvalid_0's multi_logloss: 0.652837                 \n",
      "[52]\tvalid_0's auc_mu: 0.966167\tvalid_0's multi_logloss: 0.653515                 \n",
      "[53]\tvalid_0's auc_mu: 0.965698\tvalid_0's multi_logloss: 0.654526                 \n",
      "[54]\tvalid_0's auc_mu: 0.965688\tvalid_0's multi_logloss: 0.65558                  \n",
      "[55]\tvalid_0's auc_mu: 0.965837\tvalid_0's multi_logloss: 0.656528                 \n",
      "[56]\tvalid_0's auc_mu: 0.965678\tvalid_0's multi_logloss: 0.657028                 \n",
      "Early stopping, best iteration is:                                                \n",
      "[41]\tvalid_0's auc_mu: 0.968242\tvalid_0's multi_logloss: 0.651776\n",
      "[1]\tvalid_0's auc_mu: 0.947127\tvalid_0's multi_logloss: 1.95302                   \n",
      "Training until validation scores don't improve for 15 rounds                      \n",
      "[2]\tvalid_0's auc_mu: 0.955838\tvalid_0's multi_logloss: 1.69515                   \n",
      "[3]\tvalid_0's auc_mu: 0.953734\tvalid_0's multi_logloss: 1.52131                   \n",
      "[4]\tvalid_0's auc_mu: 0.957632\tvalid_0's multi_logloss: 1.39085                   \n",
      "[5]\tvalid_0's auc_mu: 0.958872\tvalid_0's multi_logloss: 1.28154                   \n",
      "[6]\tvalid_0's auc_mu: 0.961734\tvalid_0's multi_logloss: 1.19458                   \n",
      "[7]\tvalid_0's auc_mu: 0.964979\tvalid_0's multi_logloss: 1.12377                   \n",
      "[8]\tvalid_0's auc_mu: 0.965758\tvalid_0's multi_logloss: 1.06523                   \n",
      "[9]\tvalid_0's auc_mu: 0.967146\tvalid_0's multi_logloss: 1.01458                   \n",
      "[10]\tvalid_0's auc_mu: 0.968233\tvalid_0's multi_logloss: 0.97449                  \n",
      "[11]\tvalid_0's auc_mu: 0.967938\tvalid_0's multi_logloss: 0.937107                 \n",
      "[12]\tvalid_0's auc_mu: 0.968281\tvalid_0's multi_logloss: 0.907439                 \n",
      "[13]\tvalid_0's auc_mu: 0.968588\tvalid_0's multi_logloss: 0.881179                 \n",
      "[14]\tvalid_0's auc_mu: 0.969716\tvalid_0's multi_logloss: 0.858144                 \n",
      "[15]\tvalid_0's auc_mu: 0.969818\tvalid_0's multi_logloss: 0.837956                 \n",
      "[16]\tvalid_0's auc_mu: 0.969625\tvalid_0's multi_logloss: 0.820947                 \n",
      "[17]\tvalid_0's auc_mu: 0.968785\tvalid_0's multi_logloss: 0.806057                 \n",
      "[18]\tvalid_0's auc_mu: 0.96818\tvalid_0's multi_logloss: 0.791269                  \n",
      "[19]\tvalid_0's auc_mu: 0.968289\tvalid_0's multi_logloss: 0.777878                 \n",
      "[20]\tvalid_0's auc_mu: 0.968693\tvalid_0's multi_logloss: 0.767848                 \n",
      "[21]\tvalid_0's auc_mu: 0.968782\tvalid_0's multi_logloss: 0.758622                 \n",
      "[22]\tvalid_0's auc_mu: 0.969346\tvalid_0's multi_logloss: 0.750674                 \n",
      "[23]\tvalid_0's auc_mu: 0.969528\tvalid_0's multi_logloss: 0.743455                 \n",
      "[24]\tvalid_0's auc_mu: 0.970012\tvalid_0's multi_logloss: 0.734696                 \n",
      "[25]\tvalid_0's auc_mu: 0.970116\tvalid_0's multi_logloss: 0.727512                 \n",
      "[26]\tvalid_0's auc_mu: 0.970088\tvalid_0's multi_logloss: 0.721065                 \n",
      "[27]\tvalid_0's auc_mu: 0.969865\tvalid_0's multi_logloss: 0.715807                 \n",
      "[28]\tvalid_0's auc_mu: 0.969601\tvalid_0's multi_logloss: 0.709618                 \n",
      "[29]\tvalid_0's auc_mu: 0.968861\tvalid_0's multi_logloss: 0.705436                 \n",
      "[30]\tvalid_0's auc_mu: 0.969401\tvalid_0's multi_logloss: 0.700475                 \n",
      "[31]\tvalid_0's auc_mu: 0.969396\tvalid_0's multi_logloss: 0.695441                 \n",
      "[32]\tvalid_0's auc_mu: 0.969432\tvalid_0's multi_logloss: 0.692377                 \n",
      "[33]\tvalid_0's auc_mu: 0.969492\tvalid_0's multi_logloss: 0.68788                  \n",
      "[34]\tvalid_0's auc_mu: 0.969097\tvalid_0's multi_logloss: 0.685212                 \n",
      "[35]\tvalid_0's auc_mu: 0.969046\tvalid_0's multi_logloss: 0.682582                 \n",
      "[36]\tvalid_0's auc_mu: 0.968501\tvalid_0's multi_logloss: 0.680012                 \n",
      "[37]\tvalid_0's auc_mu: 0.969191\tvalid_0's multi_logloss: 0.676583                 \n",
      "[38]\tvalid_0's auc_mu: 0.969995\tvalid_0's multi_logloss: 0.673613                 \n",
      "[39]\tvalid_0's auc_mu: 0.96936\tvalid_0's multi_logloss: 0.671249                  \n",
      "[40]\tvalid_0's auc_mu: 0.969513\tvalid_0's multi_logloss: 0.668926                 \n",
      "Early stopping, best iteration is:                                                \n",
      "[25]\tvalid_0's auc_mu: 0.970116\tvalid_0's multi_logloss: 0.727512\n",
      "[1]\tvalid_0's auc_mu: 0.928039\tvalid_0's multi_logloss: 1.62832                   \n",
      "Training until validation scores don't improve for 15 rounds                      \n",
      "[2]\tvalid_0's auc_mu: 0.935453\tvalid_0's multi_logloss: 1.41518                   \n",
      "[3]\tvalid_0's auc_mu: 0.940558\tvalid_0's multi_logloss: 1.26425                   \n",
      "[4]\tvalid_0's auc_mu: 0.943827\tvalid_0's multi_logloss: 1.15177                   \n",
      "[5]\tvalid_0's auc_mu: 0.947416\tvalid_0's multi_logloss: 1.06733                   \n",
      "[6]\tvalid_0's auc_mu: 0.953266\tvalid_0's multi_logloss: 0.995302                  \n",
      "[7]\tvalid_0's auc_mu: 0.95703\tvalid_0's multi_logloss: 0.936415                   \n",
      "[8]\tvalid_0's auc_mu: 0.958104\tvalid_0's multi_logloss: 0.887085                  \n",
      "[9]\tvalid_0's auc_mu: 0.959684\tvalid_0's multi_logloss: 0.847976                  \n",
      "[10]\tvalid_0's auc_mu: 0.96074\tvalid_0's multi_logloss: 0.815585                  \n",
      "[11]\tvalid_0's auc_mu: 0.960918\tvalid_0's multi_logloss: 0.793809                 \n",
      "[12]\tvalid_0's auc_mu: 0.960893\tvalid_0's multi_logloss: 0.776726                 \n",
      "[13]\tvalid_0's auc_mu: 0.961659\tvalid_0's multi_logloss: 0.758632                 \n",
      "[14]\tvalid_0's auc_mu: 0.962496\tvalid_0's multi_logloss: 0.742659                 \n",
      "[15]\tvalid_0's auc_mu: 0.962469\tvalid_0's multi_logloss: 0.72888                  \n",
      "[16]\tvalid_0's auc_mu: 0.962191\tvalid_0's multi_logloss: 0.720217                 \n",
      "[17]\tvalid_0's auc_mu: 0.963088\tvalid_0's multi_logloss: 0.708507                 \n",
      "[18]\tvalid_0's auc_mu: 0.961602\tvalid_0's multi_logloss: 0.699788                 \n",
      "[19]\tvalid_0's auc_mu: 0.961743\tvalid_0's multi_logloss: 0.693735                 \n",
      "[20]\tvalid_0's auc_mu: 0.961752\tvalid_0's multi_logloss: 0.685345                 \n",
      "[21]\tvalid_0's auc_mu: 0.962274\tvalid_0's multi_logloss: 0.675817                 \n",
      "[22]\tvalid_0's auc_mu: 0.962538\tvalid_0's multi_logloss: 0.670391                 \n",
      "[23]\tvalid_0's auc_mu: 0.96283\tvalid_0's multi_logloss: 0.666523                  \n",
      "[24]\tvalid_0's auc_mu: 0.962106\tvalid_0's multi_logloss: 0.664923                 \n",
      "[25]\tvalid_0's auc_mu: 0.962847\tvalid_0's multi_logloss: 0.659906                 \n",
      "[26]\tvalid_0's auc_mu: 0.961701\tvalid_0's multi_logloss: 0.656043                 \n",
      "[27]\tvalid_0's auc_mu: 0.96126\tvalid_0's multi_logloss: 0.655706                  \n",
      "[28]\tvalid_0's auc_mu: 0.961943\tvalid_0's multi_logloss: 0.654395                 \n",
      "[29]\tvalid_0's auc_mu: 0.96147\tvalid_0's multi_logloss: 0.651317                  \n",
      "[30]\tvalid_0's auc_mu: 0.960885\tvalid_0's multi_logloss: 0.65004                  \n",
      "[31]\tvalid_0's auc_mu: 0.961733\tvalid_0's multi_logloss: 0.64842                  \n",
      "[32]\tvalid_0's auc_mu: 0.96471\tvalid_0's multi_logloss: 0.646392                  \n",
      "[33]\tvalid_0's auc_mu: 0.964515\tvalid_0's multi_logloss: 0.647207                 \n",
      "[34]\tvalid_0's auc_mu: 0.963785\tvalid_0's multi_logloss: 0.648636                 \n",
      "[35]\tvalid_0's auc_mu: 0.963942\tvalid_0's multi_logloss: 0.646905                 \n",
      "[36]\tvalid_0's auc_mu: 0.964088\tvalid_0's multi_logloss: 0.645157                 \n",
      "[37]\tvalid_0's auc_mu: 0.963593\tvalid_0's multi_logloss: 0.64518                  \n",
      "[38]\tvalid_0's auc_mu: 0.962564\tvalid_0's multi_logloss: 0.647801                 \n",
      "[39]\tvalid_0's auc_mu: 0.962691\tvalid_0's multi_logloss: 0.648265                 \n",
      "[40]\tvalid_0's auc_mu: 0.962517\tvalid_0's multi_logloss: 0.646965                 \n",
      "[41]\tvalid_0's auc_mu: 0.963007\tvalid_0's multi_logloss: 0.646748                 \n",
      "[42]\tvalid_0's auc_mu: 0.962563\tvalid_0's multi_logloss: 0.647603                 \n",
      "[43]\tvalid_0's auc_mu: 0.962243\tvalid_0's multi_logloss: 0.64763                  \n",
      "[44]\tvalid_0's auc_mu: 0.961471\tvalid_0's multi_logloss: 0.648577                 \n",
      "[45]\tvalid_0's auc_mu: 0.961176\tvalid_0's multi_logloss: 0.64869                  \n",
      "[46]\tvalid_0's auc_mu: 0.960321\tvalid_0's multi_logloss: 0.649012                 \n",
      "[47]\tvalid_0's auc_mu: 0.961399\tvalid_0's multi_logloss: 0.647623                 \n",
      "Early stopping, best iteration is:                                                \n",
      "[32]\tvalid_0's auc_mu: 0.96471\tvalid_0's multi_logloss: 0.646392\n",
      "[1]\tvalid_0's auc_mu: 0.940369\tvalid_0's multi_logloss: 2.02157                   \n",
      "Training until validation scores don't improve for 15 rounds                      \n",
      "[2]\tvalid_0's auc_mu: 0.948402\tvalid_0's multi_logloss: 1.78659                   \n",
      "[3]\tvalid_0's auc_mu: 0.953281\tvalid_0's multi_logloss: 1.62966                   \n",
      "[4]\tvalid_0's auc_mu: 0.958033\tvalid_0's multi_logloss: 1.50432                   \n",
      "[5]\tvalid_0's auc_mu: 0.961911\tvalid_0's multi_logloss: 1.40497                   \n",
      "[6]\tvalid_0's auc_mu: 0.962494\tvalid_0's multi_logloss: 1.32584                   \n",
      "[7]\tvalid_0's auc_mu: 0.964118\tvalid_0's multi_logloss: 1.25872                   \n",
      "[8]\tvalid_0's auc_mu: 0.964831\tvalid_0's multi_logloss: 1.20322                   \n",
      "[9]\tvalid_0's auc_mu: 0.965156\tvalid_0's multi_logloss: 1.15808                   \n",
      "[10]\tvalid_0's auc_mu: 0.966749\tvalid_0's multi_logloss: 1.11717                  \n",
      "[11]\tvalid_0's auc_mu: 0.967464\tvalid_0's multi_logloss: 1.07923                  \n",
      "[12]\tvalid_0's auc_mu: 0.96847\tvalid_0's multi_logloss: 1.04768                   \n",
      "[13]\tvalid_0's auc_mu: 0.968339\tvalid_0's multi_logloss: 1.0215                   \n",
      "[14]\tvalid_0's auc_mu: 0.968553\tvalid_0's multi_logloss: 0.998314                 \n",
      "[15]\tvalid_0's auc_mu: 0.968375\tvalid_0's multi_logloss: 0.979397                 \n",
      "[16]\tvalid_0's auc_mu: 0.968457\tvalid_0's multi_logloss: 0.960894                 \n",
      "[17]\tvalid_0's auc_mu: 0.968686\tvalid_0's multi_logloss: 0.944233                 \n",
      "[18]\tvalid_0's auc_mu: 0.96853\tvalid_0's multi_logloss: 0.929717                  \n",
      "[19]\tvalid_0's auc_mu: 0.968768\tvalid_0's multi_logloss: 0.914949                 \n",
      "[20]\tvalid_0's auc_mu: 0.969048\tvalid_0's multi_logloss: 0.902305                 \n",
      "[21]\tvalid_0's auc_mu: 0.968809\tvalid_0's multi_logloss: 0.892445                 \n",
      "[22]\tvalid_0's auc_mu: 0.969343\tvalid_0's multi_logloss: 0.879856                 \n",
      "[23]\tvalid_0's auc_mu: 0.969183\tvalid_0's multi_logloss: 0.87092                  \n",
      "[24]\tvalid_0's auc_mu: 0.969671\tvalid_0's multi_logloss: 0.861626                 \n",
      "[25]\tvalid_0's auc_mu: 0.969536\tvalid_0's multi_logloss: 0.853204                 \n",
      "[26]\tvalid_0's auc_mu: 0.969803\tvalid_0's multi_logloss: 0.844226                 \n",
      "[27]\tvalid_0's auc_mu: 0.970329\tvalid_0's multi_logloss: 0.837607                 \n",
      "[28]\tvalid_0's auc_mu: 0.970266\tvalid_0's multi_logloss: 0.830984                 \n",
      "[29]\tvalid_0's auc_mu: 0.969644\tvalid_0's multi_logloss: 0.825204                 \n",
      "[30]\tvalid_0's auc_mu: 0.969855\tvalid_0's multi_logloss: 0.819427                 \n",
      "[31]\tvalid_0's auc_mu: 0.970124\tvalid_0's multi_logloss: 0.815416                 \n",
      "[32]\tvalid_0's auc_mu: 0.969179\tvalid_0's multi_logloss: 0.81096                  \n",
      "[33]\tvalid_0's auc_mu: 0.969398\tvalid_0's multi_logloss: 0.80613                  \n",
      "[34]\tvalid_0's auc_mu: 0.969718\tvalid_0's multi_logloss: 0.801592                 \n",
      "[35]\tvalid_0's auc_mu: 0.969345\tvalid_0's multi_logloss: 0.797452                 \n",
      "[36]\tvalid_0's auc_mu: 0.969378\tvalid_0's multi_logloss: 0.79436                  \n",
      "[37]\tvalid_0's auc_mu: 0.969464\tvalid_0's multi_logloss: 0.789824                 \n",
      "[38]\tvalid_0's auc_mu: 0.96956\tvalid_0's multi_logloss: 0.786743                  \n",
      "[39]\tvalid_0's auc_mu: 0.969554\tvalid_0's multi_logloss: 0.782977                 \n",
      "[40]\tvalid_0's auc_mu: 0.969524\tvalid_0's multi_logloss: 0.779855                 \n",
      "[41]\tvalid_0's auc_mu: 0.96963\tvalid_0's multi_logloss: 0.776661                  \n",
      "[42]\tvalid_0's auc_mu: 0.969109\tvalid_0's multi_logloss: 0.773688                 \n",
      "Early stopping, best iteration is:                                                \n",
      "[27]\tvalid_0's auc_mu: 0.970329\tvalid_0's multi_logloss: 0.837607\n",
      "[1]\tvalid_0's auc_mu: 0.934299\tvalid_0's multi_logloss: 2.42314                   \n",
      "Training until validation scores don't improve for 15 rounds                      \n",
      "[2]\tvalid_0's auc_mu: 0.937032\tvalid_0's multi_logloss: 2.25489                   \n",
      "[3]\tvalid_0's auc_mu: 0.939224\tvalid_0's multi_logloss: 2.13621                   \n",
      "[4]\tvalid_0's auc_mu: 0.939324\tvalid_0's multi_logloss: 2.04651                   \n",
      "[5]\tvalid_0's auc_mu: 0.939107\tvalid_0's multi_logloss: 1.97413                   \n",
      "[6]\tvalid_0's auc_mu: 0.93936\tvalid_0's multi_logloss: 1.91547                    \n",
      "[7]\tvalid_0's auc_mu: 0.939371\tvalid_0's multi_logloss: 1.86635                   \n",
      "[8]\tvalid_0's auc_mu: 0.939396\tvalid_0's multi_logloss: 1.82711                   \n",
      "[9]\tvalid_0's auc_mu: 0.94113\tvalid_0's multi_logloss: 1.79422                    \n",
      "[10]\tvalid_0's auc_mu: 0.941138\tvalid_0's multi_logloss: 1.76505                  \n",
      "[11]\tvalid_0's auc_mu: 0.941262\tvalid_0's multi_logloss: 1.74064                  \n",
      "[12]\tvalid_0's auc_mu: 0.941374\tvalid_0's multi_logloss: 1.71854                  \n",
      "[13]\tvalid_0's auc_mu: 0.941375\tvalid_0's multi_logloss: 1.70118                  \n",
      "[14]\tvalid_0's auc_mu: 0.941434\tvalid_0's multi_logloss: 1.68649                  \n",
      "[15]\tvalid_0's auc_mu: 0.941429\tvalid_0's multi_logloss: 1.67345                  \n",
      "[16]\tvalid_0's auc_mu: 0.943689\tvalid_0's multi_logloss: 1.6632                   \n",
      "[17]\tvalid_0's auc_mu: 0.943694\tvalid_0's multi_logloss: 1.65278                  \n",
      "[18]\tvalid_0's auc_mu: 0.943694\tvalid_0's multi_logloss: 1.64422                  \n",
      "[19]\tvalid_0's auc_mu: 0.943679\tvalid_0's multi_logloss: 1.6365                   \n",
      "[20]\tvalid_0's auc_mu: 0.943679\tvalid_0's multi_logloss: 1.62963                  \n",
      "[21]\tvalid_0's auc_mu: 0.943675\tvalid_0's multi_logloss: 1.6236                   \n",
      "[22]\tvalid_0's auc_mu: 0.943675\tvalid_0's multi_logloss: 1.61816                  \n",
      "[23]\tvalid_0's auc_mu: 0.943847\tvalid_0's multi_logloss: 1.61353                  \n",
      "[24]\tvalid_0's auc_mu: 0.943951\tvalid_0's multi_logloss: 1.60999                  \n",
      "[25]\tvalid_0's auc_mu: 0.943958\tvalid_0's multi_logloss: 1.60549                  \n",
      "[26]\tvalid_0's auc_mu: 0.943958\tvalid_0's multi_logloss: 1.6024                   \n",
      "[27]\tvalid_0's auc_mu: 0.943958\tvalid_0's multi_logloss: 1.59962                  \n",
      "[28]\tvalid_0's auc_mu: 0.943958\tvalid_0's multi_logloss: 1.5971                   \n",
      "[29]\tvalid_0's auc_mu: 0.943958\tvalid_0's multi_logloss: 1.59484                  \n",
      "[30]\tvalid_0's auc_mu: 0.943958\tvalid_0's multi_logloss: 1.59224                  \n",
      "[31]\tvalid_0's auc_mu: 0.943954\tvalid_0's multi_logloss: 1.59097                  \n",
      "[32]\tvalid_0's auc_mu: 0.944602\tvalid_0's multi_logloss: 1.5898                   \n",
      "[33]\tvalid_0's auc_mu: 0.944602\tvalid_0's multi_logloss: 1.58875                  \n",
      "[34]\tvalid_0's auc_mu: 0.944643\tvalid_0's multi_logloss: 1.58789                  \n",
      "[35]\tvalid_0's auc_mu: 0.944643\tvalid_0's multi_logloss: 1.58712                  \n",
      "[36]\tvalid_0's auc_mu: 0.944643\tvalid_0's multi_logloss: 1.58632                  \n",
      "[37]\tvalid_0's auc_mu: 0.944643\tvalid_0's multi_logloss: 1.5857                   \n",
      "[38]\tvalid_0's auc_mu: 0.944643\tvalid_0's multi_logloss: 1.58514                  \n",
      "[39]\tvalid_0's auc_mu: 0.944643\tvalid_0's multi_logloss: 1.58454                  \n",
      "[40]\tvalid_0's auc_mu: 0.944643\tvalid_0's multi_logloss: 1.58413                  \n",
      "[41]\tvalid_0's auc_mu: 0.944643\tvalid_0's multi_logloss: 1.58382                  \n",
      "[42]\tvalid_0's auc_mu: 0.944643\tvalid_0's multi_logloss: 1.58353                  \n",
      "[43]\tvalid_0's auc_mu: 0.944648\tvalid_0's multi_logloss: 1.58327                  \n",
      "[44]\tvalid_0's auc_mu: 0.944648\tvalid_0's multi_logloss: 1.58304                  \n",
      "[45]\tvalid_0's auc_mu: 0.944648\tvalid_0's multi_logloss: 1.58282                  \n",
      "[46]\tvalid_0's auc_mu: 0.944648\tvalid_0's multi_logloss: 1.58205                  \n",
      "[47]\tvalid_0's auc_mu: 0.944648\tvalid_0's multi_logloss: 1.58188                  \n",
      "[48]\tvalid_0's auc_mu: 0.944648\tvalid_0's multi_logloss: 1.58173                  \n",
      "[49]\tvalid_0's auc_mu: 0.944648\tvalid_0's multi_logloss: 1.58163                  \n",
      "[50]\tvalid_0's auc_mu: 0.944648\tvalid_0's multi_logloss: 1.58151                  \n",
      "[51]\tvalid_0's auc_mu: 0.944648\tvalid_0's multi_logloss: 1.5814                   \n",
      "[52]\tvalid_0's auc_mu: 0.944648\tvalid_0's multi_logloss: 1.58129                  \n",
      "[53]\tvalid_0's auc_mu: 0.944648\tvalid_0's multi_logloss: 1.5812                   \n",
      "[54]\tvalid_0's auc_mu: 0.944648\tvalid_0's multi_logloss: 1.58111                  \n",
      "[55]\tvalid_0's auc_mu: 0.944648\tvalid_0's multi_logloss: 1.58103                  \n",
      "[56]\tvalid_0's auc_mu: 0.944648\tvalid_0's multi_logloss: 1.58095                  \n",
      "[57]\tvalid_0's auc_mu: 0.944648\tvalid_0's multi_logloss: 1.58089                  \n",
      "[58]\tvalid_0's auc_mu: 0.944648\tvalid_0's multi_logloss: 1.58082                  \n",
      "Early stopping, best iteration is:                                                \n",
      "[43]\tvalid_0's auc_mu: 0.944648\tvalid_0's multi_logloss: 1.58327\n",
      "[1]\tvalid_0's auc_mu: 0.939626\tvalid_0's multi_logloss: 1.97514                   \n",
      "Training until validation scores don't improve for 15 rounds                      \n",
      "[2]\tvalid_0's auc_mu: 0.957468\tvalid_0's multi_logloss: 1.72539                   \n",
      "[3]\tvalid_0's auc_mu: 0.964343\tvalid_0's multi_logloss: 1.55811                   \n",
      "[4]\tvalid_0's auc_mu: 0.965803\tvalid_0's multi_logloss: 1.43003                   \n",
      "[5]\tvalid_0's auc_mu: 0.967787\tvalid_0's multi_logloss: 1.32347                   \n",
      "[6]\tvalid_0's auc_mu: 0.968397\tvalid_0's multi_logloss: 1.24026                   \n",
      "[7]\tvalid_0's auc_mu: 0.969839\tvalid_0's multi_logloss: 1.17205                   \n",
      "[8]\tvalid_0's auc_mu: 0.970717\tvalid_0's multi_logloss: 1.11617                   \n",
      "[9]\tvalid_0's auc_mu: 0.971456\tvalid_0's multi_logloss: 1.06993                   \n",
      "[10]\tvalid_0's auc_mu: 0.971344\tvalid_0's multi_logloss: 1.03035                  \n",
      "[11]\tvalid_0's auc_mu: 0.970898\tvalid_0's multi_logloss: 0.993958                 \n",
      "[12]\tvalid_0's auc_mu: 0.971349\tvalid_0's multi_logloss: 0.966593                 \n",
      "[13]\tvalid_0's auc_mu: 0.971033\tvalid_0's multi_logloss: 0.944974                 \n",
      "[14]\tvalid_0's auc_mu: 0.971103\tvalid_0's multi_logloss: 0.916919                 \n",
      "[15]\tvalid_0's auc_mu: 0.971652\tvalid_0's multi_logloss: 0.892767                 \n",
      "[16]\tvalid_0's auc_mu: 0.972125\tvalid_0's multi_logloss: 0.877485                 \n",
      "[17]\tvalid_0's auc_mu: 0.972292\tvalid_0's multi_logloss: 0.862556                 \n",
      "[18]\tvalid_0's auc_mu: 0.971798\tvalid_0's multi_logloss: 0.849539                 \n",
      "[19]\tvalid_0's auc_mu: 0.971236\tvalid_0's multi_logloss: 0.835598                 \n",
      "[20]\tvalid_0's auc_mu: 0.971236\tvalid_0's multi_logloss: 0.827241                 \n",
      "[21]\tvalid_0's auc_mu: 0.971655\tvalid_0's multi_logloss: 0.819086                 \n",
      "[22]\tvalid_0's auc_mu: 0.972208\tvalid_0's multi_logloss: 0.80953                  \n",
      "[23]\tvalid_0's auc_mu: 0.971867\tvalid_0's multi_logloss: 0.801492                 \n",
      "[24]\tvalid_0's auc_mu: 0.972035\tvalid_0's multi_logloss: 0.794795                 \n",
      "[25]\tvalid_0's auc_mu: 0.972159\tvalid_0's multi_logloss: 0.785545                 \n",
      "[26]\tvalid_0's auc_mu: 0.972325\tvalid_0's multi_logloss: 0.777722                 \n",
      "[27]\tvalid_0's auc_mu: 0.972567\tvalid_0's multi_logloss: 0.773                    \n",
      "[28]\tvalid_0's auc_mu: 0.972118\tvalid_0's multi_logloss: 0.768847                 \n",
      "[29]\tvalid_0's auc_mu: 0.971769\tvalid_0's multi_logloss: 0.764226                 \n",
      "[30]\tvalid_0's auc_mu: 0.971806\tvalid_0's multi_logloss: 0.759642                 \n",
      "[31]\tvalid_0's auc_mu: 0.97192\tvalid_0's multi_logloss: 0.754892                  \n",
      "[32]\tvalid_0's auc_mu: 0.971729\tvalid_0's multi_logloss: 0.748855                 \n",
      "[33]\tvalid_0's auc_mu: 0.971821\tvalid_0's multi_logloss: 0.745535                 \n",
      "[34]\tvalid_0's auc_mu: 0.971499\tvalid_0's multi_logloss: 0.741928                 \n",
      "[35]\tvalid_0's auc_mu: 0.971186\tvalid_0's multi_logloss: 0.739856                 \n",
      "[36]\tvalid_0's auc_mu: 0.971171\tvalid_0's multi_logloss: 0.737329                 \n",
      "[37]\tvalid_0's auc_mu: 0.971407\tvalid_0's multi_logloss: 0.733841                 \n",
      "[38]\tvalid_0's auc_mu: 0.971412\tvalid_0's multi_logloss: 0.728889                 \n",
      "[39]\tvalid_0's auc_mu: 0.971494\tvalid_0's multi_logloss: 0.725974                 \n",
      "[40]\tvalid_0's auc_mu: 0.971716\tvalid_0's multi_logloss: 0.724393                 \n",
      "[41]\tvalid_0's auc_mu: 0.971849\tvalid_0's multi_logloss: 0.724438                 \n",
      "[42]\tvalid_0's auc_mu: 0.971844\tvalid_0's multi_logloss: 0.722714                 \n",
      "Early stopping, best iteration is:                                                \n",
      "[27]\tvalid_0's auc_mu: 0.972567\tvalid_0's multi_logloss: 0.773\n",
      "[1]\tvalid_0's auc_mu: 0.930723\tvalid_0's multi_logloss: 1.60285                   \n",
      "Training until validation scores don't improve for 15 rounds                      \n",
      "[2]\tvalid_0's auc_mu: 0.935972\tvalid_0's multi_logloss: 1.38548                   \n",
      "[3]\tvalid_0's auc_mu: 0.94294\tvalid_0's multi_logloss: 1.23236                    \n",
      "[4]\tvalid_0's auc_mu: 0.945869\tvalid_0's multi_logloss: 1.11984                   \n",
      "[5]\tvalid_0's auc_mu: 0.948064\tvalid_0's multi_logloss: 1.03174                   \n",
      "[6]\tvalid_0's auc_mu: 0.949956\tvalid_0's multi_logloss: 0.961975                  \n",
      "[7]\tvalid_0's auc_mu: 0.950728\tvalid_0's multi_logloss: 0.905103                  \n",
      "[8]\tvalid_0's auc_mu: 0.953295\tvalid_0's multi_logloss: 0.858871                  \n",
      "[9]\tvalid_0's auc_mu: 0.954251\tvalid_0's multi_logloss: 0.821773                  \n",
      "[10]\tvalid_0's auc_mu: 0.954821\tvalid_0's multi_logloss: 0.791145                 \n",
      "[11]\tvalid_0's auc_mu: 0.954459\tvalid_0's multi_logloss: 0.767463                 \n",
      "[12]\tvalid_0's auc_mu: 0.955778\tvalid_0's multi_logloss: 0.744841                 \n",
      "[13]\tvalid_0's auc_mu: 0.95664\tvalid_0's multi_logloss: 0.727778                  \n",
      "[14]\tvalid_0's auc_mu: 0.95658\tvalid_0's multi_logloss: 0.714336                  \n",
      "[15]\tvalid_0's auc_mu: 0.956481\tvalid_0's multi_logloss: 0.70416                  \n",
      "[16]\tvalid_0's auc_mu: 0.957374\tvalid_0's multi_logloss: 0.69349                  \n",
      "[17]\tvalid_0's auc_mu: 0.958123\tvalid_0's multi_logloss: 0.684692                 \n",
      "[18]\tvalid_0's auc_mu: 0.958755\tvalid_0's multi_logloss: 0.676956                 \n",
      "[19]\tvalid_0's auc_mu: 0.958473\tvalid_0's multi_logloss: 0.671735                 \n",
      "[20]\tvalid_0's auc_mu: 0.958807\tvalid_0's multi_logloss: 0.667676                 \n",
      "[21]\tvalid_0's auc_mu: 0.958982\tvalid_0's multi_logloss: 0.663554                 \n",
      "[22]\tvalid_0's auc_mu: 0.959742\tvalid_0's multi_logloss: 0.662052                 \n",
      "[23]\tvalid_0's auc_mu: 0.959606\tvalid_0's multi_logloss: 0.659928                 \n",
      "[24]\tvalid_0's auc_mu: 0.959796\tvalid_0's multi_logloss: 0.658259                 \n",
      "[25]\tvalid_0's auc_mu: 0.959528\tvalid_0's multi_logloss: 0.656735                 \n",
      "[26]\tvalid_0's auc_mu: 0.959472\tvalid_0's multi_logloss: 0.656512                 \n",
      "[27]\tvalid_0's auc_mu: 0.958937\tvalid_0's multi_logloss: 0.655929                 \n",
      "[28]\tvalid_0's auc_mu: 0.959547\tvalid_0's multi_logloss: 0.655709                 \n",
      "[29]\tvalid_0's auc_mu: 0.959249\tvalid_0's multi_logloss: 0.655837                 \n",
      "[30]\tvalid_0's auc_mu: 0.959165\tvalid_0's multi_logloss: 0.656233                 \n",
      "[31]\tvalid_0's auc_mu: 0.959693\tvalid_0's multi_logloss: 0.655422                 \n",
      "[32]\tvalid_0's auc_mu: 0.959555\tvalid_0's multi_logloss: 0.655978                 \n",
      "[33]\tvalid_0's auc_mu: 0.959501\tvalid_0's multi_logloss: 0.656064                 \n",
      "[34]\tvalid_0's auc_mu: 0.959086\tvalid_0's multi_logloss: 0.657027                 \n",
      "[35]\tvalid_0's auc_mu: 0.958907\tvalid_0's multi_logloss: 0.657528                 \n",
      "[36]\tvalid_0's auc_mu: 0.95881\tvalid_0's multi_logloss: 0.658521                  \n",
      "[37]\tvalid_0's auc_mu: 0.958763\tvalid_0's multi_logloss: 0.659173                 \n",
      "[38]\tvalid_0's auc_mu: 0.958938\tvalid_0's multi_logloss: 0.659664                 \n",
      "[39]\tvalid_0's auc_mu: 0.958993\tvalid_0's multi_logloss: 0.660137                 \n",
      "Early stopping, best iteration is:                                                \n",
      "[24]\tvalid_0's auc_mu: 0.959796\tvalid_0's multi_logloss: 0.658259\n",
      "[1]\tvalid_0's auc_mu: 0.953396\tvalid_0's multi_logloss: 1.93167                   \n",
      "Training until validation scores don't improve for 15 rounds                      \n",
      "[2]\tvalid_0's auc_mu: 0.957936\tvalid_0's multi_logloss: 1.67005                   \n",
      "[3]\tvalid_0's auc_mu: 0.960741\tvalid_0's multi_logloss: 1.49243                   \n",
      "[4]\tvalid_0's auc_mu: 0.961118\tvalid_0's multi_logloss: 1.35981                   \n",
      "[5]\tvalid_0's auc_mu: 0.962903\tvalid_0's multi_logloss: 1.25079                   \n",
      "[6]\tvalid_0's auc_mu: 0.964729\tvalid_0's multi_logloss: 1.1647                    \n",
      "[7]\tvalid_0's auc_mu: 0.96544\tvalid_0's multi_logloss: 1.09363                    \n",
      "[8]\tvalid_0's auc_mu: 0.966459\tvalid_0's multi_logloss: 1.03394                   \n",
      "[9]\tvalid_0's auc_mu: 0.967674\tvalid_0's multi_logloss: 0.984687                  \n",
      "[10]\tvalid_0's auc_mu: 0.968544\tvalid_0's multi_logloss: 0.944153                 \n",
      "[11]\tvalid_0's auc_mu: 0.969393\tvalid_0's multi_logloss: 0.908236                 \n",
      "[12]\tvalid_0's auc_mu: 0.969183\tvalid_0's multi_logloss: 0.877373                 \n",
      "[13]\tvalid_0's auc_mu: 0.968795\tvalid_0's multi_logloss: 0.85263                  \n",
      "[14]\tvalid_0's auc_mu: 0.969779\tvalid_0's multi_logloss: 0.83075                  \n",
      "[15]\tvalid_0's auc_mu: 0.970982\tvalid_0's multi_logloss: 0.810909                 \n",
      "[16]\tvalid_0's auc_mu: 0.971763\tvalid_0's multi_logloss: 0.791663                 \n",
      "[17]\tvalid_0's auc_mu: 0.971312\tvalid_0's multi_logloss: 0.776727                 \n",
      "[18]\tvalid_0's auc_mu: 0.97087\tvalid_0's multi_logloss: 0.763466                  \n",
      "[19]\tvalid_0's auc_mu: 0.970899\tvalid_0's multi_logloss: 0.75189                  \n",
      "[20]\tvalid_0's auc_mu: 0.971501\tvalid_0's multi_logloss: 0.741023                 \n",
      "[21]\tvalid_0's auc_mu: 0.971611\tvalid_0's multi_logloss: 0.731101                 \n",
      "[22]\tvalid_0's auc_mu: 0.972056\tvalid_0's multi_logloss: 0.723601                 \n",
      "[23]\tvalid_0's auc_mu: 0.972269\tvalid_0's multi_logloss: 0.715457                 \n",
      "[24]\tvalid_0's auc_mu: 0.972288\tvalid_0's multi_logloss: 0.709908                 \n",
      "[25]\tvalid_0's auc_mu: 0.971358\tvalid_0's multi_logloss: 0.703745                 \n",
      "[26]\tvalid_0's auc_mu: 0.972368\tvalid_0's multi_logloss: 0.697497                 \n",
      "[27]\tvalid_0's auc_mu: 0.971406\tvalid_0's multi_logloss: 0.693531                 \n",
      "[28]\tvalid_0's auc_mu: 0.970968\tvalid_0's multi_logloss: 0.689616                 \n",
      "[29]\tvalid_0's auc_mu: 0.97068\tvalid_0's multi_logloss: 0.685161                  \n",
      "[30]\tvalid_0's auc_mu: 0.970638\tvalid_0's multi_logloss: 0.681791                 \n",
      "[31]\tvalid_0's auc_mu: 0.97056\tvalid_0's multi_logloss: 0.678583                  \n",
      "[32]\tvalid_0's auc_mu: 0.970285\tvalid_0's multi_logloss: 0.67471                  \n",
      "[33]\tvalid_0's auc_mu: 0.969707\tvalid_0's multi_logloss: 0.67229                  \n",
      "[34]\tvalid_0's auc_mu: 0.970042\tvalid_0's multi_logloss: 0.669938                 \n",
      "[35]\tvalid_0's auc_mu: 0.969949\tvalid_0's multi_logloss: 0.666887                 \n",
      "[36]\tvalid_0's auc_mu: 0.969801\tvalid_0's multi_logloss: 0.664597                 \n",
      "[37]\tvalid_0's auc_mu: 0.970145\tvalid_0's multi_logloss: 0.662528                 \n",
      "[38]\tvalid_0's auc_mu: 0.970212\tvalid_0's multi_logloss: 0.661261                 \n",
      "[39]\tvalid_0's auc_mu: 0.969423\tvalid_0's multi_logloss: 0.659985                 \n",
      "[40]\tvalid_0's auc_mu: 0.969201\tvalid_0's multi_logloss: 0.659152                 \n",
      "[41]\tvalid_0's auc_mu: 0.969108\tvalid_0's multi_logloss: 0.659627                 \n",
      "Early stopping, best iteration is:                                                \n",
      "[26]\tvalid_0's auc_mu: 0.972368\tvalid_0's multi_logloss: 0.697497\n",
      "[1]\tvalid_0's auc_mu: 0.944136\tvalid_0's multi_logloss: 1.94174                   \n",
      "[2]\tvalid_0's auc_mu: 0.952467\tvalid_0's multi_logloss: 1.68239                   \n",
      "[3]\tvalid_0's auc_mu: 0.958392\tvalid_0's multi_logloss: 1.50408                   \n",
      "[4]\tvalid_0's auc_mu: 0.957976\tvalid_0's multi_logloss: 1.37003                   \n",
      "[5]\tvalid_0's auc_mu: 0.958805\tvalid_0's multi_logloss: 1.26746                   \n",
      "[6]\tvalid_0's auc_mu: 0.960552\tvalid_0's multi_logloss: 1.17977                   \n",
      "[7]\tvalid_0's auc_mu: 0.960672\tvalid_0's multi_logloss: 1.10795                   \n",
      "[8]\tvalid_0's auc_mu: 0.959425\tvalid_0's multi_logloss: 1.23879                   \n",
      "[9]\tvalid_0's auc_mu: 0.961624\tvalid_0's multi_logloss: 1.15407                   \n",
      "[10]\tvalid_0's auc_mu: 0.963253\tvalid_0's multi_logloss: 1.16155                  \n",
      "[11]\tvalid_0's auc_mu: 0.964404\tvalid_0's multi_logloss: 1.09368                  \n",
      "[12]\tvalid_0's auc_mu: 0.96564\tvalid_0's multi_logloss: 1.03864                   \n",
      "[13]\tvalid_0's auc_mu: 0.966029\tvalid_0's multi_logloss: 1.05103                  \n",
      "[14]\tvalid_0's auc_mu: 0.966223\tvalid_0's multi_logloss: 1.04406                  \n",
      "[15]\tvalid_0's auc_mu: 0.967673\tvalid_0's multi_logloss: 0.993014                 \n",
      "[16]\tvalid_0's auc_mu: 0.96812\tvalid_0's multi_logloss: 0.95197                   \n",
      "[17]\tvalid_0's auc_mu: 0.968797\tvalid_0's multi_logloss: 0.916036                 \n",
      "[18]\tvalid_0's auc_mu: 0.969064\tvalid_0's multi_logloss: 0.886045                 \n",
      "[19]\tvalid_0's auc_mu: 0.968803\tvalid_0's multi_logloss: 0.906555                 \n",
      "[20]\tvalid_0's auc_mu: 0.969694\tvalid_0's multi_logloss: 0.877232                 \n",
      "[21]\tvalid_0's auc_mu: 0.97077\tvalid_0's multi_logloss: 0.851389                  \n",
      "[22]\tvalid_0's auc_mu: 0.970649\tvalid_0's multi_logloss: 0.830571                 \n",
      "[23]\tvalid_0's auc_mu: 0.97056\tvalid_0's multi_logloss: 0.813311                  \n",
      "[24]\tvalid_0's auc_mu: 0.970454\tvalid_0's multi_logloss: 0.798187                 \n",
      "[25]\tvalid_0's auc_mu: 0.971309\tvalid_0's multi_logloss: 0.78365                  \n",
      "[26]\tvalid_0's auc_mu: 0.97161\tvalid_0's multi_logloss: 0.769696                  \n",
      "[27]\tvalid_0's auc_mu: 0.971775\tvalid_0's multi_logloss: 0.758237                 \n",
      "[28]\tvalid_0's auc_mu: 0.971775\tvalid_0's multi_logloss: 0.750186                 \n",
      "[29]\tvalid_0's auc_mu: 0.971656\tvalid_0's multi_logloss: 0.739545                 \n",
      "[30]\tvalid_0's auc_mu: 0.971653\tvalid_0's multi_logloss: 0.73205                  \n",
      "[31]\tvalid_0's auc_mu: 0.971489\tvalid_0's multi_logloss: 0.724409                 \n",
      "[32]\tvalid_0's auc_mu: 0.971318\tvalid_0's multi_logloss: 0.724264                 \n",
      "[33]\tvalid_0's auc_mu: 0.971244\tvalid_0's multi_logloss: 0.729417                 \n",
      "[34]\tvalid_0's auc_mu: 0.971075\tvalid_0's multi_logloss: 0.723057                 \n",
      "[35]\tvalid_0's auc_mu: 0.970774\tvalid_0's multi_logloss: 0.73218                  \n",
      "[36]\tvalid_0's auc_mu: 0.970913\tvalid_0's multi_logloss: 0.723565                 \n",
      "[37]\tvalid_0's auc_mu: 0.970555\tvalid_0's multi_logloss: 0.727482                 \n",
      "[38]\tvalid_0's auc_mu: 0.970639\tvalid_0's multi_logloss: 0.734188                 \n",
      "[39]\tvalid_0's auc_mu: 0.970335\tvalid_0's multi_logloss: 0.72593                  \n",
      "[40]\tvalid_0's auc_mu: 0.970199\tvalid_0's multi_logloss: 0.718293                 \n",
      "[41]\tvalid_0's auc_mu: 0.970241\tvalid_0's multi_logloss: 0.724716                 \n",
      "[42]\tvalid_0's auc_mu: 0.970527\tvalid_0's multi_logloss: 0.718114                 \n",
      "[43]\tvalid_0's auc_mu: 0.970564\tvalid_0's multi_logloss: 0.725794                 \n",
      "[44]\tvalid_0's auc_mu: 0.970008\tvalid_0's multi_logloss: 0.716804                 \n",
      "[45]\tvalid_0's auc_mu: 0.970053\tvalid_0's multi_logloss: 0.710507                 \n",
      "[46]\tvalid_0's auc_mu: 0.969924\tvalid_0's multi_logloss: 0.704837                 \n",
      "[47]\tvalid_0's auc_mu: 0.969669\tvalid_0's multi_logloss: 0.699484                 \n",
      "[48]\tvalid_0's auc_mu: 0.969314\tvalid_0's multi_logloss: 0.695023                 \n",
      "[49]\tvalid_0's auc_mu: 0.96962\tvalid_0's multi_logloss: 0.690998                  \n",
      "[50]\tvalid_0's auc_mu: 0.96985\tvalid_0's multi_logloss: 0.687696                  \n",
      "[51]\tvalid_0's auc_mu: 0.969618\tvalid_0's multi_logloss: 0.684456                 \n",
      "[52]\tvalid_0's auc_mu: 0.969864\tvalid_0's multi_logloss: 0.687416                 \n",
      "[53]\tvalid_0's auc_mu: 0.969384\tvalid_0's multi_logloss: 0.683407                 \n",
      "[54]\tvalid_0's auc_mu: 0.969726\tvalid_0's multi_logloss: 0.68626                  \n",
      "[55]\tvalid_0's auc_mu: 0.969729\tvalid_0's multi_logloss: 0.687488                 \n",
      "[56]\tvalid_0's auc_mu: 0.969049\tvalid_0's multi_logloss: 0.68508                  \n",
      "[57]\tvalid_0's auc_mu: 0.968881\tvalid_0's multi_logloss: 0.687819                 \n",
      "[58]\tvalid_0's auc_mu: 0.968598\tvalid_0's multi_logloss: 0.684243                 \n",
      "[59]\tvalid_0's auc_mu: 0.968687\tvalid_0's multi_logloss: 0.683227                 \n",
      "[60]\tvalid_0's auc_mu: 0.968841\tvalid_0's multi_logloss: 0.679861                 \n",
      "[61]\tvalid_0's auc_mu: 0.969023\tvalid_0's multi_logloss: 0.677773                 \n",
      "[62]\tvalid_0's auc_mu: 0.968755\tvalid_0's multi_logloss: 0.677437                 \n",
      "[63]\tvalid_0's auc_mu: 0.968747\tvalid_0's multi_logloss: 0.67846                  \n",
      "[64]\tvalid_0's auc_mu: 0.968879\tvalid_0's multi_logloss: 0.68012                  \n",
      "[65]\tvalid_0's auc_mu: 0.968849\tvalid_0's multi_logloss: 0.677169                 \n",
      "[66]\tvalid_0's auc_mu: 0.968836\tvalid_0's multi_logloss: 0.678847                 \n",
      "[67]\tvalid_0's auc_mu: 0.969035\tvalid_0's multi_logloss: 0.677223                 \n",
      "[68]\tvalid_0's auc_mu: 0.968696\tvalid_0's multi_logloss: 0.678714                 \n",
      "[69]\tvalid_0's auc_mu: 0.968714\tvalid_0's multi_logloss: 0.679786                 \n",
      "[70]\tvalid_0's auc_mu: 0.968842\tvalid_0's multi_logloss: 0.676203                 \n",
      "[71]\tvalid_0's auc_mu: 0.968517\tvalid_0's multi_logloss: 0.677547                 \n",
      "[72]\tvalid_0's auc_mu: 0.968262\tvalid_0's multi_logloss: 0.67611                  \n",
      "[73]\tvalid_0's auc_mu: 0.968453\tvalid_0's multi_logloss: 0.677338                 \n",
      "[74]\tvalid_0's auc_mu: 0.968362\tvalid_0's multi_logloss: 0.678942                 \n",
      "[75]\tvalid_0's auc_mu: 0.968815\tvalid_0's multi_logloss: 0.676036                 \n",
      "[76]\tvalid_0's auc_mu: 0.968259\tvalid_0's multi_logloss: 0.674267                 \n",
      "[77]\tvalid_0's auc_mu: 0.968306\tvalid_0's multi_logloss: 0.675796                 \n",
      "[78]\tvalid_0's auc_mu: 0.968222\tvalid_0's multi_logloss: 0.676788                 \n",
      "[79]\tvalid_0's auc_mu: 0.967577\tvalid_0's multi_logloss: 0.674751                 \n",
      "[80]\tvalid_0's auc_mu: 0.968008\tvalid_0's multi_logloss: 0.672758                 \n",
      "[81]\tvalid_0's auc_mu: 0.968128\tvalid_0's multi_logloss: 0.673114                 \n",
      "[82]\tvalid_0's auc_mu: 0.968077\tvalid_0's multi_logloss: 0.673522                 \n",
      "[83]\tvalid_0's auc_mu: 0.968371\tvalid_0's multi_logloss: 0.67273                  \n",
      "[84]\tvalid_0's auc_mu: 0.968216\tvalid_0's multi_logloss: 0.670915                 \n",
      "[85]\tvalid_0's auc_mu: 0.968254\tvalid_0's multi_logloss: 0.672111                 \n",
      "[86]\tvalid_0's auc_mu: 0.968393\tvalid_0's multi_logloss: 0.669877                 \n",
      "[87]\tvalid_0's auc_mu: 0.967618\tvalid_0's multi_logloss: 0.669017                 \n",
      "[88]\tvalid_0's auc_mu: 0.967863\tvalid_0's multi_logloss: 0.669294                 \n",
      "[89]\tvalid_0's auc_mu: 0.967865\tvalid_0's multi_logloss: 0.670223                 \n",
      "[90]\tvalid_0's auc_mu: 0.967977\tvalid_0's multi_logloss: 0.671357                 \n",
      "[91]\tvalid_0's auc_mu: 0.967759\tvalid_0's multi_logloss: 0.672576                 \n",
      "[92]\tvalid_0's auc_mu: 0.967735\tvalid_0's multi_logloss: 0.674088                 \n",
      "[93]\tvalid_0's auc_mu: 0.967781\tvalid_0's multi_logloss: 0.675715                 \n",
      "[94]\tvalid_0's auc_mu: 0.967906\tvalid_0's multi_logloss: 0.673207                 \n",
      "[95]\tvalid_0's auc_mu: 0.967768\tvalid_0's multi_logloss: 0.674537                 \n",
      "[96]\tvalid_0's auc_mu: 0.967731\tvalid_0's multi_logloss: 0.675857                 \n",
      "[97]\tvalid_0's auc_mu: 0.967873\tvalid_0's multi_logloss: 0.677479                 \n",
      "[98]\tvalid_0's auc_mu: 0.96858\tvalid_0's multi_logloss: 0.673397                  \n",
      "[99]\tvalid_0's auc_mu: 0.967797\tvalid_0's multi_logloss: 0.670808                 \n",
      "[100]\tvalid_0's auc_mu: 0.967913\tvalid_0's multi_logloss: 0.668019                \n",
      "[101]\tvalid_0's auc_mu: 0.967634\tvalid_0's multi_logloss: 0.667353                \n",
      "[102]\tvalid_0's auc_mu: 0.967044\tvalid_0's multi_logloss: 0.666355                \n",
      "[103]\tvalid_0's auc_mu: 0.967262\tvalid_0's multi_logloss: 0.667928                \n",
      "[104]\tvalid_0's auc_mu: 0.967371\tvalid_0's multi_logloss: 0.666311                \n",
      "[105]\tvalid_0's auc_mu: 0.967362\tvalid_0's multi_logloss: 0.665614                \n",
      "[106]\tvalid_0's auc_mu: 0.967072\tvalid_0's multi_logloss: 0.664306                \n",
      "[107]\tvalid_0's auc_mu: 0.966929\tvalid_0's multi_logloss: 0.662975                \n",
      "[108]\tvalid_0's auc_mu: 0.966517\tvalid_0's multi_logloss: 0.662237                \n",
      "[109]\tvalid_0's auc_mu: 0.966811\tvalid_0's multi_logloss: 0.66134                 \n",
      "[110]\tvalid_0's auc_mu: 0.966417\tvalid_0's multi_logloss: 0.659556                \n",
      "[111]\tvalid_0's auc_mu: 0.96646\tvalid_0's multi_logloss: 0.659835                 \n",
      "[112]\tvalid_0's auc_mu: 0.966522\tvalid_0's multi_logloss: 0.659916                \n",
      "[113]\tvalid_0's auc_mu: 0.966632\tvalid_0's multi_logloss: 0.659944                \n",
      "[114]\tvalid_0's auc_mu: 0.966675\tvalid_0's multi_logloss: 0.660204                \n",
      "[115]\tvalid_0's auc_mu: 0.9667\tvalid_0's multi_logloss: 0.661                     \n",
      "[116]\tvalid_0's auc_mu: 0.967331\tvalid_0's multi_logloss: 0.659696                \n",
      "[117]\tvalid_0's auc_mu: 0.967274\tvalid_0's multi_logloss: 0.66029                 \n",
      "[118]\tvalid_0's auc_mu: 0.967265\tvalid_0's multi_logloss: 0.660942                \n",
      "[119]\tvalid_0's auc_mu: 0.967296\tvalid_0's multi_logloss: 0.661365                \n",
      "[120]\tvalid_0's auc_mu: 0.967065\tvalid_0's multi_logloss: 0.660217                \n",
      "[121]\tvalid_0's auc_mu: 0.967353\tvalid_0's multi_logloss: 0.660251                \n",
      "[122]\tvalid_0's auc_mu: 0.967327\tvalid_0's multi_logloss: 0.660697                \n",
      "[123]\tvalid_0's auc_mu: 0.966998\tvalid_0's multi_logloss: 0.6599                  \n",
      "[124]\tvalid_0's auc_mu: 0.966931\tvalid_0's multi_logloss: 0.660489                \n",
      "[125]\tvalid_0's auc_mu: 0.966836\tvalid_0's multi_logloss: 0.659324                \n",
      "[126]\tvalid_0's auc_mu: 0.967321\tvalid_0's multi_logloss: 0.658283                \n",
      "[127]\tvalid_0's auc_mu: 0.967367\tvalid_0's multi_logloss: 0.657873                \n",
      "[128]\tvalid_0's auc_mu: 0.967357\tvalid_0's multi_logloss: 0.658162                \n",
      "[129]\tvalid_0's auc_mu: 0.966773\tvalid_0's multi_logloss: 0.657169                \n",
      "[130]\tvalid_0's auc_mu: 0.966819\tvalid_0's multi_logloss: 0.657401                \n",
      "[131]\tvalid_0's auc_mu: 0.966888\tvalid_0's multi_logloss: 0.657456                \n",
      "[132]\tvalid_0's auc_mu: 0.966913\tvalid_0's multi_logloss: 0.657918                \n",
      "[133]\tvalid_0's auc_mu: 0.966675\tvalid_0's multi_logloss: 0.658262                \n",
      "[134]\tvalid_0's auc_mu: 0.967042\tvalid_0's multi_logloss: 0.65756                 \n",
      "[135]\tvalid_0's auc_mu: 0.966808\tvalid_0's multi_logloss: 0.656017                \n",
      "[136]\tvalid_0's auc_mu: 0.966844\tvalid_0's multi_logloss: 0.65627                 \n",
      "[137]\tvalid_0's auc_mu: 0.967388\tvalid_0's multi_logloss: 0.655138                \n",
      "[138]\tvalid_0's auc_mu: 0.967365\tvalid_0's multi_logloss: 0.655424                \n",
      "[139]\tvalid_0's auc_mu: 0.967436\tvalid_0's multi_logloss: 0.655883                \n",
      "[140]\tvalid_0's auc_mu: 0.967003\tvalid_0's multi_logloss: 0.655241                \n",
      "[141]\tvalid_0's auc_mu: 0.966998\tvalid_0's multi_logloss: 0.655526                \n",
      "[142]\tvalid_0's auc_mu: 0.967098\tvalid_0's multi_logloss: 0.654774                \n",
      "[143]\tvalid_0's auc_mu: 0.96685\tvalid_0's multi_logloss: 0.653491                 \n",
      "[144]\tvalid_0's auc_mu: 0.966656\tvalid_0's multi_logloss: 0.652218                \n",
      "[145]\tvalid_0's auc_mu: 0.966816\tvalid_0's multi_logloss: 0.65233                 \n",
      "[146]\tvalid_0's auc_mu: 0.967046\tvalid_0's multi_logloss: 0.651655                \n",
      "[147]\tvalid_0's auc_mu: 0.967229\tvalid_0's multi_logloss: 0.651727                \n",
      "[148]\tvalid_0's auc_mu: 0.966945\tvalid_0's multi_logloss: 0.650603                \n",
      "[149]\tvalid_0's auc_mu: 0.967014\tvalid_0's multi_logloss: 0.649327                \n",
      "[150]\tvalid_0's auc_mu: 0.966289\tvalid_0's multi_logloss: 0.649028                \n",
      "[151]\tvalid_0's auc_mu: 0.96622\tvalid_0's multi_logloss: 0.648894                 \n",
      "[152]\tvalid_0's auc_mu: 0.966266\tvalid_0's multi_logloss: 0.648686                \n",
      "[153]\tvalid_0's auc_mu: 0.966278\tvalid_0's multi_logloss: 0.64882                 \n",
      "[154]\tvalid_0's auc_mu: 0.966107\tvalid_0's multi_logloss: 0.648949                \n",
      "[155]\tvalid_0's auc_mu: 0.966208\tvalid_0's multi_logloss: 0.648713                \n",
      "[156]\tvalid_0's auc_mu: 0.966108\tvalid_0's multi_logloss: 0.648824                \n",
      "[157]\tvalid_0's auc_mu: 0.965977\tvalid_0's multi_logloss: 0.648949                \n",
      "[158]\tvalid_0's auc_mu: 0.965981\tvalid_0's multi_logloss: 0.647705                \n",
      "[159]\tvalid_0's auc_mu: 0.965971\tvalid_0's multi_logloss: 0.647711                \n",
      "[160]\tvalid_0's auc_mu: 0.96599\tvalid_0's multi_logloss: 0.64763                  \n",
      "[161]\tvalid_0's auc_mu: 0.966053\tvalid_0's multi_logloss: 0.647636                \n",
      "[162]\tvalid_0's auc_mu: 0.965789\tvalid_0's multi_logloss: 0.648143                \n",
      "[163]\tvalid_0's auc_mu: 0.965845\tvalid_0's multi_logloss: 0.648177                \n",
      "[164]\tvalid_0's auc_mu: 0.965591\tvalid_0's multi_logloss: 0.648438                \n",
      "[165]\tvalid_0's auc_mu: 0.965917\tvalid_0's multi_logloss: 0.647747                \n",
      "[166]\tvalid_0's auc_mu: 0.965892\tvalid_0's multi_logloss: 0.647685                \n",
      "[167]\tvalid_0's auc_mu: 0.965484\tvalid_0's multi_logloss: 0.648427                \n",
      "[168]\tvalid_0's auc_mu: 0.965639\tvalid_0's multi_logloss: 0.648206                \n",
      "[169]\tvalid_0's auc_mu: 0.965673\tvalid_0's multi_logloss: 0.648107                \n",
      "100%|██████████| 50/50 [01:44<00:00,  2.08s/trial, best loss: -0.5661264148243174]\n"
     ]
    },
    {
     "name": "stderr",
     "output_type": "stream",
     "text": [
      "c:\\users\\administrator\\documents\\github\\dazed-confusion-matrix\\venv\\lib\\site-packages\\lightgbm\\callback.py:186: UserWarning: Early stopping is not available in dart mode\n",
      "  warnings.warn('Early stopping is not available in dart mode')\n",
      "\n",
      "c:\\users\\administrator\\documents\\github\\dazed-confusion-matrix\\venv\\lib\\site-packages\\lightgbm\\callback.py:186: UserWarning: Early stopping is not available in dart mode\n",
      "  warnings.warn('Early stopping is not available in dart mode')\n",
      "\n",
      "c:\\users\\administrator\\documents\\github\\dazed-confusion-matrix\\venv\\lib\\site-packages\\lightgbm\\callback.py:186: UserWarning: Early stopping is not available in dart mode\n",
      "  warnings.warn('Early stopping is not available in dart mode')\n",
      "\n",
      "c:\\users\\administrator\\documents\\github\\dazed-confusion-matrix\\venv\\lib\\site-packages\\lightgbm\\callback.py:186: UserWarning: Early stopping is not available in dart mode\n",
      "  warnings.warn('Early stopping is not available in dart mode')\n",
      "\n",
      "c:\\users\\administrator\\documents\\github\\dazed-confusion-matrix\\venv\\lib\\site-packages\\lightgbm\\callback.py:186: UserWarning: Early stopping is not available in dart mode\n",
      "  warnings.warn('Early stopping is not available in dart mode')\n",
      "\n",
      "c:\\users\\administrator\\documents\\github\\dazed-confusion-matrix\\venv\\lib\\site-packages\\lightgbm\\callback.py:186: UserWarning: Early stopping is not available in dart mode\n",
      "  warnings.warn('Early stopping is not available in dart mode')\n",
      "\n",
      "c:\\users\\administrator\\documents\\github\\dazed-confusion-matrix\\venv\\lib\\site-packages\\lightgbm\\callback.py:186: UserWarning: Early stopping is not available in dart mode\n",
      "  warnings.warn('Early stopping is not available in dart mode')\n",
      "\n",
      "c:\\users\\administrator\\documents\\github\\dazed-confusion-matrix\\venv\\lib\\site-packages\\lightgbm\\callback.py:186: UserWarning: Early stopping is not available in dart mode\n",
      "  warnings.warn('Early stopping is not available in dart mode')\n",
      "\n",
      "c:\\users\\administrator\\documents\\github\\dazed-confusion-matrix\\venv\\lib\\site-packages\\lightgbm\\callback.py:186: UserWarning: Early stopping is not available in dart mode\n",
      "  warnings.warn('Early stopping is not available in dart mode')\n",
      "\n",
      "c:\\users\\administrator\\documents\\github\\dazed-confusion-matrix\\venv\\lib\\site-packages\\lightgbm\\callback.py:186: UserWarning: Early stopping is not available in dart mode\n",
      "  warnings.warn('Early stopping is not available in dart mode')\n",
      "\n",
      "c:\\users\\administrator\\documents\\github\\dazed-confusion-matrix\\venv\\lib\\site-packages\\lightgbm\\callback.py:186: UserWarning: Early stopping is not available in dart mode\n",
      "  warnings.warn('Early stopping is not available in dart mode')\n",
      "\n",
      "c:\\users\\administrator\\documents\\github\\dazed-confusion-matrix\\venv\\lib\\site-packages\\lightgbm\\callback.py:186: UserWarning: Early stopping is not available in dart mode\n",
      "  warnings.warn('Early stopping is not available in dart mode')\n",
      "\n",
      "c:\\users\\administrator\\documents\\github\\dazed-confusion-matrix\\venv\\lib\\site-packages\\lightgbm\\callback.py:186: UserWarning: Early stopping is not available in dart mode\n",
      "  warnings.warn('Early stopping is not available in dart mode')\n",
      "\n",
      "c:\\users\\administrator\\documents\\github\\dazed-confusion-matrix\\venv\\lib\\site-packages\\lightgbm\\callback.py:186: UserWarning: Early stopping is not available in dart mode\n",
      "  warnings.warn('Early stopping is not available in dart mode')\n",
      "\n",
      "c:\\users\\administrator\\documents\\github\\dazed-confusion-matrix\\venv\\lib\\site-packages\\lightgbm\\callback.py:186: UserWarning: Early stopping is not available in dart mode\n",
      "  warnings.warn('Early stopping is not available in dart mode')\n",
      "\n"
     ]
    }
   ],
   "source": [
    "with mlflow.start_run(run_name='lightgbm_911_3'):\n",
    "  best_params = fmin(\n",
    "    fn=train_model,\n",
    "    space=search_space,\n",
    "    algo=tpe.suggest,\n",
    "    max_evals=50,\n",
    "    trials=Trials(),\n",
    "    rstate=np.random.RandomState(42069)\n",
    "  )"
   ],
   "metadata": {
    "collapsed": false,
    "pycharm": {
     "name": "#%%\n"
    }
   }
  },
  {
   "cell_type": "markdown",
   "source": [
    "Oh god. Let's turn that validation verbose off."
   ],
   "metadata": {
    "collapsed": false,
    "pycharm": {
     "name": "#%% md\n"
    }
   }
  },
  {
   "cell_type": "code",
   "execution_count": 286,
   "outputs": [
    {
     "data": {
      "image/jpeg": "[encoded data removed]",
      "text/plain": "<IPython.core.display.Image object>"
     },
     "execution_count": 286,
     "metadata": {},
     "output_type": "execute_result"
    }
   ],
   "source": [
    "Image(filename='../images/911_1.JPG')\n"
   ],
   "metadata": {
    "collapsed": false,
    "pycharm": {
     "name": "#%%\n"
    }
   }
  },
  {
   "cell_type": "code",
   "source": [
    "check = lgb.LGBMClassifier(class_weight=\"balanced\", max_depth=15,min_child_samples=26,\n",
    "            min_child_weight=0.12852574086802737, n_jobs=-1, silent=True, objective = \"multiclass\",random_state=42069,\n",
    "                    num_class=15, n_estimators=42, num_leaves=23, reg_alpha=2.2856428322539624)\n"
   ],
   "metadata": {
    "collapsed": false,
    "pycharm": {
     "name": "#%%\n"
    }
   },
   "execution_count": 287,
   "outputs": []
  },
  {
   "cell_type": "code",
   "execution_count": 288,
   "outputs": [
    {
     "data": {
      "text/plain": "LGBMClassifier(class_weight='balanced', max_depth=15, min_child_samples=26,\n               min_child_weight=0.12852574086802737, n_estimators=42,\n               num_class=15, num_leaves=23, objective='multiclass',\n               random_state=42069, reg_alpha=2.2856428322539624)"
     },
     "execution_count": 288,
     "metadata": {},
     "output_type": "execute_result"
    }
   ],
   "source": [
    "check.fit(X_train,y_train,eval_metric=\"auc_mu\", eval_set=[(X_valid, y_valid)], early_stopping_rounds=15, verbose=False)"
   ],
   "metadata": {
    "collapsed": false,
    "pycharm": {
     "name": "#%%\n"
    }
   }
  },
  {
   "cell_type": "code",
   "execution_count": 289,
   "outputs": [],
   "source": [
    "score = cross_val_score(check, X_train, y_train, cv=5, scoring='f1_macro', n_jobs=-1)"
   ],
   "metadata": {
    "collapsed": false,
    "pycharm": {
     "name": "#%%\n"
    }
   }
  },
  {
   "cell_type": "code",
   "execution_count": 290,
   "outputs": [
    {
     "data": {
      "text/plain": "0.5661264148243174"
     },
     "execution_count": 290,
     "metadata": {},
     "output_type": "execute_result"
    }
   ],
   "source": [
    "np.mean(score)"
   ],
   "metadata": {
    "collapsed": false,
    "pycharm": {
     "name": "#%%\n"
    }
   }
  },
  {
   "cell_type": "code",
   "execution_count": 291,
   "outputs": [
    {
     "data": {
      "text/plain": "<AxesSubplot:title={'center':'Feature importance'}, xlabel='Feature importance', ylabel='Features'>"
     },
     "execution_count": 291,
     "metadata": {},
     "output_type": "execute_result"
    },
    {
     "data": {
      "text/plain": "<Figure size 432x288 with 1 Axes>",
      "image/png": "[encoded data removed]"
     },
     "metadata": {
      "needs_background": "light"
     },
     "output_type": "display_data"
    }
   ],
   "source": [
    "lgb.plot_importance(check)"
   ],
   "metadata": {
    "collapsed": false,
    "pycharm": {
     "name": "#%%\n"
    }
   }
  },
  {
   "cell_type": "markdown",
   "source": [
    "Looks like everything is pretty important. Won't bother dropping anything in the interest of time, but can experiment with this later\n"
   ],
   "metadata": {
    "collapsed": false,
    "pycharm": {
     "name": "#%% md\n"
    }
   }
  },
  {
   "cell_type": "code",
   "execution_count": 294,
   "outputs": [],
   "source": [
    "def train_model(params):\n",
    "    mlflow.lightgbm.autolog()\n",
    "    with mlflow.start_run(nested=True):\n",
    "        booster = lgb.LGBMClassifier(**params, n_jobs=-1, silent=True, objective = \"multiclass\",random_state=42069,\n",
    "                    num_class=15)\n",
    "        booster.fit(X_train,y_train,eval_metric=\"auc_mu\", eval_set=[(X_valid, y_valid)], early_stopping_rounds=15,\n",
    "                    verbose=False)\n",
    "\n",
    "        mlflow.log_params(params)\n",
    "\n",
    "        score = cross_val_score(booster, X_train, y_train, cv=5, scoring='f1_macro', n_jobs=-1)\n",
    "        mean_score = np.mean(score)\n",
    "\n",
    "        mlflow.log_metric('f1_macro', mean_score)\n",
    "\n",
    "        return {'status': STATUS_OK, 'loss': -1*mean_score, 'booster': booster.get_params()}\n"
   ],
   "metadata": {
    "collapsed": false,
    "pycharm": {
     "name": "#%%\n"
    }
   }
  },
  {
   "cell_type": "code",
   "execution_count": 293,
   "outputs": [],
   "source": [
    "search_space = {\n",
    "    'max_depth': scope.int(hp.quniform('max_depth', 4, 30,1)),\n",
    "    'n_estimators': scope.int(hp.quniform('n_estimators', 4, 200, 1)),\n",
    "    'num_leaves': scope.int(hp.quniform('num_leaves', 5, 50,1)),\n",
    "    'reg_alpha': hp.loguniform('reg_l1', -10, 2.5),\n",
    "    'min_child_weight': hp.loguniform('min_child_weight', -10, 2.5),\n",
    "    'min_child_samples': scope.int(hp.quniform('min_child_samples',2,40,1)),\n",
    "    \"boosting\": hp.choice(\"boosting\",[\"gbdt\", \"dart\", \"goss\"]),\n",
    "    \"class_weight\": \"balanced\"\n",
    "}\n"
   ],
   "metadata": {
    "collapsed": false,
    "pycharm": {
     "name": "#%%\n"
    }
   }
  },
  {
   "cell_type": "code",
   "execution_count": 295,
   "outputs": [
    {
     "name": "stdout",
     "output_type": "stream",
     "text": [
      "100%|██████████| 50/50 [01:48<00:00,  2.17s/trial, best loss: -0.5731472535021153]\n"
     ]
    },
    {
     "name": "stderr",
     "output_type": "stream",
     "text": [
      "c:\\users\\administrator\\documents\\github\\dazed-confusion-matrix\\venv\\lib\\site-packages\\lightgbm\\callback.py:186: UserWarning: Early stopping is not available in dart mode\n",
      "  warnings.warn('Early stopping is not available in dart mode')\n",
      "\n",
      "c:\\users\\administrator\\documents\\github\\dazed-confusion-matrix\\venv\\lib\\site-packages\\lightgbm\\callback.py:186: UserWarning: Early stopping is not available in dart mode\n",
      "  warnings.warn('Early stopping is not available in dart mode')\n",
      "\n",
      "c:\\users\\administrator\\documents\\github\\dazed-confusion-matrix\\venv\\lib\\site-packages\\lightgbm\\callback.py:186: UserWarning: Early stopping is not available in dart mode\n",
      "  warnings.warn('Early stopping is not available in dart mode')\n",
      "\n",
      "c:\\users\\administrator\\documents\\github\\dazed-confusion-matrix\\venv\\lib\\site-packages\\lightgbm\\callback.py:186: UserWarning: Early stopping is not available in dart mode\n",
      "  warnings.warn('Early stopping is not available in dart mode')\n",
      "\n",
      "c:\\users\\administrator\\documents\\github\\dazed-confusion-matrix\\venv\\lib\\site-packages\\lightgbm\\callback.py:186: UserWarning: Early stopping is not available in dart mode\n",
      "  warnings.warn('Early stopping is not available in dart mode')\n",
      "\n",
      "c:\\users\\administrator\\documents\\github\\dazed-confusion-matrix\\venv\\lib\\site-packages\\lightgbm\\callback.py:186: UserWarning: Early stopping is not available in dart mode\n",
      "  warnings.warn('Early stopping is not available in dart mode')\n",
      "\n",
      "c:\\users\\administrator\\documents\\github\\dazed-confusion-matrix\\venv\\lib\\site-packages\\lightgbm\\callback.py:186: UserWarning: Early stopping is not available in dart mode\n",
      "  warnings.warn('Early stopping is not available in dart mode')\n",
      "\n",
      "c:\\users\\administrator\\documents\\github\\dazed-confusion-matrix\\venv\\lib\\site-packages\\lightgbm\\callback.py:186: UserWarning: Early stopping is not available in dart mode\n",
      "  warnings.warn('Early stopping is not available in dart mode')\n",
      "\n",
      "c:\\users\\administrator\\documents\\github\\dazed-confusion-matrix\\venv\\lib\\site-packages\\lightgbm\\callback.py:186: UserWarning: Early stopping is not available in dart mode\n",
      "  warnings.warn('Early stopping is not available in dart mode')\n",
      "\n",
      "c:\\users\\administrator\\documents\\github\\dazed-confusion-matrix\\venv\\lib\\site-packages\\lightgbm\\callback.py:186: UserWarning: Early stopping is not available in dart mode\n",
      "  warnings.warn('Early stopping is not available in dart mode')\n",
      "\n",
      "c:\\users\\administrator\\documents\\github\\dazed-confusion-matrix\\venv\\lib\\site-packages\\lightgbm\\callback.py:186: UserWarning: Early stopping is not available in dart mode\n",
      "  warnings.warn('Early stopping is not available in dart mode')\n",
      "\n",
      "c:\\users\\administrator\\documents\\github\\dazed-confusion-matrix\\venv\\lib\\site-packages\\lightgbm\\callback.py:186: UserWarning: Early stopping is not available in dart mode\n",
      "  warnings.warn('Early stopping is not available in dart mode')\n",
      "\n"
     ]
    }
   ],
   "source": [
    "with mlflow.start_run(run_name='lightgbm_911_4'):\n",
    "  best_params = fmin(\n",
    "    fn=train_model,\n",
    "    space=search_space,\n",
    "    algo=tpe.suggest,\n",
    "    max_evals=50,\n",
    "    trials=Trials(),\n",
    "    rstate=np.random.RandomState(42069)\n",
    "  )\n"
   ],
   "metadata": {
    "collapsed": false,
    "pycharm": {
     "name": "#%%\n"
    }
   }
  },
  {
   "cell_type": "code",
   "execution_count": 297,
   "outputs": [
    {
     "data": {
      "image/jpeg": "[encoded data removed]",
      "text/plain": "<IPython.core.display.Image object>"
     },
     "execution_count": 297,
     "metadata": {},
     "output_type": "execute_result"
    }
   ],
   "source": [
    "Image(filename='../images/911_2.JPG')"
   ],
   "metadata": {
    "collapsed": false,
    "pycharm": {
     "name": "#%%\n"
    }
   }
  },
  {
   "cell_type": "markdown",
   "source": [
    "Niiiiice. One more run to see if we can beat that one."
   ],
   "metadata": {
    "collapsed": false,
    "pycharm": {
     "name": "#%% md\n"
    }
   }
  },
  {
   "cell_type": "code",
   "execution_count": 302,
   "outputs": [],
   "source": [
    "search_space = {\n",
    "    'max_depth': scope.int(hp.quniform('max_depth', 29, 50,1)),\n",
    "    'n_estimators': scope.int(hp.quniform('n_estimators', 4, 200, 1)),\n",
    "    'num_leaves': scope.int(hp.quniform('num_leaves', 5, 30,1)),\n",
    "    'reg_alpha': hp.loguniform('reg_l1', -10, 1.5),\n",
    "    'min_child_weight': hp.loguniform('min_child_weight', -10, 0.5),\n",
    "    'min_child_samples': scope.int(hp.quniform('min_child_samples',2,40,1)),\n",
    "    \"boosting\": \"goss\",\n",
    "    \"class_weight\": \"balanced\"\n",
    "}"
   ],
   "metadata": {
    "collapsed": false,
    "pycharm": {
     "name": "#%%\n"
    }
   }
  },
  {
   "cell_type": "code",
   "execution_count": 303,
   "outputs": [
    {
     "name": "stdout",
     "output_type": "stream",
     "text": [
      "100%|██████████| 100/100 [02:38<00:00,  1.58s/trial, best loss: -0.5691289961032521]\n"
     ]
    }
   ],
   "source": [
    "with mlflow.start_run(run_name='lightgbm_911_7'):\n",
    "  best_params = fmin(\n",
    "    fn=train_model,\n",
    "    space=search_space,\n",
    "    algo=tpe.suggest,\n",
    "    max_evals=100,\n",
    "    trials=Trials(),\n",
    "    rstate=np.random.RandomState(42069)\n",
    "  )"
   ],
   "metadata": {
    "collapsed": false,
    "pycharm": {
     "name": "#%%\n"
    }
   }
  },
  {
   "cell_type": "markdown",
   "source": [
    "Damn. Alright the earlier one wins.\n"
   ],
   "metadata": {
    "collapsed": false,
    "pycharm": {
     "name": "#%% md\n"
    }
   }
  },
  {
   "cell_type": "code",
   "execution_count": 11,
   "outputs": [],
   "source": [
    "MODEL = lgb.LGBMClassifier(boosting_type=\"goss\",n_jobs=-1, silent=True,\n",
    "                    objective = \"multiclass\",random_state=42069, class_weight=\"balanced\", max_depth=30,\n",
    "                    num_class=15, min_child_samples=19, min_child_weight=0.00020106166502972648,\n",
    "                    n_estimators=79, num_leaves=17, reg_alpha=1.998033356098756)"
   ],
   "metadata": {
    "collapsed": false,
    "pycharm": {
     "name": "#%%\n"
    }
   }
  },
  {
   "cell_type": "code",
   "execution_count": 12,
   "outputs": [
    {
     "data": {
      "text/plain": "LGBMClassifier(boosting_type='goss', class_weight='balanced', max_depth=30,\n               min_child_samples=19, min_child_weight=0.00020106166502972648,\n               n_estimators=79, num_class=15, num_leaves=17,\n               objective='multiclass', random_state=42069,\n               reg_alpha=1.998033356098756)"
     },
     "execution_count": 12,
     "metadata": {},
     "output_type": "execute_result"
    }
   ],
   "source": [
    "MODEL.fit(X_train,y_train,eval_metric=\"auc_mu\", eval_set=[(X_valid, y_valid)], early_stopping_rounds=15,\n",
    "                    verbose=False)\n"
   ],
   "metadata": {
    "collapsed": false,
    "pycharm": {
     "name": "#%%\n"
    }
   }
  },
  {
   "cell_type": "code",
   "execution_count": 307,
   "outputs": [
    {
     "data": {
      "text/plain": "0.5731472535021153"
     },
     "execution_count": 307,
     "metadata": {},
     "output_type": "execute_result"
    }
   ],
   "source": [
    "score = cross_val_score(MODEL, X_train, y_train, cv=5, scoring='f1_macro', n_jobs=-1)\n",
    "np.mean(score)\n"
   ],
   "metadata": {
    "collapsed": false,
    "pycharm": {
     "name": "#%%\n"
    }
   }
  },
  {
   "cell_type": "code",
   "execution_count": 13,
   "outputs": [
    {
     "data": {
      "text/plain": "<lightgbm.basic.Booster at 0x25e3ae60400>"
     },
     "execution_count": 13,
     "metadata": {},
     "output_type": "execute_result"
    }
   ],
   "source": [
    "MODEL.booster_.save_model(\"911_model.txt\")"
   ],
   "metadata": {
    "collapsed": false,
    "pycharm": {
     "name": "#%%\n"
    }
   }
  },
  {
   "cell_type": "markdown",
   "source": [
    "# Now let's check the test data\n"
   ],
   "metadata": {
    "collapsed": false,
    "pycharm": {
     "name": "#%% md\n"
    }
   }
  },
  {
   "cell_type": "markdown",
   "source": [
    "Impute\n"
   ],
   "metadata": {
    "collapsed": false,
    "pycharm": {
     "name": "#%% md\n"
    }
   }
  },
  {
   "cell_type": "code",
   "execution_count": 75,
   "outputs": [],
   "source": [
    "completed_test = kernel.impute_new_data(new_data=test)\n"
   ],
   "metadata": {
    "collapsed": false,
    "pycharm": {
     "name": "#%%\n"
    }
   }
  },
  {
   "cell_type": "code",
   "execution_count": 76,
   "outputs": [],
   "source": [
    "completed_data_test = completed_test.complete_data(0)"
   ],
   "metadata": {
    "collapsed": false,
    "pycharm": {
     "name": "#%%\n"
    }
   }
  },
  {
   "cell_type": "code",
   "execution_count": 77,
   "outputs": [],
   "source": [
    "\n",
    "df_NA_test = test[test.isna().any(axis=1)]"
   ],
   "metadata": {
    "collapsed": false,
    "pycharm": {
     "name": "#%%\n"
    }
   }
  },
  {
   "cell_type": "code",
   "execution_count": 78,
   "outputs": [],
   "source": [
    "missing_neigh_test = list(df_NA_test[\"Neighborhood\"].unique())"
   ],
   "metadata": {
    "collapsed": false,
    "pycharm": {
     "name": "#%%\n"
    }
   }
  },
  {
   "cell_type": "code",
   "execution_count": 79,
   "outputs": [],
   "source": [
    "temp = test.dropna()"
   ],
   "metadata": {
    "collapsed": false,
    "pycharm": {
     "name": "#%%\n"
    }
   }
  },
  {
   "cell_type": "code",
   "execution_count": 80,
   "outputs": [
    {
     "data": {
      "text/plain": "Empty DataFrame\nColumns: [Description, Post, District, Neighborhood, Longitude, Latitude, Premise, CallDescription, Year, median_household_income, households_below_poverty, perc18_24, perc25_64, perc65up, perc_asian, perc_aa, perc_hisp, perc_white, median_price_homes_sold, racial_diversity_index, num_households, Month, crime_hour, Outside, Weapon_FIREARM, Weapon_HANDS, Weapon_KNIFE, Weapon_NONE, Weapon_OTHER, call_hour, Season_autumn, Season_spring, Season_summer, Season_winter, Holiday, Weekend, Priority_HIGH, Priority_LOW, Priority_MEDIUM, Priority_NON-EMERGENCY, Priority_OUT OF SERVICE, Priority_UNKNOWN]\nIndex: []\n\n[0 rows x 42 columns]",
      "text/html": "<div>\n<style scoped>\n    .dataframe tbody tr th:only-of-type {\n        vertical-align: middle;\n    }\n\n    .dataframe tbody tr th {\n        vertical-align: top;\n    }\n\n    .dataframe thead th {\n        text-align: right;\n    }\n</style>\n<table border=\"1\" class=\"dataframe\">\n  <thead>\n    <tr style=\"text-align: right;\">\n      <th></th>\n      <th>Description</th>\n      <th>Post</th>\n      <th>District</th>\n      <th>Neighborhood</th>\n      <th>Longitude</th>\n      <th>Latitude</th>\n      <th>Premise</th>\n      <th>CallDescription</th>\n      <th>Year</th>\n      <th>median_household_income</th>\n      <th>...</th>\n      <th>Season_summer</th>\n      <th>Season_winter</th>\n      <th>Holiday</th>\n      <th>Weekend</th>\n      <th>Priority_HIGH</th>\n      <th>Priority_LOW</th>\n      <th>Priority_MEDIUM</th>\n      <th>Priority_NON-EMERGENCY</th>\n      <th>Priority_OUT OF SERVICE</th>\n      <th>Priority_UNKNOWN</th>\n    </tr>\n  </thead>\n  <tbody>\n  </tbody>\n</table>\n<p>0 rows × 42 columns</p>\n</div>"
     },
     "execution_count": 80,
     "metadata": {},
     "output_type": "execute_result"
    }
   ],
   "source": [
    "temp[temp[\"Neighborhood\"].isin(missing_neigh_test)]\n"
   ],
   "metadata": {
    "collapsed": false,
    "pycharm": {
     "name": "#%%\n"
    }
   }
  },
  {
   "cell_type": "code",
   "execution_count": 81,
   "outputs": [],
   "source": [
    "means = completed_data_test.groupby(\"Neighborhood\").mean()"
   ],
   "metadata": {
    "collapsed": false,
    "pycharm": {
     "name": "#%%\n"
    }
   }
  },
  {
   "cell_type": "code",
   "execution_count": 82,
   "outputs": [],
   "source": [
    "means_1 = means[[\"median_household_income\",\"households_below_poverty\",\"perc18_24\",\"perc25_64\",\"perc65up\",\"perc_asian\",\"perc_aa\",\"perc_hisp\",\"perc_white\",\"median_price_homes_sold\",\"racial_diversity_index\",\"num_households\"]]"
   ],
   "metadata": {
    "collapsed": false,
    "pycharm": {
     "name": "#%%\n"
    }
   }
  },
  {
   "cell_type": "code",
   "execution_count": 83,
   "outputs": [],
   "source": [
    "missing_means = means_1.loc[missing_neigh_test]\n"
   ],
   "metadata": {
    "collapsed": false,
    "pycharm": {
     "name": "#%%\n"
    }
   }
  },
  {
   "cell_type": "code",
   "execution_count": 84,
   "outputs": [],
   "source": [
    "for i in missing_neigh_test:\n",
    "    completed_data_test.loc[completed_data_test[\"Neighborhood\"]==i,\"median_household_income\"] = missing_means[\"median_household_income\"].loc[i]\n",
    "    completed_data_test.loc[completed_data_test[\"Neighborhood\"]==i,\"households_below_poverty\"] = missing_means[\"households_below_poverty\"].loc[i]\n",
    "    completed_data_test.loc[completed_data_test[\"Neighborhood\"]==i,\"perc18_24\"] = missing_means[\"perc18_24\"].loc[i]\n",
    "    completed_data_test.loc[completed_data_test[\"Neighborhood\"]==i,\"perc25_64\"] = missing_means[\"perc25_64\"].loc[i]\n",
    "    completed_data_test.loc[completed_data_test[\"Neighborhood\"]==i,\"perc65up\"] = missing_means[\"perc65up\"].loc[i]\n",
    "    completed_data_test.loc[completed_data_test[\"Neighborhood\"]==i,\"perc_asian\"] = missing_means[\"perc_asian\"].loc[i]\n",
    "    completed_data_test.loc[completed_data_test[\"Neighborhood\"]==i,\"perc_aa\"] = missing_means[\"perc_aa\"].loc[i]\n",
    "    completed_data_test.loc[completed_data_test[\"Neighborhood\"]==i,\"perc_hisp\"] = missing_means[\"perc_hisp\"].loc[i]\n",
    "    completed_data_test.loc[completed_data_test[\"Neighborhood\"]==i,\"perc_white\"] = missing_means[\"perc_white\"].loc[i]\n",
    "    completed_data_test.loc[completed_data_test[\"Neighborhood\"]==i,\"median_price_homes_sold\"] = missing_means[\"median_price_homes_sold\"].loc[i]\n",
    "    completed_data_test.loc[completed_data_test[\"Neighborhood\"]==i,\"racial_diversity_index\"] = missing_means[\"racial_diversity_index\"].loc[i]\n",
    "    completed_data_test.loc[completed_data_test[\"Neighborhood\"]==i,\"num_households\"] = missing_means[\"num_households\"].loc[i]"
   ],
   "metadata": {
    "collapsed": false,
    "pycharm": {
     "name": "#%%\n"
    }
   }
  },
  {
   "cell_type": "code",
   "execution_count": 86,
   "outputs": [],
   "source": [
    "completed_data_test.to_csv(\"../data/TEST_911_DEMO_MERGED_ENCODED.CSV\", index=False)"
   ],
   "metadata": {
    "collapsed": false,
    "pycharm": {
     "name": "#%%\n"
    }
   }
  },
  {
   "cell_type": "code",
   "execution_count": 342,
   "outputs": [],
   "source": [
    "X_final_test = completed_data_test.drop(columns=[\"Description\"])\n",
    "y_final_test = completed_data_test[\"Description\"]"
   ],
   "metadata": {
    "collapsed": false,
    "pycharm": {
     "name": "#%%\n"
    }
   }
  },
  {
   "cell_type": "code",
   "execution_count": 343,
   "outputs": [
    {
     "data": {
      "text/plain": "Index(['Post', 'District', 'Neighborhood', 'Longitude', 'Latitude', 'Premise',\n       'CallDescription', 'Year', 'median_household_income',\n       'households_below_poverty', 'perc18_24', 'perc25_64', 'perc65up',\n       'perc_asian', 'perc_aa', 'perc_hisp', 'perc_white',\n       'median_price_homes_sold', 'racial_diversity_index', 'num_households',\n       'Month', 'crime_hour', 'Outside', 'Weapon_FIREARM', 'Weapon_HANDS',\n       'Weapon_KNIFE', 'Weapon_NONE', 'Weapon_OTHER', 'call_hour',\n       'Season_autumn', 'Season_spring', 'Season_summer', 'Season_winter',\n       'Holiday', 'Weekend', 'Priority_HIGH', 'Priority_LOW',\n       'Priority_MEDIUM', 'Priority_NON-EMERGENCY', 'Priority_OUT OF SERVICE',\n       'Priority_UNKNOWN'],\n      dtype='object')"
     },
     "execution_count": 343,
     "metadata": {},
     "output_type": "execute_result"
    }
   ],
   "source": [
    "X_final_test.columns"
   ],
   "metadata": {
    "collapsed": false,
    "pycharm": {
     "name": "#%%\n"
    }
   }
  },
  {
   "cell_type": "code",
   "execution_count": 344,
   "outputs": [],
   "source": [
    "X_final_test = X_final_test.drop(columns=[\"Post\",\"District\",\"Longitude\", \"Latitude\", \"Year\", \"Season_autumn\", \"Season_spring\", \"Season_winter\", \"Season_summer\"])"
   ],
   "metadata": {
    "collapsed": false,
    "pycharm": {
     "name": "#%%\n"
    }
   }
  },
  {
   "cell_type": "code",
   "execution_count": 345,
   "outputs": [],
   "source": [
    "predictions = MODEL.predict(X_final_test)"
   ],
   "metadata": {
    "collapsed": false,
    "pycharm": {
     "name": "#%%\n"
    }
   }
  },
  {
   "cell_type": "code",
   "execution_count": 347,
   "outputs": [
    {
     "data": {
      "text/plain": "<AxesSubplot:title={'center':'Feature importance'}, xlabel='Feature importance', ylabel='Features'>"
     },
     "execution_count": 347,
     "metadata": {},
     "output_type": "execute_result"
    },
    {
     "data": {
      "text/plain": "<Figure size 720x576 with 1 Axes>",
      "image/png": "[encoded data removed]"
     },
     "metadata": {
      "needs_background": "light"
     },
     "output_type": "display_data"
    }
   ],
   "source": [
    "lgb.plot_importance(MODEL, figsize=(10,8))"
   ],
   "metadata": {
    "collapsed": false,
    "pycharm": {
     "name": "#%%\n"
    }
   }
  },
  {
   "cell_type": "code",
   "execution_count": 348,
   "outputs": [],
   "source": [
    "from sklearn import metrics"
   ],
   "metadata": {
    "collapsed": false,
    "pycharm": {
     "name": "#%%\n"
    }
   }
  },
  {
   "cell_type": "code",
   "execution_count": 349,
   "outputs": [
    {
     "data": {
      "text/plain": "0.7720348204570185"
     },
     "execution_count": 349,
     "metadata": {},
     "output_type": "execute_result"
    }
   ],
   "source": [
    "metrics.accuracy_score(predictions,y_final_test)"
   ],
   "metadata": {
    "collapsed": false,
    "pycharm": {
     "name": "#%%\n"
    }
   }
  },
  {
   "cell_type": "code",
   "execution_count": 350,
   "outputs": [
    {
     "data": {
      "text/plain": "0.7720348204570185"
     },
     "execution_count": 350,
     "metadata": {},
     "output_type": "execute_result"
    }
   ],
   "source": [
    "metrics.recall_score(predictions,y_final_test,average=\"weighted\",zero_division=0)"
   ],
   "metadata": {
    "collapsed": false,
    "pycharm": {
     "name": "#%%\n"
    }
   }
  },
  {
   "cell_type": "code",
   "execution_count": 351,
   "outputs": [
    {
     "data": {
      "text/plain": "0.7850126869124439"
     },
     "execution_count": 351,
     "metadata": {},
     "output_type": "execute_result"
    }
   ],
   "source": [
    "metrics.precision_score(predictions,y_final_test,average=\"weighted\",zero_division=0)"
   ],
   "metadata": {
    "collapsed": false,
    "pycharm": {
     "name": "#%%\n"
    }
   }
  },
  {
   "cell_type": "code",
   "execution_count": 352,
   "outputs": [
    {
     "data": {
      "text/plain": "0.7679508258568465"
     },
     "execution_count": 352,
     "metadata": {},
     "output_type": "execute_result"
    }
   ],
   "source": [
    "metrics.f1_score(predictions,y_final_test,average=\"weighted\",zero_division=0)"
   ],
   "metadata": {
    "collapsed": false,
    "pycharm": {
     "name": "#%%\n"
    }
   }
  },
  {
   "cell_type": "code",
   "execution_count": 87,
   "outputs": [],
   "source": [
    "with open('../data/911_Premise_decoder.csv', 'w') as f:\n",
    "    for key in Premise.keys():\n",
    "        f.write(\"%s,%s\\n\"%(key,Premise[key]))"
   ],
   "metadata": {
    "collapsed": false,
    "pycharm": {
     "name": "#%%\n"
    }
   }
  },
  {
   "cell_type": "code",
   "execution_count": 88,
   "outputs": [],
   "source": [
    "with open('../data/911_Neighborhood_decoder.csv', 'w') as f:\n",
    "    for key in Neighborhood.keys():\n",
    "        f.write(\"%s,%s\\n\"%(key,Neighborhood[key]))"
   ],
   "metadata": {
    "collapsed": false,
    "pycharm": {
     "name": "#%%\n"
    }
   }
  },
  {
   "cell_type": "code",
   "execution_count": 89,
   "outputs": [],
   "source": [
    "with open('../data/911_District_decoder.csv', 'w') as f:\n",
    "    for key in District.keys():\n",
    "        f.write(\"%s,%s\\n\"%(key,District[key]))"
   ],
   "metadata": {
    "collapsed": false,
    "pycharm": {
     "name": "#%%\n"
    }
   }
  },
  {
   "cell_type": "code",
   "execution_count": 90,
   "outputs": [],
   "source": [
    "with open('../data/911_Description_decoder.csv', 'w') as f:\n",
    "    for key in Description.keys():\n",
    "        f.write(\"%s,%s\\n\"%(key,Description[key]))\n"
   ],
   "metadata": {
    "collapsed": false,
    "pycharm": {
     "name": "#%%\n"
    }
   }
  },
  {
   "cell_type": "code",
   "execution_count": 92,
   "outputs": [],
   "source": [
    "with open('../data/911_Call_Description_decoder.csv', 'w') as f:\n",
    "    for key in Call_Desc.keys():\n",
    "        f.write(\"%s,%s\\n\"%(key,Call_Desc[key]))"
   ],
   "metadata": {
    "collapsed": false,
    "pycharm": {
     "name": "#%%\n"
    }
   }
  },
  {
   "cell_type": "code",
   "execution_count": null,
   "outputs": [],
   "source": [],
   "metadata": {
    "collapsed": false,
    "pycharm": {
     "name": "#%%\n"
    }
   }
  }
 ],
 "metadata": {
  "kernelspec": {
   "display_name": "Python 3",
   "language": "python",
   "name": "python3"
  },
  "language_info": {
   "codemirror_mode": {
    "name": "ipython",
    "version": 2
   },
   "file_extension": ".py",
   "mimetype": "text/x-python",
   "name": "python",
   "nbconvert_exporter": "python",
   "pygments_lexer": "ipython2",
   "version": "2.7.6"
  }
 },
 "nbformat": 4,
 "nbformat_minor": 0
}