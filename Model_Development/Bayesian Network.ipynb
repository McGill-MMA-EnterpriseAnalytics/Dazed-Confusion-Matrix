{
 "cells": [
  {
   "cell_type": "markdown",
   "metadata": {},
   "source": [
    "## Bayesian Network\n",
    "\n",
    "In this notebook, we develop a Bayesian Network to predict crime type with new categorical variables from the 911 call dataset, where assumptions in Navie Bayes are relaxed (prior knowledge of the conditional probability). As Prof suggested, we use the pomegranate package. Note that we have to install older version of basic packages such as numpy.\n",
    "\n"
   ]
  },
  {
   "cell_type": "code",
   "execution_count": 1,
   "metadata": {},
   "outputs": [],
   "source": [
    "# !pip install pomegranate"
   ]
  },
  {
   "cell_type": "code",
   "execution_count": 2,
   "metadata": {},
   "outputs": [],
   "source": [
    "from pomegranate import *\n",
    "import numpy as np"
   ]
  },
  {
   "cell_type": "markdown",
   "metadata": {},
   "source": [
    "### Example 1: Conditional probability is given"
   ]
  },
  {
   "cell_type": "code",
   "execution_count": 3,
   "metadata": {},
   "outputs": [],
   "source": [
    "guest = DiscreteDistribution({'A': 1./3, 'B': 1./3, 'C': 1./3})\n",
    "prize = DiscreteDistribution({'A': 1./3, 'B': 1./3, 'C': 1./3})\n",
    "monty = ConditionalProbabilityTable(\n",
    "        [['A', 'A', 'A', 0.0],\n",
    "         ['A', 'A', 'B', 0.5],\n",
    "         ['A', 'A', 'C', 0.5],\n",
    "         ['A', 'B', 'A', 0.0],\n",
    "         ['A', 'B', 'B', 0.0],\n",
    "         ['A', 'B', 'C', 1.0],\n",
    "         ['A', 'C', 'A', 0.0],\n",
    "         ['A', 'C', 'B', 1.0],\n",
    "         ['A', 'C', 'C', 0.0],\n",
    "         ['B', 'A', 'A', 0.0],\n",
    "         ['B', 'A', 'B', 0.0],\n",
    "         ['B', 'A', 'C', 1.0],\n",
    "         ['B', 'B', 'A', 0.5],\n",
    "         ['B', 'B', 'B', 0.0],\n",
    "         ['B', 'B', 'C', 0.5],\n",
    "         ['B', 'C', 'A', 1.0],\n",
    "         ['B', 'C', 'B', 0.0],\n",
    "         ['B', 'C', 'C', 0.0],\n",
    "         ['C', 'A', 'A', 0.0],\n",
    "         ['C', 'A', 'B', 1.0],\n",
    "         ['C', 'A', 'C', 0.0],\n",
    "         ['C', 'B', 'A', 1.0],\n",
    "         ['C', 'B', 'B', 0.0],\n",
    "         ['C', 'B', 'C', 0.0],\n",
    "         ['C', 'C', 'A', 0.5],\n",
    "         ['C', 'C', 'B', 0.5],\n",
    "         ['C', 'C', 'C', 0.0]], [guest, prize])\n",
    "\n",
    "s1 = Node(guest, name=\"guest\")\n",
    "s2 = Node(prize, name=\"prize\")\n",
    "s3 = Node(monty, name=\"monty\")\n",
    "\n",
    "model = BayesianNetwork(\"Monty Hall Problem\")\n",
    "model.add_states(s1, s2, s3)\n",
    "model.add_edge(s1, s3)\n",
    "model.add_edge(s2, s3)\n",
    "model.bake()"
   ]
  },
  {
   "cell_type": "code",
   "execution_count": 4,
   "metadata": {},
   "outputs": [
    {
     "data": {
      "text/plain": [
       "array([0.        , 0.05555556, 0.05555556])"
      ]
     },
     "execution_count": 4,
     "metadata": {},
     "output_type": "execute_result"
    }
   ],
   "source": [
    "model.probability([['A', 'A', 'A'],\n",
    "                             ['A', 'A', 'B'],\n",
    "                             ['C', 'C', 'B']])"
   ]
  },
  {
   "cell_type": "code",
   "execution_count": 5,
   "metadata": {},
   "outputs": [
    {
     "data": {
      "text/plain": [
       "0.05555555555555555"
      ]
     },
     "execution_count": 5,
     "metadata": {},
     "output_type": "execute_result"
    }
   ],
   "source": [
    "#the calculation of the previous step\n",
    "0.5/9"
   ]
  },
  {
   "cell_type": "code",
   "execution_count": 6,
   "metadata": {
    "scrolled": true
   },
   "outputs": [
    {
     "name": "stdout",
     "output_type": "stream",
     "text": [
      "[array(['A', 'A', 'B'], dtype=object), array(['A', 'C', 'B'], dtype=object), array(['C', 'B', 'A'], dtype=object)]\n"
     ]
    }
   ],
   "source": [
    "print(model.predict([['A', 'A', None],\n",
    "                         ['A', 'C', None],\n",
    "                         ['C', 'B', None]]))"
   ]
  },
  {
   "cell_type": "markdown",
   "metadata": {},
   "source": [
    "### Example 2: Conditional probability is unknown"
   ]
  },
  {
   "cell_type": "code",
   "execution_count": 7,
   "metadata": {
    "scrolled": false
   },
   "outputs": [
    {
     "name": "stdout",
     "output_type": "stream",
     "text": [
      "((), (), (0,), (1,), (), (4,), (3,))\n"
     ]
    }
   ],
   "source": [
    "#Now we generate 2000 vectors of length 7\n",
    "#And let the 2nd element == the 4rd element == 7th element,\n",
    "#1st element == 3th element and 5th element == 6th element\n",
    "\n",
    "X = numpy.random.randint(2, size=(2000, 7))\n",
    "X[:,3] = X[:,1]\n",
    "X[:,6] = X[:,1]\n",
    "X[:,0] = X[:,2]\n",
    "X[:,4] = X[:,5]\n",
    "\n",
    "model = BayesianNetwork.from_samples(X, algorithm='exact')\n",
    "print(model.structure)"
   ]
  },
  {
   "cell_type": "code",
   "execution_count": 8,
   "metadata": {},
   "outputs": [
    {
     "data": {
      "text/plain": [
       "array([[0, 1, 0, 1, 0, 0, 1],\n",
       "       [0, 0, 0, 0, 1, 1, 0],\n",
       "       [1, 0, 1, 0, 1, 1, 0],\n",
       "       [0, 1, 0, 1, 0, 0, 1],\n",
       "       [1, 1, 1, 1, 0, 0, 1],\n",
       "       [0, 0, 0, 0, 1, 1, 0],\n",
       "       [1, 1, 1, 1, 1, 1, 1],\n",
       "       [1, 1, 1, 1, 1, 1, 1],\n",
       "       [1, 0, 1, 0, 1, 1, 0],\n",
       "       [1, 1, 1, 1, 1, 1, 1]])"
      ]
     },
     "execution_count": 8,
     "metadata": {},
     "output_type": "execute_result"
    }
   ],
   "source": [
    "X[:10]"
   ]
  },
  {
   "cell_type": "code",
   "execution_count": 9,
   "metadata": {
    "scrolled": true
   },
   "outputs": [
    {
     "data": {
      "text/plain": [
       "[array([0, 1, 0, 1, 0, 0, 1], dtype=object)]"
      ]
     },
     "execution_count": 9,
     "metadata": {},
     "output_type": "execute_result"
    }
   ],
   "source": [
    "model.predict([[0, 1, 0, 1, None, None, None]])"
   ]
  },
  {
   "cell_type": "code",
   "execution_count": 10,
   "metadata": {},
   "outputs": [
    {
     "data": {
      "image/png": "[encoded data removed]",
      "text/plain": [
       "<Figure size 432x288 with 1 Axes>"
      ]
     },
     "metadata": {
      "needs_background": "light"
     },
     "output_type": "display_data"
    }
   ],
   "source": [
    "model.plot()"
   ]
  },
  {
   "cell_type": "markdown",
   "metadata": {},
   "source": [
    "### 3. Crimes w/ 911 calls w/o demographic"
   ]
  },
  {
   "cell_type": "code",
   "execution_count": 2,
   "metadata": {},
   "outputs": [],
   "source": [
    "import pandas as pd\n",
    "from pomegranate import *\n",
    "import numpy as np"
   ]
  },
  {
   "cell_type": "code",
   "execution_count": 3,
   "metadata": {},
   "outputs": [],
   "source": [
    "df = pd.read_csv(\"crimes_with_calls_2015_unique_demographics.csv\", index_col=0)"
   ]
  },
  {
   "cell_type": "code",
   "execution_count": 4,
   "metadata": {},
   "outputs": [
    {
     "data": {
      "text/html": [
       "<div>\n",
       "<style scoped>\n",
       "    .dataframe tbody tr th:only-of-type {\n",
       "        vertical-align: middle;\n",
       "    }\n",
       "\n",
       "    .dataframe tbody tr th {\n",
       "        vertical-align: top;\n",
       "    }\n",
       "\n",
       "    .dataframe thead th {\n",
       "        text-align: right;\n",
       "    }\n",
       "</style>\n",
       "<table border=\"1\" class=\"dataframe\">\n",
       "  <thead>\n",
       "    <tr style=\"text-align: right;\">\n",
       "      <th></th>\n",
       "      <th>Unnamed: 0.1</th>\n",
       "      <th>CrimeDate</th>\n",
       "      <th>CrimeTime</th>\n",
       "      <th>CrimeCode</th>\n",
       "      <th>Location</th>\n",
       "      <th>Description</th>\n",
       "      <th>Inside/Outside</th>\n",
       "      <th>Weapon</th>\n",
       "      <th>Post</th>\n",
       "      <th>District</th>\n",
       "      <th>...</th>\n",
       "      <th>perc18_24</th>\n",
       "      <th>perc25_64</th>\n",
       "      <th>perc65up</th>\n",
       "      <th>perc_asian</th>\n",
       "      <th>perc_aa</th>\n",
       "      <th>perc_hisp</th>\n",
       "      <th>perc_white</th>\n",
       "      <th>median_price_homes_sold</th>\n",
       "      <th>racial_diversity_index</th>\n",
       "      <th>num_households</th>\n",
       "    </tr>\n",
       "  </thead>\n",
       "  <tbody>\n",
       "    <tr>\n",
       "      <th>0</th>\n",
       "      <td>131273</td>\n",
       "      <td>2015-01-01 00:00:00</td>\n",
       "      <td>22:15:00</td>\n",
       "      <td>6D</td>\n",
       "      <td>1200 RAMBLEWOOD RD</td>\n",
       "      <td>LARCENY FROM AUTO</td>\n",
       "      <td>O</td>\n",
       "      <td>NaN</td>\n",
       "      <td>414.0</td>\n",
       "      <td>NORTHEASTERN</td>\n",
       "      <td>...</td>\n",
       "      <td>11.921491</td>\n",
       "      <td>52.830846</td>\n",
       "      <td>13.559027</td>\n",
       "      <td>1.190407</td>\n",
       "      <td>90.029615</td>\n",
       "      <td>1.753673</td>\n",
       "      <td>6.474653</td>\n",
       "      <td>104400.0</td>\n",
       "      <td>20.416364</td>\n",
       "      <td>104400.0</td>\n",
       "    </tr>\n",
       "    <tr>\n",
       "      <th>1</th>\n",
       "      <td>131278</td>\n",
       "      <td>2015-01-01 00:00:00</td>\n",
       "      <td>21:00:00</td>\n",
       "      <td>6D</td>\n",
       "      <td>5800 BLAND AV</td>\n",
       "      <td>LARCENY FROM AUTO</td>\n",
       "      <td>O</td>\n",
       "      <td>NaN</td>\n",
       "      <td>632.0</td>\n",
       "      <td>NORTHWESTERN</td>\n",
       "      <td>...</td>\n",
       "      <td>7.457510</td>\n",
       "      <td>50.242803</td>\n",
       "      <td>17.799746</td>\n",
       "      <td>2.058041</td>\n",
       "      <td>61.804833</td>\n",
       "      <td>5.746329</td>\n",
       "      <td>26.904844</td>\n",
       "      <td>63500.0</td>\n",
       "      <td>57.696904</td>\n",
       "      <td>102600.0</td>\n",
       "    </tr>\n",
       "    <tr>\n",
       "      <th>2</th>\n",
       "      <td>131281</td>\n",
       "      <td>2015-01-01 00:00:00</td>\n",
       "      <td>21:00:00</td>\n",
       "      <td>7C</td>\n",
       "      <td>300 S CONKLING ST</td>\n",
       "      <td>AUTO THEFT</td>\n",
       "      <td>O</td>\n",
       "      <td>NaN</td>\n",
       "      <td>231.0</td>\n",
       "      <td>SOUTHEASTERN</td>\n",
       "      <td>...</td>\n",
       "      <td>6.926070</td>\n",
       "      <td>55.739300</td>\n",
       "      <td>12.373541</td>\n",
       "      <td>1.945525</td>\n",
       "      <td>14.250973</td>\n",
       "      <td>31.887160</td>\n",
       "      <td>45.846304</td>\n",
       "      <td>84950.0</td>\n",
       "      <td>75.564709</td>\n",
       "      <td>88000.0</td>\n",
       "    </tr>\n",
       "  </tbody>\n",
       "</table>\n",
       "<p>3 rows × 35 columns</p>\n",
       "</div>"
      ],
      "text/plain": [
       "   Unnamed: 0.1            CrimeDate CrimeTime CrimeCode            Location  \\\n",
       "0        131273  2015-01-01 00:00:00  22:15:00        6D  1200 RAMBLEWOOD RD   \n",
       "1        131278  2015-01-01 00:00:00  21:00:00        6D       5800 BLAND AV   \n",
       "2        131281  2015-01-01 00:00:00  21:00:00        7C   300 S CONKLING ST   \n",
       "\n",
       "         Description Inside/Outside Weapon   Post      District  ...  \\\n",
       "0  LARCENY FROM AUTO              O    NaN  414.0  NORTHEASTERN  ...   \n",
       "1  LARCENY FROM AUTO              O    NaN  632.0  NORTHWESTERN  ...   \n",
       "2         AUTO THEFT              O    NaN  231.0  SOUTHEASTERN  ...   \n",
       "\n",
       "   perc18_24  perc25_64   perc65up perc_asian    perc_aa  perc_hisp  \\\n",
       "0  11.921491  52.830846  13.559027   1.190407  90.029615   1.753673   \n",
       "1   7.457510  50.242803  17.799746   2.058041  61.804833   5.746329   \n",
       "2   6.926070  55.739300  12.373541   1.945525  14.250973  31.887160   \n",
       "\n",
       "   perc_white median_price_homes_sold racial_diversity_index num_households  \n",
       "0    6.474653                104400.0              20.416364       104400.0  \n",
       "1   26.904844                 63500.0              57.696904       102600.0  \n",
       "2   45.846304                 84950.0              75.564709        88000.0  \n",
       "\n",
       "[3 rows x 35 columns]"
      ]
     },
     "execution_count": 4,
     "metadata": {},
     "output_type": "execute_result"
    }
   ],
   "source": [
    "df.head(3)"
   ]
  },
  {
   "cell_type": "code",
   "execution_count": 5,
   "metadata": {
    "scrolled": true
   },
   "outputs": [
    {
     "data": {
      "text/plain": [
       "Inside/Outside     71\n",
       "District            0\n",
       "Neighborhood        0\n",
       "Premise            87\n",
       "Priority           69\n",
       "CallDescription     0\n",
       "Description         0\n",
       "dtype: int64"
      ]
     },
     "execution_count": 5,
     "metadata": {},
     "output_type": "execute_result"
    }
   ],
   "source": [
    "df = df[['Inside/Outside', \"District\",\"Neighborhood\",\"Premise\",\"Priority\",\"CallDescription\",\"Description\"]]\n",
    "df.isna().sum()"
   ]
  },
  {
   "cell_type": "code",
   "execution_count": 6,
   "metadata": {},
   "outputs": [
    {
     "data": {
      "text/html": [
       "<div>\n",
       "<style scoped>\n",
       "    .dataframe tbody tr th:only-of-type {\n",
       "        vertical-align: middle;\n",
       "    }\n",
       "\n",
       "    .dataframe tbody tr th {\n",
       "        vertical-align: top;\n",
       "    }\n",
       "\n",
       "    .dataframe thead th {\n",
       "        text-align: right;\n",
       "    }\n",
       "</style>\n",
       "<table border=\"1\" class=\"dataframe\">\n",
       "  <thead>\n",
       "    <tr style=\"text-align: right;\">\n",
       "      <th></th>\n",
       "      <th>Inside/Outside</th>\n",
       "      <th>District</th>\n",
       "      <th>Neighborhood</th>\n",
       "      <th>Premise</th>\n",
       "      <th>Priority</th>\n",
       "      <th>CallDescription</th>\n",
       "      <th>Description</th>\n",
       "    </tr>\n",
       "  </thead>\n",
       "  <tbody>\n",
       "    <tr>\n",
       "      <th>0</th>\n",
       "      <td>O</td>\n",
       "      <td>NORTHEASTERN</td>\n",
       "      <td>RAMBLEWOOD</td>\n",
       "      <td>STREET</td>\n",
       "      <td>Low</td>\n",
       "      <td>Larceny f/Auto</td>\n",
       "      <td>LARCENY FROM AUTO</td>\n",
       "    </tr>\n",
       "    <tr>\n",
       "      <th>1</th>\n",
       "      <td>O</td>\n",
       "      <td>NORTHWESTERN</td>\n",
       "      <td>GLEN</td>\n",
       "      <td>STREET</td>\n",
       "      <td>Low</td>\n",
       "      <td>Larceny f/Auto</td>\n",
       "      <td>LARCENY FROM AUTO</td>\n",
       "    </tr>\n",
       "    <tr>\n",
       "      <th>2</th>\n",
       "      <td>O</td>\n",
       "      <td>SOUTHEASTERN</td>\n",
       "      <td>HIGHLANDTOWN</td>\n",
       "      <td>STREET</td>\n",
       "      <td>Medium</td>\n",
       "      <td>Auto Theft</td>\n",
       "      <td>AUTO THEFT</td>\n",
       "    </tr>\n",
       "  </tbody>\n",
       "</table>\n",
       "</div>"
      ],
      "text/plain": [
       "  Inside/Outside      District  Neighborhood Premise Priority CallDescription  \\\n",
       "0              O  NORTHEASTERN    RAMBLEWOOD  STREET      Low  Larceny f/Auto   \n",
       "1              O  NORTHWESTERN          GLEN  STREET      Low  Larceny f/Auto   \n",
       "2              O  SOUTHEASTERN  HIGHLANDTOWN  STREET   Medium      Auto Theft   \n",
       "\n",
       "         Description  \n",
       "0  LARCENY FROM AUTO  \n",
       "1  LARCENY FROM AUTO  \n",
       "2         AUTO THEFT  "
      ]
     },
     "execution_count": 6,
     "metadata": {},
     "output_type": "execute_result"
    }
   ],
   "source": [
    "df = df.dropna().reset_index(drop=True)\n",
    "df.head(3)"
   ]
  },
  {
   "cell_type": "code",
   "execution_count": 7,
   "metadata": {},
   "outputs": [],
   "source": [
    "df['Inside/Outside'] = df['Inside/Outside'].replace('I', 'Inside')\n",
    "df['Inside/Outside'] = df['Inside/Outside'].replace('O', 'Outside')"
   ]
  },
  {
   "cell_type": "markdown",
   "metadata": {},
   "source": [
    "Borrowed Marek's cleaning code on Premise and CallDescription. Added a few more for CallDescription."
   ]
  },
  {
   "cell_type": "code",
   "execution_count": 8,
   "metadata": {},
   "outputs": [],
   "source": [
    "df['Premise'] = df['Premise'].str.upper()\n",
    "\n",
    "# Premise Modifications\n",
    "\n",
    "df['Premise'] = df['Premise'].replace('GARAGE ON', 'SHED/GARAGE')\n",
    "df['Premise'] = df['Premise'].replace('APT. LOCKE', 'APARTMENT')\n",
    "df['Premise'] = df['Premise'].replace('APT/CONDO', 'APARTMENT')\n",
    "df['Premise'] = df['Premise'].replace('COMMON BUS', 'BUS/AUTO')\n",
    "df['Premise'] = df['Premise'].replace('HOSP/NURS.', 'HOSPITAL')\n",
    "df['Premise'] = df['Premise'].replace('VEHICLE', 'BUS/AUTO')\n",
    "df['Premise'] = df['Premise'].replace('PRIVATE SC', 'SCHOOL')\n",
    "df['Premise'] = df['Premise'].replace('PUBLIC SCH', 'SCHOOL')\n",
    "df['Premise'] = df['Premise'].replace('TAVERN/NIG', 'BAR')\n",
    "df['Premise'] = df['Premise'].replace('RAILROAD C', 'BUS/RAILRO')\n",
    "df['Premise'] = df['Premise'].replace('COMMON BUS', 'BUS/AUTO')\n",
    "df['Premise'] = df['Premise'].replace('CHURCH', 'RELIGIOUS')\n",
    "df['Premise'] = df['Premise'].replace('ARENA', 'STADIUM')\n",
    "df['Premise'] = df['Premise'].replace('YARD/BUSIN', 'YARD')\n",
    "df['Premise'] = df['Premise'].replace('PIZZA/OTHE', 'RESTAURANT')\n",
    "df['Premise'] = df['Premise'].replace('DAY CARE F', 'SCHOOL PLA')\n",
    "df['Premise'] = df['Premise'].replace('MANUFACTUR', 'WAREHOUSE')\n",
    "df['Premise'] = df['Premise'].replace('MOBILE HOM', 'DWELLING')\n",
    "df['Premise'] = df['Premise'].replace('BOX CARS/C', 'BUS/RAILRO')\n",
    "df['Premise'] = df['Premise'].replace('PHOTO STUD', 'RETAIL/SMA')\n",
    "df['Premise'] = df['Premise'].replace('TRUCKING &', 'TRACTOR TR')\n",
    "df['Premise'] = df['Premise'].replace('SKYWALK', 'PUBLIC ARE')\n",
    "df['Premise'] = df['Premise'].replace('FINANCE/LO', 'BANK/FINAN')\n",
    "df['Premise'] = df['Premise'].replace('STRUCTURE-', 'UNKNOWN')\n",
    "df['Premise'] = df['Premise'].replace('BLDG UNDER', 'CONSTRUCTI')\n",
    "df['Premise'] = df['Premise'].replace('HOUSE UNDE', 'CONSTRUCTI')\n",
    "df['Premise'] = df['Premise'].replace('MAILBOX-ST', 'STREET')\n",
    "df['Premise'] = df['Premise'].replace('RENTAL/VID', 'RETAIL/SMA')"
   ]
  },
  {
   "cell_type": "code",
   "execution_count": 9,
   "metadata": {},
   "outputs": [
    {
     "data": {
      "text/plain": [
       "array(['LARCENY FROM AUTO', 'AUTO THEFT', 'BURGLARY',\n",
       "       'ROBBERY - COMMERCIAL', 'LARCENY', 'SHOOTING', 'AGG. ASSAULT',\n",
       "       'COMMON ASSAULT', 'ROBBERY - RESIDENCE', 'ROBBERY - STREET',\n",
       "       'ROBBERY - CARJACKING', 'HOMICIDE', 'ASSAULT BY THREAT', 'ARSON',\n",
       "       'RAPE'], dtype=object)"
      ]
     },
     "execution_count": 9,
     "metadata": {},
     "output_type": "execute_result"
    }
   ],
   "source": [
    "df[\"Description\"].unique()"
   ]
  },
  {
   "cell_type": "code",
   "execution_count": 10,
   "metadata": {},
   "outputs": [],
   "source": [
    "df[\"CallDescription\"] = df['CallDescription'].str.upper()\n",
    "df = df[df[\"CallDescription\"]!= \"`\"]\n",
    "df = df[df[\"CallDescription\"]!= \"911/HANGUP\"]\n",
    "df = df[df[\"CallDescription\"]!= \"911/NO VOICE\"]\n",
    "df[\"CallDescription\"] = df[\"CallDescription\"].str.replace(\"*\",\"\")\n",
    "df['CallDescription'] = df['CallDescription'].replace('AUTO ACC/INJURY', 'AUTO ACCIDENT')\n",
    "df['CallDescription'] = df['CallDescription'].replace('AED NONBREATHIG', 'AED NONBREATHING')\n",
    "df['CallDescription'] = df['CallDescription'].replace('ASSIST', 'ASSISTANCE')\n",
    "df['CallDescription'] = df['CallDescription'].replace('ATTEMPT', 'ATTEMPTED')\n",
    "df['CallDescription'] = df['CallDescription'].replace('ATTEMTED', 'ATTEMPTED')\n",
    "df['CallDescription'] = df['CallDescription'].replace('ATTMPT BURGLARY', 'ATTEMPTED THEFT')\n",
    "df['CallDescription'] = df['CallDescription'].replace('BAIL OUT', 'BAILOUT')\n",
    "df['CallDescription'] = df['CallDescription'].replace('BY THREATS', 'BY THREAT')\n",
    "df['CallDescription'] = df['CallDescription'].replace('CHECK WELL BEIN', 'CHECK WELLBEING')\n",
    "df['CallDescription'] = df['CallDescription'].replace('CHECKWELLBEING', 'CHECK WELLBEING')\n",
    "df['CallDescription'] = df['CallDescription'].replace('CHEK WELL BEING', 'CHECK WELLBEING')\n",
    "df['CallDescription'] = df['CallDescription'].replace('CHK WELL BEING', 'CHECK WELLBEING')\n",
    "df['CallDescription'] = df['CallDescription'].replace('CK WELL BEING', 'CHECK WELLBEING')\n",
    "df['CallDescription'] = df['CallDescription'].replace('CK WELL-BEING', 'CHECK WELLBEING')\n",
    "df['CallDescription'] = df['CallDescription'].replace('WELL BEING CHECK', 'CHECK WELLBEING')\n",
    "df['CallDescription'] = df['CallDescription'].replace('WELLBEING CHECK', 'CHECK WELLBEING')\n",
    "df['CallDescription'] = df['CallDescription'].replace('EXPARTE', 'EX PARTE')\n",
    "df['CallDescription'] = df['CallDescription'].replace('FOLLOW UP', 'FOLLOW-UP')\n",
    "df['CallDescription'] = df['CallDescription'].replace('FOOT  PATROL', 'FOOT PATROL')\n",
    "df['CallDescription'] = df['CallDescription'].replace('GET   BELONGINGS', 'GET BELONGINGS')\n",
    "df['CallDescription'] = df['CallDescription'].replace('GET BELONINGS', 'GET BELONGINGS')\n",
    "df['CallDescription'] = df['CallDescription'].replace('INVEST', 'INVESTIGATE')\n",
    "df['CallDescription'] = df['CallDescription'].replace('INVEST TRB', 'INVESTIGATE')\n",
    "df['CallDescription'] = df['CallDescription'].replace('INVEST TROUBLE', 'INVESTIGATE')\n",
    "df['CallDescription'] = df['CallDescription'].replace('INVEST.', 'INVESTIGATE')\n",
    "df['CallDescription'] = df['CallDescription'].replace('INVESTGATE', 'INVESTIGATE')\n",
    "df['CallDescription'] = df['CallDescription'].replace('INVESTIGTE', 'INVESTIGATE')\n",
    "df['CallDescription'] = df['CallDescription'].replace('INVESTIG AUTO', 'INVESTIGATE AUTO')\n",
    "df['CallDescription'] = df['CallDescription'].replace('LARCENCY', 'LARCENY')\n",
    "df['CallDescription'] = df['CallDescription'].replace('OUT OF JURIS', 'OUT OF JURISDC')\n",
    "df['CallDescription'] = df['CallDescription'].replace('POLICE ASSIT', 'POLICE ASSIST')\n",
    "df['CallDescription'] = df['CallDescription'].replace('POLICE INFOR', 'POLICE INFO')\n",
    "df['CallDescription'] = df['CallDescription'].replace('POLICE INFORMAT', 'POLICE ASSIST')\n",
    "df['CallDescription'] = df['CallDescription'].replace('POSS', 'POSSIBLE')\n",
    "df['CallDescription'] = df['CallDescription'].replace('PROT ORDER', 'PROTECTIVE ORDER')\n",
    "df['CallDescription'] = df['CallDescription'].replace('PROTECT ORDER', 'PROTECTIVE ORDER')\n",
    "df['CallDescription'] = df['CallDescription'].replace('SEARCH& SEIZURE', 'SEARCH&SEIZURE')\n",
    "df['CallDescription'] = df['CallDescription'].replace('UNAUTHOR USE', 'UNAUTHORIZED USE')\n",
    "df['CallDescription'] = df['CallDescription'].replace('UNKNOWN TROUBLE', 'UNKNOWN PROBLEM')"
   ]
  },
  {
   "cell_type": "code",
   "execution_count": 11,
   "metadata": {},
   "outputs": [],
   "source": [
    "df['Priority'] = df['Priority'].str.upper()\n",
    "df['Priority'] = df['Priority'].replace('EMERGENCY', 'HIGH')"
   ]
  },
  {
   "cell_type": "code",
   "execution_count": 12,
   "metadata": {
    "scrolled": true
   },
   "outputs": [
    {
     "data": {
      "text/html": [
       "<div>\n",
       "<style scoped>\n",
       "    .dataframe tbody tr th:only-of-type {\n",
       "        vertical-align: middle;\n",
       "    }\n",
       "\n",
       "    .dataframe tbody tr th {\n",
       "        vertical-align: top;\n",
       "    }\n",
       "\n",
       "    .dataframe thead th {\n",
       "        text-align: right;\n",
       "    }\n",
       "</style>\n",
       "<table border=\"1\" class=\"dataframe\">\n",
       "  <thead>\n",
       "    <tr style=\"text-align: right;\">\n",
       "      <th></th>\n",
       "      <th>Inside/Outside</th>\n",
       "      <th>District</th>\n",
       "      <th>Neighborhood</th>\n",
       "      <th>Premise</th>\n",
       "      <th>Priority</th>\n",
       "      <th>CallDescription</th>\n",
       "      <th>Description</th>\n",
       "    </tr>\n",
       "  </thead>\n",
       "  <tbody>\n",
       "    <tr>\n",
       "      <th>count</th>\n",
       "      <td>9092</td>\n",
       "      <td>9092</td>\n",
       "      <td>9092</td>\n",
       "      <td>9092</td>\n",
       "      <td>9092</td>\n",
       "      <td>9092</td>\n",
       "      <td>9092</td>\n",
       "    </tr>\n",
       "    <tr>\n",
       "      <th>unique</th>\n",
       "      <td>2</td>\n",
       "      <td>9</td>\n",
       "      <td>270</td>\n",
       "      <td>80</td>\n",
       "      <td>5</td>\n",
       "      <td>141</td>\n",
       "      <td>15</td>\n",
       "    </tr>\n",
       "    <tr>\n",
       "      <th>top</th>\n",
       "      <td>Outside</td>\n",
       "      <td>SOUTHEASTERN</td>\n",
       "      <td>DOWNTOWN</td>\n",
       "      <td>STREET</td>\n",
       "      <td>LOW</td>\n",
       "      <td>LARCENY F/AUTO</td>\n",
       "      <td>LARCENY</td>\n",
       "    </tr>\n",
       "    <tr>\n",
       "      <th>freq</th>\n",
       "      <td>5304</td>\n",
       "      <td>1479</td>\n",
       "      <td>332</td>\n",
       "      <td>4313</td>\n",
       "      <td>3869</td>\n",
       "      <td>1825</td>\n",
       "      <td>2164</td>\n",
       "    </tr>\n",
       "  </tbody>\n",
       "</table>\n",
       "</div>"
      ],
      "text/plain": [
       "       Inside/Outside      District Neighborhood Premise Priority  \\\n",
       "count            9092          9092         9092    9092     9092   \n",
       "unique              2             9          270      80        5   \n",
       "top           Outside  SOUTHEASTERN     DOWNTOWN  STREET      LOW   \n",
       "freq             5304          1479          332    4313     3869   \n",
       "\n",
       "       CallDescription Description  \n",
       "count             9092        9092  \n",
       "unique             141          15  \n",
       "top     LARCENY F/AUTO     LARCENY  \n",
       "freq              1825        2164  "
      ]
     },
     "execution_count": 12,
     "metadata": {},
     "output_type": "execute_result"
    }
   ],
   "source": [
    "df.describe()"
   ]
  },
  {
   "cell_type": "code",
   "execution_count": 13,
   "metadata": {
    "scrolled": false
   },
   "outputs": [],
   "source": [
    "train = df.iloc[:8000]\n",
    "test = df.iloc[8000:]"
   ]
  },
  {
   "cell_type": "code",
   "execution_count": 14,
   "metadata": {
    "scrolled": true
   },
   "outputs": [],
   "source": [
    "train_array = train.to_numpy()\n",
    "test_array = test.to_numpy()"
   ]
  },
  {
   "cell_type": "markdown",
   "metadata": {},
   "source": [
    "## MODELS"
   ]
  },
  {
   "cell_type": "code",
   "execution_count": null,
   "metadata": {},
   "outputs": [],
   "source": [
    "#kernel dies every time with algorithm='exact'\n",
    "\n",
    "#These results show that the exact-dp algorithm is both computationally faster\n",
    "#and requires far less memory than the traditional exact algorithm,\n",
    "# making it a better default for the 'exact' algorithm.\n",
    "# The amount of memory used by the BNSL process is under 'increment',\n",
    "# not 'peak memory', as 'peak memory' returns the total memory used by everything, \n",
    "# while increment shows the difference in peak memory before and after the function has run.\n",
    "\n",
    "#However, still slow with our dataset.\n",
    "\n",
    "model = BayesianNetwork.from_samples(train_array, algorithm='exact-dp')\n",
    "print(model.structure)"
   ]
  },
  {
   "cell_type": "code",
   "execution_count": 95,
   "metadata": {
    "scrolled": true
   },
   "outputs": [
    {
     "data": {
      "image/png": "[encoded data removed]",
      "text/plain": [
       "<Figure size 432x288 with 1 Axes>"
      ]
     },
     "metadata": {},
     "output_type": "display_data"
    }
   ],
   "source": [
    "model.plot()"
   ]
  },
  {
   "cell_type": "code",
   "execution_count": 67,
   "metadata": {},
   "outputs": [],
   "source": [
    "train_array = train_array[:1500]\n",
    "test_array = test.to_numpy()"
   ]
  },
  {
   "cell_type": "code",
   "execution_count": 16,
   "metadata": {},
   "outputs": [
    {
     "name": "stdout",
     "output_type": "stream",
     "text": [
      "((), (2,), (3,), (0,), (5,), (2,), (5,))\n"
     ]
    }
   ],
   "source": [
    "#however, exact-dp is still slow for our dataset\n",
    "#let us try some heuristics\n",
    "\n",
    "#SUPER FAST with Chow-Liu Approximation\n",
    "model1 = BayesianNetwork.from_samples(train_array, algorithm='chow-liu')\n",
    "print(model1.structure)"
   ]
  },
  {
   "cell_type": "code",
   "execution_count": 18,
   "metadata": {
    "scrolled": false
   },
   "outputs": [
    {
     "data": {
      "image/png": "[encoded data removed]",
      "text/plain": [
       "<Figure size 432x288 with 1 Axes>"
      ]
     },
     "metadata": {
      "needs_background": "light"
     },
     "output_type": "display_data"
    }
   ],
   "source": [
    "model1.plot()"
   ]
  },
  {
   "cell_type": "code",
   "execution_count": 68,
   "metadata": {},
   "outputs": [
    {
     "name": "stdout",
     "output_type": "stream",
     "text": [
      "((), (), (), (0,), (0,), (4,), (0, 4))\n"
     ]
    }
   ],
   "source": [
    "#Greedy\n",
    "model2 = BayesianNetwork.from_samples(train_array, algorithm='greedy')\n",
    "print(model2.structure)"
   ]
  },
  {
   "cell_type": "code",
   "execution_count": 69,
   "metadata": {
    "scrolled": true
   },
   "outputs": [
    {
     "data": {
      "image/png": "[encoded data removed]",
      "text/plain": [
       "<Figure size 432x288 with 1 Axes>"
      ]
     },
     "metadata": {
      "needs_background": "light"
     },
     "output_type": "display_data"
    }
   ],
   "source": [
    "model2.plot()"
   ]
  },
  {
   "cell_type": "code",
   "execution_count": 31,
   "metadata": {},
   "outputs": [
    {
     "data": {
      "text/plain": [
       "array(['Inside', 'EASTERN', 'EAST BALTIMORE MIDWAY', 'RETAIL/SMA', 'LOW',\n",
       "       'LARCENY', 'LARCENY'], dtype=object)"
      ]
     },
     "execution_count": 31,
     "metadata": {},
     "output_type": "execute_result"
    }
   ],
   "source": [
    "test_array[1]"
   ]
  },
  {
   "cell_type": "code",
   "execution_count": 34,
   "metadata": {},
   "outputs": [
    {
     "data": {
      "text/plain": [
       "[array(['Inside', 'EASTERN', 'EAST BALTIMORE MIDWAY', 'RETAIL/SMA', 'LOW',\n",
       "        'LARCENY', 'LARCENY'], dtype=object)]"
      ]
     },
     "execution_count": 34,
     "metadata": {},
     "output_type": "execute_result"
    }
   ],
   "source": [
    "model1.predict([['Inside', 'EASTERN', 'EAST BALTIMORE MIDWAY', 'RETAIL/SMA', 'LOW',\n",
    "       'LARCENY', None]])"
   ]
  },
  {
   "cell_type": "code",
   "execution_count": 104,
   "metadata": {},
   "outputs": [
    {
     "data": {
      "text/html": [
       "<div>\n",
       "<style scoped>\n",
       "    .dataframe tbody tr th:only-of-type {\n",
       "        vertical-align: middle;\n",
       "    }\n",
       "\n",
       "    .dataframe tbody tr th {\n",
       "        vertical-align: top;\n",
       "    }\n",
       "\n",
       "    .dataframe thead th {\n",
       "        text-align: right;\n",
       "    }\n",
       "</style>\n",
       "<table border=\"1\" class=\"dataframe\">\n",
       "  <thead>\n",
       "    <tr style=\"text-align: right;\">\n",
       "      <th></th>\n",
       "      <th>Inside/Outside</th>\n",
       "      <th>District</th>\n",
       "      <th>Neighborhood</th>\n",
       "      <th>Premise</th>\n",
       "      <th>Priority</th>\n",
       "      <th>CallDescription</th>\n",
       "      <th>Description</th>\n",
       "    </tr>\n",
       "  </thead>\n",
       "  <tbody>\n",
       "    <tr>\n",
       "      <th>9114</th>\n",
       "      <td>Outside</td>\n",
       "      <td>SOUTHERN</td>\n",
       "      <td>HOLLINS MARKET</td>\n",
       "      <td>STREET</td>\n",
       "      <td>LOW</td>\n",
       "      <td>LARCENY F/AUTO</td>\n",
       "      <td>LARCENY FROM AUTO</td>\n",
       "    </tr>\n",
       "    <tr>\n",
       "      <th>9115</th>\n",
       "      <td>Outside</td>\n",
       "      <td>SOUTHEASTERN</td>\n",
       "      <td>BAYVIEW</td>\n",
       "      <td>STREET</td>\n",
       "      <td>LOW</td>\n",
       "      <td>OTHER</td>\n",
       "      <td>AGG. ASSAULT</td>\n",
       "    </tr>\n",
       "    <tr>\n",
       "      <th>9116</th>\n",
       "      <td>Inside</td>\n",
       "      <td>SOUTHEASTERN</td>\n",
       "      <td>LITTLE ITALY</td>\n",
       "      <td>ROW/TOWNHO</td>\n",
       "      <td>LOW</td>\n",
       "      <td>LARCENY</td>\n",
       "      <td>BURGLARY</td>\n",
       "    </tr>\n",
       "    <tr>\n",
       "      <th>9117</th>\n",
       "      <td>Outside</td>\n",
       "      <td>SOUTHEASTERN</td>\n",
       "      <td>LITTLE ITALY</td>\n",
       "      <td>STREET</td>\n",
       "      <td>LOW</td>\n",
       "      <td>LARCENY F/AUTO</td>\n",
       "      <td>LARCENY FROM AUTO</td>\n",
       "    </tr>\n",
       "    <tr>\n",
       "      <th>9118</th>\n",
       "      <td>Outside</td>\n",
       "      <td>NORTHEASTERN</td>\n",
       "      <td>FRANKFORD</td>\n",
       "      <td>STREET</td>\n",
       "      <td>HIGH</td>\n",
       "      <td>ROBBERY ARMED</td>\n",
       "      <td>ROBBERY - STREET</td>\n",
       "    </tr>\n",
       "  </tbody>\n",
       "</table>\n",
       "</div>"
      ],
      "text/plain": [
       "     Inside/Outside      District    Neighborhood     Premise Priority  \\\n",
       "9114        Outside      SOUTHERN  HOLLINS MARKET      STREET      LOW   \n",
       "9115        Outside  SOUTHEASTERN         BAYVIEW      STREET      LOW   \n",
       "9116         Inside  SOUTHEASTERN    LITTLE ITALY  ROW/TOWNHO      LOW   \n",
       "9117        Outside  SOUTHEASTERN    LITTLE ITALY      STREET      LOW   \n",
       "9118        Outside  NORTHEASTERN       FRANKFORD      STREET     HIGH   \n",
       "\n",
       "     CallDescription        Description  \n",
       "9114  LARCENY F/AUTO  LARCENY FROM AUTO  \n",
       "9115           OTHER       AGG. ASSAULT  \n",
       "9116         LARCENY           BURGLARY  \n",
       "9117  LARCENY F/AUTO  LARCENY FROM AUTO  \n",
       "9118   ROBBERY ARMED   ROBBERY - STREET  "
      ]
     },
     "execution_count": 104,
     "metadata": {},
     "output_type": "execute_result"
    }
   ],
   "source": [
    "test.tail(5)"
   ]
  },
  {
   "cell_type": "code",
   "execution_count": 99,
   "metadata": {},
   "outputs": [
    {
     "data": {
      "text/html": [
       "<div>\n",
       "<style scoped>\n",
       "    .dataframe tbody tr th:only-of-type {\n",
       "        vertical-align: middle;\n",
       "    }\n",
       "\n",
       "    .dataframe tbody tr th {\n",
       "        vertical-align: top;\n",
       "    }\n",
       "\n",
       "    .dataframe thead th {\n",
       "        text-align: right;\n",
       "    }\n",
       "</style>\n",
       "<table border=\"1\" class=\"dataframe\">\n",
       "  <thead>\n",
       "    <tr style=\"text-align: right;\">\n",
       "      <th></th>\n",
       "      <th>Inside/Outside</th>\n",
       "      <th>District</th>\n",
       "      <th>Neighborhood</th>\n",
       "      <th>Premise</th>\n",
       "      <th>Priority</th>\n",
       "      <th>CallDescription</th>\n",
       "      <th>Description</th>\n",
       "    </tr>\n",
       "  </thead>\n",
       "  <tbody>\n",
       "    <tr>\n",
       "      <th>9082</th>\n",
       "      <td>Inside</td>\n",
       "      <td>SOUTHEASTERN</td>\n",
       "      <td>HIGHLANDTOWN</td>\n",
       "      <td>ROW/TOWNHO</td>\n",
       "      <td>MEDIUM</td>\n",
       "      <td>DISORDERLY</td>\n",
       "      <td>BURGLARY</td>\n",
       "    </tr>\n",
       "  </tbody>\n",
       "</table>\n",
       "</div>"
      ],
      "text/plain": [
       "     Inside/Outside      District  Neighborhood     Premise Priority  \\\n",
       "9082         Inside  SOUTHEASTERN  HIGHLANDTOWN  ROW/TOWNHO   MEDIUM   \n",
       "\n",
       "     CallDescription Description  \n",
       "9082      DISORDERLY    BURGLARY  "
      ]
     },
     "execution_count": 99,
     "metadata": {},
     "output_type": "execute_result"
    }
   ],
   "source": [
    "test.head(1)"
   ]
  },
  {
   "cell_type": "code",
   "execution_count": 91,
   "metadata": {},
   "outputs": [
    {
     "data": {
      "text/plain": [
       "[array(['Inside', 'SOUTHEASTERN', 'HIGHLANDTOWN', 'ROW/TOWNHO', 'MEDIUM',\n",
       "        'DISORDERLY', 'BURGLARY'], dtype=object)]"
      ]
     },
     "execution_count": 91,
     "metadata": {},
     "output_type": "execute_result"
    }
   ],
   "source": [
    "#predict target variable\n",
    "model2.predict([['Inside', 'SOUTHEASTERN', 'HIGHLANDTOWN', 'ROW/TOWNHO', 'MEDIUM',\n",
    "       'DISORDERLY', None]])"
   ]
  },
  {
   "cell_type": "code",
   "execution_count": 103,
   "metadata": {},
   "outputs": [
    {
     "data": {
      "text/plain": [
       "[array(['Inside', 'SOUTHEASTERN', 'HIGHLANDTOWN', 'ROW/TOWNHO', 'MEDIUM',\n",
       "        'DISORDERLY', 'BURGLARY'], dtype=object)]"
      ]
     },
     "execution_count": 103,
     "metadata": {},
     "output_type": "execute_result"
    }
   ],
   "source": [
    "#impute missing feature\n",
    "model2.predict([['Inside', 'SOUTHEASTERN', 'HIGHLANDTOWN', 'ROW/TOWNHO', None,\n",
    "       'DISORDERLY', None]])"
   ]
  },
  {
   "cell_type": "code",
   "execution_count": 40,
   "metadata": {},
   "outputs": [],
   "source": [
    "#prediction is slow\n",
    "#let's try the first 100 observations in the test set\n",
    "\n",
    "test_pred = []\n",
    "\n",
    "for i in range(100):\n",
    "    test_pred.append(model1.predict([test_features[i]]))"
   ]
  },
  {
   "cell_type": "code",
   "execution_count": 35,
   "metadata": {},
   "outputs": [],
   "source": [
    "test_features = [np.append(arr[:-1],[None]) for arr in test_array]"
   ]
  },
  {
   "cell_type": "code",
   "execution_count": 48,
   "metadata": {},
   "outputs": [
    {
     "data": {
      "text/plain": [
       "[array(['Outside', 'SOUTHERN', 'HOLLINS MARKET', 'ALLEY', 'LOW',\n",
       "        'LARCENY F/AUTO', 'LARCENY FROM AUTO'], dtype=object)]"
      ]
     },
     "execution_count": 48,
     "metadata": {},
     "output_type": "execute_result"
    }
   ],
   "source": [
    "test_pred[i]"
   ]
  },
  {
   "cell_type": "code",
   "execution_count": 51,
   "metadata": {
    "scrolled": true
   },
   "outputs": [
    {
     "name": "stdout",
     "output_type": "stream",
     "text": [
      "Accuracy: 0.67\n"
     ]
    }
   ],
   "source": [
    "accuracy = sum([test_pred[i][0][-1] == test_array[i][-1] for i in range(100)])/100\n",
    "print(\"Accuracy: {}\".format(accuracy))"
   ]
  },
  {
   "cell_type": "code",
   "execution_count": null,
   "metadata": {},
   "outputs": [],
   "source": []
  }
 ],
 "metadata": {
  "kernelspec": {
   "display_name": "Python 3",
   "language": "python",
   "name": "python3"
  },
  "language_info": {
   "codemirror_mode": {
    "name": "ipython",
    "version": 3
   },
   "file_extension": ".py",
   "mimetype": "text/x-python",
   "name": "python",
   "nbconvert_exporter": "python",
   "pygments_lexer": "ipython3",
   "version": "3.7.7"
  }
 },
 "nbformat": 4,
 "nbformat_minor": 4
}
