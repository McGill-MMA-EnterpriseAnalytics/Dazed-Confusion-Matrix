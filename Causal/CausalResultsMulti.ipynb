{
 "cells": [
  {
   "cell_type": "markdown",
   "metadata": {},
   "source": [
    "# Setup"
   ]
  },
  {
   "cell_type": "code",
   "execution_count": null,
   "metadata": {
    "ExecuteTime": {
     "end_time": "2021-04-07T19:07:38.756397Z",
     "start_time": "2021-04-07T19:07:36.944078Z"
    },
    "pycharm": {
     "name": "#%%\n"
    }
   },
   "outputs": [],
   "source": [
    "import warnings\n",
    "warnings.filterwarnings(\"ignore\")\n",
    "%run CausalModel.py\n",
    "from CausalModel import causal_lift_model\n",
    "import pandas as pd\n",
    "pd.set_option('display.max_columns', None)  # or 1000\n",
    "pd.set_option('display.max_rows', None)  # or 1000\n",
    "pd.set_option('display.max_colwidth', None)  # or 199"
   ]
  },
  {
   "cell_type": "code",
   "execution_count": null,
   "metadata": {
    "ExecuteTime": {
     "end_time": "2021-04-07T19:07:40.411232Z",
     "start_time": "2021-04-07T19:07:39.303718Z"
    },
    "pycharm": {
     "name": "#%%\n"
    }
   },
   "outputs": [],
   "source": [
    "df = pd.read_csv('../data/CRIME_DATA_WITH_MICE_IMPUTED_DEMOGRAPHICS.csv')\n",
    "description_decoder = pd.read_csv('../data/Description_decoder_2.csv', names=['value', 'key']).set_index('key')['value'].to_dict()\n",
    "df.drop(columns='Unnamed: 0', inplace=True)\n",
    "df.columns"
   ]
  },
  {
   "cell_type": "code",
   "execution_count": null,
   "metadata": {
    "ExecuteTime": {
     "start_time": "2021-04-07T19:07:37.894Z"
    }
   },
   "outputs": [],
   "source": [
    "description_decoder"
   ]
  },
  {
   "cell_type": "markdown",
   "metadata": {},
   "source": [
    "# Is Below Average Median House Income"
   ]
  },
  {
   "cell_type": "code",
   "execution_count": null,
   "metadata": {
    "ExecuteTime": {
     "end_time": "2021-04-07T17:56:45.868906Z",
     "start_time": "2021-04-07T17:56:30.386916Z"
    }
   },
   "outputs": [],
   "source": [
    "causal_lift_model(cm_df=df, decoder=description_decoder, treatment_name='median_household_income')"
   ]
  },
  {
   "cell_type": "markdown",
   "metadata": {},
   "source": [
    "# Is Below Average Poverty"
   ]
  },
  {
   "cell_type": "code",
   "execution_count": null,
   "metadata": {
    "ExecuteTime": {
     "start_time": "2021-04-07T19:04:23.260Z"
    }
   },
   "outputs": [],
   "source": [
    "causal_lift_model(cm_df=df, decoder=description_decoder, treatment_name='households_below_poverty')"
   ]
  },
  {
   "cell_type": "markdown",
   "metadata": {},
   "source": [
    "# Is Below Average Population Percentage 18-24"
   ]
  },
  {
   "cell_type": "code",
   "execution_count": null,
   "metadata": {
    "ExecuteTime": {
     "end_time": "2021-04-07T17:57:04.696404Z",
     "start_time": "2021-04-07T17:56:53.256336Z"
    }
   },
   "outputs": [],
   "source": [
    "causal_lift_model(cm_df=df, decoder=description_decoder, treatment_name='perc18_24')"
   ]
  },
  {
   "cell_type": "markdown",
   "metadata": {},
   "source": [
    "# Is Below Average Population Percentage 25-64"
   ]
  },
  {
   "cell_type": "code",
   "execution_count": null,
   "metadata": {
    "ExecuteTime": {
     "end_time": "2021-04-07T17:57:13.400063Z",
     "start_time": "2021-04-07T17:57:04.698404Z"
    }
   },
   "outputs": [],
   "source": [
    "causal_lift_model(cm_df=df, decoder=description_decoder, treatment_name='perc25_64')"
   ]
  },
  {
   "cell_type": "markdown",
   "metadata": {},
   "source": [
    "# Is Below Average Population Percentage Over 65"
   ]
  },
  {
   "cell_type": "code",
   "execution_count": null,
   "metadata": {
    "ExecuteTime": {
     "end_time": "2021-04-07T17:57:27.052550Z",
     "start_time": "2021-04-07T17:57:13.401063Z"
    }
   },
   "outputs": [],
   "source": [
    "causal_lift_model(cm_df=df, decoder=description_decoder, treatment_name='perc65up')"
   ]
  },
  {
   "cell_type": "markdown",
   "metadata": {},
   "source": [
    "# Is Below Average Percentage Asian"
   ]
  },
  {
   "cell_type": "code",
   "execution_count": null,
   "metadata": {
    "ExecuteTime": {
     "end_time": "2021-04-07T17:57:38.557678Z",
     "start_time": "2021-04-07T17:57:27.053551Z"
    }
   },
   "outputs": [],
   "source": [
    "causal_lift_model(cm_df=df, decoder=description_decoder, treatment_name='perc_asian')"
   ]
  },
  {
   "cell_type": "markdown",
   "metadata": {},
   "source": [
    "# Is Below Average Percentage African American"
   ]
  },
  {
   "cell_type": "code",
   "execution_count": null,
   "metadata": {
    "ExecuteTime": {
     "end_time": "2021-04-07T17:57:47.119399Z",
     "start_time": "2021-04-07T17:57:38.559681Z"
    }
   },
   "outputs": [],
   "source": [
    "causal_lift_model(cm_df=df, decoder=description_decoder, treatment_name='perc_aa')"
   ]
  },
  {
   "cell_type": "markdown",
   "metadata": {},
   "source": [
    "# Is Below Average Percentage Hispanic"
   ]
  },
  {
   "cell_type": "code",
   "execution_count": null,
   "metadata": {
    "ExecuteTime": {
     "end_time": "2021-04-07T17:57:58.282683Z",
     "start_time": "2021-04-07T17:57:47.122400Z"
    }
   },
   "outputs": [],
   "source": [
    "causal_lift_model(cm_df=df, decoder=description_decoder, treatment_name='perc_hisp')"
   ]
  },
  {
   "cell_type": "markdown",
   "metadata": {},
   "source": [
    "# Is Below Average Percentage White"
   ]
  },
  {
   "cell_type": "code",
   "execution_count": null,
   "metadata": {
    "ExecuteTime": {
     "end_time": "2021-04-07T17:58:07.884038Z",
     "start_time": "2021-04-07T17:57:58.283682Z"
    }
   },
   "outputs": [],
   "source": [
    "causal_lift_model(cm_df=df, decoder=description_decoder, treatment_name='perc_white')"
   ]
  },
  {
   "cell_type": "markdown",
   "metadata": {},
   "source": [
    "# Is Below Average Median Price Of Homes Sold"
   ]
  },
  {
   "cell_type": "code",
   "execution_count": null,
   "metadata": {
    "ExecuteTime": {
     "end_time": "2021-04-07T17:58:17.310344Z",
     "start_time": "2021-04-07T17:58:07.886035Z"
    }
   },
   "outputs": [],
   "source": [
    "causal_lift_model(cm_df=df, decoder=description_decoder, treatment_name='median_price_homes_sold')"
   ]
  },
  {
   "cell_type": "markdown",
   "metadata": {},
   "source": [
    "# Is Below Average Racial Diversity Index"
   ]
  },
  {
   "cell_type": "code",
   "execution_count": null,
   "metadata": {
    "ExecuteTime": {
     "end_time": "2021-04-07T17:58:27.199516Z",
     "start_time": "2021-04-07T17:58:17.311346Z"
    }
   },
   "outputs": [],
   "source": [
    "causal_lift_model(cm_df=df, decoder=description_decoder, treatment_name='racial_diversity_index')"
   ]
  },
  {
   "cell_type": "markdown",
   "metadata": {},
   "source": [
    "# Is Below Average Number Of Households"
   ]
  },
  {
   "cell_type": "code",
   "execution_count": null,
   "metadata": {
    "ExecuteTime": {
     "start_time": "2021-04-07T19:07:42.363Z"
    }
   },
   "outputs": [],
   "source": [
    "causal_lift_model(cm_df=df, decoder=description_decoder, treatment_name='num_households')"
   ]
  }
 ],
 "metadata": {
  "hide_input": false,
  "kernelspec": {
   "display_name": "Python 3",
   "language": "python",
   "name": "python3"
  },
  "language_info": {
   "codemirror_mode": {
    "name": "ipython",
    "version": 3
   },
   "file_extension": ".py",
   "mimetype": "text/x-python",
   "name": "python",
   "nbconvert_exporter": "python",
   "pygments_lexer": "ipython3",
   "version": "3.7.7"
  },
  "toc": {
   "base_numbering": 1,
   "nav_menu": {},
   "number_sections": true,
   "sideBar": true,
   "skip_h1_title": false,
   "title_cell": "Table of Contents",
   "title_sidebar": "Contents",
   "toc_cell": false,
   "toc_position": {},
   "toc_section_display": true,
   "toc_window_display": false
  },
  "varInspector": {
   "cols": {
    "lenName": 16,
    "lenType": 16,
    "lenVar": 40
   },
   "kernels_config": {
    "python": {
     "delete_cmd_postfix": "",
     "delete_cmd_prefix": "del ",
     "library": "var_list.py",
     "varRefreshCmd": "print(var_dic_list())"
    },
    "r": {
     "delete_cmd_postfix": ") ",
     "delete_cmd_prefix": "rm(",
     "library": "var_list.r",
     "varRefreshCmd": "cat(var_dic_list()) "
    }
   },
   "types_to_exclude": [
    "module",
    "function",
    "builtin_function_or_method",
    "instance",
    "_Feature"
   ],
   "window_display": false
  }
 },
 "nbformat": 4,
 "nbformat_minor": 1
}
