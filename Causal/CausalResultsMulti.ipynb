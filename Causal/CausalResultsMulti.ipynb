{
 "cells": [
  {
   "cell_type": "markdown",
   "metadata": {},
   "source": [
    "# Causal Inference With Multiple Categorical Target\n",
    "\n",
    "This ended being our main causal inference model using the Causal Lift model. It is easy to use and works well will categorical data.  \n",
    "\n",
    "Our main objective was to use our original data along with each demographic variable as a treatment. This might help us understand issues of bias/fairness as well as how to tackle other modeling tasks. We kept this to the original data to simplify the process as adding 991 would be a challenge and does not provide much more insights given our objective. The objective is to see how demographic factors have an effect on the different predicted categories and on the initial features that we used for our models.\n",
    "\n",
    "We did this analysis by create treatment variables that are 1 if an observation is blow average and 0 if it is over in a certain category. This way, we can test based on each of the demographic variable. This is an approximation, but it is needed for such an analysis."
   ]
  },
  {
   "cell_type": "markdown",
   "metadata": {},
   "source": [
    "# Setup\n",
    "\n",
    "We run this analysis by getting the causal_lift_model function from the CausalModel.py file. It sets the data into the right format and uses the Causal Lift package for the analysis."
   ]
  },
  {
   "cell_type": "code",
   "execution_count": 1,
   "metadata": {
    "ExecuteTime": {
     "end_time": "2021-04-08T22:46:24.777749Z",
     "start_time": "2021-04-08T22:46:19.451437Z"
    },
    "pycharm": {
     "name": "#%%\n"
    }
   },
   "outputs": [],
   "source": [
    "import warnings\n",
    "warnings.filterwarnings(\"ignore\")\n",
    "%run CausalModel.py\n",
    "from CausalModel import causal_lift_model\n",
    "import pandas as pd\n",
    "pd.set_option('display.max_columns', None)  # or 1000\n",
    "pd.set_option('display.max_rows', None)  # or 1000\n",
    "pd.set_option('display.max_colwidth', None)  # or 199"
   ]
  },
  {
   "cell_type": "markdown",
   "metadata": {},
   "source": [
    "We use our initial inputed data that is merged with demographics for the analysis."
   ]
  },
  {
   "cell_type": "code",
   "execution_count": 2,
   "metadata": {
    "ExecuteTime": {
     "end_time": "2021-04-08T22:46:25.965518Z",
     "start_time": "2021-04-08T22:46:24.779751Z"
    },
    "pycharm": {
     "name": "#%%\n"
    }
   },
   "outputs": [
    {
     "name": "stderr",
     "output_type": "stream",
     "text": [
      "C:\\Users\\18199\\anaconda3\\lib\\site-packages\\ipykernel\\ipkernel.py:287: DeprecationWarning: `should_run_async` will not call `transform_cell` automatically in the future. Please pass the result to `transformed_cell` argument and any exception that happen during thetransform in `preprocessing_exc_tuple` in IPython 7.17 and above.\n",
      "  and should_run_async(code)\n"
     ]
    },
    {
     "data": {
      "text/plain": [
       "Index(['Description', 'Post', 'District', 'Neighborhood', 'Longitude',\n",
       "       'Latitude', 'Premise', 'Month', 'Hour', 'Year',\n",
       "       'median_household_income', 'households_below_poverty', 'perc18_24',\n",
       "       'perc25_64', 'perc65up', 'perc_asian', 'perc_aa', 'perc_hisp',\n",
       "       'perc_white', 'median_price_homes_sold', 'racial_diversity_index',\n",
       "       'num_households', 'Outside', 'Weapon_FIREARM', 'Weapon_HANDS',\n",
       "       'Weapon_KNIFE', 'Weapon_NONE', 'Weapon_OTHER', 'Season_autumn',\n",
       "       'Season_spring', 'Season_summer', 'Season_winter', 'Holiday',\n",
       "       'Weekend'],\n",
       "      dtype='object')"
      ]
     },
     "execution_count": 2,
     "metadata": {},
     "output_type": "execute_result"
    }
   ],
   "source": [
    "df = pd.read_csv('../data/CRIME_DATA_WITH_MICE_IMPUTED_DEMOGRAPHICS.csv')\n",
    "description_decoder = pd.read_csv('../data/Description_decoder_2.csv', names=['value', 'key']).set_index('key')['value'].to_dict()\n",
    "df.drop(columns='Unnamed: 0', inplace=True)\n",
    "df.columns"
   ]
  },
  {
   "cell_type": "code",
   "execution_count": 3,
   "metadata": {
    "ExecuteTime": {
     "end_time": "2021-04-08T22:46:25.981526Z",
     "start_time": "2021-04-08T22:46:25.967518Z"
    }
   },
   "outputs": [
    {
     "data": {
      "text/plain": [
       "{0: 'AGG. ASSAULT',\n",
       " 1: 'ARSON',\n",
       " 2: 'ASSAULT BY THREAT',\n",
       " 3: 'AUTO THEFT',\n",
       " 4: 'BURGLARY',\n",
       " 5: 'COMMON ASSAULT',\n",
       " 6: 'HOMICIDE',\n",
       " 7: 'LARCENY',\n",
       " 8: 'LARCENY FROM AUTO',\n",
       " 9: 'SEXUAL ASSULT',\n",
       " 10: 'ROBBERY - CARJACKING',\n",
       " 11: 'ROBBERY - COMMERCIAL',\n",
       " 12: 'ROBBERY - RESIDENCE',\n",
       " 13: 'ROBBERY - STREET',\n",
       " 14: 'SHOOTING'}"
      ]
     },
     "execution_count": 3,
     "metadata": {},
     "output_type": "execute_result"
    }
   ],
   "source": [
    "# Only for reference and not as useful when looking at multiple categories instead of binary\n",
    "description_decoder"
   ]
  },
  {
   "cell_type": "markdown",
   "metadata": {},
   "source": [
    "# Is Below Average Median House Income\n",
    "\n",
    "We would expect a below average median house income to be a driver in terms of violence and criminality. This should have an impact on the model when moderated for. "
   ]
  },
  {
   "cell_type": "code",
   "execution_count": 4,
   "metadata": {
    "ExecuteTime": {
     "end_time": "2021-04-08T22:46:44.164881Z",
     "start_time": "2021-04-08T22:46:25.983519Z"
    },
    "scrolled": true
   },
   "outputs": [
    {
     "name": "stdout",
     "output_type": "stream",
     "text": [
      "Original data length 263121\n",
      "Clean data length 263121\n",
      "\n",
      "[Estimate propensity scores for Inverse Probability Weighting.]\n",
      "[2021-04-08 18:46:26,248|causallift.context.flexible_context|INFO] Run pipeline (tags: ['011_bundle_train_and_test_data'], SequentialRunner, only_missing: False)\n",
      "[2021-04-08 18:46:26,267|kedro.pipeline.node|INFO] Running node: bundle_train_and_test_data([args_raw,test_df,train_df]) -> [df_00]\n",
      "[2021-04-08 18:46:26,344|kedro.runner.sequential_runner|INFO] Completed 1 out of 1 tasks\n",
      "[2021-04-08 18:46:26,345|kedro.runner.sequential_runner|INFO] Pipeline execution completed successfully.\n",
      "[2021-04-08 18:46:26,371|causallift.context.flexible_context|INFO] Run pipeline (tags: ['121_prepare_args', '131_treatment_fractions_', '141_initialize_model'], SequentialRunner, only_missing: False)\n",
      "[2021-04-08 18:46:26,388|kedro.pipeline.node|INFO] Running node: impute_cols_features([args_raw,df_00]) -> [args_intermediate]\n",
      "[2021-04-08 18:46:26,393|kedro.runner.sequential_runner|INFO] Completed 1 out of 3 tasks\n",
      "[2021-04-08 18:46:26,403|kedro.pipeline.node|INFO] Running node: treatment_fractions_([args_raw,df_00]) -> [treatment_fractions]\n",
      "[2021-04-08 18:46:26,440|kedro.runner.sequential_runner|INFO] Completed 2 out of 3 tasks\n",
      "[2021-04-08 18:46:26,449|kedro.pipeline.node|INFO] Running node: schedule_propensity_scoring([args_intermediate,df_00]) -> [args]\n",
      "[2021-04-08 18:46:26,453|kedro.runner.sequential_runner|INFO] Completed 3 out of 3 tasks\n",
      "[2021-04-08 18:46:26,454|kedro.runner.sequential_runner|INFO] Pipeline execution completed successfully.\n",
      "[2021-04-08 18:46:26,459|causallift.context.flexible_context|INFO] Run pipeline (tags: ['211_fit_propensity'], SequentialRunner, only_missing: False)\n",
      "[2021-04-08 18:46:26,474|kedro.pipeline.node|INFO] Running node: fit_propensity([args,df_00]) -> [propensity_model]\n",
      "[2021-04-08 18:46:26,637|causallift.nodes.estimate_propensity|INFO] ## Propensity scores will be estimated by logistic regression.\n",
      "[2021-04-08 18:46:26,638|causallift.nodes.estimate_propensity|INFO] ### Parameters for grid search of Logistic regression:\n",
      "{'search_cv': 'sklearn.model_selection.GridSearchCV', 'estimator': 'sklearn.linear_model.LogisticRegression', 'scoring': None, 'cv': 3, 'return_train_score': False, 'n_jobs': -1, 'param_grid': {'random_state': [0], 'C': [0.1, 1, 10], 'class_weight': [None], 'dual': [False], 'fit_intercept': [True], 'intercept_scaling': [1], 'max_iter': [100], 'multi_class': ['ovr'], 'n_jobs': [1], 'penalty': ['l1', 'l2'], 'solver': ['liblinear'], 'tol': [0.0001], 'warm_start': [False]}}\n",
      "[2021-04-08 18:46:43,035|causallift.nodes.estimate_propensity|INFO] ### Best parameter for logistic regression:\n",
      "{'C': 0.1, 'class_weight': None, 'dual': False, 'fit_intercept': True, 'intercept_scaling': 1, 'l1_ratio': None, 'max_iter': 100, 'multi_class': 'ovr', 'n_jobs': 1, 'penalty': 'l1', 'random_state': 0, 'solver': 'liblinear', 'tol': 0.0001, 'verbose': 0, 'warm_start': False}\n",
      "[2021-04-08 18:46:43,038|causallift.nodes.estimate_propensity|INFO] \n",
      "## Coefficients of logistic regression:\n"
     ]
    },
    {
     "data": {
      "text/html": [
       "<div>\n",
       "<style scoped>\n",
       "    .dataframe tbody tr th:only-of-type {\n",
       "        vertical-align: middle;\n",
       "    }\n",
       "\n",
       "    .dataframe tbody tr th {\n",
       "        vertical-align: top;\n",
       "    }\n",
       "\n",
       "    .dataframe thead th {\n",
       "        text-align: right;\n",
       "    }\n",
       "</style>\n",
       "<table border=\"1\" class=\"dataframe\">\n",
       "  <thead>\n",
       "    <tr style=\"text-align: right;\">\n",
       "      <th></th>\n",
       "      <th>Weapon_FIREARM</th>\n",
       "      <th>Weapon_HANDS</th>\n",
       "      <th>Weapon_KNIFE</th>\n",
       "      <th>Weapon_NONE</th>\n",
       "      <th>Weapon_OTHER</th>\n",
       "      <th>Neighborhood</th>\n",
       "      <th>Premise</th>\n",
       "      <th>Month</th>\n",
       "      <th>Hour</th>\n",
       "      <th>Outside</th>\n",
       "    </tr>\n",
       "  </thead>\n",
       "  <tbody>\n",
       "    <tr>\n",
       "      <th>coefficient</th>\n",
       "      <td>0.440629</td>\n",
       "      <td>0.310348</td>\n",
       "      <td>0.372136</td>\n",
       "      <td>-0.001046</td>\n",
       "      <td>0.435249</td>\n",
       "      <td>-0.000336</td>\n",
       "      <td>0.000286</td>\n",
       "      <td>0.000459</td>\n",
       "      <td>-0.000133</td>\n",
       "      <td>-0.059341</td>\n",
       "    </tr>\n",
       "  </tbody>\n",
       "</table>\n",
       "</div>"
      ],
      "text/plain": [
       "             Weapon_FIREARM  Weapon_HANDS  Weapon_KNIFE  Weapon_NONE  \\\n",
       "coefficient        0.440629      0.310348      0.372136    -0.001046   \n",
       "\n",
       "             Weapon_OTHER  Neighborhood   Premise     Month      Hour  \\\n",
       "coefficient      0.435249     -0.000336  0.000286  0.000459 -0.000133   \n",
       "\n",
       "              Outside  \n",
       "coefficient -0.059341  "
      ]
     },
     "metadata": {},
     "output_type": "display_data"
    },
    {
     "name": "stdout",
     "output_type": "stream",
     "text": [
      "[2021-04-08 18:46:43,066|kedro.runner.sequential_runner|INFO] Completed 1 out of 1 tasks\n",
      "[2021-04-08 18:46:43,068|kedro.runner.sequential_runner|INFO] Pipeline execution completed successfully.\n",
      "[2021-04-08 18:46:43,076|causallift.context.flexible_context|INFO] Run pipeline (tags: ['221_estimate_propensity'], SequentialRunner, only_missing: False)\n",
      "[2021-04-08 18:46:43,091|kedro.pipeline.node|INFO] Running node: estimate_propensity([args,df_00,propensity_model]) -> [df_01]\n",
      "[2021-04-08 18:46:43,140|causallift.nodes.estimate_propensity|INFO] \n",
      "### Histogram of propensity score for train and test data:\n"
     ]
    },
    {
     "data": {
      "image/png": "[encoded data removed]",
      "text/plain": [
       "<Figure size 432x288 with 1 Axes>"
      ]
     },
     "metadata": {
      "needs_background": "light"
     },
     "output_type": "display_data"
    },
    {
     "name": "stdout",
     "output_type": "stream",
     "text": [
      "[2021-04-08 18:46:43,442|causallift.nodes.estimate_propensity|INFO] \n",
      "### Score Table for logistic regression to calculate propensity score:\n"
     ]
    },
    {
     "data": {
      "text/html": [
       "<div>\n",
       "<style scoped>\n",
       "    .dataframe tbody tr th:only-of-type {\n",
       "        vertical-align: middle;\n",
       "    }\n",
       "\n",
       "    .dataframe tbody tr th {\n",
       "        vertical-align: top;\n",
       "    }\n",
       "\n",
       "    .dataframe thead th {\n",
       "        text-align: right;\n",
       "    }\n",
       "</style>\n",
       "<table border=\"1\" class=\"dataframe\">\n",
       "  <thead>\n",
       "    <tr style=\"text-align: right;\">\n",
       "      <th></th>\n",
       "      <th># samples</th>\n",
       "      <th># classes</th>\n",
       "      <th>accuracy</th>\n",
       "      <th>precision</th>\n",
       "      <th>recall</th>\n",
       "      <th>f1</th>\n",
       "      <th>roc_auc</th>\n",
       "      <th>observed CVR</th>\n",
       "      <th>predicted CVR</th>\n",
       "    </tr>\n",
       "  </thead>\n",
       "  <tbody>\n",
       "    <tr>\n",
       "      <th>train</th>\n",
       "      <td>210496</td>\n",
       "      <td>2</td>\n",
       "      <td>0.652772</td>\n",
       "      <td>0.652772</td>\n",
       "      <td>1.0</td>\n",
       "      <td>0.789912</td>\n",
       "      <td>0.5</td>\n",
       "      <td>0.652772</td>\n",
       "      <td>1.0</td>\n",
       "    </tr>\n",
       "    <tr>\n",
       "      <th>test</th>\n",
       "      <td>52625</td>\n",
       "      <td>2</td>\n",
       "      <td>0.652770</td>\n",
       "      <td>0.652770</td>\n",
       "      <td>1.0</td>\n",
       "      <td>0.789910</td>\n",
       "      <td>0.5</td>\n",
       "      <td>0.652770</td>\n",
       "      <td>1.0</td>\n",
       "    </tr>\n",
       "  </tbody>\n",
       "</table>\n",
       "</div>"
      ],
      "text/plain": [
       "       # samples  # classes  accuracy  precision  recall        f1  roc_auc  \\\n",
       "train     210496          2  0.652772   0.652772     1.0  0.789912      0.5   \n",
       "test       52625          2  0.652770   0.652770     1.0  0.789910      0.5   \n",
       "\n",
       "       observed CVR  predicted CVR  \n",
       "train      0.652772            1.0  \n",
       "test       0.652770            1.0  "
      ]
     },
     "metadata": {},
     "output_type": "display_data"
    },
    {
     "name": "stdout",
     "output_type": "stream",
     "text": [
      "[2021-04-08 18:46:43,840|causallift.nodes.estimate_propensity|INFO] \n",
      "### Confusion Matrix for Train:\n"
     ]
    },
    {
     "data": {
      "text/html": [
       "<div>\n",
       "<style scoped>\n",
       "    .dataframe tbody tr th:only-of-type {\n",
       "        vertical-align: middle;\n",
       "    }\n",
       "\n",
       "    .dataframe tbody tr th {\n",
       "        vertical-align: top;\n",
       "    }\n",
       "\n",
       "    .dataframe thead th {\n",
       "        text-align: right;\n",
       "    }\n",
       "</style>\n",
       "<table border=\"1\" class=\"dataframe\">\n",
       "  <thead>\n",
       "    <tr style=\"text-align: right;\">\n",
       "      <th></th>\n",
       "      <th>Pred_0</th>\n",
       "      <th>Pred_1</th>\n",
       "    </tr>\n",
       "  </thead>\n",
       "  <tbody>\n",
       "    <tr>\n",
       "      <th>True_0</th>\n",
       "      <td>0</td>\n",
       "      <td>73090</td>\n",
       "    </tr>\n",
       "    <tr>\n",
       "      <th>True_1</th>\n",
       "      <td>0</td>\n",
       "      <td>137406</td>\n",
       "    </tr>\n",
       "  </tbody>\n",
       "</table>\n",
       "</div>"
      ],
      "text/plain": [
       "        Pred_0  Pred_1\n",
       "True_0       0   73090\n",
       "True_1       0  137406"
      ]
     },
     "metadata": {},
     "output_type": "display_data"
    },
    {
     "name": "stdout",
     "output_type": "stream",
     "text": [
      "[2021-04-08 18:46:43,997|causallift.nodes.estimate_propensity|INFO] \n",
      "### Confusion Matrix for Test:\n"
     ]
    },
    {
     "data": {
      "text/html": [
       "<div>\n",
       "<style scoped>\n",
       "    .dataframe tbody tr th:only-of-type {\n",
       "        vertical-align: middle;\n",
       "    }\n",
       "\n",
       "    .dataframe tbody tr th {\n",
       "        vertical-align: top;\n",
       "    }\n",
       "\n",
       "    .dataframe thead th {\n",
       "        text-align: right;\n",
       "    }\n",
       "</style>\n",
       "<table border=\"1\" class=\"dataframe\">\n",
       "  <thead>\n",
       "    <tr style=\"text-align: right;\">\n",
       "      <th></th>\n",
       "      <th>Pred_0</th>\n",
       "      <th>Pred_1</th>\n",
       "    </tr>\n",
       "  </thead>\n",
       "  <tbody>\n",
       "    <tr>\n",
       "      <th>True_0</th>\n",
       "      <td>0</td>\n",
       "      <td>18273</td>\n",
       "    </tr>\n",
       "    <tr>\n",
       "      <th>True_1</th>\n",
       "      <td>0</td>\n",
       "      <td>34352</td>\n",
       "    </tr>\n",
       "  </tbody>\n",
       "</table>\n",
       "</div>"
      ],
      "text/plain": [
       "        Pred_0  Pred_1\n",
       "True_0       0   18273\n",
       "True_1       0   34352"
      ]
     },
     "metadata": {},
     "output_type": "display_data"
    },
    {
     "name": "stdout",
     "output_type": "stream",
     "text": [
      "[2021-04-08 18:46:44,100|kedro.runner.sequential_runner|INFO] Completed 1 out of 1 tasks\n",
      "[2021-04-08 18:46:44,101|kedro.runner.sequential_runner|INFO] Pipeline execution completed successfully.\n",
      "[2021-04-08 18:46:44,131|causallift.causal_lift|INFO] ### Treatment fraction in train dataset: 0.6527724992398906\n",
      "[2021-04-08 18:46:44,132|causallift.causal_lift|INFO] ### Treatment fraction in test dataset: 0.6527695961995249\n"
     ]
    }
   ],
   "source": [
    "causal_lift_model(cm_df=df, decoder=description_decoder, treatment_name='median_household_income')"
   ]
  },
  {
   "cell_type": "markdown",
   "metadata": {},
   "source": [
    "It's interesting to see high positive values for weapons that are key indicators for crime violence and for predicting description. We also see that using this treatment gives a higher relate score for both train and test than our original models and most other treatments. This is in line with our hypothesis."
   ]
  },
  {
   "cell_type": "markdown",
   "metadata": {},
   "source": [
    "# Is Below Average Poverty\n",
    "\n",
    "We expect this to be a similar indicator as is below average median house income as both variables should be correlated."
   ]
  },
  {
   "cell_type": "code",
   "execution_count": 5,
   "metadata": {
    "ExecuteTime": {
     "end_time": "2021-04-08T22:46:53.220310Z",
     "start_time": "2021-04-08T22:46:44.167880Z"
    }
   },
   "outputs": [
    {
     "name": "stderr",
     "output_type": "stream",
     "text": [
      "C:\\Users\\18199\\anaconda3\\lib\\site-packages\\ipykernel\\ipkernel.py:287: DeprecationWarning: `should_run_async` will not call `transform_cell` automatically in the future. Please pass the result to `transformed_cell` argument and any exception that happen during thetransform in `preprocessing_exc_tuple` in IPython 7.17 and above.\n",
      "  and should_run_async(code)\n"
     ]
    },
    {
     "name": "stdout",
     "output_type": "stream",
     "text": [
      "Original data length 263121\n",
      "Clean data length 263121\n",
      "\n",
      "[Estimate propensity scores for Inverse Probability Weighting.]\n",
      "[2021-04-08 18:46:44,342|causallift.context.flexible_context|INFO] Run pipeline (tags: ['011_bundle_train_and_test_data'], SequentialRunner, only_missing: False)\n",
      "[2021-04-08 18:46:44,359|kedro.pipeline.node|INFO] Running node: bundle_train_and_test_data([args_raw,test_df,train_df]) -> [df_00]\n",
      "[2021-04-08 18:46:44,429|kedro.runner.sequential_runner|INFO] Completed 1 out of 1 tasks\n",
      "[2021-04-08 18:46:44,430|kedro.runner.sequential_runner|INFO] Pipeline execution completed successfully.\n",
      "[2021-04-08 18:46:44,452|causallift.context.flexible_context|INFO] Run pipeline (tags: ['121_prepare_args', '131_treatment_fractions_', '141_initialize_model'], SequentialRunner, only_missing: False)\n",
      "[2021-04-08 18:46:44,467|kedro.pipeline.node|INFO] Running node: impute_cols_features([args_raw,df_00]) -> [args_intermediate]\n",
      "[2021-04-08 18:46:44,471|kedro.runner.sequential_runner|INFO] Completed 1 out of 3 tasks\n",
      "[2021-04-08 18:46:44,479|kedro.pipeline.node|INFO] Running node: treatment_fractions_([args_raw,df_00]) -> [treatment_fractions]\n",
      "[2021-04-08 18:46:44,509|kedro.runner.sequential_runner|INFO] Completed 2 out of 3 tasks\n",
      "[2021-04-08 18:46:44,517|kedro.pipeline.node|INFO] Running node: schedule_propensity_scoring([args_intermediate,df_00]) -> [args]\n",
      "[2021-04-08 18:46:44,522|kedro.runner.sequential_runner|INFO] Completed 3 out of 3 tasks\n",
      "[2021-04-08 18:46:44,522|kedro.runner.sequential_runner|INFO] Pipeline execution completed successfully.\n",
      "[2021-04-08 18:46:44,528|causallift.context.flexible_context|INFO] Run pipeline (tags: ['211_fit_propensity'], SequentialRunner, only_missing: False)\n",
      "[2021-04-08 18:46:44,551|kedro.pipeline.node|INFO] Running node: fit_propensity([args,df_00]) -> [propensity_model]\n",
      "[2021-04-08 18:46:44,569|causallift.nodes.estimate_propensity|INFO] ## Propensity scores will be estimated by logistic regression.\n",
      "[2021-04-08 18:46:44,570|causallift.nodes.estimate_propensity|INFO] ### Parameters for grid search of Logistic regression:\n",
      "{'search_cv': 'sklearn.model_selection.GridSearchCV', 'estimator': 'sklearn.linear_model.LogisticRegression', 'scoring': None, 'cv': 3, 'return_train_score': False, 'n_jobs': -1, 'param_grid': {'random_state': [0], 'C': [0.1, 1, 10], 'class_weight': [None], 'dual': [False], 'fit_intercept': [True], 'intercept_scaling': [1], 'max_iter': [100], 'multi_class': ['ovr'], 'n_jobs': [1], 'penalty': ['l1', 'l2'], 'solver': ['liblinear'], 'tol': [0.0001], 'warm_start': [False]}}\n",
      "[2021-04-08 18:46:52,287|causallift.nodes.estimate_propensity|INFO] ### Best parameter for logistic regression:\n",
      "{'C': 0.1, 'class_weight': None, 'dual': False, 'fit_intercept': True, 'intercept_scaling': 1, 'l1_ratio': None, 'max_iter': 100, 'multi_class': 'ovr', 'n_jobs': 1, 'penalty': 'l1', 'random_state': 0, 'solver': 'liblinear', 'tol': 0.0001, 'verbose': 0, 'warm_start': False}\n",
      "[2021-04-08 18:46:52,288|causallift.nodes.estimate_propensity|INFO] \n",
      "## Coefficients of logistic regression:\n"
     ]
    },
    {
     "data": {
      "text/html": [
       "<div>\n",
       "<style scoped>\n",
       "    .dataframe tbody tr th:only-of-type {\n",
       "        vertical-align: middle;\n",
       "    }\n",
       "\n",
       "    .dataframe tbody tr th {\n",
       "        vertical-align: top;\n",
       "    }\n",
       "\n",
       "    .dataframe thead th {\n",
       "        text-align: right;\n",
       "    }\n",
       "</style>\n",
       "<table border=\"1\" class=\"dataframe\">\n",
       "  <thead>\n",
       "    <tr style=\"text-align: right;\">\n",
       "      <th></th>\n",
       "      <th>Weapon_FIREARM</th>\n",
       "      <th>Weapon_HANDS</th>\n",
       "      <th>Weapon_KNIFE</th>\n",
       "      <th>Weapon_NONE</th>\n",
       "      <th>Weapon_OTHER</th>\n",
       "      <th>Neighborhood</th>\n",
       "      <th>Premise</th>\n",
       "      <th>Month</th>\n",
       "      <th>Hour</th>\n",
       "      <th>Outside</th>\n",
       "    </tr>\n",
       "  </thead>\n",
       "  <tbody>\n",
       "    <tr>\n",
       "      <th>coefficient</th>\n",
       "      <td>0.025825</td>\n",
       "      <td>0.061536</td>\n",
       "      <td>-0.056996</td>\n",
       "      <td>0.409212</td>\n",
       "      <td>-0.0777</td>\n",
       "      <td>-0.001519</td>\n",
       "      <td>-0.005542</td>\n",
       "      <td>0.00445</td>\n",
       "      <td>0.000901</td>\n",
       "      <td>0.10719</td>\n",
       "    </tr>\n",
       "  </tbody>\n",
       "</table>\n",
       "</div>"
      ],
      "text/plain": [
       "             Weapon_FIREARM  Weapon_HANDS  Weapon_KNIFE  Weapon_NONE  \\\n",
       "coefficient        0.025825      0.061536     -0.056996     0.409212   \n",
       "\n",
       "             Weapon_OTHER  Neighborhood   Premise    Month      Hour  Outside  \n",
       "coefficient       -0.0777     -0.001519 -0.005542  0.00445  0.000901  0.10719  "
      ]
     },
     "metadata": {},
     "output_type": "display_data"
    },
    {
     "name": "stdout",
     "output_type": "stream",
     "text": [
      "[2021-04-08 18:46:52,302|kedro.runner.sequential_runner|INFO] Completed 1 out of 1 tasks\n",
      "[2021-04-08 18:46:52,303|kedro.runner.sequential_runner|INFO] Pipeline execution completed successfully.\n",
      "[2021-04-08 18:46:52,312|causallift.context.flexible_context|INFO] Run pipeline (tags: ['221_estimate_propensity'], SequentialRunner, only_missing: False)\n",
      "[2021-04-08 18:46:52,330|kedro.pipeline.node|INFO] Running node: estimate_propensity([args,df_00,propensity_model]) -> [df_01]\n",
      "[2021-04-08 18:46:52,379|causallift.nodes.estimate_propensity|INFO] \n",
      "### Histogram of propensity score for train and test data:\n"
     ]
    },
    {
     "data": {
      "image/png": "[encoded data removed]",
      "text/plain": [
       "<Figure size 432x288 with 1 Axes>"
      ]
     },
     "metadata": {
      "needs_background": "light"
     },
     "output_type": "display_data"
    },
    {
     "name": "stdout",
     "output_type": "stream",
     "text": [
      "[2021-04-08 18:46:52,526|causallift.nodes.estimate_propensity|INFO] \n",
      "### Score Table for logistic regression to calculate propensity score:\n"
     ]
    },
    {
     "data": {
      "text/html": [
       "<div>\n",
       "<style scoped>\n",
       "    .dataframe tbody tr th:only-of-type {\n",
       "        vertical-align: middle;\n",
       "    }\n",
       "\n",
       "    .dataframe tbody tr th {\n",
       "        vertical-align: top;\n",
       "    }\n",
       "\n",
       "    .dataframe thead th {\n",
       "        text-align: right;\n",
       "    }\n",
       "</style>\n",
       "<table border=\"1\" class=\"dataframe\">\n",
       "  <thead>\n",
       "    <tr style=\"text-align: right;\">\n",
       "      <th></th>\n",
       "      <th># samples</th>\n",
       "      <th># classes</th>\n",
       "      <th>accuracy</th>\n",
       "      <th>precision</th>\n",
       "      <th>recall</th>\n",
       "      <th>f1</th>\n",
       "      <th>roc_auc</th>\n",
       "      <th>observed CVR</th>\n",
       "      <th>predicted CVR</th>\n",
       "    </tr>\n",
       "  </thead>\n",
       "  <tbody>\n",
       "    <tr>\n",
       "      <th>train</th>\n",
       "      <td>210496</td>\n",
       "      <td>2</td>\n",
       "      <td>0.549854</td>\n",
       "      <td>0.554863</td>\n",
       "      <td>0.687007</td>\n",
       "      <td>0.613905</td>\n",
       "      <td>0.543865</td>\n",
       "      <td>0.520917</td>\n",
       "      <td>0.644977</td>\n",
       "    </tr>\n",
       "    <tr>\n",
       "      <th>test</th>\n",
       "      <td>52625</td>\n",
       "      <td>2</td>\n",
       "      <td>0.545710</td>\n",
       "      <td>0.551544</td>\n",
       "      <td>0.684274</td>\n",
       "      <td>0.610781</td>\n",
       "      <td>0.539662</td>\n",
       "      <td>0.520912</td>\n",
       "      <td>0.646271</td>\n",
       "    </tr>\n",
       "  </tbody>\n",
       "</table>\n",
       "</div>"
      ],
      "text/plain": [
       "       # samples  # classes  accuracy  precision    recall        f1  \\\n",
       "train     210496          2  0.549854   0.554863  0.687007  0.613905   \n",
       "test       52625          2  0.545710   0.551544  0.684274  0.610781   \n",
       "\n",
       "        roc_auc  observed CVR  predicted CVR  \n",
       "train  0.543865      0.520917       0.644977  \n",
       "test   0.539662      0.520912       0.646271  "
      ]
     },
     "metadata": {},
     "output_type": "display_data"
    },
    {
     "name": "stdout",
     "output_type": "stream",
     "text": [
      "[2021-04-08 18:46:52,918|causallift.nodes.estimate_propensity|INFO] \n",
      "### Confusion Matrix for Train:\n"
     ]
    },
    {
     "data": {
      "text/html": [
       "<div>\n",
       "<style scoped>\n",
       "    .dataframe tbody tr th:only-of-type {\n",
       "        vertical-align: middle;\n",
       "    }\n",
       "\n",
       "    .dataframe tbody tr th {\n",
       "        vertical-align: top;\n",
       "    }\n",
       "\n",
       "    .dataframe thead th {\n",
       "        text-align: right;\n",
       "    }\n",
       "</style>\n",
       "<table border=\"1\" class=\"dataframe\">\n",
       "  <thead>\n",
       "    <tr style=\"text-align: right;\">\n",
       "      <th></th>\n",
       "      <th>Pred_0</th>\n",
       "      <th>Pred_1</th>\n",
       "    </tr>\n",
       "  </thead>\n",
       "  <tbody>\n",
       "    <tr>\n",
       "      <th>True_0</th>\n",
       "      <td>40411</td>\n",
       "      <td>60434</td>\n",
       "    </tr>\n",
       "    <tr>\n",
       "      <th>True_1</th>\n",
       "      <td>34320</td>\n",
       "      <td>75331</td>\n",
       "    </tr>\n",
       "  </tbody>\n",
       "</table>\n",
       "</div>"
      ],
      "text/plain": [
       "        Pred_0  Pred_1\n",
       "True_0   40411   60434\n",
       "True_1   34320   75331"
      ]
     },
     "metadata": {},
     "output_type": "display_data"
    },
    {
     "name": "stdout",
     "output_type": "stream",
     "text": [
      "[2021-04-08 18:46:53,062|causallift.nodes.estimate_propensity|INFO] \n",
      "### Confusion Matrix for Test:\n"
     ]
    },
    {
     "data": {
      "text/html": [
       "<div>\n",
       "<style scoped>\n",
       "    .dataframe tbody tr th:only-of-type {\n",
       "        vertical-align: middle;\n",
       "    }\n",
       "\n",
       "    .dataframe tbody tr th {\n",
       "        vertical-align: top;\n",
       "    }\n",
       "\n",
       "    .dataframe thead th {\n",
       "        text-align: right;\n",
       "    }\n",
       "</style>\n",
       "<table border=\"1\" class=\"dataframe\">\n",
       "  <thead>\n",
       "    <tr style=\"text-align: right;\">\n",
       "      <th></th>\n",
       "      <th>Pred_0</th>\n",
       "      <th>Pred_1</th>\n",
       "    </tr>\n",
       "  </thead>\n",
       "  <tbody>\n",
       "    <tr>\n",
       "      <th>True_0</th>\n",
       "      <td>9960</td>\n",
       "      <td>15252</td>\n",
       "    </tr>\n",
       "    <tr>\n",
       "      <th>True_1</th>\n",
       "      <td>8655</td>\n",
       "      <td>18758</td>\n",
       "    </tr>\n",
       "  </tbody>\n",
       "</table>\n",
       "</div>"
      ],
      "text/plain": [
       "        Pred_0  Pred_1\n",
       "True_0    9960   15252\n",
       "True_1    8655   18758"
      ]
     },
     "metadata": {},
     "output_type": "display_data"
    },
    {
     "name": "stdout",
     "output_type": "stream",
     "text": [
      "[2021-04-08 18:46:53,159|kedro.runner.sequential_runner|INFO] Completed 1 out of 1 tasks\n",
      "[2021-04-08 18:46:53,160|kedro.runner.sequential_runner|INFO] Pipeline execution completed successfully.\n",
      "[2021-04-08 18:46:53,186|causallift.causal_lift|INFO] ### Treatment fraction in train dataset: 0.5209172620857403\n",
      "[2021-04-08 18:46:53,187|causallift.causal_lift|INFO] ### Treatment fraction in test dataset: 0.5209121140142517\n"
     ]
    }
   ],
   "source": [
    "causal_lift_model(cm_df=df, decoder=description_decoder, treatment_name='households_below_poverty')"
   ]
  },
  {
   "cell_type": "markdown",
   "metadata": {},
   "source": [
    "Again, we see weapons use as high coefficients in the model. However, the overall accuracy is lower than the model above that might indicate that this treatment is not as useful and indicative compared to the previous."
   ]
  },
  {
   "cell_type": "markdown",
   "metadata": {},
   "source": [
    "# Is Below Average Population Percentage 18-24\n",
    "\n",
    "We would expect for a youth treatment variable to not have significant influence on the type of crime. "
   ]
  },
  {
   "cell_type": "code",
   "execution_count": 6,
   "metadata": {
    "ExecuteTime": {
     "end_time": "2021-04-08T22:47:08.098068Z",
     "start_time": "2021-04-08T22:46:53.221311Z"
    }
   },
   "outputs": [
    {
     "name": "stderr",
     "output_type": "stream",
     "text": [
      "C:\\Users\\18199\\anaconda3\\lib\\site-packages\\ipykernel\\ipkernel.py:287: DeprecationWarning: `should_run_async` will not call `transform_cell` automatically in the future. Please pass the result to `transformed_cell` argument and any exception that happen during thetransform in `preprocessing_exc_tuple` in IPython 7.17 and above.\n",
      "  and should_run_async(code)\n"
     ]
    },
    {
     "name": "stdout",
     "output_type": "stream",
     "text": [
      "Original data length 263121\n",
      "Clean data length 263121\n",
      "\n",
      "[Estimate propensity scores for Inverse Probability Weighting.]\n",
      "[2021-04-08 18:46:53,379|causallift.context.flexible_context|INFO] Run pipeline (tags: ['011_bundle_train_and_test_data'], SequentialRunner, only_missing: False)\n",
      "[2021-04-08 18:46:53,394|kedro.pipeline.node|INFO] Running node: bundle_train_and_test_data([args_raw,test_df,train_df]) -> [df_00]\n",
      "[2021-04-08 18:46:53,461|kedro.runner.sequential_runner|INFO] Completed 1 out of 1 tasks\n",
      "[2021-04-08 18:46:53,462|kedro.runner.sequential_runner|INFO] Pipeline execution completed successfully.\n",
      "[2021-04-08 18:46:53,486|causallift.context.flexible_context|INFO] Run pipeline (tags: ['121_prepare_args', '131_treatment_fractions_', '141_initialize_model'], SequentialRunner, only_missing: False)\n",
      "[2021-04-08 18:46:53,499|kedro.pipeline.node|INFO] Running node: impute_cols_features([args_raw,df_00]) -> [args_intermediate]\n",
      "[2021-04-08 18:46:53,503|kedro.runner.sequential_runner|INFO] Completed 1 out of 3 tasks\n",
      "[2021-04-08 18:46:53,512|kedro.pipeline.node|INFO] Running node: treatment_fractions_([args_raw,df_00]) -> [treatment_fractions]\n",
      "[2021-04-08 18:46:53,541|kedro.runner.sequential_runner|INFO] Completed 2 out of 3 tasks\n",
      "[2021-04-08 18:46:53,548|kedro.pipeline.node|INFO] Running node: schedule_propensity_scoring([args_intermediate,df_00]) -> [args]\n",
      "[2021-04-08 18:46:53,553|kedro.runner.sequential_runner|INFO] Completed 3 out of 3 tasks\n",
      "[2021-04-08 18:46:53,554|kedro.runner.sequential_runner|INFO] Pipeline execution completed successfully.\n",
      "[2021-04-08 18:46:53,557|causallift.context.flexible_context|INFO] Run pipeline (tags: ['211_fit_propensity'], SequentialRunner, only_missing: False)\n",
      "[2021-04-08 18:46:53,571|kedro.pipeline.node|INFO] Running node: fit_propensity([args,df_00]) -> [propensity_model]\n",
      "[2021-04-08 18:46:53,587|causallift.nodes.estimate_propensity|INFO] ## Propensity scores will be estimated by logistic regression.\n",
      "[2021-04-08 18:46:53,588|causallift.nodes.estimate_propensity|INFO] ### Parameters for grid search of Logistic regression:\n",
      "{'search_cv': 'sklearn.model_selection.GridSearchCV', 'estimator': 'sklearn.linear_model.LogisticRegression', 'scoring': None, 'cv': 3, 'return_train_score': False, 'n_jobs': -1, 'param_grid': {'random_state': [0], 'C': [0.1, 1, 10], 'class_weight': [None], 'dual': [False], 'fit_intercept': [True], 'intercept_scaling': [1], 'max_iter': [100], 'multi_class': ['ovr'], 'n_jobs': [1], 'penalty': ['l1', 'l2'], 'solver': ['liblinear'], 'tol': [0.0001], 'warm_start': [False]}}\n",
      "[2021-04-08 18:47:06,830|causallift.nodes.estimate_propensity|INFO] ### Best parameter for logistic regression:\n",
      "{'C': 0.1, 'class_weight': None, 'dual': False, 'fit_intercept': True, 'intercept_scaling': 1, 'l1_ratio': None, 'max_iter': 100, 'multi_class': 'ovr', 'n_jobs': 1, 'penalty': 'l1', 'random_state': 0, 'solver': 'liblinear', 'tol': 0.0001, 'verbose': 0, 'warm_start': False}\n",
      "[2021-04-08 18:47:06,831|causallift.nodes.estimate_propensity|INFO] \n",
      "## Coefficients of logistic regression:\n"
     ]
    },
    {
     "data": {
      "text/html": [
       "<div>\n",
       "<style scoped>\n",
       "    .dataframe tbody tr th:only-of-type {\n",
       "        vertical-align: middle;\n",
       "    }\n",
       "\n",
       "    .dataframe tbody tr th {\n",
       "        vertical-align: top;\n",
       "    }\n",
       "\n",
       "    .dataframe thead th {\n",
       "        text-align: right;\n",
       "    }\n",
       "</style>\n",
       "<table border=\"1\" class=\"dataframe\">\n",
       "  <thead>\n",
       "    <tr style=\"text-align: right;\">\n",
       "      <th></th>\n",
       "      <th>Weapon_FIREARM</th>\n",
       "      <th>Weapon_HANDS</th>\n",
       "      <th>Weapon_KNIFE</th>\n",
       "      <th>Weapon_NONE</th>\n",
       "      <th>Weapon_OTHER</th>\n",
       "      <th>Neighborhood</th>\n",
       "      <th>Premise</th>\n",
       "      <th>Month</th>\n",
       "      <th>Hour</th>\n",
       "      <th>Outside</th>\n",
       "    </tr>\n",
       "  </thead>\n",
       "  <tbody>\n",
       "    <tr>\n",
       "      <th>coefficient</th>\n",
       "      <td>0.13235</td>\n",
       "      <td>0.067172</td>\n",
       "      <td>0.0</td>\n",
       "      <td>0.123579</td>\n",
       "      <td>0.058252</td>\n",
       "      <td>0.000261</td>\n",
       "      <td>0.005184</td>\n",
       "      <td>-0.001545</td>\n",
       "      <td>0.002284</td>\n",
       "      <td>-0.258417</td>\n",
       "    </tr>\n",
       "  </tbody>\n",
       "</table>\n",
       "</div>"
      ],
      "text/plain": [
       "             Weapon_FIREARM  Weapon_HANDS  Weapon_KNIFE  Weapon_NONE  \\\n",
       "coefficient         0.13235      0.067172           0.0     0.123579   \n",
       "\n",
       "             Weapon_OTHER  Neighborhood   Premise     Month      Hour  \\\n",
       "coefficient      0.058252      0.000261  0.005184 -0.001545  0.002284   \n",
       "\n",
       "              Outside  \n",
       "coefficient -0.258417  "
      ]
     },
     "metadata": {},
     "output_type": "display_data"
    },
    {
     "name": "stdout",
     "output_type": "stream",
     "text": [
      "[2021-04-08 18:47:06,846|kedro.runner.sequential_runner|INFO] Completed 1 out of 1 tasks\n",
      "[2021-04-08 18:47:06,848|kedro.runner.sequential_runner|INFO] Pipeline execution completed successfully.\n",
      "[2021-04-08 18:47:06,856|causallift.context.flexible_context|INFO] Run pipeline (tags: ['221_estimate_propensity'], SequentialRunner, only_missing: False)\n",
      "[2021-04-08 18:47:06,873|kedro.pipeline.node|INFO] Running node: estimate_propensity([args,df_00,propensity_model]) -> [df_01]\n",
      "[2021-04-08 18:47:06,923|causallift.nodes.estimate_propensity|INFO] \n",
      "### Histogram of propensity score for train and test data:\n"
     ]
    },
    {
     "data": {
      "image/png": "[encoded data removed]",
      "text/plain": [
       "<Figure size 432x288 with 1 Axes>"
      ]
     },
     "metadata": {
      "needs_background": "light"
     },
     "output_type": "display_data"
    },
    {
     "name": "stdout",
     "output_type": "stream",
     "text": [
      "[2021-04-08 18:47:07,121|causallift.nodes.estimate_propensity|INFO] \n",
      "### Score Table for logistic regression to calculate propensity score:\n"
     ]
    },
    {
     "data": {
      "text/html": [
       "<div>\n",
       "<style scoped>\n",
       "    .dataframe tbody tr th:only-of-type {\n",
       "        vertical-align: middle;\n",
       "    }\n",
       "\n",
       "    .dataframe tbody tr th {\n",
       "        vertical-align: top;\n",
       "    }\n",
       "\n",
       "    .dataframe thead th {\n",
       "        text-align: right;\n",
       "    }\n",
       "</style>\n",
       "<table border=\"1\" class=\"dataframe\">\n",
       "  <thead>\n",
       "    <tr style=\"text-align: right;\">\n",
       "      <th></th>\n",
       "      <th># samples</th>\n",
       "      <th># classes</th>\n",
       "      <th>accuracy</th>\n",
       "      <th>precision</th>\n",
       "      <th>recall</th>\n",
       "      <th>f1</th>\n",
       "      <th>roc_auc</th>\n",
       "      <th>observed CVR</th>\n",
       "      <th>predicted CVR</th>\n",
       "    </tr>\n",
       "  </thead>\n",
       "  <tbody>\n",
       "    <tr>\n",
       "      <th>train</th>\n",
       "      <td>210496</td>\n",
       "      <td>2</td>\n",
       "      <td>0.756366</td>\n",
       "      <td>0.756366</td>\n",
       "      <td>1.0</td>\n",
       "      <td>0.861285</td>\n",
       "      <td>0.5</td>\n",
       "      <td>0.756366</td>\n",
       "      <td>1.0</td>\n",
       "    </tr>\n",
       "    <tr>\n",
       "      <th>test</th>\n",
       "      <td>52625</td>\n",
       "      <td>2</td>\n",
       "      <td>0.756371</td>\n",
       "      <td>0.756371</td>\n",
       "      <td>1.0</td>\n",
       "      <td>0.861288</td>\n",
       "      <td>0.5</td>\n",
       "      <td>0.756371</td>\n",
       "      <td>1.0</td>\n",
       "    </tr>\n",
       "  </tbody>\n",
       "</table>\n",
       "</div>"
      ],
      "text/plain": [
       "       # samples  # classes  accuracy  precision  recall        f1  roc_auc  \\\n",
       "train     210496          2  0.756366   0.756366     1.0  0.861285      0.5   \n",
       "test       52625          2  0.756371   0.756371     1.0  0.861288      0.5   \n",
       "\n",
       "       observed CVR  predicted CVR  \n",
       "train      0.756366            1.0  \n",
       "test       0.756371            1.0  "
      ]
     },
     "metadata": {},
     "output_type": "display_data"
    },
    {
     "name": "stdout",
     "output_type": "stream",
     "text": [
      "[2021-04-08 18:47:07,579|causallift.nodes.estimate_propensity|INFO] \n",
      "### Confusion Matrix for Train:\n"
     ]
    },
    {
     "data": {
      "text/html": [
       "<div>\n",
       "<style scoped>\n",
       "    .dataframe tbody tr th:only-of-type {\n",
       "        vertical-align: middle;\n",
       "    }\n",
       "\n",
       "    .dataframe tbody tr th {\n",
       "        vertical-align: top;\n",
       "    }\n",
       "\n",
       "    .dataframe thead th {\n",
       "        text-align: right;\n",
       "    }\n",
       "</style>\n",
       "<table border=\"1\" class=\"dataframe\">\n",
       "  <thead>\n",
       "    <tr style=\"text-align: right;\">\n",
       "      <th></th>\n",
       "      <th>Pred_0</th>\n",
       "      <th>Pred_1</th>\n",
       "    </tr>\n",
       "  </thead>\n",
       "  <tbody>\n",
       "    <tr>\n",
       "      <th>True_0</th>\n",
       "      <td>0</td>\n",
       "      <td>51284</td>\n",
       "    </tr>\n",
       "    <tr>\n",
       "      <th>True_1</th>\n",
       "      <td>0</td>\n",
       "      <td>159212</td>\n",
       "    </tr>\n",
       "  </tbody>\n",
       "</table>\n",
       "</div>"
      ],
      "text/plain": [
       "        Pred_0  Pred_1\n",
       "True_0       0   51284\n",
       "True_1       0  159212"
      ]
     },
     "metadata": {},
     "output_type": "display_data"
    },
    {
     "name": "stdout",
     "output_type": "stream",
     "text": [
      "[2021-04-08 18:47:07,756|causallift.nodes.estimate_propensity|INFO] \n",
      "### Confusion Matrix for Test:\n"
     ]
    },
    {
     "data": {
      "text/html": [
       "<div>\n",
       "<style scoped>\n",
       "    .dataframe tbody tr th:only-of-type {\n",
       "        vertical-align: middle;\n",
       "    }\n",
       "\n",
       "    .dataframe tbody tr th {\n",
       "        vertical-align: top;\n",
       "    }\n",
       "\n",
       "    .dataframe thead th {\n",
       "        text-align: right;\n",
       "    }\n",
       "</style>\n",
       "<table border=\"1\" class=\"dataframe\">\n",
       "  <thead>\n",
       "    <tr style=\"text-align: right;\">\n",
       "      <th></th>\n",
       "      <th>Pred_0</th>\n",
       "      <th>Pred_1</th>\n",
       "    </tr>\n",
       "  </thead>\n",
       "  <tbody>\n",
       "    <tr>\n",
       "      <th>True_0</th>\n",
       "      <td>0</td>\n",
       "      <td>12821</td>\n",
       "    </tr>\n",
       "    <tr>\n",
       "      <th>True_1</th>\n",
       "      <td>0</td>\n",
       "      <td>39804</td>\n",
       "    </tr>\n",
       "  </tbody>\n",
       "</table>\n",
       "</div>"
      ],
      "text/plain": [
       "        Pred_0  Pred_1\n",
       "True_0       0   12821\n",
       "True_1       0   39804"
      ]
     },
     "metadata": {},
     "output_type": "display_data"
    },
    {
     "name": "stdout",
     "output_type": "stream",
     "text": [
      "[2021-04-08 18:47:08,022|kedro.runner.sequential_runner|INFO] Completed 1 out of 1 tasks\n",
      "[2021-04-08 18:47:08,030|kedro.runner.sequential_runner|INFO] Pipeline execution completed successfully.\n",
      "[2021-04-08 18:47:08,061|causallift.causal_lift|INFO] ### Treatment fraction in train dataset: 0.7563659166920037\n",
      "[2021-04-08 18:47:08,062|causallift.causal_lift|INFO] ### Treatment fraction in test dataset: 0.7563705463182898\n"
     ]
    }
   ],
   "source": [
    "causal_lift_model(cm_df=df, decoder=description_decoder, treatment_name='perc18_24')"
   ]
  },
  {
   "cell_type": "markdown",
   "metadata": {},
   "source": [
    "This a very interesting finding going against our initial hypothesis. Control for the youth treatment seems to be one of the highest indicators of the crime description. It has the best overall train and test accuracy with close to 76%. It also interesting to see a split between Firearm and No Weapon indicators. After looking into this variable more, Baltimore seems to have a serious youth criminality issue. We will investigate this further in our report.\n",
    "\n",
    "Youth criminality has been dropping but there are racial disparities. Also, the article was wrote in 2019 and our data covers a much longer historical period.  \n",
    "https://www.washingtonpost.com/local/public-safety/youth-arrests-in-baltimore-down-55percent-but-report-finds-racial-disparities/2019/04/28/b11a649e-66d5-11e9-8985-4cf30147bdca_story.html"
   ]
  },
  {
   "cell_type": "markdown",
   "metadata": {},
   "source": [
    "# Is Below Average Population Percentage 25-64\n",
    "We would expect for a youth treatment variable to not have significant influence on the type of crime. "
   ]
  },
  {
   "cell_type": "code",
   "execution_count": 7,
   "metadata": {
    "ExecuteTime": {
     "end_time": "2021-04-08T22:47:19.684404Z",
     "start_time": "2021-04-08T22:47:08.099616Z"
    }
   },
   "outputs": [
    {
     "name": "stderr",
     "output_type": "stream",
     "text": [
      "C:\\Users\\18199\\anaconda3\\lib\\site-packages\\ipykernel\\ipkernel.py:287: DeprecationWarning: `should_run_async` will not call `transform_cell` automatically in the future. Please pass the result to `transformed_cell` argument and any exception that happen during thetransform in `preprocessing_exc_tuple` in IPython 7.17 and above.\n",
      "  and should_run_async(code)\n"
     ]
    },
    {
     "name": "stdout",
     "output_type": "stream",
     "text": [
      "Original data length 263121\n",
      "Clean data length 263121\n",
      "\n",
      "[Estimate propensity scores for Inverse Probability Weighting.]\n",
      "[2021-04-08 18:47:08,280|causallift.context.flexible_context|INFO] Run pipeline (tags: ['011_bundle_train_and_test_data'], SequentialRunner, only_missing: False)\n",
      "[2021-04-08 18:47:08,297|kedro.pipeline.node|INFO] Running node: bundle_train_and_test_data([args_raw,test_df,train_df]) -> [df_00]\n",
      "[2021-04-08 18:47:08,370|kedro.runner.sequential_runner|INFO] Completed 1 out of 1 tasks\n",
      "[2021-04-08 18:47:08,373|kedro.runner.sequential_runner|INFO] Pipeline execution completed successfully.\n",
      "[2021-04-08 18:47:08,397|causallift.context.flexible_context|INFO] Run pipeline (tags: ['121_prepare_args', '131_treatment_fractions_', '141_initialize_model'], SequentialRunner, only_missing: False)\n",
      "[2021-04-08 18:47:08,411|kedro.pipeline.node|INFO] Running node: impute_cols_features([args_raw,df_00]) -> [args_intermediate]\n",
      "[2021-04-08 18:47:08,414|kedro.runner.sequential_runner|INFO] Completed 1 out of 3 tasks\n",
      "[2021-04-08 18:47:08,422|kedro.pipeline.node|INFO] Running node: treatment_fractions_([args_raw,df_00]) -> [treatment_fractions]\n",
      "[2021-04-08 18:47:08,455|kedro.runner.sequential_runner|INFO] Completed 2 out of 3 tasks\n",
      "[2021-04-08 18:47:08,463|kedro.pipeline.node|INFO] Running node: schedule_propensity_scoring([args_intermediate,df_00]) -> [args]\n",
      "[2021-04-08 18:47:08,467|kedro.runner.sequential_runner|INFO] Completed 3 out of 3 tasks\n",
      "[2021-04-08 18:47:08,468|kedro.runner.sequential_runner|INFO] Pipeline execution completed successfully.\n",
      "[2021-04-08 18:47:08,471|causallift.context.flexible_context|INFO] Run pipeline (tags: ['211_fit_propensity'], SequentialRunner, only_missing: False)\n",
      "[2021-04-08 18:47:08,486|kedro.pipeline.node|INFO] Running node: fit_propensity([args,df_00]) -> [propensity_model]\n",
      "[2021-04-08 18:47:08,502|causallift.nodes.estimate_propensity|INFO] ## Propensity scores will be estimated by logistic regression.\n",
      "[2021-04-08 18:47:08,503|causallift.nodes.estimate_propensity|INFO] ### Parameters for grid search of Logistic regression:\n",
      "{'search_cv': 'sklearn.model_selection.GridSearchCV', 'estimator': 'sklearn.linear_model.LogisticRegression', 'scoring': None, 'cv': 3, 'return_train_score': False, 'n_jobs': -1, 'param_grid': {'random_state': [0], 'C': [0.1, 1, 10], 'class_weight': [None], 'dual': [False], 'fit_intercept': [True], 'intercept_scaling': [1], 'max_iter': [100], 'multi_class': ['ovr'], 'n_jobs': [1], 'penalty': ['l1', 'l2'], 'solver': ['liblinear'], 'tol': [0.0001], 'warm_start': [False]}}\n",
      "[2021-04-08 18:47:18,712|causallift.nodes.estimate_propensity|INFO] ### Best parameter for logistic regression:\n",
      "{'C': 0.1, 'class_weight': None, 'dual': False, 'fit_intercept': True, 'intercept_scaling': 1, 'l1_ratio': None, 'max_iter': 100, 'multi_class': 'ovr', 'n_jobs': 1, 'penalty': 'l1', 'random_state': 0, 'solver': 'liblinear', 'tol': 0.0001, 'verbose': 0, 'warm_start': False}\n",
      "[2021-04-08 18:47:18,714|causallift.nodes.estimate_propensity|INFO] \n",
      "## Coefficients of logistic regression:\n"
     ]
    },
    {
     "data": {
      "text/html": [
       "<div>\n",
       "<style scoped>\n",
       "    .dataframe tbody tr th:only-of-type {\n",
       "        vertical-align: middle;\n",
       "    }\n",
       "\n",
       "    .dataframe tbody tr th {\n",
       "        vertical-align: top;\n",
       "    }\n",
       "\n",
       "    .dataframe thead th {\n",
       "        text-align: right;\n",
       "    }\n",
       "</style>\n",
       "<table border=\"1\" class=\"dataframe\">\n",
       "  <thead>\n",
       "    <tr style=\"text-align: right;\">\n",
       "      <th></th>\n",
       "      <th>Weapon_FIREARM</th>\n",
       "      <th>Weapon_HANDS</th>\n",
       "      <th>Weapon_KNIFE</th>\n",
       "      <th>Weapon_NONE</th>\n",
       "      <th>Weapon_OTHER</th>\n",
       "      <th>Neighborhood</th>\n",
       "      <th>Premise</th>\n",
       "      <th>Month</th>\n",
       "      <th>Hour</th>\n",
       "      <th>Outside</th>\n",
       "    </tr>\n",
       "  </thead>\n",
       "  <tbody>\n",
       "    <tr>\n",
       "      <th>coefficient</th>\n",
       "      <td>0.59744</td>\n",
       "      <td>0.347658</td>\n",
       "      <td>0.359078</td>\n",
       "      <td>0.171434</td>\n",
       "      <td>0.457315</td>\n",
       "      <td>-0.00107</td>\n",
       "      <td>0.002186</td>\n",
       "      <td>-0.003114</td>\n",
       "      <td>0.001402</td>\n",
       "      <td>-0.113552</td>\n",
       "    </tr>\n",
       "  </tbody>\n",
       "</table>\n",
       "</div>"
      ],
      "text/plain": [
       "             Weapon_FIREARM  Weapon_HANDS  Weapon_KNIFE  Weapon_NONE  \\\n",
       "coefficient         0.59744      0.347658      0.359078     0.171434   \n",
       "\n",
       "             Weapon_OTHER  Neighborhood   Premise     Month      Hour  \\\n",
       "coefficient      0.457315      -0.00107  0.002186 -0.003114  0.001402   \n",
       "\n",
       "              Outside  \n",
       "coefficient -0.113552  "
      ]
     },
     "metadata": {},
     "output_type": "display_data"
    },
    {
     "name": "stdout",
     "output_type": "stream",
     "text": [
      "[2021-04-08 18:47:18,731|kedro.runner.sequential_runner|INFO] Completed 1 out of 1 tasks\n",
      "[2021-04-08 18:47:18,733|kedro.runner.sequential_runner|INFO] Pipeline execution completed successfully.\n",
      "[2021-04-08 18:47:18,743|causallift.context.flexible_context|INFO] Run pipeline (tags: ['221_estimate_propensity'], SequentialRunner, only_missing: False)\n",
      "[2021-04-08 18:47:18,759|kedro.pipeline.node|INFO] Running node: estimate_propensity([args,df_00,propensity_model]) -> [df_01]\n",
      "[2021-04-08 18:47:18,813|causallift.nodes.estimate_propensity|INFO] \n",
      "### Histogram of propensity score for train and test data:\n"
     ]
    },
    {
     "data": {
      "image/png": "[encoded data removed]",
      "text/plain": [
       "<Figure size 432x288 with 1 Axes>"
      ]
     },
     "metadata": {
      "needs_background": "light"
     },
     "output_type": "display_data"
    },
    {
     "name": "stdout",
     "output_type": "stream",
     "text": [
      "[2021-04-08 18:47:18,968|causallift.nodes.estimate_propensity|INFO] \n",
      "### Score Table for logistic regression to calculate propensity score:\n"
     ]
    },
    {
     "data": {
      "text/html": [
       "<div>\n",
       "<style scoped>\n",
       "    .dataframe tbody tr th:only-of-type {\n",
       "        vertical-align: middle;\n",
       "    }\n",
       "\n",
       "    .dataframe tbody tr th {\n",
       "        vertical-align: top;\n",
       "    }\n",
       "\n",
       "    .dataframe thead th {\n",
       "        text-align: right;\n",
       "    }\n",
       "</style>\n",
       "<table border=\"1\" class=\"dataframe\">\n",
       "  <thead>\n",
       "    <tr style=\"text-align: right;\">\n",
       "      <th></th>\n",
       "      <th># samples</th>\n",
       "      <th># classes</th>\n",
       "      <th>accuracy</th>\n",
       "      <th>precision</th>\n",
       "      <th>recall</th>\n",
       "      <th>f1</th>\n",
       "      <th>roc_auc</th>\n",
       "      <th>observed CVR</th>\n",
       "      <th>predicted CVR</th>\n",
       "    </tr>\n",
       "  </thead>\n",
       "  <tbody>\n",
       "    <tr>\n",
       "      <th>train</th>\n",
       "      <td>210496</td>\n",
       "      <td>2</td>\n",
       "      <td>0.628183</td>\n",
       "      <td>0.628183</td>\n",
       "      <td>1.0</td>\n",
       "      <td>0.771637</td>\n",
       "      <td>0.5</td>\n",
       "      <td>0.628183</td>\n",
       "      <td>1.0</td>\n",
       "    </tr>\n",
       "    <tr>\n",
       "      <th>test</th>\n",
       "      <td>52625</td>\n",
       "      <td>2</td>\n",
       "      <td>0.628181</td>\n",
       "      <td>0.628181</td>\n",
       "      <td>1.0</td>\n",
       "      <td>0.771635</td>\n",
       "      <td>0.5</td>\n",
       "      <td>0.628181</td>\n",
       "      <td>1.0</td>\n",
       "    </tr>\n",
       "  </tbody>\n",
       "</table>\n",
       "</div>"
      ],
      "text/plain": [
       "       # samples  # classes  accuracy  precision  recall        f1  roc_auc  \\\n",
       "train     210496          2  0.628183   0.628183     1.0  0.771637      0.5   \n",
       "test       52625          2  0.628181   0.628181     1.0  0.771635      0.5   \n",
       "\n",
       "       observed CVR  predicted CVR  \n",
       "train      0.628183            1.0  \n",
       "test       0.628181            1.0  "
      ]
     },
     "metadata": {},
     "output_type": "display_data"
    },
    {
     "name": "stdout",
     "output_type": "stream",
     "text": [
      "[2021-04-08 18:47:19,360|causallift.nodes.estimate_propensity|INFO] \n",
      "### Confusion Matrix for Train:\n"
     ]
    },
    {
     "data": {
      "text/html": [
       "<div>\n",
       "<style scoped>\n",
       "    .dataframe tbody tr th:only-of-type {\n",
       "        vertical-align: middle;\n",
       "    }\n",
       "\n",
       "    .dataframe tbody tr th {\n",
       "        vertical-align: top;\n",
       "    }\n",
       "\n",
       "    .dataframe thead th {\n",
       "        text-align: right;\n",
       "    }\n",
       "</style>\n",
       "<table border=\"1\" class=\"dataframe\">\n",
       "  <thead>\n",
       "    <tr style=\"text-align: right;\">\n",
       "      <th></th>\n",
       "      <th>Pred_0</th>\n",
       "      <th>Pred_1</th>\n",
       "    </tr>\n",
       "  </thead>\n",
       "  <tbody>\n",
       "    <tr>\n",
       "      <th>True_0</th>\n",
       "      <td>0</td>\n",
       "      <td>78266</td>\n",
       "    </tr>\n",
       "    <tr>\n",
       "      <th>True_1</th>\n",
       "      <td>0</td>\n",
       "      <td>132230</td>\n",
       "    </tr>\n",
       "  </tbody>\n",
       "</table>\n",
       "</div>"
      ],
      "text/plain": [
       "        Pred_0  Pred_1\n",
       "True_0       0   78266\n",
       "True_1       0  132230"
      ]
     },
     "metadata": {},
     "output_type": "display_data"
    },
    {
     "name": "stdout",
     "output_type": "stream",
     "text": [
      "[2021-04-08 18:47:19,513|causallift.nodes.estimate_propensity|INFO] \n",
      "### Confusion Matrix for Test:\n"
     ]
    },
    {
     "data": {
      "text/html": [
       "<div>\n",
       "<style scoped>\n",
       "    .dataframe tbody tr th:only-of-type {\n",
       "        vertical-align: middle;\n",
       "    }\n",
       "\n",
       "    .dataframe tbody tr th {\n",
       "        vertical-align: top;\n",
       "    }\n",
       "\n",
       "    .dataframe thead th {\n",
       "        text-align: right;\n",
       "    }\n",
       "</style>\n",
       "<table border=\"1\" class=\"dataframe\">\n",
       "  <thead>\n",
       "    <tr style=\"text-align: right;\">\n",
       "      <th></th>\n",
       "      <th>Pred_0</th>\n",
       "      <th>Pred_1</th>\n",
       "    </tr>\n",
       "  </thead>\n",
       "  <tbody>\n",
       "    <tr>\n",
       "      <th>True_0</th>\n",
       "      <td>0</td>\n",
       "      <td>19567</td>\n",
       "    </tr>\n",
       "    <tr>\n",
       "      <th>True_1</th>\n",
       "      <td>0</td>\n",
       "      <td>33058</td>\n",
       "    </tr>\n",
       "  </tbody>\n",
       "</table>\n",
       "</div>"
      ],
      "text/plain": [
       "        Pred_0  Pred_1\n",
       "True_0       0   19567\n",
       "True_1       0   33058"
      ]
     },
     "metadata": {},
     "output_type": "display_data"
    },
    {
     "name": "stdout",
     "output_type": "stream",
     "text": [
      "[2021-04-08 18:47:19,619|kedro.runner.sequential_runner|INFO] Completed 1 out of 1 tasks\n",
      "[2021-04-08 18:47:19,620|kedro.runner.sequential_runner|INFO] Pipeline execution completed successfully.\n",
      "[2021-04-08 18:47:19,648|causallift.causal_lift|INFO] ### Treatment fraction in train dataset: 0.6281829583460018\n",
      "[2021-04-08 18:47:19,649|causallift.causal_lift|INFO] ### Treatment fraction in test dataset: 0.6281805225653206\n"
     ]
    }
   ],
   "source": [
    "causal_lift_model(cm_df=df, decoder=description_decoder, treatment_name='perc25_64')"
   ]
  },
  {
   "cell_type": "markdown",
   "metadata": {},
   "source": [
    "This is against our hypothesis again and still indicates violence in younger people. The coefficients for different weapons are even higher and positively significant here which supports our results for above. "
   ]
  },
  {
   "cell_type": "markdown",
   "metadata": {},
   "source": [
    "# Is Below Average Population Percentage Over 65\n",
    "We would expect for a youth treatment variable to not have significant influence on the type of crime. "
   ]
  },
  {
   "cell_type": "code",
   "execution_count": 8,
   "metadata": {
    "ExecuteTime": {
     "end_time": "2021-04-08T22:47:36.761943Z",
     "start_time": "2021-04-08T22:47:19.687404Z"
    }
   },
   "outputs": [
    {
     "name": "stderr",
     "output_type": "stream",
     "text": [
      "C:\\Users\\18199\\anaconda3\\lib\\site-packages\\ipykernel\\ipkernel.py:287: DeprecationWarning: `should_run_async` will not call `transform_cell` automatically in the future. Please pass the result to `transformed_cell` argument and any exception that happen during thetransform in `preprocessing_exc_tuple` in IPython 7.17 and above.\n",
      "  and should_run_async(code)\n"
     ]
    },
    {
     "name": "stdout",
     "output_type": "stream",
     "text": [
      "Original data length 263121\n",
      "Clean data length 263121\n",
      "\n",
      "[Estimate propensity scores for Inverse Probability Weighting.]\n",
      "[2021-04-08 18:47:19,864|causallift.context.flexible_context|INFO] Run pipeline (tags: ['011_bundle_train_and_test_data'], SequentialRunner, only_missing: False)\n",
      "[2021-04-08 18:47:19,880|kedro.pipeline.node|INFO] Running node: bundle_train_and_test_data([args_raw,test_df,train_df]) -> [df_00]\n",
      "[2021-04-08 18:47:19,956|kedro.runner.sequential_runner|INFO] Completed 1 out of 1 tasks\n",
      "[2021-04-08 18:47:19,958|kedro.runner.sequential_runner|INFO] Pipeline execution completed successfully.\n",
      "[2021-04-08 18:47:19,982|causallift.context.flexible_context|INFO] Run pipeline (tags: ['121_prepare_args', '131_treatment_fractions_', '141_initialize_model'], SequentialRunner, only_missing: False)\n",
      "[2021-04-08 18:47:20,001|kedro.pipeline.node|INFO] Running node: impute_cols_features([args_raw,df_00]) -> [args_intermediate]\n",
      "[2021-04-08 18:47:20,006|kedro.runner.sequential_runner|INFO] Completed 1 out of 3 tasks\n",
      "[2021-04-08 18:47:20,015|kedro.pipeline.node|INFO] Running node: treatment_fractions_([args_raw,df_00]) -> [treatment_fractions]\n",
      "[2021-04-08 18:47:20,047|kedro.runner.sequential_runner|INFO] Completed 2 out of 3 tasks\n",
      "[2021-04-08 18:47:20,056|kedro.pipeline.node|INFO] Running node: schedule_propensity_scoring([args_intermediate,df_00]) -> [args]\n",
      "[2021-04-08 18:47:20,059|kedro.runner.sequential_runner|INFO] Completed 3 out of 3 tasks\n",
      "[2021-04-08 18:47:20,062|kedro.runner.sequential_runner|INFO] Pipeline execution completed successfully.\n",
      "[2021-04-08 18:47:20,065|causallift.context.flexible_context|INFO] Run pipeline (tags: ['211_fit_propensity'], SequentialRunner, only_missing: False)\n",
      "[2021-04-08 18:47:20,082|kedro.pipeline.node|INFO] Running node: fit_propensity([args,df_00]) -> [propensity_model]\n",
      "[2021-04-08 18:47:20,101|causallift.nodes.estimate_propensity|INFO] ## Propensity scores will be estimated by logistic regression.\n",
      "[2021-04-08 18:47:20,102|causallift.nodes.estimate_propensity|INFO] ### Parameters for grid search of Logistic regression:\n",
      "{'search_cv': 'sklearn.model_selection.GridSearchCV', 'estimator': 'sklearn.linear_model.LogisticRegression', 'scoring': None, 'cv': 3, 'return_train_score': False, 'n_jobs': -1, 'param_grid': {'random_state': [0], 'C': [0.1, 1, 10], 'class_weight': [None], 'dual': [False], 'fit_intercept': [True], 'intercept_scaling': [1], 'max_iter': [100], 'multi_class': ['ovr'], 'n_jobs': [1], 'penalty': ['l1', 'l2'], 'solver': ['liblinear'], 'tol': [0.0001], 'warm_start': [False]}}\n",
      "[2021-04-08 18:47:35,725|causallift.nodes.estimate_propensity|INFO] ### Best parameter for logistic regression:\n",
      "{'C': 0.1, 'class_weight': None, 'dual': False, 'fit_intercept': True, 'intercept_scaling': 1, 'l1_ratio': None, 'max_iter': 100, 'multi_class': 'ovr', 'n_jobs': 1, 'penalty': 'l2', 'random_state': 0, 'solver': 'liblinear', 'tol': 0.0001, 'verbose': 0, 'warm_start': False}\n",
      "[2021-04-08 18:47:35,726|causallift.nodes.estimate_propensity|INFO] \n",
      "## Coefficients of logistic regression:\n"
     ]
    },
    {
     "data": {
      "text/html": [
       "<div>\n",
       "<style scoped>\n",
       "    .dataframe tbody tr th:only-of-type {\n",
       "        vertical-align: middle;\n",
       "    }\n",
       "\n",
       "    .dataframe tbody tr th {\n",
       "        vertical-align: top;\n",
       "    }\n",
       "\n",
       "    .dataframe thead th {\n",
       "        text-align: right;\n",
       "    }\n",
       "</style>\n",
       "<table border=\"1\" class=\"dataframe\">\n",
       "  <thead>\n",
       "    <tr style=\"text-align: right;\">\n",
       "      <th></th>\n",
       "      <th>Weapon_FIREARM</th>\n",
       "      <th>Weapon_HANDS</th>\n",
       "      <th>Weapon_KNIFE</th>\n",
       "      <th>Weapon_NONE</th>\n",
       "      <th>Weapon_OTHER</th>\n",
       "      <th>Neighborhood</th>\n",
       "      <th>Premise</th>\n",
       "      <th>Month</th>\n",
       "      <th>Hour</th>\n",
       "      <th>Outside</th>\n",
       "    </tr>\n",
       "  </thead>\n",
       "  <tbody>\n",
       "    <tr>\n",
       "      <th>coefficient</th>\n",
       "      <td>-0.073319</td>\n",
       "      <td>0.061935</td>\n",
       "      <td>0.136603</td>\n",
       "      <td>0.022915</td>\n",
       "      <td>0.099131</td>\n",
       "      <td>-0.002313</td>\n",
       "      <td>-0.000375</td>\n",
       "      <td>0.001603</td>\n",
       "      <td>-0.001471</td>\n",
       "      <td>0.082225</td>\n",
       "    </tr>\n",
       "  </tbody>\n",
       "</table>\n",
       "</div>"
      ],
      "text/plain": [
       "             Weapon_FIREARM  Weapon_HANDS  Weapon_KNIFE  Weapon_NONE  \\\n",
       "coefficient       -0.073319      0.061935      0.136603     0.022915   \n",
       "\n",
       "             Weapon_OTHER  Neighborhood   Premise     Month      Hour  \\\n",
       "coefficient      0.099131     -0.002313 -0.000375  0.001603 -0.001471   \n",
       "\n",
       "              Outside  \n",
       "coefficient  0.082225  "
      ]
     },
     "metadata": {},
     "output_type": "display_data"
    },
    {
     "name": "stdout",
     "output_type": "stream",
     "text": [
      "[2021-04-08 18:47:35,744|kedro.runner.sequential_runner|INFO] Completed 1 out of 1 tasks\n",
      "[2021-04-08 18:47:35,748|kedro.runner.sequential_runner|INFO] Pipeline execution completed successfully.\n",
      "[2021-04-08 18:47:35,759|causallift.context.flexible_context|INFO] Run pipeline (tags: ['221_estimate_propensity'], SequentialRunner, only_missing: False)\n",
      "[2021-04-08 18:47:35,775|kedro.pipeline.node|INFO] Running node: estimate_propensity([args,df_00,propensity_model]) -> [df_01]\n",
      "[2021-04-08 18:47:35,819|causallift.nodes.estimate_propensity|INFO] \n",
      "### Histogram of propensity score for train and test data:\n"
     ]
    },
    {
     "data": {
      "image/png": "[encoded data removed]",
      "text/plain": [
       "<Figure size 432x288 with 1 Axes>"
      ]
     },
     "metadata": {
      "needs_background": "light"
     },
     "output_type": "display_data"
    },
    {
     "name": "stdout",
     "output_type": "stream",
     "text": [
      "[2021-04-08 18:47:35,974|causallift.nodes.estimate_propensity|INFO] \n",
      "### Score Table for logistic regression to calculate propensity score:\n"
     ]
    },
    {
     "data": {
      "text/html": [
       "<div>\n",
       "<style scoped>\n",
       "    .dataframe tbody tr th:only-of-type {\n",
       "        vertical-align: middle;\n",
       "    }\n",
       "\n",
       "    .dataframe tbody tr th {\n",
       "        vertical-align: top;\n",
       "    }\n",
       "\n",
       "    .dataframe thead th {\n",
       "        text-align: right;\n",
       "    }\n",
       "</style>\n",
       "<table border=\"1\" class=\"dataframe\">\n",
       "  <thead>\n",
       "    <tr style=\"text-align: right;\">\n",
       "      <th></th>\n",
       "      <th># samples</th>\n",
       "      <th># classes</th>\n",
       "      <th>accuracy</th>\n",
       "      <th>precision</th>\n",
       "      <th>recall</th>\n",
       "      <th>f1</th>\n",
       "      <th>roc_auc</th>\n",
       "      <th>observed CVR</th>\n",
       "      <th>predicted CVR</th>\n",
       "    </tr>\n",
       "  </thead>\n",
       "  <tbody>\n",
       "    <tr>\n",
       "      <th>train</th>\n",
       "      <td>210496</td>\n",
       "      <td>2</td>\n",
       "      <td>0.547293</td>\n",
       "      <td>0.544695</td>\n",
       "      <td>0.574684</td>\n",
       "      <td>0.559288</td>\n",
       "      <td>0.547301</td>\n",
       "      <td>0.499848</td>\n",
       "      <td>0.527369</td>\n",
       "    </tr>\n",
       "    <tr>\n",
       "      <th>test</th>\n",
       "      <td>52625</td>\n",
       "      <td>2</td>\n",
       "      <td>0.544665</td>\n",
       "      <td>0.541982</td>\n",
       "      <td>0.574948</td>\n",
       "      <td>0.557978</td>\n",
       "      <td>0.544674</td>\n",
       "      <td>0.499857</td>\n",
       "      <td>0.530261</td>\n",
       "    </tr>\n",
       "  </tbody>\n",
       "</table>\n",
       "</div>"
      ],
      "text/plain": [
       "       # samples  # classes  accuracy  precision    recall        f1  \\\n",
       "train     210496          2  0.547293   0.544695  0.574684  0.559288   \n",
       "test       52625          2  0.544665   0.541982  0.574948  0.557978   \n",
       "\n",
       "        roc_auc  observed CVR  predicted CVR  \n",
       "train  0.547301      0.499848       0.527369  \n",
       "test   0.544674      0.499857       0.530261  "
      ]
     },
     "metadata": {},
     "output_type": "display_data"
    },
    {
     "name": "stdout",
     "output_type": "stream",
     "text": [
      "[2021-04-08 18:47:36,439|causallift.nodes.estimate_propensity|INFO] \n",
      "### Confusion Matrix for Train:\n"
     ]
    },
    {
     "data": {
      "text/html": [
       "<div>\n",
       "<style scoped>\n",
       "    .dataframe tbody tr th:only-of-type {\n",
       "        vertical-align: middle;\n",
       "    }\n",
       "\n",
       "    .dataframe tbody tr th {\n",
       "        vertical-align: top;\n",
       "    }\n",
       "\n",
       "    .dataframe thead th {\n",
       "        text-align: right;\n",
       "    }\n",
       "</style>\n",
       "<table border=\"1\" class=\"dataframe\">\n",
       "  <thead>\n",
       "    <tr style=\"text-align: right;\">\n",
       "      <th></th>\n",
       "      <th>Pred_0</th>\n",
       "      <th>Pred_1</th>\n",
       "    </tr>\n",
       "  </thead>\n",
       "  <tbody>\n",
       "    <tr>\n",
       "      <th>True_0</th>\n",
       "      <td>54737</td>\n",
       "      <td>50543</td>\n",
       "    </tr>\n",
       "    <tr>\n",
       "      <th>True_1</th>\n",
       "      <td>44750</td>\n",
       "      <td>60466</td>\n",
       "    </tr>\n",
       "  </tbody>\n",
       "</table>\n",
       "</div>"
      ],
      "text/plain": [
       "        Pred_0  Pred_1\n",
       "True_0   54737   50543\n",
       "True_1   44750   60466"
      ]
     },
     "metadata": {},
     "output_type": "display_data"
    },
    {
     "name": "stdout",
     "output_type": "stream",
     "text": [
      "[2021-04-08 18:47:36,595|causallift.nodes.estimate_propensity|INFO] \n",
      "### Confusion Matrix for Test:\n"
     ]
    },
    {
     "data": {
      "text/html": [
       "<div>\n",
       "<style scoped>\n",
       "    .dataframe tbody tr th:only-of-type {\n",
       "        vertical-align: middle;\n",
       "    }\n",
       "\n",
       "    .dataframe tbody tr th {\n",
       "        vertical-align: top;\n",
       "    }\n",
       "\n",
       "    .dataframe thead th {\n",
       "        text-align: right;\n",
       "    }\n",
       "</style>\n",
       "<table border=\"1\" class=\"dataframe\">\n",
       "  <thead>\n",
       "    <tr style=\"text-align: right;\">\n",
       "      <th></th>\n",
       "      <th>Pred_0</th>\n",
       "      <th>Pred_1</th>\n",
       "    </tr>\n",
       "  </thead>\n",
       "  <tbody>\n",
       "    <tr>\n",
       "      <th>True_0</th>\n",
       "      <td>13539</td>\n",
       "      <td>12781</td>\n",
       "    </tr>\n",
       "    <tr>\n",
       "      <th>True_1</th>\n",
       "      <td>11181</td>\n",
       "      <td>15124</td>\n",
       "    </tr>\n",
       "  </tbody>\n",
       "</table>\n",
       "</div>"
      ],
      "text/plain": [
       "        Pred_0  Pred_1\n",
       "True_0   13539   12781\n",
       "True_1   11181   15124"
      ]
     },
     "metadata": {},
     "output_type": "display_data"
    },
    {
     "name": "stdout",
     "output_type": "stream",
     "text": [
      "[2021-04-08 18:47:36,701|kedro.runner.sequential_runner|INFO] Completed 1 out of 1 tasks\n",
      "[2021-04-08 18:47:36,704|kedro.runner.sequential_runner|INFO] Pipeline execution completed successfully.\n",
      "[2021-04-08 18:47:36,732|causallift.causal_lift|INFO] ### Treatment fraction in train dataset: 0.4998479781088477\n",
      "[2021-04-08 18:47:36,733|causallift.causal_lift|INFO] ### Treatment fraction in test dataset: 0.49985748218527315\n"
     ]
    }
   ],
   "source": [
    "causal_lift_model(cm_df=df, decoder=description_decoder, treatment_name='perc65up')"
   ]
  },
  {
   "cell_type": "markdown",
   "metadata": {},
   "source": [
    "The effects here are more negligable with lower accuracy and in line with our expectations."
   ]
  },
  {
   "cell_type": "markdown",
   "metadata": {},
   "source": [
    "# Is Below Average Percentage Asian\n",
    "\n",
    "Race could possibly indicate type of crime when used as treatment. This is where we have to be even more careful to adjust for demographic bias."
   ]
  },
  {
   "cell_type": "code",
   "execution_count": 9,
   "metadata": {
    "ExecuteTime": {
     "end_time": "2021-04-08T22:47:48.880217Z",
     "start_time": "2021-04-08T22:47:36.763944Z"
    }
   },
   "outputs": [
    {
     "name": "stderr",
     "output_type": "stream",
     "text": [
      "C:\\Users\\18199\\anaconda3\\lib\\site-packages\\ipykernel\\ipkernel.py:287: DeprecationWarning: `should_run_async` will not call `transform_cell` automatically in the future. Please pass the result to `transformed_cell` argument and any exception that happen during thetransform in `preprocessing_exc_tuple` in IPython 7.17 and above.\n",
      "  and should_run_async(code)\n"
     ]
    },
    {
     "name": "stdout",
     "output_type": "stream",
     "text": [
      "Original data length 263121\n",
      "Clean data length 263121\n",
      "\n",
      "[Estimate propensity scores for Inverse Probability Weighting.]\n",
      "[2021-04-08 18:47:36,944|causallift.context.flexible_context|INFO] Run pipeline (tags: ['011_bundle_train_and_test_data'], SequentialRunner, only_missing: False)\n",
      "[2021-04-08 18:47:36,958|kedro.pipeline.node|INFO] Running node: bundle_train_and_test_data([args_raw,test_df,train_df]) -> [df_00]\n",
      "[2021-04-08 18:47:37,030|kedro.runner.sequential_runner|INFO] Completed 1 out of 1 tasks\n",
      "[2021-04-08 18:47:37,031|kedro.runner.sequential_runner|INFO] Pipeline execution completed successfully.\n",
      "[2021-04-08 18:47:37,053|causallift.context.flexible_context|INFO] Run pipeline (tags: ['121_prepare_args', '131_treatment_fractions_', '141_initialize_model'], SequentialRunner, only_missing: False)\n",
      "[2021-04-08 18:47:37,068|kedro.pipeline.node|INFO] Running node: impute_cols_features([args_raw,df_00]) -> [args_intermediate]\n",
      "[2021-04-08 18:47:37,072|kedro.runner.sequential_runner|INFO] Completed 1 out of 3 tasks\n",
      "[2021-04-08 18:47:37,079|kedro.pipeline.node|INFO] Running node: treatment_fractions_([args_raw,df_00]) -> [treatment_fractions]\n",
      "[2021-04-08 18:47:37,115|kedro.runner.sequential_runner|INFO] Completed 2 out of 3 tasks\n",
      "[2021-04-08 18:47:37,122|kedro.pipeline.node|INFO] Running node: schedule_propensity_scoring([args_intermediate,df_00]) -> [args]\n",
      "[2021-04-08 18:47:37,126|kedro.runner.sequential_runner|INFO] Completed 3 out of 3 tasks\n",
      "[2021-04-08 18:47:37,128|kedro.runner.sequential_runner|INFO] Pipeline execution completed successfully.\n",
      "[2021-04-08 18:47:37,130|causallift.context.flexible_context|INFO] Run pipeline (tags: ['211_fit_propensity'], SequentialRunner, only_missing: False)\n",
      "[2021-04-08 18:47:37,144|kedro.pipeline.node|INFO] Running node: fit_propensity([args,df_00]) -> [propensity_model]\n",
      "[2021-04-08 18:47:37,163|causallift.nodes.estimate_propensity|INFO] ## Propensity scores will be estimated by logistic regression.\n",
      "[2021-04-08 18:47:37,164|causallift.nodes.estimate_propensity|INFO] ### Parameters for grid search of Logistic regression:\n",
      "{'search_cv': 'sklearn.model_selection.GridSearchCV', 'estimator': 'sklearn.linear_model.LogisticRegression', 'scoring': None, 'cv': 3, 'return_train_score': False, 'n_jobs': -1, 'param_grid': {'random_state': [0], 'C': [0.1, 1, 10], 'class_weight': [None], 'dual': [False], 'fit_intercept': [True], 'intercept_scaling': [1], 'max_iter': [100], 'multi_class': ['ovr'], 'n_jobs': [1], 'penalty': ['l1', 'l2'], 'solver': ['liblinear'], 'tol': [0.0001], 'warm_start': [False]}}\n",
      "[2021-04-08 18:47:47,921|causallift.nodes.estimate_propensity|INFO] ### Best parameter for logistic regression:\n",
      "{'C': 10, 'class_weight': None, 'dual': False, 'fit_intercept': True, 'intercept_scaling': 1, 'l1_ratio': None, 'max_iter': 100, 'multi_class': 'ovr', 'n_jobs': 1, 'penalty': 'l1', 'random_state': 0, 'solver': 'liblinear', 'tol': 0.0001, 'verbose': 0, 'warm_start': False}\n",
      "[2021-04-08 18:47:47,922|causallift.nodes.estimate_propensity|INFO] \n",
      "## Coefficients of logistic regression:\n"
     ]
    },
    {
     "data": {
      "text/html": [
       "<div>\n",
       "<style scoped>\n",
       "    .dataframe tbody tr th:only-of-type {\n",
       "        vertical-align: middle;\n",
       "    }\n",
       "\n",
       "    .dataframe tbody tr th {\n",
       "        vertical-align: top;\n",
       "    }\n",
       "\n",
       "    .dataframe thead th {\n",
       "        text-align: right;\n",
       "    }\n",
       "</style>\n",
       "<table border=\"1\" class=\"dataframe\">\n",
       "  <thead>\n",
       "    <tr style=\"text-align: right;\">\n",
       "      <th></th>\n",
       "      <th>Weapon_FIREARM</th>\n",
       "      <th>Weapon_HANDS</th>\n",
       "      <th>Weapon_KNIFE</th>\n",
       "      <th>Weapon_NONE</th>\n",
       "      <th>Weapon_OTHER</th>\n",
       "      <th>Neighborhood</th>\n",
       "      <th>Premise</th>\n",
       "      <th>Month</th>\n",
       "      <th>Hour</th>\n",
       "      <th>Outside</th>\n",
       "    </tr>\n",
       "  </thead>\n",
       "  <tbody>\n",
       "    <tr>\n",
       "      <th>coefficient</th>\n",
       "      <td>0.524136</td>\n",
       "      <td>0.362814</td>\n",
       "      <td>0.380666</td>\n",
       "      <td>0.042566</td>\n",
       "      <td>0.422644</td>\n",
       "      <td>0.002378</td>\n",
       "      <td>0.007158</td>\n",
       "      <td>0.001329</td>\n",
       "      <td>0.001338</td>\n",
       "      <td>-0.250463</td>\n",
       "    </tr>\n",
       "  </tbody>\n",
       "</table>\n",
       "</div>"
      ],
      "text/plain": [
       "             Weapon_FIREARM  Weapon_HANDS  Weapon_KNIFE  Weapon_NONE  \\\n",
       "coefficient        0.524136      0.362814      0.380666     0.042566   \n",
       "\n",
       "             Weapon_OTHER  Neighborhood   Premise     Month      Hour  \\\n",
       "coefficient      0.422644      0.002378  0.007158  0.001329  0.001338   \n",
       "\n",
       "              Outside  \n",
       "coefficient -0.250463  "
      ]
     },
     "metadata": {},
     "output_type": "display_data"
    },
    {
     "name": "stdout",
     "output_type": "stream",
     "text": [
      "[2021-04-08 18:47:47,936|kedro.runner.sequential_runner|INFO] Completed 1 out of 1 tasks\n",
      "[2021-04-08 18:47:47,937|kedro.runner.sequential_runner|INFO] Pipeline execution completed successfully.\n",
      "[2021-04-08 18:47:47,945|causallift.context.flexible_context|INFO] Run pipeline (tags: ['221_estimate_propensity'], SequentialRunner, only_missing: False)\n",
      "[2021-04-08 18:47:47,962|kedro.pipeline.node|INFO] Running node: estimate_propensity([args,df_00,propensity_model]) -> [df_01]\n",
      "[2021-04-08 18:47:48,009|causallift.nodes.estimate_propensity|INFO] \n",
      "### Histogram of propensity score for train and test data:\n"
     ]
    },
    {
     "data": {
      "image/png": "[encoded data removed]",
      "text/plain": [
       "<Figure size 432x288 with 1 Axes>"
      ]
     },
     "metadata": {
      "needs_background": "light"
     },
     "output_type": "display_data"
    },
    {
     "name": "stdout",
     "output_type": "stream",
     "text": [
      "[2021-04-08 18:47:48,178|causallift.nodes.estimate_propensity|INFO] \n",
      "### Score Table for logistic regression to calculate propensity score:\n"
     ]
    },
    {
     "data": {
      "text/html": [
       "<div>\n",
       "<style scoped>\n",
       "    .dataframe tbody tr th:only-of-type {\n",
       "        vertical-align: middle;\n",
       "    }\n",
       "\n",
       "    .dataframe tbody tr th {\n",
       "        vertical-align: top;\n",
       "    }\n",
       "\n",
       "    .dataframe thead th {\n",
       "        text-align: right;\n",
       "    }\n",
       "</style>\n",
       "<table border=\"1\" class=\"dataframe\">\n",
       "  <thead>\n",
       "    <tr style=\"text-align: right;\">\n",
       "      <th></th>\n",
       "      <th># samples</th>\n",
       "      <th># classes</th>\n",
       "      <th>accuracy</th>\n",
       "      <th>precision</th>\n",
       "      <th>recall</th>\n",
       "      <th>f1</th>\n",
       "      <th>roc_auc</th>\n",
       "      <th>observed CVR</th>\n",
       "      <th>predicted CVR</th>\n",
       "    </tr>\n",
       "  </thead>\n",
       "  <tbody>\n",
       "    <tr>\n",
       "      <th>train</th>\n",
       "      <td>210496</td>\n",
       "      <td>2</td>\n",
       "      <td>0.729358</td>\n",
       "      <td>0.729360</td>\n",
       "      <td>0.999993</td>\n",
       "      <td>0.843501</td>\n",
       "      <td>0.500006</td>\n",
       "      <td>0.729358</td>\n",
       "      <td>0.99999</td>\n",
       "    </tr>\n",
       "    <tr>\n",
       "      <th>test</th>\n",
       "      <td>52625</td>\n",
       "      <td>2</td>\n",
       "      <td>0.729368</td>\n",
       "      <td>0.729368</td>\n",
       "      <td>1.000000</td>\n",
       "      <td>0.843508</td>\n",
       "      <td>0.500000</td>\n",
       "      <td>0.729368</td>\n",
       "      <td>1.00000</td>\n",
       "    </tr>\n",
       "  </tbody>\n",
       "</table>\n",
       "</div>"
      ],
      "text/plain": [
       "       # samples  # classes  accuracy  precision    recall        f1  \\\n",
       "train     210496          2  0.729358   0.729360  0.999993  0.843501   \n",
       "test       52625          2  0.729368   0.729368  1.000000  0.843508   \n",
       "\n",
       "        roc_auc  observed CVR  predicted CVR  \n",
       "train  0.500006      0.729358        0.99999  \n",
       "test   0.500000      0.729368        1.00000  "
      ]
     },
     "metadata": {},
     "output_type": "display_data"
    },
    {
     "name": "stdout",
     "output_type": "stream",
     "text": [
      "[2021-04-08 18:47:48,581|causallift.nodes.estimate_propensity|INFO] \n",
      "### Confusion Matrix for Train:\n"
     ]
    },
    {
     "data": {
      "text/html": [
       "<div>\n",
       "<style scoped>\n",
       "    .dataframe tbody tr th:only-of-type {\n",
       "        vertical-align: middle;\n",
       "    }\n",
       "\n",
       "    .dataframe tbody tr th {\n",
       "        vertical-align: top;\n",
       "    }\n",
       "\n",
       "    .dataframe thead th {\n",
       "        text-align: right;\n",
       "    }\n",
       "</style>\n",
       "<table border=\"1\" class=\"dataframe\">\n",
       "  <thead>\n",
       "    <tr style=\"text-align: right;\">\n",
       "      <th></th>\n",
       "      <th>Pred_0</th>\n",
       "      <th>Pred_1</th>\n",
       "    </tr>\n",
       "  </thead>\n",
       "  <tbody>\n",
       "    <tr>\n",
       "      <th>True_0</th>\n",
       "      <td>1</td>\n",
       "      <td>56968</td>\n",
       "    </tr>\n",
       "    <tr>\n",
       "      <th>True_1</th>\n",
       "      <td>1</td>\n",
       "      <td>153526</td>\n",
       "    </tr>\n",
       "  </tbody>\n",
       "</table>\n",
       "</div>"
      ],
      "text/plain": [
       "        Pred_0  Pred_1\n",
       "True_0       1   56968\n",
       "True_1       1  153526"
      ]
     },
     "metadata": {},
     "output_type": "display_data"
    },
    {
     "name": "stdout",
     "output_type": "stream",
     "text": [
      "[2021-04-08 18:47:48,722|causallift.nodes.estimate_propensity|INFO] \n",
      "### Confusion Matrix for Test:\n"
     ]
    },
    {
     "data": {
      "text/html": [
       "<div>\n",
       "<style scoped>\n",
       "    .dataframe tbody tr th:only-of-type {\n",
       "        vertical-align: middle;\n",
       "    }\n",
       "\n",
       "    .dataframe tbody tr th {\n",
       "        vertical-align: top;\n",
       "    }\n",
       "\n",
       "    .dataframe thead th {\n",
       "        text-align: right;\n",
       "    }\n",
       "</style>\n",
       "<table border=\"1\" class=\"dataframe\">\n",
       "  <thead>\n",
       "    <tr style=\"text-align: right;\">\n",
       "      <th></th>\n",
       "      <th>Pred_0</th>\n",
       "      <th>Pred_1</th>\n",
       "    </tr>\n",
       "  </thead>\n",
       "  <tbody>\n",
       "    <tr>\n",
       "      <th>True_0</th>\n",
       "      <td>0</td>\n",
       "      <td>14242</td>\n",
       "    </tr>\n",
       "    <tr>\n",
       "      <th>True_1</th>\n",
       "      <td>0</td>\n",
       "      <td>38383</td>\n",
       "    </tr>\n",
       "  </tbody>\n",
       "</table>\n",
       "</div>"
      ],
      "text/plain": [
       "        Pred_0  Pred_1\n",
       "True_0       0   14242\n",
       "True_1       0   38383"
      ]
     },
     "metadata": {},
     "output_type": "display_data"
    },
    {
     "name": "stdout",
     "output_type": "stream",
     "text": [
      "[2021-04-08 18:47:48,815|kedro.runner.sequential_runner|INFO] Completed 1 out of 1 tasks\n",
      "[2021-04-08 18:47:48,816|kedro.runner.sequential_runner|INFO] Pipeline execution completed successfully.\n",
      "[2021-04-08 18:47:48,843|causallift.causal_lift|INFO] ### Treatment fraction in train dataset: 0.7293582775919732\n",
      "[2021-04-08 18:47:48,845|causallift.causal_lift|INFO] ### Treatment fraction in test dataset: 0.7293681710213776\n"
     ]
    }
   ],
   "source": [
    "causal_lift_model(cm_df=df, decoder=description_decoder, treatment_name='perc_asian')"
   ]
  },
  {
   "cell_type": "markdown",
   "metadata": {},
   "source": [
    "Indeed information on Asian racial information seems to have an impact on the model accuracy as well as different weapon indicators. A higher Asian percentage would indicate less use of weapons and vice versa."
   ]
  },
  {
   "cell_type": "markdown",
   "metadata": {},
   "source": [
    "# Is Below Average Percentage African American\n",
    "Race could possibly indicate type of crime when used as treatment. This is where we have to be even more careful to adjust for demographic bias."
   ]
  },
  {
   "cell_type": "code",
   "execution_count": 10,
   "metadata": {
    "ExecuteTime": {
     "end_time": "2021-04-08T22:47:58.297488Z",
     "start_time": "2021-04-08T22:47:48.882217Z"
    }
   },
   "outputs": [
    {
     "name": "stderr",
     "output_type": "stream",
     "text": [
      "C:\\Users\\18199\\anaconda3\\lib\\site-packages\\ipykernel\\ipkernel.py:287: DeprecationWarning: `should_run_async` will not call `transform_cell` automatically in the future. Please pass the result to `transformed_cell` argument and any exception that happen during thetransform in `preprocessing_exc_tuple` in IPython 7.17 and above.\n",
      "  and should_run_async(code)\n"
     ]
    },
    {
     "name": "stdout",
     "output_type": "stream",
     "text": [
      "Original data length 263121\n",
      "Clean data length 263121\n",
      "\n",
      "[Estimate propensity scores for Inverse Probability Weighting.]\n",
      "[2021-04-08 18:47:49,053|causallift.context.flexible_context|INFO] Run pipeline (tags: ['011_bundle_train_and_test_data'], SequentialRunner, only_missing: False)\n",
      "[2021-04-08 18:47:49,069|kedro.pipeline.node|INFO] Running node: bundle_train_and_test_data([args_raw,test_df,train_df]) -> [df_00]\n",
      "[2021-04-08 18:47:49,140|kedro.runner.sequential_runner|INFO] Completed 1 out of 1 tasks\n",
      "[2021-04-08 18:47:49,141|kedro.runner.sequential_runner|INFO] Pipeline execution completed successfully.\n",
      "[2021-04-08 18:47:49,170|causallift.context.flexible_context|INFO] Run pipeline (tags: ['121_prepare_args', '131_treatment_fractions_', '141_initialize_model'], SequentialRunner, only_missing: False)\n",
      "[2021-04-08 18:47:49,186|kedro.pipeline.node|INFO] Running node: impute_cols_features([args_raw,df_00]) -> [args_intermediate]\n",
      "[2021-04-08 18:47:49,190|kedro.runner.sequential_runner|INFO] Completed 1 out of 3 tasks\n",
      "[2021-04-08 18:47:49,198|kedro.pipeline.node|INFO] Running node: treatment_fractions_([args_raw,df_00]) -> [treatment_fractions]\n",
      "[2021-04-08 18:47:49,225|kedro.runner.sequential_runner|INFO] Completed 2 out of 3 tasks\n",
      "[2021-04-08 18:47:49,233|kedro.pipeline.node|INFO] Running node: schedule_propensity_scoring([args_intermediate,df_00]) -> [args]\n",
      "[2021-04-08 18:47:49,237|kedro.runner.sequential_runner|INFO] Completed 3 out of 3 tasks\n",
      "[2021-04-08 18:47:49,238|kedro.runner.sequential_runner|INFO] Pipeline execution completed successfully.\n",
      "[2021-04-08 18:47:49,241|causallift.context.flexible_context|INFO] Run pipeline (tags: ['211_fit_propensity'], SequentialRunner, only_missing: False)\n",
      "[2021-04-08 18:47:49,255|kedro.pipeline.node|INFO] Running node: fit_propensity([args,df_00]) -> [propensity_model]\n",
      "[2021-04-08 18:47:49,272|causallift.nodes.estimate_propensity|INFO] ## Propensity scores will be estimated by logistic regression.\n",
      "[2021-04-08 18:47:49,273|causallift.nodes.estimate_propensity|INFO] ### Parameters for grid search of Logistic regression:\n",
      "{'search_cv': 'sklearn.model_selection.GridSearchCV', 'estimator': 'sklearn.linear_model.LogisticRegression', 'scoring': None, 'cv': 3, 'return_train_score': False, 'n_jobs': -1, 'param_grid': {'random_state': [0], 'C': [0.1, 1, 10], 'class_weight': [None], 'dual': [False], 'fit_intercept': [True], 'intercept_scaling': [1], 'max_iter': [100], 'multi_class': ['ovr'], 'n_jobs': [1], 'penalty': ['l1', 'l2'], 'solver': ['liblinear'], 'tol': [0.0001], 'warm_start': [False]}}\n",
      "[2021-04-08 18:47:57,307|causallift.nodes.estimate_propensity|INFO] ### Best parameter for logistic regression:\n",
      "{'C': 0.1, 'class_weight': None, 'dual': False, 'fit_intercept': True, 'intercept_scaling': 1, 'l1_ratio': None, 'max_iter': 100, 'multi_class': 'ovr', 'n_jobs': 1, 'penalty': 'l2', 'random_state': 0, 'solver': 'liblinear', 'tol': 0.0001, 'verbose': 0, 'warm_start': False}\n",
      "[2021-04-08 18:47:57,314|causallift.nodes.estimate_propensity|INFO] \n",
      "## Coefficients of logistic regression:\n"
     ]
    },
    {
     "data": {
      "text/html": [
       "<div>\n",
       "<style scoped>\n",
       "    .dataframe tbody tr th:only-of-type {\n",
       "        vertical-align: middle;\n",
       "    }\n",
       "\n",
       "    .dataframe tbody tr th {\n",
       "        vertical-align: top;\n",
       "    }\n",
       "\n",
       "    .dataframe thead th {\n",
       "        text-align: right;\n",
       "    }\n",
       "</style>\n",
       "<table border=\"1\" class=\"dataframe\">\n",
       "  <thead>\n",
       "    <tr style=\"text-align: right;\">\n",
       "      <th></th>\n",
       "      <th>Weapon_FIREARM</th>\n",
       "      <th>Weapon_HANDS</th>\n",
       "      <th>Weapon_KNIFE</th>\n",
       "      <th>Weapon_NONE</th>\n",
       "      <th>Weapon_OTHER</th>\n",
       "      <th>Neighborhood</th>\n",
       "      <th>Premise</th>\n",
       "      <th>Month</th>\n",
       "      <th>Hour</th>\n",
       "      <th>Outside</th>\n",
       "    </tr>\n",
       "  </thead>\n",
       "  <tbody>\n",
       "    <tr>\n",
       "      <th>coefficient</th>\n",
       "      <td>-0.317521</td>\n",
       "      <td>-0.046989</td>\n",
       "      <td>-0.008336</td>\n",
       "      <td>0.242166</td>\n",
       "      <td>-0.107833</td>\n",
       "      <td>-0.002199</td>\n",
       "      <td>-0.002616</td>\n",
       "      <td>0.006961</td>\n",
       "      <td>-0.002817</td>\n",
       "      <td>0.152526</td>\n",
       "    </tr>\n",
       "  </tbody>\n",
       "</table>\n",
       "</div>"
      ],
      "text/plain": [
       "             Weapon_FIREARM  Weapon_HANDS  Weapon_KNIFE  Weapon_NONE  \\\n",
       "coefficient       -0.317521     -0.046989     -0.008336     0.242166   \n",
       "\n",
       "             Weapon_OTHER  Neighborhood   Premise     Month      Hour  \\\n",
       "coefficient     -0.107833     -0.002199 -0.002616  0.006961 -0.002817   \n",
       "\n",
       "              Outside  \n",
       "coefficient  0.152526  "
      ]
     },
     "metadata": {},
     "output_type": "display_data"
    },
    {
     "name": "stdout",
     "output_type": "stream",
     "text": [
      "[2021-04-08 18:47:57,330|kedro.runner.sequential_runner|INFO] Completed 1 out of 1 tasks\n",
      "[2021-04-08 18:47:57,331|kedro.runner.sequential_runner|INFO] Pipeline execution completed successfully.\n",
      "[2021-04-08 18:47:57,340|causallift.context.flexible_context|INFO] Run pipeline (tags: ['221_estimate_propensity'], SequentialRunner, only_missing: False)\n",
      "[2021-04-08 18:47:57,355|kedro.pipeline.node|INFO] Running node: estimate_propensity([args,df_00,propensity_model]) -> [df_01]\n",
      "[2021-04-08 18:47:57,411|causallift.nodes.estimate_propensity|INFO] \n",
      "### Histogram of propensity score for train and test data:\n"
     ]
    },
    {
     "data": {
      "image/png": "[encoded data removed]",
      "text/plain": [
       "<Figure size 432x288 with 1 Axes>"
      ]
     },
     "metadata": {
      "needs_background": "light"
     },
     "output_type": "display_data"
    },
    {
     "name": "stdout",
     "output_type": "stream",
     "text": [
      "[2021-04-08 18:47:57,571|causallift.nodes.estimate_propensity|INFO] \n",
      "### Score Table for logistic regression to calculate propensity score:\n"
     ]
    },
    {
     "data": {
      "text/html": [
       "<div>\n",
       "<style scoped>\n",
       "    .dataframe tbody tr th:only-of-type {\n",
       "        vertical-align: middle;\n",
       "    }\n",
       "\n",
       "    .dataframe tbody tr th {\n",
       "        vertical-align: top;\n",
       "    }\n",
       "\n",
       "    .dataframe thead th {\n",
       "        text-align: right;\n",
       "    }\n",
       "</style>\n",
       "<table border=\"1\" class=\"dataframe\">\n",
       "  <thead>\n",
       "    <tr style=\"text-align: right;\">\n",
       "      <th></th>\n",
       "      <th># samples</th>\n",
       "      <th># classes</th>\n",
       "      <th>accuracy</th>\n",
       "      <th>precision</th>\n",
       "      <th>recall</th>\n",
       "      <th>f1</th>\n",
       "      <th>roc_auc</th>\n",
       "      <th>observed CVR</th>\n",
       "      <th>predicted CVR</th>\n",
       "    </tr>\n",
       "  </thead>\n",
       "  <tbody>\n",
       "    <tr>\n",
       "      <th>train</th>\n",
       "      <td>210496</td>\n",
       "      <td>2</td>\n",
       "      <td>0.613575</td>\n",
       "      <td>0.482824</td>\n",
       "      <td>0.009337</td>\n",
       "      <td>0.018320</td>\n",
       "      <td>0.501523</td>\n",
       "      <td>0.386169</td>\n",
       "      <td>0.007468</td>\n",
       "    </tr>\n",
       "    <tr>\n",
       "      <th>test</th>\n",
       "      <td>52625</td>\n",
       "      <td>2</td>\n",
       "      <td>0.613948</td>\n",
       "      <td>0.507614</td>\n",
       "      <td>0.009842</td>\n",
       "      <td>0.019309</td>\n",
       "      <td>0.501918</td>\n",
       "      <td>0.386166</td>\n",
       "      <td>0.007487</td>\n",
       "    </tr>\n",
       "  </tbody>\n",
       "</table>\n",
       "</div>"
      ],
      "text/plain": [
       "       # samples  # classes  accuracy  precision    recall        f1  \\\n",
       "train     210496          2  0.613575   0.482824  0.009337  0.018320   \n",
       "test       52625          2  0.613948   0.507614  0.009842  0.019309   \n",
       "\n",
       "        roc_auc  observed CVR  predicted CVR  \n",
       "train  0.501523      0.386169       0.007468  \n",
       "test   0.501918      0.386166       0.007487  "
      ]
     },
     "metadata": {},
     "output_type": "display_data"
    },
    {
     "name": "stdout",
     "output_type": "stream",
     "text": [
      "[2021-04-08 18:47:57,947|causallift.nodes.estimate_propensity|INFO] \n",
      "### Confusion Matrix for Train:\n"
     ]
    },
    {
     "data": {
      "text/html": [
       "<div>\n",
       "<style scoped>\n",
       "    .dataframe tbody tr th:only-of-type {\n",
       "        vertical-align: middle;\n",
       "    }\n",
       "\n",
       "    .dataframe tbody tr th {\n",
       "        vertical-align: top;\n",
       "    }\n",
       "\n",
       "    .dataframe thead th {\n",
       "        text-align: right;\n",
       "    }\n",
       "</style>\n",
       "<table border=\"1\" class=\"dataframe\">\n",
       "  <thead>\n",
       "    <tr style=\"text-align: right;\">\n",
       "      <th></th>\n",
       "      <th>Pred_0</th>\n",
       "      <th>Pred_1</th>\n",
       "    </tr>\n",
       "  </thead>\n",
       "  <tbody>\n",
       "    <tr>\n",
       "      <th>True_0</th>\n",
       "      <td>128396</td>\n",
       "      <td>813</td>\n",
       "    </tr>\n",
       "    <tr>\n",
       "      <th>True_1</th>\n",
       "      <td>80528</td>\n",
       "      <td>759</td>\n",
       "    </tr>\n",
       "  </tbody>\n",
       "</table>\n",
       "</div>"
      ],
      "text/plain": [
       "        Pred_0  Pred_1\n",
       "True_0  128396     813\n",
       "True_1   80528     759"
      ]
     },
     "metadata": {},
     "output_type": "display_data"
    },
    {
     "name": "stdout",
     "output_type": "stream",
     "text": [
      "[2021-04-08 18:47:58,121|causallift.nodes.estimate_propensity|INFO] \n",
      "### Confusion Matrix for Test:\n"
     ]
    },
    {
     "data": {
      "text/html": [
       "<div>\n",
       "<style scoped>\n",
       "    .dataframe tbody tr th:only-of-type {\n",
       "        vertical-align: middle;\n",
       "    }\n",
       "\n",
       "    .dataframe tbody tr th {\n",
       "        vertical-align: top;\n",
       "    }\n",
       "\n",
       "    .dataframe thead th {\n",
       "        text-align: right;\n",
       "    }\n",
       "</style>\n",
       "<table border=\"1\" class=\"dataframe\">\n",
       "  <thead>\n",
       "    <tr style=\"text-align: right;\">\n",
       "      <th></th>\n",
       "      <th>Pred_0</th>\n",
       "      <th>Pred_1</th>\n",
       "    </tr>\n",
       "  </thead>\n",
       "  <tbody>\n",
       "    <tr>\n",
       "      <th>True_0</th>\n",
       "      <td>32109</td>\n",
       "      <td>194</td>\n",
       "    </tr>\n",
       "    <tr>\n",
       "      <th>True_1</th>\n",
       "      <td>20122</td>\n",
       "      <td>200</td>\n",
       "    </tr>\n",
       "  </tbody>\n",
       "</table>\n",
       "</div>"
      ],
      "text/plain": [
       "        Pred_0  Pred_1\n",
       "True_0   32109     194\n",
       "True_1   20122     200"
      ]
     },
     "metadata": {},
     "output_type": "display_data"
    },
    {
     "name": "stdout",
     "output_type": "stream",
     "text": [
      "[2021-04-08 18:47:58,229|kedro.runner.sequential_runner|INFO] Completed 1 out of 1 tasks\n",
      "[2021-04-08 18:47:58,231|kedro.runner.sequential_runner|INFO] Pipeline execution completed successfully.\n",
      "[2021-04-08 18:47:58,259|causallift.causal_lift|INFO] ### Treatment fraction in train dataset: 0.38616885831559744\n",
      "[2021-04-08 18:47:58,260|causallift.causal_lift|INFO] ### Treatment fraction in test dataset: 0.38616627078384796\n"
     ]
    }
   ],
   "source": [
    "causal_lift_model(cm_df=df, decoder=description_decoder, treatment_name='perc_aa')"
   ]
  },
  {
   "cell_type": "markdown",
   "metadata": {},
   "source": [
    "African American information also has an impact on the model, but accuracy is not as accurate so results are not as conclusive. A higher percentage of population might indicate a higher use of firearms and can affect crime description. It's interesting to see that the features are different to other demographic indicators. Keeping in mind this bias is important when trying to predict type of crime."
   ]
  },
  {
   "cell_type": "markdown",
   "metadata": {},
   "source": [
    "# Is Below Average Percentage Hispanic"
   ]
  },
  {
   "cell_type": "code",
   "execution_count": 11,
   "metadata": {
    "ExecuteTime": {
     "end_time": "2021-04-08T22:48:11.829229Z",
     "start_time": "2021-04-08T22:47:58.303250Z"
    }
   },
   "outputs": [
    {
     "name": "stderr",
     "output_type": "stream",
     "text": [
      "C:\\Users\\18199\\anaconda3\\lib\\site-packages\\ipykernel\\ipkernel.py:287: DeprecationWarning: `should_run_async` will not call `transform_cell` automatically in the future. Please pass the result to `transformed_cell` argument and any exception that happen during thetransform in `preprocessing_exc_tuple` in IPython 7.17 and above.\n",
      "  and should_run_async(code)\n"
     ]
    },
    {
     "name": "stdout",
     "output_type": "stream",
     "text": [
      "Original data length 263121\n",
      "Clean data length 263121\n",
      "\n",
      "[Estimate propensity scores for Inverse Probability Weighting.]\n",
      "[2021-04-08 18:47:58,477|causallift.context.flexible_context|INFO] Run pipeline (tags: ['011_bundle_train_and_test_data'], SequentialRunner, only_missing: False)\n",
      "[2021-04-08 18:47:58,496|kedro.pipeline.node|INFO] Running node: bundle_train_and_test_data([args_raw,test_df,train_df]) -> [df_00]\n",
      "[2021-04-08 18:47:58,570|kedro.runner.sequential_runner|INFO] Completed 1 out of 1 tasks\n",
      "[2021-04-08 18:47:58,573|kedro.runner.sequential_runner|INFO] Pipeline execution completed successfully.\n",
      "[2021-04-08 18:47:58,596|causallift.context.flexible_context|INFO] Run pipeline (tags: ['121_prepare_args', '131_treatment_fractions_', '141_initialize_model'], SequentialRunner, only_missing: False)\n",
      "[2021-04-08 18:47:58,670|kedro.pipeline.node|INFO] Running node: impute_cols_features([args_raw,df_00]) -> [args_intermediate]\n",
      "[2021-04-08 18:47:58,673|kedro.runner.sequential_runner|INFO] Completed 1 out of 3 tasks\n",
      "[2021-04-08 18:47:58,682|kedro.pipeline.node|INFO] Running node: treatment_fractions_([args_raw,df_00]) -> [treatment_fractions]\n",
      "[2021-04-08 18:47:58,712|kedro.runner.sequential_runner|INFO] Completed 2 out of 3 tasks\n",
      "[2021-04-08 18:47:58,724|kedro.pipeline.node|INFO] Running node: schedule_propensity_scoring([args_intermediate,df_00]) -> [args]\n",
      "[2021-04-08 18:47:58,728|kedro.runner.sequential_runner|INFO] Completed 3 out of 3 tasks\n",
      "[2021-04-08 18:47:58,729|kedro.runner.sequential_runner|INFO] Pipeline execution completed successfully.\n",
      "[2021-04-08 18:47:58,731|causallift.context.flexible_context|INFO] Run pipeline (tags: ['211_fit_propensity'], SequentialRunner, only_missing: False)\n",
      "[2021-04-08 18:47:58,745|kedro.pipeline.node|INFO] Running node: fit_propensity([args,df_00]) -> [propensity_model]\n",
      "[2021-04-08 18:47:58,762|causallift.nodes.estimate_propensity|INFO] ## Propensity scores will be estimated by logistic regression.\n",
      "[2021-04-08 18:47:58,764|causallift.nodes.estimate_propensity|INFO] ### Parameters for grid search of Logistic regression:\n",
      "{'search_cv': 'sklearn.model_selection.GridSearchCV', 'estimator': 'sklearn.linear_model.LogisticRegression', 'scoring': None, 'cv': 3, 'return_train_score': False, 'n_jobs': -1, 'param_grid': {'random_state': [0], 'C': [0.1, 1, 10], 'class_weight': [None], 'dual': [False], 'fit_intercept': [True], 'intercept_scaling': [1], 'max_iter': [100], 'multi_class': ['ovr'], 'n_jobs': [1], 'penalty': ['l1', 'l2'], 'solver': ['liblinear'], 'tol': [0.0001], 'warm_start': [False]}}\n",
      "[2021-04-08 18:48:10,955|causallift.nodes.estimate_propensity|INFO] ### Best parameter for logistic regression:\n",
      "{'C': 0.1, 'class_weight': None, 'dual': False, 'fit_intercept': True, 'intercept_scaling': 1, 'l1_ratio': None, 'max_iter': 100, 'multi_class': 'ovr', 'n_jobs': 1, 'penalty': 'l1', 'random_state': 0, 'solver': 'liblinear', 'tol': 0.0001, 'verbose': 0, 'warm_start': False}\n",
      "[2021-04-08 18:48:10,957|causallift.nodes.estimate_propensity|INFO] \n",
      "## Coefficients of logistic regression:\n"
     ]
    },
    {
     "data": {
      "text/html": [
       "<div>\n",
       "<style scoped>\n",
       "    .dataframe tbody tr th:only-of-type {\n",
       "        vertical-align: middle;\n",
       "    }\n",
       "\n",
       "    .dataframe tbody tr th {\n",
       "        vertical-align: top;\n",
       "    }\n",
       "\n",
       "    .dataframe thead th {\n",
       "        text-align: right;\n",
       "    }\n",
       "</style>\n",
       "<table border=\"1\" class=\"dataframe\">\n",
       "  <thead>\n",
       "    <tr style=\"text-align: right;\">\n",
       "      <th></th>\n",
       "      <th>Weapon_FIREARM</th>\n",
       "      <th>Weapon_HANDS</th>\n",
       "      <th>Weapon_KNIFE</th>\n",
       "      <th>Weapon_NONE</th>\n",
       "      <th>Weapon_OTHER</th>\n",
       "      <th>Neighborhood</th>\n",
       "      <th>Premise</th>\n",
       "      <th>Month</th>\n",
       "      <th>Hour</th>\n",
       "      <th>Outside</th>\n",
       "    </tr>\n",
       "  </thead>\n",
       "  <tbody>\n",
       "    <tr>\n",
       "      <th>coefficient</th>\n",
       "      <td>0.379601</td>\n",
       "      <td>0.28669</td>\n",
       "      <td>0.168556</td>\n",
       "      <td>0.28442</td>\n",
       "      <td>0.229458</td>\n",
       "      <td>0.000671</td>\n",
       "      <td>-0.002465</td>\n",
       "      <td>-0.000146</td>\n",
       "      <td>0.002691</td>\n",
       "      <td>-0.046713</td>\n",
       "    </tr>\n",
       "  </tbody>\n",
       "</table>\n",
       "</div>"
      ],
      "text/plain": [
       "             Weapon_FIREARM  Weapon_HANDS  Weapon_KNIFE  Weapon_NONE  \\\n",
       "coefficient        0.379601       0.28669      0.168556      0.28442   \n",
       "\n",
       "             Weapon_OTHER  Neighborhood   Premise     Month      Hour  \\\n",
       "coefficient      0.229458      0.000671 -0.002465 -0.000146  0.002691   \n",
       "\n",
       "              Outside  \n",
       "coefficient -0.046713  "
      ]
     },
     "metadata": {},
     "output_type": "display_data"
    },
    {
     "name": "stdout",
     "output_type": "stream",
     "text": [
      "[2021-04-08 18:48:10,970|kedro.runner.sequential_runner|INFO] Completed 1 out of 1 tasks\n",
      "[2021-04-08 18:48:10,971|kedro.runner.sequential_runner|INFO] Pipeline execution completed successfully.\n",
      "[2021-04-08 18:48:10,980|causallift.context.flexible_context|INFO] Run pipeline (tags: ['221_estimate_propensity'], SequentialRunner, only_missing: False)\n",
      "[2021-04-08 18:48:11,001|kedro.pipeline.node|INFO] Running node: estimate_propensity([args,df_00,propensity_model]) -> [df_01]\n",
      "[2021-04-08 18:48:11,045|causallift.nodes.estimate_propensity|INFO] \n",
      "### Histogram of propensity score for train and test data:\n"
     ]
    },
    {
     "data": {
      "image/png": "[encoded data removed]",
      "text/plain": [
       "<Figure size 432x288 with 1 Axes>"
      ]
     },
     "metadata": {
      "needs_background": "light"
     },
     "output_type": "display_data"
    },
    {
     "name": "stdout",
     "output_type": "stream",
     "text": [
      "[2021-04-08 18:48:11,199|causallift.nodes.estimate_propensity|INFO] \n",
      "### Score Table for logistic regression to calculate propensity score:\n"
     ]
    },
    {
     "data": {
      "text/html": [
       "<div>\n",
       "<style scoped>\n",
       "    .dataframe tbody tr th:only-of-type {\n",
       "        vertical-align: middle;\n",
       "    }\n",
       "\n",
       "    .dataframe tbody tr th {\n",
       "        vertical-align: top;\n",
       "    }\n",
       "\n",
       "    .dataframe thead th {\n",
       "        text-align: right;\n",
       "    }\n",
       "</style>\n",
       "<table border=\"1\" class=\"dataframe\">\n",
       "  <thead>\n",
       "    <tr style=\"text-align: right;\">\n",
       "      <th></th>\n",
       "      <th># samples</th>\n",
       "      <th># classes</th>\n",
       "      <th>accuracy</th>\n",
       "      <th>precision</th>\n",
       "      <th>recall</th>\n",
       "      <th>f1</th>\n",
       "      <th>roc_auc</th>\n",
       "      <th>observed CVR</th>\n",
       "      <th>predicted CVR</th>\n",
       "    </tr>\n",
       "  </thead>\n",
       "  <tbody>\n",
       "    <tr>\n",
       "      <th>train</th>\n",
       "      <td>210496</td>\n",
       "      <td>2</td>\n",
       "      <td>0.725676</td>\n",
       "      <td>0.725676</td>\n",
       "      <td>1.0</td>\n",
       "      <td>0.841034</td>\n",
       "      <td>0.5</td>\n",
       "      <td>0.725676</td>\n",
       "      <td>1.0</td>\n",
       "    </tr>\n",
       "    <tr>\n",
       "      <th>test</th>\n",
       "      <td>52625</td>\n",
       "      <td>2</td>\n",
       "      <td>0.725682</td>\n",
       "      <td>0.725682</td>\n",
       "      <td>1.0</td>\n",
       "      <td>0.841038</td>\n",
       "      <td>0.5</td>\n",
       "      <td>0.725682</td>\n",
       "      <td>1.0</td>\n",
       "    </tr>\n",
       "  </tbody>\n",
       "</table>\n",
       "</div>"
      ],
      "text/plain": [
       "       # samples  # classes  accuracy  precision  recall        f1  roc_auc  \\\n",
       "train     210496          2  0.725676   0.725676     1.0  0.841034      0.5   \n",
       "test       52625          2  0.725682   0.725682     1.0  0.841038      0.5   \n",
       "\n",
       "       observed CVR  predicted CVR  \n",
       "train      0.725676            1.0  \n",
       "test       0.725682            1.0  "
      ]
     },
     "metadata": {},
     "output_type": "display_data"
    },
    {
     "name": "stdout",
     "output_type": "stream",
     "text": [
      "[2021-04-08 18:48:11,541|causallift.nodes.estimate_propensity|INFO] \n",
      "### Confusion Matrix for Train:\n"
     ]
    },
    {
     "data": {
      "text/html": [
       "<div>\n",
       "<style scoped>\n",
       "    .dataframe tbody tr th:only-of-type {\n",
       "        vertical-align: middle;\n",
       "    }\n",
       "\n",
       "    .dataframe tbody tr th {\n",
       "        vertical-align: top;\n",
       "    }\n",
       "\n",
       "    .dataframe thead th {\n",
       "        text-align: right;\n",
       "    }\n",
       "</style>\n",
       "<table border=\"1\" class=\"dataframe\">\n",
       "  <thead>\n",
       "    <tr style=\"text-align: right;\">\n",
       "      <th></th>\n",
       "      <th>Pred_0</th>\n",
       "      <th>Pred_1</th>\n",
       "    </tr>\n",
       "  </thead>\n",
       "  <tbody>\n",
       "    <tr>\n",
       "      <th>True_0</th>\n",
       "      <td>0</td>\n",
       "      <td>57744</td>\n",
       "    </tr>\n",
       "    <tr>\n",
       "      <th>True_1</th>\n",
       "      <td>0</td>\n",
       "      <td>152752</td>\n",
       "    </tr>\n",
       "  </tbody>\n",
       "</table>\n",
       "</div>"
      ],
      "text/plain": [
       "        Pred_0  Pred_1\n",
       "True_0       0   57744\n",
       "True_1       0  152752"
      ]
     },
     "metadata": {},
     "output_type": "display_data"
    },
    {
     "name": "stdout",
     "output_type": "stream",
     "text": [
      "[2021-04-08 18:48:11,678|causallift.nodes.estimate_propensity|INFO] \n",
      "### Confusion Matrix for Test:\n"
     ]
    },
    {
     "data": {
      "text/html": [
       "<div>\n",
       "<style scoped>\n",
       "    .dataframe tbody tr th:only-of-type {\n",
       "        vertical-align: middle;\n",
       "    }\n",
       "\n",
       "    .dataframe tbody tr th {\n",
       "        vertical-align: top;\n",
       "    }\n",
       "\n",
       "    .dataframe thead th {\n",
       "        text-align: right;\n",
       "    }\n",
       "</style>\n",
       "<table border=\"1\" class=\"dataframe\">\n",
       "  <thead>\n",
       "    <tr style=\"text-align: right;\">\n",
       "      <th></th>\n",
       "      <th>Pred_0</th>\n",
       "      <th>Pred_1</th>\n",
       "    </tr>\n",
       "  </thead>\n",
       "  <tbody>\n",
       "    <tr>\n",
       "      <th>True_0</th>\n",
       "      <td>0</td>\n",
       "      <td>14436</td>\n",
       "    </tr>\n",
       "    <tr>\n",
       "      <th>True_1</th>\n",
       "      <td>0</td>\n",
       "      <td>38189</td>\n",
       "    </tr>\n",
       "  </tbody>\n",
       "</table>\n",
       "</div>"
      ],
      "text/plain": [
       "        Pred_0  Pred_1\n",
       "True_0       0   14436\n",
       "True_1       0   38189"
      ]
     },
     "metadata": {},
     "output_type": "display_data"
    },
    {
     "name": "stdout",
     "output_type": "stream",
     "text": [
      "[2021-04-08 18:48:11,775|kedro.runner.sequential_runner|INFO] Completed 1 out of 1 tasks\n",
      "[2021-04-08 18:48:11,776|kedro.runner.sequential_runner|INFO] Pipeline execution completed successfully.\n",
      "[2021-04-08 18:48:11,803|causallift.causal_lift|INFO] ### Treatment fraction in train dataset: 0.7256764974156279\n",
      "[2021-04-08 18:48:11,804|causallift.causal_lift|INFO] ### Treatment fraction in test dataset: 0.7256817102137767\n"
     ]
    }
   ],
   "source": [
    "causal_lift_model(cm_df=df, decoder=description_decoder, treatment_name='perc_hisp')"
   ]
  },
  {
   "cell_type": "markdown",
   "metadata": {},
   "source": [
    "Indeed information on Hispanic racial information, similarly to Asian demographic, seems to have an impact on the model accuracy as well as different weapon indicators. A higher Hispanic percentage would indicate less use of weapons and vice versa."
   ]
  },
  {
   "cell_type": "markdown",
   "metadata": {},
   "source": [
    "# Is Below Average Percentage White\n",
    "Race could possibly indicate type of crime when used as treatment. This is where we have to be even more careful to adjust for demographic bias."
   ]
  },
  {
   "cell_type": "code",
   "execution_count": 12,
   "metadata": {
    "ExecuteTime": {
     "end_time": "2021-04-08T22:48:22.109055Z",
     "start_time": "2021-04-08T22:48:11.831230Z"
    }
   },
   "outputs": [
    {
     "name": "stderr",
     "output_type": "stream",
     "text": [
      "C:\\Users\\18199\\anaconda3\\lib\\site-packages\\ipykernel\\ipkernel.py:287: DeprecationWarning: `should_run_async` will not call `transform_cell` automatically in the future. Please pass the result to `transformed_cell` argument and any exception that happen during thetransform in `preprocessing_exc_tuple` in IPython 7.17 and above.\n",
      "  and should_run_async(code)\n"
     ]
    },
    {
     "name": "stdout",
     "output_type": "stream",
     "text": [
      "Original data length 263121\n",
      "Clean data length 263121\n",
      "\n",
      "[Estimate propensity scores for Inverse Probability Weighting.]\n",
      "[2021-04-08 18:48:11,991|causallift.context.flexible_context|INFO] Run pipeline (tags: ['011_bundle_train_and_test_data'], SequentialRunner, only_missing: False)\n",
      "[2021-04-08 18:48:12,005|kedro.pipeline.node|INFO] Running node: bundle_train_and_test_data([args_raw,test_df,train_df]) -> [df_00]\n",
      "[2021-04-08 18:48:12,070|kedro.runner.sequential_runner|INFO] Completed 1 out of 1 tasks\n",
      "[2021-04-08 18:48:12,072|kedro.runner.sequential_runner|INFO] Pipeline execution completed successfully.\n",
      "[2021-04-08 18:48:12,094|causallift.context.flexible_context|INFO] Run pipeline (tags: ['121_prepare_args', '131_treatment_fractions_', '141_initialize_model'], SequentialRunner, only_missing: False)\n",
      "[2021-04-08 18:48:12,107|kedro.pipeline.node|INFO] Running node: impute_cols_features([args_raw,df_00]) -> [args_intermediate]\n",
      "[2021-04-08 18:48:12,111|kedro.runner.sequential_runner|INFO] Completed 1 out of 3 tasks\n",
      "[2021-04-08 18:48:12,119|kedro.pipeline.node|INFO] Running node: treatment_fractions_([args_raw,df_00]) -> [treatment_fractions]\n",
      "[2021-04-08 18:48:12,148|kedro.runner.sequential_runner|INFO] Completed 2 out of 3 tasks\n",
      "[2021-04-08 18:48:12,157|kedro.pipeline.node|INFO] Running node: schedule_propensity_scoring([args_intermediate,df_00]) -> [args]\n",
      "[2021-04-08 18:48:12,161|kedro.runner.sequential_runner|INFO] Completed 3 out of 3 tasks\n",
      "[2021-04-08 18:48:12,162|kedro.runner.sequential_runner|INFO] Pipeline execution completed successfully.\n",
      "[2021-04-08 18:48:12,165|causallift.context.flexible_context|INFO] Run pipeline (tags: ['211_fit_propensity'], SequentialRunner, only_missing: False)\n",
      "[2021-04-08 18:48:12,178|kedro.pipeline.node|INFO] Running node: fit_propensity([args,df_00]) -> [propensity_model]\n",
      "[2021-04-08 18:48:12,193|causallift.nodes.estimate_propensity|INFO] ## Propensity scores will be estimated by logistic regression.\n",
      "[2021-04-08 18:48:12,195|causallift.nodes.estimate_propensity|INFO] ### Parameters for grid search of Logistic regression:\n",
      "{'search_cv': 'sklearn.model_selection.GridSearchCV', 'estimator': 'sklearn.linear_model.LogisticRegression', 'scoring': None, 'cv': 3, 'return_train_score': False, 'n_jobs': -1, 'param_grid': {'random_state': [0], 'C': [0.1, 1, 10], 'class_weight': [None], 'dual': [False], 'fit_intercept': [True], 'intercept_scaling': [1], 'max_iter': [100], 'multi_class': ['ovr'], 'n_jobs': [1], 'penalty': ['l1', 'l2'], 'solver': ['liblinear'], 'tol': [0.0001], 'warm_start': [False]}}\n",
      "[2021-04-08 18:48:21,160|causallift.nodes.estimate_propensity|INFO] ### Best parameter for logistic regression:\n",
      "{'C': 10, 'class_weight': None, 'dual': False, 'fit_intercept': True, 'intercept_scaling': 1, 'l1_ratio': None, 'max_iter': 100, 'multi_class': 'ovr', 'n_jobs': 1, 'penalty': 'l1', 'random_state': 0, 'solver': 'liblinear', 'tol': 0.0001, 'verbose': 0, 'warm_start': False}\n",
      "[2021-04-08 18:48:21,161|causallift.nodes.estimate_propensity|INFO] \n",
      "## Coefficients of logistic regression:\n"
     ]
    },
    {
     "data": {
      "text/html": [
       "<div>\n",
       "<style scoped>\n",
       "    .dataframe tbody tr th:only-of-type {\n",
       "        vertical-align: middle;\n",
       "    }\n",
       "\n",
       "    .dataframe tbody tr th {\n",
       "        vertical-align: top;\n",
       "    }\n",
       "\n",
       "    .dataframe thead th {\n",
       "        text-align: right;\n",
       "    }\n",
       "</style>\n",
       "<table border=\"1\" class=\"dataframe\">\n",
       "  <thead>\n",
       "    <tr style=\"text-align: right;\">\n",
       "      <th></th>\n",
       "      <th>Weapon_FIREARM</th>\n",
       "      <th>Weapon_HANDS</th>\n",
       "      <th>Weapon_KNIFE</th>\n",
       "      <th>Weapon_NONE</th>\n",
       "      <th>Weapon_OTHER</th>\n",
       "      <th>Neighborhood</th>\n",
       "      <th>Premise</th>\n",
       "      <th>Month</th>\n",
       "      <th>Hour</th>\n",
       "      <th>Outside</th>\n",
       "    </tr>\n",
       "  </thead>\n",
       "  <tbody>\n",
       "    <tr>\n",
       "      <th>coefficient</th>\n",
       "      <td>0.452977</td>\n",
       "      <td>0.242711</td>\n",
       "      <td>0.197569</td>\n",
       "      <td>-0.077338</td>\n",
       "      <td>0.307995</td>\n",
       "      <td>0.000972</td>\n",
       "      <td>0.002913</td>\n",
       "      <td>-0.007234</td>\n",
       "      <td>0.002407</td>\n",
       "      <td>-0.109015</td>\n",
       "    </tr>\n",
       "  </tbody>\n",
       "</table>\n",
       "</div>"
      ],
      "text/plain": [
       "             Weapon_FIREARM  Weapon_HANDS  Weapon_KNIFE  Weapon_NONE  \\\n",
       "coefficient        0.452977      0.242711      0.197569    -0.077338   \n",
       "\n",
       "             Weapon_OTHER  Neighborhood   Premise     Month      Hour  \\\n",
       "coefficient      0.307995      0.000972  0.002913 -0.007234  0.002407   \n",
       "\n",
       "              Outside  \n",
       "coefficient -0.109015  "
      ]
     },
     "metadata": {},
     "output_type": "display_data"
    },
    {
     "name": "stdout",
     "output_type": "stream",
     "text": [
      "[2021-04-08 18:48:21,180|kedro.runner.sequential_runner|INFO] Completed 1 out of 1 tasks\n",
      "[2021-04-08 18:48:21,181|kedro.runner.sequential_runner|INFO] Pipeline execution completed successfully.\n",
      "[2021-04-08 18:48:21,191|causallift.context.flexible_context|INFO] Run pipeline (tags: ['221_estimate_propensity'], SequentialRunner, only_missing: False)\n",
      "[2021-04-08 18:48:21,207|kedro.pipeline.node|INFO] Running node: estimate_propensity([args,df_00,propensity_model]) -> [df_01]\n",
      "[2021-04-08 18:48:21,247|causallift.nodes.estimate_propensity|INFO] \n",
      "### Histogram of propensity score for train and test data:\n"
     ]
    },
    {
     "data": {
      "image/png": "[encoded data removed]",
      "text/plain": [
       "<Figure size 432x288 with 1 Axes>"
      ]
     },
     "metadata": {
      "needs_background": "light"
     },
     "output_type": "display_data"
    },
    {
     "name": "stdout",
     "output_type": "stream",
     "text": [
      "[2021-04-08 18:48:21,388|causallift.nodes.estimate_propensity|INFO] \n",
      "### Score Table for logistic regression to calculate propensity score:\n"
     ]
    },
    {
     "data": {
      "text/html": [
       "<div>\n",
       "<style scoped>\n",
       "    .dataframe tbody tr th:only-of-type {\n",
       "        vertical-align: middle;\n",
       "    }\n",
       "\n",
       "    .dataframe tbody tr th {\n",
       "        vertical-align: top;\n",
       "    }\n",
       "\n",
       "    .dataframe thead th {\n",
       "        text-align: right;\n",
       "    }\n",
       "</style>\n",
       "<table border=\"1\" class=\"dataframe\">\n",
       "  <thead>\n",
       "    <tr style=\"text-align: right;\">\n",
       "      <th></th>\n",
       "      <th># samples</th>\n",
       "      <th># classes</th>\n",
       "      <th>accuracy</th>\n",
       "      <th>precision</th>\n",
       "      <th>recall</th>\n",
       "      <th>f1</th>\n",
       "      <th>roc_auc</th>\n",
       "      <th>observed CVR</th>\n",
       "      <th>predicted CVR</th>\n",
       "    </tr>\n",
       "  </thead>\n",
       "  <tbody>\n",
       "    <tr>\n",
       "      <th>train</th>\n",
       "      <td>210496</td>\n",
       "      <td>2</td>\n",
       "      <td>0.572035</td>\n",
       "      <td>0.574838</td>\n",
       "      <td>0.973666</td>\n",
       "      <td>0.722891</td>\n",
       "      <td>0.503027</td>\n",
       "      <td>0.573313</td>\n",
       "      <td>0.971083</td>\n",
       "    </tr>\n",
       "    <tr>\n",
       "      <th>test</th>\n",
       "      <td>52625</td>\n",
       "      <td>2</td>\n",
       "      <td>0.572618</td>\n",
       "      <td>0.575112</td>\n",
       "      <td>0.974412</td>\n",
       "      <td>0.723314</td>\n",
       "      <td>0.503594</td>\n",
       "      <td>0.573302</td>\n",
       "      <td>0.971344</td>\n",
       "    </tr>\n",
       "  </tbody>\n",
       "</table>\n",
       "</div>"
      ],
      "text/plain": [
       "       # samples  # classes  accuracy  precision    recall        f1  \\\n",
       "train     210496          2  0.572035   0.574838  0.973666  0.722891   \n",
       "test       52625          2  0.572618   0.575112  0.974412  0.723314   \n",
       "\n",
       "        roc_auc  observed CVR  predicted CVR  \n",
       "train  0.503027      0.573313       0.971083  \n",
       "test   0.503594      0.573302       0.971344  "
      ]
     },
     "metadata": {},
     "output_type": "display_data"
    },
    {
     "name": "stdout",
     "output_type": "stream",
     "text": [
      "[2021-04-08 18:48:21,764|causallift.nodes.estimate_propensity|INFO] \n",
      "### Confusion Matrix for Train:\n"
     ]
    },
    {
     "data": {
      "text/html": [
       "<div>\n",
       "<style scoped>\n",
       "    .dataframe tbody tr th:only-of-type {\n",
       "        vertical-align: middle;\n",
       "    }\n",
       "\n",
       "    .dataframe tbody tr th {\n",
       "        vertical-align: top;\n",
       "    }\n",
       "\n",
       "    .dataframe thead th {\n",
       "        text-align: right;\n",
       "    }\n",
       "</style>\n",
       "<table border=\"1\" class=\"dataframe\">\n",
       "  <thead>\n",
       "    <tr style=\"text-align: right;\">\n",
       "      <th></th>\n",
       "      <th>Pred_0</th>\n",
       "      <th>Pred_1</th>\n",
       "    </tr>\n",
       "  </thead>\n",
       "  <tbody>\n",
       "    <tr>\n",
       "      <th>True_0</th>\n",
       "      <td>2909</td>\n",
       "      <td>86907</td>\n",
       "    </tr>\n",
       "    <tr>\n",
       "      <th>True_1</th>\n",
       "      <td>3178</td>\n",
       "      <td>117502</td>\n",
       "    </tr>\n",
       "  </tbody>\n",
       "</table>\n",
       "</div>"
      ],
      "text/plain": [
       "        Pred_0  Pred_1\n",
       "True_0    2909   86907\n",
       "True_1    3178  117502"
      ]
     },
     "metadata": {},
     "output_type": "display_data"
    },
    {
     "name": "stdout",
     "output_type": "stream",
     "text": [
      "[2021-04-08 18:48:21,930|causallift.nodes.estimate_propensity|INFO] \n",
      "### Confusion Matrix for Test:\n"
     ]
    },
    {
     "data": {
      "text/html": [
       "<div>\n",
       "<style scoped>\n",
       "    .dataframe tbody tr th:only-of-type {\n",
       "        vertical-align: middle;\n",
       "    }\n",
       "\n",
       "    .dataframe tbody tr th {\n",
       "        vertical-align: top;\n",
       "    }\n",
       "\n",
       "    .dataframe thead th {\n",
       "        text-align: right;\n",
       "    }\n",
       "</style>\n",
       "<table border=\"1\" class=\"dataframe\">\n",
       "  <thead>\n",
       "    <tr style=\"text-align: right;\">\n",
       "      <th></th>\n",
       "      <th>Pred_0</th>\n",
       "      <th>Pred_1</th>\n",
       "    </tr>\n",
       "  </thead>\n",
       "  <tbody>\n",
       "    <tr>\n",
       "      <th>True_0</th>\n",
       "      <td>736</td>\n",
       "      <td>21719</td>\n",
       "    </tr>\n",
       "    <tr>\n",
       "      <th>True_1</th>\n",
       "      <td>772</td>\n",
       "      <td>29398</td>\n",
       "    </tr>\n",
       "  </tbody>\n",
       "</table>\n",
       "</div>"
      ],
      "text/plain": [
       "        Pred_0  Pred_1\n",
       "True_0     736   21719\n",
       "True_1     772   29398"
      ]
     },
     "metadata": {},
     "output_type": "display_data"
    },
    {
     "name": "stdout",
     "output_type": "stream",
     "text": [
      "[2021-04-08 18:48:22,046|kedro.runner.sequential_runner|INFO] Completed 1 out of 1 tasks\n",
      "[2021-04-08 18:48:22,049|kedro.runner.sequential_runner|INFO] Pipeline execution completed successfully.\n",
      "[2021-04-08 18:48:22,080|causallift.causal_lift|INFO] ### Treatment fraction in train dataset: 0.5733125570082092\n",
      "[2021-04-08 18:48:22,081|causallift.causal_lift|INFO] ### Treatment fraction in test dataset: 0.5733016627078384\n"
     ]
    }
   ],
   "source": [
    "causal_lift_model(cm_df=df, decoder=description_decoder, treatment_name='perc_white')"
   ]
  },
  {
   "cell_type": "markdown",
   "metadata": {},
   "source": [
    "Results here as not as accurate and conclusive. It is harder to interpret and racial diversity might be a better indicator than this. "
   ]
  },
  {
   "cell_type": "markdown",
   "metadata": {},
   "source": [
    "# Is Below Average Median Price Of Homes Sold\n",
    "This should have a similar impact as median salary."
   ]
  },
  {
   "cell_type": "code",
   "execution_count": 13,
   "metadata": {
    "ExecuteTime": {
     "end_time": "2021-04-08T22:48:33.007375Z",
     "start_time": "2021-04-08T22:48:22.111058Z"
    }
   },
   "outputs": [
    {
     "name": "stderr",
     "output_type": "stream",
     "text": [
      "C:\\Users\\18199\\anaconda3\\lib\\site-packages\\ipykernel\\ipkernel.py:287: DeprecationWarning: `should_run_async` will not call `transform_cell` automatically in the future. Please pass the result to `transformed_cell` argument and any exception that happen during thetransform in `preprocessing_exc_tuple` in IPython 7.17 and above.\n",
      "  and should_run_async(code)\n"
     ]
    },
    {
     "name": "stdout",
     "output_type": "stream",
     "text": [
      "Original data length 263121\n",
      "Clean data length 263121\n",
      "\n",
      "[Estimate propensity scores for Inverse Probability Weighting.]\n",
      "[2021-04-08 18:48:22,288|causallift.context.flexible_context|INFO] Run pipeline (tags: ['011_bundle_train_and_test_data'], SequentialRunner, only_missing: False)\n",
      "[2021-04-08 18:48:22,303|kedro.pipeline.node|INFO] Running node: bundle_train_and_test_data([args_raw,test_df,train_df]) -> [df_00]\n",
      "[2021-04-08 18:48:22,372|kedro.runner.sequential_runner|INFO] Completed 1 out of 1 tasks\n",
      "[2021-04-08 18:48:22,373|kedro.runner.sequential_runner|INFO] Pipeline execution completed successfully.\n",
      "[2021-04-08 18:48:22,395|causallift.context.flexible_context|INFO] Run pipeline (tags: ['121_prepare_args', '131_treatment_fractions_', '141_initialize_model'], SequentialRunner, only_missing: False)\n",
      "[2021-04-08 18:48:22,409|kedro.pipeline.node|INFO] Running node: impute_cols_features([args_raw,df_00]) -> [args_intermediate]\n",
      "[2021-04-08 18:48:22,412|kedro.runner.sequential_runner|INFO] Completed 1 out of 3 tasks\n",
      "[2021-04-08 18:48:22,419|kedro.pipeline.node|INFO] Running node: treatment_fractions_([args_raw,df_00]) -> [treatment_fractions]\n",
      "[2021-04-08 18:48:22,446|kedro.runner.sequential_runner|INFO] Completed 2 out of 3 tasks\n",
      "[2021-04-08 18:48:22,453|kedro.pipeline.node|INFO] Running node: schedule_propensity_scoring([args_intermediate,df_00]) -> [args]\n",
      "[2021-04-08 18:48:22,456|kedro.runner.sequential_runner|INFO] Completed 3 out of 3 tasks\n",
      "[2021-04-08 18:48:22,457|kedro.runner.sequential_runner|INFO] Pipeline execution completed successfully.\n",
      "[2021-04-08 18:48:22,460|causallift.context.flexible_context|INFO] Run pipeline (tags: ['211_fit_propensity'], SequentialRunner, only_missing: False)\n",
      "[2021-04-08 18:48:22,476|kedro.pipeline.node|INFO] Running node: fit_propensity([args,df_00]) -> [propensity_model]\n",
      "[2021-04-08 18:48:22,490|causallift.nodes.estimate_propensity|INFO] ## Propensity scores will be estimated by logistic regression.\n",
      "[2021-04-08 18:48:22,491|causallift.nodes.estimate_propensity|INFO] ### Parameters for grid search of Logistic regression:\n",
      "{'search_cv': 'sklearn.model_selection.GridSearchCV', 'estimator': 'sklearn.linear_model.LogisticRegression', 'scoring': None, 'cv': 3, 'return_train_score': False, 'n_jobs': -1, 'param_grid': {'random_state': [0], 'C': [0.1, 1, 10], 'class_weight': [None], 'dual': [False], 'fit_intercept': [True], 'intercept_scaling': [1], 'max_iter': [100], 'multi_class': ['ovr'], 'n_jobs': [1], 'penalty': ['l1', 'l2'], 'solver': ['liblinear'], 'tol': [0.0001], 'warm_start': [False]}}\n",
      "[2021-04-08 18:48:32,121|causallift.nodes.estimate_propensity|INFO] ### Best parameter for logistic regression:\n",
      "{'C': 10, 'class_weight': None, 'dual': False, 'fit_intercept': True, 'intercept_scaling': 1, 'l1_ratio': None, 'max_iter': 100, 'multi_class': 'ovr', 'n_jobs': 1, 'penalty': 'l2', 'random_state': 0, 'solver': 'liblinear', 'tol': 0.0001, 'verbose': 0, 'warm_start': False}\n",
      "[2021-04-08 18:48:32,123|causallift.nodes.estimate_propensity|INFO] \n",
      "## Coefficients of logistic regression:\n"
     ]
    },
    {
     "data": {
      "text/html": [
       "<div>\n",
       "<style scoped>\n",
       "    .dataframe tbody tr th:only-of-type {\n",
       "        vertical-align: middle;\n",
       "    }\n",
       "\n",
       "    .dataframe tbody tr th {\n",
       "        vertical-align: top;\n",
       "    }\n",
       "\n",
       "    .dataframe thead th {\n",
       "        text-align: right;\n",
       "    }\n",
       "</style>\n",
       "<table border=\"1\" class=\"dataframe\">\n",
       "  <thead>\n",
       "    <tr style=\"text-align: right;\">\n",
       "      <th></th>\n",
       "      <th>Weapon_FIREARM</th>\n",
       "      <th>Weapon_HANDS</th>\n",
       "      <th>Weapon_KNIFE</th>\n",
       "      <th>Weapon_NONE</th>\n",
       "      <th>Weapon_OTHER</th>\n",
       "      <th>Neighborhood</th>\n",
       "      <th>Premise</th>\n",
       "      <th>Month</th>\n",
       "      <th>Hour</th>\n",
       "      <th>Outside</th>\n",
       "    </tr>\n",
       "  </thead>\n",
       "  <tbody>\n",
       "    <tr>\n",
       "      <th>coefficient</th>\n",
       "      <td>0.283094</td>\n",
       "      <td>0.13328</td>\n",
       "      <td>0.090326</td>\n",
       "      <td>-0.186634</td>\n",
       "      <td>0.237536</td>\n",
       "      <td>-0.000568</td>\n",
       "      <td>0.003727</td>\n",
       "      <td>-0.002044</td>\n",
       "      <td>0.001573</td>\n",
       "      <td>-0.215518</td>\n",
       "    </tr>\n",
       "  </tbody>\n",
       "</table>\n",
       "</div>"
      ],
      "text/plain": [
       "             Weapon_FIREARM  Weapon_HANDS  Weapon_KNIFE  Weapon_NONE  \\\n",
       "coefficient        0.283094       0.13328      0.090326    -0.186634   \n",
       "\n",
       "             Weapon_OTHER  Neighborhood   Premise     Month      Hour  \\\n",
       "coefficient      0.237536     -0.000568  0.003727 -0.002044  0.001573   \n",
       "\n",
       "              Outside  \n",
       "coefficient -0.215518  "
      ]
     },
     "metadata": {},
     "output_type": "display_data"
    },
    {
     "name": "stdout",
     "output_type": "stream",
     "text": [
      "[2021-04-08 18:48:32,137|kedro.runner.sequential_runner|INFO] Completed 1 out of 1 tasks\n",
      "[2021-04-08 18:48:32,140|kedro.runner.sequential_runner|INFO] Pipeline execution completed successfully.\n",
      "[2021-04-08 18:48:32,148|causallift.context.flexible_context|INFO] Run pipeline (tags: ['221_estimate_propensity'], SequentialRunner, only_missing: False)\n",
      "[2021-04-08 18:48:32,167|kedro.pipeline.node|INFO] Running node: estimate_propensity([args,df_00,propensity_model]) -> [df_01]\n",
      "[2021-04-08 18:48:32,203|causallift.nodes.estimate_propensity|INFO] \n",
      "### Histogram of propensity score for train and test data:\n"
     ]
    },
    {
     "data": {
      "image/png": "[encoded data removed]",
      "text/plain": [
       "<Figure size 432x288 with 1 Axes>"
      ]
     },
     "metadata": {
      "needs_background": "light"
     },
     "output_type": "display_data"
    },
    {
     "name": "stdout",
     "output_type": "stream",
     "text": [
      "[2021-04-08 18:48:32,345|causallift.nodes.estimate_propensity|INFO] \n",
      "### Score Table for logistic regression to calculate propensity score:\n"
     ]
    },
    {
     "data": {
      "text/html": [
       "<div>\n",
       "<style scoped>\n",
       "    .dataframe tbody tr th:only-of-type {\n",
       "        vertical-align: middle;\n",
       "    }\n",
       "\n",
       "    .dataframe tbody tr th {\n",
       "        vertical-align: top;\n",
       "    }\n",
       "\n",
       "    .dataframe thead th {\n",
       "        text-align: right;\n",
       "    }\n",
       "</style>\n",
       "<table border=\"1\" class=\"dataframe\">\n",
       "  <thead>\n",
       "    <tr style=\"text-align: right;\">\n",
       "      <th></th>\n",
       "      <th># samples</th>\n",
       "      <th># classes</th>\n",
       "      <th>accuracy</th>\n",
       "      <th>precision</th>\n",
       "      <th>recall</th>\n",
       "      <th>f1</th>\n",
       "      <th>roc_auc</th>\n",
       "      <th>observed CVR</th>\n",
       "      <th>predicted CVR</th>\n",
       "    </tr>\n",
       "  </thead>\n",
       "  <tbody>\n",
       "    <tr>\n",
       "      <th>train</th>\n",
       "      <td>210496</td>\n",
       "      <td>2</td>\n",
       "      <td>0.635052</td>\n",
       "      <td>0.635086</td>\n",
       "      <td>0.999903</td>\n",
       "      <td>0.776794</td>\n",
       "      <td>0.499971</td>\n",
       "      <td>0.635100</td>\n",
       "      <td>0.999924</td>\n",
       "    </tr>\n",
       "    <tr>\n",
       "      <th>test</th>\n",
       "      <td>52625</td>\n",
       "      <td>2</td>\n",
       "      <td>0.635135</td>\n",
       "      <td>0.635122</td>\n",
       "      <td>1.000000</td>\n",
       "      <td>0.776849</td>\n",
       "      <td>0.500052</td>\n",
       "      <td>0.635097</td>\n",
       "      <td>0.999962</td>\n",
       "    </tr>\n",
       "  </tbody>\n",
       "</table>\n",
       "</div>"
      ],
      "text/plain": [
       "       # samples  # classes  accuracy  precision    recall        f1  \\\n",
       "train     210496          2  0.635052   0.635086  0.999903  0.776794   \n",
       "test       52625          2  0.635135   0.635122  1.000000  0.776849   \n",
       "\n",
       "        roc_auc  observed CVR  predicted CVR  \n",
       "train  0.499971      0.635100       0.999924  \n",
       "test   0.500052      0.635097       0.999962  "
      ]
     },
     "metadata": {},
     "output_type": "display_data"
    },
    {
     "name": "stdout",
     "output_type": "stream",
     "text": [
      "[2021-04-08 18:48:32,680|causallift.nodes.estimate_propensity|INFO] \n",
      "### Confusion Matrix for Train:\n"
     ]
    },
    {
     "data": {
      "text/html": [
       "<div>\n",
       "<style scoped>\n",
       "    .dataframe tbody tr th:only-of-type {\n",
       "        vertical-align: middle;\n",
       "    }\n",
       "\n",
       "    .dataframe tbody tr th {\n",
       "        vertical-align: top;\n",
       "    }\n",
       "\n",
       "    .dataframe thead th {\n",
       "        text-align: right;\n",
       "    }\n",
       "</style>\n",
       "<table border=\"1\" class=\"dataframe\">\n",
       "  <thead>\n",
       "    <tr style=\"text-align: right;\">\n",
       "      <th></th>\n",
       "      <th>Pred_0</th>\n",
       "      <th>Pred_1</th>\n",
       "    </tr>\n",
       "  </thead>\n",
       "  <tbody>\n",
       "    <tr>\n",
       "      <th>True_0</th>\n",
       "      <td>3</td>\n",
       "      <td>76807</td>\n",
       "    </tr>\n",
       "    <tr>\n",
       "      <th>True_1</th>\n",
       "      <td>13</td>\n",
       "      <td>133673</td>\n",
       "    </tr>\n",
       "  </tbody>\n",
       "</table>\n",
       "</div>"
      ],
      "text/plain": [
       "        Pred_0  Pred_1\n",
       "True_0       3   76807\n",
       "True_1      13  133673"
      ]
     },
     "metadata": {},
     "output_type": "display_data"
    },
    {
     "name": "stdout",
     "output_type": "stream",
     "text": [
      "[2021-04-08 18:48:32,819|causallift.nodes.estimate_propensity|INFO] \n",
      "### Confusion Matrix for Test:\n"
     ]
    },
    {
     "data": {
      "text/html": [
       "<div>\n",
       "<style scoped>\n",
       "    .dataframe tbody tr th:only-of-type {\n",
       "        vertical-align: middle;\n",
       "    }\n",
       "\n",
       "    .dataframe tbody tr th {\n",
       "        vertical-align: top;\n",
       "    }\n",
       "\n",
       "    .dataframe thead th {\n",
       "        text-align: right;\n",
       "    }\n",
       "</style>\n",
       "<table border=\"1\" class=\"dataframe\">\n",
       "  <thead>\n",
       "    <tr style=\"text-align: right;\">\n",
       "      <th></th>\n",
       "      <th>Pred_0</th>\n",
       "      <th>Pred_1</th>\n",
       "    </tr>\n",
       "  </thead>\n",
       "  <tbody>\n",
       "    <tr>\n",
       "      <th>True_0</th>\n",
       "      <td>2</td>\n",
       "      <td>19201</td>\n",
       "    </tr>\n",
       "    <tr>\n",
       "      <th>True_1</th>\n",
       "      <td>0</td>\n",
       "      <td>33422</td>\n",
       "    </tr>\n",
       "  </tbody>\n",
       "</table>\n",
       "</div>"
      ],
      "text/plain": [
       "        Pred_0  Pred_1\n",
       "True_0       2   19201\n",
       "True_1       0   33422"
      ]
     },
     "metadata": {},
     "output_type": "display_data"
    },
    {
     "name": "stdout",
     "output_type": "stream",
     "text": [
      "[2021-04-08 18:48:32,921|kedro.runner.sequential_runner|INFO] Completed 1 out of 1 tasks\n",
      "[2021-04-08 18:48:32,923|kedro.runner.sequential_runner|INFO] Pipeline execution completed successfully.\n",
      "[2021-04-08 18:48:32,970|causallift.causal_lift|INFO] ### Treatment fraction in train dataset: 0.6350999543934327\n",
      "[2021-04-08 18:48:32,972|causallift.causal_lift|INFO] ### Treatment fraction in test dataset: 0.6350973871733967\n"
     ]
    }
   ],
   "source": [
    "causal_lift_model(cm_df=df, decoder=description_decoder, treatment_name='median_price_homes_sold')"
   ]
  },
  {
   "cell_type": "markdown",
   "metadata": {
    "ExecuteTime": {
     "end_time": "2021-04-09T00:13:56.859750Z",
     "start_time": "2021-04-09T00:13:56.845925Z"
    }
   },
   "source": [
    "Decent overall accuracy but balanced across difference features making it hard to interpret."
   ]
  },
  {
   "cell_type": "markdown",
   "metadata": {},
   "source": [
    "# Is Below Average Racial Diversity Index"
   ]
  },
  {
   "cell_type": "markdown",
   "metadata": {},
   "source": [
    "This could have an influence on the type of crime."
   ]
  },
  {
   "cell_type": "code",
   "execution_count": 14,
   "metadata": {
    "ExecuteTime": {
     "end_time": "2021-04-08T22:48:44.155240Z",
     "start_time": "2021-04-08T22:48:33.008374Z"
    }
   },
   "outputs": [
    {
     "name": "stderr",
     "output_type": "stream",
     "text": [
      "C:\\Users\\18199\\anaconda3\\lib\\site-packages\\ipykernel\\ipkernel.py:287: DeprecationWarning: `should_run_async` will not call `transform_cell` automatically in the future. Please pass the result to `transformed_cell` argument and any exception that happen during thetransform in `preprocessing_exc_tuple` in IPython 7.17 and above.\n",
      "  and should_run_async(code)\n"
     ]
    },
    {
     "name": "stdout",
     "output_type": "stream",
     "text": [
      "Original data length 263121\n",
      "Clean data length 263121\n",
      "\n",
      "[Estimate propensity scores for Inverse Probability Weighting.]\n",
      "[2021-04-08 18:48:33,180|causallift.context.flexible_context|INFO] Run pipeline (tags: ['011_bundle_train_and_test_data'], SequentialRunner, only_missing: False)\n",
      "[2021-04-08 18:48:33,194|kedro.pipeline.node|INFO] Running node: bundle_train_and_test_data([args_raw,test_df,train_df]) -> [df_00]\n",
      "[2021-04-08 18:48:33,259|kedro.runner.sequential_runner|INFO] Completed 1 out of 1 tasks\n",
      "[2021-04-08 18:48:33,261|kedro.runner.sequential_runner|INFO] Pipeline execution completed successfully.\n",
      "[2021-04-08 18:48:33,286|causallift.context.flexible_context|INFO] Run pipeline (tags: ['121_prepare_args', '131_treatment_fractions_', '141_initialize_model'], SequentialRunner, only_missing: False)\n",
      "[2021-04-08 18:48:33,302|kedro.pipeline.node|INFO] Running node: impute_cols_features([args_raw,df_00]) -> [args_intermediate]\n",
      "[2021-04-08 18:48:33,307|kedro.runner.sequential_runner|INFO] Completed 1 out of 3 tasks\n",
      "[2021-04-08 18:48:33,314|kedro.pipeline.node|INFO] Running node: treatment_fractions_([args_raw,df_00]) -> [treatment_fractions]\n",
      "[2021-04-08 18:48:33,340|kedro.runner.sequential_runner|INFO] Completed 2 out of 3 tasks\n",
      "[2021-04-08 18:48:33,348|kedro.pipeline.node|INFO] Running node: schedule_propensity_scoring([args_intermediate,df_00]) -> [args]\n",
      "[2021-04-08 18:48:33,351|kedro.runner.sequential_runner|INFO] Completed 3 out of 3 tasks\n",
      "[2021-04-08 18:48:33,352|kedro.runner.sequential_runner|INFO] Pipeline execution completed successfully.\n",
      "[2021-04-08 18:48:33,354|causallift.context.flexible_context|INFO] Run pipeline (tags: ['211_fit_propensity'], SequentialRunner, only_missing: False)\n",
      "[2021-04-08 18:48:33,367|kedro.pipeline.node|INFO] Running node: fit_propensity([args,df_00]) -> [propensity_model]\n",
      "[2021-04-08 18:48:33,380|causallift.nodes.estimate_propensity|INFO] ## Propensity scores will be estimated by logistic regression.\n",
      "[2021-04-08 18:48:33,381|causallift.nodes.estimate_propensity|INFO] ### Parameters for grid search of Logistic regression:\n",
      "{'search_cv': 'sklearn.model_selection.GridSearchCV', 'estimator': 'sklearn.linear_model.LogisticRegression', 'scoring': None, 'cv': 3, 'return_train_score': False, 'n_jobs': -1, 'param_grid': {'random_state': [0], 'C': [0.1, 1, 10], 'class_weight': [None], 'dual': [False], 'fit_intercept': [True], 'intercept_scaling': [1], 'max_iter': [100], 'multi_class': ['ovr'], 'n_jobs': [1], 'penalty': ['l1', 'l2'], 'solver': ['liblinear'], 'tol': [0.0001], 'warm_start': [False]}}\n",
      "[2021-04-08 18:48:43,218|causallift.nodes.estimate_propensity|INFO] ### Best parameter for logistic regression:\n",
      "{'C': 10, 'class_weight': None, 'dual': False, 'fit_intercept': True, 'intercept_scaling': 1, 'l1_ratio': None, 'max_iter': 100, 'multi_class': 'ovr', 'n_jobs': 1, 'penalty': 'l2', 'random_state': 0, 'solver': 'liblinear', 'tol': 0.0001, 'verbose': 0, 'warm_start': False}\n",
      "[2021-04-08 18:48:43,220|causallift.nodes.estimate_propensity|INFO] \n",
      "## Coefficients of logistic regression:\n"
     ]
    },
    {
     "data": {
      "text/html": [
       "<div>\n",
       "<style scoped>\n",
       "    .dataframe tbody tr th:only-of-type {\n",
       "        vertical-align: middle;\n",
       "    }\n",
       "\n",
       "    .dataframe tbody tr th {\n",
       "        vertical-align: top;\n",
       "    }\n",
       "\n",
       "    .dataframe thead th {\n",
       "        text-align: right;\n",
       "    }\n",
       "</style>\n",
       "<table border=\"1\" class=\"dataframe\">\n",
       "  <thead>\n",
       "    <tr style=\"text-align: right;\">\n",
       "      <th></th>\n",
       "      <th>Weapon_FIREARM</th>\n",
       "      <th>Weapon_HANDS</th>\n",
       "      <th>Weapon_KNIFE</th>\n",
       "      <th>Weapon_NONE</th>\n",
       "      <th>Weapon_OTHER</th>\n",
       "      <th>Neighborhood</th>\n",
       "      <th>Premise</th>\n",
       "      <th>Month</th>\n",
       "      <th>Hour</th>\n",
       "      <th>Outside</th>\n",
       "    </tr>\n",
       "  </thead>\n",
       "  <tbody>\n",
       "    <tr>\n",
       "      <th>coefficient</th>\n",
       "      <td>0.128088</td>\n",
       "      <td>0.033606</td>\n",
       "      <td>0.00406</td>\n",
       "      <td>-0.211539</td>\n",
       "      <td>0.020507</td>\n",
       "      <td>-0.000241</td>\n",
       "      <td>0.001848</td>\n",
       "      <td>-0.004815</td>\n",
       "      <td>0.001165</td>\n",
       "      <td>-0.053912</td>\n",
       "    </tr>\n",
       "  </tbody>\n",
       "</table>\n",
       "</div>"
      ],
      "text/plain": [
       "             Weapon_FIREARM  Weapon_HANDS  Weapon_KNIFE  Weapon_NONE  \\\n",
       "coefficient        0.128088      0.033606       0.00406    -0.211539   \n",
       "\n",
       "             Weapon_OTHER  Neighborhood   Premise     Month      Hour  \\\n",
       "coefficient      0.020507     -0.000241  0.001848 -0.004815  0.001165   \n",
       "\n",
       "              Outside  \n",
       "coefficient -0.053912  "
      ]
     },
     "metadata": {},
     "output_type": "display_data"
    },
    {
     "name": "stdout",
     "output_type": "stream",
     "text": [
      "[2021-04-08 18:48:43,233|kedro.runner.sequential_runner|INFO] Completed 1 out of 1 tasks\n",
      "[2021-04-08 18:48:43,234|kedro.runner.sequential_runner|INFO] Pipeline execution completed successfully.\n",
      "[2021-04-08 18:48:43,243|causallift.context.flexible_context|INFO] Run pipeline (tags: ['221_estimate_propensity'], SequentialRunner, only_missing: False)\n",
      "[2021-04-08 18:48:43,257|kedro.pipeline.node|INFO] Running node: estimate_propensity([args,df_00,propensity_model]) -> [df_01]\n",
      "[2021-04-08 18:48:43,295|causallift.nodes.estimate_propensity|INFO] \n",
      "### Histogram of propensity score for train and test data:\n"
     ]
    },
    {
     "data": {
      "image/png": "[encoded data removed]",
      "text/plain": [
       "<Figure size 432x288 with 1 Axes>"
      ]
     },
     "metadata": {
      "needs_background": "light"
     },
     "output_type": "display_data"
    },
    {
     "name": "stdout",
     "output_type": "stream",
     "text": [
      "[2021-04-08 18:48:43,472|causallift.nodes.estimate_propensity|INFO] \n",
      "### Score Table for logistic regression to calculate propensity score:\n"
     ]
    },
    {
     "data": {
      "text/html": [
       "<div>\n",
       "<style scoped>\n",
       "    .dataframe tbody tr th:only-of-type {\n",
       "        vertical-align: middle;\n",
       "    }\n",
       "\n",
       "    .dataframe tbody tr th {\n",
       "        vertical-align: top;\n",
       "    }\n",
       "\n",
       "    .dataframe thead th {\n",
       "        text-align: right;\n",
       "    }\n",
       "</style>\n",
       "<table border=\"1\" class=\"dataframe\">\n",
       "  <thead>\n",
       "    <tr style=\"text-align: right;\">\n",
       "      <th></th>\n",
       "      <th># samples</th>\n",
       "      <th># classes</th>\n",
       "      <th>accuracy</th>\n",
       "      <th>precision</th>\n",
       "      <th>recall</th>\n",
       "      <th>f1</th>\n",
       "      <th>roc_auc</th>\n",
       "      <th>observed CVR</th>\n",
       "      <th>predicted CVR</th>\n",
       "    </tr>\n",
       "  </thead>\n",
       "  <tbody>\n",
       "    <tr>\n",
       "      <th>train</th>\n",
       "      <td>210496</td>\n",
       "      <td>2</td>\n",
       "      <td>0.535540</td>\n",
       "      <td>0.516487</td>\n",
       "      <td>0.325534</td>\n",
       "      <td>0.399359</td>\n",
       "      <td>0.525280</td>\n",
       "      <td>0.474318</td>\n",
       "      <td>0.298956</td>\n",
       "    </tr>\n",
       "    <tr>\n",
       "      <th>test</th>\n",
       "      <td>52625</td>\n",
       "      <td>2</td>\n",
       "      <td>0.533036</td>\n",
       "      <td>0.512285</td>\n",
       "      <td>0.323264</td>\n",
       "      <td>0.396394</td>\n",
       "      <td>0.522787</td>\n",
       "      <td>0.474318</td>\n",
       "      <td>0.299306</td>\n",
       "    </tr>\n",
       "  </tbody>\n",
       "</table>\n",
       "</div>"
      ],
      "text/plain": [
       "       # samples  # classes  accuracy  precision    recall        f1  \\\n",
       "train     210496          2  0.535540   0.516487  0.325534  0.399359   \n",
       "test       52625          2  0.533036   0.512285  0.323264  0.396394   \n",
       "\n",
       "        roc_auc  observed CVR  predicted CVR  \n",
       "train  0.525280      0.474318       0.298956  \n",
       "test   0.522787      0.474318       0.299306  "
      ]
     },
     "metadata": {},
     "output_type": "display_data"
    },
    {
     "name": "stdout",
     "output_type": "stream",
     "text": [
      "[2021-04-08 18:48:43,864|causallift.nodes.estimate_propensity|INFO] \n",
      "### Confusion Matrix for Train:\n"
     ]
    },
    {
     "data": {
      "text/html": [
       "<div>\n",
       "<style scoped>\n",
       "    .dataframe tbody tr th:only-of-type {\n",
       "        vertical-align: middle;\n",
       "    }\n",
       "\n",
       "    .dataframe tbody tr th {\n",
       "        vertical-align: top;\n",
       "    }\n",
       "\n",
       "    .dataframe thead th {\n",
       "        text-align: right;\n",
       "    }\n",
       "</style>\n",
       "<table border=\"1\" class=\"dataframe\">\n",
       "  <thead>\n",
       "    <tr style=\"text-align: right;\">\n",
       "      <th></th>\n",
       "      <th>Pred_0</th>\n",
       "      <th>Pred_1</th>\n",
       "    </tr>\n",
       "  </thead>\n",
       "  <tbody>\n",
       "    <tr>\n",
       "      <th>True_0</th>\n",
       "      <td>80227</td>\n",
       "      <td>30427</td>\n",
       "    </tr>\n",
       "    <tr>\n",
       "      <th>True_1</th>\n",
       "      <td>67340</td>\n",
       "      <td>32502</td>\n",
       "    </tr>\n",
       "  </tbody>\n",
       "</table>\n",
       "</div>"
      ],
      "text/plain": [
       "        Pred_0  Pred_1\n",
       "True_0   80227   30427\n",
       "True_1   67340   32502"
      ]
     },
     "metadata": {},
     "output_type": "display_data"
    },
    {
     "name": "stdout",
     "output_type": "stream",
     "text": [
      "[2021-04-08 18:48:44,006|causallift.nodes.estimate_propensity|INFO] \n",
      "### Confusion Matrix for Test:\n"
     ]
    },
    {
     "data": {
      "text/html": [
       "<div>\n",
       "<style scoped>\n",
       "    .dataframe tbody tr th:only-of-type {\n",
       "        vertical-align: middle;\n",
       "    }\n",
       "\n",
       "    .dataframe tbody tr th {\n",
       "        vertical-align: top;\n",
       "    }\n",
       "\n",
       "    .dataframe thead th {\n",
       "        text-align: right;\n",
       "    }\n",
       "</style>\n",
       "<table border=\"1\" class=\"dataframe\">\n",
       "  <thead>\n",
       "    <tr style=\"text-align: right;\">\n",
       "      <th></th>\n",
       "      <th>Pred_0</th>\n",
       "      <th>Pred_1</th>\n",
       "    </tr>\n",
       "  </thead>\n",
       "  <tbody>\n",
       "    <tr>\n",
       "      <th>True_0</th>\n",
       "      <td>19982</td>\n",
       "      <td>7682</td>\n",
       "    </tr>\n",
       "    <tr>\n",
       "      <th>True_1</th>\n",
       "      <td>16892</td>\n",
       "      <td>8069</td>\n",
       "    </tr>\n",
       "  </tbody>\n",
       "</table>\n",
       "</div>"
      ],
      "text/plain": [
       "        Pred_0  Pred_1\n",
       "True_0   19982    7682\n",
       "True_1   16892    8069"
      ]
     },
     "metadata": {},
     "output_type": "display_data"
    },
    {
     "name": "stdout",
     "output_type": "stream",
     "text": [
      "[2021-04-08 18:48:44,101|kedro.runner.sequential_runner|INFO] Completed 1 out of 1 tasks\n",
      "[2021-04-08 18:48:44,102|kedro.runner.sequential_runner|INFO] Pipeline execution completed successfully.\n",
      "[2021-04-08 18:48:44,128|causallift.causal_lift|INFO] ### Treatment fraction in train dataset: 0.47431780176345395\n",
      "[2021-04-08 18:48:44,129|causallift.causal_lift|INFO] ### Treatment fraction in test dataset: 0.47431828978622326\n"
     ]
    }
   ],
   "source": [
    "causal_lift_model(cm_df=df, decoder=description_decoder, treatment_name='racial_diversity_index')"
   ]
  },
  {
   "cell_type": "markdown",
   "metadata": {
    "ExecuteTime": {
     "end_time": "2021-04-09T00:13:56.959750Z",
     "start_time": "2021-04-09T00:12:35.972Z"
    }
   },
   "source": [
    "The accuracy here is the lowest making it not very useful treatment. Might not be a good indicator to use."
   ]
  },
  {
   "cell_type": "markdown",
   "metadata": {},
   "source": [
    "# Is Below Average Number Of Households\n",
    "Number of households could have an impact if we can associate it with higher population density and urbanization."
   ]
  },
  {
   "cell_type": "code",
   "execution_count": 15,
   "metadata": {
    "ExecuteTime": {
     "end_time": "2021-04-08T22:48:56.332074Z",
     "start_time": "2021-04-08T22:48:44.157242Z"
    }
   },
   "outputs": [
    {
     "name": "stderr",
     "output_type": "stream",
     "text": [
      "C:\\Users\\18199\\anaconda3\\lib\\site-packages\\ipykernel\\ipkernel.py:287: DeprecationWarning: `should_run_async` will not call `transform_cell` automatically in the future. Please pass the result to `transformed_cell` argument and any exception that happen during thetransform in `preprocessing_exc_tuple` in IPython 7.17 and above.\n",
      "  and should_run_async(code)\n"
     ]
    },
    {
     "name": "stdout",
     "output_type": "stream",
     "text": [
      "Original data length 263121\n",
      "Clean data length 263121\n",
      "\n",
      "[Estimate propensity scores for Inverse Probability Weighting.]\n",
      "[2021-04-08 18:48:44,317|causallift.context.flexible_context|INFO] Run pipeline (tags: ['011_bundle_train_and_test_data'], SequentialRunner, only_missing: False)\n",
      "[2021-04-08 18:48:44,333|kedro.pipeline.node|INFO] Running node: bundle_train_and_test_data([args_raw,test_df,train_df]) -> [df_00]\n",
      "[2021-04-08 18:48:44,416|kedro.runner.sequential_runner|INFO] Completed 1 out of 1 tasks\n",
      "[2021-04-08 18:48:44,417|kedro.runner.sequential_runner|INFO] Pipeline execution completed successfully.\n",
      "[2021-04-08 18:48:44,442|causallift.context.flexible_context|INFO] Run pipeline (tags: ['121_prepare_args', '131_treatment_fractions_', '141_initialize_model'], SequentialRunner, only_missing: False)\n",
      "[2021-04-08 18:48:44,456|kedro.pipeline.node|INFO] Running node: impute_cols_features([args_raw,df_00]) -> [args_intermediate]\n",
      "[2021-04-08 18:48:44,460|kedro.runner.sequential_runner|INFO] Completed 1 out of 3 tasks\n",
      "[2021-04-08 18:48:44,468|kedro.pipeline.node|INFO] Running node: treatment_fractions_([args_raw,df_00]) -> [treatment_fractions]\n",
      "[2021-04-08 18:48:44,499|kedro.runner.sequential_runner|INFO] Completed 2 out of 3 tasks\n",
      "[2021-04-08 18:48:44,507|kedro.pipeline.node|INFO] Running node: schedule_propensity_scoring([args_intermediate,df_00]) -> [args]\n",
      "[2021-04-08 18:48:44,513|kedro.runner.sequential_runner|INFO] Completed 3 out of 3 tasks\n",
      "[2021-04-08 18:48:44,514|kedro.runner.sequential_runner|INFO] Pipeline execution completed successfully.\n",
      "[2021-04-08 18:48:44,516|causallift.context.flexible_context|INFO] Run pipeline (tags: ['211_fit_propensity'], SequentialRunner, only_missing: False)\n",
      "[2021-04-08 18:48:44,531|kedro.pipeline.node|INFO] Running node: fit_propensity([args,df_00]) -> [propensity_model]\n",
      "[2021-04-08 18:48:44,547|causallift.nodes.estimate_propensity|INFO] ## Propensity scores will be estimated by logistic regression.\n",
      "[2021-04-08 18:48:44,548|causallift.nodes.estimate_propensity|INFO] ### Parameters for grid search of Logistic regression:\n",
      "{'search_cv': 'sklearn.model_selection.GridSearchCV', 'estimator': 'sklearn.linear_model.LogisticRegression', 'scoring': None, 'cv': 3, 'return_train_score': False, 'n_jobs': -1, 'param_grid': {'random_state': [0], 'C': [0.1, 1, 10], 'class_weight': [None], 'dual': [False], 'fit_intercept': [True], 'intercept_scaling': [1], 'max_iter': [100], 'multi_class': ['ovr'], 'n_jobs': [1], 'penalty': ['l1', 'l2'], 'solver': ['liblinear'], 'tol': [0.0001], 'warm_start': [False]}}\n",
      "[2021-04-08 18:48:55,446|causallift.nodes.estimate_propensity|INFO] ### Best parameter for logistic regression:\n",
      "{'C': 10, 'class_weight': None, 'dual': False, 'fit_intercept': True, 'intercept_scaling': 1, 'l1_ratio': None, 'max_iter': 100, 'multi_class': 'ovr', 'n_jobs': 1, 'penalty': 'l1', 'random_state': 0, 'solver': 'liblinear', 'tol': 0.0001, 'verbose': 0, 'warm_start': False}\n",
      "[2021-04-08 18:48:55,447|causallift.nodes.estimate_propensity|INFO] \n",
      "## Coefficients of logistic regression:\n"
     ]
    },
    {
     "data": {
      "text/html": [
       "<div>\n",
       "<style scoped>\n",
       "    .dataframe tbody tr th:only-of-type {\n",
       "        vertical-align: middle;\n",
       "    }\n",
       "\n",
       "    .dataframe tbody tr th {\n",
       "        vertical-align: top;\n",
       "    }\n",
       "\n",
       "    .dataframe thead th {\n",
       "        text-align: right;\n",
       "    }\n",
       "</style>\n",
       "<table border=\"1\" class=\"dataframe\">\n",
       "  <thead>\n",
       "    <tr style=\"text-align: right;\">\n",
       "      <th></th>\n",
       "      <th>Weapon_FIREARM</th>\n",
       "      <th>Weapon_HANDS</th>\n",
       "      <th>Weapon_KNIFE</th>\n",
       "      <th>Weapon_NONE</th>\n",
       "      <th>Weapon_OTHER</th>\n",
       "      <th>Neighborhood</th>\n",
       "      <th>Premise</th>\n",
       "      <th>Month</th>\n",
       "      <th>Hour</th>\n",
       "      <th>Outside</th>\n",
       "    </tr>\n",
       "  </thead>\n",
       "  <tbody>\n",
       "    <tr>\n",
       "      <th>coefficient</th>\n",
       "      <td>0.551954</td>\n",
       "      <td>0.340401</td>\n",
       "      <td>0.340591</td>\n",
       "      <td>0.070605</td>\n",
       "      <td>0.500952</td>\n",
       "      <td>-0.000243</td>\n",
       "      <td>0.00359</td>\n",
       "      <td>-0.004932</td>\n",
       "      <td>0.002097</td>\n",
       "      <td>-0.200214</td>\n",
       "    </tr>\n",
       "  </tbody>\n",
       "</table>\n",
       "</div>"
      ],
      "text/plain": [
       "             Weapon_FIREARM  Weapon_HANDS  Weapon_KNIFE  Weapon_NONE  \\\n",
       "coefficient        0.551954      0.340401      0.340591     0.070605   \n",
       "\n",
       "             Weapon_OTHER  Neighborhood  Premise     Month      Hour   Outside  \n",
       "coefficient      0.500952     -0.000243  0.00359 -0.004932  0.002097 -0.200214  "
      ]
     },
     "metadata": {},
     "output_type": "display_data"
    },
    {
     "name": "stdout",
     "output_type": "stream",
     "text": [
      "[2021-04-08 18:48:55,461|kedro.runner.sequential_runner|INFO] Completed 1 out of 1 tasks\n",
      "[2021-04-08 18:48:55,462|kedro.runner.sequential_runner|INFO] Pipeline execution completed successfully.\n",
      "[2021-04-08 18:48:55,472|causallift.context.flexible_context|INFO] Run pipeline (tags: ['221_estimate_propensity'], SequentialRunner, only_missing: False)\n",
      "[2021-04-08 18:48:55,490|kedro.pipeline.node|INFO] Running node: estimate_propensity([args,df_00,propensity_model]) -> [df_01]\n",
      "[2021-04-08 18:48:55,527|causallift.nodes.estimate_propensity|INFO] \n",
      "### Histogram of propensity score for train and test data:\n"
     ]
    },
    {
     "data": {
      "image/png": "[encoded data removed]",
      "text/plain": [
       "<Figure size 432x288 with 1 Axes>"
      ]
     },
     "metadata": {
      "needs_background": "light"
     },
     "output_type": "display_data"
    },
    {
     "name": "stdout",
     "output_type": "stream",
     "text": [
      "[2021-04-08 18:48:55,699|causallift.nodes.estimate_propensity|INFO] \n",
      "### Score Table for logistic regression to calculate propensity score:\n"
     ]
    },
    {
     "data": {
      "text/html": [
       "<div>\n",
       "<style scoped>\n",
       "    .dataframe tbody tr th:only-of-type {\n",
       "        vertical-align: middle;\n",
       "    }\n",
       "\n",
       "    .dataframe tbody tr th {\n",
       "        vertical-align: top;\n",
       "    }\n",
       "\n",
       "    .dataframe thead th {\n",
       "        text-align: right;\n",
       "    }\n",
       "</style>\n",
       "<table border=\"1\" class=\"dataframe\">\n",
       "  <thead>\n",
       "    <tr style=\"text-align: right;\">\n",
       "      <th></th>\n",
       "      <th># samples</th>\n",
       "      <th># classes</th>\n",
       "      <th>accuracy</th>\n",
       "      <th>precision</th>\n",
       "      <th>recall</th>\n",
       "      <th>f1</th>\n",
       "      <th>roc_auc</th>\n",
       "      <th>observed CVR</th>\n",
       "      <th>predicted CVR</th>\n",
       "    </tr>\n",
       "  </thead>\n",
       "  <tbody>\n",
       "    <tr>\n",
       "      <th>train</th>\n",
       "      <td>210496</td>\n",
       "      <td>2</td>\n",
       "      <td>0.611594</td>\n",
       "      <td>0.612023</td>\n",
       "      <td>0.998254</td>\n",
       "      <td>0.758819</td>\n",
       "      <td>0.499874</td>\n",
       "      <td>0.612083</td>\n",
       "      <td>0.998352</td>\n",
       "    </tr>\n",
       "    <tr>\n",
       "      <th>test</th>\n",
       "      <td>52625</td>\n",
       "      <td>2</td>\n",
       "      <td>0.611382</td>\n",
       "      <td>0.611957</td>\n",
       "      <td>0.997796</td>\n",
       "      <td>0.758636</td>\n",
       "      <td>0.499731</td>\n",
       "      <td>0.612086</td>\n",
       "      <td>0.998005</td>\n",
       "    </tr>\n",
       "  </tbody>\n",
       "</table>\n",
       "</div>"
      ],
      "text/plain": [
       "       # samples  # classes  accuracy  precision    recall        f1  \\\n",
       "train     210496          2  0.611594   0.612023  0.998254  0.758819   \n",
       "test       52625          2  0.611382   0.611957  0.997796  0.758636   \n",
       "\n",
       "        roc_auc  observed CVR  predicted CVR  \n",
       "train  0.499874      0.612083       0.998352  \n",
       "test   0.499731      0.612086       0.998005  "
      ]
     },
     "metadata": {},
     "output_type": "display_data"
    },
    {
     "name": "stdout",
     "output_type": "stream",
     "text": [
      "[2021-04-08 18:48:56,045|causallift.nodes.estimate_propensity|INFO] \n",
      "### Confusion Matrix for Train:\n"
     ]
    },
    {
     "data": {
      "text/html": [
       "<div>\n",
       "<style scoped>\n",
       "    .dataframe tbody tr th:only-of-type {\n",
       "        vertical-align: middle;\n",
       "    }\n",
       "\n",
       "    .dataframe tbody tr th {\n",
       "        vertical-align: top;\n",
       "    }\n",
       "\n",
       "    .dataframe thead th {\n",
       "        text-align: right;\n",
       "    }\n",
       "</style>\n",
       "<table border=\"1\" class=\"dataframe\">\n",
       "  <thead>\n",
       "    <tr style=\"text-align: right;\">\n",
       "      <th></th>\n",
       "      <th>Pred_0</th>\n",
       "      <th>Pred_1</th>\n",
       "    </tr>\n",
       "  </thead>\n",
       "  <tbody>\n",
       "    <tr>\n",
       "      <th>True_0</th>\n",
       "      <td>122</td>\n",
       "      <td>81533</td>\n",
       "    </tr>\n",
       "    <tr>\n",
       "      <th>True_1</th>\n",
       "      <td>225</td>\n",
       "      <td>128616</td>\n",
       "    </tr>\n",
       "  </tbody>\n",
       "</table>\n",
       "</div>"
      ],
      "text/plain": [
       "        Pred_0  Pred_1\n",
       "True_0     122   81533\n",
       "True_1     225  128616"
      ]
     },
     "metadata": {},
     "output_type": "display_data"
    },
    {
     "name": "stdout",
     "output_type": "stream",
     "text": [
      "[2021-04-08 18:48:56,184|causallift.nodes.estimate_propensity|INFO] \n",
      "### Confusion Matrix for Test:\n"
     ]
    },
    {
     "data": {
      "text/html": [
       "<div>\n",
       "<style scoped>\n",
       "    .dataframe tbody tr th:only-of-type {\n",
       "        vertical-align: middle;\n",
       "    }\n",
       "\n",
       "    .dataframe tbody tr th {\n",
       "        vertical-align: top;\n",
       "    }\n",
       "\n",
       "    .dataframe thead th {\n",
       "        text-align: right;\n",
       "    }\n",
       "</style>\n",
       "<table border=\"1\" class=\"dataframe\">\n",
       "  <thead>\n",
       "    <tr style=\"text-align: right;\">\n",
       "      <th></th>\n",
       "      <th>Pred_0</th>\n",
       "      <th>Pred_1</th>\n",
       "    </tr>\n",
       "  </thead>\n",
       "  <tbody>\n",
       "    <tr>\n",
       "      <th>True_0</th>\n",
       "      <td>34</td>\n",
       "      <td>20380</td>\n",
       "    </tr>\n",
       "    <tr>\n",
       "      <th>True_1</th>\n",
       "      <td>71</td>\n",
       "      <td>32140</td>\n",
       "    </tr>\n",
       "  </tbody>\n",
       "</table>\n",
       "</div>"
      ],
      "text/plain": [
       "        Pred_0  Pred_1\n",
       "True_0      34   20380\n",
       "True_1      71   32140"
      ]
     },
     "metadata": {},
     "output_type": "display_data"
    },
    {
     "name": "stdout",
     "output_type": "stream",
     "text": [
      "[2021-04-08 18:48:56,277|kedro.runner.sequential_runner|INFO] Completed 1 out of 1 tasks\n",
      "[2021-04-08 18:48:56,279|kedro.runner.sequential_runner|INFO] Pipeline execution completed successfully.\n",
      "[2021-04-08 18:48:56,304|causallift.causal_lift|INFO] ### Treatment fraction in train dataset: 0.6120828899361508\n",
      "[2021-04-08 18:48:56,305|causallift.causal_lift|INFO] ### Treatment fraction in test dataset: 0.6120855106888361\n"
     ]
    }
   ],
   "source": [
    "causal_lift_model(cm_df=df, decoder=description_decoder, treatment_name='num_households')"
   ]
  },
  {
   "cell_type": "markdown",
   "metadata": {},
   "source": [
    "Not a very high accuracy, but some interesting results with a high impact on many weapon related features."
   ]
  }
 ],
 "metadata": {
  "hide_input": false,
  "kernelspec": {
   "display_name": "Python 3",
   "language": "python",
   "name": "python3"
  },
  "language_info": {
   "codemirror_mode": {
    "name": "ipython",
    "version": 3
   },
   "file_extension": ".py",
   "mimetype": "text/x-python",
   "name": "python",
   "nbconvert_exporter": "python",
   "pygments_lexer": "ipython3",
   "version": "3.7.7"
  },
  "toc": {
   "base_numbering": 1,
   "nav_menu": {},
   "number_sections": true,
   "sideBar": true,
   "skip_h1_title": false,
   "title_cell": "Table of Contents",
   "title_sidebar": "Contents",
   "toc_cell": false,
   "toc_position": {},
   "toc_section_display": true,
   "toc_window_display": false
  },
  "varInspector": {
   "cols": {
    "lenName": 16,
    "lenType": 16,
    "lenVar": 40
   },
   "kernels_config": {
    "python": {
     "delete_cmd_postfix": "",
     "delete_cmd_prefix": "del ",
     "library": "var_list.py",
     "varRefreshCmd": "print(var_dic_list())"
    },
    "r": {
     "delete_cmd_postfix": ") ",
     "delete_cmd_prefix": "rm(",
     "library": "var_list.r",
     "varRefreshCmd": "cat(var_dic_list()) "
    }
   },
   "types_to_exclude": [
    "module",
    "function",
    "builtin_function_or_method",
    "instance",
    "_Feature"
   ],
   "window_display": false
  }
 },
 "nbformat": 4,
 "nbformat_minor": 1
}
