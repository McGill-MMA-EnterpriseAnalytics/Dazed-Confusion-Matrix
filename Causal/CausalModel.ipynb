{
 "cells": [
  {
   "cell_type": "markdown",
   "source": [
    "# Setup"
   ],
   "metadata": {
    "collapsed": false
   }
  },
  {
   "cell_type": "code",
   "execution_count": 98,
   "outputs": [
    {
     "name": "stderr",
     "output_type": "stream",
     "text": [
      "`should_run_async` will not call `transform_cell` automatically in the future. Please pass the result to `transformed_cell` argument and any exception that happen during thetransform in `preprocessing_exc_tuple` in IPython 7.17 and above.\n"
     ]
    }
   ],
   "source": [
    "from IPython.display import display\n",
    "import pandas as pd\n",
    "import numpy as np\n",
    "from matplotlib import pyplot as plt\n",
    "from sklearn.model_selection import train_test_split\n",
    "import seaborn as sns\n",
    "\n",
    "from causallift import CausalLift\n",
    "seed = 5\n",
    "%matplotlib inline\n",
    "\n",
    "plt.style.use('fivethirtyeight')\n",
    "sns.set_palette('Paired')\n",
    "plt.rcParams['figure.figsize'] = (12,8)"
   ],
   "metadata": {
    "collapsed": false,
    "pycharm": {
     "name": "#%%\n"
    }
   }
  },
  {
   "cell_type": "code",
   "execution_count": 99,
   "outputs": [
    {
     "name": "stderr",
     "output_type": "stream",
     "text": [
      "`should_run_async` will not call `transform_cell` automatically in the future. Please pass the result to `transformed_cell` argument and any exception that happen during thetransform in `preprocessing_exc_tuple` in IPython 7.17 and above.\n"
     ]
    },
    {
     "data": {
      "text/plain": "Index(['Unnamed: 0', 'Unnamed: 0.1', 'Description', 'Inside/Outside', 'Weapon',\n       'Post', 'District', 'Neighborhood', 'Longitude', 'Latitude', 'Premise',\n       'Season', 'Month', 'Hour', 'Year', 'CSA', 'median_household_income',\n       'households_below_poverty', 'perc18_24', 'perc25_64', 'perc65up',\n       'perc_asian', 'perc_aa', 'perc_hisp', 'pwhi', 'num_households',\n       'median_price_homes_sold'],\n      dtype='object')"
     },
     "execution_count": 99,
     "metadata": {},
     "output_type": "execute_result"
    }
   ],
   "source": [
    "df = pd.read_csv('../data/BPD_CRIME_DATA_WITHDEMOGRAPHICS.csv')\n",
    "df.columns"
   ],
   "metadata": {
    "collapsed": false,
    "pycharm": {
     "name": "#%%\n"
    }
   }
  },
  {
   "cell_type": "markdown",
   "source": [
    "# Cleaning"
   ],
   "metadata": {
    "collapsed": false
   }
  },
  {
   "cell_type": "code",
   "execution_count": 100,
   "outputs": [],
   "source": [
    "df.drop(columns=['Unnamed: 0', 'Unnamed: 0.1'], inplace=True)"
   ],
   "metadata": {
    "collapsed": false,
    "pycharm": {
     "name": "#%%\n"
    }
   }
  },
  {
   "cell_type": "code",
   "execution_count": 101,
   "outputs": [
    {
     "data": {
      "text/plain": "           Description Inside/Outside   Weapon   Post      District  \\\n0  ROBBERY - RESIDENCE         Inside    KNIFE  913.0      SOUTHERN   \n1           AUTO THEFT        Outside     NONE  133.0       CENTRAL   \n2             SHOOTING        Outside  FIREARM  524.0      NORTHERN   \n3         AGG. ASSAULT         Inside    OTHER  934.0      SOUTHERN   \n4       COMMON ASSAULT        Outside    HANDS  113.0       CENTRAL   \n5             BURGLARY         Inside     NONE  922.0      SOUTHERN   \n6             HOMICIDE        Outside  FIREARM  232.0  SOUTHEASTERN   \n7     ROBBERY - STREET        Outside     NONE  123.0       CENTRAL   \n8         AGG. ASSAULT        Outside    OTHER  641.0  NORTHWESTERN   \n9       COMMON ASSAULT         Inside    HANDS  332.0       EASTERN   \n\n       Neighborhood  Longitude  Latitude     Premise  Season  ...  \\\n0          Brooklyn  -76.60541  39.22951  ROW/TOWNHO  summer  ...   \n1    Reservoir Hill  -76.63217  39.31360      STREET  summer  ...   \n2    Winston-Govans  -76.60697  39.34768      STREET  summer  ...   \n3  Carrollton Ridge  -76.64526  39.28315  ROW/TOWNHO  summer  ...   \n4     Downtown West  -76.61365  39.28756      STREET  summer  ...   \n5       Cherry Hill  -76.62131  39.24867  ROW/TOWNHO  summer  ...   \n6            Canton  -76.56827  39.28202      STREET  summer  ...   \n7             Upton  -76.62789  39.30254      STREET  summer  ...   \n8     Windsor Hills  -76.68365  39.31370      STREET  summer  ...   \n9             Berea  -76.57419  39.30551  ROW/TOWNHO  summer  ...   \n\n   households_below_poverty  perc18_24  perc25_64   perc65up  perc_asian  \\\n0                 24.213606   8.248062  57.449612   7.302326    2.527132   \n1                 25.964546   8.231621  56.940108  11.003879    0.624468   \n2                       NaN        NaN        NaN        NaN         NaN   \n3                       NaN        NaN        NaN        NaN         NaN   \n4                       NaN        NaN        NaN        NaN         NaN   \n5                 39.337017   9.134854  45.575112   9.779375    0.929598   \n6                  3.661784   5.849147  75.246217  10.533269    4.383858   \n7                 42.982456  11.429971  47.277179  10.803134    1.860921   \n8                       NaN        NaN        NaN        NaN         NaN   \n9                 27.649528   8.788912  52.139479  15.157848    0.417996   \n\n     perc_aa  perc_hisp       pwhi  num_households  median_price_homes_sold  \n0  37.961240  14.906977  39.682171             NaN                  52000.0  \n1  83.990917   2.876336  10.966033             NaN                 127500.0  \n2        NaN        NaN        NaN             NaN                      NaN  \n3        NaN        NaN        NaN             NaN                      NaN  \n4        NaN        NaN        NaN             NaN                      NaN  \n5  87.469013   5.813089   4.362915             NaN                  45000.0  \n6   3.939467   3.086716  85.575306             NaN                 306500.0  \n7  91.635651   0.636631   4.221352             NaN                 100000.0  \n8        NaN        NaN        NaN             NaN                      NaN  \n9  93.664063   2.034980   2.364976             NaN                  42786.0  \n\n[10 rows x 25 columns]",
      "text/html": "<div>\n<style scoped>\n    .dataframe tbody tr th:only-of-type {\n        vertical-align: middle;\n    }\n\n    .dataframe tbody tr th {\n        vertical-align: top;\n    }\n\n    .dataframe thead th {\n        text-align: right;\n    }\n</style>\n<table border=\"1\" class=\"dataframe\">\n  <thead>\n    <tr style=\"text-align: right;\">\n      <th></th>\n      <th>Description</th>\n      <th>Inside/Outside</th>\n      <th>Weapon</th>\n      <th>Post</th>\n      <th>District</th>\n      <th>Neighborhood</th>\n      <th>Longitude</th>\n      <th>Latitude</th>\n      <th>Premise</th>\n      <th>Season</th>\n      <th>...</th>\n      <th>households_below_poverty</th>\n      <th>perc18_24</th>\n      <th>perc25_64</th>\n      <th>perc65up</th>\n      <th>perc_asian</th>\n      <th>perc_aa</th>\n      <th>perc_hisp</th>\n      <th>pwhi</th>\n      <th>num_households</th>\n      <th>median_price_homes_sold</th>\n    </tr>\n  </thead>\n  <tbody>\n    <tr>\n      <th>0</th>\n      <td>ROBBERY - RESIDENCE</td>\n      <td>Inside</td>\n      <td>KNIFE</td>\n      <td>913.0</td>\n      <td>SOUTHERN</td>\n      <td>Brooklyn</td>\n      <td>-76.60541</td>\n      <td>39.22951</td>\n      <td>ROW/TOWNHO</td>\n      <td>summer</td>\n      <td>...</td>\n      <td>24.213606</td>\n      <td>8.248062</td>\n      <td>57.449612</td>\n      <td>7.302326</td>\n      <td>2.527132</td>\n      <td>37.961240</td>\n      <td>14.906977</td>\n      <td>39.682171</td>\n      <td>NaN</td>\n      <td>52000.0</td>\n    </tr>\n    <tr>\n      <th>1</th>\n      <td>AUTO THEFT</td>\n      <td>Outside</td>\n      <td>NONE</td>\n      <td>133.0</td>\n      <td>CENTRAL</td>\n      <td>Reservoir Hill</td>\n      <td>-76.63217</td>\n      <td>39.31360</td>\n      <td>STREET</td>\n      <td>summer</td>\n      <td>...</td>\n      <td>25.964546</td>\n      <td>8.231621</td>\n      <td>56.940108</td>\n      <td>11.003879</td>\n      <td>0.624468</td>\n      <td>83.990917</td>\n      <td>2.876336</td>\n      <td>10.966033</td>\n      <td>NaN</td>\n      <td>127500.0</td>\n    </tr>\n    <tr>\n      <th>2</th>\n      <td>SHOOTING</td>\n      <td>Outside</td>\n      <td>FIREARM</td>\n      <td>524.0</td>\n      <td>NORTHERN</td>\n      <td>Winston-Govans</td>\n      <td>-76.60697</td>\n      <td>39.34768</td>\n      <td>STREET</td>\n      <td>summer</td>\n      <td>...</td>\n      <td>NaN</td>\n      <td>NaN</td>\n      <td>NaN</td>\n      <td>NaN</td>\n      <td>NaN</td>\n      <td>NaN</td>\n      <td>NaN</td>\n      <td>NaN</td>\n      <td>NaN</td>\n      <td>NaN</td>\n    </tr>\n    <tr>\n      <th>3</th>\n      <td>AGG. ASSAULT</td>\n      <td>Inside</td>\n      <td>OTHER</td>\n      <td>934.0</td>\n      <td>SOUTHERN</td>\n      <td>Carrollton Ridge</td>\n      <td>-76.64526</td>\n      <td>39.28315</td>\n      <td>ROW/TOWNHO</td>\n      <td>summer</td>\n      <td>...</td>\n      <td>NaN</td>\n      <td>NaN</td>\n      <td>NaN</td>\n      <td>NaN</td>\n      <td>NaN</td>\n      <td>NaN</td>\n      <td>NaN</td>\n      <td>NaN</td>\n      <td>NaN</td>\n      <td>NaN</td>\n    </tr>\n    <tr>\n      <th>4</th>\n      <td>COMMON ASSAULT</td>\n      <td>Outside</td>\n      <td>HANDS</td>\n      <td>113.0</td>\n      <td>CENTRAL</td>\n      <td>Downtown West</td>\n      <td>-76.61365</td>\n      <td>39.28756</td>\n      <td>STREET</td>\n      <td>summer</td>\n      <td>...</td>\n      <td>NaN</td>\n      <td>NaN</td>\n      <td>NaN</td>\n      <td>NaN</td>\n      <td>NaN</td>\n      <td>NaN</td>\n      <td>NaN</td>\n      <td>NaN</td>\n      <td>NaN</td>\n      <td>NaN</td>\n    </tr>\n    <tr>\n      <th>5</th>\n      <td>BURGLARY</td>\n      <td>Inside</td>\n      <td>NONE</td>\n      <td>922.0</td>\n      <td>SOUTHERN</td>\n      <td>Cherry Hill</td>\n      <td>-76.62131</td>\n      <td>39.24867</td>\n      <td>ROW/TOWNHO</td>\n      <td>summer</td>\n      <td>...</td>\n      <td>39.337017</td>\n      <td>9.134854</td>\n      <td>45.575112</td>\n      <td>9.779375</td>\n      <td>0.929598</td>\n      <td>87.469013</td>\n      <td>5.813089</td>\n      <td>4.362915</td>\n      <td>NaN</td>\n      <td>45000.0</td>\n    </tr>\n    <tr>\n      <th>6</th>\n      <td>HOMICIDE</td>\n      <td>Outside</td>\n      <td>FIREARM</td>\n      <td>232.0</td>\n      <td>SOUTHEASTERN</td>\n      <td>Canton</td>\n      <td>-76.56827</td>\n      <td>39.28202</td>\n      <td>STREET</td>\n      <td>summer</td>\n      <td>...</td>\n      <td>3.661784</td>\n      <td>5.849147</td>\n      <td>75.246217</td>\n      <td>10.533269</td>\n      <td>4.383858</td>\n      <td>3.939467</td>\n      <td>3.086716</td>\n      <td>85.575306</td>\n      <td>NaN</td>\n      <td>306500.0</td>\n    </tr>\n    <tr>\n      <th>7</th>\n      <td>ROBBERY - STREET</td>\n      <td>Outside</td>\n      <td>NONE</td>\n      <td>123.0</td>\n      <td>CENTRAL</td>\n      <td>Upton</td>\n      <td>-76.62789</td>\n      <td>39.30254</td>\n      <td>STREET</td>\n      <td>summer</td>\n      <td>...</td>\n      <td>42.982456</td>\n      <td>11.429971</td>\n      <td>47.277179</td>\n      <td>10.803134</td>\n      <td>1.860921</td>\n      <td>91.635651</td>\n      <td>0.636631</td>\n      <td>4.221352</td>\n      <td>NaN</td>\n      <td>100000.0</td>\n    </tr>\n    <tr>\n      <th>8</th>\n      <td>AGG. ASSAULT</td>\n      <td>Outside</td>\n      <td>OTHER</td>\n      <td>641.0</td>\n      <td>NORTHWESTERN</td>\n      <td>Windsor Hills</td>\n      <td>-76.68365</td>\n      <td>39.31370</td>\n      <td>STREET</td>\n      <td>summer</td>\n      <td>...</td>\n      <td>NaN</td>\n      <td>NaN</td>\n      <td>NaN</td>\n      <td>NaN</td>\n      <td>NaN</td>\n      <td>NaN</td>\n      <td>NaN</td>\n      <td>NaN</td>\n      <td>NaN</td>\n      <td>NaN</td>\n    </tr>\n    <tr>\n      <th>9</th>\n      <td>COMMON ASSAULT</td>\n      <td>Inside</td>\n      <td>HANDS</td>\n      <td>332.0</td>\n      <td>EASTERN</td>\n      <td>Berea</td>\n      <td>-76.57419</td>\n      <td>39.30551</td>\n      <td>ROW/TOWNHO</td>\n      <td>summer</td>\n      <td>...</td>\n      <td>27.649528</td>\n      <td>8.788912</td>\n      <td>52.139479</td>\n      <td>15.157848</td>\n      <td>0.417996</td>\n      <td>93.664063</td>\n      <td>2.034980</td>\n      <td>2.364976</td>\n      <td>NaN</td>\n      <td>42786.0</td>\n    </tr>\n  </tbody>\n</table>\n<p>10 rows × 25 columns</p>\n</div>"
     },
     "execution_count": 101,
     "metadata": {},
     "output_type": "execute_result"
    }
   ],
   "source": [
    "df.head(10)\n",
    "\n"
   ],
   "metadata": {
    "collapsed": false,
    "pycharm": {
     "name": "#%%\n"
    }
   }
  },
  {
   "cell_type": "code",
   "execution_count": 102,
   "outputs": [
    {
     "name": "stderr",
     "output_type": "stream",
     "text": [
      "`should_run_async` will not call `transform_cell` automatically in the future. Please pass the result to `transformed_cell` argument and any exception that happen during thetransform in `preprocessing_exc_tuple` in IPython 7.17 and above.\n"
     ]
    }
   ],
   "source": [
    "df['households_below_poverty'].dropna(inplace=True)"
   ],
   "metadata": {
    "collapsed": false,
    "pycharm": {
     "name": "#%%\n"
    }
   }
  },
  {
   "cell_type": "code",
   "execution_count": 103,
   "outputs": [],
   "source": [
    "# Create binary treatment variables\n",
    "df['Inside/Outside'].value_counts()\n",
    "df['Inside'] = np.where(df['Inside/Outside'] == 'INSIDE', False, True)\n",
    "\n"
   ],
   "metadata": {
    "collapsed": false,
    "pycharm": {
     "name": "#%%\n"
    }
   }
  },
  {
   "cell_type": "code",
   "execution_count": 104,
   "outputs": [
    {
     "data": {
      "text/plain": "7.086614     1833\n5.454545     1594\n26.333747    1369\n16.856025    1225\n31.822899    1204\n             ... \n21.188630      49\n17.408907      43\n26.858276      42\n26.280624      32\n21.687667      29\nName: households_below_poverty, Length: 123, dtype: int64"
     },
     "execution_count": 104,
     "metadata": {},
     "output_type": "execute_result"
    }
   ],
   "source": [
    "df['households_below_poverty'].value_counts()"
   ],
   "metadata": {
    "collapsed": false,
    "pycharm": {
     "name": "#%%\n"
    }
   }
  },
  {
   "cell_type": "code",
   "execution_count": 105,
   "outputs": [
    {
     "data": {
      "text/plain": "{'AGG. ASSAULT',\n 'ARSON',\n 'ASSAULT BY THREAT',\n 'AUTO THEFT',\n 'BURGLARY',\n 'COMMON ASSAULT',\n 'HOMICIDE',\n 'LARCENY',\n 'LARCENY FROM AUTO',\n 'RAPE',\n 'ROBBERY - CARJACKING',\n 'ROBBERY - COMMERCIAL',\n 'ROBBERY - RESIDENCE',\n 'ROBBERY - STREET',\n 'SHOOTING'}"
     },
     "execution_count": 105,
     "metadata": {},
     "output_type": "execute_result"
    }
   ],
   "source": [
    "# Encoding\n",
    "df['Weapon'] = df['Weapon'].astype('category').cat.codes\n",
    "df['Neighborhood'] = df['Neighborhood'].astype('category').cat.codes\n",
    "df['Season'] = df['Season'].astype('category').cat.codes\n",
    "\n",
    "outcome_names = set(df['Description'].values)\n",
    "outcome_names"
   ],
   "metadata": {
    "collapsed": false,
    "pycharm": {
     "name": "#%%\n"
    }
   }
  },
  {
   "cell_type": "markdown",
   "source": [
    "# Is Below Average Poverty Treatment"
   ],
   "metadata": {
    "collapsed": false
   }
  },
  {
   "cell_type": "code",
   "execution_count": 106,
   "outputs": [],
   "source": [
    "cm_df = df.copy()\n",
    "cm_df['households_below_poverty'] = cm_df['households_below_poverty'].dropna()\n",
    "cm_df.reset_index(inplace=True)\n",
    "households_below_avg_poverty = cm_df['households_below_poverty'].mean()\n",
    "cm_df['Treatment'] = np.where(df['households_below_poverty'] <= households_below_avg_poverty, 1, 0)"
   ],
   "metadata": {
    "collapsed": false,
    "pycharm": {
     "name": "#%%\n"
    }
   }
  },
  {
   "cell_type": "code",
   "execution_count": 107,
   "outputs": [
    {
     "name": "stderr",
     "output_type": "stream",
     "text": [
      "`should_run_async` will not call `transform_cell` automatically in the future. Please pass the result to `transformed_cell` argument and any exception that happen during thetransform in `preprocessing_exc_tuple` in IPython 7.17 and above.\n",
      "Precision is ill-defined and being set to 0.0 due to no predicted samples. Use `zero_division` parameter to control this behavior.\n",
      "Precision is ill-defined and being set to 0.0 due to no predicted samples. Use `zero_division` parameter to control this behavior.\n",
      "\n",
      "A value is trying to be set on a copy of a slice from a DataFrame.\n",
      "Try using .loc[row_indexer,col_indexer] = value instead\n",
      "\n",
      "See the caveats in the documentation: https://pandas.pydata.org/pandas-docs/stable/user_guide/indexing.html#returning-a-view-versus-a-copy\n",
      "\n",
      "A value is trying to be set on a copy of a slice from a DataFrame.\n",
      "Try using .loc[row_indexer,col_indexer] = value instead\n",
      "\n",
      "See the caveats in the documentation: https://pandas.pydata.org/pandas-docs/stable/user_guide/indexing.html#returning-a-view-versus-a-copy\n",
      "\n",
      "A value is trying to be set on a copy of a slice from a DataFrame\n",
      "\n",
      "See the caveats in the documentation: https://pandas.pydata.org/pandas-docs/stable/user_guide/indexing.html#returning-a-view-versus-a-copy\n",
      "The use of label encoder in XGBClassifier is deprecated and will be removed in a future release. To remove this warning, do the following: 1) Pass option use_label_encoder=False when constructing XGBClassifier object; and 2) Encode your labels (y) as integers starting with 0, i.e. 0, 1, 2, ..., [num_class - 1].\n",
      "Precision is ill-defined and being set to 0.0 due to no predicted samples. Use `zero_division` parameter to control this behavior.\n",
      "Precision is ill-defined and being set to 0.0 due to no predicted samples. Use `zero_division` parameter to control this behavior.\n",
      "\n",
      "A value is trying to be set on a copy of a slice from a DataFrame\n",
      "\n",
      "See the caveats in the documentation: https://pandas.pydata.org/pandas-docs/stable/user_guide/indexing.html#returning-a-view-versus-a-copy\n",
      "The use of label encoder in XGBClassifier is deprecated and will be removed in a future release. To remove this warning, do the following: 1) Pass option use_label_encoder=False when constructing XGBClassifier object; and 2) Encode your labels (y) as integers starting with 0, i.e. 0, 1, 2, ..., [num_class - 1].\n",
      "Precision is ill-defined and being set to 0.0 due to no predicted samples. Use `zero_division` parameter to control this behavior.\n",
      "Precision is ill-defined and being set to 0.0 due to no predicted samples. Use `zero_division` parameter to control this behavior.\n",
      "Precision is ill-defined and being set to 0.0 due to no predicted samples. Use `zero_division` parameter to control this behavior.\n",
      "Precision is ill-defined and being set to 0.0 due to no predicted samples. Use `zero_division` parameter to control this behavior.\n",
      "Precision is ill-defined and being set to 0.0 due to no predicted samples. Use `zero_division` parameter to control this behavior.\n",
      "Precision is ill-defined and being set to 0.0 due to no predicted samples. Use `zero_division` parameter to control this behavior.\n",
      "Precision is ill-defined and being set to 0.0 due to no predicted samples. Use `zero_division` parameter to control this behavior.\n",
      "Precision is ill-defined and being set to 0.0 due to no predicted samples. Use `zero_division` parameter to control this behavior.\n",
      "\n",
      "A value is trying to be set on a copy of a slice from a DataFrame.\n",
      "Try using .loc[row_indexer,col_indexer] = value instead\n",
      "\n",
      "See the caveats in the documentation: https://pandas.pydata.org/pandas-docs/stable/user_guide/indexing.html#returning-a-view-versus-a-copy\n",
      "\n",
      "A value is trying to be set on a copy of a slice from a DataFrame.\n",
      "Try using .loc[row_indexer,col_indexer] = value instead\n",
      "\n",
      "See the caveats in the documentation: https://pandas.pydata.org/pandas-docs/stable/user_guide/indexing.html#returning-a-view-versus-a-copy\n",
      "\n",
      "A value is trying to be set on a copy of a slice from a DataFrame\n",
      "\n",
      "See the caveats in the documentation: https://pandas.pydata.org/pandas-docs/stable/user_guide/indexing.html#returning-a-view-versus-a-copy\n",
      "The use of label encoder in XGBClassifier is deprecated and will be removed in a future release. To remove this warning, do the following: 1) Pass option use_label_encoder=False when constructing XGBClassifier object; and 2) Encode your labels (y) as integers starting with 0, i.e. 0, 1, 2, ..., [num_class - 1].\n",
      "Precision is ill-defined and being set to 0.0 due to no predicted samples. Use `zero_division` parameter to control this behavior.\n",
      "Precision is ill-defined and being set to 0.0 due to no predicted samples. Use `zero_division` parameter to control this behavior.\n",
      "\n",
      "A value is trying to be set on a copy of a slice from a DataFrame\n",
      "\n",
      "See the caveats in the documentation: https://pandas.pydata.org/pandas-docs/stable/user_guide/indexing.html#returning-a-view-versus-a-copy\n",
      "The use of label encoder in XGBClassifier is deprecated and will be removed in a future release. To remove this warning, do the following: 1) Pass option use_label_encoder=False when constructing XGBClassifier object; and 2) Encode your labels (y) as integers starting with 0, i.e. 0, 1, 2, ..., [num_class - 1].\n",
      "Precision is ill-defined and being set to 0.0 due to no predicted samples. Use `zero_division` parameter to control this behavior.\n",
      "Precision is ill-defined and being set to 0.0 due to no predicted samples. Use `zero_division` parameter to control this behavior.\n",
      "Precision is ill-defined and being set to 0.0 due to no predicted samples. Use `zero_division` parameter to control this behavior.\n",
      "Precision is ill-defined and being set to 0.0 due to no predicted samples. Use `zero_division` parameter to control this behavior.\n",
      "Precision is ill-defined and being set to 0.0 due to no predicted samples. Use `zero_division` parameter to control this behavior.\n",
      "Precision is ill-defined and being set to 0.0 due to no predicted samples. Use `zero_division` parameter to control this behavior.\n",
      "Precision is ill-defined and being set to 0.0 due to no predicted samples. Use `zero_division` parameter to control this behavior.\n",
      "Precision is ill-defined and being set to 0.0 due to no predicted samples. Use `zero_division` parameter to control this behavior.\n",
      "\n",
      "A value is trying to be set on a copy of a slice from a DataFrame.\n",
      "Try using .loc[row_indexer,col_indexer] = value instead\n",
      "\n",
      "See the caveats in the documentation: https://pandas.pydata.org/pandas-docs/stable/user_guide/indexing.html#returning-a-view-versus-a-copy\n",
      "\n",
      "A value is trying to be set on a copy of a slice from a DataFrame.\n",
      "Try using .loc[row_indexer,col_indexer] = value instead\n",
      "\n",
      "See the caveats in the documentation: https://pandas.pydata.org/pandas-docs/stable/user_guide/indexing.html#returning-a-view-versus-a-copy\n",
      "\n",
      "A value is trying to be set on a copy of a slice from a DataFrame\n",
      "\n",
      "See the caveats in the documentation: https://pandas.pydata.org/pandas-docs/stable/user_guide/indexing.html#returning-a-view-versus-a-copy\n",
      "The use of label encoder in XGBClassifier is deprecated and will be removed in a future release. To remove this warning, do the following: 1) Pass option use_label_encoder=False when constructing XGBClassifier object; and 2) Encode your labels (y) as integers starting with 0, i.e. 0, 1, 2, ..., [num_class - 1].\n",
      "Precision is ill-defined and being set to 0.0 due to no predicted samples. Use `zero_division` parameter to control this behavior.\n",
      "Precision is ill-defined and being set to 0.0 due to no predicted samples. Use `zero_division` parameter to control this behavior.\n",
      "\n",
      "A value is trying to be set on a copy of a slice from a DataFrame\n",
      "\n",
      "See the caveats in the documentation: https://pandas.pydata.org/pandas-docs/stable/user_guide/indexing.html#returning-a-view-versus-a-copy\n",
      "The use of label encoder in XGBClassifier is deprecated and will be removed in a future release. To remove this warning, do the following: 1) Pass option use_label_encoder=False when constructing XGBClassifier object; and 2) Encode your labels (y) as integers starting with 0, i.e. 0, 1, 2, ..., [num_class - 1].\n",
      "Precision is ill-defined and being set to 0.0 due to no predicted samples. Use `zero_division` parameter to control this behavior.\n",
      "Precision is ill-defined and being set to 0.0 due to no predicted samples. Use `zero_division` parameter to control this behavior.\n"
     ]
    },
    {
     "name": "stdout",
     "output_type": "stream",
     "text": [
      "\n",
      "ASSAULT BY THREAT\n",
      "\n",
      "[Estimate propensity scores for Inverse Probability Weighting.]\n",
      "[2021-04-06 16:48:34,633|causallift.context.flexible_context|INFO] Run pipeline (tags: ['011_bundle_train_and_test_data'], SequentialRunner, only_missing: False)\n",
      "[2021-04-06 16:48:34,641|kedro.pipeline.node|INFO] Running node: bundle_train_and_test_data([args_raw,test_df,train_df]) -> [df_00]\n",
      "[2021-04-06 16:48:34,659|kedro.runner.sequential_runner|INFO] Completed 1 out of 1 tasks\n",
      "[2021-04-06 16:48:34,660|kedro.runner.sequential_runner|INFO] Pipeline execution completed successfully.\n",
      "[2021-04-06 16:48:34,666|causallift.context.flexible_context|INFO] Run pipeline (tags: ['121_prepare_args', '131_treatment_fractions_', '141_initialize_model'], SequentialRunner, only_missing: False)\n",
      "[2021-04-06 16:48:34,675|kedro.pipeline.node|INFO] Running node: treatment_fractions_([args_raw,df_00]) -> [treatment_fractions]\n",
      "[2021-04-06 16:48:34,686|kedro.runner.sequential_runner|INFO] Completed 1 out of 3 tasks\n",
      "[2021-04-06 16:48:34,688|kedro.pipeline.node|INFO] Running node: impute_cols_features([args_raw,df_00]) -> [args_intermediate]\n",
      "[2021-04-06 16:48:34,690|kedro.runner.sequential_runner|INFO] Completed 2 out of 3 tasks\n",
      "[2021-04-06 16:48:34,693|kedro.pipeline.node|INFO] Running node: schedule_propensity_scoring([args_intermediate,df_00]) -> [args]\n",
      "[2021-04-06 16:48:34,695|kedro.runner.sequential_runner|INFO] Completed 3 out of 3 tasks\n",
      "[2021-04-06 16:48:34,695|kedro.runner.sequential_runner|INFO] Pipeline execution completed successfully.\n",
      "[2021-04-06 16:48:34,697|causallift.context.flexible_context|INFO] Run pipeline (tags: ['211_fit_propensity'], SequentialRunner, only_missing: False)\n",
      "[2021-04-06 16:48:34,707|kedro.pipeline.node|INFO] Running node: fit_propensity([args,df_00]) -> [propensity_model]\n",
      "[2021-04-06 16:48:34,715|causallift.nodes.estimate_propensity|INFO] ## Propensity scores will be estimated by logistic regression.\n",
      "[2021-04-06 16:48:34,715|causallift.nodes.estimate_propensity|INFO] ### Parameters for grid search of Logistic regression:\n",
      "{'search_cv': 'sklearn.model_selection.GridSearchCV', 'estimator': 'sklearn.linear_model.LogisticRegression', 'scoring': None, 'cv': 3, 'return_train_score': False, 'n_jobs': -1, 'param_grid': {'random_state': [0], 'C': [0.1, 1, 10], 'class_weight': [None], 'dual': [False], 'fit_intercept': [True], 'intercept_scaling': [1], 'max_iter': [100], 'multi_class': ['ovr'], 'n_jobs': [1], 'penalty': ['l1', 'l2'], 'solver': ['liblinear'], 'tol': [0.0001], 'warm_start': [False]}}\n",
      "[2021-04-06 16:48:36,917|causallift.nodes.estimate_propensity|INFO] ### Best parameter for logistic regression:\n",
      "{'C': 0.1, 'class_weight': None, 'dual': False, 'fit_intercept': True, 'intercept_scaling': 1, 'l1_ratio': None, 'max_iter': 100, 'multi_class': 'ovr', 'n_jobs': 1, 'penalty': 'l1', 'random_state': 0, 'solver': 'liblinear', 'tol': 0.0001, 'verbose': 0, 'warm_start': False}\n",
      "[2021-04-06 16:48:36,919|causallift.nodes.estimate_propensity|INFO] \n",
      "## Coefficients of logistic regression:\n",
      "[2021-04-06 16:48:36,925|kedro.runner.sequential_runner|INFO] Completed 1 out of 1 tasks\n",
      "[2021-04-06 16:48:36,926|kedro.runner.sequential_runner|INFO] Pipeline execution completed successfully.\n",
      "[2021-04-06 16:48:36,928|causallift.context.flexible_context|INFO] Run pipeline (tags: ['221_estimate_propensity'], SequentialRunner, only_missing: False)\n",
      "[2021-04-06 16:48:36,937|kedro.pipeline.node|INFO] Running node: estimate_propensity([args,df_00,propensity_model]) -> [df_01]\n",
      "[2021-04-06 16:48:36,954|causallift.nodes.estimate_propensity|INFO] \n",
      "### Histogram of propensity score for train and test data:\n",
      "[2021-04-06 16:48:37,109|causallift.nodes.estimate_propensity|INFO] \n",
      "### Score Table for logistic regression to calculate propensity score:\n",
      "[2021-04-06 16:48:37,310|causallift.nodes.estimate_propensity|INFO] \n",
      "### Confusion Matrix for Train:\n",
      "[2021-04-06 16:48:37,435|causallift.nodes.estimate_propensity|INFO] \n",
      "### Confusion Matrix for Test:\n",
      "[2021-04-06 16:48:37,511|kedro.runner.sequential_runner|INFO] Completed 1 out of 1 tasks\n",
      "[2021-04-06 16:48:37,511|kedro.runner.sequential_runner|INFO] Pipeline execution completed successfully.\n",
      "[2021-04-06 16:48:37,515|causallift.causal_lift|INFO] ### Treatment fraction in train dataset: 0.11198041089345437\n",
      "[2021-04-06 16:48:37,516|causallift.causal_lift|INFO] ### Treatment fraction in test dataset: 0.11197537276562322\n",
      "\n",
      "[Create 2 models for treatment and untreatment and estimate CATE (Conditional Average Treatment Effects)]\n",
      "[2021-04-06 16:48:37,522|causallift.context.flexible_context|INFO] Run pipeline (tags: ['311_fit', '312_bundle_2_models'], SequentialRunner, only_missing: False)\n",
      "[2021-04-06 16:48:37,533|kedro.pipeline.node|INFO] Running node: model_for_treated_fit([args,df_01]) -> [treated__model_dict]\n",
      "[2021-04-06 16:48:37,534|causallift.nodes.model_for_each|INFO] \n",
      "\n",
      "## Model for Treatment = 1.0\n",
      "[16:49:12] WARNING: ../src/learner.cc:541: \n",
      "Parameters: { verbose } might not be used.\n",
      "\n",
      "  This may not be accurate due to some parameters are only used in language bindings but\n",
      "  passed down to XGBoost core.  Or some parameters are not used but slip through this\n",
      "  verification. Please open an issue if you find above cases.\n",
      "\n",
      "\n",
      "[16:49:12] WARNING: ../src/learner.cc:1061: Starting in XGBoost 1.3.0, the default evaluation metric used with the objective 'binary:logistic' was changed from 'error' to 'logloss'. Explicitly set eval_metric if you'd like to restore the old behavior.\n",
      "[2021-04-06 16:49:13,190|causallift.nodes.model_for_each|INFO] ### Best parameters of the model trained using samples with observational Treatment: 1.0 \n",
      " {'objective': 'binary:logistic', 'use_label_encoder': True, 'base_score': 0.5, 'booster': 'gbtree', 'colsample_bylevel': 1, 'colsample_bynode': 1, 'colsample_bytree': 1, 'gamma': 0, 'gpu_id': -1, 'importance_type': 'gain', 'interaction_constraints': '', 'learning_rate': 0.1, 'max_delta_step': 0, 'max_depth': 3, 'min_child_weight': 1, 'missing': None, 'monotone_constraints': '()', 'n_estimators': 100, 'n_jobs': -1, 'num_parallel_tree': 1, 'random_state': 0, 'reg_alpha': 0, 'reg_lambda': 1, 'scale_pos_weight': 1, 'subsample': 1, 'tree_method': 'exact', 'validate_parameters': 1, 'verbosity': None, 'nthread': 4, 'verbose': 0}\n",
      "[2021-04-06 16:49:13,193|causallift.nodes.model_for_each|INFO] ## Feature importances not available.\n",
      "[2021-04-06 16:49:13,269|causallift.nodes.model_for_each|INFO] \n",
      "### Outcome estimated by the model trained using samples with observational Treatment: 1.0\n",
      "[2021-04-06 16:49:13,286|kedro.runner.sequential_runner|INFO] Completed 1 out of 3 tasks\n",
      "[2021-04-06 16:49:13,289|kedro.pipeline.node|INFO] Running node: model_for_untreated_fit([args,df_01]) -> [untreated__model_dict]\n",
      "[2021-04-06 16:49:13,290|causallift.nodes.model_for_each|INFO] \n",
      "\n",
      "## Model for Treatment = 0.0\n",
      "[16:49:49] WARNING: ../src/learner.cc:541: \n",
      "Parameters: { verbose } might not be used.\n",
      "\n",
      "  This may not be accurate due to some parameters are only used in language bindings but\n",
      "  passed down to XGBoost core.  Or some parameters are not used but slip through this\n",
      "  verification. Please open an issue if you find above cases.\n",
      "\n",
      "\n",
      "[16:49:49] WARNING: ../src/learner.cc:1061: Starting in XGBoost 1.3.0, the default evaluation metric used with the objective 'binary:logistic' was changed from 'error' to 'logloss'. Explicitly set eval_metric if you'd like to restore the old behavior.\n",
      "[2021-04-06 16:49:50,700|causallift.nodes.model_for_each|INFO] ### Best parameters of the model trained using samples with observational Treatment: 0.0 \n",
      " {'objective': 'binary:logistic', 'use_label_encoder': True, 'base_score': 0.5, 'booster': 'gbtree', 'colsample_bylevel': 1, 'colsample_bynode': 1, 'colsample_bytree': 1, 'gamma': 0, 'gpu_id': -1, 'importance_type': 'gain', 'interaction_constraints': '', 'learning_rate': 0.1, 'max_delta_step': 0, 'max_depth': 3, 'min_child_weight': 1, 'missing': None, 'monotone_constraints': '()', 'n_estimators': 100, 'n_jobs': -1, 'num_parallel_tree': 1, 'random_state': 0, 'reg_alpha': 0, 'reg_lambda': 1, 'scale_pos_weight': 1, 'subsample': 1, 'tree_method': 'exact', 'validate_parameters': 1, 'verbosity': None, 'nthread': 4, 'verbose': 0}\n",
      "[2021-04-06 16:49:50,701|causallift.nodes.model_for_each|INFO] ## Feature importances not available.\n",
      "[2021-04-06 16:49:50,914|causallift.nodes.model_for_each|INFO] \n",
      "### Outcome estimated by the model trained using samples with observational Treatment: 0.0\n",
      "[2021-04-06 16:49:50,932|kedro.runner.sequential_runner|INFO] Completed 2 out of 3 tasks\n",
      "[2021-04-06 16:49:50,949|kedro.pipeline.node|INFO] Running node: bundle_treated_and_untreated_models([treated__model_dict,untreated__model_dict]) -> [uplift_models_dict]\n",
      "[2021-04-06 16:49:50,957|kedro.runner.sequential_runner|INFO] Completed 3 out of 3 tasks\n",
      "[2021-04-06 16:49:50,958|kedro.runner.sequential_runner|INFO] Pipeline execution completed successfully.\n",
      "[2021-04-06 16:49:50,970|causallift.context.flexible_context|INFO] Run pipeline (tags: ['321_predict_proba'], SequentialRunner, only_missing: False)\n",
      "[2021-04-06 16:49:50,988|kedro.pipeline.node|INFO] Running node: model_for_untreated_predict_proba([args,df_01,uplift_models_dict]) -> [untreated__proba]\n",
      "[2021-04-06 16:49:51,066|kedro.runner.sequential_runner|INFO] Completed 1 out of 2 tasks\n",
      "[2021-04-06 16:49:51,078|kedro.pipeline.node|INFO] Running node: model_for_treated_predict_proba([args,df_01,uplift_models_dict]) -> [treated__proba]\n",
      "[2021-04-06 16:49:51,169|kedro.runner.sequential_runner|INFO] Completed 2 out of 2 tasks\n",
      "[2021-04-06 16:49:51,170|kedro.runner.sequential_runner|INFO] Pipeline execution completed successfully.\n",
      "[2021-04-06 16:49:51,173|causallift.context.flexible_context|INFO] Run pipeline (tags: ['411_compute_cate'], SequentialRunner, only_missing: False)\n",
      "[2021-04-06 16:49:51,181|kedro.pipeline.node|INFO] Running node: compute_cate([treated__proba,untreated__proba]) -> [cate_estimated]\n",
      "[2021-04-06 16:49:51,200|kedro.runner.sequential_runner|INFO] Completed 1 out of 1 tasks\n",
      "[2021-04-06 16:49:51,201|kedro.runner.sequential_runner|INFO] Pipeline execution completed successfully.\n",
      "[2021-04-06 16:49:51,202|causallift.context.flexible_context|INFO] Run pipeline (tags: ['421_add_cate_to_df'], SequentialRunner, only_missing: False)\n",
      "[2021-04-06 16:49:51,212|kedro.pipeline.node|INFO] Running node: add_cate_to_df([args,cate_estimated,df_01,treated__proba,untreated__proba]) -> [df_02]\n",
      "[2021-04-06 16:49:52,170|kedro.runner.sequential_runner|INFO] Completed 1 out of 1 tasks\n",
      "[2021-04-06 16:49:52,170|kedro.runner.sequential_runner|INFO] Pipeline execution completed successfully.\n",
      "\n",
      "[Estimate the effect of recommendation based on the uplift model]\n",
      "[2021-04-06 16:49:52,181|causallift.context.flexible_context|INFO] Run pipeline (tags: ['511_recommend_by_cate'], SequentialRunner, only_missing: False)\n",
      "[2021-04-06 16:49:52,191|kedro.pipeline.node|INFO] Running node: recommend_by_cate([args,df_02,treatment_fractions]) -> [df_03]\n",
      "[2021-04-06 16:49:59,271|kedro.runner.sequential_runner|INFO] Completed 1 out of 1 tasks\n",
      "[2021-04-06 16:49:59,271|kedro.runner.sequential_runner|INFO] Pipeline execution completed successfully.\n",
      "[2021-04-06 16:49:59,588|causallift.context.flexible_context|INFO] Run pipeline (tags: ['521_simulate_recommendation'], SequentialRunner, only_missing: False)\n",
      "[2021-04-06 16:49:59,914|kedro.pipeline.node|INFO] Running node: model_for_treated_simulate_recommendation([args,df_03,uplift_models_dict]) -> [treated__sim_eval_df]\n",
      "[2021-04-06 16:49:59,967|causallift.nodes.model_for_each|INFO] \n",
      "### Simulated outcome for samples with recommended treatment = 1.0:\n",
      "[2021-04-06 16:49:59,980|causallift.nodes.model_for_each|INFO] \n",
      "### Simulated effect for samples with recommended treatment = 1.0:\n",
      "[2021-04-06 16:49:59,988|kedro.runner.sequential_runner|INFO] Completed 1 out of 2 tasks\n",
      "[2021-04-06 16:50:00,320|kedro.pipeline.node|INFO] Running node: model_for_untreated_simulate_recommendation([args,df_03,uplift_models_dict]) -> [untreated__sim_eval_df]\n",
      "[2021-04-06 16:50:00,574|causallift.nodes.model_for_each|INFO] \n",
      "### Simulated outcome for samples with recommended treatment = 0.0:\n",
      "[2021-04-06 16:50:00,588|causallift.nodes.model_for_each|INFO] \n",
      "### Simulated effect for samples with recommended treatment = 0.0:\n",
      "[2021-04-06 16:50:00,596|kedro.runner.sequential_runner|INFO] Completed 2 out of 2 tasks\n",
      "[2021-04-06 16:50:00,597|kedro.runner.sequential_runner|INFO] Pipeline execution completed successfully.\n",
      "[2021-04-06 16:50:00,602|causallift.context.flexible_context|INFO] Run pipeline (tags: ['531_estimate_effect'], SequentialRunner, only_missing: False)\n",
      "[2021-04-06 16:50:00,615|kedro.pipeline.node|INFO] Running node: estimate_effect([args,treated__sim_eval_df,untreated__sim_eval_df]) -> [estimated_effect_df]\n",
      "[2021-04-06 16:50:00,620|causallift.nodes.utils|INFO] \n",
      "## Overall simulated effect of recommendation based on the uplift modeling:\n",
      "[2021-04-06 16:50:00,626|kedro.runner.sequential_runner|INFO] Completed 1 out of 1 tasks\n",
      "[2021-04-06 16:50:00,627|kedro.runner.sequential_runner|INFO] Pipeline execution completed successfully.\n",
      "\n",
      "[Show the estimated effect of recommendation based on the uplift model]\n",
      "\n",
      "AUTO THEFT\n",
      "\n",
      "[Estimate propensity scores for Inverse Probability Weighting.]\n",
      "[2021-04-06 16:50:00,741|causallift.context.flexible_context|INFO] Run pipeline (tags: ['011_bundle_train_and_test_data'], SequentialRunner, only_missing: False)\n",
      "[2021-04-06 16:50:00,751|kedro.pipeline.node|INFO] Running node: bundle_train_and_test_data([args_raw,test_df,train_df]) -> [df_00]\n",
      "[2021-04-06 16:50:00,774|kedro.runner.sequential_runner|INFO] Completed 1 out of 1 tasks\n",
      "[2021-04-06 16:50:00,774|kedro.runner.sequential_runner|INFO] Pipeline execution completed successfully.\n",
      "[2021-04-06 16:50:00,779|causallift.context.flexible_context|INFO] Run pipeline (tags: ['121_prepare_args', '131_treatment_fractions_', '141_initialize_model'], SequentialRunner, only_missing: False)\n",
      "[2021-04-06 16:50:00,791|kedro.pipeline.node|INFO] Running node: treatment_fractions_([args_raw,df_00]) -> [treatment_fractions]\n",
      "[2021-04-06 16:50:00,802|kedro.runner.sequential_runner|INFO] Completed 1 out of 3 tasks\n",
      "[2021-04-06 16:50:00,805|kedro.pipeline.node|INFO] Running node: impute_cols_features([args_raw,df_00]) -> [args_intermediate]\n",
      "[2021-04-06 16:50:00,807|kedro.runner.sequential_runner|INFO] Completed 2 out of 3 tasks\n",
      "[2021-04-06 16:50:00,810|kedro.pipeline.node|INFO] Running node: schedule_propensity_scoring([args_intermediate,df_00]) -> [args]\n",
      "[2021-04-06 16:50:00,812|kedro.runner.sequential_runner|INFO] Completed 3 out of 3 tasks\n",
      "[2021-04-06 16:50:00,813|kedro.runner.sequential_runner|INFO] Pipeline execution completed successfully.\n",
      "[2021-04-06 16:50:00,816|causallift.context.flexible_context|INFO] Run pipeline (tags: ['211_fit_propensity'], SequentialRunner, only_missing: False)\n",
      "[2021-04-06 16:50:00,829|kedro.pipeline.node|INFO] Running node: fit_propensity([args,df_00]) -> [propensity_model]\n",
      "[2021-04-06 16:50:00,838|causallift.nodes.estimate_propensity|INFO] ## Propensity scores will be estimated by logistic regression.\n",
      "[2021-04-06 16:50:00,839|causallift.nodes.estimate_propensity|INFO] ### Parameters for grid search of Logistic regression:\n",
      "{'search_cv': 'sklearn.model_selection.GridSearchCV', 'estimator': 'sklearn.linear_model.LogisticRegression', 'scoring': None, 'cv': 3, 'return_train_score': False, 'n_jobs': -1, 'param_grid': {'random_state': [0], 'C': [0.1, 1, 10], 'class_weight': [None], 'dual': [False], 'fit_intercept': [True], 'intercept_scaling': [1], 'max_iter': [100], 'multi_class': ['ovr'], 'n_jobs': [1], 'penalty': ['l1', 'l2'], 'solver': ['liblinear'], 'tol': [0.0001], 'warm_start': [False]}}\n",
      "[2021-04-06 16:50:03,147|causallift.nodes.estimate_propensity|INFO] ### Best parameter for logistic regression:\n",
      "{'C': 0.1, 'class_weight': None, 'dual': False, 'fit_intercept': True, 'intercept_scaling': 1, 'l1_ratio': None, 'max_iter': 100, 'multi_class': 'ovr', 'n_jobs': 1, 'penalty': 'l1', 'random_state': 0, 'solver': 'liblinear', 'tol': 0.0001, 'verbose': 0, 'warm_start': False}\n",
      "[2021-04-06 16:50:03,148|causallift.nodes.estimate_propensity|INFO] \n",
      "## Coefficients of logistic regression:\n",
      "[2021-04-06 16:50:03,154|kedro.runner.sequential_runner|INFO] Completed 1 out of 1 tasks\n",
      "[2021-04-06 16:50:03,155|kedro.runner.sequential_runner|INFO] Pipeline execution completed successfully.\n",
      "[2021-04-06 16:50:03,156|causallift.context.flexible_context|INFO] Run pipeline (tags: ['221_estimate_propensity'], SequentialRunner, only_missing: False)\n",
      "[2021-04-06 16:50:03,166|kedro.pipeline.node|INFO] Running node: estimate_propensity([args,df_00,propensity_model]) -> [df_01]\n",
      "[2021-04-06 16:50:03,182|causallift.nodes.estimate_propensity|INFO] \n",
      "### Histogram of propensity score for train and test data:\n",
      "[2021-04-06 16:50:03,338|causallift.nodes.estimate_propensity|INFO] \n",
      "### Score Table for logistic regression to calculate propensity score:\n",
      "[2021-04-06 16:50:03,536|causallift.nodes.estimate_propensity|INFO] \n",
      "### Confusion Matrix for Train:\n",
      "[2021-04-06 16:50:03,657|causallift.nodes.estimate_propensity|INFO] \n",
      "### Confusion Matrix for Test:\n",
      "[2021-04-06 16:50:03,729|kedro.runner.sequential_runner|INFO] Completed 1 out of 1 tasks\n",
      "[2021-04-06 16:50:03,730|kedro.runner.sequential_runner|INFO] Pipeline execution completed successfully.\n",
      "[2021-04-06 16:50:03,733|causallift.causal_lift|INFO] ### Treatment fraction in train dataset: 0.11198041089345437\n",
      "[2021-04-06 16:50:03,734|causallift.causal_lift|INFO] ### Treatment fraction in test dataset: 0.11197537276562322\n",
      "\n",
      "[Create 2 models for treatment and untreatment and estimate CATE (Conditional Average Treatment Effects)]\n",
      "[2021-04-06 16:50:03,740|causallift.context.flexible_context|INFO] Run pipeline (tags: ['311_fit', '312_bundle_2_models'], SequentialRunner, only_missing: False)\n",
      "[2021-04-06 16:50:03,750|kedro.pipeline.node|INFO] Running node: model_for_treated_fit([args,df_01]) -> [treated__model_dict]\n",
      "[2021-04-06 16:50:03,751|causallift.nodes.model_for_each|INFO] \n",
      "\n",
      "## Model for Treatment = 1.0\n",
      "[16:50:28] WARNING: ../src/learner.cc:541: \n",
      "Parameters: { verbose } might not be used.\n",
      "\n",
      "  This may not be accurate due to some parameters are only used in language bindings but\n",
      "  passed down to XGBoost core.  Or some parameters are not used but slip through this\n",
      "  verification. Please open an issue if you find above cases.\n",
      "\n",
      "\n",
      "[16:50:28] WARNING: ../src/learner.cc:1061: Starting in XGBoost 1.3.0, the default evaluation metric used with the objective 'binary:logistic' was changed from 'error' to 'logloss'. Explicitly set eval_metric if you'd like to restore the old behavior.\n",
      "[2021-04-06 16:50:28,198|causallift.nodes.model_for_each|INFO] ### Best parameters of the model trained using samples with observational Treatment: 1.0 \n",
      " {'objective': 'binary:logistic', 'use_label_encoder': True, 'base_score': 0.5, 'booster': 'gbtree', 'colsample_bylevel': 1, 'colsample_bynode': 1, 'colsample_bytree': 1, 'gamma': 0, 'gpu_id': -1, 'importance_type': 'gain', 'interaction_constraints': '', 'learning_rate': 0.1, 'max_delta_step': 0, 'max_depth': 3, 'min_child_weight': 1, 'missing': None, 'monotone_constraints': '()', 'n_estimators': 100, 'n_jobs': -1, 'num_parallel_tree': 1, 'random_state': 0, 'reg_alpha': 0, 'reg_lambda': 1, 'scale_pos_weight': 1, 'subsample': 1, 'tree_method': 'exact', 'validate_parameters': 1, 'verbosity': None, 'nthread': 4, 'verbose': 0}\n",
      "[2021-04-06 16:50:28,198|causallift.nodes.model_for_each|INFO] ## Feature importances not available.\n",
      "[2021-04-06 16:50:28,238|causallift.nodes.model_for_each|INFO] \n",
      "### Outcome estimated by the model trained using samples with observational Treatment: 1.0\n",
      "[2021-04-06 16:50:28,255|kedro.runner.sequential_runner|INFO] Completed 1 out of 3 tasks\n",
      "[2021-04-06 16:50:28,258|kedro.pipeline.node|INFO] Running node: model_for_untreated_fit([args,df_01]) -> [untreated__model_dict]\n",
      "[2021-04-06 16:50:28,258|causallift.nodes.model_for_each|INFO] \n",
      "\n",
      "## Model for Treatment = 0.0\n",
      "[16:51:02] WARNING: ../src/learner.cc:541: \n",
      "Parameters: { verbose } might not be used.\n",
      "\n",
      "  This may not be accurate due to some parameters are only used in language bindings but\n",
      "  passed down to XGBoost core.  Or some parameters are not used but slip through this\n",
      "  verification. Please open an issue if you find above cases.\n",
      "\n",
      "\n",
      "[16:51:02] WARNING: ../src/learner.cc:1061: Starting in XGBoost 1.3.0, the default evaluation metric used with the objective 'binary:logistic' was changed from 'error' to 'logloss'. Explicitly set eval_metric if you'd like to restore the old behavior.\n",
      "[2021-04-06 16:51:05,805|causallift.nodes.model_for_each|INFO] ### Best parameters of the model trained using samples with observational Treatment: 0.0 \n",
      " {'objective': 'binary:logistic', 'use_label_encoder': True, 'base_score': 0.5, 'booster': 'gbtree', 'colsample_bylevel': 1, 'colsample_bynode': 1, 'colsample_bytree': 1, 'gamma': 0, 'gpu_id': -1, 'importance_type': 'gain', 'interaction_constraints': '', 'learning_rate': 0.1, 'max_delta_step': 0, 'max_depth': 3, 'min_child_weight': 1, 'missing': None, 'monotone_constraints': '()', 'n_estimators': 100, 'n_jobs': -1, 'num_parallel_tree': 1, 'random_state': 0, 'reg_alpha': 0, 'reg_lambda': 1, 'scale_pos_weight': 1, 'subsample': 1, 'tree_method': 'exact', 'validate_parameters': 1, 'verbosity': None, 'nthread': 4, 'verbose': 0}\n",
      "[2021-04-06 16:51:05,806|causallift.nodes.model_for_each|INFO] ## Feature importances not available.\n",
      "[2021-04-06 16:51:06,067|causallift.nodes.model_for_each|INFO] \n",
      "### Outcome estimated by the model trained using samples with observational Treatment: 0.0\n",
      "[2021-04-06 16:51:06,089|kedro.runner.sequential_runner|INFO] Completed 2 out of 3 tasks\n",
      "[2021-04-06 16:51:06,107|kedro.pipeline.node|INFO] Running node: bundle_treated_and_untreated_models([treated__model_dict,untreated__model_dict]) -> [uplift_models_dict]\n",
      "[2021-04-06 16:51:06,117|kedro.runner.sequential_runner|INFO] Completed 3 out of 3 tasks\n",
      "[2021-04-06 16:51:06,118|kedro.runner.sequential_runner|INFO] Pipeline execution completed successfully.\n",
      "[2021-04-06 16:51:06,131|causallift.context.flexible_context|INFO] Run pipeline (tags: ['321_predict_proba'], SequentialRunner, only_missing: False)\n",
      "[2021-04-06 16:51:06,154|kedro.pipeline.node|INFO] Running node: model_for_untreated_predict_proba([args,df_01,uplift_models_dict]) -> [untreated__proba]\n",
      "[2021-04-06 16:51:06,254|kedro.runner.sequential_runner|INFO] Completed 1 out of 2 tasks\n",
      "[2021-04-06 16:51:06,268|kedro.pipeline.node|INFO] Running node: model_for_treated_predict_proba([args,df_01,uplift_models_dict]) -> [treated__proba]\n",
      "[2021-04-06 16:51:06,409|kedro.runner.sequential_runner|INFO] Completed 2 out of 2 tasks\n",
      "[2021-04-06 16:51:06,410|kedro.runner.sequential_runner|INFO] Pipeline execution completed successfully.\n",
      "[2021-04-06 16:51:06,413|causallift.context.flexible_context|INFO] Run pipeline (tags: ['411_compute_cate'], SequentialRunner, only_missing: False)\n",
      "[2021-04-06 16:51:06,422|kedro.pipeline.node|INFO] Running node: compute_cate([treated__proba,untreated__proba]) -> [cate_estimated]\n",
      "[2021-04-06 16:51:06,443|kedro.runner.sequential_runner|INFO] Completed 1 out of 1 tasks\n",
      "[2021-04-06 16:51:06,444|kedro.runner.sequential_runner|INFO] Pipeline execution completed successfully.\n",
      "[2021-04-06 16:51:06,447|causallift.context.flexible_context|INFO] Run pipeline (tags: ['421_add_cate_to_df'], SequentialRunner, only_missing: False)\n",
      "[2021-04-06 16:51:06,458|kedro.pipeline.node|INFO] Running node: add_cate_to_df([args,cate_estimated,df_01,treated__proba,untreated__proba]) -> [df_02]\n",
      "[2021-04-06 16:51:07,469|kedro.runner.sequential_runner|INFO] Completed 1 out of 1 tasks\n",
      "[2021-04-06 16:51:07,469|kedro.runner.sequential_runner|INFO] Pipeline execution completed successfully.\n",
      "\n",
      "[Estimate the effect of recommendation based on the uplift model]\n",
      "[2021-04-06 16:51:07,480|causallift.context.flexible_context|INFO] Run pipeline (tags: ['511_recommend_by_cate'], SequentialRunner, only_missing: False)\n",
      "[2021-04-06 16:51:07,490|kedro.pipeline.node|INFO] Running node: recommend_by_cate([args,df_02,treatment_fractions]) -> [df_03]\n",
      "[2021-04-06 16:51:14,452|kedro.runner.sequential_runner|INFO] Completed 1 out of 1 tasks\n",
      "[2021-04-06 16:51:14,452|kedro.runner.sequential_runner|INFO] Pipeline execution completed successfully.\n",
      "[2021-04-06 16:51:14,752|causallift.context.flexible_context|INFO] Run pipeline (tags: ['521_simulate_recommendation'], SequentialRunner, only_missing: False)\n",
      "[2021-04-06 16:51:15,069|kedro.pipeline.node|INFO] Running node: model_for_treated_simulate_recommendation([args,df_03,uplift_models_dict]) -> [treated__sim_eval_df]\n",
      "[2021-04-06 16:51:15,240|causallift.nodes.model_for_each|INFO] \n",
      "### Simulated outcome for samples with recommended treatment = 1.0:\n",
      "[2021-04-06 16:51:15,254|causallift.nodes.model_for_each|INFO] \n",
      "### Simulated effect for samples with recommended treatment = 1.0:\n",
      "[2021-04-06 16:51:15,265|kedro.runner.sequential_runner|INFO] Completed 1 out of 2 tasks\n",
      "[2021-04-06 16:51:15,583|kedro.pipeline.node|INFO] Running node: model_for_untreated_simulate_recommendation([args,df_03,uplift_models_dict]) -> [untreated__sim_eval_df]\n",
      "[2021-04-06 16:51:15,994|causallift.nodes.model_for_each|INFO] \n",
      "### Simulated outcome for samples with recommended treatment = 0.0:\n",
      "[2021-04-06 16:51:16,007|causallift.nodes.model_for_each|INFO] \n",
      "### Simulated effect for samples with recommended treatment = 0.0:\n",
      "[2021-04-06 16:51:16,016|kedro.runner.sequential_runner|INFO] Completed 2 out of 2 tasks\n",
      "[2021-04-06 16:51:16,016|kedro.runner.sequential_runner|INFO] Pipeline execution completed successfully.\n",
      "[2021-04-06 16:51:16,021|causallift.context.flexible_context|INFO] Run pipeline (tags: ['531_estimate_effect'], SequentialRunner, only_missing: False)\n",
      "[2021-04-06 16:51:16,035|kedro.pipeline.node|INFO] Running node: estimate_effect([args,treated__sim_eval_df,untreated__sim_eval_df]) -> [estimated_effect_df]\n",
      "[2021-04-06 16:51:16,040|causallift.nodes.utils|INFO] \n",
      "## Overall simulated effect of recommendation based on the uplift modeling:\n",
      "[2021-04-06 16:51:16,048|kedro.runner.sequential_runner|INFO] Completed 1 out of 1 tasks\n",
      "[2021-04-06 16:51:16,048|kedro.runner.sequential_runner|INFO] Pipeline execution completed successfully.\n",
      "\n",
      "[Show the estimated effect of recommendation based on the uplift model]\n",
      "\n",
      "ROBBERY - CARJACKING\n",
      "\n",
      "[Estimate propensity scores for Inverse Probability Weighting.]\n",
      "[2021-04-06 16:51:16,162|causallift.context.flexible_context|INFO] Run pipeline (tags: ['011_bundle_train_and_test_data'], SequentialRunner, only_missing: False)\n",
      "[2021-04-06 16:51:16,172|kedro.pipeline.node|INFO] Running node: bundle_train_and_test_data([args_raw,test_df,train_df]) -> [df_00]\n",
      "[2021-04-06 16:51:16,190|kedro.runner.sequential_runner|INFO] Completed 1 out of 1 tasks\n",
      "[2021-04-06 16:51:16,190|kedro.runner.sequential_runner|INFO] Pipeline execution completed successfully.\n",
      "[2021-04-06 16:51:16,194|causallift.context.flexible_context|INFO] Run pipeline (tags: ['121_prepare_args', '131_treatment_fractions_', '141_initialize_model'], SequentialRunner, only_missing: False)\n",
      "[2021-04-06 16:51:16,203|kedro.pipeline.node|INFO] Running node: treatment_fractions_([args_raw,df_00]) -> [treatment_fractions]\n",
      "[2021-04-06 16:51:16,216|kedro.runner.sequential_runner|INFO] Completed 1 out of 3 tasks\n",
      "[2021-04-06 16:51:16,218|kedro.pipeline.node|INFO] Running node: impute_cols_features([args_raw,df_00]) -> [args_intermediate]\n",
      "[2021-04-06 16:51:16,219|kedro.runner.sequential_runner|INFO] Completed 2 out of 3 tasks\n",
      "[2021-04-06 16:51:16,221|kedro.pipeline.node|INFO] Running node: schedule_propensity_scoring([args_intermediate,df_00]) -> [args]\n",
      "[2021-04-06 16:51:16,223|kedro.runner.sequential_runner|INFO] Completed 3 out of 3 tasks\n",
      "[2021-04-06 16:51:16,223|kedro.runner.sequential_runner|INFO] Pipeline execution completed successfully.\n",
      "[2021-04-06 16:51:16,226|causallift.context.flexible_context|INFO] Run pipeline (tags: ['211_fit_propensity'], SequentialRunner, only_missing: False)\n",
      "[2021-04-06 16:51:16,236|kedro.pipeline.node|INFO] Running node: fit_propensity([args,df_00]) -> [propensity_model]\n",
      "[2021-04-06 16:51:16,245|causallift.nodes.estimate_propensity|INFO] ## Propensity scores will be estimated by logistic regression.\n",
      "[2021-04-06 16:51:16,246|causallift.nodes.estimate_propensity|INFO] ### Parameters for grid search of Logistic regression:\n",
      "{'search_cv': 'sklearn.model_selection.GridSearchCV', 'estimator': 'sklearn.linear_model.LogisticRegression', 'scoring': None, 'cv': 3, 'return_train_score': False, 'n_jobs': -1, 'param_grid': {'random_state': [0], 'C': [0.1, 1, 10], 'class_weight': [None], 'dual': [False], 'fit_intercept': [True], 'intercept_scaling': [1], 'max_iter': [100], 'multi_class': ['ovr'], 'n_jobs': [1], 'penalty': ['l1', 'l2'], 'solver': ['liblinear'], 'tol': [0.0001], 'warm_start': [False]}}\n",
      "[2021-04-06 16:51:19,236|causallift.nodes.estimate_propensity|INFO] ### Best parameter for logistic regression:\n",
      "{'C': 0.1, 'class_weight': None, 'dual': False, 'fit_intercept': True, 'intercept_scaling': 1, 'l1_ratio': None, 'max_iter': 100, 'multi_class': 'ovr', 'n_jobs': 1, 'penalty': 'l1', 'random_state': 0, 'solver': 'liblinear', 'tol': 0.0001, 'verbose': 0, 'warm_start': False}\n",
      "[2021-04-06 16:51:19,237|causallift.nodes.estimate_propensity|INFO] \n",
      "## Coefficients of logistic regression:\n",
      "[2021-04-06 16:51:19,243|kedro.runner.sequential_runner|INFO] Completed 1 out of 1 tasks\n",
      "[2021-04-06 16:51:19,244|kedro.runner.sequential_runner|INFO] Pipeline execution completed successfully.\n",
      "[2021-04-06 16:51:19,245|causallift.context.flexible_context|INFO] Run pipeline (tags: ['221_estimate_propensity'], SequentialRunner, only_missing: False)\n",
      "[2021-04-06 16:51:19,255|kedro.pipeline.node|INFO] Running node: estimate_propensity([args,df_00,propensity_model]) -> [df_01]\n",
      "[2021-04-06 16:51:19,272|causallift.nodes.estimate_propensity|INFO] \n",
      "### Histogram of propensity score for train and test data:\n",
      "[2021-04-06 16:51:19,430|causallift.nodes.estimate_propensity|INFO] \n",
      "### Score Table for logistic regression to calculate propensity score:\n",
      "[2021-04-06 16:51:19,641|causallift.nodes.estimate_propensity|INFO] \n",
      "### Confusion Matrix for Train:\n",
      "[2021-04-06 16:51:19,760|causallift.nodes.estimate_propensity|INFO] \n",
      "### Confusion Matrix for Test:\n",
      "[2021-04-06 16:51:19,834|kedro.runner.sequential_runner|INFO] Completed 1 out of 1 tasks\n",
      "[2021-04-06 16:51:19,835|kedro.runner.sequential_runner|INFO] Pipeline execution completed successfully.\n",
      "[2021-04-06 16:51:19,839|causallift.causal_lift|INFO] ### Treatment fraction in train dataset: 0.11198041089345437\n",
      "[2021-04-06 16:51:19,840|causallift.causal_lift|INFO] ### Treatment fraction in test dataset: 0.11197537276562322\n",
      "\n",
      "[Create 2 models for treatment and untreatment and estimate CATE (Conditional Average Treatment Effects)]\n",
      "[2021-04-06 16:51:19,845|causallift.context.flexible_context|INFO] Run pipeline (tags: ['311_fit', '312_bundle_2_models'], SequentialRunner, only_missing: False)\n",
      "[2021-04-06 16:51:19,855|kedro.pipeline.node|INFO] Running node: model_for_treated_fit([args,df_01]) -> [treated__model_dict]\n",
      "[2021-04-06 16:51:19,856|causallift.nodes.model_for_each|INFO] \n",
      "\n",
      "## Model for Treatment = 1.0\n",
      "[16:51:37] WARNING: ../src/learner.cc:541: \n",
      "Parameters: { verbose } might not be used.\n",
      "\n",
      "  This may not be accurate due to some parameters are only used in language bindings but\n",
      "  passed down to XGBoost core.  Or some parameters are not used but slip through this\n",
      "  verification. Please open an issue if you find above cases.\n",
      "\n",
      "\n",
      "[16:51:37] WARNING: ../src/learner.cc:1061: Starting in XGBoost 1.3.0, the default evaluation metric used with the objective 'binary:logistic' was changed from 'error' to 'logloss'. Explicitly set eval_metric if you'd like to restore the old behavior.\n",
      "[2021-04-06 16:51:42,482|causallift.nodes.model_for_each|INFO] ### Best parameters of the model trained using samples with observational Treatment: 1.0 \n",
      " {'objective': 'binary:logistic', 'use_label_encoder': True, 'base_score': 0.5, 'booster': 'gbtree', 'colsample_bylevel': 1, 'colsample_bynode': 1, 'colsample_bytree': 1, 'gamma': 0, 'gpu_id': -1, 'importance_type': 'gain', 'interaction_constraints': '', 'learning_rate': 0.1, 'max_delta_step': 0, 'max_depth': 3, 'min_child_weight': 1, 'missing': None, 'monotone_constraints': '()', 'n_estimators': 100, 'n_jobs': -1, 'num_parallel_tree': 1, 'random_state': 0, 'reg_alpha': 0, 'reg_lambda': 1, 'scale_pos_weight': 1, 'subsample': 1, 'tree_method': 'exact', 'validate_parameters': 1, 'verbosity': None, 'nthread': 4, 'verbose': 0}\n",
      "[2021-04-06 16:51:42,483|causallift.nodes.model_for_each|INFO] ## Feature importances not available.\n",
      "[2021-04-06 16:51:42,655|causallift.nodes.model_for_each|INFO] \n",
      "### Outcome estimated by the model trained using samples with observational Treatment: 1.0\n",
      "[2021-04-06 16:51:42,674|kedro.runner.sequential_runner|INFO] Completed 1 out of 3 tasks\n",
      "[2021-04-06 16:51:42,676|kedro.pipeline.node|INFO] Running node: model_for_untreated_fit([args,df_01]) -> [untreated__model_dict]\n",
      "[2021-04-06 16:51:42,677|causallift.nodes.model_for_each|INFO] \n",
      "\n",
      "## Model for Treatment = 0.0\n",
      "[16:52:18] WARNING: ../src/learner.cc:541: \n",
      "Parameters: { verbose } might not be used.\n",
      "\n",
      "  This may not be accurate due to some parameters are only used in language bindings but\n",
      "  passed down to XGBoost core.  Or some parameters are not used but slip through this\n",
      "  verification. Please open an issue if you find above cases.\n",
      "\n",
      "\n",
      "[16:52:18] WARNING: ../src/learner.cc:1061: Starting in XGBoost 1.3.0, the default evaluation metric used with the objective 'binary:logistic' was changed from 'error' to 'logloss'. Explicitly set eval_metric if you'd like to restore the old behavior.\n",
      "[2021-04-06 16:52:25,058|causallift.nodes.model_for_each|INFO] ### Best parameters of the model trained using samples with observational Treatment: 0.0 \n",
      " {'objective': 'binary:logistic', 'use_label_encoder': True, 'base_score': 0.5, 'booster': 'gbtree', 'colsample_bylevel': 1, 'colsample_bynode': 1, 'colsample_bytree': 1, 'gamma': 0, 'gpu_id': -1, 'importance_type': 'gain', 'interaction_constraints': '', 'learning_rate': 0.1, 'max_delta_step': 0, 'max_depth': 3, 'min_child_weight': 1, 'missing': None, 'monotone_constraints': '()', 'n_estimators': 100, 'n_jobs': -1, 'num_parallel_tree': 1, 'random_state': 0, 'reg_alpha': 0, 'reg_lambda': 1, 'scale_pos_weight': 1, 'subsample': 1, 'tree_method': 'exact', 'validate_parameters': 1, 'verbosity': None, 'nthread': 4, 'verbose': 0}\n",
      "[2021-04-06 16:52:25,059|causallift.nodes.model_for_each|INFO] ## Feature importances not available.\n",
      "[2021-04-06 16:52:25,429|causallift.nodes.model_for_each|INFO] \n",
      "### Outcome estimated by the model trained using samples with observational Treatment: 0.0\n",
      "[2021-04-06 16:52:25,448|kedro.runner.sequential_runner|INFO] Completed 2 out of 3 tasks\n",
      "[2021-04-06 16:52:25,469|kedro.pipeline.node|INFO] Running node: bundle_treated_and_untreated_models([treated__model_dict,untreated__model_dict]) -> [uplift_models_dict]\n",
      "[2021-04-06 16:52:25,480|kedro.runner.sequential_runner|INFO] Completed 3 out of 3 tasks\n",
      "[2021-04-06 16:52:25,481|kedro.runner.sequential_runner|INFO] Pipeline execution completed successfully.\n",
      "[2021-04-06 16:52:25,495|causallift.context.flexible_context|INFO] Run pipeline (tags: ['321_predict_proba'], SequentialRunner, only_missing: False)\n",
      "[2021-04-06 16:52:25,517|kedro.pipeline.node|INFO] Running node: model_for_untreated_predict_proba([args,df_01,uplift_models_dict]) -> [untreated__proba]\n",
      "[2021-04-06 16:52:25,734|kedro.runner.sequential_runner|INFO] Completed 1 out of 2 tasks\n",
      "[2021-04-06 16:52:25,748|kedro.pipeline.node|INFO] Running node: model_for_treated_predict_proba([args,df_01,uplift_models_dict]) -> [treated__proba]\n",
      "[2021-04-06 16:52:25,987|kedro.runner.sequential_runner|INFO] Completed 2 out of 2 tasks\n",
      "[2021-04-06 16:52:25,989|kedro.runner.sequential_runner|INFO] Pipeline execution completed successfully.\n",
      "[2021-04-06 16:52:25,992|causallift.context.flexible_context|INFO] Run pipeline (tags: ['411_compute_cate'], SequentialRunner, only_missing: False)\n",
      "[2021-04-06 16:52:26,001|kedro.pipeline.node|INFO] Running node: compute_cate([treated__proba,untreated__proba]) -> [cate_estimated]\n",
      "[2021-04-06 16:52:26,022|kedro.runner.sequential_runner|INFO] Completed 1 out of 1 tasks\n",
      "[2021-04-06 16:52:26,023|kedro.runner.sequential_runner|INFO] Pipeline execution completed successfully.\n",
      "[2021-04-06 16:52:26,025|causallift.context.flexible_context|INFO] Run pipeline (tags: ['421_add_cate_to_df'], SequentialRunner, only_missing: False)\n",
      "[2021-04-06 16:52:26,037|kedro.pipeline.node|INFO] Running node: add_cate_to_df([args,cate_estimated,df_01,treated__proba,untreated__proba]) -> [df_02]\n",
      "[2021-04-06 16:52:26,989|kedro.runner.sequential_runner|INFO] Completed 1 out of 1 tasks\n",
      "[2021-04-06 16:52:26,989|kedro.runner.sequential_runner|INFO] Pipeline execution completed successfully.\n",
      "\n",
      "[Estimate the effect of recommendation based on the uplift model]\n",
      "[2021-04-06 16:52:26,999|causallift.context.flexible_context|INFO] Run pipeline (tags: ['511_recommend_by_cate'], SequentialRunner, only_missing: False)\n",
      "[2021-04-06 16:52:27,009|kedro.pipeline.node|INFO] Running node: recommend_by_cate([args,df_02,treatment_fractions]) -> [df_03]\n"
     ]
    },
    {
     "data": {
      "text/plain": "               Weapon  Neighborhood    Season\ncoefficient  0.039977     -0.004087  0.029941",
      "text/html": "<div>\n<style scoped>\n    .dataframe tbody tr th:only-of-type {\n        vertical-align: middle;\n    }\n\n    .dataframe tbody tr th {\n        vertical-align: top;\n    }\n\n    .dataframe thead th {\n        text-align: right;\n    }\n</style>\n<table border=\"1\" class=\"dataframe\">\n  <thead>\n    <tr style=\"text-align: right;\">\n      <th></th>\n      <th>Weapon</th>\n      <th>Neighborhood</th>\n      <th>Season</th>\n    </tr>\n  </thead>\n  <tbody>\n    <tr>\n      <th>coefficient</th>\n      <td>0.039977</td>\n      <td>-0.004087</td>\n      <td>0.029941</td>\n    </tr>\n  </tbody>\n</table>\n</div>"
     },
     "metadata": {},
     "output_type": "display_data"
    },
    {
     "data": {
      "text/plain": "<Figure size 864x576 with 1 Axes>",
      "image/png": "[encoded data removed]"
     },
     "metadata": {},
     "output_type": "display_data"
    },
    {
     "data": {
      "text/plain": "       # samples  # classes  accuracy  precision  recall   f1  roc_auc  \\\ntrain     184184          2  0.888020        0.0     0.0  0.0      0.5   \ntest       78937          2  0.888025        0.0     0.0  0.0      0.5   \n\n       observed CVR  predicted CVR  \ntrain      0.111980            0.0  \ntest       0.111975            0.0  ",
      "text/html": "<div>\n<style scoped>\n    .dataframe tbody tr th:only-of-type {\n        vertical-align: middle;\n    }\n\n    .dataframe tbody tr th {\n        vertical-align: top;\n    }\n\n    .dataframe thead th {\n        text-align: right;\n    }\n</style>\n<table border=\"1\" class=\"dataframe\">\n  <thead>\n    <tr style=\"text-align: right;\">\n      <th></th>\n      <th># samples</th>\n      <th># classes</th>\n      <th>accuracy</th>\n      <th>precision</th>\n      <th>recall</th>\n      <th>f1</th>\n      <th>roc_auc</th>\n      <th>observed CVR</th>\n      <th>predicted CVR</th>\n    </tr>\n  </thead>\n  <tbody>\n    <tr>\n      <th>train</th>\n      <td>184184</td>\n      <td>2</td>\n      <td>0.888020</td>\n      <td>0.0</td>\n      <td>0.0</td>\n      <td>0.0</td>\n      <td>0.5</td>\n      <td>0.111980</td>\n      <td>0.0</td>\n    </tr>\n    <tr>\n      <th>test</th>\n      <td>78937</td>\n      <td>2</td>\n      <td>0.888025</td>\n      <td>0.0</td>\n      <td>0.0</td>\n      <td>0.0</td>\n      <td>0.5</td>\n      <td>0.111975</td>\n      <td>0.0</td>\n    </tr>\n  </tbody>\n</table>\n</div>"
     },
     "metadata": {},
     "output_type": "display_data"
    },
    {
     "data": {
      "text/plain": "        Pred_0  Pred_1\nTrue_0  163559       0\nTrue_1   20625       0",
      "text/html": "<div>\n<style scoped>\n    .dataframe tbody tr th:only-of-type {\n        vertical-align: middle;\n    }\n\n    .dataframe tbody tr th {\n        vertical-align: top;\n    }\n\n    .dataframe thead th {\n        text-align: right;\n    }\n</style>\n<table border=\"1\" class=\"dataframe\">\n  <thead>\n    <tr style=\"text-align: right;\">\n      <th></th>\n      <th>Pred_0</th>\n      <th>Pred_1</th>\n    </tr>\n  </thead>\n  <tbody>\n    <tr>\n      <th>True_0</th>\n      <td>163559</td>\n      <td>0</td>\n    </tr>\n    <tr>\n      <th>True_1</th>\n      <td>20625</td>\n      <td>0</td>\n    </tr>\n  </tbody>\n</table>\n</div>"
     },
     "metadata": {},
     "output_type": "display_data"
    },
    {
     "data": {
      "text/plain": "        Pred_0  Pred_1\nTrue_0   70098       0\nTrue_1    8839       0",
      "text/html": "<div>\n<style scoped>\n    .dataframe tbody tr th:only-of-type {\n        vertical-align: middle;\n    }\n\n    .dataframe tbody tr th {\n        vertical-align: top;\n    }\n\n    .dataframe thead th {\n        text-align: right;\n    }\n</style>\n<table border=\"1\" class=\"dataframe\">\n  <thead>\n    <tr style=\"text-align: right;\">\n      <th></th>\n      <th>Pred_0</th>\n      <th>Pred_1</th>\n    </tr>\n  </thead>\n  <tbody>\n    <tr>\n      <th>True_0</th>\n      <td>70098</td>\n      <td>0</td>\n    </tr>\n    <tr>\n      <th>True_1</th>\n      <td>8839</td>\n      <td>0</td>\n    </tr>\n  </tbody>\n</table>\n</div>"
     },
     "metadata": {},
     "output_type": "display_data"
    },
    {
     "data": {
      "text/plain": "       # samples  # classes  accuracy  precision  recall   f1  roc_auc  \\\ntrain      20625          2  0.988848        0.0     0.0  0.0      0.5   \ntest        8839          2  0.989931        0.0     0.0  0.0      0.5   \n\n       observed CVR  predicted CVR  \ntrain      0.011152            0.0  \ntest       0.010069            0.0  ",
      "text/html": "<div>\n<style scoped>\n    .dataframe tbody tr th:only-of-type {\n        vertical-align: middle;\n    }\n\n    .dataframe tbody tr th {\n        vertical-align: top;\n    }\n\n    .dataframe thead th {\n        text-align: right;\n    }\n</style>\n<table border=\"1\" class=\"dataframe\">\n  <thead>\n    <tr style=\"text-align: right;\">\n      <th></th>\n      <th># samples</th>\n      <th># classes</th>\n      <th>accuracy</th>\n      <th>precision</th>\n      <th>recall</th>\n      <th>f1</th>\n      <th>roc_auc</th>\n      <th>observed CVR</th>\n      <th>predicted CVR</th>\n    </tr>\n  </thead>\n  <tbody>\n    <tr>\n      <th>train</th>\n      <td>20625</td>\n      <td>2</td>\n      <td>0.988848</td>\n      <td>0.0</td>\n      <td>0.0</td>\n      <td>0.0</td>\n      <td>0.5</td>\n      <td>0.011152</td>\n      <td>0.0</td>\n    </tr>\n    <tr>\n      <th>test</th>\n      <td>8839</td>\n      <td>2</td>\n      <td>0.989931</td>\n      <td>0.0</td>\n      <td>0.0</td>\n      <td>0.0</td>\n      <td>0.5</td>\n      <td>0.010069</td>\n      <td>0.0</td>\n    </tr>\n  </tbody>\n</table>\n</div>"
     },
     "metadata": {},
     "output_type": "display_data"
    },
    {
     "data": {
      "text/plain": "       # samples  # classes  accuracy  precision  recall   f1  roc_auc  \\\ntrain     163559          2  0.987534        0.0     0.0  0.0      0.5   \ntest       70098          2  0.986647        0.0     0.0  0.0      0.5   \n\n       observed CVR  predicted CVR  \ntrain      0.012466            0.0  \ntest       0.013353            0.0  ",
      "text/html": "<div>\n<style scoped>\n    .dataframe tbody tr th:only-of-type {\n        vertical-align: middle;\n    }\n\n    .dataframe tbody tr th {\n        vertical-align: top;\n    }\n\n    .dataframe thead th {\n        text-align: right;\n    }\n</style>\n<table border=\"1\" class=\"dataframe\">\n  <thead>\n    <tr style=\"text-align: right;\">\n      <th></th>\n      <th># samples</th>\n      <th># classes</th>\n      <th>accuracy</th>\n      <th>precision</th>\n      <th>recall</th>\n      <th>f1</th>\n      <th>roc_auc</th>\n      <th>observed CVR</th>\n      <th>predicted CVR</th>\n    </tr>\n  </thead>\n  <tbody>\n    <tr>\n      <th>train</th>\n      <td>163559</td>\n      <td>2</td>\n      <td>0.987534</td>\n      <td>0.0</td>\n      <td>0.0</td>\n      <td>0.0</td>\n      <td>0.5</td>\n      <td>0.012466</td>\n      <td>0.0</td>\n    </tr>\n    <tr>\n      <th>test</th>\n      <td>70098</td>\n      <td>2</td>\n      <td>0.986647</td>\n      <td>0.0</td>\n      <td>0.0</td>\n      <td>0.0</td>\n      <td>0.5</td>\n      <td>0.013353</td>\n      <td>0.0</td>\n    </tr>\n  </tbody>\n</table>\n</div>"
     },
     "metadata": {},
     "output_type": "display_data"
    },
    {
     "data": {
      "text/plain": "       # samples  # classes  accuracy  precision  recall   f1  roc_auc  \\\ntrain      20625          2  0.980558        0.0     0.0  0.0      0.5   \ntest        8839          2  0.982917        0.0     0.0  0.0      0.5   \n\n       observed CVR  predicted CVR  \ntrain      0.019442            0.0  \ntest       0.017083            0.0  ",
      "text/html": "<div>\n<style scoped>\n    .dataframe tbody tr th:only-of-type {\n        vertical-align: middle;\n    }\n\n    .dataframe tbody tr th {\n        vertical-align: top;\n    }\n\n    .dataframe thead th {\n        text-align: right;\n    }\n</style>\n<table border=\"1\" class=\"dataframe\">\n  <thead>\n    <tr style=\"text-align: right;\">\n      <th></th>\n      <th># samples</th>\n      <th># classes</th>\n      <th>accuracy</th>\n      <th>precision</th>\n      <th>recall</th>\n      <th>f1</th>\n      <th>roc_auc</th>\n      <th>observed CVR</th>\n      <th>predicted CVR</th>\n    </tr>\n  </thead>\n  <tbody>\n    <tr>\n      <th>train</th>\n      <td>20625</td>\n      <td>2</td>\n      <td>0.980558</td>\n      <td>0.0</td>\n      <td>0.0</td>\n      <td>0.0</td>\n      <td>0.5</td>\n      <td>0.019442</td>\n      <td>0.0</td>\n    </tr>\n    <tr>\n      <th>test</th>\n      <td>8839</td>\n      <td>2</td>\n      <td>0.982917</td>\n      <td>0.0</td>\n      <td>0.0</td>\n      <td>0.0</td>\n      <td>0.5</td>\n      <td>0.017083</td>\n      <td>0.0</td>\n    </tr>\n  </tbody>\n</table>\n</div>"
     },
     "metadata": {},
     "output_type": "display_data"
    },
    {
     "data": {
      "text/plain": "           # samples chosen  observed CVR  # samples recommended  \\\npartition                                                          \ntrain                 20625      0.011152                  20625   \ntest                   8839      0.010069                   8839   \n\n           predicted CVR  pred/obs CVR  \npartition                               \ntrain                0.0           0.0  \ntest                 0.0           0.0  ",
      "text/html": "<div>\n<style scoped>\n    .dataframe tbody tr th:only-of-type {\n        vertical-align: middle;\n    }\n\n    .dataframe tbody tr th {\n        vertical-align: top;\n    }\n\n    .dataframe thead th {\n        text-align: right;\n    }\n</style>\n<table border=\"1\" class=\"dataframe\">\n  <thead>\n    <tr style=\"text-align: right;\">\n      <th></th>\n      <th># samples chosen</th>\n      <th>observed CVR</th>\n      <th># samples recommended</th>\n      <th>predicted CVR</th>\n      <th>pred/obs CVR</th>\n    </tr>\n    <tr>\n      <th>partition</th>\n      <th></th>\n      <th></th>\n      <th></th>\n      <th></th>\n      <th></th>\n    </tr>\n  </thead>\n  <tbody>\n    <tr>\n      <th>train</th>\n      <td>20625</td>\n      <td>0.011152</td>\n      <td>20625</td>\n      <td>0.0</td>\n      <td>0.0</td>\n    </tr>\n    <tr>\n      <th>test</th>\n      <td>8839</td>\n      <td>0.010069</td>\n      <td>8839</td>\n      <td>0.0</td>\n      <td>0.0</td>\n    </tr>\n  </tbody>\n</table>\n</div>"
     },
     "metadata": {},
     "output_type": "display_data"
    },
    {
     "data": {
      "text/plain": "       # samples  # classes  accuracy  precision  recall   f1  roc_auc  \\\ntrain     163559          2  0.988579        0.0     0.0  0.0      0.5   \ntest       70098          2  0.987532        0.0     0.0  0.0      0.5   \n\n       observed CVR  predicted CVR  \ntrain      0.011421            0.0  \ntest       0.012468            0.0  ",
      "text/html": "<div>\n<style scoped>\n    .dataframe tbody tr th:only-of-type {\n        vertical-align: middle;\n    }\n\n    .dataframe tbody tr th {\n        vertical-align: top;\n    }\n\n    .dataframe thead th {\n        text-align: right;\n    }\n</style>\n<table border=\"1\" class=\"dataframe\">\n  <thead>\n    <tr style=\"text-align: right;\">\n      <th></th>\n      <th># samples</th>\n      <th># classes</th>\n      <th>accuracy</th>\n      <th>precision</th>\n      <th>recall</th>\n      <th>f1</th>\n      <th>roc_auc</th>\n      <th>observed CVR</th>\n      <th>predicted CVR</th>\n    </tr>\n  </thead>\n  <tbody>\n    <tr>\n      <th>train</th>\n      <td>163559</td>\n      <td>2</td>\n      <td>0.988579</td>\n      <td>0.0</td>\n      <td>0.0</td>\n      <td>0.0</td>\n      <td>0.5</td>\n      <td>0.011421</td>\n      <td>0.0</td>\n    </tr>\n    <tr>\n      <th>test</th>\n      <td>70098</td>\n      <td>2</td>\n      <td>0.987532</td>\n      <td>0.0</td>\n      <td>0.0</td>\n      <td>0.0</td>\n      <td>0.5</td>\n      <td>0.012468</td>\n      <td>0.0</td>\n    </tr>\n  </tbody>\n</table>\n</div>"
     },
     "metadata": {},
     "output_type": "display_data"
    },
    {
     "data": {
      "text/plain": "           # samples chosen  observed CVR  # samples recommended  \\\npartition                                                          \ntrain                163559      0.012466                 163559   \ntest                  70098      0.013353                  70098   \n\n           predicted CVR  pred/obs CVR  \npartition                               \ntrain                0.0           0.0  \ntest                 0.0           0.0  ",
      "text/html": "<div>\n<style scoped>\n    .dataframe tbody tr th:only-of-type {\n        vertical-align: middle;\n    }\n\n    .dataframe tbody tr th {\n        vertical-align: top;\n    }\n\n    .dataframe thead th {\n        text-align: right;\n    }\n</style>\n<table border=\"1\" class=\"dataframe\">\n  <thead>\n    <tr style=\"text-align: right;\">\n      <th></th>\n      <th># samples chosen</th>\n      <th>observed CVR</th>\n      <th># samples recommended</th>\n      <th>predicted CVR</th>\n      <th>pred/obs CVR</th>\n    </tr>\n    <tr>\n      <th>partition</th>\n      <th></th>\n      <th></th>\n      <th></th>\n      <th></th>\n      <th></th>\n    </tr>\n  </thead>\n  <tbody>\n    <tr>\n      <th>train</th>\n      <td>163559</td>\n      <td>0.012466</td>\n      <td>163559</td>\n      <td>0.0</td>\n      <td>0.0</td>\n    </tr>\n    <tr>\n      <th>test</th>\n      <td>70098</td>\n      <td>0.013353</td>\n      <td>70098</td>\n      <td>0.0</td>\n      <td>0.0</td>\n    </tr>\n  </tbody>\n</table>\n</div>"
     },
     "metadata": {},
     "output_type": "display_data"
    },
    {
     "data": {
      "text/plain": "           # samples  observed CVR  predicted CVR  pred/obs CVR\npartition                                                      \ntrain         184184      0.012319            0.0           0.0\ntest           78937      0.012985            0.0           0.0",
      "text/html": "<div>\n<style scoped>\n    .dataframe tbody tr th:only-of-type {\n        vertical-align: middle;\n    }\n\n    .dataframe tbody tr th {\n        vertical-align: top;\n    }\n\n    .dataframe thead th {\n        text-align: right;\n    }\n</style>\n<table border=\"1\" class=\"dataframe\">\n  <thead>\n    <tr style=\"text-align: right;\">\n      <th></th>\n      <th># samples</th>\n      <th>observed CVR</th>\n      <th>predicted CVR</th>\n      <th>pred/obs CVR</th>\n    </tr>\n    <tr>\n      <th>partition</th>\n      <th></th>\n      <th></th>\n      <th></th>\n      <th></th>\n    </tr>\n  </thead>\n  <tbody>\n    <tr>\n      <th>train</th>\n      <td>184184</td>\n      <td>0.012319</td>\n      <td>0.0</td>\n      <td>0.0</td>\n    </tr>\n    <tr>\n      <th>test</th>\n      <td>78937</td>\n      <td>0.012985</td>\n      <td>0.0</td>\n      <td>0.0</td>\n    </tr>\n  </tbody>\n</table>\n</div>"
     },
     "metadata": {},
     "output_type": "display_data"
    },
    {
     "data": {
      "text/plain": "           # samples  observed CVR  predicted CVR  pred/obs CVR\npartition                                                      \ntrain         184184      0.012319            0.0           0.0\ntest           78937      0.012985            0.0           0.0",
      "text/html": "<div>\n<style scoped>\n    .dataframe tbody tr th:only-of-type {\n        vertical-align: middle;\n    }\n\n    .dataframe tbody tr th {\n        vertical-align: top;\n    }\n\n    .dataframe thead th {\n        text-align: right;\n    }\n</style>\n<table border=\"1\" class=\"dataframe\">\n  <thead>\n    <tr style=\"text-align: right;\">\n      <th></th>\n      <th># samples</th>\n      <th>observed CVR</th>\n      <th>predicted CVR</th>\n      <th>pred/obs CVR</th>\n    </tr>\n    <tr>\n      <th>partition</th>\n      <th></th>\n      <th></th>\n      <th></th>\n      <th></th>\n    </tr>\n  </thead>\n  <tbody>\n    <tr>\n      <th>train</th>\n      <td>184184</td>\n      <td>0.012319</td>\n      <td>0.0</td>\n      <td>0.0</td>\n    </tr>\n    <tr>\n      <th>test</th>\n      <td>78937</td>\n      <td>0.012985</td>\n      <td>0.0</td>\n      <td>0.0</td>\n    </tr>\n  </tbody>\n</table>\n</div>"
     },
     "metadata": {},
     "output_type": "display_data"
    },
    {
     "data": {
      "text/plain": "               Weapon  Neighborhood    Season\ncoefficient  0.039977     -0.004087  0.029941",
      "text/html": "<div>\n<style scoped>\n    .dataframe tbody tr th:only-of-type {\n        vertical-align: middle;\n    }\n\n    .dataframe tbody tr th {\n        vertical-align: top;\n    }\n\n    .dataframe thead th {\n        text-align: right;\n    }\n</style>\n<table border=\"1\" class=\"dataframe\">\n  <thead>\n    <tr style=\"text-align: right;\">\n      <th></th>\n      <th>Weapon</th>\n      <th>Neighborhood</th>\n      <th>Season</th>\n    </tr>\n  </thead>\n  <tbody>\n    <tr>\n      <th>coefficient</th>\n      <td>0.039977</td>\n      <td>-0.004087</td>\n      <td>0.029941</td>\n    </tr>\n  </tbody>\n</table>\n</div>"
     },
     "metadata": {},
     "output_type": "display_data"
    },
    {
     "data": {
      "text/plain": "<Figure size 864x576 with 1 Axes>",
      "image/png": "[encoded data removed]"
     },
     "metadata": {},
     "output_type": "display_data"
    },
    {
     "data": {
      "text/plain": "       # samples  # classes  accuracy  precision  recall   f1  roc_auc  \\\ntrain     184184          2  0.888020        0.0     0.0  0.0      0.5   \ntest       78937          2  0.888025        0.0     0.0  0.0      0.5   \n\n       observed CVR  predicted CVR  \ntrain      0.111980            0.0  \ntest       0.111975            0.0  ",
      "text/html": "<div>\n<style scoped>\n    .dataframe tbody tr th:only-of-type {\n        vertical-align: middle;\n    }\n\n    .dataframe tbody tr th {\n        vertical-align: top;\n    }\n\n    .dataframe thead th {\n        text-align: right;\n    }\n</style>\n<table border=\"1\" class=\"dataframe\">\n  <thead>\n    <tr style=\"text-align: right;\">\n      <th></th>\n      <th># samples</th>\n      <th># classes</th>\n      <th>accuracy</th>\n      <th>precision</th>\n      <th>recall</th>\n      <th>f1</th>\n      <th>roc_auc</th>\n      <th>observed CVR</th>\n      <th>predicted CVR</th>\n    </tr>\n  </thead>\n  <tbody>\n    <tr>\n      <th>train</th>\n      <td>184184</td>\n      <td>2</td>\n      <td>0.888020</td>\n      <td>0.0</td>\n      <td>0.0</td>\n      <td>0.0</td>\n      <td>0.5</td>\n      <td>0.111980</td>\n      <td>0.0</td>\n    </tr>\n    <tr>\n      <th>test</th>\n      <td>78937</td>\n      <td>2</td>\n      <td>0.888025</td>\n      <td>0.0</td>\n      <td>0.0</td>\n      <td>0.0</td>\n      <td>0.5</td>\n      <td>0.111975</td>\n      <td>0.0</td>\n    </tr>\n  </tbody>\n</table>\n</div>"
     },
     "metadata": {},
     "output_type": "display_data"
    },
    {
     "data": {
      "text/plain": "        Pred_0  Pred_1\nTrue_0  163559       0\nTrue_1   20625       0",
      "text/html": "<div>\n<style scoped>\n    .dataframe tbody tr th:only-of-type {\n        vertical-align: middle;\n    }\n\n    .dataframe tbody tr th {\n        vertical-align: top;\n    }\n\n    .dataframe thead th {\n        text-align: right;\n    }\n</style>\n<table border=\"1\" class=\"dataframe\">\n  <thead>\n    <tr style=\"text-align: right;\">\n      <th></th>\n      <th>Pred_0</th>\n      <th>Pred_1</th>\n    </tr>\n  </thead>\n  <tbody>\n    <tr>\n      <th>True_0</th>\n      <td>163559</td>\n      <td>0</td>\n    </tr>\n    <tr>\n      <th>True_1</th>\n      <td>20625</td>\n      <td>0</td>\n    </tr>\n  </tbody>\n</table>\n</div>"
     },
     "metadata": {},
     "output_type": "display_data"
    },
    {
     "data": {
      "text/plain": "        Pred_0  Pred_1\nTrue_0   70098       0\nTrue_1    8839       0",
      "text/html": "<div>\n<style scoped>\n    .dataframe tbody tr th:only-of-type {\n        vertical-align: middle;\n    }\n\n    .dataframe tbody tr th {\n        vertical-align: top;\n    }\n\n    .dataframe thead th {\n        text-align: right;\n    }\n</style>\n<table border=\"1\" class=\"dataframe\">\n  <thead>\n    <tr style=\"text-align: right;\">\n      <th></th>\n      <th>Pred_0</th>\n      <th>Pred_1</th>\n    </tr>\n  </thead>\n  <tbody>\n    <tr>\n      <th>True_0</th>\n      <td>70098</td>\n      <td>0</td>\n    </tr>\n    <tr>\n      <th>True_1</th>\n      <td>8839</td>\n      <td>0</td>\n    </tr>\n  </tbody>\n</table>\n</div>"
     },
     "metadata": {},
     "output_type": "display_data"
    },
    {
     "data": {
      "text/plain": "       # samples  # classes  accuracy  precision  recall   f1  roc_auc  \\\ntrain      20625          2  0.896824        0.0     0.0  0.0      0.5   \ntest        8839          2  0.896368        0.0     0.0  0.0      0.5   \n\n       observed CVR  predicted CVR  \ntrain      0.103176            0.0  \ntest       0.103632            0.0  ",
      "text/html": "<div>\n<style scoped>\n    .dataframe tbody tr th:only-of-type {\n        vertical-align: middle;\n    }\n\n    .dataframe tbody tr th {\n        vertical-align: top;\n    }\n\n    .dataframe thead th {\n        text-align: right;\n    }\n</style>\n<table border=\"1\" class=\"dataframe\">\n  <thead>\n    <tr style=\"text-align: right;\">\n      <th></th>\n      <th># samples</th>\n      <th># classes</th>\n      <th>accuracy</th>\n      <th>precision</th>\n      <th>recall</th>\n      <th>f1</th>\n      <th>roc_auc</th>\n      <th>observed CVR</th>\n      <th>predicted CVR</th>\n    </tr>\n  </thead>\n  <tbody>\n    <tr>\n      <th>train</th>\n      <td>20625</td>\n      <td>2</td>\n      <td>0.896824</td>\n      <td>0.0</td>\n      <td>0.0</td>\n      <td>0.0</td>\n      <td>0.5</td>\n      <td>0.103176</td>\n      <td>0.0</td>\n    </tr>\n    <tr>\n      <th>test</th>\n      <td>8839</td>\n      <td>2</td>\n      <td>0.896368</td>\n      <td>0.0</td>\n      <td>0.0</td>\n      <td>0.0</td>\n      <td>0.5</td>\n      <td>0.103632</td>\n      <td>0.0</td>\n    </tr>\n  </tbody>\n</table>\n</div>"
     },
     "metadata": {},
     "output_type": "display_data"
    },
    {
     "data": {
      "text/plain": "       # samples  # classes  accuracy  precision  recall   f1  roc_auc  \\\ntrain     163559          2  0.902255        0.0     0.0  0.0      0.5   \ntest       70098          2  0.906488        0.0     0.0  0.0      0.5   \n\n       observed CVR  predicted CVR  \ntrain      0.097745            0.0  \ntest       0.093512            0.0  ",
      "text/html": "<div>\n<style scoped>\n    .dataframe tbody tr th:only-of-type {\n        vertical-align: middle;\n    }\n\n    .dataframe tbody tr th {\n        vertical-align: top;\n    }\n\n    .dataframe thead th {\n        text-align: right;\n    }\n</style>\n<table border=\"1\" class=\"dataframe\">\n  <thead>\n    <tr style=\"text-align: right;\">\n      <th></th>\n      <th># samples</th>\n      <th># classes</th>\n      <th>accuracy</th>\n      <th>precision</th>\n      <th>recall</th>\n      <th>f1</th>\n      <th>roc_auc</th>\n      <th>observed CVR</th>\n      <th>predicted CVR</th>\n    </tr>\n  </thead>\n  <tbody>\n    <tr>\n      <th>train</th>\n      <td>163559</td>\n      <td>2</td>\n      <td>0.902255</td>\n      <td>0.0</td>\n      <td>0.0</td>\n      <td>0.0</td>\n      <td>0.5</td>\n      <td>0.097745</td>\n      <td>0.0</td>\n    </tr>\n    <tr>\n      <th>test</th>\n      <td>70098</td>\n      <td>2</td>\n      <td>0.906488</td>\n      <td>0.0</td>\n      <td>0.0</td>\n      <td>0.0</td>\n      <td>0.5</td>\n      <td>0.093512</td>\n      <td>0.0</td>\n    </tr>\n  </tbody>\n</table>\n</div>"
     },
     "metadata": {},
     "output_type": "display_data"
    },
    {
     "data": {
      "text/plain": "       # samples  # classes  accuracy  precision  recall   f1  roc_auc  \\\ntrain      20625          2  0.836315        0.0     0.0  0.0      0.5   \ntest        8839          2  0.841611        0.0     0.0  0.0      0.5   \n\n       observed CVR  predicted CVR  \ntrain      0.163685            0.0  \ntest       0.158389            0.0  ",
      "text/html": "<div>\n<style scoped>\n    .dataframe tbody tr th:only-of-type {\n        vertical-align: middle;\n    }\n\n    .dataframe tbody tr th {\n        vertical-align: top;\n    }\n\n    .dataframe thead th {\n        text-align: right;\n    }\n</style>\n<table border=\"1\" class=\"dataframe\">\n  <thead>\n    <tr style=\"text-align: right;\">\n      <th></th>\n      <th># samples</th>\n      <th># classes</th>\n      <th>accuracy</th>\n      <th>precision</th>\n      <th>recall</th>\n      <th>f1</th>\n      <th>roc_auc</th>\n      <th>observed CVR</th>\n      <th>predicted CVR</th>\n    </tr>\n  </thead>\n  <tbody>\n    <tr>\n      <th>train</th>\n      <td>20625</td>\n      <td>2</td>\n      <td>0.836315</td>\n      <td>0.0</td>\n      <td>0.0</td>\n      <td>0.0</td>\n      <td>0.5</td>\n      <td>0.163685</td>\n      <td>0.0</td>\n    </tr>\n    <tr>\n      <th>test</th>\n      <td>8839</td>\n      <td>2</td>\n      <td>0.841611</td>\n      <td>0.0</td>\n      <td>0.0</td>\n      <td>0.0</td>\n      <td>0.5</td>\n      <td>0.158389</td>\n      <td>0.0</td>\n    </tr>\n  </tbody>\n</table>\n</div>"
     },
     "metadata": {},
     "output_type": "display_data"
    },
    {
     "data": {
      "text/plain": "           # samples chosen  observed CVR  # samples recommended  \\\npartition                                                          \ntrain                 20625      0.103176                  20625   \ntest                   8839      0.103632                   8839   \n\n           predicted CVR  pred/obs CVR  \npartition                               \ntrain                0.0           0.0  \ntest                 0.0           0.0  ",
      "text/html": "<div>\n<style scoped>\n    .dataframe tbody tr th:only-of-type {\n        vertical-align: middle;\n    }\n\n    .dataframe tbody tr th {\n        vertical-align: top;\n    }\n\n    .dataframe thead th {\n        text-align: right;\n    }\n</style>\n<table border=\"1\" class=\"dataframe\">\n  <thead>\n    <tr style=\"text-align: right;\">\n      <th></th>\n      <th># samples chosen</th>\n      <th>observed CVR</th>\n      <th># samples recommended</th>\n      <th>predicted CVR</th>\n      <th>pred/obs CVR</th>\n    </tr>\n    <tr>\n      <th>partition</th>\n      <th></th>\n      <th></th>\n      <th></th>\n      <th></th>\n      <th></th>\n    </tr>\n  </thead>\n  <tbody>\n    <tr>\n      <th>train</th>\n      <td>20625</td>\n      <td>0.103176</td>\n      <td>20625</td>\n      <td>0.0</td>\n      <td>0.0</td>\n    </tr>\n    <tr>\n      <th>test</th>\n      <td>8839</td>\n      <td>0.103632</td>\n      <td>8839</td>\n      <td>0.0</td>\n      <td>0.0</td>\n    </tr>\n  </tbody>\n</table>\n</div>"
     },
     "metadata": {},
     "output_type": "display_data"
    },
    {
     "data": {
      "text/plain": "       # samples  # classes  accuracy  precision  recall   f1  roc_auc  \\\ntrain     163559          2  0.909886        0.0     0.0  0.0      0.5   \ntest       70098          2  0.913393        0.0     0.0  0.0      0.5   \n\n       observed CVR  predicted CVR  \ntrain      0.090114            0.0  \ntest       0.086607            0.0  ",
      "text/html": "<div>\n<style scoped>\n    .dataframe tbody tr th:only-of-type {\n        vertical-align: middle;\n    }\n\n    .dataframe tbody tr th {\n        vertical-align: top;\n    }\n\n    .dataframe thead th {\n        text-align: right;\n    }\n</style>\n<table border=\"1\" class=\"dataframe\">\n  <thead>\n    <tr style=\"text-align: right;\">\n      <th></th>\n      <th># samples</th>\n      <th># classes</th>\n      <th>accuracy</th>\n      <th>precision</th>\n      <th>recall</th>\n      <th>f1</th>\n      <th>roc_auc</th>\n      <th>observed CVR</th>\n      <th>predicted CVR</th>\n    </tr>\n  </thead>\n  <tbody>\n    <tr>\n      <th>train</th>\n      <td>163559</td>\n      <td>2</td>\n      <td>0.909886</td>\n      <td>0.0</td>\n      <td>0.0</td>\n      <td>0.0</td>\n      <td>0.5</td>\n      <td>0.090114</td>\n      <td>0.0</td>\n    </tr>\n    <tr>\n      <th>test</th>\n      <td>70098</td>\n      <td>2</td>\n      <td>0.913393</td>\n      <td>0.0</td>\n      <td>0.0</td>\n      <td>0.0</td>\n      <td>0.5</td>\n      <td>0.086607</td>\n      <td>0.0</td>\n    </tr>\n  </tbody>\n</table>\n</div>"
     },
     "metadata": {},
     "output_type": "display_data"
    },
    {
     "data": {
      "text/plain": "           # samples chosen  observed CVR  # samples recommended  \\\npartition                                                          \ntrain                163559      0.097745                 163559   \ntest                  70098      0.093512                  70098   \n\n           predicted CVR  pred/obs CVR  \npartition                               \ntrain                0.0           0.0  \ntest                 0.0           0.0  ",
      "text/html": "<div>\n<style scoped>\n    .dataframe tbody tr th:only-of-type {\n        vertical-align: middle;\n    }\n\n    .dataframe tbody tr th {\n        vertical-align: top;\n    }\n\n    .dataframe thead th {\n        text-align: right;\n    }\n</style>\n<table border=\"1\" class=\"dataframe\">\n  <thead>\n    <tr style=\"text-align: right;\">\n      <th></th>\n      <th># samples chosen</th>\n      <th>observed CVR</th>\n      <th># samples recommended</th>\n      <th>predicted CVR</th>\n      <th>pred/obs CVR</th>\n    </tr>\n    <tr>\n      <th>partition</th>\n      <th></th>\n      <th></th>\n      <th></th>\n      <th></th>\n      <th></th>\n    </tr>\n  </thead>\n  <tbody>\n    <tr>\n      <th>train</th>\n      <td>163559</td>\n      <td>0.097745</td>\n      <td>163559</td>\n      <td>0.0</td>\n      <td>0.0</td>\n    </tr>\n    <tr>\n      <th>test</th>\n      <td>70098</td>\n      <td>0.093512</td>\n      <td>70098</td>\n      <td>0.0</td>\n      <td>0.0</td>\n    </tr>\n  </tbody>\n</table>\n</div>"
     },
     "metadata": {},
     "output_type": "display_data"
    },
    {
     "data": {
      "text/plain": "           # samples  observed CVR  predicted CVR  pred/obs CVR\npartition                                                      \ntrain         184184      0.098353            0.0           0.0\ntest           78937      0.094645            0.0           0.0",
      "text/html": "<div>\n<style scoped>\n    .dataframe tbody tr th:only-of-type {\n        vertical-align: middle;\n    }\n\n    .dataframe tbody tr th {\n        vertical-align: top;\n    }\n\n    .dataframe thead th {\n        text-align: right;\n    }\n</style>\n<table border=\"1\" class=\"dataframe\">\n  <thead>\n    <tr style=\"text-align: right;\">\n      <th></th>\n      <th># samples</th>\n      <th>observed CVR</th>\n      <th>predicted CVR</th>\n      <th>pred/obs CVR</th>\n    </tr>\n    <tr>\n      <th>partition</th>\n      <th></th>\n      <th></th>\n      <th></th>\n      <th></th>\n    </tr>\n  </thead>\n  <tbody>\n    <tr>\n      <th>train</th>\n      <td>184184</td>\n      <td>0.098353</td>\n      <td>0.0</td>\n      <td>0.0</td>\n    </tr>\n    <tr>\n      <th>test</th>\n      <td>78937</td>\n      <td>0.094645</td>\n      <td>0.0</td>\n      <td>0.0</td>\n    </tr>\n  </tbody>\n</table>\n</div>"
     },
     "metadata": {},
     "output_type": "display_data"
    },
    {
     "data": {
      "text/plain": "           # samples  observed CVR  predicted CVR  pred/obs CVR\npartition                                                      \ntrain         184184      0.098353            0.0           0.0\ntest           78937      0.094645            0.0           0.0",
      "text/html": "<div>\n<style scoped>\n    .dataframe tbody tr th:only-of-type {\n        vertical-align: middle;\n    }\n\n    .dataframe tbody tr th {\n        vertical-align: top;\n    }\n\n    .dataframe thead th {\n        text-align: right;\n    }\n</style>\n<table border=\"1\" class=\"dataframe\">\n  <thead>\n    <tr style=\"text-align: right;\">\n      <th></th>\n      <th># samples</th>\n      <th>observed CVR</th>\n      <th>predicted CVR</th>\n      <th>pred/obs CVR</th>\n    </tr>\n    <tr>\n      <th>partition</th>\n      <th></th>\n      <th></th>\n      <th></th>\n      <th></th>\n    </tr>\n  </thead>\n  <tbody>\n    <tr>\n      <th>train</th>\n      <td>184184</td>\n      <td>0.098353</td>\n      <td>0.0</td>\n      <td>0.0</td>\n    </tr>\n    <tr>\n      <th>test</th>\n      <td>78937</td>\n      <td>0.094645</td>\n      <td>0.0</td>\n      <td>0.0</td>\n    </tr>\n  </tbody>\n</table>\n</div>"
     },
     "metadata": {},
     "output_type": "display_data"
    },
    {
     "data": {
      "text/plain": "               Weapon  Neighborhood    Season\ncoefficient  0.039977     -0.004087  0.029941",
      "text/html": "<div>\n<style scoped>\n    .dataframe tbody tr th:only-of-type {\n        vertical-align: middle;\n    }\n\n    .dataframe tbody tr th {\n        vertical-align: top;\n    }\n\n    .dataframe thead th {\n        text-align: right;\n    }\n</style>\n<table border=\"1\" class=\"dataframe\">\n  <thead>\n    <tr style=\"text-align: right;\">\n      <th></th>\n      <th>Weapon</th>\n      <th>Neighborhood</th>\n      <th>Season</th>\n    </tr>\n  </thead>\n  <tbody>\n    <tr>\n      <th>coefficient</th>\n      <td>0.039977</td>\n      <td>-0.004087</td>\n      <td>0.029941</td>\n    </tr>\n  </tbody>\n</table>\n</div>"
     },
     "metadata": {},
     "output_type": "display_data"
    },
    {
     "data": {
      "text/plain": "<Figure size 864x576 with 1 Axes>",
      "image/png": "[encoded data removed]"
     },
     "metadata": {},
     "output_type": "display_data"
    },
    {
     "data": {
      "text/plain": "       # samples  # classes  accuracy  precision  recall   f1  roc_auc  \\\ntrain     184184          2  0.888020        0.0     0.0  0.0      0.5   \ntest       78937          2  0.888025        0.0     0.0  0.0      0.5   \n\n       observed CVR  predicted CVR  \ntrain      0.111980            0.0  \ntest       0.111975            0.0  ",
      "text/html": "<div>\n<style scoped>\n    .dataframe tbody tr th:only-of-type {\n        vertical-align: middle;\n    }\n\n    .dataframe tbody tr th {\n        vertical-align: top;\n    }\n\n    .dataframe thead th {\n        text-align: right;\n    }\n</style>\n<table border=\"1\" class=\"dataframe\">\n  <thead>\n    <tr style=\"text-align: right;\">\n      <th></th>\n      <th># samples</th>\n      <th># classes</th>\n      <th>accuracy</th>\n      <th>precision</th>\n      <th>recall</th>\n      <th>f1</th>\n      <th>roc_auc</th>\n      <th>observed CVR</th>\n      <th>predicted CVR</th>\n    </tr>\n  </thead>\n  <tbody>\n    <tr>\n      <th>train</th>\n      <td>184184</td>\n      <td>2</td>\n      <td>0.888020</td>\n      <td>0.0</td>\n      <td>0.0</td>\n      <td>0.0</td>\n      <td>0.5</td>\n      <td>0.111980</td>\n      <td>0.0</td>\n    </tr>\n    <tr>\n      <th>test</th>\n      <td>78937</td>\n      <td>2</td>\n      <td>0.888025</td>\n      <td>0.0</td>\n      <td>0.0</td>\n      <td>0.0</td>\n      <td>0.5</td>\n      <td>0.111975</td>\n      <td>0.0</td>\n    </tr>\n  </tbody>\n</table>\n</div>"
     },
     "metadata": {},
     "output_type": "display_data"
    },
    {
     "data": {
      "text/plain": "        Pred_0  Pred_1\nTrue_0  163559       0\nTrue_1   20625       0",
      "text/html": "<div>\n<style scoped>\n    .dataframe tbody tr th:only-of-type {\n        vertical-align: middle;\n    }\n\n    .dataframe tbody tr th {\n        vertical-align: top;\n    }\n\n    .dataframe thead th {\n        text-align: right;\n    }\n</style>\n<table border=\"1\" class=\"dataframe\">\n  <thead>\n    <tr style=\"text-align: right;\">\n      <th></th>\n      <th>Pred_0</th>\n      <th>Pred_1</th>\n    </tr>\n  </thead>\n  <tbody>\n    <tr>\n      <th>True_0</th>\n      <td>163559</td>\n      <td>0</td>\n    </tr>\n    <tr>\n      <th>True_1</th>\n      <td>20625</td>\n      <td>0</td>\n    </tr>\n  </tbody>\n</table>\n</div>"
     },
     "metadata": {},
     "output_type": "display_data"
    },
    {
     "data": {
      "text/plain": "        Pred_0  Pred_1\nTrue_0   70098       0\nTrue_1    8839       0",
      "text/html": "<div>\n<style scoped>\n    .dataframe tbody tr th:only-of-type {\n        vertical-align: middle;\n    }\n\n    .dataframe tbody tr th {\n        vertical-align: top;\n    }\n\n    .dataframe thead th {\n        text-align: right;\n    }\n</style>\n<table border=\"1\" class=\"dataframe\">\n  <thead>\n    <tr style=\"text-align: right;\">\n      <th></th>\n      <th>Pred_0</th>\n      <th>Pred_1</th>\n    </tr>\n  </thead>\n  <tbody>\n    <tr>\n      <th>True_0</th>\n      <td>70098</td>\n      <td>0</td>\n    </tr>\n    <tr>\n      <th>True_1</th>\n      <td>8839</td>\n      <td>0</td>\n    </tr>\n  </tbody>\n</table>\n</div>"
     },
     "metadata": {},
     "output_type": "display_data"
    },
    {
     "data": {
      "text/plain": "       # samples  # classes  accuracy  precision  recall   f1  roc_auc  \\\ntrain      20625          2  0.994133        0.0     0.0  0.0      0.5   \ntest        8839          2  0.993325        0.0     0.0  0.0      0.5   \n\n       observed CVR  predicted CVR  \ntrain      0.005867            0.0  \ntest       0.006675            0.0  ",
      "text/html": "<div>\n<style scoped>\n    .dataframe tbody tr th:only-of-type {\n        vertical-align: middle;\n    }\n\n    .dataframe tbody tr th {\n        vertical-align: top;\n    }\n\n    .dataframe thead th {\n        text-align: right;\n    }\n</style>\n<table border=\"1\" class=\"dataframe\">\n  <thead>\n    <tr style=\"text-align: right;\">\n      <th></th>\n      <th># samples</th>\n      <th># classes</th>\n      <th>accuracy</th>\n      <th>precision</th>\n      <th>recall</th>\n      <th>f1</th>\n      <th>roc_auc</th>\n      <th>observed CVR</th>\n      <th>predicted CVR</th>\n    </tr>\n  </thead>\n  <tbody>\n    <tr>\n      <th>train</th>\n      <td>20625</td>\n      <td>2</td>\n      <td>0.994133</td>\n      <td>0.0</td>\n      <td>0.0</td>\n      <td>0.0</td>\n      <td>0.5</td>\n      <td>0.005867</td>\n      <td>0.0</td>\n    </tr>\n    <tr>\n      <th>test</th>\n      <td>8839</td>\n      <td>2</td>\n      <td>0.993325</td>\n      <td>0.0</td>\n      <td>0.0</td>\n      <td>0.0</td>\n      <td>0.5</td>\n      <td>0.006675</td>\n      <td>0.0</td>\n    </tr>\n  </tbody>\n</table>\n</div>"
     },
     "metadata": {},
     "output_type": "display_data"
    },
    {
     "data": {
      "text/plain": "       # samples  # classes  accuracy  precision  recall   f1  roc_auc  \\\ntrain     163559          2  0.994974        0.0     0.0  0.0      0.5   \ntest       70098          2  0.994622        0.0     0.0  0.0      0.5   \n\n       observed CVR  predicted CVR  \ntrain      0.005026            0.0  \ntest       0.005378            0.0  ",
      "text/html": "<div>\n<style scoped>\n    .dataframe tbody tr th:only-of-type {\n        vertical-align: middle;\n    }\n\n    .dataframe tbody tr th {\n        vertical-align: top;\n    }\n\n    .dataframe thead th {\n        text-align: right;\n    }\n</style>\n<table border=\"1\" class=\"dataframe\">\n  <thead>\n    <tr style=\"text-align: right;\">\n      <th></th>\n      <th># samples</th>\n      <th># classes</th>\n      <th>accuracy</th>\n      <th>precision</th>\n      <th>recall</th>\n      <th>f1</th>\n      <th>roc_auc</th>\n      <th>observed CVR</th>\n      <th>predicted CVR</th>\n    </tr>\n  </thead>\n  <tbody>\n    <tr>\n      <th>train</th>\n      <td>163559</td>\n      <td>2</td>\n      <td>0.994974</td>\n      <td>0.0</td>\n      <td>0.0</td>\n      <td>0.0</td>\n      <td>0.5</td>\n      <td>0.005026</td>\n      <td>0.0</td>\n    </tr>\n    <tr>\n      <th>test</th>\n      <td>70098</td>\n      <td>2</td>\n      <td>0.994622</td>\n      <td>0.0</td>\n      <td>0.0</td>\n      <td>0.0</td>\n      <td>0.5</td>\n      <td>0.005378</td>\n      <td>0.0</td>\n    </tr>\n  </tbody>\n</table>\n</div>"
     },
     "metadata": {},
     "output_type": "display_data"
    },
    {
     "ename": "KeyboardInterrupt",
     "evalue": "",
     "output_type": "error",
     "traceback": [
      "\u001B[0;31m---------------------------------------------------------------------------\u001B[0m",
      "\u001B[0;31mKeyboardInterrupt\u001B[0m                         Traceback (most recent call last)",
      "\u001B[0;32m<ipython-input-107-bbdd86f758bd>\u001B[0m in \u001B[0;36m<module>\u001B[0;34m\u001B[0m\n\u001B[1;32m     13\u001B[0m \u001B[0;34m\u001B[0m\u001B[0m\n\u001B[1;32m     14\u001B[0m     \u001B[0mprint\u001B[0m\u001B[0;34m(\u001B[0m\u001B[0;34m'\\n[Estimate the effect of recommendation based on the uplift model]'\u001B[0m\u001B[0;34m)\u001B[0m\u001B[0;34m\u001B[0m\u001B[0;34m\u001B[0m\u001B[0m\n\u001B[0;32m---> 15\u001B[0;31m     \u001B[0mestimated_effect_df\u001B[0m \u001B[0;34m=\u001B[0m \u001B[0mcl\u001B[0m\u001B[0;34m.\u001B[0m\u001B[0mestimate_recommendation_impact\u001B[0m\u001B[0;34m(\u001B[0m\u001B[0;34m)\u001B[0m\u001B[0;34m\u001B[0m\u001B[0;34m\u001B[0m\u001B[0m\n\u001B[0m\u001B[1;32m     16\u001B[0m \u001B[0;34m\u001B[0m\u001B[0m\n\u001B[1;32m     17\u001B[0m     \u001B[0mprint\u001B[0m\u001B[0;34m(\u001B[0m\u001B[0;34m'\\n[Show the estimated effect of recommendation based on the uplift model]'\u001B[0m\u001B[0;34m)\u001B[0m\u001B[0;34m\u001B[0m\u001B[0;34m\u001B[0m\u001B[0m\n",
      "\u001B[0;32m~/Desktop/git/Dazed-Confusion-Matrix/venv/lib/python3.7/site-packages/causallift/causal_lift.py\u001B[0m in \u001B[0;36mestimate_recommendation_impact\u001B[0;34m(self, cate_estimated, treatment_fraction_train, treatment_fraction_test, verbose)\u001B[0m\n\u001B[1;32m    719\u001B[0m         \u001B[0;32mif\u001B[0m \u001B[0mself\u001B[0m\u001B[0;34m.\u001B[0m\u001B[0mrunner\u001B[0m\u001B[0;34m:\u001B[0m\u001B[0;34m\u001B[0m\u001B[0;34m\u001B[0m\u001B[0m\n\u001B[1;32m    720\u001B[0m             \u001B[0;31m# self.kedro_context.catalog.save('args', self.args)\u001B[0m\u001B[0;34m\u001B[0m\u001B[0;34m\u001B[0m\u001B[0;34m\u001B[0m\u001B[0m\n\u001B[0;32m--> 721\u001B[0;31m             \u001B[0mself\u001B[0m\u001B[0;34m.\u001B[0m\u001B[0mkedro_context\u001B[0m\u001B[0;34m.\u001B[0m\u001B[0mrun\u001B[0m\u001B[0;34m(\u001B[0m\u001B[0mtags\u001B[0m\u001B[0;34m=\u001B[0m\u001B[0;34m[\u001B[0m\u001B[0;34m\"511_recommend_by_cate\"\u001B[0m\u001B[0;34m]\u001B[0m\u001B[0;34m)\u001B[0m\u001B[0;34m\u001B[0m\u001B[0;34m\u001B[0m\u001B[0m\n\u001B[0m\u001B[1;32m    722\u001B[0m             \u001B[0mself\u001B[0m\u001B[0;34m.\u001B[0m\u001B[0mdf\u001B[0m \u001B[0;34m=\u001B[0m \u001B[0mself\u001B[0m\u001B[0;34m.\u001B[0m\u001B[0mkedro_context\u001B[0m\u001B[0;34m.\u001B[0m\u001B[0mcatalog\u001B[0m\u001B[0;34m.\u001B[0m\u001B[0mload\u001B[0m\u001B[0;34m(\u001B[0m\u001B[0;34m\"df_03\"\u001B[0m\u001B[0;34m)\u001B[0m\u001B[0;34m\u001B[0m\u001B[0;34m\u001B[0m\u001B[0m\n\u001B[1;32m    723\u001B[0m \u001B[0;34m\u001B[0m\u001B[0m\n",
      "\u001B[0;32m~/Desktop/git/Dazed-Confusion-Matrix/venv/lib/python3.7/site-packages/causallift/context/flexible_context.py\u001B[0m in \u001B[0;36mrun\u001B[0;34m(self, tags, runner, node_names, only_missing)\u001B[0m\n\u001B[1;32m    177\u001B[0m         )\n\u001B[1;32m    178\u001B[0m         return super().run(\n\u001B[0;32m--> 179\u001B[0;31m             \u001B[0mtags\u001B[0m\u001B[0;34m=\u001B[0m\u001B[0mtags\u001B[0m\u001B[0;34m,\u001B[0m \u001B[0mrunner\u001B[0m\u001B[0;34m=\u001B[0m\u001B[0mrunner\u001B[0m\u001B[0;34m,\u001B[0m \u001B[0mnode_names\u001B[0m\u001B[0;34m=\u001B[0m\u001B[0mnode_names\u001B[0m\u001B[0;34m,\u001B[0m \u001B[0monly_missing\u001B[0m\u001B[0;34m=\u001B[0m\u001B[0monly_missing\u001B[0m\u001B[0;34m\u001B[0m\u001B[0;34m\u001B[0m\u001B[0m\n\u001B[0m\u001B[1;32m    180\u001B[0m         )\n",
      "\u001B[0;32m~/Desktop/git/Dazed-Confusion-Matrix/venv/lib/python3.7/site-packages/causallift/context/flexible_context.py\u001B[0m in \u001B[0;36mrun\u001B[0;34m(self, **kwargs)\u001B[0m\n\u001B[1;32m    139\u001B[0m     ):\n\u001B[1;32m    140\u001B[0m         \u001B[0;31m# type: (...) -> Dict[str, Any]\u001B[0m\u001B[0;34m\u001B[0m\u001B[0;34m\u001B[0m\u001B[0;34m\u001B[0m\u001B[0m\n\u001B[0;32m--> 141\u001B[0;31m         \u001B[0md\u001B[0m \u001B[0;34m=\u001B[0m \u001B[0msuper\u001B[0m\u001B[0;34m(\u001B[0m\u001B[0;34m)\u001B[0m\u001B[0;34m.\u001B[0m\u001B[0mrun\u001B[0m\u001B[0;34m(\u001B[0m\u001B[0;34m**\u001B[0m\u001B[0mkwargs\u001B[0m\u001B[0;34m)\u001B[0m\u001B[0;34m\u001B[0m\u001B[0;34m\u001B[0m\u001B[0m\n\u001B[0m\u001B[1;32m    142\u001B[0m         \u001B[0mself\u001B[0m\u001B[0;34m.\u001B[0m\u001B[0mcatalog\u001B[0m\u001B[0;34m.\u001B[0m\u001B[0madd_feed_dict\u001B[0m\u001B[0;34m(\u001B[0m\u001B[0md\u001B[0m\u001B[0;34m,\u001B[0m \u001B[0mreplace\u001B[0m\u001B[0;34m=\u001B[0m\u001B[0;32mTrue\u001B[0m\u001B[0;34m)\u001B[0m\u001B[0;34m\u001B[0m\u001B[0;34m\u001B[0m\u001B[0m\n\u001B[1;32m    143\u001B[0m         \u001B[0;32mreturn\u001B[0m \u001B[0md\u001B[0m\u001B[0;34m\u001B[0m\u001B[0;34m\u001B[0m\u001B[0m\n",
      "\u001B[0;32m~/Desktop/git/Dazed-Confusion-Matrix/venv/lib/python3.7/site-packages/causallift/context/flexible_context.py\u001B[0m in \u001B[0;36mrun\u001B[0;34m(self, runner, **kwargs)\u001B[0m\n\u001B[1;32m    129\u001B[0m                 \u001B[0mParallelRunner\u001B[0m\u001B[0;34m(\u001B[0m\u001B[0;34m)\u001B[0m \u001B[0;32mif\u001B[0m \u001B[0mrunner\u001B[0m \u001B[0;34m==\u001B[0m \u001B[0;34m\"ParallelRunner\"\u001B[0m \u001B[0;32melse\u001B[0m \u001B[0mSequentialRunner\u001B[0m\u001B[0;34m(\u001B[0m\u001B[0;34m)\u001B[0m\u001B[0;34m\u001B[0m\u001B[0;34m\u001B[0m\u001B[0m\n\u001B[1;32m    130\u001B[0m             )\n\u001B[0;32m--> 131\u001B[0;31m         \u001B[0;32mreturn\u001B[0m \u001B[0msuper\u001B[0m\u001B[0;34m(\u001B[0m\u001B[0;34m)\u001B[0m\u001B[0;34m.\u001B[0m\u001B[0mrun\u001B[0m\u001B[0;34m(\u001B[0m\u001B[0mrunner\u001B[0m\u001B[0;34m=\u001B[0m\u001B[0mrunner\u001B[0m\u001B[0;34m,\u001B[0m \u001B[0;34m**\u001B[0m\u001B[0mkwargs\u001B[0m\u001B[0;34m)\u001B[0m\u001B[0;34m\u001B[0m\u001B[0;34m\u001B[0m\u001B[0m\n\u001B[0m\u001B[1;32m    132\u001B[0m \u001B[0;34m\u001B[0m\u001B[0m\n\u001B[1;32m    133\u001B[0m \u001B[0;34m\u001B[0m\u001B[0m\n",
      "\u001B[0;32m~/Desktop/git/Dazed-Confusion-Matrix/venv/lib/python3.7/site-packages/causallift/context/flexible_context.py\u001B[0m in \u001B[0;36mrun\u001B[0;34m(self, tags, runner, node_names, only_missing)\u001B[0m\n\u001B[1;32m    104\u001B[0m         \u001B[0;32mif\u001B[0m \u001B[0monly_missing\u001B[0m \u001B[0;32mand\u001B[0m \u001B[0m_skippable\u001B[0m\u001B[0;34m(\u001B[0m\u001B[0mself\u001B[0m\u001B[0;34m.\u001B[0m\u001B[0mcatalog\u001B[0m\u001B[0;34m)\u001B[0m\u001B[0;34m:\u001B[0m\u001B[0;34m\u001B[0m\u001B[0;34m\u001B[0m\u001B[0m\n\u001B[1;32m    105\u001B[0m             \u001B[0;32mreturn\u001B[0m \u001B[0mrunner\u001B[0m\u001B[0;34m.\u001B[0m\u001B[0mrun_only_missing\u001B[0m\u001B[0;34m(\u001B[0m\u001B[0mpipeline\u001B[0m\u001B[0;34m,\u001B[0m \u001B[0mself\u001B[0m\u001B[0;34m.\u001B[0m\u001B[0mcatalog\u001B[0m\u001B[0;34m)\u001B[0m\u001B[0;34m\u001B[0m\u001B[0;34m\u001B[0m\u001B[0m\n\u001B[0;32m--> 106\u001B[0;31m         \u001B[0;32mreturn\u001B[0m \u001B[0mrunner\u001B[0m\u001B[0;34m.\u001B[0m\u001B[0mrun\u001B[0m\u001B[0;34m(\u001B[0m\u001B[0mpipeline\u001B[0m\u001B[0;34m,\u001B[0m \u001B[0mself\u001B[0m\u001B[0;34m.\u001B[0m\u001B[0mcatalog\u001B[0m\u001B[0;34m)\u001B[0m\u001B[0;34m\u001B[0m\u001B[0;34m\u001B[0m\u001B[0m\n\u001B[0m\u001B[1;32m    107\u001B[0m \u001B[0;34m\u001B[0m\u001B[0m\n\u001B[1;32m    108\u001B[0m \u001B[0;34m\u001B[0m\u001B[0m\n",
      "\u001B[0;32m~/Desktop/git/Dazed-Confusion-Matrix/venv/lib/python3.7/site-packages/kedro/runner/runner.py\u001B[0m in \u001B[0;36mrun\u001B[0;34m(self, pipeline, catalog, run_id)\u001B[0m\n\u001B[1;32m     98\u001B[0m                 \u001B[0;34m\"Asynchronous mode is enabled for loading and saving data\"\u001B[0m\u001B[0;34m\u001B[0m\u001B[0;34m\u001B[0m\u001B[0m\n\u001B[1;32m     99\u001B[0m             )\n\u001B[0;32m--> 100\u001B[0;31m         \u001B[0mself\u001B[0m\u001B[0;34m.\u001B[0m\u001B[0m_run\u001B[0m\u001B[0;34m(\u001B[0m\u001B[0mpipeline\u001B[0m\u001B[0;34m,\u001B[0m \u001B[0mcatalog\u001B[0m\u001B[0;34m,\u001B[0m \u001B[0mrun_id\u001B[0m\u001B[0;34m)\u001B[0m\u001B[0;34m\u001B[0m\u001B[0;34m\u001B[0m\u001B[0m\n\u001B[0m\u001B[1;32m    101\u001B[0m \u001B[0;34m\u001B[0m\u001B[0m\n\u001B[1;32m    102\u001B[0m         \u001B[0mself\u001B[0m\u001B[0;34m.\u001B[0m\u001B[0m_logger\u001B[0m\u001B[0;34m.\u001B[0m\u001B[0minfo\u001B[0m\u001B[0;34m(\u001B[0m\u001B[0;34m\"Pipeline execution completed successfully.\"\u001B[0m\u001B[0;34m)\u001B[0m\u001B[0;34m\u001B[0m\u001B[0;34m\u001B[0m\u001B[0m\n",
      "\u001B[0;32m~/Desktop/git/Dazed-Confusion-Matrix/venv/lib/python3.7/site-packages/kedro/runner/sequential_runner.py\u001B[0m in \u001B[0;36m_run\u001B[0;34m(self, pipeline, catalog, run_id)\u001B[0m\n\u001B[1;32m     88\u001B[0m         \u001B[0;32mfor\u001B[0m \u001B[0mexec_index\u001B[0m\u001B[0;34m,\u001B[0m \u001B[0mnode\u001B[0m \u001B[0;32min\u001B[0m \u001B[0menumerate\u001B[0m\u001B[0;34m(\u001B[0m\u001B[0mnodes\u001B[0m\u001B[0;34m)\u001B[0m\u001B[0;34m:\u001B[0m\u001B[0;34m\u001B[0m\u001B[0;34m\u001B[0m\u001B[0m\n\u001B[1;32m     89\u001B[0m             \u001B[0;32mtry\u001B[0m\u001B[0;34m:\u001B[0m\u001B[0;34m\u001B[0m\u001B[0;34m\u001B[0m\u001B[0m\n\u001B[0;32m---> 90\u001B[0;31m                 \u001B[0mrun_node\u001B[0m\u001B[0;34m(\u001B[0m\u001B[0mnode\u001B[0m\u001B[0;34m,\u001B[0m \u001B[0mcatalog\u001B[0m\u001B[0;34m,\u001B[0m \u001B[0mself\u001B[0m\u001B[0;34m.\u001B[0m\u001B[0m_is_async\u001B[0m\u001B[0;34m,\u001B[0m \u001B[0mrun_id\u001B[0m\u001B[0;34m)\u001B[0m\u001B[0;34m\u001B[0m\u001B[0;34m\u001B[0m\u001B[0m\n\u001B[0m\u001B[1;32m     91\u001B[0m                 \u001B[0mdone_nodes\u001B[0m\u001B[0;34m.\u001B[0m\u001B[0madd\u001B[0m\u001B[0;34m(\u001B[0m\u001B[0mnode\u001B[0m\u001B[0;34m)\u001B[0m\u001B[0;34m\u001B[0m\u001B[0;34m\u001B[0m\u001B[0m\n\u001B[1;32m     92\u001B[0m             \u001B[0;32mexcept\u001B[0m \u001B[0mException\u001B[0m\u001B[0;34m:\u001B[0m\u001B[0;34m\u001B[0m\u001B[0;34m\u001B[0m\u001B[0m\n",
      "\u001B[0;32m~/Desktop/git/Dazed-Confusion-Matrix/venv/lib/python3.7/site-packages/kedro/runner/runner.py\u001B[0m in \u001B[0;36mrun_node\u001B[0;34m(node, catalog, is_async, run_id)\u001B[0m\n\u001B[1;32m    210\u001B[0m         \u001B[0mnode\u001B[0m \u001B[0;34m=\u001B[0m \u001B[0m_run_node_async\u001B[0m\u001B[0;34m(\u001B[0m\u001B[0mnode\u001B[0m\u001B[0;34m,\u001B[0m \u001B[0mcatalog\u001B[0m\u001B[0;34m,\u001B[0m \u001B[0mrun_id\u001B[0m\u001B[0;34m)\u001B[0m\u001B[0;34m\u001B[0m\u001B[0;34m\u001B[0m\u001B[0m\n\u001B[1;32m    211\u001B[0m     \u001B[0;32melse\u001B[0m\u001B[0;34m:\u001B[0m\u001B[0;34m\u001B[0m\u001B[0;34m\u001B[0m\u001B[0m\n\u001B[0;32m--> 212\u001B[0;31m         \u001B[0mnode\u001B[0m \u001B[0;34m=\u001B[0m \u001B[0m_run_node_sequential\u001B[0m\u001B[0;34m(\u001B[0m\u001B[0mnode\u001B[0m\u001B[0;34m,\u001B[0m \u001B[0mcatalog\u001B[0m\u001B[0;34m,\u001B[0m \u001B[0mrun_id\u001B[0m\u001B[0;34m)\u001B[0m\u001B[0;34m\u001B[0m\u001B[0;34m\u001B[0m\u001B[0m\n\u001B[0m\u001B[1;32m    213\u001B[0m \u001B[0;34m\u001B[0m\u001B[0m\n\u001B[1;32m    214\u001B[0m     \u001B[0;32mfor\u001B[0m \u001B[0mname\u001B[0m \u001B[0;32min\u001B[0m \u001B[0mnode\u001B[0m\u001B[0;34m.\u001B[0m\u001B[0mconfirms\u001B[0m\u001B[0;34m:\u001B[0m\u001B[0;34m\u001B[0m\u001B[0;34m\u001B[0m\u001B[0m\n",
      "\u001B[0;32m~/Desktop/git/Dazed-Confusion-Matrix/venv/lib/python3.7/site-packages/kedro/runner/runner.py\u001B[0m in \u001B[0;36m_run_node_sequential\u001B[0;34m(node, catalog, run_id)\u001B[0m\n\u001B[1;32m    301\u001B[0m             \u001B[0mdataset_name\u001B[0m\u001B[0;34m=\u001B[0m\u001B[0mname\u001B[0m\u001B[0;34m,\u001B[0m \u001B[0mdata\u001B[0m\u001B[0;34m=\u001B[0m\u001B[0mdata\u001B[0m\u001B[0;34m\u001B[0m\u001B[0;34m\u001B[0m\u001B[0m\n\u001B[1;32m    302\u001B[0m         )\n\u001B[0;32m--> 303\u001B[0;31m         \u001B[0mcatalog\u001B[0m\u001B[0;34m.\u001B[0m\u001B[0msave\u001B[0m\u001B[0;34m(\u001B[0m\u001B[0mname\u001B[0m\u001B[0;34m,\u001B[0m \u001B[0mdata\u001B[0m\u001B[0;34m)\u001B[0m\u001B[0;34m\u001B[0m\u001B[0;34m\u001B[0m\u001B[0m\n\u001B[0m\u001B[1;32m    304\u001B[0m         hook_manager.hook.after_dataset_saved(  # pylint: disable=no-member\n\u001B[1;32m    305\u001B[0m             \u001B[0mdataset_name\u001B[0m\u001B[0;34m=\u001B[0m\u001B[0mname\u001B[0m\u001B[0;34m,\u001B[0m \u001B[0mdata\u001B[0m\u001B[0;34m=\u001B[0m\u001B[0mdata\u001B[0m\u001B[0;34m\u001B[0m\u001B[0;34m\u001B[0m\u001B[0m\n",
      "\u001B[0;32m~/Desktop/git/Dazed-Confusion-Matrix/venv/lib/python3.7/site-packages/kedro/io/data_catalog.py\u001B[0m in \u001B[0;36msave\u001B[0;34m(self, name, data)\u001B[0m\n\u001B[1;32m    447\u001B[0m \u001B[0;34m\u001B[0m\u001B[0m\n\u001B[1;32m    448\u001B[0m         \u001B[0mfunc\u001B[0m \u001B[0;34m=\u001B[0m \u001B[0mself\u001B[0m\u001B[0;34m.\u001B[0m\u001B[0m_get_transformed_dataset_function\u001B[0m\u001B[0;34m(\u001B[0m\u001B[0mname\u001B[0m\u001B[0;34m,\u001B[0m \u001B[0;34m\"save\"\u001B[0m\u001B[0;34m,\u001B[0m \u001B[0mdataset\u001B[0m\u001B[0;34m)\u001B[0m\u001B[0;34m\u001B[0m\u001B[0;34m\u001B[0m\u001B[0m\n\u001B[0;32m--> 449\u001B[0;31m         \u001B[0mfunc\u001B[0m\u001B[0;34m(\u001B[0m\u001B[0mdata\u001B[0m\u001B[0;34m)\u001B[0m\u001B[0;34m\u001B[0m\u001B[0;34m\u001B[0m\u001B[0m\n\u001B[0m\u001B[1;32m    450\u001B[0m \u001B[0;34m\u001B[0m\u001B[0m\n\u001B[1;32m    451\u001B[0m         version = (\n",
      "\u001B[0;32m~/Desktop/git/Dazed-Confusion-Matrix/venv/lib/python3.7/site-packages/kedro/io/core.py\u001B[0m in \u001B[0;36msave\u001B[0;34m(self, data)\u001B[0m\n\u001B[1;32m    614\u001B[0m         \u001B[0mself\u001B[0m\u001B[0;34m.\u001B[0m\u001B[0m_version_cache\u001B[0m\u001B[0;34m.\u001B[0m\u001B[0mclear\u001B[0m\u001B[0;34m(\u001B[0m\u001B[0;34m)\u001B[0m\u001B[0;34m\u001B[0m\u001B[0;34m\u001B[0m\u001B[0m\n\u001B[1;32m    615\u001B[0m         \u001B[0msave_version\u001B[0m \u001B[0;34m=\u001B[0m \u001B[0mself\u001B[0m\u001B[0;34m.\u001B[0m\u001B[0mresolve_save_version\u001B[0m\u001B[0;34m(\u001B[0m\u001B[0;34m)\u001B[0m  \u001B[0;31m# Make sure last save version is set\u001B[0m\u001B[0;34m\u001B[0m\u001B[0;34m\u001B[0m\u001B[0m\n\u001B[0;32m--> 616\u001B[0;31m         \u001B[0msuper\u001B[0m\u001B[0;34m(\u001B[0m\u001B[0;34m)\u001B[0m\u001B[0;34m.\u001B[0m\u001B[0msave\u001B[0m\u001B[0;34m(\u001B[0m\u001B[0mdata\u001B[0m\u001B[0;34m)\u001B[0m\u001B[0;34m\u001B[0m\u001B[0;34m\u001B[0m\u001B[0m\n\u001B[0m\u001B[1;32m    617\u001B[0m \u001B[0;34m\u001B[0m\u001B[0m\n\u001B[1;32m    618\u001B[0m         \u001B[0mload_version\u001B[0m \u001B[0;34m=\u001B[0m \u001B[0mself\u001B[0m\u001B[0;34m.\u001B[0m\u001B[0mresolve_load_version\u001B[0m\u001B[0;34m(\u001B[0m\u001B[0;34m)\u001B[0m\u001B[0;34m\u001B[0m\u001B[0;34m\u001B[0m\u001B[0m\n",
      "\u001B[0;32m~/Desktop/git/Dazed-Confusion-Matrix/venv/lib/python3.7/site-packages/kedro/io/core.py\u001B[0m in \u001B[0;36msave\u001B[0;34m(self, data)\u001B[0m\n\u001B[1;32m    233\u001B[0m         \u001B[0;32mtry\u001B[0m\u001B[0;34m:\u001B[0m\u001B[0;34m\u001B[0m\u001B[0;34m\u001B[0m\u001B[0m\n\u001B[1;32m    234\u001B[0m             \u001B[0mself\u001B[0m\u001B[0;34m.\u001B[0m\u001B[0m_logger\u001B[0m\u001B[0;34m.\u001B[0m\u001B[0mdebug\u001B[0m\u001B[0;34m(\u001B[0m\u001B[0;34m\"Saving %s\"\u001B[0m\u001B[0;34m,\u001B[0m \u001B[0mstr\u001B[0m\u001B[0;34m(\u001B[0m\u001B[0mself\u001B[0m\u001B[0;34m)\u001B[0m\u001B[0;34m)\u001B[0m\u001B[0;34m\u001B[0m\u001B[0;34m\u001B[0m\u001B[0m\n\u001B[0;32m--> 235\u001B[0;31m             \u001B[0mself\u001B[0m\u001B[0;34m.\u001B[0m\u001B[0m_save\u001B[0m\u001B[0;34m(\u001B[0m\u001B[0mdata\u001B[0m\u001B[0;34m)\u001B[0m\u001B[0;34m\u001B[0m\u001B[0;34m\u001B[0m\u001B[0m\n\u001B[0m\u001B[1;32m    236\u001B[0m         \u001B[0;32mexcept\u001B[0m \u001B[0mDataSetError\u001B[0m\u001B[0;34m:\u001B[0m\u001B[0;34m\u001B[0m\u001B[0;34m\u001B[0m\u001B[0m\n\u001B[1;32m    237\u001B[0m             \u001B[0;32mraise\u001B[0m\u001B[0;34m\u001B[0m\u001B[0;34m\u001B[0m\u001B[0m\n",
      "\u001B[0;32m~/Desktop/git/Dazed-Confusion-Matrix/venv/lib/python3.7/site-packages/kedro/extras/datasets/pandas/csv_dataset.py\u001B[0m in \u001B[0;36m_save\u001B[0;34m(self, data)\u001B[0m\n\u001B[1;32m    162\u001B[0m \u001B[0;34m\u001B[0m\u001B[0m\n\u001B[1;32m    163\u001B[0m         \u001B[0;32mwith\u001B[0m \u001B[0mself\u001B[0m\u001B[0;34m.\u001B[0m\u001B[0m_fs\u001B[0m\u001B[0;34m.\u001B[0m\u001B[0mopen\u001B[0m\u001B[0;34m(\u001B[0m\u001B[0msave_path\u001B[0m\u001B[0;34m,\u001B[0m \u001B[0;34m**\u001B[0m\u001B[0mself\u001B[0m\u001B[0;34m.\u001B[0m\u001B[0m_fs_open_args_save\u001B[0m\u001B[0;34m)\u001B[0m \u001B[0;32mas\u001B[0m \u001B[0mfs_file\u001B[0m\u001B[0;34m:\u001B[0m\u001B[0;34m\u001B[0m\u001B[0;34m\u001B[0m\u001B[0m\n\u001B[0;32m--> 164\u001B[0;31m             \u001B[0mdata\u001B[0m\u001B[0;34m.\u001B[0m\u001B[0mto_csv\u001B[0m\u001B[0;34m(\u001B[0m\u001B[0mpath_or_buf\u001B[0m\u001B[0;34m=\u001B[0m\u001B[0mfs_file\u001B[0m\u001B[0;34m,\u001B[0m \u001B[0;34m**\u001B[0m\u001B[0mself\u001B[0m\u001B[0;34m.\u001B[0m\u001B[0m_save_args\u001B[0m\u001B[0;34m)\u001B[0m\u001B[0;34m\u001B[0m\u001B[0;34m\u001B[0m\u001B[0m\n\u001B[0m\u001B[1;32m    165\u001B[0m \u001B[0;34m\u001B[0m\u001B[0m\n\u001B[1;32m    166\u001B[0m         \u001B[0mself\u001B[0m\u001B[0;34m.\u001B[0m\u001B[0m_invalidate_cache\u001B[0m\u001B[0;34m(\u001B[0m\u001B[0;34m)\u001B[0m\u001B[0;34m\u001B[0m\u001B[0;34m\u001B[0m\u001B[0m\n",
      "\u001B[0;32m~/Desktop/git/Dazed-Confusion-Matrix/venv/lib/python3.7/site-packages/pandas/core/generic.py\u001B[0m in \u001B[0;36mto_csv\u001B[0;34m(self, path_or_buf, sep, na_rep, float_format, columns, header, index, index_label, mode, encoding, compression, quoting, quotechar, line_terminator, chunksize, date_format, doublequote, escapechar, decimal, errors, storage_options)\u001B[0m\n\u001B[1;32m   3400\u001B[0m             \u001B[0mdoublequote\u001B[0m\u001B[0;34m=\u001B[0m\u001B[0mdoublequote\u001B[0m\u001B[0;34m,\u001B[0m\u001B[0;34m\u001B[0m\u001B[0;34m\u001B[0m\u001B[0m\n\u001B[1;32m   3401\u001B[0m             \u001B[0mescapechar\u001B[0m\u001B[0;34m=\u001B[0m\u001B[0mescapechar\u001B[0m\u001B[0;34m,\u001B[0m\u001B[0;34m\u001B[0m\u001B[0;34m\u001B[0m\u001B[0m\n\u001B[0;32m-> 3402\u001B[0;31m             \u001B[0mstorage_options\u001B[0m\u001B[0;34m=\u001B[0m\u001B[0mstorage_options\u001B[0m\u001B[0;34m,\u001B[0m\u001B[0;34m\u001B[0m\u001B[0;34m\u001B[0m\u001B[0m\n\u001B[0m\u001B[1;32m   3403\u001B[0m         )\n\u001B[1;32m   3404\u001B[0m \u001B[0;34m\u001B[0m\u001B[0m\n",
      "\u001B[0;32m~/Desktop/git/Dazed-Confusion-Matrix/venv/lib/python3.7/site-packages/pandas/io/formats/format.py\u001B[0m in \u001B[0;36mto_csv\u001B[0;34m(self, path_or_buf, encoding, sep, columns, index_label, mode, compression, quoting, quotechar, line_terminator, chunksize, date_format, doublequote, escapechar, errors, storage_options)\u001B[0m\n\u001B[1;32m   1081\u001B[0m             \u001B[0mformatter\u001B[0m\u001B[0;34m=\u001B[0m\u001B[0mself\u001B[0m\u001B[0;34m.\u001B[0m\u001B[0mfmt\u001B[0m\u001B[0;34m,\u001B[0m\u001B[0;34m\u001B[0m\u001B[0;34m\u001B[0m\u001B[0m\n\u001B[1;32m   1082\u001B[0m         )\n\u001B[0;32m-> 1083\u001B[0;31m         \u001B[0mcsv_formatter\u001B[0m\u001B[0;34m.\u001B[0m\u001B[0msave\u001B[0m\u001B[0;34m(\u001B[0m\u001B[0;34m)\u001B[0m\u001B[0;34m\u001B[0m\u001B[0;34m\u001B[0m\u001B[0m\n\u001B[0m\u001B[1;32m   1084\u001B[0m \u001B[0;34m\u001B[0m\u001B[0m\n\u001B[1;32m   1085\u001B[0m         \u001B[0;32mif\u001B[0m \u001B[0mcreated_buffer\u001B[0m\u001B[0;34m:\u001B[0m\u001B[0;34m\u001B[0m\u001B[0;34m\u001B[0m\u001B[0m\n",
      "\u001B[0;32m~/Desktop/git/Dazed-Confusion-Matrix/venv/lib/python3.7/site-packages/pandas/io/formats/csvs.py\u001B[0m in \u001B[0;36msave\u001B[0;34m(self)\u001B[0m\n\u001B[1;32m    246\u001B[0m             )\n\u001B[1;32m    247\u001B[0m \u001B[0;34m\u001B[0m\u001B[0m\n\u001B[0;32m--> 248\u001B[0;31m             \u001B[0mself\u001B[0m\u001B[0;34m.\u001B[0m\u001B[0m_save\u001B[0m\u001B[0;34m(\u001B[0m\u001B[0;34m)\u001B[0m\u001B[0;34m\u001B[0m\u001B[0;34m\u001B[0m\u001B[0m\n\u001B[0m\u001B[1;32m    249\u001B[0m \u001B[0;34m\u001B[0m\u001B[0m\n\u001B[1;32m    250\u001B[0m     \u001B[0;32mdef\u001B[0m \u001B[0m_save\u001B[0m\u001B[0;34m(\u001B[0m\u001B[0mself\u001B[0m\u001B[0;34m)\u001B[0m \u001B[0;34m->\u001B[0m \u001B[0;32mNone\u001B[0m\u001B[0;34m:\u001B[0m\u001B[0;34m\u001B[0m\u001B[0;34m\u001B[0m\u001B[0m\n",
      "\u001B[0;32m~/Desktop/git/Dazed-Confusion-Matrix/venv/lib/python3.7/site-packages/pandas/io/formats/csvs.py\u001B[0m in \u001B[0;36m_save\u001B[0;34m(self)\u001B[0m\n\u001B[1;32m    251\u001B[0m         \u001B[0;32mif\u001B[0m \u001B[0mself\u001B[0m\u001B[0;34m.\u001B[0m\u001B[0m_need_to_save_header\u001B[0m\u001B[0;34m:\u001B[0m\u001B[0;34m\u001B[0m\u001B[0;34m\u001B[0m\u001B[0m\n\u001B[1;32m    252\u001B[0m             \u001B[0mself\u001B[0m\u001B[0;34m.\u001B[0m\u001B[0m_save_header\u001B[0m\u001B[0;34m(\u001B[0m\u001B[0;34m)\u001B[0m\u001B[0;34m\u001B[0m\u001B[0;34m\u001B[0m\u001B[0m\n\u001B[0;32m--> 253\u001B[0;31m         \u001B[0mself\u001B[0m\u001B[0;34m.\u001B[0m\u001B[0m_save_body\u001B[0m\u001B[0;34m(\u001B[0m\u001B[0;34m)\u001B[0m\u001B[0;34m\u001B[0m\u001B[0;34m\u001B[0m\u001B[0m\n\u001B[0m\u001B[1;32m    254\u001B[0m \u001B[0;34m\u001B[0m\u001B[0m\n\u001B[1;32m    255\u001B[0m     \u001B[0;32mdef\u001B[0m \u001B[0m_save_header\u001B[0m\u001B[0;34m(\u001B[0m\u001B[0mself\u001B[0m\u001B[0;34m)\u001B[0m \u001B[0;34m->\u001B[0m \u001B[0;32mNone\u001B[0m\u001B[0;34m:\u001B[0m\u001B[0;34m\u001B[0m\u001B[0;34m\u001B[0m\u001B[0m\n",
      "\u001B[0;32m~/Desktop/git/Dazed-Confusion-Matrix/venv/lib/python3.7/site-packages/pandas/io/formats/csvs.py\u001B[0m in \u001B[0;36m_save_body\u001B[0;34m(self)\u001B[0m\n\u001B[1;32m    289\u001B[0m             \u001B[0;32mif\u001B[0m \u001B[0mstart_i\u001B[0m \u001B[0;34m>=\u001B[0m \u001B[0mend_i\u001B[0m\u001B[0;34m:\u001B[0m\u001B[0;34m\u001B[0m\u001B[0;34m\u001B[0m\u001B[0m\n\u001B[1;32m    290\u001B[0m                 \u001B[0;32mbreak\u001B[0m\u001B[0;34m\u001B[0m\u001B[0;34m\u001B[0m\u001B[0m\n\u001B[0;32m--> 291\u001B[0;31m             \u001B[0mself\u001B[0m\u001B[0;34m.\u001B[0m\u001B[0m_save_chunk\u001B[0m\u001B[0;34m(\u001B[0m\u001B[0mstart_i\u001B[0m\u001B[0;34m,\u001B[0m \u001B[0mend_i\u001B[0m\u001B[0;34m)\u001B[0m\u001B[0;34m\u001B[0m\u001B[0;34m\u001B[0m\u001B[0m\n\u001B[0m\u001B[1;32m    292\u001B[0m \u001B[0;34m\u001B[0m\u001B[0m\n\u001B[1;32m    293\u001B[0m     \u001B[0;32mdef\u001B[0m \u001B[0m_save_chunk\u001B[0m\u001B[0;34m(\u001B[0m\u001B[0mself\u001B[0m\u001B[0;34m,\u001B[0m \u001B[0mstart_i\u001B[0m\u001B[0;34m:\u001B[0m \u001B[0mint\u001B[0m\u001B[0;34m,\u001B[0m \u001B[0mend_i\u001B[0m\u001B[0;34m:\u001B[0m \u001B[0mint\u001B[0m\u001B[0;34m)\u001B[0m \u001B[0;34m->\u001B[0m \u001B[0;32mNone\u001B[0m\u001B[0;34m:\u001B[0m\u001B[0;34m\u001B[0m\u001B[0;34m\u001B[0m\u001B[0m\n",
      "\u001B[0;32m~/Desktop/git/Dazed-Confusion-Matrix/venv/lib/python3.7/site-packages/pandas/io/formats/csvs.py\u001B[0m in \u001B[0;36m_save_chunk\u001B[0;34m(self, start_i, end_i)\u001B[0m\n\u001B[1;32m    300\u001B[0m \u001B[0;34m\u001B[0m\u001B[0m\n\u001B[1;32m    301\u001B[0m         \u001B[0mix\u001B[0m \u001B[0;34m=\u001B[0m \u001B[0mself\u001B[0m\u001B[0;34m.\u001B[0m\u001B[0mdata_index\u001B[0m\u001B[0;34m[\u001B[0m\u001B[0mslicer\u001B[0m\u001B[0;34m]\u001B[0m\u001B[0;34m.\u001B[0m\u001B[0m_format_native_types\u001B[0m\u001B[0;34m(\u001B[0m\u001B[0;34m**\u001B[0m\u001B[0mself\u001B[0m\u001B[0;34m.\u001B[0m\u001B[0m_number_format\u001B[0m\u001B[0;34m)\u001B[0m\u001B[0;34m\u001B[0m\u001B[0;34m\u001B[0m\u001B[0m\n\u001B[0;32m--> 302\u001B[0;31m         \u001B[0mlibwriters\u001B[0m\u001B[0;34m.\u001B[0m\u001B[0mwrite_csv_rows\u001B[0m\u001B[0;34m(\u001B[0m\u001B[0mdata\u001B[0m\u001B[0;34m,\u001B[0m \u001B[0mix\u001B[0m\u001B[0;34m,\u001B[0m \u001B[0mself\u001B[0m\u001B[0;34m.\u001B[0m\u001B[0mnlevels\u001B[0m\u001B[0;34m,\u001B[0m \u001B[0mself\u001B[0m\u001B[0;34m.\u001B[0m\u001B[0mcols\u001B[0m\u001B[0;34m,\u001B[0m \u001B[0mself\u001B[0m\u001B[0;34m.\u001B[0m\u001B[0mwriter\u001B[0m\u001B[0;34m)\u001B[0m\u001B[0;34m\u001B[0m\u001B[0;34m\u001B[0m\u001B[0m\n\u001B[0m",
      "\u001B[0;32mpandas/_libs/writers.pyx\u001B[0m in \u001B[0;36mpandas._libs.writers.write_csv_rows\u001B[0;34m()\u001B[0m\n",
      "\u001B[0;32m~/Desktop/git/Dazed-Confusion-Matrix/venv/lib/python3.7/site-packages/fsspec/implementations/local.py\u001B[0m in \u001B[0;36m__getattr__\u001B[0;34m(self, item)\u001B[0m\n\u001B[1;32m    259\u001B[0m         \u001B[0;32mreturn\u001B[0m \u001B[0mself\u001B[0m\u001B[0;34m.\u001B[0m\u001B[0mf\u001B[0m\u001B[0;34m.\u001B[0m\u001B[0m__iter__\u001B[0m\u001B[0;34m(\u001B[0m\u001B[0;34m)\u001B[0m\u001B[0;34m\u001B[0m\u001B[0;34m\u001B[0m\u001B[0m\n\u001B[1;32m    260\u001B[0m \u001B[0;34m\u001B[0m\u001B[0m\n\u001B[0;32m--> 261\u001B[0;31m     \u001B[0;32mdef\u001B[0m \u001B[0m__getattr__\u001B[0m\u001B[0;34m(\u001B[0m\u001B[0mself\u001B[0m\u001B[0;34m,\u001B[0m \u001B[0mitem\u001B[0m\u001B[0;34m)\u001B[0m\u001B[0;34m:\u001B[0m\u001B[0;34m\u001B[0m\u001B[0;34m\u001B[0m\u001B[0m\n\u001B[0m\u001B[1;32m    262\u001B[0m         \u001B[0;32mreturn\u001B[0m \u001B[0mgetattr\u001B[0m\u001B[0;34m(\u001B[0m\u001B[0mself\u001B[0m\u001B[0;34m.\u001B[0m\u001B[0mf\u001B[0m\u001B[0;34m,\u001B[0m \u001B[0mitem\u001B[0m\u001B[0;34m)\u001B[0m\u001B[0;34m\u001B[0m\u001B[0;34m\u001B[0m\u001B[0m\n\u001B[1;32m    263\u001B[0m \u001B[0;34m\u001B[0m\u001B[0m\n",
      "\u001B[0;31mKeyboardInterrupt\u001B[0m: "
     ]
    }
   ],
   "source": [
    "for outcome in outcome_names:\n",
    "    print('\\n{}'.format(outcome))\n",
    "    cm_df['Outcome'] = np.where(df['Description'] == outcome, 1, 0)\n",
    "    cm_df = cm_df[['Treatment', 'Outcome', 'Weapon', 'Neighborhood', 'Season']]\n",
    "\n",
    "    train_df, test_df = train_test_split(cm_df, test_size=0.3, random_state=seed, stratify=cm_df['Treatment'])\n",
    "\n",
    "    print('\\n[Estimate propensity scores for Inverse Probability Weighting.]')\n",
    "    cl = CausalLift(train_df, test_df, enable_ipw=True, verbose=3)\n",
    "\n",
    "    print('\\n[Create 2 models for treatment and untreatment and estimate CATE (Conditional Average Treatment Effects)]')\n",
    "    train_df, test_df = cl.estimate_cate_by_2_models()\n",
    "\n",
    "    print('\\n[Estimate the effect of recommendation based on the uplift model]')\n",
    "    estimated_effect_df = cl.estimate_recommendation_impact()\n",
    "\n",
    "    print('\\n[Show the estimated effect of recommendation based on the uplift model]')\n",
    "    display(estimated_effect_df)"
   ],
   "metadata": {
    "collapsed": false,
    "pycharm": {
     "name": "#%%\n"
    }
   }
  }
 ],
 "metadata": {
  "kernelspec": {
   "display_name": "Python 3",
   "language": "python",
   "name": "python3"
  },
  "language_info": {
   "codemirror_mode": {
    "name": "ipython",
    "version": 2
   },
   "file_extension": ".py",
   "mimetype": "text/x-python",
   "name": "python",
   "nbconvert_exporter": "python",
   "pygments_lexer": "ipython2",
   "version": "2.7.6"
  }
 },
 "nbformat": 4,
 "nbformat_minor": 0
}