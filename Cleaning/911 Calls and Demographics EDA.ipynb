{
 "cells": [
  {
   "cell_type": "markdown",
   "metadata": {},
   "source": [
    "In this scrupt we calculate the coorelation between median household income and 911 calls made per household for each neighborhood."
   ]
  },
  {
   "cell_type": "code",
   "execution_count": 39,
   "metadata": {},
   "outputs": [],
   "source": [
    "import pandas as pd\n",
    "from pomegranate import *\n",
    "import numpy as np"
   ]
  },
  {
   "cell_type": "code",
   "execution_count": 65,
   "metadata": {},
   "outputs": [],
   "source": [
    "df = pd.read_csv(\"crimes_with_calls_2015_unique_demographics.csv\", index_col=0)\n",
    "bpd_df = pd.read_csv(\"./data/BPD_CRIME_DATA.csv\", index_col=0)"
   ]
  },
  {
   "cell_type": "code",
   "execution_count": 62,
   "metadata": {},
   "outputs": [
    {
     "data": {
      "text/plain": [
       "(9275, 35)"
      ]
     },
     "execution_count": 62,
     "metadata": {},
     "output_type": "execute_result"
    }
   ],
   "source": [
    "df.shape"
   ]
  },
  {
   "cell_type": "code",
   "execution_count": 111,
   "metadata": {
    "scrolled": false
   },
   "outputs": [
    {
     "name": "stderr",
     "output_type": "stream",
     "text": [
      "/Users/tuliprichard/anaconda3/lib/python3.7/site-packages/numpy/lib/arraysetops.py:583: FutureWarning: elementwise comparison failed; returning scalar instead, but in the future will perform elementwise comparison\n",
      "  mask |= (ar1 == a)\n"
     ]
    }
   ],
   "source": [
    "calls_df = pd.read_csv(\"./data/911_Calls_For_Service_2017.csv\", index_col=0)\n",
    "calls_df18 = pd.read_csv(\"./data/911_Calls_For_Service_2018.csv\", index_col=0)\n",
    "calls_df19 = pd.read_csv(\"./data/911_Calls_For_Service_2019.csv\", index_col=0)"
   ]
  },
  {
   "cell_type": "code",
   "execution_count": 117,
   "metadata": {},
   "outputs": [],
   "source": [
    "calls_df = pd.concat([calls_df,calls_df18,calls_df19])"
   ]
  },
  {
   "cell_type": "code",
   "execution_count": 118,
   "metadata": {},
   "outputs": [
    {
     "data": {
      "text/plain": [
       "278"
      ]
     },
     "execution_count": 118,
     "metadata": {},
     "output_type": "execute_result"
    }
   ],
   "source": [
    "calls_df[\"Neighborhood\"].nunique()"
   ]
  },
  {
   "cell_type": "code",
   "execution_count": 41,
   "metadata": {},
   "outputs": [],
   "source": [
    "df.loc[df[\"Weapon\"].isna(),\"Weapon\"] = \"NONE\""
   ]
  },
  {
   "cell_type": "code",
   "execution_count": 43,
   "metadata": {
    "scrolled": true
   },
   "outputs": [],
   "source": [
    "df = df.drop(columns=[\"Unnamed: 0.1\", \"CrimeDate\", \"CrimeTime\",\"CallId\"])"
   ]
  },
  {
   "cell_type": "code",
   "execution_count": 44,
   "metadata": {},
   "outputs": [],
   "source": [
    "df = df.dropna().reset_index(drop=True)"
   ]
  },
  {
   "cell_type": "code",
   "execution_count": 72,
   "metadata": {},
   "outputs": [],
   "source": [
    "df['Neighborhood'] = df['Neighborhood'].replace('Patterson Park Neighborho', 'Patterson Park')\n",
    "df['Inside/Outside'] = df['Inside/Outside'].replace('I', 'Inside')\n",
    "df['Inside/Outside'] = df['Inside/Outside'].replace('O', 'Outside')"
   ]
  },
  {
   "cell_type": "code",
   "execution_count": 70,
   "metadata": {},
   "outputs": [],
   "source": [
    "df[\"CallDescription\"] = df['CallDescription'].str.upper()\n",
    "df = df[df[\"CallDescription\"]!= \"`\"]\n",
    "df = df[df[\"CallDescription\"]!= \"911/HANGUP\"]\n",
    "df = df[df[\"CallDescription\"]!= \"911/NO VOICE\"]"
   ]
  },
  {
   "cell_type": "code",
   "execution_count": 49,
   "metadata": {},
   "outputs": [],
   "source": [
    "df['Priority'] = df['Priority'].str.upper()\n",
    "df['Priority'] = df['Priority'].replace('EMERGENCY', 'HIGH')"
   ]
  },
  {
   "cell_type": "code",
   "execution_count": 87,
   "metadata": {
    "scrolled": false
   },
   "outputs": [
    {
     "data": {
      "text/html": [
       "<div>\n",
       "<style scoped>\n",
       "    .dataframe tbody tr th:only-of-type {\n",
       "        vertical-align: middle;\n",
       "    }\n",
       "\n",
       "    .dataframe tbody tr th {\n",
       "        vertical-align: top;\n",
       "    }\n",
       "\n",
       "    .dataframe thead th {\n",
       "        text-align: right;\n",
       "    }\n",
       "</style>\n",
       "<table border=\"1\" class=\"dataframe\">\n",
       "  <thead>\n",
       "    <tr style=\"text-align: right;\">\n",
       "      <th></th>\n",
       "      <th>Neighborhood</th>\n",
       "      <th>median_household_income</th>\n",
       "      <th>num_households</th>\n",
       "    </tr>\n",
       "  </thead>\n",
       "  <tbody>\n",
       "    <tr>\n",
       "      <th>0</th>\n",
       "      <td>RAMBLEWOOD</td>\n",
       "      <td>47461.856928</td>\n",
       "      <td>104400.0</td>\n",
       "    </tr>\n",
       "    <tr>\n",
       "      <th>1</th>\n",
       "      <td>GLEN</td>\n",
       "      <td>39690.750670</td>\n",
       "      <td>102600.0</td>\n",
       "    </tr>\n",
       "    <tr>\n",
       "      <th>2</th>\n",
       "      <td>HIGHLANDTOWN</td>\n",
       "      <td>41538.153846</td>\n",
       "      <td>88000.0</td>\n",
       "    </tr>\n",
       "    <tr>\n",
       "      <th>4</th>\n",
       "      <td>CARROLLTON RIDGE</td>\n",
       "      <td>25151.903315</td>\n",
       "      <td>22500.0</td>\n",
       "    </tr>\n",
       "    <tr>\n",
       "      <th>5</th>\n",
       "      <td>JOHNSTON SQUARE</td>\n",
       "      <td>23625.756917</td>\n",
       "      <td>32450.0</td>\n",
       "    </tr>\n",
       "    <tr>\n",
       "      <th>...</th>\n",
       "      <td>...</td>\n",
       "      <td>...</td>\n",
       "      <td>...</td>\n",
       "    </tr>\n",
       "    <tr>\n",
       "      <th>3453</th>\n",
       "      <td>EASTWOOD</td>\n",
       "      <td>41538.153846</td>\n",
       "      <td>88000.0</td>\n",
       "    </tr>\n",
       "    <tr>\n",
       "      <th>3820</th>\n",
       "      <td>CEDARCROFT</td>\n",
       "      <td>78174.828597</td>\n",
       "      <td>347500.0</td>\n",
       "    </tr>\n",
       "    <tr>\n",
       "      <th>4417</th>\n",
       "      <td>DRUID HILL PARK</td>\n",
       "      <td>34879.263473</td>\n",
       "      <td>78950.0</td>\n",
       "    </tr>\n",
       "    <tr>\n",
       "      <th>5700</th>\n",
       "      <td>LOWER HERRING RUN PARK</td>\n",
       "      <td>38173.968254</td>\n",
       "      <td>45550.0</td>\n",
       "    </tr>\n",
       "    <tr>\n",
       "      <th>6582</th>\n",
       "      <td>TAYLOR HEIGHTS</td>\n",
       "      <td>52708.062500</td>\n",
       "      <td>144450.0</td>\n",
       "    </tr>\n",
       "  </tbody>\n",
       "</table>\n",
       "<p>253 rows × 3 columns</p>\n",
       "</div>"
      ],
      "text/plain": [
       "                Neighborhood  median_household_income  num_households\n",
       "0                 RAMBLEWOOD             47461.856928        104400.0\n",
       "1                       GLEN             39690.750670        102600.0\n",
       "2               HIGHLANDTOWN             41538.153846         88000.0\n",
       "4           CARROLLTON RIDGE             25151.903315         22500.0\n",
       "5            JOHNSTON SQUARE             23625.756917         32450.0\n",
       "...                      ...                      ...             ...\n",
       "3453                EASTWOOD             41538.153846         88000.0\n",
       "3820              CEDARCROFT             78174.828597        347500.0\n",
       "4417         DRUID HILL PARK             34879.263473         78950.0\n",
       "5700  LOWER HERRING RUN PARK             38173.968254         45550.0\n",
       "6582          TAYLOR HEIGHTS             52708.062500        144450.0\n",
       "\n",
       "[253 rows x 3 columns]"
      ]
     },
     "execution_count": 87,
     "metadata": {},
     "output_type": "execute_result"
    }
   ],
   "source": [
    "nbhd_income = df[[\"Neighborhood\",\"median_household_income\",'num_households']].drop_duplicates().dropna()\n",
    "nbhd_income"
   ]
  },
  {
   "cell_type": "code",
   "execution_count": 120,
   "metadata": {
    "scrolled": true
   },
   "outputs": [],
   "source": [
    "calls_df[\"Neighborhood\"] = calls_df['Neighborhood'].str.upper()\n",
    "calls_groupby_nbhd = calls_df.groupby(by=\"Neighborhood\").count()[[\"recordId\"]]\n",
    "calls_groupby_nbhd = calls_groupby_nbhd.rename(columns={\"recordId\": \"call_counts\"})\n",
    "# calls_groupby_nbhd[\"Neighborhood\"] = calls_groupby_nbhd.index"
   ]
  },
  {
   "cell_type": "code",
   "execution_count": 124,
   "metadata": {
    "scrolled": true
   },
   "outputs": [
    {
     "data": {
      "text/html": [
       "<div>\n",
       "<style scoped>\n",
       "    .dataframe tbody tr th:only-of-type {\n",
       "        vertical-align: middle;\n",
       "    }\n",
       "\n",
       "    .dataframe tbody tr th {\n",
       "        vertical-align: top;\n",
       "    }\n",
       "\n",
       "    .dataframe thead th {\n",
       "        text-align: right;\n",
       "    }\n",
       "</style>\n",
       "<table border=\"1\" class=\"dataframe\">\n",
       "  <thead>\n",
       "    <tr style=\"text-align: right;\">\n",
       "      <th></th>\n",
       "      <th>Neighborhood</th>\n",
       "      <th>median_household_income</th>\n",
       "      <th>calls_per_household</th>\n",
       "    </tr>\n",
       "  </thead>\n",
       "  <tbody>\n",
       "    <tr>\n",
       "      <th>64</th>\n",
       "      <td>ABELL</td>\n",
       "      <td>32241.138221</td>\n",
       "      <td>0.083382</td>\n",
       "    </tr>\n",
       "    <tr>\n",
       "      <th>15</th>\n",
       "      <td>ALLENDALE</td>\n",
       "      <td>36701.906742</td>\n",
       "      <td>0.468165</td>\n",
       "    </tr>\n",
       "    <tr>\n",
       "      <th>187</th>\n",
       "      <td>ARCADIA</td>\n",
       "      <td>66010.877444</td>\n",
       "      <td>0.033961</td>\n",
       "    </tr>\n",
       "    <tr>\n",
       "      <th>87</th>\n",
       "      <td>ARLINGTON</td>\n",
       "      <td>33139.182464</td>\n",
       "      <td>0.737275</td>\n",
       "    </tr>\n",
       "    <tr>\n",
       "      <th>89</th>\n",
       "      <td>ARMISTEAD GARDENS</td>\n",
       "      <td>33179.511029</td>\n",
       "      <td>0.111464</td>\n",
       "    </tr>\n",
       "  </tbody>\n",
       "</table>\n",
       "</div>"
      ],
      "text/plain": [
       "          Neighborhood  median_household_income  calls_per_household\n",
       "64               ABELL             32241.138221             0.083382\n",
       "15           ALLENDALE             36701.906742             0.468165\n",
       "187            ARCADIA             66010.877444             0.033961\n",
       "87           ARLINGTON             33139.182464             0.737275\n",
       "89   ARMISTEAD GARDENS             33179.511029             0.111464"
      ]
     },
     "execution_count": 124,
     "metadata": {},
     "output_type": "execute_result"
    }
   ],
   "source": [
    "result = pd.merge(nbhd_income, calls_groupby_nbhd, on = \"Neighborhood\", how = \"inner\")\n",
    "result[\"calls_per_household\"] = result.call_counts / result.num_households\n",
    "result.sort_values(by=\"Neighborhood\", ascending = True).head(5)[[\"Neighborhood\", \"median_household_income\",\"calls_per_household\"]]"
   ]
  },
  {
   "cell_type": "code",
   "execution_count": 122,
   "metadata": {
    "scrolled": true
   },
   "outputs": [
    {
     "data": {
      "text/plain": [
       "-0.36076924710314096"
      ]
     },
     "execution_count": 122,
     "metadata": {},
     "output_type": "execute_result"
    }
   ],
   "source": [
    "result.calls_per_household.corr(result.median_household_income)"
   ]
  },
  {
   "cell_type": "code",
   "execution_count": null,
   "metadata": {},
   "outputs": [],
   "source": [
    "result."
   ]
  }
 ],
 "metadata": {
  "kernelspec": {
   "display_name": "Python 3",
   "language": "python",
   "name": "python3"
  },
  "language_info": {
   "codemirror_mode": {
    "name": "ipython",
    "version": 3
   },
   "file_extension": ".py",
   "mimetype": "text/x-python",
   "name": "python",
   "nbconvert_exporter": "python",
   "pygments_lexer": "ipython3",
   "version": "3.7.7"
  }
 },
 "nbformat": 4,
 "nbformat_minor": 4
}
