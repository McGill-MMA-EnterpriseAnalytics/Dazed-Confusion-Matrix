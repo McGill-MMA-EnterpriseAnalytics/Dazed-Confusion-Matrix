{
 "cells": [
  {
   "cell_type": "markdown",
   "metadata": {},
   "source": [
    "# INSY695 - Group Project\n",
    "### Data Cleaning - Tiancheng Zhang"
   ]
  },
  {
   "cell_type": "code",
   "execution_count": 1,
   "metadata": {
    "ExecuteTime": {
     "end_time": "2021-02-18T16:07:55.478367Z",
     "start_time": "2021-02-18T16:07:54.281341Z"
    }
   },
   "outputs": [],
   "source": [
    "import numpy as np\n",
    "import pandas as pd\n",
    "import matplotlib.pyplot as plt\n",
    "import seaborn as sns\n",
    "\n",
    "import datetime"
   ]
  },
  {
   "cell_type": "code",
   "execution_count": 5,
   "metadata": {
    "ExecuteTime": {
     "end_time": "2021-02-18T16:07:56.227340Z",
     "start_time": "2021-02-18T16:07:55.512342Z"
    }
   },
   "outputs": [],
   "source": [
    "bpd_df = pd.read_csv('../data/crimes_with_calls_cleaned.csv')"
   ]
  },
  {
   "cell_type": "markdown",
   "metadata": {},
   "source": [
    "## [NEW STUFF (Priority versus Description)](#new)"
   ]
  },
  {
   "cell_type": "code",
   "execution_count": 6,
   "metadata": {},
   "outputs": [
    {
     "data": {
      "text/plain": [
       "(1239, 19)"
      ]
     },
     "execution_count": 6,
     "metadata": {},
     "output_type": "execute_result"
    }
   ],
   "source": [
    "bpd_df.shape"
   ]
  },
  {
   "cell_type": "code",
   "execution_count": 7,
   "metadata": {
    "scrolled": true
   },
   "outputs": [
    {
     "name": "stdout",
     "output_type": "stream",
     "text": [
      "<class 'pandas.core.frame.DataFrame'>\n",
      "RangeIndex: 1239 entries, 0 to 1238\n",
      "Data columns (total 19 columns):\n",
      " #   Column           Non-Null Count  Dtype  \n",
      "---  ------           --------------  -----  \n",
      " 0   Unnamed: 0       1239 non-null   int64  \n",
      " 1   CrimeDate        1239 non-null   object \n",
      " 2   CrimeTime        1239 non-null   object \n",
      " 3   CrimeCode        1239 non-null   object \n",
      " 4   Location         1239 non-null   object \n",
      " 5   Description      1239 non-null   object \n",
      " 6   Inside/Outside   1223 non-null   object \n",
      " 7   Weapon           307 non-null    object \n",
      " 8   Post             1239 non-null   float64\n",
      " 9   District         1239 non-null   object \n",
      " 10  Neighborhood     1239 non-null   object \n",
      " 11  Longitude        1239 non-null   float64\n",
      " 12  Latitude         1239 non-null   float64\n",
      " 13  Location 1       1239 non-null   object \n",
      " 14  Premise          1222 non-null   object \n",
      " 15  Total Incidents  1239 non-null   int64  \n",
      " 16  callDateTime     1239 non-null   object \n",
      " 17  Priority         1239 non-null   object \n",
      " 18  CallDescription  1239 non-null   object \n",
      "dtypes: float64(3), int64(2), object(14)\n",
      "memory usage: 184.0+ KB\n"
     ]
    }
   ],
   "source": [
    "bpd_df.info()"
   ]
  },
  {
   "cell_type": "code",
   "execution_count": 8,
   "metadata": {
    "scrolled": true
   },
   "outputs": [
    {
     "data": {
      "text/html": [
       "<div>\n",
       "<style scoped>\n",
       "    .dataframe tbody tr th:only-of-type {\n",
       "        vertical-align: middle;\n",
       "    }\n",
       "\n",
       "    .dataframe tbody tr th {\n",
       "        vertical-align: top;\n",
       "    }\n",
       "\n",
       "    .dataframe thead th {\n",
       "        text-align: right;\n",
       "    }\n",
       "</style>\n",
       "<table border=\"1\" class=\"dataframe\">\n",
       "  <thead>\n",
       "    <tr style=\"text-align: right;\">\n",
       "      <th></th>\n",
       "      <th>Unnamed: 0</th>\n",
       "      <th>CrimeDate</th>\n",
       "      <th>CrimeTime</th>\n",
       "      <th>CrimeCode</th>\n",
       "      <th>Location</th>\n",
       "      <th>Description</th>\n",
       "      <th>Inside/Outside</th>\n",
       "      <th>Weapon</th>\n",
       "      <th>Post</th>\n",
       "      <th>District</th>\n",
       "      <th>Neighborhood</th>\n",
       "      <th>Longitude</th>\n",
       "      <th>Latitude</th>\n",
       "      <th>Location 1</th>\n",
       "      <th>Premise</th>\n",
       "      <th>Total Incidents</th>\n",
       "      <th>callDateTime</th>\n",
       "      <th>Priority</th>\n",
       "      <th>CallDescription</th>\n",
       "    </tr>\n",
       "  </thead>\n",
       "  <tbody>\n",
       "    <tr>\n",
       "      <th>0</th>\n",
       "      <td>31238</td>\n",
       "      <td>2017-01-19 00:00:00</td>\n",
       "      <td>19:00:00</td>\n",
       "      <td>6D</td>\n",
       "      <td>4200 WICKFORD RD</td>\n",
       "      <td>LARCENY FROM AUTO</td>\n",
       "      <td>NaN</td>\n",
       "      <td>NaN</td>\n",
       "      <td>541.0</td>\n",
       "      <td>NORTHERN</td>\n",
       "      <td>Roland Park</td>\n",
       "      <td>-76.62663</td>\n",
       "      <td>39.34035</td>\n",
       "      <td>(39.3403500000, -76.6266300000)</td>\n",
       "      <td>NaN</td>\n",
       "      <td>1</td>\n",
       "      <td>2017-01-20 09:37:00</td>\n",
       "      <td>Low</td>\n",
       "      <td>LARCENY F/AUTO</td>\n",
       "    </tr>\n",
       "    <tr>\n",
       "      <th>1</th>\n",
       "      <td>31239</td>\n",
       "      <td>2017-01-19 00:00:00</td>\n",
       "      <td>19:00:00</td>\n",
       "      <td>6D</td>\n",
       "      <td>800 WEDGEWOOD RD</td>\n",
       "      <td>LARCENY FROM AUTO</td>\n",
       "      <td>NaN</td>\n",
       "      <td>NaN</td>\n",
       "      <td>823.0</td>\n",
       "      <td>SOUTHWESTERN</td>\n",
       "      <td>West Hills</td>\n",
       "      <td>-76.70612</td>\n",
       "      <td>39.29449</td>\n",
       "      <td>(39.2944900000, -76.7061200000)</td>\n",
       "      <td>NaN</td>\n",
       "      <td>1</td>\n",
       "      <td>2017-01-20 05:55:00</td>\n",
       "      <td>Low</td>\n",
       "      <td>LARCENY F/AUTO</td>\n",
       "    </tr>\n",
       "    <tr>\n",
       "      <th>2</th>\n",
       "      <td>31244</td>\n",
       "      <td>2017-01-19 00:00:00</td>\n",
       "      <td>18:30:00</td>\n",
       "      <td>6E</td>\n",
       "      <td>3000 SHANNON DR</td>\n",
       "      <td>LARCENY</td>\n",
       "      <td>NaN</td>\n",
       "      <td>NaN</td>\n",
       "      <td>432.0</td>\n",
       "      <td>NORTHEASTERN</td>\n",
       "      <td>Belair-Edison</td>\n",
       "      <td>-76.56774</td>\n",
       "      <td>39.32524</td>\n",
       "      <td>(39.3252400000, -76.5677400000)</td>\n",
       "      <td>NaN</td>\n",
       "      <td>1</td>\n",
       "      <td>2017-01-20 14:34:00</td>\n",
       "      <td>Low</td>\n",
       "      <td>LARCENY F/AUTO</td>\n",
       "    </tr>\n",
       "    <tr>\n",
       "      <th>3</th>\n",
       "      <td>31255</td>\n",
       "      <td>2017-01-19 00:00:00</td>\n",
       "      <td>17:50:00</td>\n",
       "      <td>7A</td>\n",
       "      <td>0 N PORT ST</td>\n",
       "      <td>AUTO THEFT</td>\n",
       "      <td>O</td>\n",
       "      <td>NaN</td>\n",
       "      <td>221.0</td>\n",
       "      <td>SOUTHEASTERN</td>\n",
       "      <td>Patterson Place</td>\n",
       "      <td>-76.58267</td>\n",
       "      <td>39.29265</td>\n",
       "      <td>(39.2926500000, -76.5826700000)</td>\n",
       "      <td>STREET</td>\n",
       "      <td>1</td>\n",
       "      <td>2017-01-19 17:51:00</td>\n",
       "      <td>Medium</td>\n",
       "      <td>AUTO THEFT</td>\n",
       "    </tr>\n",
       "    <tr>\n",
       "      <th>4</th>\n",
       "      <td>31256</td>\n",
       "      <td>2017-01-19 00:00:00</td>\n",
       "      <td>17:30:00</td>\n",
       "      <td>5A</td>\n",
       "      <td>1300 CAMBRIA ST</td>\n",
       "      <td>BURGLARY</td>\n",
       "      <td>NaN</td>\n",
       "      <td>NaN</td>\n",
       "      <td>911.0</td>\n",
       "      <td>SOUTHERN</td>\n",
       "      <td>Curtis Bay</td>\n",
       "      <td>-76.59111</td>\n",
       "      <td>39.23224</td>\n",
       "      <td>(39.2322400000, -76.5911100000)</td>\n",
       "      <td>NaN</td>\n",
       "      <td>1</td>\n",
       "      <td>2017-01-19 17:38:00</td>\n",
       "      <td>Medium</td>\n",
       "      <td>BURGLARY</td>\n",
       "    </tr>\n",
       "    <tr>\n",
       "      <th>5</th>\n",
       "      <td>31258</td>\n",
       "      <td>2017-01-19 00:00:00</td>\n",
       "      <td>17:00:00</td>\n",
       "      <td>6D</td>\n",
       "      <td>800 S BOULDIN ST</td>\n",
       "      <td>LARCENY FROM AUTO</td>\n",
       "      <td>O</td>\n",
       "      <td>NaN</td>\n",
       "      <td>232.0</td>\n",
       "      <td>SOUTHEASTERN</td>\n",
       "      <td>Canton</td>\n",
       "      <td>-76.57047</td>\n",
       "      <td>39.28273</td>\n",
       "      <td>(39.2827300000, -76.5704700000)</td>\n",
       "      <td>STREET</td>\n",
       "      <td>1</td>\n",
       "      <td>2017-01-20 08:32:00</td>\n",
       "      <td>Low</td>\n",
       "      <td>LARCENY F/AUTO</td>\n",
       "    </tr>\n",
       "    <tr>\n",
       "      <th>6</th>\n",
       "      <td>31261</td>\n",
       "      <td>2017-01-19 00:00:00</td>\n",
       "      <td>16:49:00</td>\n",
       "      <td>3B</td>\n",
       "      <td>500 N CLINTON ST</td>\n",
       "      <td>ROBBERY - STREET</td>\n",
       "      <td>O</td>\n",
       "      <td>NaN</td>\n",
       "      <td>224.0</td>\n",
       "      <td>SOUTHEASTERN</td>\n",
       "      <td>Ellwood Park/Monument</td>\n",
       "      <td>-76.57070</td>\n",
       "      <td>39.29728</td>\n",
       "      <td>(39.2972800000, -76.5707000000)</td>\n",
       "      <td>STREET</td>\n",
       "      <td>1</td>\n",
       "      <td>2017-01-19 16:25:00</td>\n",
       "      <td>Medium</td>\n",
       "      <td>FAMILY DISTURB</td>\n",
       "    </tr>\n",
       "    <tr>\n",
       "      <th>7</th>\n",
       "      <td>31268</td>\n",
       "      <td>2017-01-19 00:00:00</td>\n",
       "      <td>16:00:00</td>\n",
       "      <td>3AF</td>\n",
       "      <td>200 W MONUMENT ST</td>\n",
       "      <td>ROBBERY - STREET</td>\n",
       "      <td>O</td>\n",
       "      <td>FIREARM</td>\n",
       "      <td>142.0</td>\n",
       "      <td>CENTRAL</td>\n",
       "      <td>Mount Vernon</td>\n",
       "      <td>-76.61905</td>\n",
       "      <td>39.29742</td>\n",
       "      <td>(39.2974200000, -76.6190500000)</td>\n",
       "      <td>STREET</td>\n",
       "      <td>1</td>\n",
       "      <td>2017-01-20 07:39:00</td>\n",
       "      <td>Low</td>\n",
       "      <td>MALE SLEEP</td>\n",
       "    </tr>\n",
       "    <tr>\n",
       "      <th>8</th>\n",
       "      <td>31270</td>\n",
       "      <td>2017-01-19 00:00:00</td>\n",
       "      <td>15:22:00</td>\n",
       "      <td>4C</td>\n",
       "      <td>1700 CLARKSON ST</td>\n",
       "      <td>AGG. ASSAULT</td>\n",
       "      <td>O</td>\n",
       "      <td>OTHER</td>\n",
       "      <td>942.0</td>\n",
       "      <td>SOUTHERN</td>\n",
       "      <td>South Baltimore</td>\n",
       "      <td>-76.61592</td>\n",
       "      <td>39.27002</td>\n",
       "      <td>(39.2700200000, -76.6159200000)</td>\n",
       "      <td>STREET</td>\n",
       "      <td>1</td>\n",
       "      <td>2017-01-19 15:23:00</td>\n",
       "      <td>High</td>\n",
       "      <td>AGGRAV ASSAULT</td>\n",
       "    </tr>\n",
       "    <tr>\n",
       "      <th>9</th>\n",
       "      <td>31274</td>\n",
       "      <td>2017-01-19 00:00:00</td>\n",
       "      <td>15:00:00</td>\n",
       "      <td>6D</td>\n",
       "      <td>200 MALLOW HILL RD</td>\n",
       "      <td>LARCENY FROM AUTO</td>\n",
       "      <td>NaN</td>\n",
       "      <td>NaN</td>\n",
       "      <td>823.0</td>\n",
       "      <td>SOUTHWESTERN</td>\n",
       "      <td>Westgate</td>\n",
       "      <td>-76.71002</td>\n",
       "      <td>39.28084</td>\n",
       "      <td>(39.2808400000, -76.7100200000)</td>\n",
       "      <td>NaN</td>\n",
       "      <td>1</td>\n",
       "      <td>2017-01-20 09:39:00</td>\n",
       "      <td>Low</td>\n",
       "      <td>LARCENY F/AUTO</td>\n",
       "    </tr>\n",
       "  </tbody>\n",
       "</table>\n",
       "</div>"
      ],
      "text/plain": [
       "   Unnamed: 0            CrimeDate CrimeTime CrimeCode            Location  \\\n",
       "0       31238  2017-01-19 00:00:00  19:00:00        6D    4200 WICKFORD RD   \n",
       "1       31239  2017-01-19 00:00:00  19:00:00        6D    800 WEDGEWOOD RD   \n",
       "2       31244  2017-01-19 00:00:00  18:30:00        6E     3000 SHANNON DR   \n",
       "3       31255  2017-01-19 00:00:00  17:50:00        7A         0 N PORT ST   \n",
       "4       31256  2017-01-19 00:00:00  17:30:00        5A     1300 CAMBRIA ST   \n",
       "5       31258  2017-01-19 00:00:00  17:00:00        6D    800 S BOULDIN ST   \n",
       "6       31261  2017-01-19 00:00:00  16:49:00        3B    500 N CLINTON ST   \n",
       "7       31268  2017-01-19 00:00:00  16:00:00       3AF   200 W MONUMENT ST   \n",
       "8       31270  2017-01-19 00:00:00  15:22:00        4C    1700 CLARKSON ST   \n",
       "9       31274  2017-01-19 00:00:00  15:00:00        6D  200 MALLOW HILL RD   \n",
       "\n",
       "         Description Inside/Outside   Weapon   Post      District  \\\n",
       "0  LARCENY FROM AUTO            NaN      NaN  541.0      NORTHERN   \n",
       "1  LARCENY FROM AUTO            NaN      NaN  823.0  SOUTHWESTERN   \n",
       "2            LARCENY            NaN      NaN  432.0  NORTHEASTERN   \n",
       "3         AUTO THEFT              O      NaN  221.0  SOUTHEASTERN   \n",
       "4           BURGLARY            NaN      NaN  911.0      SOUTHERN   \n",
       "5  LARCENY FROM AUTO              O      NaN  232.0  SOUTHEASTERN   \n",
       "6   ROBBERY - STREET              O      NaN  224.0  SOUTHEASTERN   \n",
       "7   ROBBERY - STREET              O  FIREARM  142.0       CENTRAL   \n",
       "8       AGG. ASSAULT              O    OTHER  942.0      SOUTHERN   \n",
       "9  LARCENY FROM AUTO            NaN      NaN  823.0  SOUTHWESTERN   \n",
       "\n",
       "            Neighborhood  Longitude  Latitude  \\\n",
       "0            Roland Park  -76.62663  39.34035   \n",
       "1             West Hills  -76.70612  39.29449   \n",
       "2          Belair-Edison  -76.56774  39.32524   \n",
       "3        Patterson Place  -76.58267  39.29265   \n",
       "4             Curtis Bay  -76.59111  39.23224   \n",
       "5                 Canton  -76.57047  39.28273   \n",
       "6  Ellwood Park/Monument  -76.57070  39.29728   \n",
       "7           Mount Vernon  -76.61905  39.29742   \n",
       "8        South Baltimore  -76.61592  39.27002   \n",
       "9               Westgate  -76.71002  39.28084   \n",
       "\n",
       "                        Location 1 Premise  Total Incidents  \\\n",
       "0  (39.3403500000, -76.6266300000)     NaN                1   \n",
       "1  (39.2944900000, -76.7061200000)     NaN                1   \n",
       "2  (39.3252400000, -76.5677400000)     NaN                1   \n",
       "3  (39.2926500000, -76.5826700000)  STREET                1   \n",
       "4  (39.2322400000, -76.5911100000)     NaN                1   \n",
       "5  (39.2827300000, -76.5704700000)  STREET                1   \n",
       "6  (39.2972800000, -76.5707000000)  STREET                1   \n",
       "7  (39.2974200000, -76.6190500000)  STREET                1   \n",
       "8  (39.2700200000, -76.6159200000)  STREET                1   \n",
       "9  (39.2808400000, -76.7100200000)     NaN                1   \n",
       "\n",
       "          callDateTime Priority CallDescription  \n",
       "0  2017-01-20 09:37:00      Low  LARCENY F/AUTO  \n",
       "1  2017-01-20 05:55:00      Low  LARCENY F/AUTO  \n",
       "2  2017-01-20 14:34:00      Low  LARCENY F/AUTO  \n",
       "3  2017-01-19 17:51:00   Medium      AUTO THEFT  \n",
       "4  2017-01-19 17:38:00   Medium        BURGLARY  \n",
       "5  2017-01-20 08:32:00      Low  LARCENY F/AUTO  \n",
       "6  2017-01-19 16:25:00   Medium  FAMILY DISTURB  \n",
       "7  2017-01-20 07:39:00      Low      MALE SLEEP  \n",
       "8  2017-01-19 15:23:00     High  AGGRAV ASSAULT  \n",
       "9  2017-01-20 09:39:00      Low  LARCENY F/AUTO  "
      ]
     },
     "execution_count": 8,
     "metadata": {},
     "output_type": "execute_result"
    }
   ],
   "source": [
    "bpd_df.head(10)"
   ]
  },
  {
   "cell_type": "markdown",
   "metadata": {},
   "source": [
    "## Dataset overview and ideas on cleaning, pre-processing and feature engineer\n",
    "\n",
    "**The dataset has 276,259 observations and 15 variables. Variables in <span style=\"color:red\">red</span> indicate the existence of missing values.**\n",
    "\n",
    "- Timestamp\n",
    " * CrimeDate: we first changed it to datetime, and then created/extracted new variables such as season and month from CrimeDate.\n",
    " * CrimeTime: we can extract/transform HourofTheDay\n",
    "- Categorical\n",
    " * CrimeCode: NEED A REFERENCE HERE\n",
    " * <span style=\"color:red\">Inside/Outside</span>: need to regroup \"I\" and \"O\" to \"Inside\" and \"Outside\" respectively.\n",
    " * <span style=\"color:red\">Weapon</span>: missing values account for $\\frac{2}{3}$ of the dataset, since it's a categorical variable, it will be hard to impute. By taking a further look at Weapon vs Description, we assume the NULL values stand for \"no weapon\", so we assign NULL values to \"None\".\n",
    " * District: rough geographical segmentation.\n",
    " * Neighborhood: administritive/geographical segmentation, can link to education level and housing price, etc\n",
    " * <span style=\"color:red\">Premise</span>: 123 different categories, top 5 most frequent are STREET,\n",
    "ROW/TOWNHO, \"PARKING LO\", \"APT/CONDO\", \"OTHER - IN\", which account for more than 80% of the dataset.\n",
    " \n",
    "- Numerical:\n",
    "    * Post: geographical/administration segmentation (reference:http://moit.baltimorecity.gov/sites/default/files/police_districts_w_posts.pdf)\n",
    "    * Longitude: useful for geographical analysis and visualization\n",
    "    * Latitude: useful for geographical analysis and visualization\n",
    "    * Location 1(DROPPED): provide same info as Longitude and Latitude, so we can probably drop this one.\n",
    "    * Total Incidents: all one column, can be dropped.\n",
    "    \n",
    " \n",
    "- Unstructure:\n",
    " * <span style=\"color:red\">Location</span>: suggest to drop.\n"
   ]
  },
  {
   "cell_type": "markdown",
   "metadata": {},
   "source": [
    "### Null Values"
   ]
  },
  {
   "cell_type": "code",
   "execution_count": 9,
   "metadata": {},
   "outputs": [
    {
     "data": {
      "text/html": [
       "<div>\n",
       "<style scoped>\n",
       "    .dataframe tbody tr th:only-of-type {\n",
       "        vertical-align: middle;\n",
       "    }\n",
       "\n",
       "    .dataframe tbody tr th {\n",
       "        vertical-align: top;\n",
       "    }\n",
       "\n",
       "    .dataframe thead th {\n",
       "        text-align: right;\n",
       "    }\n",
       "</style>\n",
       "<table border=\"1\" class=\"dataframe\">\n",
       "  <thead>\n",
       "    <tr style=\"text-align: right;\">\n",
       "      <th></th>\n",
       "      <th>Count</th>\n",
       "      <th>Proportion</th>\n",
       "    </tr>\n",
       "  </thead>\n",
       "  <tbody>\n",
       "    <tr>\n",
       "      <th>Unnamed: 0</th>\n",
       "      <td>0</td>\n",
       "      <td>0.000000</td>\n",
       "    </tr>\n",
       "    <tr>\n",
       "      <th>CrimeDate</th>\n",
       "      <td>0</td>\n",
       "      <td>0.000000</td>\n",
       "    </tr>\n",
       "    <tr>\n",
       "      <th>CrimeTime</th>\n",
       "      <td>0</td>\n",
       "      <td>0.000000</td>\n",
       "    </tr>\n",
       "    <tr>\n",
       "      <th>CrimeCode</th>\n",
       "      <td>0</td>\n",
       "      <td>0.000000</td>\n",
       "    </tr>\n",
       "    <tr>\n",
       "      <th>Location</th>\n",
       "      <td>0</td>\n",
       "      <td>0.000000</td>\n",
       "    </tr>\n",
       "    <tr>\n",
       "      <th>Description</th>\n",
       "      <td>0</td>\n",
       "      <td>0.000000</td>\n",
       "    </tr>\n",
       "    <tr>\n",
       "      <th>Inside/Outside</th>\n",
       "      <td>16</td>\n",
       "      <td>0.012914</td>\n",
       "    </tr>\n",
       "    <tr>\n",
       "      <th>Weapon</th>\n",
       "      <td>932</td>\n",
       "      <td>0.752220</td>\n",
       "    </tr>\n",
       "    <tr>\n",
       "      <th>Post</th>\n",
       "      <td>0</td>\n",
       "      <td>0.000000</td>\n",
       "    </tr>\n",
       "    <tr>\n",
       "      <th>District</th>\n",
       "      <td>0</td>\n",
       "      <td>0.000000</td>\n",
       "    </tr>\n",
       "    <tr>\n",
       "      <th>Neighborhood</th>\n",
       "      <td>0</td>\n",
       "      <td>0.000000</td>\n",
       "    </tr>\n",
       "    <tr>\n",
       "      <th>Longitude</th>\n",
       "      <td>0</td>\n",
       "      <td>0.000000</td>\n",
       "    </tr>\n",
       "    <tr>\n",
       "      <th>Latitude</th>\n",
       "      <td>0</td>\n",
       "      <td>0.000000</td>\n",
       "    </tr>\n",
       "    <tr>\n",
       "      <th>Location 1</th>\n",
       "      <td>0</td>\n",
       "      <td>0.000000</td>\n",
       "    </tr>\n",
       "    <tr>\n",
       "      <th>Premise</th>\n",
       "      <td>17</td>\n",
       "      <td>0.013721</td>\n",
       "    </tr>\n",
       "    <tr>\n",
       "      <th>Total Incidents</th>\n",
       "      <td>0</td>\n",
       "      <td>0.000000</td>\n",
       "    </tr>\n",
       "    <tr>\n",
       "      <th>callDateTime</th>\n",
       "      <td>0</td>\n",
       "      <td>0.000000</td>\n",
       "    </tr>\n",
       "    <tr>\n",
       "      <th>Priority</th>\n",
       "      <td>0</td>\n",
       "      <td>0.000000</td>\n",
       "    </tr>\n",
       "    <tr>\n",
       "      <th>CallDescription</th>\n",
       "      <td>0</td>\n",
       "      <td>0.000000</td>\n",
       "    </tr>\n",
       "  </tbody>\n",
       "</table>\n",
       "</div>"
      ],
      "text/plain": [
       "                 Count  Proportion\n",
       "Unnamed: 0           0    0.000000\n",
       "CrimeDate            0    0.000000\n",
       "CrimeTime            0    0.000000\n",
       "CrimeCode            0    0.000000\n",
       "Location             0    0.000000\n",
       "Description          0    0.000000\n",
       "Inside/Outside      16    0.012914\n",
       "Weapon             932    0.752220\n",
       "Post                 0    0.000000\n",
       "District             0    0.000000\n",
       "Neighborhood         0    0.000000\n",
       "Longitude            0    0.000000\n",
       "Latitude             0    0.000000\n",
       "Location 1           0    0.000000\n",
       "Premise             17    0.013721\n",
       "Total Incidents      0    0.000000\n",
       "callDateTime         0    0.000000\n",
       "Priority             0    0.000000\n",
       "CallDescription      0    0.000000"
      ]
     },
     "execution_count": 9,
     "metadata": {},
     "output_type": "execute_result"
    }
   ],
   "source": [
    "null_count = bpd_df.isnull().sum()\n",
    "null_prop = null_count / len(bpd_df)\n",
    "pd.DataFrame({\n",
    "    'Count': null_count,\n",
    "    'Proportion': null_prop})"
   ]
  },
  {
   "cell_type": "markdown",
   "metadata": {},
   "source": [
    "### CrimeDate"
   ]
  },
  {
   "cell_type": "code",
   "execution_count": 10,
   "metadata": {},
   "outputs": [],
   "source": [
    "bpd_df.CrimeDate = pd.to_datetime(bpd_df.CrimeDate)"
   ]
  },
  {
   "cell_type": "code",
   "execution_count": 11,
   "metadata": {
    "scrolled": true
   },
   "outputs": [],
   "source": [
    "date = bpd_df.CrimeDate.dt.month*100 + bpd_df.CrimeDate.dt.day\n",
    "bpd_df['Season'] = (pd.cut(date,[0,321,620,922,1220,1300],\n",
    "                       labels=['winter','spring','summer','autumn','winter '])\n",
    "                  .str.strip()\n",
    "               )"
   ]
  },
  {
   "cell_type": "code",
   "execution_count": 12,
   "metadata": {
    "scrolled": true
   },
   "outputs": [
    {
     "data": {
      "text/plain": [
       "0       winter\n",
       "1       winter\n",
       "2       winter\n",
       "3       winter\n",
       "4       winter\n",
       "         ...  \n",
       "1234    winter\n",
       "1235    winter\n",
       "1236    winter\n",
       "1237    winter\n",
       "1238    winter\n",
       "Name: Season, Length: 1239, dtype: object"
      ]
     },
     "execution_count": 12,
     "metadata": {},
     "output_type": "execute_result"
    }
   ],
   "source": [
    "bpd_df['Season']"
   ]
  },
  {
   "cell_type": "code",
   "execution_count": 13,
   "metadata": {},
   "outputs": [],
   "source": [
    "bpd_df['Month'] = bpd_df.CrimeDate.dt.month"
   ]
  },
  {
   "cell_type": "markdown",
   "metadata": {},
   "source": [
    "### CrimeTime"
   ]
  },
  {
   "cell_type": "code",
   "execution_count": 14,
   "metadata": {},
   "outputs": [],
   "source": [
    "bpd_df['CrimeTime'] = [time if time != \"24:00:00\" else \"0:00:00\" for time in bpd_df['CrimeTime']]"
   ]
  },
  {
   "cell_type": "code",
   "execution_count": 15,
   "metadata": {
    "scrolled": true
   },
   "outputs": [],
   "source": [
    "bpd_df.CrimeTime = pd.to_datetime(bpd_df['CrimeTime'],format= '%H:%M:%S').dt.time"
   ]
  },
  {
   "cell_type": "code",
   "execution_count": 16,
   "metadata": {},
   "outputs": [
    {
     "data": {
      "text/plain": [
       "0       19:00:00\n",
       "1       19:00:00\n",
       "2       18:30:00\n",
       "3       17:50:00\n",
       "4       17:30:00\n",
       "          ...   \n",
       "1234    02:00:00\n",
       "1235    01:30:00\n",
       "1236    00:45:00\n",
       "1237    00:45:00\n",
       "1238    00:10:00\n",
       "Name: CrimeTime, Length: 1239, dtype: object"
      ]
     },
     "execution_count": 16,
     "metadata": {},
     "output_type": "execute_result"
    }
   ],
   "source": [
    "bpd_df.CrimeTime"
   ]
  },
  {
   "cell_type": "code",
   "execution_count": 17,
   "metadata": {
    "scrolled": true
   },
   "outputs": [],
   "source": [
    "bpd_df['Hour'] = [int(str(time)[:2]) for time in bpd_df.CrimeTime]"
   ]
  },
  {
   "cell_type": "markdown",
   "metadata": {},
   "source": [
    "### Inside/Outside"
   ]
  },
  {
   "cell_type": "code",
   "execution_count": 18,
   "metadata": {},
   "outputs": [
    {
     "data": {
      "text/plain": [
       "array([nan, 'O', 'I', 'Outside', 'Inside'], dtype=object)"
      ]
     },
     "execution_count": 18,
     "metadata": {},
     "output_type": "execute_result"
    }
   ],
   "source": [
    "bpd_df['Inside/Outside'].unique()"
   ]
  },
  {
   "cell_type": "code",
   "execution_count": 19,
   "metadata": {},
   "outputs": [],
   "source": [
    "bpd_df['Inside/Outside'].value_counts()\n",
    "bpd_df['Inside/Outside'] = bpd_df['Inside/Outside'].replace('I', 'Inside')\n",
    "bpd_df['Inside/Outside'] = bpd_df['Inside/Outside'].replace('O', 'Outside')"
   ]
  },
  {
   "cell_type": "markdown",
   "metadata": {},
   "source": [
    "### Total Incidents"
   ]
  },
  {
   "cell_type": "code",
   "execution_count": 20,
   "metadata": {},
   "outputs": [
    {
     "data": {
      "text/plain": [
       "count    1239.0\n",
       "mean        1.0\n",
       "std         0.0\n",
       "min         1.0\n",
       "25%         1.0\n",
       "50%         1.0\n",
       "75%         1.0\n",
       "max         1.0\n",
       "Name: Total Incidents, dtype: float64"
      ]
     },
     "execution_count": 20,
     "metadata": {},
     "output_type": "execute_result"
    }
   ],
   "source": [
    "bpd_df['Total Incidents'].describe()"
   ]
  },
  {
   "cell_type": "markdown",
   "metadata": {},
   "source": [
    "### Premise"
   ]
  },
  {
   "cell_type": "code",
   "execution_count": 21,
   "metadata": {
    "scrolled": true
   },
   "outputs": [
    {
     "data": {
      "text/plain": [
       "STREET        475\n",
       "ROW/TOWNHO    318\n",
       "APT/CONDO      56\n",
       "OTHER - IN     50\n",
       "PARKING LO     38\n",
       "SCHOOL         33\n",
       "CONVENIENC     18\n",
       "RETAIL/SMA     17\n",
       "OTHER/RESI     16\n",
       "GROCERY/CO     16\n",
       "OTHER - OU     14\n",
       "Street         12\n",
       "YARD           12\n",
       "SINGLE HOU     11\n",
       "DRIVEWAY       10\n",
       "ALLEY          10\n",
       "DRUG STORE      9\n",
       "UNKNOWN         8\n",
       "GAS STATIO      8\n",
       "HOSP/NURS.      7\n",
       "PORCH/DECK      6\n",
       "GARAGE ON       5\n",
       "HOTEL/MOTE      4\n",
       "SHOPPING M      4\n",
       "BAR             4\n",
       "SHED/GARAG      4\n",
       "RESTAURANT      4\n",
       "OFFICE BUI      4\n",
       "LIQUOR STO      3\n",
       "BUS/AUTO        3\n",
       "RELIGIOUS       3\n",
       "SPECIALTY       3\n",
       "Dwelling        2\n",
       "CARRY OUT       2\n",
       "Alley           2\n",
       "CLOTHING/S      2\n",
       "DEPARTMENT      2\n",
       "Common Bus      2\n",
       "VACANT BUI      2\n",
       "CAR  REPAI      2\n",
       "YARD/BUSIN      2\n",
       "MARKET STA      2\n",
       "BUS. PARK       1\n",
       "LAUNDRY/CL      1\n",
       "PARK            1\n",
       "VACANT LOT      1\n",
       "CAR LOT-NE      1\n",
       "DOCTORS OF      1\n",
       "AUTO PARTS      1\n",
       "WHOLESALE/      1\n",
       "CONSTRUCTI      1\n",
       "STADIUM         1\n",
       "SALESMAN/C      1\n",
       "RECREATION      1\n",
       "LIBRARY         1\n",
       "BANK/FINAN      1\n",
       "PUBLIC HOU      1\n",
       "APT. LOCKE      1\n",
       "TAVERN/NIG      1\n",
       "Name: Premise, dtype: int64"
      ]
     },
     "execution_count": 21,
     "metadata": {},
     "output_type": "execute_result"
    }
   ],
   "source": [
    "bpd_df['Premise'].value_counts()"
   ]
  },
  {
   "cell_type": "code",
   "execution_count": 22,
   "metadata": {},
   "outputs": [
    {
     "data": {
      "text/plain": [
       "array([nan, 'STREET', 'ROW/TOWNHO', 'DRUG STORE', 'UNKNOWN', 'APT/CONDO',\n",
       "       'GROCERY/CO', 'Street', 'SCHOOL', 'PARKING LO', 'OTHER - IN',\n",
       "       'SHOPPING M', 'HOTEL/MOTE', 'OTHER/RESI', 'SINGLE HOU', 'YARD',\n",
       "       'LIBRARY', 'SHED/GARAG', 'ALLEY', 'Common Bus', 'DRIVEWAY',\n",
       "       'SALESMAN/C', 'CONVENIENC', 'GAS STATIO', 'Alley', 'OTHER - OU',\n",
       "       'TAVERN/NIG', 'VACANT BUI', 'Dwelling', 'CAR  REPAI', 'YARD/BUSIN',\n",
       "       'RETAIL/SMA', 'PORCH/DECK', 'SPECIALTY', 'CLOTHING/S', 'GARAGE ON',\n",
       "       'BAR', 'LIQUOR STO', 'CONSTRUCTI', 'RELIGIOUS', 'LAUNDRY/CL',\n",
       "       'HOSP/NURS.', 'BANK/FINAN', 'OFFICE BUI', 'RESTAURANT',\n",
       "       'CAR LOT-NE', 'DEPARTMENT', 'PARK', 'BUS. PARK', 'WHOLESALE/',\n",
       "       'VACANT LOT', 'CARRY OUT', 'MARKET STA', 'AUTO PARTS',\n",
       "       'RECREATION', 'BUS/AUTO', 'PUBLIC HOU', 'DOCTORS OF', 'STADIUM',\n",
       "       'APT. LOCKE'], dtype=object)"
      ]
     },
     "execution_count": 22,
     "metadata": {},
     "output_type": "execute_result"
    }
   ],
   "source": [
    "bpd_df['Premise'].unique()"
   ]
  },
  {
   "cell_type": "markdown",
   "metadata": {},
   "source": [
    "We notice we can group variables such as \"STREET\" and \"Street\" together."
   ]
  },
  {
   "cell_type": "code",
   "execution_count": 23,
   "metadata": {},
   "outputs": [],
   "source": [
    "bpd_df['Premise'] = bpd_df['Premise'].replace('Street', 'STREET')\n",
    "bpd_df['Premise'] = bpd_df['Premise'].replace('GARAGE ON', 'SHED/GARAGE')\n",
    "bpd_df['Premise'] = bpd_df['Premise'].replace('SHED/GARAG', 'SHED/GARAGE')   \n",
    "bpd_df['Premise'] = bpd_df['Premise'].replace('Garage', 'SHED/GARAGE')   \n",
    "                           \n"
   ]
  },
  {
   "cell_type": "markdown",
   "metadata": {},
   "source": [
    "### Weapon vs Description"
   ]
  },
  {
   "cell_type": "code",
   "execution_count": 24,
   "metadata": {
    "scrolled": true
   },
   "outputs": [
    {
     "data": {
      "text/plain": [
       "HANDS      154\n",
       "FIREARM     90\n",
       "OTHER       44\n",
       "KNIFE       19\n",
       "Name: Weapon, dtype: int64"
      ]
     },
     "execution_count": 24,
     "metadata": {},
     "output_type": "execute_result"
    }
   ],
   "source": [
    "bpd_df.Weapon.value_counts()"
   ]
  },
  {
   "cell_type": "code",
   "execution_count": 25,
   "metadata": {
    "scrolled": false
   },
   "outputs": [
    {
     "data": {
      "text/plain": [
       "array(['LARCENY FROM AUTO', 'LARCENY', 'AUTO THEFT', 'BURGLARY',\n",
       "       'ROBBERY - STREET', 'AGG. ASSAULT', 'COMMON ASSAULT',\n",
       "       'ROBBERY - COMMERCIAL', 'SHOOTING', 'ROBBERY - RESIDENCE',\n",
       "       'ROBBERY - CARJACKING', 'HOMICIDE', 'ASSAULT BY THREAT', 'ARSON',\n",
       "       'RAPE'], dtype=object)"
      ]
     },
     "execution_count": 25,
     "metadata": {},
     "output_type": "execute_result"
    }
   ],
   "source": [
    "bpd_df.Description.unique()"
   ]
  },
  {
   "cell_type": "code",
   "execution_count": 26,
   "metadata": {},
   "outputs": [
    {
     "name": "stderr",
     "output_type": "stream",
     "text": [
      "/Users/tuliprichard/anaconda3/lib/python3.7/site-packages/ipykernel_launcher.py:7: UserWarning: Matplotlib is currently using module://ipykernel.pylab.backend_inline, which is a non-GUI backend, so cannot show the figure.\n",
      "  import sys\n"
     ]
    },
    {
     "data": {
      "image/png": "[encoded data removed]",
      "text/plain": [
       "<Figure size 720x720 with 2 Axes>"
      ]
     },
     "metadata": {
      "needs_background": "light"
     },
     "output_type": "display_data"
    }
   ],
   "source": [
    "weapon_null = bpd_df[bpd_df['Weapon'].isnull()]\n",
    "\n",
    "fig, ax = plt.subplots(2,1)\n",
    "sns.countplot(y = bpd_df['Description'], ax = ax[0])\n",
    "sns.countplot(y = weapon_null['Description'], ax = ax[1])\n",
    "fig.set_size_inches(10,10)\n",
    "fig.show()"
   ]
  },
  {
   "cell_type": "markdown",
   "metadata": {},
   "source": [
    "By taking a further look at Weapon vs Description, we assume the NULL values stand for \"no weapon\", so we assign NULL values to \"None\"."
   ]
  },
  {
   "cell_type": "code",
   "execution_count": 27,
   "metadata": {},
   "outputs": [],
   "source": [
    "bpd_df['Weapon'] = bpd_df['Weapon'].fillna('NONE')"
   ]
  },
  {
   "cell_type": "code",
   "execution_count": 28,
   "metadata": {},
   "outputs": [],
   "source": [
    "# bpd_df.to_csv('../data/BPD_CRIME_DATA_CLEAN.csv', index=False)\n",
    "# bpd_df_clean = pd.read_csv('../data/BPD_CRIME_DATA_CLEAN.csv')"
   ]
  },
  {
   "cell_type": "code",
   "execution_count": 29,
   "metadata": {},
   "outputs": [
    {
     "data": {
      "text/html": [
       "<div>\n",
       "<style scoped>\n",
       "    .dataframe tbody tr th:only-of-type {\n",
       "        vertical-align: middle;\n",
       "    }\n",
       "\n",
       "    .dataframe tbody tr th {\n",
       "        vertical-align: top;\n",
       "    }\n",
       "\n",
       "    .dataframe thead th {\n",
       "        text-align: right;\n",
       "    }\n",
       "</style>\n",
       "<table border=\"1\" class=\"dataframe\">\n",
       "  <thead>\n",
       "    <tr style=\"text-align: right;\">\n",
       "      <th></th>\n",
       "      <th>Unnamed: 0</th>\n",
       "      <th>CrimeDate</th>\n",
       "      <th>CrimeTime</th>\n",
       "      <th>CrimeCode</th>\n",
       "      <th>Location</th>\n",
       "      <th>Description</th>\n",
       "      <th>Inside/Outside</th>\n",
       "      <th>Weapon</th>\n",
       "      <th>Post</th>\n",
       "      <th>District</th>\n",
       "      <th>...</th>\n",
       "      <th>Latitude</th>\n",
       "      <th>Location 1</th>\n",
       "      <th>Premise</th>\n",
       "      <th>Total Incidents</th>\n",
       "      <th>callDateTime</th>\n",
       "      <th>Priority</th>\n",
       "      <th>CallDescription</th>\n",
       "      <th>Season</th>\n",
       "      <th>Month</th>\n",
       "      <th>Hour</th>\n",
       "    </tr>\n",
       "  </thead>\n",
       "  <tbody>\n",
       "    <tr>\n",
       "      <th>0</th>\n",
       "      <td>31238</td>\n",
       "      <td>2017-01-19</td>\n",
       "      <td>19:00:00</td>\n",
       "      <td>6D</td>\n",
       "      <td>4200 WICKFORD RD</td>\n",
       "      <td>LARCENY FROM AUTO</td>\n",
       "      <td>NaN</td>\n",
       "      <td>NONE</td>\n",
       "      <td>541.0</td>\n",
       "      <td>NORTHERN</td>\n",
       "      <td>...</td>\n",
       "      <td>39.34035</td>\n",
       "      <td>(39.3403500000, -76.6266300000)</td>\n",
       "      <td>NaN</td>\n",
       "      <td>1</td>\n",
       "      <td>2017-01-20 09:37:00</td>\n",
       "      <td>Low</td>\n",
       "      <td>LARCENY F/AUTO</td>\n",
       "      <td>winter</td>\n",
       "      <td>1</td>\n",
       "      <td>19</td>\n",
       "    </tr>\n",
       "    <tr>\n",
       "      <th>1</th>\n",
       "      <td>31239</td>\n",
       "      <td>2017-01-19</td>\n",
       "      <td>19:00:00</td>\n",
       "      <td>6D</td>\n",
       "      <td>800 WEDGEWOOD RD</td>\n",
       "      <td>LARCENY FROM AUTO</td>\n",
       "      <td>NaN</td>\n",
       "      <td>NONE</td>\n",
       "      <td>823.0</td>\n",
       "      <td>SOUTHWESTERN</td>\n",
       "      <td>...</td>\n",
       "      <td>39.29449</td>\n",
       "      <td>(39.2944900000, -76.7061200000)</td>\n",
       "      <td>NaN</td>\n",
       "      <td>1</td>\n",
       "      <td>2017-01-20 05:55:00</td>\n",
       "      <td>Low</td>\n",
       "      <td>LARCENY F/AUTO</td>\n",
       "      <td>winter</td>\n",
       "      <td>1</td>\n",
       "      <td>19</td>\n",
       "    </tr>\n",
       "    <tr>\n",
       "      <th>2</th>\n",
       "      <td>31244</td>\n",
       "      <td>2017-01-19</td>\n",
       "      <td>18:30:00</td>\n",
       "      <td>6E</td>\n",
       "      <td>3000 SHANNON DR</td>\n",
       "      <td>LARCENY</td>\n",
       "      <td>NaN</td>\n",
       "      <td>NONE</td>\n",
       "      <td>432.0</td>\n",
       "      <td>NORTHEASTERN</td>\n",
       "      <td>...</td>\n",
       "      <td>39.32524</td>\n",
       "      <td>(39.3252400000, -76.5677400000)</td>\n",
       "      <td>NaN</td>\n",
       "      <td>1</td>\n",
       "      <td>2017-01-20 14:34:00</td>\n",
       "      <td>Low</td>\n",
       "      <td>LARCENY F/AUTO</td>\n",
       "      <td>winter</td>\n",
       "      <td>1</td>\n",
       "      <td>18</td>\n",
       "    </tr>\n",
       "    <tr>\n",
       "      <th>3</th>\n",
       "      <td>31255</td>\n",
       "      <td>2017-01-19</td>\n",
       "      <td>17:50:00</td>\n",
       "      <td>7A</td>\n",
       "      <td>0 N PORT ST</td>\n",
       "      <td>AUTO THEFT</td>\n",
       "      <td>Outside</td>\n",
       "      <td>NONE</td>\n",
       "      <td>221.0</td>\n",
       "      <td>SOUTHEASTERN</td>\n",
       "      <td>...</td>\n",
       "      <td>39.29265</td>\n",
       "      <td>(39.2926500000, -76.5826700000)</td>\n",
       "      <td>STREET</td>\n",
       "      <td>1</td>\n",
       "      <td>2017-01-19 17:51:00</td>\n",
       "      <td>Medium</td>\n",
       "      <td>AUTO THEFT</td>\n",
       "      <td>winter</td>\n",
       "      <td>1</td>\n",
       "      <td>17</td>\n",
       "    </tr>\n",
       "    <tr>\n",
       "      <th>4</th>\n",
       "      <td>31256</td>\n",
       "      <td>2017-01-19</td>\n",
       "      <td>17:30:00</td>\n",
       "      <td>5A</td>\n",
       "      <td>1300 CAMBRIA ST</td>\n",
       "      <td>BURGLARY</td>\n",
       "      <td>NaN</td>\n",
       "      <td>NONE</td>\n",
       "      <td>911.0</td>\n",
       "      <td>SOUTHERN</td>\n",
       "      <td>...</td>\n",
       "      <td>39.23224</td>\n",
       "      <td>(39.2322400000, -76.5911100000)</td>\n",
       "      <td>NaN</td>\n",
       "      <td>1</td>\n",
       "      <td>2017-01-19 17:38:00</td>\n",
       "      <td>Medium</td>\n",
       "      <td>BURGLARY</td>\n",
       "      <td>winter</td>\n",
       "      <td>1</td>\n",
       "      <td>17</td>\n",
       "    </tr>\n",
       "  </tbody>\n",
       "</table>\n",
       "<p>5 rows × 22 columns</p>\n",
       "</div>"
      ],
      "text/plain": [
       "   Unnamed: 0   CrimeDate CrimeTime CrimeCode          Location  \\\n",
       "0       31238  2017-01-19  19:00:00        6D  4200 WICKFORD RD   \n",
       "1       31239  2017-01-19  19:00:00        6D  800 WEDGEWOOD RD   \n",
       "2       31244  2017-01-19  18:30:00        6E   3000 SHANNON DR   \n",
       "3       31255  2017-01-19  17:50:00        7A       0 N PORT ST   \n",
       "4       31256  2017-01-19  17:30:00        5A   1300 CAMBRIA ST   \n",
       "\n",
       "         Description Inside/Outside Weapon   Post      District  ...  \\\n",
       "0  LARCENY FROM AUTO            NaN   NONE  541.0      NORTHERN  ...   \n",
       "1  LARCENY FROM AUTO            NaN   NONE  823.0  SOUTHWESTERN  ...   \n",
       "2            LARCENY            NaN   NONE  432.0  NORTHEASTERN  ...   \n",
       "3         AUTO THEFT        Outside   NONE  221.0  SOUTHEASTERN  ...   \n",
       "4           BURGLARY            NaN   NONE  911.0      SOUTHERN  ...   \n",
       "\n",
       "   Latitude                       Location 1  Premise Total Incidents  \\\n",
       "0  39.34035  (39.3403500000, -76.6266300000)      NaN               1   \n",
       "1  39.29449  (39.2944900000, -76.7061200000)      NaN               1   \n",
       "2  39.32524  (39.3252400000, -76.5677400000)      NaN               1   \n",
       "3  39.29265  (39.2926500000, -76.5826700000)   STREET               1   \n",
       "4  39.23224  (39.2322400000, -76.5911100000)      NaN               1   \n",
       "\n",
       "          callDateTime  Priority CallDescription  Season Month Hour  \n",
       "0  2017-01-20 09:37:00       Low  LARCENY F/AUTO  winter     1   19  \n",
       "1  2017-01-20 05:55:00       Low  LARCENY F/AUTO  winter     1   19  \n",
       "2  2017-01-20 14:34:00       Low  LARCENY F/AUTO  winter     1   18  \n",
       "3  2017-01-19 17:51:00    Medium      AUTO THEFT  winter     1   17  \n",
       "4  2017-01-19 17:38:00    Medium        BURGLARY  winter     1   17  \n",
       "\n",
       "[5 rows x 22 columns]"
      ]
     },
     "execution_count": 29,
     "metadata": {},
     "output_type": "execute_result"
    }
   ],
   "source": [
    "bpd_df_clean.head()"
   ]
  },
  {
   "cell_type": "markdown",
   "metadata": {},
   "source": [
    "### Description versus priority <a id='new'></a>"
   ]
  },
  {
   "cell_type": "code",
   "execution_count": 30,
   "metadata": {},
   "outputs": [
    {
     "name": "stderr",
     "output_type": "stream",
     "text": [
      "/Users/tuliprichard/anaconda3/lib/python3.7/site-packages/ipykernel_launcher.py:10: UserWarning: Matplotlib is currently using module://ipykernel.pylab.backend_inline, which is a non-GUI backend, so cannot show the figure.\n",
      "  # Remove the CWD from sys.path while we load stuff.\n"
     ]
    },
    {
     "data": {
      "image/png": "[encoded data removed]",
      "text/plain": [
       "<Figure size 720x720 with 3 Axes>"
      ]
     },
     "metadata": {
      "needs_background": "light"
     },
     "output_type": "display_data"
    }
   ],
   "source": [
    "high_priority = bpd_df[bpd_df['Priority'] == 'High']\n",
    "medium_priority = bpd_df[bpd_df['Priority'] == 'Medium']\n",
    "low_priority = bpd_df[bpd_df['Priority'] == 'Low']\n",
    "\n",
    "fig, ax = plt.subplots(3,1)\n",
    "sns.countplot(y = high_priority['Description'], ax = ax[0])\n",
    "sns.countplot(y = medium_priority['Description'], ax = ax[1])\n",
    "sns.countplot(y = low_priority['Description'], ax = ax[2])\n",
    "fig.set_size_inches(10,10)\n",
    "fig.show()"
   ]
  },
  {
   "cell_type": "code",
   "execution_count": 31,
   "metadata": {},
   "outputs": [],
   "source": [
    "bpd_df.to_csv('../data/crimes_with_calls_cleaned.csv', index=False)"
   ]
  },
  {
   "cell_type": "code",
   "execution_count": null,
   "metadata": {},
   "outputs": [],
   "source": []
  }
 ],
 "metadata": {
  "hide_input": false,
  "kernelspec": {
   "display_name": "Python 3",
   "language": "python",
   "name": "python3"
  },
  "language_info": {
   "codemirror_mode": {
    "name": "ipython",
    "version": 3
   },
   "file_extension": ".py",
   "mimetype": "text/x-python",
   "name": "python",
   "nbconvert_exporter": "python",
   "pygments_lexer": "ipython3",
   "version": "3.7.7"
  },
  "toc": {
   "base_numbering": 1,
   "nav_menu": {},
   "number_sections": true,
   "sideBar": true,
   "skip_h1_title": false,
   "title_cell": "Table of Contents",
   "title_sidebar": "Contents",
   "toc_cell": false,
   "toc_position": {},
   "toc_section_display": true,
   "toc_window_display": false
  },
  "varInspector": {
   "cols": {
    "lenName": 16,
    "lenType": 16,
    "lenVar": 40
   },
   "kernels_config": {
    "python": {
     "delete_cmd_postfix": "",
     "delete_cmd_prefix": "del ",
     "library": "var_list.py",
     "varRefreshCmd": "print(var_dic_list())"
    },
    "r": {
     "delete_cmd_postfix": ") ",
     "delete_cmd_prefix": "rm(",
     "library": "var_list.r",
     "varRefreshCmd": "cat(var_dic_list()) "
    }
   },
   "types_to_exclude": [
    "module",
    "function",
    "builtin_function_or_method",
    "instance",
    "_Feature"
   ],
   "window_display": false
  }
 },
 "nbformat": 4,
 "nbformat_minor": 4
}
