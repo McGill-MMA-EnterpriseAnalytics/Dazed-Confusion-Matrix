{
 "cells": [
  {
   "cell_type": "code",
   "execution_count": 1,
   "metadata": {
    "collapsed": true
   },
   "outputs": [],
   "source": [
    "import pandas as pd\n",
    "import numpy as np"
   ]
  },
  {
   "cell_type": "code",
   "execution_count": 2,
   "outputs": [],
   "source": [
    "bpd_df = pd.read_csv('../data/BPD_CRIME_DATA_CLEAN.csv')"
   ],
   "metadata": {
    "collapsed": false,
    "pycharm": {
     "name": "#%%\n"
    }
   }
  },
  {
   "cell_type": "code",
   "execution_count": 3,
   "outputs": [],
   "source": [
    "bpd_df = bpd_df.drop(columns=[\"Location\",\"Location 1\",\"Total Incidents\"])\n"
   ],
   "metadata": {
    "collapsed": false,
    "pycharm": {
     "name": "#%%\n"
    }
   }
  },
  {
   "cell_type": "code",
   "execution_count": 4,
   "outputs": [],
   "source": [
    "bpd_df[\"CrimeDate\"] = pd.to_datetime(bpd_df[\"CrimeDate\"])\n",
    "bpd_df[\"Year\"] = bpd_df[\"CrimeDate\"].dt.year\n"
   ],
   "metadata": {
    "collapsed": false,
    "pycharm": {
     "name": "#%%\n"
    }
   }
  },
  {
   "cell_type": "code",
   "execution_count": 5,
   "outputs": [
    {
     "data": {
      "text/plain": "   CrimeDate CrimeTime CrimeCode          Description Inside/Outside   Weapon  \\\n0 2017-09-02  23:30:00       3JK  ROBBERY - RESIDENCE         Inside    KNIFE   \n1 2017-09-02  23:00:00        7A           AUTO THEFT        Outside     NONE   \n2 2017-09-02  22:53:00        9S             SHOOTING        Outside  FIREARM   \n3 2017-09-02  22:50:00        4C         AGG. ASSAULT         Inside    OTHER   \n4 2017-09-02  22:31:00        4E       COMMON ASSAULT        Outside    HANDS   \n\n    Post  District      Neighborhood  Longitude  Latitude     Premise  Season  \\\n0  913.0  SOUTHERN          Brooklyn  -76.60541  39.22951  ROW/TOWNHO  summer   \n1  133.0   CENTRAL    Reservoir Hill  -76.63217  39.31360      STREET  summer   \n2  524.0  NORTHERN    Winston-Govans  -76.60697  39.34768      STREET  summer   \n3  934.0  SOUTHERN  Carrollton Ridge  -76.64526  39.28315  ROW/TOWNHO  summer   \n4  113.0   CENTRAL     Downtown West  -76.61365  39.28756      STREET  summer   \n\n   Month  Hour  Year  \n0      9    23  2017  \n1      9    23  2017  \n2      9    22  2017  \n3      9    22  2017  \n4      9    22  2017  ",
      "text/html": "<div>\n<style scoped>\n    .dataframe tbody tr th:only-of-type {\n        vertical-align: middle;\n    }\n\n    .dataframe tbody tr th {\n        vertical-align: top;\n    }\n\n    .dataframe thead th {\n        text-align: right;\n    }\n</style>\n<table border=\"1\" class=\"dataframe\">\n  <thead>\n    <tr style=\"text-align: right;\">\n      <th></th>\n      <th>CrimeDate</th>\n      <th>CrimeTime</th>\n      <th>CrimeCode</th>\n      <th>Description</th>\n      <th>Inside/Outside</th>\n      <th>Weapon</th>\n      <th>Post</th>\n      <th>District</th>\n      <th>Neighborhood</th>\n      <th>Longitude</th>\n      <th>Latitude</th>\n      <th>Premise</th>\n      <th>Season</th>\n      <th>Month</th>\n      <th>Hour</th>\n      <th>Year</th>\n    </tr>\n  </thead>\n  <tbody>\n    <tr>\n      <th>0</th>\n      <td>2017-09-02</td>\n      <td>23:30:00</td>\n      <td>3JK</td>\n      <td>ROBBERY - RESIDENCE</td>\n      <td>Inside</td>\n      <td>KNIFE</td>\n      <td>913.0</td>\n      <td>SOUTHERN</td>\n      <td>Brooklyn</td>\n      <td>-76.60541</td>\n      <td>39.22951</td>\n      <td>ROW/TOWNHO</td>\n      <td>summer</td>\n      <td>9</td>\n      <td>23</td>\n      <td>2017</td>\n    </tr>\n    <tr>\n      <th>1</th>\n      <td>2017-09-02</td>\n      <td>23:00:00</td>\n      <td>7A</td>\n      <td>AUTO THEFT</td>\n      <td>Outside</td>\n      <td>NONE</td>\n      <td>133.0</td>\n      <td>CENTRAL</td>\n      <td>Reservoir Hill</td>\n      <td>-76.63217</td>\n      <td>39.31360</td>\n      <td>STREET</td>\n      <td>summer</td>\n      <td>9</td>\n      <td>23</td>\n      <td>2017</td>\n    </tr>\n    <tr>\n      <th>2</th>\n      <td>2017-09-02</td>\n      <td>22:53:00</td>\n      <td>9S</td>\n      <td>SHOOTING</td>\n      <td>Outside</td>\n      <td>FIREARM</td>\n      <td>524.0</td>\n      <td>NORTHERN</td>\n      <td>Winston-Govans</td>\n      <td>-76.60697</td>\n      <td>39.34768</td>\n      <td>STREET</td>\n      <td>summer</td>\n      <td>9</td>\n      <td>22</td>\n      <td>2017</td>\n    </tr>\n    <tr>\n      <th>3</th>\n      <td>2017-09-02</td>\n      <td>22:50:00</td>\n      <td>4C</td>\n      <td>AGG. ASSAULT</td>\n      <td>Inside</td>\n      <td>OTHER</td>\n      <td>934.0</td>\n      <td>SOUTHERN</td>\n      <td>Carrollton Ridge</td>\n      <td>-76.64526</td>\n      <td>39.28315</td>\n      <td>ROW/TOWNHO</td>\n      <td>summer</td>\n      <td>9</td>\n      <td>22</td>\n      <td>2017</td>\n    </tr>\n    <tr>\n      <th>4</th>\n      <td>2017-09-02</td>\n      <td>22:31:00</td>\n      <td>4E</td>\n      <td>COMMON ASSAULT</td>\n      <td>Outside</td>\n      <td>HANDS</td>\n      <td>113.0</td>\n      <td>CENTRAL</td>\n      <td>Downtown West</td>\n      <td>-76.61365</td>\n      <td>39.28756</td>\n      <td>STREET</td>\n      <td>summer</td>\n      <td>9</td>\n      <td>22</td>\n      <td>2017</td>\n    </tr>\n  </tbody>\n</table>\n</div>"
     },
     "execution_count": 5,
     "metadata": {},
     "output_type": "execute_result"
    }
   ],
   "source": [
    "bpd_df.head()"
   ],
   "metadata": {
    "collapsed": false,
    "pycharm": {
     "name": "#%%\n"
    }
   }
  },
  {
   "cell_type": "code",
   "execution_count": 6,
   "outputs": [],
   "source": [
    "bpd_df = bpd_df.drop(columns=[\"CrimeTime\"])"
   ],
   "metadata": {
    "collapsed": false,
    "pycharm": {
     "name": "#%%\n"
    }
   }
  },
  {
   "cell_type": "code",
   "execution_count": 7,
   "outputs": [],
   "source": [
    "bpd_df = bpd_df.drop(columns=\"CrimeCode\")\n"
   ],
   "metadata": {
    "collapsed": false,
    "pycharm": {
     "name": "#%%\n"
    }
   }
  },
  {
   "cell_type": "code",
   "execution_count": 8,
   "outputs": [],
   "source": [
    "bpd_df = bpd_df[bpd_df[\"Inside/Outside\"].notna()]"
   ],
   "metadata": {
    "collapsed": false,
    "pycharm": {
     "name": "#%%\n"
    }
   }
  },
  {
   "cell_type": "code",
   "execution_count": 9,
   "outputs": [],
   "source": [
    "bpd_df = bpd_df[bpd_df[\"Latitude\"].notna()]\n"
   ],
   "metadata": {
    "collapsed": false,
    "pycharm": {
     "name": "#%%\n"
    }
   }
  },
  {
   "cell_type": "code",
   "execution_count": 10,
   "outputs": [
    {
     "data": {
      "text/plain": "                Count  Proportion\nCrimeDate           0    0.000000\nDescription         0    0.000000\nInside/Outside      0    0.000000\nWeapon              0    0.000000\nPost                7    0.000027\nDistrict            3    0.000011\nNeighborhood      522    0.001976\nLongitude           0    0.000000\nLatitude            0    0.000000\nPremise           478    0.001810\nSeason              0    0.000000\nMonth               0    0.000000\nHour                0    0.000000\nYear                0    0.000000",
      "text/html": "<div>\n<style scoped>\n    .dataframe tbody tr th:only-of-type {\n        vertical-align: middle;\n    }\n\n    .dataframe tbody tr th {\n        vertical-align: top;\n    }\n\n    .dataframe thead th {\n        text-align: right;\n    }\n</style>\n<table border=\"1\" class=\"dataframe\">\n  <thead>\n    <tr style=\"text-align: right;\">\n      <th></th>\n      <th>Count</th>\n      <th>Proportion</th>\n    </tr>\n  </thead>\n  <tbody>\n    <tr>\n      <th>CrimeDate</th>\n      <td>0</td>\n      <td>0.000000</td>\n    </tr>\n    <tr>\n      <th>Description</th>\n      <td>0</td>\n      <td>0.000000</td>\n    </tr>\n    <tr>\n      <th>Inside/Outside</th>\n      <td>0</td>\n      <td>0.000000</td>\n    </tr>\n    <tr>\n      <th>Weapon</th>\n      <td>0</td>\n      <td>0.000000</td>\n    </tr>\n    <tr>\n      <th>Post</th>\n      <td>7</td>\n      <td>0.000027</td>\n    </tr>\n    <tr>\n      <th>District</th>\n      <td>3</td>\n      <td>0.000011</td>\n    </tr>\n    <tr>\n      <th>Neighborhood</th>\n      <td>522</td>\n      <td>0.001976</td>\n    </tr>\n    <tr>\n      <th>Longitude</th>\n      <td>0</td>\n      <td>0.000000</td>\n    </tr>\n    <tr>\n      <th>Latitude</th>\n      <td>0</td>\n      <td>0.000000</td>\n    </tr>\n    <tr>\n      <th>Premise</th>\n      <td>478</td>\n      <td>0.001810</td>\n    </tr>\n    <tr>\n      <th>Season</th>\n      <td>0</td>\n      <td>0.000000</td>\n    </tr>\n    <tr>\n      <th>Month</th>\n      <td>0</td>\n      <td>0.000000</td>\n    </tr>\n    <tr>\n      <th>Hour</th>\n      <td>0</td>\n      <td>0.000000</td>\n    </tr>\n    <tr>\n      <th>Year</th>\n      <td>0</td>\n      <td>0.000000</td>\n    </tr>\n  </tbody>\n</table>\n</div>"
     },
     "execution_count": 10,
     "metadata": {},
     "output_type": "execute_result"
    }
   ],
   "source": [
    "null_count = bpd_df.isnull().sum()\n",
    "null_prop = null_count / len(bpd_df)\n",
    "pd.DataFrame({\n",
    "    'Count': null_count,\n",
    "    'Proportion': null_prop})\n"
   ],
   "metadata": {
    "collapsed": false,
    "pycharm": {
     "name": "#%%\n"
    }
   }
  },
  {
   "cell_type": "code",
   "execution_count": 11,
   "outputs": [],
   "source": [
    "bpd_df = bpd_df.dropna()\n"
   ],
   "metadata": {
    "collapsed": false,
    "pycharm": {
     "name": "#%%\n"
    }
   }
  },
  {
   "cell_type": "code",
   "execution_count": 12,
   "outputs": [
    {
     "data": {
      "text/plain": "   CrimeDate          Description Inside/Outside   Weapon   Post  \\\n0 2017-09-02  ROBBERY - RESIDENCE         Inside    KNIFE  913.0   \n1 2017-09-02           AUTO THEFT        Outside     NONE  133.0   \n2 2017-09-02             SHOOTING        Outside  FIREARM  524.0   \n3 2017-09-02         AGG. ASSAULT         Inside    OTHER  934.0   \n4 2017-09-02       COMMON ASSAULT        Outside    HANDS  113.0   \n5 2017-09-02             BURGLARY         Inside     NONE  922.0   \n6 2017-09-02             HOMICIDE        Outside  FIREARM  232.0   \n7 2017-09-02     ROBBERY - STREET        Outside     NONE  123.0   \n8 2017-09-02         AGG. ASSAULT        Outside    OTHER  641.0   \n9 2017-09-02       COMMON ASSAULT         Inside    HANDS  332.0   \n\n       District      Neighborhood  Longitude  Latitude     Premise  Season  \\\n0      SOUTHERN          Brooklyn  -76.60541  39.22951  ROW/TOWNHO  summer   \n1       CENTRAL    Reservoir Hill  -76.63217  39.31360      STREET  summer   \n2      NORTHERN    Winston-Govans  -76.60697  39.34768      STREET  summer   \n3      SOUTHERN  Carrollton Ridge  -76.64526  39.28315  ROW/TOWNHO  summer   \n4       CENTRAL     Downtown West  -76.61365  39.28756      STREET  summer   \n5      SOUTHERN       Cherry Hill  -76.62131  39.24867  ROW/TOWNHO  summer   \n6  SOUTHEASTERN            Canton  -76.56827  39.28202      STREET  summer   \n7       CENTRAL             Upton  -76.62789  39.30254      STREET  summer   \n8  NORTHWESTERN     Windsor Hills  -76.68365  39.31370      STREET  summer   \n9       EASTERN             Berea  -76.57419  39.30551  ROW/TOWNHO  summer   \n\n   Month  Hour  Year  \n0      9    23  2017  \n1      9    23  2017  \n2      9    22  2017  \n3      9    22  2017  \n4      9    22  2017  \n5      9    22  2017  \n6      9    21  2017  \n7      9    21  2017  \n8      9    21  2017  \n9      9    21  2017  ",
      "text/html": "<div>\n<style scoped>\n    .dataframe tbody tr th:only-of-type {\n        vertical-align: middle;\n    }\n\n    .dataframe tbody tr th {\n        vertical-align: top;\n    }\n\n    .dataframe thead th {\n        text-align: right;\n    }\n</style>\n<table border=\"1\" class=\"dataframe\">\n  <thead>\n    <tr style=\"text-align: right;\">\n      <th></th>\n      <th>CrimeDate</th>\n      <th>Description</th>\n      <th>Inside/Outside</th>\n      <th>Weapon</th>\n      <th>Post</th>\n      <th>District</th>\n      <th>Neighborhood</th>\n      <th>Longitude</th>\n      <th>Latitude</th>\n      <th>Premise</th>\n      <th>Season</th>\n      <th>Month</th>\n      <th>Hour</th>\n      <th>Year</th>\n    </tr>\n  </thead>\n  <tbody>\n    <tr>\n      <th>0</th>\n      <td>2017-09-02</td>\n      <td>ROBBERY - RESIDENCE</td>\n      <td>Inside</td>\n      <td>KNIFE</td>\n      <td>913.0</td>\n      <td>SOUTHERN</td>\n      <td>Brooklyn</td>\n      <td>-76.60541</td>\n      <td>39.22951</td>\n      <td>ROW/TOWNHO</td>\n      <td>summer</td>\n      <td>9</td>\n      <td>23</td>\n      <td>2017</td>\n    </tr>\n    <tr>\n      <th>1</th>\n      <td>2017-09-02</td>\n      <td>AUTO THEFT</td>\n      <td>Outside</td>\n      <td>NONE</td>\n      <td>133.0</td>\n      <td>CENTRAL</td>\n      <td>Reservoir Hill</td>\n      <td>-76.63217</td>\n      <td>39.31360</td>\n      <td>STREET</td>\n      <td>summer</td>\n      <td>9</td>\n      <td>23</td>\n      <td>2017</td>\n    </tr>\n    <tr>\n      <th>2</th>\n      <td>2017-09-02</td>\n      <td>SHOOTING</td>\n      <td>Outside</td>\n      <td>FIREARM</td>\n      <td>524.0</td>\n      <td>NORTHERN</td>\n      <td>Winston-Govans</td>\n      <td>-76.60697</td>\n      <td>39.34768</td>\n      <td>STREET</td>\n      <td>summer</td>\n      <td>9</td>\n      <td>22</td>\n      <td>2017</td>\n    </tr>\n    <tr>\n      <th>3</th>\n      <td>2017-09-02</td>\n      <td>AGG. ASSAULT</td>\n      <td>Inside</td>\n      <td>OTHER</td>\n      <td>934.0</td>\n      <td>SOUTHERN</td>\n      <td>Carrollton Ridge</td>\n      <td>-76.64526</td>\n      <td>39.28315</td>\n      <td>ROW/TOWNHO</td>\n      <td>summer</td>\n      <td>9</td>\n      <td>22</td>\n      <td>2017</td>\n    </tr>\n    <tr>\n      <th>4</th>\n      <td>2017-09-02</td>\n      <td>COMMON ASSAULT</td>\n      <td>Outside</td>\n      <td>HANDS</td>\n      <td>113.0</td>\n      <td>CENTRAL</td>\n      <td>Downtown West</td>\n      <td>-76.61365</td>\n      <td>39.28756</td>\n      <td>STREET</td>\n      <td>summer</td>\n      <td>9</td>\n      <td>22</td>\n      <td>2017</td>\n    </tr>\n    <tr>\n      <th>5</th>\n      <td>2017-09-02</td>\n      <td>BURGLARY</td>\n      <td>Inside</td>\n      <td>NONE</td>\n      <td>922.0</td>\n      <td>SOUTHERN</td>\n      <td>Cherry Hill</td>\n      <td>-76.62131</td>\n      <td>39.24867</td>\n      <td>ROW/TOWNHO</td>\n      <td>summer</td>\n      <td>9</td>\n      <td>22</td>\n      <td>2017</td>\n    </tr>\n    <tr>\n      <th>6</th>\n      <td>2017-09-02</td>\n      <td>HOMICIDE</td>\n      <td>Outside</td>\n      <td>FIREARM</td>\n      <td>232.0</td>\n      <td>SOUTHEASTERN</td>\n      <td>Canton</td>\n      <td>-76.56827</td>\n      <td>39.28202</td>\n      <td>STREET</td>\n      <td>summer</td>\n      <td>9</td>\n      <td>21</td>\n      <td>2017</td>\n    </tr>\n    <tr>\n      <th>7</th>\n      <td>2017-09-02</td>\n      <td>ROBBERY - STREET</td>\n      <td>Outside</td>\n      <td>NONE</td>\n      <td>123.0</td>\n      <td>CENTRAL</td>\n      <td>Upton</td>\n      <td>-76.62789</td>\n      <td>39.30254</td>\n      <td>STREET</td>\n      <td>summer</td>\n      <td>9</td>\n      <td>21</td>\n      <td>2017</td>\n    </tr>\n    <tr>\n      <th>8</th>\n      <td>2017-09-02</td>\n      <td>AGG. ASSAULT</td>\n      <td>Outside</td>\n      <td>OTHER</td>\n      <td>641.0</td>\n      <td>NORTHWESTERN</td>\n      <td>Windsor Hills</td>\n      <td>-76.68365</td>\n      <td>39.31370</td>\n      <td>STREET</td>\n      <td>summer</td>\n      <td>9</td>\n      <td>21</td>\n      <td>2017</td>\n    </tr>\n    <tr>\n      <th>9</th>\n      <td>2017-09-02</td>\n      <td>COMMON ASSAULT</td>\n      <td>Inside</td>\n      <td>HANDS</td>\n      <td>332.0</td>\n      <td>EASTERN</td>\n      <td>Berea</td>\n      <td>-76.57419</td>\n      <td>39.30551</td>\n      <td>ROW/TOWNHO</td>\n      <td>summer</td>\n      <td>9</td>\n      <td>21</td>\n      <td>2017</td>\n    </tr>\n  </tbody>\n</table>\n</div>"
     },
     "execution_count": 12,
     "metadata": {},
     "output_type": "execute_result"
    }
   ],
   "source": [
    "bpd_df.head(10)"
   ],
   "metadata": {
    "collapsed": false,
    "pycharm": {
     "name": "#%%\n"
    }
   }
  },
  {
   "cell_type": "code",
   "execution_count": 13,
   "outputs": [],
   "source": [
    "bpd_df.to_csv('../data/V2_BPD_CRIME_DATA_CLEAN_ST.csv')\n"
   ],
   "metadata": {
    "collapsed": false,
    "pycharm": {
     "name": "#%%\n"
    }
   }
  },
  {
   "cell_type": "code",
   "execution_count": 14,
   "outputs": [
    {
     "data": {
      "text/plain": "263121"
     },
     "execution_count": 14,
     "metadata": {},
     "output_type": "execute_result"
    }
   ],
   "source": [
    "len(bpd_df)\n"
   ],
   "metadata": {
    "collapsed": false,
    "pycharm": {
     "name": "#%%\n"
    }
   }
  },
  {
   "cell_type": "code",
   "execution_count": 15,
   "outputs": [],
   "source": [
    "df = pd.read_csv('../data/BPD_CRIME_DATA_CLEAN_ST.csv')\n"
   ],
   "metadata": {
    "collapsed": false,
    "pycharm": {
     "name": "#%%\n"
    }
   }
  },
  {
   "cell_type": "code",
   "execution_count": 16,
   "outputs": [
    {
     "data": {
      "text/plain": "263121"
     },
     "execution_count": 16,
     "metadata": {},
     "output_type": "execute_result"
    }
   ],
   "source": [
    "len(df)\n"
   ],
   "metadata": {
    "collapsed": false,
    "pycharm": {
     "name": "#%%\n"
    }
   }
  },
  {
   "cell_type": "markdown",
   "source": [
    "All good\n"
   ],
   "metadata": {
    "collapsed": false,
    "pycharm": {
     "name": "#%% md\n"
    }
   }
  },
  {
   "cell_type": "code",
   "execution_count": null,
   "outputs": [],
   "source": [],
   "metadata": {
    "collapsed": false,
    "pycharm": {
     "name": "#%%\n"
    }
   }
  }
 ],
 "metadata": {
  "kernelspec": {
   "display_name": "Python 3",
   "language": "python",
   "name": "python3"
  },
  "language_info": {
   "codemirror_mode": {
    "name": "ipython",
    "version": 2
   },
   "file_extension": ".py",
   "mimetype": "text/x-python",
   "name": "python",
   "nbconvert_exporter": "python",
   "pygments_lexer": "ipython2",
   "version": "2.7.6"
  }
 },
 "nbformat": 4,
 "nbformat_minor": 0
}