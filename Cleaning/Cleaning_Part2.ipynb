{
 "cells": [
  {
   "cell_type": "code",
   "execution_count": 1,
   "metadata": {
    "ExecuteTime": {
     "end_time": "2021-02-17T17:20:12.557506Z",
     "start_time": "2021-02-17T17:20:12.022507Z"
    }
   },
   "outputs": [],
   "source": [
    "import numpy as np\n",
    "import pandas as pd\n",
    "import matplotlib.pyplot as plt"
   ]
  },
  {
   "cell_type": "code",
   "execution_count": 2,
   "metadata": {
    "ExecuteTime": {
     "end_time": "2021-02-17T17:20:13.309503Z",
     "start_time": "2021-02-17T17:20:12.559507Z"
    }
   },
   "outputs": [],
   "source": [
    "bpd_df = pd.read_csv('../data/BPD_CRIME_DATA_CLEAN.csv')"
   ]
  },
  {
   "cell_type": "code",
   "execution_count": 3,
   "metadata": {
    "ExecuteTime": {
     "end_time": "2021-02-17T17:20:13.339504Z",
     "start_time": "2021-02-17T17:20:13.310515Z"
    }
   },
   "outputs": [
    {
     "data": {
      "text/html": [
       "<div>\n",
       "<style scoped>\n",
       "    .dataframe tbody tr th:only-of-type {\n",
       "        vertical-align: middle;\n",
       "    }\n",
       "\n",
       "    .dataframe tbody tr th {\n",
       "        vertical-align: top;\n",
       "    }\n",
       "\n",
       "    .dataframe thead th {\n",
       "        text-align: right;\n",
       "    }\n",
       "</style>\n",
       "<table border=\"1\" class=\"dataframe\">\n",
       "  <thead>\n",
       "    <tr style=\"text-align: right;\">\n",
       "      <th></th>\n",
       "      <th>CrimeDate</th>\n",
       "      <th>CrimeTime</th>\n",
       "      <th>CrimeCode</th>\n",
       "      <th>Location</th>\n",
       "      <th>Description</th>\n",
       "      <th>Inside/Outside</th>\n",
       "      <th>Weapon</th>\n",
       "      <th>Post</th>\n",
       "      <th>District</th>\n",
       "      <th>Neighborhood</th>\n",
       "      <th>Longitude</th>\n",
       "      <th>Latitude</th>\n",
       "      <th>Location 1</th>\n",
       "      <th>Premise</th>\n",
       "      <th>Total Incidents</th>\n",
       "      <th>Season</th>\n",
       "      <th>Month</th>\n",
       "      <th>Hour</th>\n",
       "    </tr>\n",
       "  </thead>\n",
       "  <tbody>\n",
       "    <tr>\n",
       "      <th>0</th>\n",
       "      <td>2017-09-02</td>\n",
       "      <td>23:30:00</td>\n",
       "      <td>3JK</td>\n",
       "      <td>4200 AUDREY AVE</td>\n",
       "      <td>ROBBERY - RESIDENCE</td>\n",
       "      <td>Inside</td>\n",
       "      <td>KNIFE</td>\n",
       "      <td>913.0</td>\n",
       "      <td>SOUTHERN</td>\n",
       "      <td>Brooklyn</td>\n",
       "      <td>-76.60541</td>\n",
       "      <td>39.22951</td>\n",
       "      <td>(39.2295100000, -76.6054100000)</td>\n",
       "      <td>ROW/TOWNHO</td>\n",
       "      <td>1</td>\n",
       "      <td>summer</td>\n",
       "      <td>9</td>\n",
       "      <td>23</td>\n",
       "    </tr>\n",
       "    <tr>\n",
       "      <th>1</th>\n",
       "      <td>2017-09-02</td>\n",
       "      <td>23:00:00</td>\n",
       "      <td>7A</td>\n",
       "      <td>800 NEWINGTON AVE</td>\n",
       "      <td>AUTO THEFT</td>\n",
       "      <td>Outside</td>\n",
       "      <td>NONE</td>\n",
       "      <td>133.0</td>\n",
       "      <td>CENTRAL</td>\n",
       "      <td>Reservoir Hill</td>\n",
       "      <td>-76.63217</td>\n",
       "      <td>39.31360</td>\n",
       "      <td>(39.3136000000, -76.6321700000)</td>\n",
       "      <td>STREET</td>\n",
       "      <td>1</td>\n",
       "      <td>summer</td>\n",
       "      <td>9</td>\n",
       "      <td>23</td>\n",
       "    </tr>\n",
       "    <tr>\n",
       "      <th>2</th>\n",
       "      <td>2017-09-02</td>\n",
       "      <td>22:53:00</td>\n",
       "      <td>9S</td>\n",
       "      <td>600 RADNOR AV</td>\n",
       "      <td>SHOOTING</td>\n",
       "      <td>Outside</td>\n",
       "      <td>FIREARM</td>\n",
       "      <td>524.0</td>\n",
       "      <td>NORTHERN</td>\n",
       "      <td>Winston-Govans</td>\n",
       "      <td>-76.60697</td>\n",
       "      <td>39.34768</td>\n",
       "      <td>(39.3476800000, -76.6069700000)</td>\n",
       "      <td>STREET</td>\n",
       "      <td>1</td>\n",
       "      <td>summer</td>\n",
       "      <td>9</td>\n",
       "      <td>22</td>\n",
       "    </tr>\n",
       "    <tr>\n",
       "      <th>3</th>\n",
       "      <td>2017-09-02</td>\n",
       "      <td>22:50:00</td>\n",
       "      <td>4C</td>\n",
       "      <td>1800 RAMSAY ST</td>\n",
       "      <td>AGG. ASSAULT</td>\n",
       "      <td>Inside</td>\n",
       "      <td>OTHER</td>\n",
       "      <td>934.0</td>\n",
       "      <td>SOUTHERN</td>\n",
       "      <td>Carrollton Ridge</td>\n",
       "      <td>-76.64526</td>\n",
       "      <td>39.28315</td>\n",
       "      <td>(39.2831500000, -76.6452600000)</td>\n",
       "      <td>ROW/TOWNHO</td>\n",
       "      <td>1</td>\n",
       "      <td>summer</td>\n",
       "      <td>9</td>\n",
       "      <td>22</td>\n",
       "    </tr>\n",
       "    <tr>\n",
       "      <th>4</th>\n",
       "      <td>2017-09-02</td>\n",
       "      <td>22:31:00</td>\n",
       "      <td>4E</td>\n",
       "      <td>100 LIGHT ST</td>\n",
       "      <td>COMMON ASSAULT</td>\n",
       "      <td>Outside</td>\n",
       "      <td>HANDS</td>\n",
       "      <td>113.0</td>\n",
       "      <td>CENTRAL</td>\n",
       "      <td>Downtown West</td>\n",
       "      <td>-76.61365</td>\n",
       "      <td>39.28756</td>\n",
       "      <td>(39.2875600000, -76.6136500000)</td>\n",
       "      <td>STREET</td>\n",
       "      <td>1</td>\n",
       "      <td>summer</td>\n",
       "      <td>9</td>\n",
       "      <td>22</td>\n",
       "    </tr>\n",
       "    <tr>\n",
       "      <th>5</th>\n",
       "      <td>2017-09-02</td>\n",
       "      <td>22:00:00</td>\n",
       "      <td>5A</td>\n",
       "      <td>CHERRYCREST RD</td>\n",
       "      <td>BURGLARY</td>\n",
       "      <td>Inside</td>\n",
       "      <td>NONE</td>\n",
       "      <td>922.0</td>\n",
       "      <td>SOUTHERN</td>\n",
       "      <td>Cherry Hill</td>\n",
       "      <td>-76.62131</td>\n",
       "      <td>39.24867</td>\n",
       "      <td>(39.2486700000, -76.6213100000)</td>\n",
       "      <td>ROW/TOWNHO</td>\n",
       "      <td>1</td>\n",
       "      <td>summer</td>\n",
       "      <td>9</td>\n",
       "      <td>22</td>\n",
       "    </tr>\n",
       "    <tr>\n",
       "      <th>6</th>\n",
       "      <td>2017-09-02</td>\n",
       "      <td>21:15:00</td>\n",
       "      <td>1F</td>\n",
       "      <td>3400 HARMONY CT</td>\n",
       "      <td>HOMICIDE</td>\n",
       "      <td>Outside</td>\n",
       "      <td>FIREARM</td>\n",
       "      <td>232.0</td>\n",
       "      <td>SOUTHEASTERN</td>\n",
       "      <td>Canton</td>\n",
       "      <td>-76.56827</td>\n",
       "      <td>39.28202</td>\n",
       "      <td>(39.2820200000, -76.5682700000)</td>\n",
       "      <td>STREET</td>\n",
       "      <td>1</td>\n",
       "      <td>summer</td>\n",
       "      <td>9</td>\n",
       "      <td>21</td>\n",
       "    </tr>\n",
       "    <tr>\n",
       "      <th>7</th>\n",
       "      <td>2017-09-02</td>\n",
       "      <td>21:35:00</td>\n",
       "      <td>3B</td>\n",
       "      <td>400 W LANVALE ST</td>\n",
       "      <td>ROBBERY - STREET</td>\n",
       "      <td>Outside</td>\n",
       "      <td>NONE</td>\n",
       "      <td>123.0</td>\n",
       "      <td>CENTRAL</td>\n",
       "      <td>Upton</td>\n",
       "      <td>-76.62789</td>\n",
       "      <td>39.30254</td>\n",
       "      <td>(39.3025400000, -76.6278900000)</td>\n",
       "      <td>STREET</td>\n",
       "      <td>1</td>\n",
       "      <td>summer</td>\n",
       "      <td>9</td>\n",
       "      <td>21</td>\n",
       "    </tr>\n",
       "    <tr>\n",
       "      <th>8</th>\n",
       "      <td>2017-09-02</td>\n",
       "      <td>21:00:00</td>\n",
       "      <td>4C</td>\n",
       "      <td>2300 LYNDHURST AVE</td>\n",
       "      <td>AGG. ASSAULT</td>\n",
       "      <td>Outside</td>\n",
       "      <td>OTHER</td>\n",
       "      <td>641.0</td>\n",
       "      <td>NORTHWESTERN</td>\n",
       "      <td>Windsor Hills</td>\n",
       "      <td>-76.68365</td>\n",
       "      <td>39.31370</td>\n",
       "      <td>(39.3137000000, -76.6836500000)</td>\n",
       "      <td>STREET</td>\n",
       "      <td>1</td>\n",
       "      <td>summer</td>\n",
       "      <td>9</td>\n",
       "      <td>21</td>\n",
       "    </tr>\n",
       "    <tr>\n",
       "      <th>9</th>\n",
       "      <td>2017-09-02</td>\n",
       "      <td>21:00:00</td>\n",
       "      <td>4E</td>\n",
       "      <td>1200 N ELLWOOD AVE</td>\n",
       "      <td>COMMON ASSAULT</td>\n",
       "      <td>Inside</td>\n",
       "      <td>HANDS</td>\n",
       "      <td>332.0</td>\n",
       "      <td>EASTERN</td>\n",
       "      <td>Berea</td>\n",
       "      <td>-76.57419</td>\n",
       "      <td>39.30551</td>\n",
       "      <td>(39.3055100000, -76.5741900000)</td>\n",
       "      <td>ROW/TOWNHO</td>\n",
       "      <td>1</td>\n",
       "      <td>summer</td>\n",
       "      <td>9</td>\n",
       "      <td>21</td>\n",
       "    </tr>\n",
       "  </tbody>\n",
       "</table>\n",
       "</div>"
      ],
      "text/plain": [
       "    CrimeDate CrimeTime CrimeCode            Location          Description  \\\n",
       "0  2017-09-02  23:30:00       3JK     4200 AUDREY AVE  ROBBERY - RESIDENCE   \n",
       "1  2017-09-02  23:00:00        7A   800 NEWINGTON AVE           AUTO THEFT   \n",
       "2  2017-09-02  22:53:00        9S       600 RADNOR AV             SHOOTING   \n",
       "3  2017-09-02  22:50:00        4C      1800 RAMSAY ST         AGG. ASSAULT   \n",
       "4  2017-09-02  22:31:00        4E        100 LIGHT ST       COMMON ASSAULT   \n",
       "5  2017-09-02  22:00:00        5A      CHERRYCREST RD             BURGLARY   \n",
       "6  2017-09-02  21:15:00        1F     3400 HARMONY CT             HOMICIDE   \n",
       "7  2017-09-02  21:35:00        3B    400 W LANVALE ST     ROBBERY - STREET   \n",
       "8  2017-09-02  21:00:00        4C  2300 LYNDHURST AVE         AGG. ASSAULT   \n",
       "9  2017-09-02  21:00:00        4E  1200 N ELLWOOD AVE       COMMON ASSAULT   \n",
       "\n",
       "  Inside/Outside   Weapon   Post      District      Neighborhood  Longitude  \\\n",
       "0         Inside    KNIFE  913.0      SOUTHERN          Brooklyn  -76.60541   \n",
       "1        Outside     NONE  133.0       CENTRAL    Reservoir Hill  -76.63217   \n",
       "2        Outside  FIREARM  524.0      NORTHERN    Winston-Govans  -76.60697   \n",
       "3         Inside    OTHER  934.0      SOUTHERN  Carrollton Ridge  -76.64526   \n",
       "4        Outside    HANDS  113.0       CENTRAL     Downtown West  -76.61365   \n",
       "5         Inside     NONE  922.0      SOUTHERN       Cherry Hill  -76.62131   \n",
       "6        Outside  FIREARM  232.0  SOUTHEASTERN            Canton  -76.56827   \n",
       "7        Outside     NONE  123.0       CENTRAL             Upton  -76.62789   \n",
       "8        Outside    OTHER  641.0  NORTHWESTERN     Windsor Hills  -76.68365   \n",
       "9         Inside    HANDS  332.0       EASTERN             Berea  -76.57419   \n",
       "\n",
       "   Latitude                       Location 1     Premise  Total Incidents  \\\n",
       "0  39.22951  (39.2295100000, -76.6054100000)  ROW/TOWNHO                1   \n",
       "1  39.31360  (39.3136000000, -76.6321700000)      STREET                1   \n",
       "2  39.34768  (39.3476800000, -76.6069700000)      STREET                1   \n",
       "3  39.28315  (39.2831500000, -76.6452600000)  ROW/TOWNHO                1   \n",
       "4  39.28756  (39.2875600000, -76.6136500000)      STREET                1   \n",
       "5  39.24867  (39.2486700000, -76.6213100000)  ROW/TOWNHO                1   \n",
       "6  39.28202  (39.2820200000, -76.5682700000)      STREET                1   \n",
       "7  39.30254  (39.3025400000, -76.6278900000)      STREET                1   \n",
       "8  39.31370  (39.3137000000, -76.6836500000)      STREET                1   \n",
       "9  39.30551  (39.3055100000, -76.5741900000)  ROW/TOWNHO                1   \n",
       "\n",
       "   Season  Month  Hour  \n",
       "0  summer      9    23  \n",
       "1  summer      9    23  \n",
       "2  summer      9    22  \n",
       "3  summer      9    22  \n",
       "4  summer      9    22  \n",
       "5  summer      9    22  \n",
       "6  summer      9    21  \n",
       "7  summer      9    21  \n",
       "8  summer      9    21  \n",
       "9  summer      9    21  "
      ]
     },
     "execution_count": 3,
     "metadata": {},
     "output_type": "execute_result"
    }
   ],
   "source": [
    "bpd_df.head(10)"
   ]
  },
  {
   "cell_type": "code",
   "execution_count": 4,
   "metadata": {
    "ExecuteTime": {
     "end_time": "2021-02-17T17:20:13.416505Z",
     "start_time": "2021-02-17T17:20:13.341506Z"
    }
   },
   "outputs": [
    {
     "data": {
      "text/plain": [
       "26008"
      ]
     },
     "execution_count": 4,
     "metadata": {},
     "output_type": "execute_result"
    }
   ],
   "source": [
    "bpd_df[\"Location\"].nunique()"
   ]
  },
  {
   "cell_type": "markdown",
   "metadata": {},
   "source": [
    "#### Drop Location. Mostly unique. Data captured in Longitude and Longitude for visualization. Drop Location 1 as well."
   ]
  },
  {
   "cell_type": "code",
   "execution_count": 5,
   "metadata": {
    "ExecuteTime": {
     "end_time": "2021-02-17T17:20:13.447504Z",
     "start_time": "2021-02-17T17:20:13.417505Z"
    }
   },
   "outputs": [],
   "source": [
    "bpd_df = bpd_df.drop(columns=[\"Location\",\"Location 1\"])"
   ]
  },
  {
   "cell_type": "code",
   "execution_count": 6,
   "metadata": {
    "ExecuteTime": {
     "end_time": "2021-02-17T17:20:13.462507Z",
     "start_time": "2021-02-17T17:20:13.448505Z"
    }
   },
   "outputs": [
    {
     "data": {
      "text/plain": [
       "1"
      ]
     },
     "execution_count": 6,
     "metadata": {},
     "output_type": "execute_result"
    }
   ],
   "source": [
    "bpd_df[\"Total Incidents\"].nunique()"
   ]
  },
  {
   "cell_type": "markdown",
   "metadata": {},
   "source": [
    "#### Only one value. Drop."
   ]
  },
  {
   "cell_type": "code",
   "execution_count": 7,
   "metadata": {
    "ExecuteTime": {
     "end_time": "2021-02-17T17:20:13.508504Z",
     "start_time": "2021-02-17T17:20:13.463508Z"
    }
   },
   "outputs": [],
   "source": [
    "bpd_df = bpd_df.drop(columns=\"Total Incidents\")"
   ]
  },
  {
   "cell_type": "markdown",
   "metadata": {},
   "source": [
    "### CrimeDate has been converted to season and month. Let's add year just in the case we need it for a time series visualization. Then drop CrimeDate."
   ]
  },
  {
   "cell_type": "code",
   "execution_count": 8,
   "metadata": {
    "ExecuteTime": {
     "end_time": "2021-02-17T17:20:13.587505Z",
     "start_time": "2021-02-17T17:20:13.510505Z"
    }
   },
   "outputs": [],
   "source": [
    "bpd_df[\"CrimeDate\"] = pd.to_datetime(bpd_df[\"CrimeDate\"])\n",
    "bpd_df[\"Year\"] = bpd_df[\"CrimeDate\"].dt.year"
   ]
  },
  {
   "cell_type": "code",
   "execution_count": 9,
   "metadata": {
    "ExecuteTime": {
     "end_time": "2021-02-17T17:20:13.635503Z",
     "start_time": "2021-02-17T17:20:13.589505Z"
    }
   },
   "outputs": [],
   "source": [
    "bpd_df = bpd_df.drop(columns=[\"CrimeDate\",\"CrimeTime\"])"
   ]
  },
  {
   "cell_type": "code",
   "execution_count": 10,
   "metadata": {
    "ExecuteTime": {
     "end_time": "2021-02-17T17:20:13.665505Z",
     "start_time": "2021-02-17T17:20:13.636505Z"
    }
   },
   "outputs": [
    {
     "data": {
      "text/html": [
       "<div>\n",
       "<style scoped>\n",
       "    .dataframe tbody tr th:only-of-type {\n",
       "        vertical-align: middle;\n",
       "    }\n",
       "\n",
       "    .dataframe tbody tr th {\n",
       "        vertical-align: top;\n",
       "    }\n",
       "\n",
       "    .dataframe thead th {\n",
       "        text-align: right;\n",
       "    }\n",
       "</style>\n",
       "<table border=\"1\" class=\"dataframe\">\n",
       "  <thead>\n",
       "    <tr style=\"text-align: right;\">\n",
       "      <th></th>\n",
       "      <th>CrimeCode</th>\n",
       "      <th>Description</th>\n",
       "      <th>Inside/Outside</th>\n",
       "      <th>Weapon</th>\n",
       "      <th>Post</th>\n",
       "      <th>District</th>\n",
       "      <th>Neighborhood</th>\n",
       "      <th>Longitude</th>\n",
       "      <th>Latitude</th>\n",
       "      <th>Premise</th>\n",
       "      <th>Season</th>\n",
       "      <th>Month</th>\n",
       "      <th>Hour</th>\n",
       "      <th>Year</th>\n",
       "    </tr>\n",
       "  </thead>\n",
       "  <tbody>\n",
       "    <tr>\n",
       "      <th>0</th>\n",
       "      <td>3JK</td>\n",
       "      <td>ROBBERY - RESIDENCE</td>\n",
       "      <td>Inside</td>\n",
       "      <td>KNIFE</td>\n",
       "      <td>913.0</td>\n",
       "      <td>SOUTHERN</td>\n",
       "      <td>Brooklyn</td>\n",
       "      <td>-76.60541</td>\n",
       "      <td>39.22951</td>\n",
       "      <td>ROW/TOWNHO</td>\n",
       "      <td>summer</td>\n",
       "      <td>9</td>\n",
       "      <td>23</td>\n",
       "      <td>2017</td>\n",
       "    </tr>\n",
       "    <tr>\n",
       "      <th>1</th>\n",
       "      <td>7A</td>\n",
       "      <td>AUTO THEFT</td>\n",
       "      <td>Outside</td>\n",
       "      <td>NONE</td>\n",
       "      <td>133.0</td>\n",
       "      <td>CENTRAL</td>\n",
       "      <td>Reservoir Hill</td>\n",
       "      <td>-76.63217</td>\n",
       "      <td>39.31360</td>\n",
       "      <td>STREET</td>\n",
       "      <td>summer</td>\n",
       "      <td>9</td>\n",
       "      <td>23</td>\n",
       "      <td>2017</td>\n",
       "    </tr>\n",
       "    <tr>\n",
       "      <th>2</th>\n",
       "      <td>9S</td>\n",
       "      <td>SHOOTING</td>\n",
       "      <td>Outside</td>\n",
       "      <td>FIREARM</td>\n",
       "      <td>524.0</td>\n",
       "      <td>NORTHERN</td>\n",
       "      <td>Winston-Govans</td>\n",
       "      <td>-76.60697</td>\n",
       "      <td>39.34768</td>\n",
       "      <td>STREET</td>\n",
       "      <td>summer</td>\n",
       "      <td>9</td>\n",
       "      <td>22</td>\n",
       "      <td>2017</td>\n",
       "    </tr>\n",
       "    <tr>\n",
       "      <th>3</th>\n",
       "      <td>4C</td>\n",
       "      <td>AGG. ASSAULT</td>\n",
       "      <td>Inside</td>\n",
       "      <td>OTHER</td>\n",
       "      <td>934.0</td>\n",
       "      <td>SOUTHERN</td>\n",
       "      <td>Carrollton Ridge</td>\n",
       "      <td>-76.64526</td>\n",
       "      <td>39.28315</td>\n",
       "      <td>ROW/TOWNHO</td>\n",
       "      <td>summer</td>\n",
       "      <td>9</td>\n",
       "      <td>22</td>\n",
       "      <td>2017</td>\n",
       "    </tr>\n",
       "    <tr>\n",
       "      <th>4</th>\n",
       "      <td>4E</td>\n",
       "      <td>COMMON ASSAULT</td>\n",
       "      <td>Outside</td>\n",
       "      <td>HANDS</td>\n",
       "      <td>113.0</td>\n",
       "      <td>CENTRAL</td>\n",
       "      <td>Downtown West</td>\n",
       "      <td>-76.61365</td>\n",
       "      <td>39.28756</td>\n",
       "      <td>STREET</td>\n",
       "      <td>summer</td>\n",
       "      <td>9</td>\n",
       "      <td>22</td>\n",
       "      <td>2017</td>\n",
       "    </tr>\n",
       "    <tr>\n",
       "      <th>5</th>\n",
       "      <td>5A</td>\n",
       "      <td>BURGLARY</td>\n",
       "      <td>Inside</td>\n",
       "      <td>NONE</td>\n",
       "      <td>922.0</td>\n",
       "      <td>SOUTHERN</td>\n",
       "      <td>Cherry Hill</td>\n",
       "      <td>-76.62131</td>\n",
       "      <td>39.24867</td>\n",
       "      <td>ROW/TOWNHO</td>\n",
       "      <td>summer</td>\n",
       "      <td>9</td>\n",
       "      <td>22</td>\n",
       "      <td>2017</td>\n",
       "    </tr>\n",
       "    <tr>\n",
       "      <th>6</th>\n",
       "      <td>1F</td>\n",
       "      <td>HOMICIDE</td>\n",
       "      <td>Outside</td>\n",
       "      <td>FIREARM</td>\n",
       "      <td>232.0</td>\n",
       "      <td>SOUTHEASTERN</td>\n",
       "      <td>Canton</td>\n",
       "      <td>-76.56827</td>\n",
       "      <td>39.28202</td>\n",
       "      <td>STREET</td>\n",
       "      <td>summer</td>\n",
       "      <td>9</td>\n",
       "      <td>21</td>\n",
       "      <td>2017</td>\n",
       "    </tr>\n",
       "    <tr>\n",
       "      <th>7</th>\n",
       "      <td>3B</td>\n",
       "      <td>ROBBERY - STREET</td>\n",
       "      <td>Outside</td>\n",
       "      <td>NONE</td>\n",
       "      <td>123.0</td>\n",
       "      <td>CENTRAL</td>\n",
       "      <td>Upton</td>\n",
       "      <td>-76.62789</td>\n",
       "      <td>39.30254</td>\n",
       "      <td>STREET</td>\n",
       "      <td>summer</td>\n",
       "      <td>9</td>\n",
       "      <td>21</td>\n",
       "      <td>2017</td>\n",
       "    </tr>\n",
       "    <tr>\n",
       "      <th>8</th>\n",
       "      <td>4C</td>\n",
       "      <td>AGG. ASSAULT</td>\n",
       "      <td>Outside</td>\n",
       "      <td>OTHER</td>\n",
       "      <td>641.0</td>\n",
       "      <td>NORTHWESTERN</td>\n",
       "      <td>Windsor Hills</td>\n",
       "      <td>-76.68365</td>\n",
       "      <td>39.31370</td>\n",
       "      <td>STREET</td>\n",
       "      <td>summer</td>\n",
       "      <td>9</td>\n",
       "      <td>21</td>\n",
       "      <td>2017</td>\n",
       "    </tr>\n",
       "    <tr>\n",
       "      <th>9</th>\n",
       "      <td>4E</td>\n",
       "      <td>COMMON ASSAULT</td>\n",
       "      <td>Inside</td>\n",
       "      <td>HANDS</td>\n",
       "      <td>332.0</td>\n",
       "      <td>EASTERN</td>\n",
       "      <td>Berea</td>\n",
       "      <td>-76.57419</td>\n",
       "      <td>39.30551</td>\n",
       "      <td>ROW/TOWNHO</td>\n",
       "      <td>summer</td>\n",
       "      <td>9</td>\n",
       "      <td>21</td>\n",
       "      <td>2017</td>\n",
       "    </tr>\n",
       "    <tr>\n",
       "      <th>10</th>\n",
       "      <td>4C</td>\n",
       "      <td>AGG. ASSAULT</td>\n",
       "      <td>Outside</td>\n",
       "      <td>OTHER</td>\n",
       "      <td>641.0</td>\n",
       "      <td>NORTHWESTERN</td>\n",
       "      <td>Windsor Hills</td>\n",
       "      <td>-76.68365</td>\n",
       "      <td>39.31370</td>\n",
       "      <td>STREET</td>\n",
       "      <td>summer</td>\n",
       "      <td>9</td>\n",
       "      <td>21</td>\n",
       "      <td>2017</td>\n",
       "    </tr>\n",
       "    <tr>\n",
       "      <th>11</th>\n",
       "      <td>3CF</td>\n",
       "      <td>ROBBERY - COMMERCIAL</td>\n",
       "      <td>Inside</td>\n",
       "      <td>FIREARM</td>\n",
       "      <td>844.0</td>\n",
       "      <td>SOUTHWESTERN</td>\n",
       "      <td>Edgewood</td>\n",
       "      <td>-76.67759</td>\n",
       "      <td>39.29402</td>\n",
       "      <td>RETAIL/SMA</td>\n",
       "      <td>summer</td>\n",
       "      <td>9</td>\n",
       "      <td>20</td>\n",
       "      <td>2017</td>\n",
       "    </tr>\n",
       "    <tr>\n",
       "      <th>12</th>\n",
       "      <td>6C</td>\n",
       "      <td>LARCENY</td>\n",
       "      <td>NaN</td>\n",
       "      <td>NONE</td>\n",
       "      <td>614.0</td>\n",
       "      <td>NORTHWESTERN</td>\n",
       "      <td>Central Park Heights</td>\n",
       "      <td>-76.67511</td>\n",
       "      <td>39.34861</td>\n",
       "      <td>NaN</td>\n",
       "      <td>summer</td>\n",
       "      <td>9</td>\n",
       "      <td>20</td>\n",
       "      <td>2017</td>\n",
       "    </tr>\n",
       "    <tr>\n",
       "      <th>13</th>\n",
       "      <td>4C</td>\n",
       "      <td>AGG. ASSAULT</td>\n",
       "      <td>Outside</td>\n",
       "      <td>OTHER</td>\n",
       "      <td>641.0</td>\n",
       "      <td>NORTHWESTERN</td>\n",
       "      <td>Windsor Hills</td>\n",
       "      <td>-76.68169</td>\n",
       "      <td>39.31400</td>\n",
       "      <td>STREET</td>\n",
       "      <td>summer</td>\n",
       "      <td>9</td>\n",
       "      <td>20</td>\n",
       "      <td>2017</td>\n",
       "    </tr>\n",
       "    <tr>\n",
       "      <th>14</th>\n",
       "      <td>6D</td>\n",
       "      <td>LARCENY FROM AUTO</td>\n",
       "      <td>Outside</td>\n",
       "      <td>NONE</td>\n",
       "      <td>444.0</td>\n",
       "      <td>NORTHEASTERN</td>\n",
       "      <td>Frankford</td>\n",
       "      <td>-76.54270</td>\n",
       "      <td>39.33288</td>\n",
       "      <td>YARD</td>\n",
       "      <td>summer</td>\n",
       "      <td>9</td>\n",
       "      <td>20</td>\n",
       "      <td>2017</td>\n",
       "    </tr>\n",
       "    <tr>\n",
       "      <th>15</th>\n",
       "      <td>5D</td>\n",
       "      <td>BURGLARY</td>\n",
       "      <td>Inside</td>\n",
       "      <td>NONE</td>\n",
       "      <td>243.0</td>\n",
       "      <td>SOUTHEASTERN</td>\n",
       "      <td>Holabird Industrial Park</td>\n",
       "      <td>-76.53557</td>\n",
       "      <td>39.26533</td>\n",
       "      <td>OTHER - IN</td>\n",
       "      <td>summer</td>\n",
       "      <td>9</td>\n",
       "      <td>19</td>\n",
       "      <td>2017</td>\n",
       "    </tr>\n",
       "    <tr>\n",
       "      <th>16</th>\n",
       "      <td>9S</td>\n",
       "      <td>SHOOTING</td>\n",
       "      <td>Outside</td>\n",
       "      <td>FIREARM</td>\n",
       "      <td>343.0</td>\n",
       "      <td>EASTERN</td>\n",
       "      <td>Oliver</td>\n",
       "      <td>-76.60246</td>\n",
       "      <td>39.31038</td>\n",
       "      <td>STREET</td>\n",
       "      <td>summer</td>\n",
       "      <td>9</td>\n",
       "      <td>18</td>\n",
       "      <td>2017</td>\n",
       "    </tr>\n",
       "    <tr>\n",
       "      <th>17</th>\n",
       "      <td>1F</td>\n",
       "      <td>HOMICIDE</td>\n",
       "      <td>Outside</td>\n",
       "      <td>FIREARM</td>\n",
       "      <td>343.0</td>\n",
       "      <td>EASTERN</td>\n",
       "      <td>Oliver</td>\n",
       "      <td>-76.60246</td>\n",
       "      <td>39.31038</td>\n",
       "      <td>STREET</td>\n",
       "      <td>summer</td>\n",
       "      <td>9</td>\n",
       "      <td>18</td>\n",
       "      <td>2017</td>\n",
       "    </tr>\n",
       "    <tr>\n",
       "      <th>18</th>\n",
       "      <td>4E</td>\n",
       "      <td>COMMON ASSAULT</td>\n",
       "      <td>Outside</td>\n",
       "      <td>HANDS</td>\n",
       "      <td>132.0</td>\n",
       "      <td>CENTRAL</td>\n",
       "      <td>Madison Park</td>\n",
       "      <td>-76.62256</td>\n",
       "      <td>39.30083</td>\n",
       "      <td>STREET</td>\n",
       "      <td>summer</td>\n",
       "      <td>9</td>\n",
       "      <td>18</td>\n",
       "      <td>2017</td>\n",
       "    </tr>\n",
       "    <tr>\n",
       "      <th>19</th>\n",
       "      <td>6G</td>\n",
       "      <td>LARCENY</td>\n",
       "      <td>Inside</td>\n",
       "      <td>NONE</td>\n",
       "      <td>212.0</td>\n",
       "      <td>SOUTHEASTERN</td>\n",
       "      <td>Washington Hill</td>\n",
       "      <td>-76.59390</td>\n",
       "      <td>39.29020</td>\n",
       "      <td>CONVENIENC</td>\n",
       "      <td>summer</td>\n",
       "      <td>9</td>\n",
       "      <td>18</td>\n",
       "      <td>2017</td>\n",
       "    </tr>\n",
       "  </tbody>\n",
       "</table>\n",
       "</div>"
      ],
      "text/plain": [
       "   CrimeCode           Description Inside/Outside   Weapon   Post  \\\n",
       "0        3JK   ROBBERY - RESIDENCE         Inside    KNIFE  913.0   \n",
       "1         7A            AUTO THEFT        Outside     NONE  133.0   \n",
       "2         9S              SHOOTING        Outside  FIREARM  524.0   \n",
       "3         4C          AGG. ASSAULT         Inside    OTHER  934.0   \n",
       "4         4E        COMMON ASSAULT        Outside    HANDS  113.0   \n",
       "5         5A              BURGLARY         Inside     NONE  922.0   \n",
       "6         1F              HOMICIDE        Outside  FIREARM  232.0   \n",
       "7         3B      ROBBERY - STREET        Outside     NONE  123.0   \n",
       "8         4C          AGG. ASSAULT        Outside    OTHER  641.0   \n",
       "9         4E        COMMON ASSAULT         Inside    HANDS  332.0   \n",
       "10        4C          AGG. ASSAULT        Outside    OTHER  641.0   \n",
       "11       3CF  ROBBERY - COMMERCIAL         Inside  FIREARM  844.0   \n",
       "12        6C               LARCENY            NaN     NONE  614.0   \n",
       "13        4C          AGG. ASSAULT        Outside    OTHER  641.0   \n",
       "14        6D     LARCENY FROM AUTO        Outside     NONE  444.0   \n",
       "15        5D              BURGLARY         Inside     NONE  243.0   \n",
       "16        9S              SHOOTING        Outside  FIREARM  343.0   \n",
       "17        1F              HOMICIDE        Outside  FIREARM  343.0   \n",
       "18        4E        COMMON ASSAULT        Outside    HANDS  132.0   \n",
       "19        6G               LARCENY         Inside     NONE  212.0   \n",
       "\n",
       "        District              Neighborhood  Longitude  Latitude     Premise  \\\n",
       "0       SOUTHERN                  Brooklyn  -76.60541  39.22951  ROW/TOWNHO   \n",
       "1        CENTRAL            Reservoir Hill  -76.63217  39.31360      STREET   \n",
       "2       NORTHERN            Winston-Govans  -76.60697  39.34768      STREET   \n",
       "3       SOUTHERN          Carrollton Ridge  -76.64526  39.28315  ROW/TOWNHO   \n",
       "4        CENTRAL             Downtown West  -76.61365  39.28756      STREET   \n",
       "5       SOUTHERN               Cherry Hill  -76.62131  39.24867  ROW/TOWNHO   \n",
       "6   SOUTHEASTERN                    Canton  -76.56827  39.28202      STREET   \n",
       "7        CENTRAL                     Upton  -76.62789  39.30254      STREET   \n",
       "8   NORTHWESTERN             Windsor Hills  -76.68365  39.31370      STREET   \n",
       "9        EASTERN                     Berea  -76.57419  39.30551  ROW/TOWNHO   \n",
       "10  NORTHWESTERN             Windsor Hills  -76.68365  39.31370      STREET   \n",
       "11  SOUTHWESTERN                  Edgewood  -76.67759  39.29402  RETAIL/SMA   \n",
       "12  NORTHWESTERN      Central Park Heights  -76.67511  39.34861         NaN   \n",
       "13  NORTHWESTERN             Windsor Hills  -76.68169  39.31400      STREET   \n",
       "14  NORTHEASTERN                 Frankford  -76.54270  39.33288        YARD   \n",
       "15  SOUTHEASTERN  Holabird Industrial Park  -76.53557  39.26533  OTHER - IN   \n",
       "16       EASTERN                    Oliver  -76.60246  39.31038      STREET   \n",
       "17       EASTERN                    Oliver  -76.60246  39.31038      STREET   \n",
       "18       CENTRAL              Madison Park  -76.62256  39.30083      STREET   \n",
       "19  SOUTHEASTERN           Washington Hill  -76.59390  39.29020  CONVENIENC   \n",
       "\n",
       "    Season  Month  Hour  Year  \n",
       "0   summer      9    23  2017  \n",
       "1   summer      9    23  2017  \n",
       "2   summer      9    22  2017  \n",
       "3   summer      9    22  2017  \n",
       "4   summer      9    22  2017  \n",
       "5   summer      9    22  2017  \n",
       "6   summer      9    21  2017  \n",
       "7   summer      9    21  2017  \n",
       "8   summer      9    21  2017  \n",
       "9   summer      9    21  2017  \n",
       "10  summer      9    21  2017  \n",
       "11  summer      9    20  2017  \n",
       "12  summer      9    20  2017  \n",
       "13  summer      9    20  2017  \n",
       "14  summer      9    20  2017  \n",
       "15  summer      9    19  2017  \n",
       "16  summer      9    18  2017  \n",
       "17  summer      9    18  2017  \n",
       "18  summer      9    18  2017  \n",
       "19  summer      9    18  2017  "
      ]
     },
     "execution_count": 10,
     "metadata": {},
     "output_type": "execute_result"
    }
   ],
   "source": [
    "bpd_df.head(20)"
   ]
  },
  {
   "cell_type": "code",
   "execution_count": 11,
   "metadata": {
    "ExecuteTime": {
     "end_time": "2021-02-17T17:20:13.697503Z",
     "start_time": "2021-02-17T17:20:13.666505Z"
    }
   },
   "outputs": [
    {
     "data": {
      "text/plain": [
       "81"
      ]
     },
     "execution_count": 11,
     "metadata": {},
     "output_type": "execute_result"
    }
   ],
   "source": [
    "bpd_df[\"CrimeCode\"].nunique()"
   ]
  },
  {
   "cell_type": "code",
   "execution_count": 12,
   "metadata": {
    "ExecuteTime": {
     "end_time": "2021-02-17T17:20:13.745503Z",
     "start_time": "2021-02-17T17:20:13.698505Z"
    }
   },
   "outputs": [
    {
     "data": {
      "text/plain": [
       "15"
      ]
     },
     "execution_count": 12,
     "metadata": {},
     "output_type": "execute_result"
    }
   ],
   "source": [
    "bpd_df[\"Description\"].nunique()"
   ]
  },
  {
   "cell_type": "code",
   "execution_count": 13,
   "metadata": {
    "ExecuteTime": {
     "end_time": "2021-02-17T17:20:13.777502Z",
     "start_time": "2021-02-17T17:20:13.746505Z"
    }
   },
   "outputs": [],
   "source": [
    "CC_3JK = bpd_df[bpd_df[\"CrimeCode\"]==\"3JK\"]"
   ]
  },
  {
   "cell_type": "code",
   "execution_count": 14,
   "metadata": {
    "ExecuteTime": {
     "end_time": "2021-02-17T17:20:13.793503Z",
     "start_time": "2021-02-17T17:20:13.778506Z"
    }
   },
   "outputs": [
    {
     "data": {
      "text/plain": [
       "1"
      ]
     },
     "execution_count": 14,
     "metadata": {},
     "output_type": "execute_result"
    }
   ],
   "source": [
    "CC_3JK[\"Description\"].nunique()"
   ]
  },
  {
   "cell_type": "code",
   "execution_count": 15,
   "metadata": {
    "ExecuteTime": {
     "end_time": "2021-02-17T17:20:13.824504Z",
     "start_time": "2021-02-17T17:20:13.794506Z"
    }
   },
   "outputs": [],
   "source": [
    "Residence_Rob = bpd_df[bpd_df[\"Description\"]==\"ROBBERY - RESIDENCE\"]"
   ]
  },
  {
   "cell_type": "code",
   "execution_count": 16,
   "metadata": {
    "ExecuteTime": {
     "end_time": "2021-02-17T17:20:13.839507Z",
     "start_time": "2021-02-17T17:20:13.825505Z"
    }
   },
   "outputs": [
    {
     "data": {
      "text/plain": [
       "4"
      ]
     },
     "execution_count": 16,
     "metadata": {},
     "output_type": "execute_result"
    }
   ],
   "source": [
    "Residence_Rob[\"CrimeCode\"].nunique()"
   ]
  },
  {
   "cell_type": "code",
   "execution_count": 17,
   "metadata": {
    "ExecuteTime": {
     "end_time": "2021-02-17T17:20:13.855505Z",
     "start_time": "2021-02-17T17:20:13.840504Z"
    }
   },
   "outputs": [
    {
     "data": {
      "text/plain": [
       "array(['3JK', '3K', '3JF', '3JO'], dtype=object)"
      ]
     },
     "execution_count": 17,
     "metadata": {},
     "output_type": "execute_result"
    }
   ],
   "source": [
    "Residence_Rob[\"CrimeCode\"].unique()"
   ]
  },
  {
   "cell_type": "markdown",
   "metadata": {},
   "source": [
    "### Seems that the crime code is giving more granular details of the description. Does this correspond to data that is in other columns? Let's find out!"
   ]
  },
  {
   "cell_type": "code",
   "execution_count": 18,
   "metadata": {
    "ExecuteTime": {
     "end_time": "2021-02-17T17:20:13.871504Z",
     "start_time": "2021-02-17T17:20:13.856505Z"
    }
   },
   "outputs": [
    {
     "data": {
      "text/html": [
       "<div>\n",
       "<style scoped>\n",
       "    .dataframe tbody tr th:only-of-type {\n",
       "        vertical-align: middle;\n",
       "    }\n",
       "\n",
       "    .dataframe tbody tr th {\n",
       "        vertical-align: top;\n",
       "    }\n",
       "\n",
       "    .dataframe thead th {\n",
       "        text-align: right;\n",
       "    }\n",
       "</style>\n",
       "<table border=\"1\" class=\"dataframe\">\n",
       "  <thead>\n",
       "    <tr style=\"text-align: right;\">\n",
       "      <th></th>\n",
       "      <th>CrimeCode</th>\n",
       "      <th>Description</th>\n",
       "      <th>Inside/Outside</th>\n",
       "      <th>Weapon</th>\n",
       "      <th>Post</th>\n",
       "      <th>District</th>\n",
       "      <th>Neighborhood</th>\n",
       "      <th>Longitude</th>\n",
       "      <th>Latitude</th>\n",
       "      <th>Premise</th>\n",
       "      <th>Season</th>\n",
       "      <th>Month</th>\n",
       "      <th>Hour</th>\n",
       "      <th>Year</th>\n",
       "    </tr>\n",
       "  </thead>\n",
       "  <tbody>\n",
       "    <tr>\n",
       "      <th>0</th>\n",
       "      <td>3JK</td>\n",
       "      <td>ROBBERY - RESIDENCE</td>\n",
       "      <td>Inside</td>\n",
       "      <td>KNIFE</td>\n",
       "      <td>913.0</td>\n",
       "      <td>SOUTHERN</td>\n",
       "      <td>Brooklyn</td>\n",
       "      <td>-76.60541</td>\n",
       "      <td>39.22951</td>\n",
       "      <td>ROW/TOWNHO</td>\n",
       "      <td>summer</td>\n",
       "      <td>9</td>\n",
       "      <td>23</td>\n",
       "      <td>2017</td>\n",
       "    </tr>\n",
       "    <tr>\n",
       "      <th>1690</th>\n",
       "      <td>3JK</td>\n",
       "      <td>ROBBERY - RESIDENCE</td>\n",
       "      <td>Inside</td>\n",
       "      <td>KNIFE</td>\n",
       "      <td>833.0</td>\n",
       "      <td>SOUTHWESTERN</td>\n",
       "      <td>Irvington</td>\n",
       "      <td>-76.68267</td>\n",
       "      <td>39.27958</td>\n",
       "      <td>ROW/TOWNHO</td>\n",
       "      <td>summer</td>\n",
       "      <td>8</td>\n",
       "      <td>1</td>\n",
       "      <td>2017</td>\n",
       "    </tr>\n",
       "    <tr>\n",
       "      <th>3927</th>\n",
       "      <td>3JK</td>\n",
       "      <td>ROBBERY - RESIDENCE</td>\n",
       "      <td>Inside</td>\n",
       "      <td>KNIFE</td>\n",
       "      <td>844.0</td>\n",
       "      <td>SOUTHWESTERN</td>\n",
       "      <td>Edmondson Village</td>\n",
       "      <td>-76.68301</td>\n",
       "      <td>39.30003</td>\n",
       "      <td>ROW/TOWNHO</td>\n",
       "      <td>summer</td>\n",
       "      <td>8</td>\n",
       "      <td>2</td>\n",
       "      <td>2017</td>\n",
       "    </tr>\n",
       "    <tr>\n",
       "      <th>4345</th>\n",
       "      <td>3JK</td>\n",
       "      <td>ROBBERY - RESIDENCE</td>\n",
       "      <td>NaN</td>\n",
       "      <td>KNIFE</td>\n",
       "      <td>312.0</td>\n",
       "      <td>EASTERN</td>\n",
       "      <td>Oldtown</td>\n",
       "      <td>-76.60616</td>\n",
       "      <td>39.29911</td>\n",
       "      <td>NaN</td>\n",
       "      <td>summer</td>\n",
       "      <td>8</td>\n",
       "      <td>5</td>\n",
       "      <td>2017</td>\n",
       "    </tr>\n",
       "    <tr>\n",
       "      <th>6582</th>\n",
       "      <td>3JK</td>\n",
       "      <td>ROBBERY - RESIDENCE</td>\n",
       "      <td>Inside</td>\n",
       "      <td>KNIFE</td>\n",
       "      <td>934.0</td>\n",
       "      <td>SOUTHERN</td>\n",
       "      <td>Carrollton Ridge</td>\n",
       "      <td>-76.64503</td>\n",
       "      <td>39.28465</td>\n",
       "      <td>ROW/TOWNHO</td>\n",
       "      <td>summer</td>\n",
       "      <td>7</td>\n",
       "      <td>23</td>\n",
       "      <td>2017</td>\n",
       "    </tr>\n",
       "  </tbody>\n",
       "</table>\n",
       "</div>"
      ],
      "text/plain": [
       "     CrimeCode          Description Inside/Outside Weapon   Post  \\\n",
       "0          3JK  ROBBERY - RESIDENCE         Inside  KNIFE  913.0   \n",
       "1690       3JK  ROBBERY - RESIDENCE         Inside  KNIFE  833.0   \n",
       "3927       3JK  ROBBERY - RESIDENCE         Inside  KNIFE  844.0   \n",
       "4345       3JK  ROBBERY - RESIDENCE            NaN  KNIFE  312.0   \n",
       "6582       3JK  ROBBERY - RESIDENCE         Inside  KNIFE  934.0   \n",
       "\n",
       "          District       Neighborhood  Longitude  Latitude     Premise  \\\n",
       "0         SOUTHERN           Brooklyn  -76.60541  39.22951  ROW/TOWNHO   \n",
       "1690  SOUTHWESTERN          Irvington  -76.68267  39.27958  ROW/TOWNHO   \n",
       "3927  SOUTHWESTERN  Edmondson Village  -76.68301  39.30003  ROW/TOWNHO   \n",
       "4345       EASTERN            Oldtown  -76.60616  39.29911         NaN   \n",
       "6582      SOUTHERN   Carrollton Ridge  -76.64503  39.28465  ROW/TOWNHO   \n",
       "\n",
       "      Season  Month  Hour  Year  \n",
       "0     summer      9    23  2017  \n",
       "1690  summer      8     1  2017  \n",
       "3927  summer      8     2  2017  \n",
       "4345  summer      8     5  2017  \n",
       "6582  summer      7    23  2017  "
      ]
     },
     "execution_count": 18,
     "metadata": {},
     "output_type": "execute_result"
    }
   ],
   "source": [
    "CC_3JK.head(5)"
   ]
  },
  {
   "cell_type": "code",
   "execution_count": 19,
   "metadata": {
    "ExecuteTime": {
     "end_time": "2021-02-17T17:20:13.903502Z",
     "start_time": "2021-02-17T17:20:13.872505Z"
    }
   },
   "outputs": [
    {
     "data": {
      "text/html": [
       "<div>\n",
       "<style scoped>\n",
       "    .dataframe tbody tr th:only-of-type {\n",
       "        vertical-align: middle;\n",
       "    }\n",
       "\n",
       "    .dataframe tbody tr th {\n",
       "        vertical-align: top;\n",
       "    }\n",
       "\n",
       "    .dataframe thead th {\n",
       "        text-align: right;\n",
       "    }\n",
       "</style>\n",
       "<table border=\"1\" class=\"dataframe\">\n",
       "  <thead>\n",
       "    <tr style=\"text-align: right;\">\n",
       "      <th></th>\n",
       "      <th>CrimeCode</th>\n",
       "      <th>Description</th>\n",
       "      <th>Inside/Outside</th>\n",
       "      <th>Weapon</th>\n",
       "      <th>Post</th>\n",
       "      <th>District</th>\n",
       "      <th>Neighborhood</th>\n",
       "      <th>Longitude</th>\n",
       "      <th>Latitude</th>\n",
       "      <th>Premise</th>\n",
       "      <th>Season</th>\n",
       "      <th>Month</th>\n",
       "      <th>Hour</th>\n",
       "      <th>Year</th>\n",
       "    </tr>\n",
       "  </thead>\n",
       "  <tbody>\n",
       "    <tr>\n",
       "      <th>36</th>\n",
       "      <td>3K</td>\n",
       "      <td>ROBBERY - RESIDENCE</td>\n",
       "      <td>Inside</td>\n",
       "      <td>NONE</td>\n",
       "      <td>842.0</td>\n",
       "      <td>SOUTHWESTERN</td>\n",
       "      <td>Saint Josephs</td>\n",
       "      <td>-76.67387</td>\n",
       "      <td>39.28575</td>\n",
       "      <td>ROW/TOWNHO</td>\n",
       "      <td>summer</td>\n",
       "      <td>9</td>\n",
       "      <td>11</td>\n",
       "      <td>2017</td>\n",
       "    </tr>\n",
       "    <tr>\n",
       "      <th>122</th>\n",
       "      <td>3K</td>\n",
       "      <td>ROBBERY - RESIDENCE</td>\n",
       "      <td>Inside</td>\n",
       "      <td>NONE</td>\n",
       "      <td>313.0</td>\n",
       "      <td>EASTERN</td>\n",
       "      <td>Gay Street</td>\n",
       "      <td>-76.59469</td>\n",
       "      <td>39.30247</td>\n",
       "      <td>ROW/TOWNHO</td>\n",
       "      <td>summer</td>\n",
       "      <td>9</td>\n",
       "      <td>10</td>\n",
       "      <td>2017</td>\n",
       "    </tr>\n",
       "    <tr>\n",
       "      <th>639</th>\n",
       "      <td>3K</td>\n",
       "      <td>ROBBERY - RESIDENCE</td>\n",
       "      <td>Inside</td>\n",
       "      <td>NONE</td>\n",
       "      <td>425.0</td>\n",
       "      <td>NORTHEASTERN</td>\n",
       "      <td>NaN</td>\n",
       "      <td>NaN</td>\n",
       "      <td>NaN</td>\n",
       "      <td>ROW/TOWNHO</td>\n",
       "      <td>winter</td>\n",
       "      <td>1</td>\n",
       "      <td>8</td>\n",
       "      <td>2017</td>\n",
       "    </tr>\n",
       "    <tr>\n",
       "      <th>721</th>\n",
       "      <td>3K</td>\n",
       "      <td>ROBBERY - RESIDENCE</td>\n",
       "      <td>Inside</td>\n",
       "      <td>NONE</td>\n",
       "      <td>612.0</td>\n",
       "      <td>NORTHWESTERN</td>\n",
       "      <td>Park Circle</td>\n",
       "      <td>-76.65932</td>\n",
       "      <td>39.32985</td>\n",
       "      <td>ROW/TOWNHO</td>\n",
       "      <td>summer</td>\n",
       "      <td>8</td>\n",
       "      <td>16</td>\n",
       "      <td>2017</td>\n",
       "    </tr>\n",
       "    <tr>\n",
       "      <th>829</th>\n",
       "      <td>3K</td>\n",
       "      <td>ROBBERY - RESIDENCE</td>\n",
       "      <td>Inside</td>\n",
       "      <td>NONE</td>\n",
       "      <td>613.0</td>\n",
       "      <td>NORTHWESTERN</td>\n",
       "      <td>Langston Hughes</td>\n",
       "      <td>-76.68069</td>\n",
       "      <td>39.34484</td>\n",
       "      <td>ROW/TOWNHO</td>\n",
       "      <td>summer</td>\n",
       "      <td>8</td>\n",
       "      <td>22</td>\n",
       "      <td>2017</td>\n",
       "    </tr>\n",
       "  </tbody>\n",
       "</table>\n",
       "</div>"
      ],
      "text/plain": [
       "    CrimeCode          Description Inside/Outside Weapon   Post      District  \\\n",
       "36         3K  ROBBERY - RESIDENCE         Inside   NONE  842.0  SOUTHWESTERN   \n",
       "122        3K  ROBBERY - RESIDENCE         Inside   NONE  313.0       EASTERN   \n",
       "639        3K  ROBBERY - RESIDENCE         Inside   NONE  425.0  NORTHEASTERN   \n",
       "721        3K  ROBBERY - RESIDENCE         Inside   NONE  612.0  NORTHWESTERN   \n",
       "829        3K  ROBBERY - RESIDENCE         Inside   NONE  613.0  NORTHWESTERN   \n",
       "\n",
       "        Neighborhood  Longitude  Latitude     Premise  Season  Month  Hour  \\\n",
       "36     Saint Josephs  -76.67387  39.28575  ROW/TOWNHO  summer      9    11   \n",
       "122       Gay Street  -76.59469  39.30247  ROW/TOWNHO  summer      9    10   \n",
       "639              NaN        NaN       NaN  ROW/TOWNHO  winter      1     8   \n",
       "721      Park Circle  -76.65932  39.32985  ROW/TOWNHO  summer      8    16   \n",
       "829  Langston Hughes  -76.68069  39.34484  ROW/TOWNHO  summer      8    22   \n",
       "\n",
       "     Year  \n",
       "36   2017  \n",
       "122  2017  \n",
       "639  2017  \n",
       "721  2017  \n",
       "829  2017  "
      ]
     },
     "execution_count": 19,
     "metadata": {},
     "output_type": "execute_result"
    }
   ],
   "source": [
    "CC_3K = bpd_df[bpd_df[\"CrimeCode\"]==\"3K\"]\n",
    "CC_3K.head(5)"
   ]
  },
  {
   "cell_type": "code",
   "execution_count": 20,
   "metadata": {
    "ExecuteTime": {
     "end_time": "2021-02-17T17:20:13.935503Z",
     "start_time": "2021-02-17T17:20:13.904505Z"
    }
   },
   "outputs": [
    {
     "data": {
      "text/html": [
       "<div>\n",
       "<style scoped>\n",
       "    .dataframe tbody tr th:only-of-type {\n",
       "        vertical-align: middle;\n",
       "    }\n",
       "\n",
       "    .dataframe tbody tr th {\n",
       "        vertical-align: top;\n",
       "    }\n",
       "\n",
       "    .dataframe thead th {\n",
       "        text-align: right;\n",
       "    }\n",
       "</style>\n",
       "<table border=\"1\" class=\"dataframe\">\n",
       "  <thead>\n",
       "    <tr style=\"text-align: right;\">\n",
       "      <th></th>\n",
       "      <th>CrimeCode</th>\n",
       "      <th>Description</th>\n",
       "      <th>Inside/Outside</th>\n",
       "      <th>Weapon</th>\n",
       "      <th>Post</th>\n",
       "      <th>District</th>\n",
       "      <th>Neighborhood</th>\n",
       "      <th>Longitude</th>\n",
       "      <th>Latitude</th>\n",
       "      <th>Premise</th>\n",
       "      <th>Season</th>\n",
       "      <th>Month</th>\n",
       "      <th>Hour</th>\n",
       "      <th>Year</th>\n",
       "    </tr>\n",
       "  </thead>\n",
       "  <tbody>\n",
       "    <tr>\n",
       "      <th>231</th>\n",
       "      <td>3JF</td>\n",
       "      <td>ROBBERY - RESIDENCE</td>\n",
       "      <td>Inside</td>\n",
       "      <td>FIREARM</td>\n",
       "      <td>123.0</td>\n",
       "      <td>CENTRAL</td>\n",
       "      <td>Upton</td>\n",
       "      <td>-76.62556</td>\n",
       "      <td>39.30169</td>\n",
       "      <td>ROW/TOWNHO</td>\n",
       "      <td>summer</td>\n",
       "      <td>8</td>\n",
       "      <td>14</td>\n",
       "      <td>2017</td>\n",
       "    </tr>\n",
       "    <tr>\n",
       "      <th>286</th>\n",
       "      <td>3JF</td>\n",
       "      <td>ROBBERY - RESIDENCE</td>\n",
       "      <td>Inside</td>\n",
       "      <td>FIREARM</td>\n",
       "      <td>913.0</td>\n",
       "      <td>SOUTHERN</td>\n",
       "      <td>Brooklyn</td>\n",
       "      <td>-76.60038</td>\n",
       "      <td>39.23235</td>\n",
       "      <td>ROW/TOWNHO</td>\n",
       "      <td>summer</td>\n",
       "      <td>8</td>\n",
       "      <td>2</td>\n",
       "      <td>2017</td>\n",
       "    </tr>\n",
       "    <tr>\n",
       "      <th>287</th>\n",
       "      <td>3JF</td>\n",
       "      <td>ROBBERY - RESIDENCE</td>\n",
       "      <td>Inside</td>\n",
       "      <td>FIREARM</td>\n",
       "      <td>913.0</td>\n",
       "      <td>SOUTHERN</td>\n",
       "      <td>Brooklyn</td>\n",
       "      <td>-76.60038</td>\n",
       "      <td>39.23235</td>\n",
       "      <td>ROW/TOWNHO</td>\n",
       "      <td>summer</td>\n",
       "      <td>8</td>\n",
       "      <td>2</td>\n",
       "      <td>2017</td>\n",
       "    </tr>\n",
       "    <tr>\n",
       "      <th>419</th>\n",
       "      <td>3JF</td>\n",
       "      <td>ROBBERY - RESIDENCE</td>\n",
       "      <td>Inside</td>\n",
       "      <td>FIREARM</td>\n",
       "      <td>913.0</td>\n",
       "      <td>SOUTHERN</td>\n",
       "      <td>Brooklyn</td>\n",
       "      <td>-76.59715</td>\n",
       "      <td>39.23336</td>\n",
       "      <td>ROW/TOWNHO</td>\n",
       "      <td>summer</td>\n",
       "      <td>8</td>\n",
       "      <td>23</td>\n",
       "      <td>2017</td>\n",
       "    </tr>\n",
       "    <tr>\n",
       "      <th>420</th>\n",
       "      <td>3JF</td>\n",
       "      <td>ROBBERY - RESIDENCE</td>\n",
       "      <td>Inside</td>\n",
       "      <td>FIREARM</td>\n",
       "      <td>913.0</td>\n",
       "      <td>SOUTHERN</td>\n",
       "      <td>Brooklyn</td>\n",
       "      <td>-76.59715</td>\n",
       "      <td>39.23336</td>\n",
       "      <td>ROW/TOWNHO</td>\n",
       "      <td>summer</td>\n",
       "      <td>8</td>\n",
       "      <td>23</td>\n",
       "      <td>2017</td>\n",
       "    </tr>\n",
       "  </tbody>\n",
       "</table>\n",
       "</div>"
      ],
      "text/plain": [
       "    CrimeCode          Description Inside/Outside   Weapon   Post  District  \\\n",
       "231       3JF  ROBBERY - RESIDENCE         Inside  FIREARM  123.0   CENTRAL   \n",
       "286       3JF  ROBBERY - RESIDENCE         Inside  FIREARM  913.0  SOUTHERN   \n",
       "287       3JF  ROBBERY - RESIDENCE         Inside  FIREARM  913.0  SOUTHERN   \n",
       "419       3JF  ROBBERY - RESIDENCE         Inside  FIREARM  913.0  SOUTHERN   \n",
       "420       3JF  ROBBERY - RESIDENCE         Inside  FIREARM  913.0  SOUTHERN   \n",
       "\n",
       "    Neighborhood  Longitude  Latitude     Premise  Season  Month  Hour  Year  \n",
       "231        Upton  -76.62556  39.30169  ROW/TOWNHO  summer      8    14  2017  \n",
       "286     Brooklyn  -76.60038  39.23235  ROW/TOWNHO  summer      8     2  2017  \n",
       "287     Brooklyn  -76.60038  39.23235  ROW/TOWNHO  summer      8     2  2017  \n",
       "419     Brooklyn  -76.59715  39.23336  ROW/TOWNHO  summer      8    23  2017  \n",
       "420     Brooklyn  -76.59715  39.23336  ROW/TOWNHO  summer      8    23  2017  "
      ]
     },
     "execution_count": 20,
     "metadata": {},
     "output_type": "execute_result"
    }
   ],
   "source": [
    "CC_3JF = bpd_df[bpd_df[\"CrimeCode\"]==\"3JF\"]\n",
    "CC_3JF.head(5)"
   ]
  },
  {
   "cell_type": "code",
   "execution_count": 21,
   "metadata": {
    "ExecuteTime": {
     "end_time": "2021-02-17T17:20:13.967503Z",
     "start_time": "2021-02-17T17:20:13.936504Z"
    }
   },
   "outputs": [
    {
     "data": {
      "text/html": [
       "<div>\n",
       "<style scoped>\n",
       "    .dataframe tbody tr th:only-of-type {\n",
       "        vertical-align: middle;\n",
       "    }\n",
       "\n",
       "    .dataframe tbody tr th {\n",
       "        vertical-align: top;\n",
       "    }\n",
       "\n",
       "    .dataframe thead th {\n",
       "        text-align: right;\n",
       "    }\n",
       "</style>\n",
       "<table border=\"1\" class=\"dataframe\">\n",
       "  <thead>\n",
       "    <tr style=\"text-align: right;\">\n",
       "      <th></th>\n",
       "      <th>CrimeCode</th>\n",
       "      <th>Description</th>\n",
       "      <th>Inside/Outside</th>\n",
       "      <th>Weapon</th>\n",
       "      <th>Post</th>\n",
       "      <th>District</th>\n",
       "      <th>Neighborhood</th>\n",
       "      <th>Longitude</th>\n",
       "      <th>Latitude</th>\n",
       "      <th>Premise</th>\n",
       "      <th>Season</th>\n",
       "      <th>Month</th>\n",
       "      <th>Hour</th>\n",
       "      <th>Year</th>\n",
       "    </tr>\n",
       "  </thead>\n",
       "  <tbody>\n",
       "    <tr>\n",
       "      <th>647</th>\n",
       "      <td>3JO</td>\n",
       "      <td>ROBBERY - RESIDENCE</td>\n",
       "      <td>Inside</td>\n",
       "      <td>OTHER</td>\n",
       "      <td>913.0</td>\n",
       "      <td>SOUTHERN</td>\n",
       "      <td>Brooklyn</td>\n",
       "      <td>-76.59871</td>\n",
       "      <td>39.23028</td>\n",
       "      <td>ROW/TOWNHO</td>\n",
       "      <td>summer</td>\n",
       "      <td>8</td>\n",
       "      <td>23</td>\n",
       "      <td>2017</td>\n",
       "    </tr>\n",
       "    <tr>\n",
       "      <th>725</th>\n",
       "      <td>3JO</td>\n",
       "      <td>ROBBERY - RESIDENCE</td>\n",
       "      <td>Inside</td>\n",
       "      <td>OTHER</td>\n",
       "      <td>622.0</td>\n",
       "      <td>NORTHWESTERN</td>\n",
       "      <td>Howard Park</td>\n",
       "      <td>-76.70413</td>\n",
       "      <td>39.33052</td>\n",
       "      <td>ROW/TOWNHO</td>\n",
       "      <td>summer</td>\n",
       "      <td>8</td>\n",
       "      <td>16</td>\n",
       "      <td>2017</td>\n",
       "    </tr>\n",
       "    <tr>\n",
       "      <th>1177</th>\n",
       "      <td>3JO</td>\n",
       "      <td>ROBBERY - RESIDENCE</td>\n",
       "      <td>NaN</td>\n",
       "      <td>OTHER</td>\n",
       "      <td>643.0</td>\n",
       "      <td>NORTHWESTERN</td>\n",
       "      <td>Ashburton</td>\n",
       "      <td>-76.67145</td>\n",
       "      <td>39.32612</td>\n",
       "      <td>NaN</td>\n",
       "      <td>summer</td>\n",
       "      <td>8</td>\n",
       "      <td>12</td>\n",
       "      <td>2017</td>\n",
       "    </tr>\n",
       "    <tr>\n",
       "      <th>1240</th>\n",
       "      <td>3JO</td>\n",
       "      <td>ROBBERY - RESIDENCE</td>\n",
       "      <td>Outside</td>\n",
       "      <td>OTHER</td>\n",
       "      <td>622.0</td>\n",
       "      <td>NORTHWESTERN</td>\n",
       "      <td>Howard Park</td>\n",
       "      <td>-76.70397</td>\n",
       "      <td>39.33273</td>\n",
       "      <td>DRIVEWAY</td>\n",
       "      <td>summer</td>\n",
       "      <td>8</td>\n",
       "      <td>23</td>\n",
       "      <td>2017</td>\n",
       "    </tr>\n",
       "    <tr>\n",
       "      <th>1339</th>\n",
       "      <td>3JO</td>\n",
       "      <td>ROBBERY - RESIDENCE</td>\n",
       "      <td>Inside</td>\n",
       "      <td>OTHER</td>\n",
       "      <td>923.0</td>\n",
       "      <td>SOUTHERN</td>\n",
       "      <td>Lakeland</td>\n",
       "      <td>-76.64745</td>\n",
       "      <td>39.25172</td>\n",
       "      <td>ROW/TOWNHO</td>\n",
       "      <td>summer</td>\n",
       "      <td>8</td>\n",
       "      <td>9</td>\n",
       "      <td>2017</td>\n",
       "    </tr>\n",
       "  </tbody>\n",
       "</table>\n",
       "</div>"
      ],
      "text/plain": [
       "     CrimeCode          Description Inside/Outside Weapon   Post  \\\n",
       "647        3JO  ROBBERY - RESIDENCE         Inside  OTHER  913.0   \n",
       "725        3JO  ROBBERY - RESIDENCE         Inside  OTHER  622.0   \n",
       "1177       3JO  ROBBERY - RESIDENCE            NaN  OTHER  643.0   \n",
       "1240       3JO  ROBBERY - RESIDENCE        Outside  OTHER  622.0   \n",
       "1339       3JO  ROBBERY - RESIDENCE         Inside  OTHER  923.0   \n",
       "\n",
       "          District Neighborhood  Longitude  Latitude     Premise  Season  \\\n",
       "647       SOUTHERN     Brooklyn  -76.59871  39.23028  ROW/TOWNHO  summer   \n",
       "725   NORTHWESTERN  Howard Park  -76.70413  39.33052  ROW/TOWNHO  summer   \n",
       "1177  NORTHWESTERN    Ashburton  -76.67145  39.32612         NaN  summer   \n",
       "1240  NORTHWESTERN  Howard Park  -76.70397  39.33273    DRIVEWAY  summer   \n",
       "1339      SOUTHERN     Lakeland  -76.64745  39.25172  ROW/TOWNHO  summer   \n",
       "\n",
       "      Month  Hour  Year  \n",
       "647       8    23  2017  \n",
       "725       8    16  2017  \n",
       "1177      8    12  2017  \n",
       "1240      8    23  2017  \n",
       "1339      8     9  2017  "
      ]
     },
     "execution_count": 21,
     "metadata": {},
     "output_type": "execute_result"
    }
   ],
   "source": [
    "CC_3JO = bpd_df[bpd_df[\"CrimeCode\"]==\"3JO\"]\n",
    "CC_3JO.head(5)"
   ]
  },
  {
   "cell_type": "markdown",
   "metadata": {},
   "source": [
    "### Looks like the CrimeCode is combined information about the description and the weapon used. Let's double check."
   ]
  },
  {
   "cell_type": "code",
   "execution_count": 22,
   "metadata": {
    "ExecuteTime": {
     "end_time": "2021-02-17T17:20:13.983504Z",
     "start_time": "2021-02-17T17:20:13.968504Z"
    }
   },
   "outputs": [
    {
     "data": {
      "text/plain": [
       "array(['KNIFE'], dtype=object)"
      ]
     },
     "execution_count": 22,
     "metadata": {},
     "output_type": "execute_result"
    }
   ],
   "source": [
    "CC_3JK[\"Weapon\"].unique()"
   ]
  },
  {
   "cell_type": "code",
   "execution_count": 23,
   "metadata": {
    "ExecuteTime": {
     "end_time": "2021-02-17T17:20:13.999503Z",
     "start_time": "2021-02-17T17:20:13.986506Z"
    }
   },
   "outputs": [
    {
     "data": {
      "text/plain": [
       "array(['NONE'], dtype=object)"
      ]
     },
     "execution_count": 23,
     "metadata": {},
     "output_type": "execute_result"
    }
   ],
   "source": [
    "CC_3K[\"Weapon\"].unique()"
   ]
  },
  {
   "cell_type": "code",
   "execution_count": 24,
   "metadata": {
    "ExecuteTime": {
     "end_time": "2021-02-17T17:20:14.015503Z",
     "start_time": "2021-02-17T17:20:14.000504Z"
    }
   },
   "outputs": [
    {
     "data": {
      "text/plain": [
       "array(['OTHER'], dtype=object)"
      ]
     },
     "execution_count": 24,
     "metadata": {},
     "output_type": "execute_result"
    }
   ],
   "source": [
    "CC_3JO[\"Weapon\"].unique()"
   ]
  },
  {
   "cell_type": "code",
   "execution_count": 25,
   "metadata": {
    "ExecuteTime": {
     "end_time": "2021-02-17T17:20:14.031505Z",
     "start_time": "2021-02-17T17:20:14.016504Z"
    }
   },
   "outputs": [
    {
     "data": {
      "text/plain": [
       "array(['FIREARM'], dtype=object)"
      ]
     },
     "execution_count": 25,
     "metadata": {},
     "output_type": "execute_result"
    }
   ],
   "source": [
    "CC_3JF[\"Weapon\"].unique()"
   ]
  },
  {
   "cell_type": "markdown",
   "metadata": {},
   "source": [
    "### Do the same test with \"Shooting\""
   ]
  },
  {
   "cell_type": "code",
   "execution_count": 26,
   "metadata": {
    "ExecuteTime": {
     "end_time": "2021-02-17T17:20:14.063503Z",
     "start_time": "2021-02-17T17:20:14.032509Z"
    }
   },
   "outputs": [],
   "source": [
    "Shooting = bpd_df[bpd_df[\"Description\"]==\"SHOOTING\"]"
   ]
  },
  {
   "cell_type": "code",
   "execution_count": 27,
   "metadata": {
    "ExecuteTime": {
     "end_time": "2021-02-17T17:20:14.079504Z",
     "start_time": "2021-02-17T17:20:14.064506Z"
    }
   },
   "outputs": [
    {
     "data": {
      "text/plain": [
       "array(['9S'], dtype=object)"
      ]
     },
     "execution_count": 27,
     "metadata": {},
     "output_type": "execute_result"
    }
   ],
   "source": [
    "Shooting[\"CrimeCode\"].unique()"
   ]
  },
  {
   "cell_type": "markdown",
   "metadata": {},
   "source": [
    "### Well that was dumb. Obviously shootings are all done with firearms... Let's try homicide...."
   ]
  },
  {
   "cell_type": "code",
   "execution_count": 28,
   "metadata": {
    "ExecuteTime": {
     "end_time": "2021-02-17T17:20:14.111503Z",
     "start_time": "2021-02-17T17:20:14.080506Z"
    }
   },
   "outputs": [],
   "source": [
    "Homicide = bpd_df[bpd_df[\"Description\"]==\"HOMICIDE\"]"
   ]
  },
  {
   "cell_type": "code",
   "execution_count": 29,
   "metadata": {
    "ExecuteTime": {
     "end_time": "2021-02-17T17:20:14.126505Z",
     "start_time": "2021-02-17T17:20:14.112505Z"
    }
   },
   "outputs": [
    {
     "data": {
      "text/plain": [
       "array(['1F', '1O', '1K'], dtype=object)"
      ]
     },
     "execution_count": 29,
     "metadata": {},
     "output_type": "execute_result"
    }
   ],
   "source": [
    "Homicide[\"CrimeCode\"].unique()"
   ]
  },
  {
   "cell_type": "code",
   "execution_count": 30,
   "metadata": {
    "ExecuteTime": {
     "end_time": "2021-02-17T17:20:14.189504Z",
     "start_time": "2021-02-17T17:20:14.127504Z"
    }
   },
   "outputs": [],
   "source": [
    "CC_1F = bpd_df[bpd_df[\"CrimeCode\"]==\"1F\"]\n",
    "CC_1O = bpd_df[bpd_df[\"CrimeCode\"]==\"1O\"]\n",
    "CC_1K = bpd_df[bpd_df[\"CrimeCode\"]==\"1K\"]"
   ]
  },
  {
   "cell_type": "code",
   "execution_count": 31,
   "metadata": {
    "ExecuteTime": {
     "end_time": "2021-02-17T17:20:14.204504Z",
     "start_time": "2021-02-17T17:20:14.190506Z"
    }
   },
   "outputs": [
    {
     "data": {
      "text/plain": [
       "array(['FIREARM'], dtype=object)"
      ]
     },
     "execution_count": 31,
     "metadata": {},
     "output_type": "execute_result"
    }
   ],
   "source": [
    "CC_1F[\"Weapon\"].unique()"
   ]
  },
  {
   "cell_type": "code",
   "execution_count": 32,
   "metadata": {
    "ExecuteTime": {
     "end_time": "2021-02-17T17:20:14.219503Z",
     "start_time": "2021-02-17T17:20:14.205504Z"
    }
   },
   "outputs": [
    {
     "data": {
      "text/plain": [
       "array(['OTHER'], dtype=object)"
      ]
     },
     "execution_count": 32,
     "metadata": {},
     "output_type": "execute_result"
    }
   ],
   "source": [
    "CC_1O[\"Weapon\"].unique()"
   ]
  },
  {
   "cell_type": "code",
   "execution_count": 33,
   "metadata": {
    "ExecuteTime": {
     "end_time": "2021-02-17T17:20:14.235506Z",
     "start_time": "2021-02-17T17:20:14.220504Z"
    }
   },
   "outputs": [
    {
     "data": {
      "text/plain": [
       "array(['KNIFE'], dtype=object)"
      ]
     },
     "execution_count": 33,
     "metadata": {},
     "output_type": "execute_result"
    }
   ],
   "source": [
    "CC_1K[\"Weapon\"].unique()"
   ]
  },
  {
   "cell_type": "markdown",
   "metadata": {},
   "source": [
    "### Confirmed. Crime code contains information already in other columns. Can safely drop"
   ]
  },
  {
   "cell_type": "code",
   "execution_count": 34,
   "metadata": {
    "ExecuteTime": {
     "end_time": "2021-02-17T17:20:14.267504Z",
     "start_time": "2021-02-17T17:20:14.236505Z"
    }
   },
   "outputs": [],
   "source": [
    "bpd_df = bpd_df.drop(columns=\"CrimeCode\")"
   ]
  },
  {
   "cell_type": "code",
   "execution_count": 35,
   "metadata": {
    "ExecuteTime": {
     "end_time": "2021-02-17T17:20:14.298504Z",
     "start_time": "2021-02-17T17:20:14.268506Z"
    }
   },
   "outputs": [
    {
     "data": {
      "text/html": [
       "<div>\n",
       "<style scoped>\n",
       "    .dataframe tbody tr th:only-of-type {\n",
       "        vertical-align: middle;\n",
       "    }\n",
       "\n",
       "    .dataframe tbody tr th {\n",
       "        vertical-align: top;\n",
       "    }\n",
       "\n",
       "    .dataframe thead th {\n",
       "        text-align: right;\n",
       "    }\n",
       "</style>\n",
       "<table border=\"1\" class=\"dataframe\">\n",
       "  <thead>\n",
       "    <tr style=\"text-align: right;\">\n",
       "      <th></th>\n",
       "      <th>Description</th>\n",
       "      <th>Inside/Outside</th>\n",
       "      <th>Weapon</th>\n",
       "      <th>Post</th>\n",
       "      <th>District</th>\n",
       "      <th>Neighborhood</th>\n",
       "      <th>Longitude</th>\n",
       "      <th>Latitude</th>\n",
       "      <th>Premise</th>\n",
       "      <th>Season</th>\n",
       "      <th>Month</th>\n",
       "      <th>Hour</th>\n",
       "      <th>Year</th>\n",
       "    </tr>\n",
       "  </thead>\n",
       "  <tbody>\n",
       "    <tr>\n",
       "      <th>0</th>\n",
       "      <td>ROBBERY - RESIDENCE</td>\n",
       "      <td>Inside</td>\n",
       "      <td>KNIFE</td>\n",
       "      <td>913.0</td>\n",
       "      <td>SOUTHERN</td>\n",
       "      <td>Brooklyn</td>\n",
       "      <td>-76.60541</td>\n",
       "      <td>39.22951</td>\n",
       "      <td>ROW/TOWNHO</td>\n",
       "      <td>summer</td>\n",
       "      <td>9</td>\n",
       "      <td>23</td>\n",
       "      <td>2017</td>\n",
       "    </tr>\n",
       "    <tr>\n",
       "      <th>1</th>\n",
       "      <td>AUTO THEFT</td>\n",
       "      <td>Outside</td>\n",
       "      <td>NONE</td>\n",
       "      <td>133.0</td>\n",
       "      <td>CENTRAL</td>\n",
       "      <td>Reservoir Hill</td>\n",
       "      <td>-76.63217</td>\n",
       "      <td>39.31360</td>\n",
       "      <td>STREET</td>\n",
       "      <td>summer</td>\n",
       "      <td>9</td>\n",
       "      <td>23</td>\n",
       "      <td>2017</td>\n",
       "    </tr>\n",
       "    <tr>\n",
       "      <th>2</th>\n",
       "      <td>SHOOTING</td>\n",
       "      <td>Outside</td>\n",
       "      <td>FIREARM</td>\n",
       "      <td>524.0</td>\n",
       "      <td>NORTHERN</td>\n",
       "      <td>Winston-Govans</td>\n",
       "      <td>-76.60697</td>\n",
       "      <td>39.34768</td>\n",
       "      <td>STREET</td>\n",
       "      <td>summer</td>\n",
       "      <td>9</td>\n",
       "      <td>22</td>\n",
       "      <td>2017</td>\n",
       "    </tr>\n",
       "    <tr>\n",
       "      <th>3</th>\n",
       "      <td>AGG. ASSAULT</td>\n",
       "      <td>Inside</td>\n",
       "      <td>OTHER</td>\n",
       "      <td>934.0</td>\n",
       "      <td>SOUTHERN</td>\n",
       "      <td>Carrollton Ridge</td>\n",
       "      <td>-76.64526</td>\n",
       "      <td>39.28315</td>\n",
       "      <td>ROW/TOWNHO</td>\n",
       "      <td>summer</td>\n",
       "      <td>9</td>\n",
       "      <td>22</td>\n",
       "      <td>2017</td>\n",
       "    </tr>\n",
       "    <tr>\n",
       "      <th>4</th>\n",
       "      <td>COMMON ASSAULT</td>\n",
       "      <td>Outside</td>\n",
       "      <td>HANDS</td>\n",
       "      <td>113.0</td>\n",
       "      <td>CENTRAL</td>\n",
       "      <td>Downtown West</td>\n",
       "      <td>-76.61365</td>\n",
       "      <td>39.28756</td>\n",
       "      <td>STREET</td>\n",
       "      <td>summer</td>\n",
       "      <td>9</td>\n",
       "      <td>22</td>\n",
       "      <td>2017</td>\n",
       "    </tr>\n",
       "    <tr>\n",
       "      <th>5</th>\n",
       "      <td>BURGLARY</td>\n",
       "      <td>Inside</td>\n",
       "      <td>NONE</td>\n",
       "      <td>922.0</td>\n",
       "      <td>SOUTHERN</td>\n",
       "      <td>Cherry Hill</td>\n",
       "      <td>-76.62131</td>\n",
       "      <td>39.24867</td>\n",
       "      <td>ROW/TOWNHO</td>\n",
       "      <td>summer</td>\n",
       "      <td>9</td>\n",
       "      <td>22</td>\n",
       "      <td>2017</td>\n",
       "    </tr>\n",
       "    <tr>\n",
       "      <th>6</th>\n",
       "      <td>HOMICIDE</td>\n",
       "      <td>Outside</td>\n",
       "      <td>FIREARM</td>\n",
       "      <td>232.0</td>\n",
       "      <td>SOUTHEASTERN</td>\n",
       "      <td>Canton</td>\n",
       "      <td>-76.56827</td>\n",
       "      <td>39.28202</td>\n",
       "      <td>STREET</td>\n",
       "      <td>summer</td>\n",
       "      <td>9</td>\n",
       "      <td>21</td>\n",
       "      <td>2017</td>\n",
       "    </tr>\n",
       "    <tr>\n",
       "      <th>7</th>\n",
       "      <td>ROBBERY - STREET</td>\n",
       "      <td>Outside</td>\n",
       "      <td>NONE</td>\n",
       "      <td>123.0</td>\n",
       "      <td>CENTRAL</td>\n",
       "      <td>Upton</td>\n",
       "      <td>-76.62789</td>\n",
       "      <td>39.30254</td>\n",
       "      <td>STREET</td>\n",
       "      <td>summer</td>\n",
       "      <td>9</td>\n",
       "      <td>21</td>\n",
       "      <td>2017</td>\n",
       "    </tr>\n",
       "    <tr>\n",
       "      <th>8</th>\n",
       "      <td>AGG. ASSAULT</td>\n",
       "      <td>Outside</td>\n",
       "      <td>OTHER</td>\n",
       "      <td>641.0</td>\n",
       "      <td>NORTHWESTERN</td>\n",
       "      <td>Windsor Hills</td>\n",
       "      <td>-76.68365</td>\n",
       "      <td>39.31370</td>\n",
       "      <td>STREET</td>\n",
       "      <td>summer</td>\n",
       "      <td>9</td>\n",
       "      <td>21</td>\n",
       "      <td>2017</td>\n",
       "    </tr>\n",
       "    <tr>\n",
       "      <th>9</th>\n",
       "      <td>COMMON ASSAULT</td>\n",
       "      <td>Inside</td>\n",
       "      <td>HANDS</td>\n",
       "      <td>332.0</td>\n",
       "      <td>EASTERN</td>\n",
       "      <td>Berea</td>\n",
       "      <td>-76.57419</td>\n",
       "      <td>39.30551</td>\n",
       "      <td>ROW/TOWNHO</td>\n",
       "      <td>summer</td>\n",
       "      <td>9</td>\n",
       "      <td>21</td>\n",
       "      <td>2017</td>\n",
       "    </tr>\n",
       "  </tbody>\n",
       "</table>\n",
       "</div>"
      ],
      "text/plain": [
       "           Description Inside/Outside   Weapon   Post      District  \\\n",
       "0  ROBBERY - RESIDENCE         Inside    KNIFE  913.0      SOUTHERN   \n",
       "1           AUTO THEFT        Outside     NONE  133.0       CENTRAL   \n",
       "2             SHOOTING        Outside  FIREARM  524.0      NORTHERN   \n",
       "3         AGG. ASSAULT         Inside    OTHER  934.0      SOUTHERN   \n",
       "4       COMMON ASSAULT        Outside    HANDS  113.0       CENTRAL   \n",
       "5             BURGLARY         Inside     NONE  922.0      SOUTHERN   \n",
       "6             HOMICIDE        Outside  FIREARM  232.0  SOUTHEASTERN   \n",
       "7     ROBBERY - STREET        Outside     NONE  123.0       CENTRAL   \n",
       "8         AGG. ASSAULT        Outside    OTHER  641.0  NORTHWESTERN   \n",
       "9       COMMON ASSAULT         Inside    HANDS  332.0       EASTERN   \n",
       "\n",
       "       Neighborhood  Longitude  Latitude     Premise  Season  Month  Hour  \\\n",
       "0          Brooklyn  -76.60541  39.22951  ROW/TOWNHO  summer      9    23   \n",
       "1    Reservoir Hill  -76.63217  39.31360      STREET  summer      9    23   \n",
       "2    Winston-Govans  -76.60697  39.34768      STREET  summer      9    22   \n",
       "3  Carrollton Ridge  -76.64526  39.28315  ROW/TOWNHO  summer      9    22   \n",
       "4     Downtown West  -76.61365  39.28756      STREET  summer      9    22   \n",
       "5       Cherry Hill  -76.62131  39.24867  ROW/TOWNHO  summer      9    22   \n",
       "6            Canton  -76.56827  39.28202      STREET  summer      9    21   \n",
       "7             Upton  -76.62789  39.30254      STREET  summer      9    21   \n",
       "8     Windsor Hills  -76.68365  39.31370      STREET  summer      9    21   \n",
       "9             Berea  -76.57419  39.30551  ROW/TOWNHO  summer      9    21   \n",
       "\n",
       "   Year  \n",
       "0  2017  \n",
       "1  2017  \n",
       "2  2017  \n",
       "3  2017  \n",
       "4  2017  \n",
       "5  2017  \n",
       "6  2017  \n",
       "7  2017  \n",
       "8  2017  \n",
       "9  2017  "
      ]
     },
     "execution_count": 35,
     "metadata": {},
     "output_type": "execute_result"
    }
   ],
   "source": [
    "bpd_df.head(10)"
   ]
  },
  {
   "cell_type": "markdown",
   "metadata": {},
   "source": [
    "### Could we fill in the Inside/Oustide column based on season?"
   ]
  },
  {
   "cell_type": "code",
   "execution_count": 36,
   "metadata": {
    "ExecuteTime": {
     "end_time": "2021-02-17T17:20:14.314505Z",
     "start_time": "2021-02-17T17:20:14.300504Z"
    }
   },
   "outputs": [],
   "source": [
    "IO_Season = bpd_df[[\"Inside/Outside\",\"Season\"]]"
   ]
  },
  {
   "cell_type": "code",
   "execution_count": 37,
   "metadata": {
    "ExecuteTime": {
     "end_time": "2021-02-17T17:20:14.345503Z",
     "start_time": "2021-02-17T17:20:14.315506Z"
    }
   },
   "outputs": [],
   "source": [
    "Outside = IO_Season[IO_Season[\"Inside/Outside\"]==\"Inside\"]"
   ]
  },
  {
   "cell_type": "code",
   "execution_count": 38,
   "metadata": {
    "ExecuteTime": {
     "end_time": "2021-02-17T17:20:14.377504Z",
     "start_time": "2021-02-17T17:20:14.347506Z"
    }
   },
   "outputs": [
    {
     "data": {
      "text/plain": [
       "spring    35862\n",
       "summer    35200\n",
       "winter    31236\n",
       "autumn    30333\n",
       "Name: Season, dtype: int64"
      ]
     },
     "execution_count": 38,
     "metadata": {},
     "output_type": "execute_result"
    }
   ],
   "source": [
    "Outside[\"Season\"].value_counts()"
   ]
  },
  {
   "cell_type": "markdown",
   "metadata": {},
   "source": [
    "### Looks like crime doesn't care for the weather... Let's just drop the null rows."
   ]
  },
  {
   "cell_type": "code",
   "execution_count": 39,
   "metadata": {
    "ExecuteTime": {
     "end_time": "2021-02-17T17:20:14.424505Z",
     "start_time": "2021-02-17T17:20:14.379506Z"
    }
   },
   "outputs": [],
   "source": [
    "bpd_df = bpd_df[bpd_df[\"Inside/Outside\"].notna()]"
   ]
  },
  {
   "cell_type": "markdown",
   "metadata": {},
   "source": [
    "### Same with the missing longitude/latitude. Very few missing, and imputing could make for a messy visualization."
   ]
  },
  {
   "cell_type": "code",
   "execution_count": 40,
   "metadata": {
    "ExecuteTime": {
     "end_time": "2021-02-17T17:20:14.470505Z",
     "start_time": "2021-02-17T17:20:14.426507Z"
    }
   },
   "outputs": [],
   "source": [
    "bpd_df = bpd_df[bpd_df[\"Latitude\"].notna()]"
   ]
  },
  {
   "cell_type": "code",
   "execution_count": 41,
   "metadata": {
    "ExecuteTime": {
     "end_time": "2021-02-17T17:20:14.547504Z",
     "start_time": "2021-02-17T17:20:14.472507Z"
    }
   },
   "outputs": [
    {
     "data": {
      "text/html": [
       "<div>\n",
       "<style scoped>\n",
       "    .dataframe tbody tr th:only-of-type {\n",
       "        vertical-align: middle;\n",
       "    }\n",
       "\n",
       "    .dataframe tbody tr th {\n",
       "        vertical-align: top;\n",
       "    }\n",
       "\n",
       "    .dataframe thead th {\n",
       "        text-align: right;\n",
       "    }\n",
       "</style>\n",
       "<table border=\"1\" class=\"dataframe\">\n",
       "  <thead>\n",
       "    <tr style=\"text-align: right;\">\n",
       "      <th></th>\n",
       "      <th>Count</th>\n",
       "      <th>Proportion</th>\n",
       "    </tr>\n",
       "  </thead>\n",
       "  <tbody>\n",
       "    <tr>\n",
       "      <th>Description</th>\n",
       "      <td>0</td>\n",
       "      <td>0.000000</td>\n",
       "    </tr>\n",
       "    <tr>\n",
       "      <th>Inside/Outside</th>\n",
       "      <td>0</td>\n",
       "      <td>0.000000</td>\n",
       "    </tr>\n",
       "    <tr>\n",
       "      <th>Weapon</th>\n",
       "      <td>0</td>\n",
       "      <td>0.000000</td>\n",
       "    </tr>\n",
       "    <tr>\n",
       "      <th>Post</th>\n",
       "      <td>7</td>\n",
       "      <td>0.000027</td>\n",
       "    </tr>\n",
       "    <tr>\n",
       "      <th>District</th>\n",
       "      <td>3</td>\n",
       "      <td>0.000011</td>\n",
       "    </tr>\n",
       "    <tr>\n",
       "      <th>Neighborhood</th>\n",
       "      <td>522</td>\n",
       "      <td>0.001976</td>\n",
       "    </tr>\n",
       "    <tr>\n",
       "      <th>Longitude</th>\n",
       "      <td>0</td>\n",
       "      <td>0.000000</td>\n",
       "    </tr>\n",
       "    <tr>\n",
       "      <th>Latitude</th>\n",
       "      <td>0</td>\n",
       "      <td>0.000000</td>\n",
       "    </tr>\n",
       "    <tr>\n",
       "      <th>Premise</th>\n",
       "      <td>478</td>\n",
       "      <td>0.001810</td>\n",
       "    </tr>\n",
       "    <tr>\n",
       "      <th>Season</th>\n",
       "      <td>0</td>\n",
       "      <td>0.000000</td>\n",
       "    </tr>\n",
       "    <tr>\n",
       "      <th>Month</th>\n",
       "      <td>0</td>\n",
       "      <td>0.000000</td>\n",
       "    </tr>\n",
       "    <tr>\n",
       "      <th>Hour</th>\n",
       "      <td>0</td>\n",
       "      <td>0.000000</td>\n",
       "    </tr>\n",
       "    <tr>\n",
       "      <th>Year</th>\n",
       "      <td>0</td>\n",
       "      <td>0.000000</td>\n",
       "    </tr>\n",
       "  </tbody>\n",
       "</table>\n",
       "</div>"
      ],
      "text/plain": [
       "                Count  Proportion\n",
       "Description         0    0.000000\n",
       "Inside/Outside      0    0.000000\n",
       "Weapon              0    0.000000\n",
       "Post                7    0.000027\n",
       "District            3    0.000011\n",
       "Neighborhood      522    0.001976\n",
       "Longitude           0    0.000000\n",
       "Latitude            0    0.000000\n",
       "Premise           478    0.001810\n",
       "Season              0    0.000000\n",
       "Month               0    0.000000\n",
       "Hour                0    0.000000\n",
       "Year                0    0.000000"
      ]
     },
     "execution_count": 41,
     "metadata": {},
     "output_type": "execute_result"
    }
   ],
   "source": [
    "null_count = bpd_df.isnull().sum()\n",
    "null_prop = null_count / len(bpd_df)\n",
    "pd.DataFrame({\n",
    "    'Count': null_count,\n",
    "    'Proportion': null_prop})"
   ]
  },
  {
   "cell_type": "markdown",
   "metadata": {},
   "source": [
    "### Let's take a look at what types of crimes have no premise."
   ]
  },
  {
   "cell_type": "code",
   "execution_count": 42,
   "metadata": {
    "ExecuteTime": {
     "end_time": "2021-02-17T17:20:14.563504Z",
     "start_time": "2021-02-17T17:20:14.548505Z"
    }
   },
   "outputs": [],
   "source": [
    "missing_premise = bpd_df[bpd_df[\"Premise\"].isna()]"
   ]
  },
  {
   "cell_type": "code",
   "execution_count": 43,
   "metadata": {
    "ExecuteTime": {
     "end_time": "2021-02-17T17:20:14.579504Z",
     "start_time": "2021-02-17T17:20:14.565508Z"
    }
   },
   "outputs": [
    {
     "data": {
      "text/plain": [
       "array(['HOMICIDE', 'SHOOTING'], dtype=object)"
      ]
     },
     "execution_count": 43,
     "metadata": {},
     "output_type": "execute_result"
    }
   ],
   "source": [
    "missing_premise[\"Description\"].unique()"
   ]
  },
  {
   "cell_type": "code",
   "execution_count": 44,
   "metadata": {
    "ExecuteTime": {
     "end_time": "2021-02-17T17:20:14.595506Z",
     "start_time": "2021-02-17T17:20:14.580505Z"
    }
   },
   "outputs": [
    {
     "data": {
      "text/plain": [
       "array(['ROW/TOWNHO', 'STREET', 'RETAIL/SMA', 'YARD', 'OTHER - IN',\n",
       "       'CONVENIENC', 'OFFICE BUI', 'APT/CONDO', 'PARKING LO',\n",
       "       'LAUNDRY/CL', 'CARRY OUT', 'HOSP/NURS.', 'RESTAURANT', 'BAR',\n",
       "       'SHED/GARAGE', 'ALLEY', 'DRIVEWAY', 'PORCH/DECK', 'TRACTOR TR',\n",
       "       'GAS STATIO', 'PLAYGROUND', 'BUS/AUTO', 'DRUG STORE', 'PARK',\n",
       "       'GROCERY/CO', 'CAR LOT-NE', 'SHOPPING M', 'LIQUOR STO',\n",
       "       'CHAIN FOOD', 'OTHER - OU', 'POLICE DEP', 'CLOTHING/S',\n",
       "       'YARD/BUSIN', 'SPECIALTY', 'POOL/BOWLI', 'INNER HARB',\n",
       "       'VACANT BUI', 'SCHOOL', 'OTHER/RESI', 'HOTEL/MOTE', 'DEPARTMENT',\n",
       "       'WAREHOUSE', 'BUS.  STOR', 'RELIGIOUS', 'Dwelling', 'TAVERN/NIG',\n",
       "       'APARTMENT', 'BARBER/BEA', 'SINGLE HOU', 'PUBLIC BUI',\n",
       "       'MINI STORA', 'FAST FOOD', 'DOCTORS OF', 'STADIUM', 'HOUSE UNDE',\n",
       "       'UNKNOWN', 'Alley', 'BUS/RAILRO', 'LIBRARY', 'CAR  REPAI',\n",
       "       'AUTO PARTS', 'CONSTRUCTI', 'Parking Lo', 'WHOLESALE/',\n",
       "       'Gas Statio', 'Vehicle', 'FIRE DEPAR', 'PUBLIC HOU', 'RACE TRACK',\n",
       "       'RECREATION', 'BUS. PARK', nan, 'BANK/FINAN', 'Common Bus',\n",
       "       'MARKET STA', 'CEMETERY', 'BLDG UNDER', 'Hospital', 'FINANCE/LO',\n",
       "       'COURT HOUS', 'BAKERY', 'BOX CARS/C', 'Public Are', 'PAWN SHOP',\n",
       "       'BOAT/SHIP', 'VACANT LOT', 'CLUB HOUSE', 'HARDWARE/B',\n",
       "       'CONVENTION', 'MAILBOX-ST', 'SCHOOL PLA', 'SUBWAY', 'ARENA', 'CAB',\n",
       "       'Day Care F', 'Public Hou', 'PENITENTIA', 'APT. LOCKE',\n",
       "       'JEWELRY ST', 'MANUFACTUR', 'PIZZA/OTHE', 'THEATRE', 'ATM MACHIN',\n",
       "       'BRIDGE-PIE', 'Vacant Dwe', 'BOAT YARD', 'NIGHT DEPO',\n",
       "       'STRUCTURE-', 'SALESMAN/C', 'RENTAL/VID', 'LIGHT RAIL', 'Church',\n",
       "       'RAILROAD C', 'Public Sch', 'PHOTO STUD', 'UTILITIES-', 'MTA LOT',\n",
       "       'MOBILE HOM', 'SKYWALK', 'TRUCKING &', 'Private Sc'], dtype=object)"
      ]
     },
     "execution_count": 44,
     "metadata": {},
     "output_type": "execute_result"
    }
   ],
   "source": [
    "bpd_df[\"Premise\"].unique()"
   ]
  },
  {
   "cell_type": "code",
   "execution_count": 45,
   "metadata": {
    "ExecuteTime": {
     "end_time": "2021-02-17T17:20:14.627504Z",
     "start_time": "2021-02-17T17:20:14.596505Z"
    }
   },
   "outputs": [],
   "source": [
    "Homicides = bpd_df[bpd_df[\"Description\"]==\"HOMICIDE\"]"
   ]
  },
  {
   "cell_type": "code",
   "execution_count": 46,
   "metadata": {
    "ExecuteTime": {
     "end_time": "2021-02-17T17:20:14.642506Z",
     "start_time": "2021-02-17T17:20:14.628505Z"
    }
   },
   "outputs": [
    {
     "data": {
      "text/plain": [
       "array(['STREET', 'Gas Statio', 'Vehicle', nan, 'Common Bus', 'Alley',\n",
       "       'Dwelling', 'Parking Lo', 'Public Are', 'Day Care F', 'Public Hou',\n",
       "       'Vacant Dwe', 'Hospital', 'Public Sch', 'SHED/GARAGE'],\n",
       "      dtype=object)"
      ]
     },
     "execution_count": 46,
     "metadata": {},
     "output_type": "execute_result"
    }
   ],
   "source": [
    "Homicides[\"Premise\"].unique()"
   ]
  },
  {
   "cell_type": "code",
   "execution_count": 47,
   "metadata": {
    "ExecuteTime": {
     "end_time": "2021-02-17T17:20:14.673503Z",
     "start_time": "2021-02-17T17:20:14.643505Z"
    }
   },
   "outputs": [],
   "source": [
    "Shootings = bpd_df[bpd_df[\"Description\"]==\"SHOOTING\"]"
   ]
  },
  {
   "cell_type": "code",
   "execution_count": 48,
   "metadata": {
    "ExecuteTime": {
     "end_time": "2021-02-17T17:20:14.689503Z",
     "start_time": "2021-02-17T17:20:14.675506Z"
    }
   },
   "outputs": [
    {
     "data": {
      "text/plain": [
       "array(['STREET', 'Dwelling', 'Alley', 'Parking Lo', 'Vehicle',\n",
       "       'Common Bus', 'Hospital', 'Public Are', 'Public Hou', 'Vacant Dwe',\n",
       "       nan, 'Church', 'SHED/GARAGE', 'Public Sch', 'Private Sc'],\n",
       "      dtype=object)"
      ]
     },
     "execution_count": 48,
     "metadata": {},
     "output_type": "execute_result"
    }
   ],
   "source": [
    "Shootings[\"Premise\"].unique()"
   ]
  },
  {
   "cell_type": "markdown",
   "metadata": {},
   "source": [
    "### Imputing a premise would not make sense. Other null values are very few. Drop."
   ]
  },
  {
   "cell_type": "code",
   "execution_count": 49,
   "metadata": {
    "ExecuteTime": {
     "end_time": "2021-02-17T17:20:14.801502Z",
     "start_time": "2021-02-17T17:20:14.703508Z"
    }
   },
   "outputs": [],
   "source": [
    "bpd_df = bpd_df.dropna()"
   ]
  },
  {
   "cell_type": "code",
   "execution_count": 50,
   "metadata": {
    "ExecuteTime": {
     "end_time": "2021-02-17T17:20:14.817504Z",
     "start_time": "2021-02-17T17:20:14.802504Z"
    }
   },
   "outputs": [
    {
     "data": {
      "text/html": [
       "<div>\n",
       "<style scoped>\n",
       "    .dataframe tbody tr th:only-of-type {\n",
       "        vertical-align: middle;\n",
       "    }\n",
       "\n",
       "    .dataframe tbody tr th {\n",
       "        vertical-align: top;\n",
       "    }\n",
       "\n",
       "    .dataframe thead th {\n",
       "        text-align: right;\n",
       "    }\n",
       "</style>\n",
       "<table border=\"1\" class=\"dataframe\">\n",
       "  <thead>\n",
       "    <tr style=\"text-align: right;\">\n",
       "      <th></th>\n",
       "      <th>Description</th>\n",
       "      <th>Inside/Outside</th>\n",
       "      <th>Weapon</th>\n",
       "      <th>Post</th>\n",
       "      <th>District</th>\n",
       "      <th>Neighborhood</th>\n",
       "      <th>Longitude</th>\n",
       "      <th>Latitude</th>\n",
       "      <th>Premise</th>\n",
       "      <th>Season</th>\n",
       "      <th>Month</th>\n",
       "      <th>Hour</th>\n",
       "      <th>Year</th>\n",
       "    </tr>\n",
       "  </thead>\n",
       "  <tbody>\n",
       "    <tr>\n",
       "      <th>0</th>\n",
       "      <td>ROBBERY - RESIDENCE</td>\n",
       "      <td>Inside</td>\n",
       "      <td>KNIFE</td>\n",
       "      <td>913.0</td>\n",
       "      <td>SOUTHERN</td>\n",
       "      <td>Brooklyn</td>\n",
       "      <td>-76.60541</td>\n",
       "      <td>39.22951</td>\n",
       "      <td>ROW/TOWNHO</td>\n",
       "      <td>summer</td>\n",
       "      <td>9</td>\n",
       "      <td>23</td>\n",
       "      <td>2017</td>\n",
       "    </tr>\n",
       "    <tr>\n",
       "      <th>1</th>\n",
       "      <td>AUTO THEFT</td>\n",
       "      <td>Outside</td>\n",
       "      <td>NONE</td>\n",
       "      <td>133.0</td>\n",
       "      <td>CENTRAL</td>\n",
       "      <td>Reservoir Hill</td>\n",
       "      <td>-76.63217</td>\n",
       "      <td>39.31360</td>\n",
       "      <td>STREET</td>\n",
       "      <td>summer</td>\n",
       "      <td>9</td>\n",
       "      <td>23</td>\n",
       "      <td>2017</td>\n",
       "    </tr>\n",
       "    <tr>\n",
       "      <th>2</th>\n",
       "      <td>SHOOTING</td>\n",
       "      <td>Outside</td>\n",
       "      <td>FIREARM</td>\n",
       "      <td>524.0</td>\n",
       "      <td>NORTHERN</td>\n",
       "      <td>Winston-Govans</td>\n",
       "      <td>-76.60697</td>\n",
       "      <td>39.34768</td>\n",
       "      <td>STREET</td>\n",
       "      <td>summer</td>\n",
       "      <td>9</td>\n",
       "      <td>22</td>\n",
       "      <td>2017</td>\n",
       "    </tr>\n",
       "    <tr>\n",
       "      <th>3</th>\n",
       "      <td>AGG. ASSAULT</td>\n",
       "      <td>Inside</td>\n",
       "      <td>OTHER</td>\n",
       "      <td>934.0</td>\n",
       "      <td>SOUTHERN</td>\n",
       "      <td>Carrollton Ridge</td>\n",
       "      <td>-76.64526</td>\n",
       "      <td>39.28315</td>\n",
       "      <td>ROW/TOWNHO</td>\n",
       "      <td>summer</td>\n",
       "      <td>9</td>\n",
       "      <td>22</td>\n",
       "      <td>2017</td>\n",
       "    </tr>\n",
       "    <tr>\n",
       "      <th>4</th>\n",
       "      <td>COMMON ASSAULT</td>\n",
       "      <td>Outside</td>\n",
       "      <td>HANDS</td>\n",
       "      <td>113.0</td>\n",
       "      <td>CENTRAL</td>\n",
       "      <td>Downtown West</td>\n",
       "      <td>-76.61365</td>\n",
       "      <td>39.28756</td>\n",
       "      <td>STREET</td>\n",
       "      <td>summer</td>\n",
       "      <td>9</td>\n",
       "      <td>22</td>\n",
       "      <td>2017</td>\n",
       "    </tr>\n",
       "    <tr>\n",
       "      <th>5</th>\n",
       "      <td>BURGLARY</td>\n",
       "      <td>Inside</td>\n",
       "      <td>NONE</td>\n",
       "      <td>922.0</td>\n",
       "      <td>SOUTHERN</td>\n",
       "      <td>Cherry Hill</td>\n",
       "      <td>-76.62131</td>\n",
       "      <td>39.24867</td>\n",
       "      <td>ROW/TOWNHO</td>\n",
       "      <td>summer</td>\n",
       "      <td>9</td>\n",
       "      <td>22</td>\n",
       "      <td>2017</td>\n",
       "    </tr>\n",
       "    <tr>\n",
       "      <th>6</th>\n",
       "      <td>HOMICIDE</td>\n",
       "      <td>Outside</td>\n",
       "      <td>FIREARM</td>\n",
       "      <td>232.0</td>\n",
       "      <td>SOUTHEASTERN</td>\n",
       "      <td>Canton</td>\n",
       "      <td>-76.56827</td>\n",
       "      <td>39.28202</td>\n",
       "      <td>STREET</td>\n",
       "      <td>summer</td>\n",
       "      <td>9</td>\n",
       "      <td>21</td>\n",
       "      <td>2017</td>\n",
       "    </tr>\n",
       "    <tr>\n",
       "      <th>7</th>\n",
       "      <td>ROBBERY - STREET</td>\n",
       "      <td>Outside</td>\n",
       "      <td>NONE</td>\n",
       "      <td>123.0</td>\n",
       "      <td>CENTRAL</td>\n",
       "      <td>Upton</td>\n",
       "      <td>-76.62789</td>\n",
       "      <td>39.30254</td>\n",
       "      <td>STREET</td>\n",
       "      <td>summer</td>\n",
       "      <td>9</td>\n",
       "      <td>21</td>\n",
       "      <td>2017</td>\n",
       "    </tr>\n",
       "    <tr>\n",
       "      <th>8</th>\n",
       "      <td>AGG. ASSAULT</td>\n",
       "      <td>Outside</td>\n",
       "      <td>OTHER</td>\n",
       "      <td>641.0</td>\n",
       "      <td>NORTHWESTERN</td>\n",
       "      <td>Windsor Hills</td>\n",
       "      <td>-76.68365</td>\n",
       "      <td>39.31370</td>\n",
       "      <td>STREET</td>\n",
       "      <td>summer</td>\n",
       "      <td>9</td>\n",
       "      <td>21</td>\n",
       "      <td>2017</td>\n",
       "    </tr>\n",
       "    <tr>\n",
       "      <th>9</th>\n",
       "      <td>COMMON ASSAULT</td>\n",
       "      <td>Inside</td>\n",
       "      <td>HANDS</td>\n",
       "      <td>332.0</td>\n",
       "      <td>EASTERN</td>\n",
       "      <td>Berea</td>\n",
       "      <td>-76.57419</td>\n",
       "      <td>39.30551</td>\n",
       "      <td>ROW/TOWNHO</td>\n",
       "      <td>summer</td>\n",
       "      <td>9</td>\n",
       "      <td>21</td>\n",
       "      <td>2017</td>\n",
       "    </tr>\n",
       "  </tbody>\n",
       "</table>\n",
       "</div>"
      ],
      "text/plain": [
       "           Description Inside/Outside   Weapon   Post      District  \\\n",
       "0  ROBBERY - RESIDENCE         Inside    KNIFE  913.0      SOUTHERN   \n",
       "1           AUTO THEFT        Outside     NONE  133.0       CENTRAL   \n",
       "2             SHOOTING        Outside  FIREARM  524.0      NORTHERN   \n",
       "3         AGG. ASSAULT         Inside    OTHER  934.0      SOUTHERN   \n",
       "4       COMMON ASSAULT        Outside    HANDS  113.0       CENTRAL   \n",
       "5             BURGLARY         Inside     NONE  922.0      SOUTHERN   \n",
       "6             HOMICIDE        Outside  FIREARM  232.0  SOUTHEASTERN   \n",
       "7     ROBBERY - STREET        Outside     NONE  123.0       CENTRAL   \n",
       "8         AGG. ASSAULT        Outside    OTHER  641.0  NORTHWESTERN   \n",
       "9       COMMON ASSAULT         Inside    HANDS  332.0       EASTERN   \n",
       "\n",
       "       Neighborhood  Longitude  Latitude     Premise  Season  Month  Hour  \\\n",
       "0          Brooklyn  -76.60541  39.22951  ROW/TOWNHO  summer      9    23   \n",
       "1    Reservoir Hill  -76.63217  39.31360      STREET  summer      9    23   \n",
       "2    Winston-Govans  -76.60697  39.34768      STREET  summer      9    22   \n",
       "3  Carrollton Ridge  -76.64526  39.28315  ROW/TOWNHO  summer      9    22   \n",
       "4     Downtown West  -76.61365  39.28756      STREET  summer      9    22   \n",
       "5       Cherry Hill  -76.62131  39.24867  ROW/TOWNHO  summer      9    22   \n",
       "6            Canton  -76.56827  39.28202      STREET  summer      9    21   \n",
       "7             Upton  -76.62789  39.30254      STREET  summer      9    21   \n",
       "8     Windsor Hills  -76.68365  39.31370      STREET  summer      9    21   \n",
       "9             Berea  -76.57419  39.30551  ROW/TOWNHO  summer      9    21   \n",
       "\n",
       "   Year  \n",
       "0  2017  \n",
       "1  2017  \n",
       "2  2017  \n",
       "3  2017  \n",
       "4  2017  \n",
       "5  2017  \n",
       "6  2017  \n",
       "7  2017  \n",
       "8  2017  \n",
       "9  2017  "
      ]
     },
     "execution_count": 50,
     "metadata": {},
     "output_type": "execute_result"
    }
   ],
   "source": [
    "bpd_df.head(10)"
   ]
  },
  {
   "cell_type": "markdown",
   "metadata": {},
   "source": [
    "### Save Data For Dashboard"
   ]
  },
  {
   "cell_type": "code",
   "execution_count": 51,
   "metadata": {
    "ExecuteTime": {
     "end_time": "2021-02-17T17:21:16.093002Z",
     "start_time": "2021-02-17T17:21:14.616004Z"
    }
   },
   "outputs": [],
   "source": [
    "bpd_df.to_csv('../data/BPD_CRIME_DATA_CLEAN_ST.csv')"
   ]
  },
  {
   "cell_type": "markdown",
   "metadata": {},
   "source": [
    "## Take care of categorical variables"
   ]
  },
  {
   "cell_type": "markdown",
   "metadata": {},
   "source": [
    "### Inside/Outside = only two options. Can encode as binary."
   ]
  },
  {
   "cell_type": "code",
   "execution_count": 51,
   "metadata": {},
   "outputs": [],
   "source": [
    "bpd_df = pd.get_dummies(bpd_df, columns=[\"Inside/Outside\"],drop_first=True)"
   ]
  },
  {
   "cell_type": "code",
   "execution_count": 52,
   "metadata": {},
   "outputs": [],
   "source": [
    "bpd_df= bpd_df.rename(columns={\"Inside/Outside_Outside\":\"Outside\"})"
   ]
  },
  {
   "cell_type": "code",
   "execution_count": 53,
   "metadata": {},
   "outputs": [
    {
     "data": {
      "text/plain": [
       "array(['ROBBERY - RESIDENCE', 'AUTO THEFT', 'SHOOTING', 'AGG. ASSAULT',\n",
       "       'COMMON ASSAULT', 'BURGLARY', 'HOMICIDE', 'ROBBERY - STREET',\n",
       "       'ROBBERY - COMMERCIAL', 'LARCENY FROM AUTO', 'LARCENY', 'ARSON',\n",
       "       'ROBBERY - CARJACKING', 'ASSAULT BY THREAT', 'RAPE'], dtype=object)"
      ]
     },
     "execution_count": 53,
     "metadata": {},
     "output_type": "execute_result"
    }
   ],
   "source": [
    "bpd_df[\"Description\"].unique()"
   ]
  },
  {
   "cell_type": "code",
   "execution_count": 54,
   "metadata": {},
   "outputs": [
    {
     "data": {
      "text/plain": [
       "array(['KNIFE', 'NONE', 'FIREARM', 'OTHER', 'HANDS'], dtype=object)"
      ]
     },
     "execution_count": 54,
     "metadata": {},
     "output_type": "execute_result"
    }
   ],
   "source": [
    "bpd_df[\"Weapon\"].unique()"
   ]
  },
  {
   "cell_type": "code",
   "execution_count": 55,
   "metadata": {},
   "outputs": [
    {
     "data": {
      "text/plain": [
       "array(['SOUTHERN', 'CENTRAL', 'NORTHERN', 'SOUTHEASTERN', 'NORTHWESTERN',\n",
       "       'EASTERN', 'SOUTHWESTERN', 'NORTHEASTERN', 'WESTERN'], dtype=object)"
      ]
     },
     "execution_count": 55,
     "metadata": {},
     "output_type": "execute_result"
    }
   ],
   "source": [
    "bpd_df[\"District\"].unique()"
   ]
  },
  {
   "cell_type": "code",
   "execution_count": 56,
   "metadata": {},
   "outputs": [
    {
     "data": {
      "text/plain": [
       "array(['Brooklyn', 'Reservoir Hill', 'Winston-Govans', 'Carrollton Ridge',\n",
       "       'Downtown West', 'Cherry Hill', 'Canton', 'Upton', 'Windsor Hills',\n",
       "       'Berea', 'Edgewood', 'Frankford', 'Holabird Industrial Park',\n",
       "       'Oliver', 'Madison Park', 'Washington Hill', 'Waltherson',\n",
       "       'Better Waverly', 'Mondawmin', 'Park Circle',\n",
       "       'Morgan State University', 'Downtown', 'Beechfield',\n",
       "       'Inner Harbor', 'Coldstream Homestead Mont', 'Charles North',\n",
       "       'Patterson Park Neighborho', 'Milton-Montford', 'Towanda-Grantley',\n",
       "       'Hamilton Hills', 'Saint Josephs', 'Penn North', 'Ten Hills',\n",
       "       'Harlem Park', 'CARE', 'Violetville', 'Parkside', 'Barclay',\n",
       "       'Ashburton', 'Forest Park', 'Glen', 'Highlandtown',\n",
       "       'Carroll - Camden Industri', 'Greenspring',\n",
       "       'Canton Industrial Area', 'Boyd-Booth', 'Greektown',\n",
       "       'Pleasant View Gardens', 'Fells Point', 'Central Park Heights',\n",
       "       'Penrose/Fayette Street Ou', 'Upper Fells Point', 'Harwood',\n",
       "       'Loch Raven', 'Hampden', 'Poppleton', 'Washington Village/Pigtow',\n",
       "       'Belair-Edison', 'Bolton Hill', 'Federal Hill',\n",
       "       'Bridgeview/Greenlawn', 'Reisterstown Station', 'Irvington',\n",
       "       'Broadway East', 'Garwyn Oaks', 'Hillen', 'Curtis Bay',\n",
       "       'Pulaski Industrial Area', \"O'Donnell Heights\", 'Shipley Hill',\n",
       "       'Walbrook', 'Biddle Street', 'Patterson Place', 'Woodmere',\n",
       "       'Gay Street', 'Lakeland', 'Millhill', 'Middle East',\n",
       "       'Cross Country', 'Mount Vernon', 'Beverly Hills', 'Oakenshawe',\n",
       "       'Levindale', 'Dolfield', 'Ellwood Park/Monument', 'Allendale',\n",
       "       'Hanlon-Longwood', 'Morrell Park', 'Ednor Gardens-Lakeside',\n",
       "       'Charles Village', 'Hollins Market', \"Ridgely's Delight\",\n",
       "       'Glenham-Belhar', 'Coppin Heights/Ash-Co-Eas', 'Mount Holly',\n",
       "       'Druid Hill Park', 'Sandtown-Winchester', 'North Harford Road',\n",
       "       'Brewers Hill', 'Medford', 'Dorchester', 'Madison-Eastend',\n",
       "       'Riverside', 'Burleith-Leighton', 'Homeland', 'South Clifton Park',\n",
       "       'Darley Park', 'Rosemont Homeowners/Tenan', 'Baltimore Highlands',\n",
       "       'Howard Park', 'Rognel Heights', 'Broening Manor',\n",
       "       'Orangeville Industrial Ar', 'McElderry Park',\n",
       "       'New Southwest/Mount Clare', 'Jonestown', 'Mid-Town Belvedere',\n",
       "       'Westgate', 'Lake Walker', 'Callaway-Garrison', 'Pen Lucy',\n",
       "       'Original Northwood', 'University Of Maryland', 'Gwynns Falls',\n",
       "       'West Hills', 'Richnor Springs', 'Oldtown', 'West Arlington',\n",
       "       'Old Goucher', 'Medfield', 'Kenilworth Park', 'Cheswolde',\n",
       "       'Locust Point Industrial A', 'Dunbar-Broadway', 'Seton Hill',\n",
       "       'Coldspring', 'Druid Heights', 'Radnor-Winston',\n",
       "       'Panway/Braddish Avenue', 'Lake Evesham', 'Greenmount West',\n",
       "       'Rosemont East', 'New Northwood', 'Midtown-Edmondson',\n",
       "       'Evesham Park', 'Wilhelm Park', \"Butcher's Hill\",\n",
       "       'Sharp-Leadenhall', 'Central Forest Park', 'Woodbourne-McCabe',\n",
       "       'Guilford', 'Glen Oaks', 'Wrenlane', 'Sabina-Mattfeldt', 'Tremont',\n",
       "       'Union Square', 'Spring Garden Industrial', 'Mayfield',\n",
       "       'Parkview/Woodbrook', 'Rosemont', 'Easterwood', 'Graceland Park',\n",
       "       'Armistead Gardens', 'Franklin Square', 'Franklintown Road',\n",
       "       'Edmondson Village', 'Loyola/Notre Dame', 'Heritage Crossing',\n",
       "       'Ramblewood', 'Chinquapin Park', 'South Baltimore',\n",
       "       'Woodbourne Heights', 'Penn-Fallsway', 'Otterbein', 'Cylburn',\n",
       "       'Hoes Heights', 'Rosebank', 'Saint Agnes', 'Cedmont', 'Idlewood',\n",
       "       'East Arlington', 'East Baltimore Midway', 'Belvedere',\n",
       "       'Winchester', 'Montebello', 'Langston Hughes', 'Arcadia',\n",
       "       'Northwest Community Actio', 'Johnston Square', 'Wilson Park',\n",
       "       'Abell', 'Liberty Square', 'Four By Four', 'Arlington', 'Bayview',\n",
       "       'Yale Heights', 'Cross Keys', 'Mosher', 'Roland Park', 'Westfield',\n",
       "       'West Forest Park', 'Cedonia', 'Mount Washington', 'Little Italy',\n",
       "       'Mount Winans', 'Perkins Homes', 'Orchard Ridge',\n",
       "       'Pimlico Good Neighbors', 'Hopkins Bayview', 'Uplands',\n",
       "       'Moravia-Walther', 'Saint Paul', 'Carroll-South Hilton',\n",
       "       'Stadium Area', 'Remington', 'Parklane', 'Saint Helena',\n",
       "       'Wyman Park', 'Waverly', 'Patterson Park', 'Fallstaff',\n",
       "       'Perring Loch', 'North Roland Park/Poplar', 'Herring Run Park',\n",
       "       'Grove Park', 'Locust Point', 'Lower Herring Run Park',\n",
       "       'Concerned Citizens Of For', 'Lower Edmondson Village', 'Westport',\n",
       "       'York-Homeland', 'Evergreen Lawn', 'Seton Business Park',\n",
       "       'Lauraville', 'Carroll Park', 'Mid-Govans',\n",
       "       'Stonewood-Pentwood-Winsto', 'Kernewood', 'Kresson',\n",
       "       'Cameron Village', 'Dickeyville', 'Cedarcroft', 'Woodberry',\n",
       "       'Middle Branch/Reedbird Pa', 'Clifton Park', 'Lucille Park',\n",
       "       'Franklintown', 'Wakefield', 'Hunting Ridge', 'Fairfield Area',\n",
       "       'Orangeville', 'Eastwood', 'Oaklee', 'Tuscany-Canterbury',\n",
       "       'Wyndhurst', 'Belair-Parkside', 'Taylor Heights', 'Overlea',\n",
       "       'Curtis Bay Industrial Are', 'Port Covington', 'Purnell',\n",
       "       'Barre Circle', 'Hawkins Point', 'Morgan Park', 'Jones Falls Area',\n",
       "       'Gwynns Falls/Leakin Park', 'Bellona-Gittings', 'Mt Pleasant Park',\n",
       "       'Keswick', 'Forest Park Golf Course', 'Evergreen', 'Fairmont',\n",
       "       'Villages Of Homeland', 'The Orchards', 'Greenmount Cemetery',\n",
       "       'Johns Hopkins Homewood', 'Blythewood', 'Dundalk Marine Terminal'],\n",
       "      dtype=object)"
      ]
     },
     "execution_count": 56,
     "metadata": {},
     "output_type": "execute_result"
    }
   ],
   "source": [
    "bpd_df[\"Neighborhood\"].unique()"
   ]
  },
  {
   "cell_type": "code",
   "execution_count": 57,
   "metadata": {},
   "outputs": [
    {
     "data": {
      "text/plain": [
       "array(['ROW/TOWNHO', 'STREET', 'RETAIL/SMA', 'YARD', 'OTHER - IN',\n",
       "       'CONVENIENC', 'OFFICE BUI', 'APT/CONDO', 'PARKING LO',\n",
       "       'LAUNDRY/CL', 'CARRY OUT', 'HOSP/NURS.', 'RESTAURANT', 'BAR',\n",
       "       'SHED/GARAGE', 'ALLEY', 'DRIVEWAY', 'PORCH/DECK', 'TRACTOR TR',\n",
       "       'GAS STATIO', 'PLAYGROUND', 'BUS/AUTO', 'DRUG STORE', 'PARK',\n",
       "       'GROCERY/CO', 'CAR LOT-NE', 'SHOPPING M', 'LIQUOR STO',\n",
       "       'CHAIN FOOD', 'OTHER - OU', 'POLICE DEP', 'CLOTHING/S',\n",
       "       'YARD/BUSIN', 'SPECIALTY', 'POOL/BOWLI', 'INNER HARB',\n",
       "       'VACANT BUI', 'SCHOOL', 'OTHER/RESI', 'HOTEL/MOTE', 'DEPARTMENT',\n",
       "       'WAREHOUSE', 'BUS.  STOR', 'RELIGIOUS', 'Dwelling', 'TAVERN/NIG',\n",
       "       'APARTMENT', 'BARBER/BEA', 'SINGLE HOU', 'PUBLIC BUI',\n",
       "       'MINI STORA', 'FAST FOOD', 'DOCTORS OF', 'STADIUM', 'HOUSE UNDE',\n",
       "       'UNKNOWN', 'Alley', 'BUS/RAILRO', 'LIBRARY', 'CAR  REPAI',\n",
       "       'AUTO PARTS', 'CONSTRUCTI', 'Parking Lo', 'WHOLESALE/',\n",
       "       'Gas Statio', 'Vehicle', 'FIRE DEPAR', 'PUBLIC HOU', 'RACE TRACK',\n",
       "       'RECREATION', 'BUS. PARK', 'BANK/FINAN', 'Common Bus',\n",
       "       'MARKET STA', 'CEMETERY', 'BLDG UNDER', 'Hospital', 'FINANCE/LO',\n",
       "       'COURT HOUS', 'BAKERY', 'BOX CARS/C', 'Public Are', 'PAWN SHOP',\n",
       "       'BOAT/SHIP', 'VACANT LOT', 'CLUB HOUSE', 'HARDWARE/B',\n",
       "       'CONVENTION', 'MAILBOX-ST', 'SCHOOL PLA', 'SUBWAY', 'ARENA', 'CAB',\n",
       "       'Day Care F', 'Public Hou', 'PENITENTIA', 'APT. LOCKE',\n",
       "       'JEWELRY ST', 'MANUFACTUR', 'PIZZA/OTHE', 'THEATRE', 'ATM MACHIN',\n",
       "       'BRIDGE-PIE', 'Vacant Dwe', 'BOAT YARD', 'NIGHT DEPO',\n",
       "       'STRUCTURE-', 'SALESMAN/C', 'RENTAL/VID', 'LIGHT RAIL', 'Church',\n",
       "       'RAILROAD C', 'Public Sch', 'PHOTO STUD', 'UTILITIES-', 'MTA LOT',\n",
       "       'SKYWALK', 'TRUCKING &', 'Private Sc', 'MOBILE HOM'], dtype=object)"
      ]
     },
     "execution_count": 57,
     "metadata": {},
     "output_type": "execute_result"
    }
   ],
   "source": [
    "bpd_df[\"Premise\"].unique()"
   ]
  },
  {
   "cell_type": "markdown",
   "metadata": {},
   "source": [
    "### Let's onehot weapon and season"
   ]
  },
  {
   "cell_type": "code",
   "execution_count": 58,
   "metadata": {},
   "outputs": [],
   "source": [
    "bpd_df = pd.get_dummies(bpd_df, columns=[\"Weapon\",\"Season\"])"
   ]
  },
  {
   "cell_type": "markdown",
   "metadata": {},
   "source": [
    "### Label encode the rest"
   ]
  },
  {
   "cell_type": "code",
   "execution_count": 59,
   "metadata": {},
   "outputs": [],
   "source": [
    "from sklearn.preprocessing import LabelEncoder"
   ]
  },
  {
   "cell_type": "code",
   "execution_count": 60,
   "metadata": {},
   "outputs": [
    {
     "data": {
      "text/html": [
       "<div>\n",
       "<style scoped>\n",
       "    .dataframe tbody tr th:only-of-type {\n",
       "        vertical-align: middle;\n",
       "    }\n",
       "\n",
       "    .dataframe tbody tr th {\n",
       "        vertical-align: top;\n",
       "    }\n",
       "\n",
       "    .dataframe thead th {\n",
       "        text-align: right;\n",
       "    }\n",
       "</style>\n",
       "<table border=\"1\" class=\"dataframe\">\n",
       "  <thead>\n",
       "    <tr style=\"text-align: right;\">\n",
       "      <th></th>\n",
       "      <th>Description</th>\n",
       "      <th>Post</th>\n",
       "      <th>District</th>\n",
       "      <th>Neighborhood</th>\n",
       "      <th>Longitude</th>\n",
       "      <th>Latitude</th>\n",
       "      <th>Premise</th>\n",
       "      <th>Month</th>\n",
       "      <th>Hour</th>\n",
       "      <th>Year</th>\n",
       "      <th>Outside</th>\n",
       "      <th>Weapon_FIREARM</th>\n",
       "      <th>Weapon_HANDS</th>\n",
       "      <th>Weapon_KNIFE</th>\n",
       "      <th>Weapon_NONE</th>\n",
       "      <th>Weapon_OTHER</th>\n",
       "      <th>Season_autumn</th>\n",
       "      <th>Season_spring</th>\n",
       "      <th>Season_summer</th>\n",
       "      <th>Season_winter</th>\n",
       "    </tr>\n",
       "  </thead>\n",
       "  <tbody>\n",
       "    <tr>\n",
       "      <th>0</th>\n",
       "      <td>ROBBERY - RESIDENCE</td>\n",
       "      <td>913.0</td>\n",
       "      <td>SOUTHERN</td>\n",
       "      <td>Brooklyn</td>\n",
       "      <td>-76.60541</td>\n",
       "      <td>39.22951</td>\n",
       "      <td>ROW/TOWNHO</td>\n",
       "      <td>9</td>\n",
       "      <td>23</td>\n",
       "      <td>2017</td>\n",
       "      <td>0</td>\n",
       "      <td>0</td>\n",
       "      <td>0</td>\n",
       "      <td>1</td>\n",
       "      <td>0</td>\n",
       "      <td>0</td>\n",
       "      <td>0</td>\n",
       "      <td>0</td>\n",
       "      <td>1</td>\n",
       "      <td>0</td>\n",
       "    </tr>\n",
       "    <tr>\n",
       "      <th>1</th>\n",
       "      <td>AUTO THEFT</td>\n",
       "      <td>133.0</td>\n",
       "      <td>CENTRAL</td>\n",
       "      <td>Reservoir Hill</td>\n",
       "      <td>-76.63217</td>\n",
       "      <td>39.31360</td>\n",
       "      <td>STREET</td>\n",
       "      <td>9</td>\n",
       "      <td>23</td>\n",
       "      <td>2017</td>\n",
       "      <td>1</td>\n",
       "      <td>0</td>\n",
       "      <td>0</td>\n",
       "      <td>0</td>\n",
       "      <td>1</td>\n",
       "      <td>0</td>\n",
       "      <td>0</td>\n",
       "      <td>0</td>\n",
       "      <td>1</td>\n",
       "      <td>0</td>\n",
       "    </tr>\n",
       "    <tr>\n",
       "      <th>2</th>\n",
       "      <td>SHOOTING</td>\n",
       "      <td>524.0</td>\n",
       "      <td>NORTHERN</td>\n",
       "      <td>Winston-Govans</td>\n",
       "      <td>-76.60697</td>\n",
       "      <td>39.34768</td>\n",
       "      <td>STREET</td>\n",
       "      <td>9</td>\n",
       "      <td>22</td>\n",
       "      <td>2017</td>\n",
       "      <td>1</td>\n",
       "      <td>1</td>\n",
       "      <td>0</td>\n",
       "      <td>0</td>\n",
       "      <td>0</td>\n",
       "      <td>0</td>\n",
       "      <td>0</td>\n",
       "      <td>0</td>\n",
       "      <td>1</td>\n",
       "      <td>0</td>\n",
       "    </tr>\n",
       "    <tr>\n",
       "      <th>3</th>\n",
       "      <td>AGG. ASSAULT</td>\n",
       "      <td>934.0</td>\n",
       "      <td>SOUTHERN</td>\n",
       "      <td>Carrollton Ridge</td>\n",
       "      <td>-76.64526</td>\n",
       "      <td>39.28315</td>\n",
       "      <td>ROW/TOWNHO</td>\n",
       "      <td>9</td>\n",
       "      <td>22</td>\n",
       "      <td>2017</td>\n",
       "      <td>0</td>\n",
       "      <td>0</td>\n",
       "      <td>0</td>\n",
       "      <td>0</td>\n",
       "      <td>0</td>\n",
       "      <td>1</td>\n",
       "      <td>0</td>\n",
       "      <td>0</td>\n",
       "      <td>1</td>\n",
       "      <td>0</td>\n",
       "    </tr>\n",
       "    <tr>\n",
       "      <th>4</th>\n",
       "      <td>COMMON ASSAULT</td>\n",
       "      <td>113.0</td>\n",
       "      <td>CENTRAL</td>\n",
       "      <td>Downtown West</td>\n",
       "      <td>-76.61365</td>\n",
       "      <td>39.28756</td>\n",
       "      <td>STREET</td>\n",
       "      <td>9</td>\n",
       "      <td>22</td>\n",
       "      <td>2017</td>\n",
       "      <td>1</td>\n",
       "      <td>0</td>\n",
       "      <td>1</td>\n",
       "      <td>0</td>\n",
       "      <td>0</td>\n",
       "      <td>0</td>\n",
       "      <td>0</td>\n",
       "      <td>0</td>\n",
       "      <td>1</td>\n",
       "      <td>0</td>\n",
       "    </tr>\n",
       "  </tbody>\n",
       "</table>\n",
       "</div>"
      ],
      "text/plain": [
       "           Description   Post  District      Neighborhood  Longitude  \\\n",
       "0  ROBBERY - RESIDENCE  913.0  SOUTHERN          Brooklyn  -76.60541   \n",
       "1           AUTO THEFT  133.0   CENTRAL    Reservoir Hill  -76.63217   \n",
       "2             SHOOTING  524.0  NORTHERN    Winston-Govans  -76.60697   \n",
       "3         AGG. ASSAULT  934.0  SOUTHERN  Carrollton Ridge  -76.64526   \n",
       "4       COMMON ASSAULT  113.0   CENTRAL     Downtown West  -76.61365   \n",
       "\n",
       "   Latitude     Premise  Month  Hour  Year  Outside  Weapon_FIREARM  \\\n",
       "0  39.22951  ROW/TOWNHO      9    23  2017        0               0   \n",
       "1  39.31360      STREET      9    23  2017        1               0   \n",
       "2  39.34768      STREET      9    22  2017        1               1   \n",
       "3  39.28315  ROW/TOWNHO      9    22  2017        0               0   \n",
       "4  39.28756      STREET      9    22  2017        1               0   \n",
       "\n",
       "   Weapon_HANDS  Weapon_KNIFE  Weapon_NONE  Weapon_OTHER  Season_autumn  \\\n",
       "0             0             1            0             0              0   \n",
       "1             0             0            1             0              0   \n",
       "2             0             0            0             0              0   \n",
       "3             0             0            0             1              0   \n",
       "4             1             0            0             0              0   \n",
       "\n",
       "   Season_spring  Season_summer  Season_winter  \n",
       "0              0              1              0  \n",
       "1              0              1              0  \n",
       "2              0              1              0  \n",
       "3              0              1              0  \n",
       "4              0              1              0  "
      ]
     },
     "execution_count": 60,
     "metadata": {},
     "output_type": "execute_result"
    }
   ],
   "source": [
    "bpd_df.head(5)"
   ]
  },
  {
   "cell_type": "code",
   "execution_count": 61,
   "metadata": {},
   "outputs": [],
   "source": [
    "# Doesn't seem that we can do them all at once if we want to encode them back afterwards..."
   ]
  },
  {
   "cell_type": "code",
   "execution_count": 62,
   "metadata": {},
   "outputs": [],
   "source": [
    "lbl = LabelEncoder()"
   ]
  },
  {
   "cell_type": "code",
   "execution_count": 63,
   "metadata": {},
   "outputs": [],
   "source": [
    "bpd_df[\"Description\"] = lbl.fit_transform(bpd_df[bpd_df.columns[0]])"
   ]
  },
  {
   "cell_type": "code",
   "execution_count": 64,
   "metadata": {},
   "outputs": [],
   "source": [
    "Description = dict(zip(lbl.classes_, lbl.transform(lbl.classes_)))"
   ]
  },
  {
   "cell_type": "code",
   "execution_count": 65,
   "metadata": {},
   "outputs": [
    {
     "data": {
      "text/plain": [
       "{'AGG. ASSAULT': 0,\n",
       " 'ARSON': 1,\n",
       " 'ASSAULT BY THREAT': 2,\n",
       " 'AUTO THEFT': 3,\n",
       " 'BURGLARY': 4,\n",
       " 'COMMON ASSAULT': 5,\n",
       " 'HOMICIDE': 6,\n",
       " 'LARCENY': 7,\n",
       " 'LARCENY FROM AUTO': 8,\n",
       " 'RAPE': 9,\n",
       " 'ROBBERY - CARJACKING': 10,\n",
       " 'ROBBERY - COMMERCIAL': 11,\n",
       " 'ROBBERY - RESIDENCE': 12,\n",
       " 'ROBBERY - STREET': 13,\n",
       " 'SHOOTING': 14}"
      ]
     },
     "execution_count": 65,
     "metadata": {},
     "output_type": "execute_result"
    }
   ],
   "source": [
    "Description"
   ]
  },
  {
   "cell_type": "code",
   "execution_count": 66,
   "metadata": {},
   "outputs": [],
   "source": [
    "bpd_df[\"District\"] = lbl.fit_transform(bpd_df[bpd_df.columns[2]])"
   ]
  },
  {
   "cell_type": "code",
   "execution_count": 67,
   "metadata": {},
   "outputs": [],
   "source": [
    "District = dict(zip(lbl.classes_, lbl.transform(lbl.classes_)))"
   ]
  },
  {
   "cell_type": "code",
   "execution_count": 68,
   "metadata": {},
   "outputs": [
    {
     "data": {
      "text/plain": [
       "{'CENTRAL': 0,\n",
       " 'EASTERN': 1,\n",
       " 'NORTHEASTERN': 2,\n",
       " 'NORTHERN': 3,\n",
       " 'NORTHWESTERN': 4,\n",
       " 'SOUTHEASTERN': 5,\n",
       " 'SOUTHERN': 6,\n",
       " 'SOUTHWESTERN': 7,\n",
       " 'WESTERN': 8}"
      ]
     },
     "execution_count": 68,
     "metadata": {},
     "output_type": "execute_result"
    }
   ],
   "source": [
    "District"
   ]
  },
  {
   "cell_type": "code",
   "execution_count": 69,
   "metadata": {},
   "outputs": [],
   "source": [
    "bpd_df[\"Neighborhood\"] = lbl.fit_transform(bpd_df[bpd_df.columns[3]])"
   ]
  },
  {
   "cell_type": "code",
   "execution_count": 70,
   "metadata": {},
   "outputs": [],
   "source": [
    "Neighborhood = dict(zip(lbl.classes_, lbl.transform(lbl.classes_)))"
   ]
  },
  {
   "cell_type": "code",
   "execution_count": 71,
   "metadata": {},
   "outputs": [
    {
     "data": {
      "text/plain": [
       "{'Abell': 0,\n",
       " 'Allendale': 1,\n",
       " 'Arcadia': 2,\n",
       " 'Arlington': 3,\n",
       " 'Armistead Gardens': 4,\n",
       " 'Ashburton': 5,\n",
       " 'Baltimore Highlands': 6,\n",
       " 'Barclay': 7,\n",
       " 'Barre Circle': 8,\n",
       " 'Bayview': 9,\n",
       " 'Beechfield': 10,\n",
       " 'Belair-Edison': 11,\n",
       " 'Belair-Parkside': 12,\n",
       " 'Bellona-Gittings': 13,\n",
       " 'Belvedere': 14,\n",
       " 'Berea': 15,\n",
       " 'Better Waverly': 16,\n",
       " 'Beverly Hills': 17,\n",
       " 'Biddle Street': 18,\n",
       " 'Blythewood': 19,\n",
       " 'Bolton Hill': 20,\n",
       " 'Boyd-Booth': 21,\n",
       " 'Brewers Hill': 22,\n",
       " 'Bridgeview/Greenlawn': 23,\n",
       " 'Broadway East': 24,\n",
       " 'Broening Manor': 25,\n",
       " 'Brooklyn': 26,\n",
       " 'Burleith-Leighton': 27,\n",
       " \"Butcher's Hill\": 28,\n",
       " 'CARE': 29,\n",
       " 'Callaway-Garrison': 30,\n",
       " 'Cameron Village': 31,\n",
       " 'Canton': 32,\n",
       " 'Canton Industrial Area': 33,\n",
       " 'Carroll - Camden Industri': 34,\n",
       " 'Carroll Park': 35,\n",
       " 'Carroll-South Hilton': 36,\n",
       " 'Carrollton Ridge': 37,\n",
       " 'Cedarcroft': 38,\n",
       " 'Cedmont': 39,\n",
       " 'Cedonia': 40,\n",
       " 'Central Forest Park': 41,\n",
       " 'Central Park Heights': 42,\n",
       " 'Charles North': 43,\n",
       " 'Charles Village': 44,\n",
       " 'Cherry Hill': 45,\n",
       " 'Cheswolde': 46,\n",
       " 'Chinquapin Park': 47,\n",
       " 'Clifton Park': 48,\n",
       " 'Coldspring': 49,\n",
       " 'Coldstream Homestead Mont': 50,\n",
       " 'Concerned Citizens Of For': 51,\n",
       " 'Coppin Heights/Ash-Co-Eas': 52,\n",
       " 'Cross Country': 53,\n",
       " 'Cross Keys': 54,\n",
       " 'Curtis Bay': 55,\n",
       " 'Curtis Bay Industrial Are': 56,\n",
       " 'Cylburn': 57,\n",
       " 'Darley Park': 58,\n",
       " 'Dickeyville': 59,\n",
       " 'Dolfield': 60,\n",
       " 'Dorchester': 61,\n",
       " 'Downtown': 62,\n",
       " 'Downtown West': 63,\n",
       " 'Druid Heights': 64,\n",
       " 'Druid Hill Park': 65,\n",
       " 'Dunbar-Broadway': 66,\n",
       " 'Dundalk Marine Terminal': 67,\n",
       " 'East Arlington': 68,\n",
       " 'East Baltimore Midway': 69,\n",
       " 'Easterwood': 70,\n",
       " 'Eastwood': 71,\n",
       " 'Edgewood': 72,\n",
       " 'Edmondson Village': 73,\n",
       " 'Ednor Gardens-Lakeside': 74,\n",
       " 'Ellwood Park/Monument': 75,\n",
       " 'Evergreen': 76,\n",
       " 'Evergreen Lawn': 77,\n",
       " 'Evesham Park': 78,\n",
       " 'Fairfield Area': 79,\n",
       " 'Fairmont': 80,\n",
       " 'Fallstaff': 81,\n",
       " 'Federal Hill': 82,\n",
       " 'Fells Point': 83,\n",
       " 'Forest Park': 84,\n",
       " 'Forest Park Golf Course': 85,\n",
       " 'Four By Four': 86,\n",
       " 'Frankford': 87,\n",
       " 'Franklin Square': 88,\n",
       " 'Franklintown': 89,\n",
       " 'Franklintown Road': 90,\n",
       " 'Garwyn Oaks': 91,\n",
       " 'Gay Street': 92,\n",
       " 'Glen': 93,\n",
       " 'Glen Oaks': 94,\n",
       " 'Glenham-Belhar': 95,\n",
       " 'Graceland Park': 96,\n",
       " 'Greektown': 97,\n",
       " 'Greenmount Cemetery': 98,\n",
       " 'Greenmount West': 99,\n",
       " 'Greenspring': 100,\n",
       " 'Grove Park': 101,\n",
       " 'Guilford': 102,\n",
       " 'Gwynns Falls': 103,\n",
       " 'Gwynns Falls/Leakin Park': 104,\n",
       " 'Hamilton Hills': 105,\n",
       " 'Hampden': 106,\n",
       " 'Hanlon-Longwood': 107,\n",
       " 'Harlem Park': 108,\n",
       " 'Harwood': 109,\n",
       " 'Hawkins Point': 110,\n",
       " 'Heritage Crossing': 111,\n",
       " 'Herring Run Park': 112,\n",
       " 'Highlandtown': 113,\n",
       " 'Hillen': 114,\n",
       " 'Hoes Heights': 115,\n",
       " 'Holabird Industrial Park': 116,\n",
       " 'Hollins Market': 117,\n",
       " 'Homeland': 118,\n",
       " 'Hopkins Bayview': 119,\n",
       " 'Howard Park': 120,\n",
       " 'Hunting Ridge': 121,\n",
       " 'Idlewood': 122,\n",
       " 'Inner Harbor': 123,\n",
       " 'Irvington': 124,\n",
       " 'Johns Hopkins Homewood': 125,\n",
       " 'Johnston Square': 126,\n",
       " 'Jones Falls Area': 127,\n",
       " 'Jonestown': 128,\n",
       " 'Kenilworth Park': 129,\n",
       " 'Kernewood': 130,\n",
       " 'Keswick': 131,\n",
       " 'Kresson': 132,\n",
       " 'Lake Evesham': 133,\n",
       " 'Lake Walker': 134,\n",
       " 'Lakeland': 135,\n",
       " 'Langston Hughes': 136,\n",
       " 'Lauraville': 137,\n",
       " 'Levindale': 138,\n",
       " 'Liberty Square': 139,\n",
       " 'Little Italy': 140,\n",
       " 'Loch Raven': 141,\n",
       " 'Locust Point': 142,\n",
       " 'Locust Point Industrial A': 143,\n",
       " 'Lower Edmondson Village': 144,\n",
       " 'Lower Herring Run Park': 145,\n",
       " 'Loyola/Notre Dame': 146,\n",
       " 'Lucille Park': 147,\n",
       " 'Madison Park': 148,\n",
       " 'Madison-Eastend': 149,\n",
       " 'Mayfield': 150,\n",
       " 'McElderry Park': 151,\n",
       " 'Medfield': 152,\n",
       " 'Medford': 153,\n",
       " 'Mid-Govans': 154,\n",
       " 'Mid-Town Belvedere': 155,\n",
       " 'Middle Branch/Reedbird Pa': 156,\n",
       " 'Middle East': 157,\n",
       " 'Midtown-Edmondson': 158,\n",
       " 'Millhill': 159,\n",
       " 'Milton-Montford': 160,\n",
       " 'Mondawmin': 161,\n",
       " 'Montebello': 162,\n",
       " 'Moravia-Walther': 163,\n",
       " 'Morgan Park': 164,\n",
       " 'Morgan State University': 165,\n",
       " 'Morrell Park': 166,\n",
       " 'Mosher': 167,\n",
       " 'Mount Holly': 168,\n",
       " 'Mount Vernon': 169,\n",
       " 'Mount Washington': 170,\n",
       " 'Mount Winans': 171,\n",
       " 'Mt Pleasant Park': 172,\n",
       " 'New Northwood': 173,\n",
       " 'New Southwest/Mount Clare': 174,\n",
       " 'North Harford Road': 175,\n",
       " 'North Roland Park/Poplar': 176,\n",
       " 'Northwest Community Actio': 177,\n",
       " \"O'Donnell Heights\": 178,\n",
       " 'Oakenshawe': 179,\n",
       " 'Oaklee': 180,\n",
       " 'Old Goucher': 181,\n",
       " 'Oldtown': 182,\n",
       " 'Oliver': 183,\n",
       " 'Orangeville': 184,\n",
       " 'Orangeville Industrial Ar': 185,\n",
       " 'Orchard Ridge': 186,\n",
       " 'Original Northwood': 187,\n",
       " 'Otterbein': 188,\n",
       " 'Overlea': 189,\n",
       " 'Panway/Braddish Avenue': 190,\n",
       " 'Park Circle': 191,\n",
       " 'Parklane': 192,\n",
       " 'Parkside': 193,\n",
       " 'Parkview/Woodbrook': 194,\n",
       " 'Patterson Park': 195,\n",
       " 'Patterson Park Neighborho': 196,\n",
       " 'Patterson Place': 197,\n",
       " 'Pen Lucy': 198,\n",
       " 'Penn North': 199,\n",
       " 'Penn-Fallsway': 200,\n",
       " 'Penrose/Fayette Street Ou': 201,\n",
       " 'Perkins Homes': 202,\n",
       " 'Perring Loch': 203,\n",
       " 'Pimlico Good Neighbors': 204,\n",
       " 'Pleasant View Gardens': 205,\n",
       " 'Poppleton': 206,\n",
       " 'Port Covington': 207,\n",
       " 'Pulaski Industrial Area': 208,\n",
       " 'Purnell': 209,\n",
       " 'Radnor-Winston': 210,\n",
       " 'Ramblewood': 211,\n",
       " 'Reisterstown Station': 212,\n",
       " 'Remington': 213,\n",
       " 'Reservoir Hill': 214,\n",
       " 'Richnor Springs': 215,\n",
       " \"Ridgely's Delight\": 216,\n",
       " 'Riverside': 217,\n",
       " 'Rognel Heights': 218,\n",
       " 'Roland Park': 219,\n",
       " 'Rosebank': 220,\n",
       " 'Rosemont': 221,\n",
       " 'Rosemont East': 222,\n",
       " 'Rosemont Homeowners/Tenan': 223,\n",
       " 'Sabina-Mattfeldt': 224,\n",
       " 'Saint Agnes': 225,\n",
       " 'Saint Helena': 226,\n",
       " 'Saint Josephs': 227,\n",
       " 'Saint Paul': 228,\n",
       " 'Sandtown-Winchester': 229,\n",
       " 'Seton Business Park': 230,\n",
       " 'Seton Hill': 231,\n",
       " 'Sharp-Leadenhall': 232,\n",
       " 'Shipley Hill': 233,\n",
       " 'South Baltimore': 234,\n",
       " 'South Clifton Park': 235,\n",
       " 'Spring Garden Industrial': 236,\n",
       " 'Stadium Area': 237,\n",
       " 'Stonewood-Pentwood-Winsto': 238,\n",
       " 'Taylor Heights': 239,\n",
       " 'Ten Hills': 240,\n",
       " 'The Orchards': 241,\n",
       " 'Towanda-Grantley': 242,\n",
       " 'Tremont': 243,\n",
       " 'Tuscany-Canterbury': 244,\n",
       " 'Union Square': 245,\n",
       " 'University Of Maryland': 246,\n",
       " 'Uplands': 247,\n",
       " 'Upper Fells Point': 248,\n",
       " 'Upton': 249,\n",
       " 'Villages Of Homeland': 250,\n",
       " 'Violetville': 251,\n",
       " 'Wakefield': 252,\n",
       " 'Walbrook': 253,\n",
       " 'Waltherson': 254,\n",
       " 'Washington Hill': 255,\n",
       " 'Washington Village/Pigtow': 256,\n",
       " 'Waverly': 257,\n",
       " 'West Arlington': 258,\n",
       " 'West Forest Park': 259,\n",
       " 'West Hills': 260,\n",
       " 'Westfield': 261,\n",
       " 'Westgate': 262,\n",
       " 'Westport': 263,\n",
       " 'Wilhelm Park': 264,\n",
       " 'Wilson Park': 265,\n",
       " 'Winchester': 266,\n",
       " 'Windsor Hills': 267,\n",
       " 'Winston-Govans': 268,\n",
       " 'Woodberry': 269,\n",
       " 'Woodbourne Heights': 270,\n",
       " 'Woodbourne-McCabe': 271,\n",
       " 'Woodmere': 272,\n",
       " 'Wrenlane': 273,\n",
       " 'Wyman Park': 274,\n",
       " 'Wyndhurst': 275,\n",
       " 'Yale Heights': 276,\n",
       " 'York-Homeland': 277}"
      ]
     },
     "execution_count": 71,
     "metadata": {},
     "output_type": "execute_result"
    }
   ],
   "source": [
    "Neighborhood"
   ]
  },
  {
   "cell_type": "code",
   "execution_count": 72,
   "metadata": {},
   "outputs": [],
   "source": [
    "bpd_df[\"Premise\"] = lbl.fit_transform(bpd_df[bpd_df.columns[6]])"
   ]
  },
  {
   "cell_type": "code",
   "execution_count": 73,
   "metadata": {},
   "outputs": [],
   "source": [
    "Premise = dict(zip(lbl.classes_, lbl.transform(lbl.classes_)))"
   ]
  },
  {
   "cell_type": "code",
   "execution_count": 74,
   "metadata": {},
   "outputs": [
    {
     "data": {
      "text/plain": [
       "{'ALLEY': 0,\n",
       " 'APARTMENT': 1,\n",
       " 'APT. LOCKE': 2,\n",
       " 'APT/CONDO': 3,\n",
       " 'ARENA': 4,\n",
       " 'ATM MACHIN': 5,\n",
       " 'AUTO PARTS': 6,\n",
       " 'Alley': 7,\n",
       " 'BAKERY': 8,\n",
       " 'BANK/FINAN': 9,\n",
       " 'BAR': 10,\n",
       " 'BARBER/BEA': 11,\n",
       " 'BLDG UNDER': 12,\n",
       " 'BOAT YARD': 13,\n",
       " 'BOAT/SHIP': 14,\n",
       " 'BOX CARS/C': 15,\n",
       " 'BRIDGE-PIE': 16,\n",
       " 'BUS.  STOR': 17,\n",
       " 'BUS. PARK': 18,\n",
       " 'BUS/AUTO': 19,\n",
       " 'BUS/RAILRO': 20,\n",
       " 'CAB': 21,\n",
       " 'CAR  REPAI': 22,\n",
       " 'CAR LOT-NE': 23,\n",
       " 'CARRY OUT': 24,\n",
       " 'CEMETERY': 25,\n",
       " 'CHAIN FOOD': 26,\n",
       " 'CLOTHING/S': 27,\n",
       " 'CLUB HOUSE': 28,\n",
       " 'CONSTRUCTI': 29,\n",
       " 'CONVENIENC': 30,\n",
       " 'CONVENTION': 31,\n",
       " 'COURT HOUS': 32,\n",
       " 'Church': 33,\n",
       " 'Common Bus': 34,\n",
       " 'DEPARTMENT': 35,\n",
       " 'DOCTORS OF': 36,\n",
       " 'DRIVEWAY': 37,\n",
       " 'DRUG STORE': 38,\n",
       " 'Day Care F': 39,\n",
       " 'Dwelling': 40,\n",
       " 'FAST FOOD': 41,\n",
       " 'FINANCE/LO': 42,\n",
       " 'FIRE DEPAR': 43,\n",
       " 'GAS STATIO': 44,\n",
       " 'GROCERY/CO': 45,\n",
       " 'Gas Statio': 46,\n",
       " 'HARDWARE/B': 47,\n",
       " 'HOSP/NURS.': 48,\n",
       " 'HOTEL/MOTE': 49,\n",
       " 'HOUSE UNDE': 50,\n",
       " 'Hospital': 51,\n",
       " 'INNER HARB': 52,\n",
       " 'JEWELRY ST': 53,\n",
       " 'LAUNDRY/CL': 54,\n",
       " 'LIBRARY': 55,\n",
       " 'LIGHT RAIL': 56,\n",
       " 'LIQUOR STO': 57,\n",
       " 'MAILBOX-ST': 58,\n",
       " 'MANUFACTUR': 59,\n",
       " 'MARKET STA': 60,\n",
       " 'MINI STORA': 61,\n",
       " 'MOBILE HOM': 62,\n",
       " 'MTA LOT': 63,\n",
       " 'NIGHT DEPO': 64,\n",
       " 'OFFICE BUI': 65,\n",
       " 'OTHER - IN': 66,\n",
       " 'OTHER - OU': 67,\n",
       " 'OTHER/RESI': 68,\n",
       " 'PARK': 69,\n",
       " 'PARKING LO': 70,\n",
       " 'PAWN SHOP': 71,\n",
       " 'PENITENTIA': 72,\n",
       " 'PHOTO STUD': 73,\n",
       " 'PIZZA/OTHE': 74,\n",
       " 'PLAYGROUND': 75,\n",
       " 'POLICE DEP': 76,\n",
       " 'POOL/BOWLI': 77,\n",
       " 'PORCH/DECK': 78,\n",
       " 'PUBLIC BUI': 79,\n",
       " 'PUBLIC HOU': 80,\n",
       " 'Parking Lo': 81,\n",
       " 'Private Sc': 82,\n",
       " 'Public Are': 83,\n",
       " 'Public Hou': 84,\n",
       " 'Public Sch': 85,\n",
       " 'RACE TRACK': 86,\n",
       " 'RAILROAD C': 87,\n",
       " 'RECREATION': 88,\n",
       " 'RELIGIOUS': 89,\n",
       " 'RENTAL/VID': 90,\n",
       " 'RESTAURANT': 91,\n",
       " 'RETAIL/SMA': 92,\n",
       " 'ROW/TOWNHO': 93,\n",
       " 'SALESMAN/C': 94,\n",
       " 'SCHOOL': 95,\n",
       " 'SCHOOL PLA': 96,\n",
       " 'SHED/GARAGE': 97,\n",
       " 'SHOPPING M': 98,\n",
       " 'SINGLE HOU': 99,\n",
       " 'SKYWALK': 100,\n",
       " 'SPECIALTY': 101,\n",
       " 'STADIUM': 102,\n",
       " 'STREET': 103,\n",
       " 'STRUCTURE-': 104,\n",
       " 'SUBWAY': 105,\n",
       " 'TAVERN/NIG': 106,\n",
       " 'THEATRE': 107,\n",
       " 'TRACTOR TR': 108,\n",
       " 'TRUCKING &': 109,\n",
       " 'UNKNOWN': 110,\n",
       " 'UTILITIES-': 111,\n",
       " 'VACANT BUI': 112,\n",
       " 'VACANT LOT': 113,\n",
       " 'Vacant Dwe': 114,\n",
       " 'Vehicle': 115,\n",
       " 'WAREHOUSE': 116,\n",
       " 'WHOLESALE/': 117,\n",
       " 'YARD': 118,\n",
       " 'YARD/BUSIN': 119}"
      ]
     },
     "execution_count": 74,
     "metadata": {},
     "output_type": "execute_result"
    }
   ],
   "source": [
    "Premise"
   ]
  },
  {
   "cell_type": "code",
   "execution_count": 75,
   "metadata": {},
   "outputs": [
    {
     "data": {
      "text/html": [
       "<div>\n",
       "<style scoped>\n",
       "    .dataframe tbody tr th:only-of-type {\n",
       "        vertical-align: middle;\n",
       "    }\n",
       "\n",
       "    .dataframe tbody tr th {\n",
       "        vertical-align: top;\n",
       "    }\n",
       "\n",
       "    .dataframe thead th {\n",
       "        text-align: right;\n",
       "    }\n",
       "</style>\n",
       "<table border=\"1\" class=\"dataframe\">\n",
       "  <thead>\n",
       "    <tr style=\"text-align: right;\">\n",
       "      <th></th>\n",
       "      <th>Description</th>\n",
       "      <th>Post</th>\n",
       "      <th>District</th>\n",
       "      <th>Neighborhood</th>\n",
       "      <th>Longitude</th>\n",
       "      <th>Latitude</th>\n",
       "      <th>Premise</th>\n",
       "      <th>Month</th>\n",
       "      <th>Hour</th>\n",
       "      <th>Year</th>\n",
       "      <th>Outside</th>\n",
       "      <th>Weapon_FIREARM</th>\n",
       "      <th>Weapon_HANDS</th>\n",
       "      <th>Weapon_KNIFE</th>\n",
       "      <th>Weapon_NONE</th>\n",
       "      <th>Weapon_OTHER</th>\n",
       "      <th>Season_autumn</th>\n",
       "      <th>Season_spring</th>\n",
       "      <th>Season_summer</th>\n",
       "      <th>Season_winter</th>\n",
       "    </tr>\n",
       "  </thead>\n",
       "  <tbody>\n",
       "    <tr>\n",
       "      <th>0</th>\n",
       "      <td>12</td>\n",
       "      <td>913.0</td>\n",
       "      <td>6</td>\n",
       "      <td>26</td>\n",
       "      <td>-76.60541</td>\n",
       "      <td>39.22951</td>\n",
       "      <td>93</td>\n",
       "      <td>9</td>\n",
       "      <td>23</td>\n",
       "      <td>2017</td>\n",
       "      <td>0</td>\n",
       "      <td>0</td>\n",
       "      <td>0</td>\n",
       "      <td>1</td>\n",
       "      <td>0</td>\n",
       "      <td>0</td>\n",
       "      <td>0</td>\n",
       "      <td>0</td>\n",
       "      <td>1</td>\n",
       "      <td>0</td>\n",
       "    </tr>\n",
       "    <tr>\n",
       "      <th>1</th>\n",
       "      <td>3</td>\n",
       "      <td>133.0</td>\n",
       "      <td>0</td>\n",
       "      <td>214</td>\n",
       "      <td>-76.63217</td>\n",
       "      <td>39.31360</td>\n",
       "      <td>103</td>\n",
       "      <td>9</td>\n",
       "      <td>23</td>\n",
       "      <td>2017</td>\n",
       "      <td>1</td>\n",
       "      <td>0</td>\n",
       "      <td>0</td>\n",
       "      <td>0</td>\n",
       "      <td>1</td>\n",
       "      <td>0</td>\n",
       "      <td>0</td>\n",
       "      <td>0</td>\n",
       "      <td>1</td>\n",
       "      <td>0</td>\n",
       "    </tr>\n",
       "    <tr>\n",
       "      <th>2</th>\n",
       "      <td>14</td>\n",
       "      <td>524.0</td>\n",
       "      <td>3</td>\n",
       "      <td>268</td>\n",
       "      <td>-76.60697</td>\n",
       "      <td>39.34768</td>\n",
       "      <td>103</td>\n",
       "      <td>9</td>\n",
       "      <td>22</td>\n",
       "      <td>2017</td>\n",
       "      <td>1</td>\n",
       "      <td>1</td>\n",
       "      <td>0</td>\n",
       "      <td>0</td>\n",
       "      <td>0</td>\n",
       "      <td>0</td>\n",
       "      <td>0</td>\n",
       "      <td>0</td>\n",
       "      <td>1</td>\n",
       "      <td>0</td>\n",
       "    </tr>\n",
       "    <tr>\n",
       "      <th>3</th>\n",
       "      <td>0</td>\n",
       "      <td>934.0</td>\n",
       "      <td>6</td>\n",
       "      <td>37</td>\n",
       "      <td>-76.64526</td>\n",
       "      <td>39.28315</td>\n",
       "      <td>93</td>\n",
       "      <td>9</td>\n",
       "      <td>22</td>\n",
       "      <td>2017</td>\n",
       "      <td>0</td>\n",
       "      <td>0</td>\n",
       "      <td>0</td>\n",
       "      <td>0</td>\n",
       "      <td>0</td>\n",
       "      <td>1</td>\n",
       "      <td>0</td>\n",
       "      <td>0</td>\n",
       "      <td>1</td>\n",
       "      <td>0</td>\n",
       "    </tr>\n",
       "    <tr>\n",
       "      <th>4</th>\n",
       "      <td>5</td>\n",
       "      <td>113.0</td>\n",
       "      <td>0</td>\n",
       "      <td>63</td>\n",
       "      <td>-76.61365</td>\n",
       "      <td>39.28756</td>\n",
       "      <td>103</td>\n",
       "      <td>9</td>\n",
       "      <td>22</td>\n",
       "      <td>2017</td>\n",
       "      <td>1</td>\n",
       "      <td>0</td>\n",
       "      <td>1</td>\n",
       "      <td>0</td>\n",
       "      <td>0</td>\n",
       "      <td>0</td>\n",
       "      <td>0</td>\n",
       "      <td>0</td>\n",
       "      <td>1</td>\n",
       "      <td>0</td>\n",
       "    </tr>\n",
       "  </tbody>\n",
       "</table>\n",
       "</div>"
      ],
      "text/plain": [
       "   Description   Post  District  Neighborhood  Longitude  Latitude  Premise  \\\n",
       "0           12  913.0         6            26  -76.60541  39.22951       93   \n",
       "1            3  133.0         0           214  -76.63217  39.31360      103   \n",
       "2           14  524.0         3           268  -76.60697  39.34768      103   \n",
       "3            0  934.0         6            37  -76.64526  39.28315       93   \n",
       "4            5  113.0         0            63  -76.61365  39.28756      103   \n",
       "\n",
       "   Month  Hour  Year  Outside  Weapon_FIREARM  Weapon_HANDS  Weapon_KNIFE  \\\n",
       "0      9    23  2017        0               0             0             1   \n",
       "1      9    23  2017        1               0             0             0   \n",
       "2      9    22  2017        1               1             0             0   \n",
       "3      9    22  2017        0               0             0             0   \n",
       "4      9    22  2017        1               0             1             0   \n",
       "\n",
       "   Weapon_NONE  Weapon_OTHER  Season_autumn  Season_spring  Season_summer  \\\n",
       "0            0             0              0              0              1   \n",
       "1            1             0              0              0              1   \n",
       "2            0             0              0              0              1   \n",
       "3            0             1              0              0              1   \n",
       "4            0             0              0              0              1   \n",
       "\n",
       "   Season_winter  \n",
       "0              0  \n",
       "1              0  \n",
       "2              0  \n",
       "3              0  \n",
       "4              0  "
      ]
     },
     "execution_count": 75,
     "metadata": {},
     "output_type": "execute_result"
    }
   ],
   "source": [
    "bpd_df.head(5)"
   ]
  },
  {
   "cell_type": "code",
   "execution_count": 76,
   "metadata": {},
   "outputs": [],
   "source": [
    "bpd_df.to_csv(\"../data/BPD_CRIME_DATA_ENCODED.csv\")"
   ]
  },
  {
   "cell_type": "code",
   "execution_count": 77,
   "metadata": {},
   "outputs": [],
   "source": [
    "import csv\n",
    "with open('../data/Premise_decoder.csv', 'w') as f:\n",
    "    for key in Premise.keys():\n",
    "        f.write(\"%s,%s\\n\"%(key,Premise[key]))"
   ]
  },
  {
   "cell_type": "code",
   "execution_count": 78,
   "metadata": {},
   "outputs": [],
   "source": [
    "with open('../data/Neighborhood_decoder.csv', 'w') as f:\n",
    "    for key in Neighborhood.keys():\n",
    "        f.write(\"%s,%s\\n\"%(key,Neighborhood[key]))"
   ]
  },
  {
   "cell_type": "code",
   "execution_count": 79,
   "metadata": {},
   "outputs": [],
   "source": [
    "with open('../data/District_decoder.csv', 'w') as f:\n",
    "    for key in District.keys():\n",
    "        f.write(\"%s,%s\\n\"%(key,District[key]))"
   ]
  },
  {
   "cell_type": "code",
   "execution_count": 80,
   "metadata": {},
   "outputs": [],
   "source": [
    "with open('../data/Description_decoder.csv', 'w') as f:\n",
    "    for key in Description.keys():\n",
    "        f.write(\"%s,%s\\n\"%(key,Description[key]))"
   ]
  },
  {
   "cell_type": "code",
   "execution_count": null,
   "metadata": {},
   "outputs": [],
   "source": []
  }
 ],
 "metadata": {
  "hide_input": false,
  "kernelspec": {
   "display_name": "Python 3",
   "language": "python",
   "name": "python3"
  },
  "language_info": {
   "codemirror_mode": {
    "name": "ipython",
    "version": 3
   },
   "file_extension": ".py",
   "mimetype": "text/x-python",
   "name": "python",
   "nbconvert_exporter": "python",
   "pygments_lexer": "ipython3",
   "version": "3.7.7"
  },
  "toc": {
   "base_numbering": 1,
   "nav_menu": {},
   "number_sections": true,
   "sideBar": true,
   "skip_h1_title": false,
   "title_cell": "Table of Contents",
   "title_sidebar": "Contents",
   "toc_cell": false,
   "toc_position": {},
   "toc_section_display": true,
   "toc_window_display": false
  },
  "varInspector": {
   "cols": {
    "lenName": 16,
    "lenType": 16,
    "lenVar": 40
   },
   "kernels_config": {
    "python": {
     "delete_cmd_postfix": "",
     "delete_cmd_prefix": "del ",
     "library": "var_list.py",
     "varRefreshCmd": "print(var_dic_list())"
    },
    "r": {
     "delete_cmd_postfix": ") ",
     "delete_cmd_prefix": "rm(",
     "library": "var_list.r",
     "varRefreshCmd": "cat(var_dic_list()) "
    }
   },
   "types_to_exclude": [
    "module",
    "function",
    "builtin_function_or_method",
    "instance",
    "_Feature"
   ],
   "window_display": false
  }
 },
 "nbformat": 4,
 "nbformat_minor": 4
}
