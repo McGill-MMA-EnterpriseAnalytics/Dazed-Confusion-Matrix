{
 "cells": [
  {
   "cell_type": "code",
   "execution_count": 36,
   "metadata": {
    "collapsed": true
   },
   "outputs": [],
   "source": [
    "import pandas as pd\n",
    "import numpy as np"
   ]
  },
  {
   "cell_type": "code",
   "execution_count": 37,
   "outputs": [],
   "source": [
    "df = pd.read_csv(\"../data/Test_data_2017-18.csv\")\n"
   ],
   "metadata": {
    "collapsed": false,
    "pycharm": {
     "name": "#%%\n"
    }
   }
  },
  {
   "cell_type": "code",
   "execution_count": 38,
   "outputs": [
    {
     "data": {
      "text/plain": "    CrimeDate CrimeTime CrimeCode          Location        Description  \\\n0  12/30/2018   0:00:00        6D  300 N CALVERT ST  LARCENY FROM AUTO   \n1  12/30/2018   0:00:00        6E      5400 YORK RD            LARCENY   \n2  12/29/2018   0:00:00        5A    500 DOLPHIN ST           BURGLARY   \n3  12/29/2018   0:00:00        3P  6400 PULASKI HWY   ROBBERY - STREET   \n4  12/28/2018   0:00:00        5F     1400 LIGHT ST           BURGLARY   \n\n  Inside/Outside Weapon   Post   District             Neighborhood  Longitude  \\\n0            NaN    NaN  111.0    CENTRAL                 Downtown    39.2927   \n1              O    NaN  523.0   NORTHERN                 Homeland    39.3556   \n2              I    NaN  123.0    CENTRAL                    Upton    39.3011   \n3              I    NaN  441.0  NORTHEAST  Pulaski Industrial Area    39.3039   \n4              I    NaN  942.0   SOUTHERN                Riverside    39.2736   \n\n   Latitude          Location 1               Premise  Total Incidents  \n0  -76.6125  (39.2927,-76.6125)                   NaN                1  \n1  -76.6099  (39.3556,-76.6099)  STREET                              1  \n2  -76.6276  (39.3011,-76.6276)     ROW/TOWNHOUSE-OCC                1  \n3  -76.5408  (39.3039,-76.5408)  HOTEL/MOTEL                         1  \n4  -76.6118  (39.2736,-76.6118)  OTHER - INSIDE                      1  ",
      "text/html": "<div>\n<style scoped>\n    .dataframe tbody tr th:only-of-type {\n        vertical-align: middle;\n    }\n\n    .dataframe tbody tr th {\n        vertical-align: top;\n    }\n\n    .dataframe thead th {\n        text-align: right;\n    }\n</style>\n<table border=\"1\" class=\"dataframe\">\n  <thead>\n    <tr style=\"text-align: right;\">\n      <th></th>\n      <th>CrimeDate</th>\n      <th>CrimeTime</th>\n      <th>CrimeCode</th>\n      <th>Location</th>\n      <th>Description</th>\n      <th>Inside/Outside</th>\n      <th>Weapon</th>\n      <th>Post</th>\n      <th>District</th>\n      <th>Neighborhood</th>\n      <th>Longitude</th>\n      <th>Latitude</th>\n      <th>Location 1</th>\n      <th>Premise</th>\n      <th>Total Incidents</th>\n    </tr>\n  </thead>\n  <tbody>\n    <tr>\n      <th>0</th>\n      <td>12/30/2018</td>\n      <td>0:00:00</td>\n      <td>6D</td>\n      <td>300 N CALVERT ST</td>\n      <td>LARCENY FROM AUTO</td>\n      <td>NaN</td>\n      <td>NaN</td>\n      <td>111.0</td>\n      <td>CENTRAL</td>\n      <td>Downtown</td>\n      <td>39.2927</td>\n      <td>-76.6125</td>\n      <td>(39.2927,-76.6125)</td>\n      <td>NaN</td>\n      <td>1</td>\n    </tr>\n    <tr>\n      <th>1</th>\n      <td>12/30/2018</td>\n      <td>0:00:00</td>\n      <td>6E</td>\n      <td>5400 YORK RD</td>\n      <td>LARCENY</td>\n      <td>O</td>\n      <td>NaN</td>\n      <td>523.0</td>\n      <td>NORTHERN</td>\n      <td>Homeland</td>\n      <td>39.3556</td>\n      <td>-76.6099</td>\n      <td>(39.3556,-76.6099)</td>\n      <td>STREET</td>\n      <td>1</td>\n    </tr>\n    <tr>\n      <th>2</th>\n      <td>12/29/2018</td>\n      <td>0:00:00</td>\n      <td>5A</td>\n      <td>500 DOLPHIN ST</td>\n      <td>BURGLARY</td>\n      <td>I</td>\n      <td>NaN</td>\n      <td>123.0</td>\n      <td>CENTRAL</td>\n      <td>Upton</td>\n      <td>39.3011</td>\n      <td>-76.6276</td>\n      <td>(39.3011,-76.6276)</td>\n      <td>ROW/TOWNHOUSE-OCC</td>\n      <td>1</td>\n    </tr>\n    <tr>\n      <th>3</th>\n      <td>12/29/2018</td>\n      <td>0:00:00</td>\n      <td>3P</td>\n      <td>6400 PULASKI HWY</td>\n      <td>ROBBERY - STREET</td>\n      <td>I</td>\n      <td>NaN</td>\n      <td>441.0</td>\n      <td>NORTHEAST</td>\n      <td>Pulaski Industrial Area</td>\n      <td>39.3039</td>\n      <td>-76.5408</td>\n      <td>(39.3039,-76.5408)</td>\n      <td>HOTEL/MOTEL</td>\n      <td>1</td>\n    </tr>\n    <tr>\n      <th>4</th>\n      <td>12/28/2018</td>\n      <td>0:00:00</td>\n      <td>5F</td>\n      <td>1400 LIGHT ST</td>\n      <td>BURGLARY</td>\n      <td>I</td>\n      <td>NaN</td>\n      <td>942.0</td>\n      <td>SOUTHERN</td>\n      <td>Riverside</td>\n      <td>39.2736</td>\n      <td>-76.6118</td>\n      <td>(39.2736,-76.6118)</td>\n      <td>OTHER - INSIDE</td>\n      <td>1</td>\n    </tr>\n  </tbody>\n</table>\n</div>"
     },
     "execution_count": 38,
     "metadata": {},
     "output_type": "execute_result"
    }
   ],
   "source": [
    "df.head()\n"
   ],
   "metadata": {
    "collapsed": false,
    "pycharm": {
     "name": "#%%\n"
    }
   }
  },
  {
   "cell_type": "code",
   "execution_count": 39,
   "outputs": [],
   "source": [
    "df.CrimeDate = pd.to_datetime(df.CrimeDate)"
   ],
   "metadata": {
    "collapsed": false,
    "pycharm": {
     "name": "#%%\n"
    }
   }
  },
  {
   "cell_type": "code",
   "execution_count": 40,
   "outputs": [],
   "source": [
    "df['Month'] = df.CrimeDate.dt.month\n"
   ],
   "metadata": {
    "collapsed": false,
    "pycharm": {
     "name": "#%%\n"
    }
   }
  },
  {
   "cell_type": "code",
   "execution_count": 41,
   "outputs": [],
   "source": [
    "df['CrimeTime'] = [time if time != \"24:00:00\" else \"0:00:00\" for time in df['CrimeTime']]\n"
   ],
   "metadata": {
    "collapsed": false,
    "pycharm": {
     "name": "#%%\n"
    }
   }
  },
  {
   "cell_type": "code",
   "execution_count": 42,
   "outputs": [],
   "source": [
    "df.CrimeTime = pd.to_datetime(df['CrimeTime'],format= '%H:%M:%S').dt.time"
   ],
   "metadata": {
    "collapsed": false,
    "pycharm": {
     "name": "#%%\n"
    }
   }
  },
  {
   "cell_type": "code",
   "execution_count": 43,
   "outputs": [],
   "source": [
    "df['Hour'] = [int(str(time)[:2]) for time in df.CrimeTime]"
   ],
   "metadata": {
    "collapsed": false,
    "pycharm": {
     "name": "#%%\n"
    }
   }
  },
  {
   "cell_type": "code",
   "execution_count": 44,
   "outputs": [],
   "source": [
    "df[\"Year\"] = df[\"CrimeDate\"].dt.year"
   ],
   "metadata": {
    "collapsed": false,
    "pycharm": {
     "name": "#%%\n"
    }
   }
  },
  {
   "cell_type": "code",
   "execution_count": 45,
   "outputs": [],
   "source": [
    "date = df.CrimeDate.dt.month*100 + df.CrimeDate.dt.day\n",
    "df['Season'] = (pd.cut(date,[0,321,620,922,1220,1300],\n",
    "                       labels=['winter','spring','summer','autumn','winter '])\n",
    "                  .str.strip()\n",
    "               )"
   ],
   "metadata": {
    "collapsed": false,
    "pycharm": {
     "name": "#%%\n"
    }
   }
  },
  {
   "cell_type": "code",
   "execution_count": 46,
   "outputs": [],
   "source": [
    "df['Inside/Outside'] = df['Inside/Outside'].replace('I', 'Inside')\n",
    "df['Inside/Outside'] = df['Inside/Outside'].replace('O', 'Outside')\n"
   ],
   "metadata": {
    "collapsed": false,
    "pycharm": {
     "name": "#%%\n"
    }
   }
  },
  {
   "cell_type": "code",
   "execution_count": 47,
   "outputs": [],
   "source": [
    "df['Inside/Outside'] = df['Inside/Outside'].str.upper()\n"
   ],
   "metadata": {
    "collapsed": false,
    "pycharm": {
     "name": "#%%\n"
    }
   }
  },
  {
   "cell_type": "code",
   "execution_count": 48,
   "outputs": [],
   "source": [
    "df = pd.get_dummies(df, columns=[\"Inside/Outside\"],drop_first=True)\n",
    "df = df.rename(columns={\"Inside/Outside_OUTSIDE\":\"Outside\"})\n"
   ],
   "metadata": {
    "collapsed": false,
    "pycharm": {
     "name": "#%%\n"
    }
   }
  },
  {
   "cell_type": "code",
   "execution_count": 49,
   "outputs": [],
   "source": [
    "df = pd.get_dummies(df, columns=[\"Season\"])\n"
   ],
   "metadata": {
    "collapsed": false,
    "pycharm": {
     "name": "#%%\n"
    }
   }
  },
  {
   "cell_type": "code",
   "execution_count": 50,
   "outputs": [
    {
     "data": {
      "text/plain": "   CrimeDate CrimeTime CrimeCode          Location        Description Weapon  \\\n0 2018-12-30  00:00:00        6D  300 N CALVERT ST  LARCENY FROM AUTO    NaN   \n1 2018-12-30  00:00:00        6E      5400 YORK RD            LARCENY    NaN   \n2 2018-12-29  00:00:00        5A    500 DOLPHIN ST           BURGLARY    NaN   \n3 2018-12-29  00:00:00        3P  6400 PULASKI HWY   ROBBERY - STREET    NaN   \n4 2018-12-28  00:00:00        5F     1400 LIGHT ST           BURGLARY    NaN   \n\n    Post   District             Neighborhood  Longitude  ...  \\\n0  111.0    CENTRAL                 Downtown    39.2927  ...   \n1  523.0   NORTHERN                 Homeland    39.3556  ...   \n2  123.0    CENTRAL                    Upton    39.3011  ...   \n3  441.0  NORTHEAST  Pulaski Industrial Area    39.3039  ...   \n4  942.0   SOUTHERN                Riverside    39.2736  ...   \n\n                Premise Total Incidents Month  Hour  Year  Outside  \\\n0                   NaN               1    12     0  2018        0   \n1  STREET                             1    12     0  2018        1   \n2     ROW/TOWNHOUSE-OCC               1    12     0  2018        0   \n3  HOTEL/MOTEL                        1    12     0  2018        0   \n4  OTHER - INSIDE                     1    12     0  2018        0   \n\n   Season_autumn  Season_spring  Season_summer  Season_winter  \n0              0              0              0              1  \n1              0              0              0              1  \n2              0              0              0              1  \n3              0              0              0              1  \n4              0              0              0              1  \n\n[5 rows x 22 columns]",
      "text/html": "<div>\n<style scoped>\n    .dataframe tbody tr th:only-of-type {\n        vertical-align: middle;\n    }\n\n    .dataframe tbody tr th {\n        vertical-align: top;\n    }\n\n    .dataframe thead th {\n        text-align: right;\n    }\n</style>\n<table border=\"1\" class=\"dataframe\">\n  <thead>\n    <tr style=\"text-align: right;\">\n      <th></th>\n      <th>CrimeDate</th>\n      <th>CrimeTime</th>\n      <th>CrimeCode</th>\n      <th>Location</th>\n      <th>Description</th>\n      <th>Weapon</th>\n      <th>Post</th>\n      <th>District</th>\n      <th>Neighborhood</th>\n      <th>Longitude</th>\n      <th>...</th>\n      <th>Premise</th>\n      <th>Total Incidents</th>\n      <th>Month</th>\n      <th>Hour</th>\n      <th>Year</th>\n      <th>Outside</th>\n      <th>Season_autumn</th>\n      <th>Season_spring</th>\n      <th>Season_summer</th>\n      <th>Season_winter</th>\n    </tr>\n  </thead>\n  <tbody>\n    <tr>\n      <th>0</th>\n      <td>2018-12-30</td>\n      <td>00:00:00</td>\n      <td>6D</td>\n      <td>300 N CALVERT ST</td>\n      <td>LARCENY FROM AUTO</td>\n      <td>NaN</td>\n      <td>111.0</td>\n      <td>CENTRAL</td>\n      <td>Downtown</td>\n      <td>39.2927</td>\n      <td>...</td>\n      <td>NaN</td>\n      <td>1</td>\n      <td>12</td>\n      <td>0</td>\n      <td>2018</td>\n      <td>0</td>\n      <td>0</td>\n      <td>0</td>\n      <td>0</td>\n      <td>1</td>\n    </tr>\n    <tr>\n      <th>1</th>\n      <td>2018-12-30</td>\n      <td>00:00:00</td>\n      <td>6E</td>\n      <td>5400 YORK RD</td>\n      <td>LARCENY</td>\n      <td>NaN</td>\n      <td>523.0</td>\n      <td>NORTHERN</td>\n      <td>Homeland</td>\n      <td>39.3556</td>\n      <td>...</td>\n      <td>STREET</td>\n      <td>1</td>\n      <td>12</td>\n      <td>0</td>\n      <td>2018</td>\n      <td>1</td>\n      <td>0</td>\n      <td>0</td>\n      <td>0</td>\n      <td>1</td>\n    </tr>\n    <tr>\n      <th>2</th>\n      <td>2018-12-29</td>\n      <td>00:00:00</td>\n      <td>5A</td>\n      <td>500 DOLPHIN ST</td>\n      <td>BURGLARY</td>\n      <td>NaN</td>\n      <td>123.0</td>\n      <td>CENTRAL</td>\n      <td>Upton</td>\n      <td>39.3011</td>\n      <td>...</td>\n      <td>ROW/TOWNHOUSE-OCC</td>\n      <td>1</td>\n      <td>12</td>\n      <td>0</td>\n      <td>2018</td>\n      <td>0</td>\n      <td>0</td>\n      <td>0</td>\n      <td>0</td>\n      <td>1</td>\n    </tr>\n    <tr>\n      <th>3</th>\n      <td>2018-12-29</td>\n      <td>00:00:00</td>\n      <td>3P</td>\n      <td>6400 PULASKI HWY</td>\n      <td>ROBBERY - STREET</td>\n      <td>NaN</td>\n      <td>441.0</td>\n      <td>NORTHEAST</td>\n      <td>Pulaski Industrial Area</td>\n      <td>39.3039</td>\n      <td>...</td>\n      <td>HOTEL/MOTEL</td>\n      <td>1</td>\n      <td>12</td>\n      <td>0</td>\n      <td>2018</td>\n      <td>0</td>\n      <td>0</td>\n      <td>0</td>\n      <td>0</td>\n      <td>1</td>\n    </tr>\n    <tr>\n      <th>4</th>\n      <td>2018-12-28</td>\n      <td>00:00:00</td>\n      <td>5F</td>\n      <td>1400 LIGHT ST</td>\n      <td>BURGLARY</td>\n      <td>NaN</td>\n      <td>942.0</td>\n      <td>SOUTHERN</td>\n      <td>Riverside</td>\n      <td>39.2736</td>\n      <td>...</td>\n      <td>OTHER - INSIDE</td>\n      <td>1</td>\n      <td>12</td>\n      <td>0</td>\n      <td>2018</td>\n      <td>0</td>\n      <td>0</td>\n      <td>0</td>\n      <td>0</td>\n      <td>1</td>\n    </tr>\n  </tbody>\n</table>\n<p>5 rows × 22 columns</p>\n</div>"
     },
     "execution_count": 50,
     "metadata": {},
     "output_type": "execute_result"
    }
   ],
   "source": [
    "df.head()\n"
   ],
   "metadata": {
    "collapsed": false,
    "pycharm": {
     "name": "#%%\n"
    }
   }
  },
  {
   "cell_type": "code",
   "execution_count": 51,
   "outputs": [],
   "source": [
    "df['Weapon'] = df['Weapon'].fillna('NONE')"
   ],
   "metadata": {
    "collapsed": false,
    "pycharm": {
     "name": "#%%\n"
    }
   }
  },
  {
   "cell_type": "code",
   "execution_count": 52,
   "outputs": [],
   "source": [
    "df = df.drop(columns=[\"CrimeCode\",\"CrimeTime\"])\n"
   ],
   "metadata": {
    "collapsed": false,
    "pycharm": {
     "name": "#%%\n"
    }
   }
  },
  {
   "cell_type": "code",
   "execution_count": 53,
   "outputs": [
    {
     "data": {
      "text/plain": "                 Count  Proportion\nCrimeDate            0    0.000000\nLocation           304    0.004629\nDescription          0    0.000000\nWeapon               0    0.000000\nPost               284    0.004325\nDistrict           158    0.002406\nNeighborhood       161    0.002452\nLongitude           33    0.000503\nLatitude            33    0.000503\nLocation 1           0    0.000000\nPremise          12617    0.192130\nTotal Incidents      0    0.000000\nMonth                0    0.000000\nHour                 0    0.000000\nYear                 0    0.000000\nOutside              0    0.000000\nSeason_autumn        0    0.000000\nSeason_spring        0    0.000000\nSeason_summer        0    0.000000\nSeason_winter        0    0.000000",
      "text/html": "<div>\n<style scoped>\n    .dataframe tbody tr th:only-of-type {\n        vertical-align: middle;\n    }\n\n    .dataframe tbody tr th {\n        vertical-align: top;\n    }\n\n    .dataframe thead th {\n        text-align: right;\n    }\n</style>\n<table border=\"1\" class=\"dataframe\">\n  <thead>\n    <tr style=\"text-align: right;\">\n      <th></th>\n      <th>Count</th>\n      <th>Proportion</th>\n    </tr>\n  </thead>\n  <tbody>\n    <tr>\n      <th>CrimeDate</th>\n      <td>0</td>\n      <td>0.000000</td>\n    </tr>\n    <tr>\n      <th>Location</th>\n      <td>304</td>\n      <td>0.004629</td>\n    </tr>\n    <tr>\n      <th>Description</th>\n      <td>0</td>\n      <td>0.000000</td>\n    </tr>\n    <tr>\n      <th>Weapon</th>\n      <td>0</td>\n      <td>0.000000</td>\n    </tr>\n    <tr>\n      <th>Post</th>\n      <td>284</td>\n      <td>0.004325</td>\n    </tr>\n    <tr>\n      <th>District</th>\n      <td>158</td>\n      <td>0.002406</td>\n    </tr>\n    <tr>\n      <th>Neighborhood</th>\n      <td>161</td>\n      <td>0.002452</td>\n    </tr>\n    <tr>\n      <th>Longitude</th>\n      <td>33</td>\n      <td>0.000503</td>\n    </tr>\n    <tr>\n      <th>Latitude</th>\n      <td>33</td>\n      <td>0.000503</td>\n    </tr>\n    <tr>\n      <th>Location 1</th>\n      <td>0</td>\n      <td>0.000000</td>\n    </tr>\n    <tr>\n      <th>Premise</th>\n      <td>12617</td>\n      <td>0.192130</td>\n    </tr>\n    <tr>\n      <th>Total Incidents</th>\n      <td>0</td>\n      <td>0.000000</td>\n    </tr>\n    <tr>\n      <th>Month</th>\n      <td>0</td>\n      <td>0.000000</td>\n    </tr>\n    <tr>\n      <th>Hour</th>\n      <td>0</td>\n      <td>0.000000</td>\n    </tr>\n    <tr>\n      <th>Year</th>\n      <td>0</td>\n      <td>0.000000</td>\n    </tr>\n    <tr>\n      <th>Outside</th>\n      <td>0</td>\n      <td>0.000000</td>\n    </tr>\n    <tr>\n      <th>Season_autumn</th>\n      <td>0</td>\n      <td>0.000000</td>\n    </tr>\n    <tr>\n      <th>Season_spring</th>\n      <td>0</td>\n      <td>0.000000</td>\n    </tr>\n    <tr>\n      <th>Season_summer</th>\n      <td>0</td>\n      <td>0.000000</td>\n    </tr>\n    <tr>\n      <th>Season_winter</th>\n      <td>0</td>\n      <td>0.000000</td>\n    </tr>\n  </tbody>\n</table>\n</div>"
     },
     "execution_count": 53,
     "metadata": {},
     "output_type": "execute_result"
    }
   ],
   "source": [
    "null_count = df.isnull().sum()\n",
    "null_prop = null_count / len(df)\n",
    "pd.DataFrame({\n",
    "    'Count': null_count,\n",
    "    'Proportion': null_prop})"
   ],
   "metadata": {
    "collapsed": false,
    "pycharm": {
     "name": "#%%\n"
    }
   }
  },
  {
   "cell_type": "code",
   "execution_count": 36,
   "outputs": [
    {
     "data": {
      "text/plain": "65669"
     },
     "execution_count": 36,
     "metadata": {},
     "output_type": "execute_result"
    }
   ],
   "source": [
    "len(df)\n"
   ],
   "metadata": {
    "collapsed": false,
    "pycharm": {
     "name": "#%%\n"
    }
   }
  },
  {
   "cell_type": "markdown",
   "source": [
    "Drop the null premises\n"
   ],
   "metadata": {
    "collapsed": false,
    "pycharm": {
     "name": "#%% md\n"
    }
   }
  },
  {
   "cell_type": "code",
   "execution_count": 54,
   "outputs": [],
   "source": [
    "df = df[df[\"Premise\"].notna()]"
   ],
   "metadata": {
    "collapsed": false,
    "pycharm": {
     "name": "#%%\n"
    }
   }
  },
  {
   "cell_type": "markdown",
   "source": [
    "Drop null long and lat.\n"
   ],
   "metadata": {
    "collapsed": false,
    "pycharm": {
     "name": "#%% md\n"
    }
   }
  },
  {
   "cell_type": "code",
   "execution_count": 56,
   "outputs": [],
   "source": [
    "df = df[df[\"Longitude\"].notna()]\n",
    "df = df[df[\"Latitude\"].notna()]"
   ],
   "metadata": {
    "collapsed": false,
    "pycharm": {
     "name": "#%%\n"
    }
   }
  },
  {
   "cell_type": "markdown",
   "source": [
    "Drop null post\n"
   ],
   "metadata": {
    "collapsed": false,
    "pycharm": {
     "name": "#%% md\n"
    }
   }
  },
  {
   "cell_type": "code",
   "execution_count": 57,
   "outputs": [],
   "source": [
    "df = df[df[\"Post\"].notna()]\n"
   ],
   "metadata": {
    "collapsed": false,
    "pycharm": {
     "name": "#%%\n"
    }
   }
  },
  {
   "cell_type": "code",
   "execution_count": 58,
   "outputs": [
    {
     "data": {
      "text/plain": "                 Count  Proportion\nCrimeDate            0    0.000000\nLocation           213    0.004032\nDescription          0    0.000000\nWeapon               0    0.000000\nPost                 0    0.000000\nDistrict             0    0.000000\nNeighborhood         6    0.000114\nLongitude            0    0.000000\nLatitude             0    0.000000\nLocation 1           0    0.000000\nPremise              0    0.000000\nTotal Incidents      0    0.000000\nMonth                0    0.000000\nHour                 0    0.000000\nYear                 0    0.000000\nOutside              0    0.000000\nSeason_autumn        0    0.000000\nSeason_spring        0    0.000000\nSeason_summer        0    0.000000\nSeason_winter        0    0.000000",
      "text/html": "<div>\n<style scoped>\n    .dataframe tbody tr th:only-of-type {\n        vertical-align: middle;\n    }\n\n    .dataframe tbody tr th {\n        vertical-align: top;\n    }\n\n    .dataframe thead th {\n        text-align: right;\n    }\n</style>\n<table border=\"1\" class=\"dataframe\">\n  <thead>\n    <tr style=\"text-align: right;\">\n      <th></th>\n      <th>Count</th>\n      <th>Proportion</th>\n    </tr>\n  </thead>\n  <tbody>\n    <tr>\n      <th>CrimeDate</th>\n      <td>0</td>\n      <td>0.000000</td>\n    </tr>\n    <tr>\n      <th>Location</th>\n      <td>213</td>\n      <td>0.004032</td>\n    </tr>\n    <tr>\n      <th>Description</th>\n      <td>0</td>\n      <td>0.000000</td>\n    </tr>\n    <tr>\n      <th>Weapon</th>\n      <td>0</td>\n      <td>0.000000</td>\n    </tr>\n    <tr>\n      <th>Post</th>\n      <td>0</td>\n      <td>0.000000</td>\n    </tr>\n    <tr>\n      <th>District</th>\n      <td>0</td>\n      <td>0.000000</td>\n    </tr>\n    <tr>\n      <th>Neighborhood</th>\n      <td>6</td>\n      <td>0.000114</td>\n    </tr>\n    <tr>\n      <th>Longitude</th>\n      <td>0</td>\n      <td>0.000000</td>\n    </tr>\n    <tr>\n      <th>Latitude</th>\n      <td>0</td>\n      <td>0.000000</td>\n    </tr>\n    <tr>\n      <th>Location 1</th>\n      <td>0</td>\n      <td>0.000000</td>\n    </tr>\n    <tr>\n      <th>Premise</th>\n      <td>0</td>\n      <td>0.000000</td>\n    </tr>\n    <tr>\n      <th>Total Incidents</th>\n      <td>0</td>\n      <td>0.000000</td>\n    </tr>\n    <tr>\n      <th>Month</th>\n      <td>0</td>\n      <td>0.000000</td>\n    </tr>\n    <tr>\n      <th>Hour</th>\n      <td>0</td>\n      <td>0.000000</td>\n    </tr>\n    <tr>\n      <th>Year</th>\n      <td>0</td>\n      <td>0.000000</td>\n    </tr>\n    <tr>\n      <th>Outside</th>\n      <td>0</td>\n      <td>0.000000</td>\n    </tr>\n    <tr>\n      <th>Season_autumn</th>\n      <td>0</td>\n      <td>0.000000</td>\n    </tr>\n    <tr>\n      <th>Season_spring</th>\n      <td>0</td>\n      <td>0.000000</td>\n    </tr>\n    <tr>\n      <th>Season_summer</th>\n      <td>0</td>\n      <td>0.000000</td>\n    </tr>\n    <tr>\n      <th>Season_winter</th>\n      <td>0</td>\n      <td>0.000000</td>\n    </tr>\n  </tbody>\n</table>\n</div>"
     },
     "execution_count": 58,
     "metadata": {},
     "output_type": "execute_result"
    }
   ],
   "source": [
    "null_count = df.isnull().sum()\n",
    "null_prop = null_count / len(df)\n",
    "pd.DataFrame({\n",
    "    'Count': null_count,\n",
    "    'Proportion': null_prop})\n"
   ],
   "metadata": {
    "collapsed": false,
    "pycharm": {
     "name": "#%%\n"
    }
   }
  },
  {
   "cell_type": "markdown",
   "source": [
    "Drop null neighborhood\n"
   ],
   "metadata": {
    "collapsed": false,
    "pycharm": {
     "name": "#%% md\n"
    }
   }
  },
  {
   "cell_type": "code",
   "execution_count": 59,
   "outputs": [],
   "source": [
    "df = df[df[\"Neighborhood\"].notna()]"
   ],
   "metadata": {
    "collapsed": false,
    "pycharm": {
     "name": "#%%\n"
    }
   }
  },
  {
   "cell_type": "code",
   "execution_count": 60,
   "outputs": [
    {
     "data": {
      "text/plain": "                 Count  Proportion\nCrimeDate            0    0.000000\nLocation           213    0.004032\nDescription          0    0.000000\nWeapon               0    0.000000\nPost                 0    0.000000\nDistrict             0    0.000000\nNeighborhood         0    0.000000\nLongitude            0    0.000000\nLatitude             0    0.000000\nLocation 1           0    0.000000\nPremise              0    0.000000\nTotal Incidents      0    0.000000\nMonth                0    0.000000\nHour                 0    0.000000\nYear                 0    0.000000\nOutside              0    0.000000\nSeason_autumn        0    0.000000\nSeason_spring        0    0.000000\nSeason_summer        0    0.000000\nSeason_winter        0    0.000000",
      "text/html": "<div>\n<style scoped>\n    .dataframe tbody tr th:only-of-type {\n        vertical-align: middle;\n    }\n\n    .dataframe tbody tr th {\n        vertical-align: top;\n    }\n\n    .dataframe thead th {\n        text-align: right;\n    }\n</style>\n<table border=\"1\" class=\"dataframe\">\n  <thead>\n    <tr style=\"text-align: right;\">\n      <th></th>\n      <th>Count</th>\n      <th>Proportion</th>\n    </tr>\n  </thead>\n  <tbody>\n    <tr>\n      <th>CrimeDate</th>\n      <td>0</td>\n      <td>0.000000</td>\n    </tr>\n    <tr>\n      <th>Location</th>\n      <td>213</td>\n      <td>0.004032</td>\n    </tr>\n    <tr>\n      <th>Description</th>\n      <td>0</td>\n      <td>0.000000</td>\n    </tr>\n    <tr>\n      <th>Weapon</th>\n      <td>0</td>\n      <td>0.000000</td>\n    </tr>\n    <tr>\n      <th>Post</th>\n      <td>0</td>\n      <td>0.000000</td>\n    </tr>\n    <tr>\n      <th>District</th>\n      <td>0</td>\n      <td>0.000000</td>\n    </tr>\n    <tr>\n      <th>Neighborhood</th>\n      <td>0</td>\n      <td>0.000000</td>\n    </tr>\n    <tr>\n      <th>Longitude</th>\n      <td>0</td>\n      <td>0.000000</td>\n    </tr>\n    <tr>\n      <th>Latitude</th>\n      <td>0</td>\n      <td>0.000000</td>\n    </tr>\n    <tr>\n      <th>Location 1</th>\n      <td>0</td>\n      <td>0.000000</td>\n    </tr>\n    <tr>\n      <th>Premise</th>\n      <td>0</td>\n      <td>0.000000</td>\n    </tr>\n    <tr>\n      <th>Total Incidents</th>\n      <td>0</td>\n      <td>0.000000</td>\n    </tr>\n    <tr>\n      <th>Month</th>\n      <td>0</td>\n      <td>0.000000</td>\n    </tr>\n    <tr>\n      <th>Hour</th>\n      <td>0</td>\n      <td>0.000000</td>\n    </tr>\n    <tr>\n      <th>Year</th>\n      <td>0</td>\n      <td>0.000000</td>\n    </tr>\n    <tr>\n      <th>Outside</th>\n      <td>0</td>\n      <td>0.000000</td>\n    </tr>\n    <tr>\n      <th>Season_autumn</th>\n      <td>0</td>\n      <td>0.000000</td>\n    </tr>\n    <tr>\n      <th>Season_spring</th>\n      <td>0</td>\n      <td>0.000000</td>\n    </tr>\n    <tr>\n      <th>Season_summer</th>\n      <td>0</td>\n      <td>0.000000</td>\n    </tr>\n    <tr>\n      <th>Season_winter</th>\n      <td>0</td>\n      <td>0.000000</td>\n    </tr>\n  </tbody>\n</table>\n</div>"
     },
     "execution_count": 60,
     "metadata": {},
     "output_type": "execute_result"
    }
   ],
   "source": [
    "null_count = df.isnull().sum()\n",
    "null_prop = null_count / len(df)\n",
    "pd.DataFrame({\n",
    "    'Count': null_count,\n",
    "    'Proportion': null_prop})\n"
   ],
   "metadata": {
    "collapsed": false,
    "pycharm": {
     "name": "#%%\n"
    }
   }
  },
  {
   "cell_type": "markdown",
   "source": [
    "Drop location as we don't need\n"
   ],
   "metadata": {
    "collapsed": false,
    "pycharm": {
     "name": "#%% md\n"
    }
   }
  },
  {
   "cell_type": "code",
   "execution_count": 61,
   "outputs": [],
   "source": [
    "df = df.drop(columns=[\"Location\"])\n"
   ],
   "metadata": {
    "collapsed": false,
    "pycharm": {
     "name": "#%%\n"
    }
   }
  },
  {
   "cell_type": "code",
   "execution_count": 62,
   "outputs": [
    {
     "data": {
      "text/plain": "   CrimeDate       Description Weapon   Post   District  \\\n1 2018-12-30           LARCENY   NONE  523.0   NORTHERN   \n2 2018-12-29          BURGLARY   NONE  123.0    CENTRAL   \n3 2018-12-29  ROBBERY - STREET   NONE  441.0  NORTHEAST   \n4 2018-12-28          BURGLARY   NONE  942.0   SOUTHERN   \n5 2018-12-28        AUTO THEFT   NONE  613.0  NORTHWEST   \n\n              Neighborhood  Longitude  Latitude          Location 1  \\\n1                 Homeland    39.3556  -76.6099  (39.3556,-76.6099)   \n2                    Upton    39.3011  -76.6276  (39.3011,-76.6276)   \n3  Pulaski Industrial Area    39.3039  -76.5408  (39.3039,-76.5408)   \n4                Riverside    39.2736  -76.6118  (39.2736,-76.6118)   \n5          Langston Hughes    39.3438  -76.6777  (39.3438,-76.6777)   \n\n                Premise  Total Incidents  Month  Hour  Year  Outside  \\\n1  STREET                              1     12     0  2018        1   \n2     ROW/TOWNHOUSE-OCC                1     12     0  2018        0   \n3  HOTEL/MOTEL                         1     12     0  2018        0   \n4  OTHER - INSIDE                      1     12     0  2018        0   \n5  STREET                              1     12     0  2018        1   \n\n   Season_autumn  Season_spring  Season_summer  Season_winter  \n1              0              0              0              1  \n2              0              0              0              1  \n3              0              0              0              1  \n4              0              0              0              1  \n5              0              0              0              1  ",
      "text/html": "<div>\n<style scoped>\n    .dataframe tbody tr th:only-of-type {\n        vertical-align: middle;\n    }\n\n    .dataframe tbody tr th {\n        vertical-align: top;\n    }\n\n    .dataframe thead th {\n        text-align: right;\n    }\n</style>\n<table border=\"1\" class=\"dataframe\">\n  <thead>\n    <tr style=\"text-align: right;\">\n      <th></th>\n      <th>CrimeDate</th>\n      <th>Description</th>\n      <th>Weapon</th>\n      <th>Post</th>\n      <th>District</th>\n      <th>Neighborhood</th>\n      <th>Longitude</th>\n      <th>Latitude</th>\n      <th>Location 1</th>\n      <th>Premise</th>\n      <th>Total Incidents</th>\n      <th>Month</th>\n      <th>Hour</th>\n      <th>Year</th>\n      <th>Outside</th>\n      <th>Season_autumn</th>\n      <th>Season_spring</th>\n      <th>Season_summer</th>\n      <th>Season_winter</th>\n    </tr>\n  </thead>\n  <tbody>\n    <tr>\n      <th>1</th>\n      <td>2018-12-30</td>\n      <td>LARCENY</td>\n      <td>NONE</td>\n      <td>523.0</td>\n      <td>NORTHERN</td>\n      <td>Homeland</td>\n      <td>39.3556</td>\n      <td>-76.6099</td>\n      <td>(39.3556,-76.6099)</td>\n      <td>STREET</td>\n      <td>1</td>\n      <td>12</td>\n      <td>0</td>\n      <td>2018</td>\n      <td>1</td>\n      <td>0</td>\n      <td>0</td>\n      <td>0</td>\n      <td>1</td>\n    </tr>\n    <tr>\n      <th>2</th>\n      <td>2018-12-29</td>\n      <td>BURGLARY</td>\n      <td>NONE</td>\n      <td>123.0</td>\n      <td>CENTRAL</td>\n      <td>Upton</td>\n      <td>39.3011</td>\n      <td>-76.6276</td>\n      <td>(39.3011,-76.6276)</td>\n      <td>ROW/TOWNHOUSE-OCC</td>\n      <td>1</td>\n      <td>12</td>\n      <td>0</td>\n      <td>2018</td>\n      <td>0</td>\n      <td>0</td>\n      <td>0</td>\n      <td>0</td>\n      <td>1</td>\n    </tr>\n    <tr>\n      <th>3</th>\n      <td>2018-12-29</td>\n      <td>ROBBERY - STREET</td>\n      <td>NONE</td>\n      <td>441.0</td>\n      <td>NORTHEAST</td>\n      <td>Pulaski Industrial Area</td>\n      <td>39.3039</td>\n      <td>-76.5408</td>\n      <td>(39.3039,-76.5408)</td>\n      <td>HOTEL/MOTEL</td>\n      <td>1</td>\n      <td>12</td>\n      <td>0</td>\n      <td>2018</td>\n      <td>0</td>\n      <td>0</td>\n      <td>0</td>\n      <td>0</td>\n      <td>1</td>\n    </tr>\n    <tr>\n      <th>4</th>\n      <td>2018-12-28</td>\n      <td>BURGLARY</td>\n      <td>NONE</td>\n      <td>942.0</td>\n      <td>SOUTHERN</td>\n      <td>Riverside</td>\n      <td>39.2736</td>\n      <td>-76.6118</td>\n      <td>(39.2736,-76.6118)</td>\n      <td>OTHER - INSIDE</td>\n      <td>1</td>\n      <td>12</td>\n      <td>0</td>\n      <td>2018</td>\n      <td>0</td>\n      <td>0</td>\n      <td>0</td>\n      <td>0</td>\n      <td>1</td>\n    </tr>\n    <tr>\n      <th>5</th>\n      <td>2018-12-28</td>\n      <td>AUTO THEFT</td>\n      <td>NONE</td>\n      <td>613.0</td>\n      <td>NORTHWEST</td>\n      <td>Langston Hughes</td>\n      <td>39.3438</td>\n      <td>-76.6777</td>\n      <td>(39.3438,-76.6777)</td>\n      <td>STREET</td>\n      <td>1</td>\n      <td>12</td>\n      <td>0</td>\n      <td>2018</td>\n      <td>1</td>\n      <td>0</td>\n      <td>0</td>\n      <td>0</td>\n      <td>1</td>\n    </tr>\n  </tbody>\n</table>\n</div>"
     },
     "execution_count": 62,
     "metadata": {},
     "output_type": "execute_result"
    }
   ],
   "source": [
    "df.head()\n"
   ],
   "metadata": {
    "collapsed": false,
    "pycharm": {
     "name": "#%%\n"
    }
   }
  },
  {
   "cell_type": "code",
   "execution_count": 63,
   "outputs": [],
   "source": [
    "df = df.drop(columns=[\"Location 1\"])\n"
   ],
   "metadata": {
    "collapsed": false,
    "pycharm": {
     "name": "#%%\n"
    }
   }
  },
  {
   "cell_type": "code",
   "execution_count": 64,
   "outputs": [],
   "source": [
    "df = df.drop(columns=[\"Total Incidents\"])\n"
   ],
   "metadata": {
    "collapsed": false,
    "pycharm": {
     "name": "#%%\n"
    }
   }
  },
  {
   "cell_type": "code",
   "execution_count": 65,
   "outputs": [
    {
     "data": {
      "text/plain": "   CrimeDate       Description Weapon   Post   District  \\\n1 2018-12-30           LARCENY   NONE  523.0   NORTHERN   \n2 2018-12-29          BURGLARY   NONE  123.0    CENTRAL   \n3 2018-12-29  ROBBERY - STREET   NONE  441.0  NORTHEAST   \n4 2018-12-28          BURGLARY   NONE  942.0   SOUTHERN   \n5 2018-12-28        AUTO THEFT   NONE  613.0  NORTHWEST   \n\n              Neighborhood  Longitude  Latitude               Premise  Month  \\\n1                 Homeland    39.3556  -76.6099  STREET                   12   \n2                    Upton    39.3011  -76.6276     ROW/TOWNHOUSE-OCC     12   \n3  Pulaski Industrial Area    39.3039  -76.5408  HOTEL/MOTEL              12   \n4                Riverside    39.2736  -76.6118  OTHER - INSIDE           12   \n5          Langston Hughes    39.3438  -76.6777  STREET                   12   \n\n   Hour  Year  Outside  Season_autumn  Season_spring  Season_summer  \\\n1     0  2018        1              0              0              0   \n2     0  2018        0              0              0              0   \n3     0  2018        0              0              0              0   \n4     0  2018        0              0              0              0   \n5     0  2018        1              0              0              0   \n\n   Season_winter  \n1              1  \n2              1  \n3              1  \n4              1  \n5              1  ",
      "text/html": "<div>\n<style scoped>\n    .dataframe tbody tr th:only-of-type {\n        vertical-align: middle;\n    }\n\n    .dataframe tbody tr th {\n        vertical-align: top;\n    }\n\n    .dataframe thead th {\n        text-align: right;\n    }\n</style>\n<table border=\"1\" class=\"dataframe\">\n  <thead>\n    <tr style=\"text-align: right;\">\n      <th></th>\n      <th>CrimeDate</th>\n      <th>Description</th>\n      <th>Weapon</th>\n      <th>Post</th>\n      <th>District</th>\n      <th>Neighborhood</th>\n      <th>Longitude</th>\n      <th>Latitude</th>\n      <th>Premise</th>\n      <th>Month</th>\n      <th>Hour</th>\n      <th>Year</th>\n      <th>Outside</th>\n      <th>Season_autumn</th>\n      <th>Season_spring</th>\n      <th>Season_summer</th>\n      <th>Season_winter</th>\n    </tr>\n  </thead>\n  <tbody>\n    <tr>\n      <th>1</th>\n      <td>2018-12-30</td>\n      <td>LARCENY</td>\n      <td>NONE</td>\n      <td>523.0</td>\n      <td>NORTHERN</td>\n      <td>Homeland</td>\n      <td>39.3556</td>\n      <td>-76.6099</td>\n      <td>STREET</td>\n      <td>12</td>\n      <td>0</td>\n      <td>2018</td>\n      <td>1</td>\n      <td>0</td>\n      <td>0</td>\n      <td>0</td>\n      <td>1</td>\n    </tr>\n    <tr>\n      <th>2</th>\n      <td>2018-12-29</td>\n      <td>BURGLARY</td>\n      <td>NONE</td>\n      <td>123.0</td>\n      <td>CENTRAL</td>\n      <td>Upton</td>\n      <td>39.3011</td>\n      <td>-76.6276</td>\n      <td>ROW/TOWNHOUSE-OCC</td>\n      <td>12</td>\n      <td>0</td>\n      <td>2018</td>\n      <td>0</td>\n      <td>0</td>\n      <td>0</td>\n      <td>0</td>\n      <td>1</td>\n    </tr>\n    <tr>\n      <th>3</th>\n      <td>2018-12-29</td>\n      <td>ROBBERY - STREET</td>\n      <td>NONE</td>\n      <td>441.0</td>\n      <td>NORTHEAST</td>\n      <td>Pulaski Industrial Area</td>\n      <td>39.3039</td>\n      <td>-76.5408</td>\n      <td>HOTEL/MOTEL</td>\n      <td>12</td>\n      <td>0</td>\n      <td>2018</td>\n      <td>0</td>\n      <td>0</td>\n      <td>0</td>\n      <td>0</td>\n      <td>1</td>\n    </tr>\n    <tr>\n      <th>4</th>\n      <td>2018-12-28</td>\n      <td>BURGLARY</td>\n      <td>NONE</td>\n      <td>942.0</td>\n      <td>SOUTHERN</td>\n      <td>Riverside</td>\n      <td>39.2736</td>\n      <td>-76.6118</td>\n      <td>OTHER - INSIDE</td>\n      <td>12</td>\n      <td>0</td>\n      <td>2018</td>\n      <td>0</td>\n      <td>0</td>\n      <td>0</td>\n      <td>0</td>\n      <td>1</td>\n    </tr>\n    <tr>\n      <th>5</th>\n      <td>2018-12-28</td>\n      <td>AUTO THEFT</td>\n      <td>NONE</td>\n      <td>613.0</td>\n      <td>NORTHWEST</td>\n      <td>Langston Hughes</td>\n      <td>39.3438</td>\n      <td>-76.6777</td>\n      <td>STREET</td>\n      <td>12</td>\n      <td>0</td>\n      <td>2018</td>\n      <td>1</td>\n      <td>0</td>\n      <td>0</td>\n      <td>0</td>\n      <td>1</td>\n    </tr>\n  </tbody>\n</table>\n</div>"
     },
     "execution_count": 65,
     "metadata": {},
     "output_type": "execute_result"
    }
   ],
   "source": [
    "df.head()"
   ],
   "metadata": {
    "collapsed": false,
    "pycharm": {
     "name": "#%%\n"
    }
   }
  },
  {
   "cell_type": "code",
   "execution_count": 66,
   "outputs": [],
   "source": [
    "df['Premise'] = df['Premise'].str.upper()\n",
    "df['Neighborhood'] = df['Neighborhood'].str.upper()"
   ],
   "metadata": {
    "collapsed": false,
    "pycharm": {
     "name": "#%%\n"
    }
   }
  },
  {
   "cell_type": "code",
   "execution_count": 67,
   "outputs": [
    {
     "data": {
      "text/plain": "LARCENY                 11303\nCOMMON ASSAULT           8780\nBURGLARY                 7478\nLARCENY FROM AUTO        6407\nAGG. ASSAULT             5880\nAUTO THEFT               4904\nROBBERY - STREET         4133\nROBBERY - COMMERCIAL     1034\nSHOOTING                  916\nROBBERY - RESIDENCE       563\nROBBERY - CARJACKING      537\nHOMICIDE                  405\nRAPE                      332\nARSON                     152\nName: Description, dtype: int64"
     },
     "execution_count": 67,
     "metadata": {},
     "output_type": "execute_result"
    }
   ],
   "source": [
    "df[\"Description\"].value_counts()"
   ],
   "metadata": {
    "collapsed": false,
    "pycharm": {
     "name": "#%%\n"
    }
   }
  },
  {
   "cell_type": "code",
   "execution_count": 68,
   "outputs": [],
   "source": [
    "df['Description'] = df['Description'].replace('RAPE', 'SEXUAL ASSAULT')"
   ],
   "metadata": {
    "collapsed": false,
    "pycharm": {
     "name": "#%%\n"
    }
   }
  },
  {
   "cell_type": "code",
   "execution_count": 69,
   "outputs": [],
   "source": [
    "df = pd.get_dummies(df, columns=[\"Weapon\"])\n"
   ],
   "metadata": {
    "collapsed": false,
    "pycharm": {
     "name": "#%%\n"
    }
   }
  },
  {
   "cell_type": "code",
   "execution_count": 70,
   "outputs": [
    {
     "data": {
      "text/plain": "   CrimeDate       Description   Post   District             Neighborhood  \\\n1 2018-12-30           LARCENY  523.0   NORTHERN                 HOMELAND   \n2 2018-12-29          BURGLARY  123.0    CENTRAL                    UPTON   \n3 2018-12-29  ROBBERY - STREET  441.0  NORTHEAST  PULASKI INDUSTRIAL AREA   \n4 2018-12-28          BURGLARY  942.0   SOUTHERN                RIVERSIDE   \n5 2018-12-28        AUTO THEFT  613.0  NORTHWEST          LANGSTON HUGHES   \n\n   Longitude  Latitude               Premise  Month  Hour  ...  Season_autumn  \\\n1    39.3556  -76.6099  STREET                   12     0  ...              0   \n2    39.3011  -76.6276     ROW/TOWNHOUSE-OCC     12     0  ...              0   \n3    39.3039  -76.5408  HOTEL/MOTEL              12     0  ...              0   \n4    39.2736  -76.6118  OTHER - INSIDE           12     0  ...              0   \n5    39.3438  -76.6777  STREET                   12     0  ...              0   \n\n   Season_spring  Season_summer  Season_winter  Weapon_FIRE  Weapon_FIREARM  \\\n1              0              0              1            0               0   \n2              0              0              1            0               0   \n3              0              0              1            0               0   \n4              0              0              1            0               0   \n5              0              0              1            0               0   \n\n   Weapon_HANDS  Weapon_KNIFE  Weapon_NONE  Weapon_OTHER  \n1             0             0            1             0  \n2             0             0            1             0  \n3             0             0            1             0  \n4             0             0            1             0  \n5             0             0            1             0  \n\n[5 rows x 22 columns]",
      "text/html": "<div>\n<style scoped>\n    .dataframe tbody tr th:only-of-type {\n        vertical-align: middle;\n    }\n\n    .dataframe tbody tr th {\n        vertical-align: top;\n    }\n\n    .dataframe thead th {\n        text-align: right;\n    }\n</style>\n<table border=\"1\" class=\"dataframe\">\n  <thead>\n    <tr style=\"text-align: right;\">\n      <th></th>\n      <th>CrimeDate</th>\n      <th>Description</th>\n      <th>Post</th>\n      <th>District</th>\n      <th>Neighborhood</th>\n      <th>Longitude</th>\n      <th>Latitude</th>\n      <th>Premise</th>\n      <th>Month</th>\n      <th>Hour</th>\n      <th>...</th>\n      <th>Season_autumn</th>\n      <th>Season_spring</th>\n      <th>Season_summer</th>\n      <th>Season_winter</th>\n      <th>Weapon_FIRE</th>\n      <th>Weapon_FIREARM</th>\n      <th>Weapon_HANDS</th>\n      <th>Weapon_KNIFE</th>\n      <th>Weapon_NONE</th>\n      <th>Weapon_OTHER</th>\n    </tr>\n  </thead>\n  <tbody>\n    <tr>\n      <th>1</th>\n      <td>2018-12-30</td>\n      <td>LARCENY</td>\n      <td>523.0</td>\n      <td>NORTHERN</td>\n      <td>HOMELAND</td>\n      <td>39.3556</td>\n      <td>-76.6099</td>\n      <td>STREET</td>\n      <td>12</td>\n      <td>0</td>\n      <td>...</td>\n      <td>0</td>\n      <td>0</td>\n      <td>0</td>\n      <td>1</td>\n      <td>0</td>\n      <td>0</td>\n      <td>0</td>\n      <td>0</td>\n      <td>1</td>\n      <td>0</td>\n    </tr>\n    <tr>\n      <th>2</th>\n      <td>2018-12-29</td>\n      <td>BURGLARY</td>\n      <td>123.0</td>\n      <td>CENTRAL</td>\n      <td>UPTON</td>\n      <td>39.3011</td>\n      <td>-76.6276</td>\n      <td>ROW/TOWNHOUSE-OCC</td>\n      <td>12</td>\n      <td>0</td>\n      <td>...</td>\n      <td>0</td>\n      <td>0</td>\n      <td>0</td>\n      <td>1</td>\n      <td>0</td>\n      <td>0</td>\n      <td>0</td>\n      <td>0</td>\n      <td>1</td>\n      <td>0</td>\n    </tr>\n    <tr>\n      <th>3</th>\n      <td>2018-12-29</td>\n      <td>ROBBERY - STREET</td>\n      <td>441.0</td>\n      <td>NORTHEAST</td>\n      <td>PULASKI INDUSTRIAL AREA</td>\n      <td>39.3039</td>\n      <td>-76.5408</td>\n      <td>HOTEL/MOTEL</td>\n      <td>12</td>\n      <td>0</td>\n      <td>...</td>\n      <td>0</td>\n      <td>0</td>\n      <td>0</td>\n      <td>1</td>\n      <td>0</td>\n      <td>0</td>\n      <td>0</td>\n      <td>0</td>\n      <td>1</td>\n      <td>0</td>\n    </tr>\n    <tr>\n      <th>4</th>\n      <td>2018-12-28</td>\n      <td>BURGLARY</td>\n      <td>942.0</td>\n      <td>SOUTHERN</td>\n      <td>RIVERSIDE</td>\n      <td>39.2736</td>\n      <td>-76.6118</td>\n      <td>OTHER - INSIDE</td>\n      <td>12</td>\n      <td>0</td>\n      <td>...</td>\n      <td>0</td>\n      <td>0</td>\n      <td>0</td>\n      <td>1</td>\n      <td>0</td>\n      <td>0</td>\n      <td>0</td>\n      <td>0</td>\n      <td>1</td>\n      <td>0</td>\n    </tr>\n    <tr>\n      <th>5</th>\n      <td>2018-12-28</td>\n      <td>AUTO THEFT</td>\n      <td>613.0</td>\n      <td>NORTHWEST</td>\n      <td>LANGSTON HUGHES</td>\n      <td>39.3438</td>\n      <td>-76.6777</td>\n      <td>STREET</td>\n      <td>12</td>\n      <td>0</td>\n      <td>...</td>\n      <td>0</td>\n      <td>0</td>\n      <td>0</td>\n      <td>1</td>\n      <td>0</td>\n      <td>0</td>\n      <td>0</td>\n      <td>0</td>\n      <td>1</td>\n      <td>0</td>\n    </tr>\n  </tbody>\n</table>\n<p>5 rows × 22 columns</p>\n</div>"
     },
     "execution_count": 70,
     "metadata": {},
     "output_type": "execute_result"
    }
   ],
   "source": [
    "df.head()\n"
   ],
   "metadata": {
    "collapsed": false,
    "pycharm": {
     "name": "#%%\n"
    }
   }
  },
  {
   "cell_type": "code",
   "execution_count": 71,
   "outputs": [
    {
     "data": {
      "text/plain": "NORTHEAST    7909\nSOUTHEAST    7183\nCENTRAL      6053\nSOUTHWEST    5994\nSOUTHERN     5864\nNORTHERN     5420\nNORTHWEST    5400\nEASTERN      4754\nWESTERN      4247\nName: District, dtype: int64"
     },
     "execution_count": 71,
     "metadata": {},
     "output_type": "execute_result"
    }
   ],
   "source": [
    "df[\"District\"].value_counts()\n"
   ],
   "metadata": {
    "collapsed": false,
    "pycharm": {
     "name": "#%%\n"
    }
   }
  },
  {
   "cell_type": "code",
   "execution_count": 72,
   "outputs": [],
   "source": [
    "df['Premise'] = df['Premise'].replace('GARAGE ON', 'SHED/GARAGE')\n",
    "df['Premise'] = df['Premise'].replace('APT. LOCKE', 'APARTMENT')\n",
    "df['Premise'] = df['Premise'].replace('APT/CONDO', 'APARTMENT')\n",
    "df['Premise'] = df['Premise'].replace('COMMON BUS', 'BUS/AUTO')\n",
    "df['Premise'] = df['Premise'].replace('HOSP/NURS.', 'HOSPITAL')\n",
    "df['Premise'] = df['Premise'].replace('VEHICLE', 'BUS/AUTO')\n",
    "df['Premise'] = df['Premise'].replace('PRIVATE SC', 'SCHOOL')\n",
    "df['Premise'] = df['Premise'].replace('PUBLIC SCH', 'SCHOOL')\n",
    "df['Premise'] = df['Premise'].replace('TAVERN/NIG', 'BAR')\n",
    "df['Premise'] = df['Premise'].replace('RAILROAD C', 'BUS/RAILRO')\n",
    "df['Premise'] = df['Premise'].replace('COMMON BUS', 'BUS/AUTO')\n",
    "df['Premise'] = df['Premise'].replace('CHURCH', 'RELIGIOUS')\n",
    "df['Premise'] = df['Premise'].replace('ARENA', 'STADIUM')\n",
    "df['Premise'] = df['Premise'].replace('YARD/BUSIN', 'YARD')\n",
    "df['Premise'] = df['Premise'].replace('PIZZA/OTHE', 'RESTAURANT')\n",
    "df['Premise'] = df['Premise'].replace('DAY CARE F', 'SCHOOL PLA')\n",
    "df['Premise'] = df['Premise'].replace('MANUFACTUR', 'WAREHOUSE')\n",
    "df['Premise'] = df['Premise'].replace('MOBILE HOM', 'DWELLING')\n",
    "df['Premise'] = df['Premise'].replace('BOX CARS/C', 'BUS/RAILRO')\n",
    "df['Premise'] = df['Premise'].replace('PHOTO STUD', 'RETAIL/SMA')\n",
    "df['Premise'] = df['Premise'].replace('TRUCKING &', 'TRACTOR TR')\n",
    "df['Premise'] = df['Premise'].replace('SKYWALK', 'PUBLIC ARE')\n",
    "df['Premise'] = df['Premise'].replace('FINANCE/LO', 'BANK/FINAN')\n",
    "df['Premise'] = df['Premise'].replace('STRUCTURE-', 'UNKNOWN')\n",
    "df['Premise'] = df['Premise'].replace('BLDG UNDER', 'CONSTRUCTI')\n",
    "df['Premise'] = df['Premise'].replace('HOUSE UNDE', 'CONSTRUCTI')\n",
    "df['Premise'] = df['Premise'].replace('MAILBOX-ST', 'STREET')\n",
    "df['Premise'] = df['Premise'].replace('RENTAL/VID', 'RETAIL/SMA')\n"
   ],
   "metadata": {
    "collapsed": false,
    "pycharm": {
     "name": "#%%\n"
    }
   }
  },
  {
   "cell_type": "code",
   "execution_count": 73,
   "outputs": [],
   "source": [
    "df['Neighborhood'] = df['Neighborhood'].replace('PATTERSON PARK NEIGHBORHO', 'PATTERSON PARK')"
   ],
   "metadata": {
    "collapsed": false,
    "pycharm": {
     "name": "#%%\n"
    }
   }
  },
  {
   "cell_type": "code",
   "execution_count": 74,
   "outputs": [],
   "source": [
    "from pandas.tseries.holiday import USFederalHolidayCalendar\n",
    "calendar = USFederalHolidayCalendar()\n",
    "#df.CrimeDate = pd.to_datetime(df.CrimeDate)\n",
    "\n",
    "dr = pd.date_range(start='2017-09-03', end='2018-12-31')\n",
    "holidays = calendar.holidays(start=dr.min(), end=dr.max())\n",
    "df['Holiday'] = df['CrimeDate'].isin(holidays)\n",
    "df['Holiday'] = df['Holiday'].replace(False, 0)\n",
    "df['Holiday'] = df['Holiday'].replace(True, 1)\n",
    "\n",
    "df[\"Weekday\"] = pd.to_datetime(df[\"CrimeDate\"]).dt.dayofweek\n",
    "df[\"Weekend\"] = (df[\"Weekday\"] > 4).astype(int)\n",
    "df = df.drop(columns=[\"Weekday\"])"
   ],
   "metadata": {
    "collapsed": false,
    "pycharm": {
     "name": "#%%\n"
    }
   }
  },
  {
   "cell_type": "code",
   "execution_count": 75,
   "outputs": [
    {
     "data": {
      "text/plain": "   CrimeDate       Description   Post   District             Neighborhood  \\\n1 2018-12-30           LARCENY  523.0   NORTHERN                 HOMELAND   \n2 2018-12-29          BURGLARY  123.0    CENTRAL                    UPTON   \n3 2018-12-29  ROBBERY - STREET  441.0  NORTHEAST  PULASKI INDUSTRIAL AREA   \n4 2018-12-28          BURGLARY  942.0   SOUTHERN                RIVERSIDE   \n5 2018-12-28        AUTO THEFT  613.0  NORTHWEST          LANGSTON HUGHES   \n\n   Longitude  Latitude               Premise  Month  Hour  ...  Season_summer  \\\n1    39.3556  -76.6099  STREET                   12     0  ...              0   \n2    39.3011  -76.6276     ROW/TOWNHOUSE-OCC     12     0  ...              0   \n3    39.3039  -76.5408  HOTEL/MOTEL              12     0  ...              0   \n4    39.2736  -76.6118  OTHER - INSIDE           12     0  ...              0   \n5    39.3438  -76.6777  STREET                   12     0  ...              0   \n\n   Season_winter  Weapon_FIRE  Weapon_FIREARM  Weapon_HANDS  Weapon_KNIFE  \\\n1              1            0               0             0             0   \n2              1            0               0             0             0   \n3              1            0               0             0             0   \n4              1            0               0             0             0   \n5              1            0               0             0             0   \n\n   Weapon_NONE  Weapon_OTHER  Holiday  Weekend  \n1            1             0        0        1  \n2            1             0        0        1  \n3            1             0        0        1  \n4            1             0        0        0  \n5            1             0        0        0  \n\n[5 rows x 24 columns]",
      "text/html": "<div>\n<style scoped>\n    .dataframe tbody tr th:only-of-type {\n        vertical-align: middle;\n    }\n\n    .dataframe tbody tr th {\n        vertical-align: top;\n    }\n\n    .dataframe thead th {\n        text-align: right;\n    }\n</style>\n<table border=\"1\" class=\"dataframe\">\n  <thead>\n    <tr style=\"text-align: right;\">\n      <th></th>\n      <th>CrimeDate</th>\n      <th>Description</th>\n      <th>Post</th>\n      <th>District</th>\n      <th>Neighborhood</th>\n      <th>Longitude</th>\n      <th>Latitude</th>\n      <th>Premise</th>\n      <th>Month</th>\n      <th>Hour</th>\n      <th>...</th>\n      <th>Season_summer</th>\n      <th>Season_winter</th>\n      <th>Weapon_FIRE</th>\n      <th>Weapon_FIREARM</th>\n      <th>Weapon_HANDS</th>\n      <th>Weapon_KNIFE</th>\n      <th>Weapon_NONE</th>\n      <th>Weapon_OTHER</th>\n      <th>Holiday</th>\n      <th>Weekend</th>\n    </tr>\n  </thead>\n  <tbody>\n    <tr>\n      <th>1</th>\n      <td>2018-12-30</td>\n      <td>LARCENY</td>\n      <td>523.0</td>\n      <td>NORTHERN</td>\n      <td>HOMELAND</td>\n      <td>39.3556</td>\n      <td>-76.6099</td>\n      <td>STREET</td>\n      <td>12</td>\n      <td>0</td>\n      <td>...</td>\n      <td>0</td>\n      <td>1</td>\n      <td>0</td>\n      <td>0</td>\n      <td>0</td>\n      <td>0</td>\n      <td>1</td>\n      <td>0</td>\n      <td>0</td>\n      <td>1</td>\n    </tr>\n    <tr>\n      <th>2</th>\n      <td>2018-12-29</td>\n      <td>BURGLARY</td>\n      <td>123.0</td>\n      <td>CENTRAL</td>\n      <td>UPTON</td>\n      <td>39.3011</td>\n      <td>-76.6276</td>\n      <td>ROW/TOWNHOUSE-OCC</td>\n      <td>12</td>\n      <td>0</td>\n      <td>...</td>\n      <td>0</td>\n      <td>1</td>\n      <td>0</td>\n      <td>0</td>\n      <td>0</td>\n      <td>0</td>\n      <td>1</td>\n      <td>0</td>\n      <td>0</td>\n      <td>1</td>\n    </tr>\n    <tr>\n      <th>3</th>\n      <td>2018-12-29</td>\n      <td>ROBBERY - STREET</td>\n      <td>441.0</td>\n      <td>NORTHEAST</td>\n      <td>PULASKI INDUSTRIAL AREA</td>\n      <td>39.3039</td>\n      <td>-76.5408</td>\n      <td>HOTEL/MOTEL</td>\n      <td>12</td>\n      <td>0</td>\n      <td>...</td>\n      <td>0</td>\n      <td>1</td>\n      <td>0</td>\n      <td>0</td>\n      <td>0</td>\n      <td>0</td>\n      <td>1</td>\n      <td>0</td>\n      <td>0</td>\n      <td>1</td>\n    </tr>\n    <tr>\n      <th>4</th>\n      <td>2018-12-28</td>\n      <td>BURGLARY</td>\n      <td>942.0</td>\n      <td>SOUTHERN</td>\n      <td>RIVERSIDE</td>\n      <td>39.2736</td>\n      <td>-76.6118</td>\n      <td>OTHER - INSIDE</td>\n      <td>12</td>\n      <td>0</td>\n      <td>...</td>\n      <td>0</td>\n      <td>1</td>\n      <td>0</td>\n      <td>0</td>\n      <td>0</td>\n      <td>0</td>\n      <td>1</td>\n      <td>0</td>\n      <td>0</td>\n      <td>0</td>\n    </tr>\n    <tr>\n      <th>5</th>\n      <td>2018-12-28</td>\n      <td>AUTO THEFT</td>\n      <td>613.0</td>\n      <td>NORTHWEST</td>\n      <td>LANGSTON HUGHES</td>\n      <td>39.3438</td>\n      <td>-76.6777</td>\n      <td>STREET</td>\n      <td>12</td>\n      <td>0</td>\n      <td>...</td>\n      <td>0</td>\n      <td>1</td>\n      <td>0</td>\n      <td>0</td>\n      <td>0</td>\n      <td>0</td>\n      <td>1</td>\n      <td>0</td>\n      <td>0</td>\n      <td>0</td>\n    </tr>\n  </tbody>\n</table>\n<p>5 rows × 24 columns</p>\n</div>"
     },
     "execution_count": 75,
     "metadata": {},
     "output_type": "execute_result"
    }
   ],
   "source": [
    "df.head()"
   ],
   "metadata": {
    "collapsed": false,
    "pycharm": {
     "name": "#%%\n"
    }
   }
  },
  {
   "cell_type": "code",
   "execution_count": 76,
   "outputs": [],
   "source": [
    "Description = pd.read_csv(\"../data/V2_Description_decoder.csv\", header=None)"
   ],
   "metadata": {
    "collapsed": false,
    "pycharm": {
     "name": "#%%\n"
    }
   }
  },
  {
   "cell_type": "code",
   "execution_count": 77,
   "outputs": [
    {
     "data": {
      "text/plain": "                       0   1\n0           AGG. ASSAULT   0\n1                  ARSON   1\n2      ASSAULT BY THREAT   2\n3             AUTO THEFT   3\n4               BURGLARY   4\n5         COMMON ASSAULT   5\n6               HOMICIDE   6\n7                LARCENY   7\n8      LARCENY FROM AUTO   8\n9   ROBBERY - CARJACKING   9\n10  ROBBERY - COMMERCIAL  10\n11   ROBBERY - RESIDENCE  11\n12      ROBBERY - STREET  12\n13        SEXUAL ASSAULT  13\n14              SHOOTING  14",
      "text/html": "<div>\n<style scoped>\n    .dataframe tbody tr th:only-of-type {\n        vertical-align: middle;\n    }\n\n    .dataframe tbody tr th {\n        vertical-align: top;\n    }\n\n    .dataframe thead th {\n        text-align: right;\n    }\n</style>\n<table border=\"1\" class=\"dataframe\">\n  <thead>\n    <tr style=\"text-align: right;\">\n      <th></th>\n      <th>0</th>\n      <th>1</th>\n    </tr>\n  </thead>\n  <tbody>\n    <tr>\n      <th>0</th>\n      <td>AGG. ASSAULT</td>\n      <td>0</td>\n    </tr>\n    <tr>\n      <th>1</th>\n      <td>ARSON</td>\n      <td>1</td>\n    </tr>\n    <tr>\n      <th>2</th>\n      <td>ASSAULT BY THREAT</td>\n      <td>2</td>\n    </tr>\n    <tr>\n      <th>3</th>\n      <td>AUTO THEFT</td>\n      <td>3</td>\n    </tr>\n    <tr>\n      <th>4</th>\n      <td>BURGLARY</td>\n      <td>4</td>\n    </tr>\n    <tr>\n      <th>5</th>\n      <td>COMMON ASSAULT</td>\n      <td>5</td>\n    </tr>\n    <tr>\n      <th>6</th>\n      <td>HOMICIDE</td>\n      <td>6</td>\n    </tr>\n    <tr>\n      <th>7</th>\n      <td>LARCENY</td>\n      <td>7</td>\n    </tr>\n    <tr>\n      <th>8</th>\n      <td>LARCENY FROM AUTO</td>\n      <td>8</td>\n    </tr>\n    <tr>\n      <th>9</th>\n      <td>ROBBERY - CARJACKING</td>\n      <td>9</td>\n    </tr>\n    <tr>\n      <th>10</th>\n      <td>ROBBERY - COMMERCIAL</td>\n      <td>10</td>\n    </tr>\n    <tr>\n      <th>11</th>\n      <td>ROBBERY - RESIDENCE</td>\n      <td>11</td>\n    </tr>\n    <tr>\n      <th>12</th>\n      <td>ROBBERY - STREET</td>\n      <td>12</td>\n    </tr>\n    <tr>\n      <th>13</th>\n      <td>SEXUAL ASSAULT</td>\n      <td>13</td>\n    </tr>\n    <tr>\n      <th>14</th>\n      <td>SHOOTING</td>\n      <td>14</td>\n    </tr>\n  </tbody>\n</table>\n</div>"
     },
     "execution_count": 77,
     "metadata": {},
     "output_type": "execute_result"
    }
   ],
   "source": [
    "Description"
   ],
   "metadata": {
    "collapsed": false,
    "pycharm": {
     "name": "#%%\n"
    }
   }
  },
  {
   "cell_type": "markdown",
   "source": [
    "Drop weapon FIRE"
   ],
   "metadata": {
    "collapsed": false,
    "pycharm": {
     "name": "#%% md\n"
    }
   }
  },
  {
   "cell_type": "code",
   "execution_count": 78,
   "outputs": [],
   "source": [
    "df = df.drop(columns=\"Weapon_FIRE\")\n"
   ],
   "metadata": {
    "collapsed": false,
    "pycharm": {
     "name": "#%%\n"
    }
   }
  },
  {
   "cell_type": "code",
   "execution_count": 79,
   "outputs": [],
   "source": [
    "from sklearn.preprocessing import LabelEncoder\n"
   ],
   "metadata": {
    "collapsed": false,
    "pycharm": {
     "name": "#%%\n"
    }
   }
  },
  {
   "cell_type": "code",
   "execution_count": 80,
   "outputs": [],
   "source": [
    "le = LabelEncoder()\n"
   ],
   "metadata": {
    "collapsed": false,
    "pycharm": {
     "name": "#%%\n"
    }
   }
  },
  {
   "cell_type": "code",
   "execution_count": 81,
   "outputs": [
    {
     "data": {
      "text/plain": "LabelEncoder()"
     },
     "execution_count": 81,
     "metadata": {},
     "output_type": "execute_result"
    }
   ],
   "source": [
    "le.fit(Description[0])"
   ],
   "metadata": {
    "collapsed": false,
    "pycharm": {
     "name": "#%%\n"
    }
   }
  },
  {
   "cell_type": "code",
   "execution_count": 82,
   "outputs": [
    {
     "data": {
      "text/plain": "array(['AGG. ASSAULT', 'ARSON', 'ASSAULT BY THREAT', 'AUTO THEFT',\n       'BURGLARY', 'COMMON ASSAULT', 'HOMICIDE', 'LARCENY',\n       'LARCENY FROM AUTO', 'ROBBERY - CARJACKING',\n       'ROBBERY - COMMERCIAL', 'ROBBERY - RESIDENCE', 'ROBBERY - STREET',\n       'SEXUAL ASSAULT', 'SHOOTING'], dtype=object)"
     },
     "execution_count": 82,
     "metadata": {},
     "output_type": "execute_result"
    }
   ],
   "source": [
    "le.classes_\n"
   ],
   "metadata": {
    "collapsed": false,
    "pycharm": {
     "name": "#%%\n"
    }
   }
  },
  {
   "cell_type": "code",
   "execution_count": 83,
   "outputs": [],
   "source": [
    "df[\"Description\"]=le.transform(df[\"Description\"])\n"
   ],
   "metadata": {
    "collapsed": false,
    "pycharm": {
     "name": "#%%\n"
    }
   }
  },
  {
   "cell_type": "code",
   "execution_count": 84,
   "outputs": [
    {
     "data": {
      "text/plain": "   CrimeDate  Description   Post   District             Neighborhood  \\\n1 2018-12-30            7  523.0   NORTHERN                 HOMELAND   \n2 2018-12-29            4  123.0    CENTRAL                    UPTON   \n3 2018-12-29           12  441.0  NORTHEAST  PULASKI INDUSTRIAL AREA   \n4 2018-12-28            4  942.0   SOUTHERN                RIVERSIDE   \n5 2018-12-28            3  613.0  NORTHWEST          LANGSTON HUGHES   \n\n   Longitude  Latitude               Premise  Month  Hour  ...  Season_spring  \\\n1    39.3556  -76.6099  STREET                   12     0  ...              0   \n2    39.3011  -76.6276     ROW/TOWNHOUSE-OCC     12     0  ...              0   \n3    39.3039  -76.5408  HOTEL/MOTEL              12     0  ...              0   \n4    39.2736  -76.6118  OTHER - INSIDE           12     0  ...              0   \n5    39.3438  -76.6777  STREET                   12     0  ...              0   \n\n   Season_summer  Season_winter  Weapon_FIREARM  Weapon_HANDS  Weapon_KNIFE  \\\n1              0              1               0             0             0   \n2              0              1               0             0             0   \n3              0              1               0             0             0   \n4              0              1               0             0             0   \n5              0              1               0             0             0   \n\n   Weapon_NONE  Weapon_OTHER  Holiday  Weekend  \n1            1             0        0        1  \n2            1             0        0        1  \n3            1             0        0        1  \n4            1             0        0        0  \n5            1             0        0        0  \n\n[5 rows x 23 columns]",
      "text/html": "<div>\n<style scoped>\n    .dataframe tbody tr th:only-of-type {\n        vertical-align: middle;\n    }\n\n    .dataframe tbody tr th {\n        vertical-align: top;\n    }\n\n    .dataframe thead th {\n        text-align: right;\n    }\n</style>\n<table border=\"1\" class=\"dataframe\">\n  <thead>\n    <tr style=\"text-align: right;\">\n      <th></th>\n      <th>CrimeDate</th>\n      <th>Description</th>\n      <th>Post</th>\n      <th>District</th>\n      <th>Neighborhood</th>\n      <th>Longitude</th>\n      <th>Latitude</th>\n      <th>Premise</th>\n      <th>Month</th>\n      <th>Hour</th>\n      <th>...</th>\n      <th>Season_spring</th>\n      <th>Season_summer</th>\n      <th>Season_winter</th>\n      <th>Weapon_FIREARM</th>\n      <th>Weapon_HANDS</th>\n      <th>Weapon_KNIFE</th>\n      <th>Weapon_NONE</th>\n      <th>Weapon_OTHER</th>\n      <th>Holiday</th>\n      <th>Weekend</th>\n    </tr>\n  </thead>\n  <tbody>\n    <tr>\n      <th>1</th>\n      <td>2018-12-30</td>\n      <td>7</td>\n      <td>523.0</td>\n      <td>NORTHERN</td>\n      <td>HOMELAND</td>\n      <td>39.3556</td>\n      <td>-76.6099</td>\n      <td>STREET</td>\n      <td>12</td>\n      <td>0</td>\n      <td>...</td>\n      <td>0</td>\n      <td>0</td>\n      <td>1</td>\n      <td>0</td>\n      <td>0</td>\n      <td>0</td>\n      <td>1</td>\n      <td>0</td>\n      <td>0</td>\n      <td>1</td>\n    </tr>\n    <tr>\n      <th>2</th>\n      <td>2018-12-29</td>\n      <td>4</td>\n      <td>123.0</td>\n      <td>CENTRAL</td>\n      <td>UPTON</td>\n      <td>39.3011</td>\n      <td>-76.6276</td>\n      <td>ROW/TOWNHOUSE-OCC</td>\n      <td>12</td>\n      <td>0</td>\n      <td>...</td>\n      <td>0</td>\n      <td>0</td>\n      <td>1</td>\n      <td>0</td>\n      <td>0</td>\n      <td>0</td>\n      <td>1</td>\n      <td>0</td>\n      <td>0</td>\n      <td>1</td>\n    </tr>\n    <tr>\n      <th>3</th>\n      <td>2018-12-29</td>\n      <td>12</td>\n      <td>441.0</td>\n      <td>NORTHEAST</td>\n      <td>PULASKI INDUSTRIAL AREA</td>\n      <td>39.3039</td>\n      <td>-76.5408</td>\n      <td>HOTEL/MOTEL</td>\n      <td>12</td>\n      <td>0</td>\n      <td>...</td>\n      <td>0</td>\n      <td>0</td>\n      <td>1</td>\n      <td>0</td>\n      <td>0</td>\n      <td>0</td>\n      <td>1</td>\n      <td>0</td>\n      <td>0</td>\n      <td>1</td>\n    </tr>\n    <tr>\n      <th>4</th>\n      <td>2018-12-28</td>\n      <td>4</td>\n      <td>942.0</td>\n      <td>SOUTHERN</td>\n      <td>RIVERSIDE</td>\n      <td>39.2736</td>\n      <td>-76.6118</td>\n      <td>OTHER - INSIDE</td>\n      <td>12</td>\n      <td>0</td>\n      <td>...</td>\n      <td>0</td>\n      <td>0</td>\n      <td>1</td>\n      <td>0</td>\n      <td>0</td>\n      <td>0</td>\n      <td>1</td>\n      <td>0</td>\n      <td>0</td>\n      <td>0</td>\n    </tr>\n    <tr>\n      <th>5</th>\n      <td>2018-12-28</td>\n      <td>3</td>\n      <td>613.0</td>\n      <td>NORTHWEST</td>\n      <td>LANGSTON HUGHES</td>\n      <td>39.3438</td>\n      <td>-76.6777</td>\n      <td>STREET</td>\n      <td>12</td>\n      <td>0</td>\n      <td>...</td>\n      <td>0</td>\n      <td>0</td>\n      <td>1</td>\n      <td>0</td>\n      <td>0</td>\n      <td>0</td>\n      <td>1</td>\n      <td>0</td>\n      <td>0</td>\n      <td>0</td>\n    </tr>\n  </tbody>\n</table>\n<p>5 rows × 23 columns</p>\n</div>"
     },
     "execution_count": 84,
     "metadata": {},
     "output_type": "execute_result"
    }
   ],
   "source": [
    "df.head()"
   ],
   "metadata": {
    "collapsed": false,
    "pycharm": {
     "name": "#%%\n"
    }
   }
  },
  {
   "cell_type": "code",
   "execution_count": 85,
   "outputs": [],
   "source": [
    "District = pd.read_csv(\"../data/V2_District_decoder.csv\", header=None)\n"
   ],
   "metadata": {
    "collapsed": false,
    "pycharm": {
     "name": "#%%\n"
    }
   }
  },
  {
   "cell_type": "code",
   "execution_count": 86,
   "outputs": [
    {
     "data": {
      "text/plain": "LabelEncoder()"
     },
     "execution_count": 86,
     "metadata": {},
     "output_type": "execute_result"
    }
   ],
   "source": [
    "le.fit(District[0])"
   ],
   "metadata": {
    "collapsed": false,
    "pycharm": {
     "name": "#%%\n"
    }
   }
  },
  {
   "cell_type": "code",
   "execution_count": 87,
   "outputs": [],
   "source": [
    "df['District'] = df['District'].replace('NORTHEAST', 'NORTHEASTERN')\n",
    "df['District'] = df['District'].replace('NORTHWEST', 'NORTHWESTERN')"
   ],
   "metadata": {
    "collapsed": false,
    "pycharm": {
     "name": "#%%\n"
    }
   }
  },
  {
   "cell_type": "code",
   "execution_count": 88,
   "outputs": [
    {
     "data": {
      "text/plain": "NORTHEASTERN    7909\nSOUTHEAST       7183\nCENTRAL         6053\nSOUTHWEST       5994\nSOUTHERN        5864\nNORTHERN        5420\nNORTHWESTERN    5400\nEASTERN         4754\nWESTERN         4247\nName: District, dtype: int64"
     },
     "execution_count": 88,
     "metadata": {},
     "output_type": "execute_result"
    }
   ],
   "source": [
    "df[\"District\"].value_counts()"
   ],
   "metadata": {
    "collapsed": false,
    "pycharm": {
     "name": "#%%\n"
    }
   }
  },
  {
   "cell_type": "code",
   "execution_count": 89,
   "outputs": [
    {
     "data": {
      "text/plain": "              0  1\n0       CENTRAL  0\n1       EASTERN  1\n2  NORTHEASTERN  2\n3      NORTHERN  3\n4  NORTHWESTERN  4\n5  SOUTHEASTERN  5\n6      SOUTHERN  6\n7  SOUTHWESTERN  7\n8       WESTERN  8",
      "text/html": "<div>\n<style scoped>\n    .dataframe tbody tr th:only-of-type {\n        vertical-align: middle;\n    }\n\n    .dataframe tbody tr th {\n        vertical-align: top;\n    }\n\n    .dataframe thead th {\n        text-align: right;\n    }\n</style>\n<table border=\"1\" class=\"dataframe\">\n  <thead>\n    <tr style=\"text-align: right;\">\n      <th></th>\n      <th>0</th>\n      <th>1</th>\n    </tr>\n  </thead>\n  <tbody>\n    <tr>\n      <th>0</th>\n      <td>CENTRAL</td>\n      <td>0</td>\n    </tr>\n    <tr>\n      <th>1</th>\n      <td>EASTERN</td>\n      <td>1</td>\n    </tr>\n    <tr>\n      <th>2</th>\n      <td>NORTHEASTERN</td>\n      <td>2</td>\n    </tr>\n    <tr>\n      <th>3</th>\n      <td>NORTHERN</td>\n      <td>3</td>\n    </tr>\n    <tr>\n      <th>4</th>\n      <td>NORTHWESTERN</td>\n      <td>4</td>\n    </tr>\n    <tr>\n      <th>5</th>\n      <td>SOUTHEASTERN</td>\n      <td>5</td>\n    </tr>\n    <tr>\n      <th>6</th>\n      <td>SOUTHERN</td>\n      <td>6</td>\n    </tr>\n    <tr>\n      <th>7</th>\n      <td>SOUTHWESTERN</td>\n      <td>7</td>\n    </tr>\n    <tr>\n      <th>8</th>\n      <td>WESTERN</td>\n      <td>8</td>\n    </tr>\n  </tbody>\n</table>\n</div>"
     },
     "execution_count": 89,
     "metadata": {},
     "output_type": "execute_result"
    }
   ],
   "source": [
    "District"
   ],
   "metadata": {
    "collapsed": false,
    "pycharm": {
     "name": "#%%\n"
    }
   }
  },
  {
   "cell_type": "code",
   "execution_count": 90,
   "outputs": [],
   "source": [
    "df['District'] = df['District'].replace('SOUTHEAST', 'SOUTHEASTERN')\n",
    "df['District'] = df['District'].replace('SOUTHWEST', 'SOUTHWESTERN')\n"
   ],
   "metadata": {
    "collapsed": false,
    "pycharm": {
     "name": "#%%\n"
    }
   }
  },
  {
   "cell_type": "code",
   "execution_count": 91,
   "outputs": [],
   "source": [
    "df[\"District\"]=le.transform(df[\"District\"])\n"
   ],
   "metadata": {
    "collapsed": false,
    "pycharm": {
     "name": "#%%\n"
    }
   }
  },
  {
   "cell_type": "code",
   "execution_count": 92,
   "outputs": [
    {
     "data": {
      "text/plain": "   CrimeDate  Description   Post  District             Neighborhood  \\\n1 2018-12-30            7  523.0         3                 HOMELAND   \n2 2018-12-29            4  123.0         0                    UPTON   \n3 2018-12-29           12  441.0         2  PULASKI INDUSTRIAL AREA   \n4 2018-12-28            4  942.0         6                RIVERSIDE   \n5 2018-12-28            3  613.0         4          LANGSTON HUGHES   \n\n   Longitude  Latitude               Premise  Month  Hour  ...  Season_spring  \\\n1    39.3556  -76.6099  STREET                   12     0  ...              0   \n2    39.3011  -76.6276     ROW/TOWNHOUSE-OCC     12     0  ...              0   \n3    39.3039  -76.5408  HOTEL/MOTEL              12     0  ...              0   \n4    39.2736  -76.6118  OTHER - INSIDE           12     0  ...              0   \n5    39.3438  -76.6777  STREET                   12     0  ...              0   \n\n   Season_summer  Season_winter  Weapon_FIREARM  Weapon_HANDS  Weapon_KNIFE  \\\n1              0              1               0             0             0   \n2              0              1               0             0             0   \n3              0              1               0             0             0   \n4              0              1               0             0             0   \n5              0              1               0             0             0   \n\n   Weapon_NONE  Weapon_OTHER  Holiday  Weekend  \n1            1             0        0        1  \n2            1             0        0        1  \n3            1             0        0        1  \n4            1             0        0        0  \n5            1             0        0        0  \n\n[5 rows x 23 columns]",
      "text/html": "<div>\n<style scoped>\n    .dataframe tbody tr th:only-of-type {\n        vertical-align: middle;\n    }\n\n    .dataframe tbody tr th {\n        vertical-align: top;\n    }\n\n    .dataframe thead th {\n        text-align: right;\n    }\n</style>\n<table border=\"1\" class=\"dataframe\">\n  <thead>\n    <tr style=\"text-align: right;\">\n      <th></th>\n      <th>CrimeDate</th>\n      <th>Description</th>\n      <th>Post</th>\n      <th>District</th>\n      <th>Neighborhood</th>\n      <th>Longitude</th>\n      <th>Latitude</th>\n      <th>Premise</th>\n      <th>Month</th>\n      <th>Hour</th>\n      <th>...</th>\n      <th>Season_spring</th>\n      <th>Season_summer</th>\n      <th>Season_winter</th>\n      <th>Weapon_FIREARM</th>\n      <th>Weapon_HANDS</th>\n      <th>Weapon_KNIFE</th>\n      <th>Weapon_NONE</th>\n      <th>Weapon_OTHER</th>\n      <th>Holiday</th>\n      <th>Weekend</th>\n    </tr>\n  </thead>\n  <tbody>\n    <tr>\n      <th>1</th>\n      <td>2018-12-30</td>\n      <td>7</td>\n      <td>523.0</td>\n      <td>3</td>\n      <td>HOMELAND</td>\n      <td>39.3556</td>\n      <td>-76.6099</td>\n      <td>STREET</td>\n      <td>12</td>\n      <td>0</td>\n      <td>...</td>\n      <td>0</td>\n      <td>0</td>\n      <td>1</td>\n      <td>0</td>\n      <td>0</td>\n      <td>0</td>\n      <td>1</td>\n      <td>0</td>\n      <td>0</td>\n      <td>1</td>\n    </tr>\n    <tr>\n      <th>2</th>\n      <td>2018-12-29</td>\n      <td>4</td>\n      <td>123.0</td>\n      <td>0</td>\n      <td>UPTON</td>\n      <td>39.3011</td>\n      <td>-76.6276</td>\n      <td>ROW/TOWNHOUSE-OCC</td>\n      <td>12</td>\n      <td>0</td>\n      <td>...</td>\n      <td>0</td>\n      <td>0</td>\n      <td>1</td>\n      <td>0</td>\n      <td>0</td>\n      <td>0</td>\n      <td>1</td>\n      <td>0</td>\n      <td>0</td>\n      <td>1</td>\n    </tr>\n    <tr>\n      <th>3</th>\n      <td>2018-12-29</td>\n      <td>12</td>\n      <td>441.0</td>\n      <td>2</td>\n      <td>PULASKI INDUSTRIAL AREA</td>\n      <td>39.3039</td>\n      <td>-76.5408</td>\n      <td>HOTEL/MOTEL</td>\n      <td>12</td>\n      <td>0</td>\n      <td>...</td>\n      <td>0</td>\n      <td>0</td>\n      <td>1</td>\n      <td>0</td>\n      <td>0</td>\n      <td>0</td>\n      <td>1</td>\n      <td>0</td>\n      <td>0</td>\n      <td>1</td>\n    </tr>\n    <tr>\n      <th>4</th>\n      <td>2018-12-28</td>\n      <td>4</td>\n      <td>942.0</td>\n      <td>6</td>\n      <td>RIVERSIDE</td>\n      <td>39.2736</td>\n      <td>-76.6118</td>\n      <td>OTHER - INSIDE</td>\n      <td>12</td>\n      <td>0</td>\n      <td>...</td>\n      <td>0</td>\n      <td>0</td>\n      <td>1</td>\n      <td>0</td>\n      <td>0</td>\n      <td>0</td>\n      <td>1</td>\n      <td>0</td>\n      <td>0</td>\n      <td>0</td>\n    </tr>\n    <tr>\n      <th>5</th>\n      <td>2018-12-28</td>\n      <td>3</td>\n      <td>613.0</td>\n      <td>4</td>\n      <td>LANGSTON HUGHES</td>\n      <td>39.3438</td>\n      <td>-76.6777</td>\n      <td>STREET</td>\n      <td>12</td>\n      <td>0</td>\n      <td>...</td>\n      <td>0</td>\n      <td>0</td>\n      <td>1</td>\n      <td>0</td>\n      <td>0</td>\n      <td>0</td>\n      <td>1</td>\n      <td>0</td>\n      <td>0</td>\n      <td>0</td>\n    </tr>\n  </tbody>\n</table>\n<p>5 rows × 23 columns</p>\n</div>"
     },
     "execution_count": 92,
     "metadata": {},
     "output_type": "execute_result"
    }
   ],
   "source": [
    "df.head()\n"
   ],
   "metadata": {
    "collapsed": false,
    "pycharm": {
     "name": "#%%\n"
    }
   }
  },
  {
   "cell_type": "code",
   "execution_count": 93,
   "outputs": [],
   "source": [
    "Neighborhood = pd.read_csv(\"../data/V2_Neighborhood_decoder.csv\", header=None)"
   ],
   "metadata": {
    "collapsed": false,
    "pycharm": {
     "name": "#%%\n"
    }
   }
  },
  {
   "cell_type": "code",
   "execution_count": 94,
   "outputs": [
    {
     "data": {
      "text/plain": "LabelEncoder()"
     },
     "execution_count": 94,
     "metadata": {},
     "output_type": "execute_result"
    }
   ],
   "source": [
    "le.fit(Neighborhood[0])\n"
   ],
   "metadata": {
    "collapsed": false,
    "pycharm": {
     "name": "#%%\n"
    }
   }
  },
  {
   "cell_type": "code",
   "execution_count": 95,
   "outputs": [
    {
     "data": {
      "text/plain": "                             0    1\n0                        ABELL    0\n1                    ALLENDALE    1\n2                      ARCADIA    2\n3                    ARLINGTON    3\n4            ARMISTEAD GARDENS    4\n5                    ASHBURTON    5\n6          BALTIMORE HIGHLANDS    6\n7                      BARCLAY    7\n8                 BARRE CIRCLE    8\n9                      BAYVIEW    9\n10                  BEECHFIELD   10\n11               BELAIR-EDISON   11\n12             BELAIR-PARKSIDE   12\n13            BELLONA-GITTINGS   13\n14                   BELVEDERE   14\n15                       BEREA   15\n16              BETTER WAVERLY   16\n17               BEVERLY HILLS   17\n18               BIDDLE STREET   18\n19                  BLYTHEWOOD   19\n20                 BOLTON HILL   20\n21                  BOYD-BOOTH   21\n22                BREWERS HILL   22\n23        BRIDGEVIEW/GREENLAWN   23\n24               BROADWAY EAST   24\n25              BROENING MANOR   25\n26                    BROOKLYN   26\n27           BURLEITH-LEIGHTON   27\n28              BUTCHER'S HILL   28\n29           CALLAWAY-GARRISON   29\n30             CAMERON VILLAGE   30\n31                      CANTON   31\n32      CANTON INDUSTRIAL AREA   32\n33                        CARE   33\n34   CARROLL - CAMDEN INDUSTRI   34\n35                CARROLL PARK   35\n36        CARROLL-SOUTH HILTON   36\n37            CARROLLTON RIDGE   37\n38                  CEDARCROFT   38\n39                     CEDMONT   39\n40                     CEDONIA   40\n41         CENTRAL FOREST PARK   41\n42        CENTRAL PARK HEIGHTS   42\n43               CHARLES NORTH   43\n44             CHARLES VILLAGE   44\n45                 CHERRY HILL   45\n46                   CHESWOLDE   46\n47             CHINQUAPIN PARK   47\n48                CLIFTON PARK   48\n49                  COLDSPRING   49\n50   COLDSTREAM HOMESTEAD MONT   50\n51   CONCERNED CITIZENS OF FOR   51\n52   COPPIN HEIGHTS/ASH-CO-EAS   52\n53               CROSS COUNTRY   53\n54                  CROSS KEYS   54\n55                  CURTIS BAY   55\n56   CURTIS BAY INDUSTRIAL ARE   56\n57                     CYLBURN   57\n58                 DARLEY PARK   58\n59                 DICKEYVILLE   59\n60                    DOLFIELD   60\n61                  DORCHESTER   61\n62                    DOWNTOWN   62\n63               DOWNTOWN WEST   63\n64               DRUID HEIGHTS   64\n65             DRUID HILL PARK   65\n66             DUNBAR-BROADWAY   66\n67     DUNDALK MARINE TERMINAL   67\n68              EAST ARLINGTON   68\n69       EAST BALTIMORE MIDWAY   69\n70                  EASTERWOOD   70\n71                    EASTWOOD   71\n72                    EDGEWOOD   72\n73           EDMONDSON VILLAGE   73\n74      EDNOR GARDENS-LAKESIDE   74\n75       ELLWOOD PARK/MONUMENT   75\n76                   EVERGREEN   76\n77              EVERGREEN LAWN   77\n78                EVESHAM PARK   78\n79              FAIRFIELD AREA   79\n80                    FAIRMONT   80\n81                   FALLSTAFF   81\n82                FEDERAL HILL   82\n83                 FELLS POINT   83\n84                 FOREST PARK   84\n85     FOREST PARK GOLF COURSE   85\n86                FOUR BY FOUR   86\n87                   FRANKFORD   87\n88             FRANKLIN SQUARE   88\n89                FRANKLINTOWN   89\n90           FRANKLINTOWN ROAD   90\n91                 GARWYN OAKS   91\n92                  GAY STREET   92\n93                        GLEN   93\n94                   GLEN OAKS   94\n95              GLENHAM-BELHAR   95\n96              GRACELAND PARK   96\n97                   GREEKTOWN   97\n98         GREENMOUNT CEMETERY   98\n99             GREENMOUNT WEST   99\n100                GREENSPRING  100\n101                 GROVE PARK  101\n102                   GUILFORD  102\n103               GWYNNS FALLS  103\n104   GWYNNS FALLS/LEAKIN PARK  104\n105             HAMILTON HILLS  105\n106                    HAMPDEN  106\n107            HANLON-LONGWOOD  107\n108                HARLEM PARK  108\n109                    HARWOOD  109\n110              HAWKINS POINT  110\n111          HERITAGE CROSSING  111\n112           HERRING RUN PARK  112\n113               HIGHLANDTOWN  113\n114                     HILLEN  114\n115               HOES HEIGHTS  115\n116   HOLABIRD INDUSTRIAL PARK  116\n117             HOLLINS MARKET  117\n118                   HOMELAND  118\n119            HOPKINS BAYVIEW  119\n120                HOWARD PARK  120\n121              HUNTING RIDGE  121\n122                   IDLEWOOD  122\n123               INNER HARBOR  123\n124                  IRVINGTON  124\n125     JOHNS HOPKINS HOMEWOOD  125\n126            JOHNSTON SQUARE  126\n127           JONES FALLS AREA  127\n128                  JONESTOWN  128\n129            KENILWORTH PARK  129\n130                  KERNEWOOD  130\n131                    KESWICK  131\n132                    KRESSON  132\n133               LAKE EVESHAM  133\n134                LAKE WALKER  134\n135                   LAKELAND  135\n136            LANGSTON HUGHES  136\n137                 LAURAVILLE  137\n138                  LEVINDALE  138\n139             LIBERTY SQUARE  139\n140               LITTLE ITALY  140\n141                 LOCH RAVEN  141\n142               LOCUST POINT  142\n143  LOCUST POINT INDUSTRIAL A  143\n144    LOWER EDMONDSON VILLAGE  144\n145     LOWER HERRING RUN PARK  145\n146          LOYOLA/NOTRE DAME  146\n147               LUCILLE PARK  147\n148               MADISON PARK  148\n149            MADISON-EASTEND  149\n150                   MAYFIELD  150\n151             MCELDERRY PARK  151\n152                   MEDFIELD  152\n153                    MEDFORD  153\n154                 MID-GOVANS  154\n155         MID-TOWN BELVEDERE  155\n156  MIDDLE BRANCH/REEDBIRD PA  156\n157                MIDDLE EAST  157\n158          MIDTOWN-EDMONDSON  158\n159                   MILLHILL  159\n160            MILTON-MONTFORD  160\n161                  MONDAWMIN  161\n162                 MONTEBELLO  162\n163            MORAVIA-WALTHER  163\n164                MORGAN PARK  164\n165    MORGAN STATE UNIVERSITY  165\n166               MORRELL PARK  166\n167                     MOSHER  167\n168                MOUNT HOLLY  168\n169               MOUNT VERNON  169\n170           MOUNT WASHINGTON  170\n171               MOUNT WINANS  171\n172           MT PLEASANT PARK  172\n173              NEW NORTHWOOD  173\n174  NEW SOUTHWEST/MOUNT CLARE  174\n175         NORTH HARFORD ROAD  175\n176   NORTH ROLAND PARK/POPLAR  176\n177  NORTHWEST COMMUNITY ACTIO  177\n178          O'DONNELL HEIGHTS  178\n179                 OAKENSHAWE  179\n180                     OAKLEE  180\n181                OLD GOUCHER  181\n182                    OLDTOWN  182\n183                     OLIVER  183\n184                ORANGEVILLE  184\n185  ORANGEVILLE INDUSTRIAL AR  185\n186              ORCHARD RIDGE  186\n187         ORIGINAL NORTHWOOD  187\n188                  OTTERBEIN  188\n189                    OVERLEA  189\n190     PANWAY/BRADDISH AVENUE  190\n191                PARK CIRCLE  191\n192                   PARKLANE  192\n193                   PARKSIDE  193\n194         PARKVIEW/WOODBROOK  194\n195             PATTERSON PARK  195\n196            PATTERSON PLACE  196\n197                   PEN LUCY  197\n198                 PENN NORTH  198\n199              PENN-FALLSWAY  199\n200  PENROSE/FAYETTE STREET OU  200\n201              PERKINS HOMES  201\n202               PERRING LOCH  202\n203     PIMLICO GOOD NEIGHBORS  203\n204      PLEASANT VIEW GARDENS  204\n205                  POPPLETON  205\n206             PORT COVINGTON  206\n207    PULASKI INDUSTRIAL AREA  207\n208                    PURNELL  208\n209             RADNOR-WINSTON  209\n210                 RAMBLEWOOD  210\n211       REISTERSTOWN STATION  211\n212                  REMINGTON  212\n213             RESERVOIR HILL  213\n214            RICHNOR SPRINGS  214\n215          RIDGELY'S DELIGHT  215\n216                  RIVERSIDE  216\n217             ROGNEL HEIGHTS  217\n218                ROLAND PARK  218\n219                   ROSEBANK  219\n220                   ROSEMONT  220\n221              ROSEMONT EAST  221\n222  ROSEMONT HOMEOWNERS/TENAN  222\n223           SABINA-MATTFELDT  223\n224                SAINT AGNES  224\n225               SAINT HELENA  225\n226              SAINT JOSEPHS  226\n227                 SAINT PAUL  227\n228        SANDTOWN-WINCHESTER  228\n229        SETON BUSINESS PARK  229\n230                 SETON HILL  230\n231           SHARP-LEADENHALL  231\n232               SHIPLEY HILL  232\n233            SOUTH BALTIMORE  233\n234         SOUTH CLIFTON PARK  234\n235   SPRING GARDEN INDUSTRIAL  235\n236               STADIUM AREA  236\n237  STONEWOOD-PENTWOOD-WINSTO  237\n238             TAYLOR HEIGHTS  238\n239                  TEN HILLS  239\n240               THE ORCHARDS  240\n241           TOWANDA-GRANTLEY  241\n242                    TREMONT  242\n243         TUSCANY-CANTERBURY  243\n244               UNION SQUARE  244\n245     UNIVERSITY OF MARYLAND  245\n246                    UPLANDS  246\n247          UPPER FELLS POINT  247\n248                      UPTON  248\n249       VILLAGES OF HOMELAND  249\n250                VIOLETVILLE  250\n251                  WAKEFIELD  251\n252                   WALBROOK  252\n253                 WALTHERSON  253\n254            WASHINGTON HILL  254\n255  WASHINGTON VILLAGE/PIGTOW  255\n256                    WAVERLY  256\n257             WEST ARLINGTON  257\n258           WEST FOREST PARK  258\n259                 WEST HILLS  259\n260                  WESTFIELD  260\n261                   WESTGATE  261\n262                   WESTPORT  262\n263               WILHELM PARK  263\n264                WILSON PARK  264\n265                 WINCHESTER  265\n266              WINDSOR HILLS  266\n267             WINSTON-GOVANS  267\n268                  WOODBERRY  268\n269         WOODBOURNE HEIGHTS  269\n270          WOODBOURNE-MCCABE  270\n271                   WOODMERE  271\n272                   WRENLANE  272\n273                 WYMAN PARK  273\n274                  WYNDHURST  274\n275               YALE HEIGHTS  275\n276              YORK-HOMELAND  276",
      "text/html": "<div>\n<style scoped>\n    .dataframe tbody tr th:only-of-type {\n        vertical-align: middle;\n    }\n\n    .dataframe tbody tr th {\n        vertical-align: top;\n    }\n\n    .dataframe thead th {\n        text-align: right;\n    }\n</style>\n<table border=\"1\" class=\"dataframe\">\n  <thead>\n    <tr style=\"text-align: right;\">\n      <th></th>\n      <th>0</th>\n      <th>1</th>\n    </tr>\n  </thead>\n  <tbody>\n    <tr>\n      <th>0</th>\n      <td>ABELL</td>\n      <td>0</td>\n    </tr>\n    <tr>\n      <th>1</th>\n      <td>ALLENDALE</td>\n      <td>1</td>\n    </tr>\n    <tr>\n      <th>2</th>\n      <td>ARCADIA</td>\n      <td>2</td>\n    </tr>\n    <tr>\n      <th>3</th>\n      <td>ARLINGTON</td>\n      <td>3</td>\n    </tr>\n    <tr>\n      <th>4</th>\n      <td>ARMISTEAD GARDENS</td>\n      <td>4</td>\n    </tr>\n    <tr>\n      <th>5</th>\n      <td>ASHBURTON</td>\n      <td>5</td>\n    </tr>\n    <tr>\n      <th>6</th>\n      <td>BALTIMORE HIGHLANDS</td>\n      <td>6</td>\n    </tr>\n    <tr>\n      <th>7</th>\n      <td>BARCLAY</td>\n      <td>7</td>\n    </tr>\n    <tr>\n      <th>8</th>\n      <td>BARRE CIRCLE</td>\n      <td>8</td>\n    </tr>\n    <tr>\n      <th>9</th>\n      <td>BAYVIEW</td>\n      <td>9</td>\n    </tr>\n    <tr>\n      <th>10</th>\n      <td>BEECHFIELD</td>\n      <td>10</td>\n    </tr>\n    <tr>\n      <th>11</th>\n      <td>BELAIR-EDISON</td>\n      <td>11</td>\n    </tr>\n    <tr>\n      <th>12</th>\n      <td>BELAIR-PARKSIDE</td>\n      <td>12</td>\n    </tr>\n    <tr>\n      <th>13</th>\n      <td>BELLONA-GITTINGS</td>\n      <td>13</td>\n    </tr>\n    <tr>\n      <th>14</th>\n      <td>BELVEDERE</td>\n      <td>14</td>\n    </tr>\n    <tr>\n      <th>15</th>\n      <td>BEREA</td>\n      <td>15</td>\n    </tr>\n    <tr>\n      <th>16</th>\n      <td>BETTER WAVERLY</td>\n      <td>16</td>\n    </tr>\n    <tr>\n      <th>17</th>\n      <td>BEVERLY HILLS</td>\n      <td>17</td>\n    </tr>\n    <tr>\n      <th>18</th>\n      <td>BIDDLE STREET</td>\n      <td>18</td>\n    </tr>\n    <tr>\n      <th>19</th>\n      <td>BLYTHEWOOD</td>\n      <td>19</td>\n    </tr>\n    <tr>\n      <th>20</th>\n      <td>BOLTON HILL</td>\n      <td>20</td>\n    </tr>\n    <tr>\n      <th>21</th>\n      <td>BOYD-BOOTH</td>\n      <td>21</td>\n    </tr>\n    <tr>\n      <th>22</th>\n      <td>BREWERS HILL</td>\n      <td>22</td>\n    </tr>\n    <tr>\n      <th>23</th>\n      <td>BRIDGEVIEW/GREENLAWN</td>\n      <td>23</td>\n    </tr>\n    <tr>\n      <th>24</th>\n      <td>BROADWAY EAST</td>\n      <td>24</td>\n    </tr>\n    <tr>\n      <th>25</th>\n      <td>BROENING MANOR</td>\n      <td>25</td>\n    </tr>\n    <tr>\n      <th>26</th>\n      <td>BROOKLYN</td>\n      <td>26</td>\n    </tr>\n    <tr>\n      <th>27</th>\n      <td>BURLEITH-LEIGHTON</td>\n      <td>27</td>\n    </tr>\n    <tr>\n      <th>28</th>\n      <td>BUTCHER'S HILL</td>\n      <td>28</td>\n    </tr>\n    <tr>\n      <th>29</th>\n      <td>CALLAWAY-GARRISON</td>\n      <td>29</td>\n    </tr>\n    <tr>\n      <th>30</th>\n      <td>CAMERON VILLAGE</td>\n      <td>30</td>\n    </tr>\n    <tr>\n      <th>31</th>\n      <td>CANTON</td>\n      <td>31</td>\n    </tr>\n    <tr>\n      <th>32</th>\n      <td>CANTON INDUSTRIAL AREA</td>\n      <td>32</td>\n    </tr>\n    <tr>\n      <th>33</th>\n      <td>CARE</td>\n      <td>33</td>\n    </tr>\n    <tr>\n      <th>34</th>\n      <td>CARROLL - CAMDEN INDUSTRI</td>\n      <td>34</td>\n    </tr>\n    <tr>\n      <th>35</th>\n      <td>CARROLL PARK</td>\n      <td>35</td>\n    </tr>\n    <tr>\n      <th>36</th>\n      <td>CARROLL-SOUTH HILTON</td>\n      <td>36</td>\n    </tr>\n    <tr>\n      <th>37</th>\n      <td>CARROLLTON RIDGE</td>\n      <td>37</td>\n    </tr>\n    <tr>\n      <th>38</th>\n      <td>CEDARCROFT</td>\n      <td>38</td>\n    </tr>\n    <tr>\n      <th>39</th>\n      <td>CEDMONT</td>\n      <td>39</td>\n    </tr>\n    <tr>\n      <th>40</th>\n      <td>CEDONIA</td>\n      <td>40</td>\n    </tr>\n    <tr>\n      <th>41</th>\n      <td>CENTRAL FOREST PARK</td>\n      <td>41</td>\n    </tr>\n    <tr>\n      <th>42</th>\n      <td>CENTRAL PARK HEIGHTS</td>\n      <td>42</td>\n    </tr>\n    <tr>\n      <th>43</th>\n      <td>CHARLES NORTH</td>\n      <td>43</td>\n    </tr>\n    <tr>\n      <th>44</th>\n      <td>CHARLES VILLAGE</td>\n      <td>44</td>\n    </tr>\n    <tr>\n      <th>45</th>\n      <td>CHERRY HILL</td>\n      <td>45</td>\n    </tr>\n    <tr>\n      <th>46</th>\n      <td>CHESWOLDE</td>\n      <td>46</td>\n    </tr>\n    <tr>\n      <th>47</th>\n      <td>CHINQUAPIN PARK</td>\n      <td>47</td>\n    </tr>\n    <tr>\n      <th>48</th>\n      <td>CLIFTON PARK</td>\n      <td>48</td>\n    </tr>\n    <tr>\n      <th>49</th>\n      <td>COLDSPRING</td>\n      <td>49</td>\n    </tr>\n    <tr>\n      <th>50</th>\n      <td>COLDSTREAM HOMESTEAD MONT</td>\n      <td>50</td>\n    </tr>\n    <tr>\n      <th>51</th>\n      <td>CONCERNED CITIZENS OF FOR</td>\n      <td>51</td>\n    </tr>\n    <tr>\n      <th>52</th>\n      <td>COPPIN HEIGHTS/ASH-CO-EAS</td>\n      <td>52</td>\n    </tr>\n    <tr>\n      <th>53</th>\n      <td>CROSS COUNTRY</td>\n      <td>53</td>\n    </tr>\n    <tr>\n      <th>54</th>\n      <td>CROSS KEYS</td>\n      <td>54</td>\n    </tr>\n    <tr>\n      <th>55</th>\n      <td>CURTIS BAY</td>\n      <td>55</td>\n    </tr>\n    <tr>\n      <th>56</th>\n      <td>CURTIS BAY INDUSTRIAL ARE</td>\n      <td>56</td>\n    </tr>\n    <tr>\n      <th>57</th>\n      <td>CYLBURN</td>\n      <td>57</td>\n    </tr>\n    <tr>\n      <th>58</th>\n      <td>DARLEY PARK</td>\n      <td>58</td>\n    </tr>\n    <tr>\n      <th>59</th>\n      <td>DICKEYVILLE</td>\n      <td>59</td>\n    </tr>\n    <tr>\n      <th>60</th>\n      <td>DOLFIELD</td>\n      <td>60</td>\n    </tr>\n    <tr>\n      <th>61</th>\n      <td>DORCHESTER</td>\n      <td>61</td>\n    </tr>\n    <tr>\n      <th>62</th>\n      <td>DOWNTOWN</td>\n      <td>62</td>\n    </tr>\n    <tr>\n      <th>63</th>\n      <td>DOWNTOWN WEST</td>\n      <td>63</td>\n    </tr>\n    <tr>\n      <th>64</th>\n      <td>DRUID HEIGHTS</td>\n      <td>64</td>\n    </tr>\n    <tr>\n      <th>65</th>\n      <td>DRUID HILL PARK</td>\n      <td>65</td>\n    </tr>\n    <tr>\n      <th>66</th>\n      <td>DUNBAR-BROADWAY</td>\n      <td>66</td>\n    </tr>\n    <tr>\n      <th>67</th>\n      <td>DUNDALK MARINE TERMINAL</td>\n      <td>67</td>\n    </tr>\n    <tr>\n      <th>68</th>\n      <td>EAST ARLINGTON</td>\n      <td>68</td>\n    </tr>\n    <tr>\n      <th>69</th>\n      <td>EAST BALTIMORE MIDWAY</td>\n      <td>69</td>\n    </tr>\n    <tr>\n      <th>70</th>\n      <td>EASTERWOOD</td>\n      <td>70</td>\n    </tr>\n    <tr>\n      <th>71</th>\n      <td>EASTWOOD</td>\n      <td>71</td>\n    </tr>\n    <tr>\n      <th>72</th>\n      <td>EDGEWOOD</td>\n      <td>72</td>\n    </tr>\n    <tr>\n      <th>73</th>\n      <td>EDMONDSON VILLAGE</td>\n      <td>73</td>\n    </tr>\n    <tr>\n      <th>74</th>\n      <td>EDNOR GARDENS-LAKESIDE</td>\n      <td>74</td>\n    </tr>\n    <tr>\n      <th>75</th>\n      <td>ELLWOOD PARK/MONUMENT</td>\n      <td>75</td>\n    </tr>\n    <tr>\n      <th>76</th>\n      <td>EVERGREEN</td>\n      <td>76</td>\n    </tr>\n    <tr>\n      <th>77</th>\n      <td>EVERGREEN LAWN</td>\n      <td>77</td>\n    </tr>\n    <tr>\n      <th>78</th>\n      <td>EVESHAM PARK</td>\n      <td>78</td>\n    </tr>\n    <tr>\n      <th>79</th>\n      <td>FAIRFIELD AREA</td>\n      <td>79</td>\n    </tr>\n    <tr>\n      <th>80</th>\n      <td>FAIRMONT</td>\n      <td>80</td>\n    </tr>\n    <tr>\n      <th>81</th>\n      <td>FALLSTAFF</td>\n      <td>81</td>\n    </tr>\n    <tr>\n      <th>82</th>\n      <td>FEDERAL HILL</td>\n      <td>82</td>\n    </tr>\n    <tr>\n      <th>83</th>\n      <td>FELLS POINT</td>\n      <td>83</td>\n    </tr>\n    <tr>\n      <th>84</th>\n      <td>FOREST PARK</td>\n      <td>84</td>\n    </tr>\n    <tr>\n      <th>85</th>\n      <td>FOREST PARK GOLF COURSE</td>\n      <td>85</td>\n    </tr>\n    <tr>\n      <th>86</th>\n      <td>FOUR BY FOUR</td>\n      <td>86</td>\n    </tr>\n    <tr>\n      <th>87</th>\n      <td>FRANKFORD</td>\n      <td>87</td>\n    </tr>\n    <tr>\n      <th>88</th>\n      <td>FRANKLIN SQUARE</td>\n      <td>88</td>\n    </tr>\n    <tr>\n      <th>89</th>\n      <td>FRANKLINTOWN</td>\n      <td>89</td>\n    </tr>\n    <tr>\n      <th>90</th>\n      <td>FRANKLINTOWN ROAD</td>\n      <td>90</td>\n    </tr>\n    <tr>\n      <th>91</th>\n      <td>GARWYN OAKS</td>\n      <td>91</td>\n    </tr>\n    <tr>\n      <th>92</th>\n      <td>GAY STREET</td>\n      <td>92</td>\n    </tr>\n    <tr>\n      <th>93</th>\n      <td>GLEN</td>\n      <td>93</td>\n    </tr>\n    <tr>\n      <th>94</th>\n      <td>GLEN OAKS</td>\n      <td>94</td>\n    </tr>\n    <tr>\n      <th>95</th>\n      <td>GLENHAM-BELHAR</td>\n      <td>95</td>\n    </tr>\n    <tr>\n      <th>96</th>\n      <td>GRACELAND PARK</td>\n      <td>96</td>\n    </tr>\n    <tr>\n      <th>97</th>\n      <td>GREEKTOWN</td>\n      <td>97</td>\n    </tr>\n    <tr>\n      <th>98</th>\n      <td>GREENMOUNT CEMETERY</td>\n      <td>98</td>\n    </tr>\n    <tr>\n      <th>99</th>\n      <td>GREENMOUNT WEST</td>\n      <td>99</td>\n    </tr>\n    <tr>\n      <th>100</th>\n      <td>GREENSPRING</td>\n      <td>100</td>\n    </tr>\n    <tr>\n      <th>101</th>\n      <td>GROVE PARK</td>\n      <td>101</td>\n    </tr>\n    <tr>\n      <th>102</th>\n      <td>GUILFORD</td>\n      <td>102</td>\n    </tr>\n    <tr>\n      <th>103</th>\n      <td>GWYNNS FALLS</td>\n      <td>103</td>\n    </tr>\n    <tr>\n      <th>104</th>\n      <td>GWYNNS FALLS/LEAKIN PARK</td>\n      <td>104</td>\n    </tr>\n    <tr>\n      <th>105</th>\n      <td>HAMILTON HILLS</td>\n      <td>105</td>\n    </tr>\n    <tr>\n      <th>106</th>\n      <td>HAMPDEN</td>\n      <td>106</td>\n    </tr>\n    <tr>\n      <th>107</th>\n      <td>HANLON-LONGWOOD</td>\n      <td>107</td>\n    </tr>\n    <tr>\n      <th>108</th>\n      <td>HARLEM PARK</td>\n      <td>108</td>\n    </tr>\n    <tr>\n      <th>109</th>\n      <td>HARWOOD</td>\n      <td>109</td>\n    </tr>\n    <tr>\n      <th>110</th>\n      <td>HAWKINS POINT</td>\n      <td>110</td>\n    </tr>\n    <tr>\n      <th>111</th>\n      <td>HERITAGE CROSSING</td>\n      <td>111</td>\n    </tr>\n    <tr>\n      <th>112</th>\n      <td>HERRING RUN PARK</td>\n      <td>112</td>\n    </tr>\n    <tr>\n      <th>113</th>\n      <td>HIGHLANDTOWN</td>\n      <td>113</td>\n    </tr>\n    <tr>\n      <th>114</th>\n      <td>HILLEN</td>\n      <td>114</td>\n    </tr>\n    <tr>\n      <th>115</th>\n      <td>HOES HEIGHTS</td>\n      <td>115</td>\n    </tr>\n    <tr>\n      <th>116</th>\n      <td>HOLABIRD INDUSTRIAL PARK</td>\n      <td>116</td>\n    </tr>\n    <tr>\n      <th>117</th>\n      <td>HOLLINS MARKET</td>\n      <td>117</td>\n    </tr>\n    <tr>\n      <th>118</th>\n      <td>HOMELAND</td>\n      <td>118</td>\n    </tr>\n    <tr>\n      <th>119</th>\n      <td>HOPKINS BAYVIEW</td>\n      <td>119</td>\n    </tr>\n    <tr>\n      <th>120</th>\n      <td>HOWARD PARK</td>\n      <td>120</td>\n    </tr>\n    <tr>\n      <th>121</th>\n      <td>HUNTING RIDGE</td>\n      <td>121</td>\n    </tr>\n    <tr>\n      <th>122</th>\n      <td>IDLEWOOD</td>\n      <td>122</td>\n    </tr>\n    <tr>\n      <th>123</th>\n      <td>INNER HARBOR</td>\n      <td>123</td>\n    </tr>\n    <tr>\n      <th>124</th>\n      <td>IRVINGTON</td>\n      <td>124</td>\n    </tr>\n    <tr>\n      <th>125</th>\n      <td>JOHNS HOPKINS HOMEWOOD</td>\n      <td>125</td>\n    </tr>\n    <tr>\n      <th>126</th>\n      <td>JOHNSTON SQUARE</td>\n      <td>126</td>\n    </tr>\n    <tr>\n      <th>127</th>\n      <td>JONES FALLS AREA</td>\n      <td>127</td>\n    </tr>\n    <tr>\n      <th>128</th>\n      <td>JONESTOWN</td>\n      <td>128</td>\n    </tr>\n    <tr>\n      <th>129</th>\n      <td>KENILWORTH PARK</td>\n      <td>129</td>\n    </tr>\n    <tr>\n      <th>130</th>\n      <td>KERNEWOOD</td>\n      <td>130</td>\n    </tr>\n    <tr>\n      <th>131</th>\n      <td>KESWICK</td>\n      <td>131</td>\n    </tr>\n    <tr>\n      <th>132</th>\n      <td>KRESSON</td>\n      <td>132</td>\n    </tr>\n    <tr>\n      <th>133</th>\n      <td>LAKE EVESHAM</td>\n      <td>133</td>\n    </tr>\n    <tr>\n      <th>134</th>\n      <td>LAKE WALKER</td>\n      <td>134</td>\n    </tr>\n    <tr>\n      <th>135</th>\n      <td>LAKELAND</td>\n      <td>135</td>\n    </tr>\n    <tr>\n      <th>136</th>\n      <td>LANGSTON HUGHES</td>\n      <td>136</td>\n    </tr>\n    <tr>\n      <th>137</th>\n      <td>LAURAVILLE</td>\n      <td>137</td>\n    </tr>\n    <tr>\n      <th>138</th>\n      <td>LEVINDALE</td>\n      <td>138</td>\n    </tr>\n    <tr>\n      <th>139</th>\n      <td>LIBERTY SQUARE</td>\n      <td>139</td>\n    </tr>\n    <tr>\n      <th>140</th>\n      <td>LITTLE ITALY</td>\n      <td>140</td>\n    </tr>\n    <tr>\n      <th>141</th>\n      <td>LOCH RAVEN</td>\n      <td>141</td>\n    </tr>\n    <tr>\n      <th>142</th>\n      <td>LOCUST POINT</td>\n      <td>142</td>\n    </tr>\n    <tr>\n      <th>143</th>\n      <td>LOCUST POINT INDUSTRIAL A</td>\n      <td>143</td>\n    </tr>\n    <tr>\n      <th>144</th>\n      <td>LOWER EDMONDSON VILLAGE</td>\n      <td>144</td>\n    </tr>\n    <tr>\n      <th>145</th>\n      <td>LOWER HERRING RUN PARK</td>\n      <td>145</td>\n    </tr>\n    <tr>\n      <th>146</th>\n      <td>LOYOLA/NOTRE DAME</td>\n      <td>146</td>\n    </tr>\n    <tr>\n      <th>147</th>\n      <td>LUCILLE PARK</td>\n      <td>147</td>\n    </tr>\n    <tr>\n      <th>148</th>\n      <td>MADISON PARK</td>\n      <td>148</td>\n    </tr>\n    <tr>\n      <th>149</th>\n      <td>MADISON-EASTEND</td>\n      <td>149</td>\n    </tr>\n    <tr>\n      <th>150</th>\n      <td>MAYFIELD</td>\n      <td>150</td>\n    </tr>\n    <tr>\n      <th>151</th>\n      <td>MCELDERRY PARK</td>\n      <td>151</td>\n    </tr>\n    <tr>\n      <th>152</th>\n      <td>MEDFIELD</td>\n      <td>152</td>\n    </tr>\n    <tr>\n      <th>153</th>\n      <td>MEDFORD</td>\n      <td>153</td>\n    </tr>\n    <tr>\n      <th>154</th>\n      <td>MID-GOVANS</td>\n      <td>154</td>\n    </tr>\n    <tr>\n      <th>155</th>\n      <td>MID-TOWN BELVEDERE</td>\n      <td>155</td>\n    </tr>\n    <tr>\n      <th>156</th>\n      <td>MIDDLE BRANCH/REEDBIRD PA</td>\n      <td>156</td>\n    </tr>\n    <tr>\n      <th>157</th>\n      <td>MIDDLE EAST</td>\n      <td>157</td>\n    </tr>\n    <tr>\n      <th>158</th>\n      <td>MIDTOWN-EDMONDSON</td>\n      <td>158</td>\n    </tr>\n    <tr>\n      <th>159</th>\n      <td>MILLHILL</td>\n      <td>159</td>\n    </tr>\n    <tr>\n      <th>160</th>\n      <td>MILTON-MONTFORD</td>\n      <td>160</td>\n    </tr>\n    <tr>\n      <th>161</th>\n      <td>MONDAWMIN</td>\n      <td>161</td>\n    </tr>\n    <tr>\n      <th>162</th>\n      <td>MONTEBELLO</td>\n      <td>162</td>\n    </tr>\n    <tr>\n      <th>163</th>\n      <td>MORAVIA-WALTHER</td>\n      <td>163</td>\n    </tr>\n    <tr>\n      <th>164</th>\n      <td>MORGAN PARK</td>\n      <td>164</td>\n    </tr>\n    <tr>\n      <th>165</th>\n      <td>MORGAN STATE UNIVERSITY</td>\n      <td>165</td>\n    </tr>\n    <tr>\n      <th>166</th>\n      <td>MORRELL PARK</td>\n      <td>166</td>\n    </tr>\n    <tr>\n      <th>167</th>\n      <td>MOSHER</td>\n      <td>167</td>\n    </tr>\n    <tr>\n      <th>168</th>\n      <td>MOUNT HOLLY</td>\n      <td>168</td>\n    </tr>\n    <tr>\n      <th>169</th>\n      <td>MOUNT VERNON</td>\n      <td>169</td>\n    </tr>\n    <tr>\n      <th>170</th>\n      <td>MOUNT WASHINGTON</td>\n      <td>170</td>\n    </tr>\n    <tr>\n      <th>171</th>\n      <td>MOUNT WINANS</td>\n      <td>171</td>\n    </tr>\n    <tr>\n      <th>172</th>\n      <td>MT PLEASANT PARK</td>\n      <td>172</td>\n    </tr>\n    <tr>\n      <th>173</th>\n      <td>NEW NORTHWOOD</td>\n      <td>173</td>\n    </tr>\n    <tr>\n      <th>174</th>\n      <td>NEW SOUTHWEST/MOUNT CLARE</td>\n      <td>174</td>\n    </tr>\n    <tr>\n      <th>175</th>\n      <td>NORTH HARFORD ROAD</td>\n      <td>175</td>\n    </tr>\n    <tr>\n      <th>176</th>\n      <td>NORTH ROLAND PARK/POPLAR</td>\n      <td>176</td>\n    </tr>\n    <tr>\n      <th>177</th>\n      <td>NORTHWEST COMMUNITY ACTIO</td>\n      <td>177</td>\n    </tr>\n    <tr>\n      <th>178</th>\n      <td>O'DONNELL HEIGHTS</td>\n      <td>178</td>\n    </tr>\n    <tr>\n      <th>179</th>\n      <td>OAKENSHAWE</td>\n      <td>179</td>\n    </tr>\n    <tr>\n      <th>180</th>\n      <td>OAKLEE</td>\n      <td>180</td>\n    </tr>\n    <tr>\n      <th>181</th>\n      <td>OLD GOUCHER</td>\n      <td>181</td>\n    </tr>\n    <tr>\n      <th>182</th>\n      <td>OLDTOWN</td>\n      <td>182</td>\n    </tr>\n    <tr>\n      <th>183</th>\n      <td>OLIVER</td>\n      <td>183</td>\n    </tr>\n    <tr>\n      <th>184</th>\n      <td>ORANGEVILLE</td>\n      <td>184</td>\n    </tr>\n    <tr>\n      <th>185</th>\n      <td>ORANGEVILLE INDUSTRIAL AR</td>\n      <td>185</td>\n    </tr>\n    <tr>\n      <th>186</th>\n      <td>ORCHARD RIDGE</td>\n      <td>186</td>\n    </tr>\n    <tr>\n      <th>187</th>\n      <td>ORIGINAL NORTHWOOD</td>\n      <td>187</td>\n    </tr>\n    <tr>\n      <th>188</th>\n      <td>OTTERBEIN</td>\n      <td>188</td>\n    </tr>\n    <tr>\n      <th>189</th>\n      <td>OVERLEA</td>\n      <td>189</td>\n    </tr>\n    <tr>\n      <th>190</th>\n      <td>PANWAY/BRADDISH AVENUE</td>\n      <td>190</td>\n    </tr>\n    <tr>\n      <th>191</th>\n      <td>PARK CIRCLE</td>\n      <td>191</td>\n    </tr>\n    <tr>\n      <th>192</th>\n      <td>PARKLANE</td>\n      <td>192</td>\n    </tr>\n    <tr>\n      <th>193</th>\n      <td>PARKSIDE</td>\n      <td>193</td>\n    </tr>\n    <tr>\n      <th>194</th>\n      <td>PARKVIEW/WOODBROOK</td>\n      <td>194</td>\n    </tr>\n    <tr>\n      <th>195</th>\n      <td>PATTERSON PARK</td>\n      <td>195</td>\n    </tr>\n    <tr>\n      <th>196</th>\n      <td>PATTERSON PLACE</td>\n      <td>196</td>\n    </tr>\n    <tr>\n      <th>197</th>\n      <td>PEN LUCY</td>\n      <td>197</td>\n    </tr>\n    <tr>\n      <th>198</th>\n      <td>PENN NORTH</td>\n      <td>198</td>\n    </tr>\n    <tr>\n      <th>199</th>\n      <td>PENN-FALLSWAY</td>\n      <td>199</td>\n    </tr>\n    <tr>\n      <th>200</th>\n      <td>PENROSE/FAYETTE STREET OU</td>\n      <td>200</td>\n    </tr>\n    <tr>\n      <th>201</th>\n      <td>PERKINS HOMES</td>\n      <td>201</td>\n    </tr>\n    <tr>\n      <th>202</th>\n      <td>PERRING LOCH</td>\n      <td>202</td>\n    </tr>\n    <tr>\n      <th>203</th>\n      <td>PIMLICO GOOD NEIGHBORS</td>\n      <td>203</td>\n    </tr>\n    <tr>\n      <th>204</th>\n      <td>PLEASANT VIEW GARDENS</td>\n      <td>204</td>\n    </tr>\n    <tr>\n      <th>205</th>\n      <td>POPPLETON</td>\n      <td>205</td>\n    </tr>\n    <tr>\n      <th>206</th>\n      <td>PORT COVINGTON</td>\n      <td>206</td>\n    </tr>\n    <tr>\n      <th>207</th>\n      <td>PULASKI INDUSTRIAL AREA</td>\n      <td>207</td>\n    </tr>\n    <tr>\n      <th>208</th>\n      <td>PURNELL</td>\n      <td>208</td>\n    </tr>\n    <tr>\n      <th>209</th>\n      <td>RADNOR-WINSTON</td>\n      <td>209</td>\n    </tr>\n    <tr>\n      <th>210</th>\n      <td>RAMBLEWOOD</td>\n      <td>210</td>\n    </tr>\n    <tr>\n      <th>211</th>\n      <td>REISTERSTOWN STATION</td>\n      <td>211</td>\n    </tr>\n    <tr>\n      <th>212</th>\n      <td>REMINGTON</td>\n      <td>212</td>\n    </tr>\n    <tr>\n      <th>213</th>\n      <td>RESERVOIR HILL</td>\n      <td>213</td>\n    </tr>\n    <tr>\n      <th>214</th>\n      <td>RICHNOR SPRINGS</td>\n      <td>214</td>\n    </tr>\n    <tr>\n      <th>215</th>\n      <td>RIDGELY'S DELIGHT</td>\n      <td>215</td>\n    </tr>\n    <tr>\n      <th>216</th>\n      <td>RIVERSIDE</td>\n      <td>216</td>\n    </tr>\n    <tr>\n      <th>217</th>\n      <td>ROGNEL HEIGHTS</td>\n      <td>217</td>\n    </tr>\n    <tr>\n      <th>218</th>\n      <td>ROLAND PARK</td>\n      <td>218</td>\n    </tr>\n    <tr>\n      <th>219</th>\n      <td>ROSEBANK</td>\n      <td>219</td>\n    </tr>\n    <tr>\n      <th>220</th>\n      <td>ROSEMONT</td>\n      <td>220</td>\n    </tr>\n    <tr>\n      <th>221</th>\n      <td>ROSEMONT EAST</td>\n      <td>221</td>\n    </tr>\n    <tr>\n      <th>222</th>\n      <td>ROSEMONT HOMEOWNERS/TENAN</td>\n      <td>222</td>\n    </tr>\n    <tr>\n      <th>223</th>\n      <td>SABINA-MATTFELDT</td>\n      <td>223</td>\n    </tr>\n    <tr>\n      <th>224</th>\n      <td>SAINT AGNES</td>\n      <td>224</td>\n    </tr>\n    <tr>\n      <th>225</th>\n      <td>SAINT HELENA</td>\n      <td>225</td>\n    </tr>\n    <tr>\n      <th>226</th>\n      <td>SAINT JOSEPHS</td>\n      <td>226</td>\n    </tr>\n    <tr>\n      <th>227</th>\n      <td>SAINT PAUL</td>\n      <td>227</td>\n    </tr>\n    <tr>\n      <th>228</th>\n      <td>SANDTOWN-WINCHESTER</td>\n      <td>228</td>\n    </tr>\n    <tr>\n      <th>229</th>\n      <td>SETON BUSINESS PARK</td>\n      <td>229</td>\n    </tr>\n    <tr>\n      <th>230</th>\n      <td>SETON HILL</td>\n      <td>230</td>\n    </tr>\n    <tr>\n      <th>231</th>\n      <td>SHARP-LEADENHALL</td>\n      <td>231</td>\n    </tr>\n    <tr>\n      <th>232</th>\n      <td>SHIPLEY HILL</td>\n      <td>232</td>\n    </tr>\n    <tr>\n      <th>233</th>\n      <td>SOUTH BALTIMORE</td>\n      <td>233</td>\n    </tr>\n    <tr>\n      <th>234</th>\n      <td>SOUTH CLIFTON PARK</td>\n      <td>234</td>\n    </tr>\n    <tr>\n      <th>235</th>\n      <td>SPRING GARDEN INDUSTRIAL</td>\n      <td>235</td>\n    </tr>\n    <tr>\n      <th>236</th>\n      <td>STADIUM AREA</td>\n      <td>236</td>\n    </tr>\n    <tr>\n      <th>237</th>\n      <td>STONEWOOD-PENTWOOD-WINSTO</td>\n      <td>237</td>\n    </tr>\n    <tr>\n      <th>238</th>\n      <td>TAYLOR HEIGHTS</td>\n      <td>238</td>\n    </tr>\n    <tr>\n      <th>239</th>\n      <td>TEN HILLS</td>\n      <td>239</td>\n    </tr>\n    <tr>\n      <th>240</th>\n      <td>THE ORCHARDS</td>\n      <td>240</td>\n    </tr>\n    <tr>\n      <th>241</th>\n      <td>TOWANDA-GRANTLEY</td>\n      <td>241</td>\n    </tr>\n    <tr>\n      <th>242</th>\n      <td>TREMONT</td>\n      <td>242</td>\n    </tr>\n    <tr>\n      <th>243</th>\n      <td>TUSCANY-CANTERBURY</td>\n      <td>243</td>\n    </tr>\n    <tr>\n      <th>244</th>\n      <td>UNION SQUARE</td>\n      <td>244</td>\n    </tr>\n    <tr>\n      <th>245</th>\n      <td>UNIVERSITY OF MARYLAND</td>\n      <td>245</td>\n    </tr>\n    <tr>\n      <th>246</th>\n      <td>UPLANDS</td>\n      <td>246</td>\n    </tr>\n    <tr>\n      <th>247</th>\n      <td>UPPER FELLS POINT</td>\n      <td>247</td>\n    </tr>\n    <tr>\n      <th>248</th>\n      <td>UPTON</td>\n      <td>248</td>\n    </tr>\n    <tr>\n      <th>249</th>\n      <td>VILLAGES OF HOMELAND</td>\n      <td>249</td>\n    </tr>\n    <tr>\n      <th>250</th>\n      <td>VIOLETVILLE</td>\n      <td>250</td>\n    </tr>\n    <tr>\n      <th>251</th>\n      <td>WAKEFIELD</td>\n      <td>251</td>\n    </tr>\n    <tr>\n      <th>252</th>\n      <td>WALBROOK</td>\n      <td>252</td>\n    </tr>\n    <tr>\n      <th>253</th>\n      <td>WALTHERSON</td>\n      <td>253</td>\n    </tr>\n    <tr>\n      <th>254</th>\n      <td>WASHINGTON HILL</td>\n      <td>254</td>\n    </tr>\n    <tr>\n      <th>255</th>\n      <td>WASHINGTON VILLAGE/PIGTOW</td>\n      <td>255</td>\n    </tr>\n    <tr>\n      <th>256</th>\n      <td>WAVERLY</td>\n      <td>256</td>\n    </tr>\n    <tr>\n      <th>257</th>\n      <td>WEST ARLINGTON</td>\n      <td>257</td>\n    </tr>\n    <tr>\n      <th>258</th>\n      <td>WEST FOREST PARK</td>\n      <td>258</td>\n    </tr>\n    <tr>\n      <th>259</th>\n      <td>WEST HILLS</td>\n      <td>259</td>\n    </tr>\n    <tr>\n      <th>260</th>\n      <td>WESTFIELD</td>\n      <td>260</td>\n    </tr>\n    <tr>\n      <th>261</th>\n      <td>WESTGATE</td>\n      <td>261</td>\n    </tr>\n    <tr>\n      <th>262</th>\n      <td>WESTPORT</td>\n      <td>262</td>\n    </tr>\n    <tr>\n      <th>263</th>\n      <td>WILHELM PARK</td>\n      <td>263</td>\n    </tr>\n    <tr>\n      <th>264</th>\n      <td>WILSON PARK</td>\n      <td>264</td>\n    </tr>\n    <tr>\n      <th>265</th>\n      <td>WINCHESTER</td>\n      <td>265</td>\n    </tr>\n    <tr>\n      <th>266</th>\n      <td>WINDSOR HILLS</td>\n      <td>266</td>\n    </tr>\n    <tr>\n      <th>267</th>\n      <td>WINSTON-GOVANS</td>\n      <td>267</td>\n    </tr>\n    <tr>\n      <th>268</th>\n      <td>WOODBERRY</td>\n      <td>268</td>\n    </tr>\n    <tr>\n      <th>269</th>\n      <td>WOODBOURNE HEIGHTS</td>\n      <td>269</td>\n    </tr>\n    <tr>\n      <th>270</th>\n      <td>WOODBOURNE-MCCABE</td>\n      <td>270</td>\n    </tr>\n    <tr>\n      <th>271</th>\n      <td>WOODMERE</td>\n      <td>271</td>\n    </tr>\n    <tr>\n      <th>272</th>\n      <td>WRENLANE</td>\n      <td>272</td>\n    </tr>\n    <tr>\n      <th>273</th>\n      <td>WYMAN PARK</td>\n      <td>273</td>\n    </tr>\n    <tr>\n      <th>274</th>\n      <td>WYNDHURST</td>\n      <td>274</td>\n    </tr>\n    <tr>\n      <th>275</th>\n      <td>YALE HEIGHTS</td>\n      <td>275</td>\n    </tr>\n    <tr>\n      <th>276</th>\n      <td>YORK-HOMELAND</td>\n      <td>276</td>\n    </tr>\n  </tbody>\n</table>\n</div>"
     },
     "execution_count": 95,
     "metadata": {},
     "output_type": "execute_result"
    }
   ],
   "source": [
    "pd.set_option('display.max_rows', 500)\n",
    "Neighborhood"
   ],
   "metadata": {
    "collapsed": false,
    "pycharm": {
     "name": "#%%\n"
    }
   }
  },
  {
   "cell_type": "code",
   "execution_count": 96,
   "outputs": [],
   "source": [
    "df['Neighborhood'] = df['Neighborhood'].replace('COLDSTREAM HOMESTEAD MONTEBELLO', 'COLDSTREAM HOMESTEAD MONT')"
   ],
   "metadata": {
    "collapsed": false,
    "pycharm": {
     "name": "#%%\n"
    }
   }
  },
  {
   "cell_type": "code",
   "execution_count": 97,
   "outputs": [],
   "source": [
    "\n",
    "df['Neighborhood'] = df['Neighborhood'].replace('COPPIN HEIGHTS/ASH-CO-EAST', 'COPPIN HEIGHTS/ASH-CO-EAS')"
   ],
   "metadata": {
    "collapsed": false,
    "pycharm": {
     "name": "#%%\n"
    }
   }
  },
  {
   "cell_type": "code",
   "execution_count": 98,
   "outputs": [],
   "source": [
    "df['Neighborhood'] = df['Neighborhood'].replace('LOCUST POINT INDUSTRIAL AREA', 'LOCUST POINT INDUSTRIAL A')"
   ],
   "metadata": {
    "collapsed": false,
    "pycharm": {
     "name": "#%%\n"
    }
   }
  },
  {
   "cell_type": "code",
   "execution_count": 99,
   "outputs": [],
   "source": [
    "df = df[df['Neighborhood']!='HARFORD-ECHODALE/PERRING PARKWAY']"
   ],
   "metadata": {
    "collapsed": false,
    "pycharm": {
     "name": "#%%\n"
    }
   }
  },
  {
   "cell_type": "code",
   "execution_count": 100,
   "outputs": [],
   "source": [
    "df['Neighborhood'] = df['Neighborhood'].replace('WASHINGTON VILLAGE', 'WASHINGTON VILLAGE/PIGTOW')\n"
   ],
   "metadata": {
    "collapsed": false,
    "pycharm": {
     "name": "#%%\n"
    }
   }
  },
  {
   "cell_type": "code",
   "execution_count": 101,
   "outputs": [],
   "source": [
    "df = df[df['Neighborhood']!='BALTIMORE-LINWOOD']"
   ],
   "metadata": {
    "collapsed": false,
    "pycharm": {
     "name": "#%%\n"
    }
   }
  },
  {
   "cell_type": "code",
   "execution_count": 102,
   "outputs": [],
   "source": [
    "df['Neighborhood'] = df['Neighborhood'].replace('NORTHWEST COMMUNITY ACTION', 'NORTHWEST COMMUNITY ACTIO')\n"
   ],
   "metadata": {
    "collapsed": false,
    "pycharm": {
     "name": "#%%\n"
    }
   }
  },
  {
   "cell_type": "code",
   "execution_count": 103,
   "outputs": [],
   "source": [
    "df['Neighborhood'] = df['Neighborhood'].replace('PENROSE/FAYETTE STREET OUTREACH', 'PENROSE/FAYETTE STREET OU')\n"
   ],
   "metadata": {
    "collapsed": false,
    "pycharm": {
     "name": "#%%\n"
    }
   }
  },
  {
   "cell_type": "code",
   "execution_count": 104,
   "outputs": [],
   "source": [
    "df = df[df['Neighborhood']!='CHINQUAPIN PARK-BELVEDERE']\n",
    "\n"
   ],
   "metadata": {
    "collapsed": false,
    "pycharm": {
     "name": "#%%\n"
    }
   }
  },
  {
   "cell_type": "code",
   "execution_count": 105,
   "outputs": [],
   "source": [
    "df['Neighborhood'] = df['Neighborhood'].replace('BOOTH-BOYD', 'BOYD-BOOTH')"
   ],
   "metadata": {
    "collapsed": false,
    "pycharm": {
     "name": "#%%\n"
    }
   }
  },
  {
   "cell_type": "code",
   "execution_count": 106,
   "outputs": [],
   "source": [
    "df['Neighborhood'] = df['Neighborhood'].replace('GLENHAM-BELFORD', 'GLENHAM-BELHAR')"
   ],
   "metadata": {
    "collapsed": false,
    "pycharm": {
     "name": "#%%\n"
    }
   }
  },
  {
   "cell_type": "code",
   "execution_count": 107,
   "outputs": [],
   "source": [
    "df = df[df['Neighborhood']!='CLAREMONT-FREEDOM']\n"
   ],
   "metadata": {
    "collapsed": false,
    "pycharm": {
     "name": "#%%\n"
    }
   }
  },
  {
   "cell_type": "code",
   "execution_count": 108,
   "outputs": [],
   "source": [
    "df = df[df['Neighborhood']!='SBIC']"
   ],
   "metadata": {
    "collapsed": false,
    "pycharm": {
     "name": "#%%\n"
    }
   }
  },
  {
   "cell_type": "code",
   "execution_count": 109,
   "outputs": [],
   "source": [
    "df['Neighborhood'] = df['Neighborhood'].replace('ROSEMONT HOMEOWNERS/TENANTS', 'ROSEMONT HOMEOWNERS/TENAN')"
   ],
   "metadata": {
    "collapsed": false,
    "pycharm": {
     "name": "#%%\n"
    }
   }
  },
  {
   "cell_type": "code",
   "execution_count": 110,
   "outputs": [],
   "source": [
    "df['Neighborhood'] = df['Neighborhood'].replace('NORTH ROLAND PARK/POPLAR HILL', 'NORTH ROLAND PARK/POPLAR')\n"
   ],
   "metadata": {
    "collapsed": false,
    "pycharm": {
     "name": "#%%\n"
    }
   }
  },
  {
   "cell_type": "code",
   "execution_count": 111,
   "outputs": [],
   "source": [
    "df['Neighborhood'] = df['Neighborhood'].replace('CARROLL - CAMDEN INDUSTRIAL AREA', 'CARROLL - CAMDEN INDUSTRI')\n",
    "\n"
   ],
   "metadata": {
    "collapsed": false,
    "pycharm": {
     "name": "#%%\n"
    }
   }
  },
  {
   "cell_type": "code",
   "execution_count": 112,
   "outputs": [],
   "source": [
    "df['Neighborhood'] = df['Neighborhood'].replace('CONCERNED CITIZENS OF FOREST PARK', 'CONCERNED CITIZENS OF FOR')\n"
   ],
   "metadata": {
    "collapsed": false,
    "pycharm": {
     "name": "#%%\n"
    }
   }
  },
  {
   "cell_type": "code",
   "execution_count": 113,
   "outputs": [],
   "source": [
    "df = df[df['Neighborhood']!='WOODRING']"
   ],
   "metadata": {
    "collapsed": false,
    "pycharm": {
     "name": "#%%\n"
    }
   }
  },
  {
   "cell_type": "code",
   "execution_count": 114,
   "outputs": [],
   "source": [
    "df = df[df['Neighborhood']!='JOSEPH LEE']"
   ],
   "metadata": {
    "collapsed": false,
    "pycharm": {
     "name": "#%%\n"
    }
   }
  },
  {
   "cell_type": "code",
   "execution_count": 115,
   "outputs": [],
   "source": [
    "df['Neighborhood'] = df['Neighborhood'].replace('STONEWOOD-PENTWOOD-WINSTON', 'STONEWOOD-PENTWOOD-WINSTO')\n"
   ],
   "metadata": {
    "collapsed": false,
    "pycharm": {
     "name": "#%%\n"
    }
   }
  },
  {
   "cell_type": "code",
   "execution_count": 116,
   "outputs": [],
   "source": [
    "df = df[df['Neighborhood']!='WILSON HEIGHTS']"
   ],
   "metadata": {
    "collapsed": false,
    "pycharm": {
     "name": "#%%\n"
    }
   }
  },
  {
   "cell_type": "code",
   "execution_count": 117,
   "outputs": [],
   "source": [
    "df = df[df['Neighborhood']!='CHRISTOPHER']"
   ],
   "metadata": {
    "collapsed": false,
    "pycharm": {
     "name": "#%%\n"
    }
   }
  },
  {
   "cell_type": "code",
   "execution_count": 118,
   "outputs": [],
   "source": [
    "df['Neighborhood'] = df['Neighborhood'].replace('MIDDLE BRANCH/REEDBIRD PARKS', 'MIDDLE BRANCH/REEDBIRD PA')\n"
   ],
   "metadata": {
    "collapsed": false,
    "pycharm": {
     "name": "#%%\n"
    }
   }
  },
  {
   "cell_type": "code",
   "execution_count": 119,
   "outputs": [],
   "source": [
    "df['Neighborhood'] = df['Neighborhood'].replace('ORANGEVILLE INDUSTRIAL AREA', 'ORANGEVILLE INDUSTRIAL AR')\n"
   ],
   "metadata": {
    "collapsed": false,
    "pycharm": {
     "name": "#%%\n"
    }
   }
  },
  {
   "cell_type": "code",
   "execution_count": 120,
   "outputs": [],
   "source": [
    "df['Neighborhood'] = df['Neighborhood'].replace('CURTIS BAY INDUSTRIAL AREA', 'CURTIS BAY INDUSTRIAL ARE')\n"
   ],
   "metadata": {
    "collapsed": false,
    "pycharm": {
     "name": "#%%\n"
    }
   }
  },
  {
   "cell_type": "code",
   "execution_count": 121,
   "outputs": [],
   "source": [
    "df['Neighborhood'] = df['Neighborhood'].replace('SPRING GARDEN INDUSTRIAL AREA', 'SPRING GARDEN INDUSTRIAL')"
   ],
   "metadata": {
    "collapsed": false,
    "pycharm": {
     "name": "#%%\n"
    }
   }
  },
  {
   "cell_type": "code",
   "execution_count": 122,
   "outputs": [],
   "source": [
    "df[\"Neighborhood\"]=le.transform(df[\"Neighborhood\"])\n"
   ],
   "metadata": {
    "collapsed": false,
    "pycharm": {
     "name": "#%%\n"
    }
   }
  },
  {
   "cell_type": "markdown",
   "source": [
    "Dear lord. Finally. Now the premises.......\n",
    "\n"
   ],
   "metadata": {
    "collapsed": false,
    "pycharm": {
     "name": "#%% md\n"
    }
   }
  },
  {
   "cell_type": "code",
   "execution_count": 123,
   "outputs": [],
   "source": [
    "Premise = pd.read_csv(\"../data/V2_Premise_decoder.csv\", header=None)\n"
   ],
   "metadata": {
    "collapsed": false,
    "pycharm": {
     "name": "#%%\n"
    }
   }
  },
  {
   "cell_type": "code",
   "execution_count": 124,
   "outputs": [
    {
     "data": {
      "text/plain": "              0   1\n0         ALLEY   0\n1     APARTMENT   1\n2    ATM MACHIN   2\n3    AUTO PARTS   3\n4        BAKERY   4\n5    BANK/FINAN   5\n6           BAR   6\n7    BARBER/BEA   7\n8     BOAT YARD   8\n9     BOAT/SHIP   9\n10   BRIDGE-PIE  10\n11   BUS.  STOR  11\n12    BUS. PARK  12\n13     BUS/AUTO  13\n14   BUS/RAILRO  14\n15          CAB  15\n16   CAR  REPAI  16\n17   CAR LOT-NE  17\n18    CARRY OUT  18\n19     CEMETERY  19\n20   CHAIN FOOD  20\n21   CLOTHING/S  21\n22   CLUB HOUSE  22\n23   CONSTRUCTI  23\n24   CONVENIENC  24\n25   CONVENTION  25\n26   COURT HOUS  26\n27   DEPARTMENT  27\n28   DOCTORS OF  28\n29     DRIVEWAY  29\n30   DRUG STORE  30\n31     DWELLING  31\n32    FAST FOOD  32\n33   FIRE DEPAR  33\n34   GAS STATIO  34\n35   GROCERY/CO  35\n36   HARDWARE/B  36\n37     HOSPITAL  37\n38   HOTEL/MOTE  38\n39   INNER HARB  39\n40   JEWELRY ST  40\n41   LAUNDRY/CL  41\n42      LIBRARY  42\n43   LIGHT RAIL  43\n44   LIQUOR STO  44\n45   MARKET STA  45\n46   MINI STORA  46\n47      MTA LOT  47\n48   NIGHT DEPO  48\n49   OFFICE BUI  49\n50   OTHER - IN  50\n51   OTHER - OU  51\n52   OTHER/RESI  52\n53         PARK  53\n54   PARKING LO  54\n55    PAWN SHOP  55\n56   PENITENTIA  56\n57   PLAYGROUND  57\n58   POLICE DEP  58\n59   POOL/BOWLI  59\n60   PORCH/DECK  60\n61   PUBLIC ARE  61\n62   PUBLIC BUI  62\n63   PUBLIC HOU  63\n64   RACE TRACK  64\n65   RECREATION  65\n66    RELIGIOUS  66\n67   RESTAURANT  67\n68   RETAIL/SMA  68\n69   ROW/TOWNHO  69\n70   SALESMAN/C  70\n71       SCHOOL  71\n72   SCHOOL PLA  72\n73  SHED/GARAGE  73\n74   SHOPPING M  74\n75   SINGLE HOU  75\n76    SPECIALTY  76\n77      STADIUM  77\n78       STREET  78\n79       SUBWAY  79\n80      THEATRE  80\n81   TRACTOR TR  81\n82      UNKNOWN  82\n83   UTILITIES-  83\n84   VACANT BUI  84\n85   VACANT DWE  85\n86   VACANT LOT  86\n87    WAREHOUSE  87\n88   WHOLESALE/  88\n89         YARD  89",
      "text/html": "<div>\n<style scoped>\n    .dataframe tbody tr th:only-of-type {\n        vertical-align: middle;\n    }\n\n    .dataframe tbody tr th {\n        vertical-align: top;\n    }\n\n    .dataframe thead th {\n        text-align: right;\n    }\n</style>\n<table border=\"1\" class=\"dataframe\">\n  <thead>\n    <tr style=\"text-align: right;\">\n      <th></th>\n      <th>0</th>\n      <th>1</th>\n    </tr>\n  </thead>\n  <tbody>\n    <tr>\n      <th>0</th>\n      <td>ALLEY</td>\n      <td>0</td>\n    </tr>\n    <tr>\n      <th>1</th>\n      <td>APARTMENT</td>\n      <td>1</td>\n    </tr>\n    <tr>\n      <th>2</th>\n      <td>ATM MACHIN</td>\n      <td>2</td>\n    </tr>\n    <tr>\n      <th>3</th>\n      <td>AUTO PARTS</td>\n      <td>3</td>\n    </tr>\n    <tr>\n      <th>4</th>\n      <td>BAKERY</td>\n      <td>4</td>\n    </tr>\n    <tr>\n      <th>5</th>\n      <td>BANK/FINAN</td>\n      <td>5</td>\n    </tr>\n    <tr>\n      <th>6</th>\n      <td>BAR</td>\n      <td>6</td>\n    </tr>\n    <tr>\n      <th>7</th>\n      <td>BARBER/BEA</td>\n      <td>7</td>\n    </tr>\n    <tr>\n      <th>8</th>\n      <td>BOAT YARD</td>\n      <td>8</td>\n    </tr>\n    <tr>\n      <th>9</th>\n      <td>BOAT/SHIP</td>\n      <td>9</td>\n    </tr>\n    <tr>\n      <th>10</th>\n      <td>BRIDGE-PIE</td>\n      <td>10</td>\n    </tr>\n    <tr>\n      <th>11</th>\n      <td>BUS.  STOR</td>\n      <td>11</td>\n    </tr>\n    <tr>\n      <th>12</th>\n      <td>BUS. PARK</td>\n      <td>12</td>\n    </tr>\n    <tr>\n      <th>13</th>\n      <td>BUS/AUTO</td>\n      <td>13</td>\n    </tr>\n    <tr>\n      <th>14</th>\n      <td>BUS/RAILRO</td>\n      <td>14</td>\n    </tr>\n    <tr>\n      <th>15</th>\n      <td>CAB</td>\n      <td>15</td>\n    </tr>\n    <tr>\n      <th>16</th>\n      <td>CAR  REPAI</td>\n      <td>16</td>\n    </tr>\n    <tr>\n      <th>17</th>\n      <td>CAR LOT-NE</td>\n      <td>17</td>\n    </tr>\n    <tr>\n      <th>18</th>\n      <td>CARRY OUT</td>\n      <td>18</td>\n    </tr>\n    <tr>\n      <th>19</th>\n      <td>CEMETERY</td>\n      <td>19</td>\n    </tr>\n    <tr>\n      <th>20</th>\n      <td>CHAIN FOOD</td>\n      <td>20</td>\n    </tr>\n    <tr>\n      <th>21</th>\n      <td>CLOTHING/S</td>\n      <td>21</td>\n    </tr>\n    <tr>\n      <th>22</th>\n      <td>CLUB HOUSE</td>\n      <td>22</td>\n    </tr>\n    <tr>\n      <th>23</th>\n      <td>CONSTRUCTI</td>\n      <td>23</td>\n    </tr>\n    <tr>\n      <th>24</th>\n      <td>CONVENIENC</td>\n      <td>24</td>\n    </tr>\n    <tr>\n      <th>25</th>\n      <td>CONVENTION</td>\n      <td>25</td>\n    </tr>\n    <tr>\n      <th>26</th>\n      <td>COURT HOUS</td>\n      <td>26</td>\n    </tr>\n    <tr>\n      <th>27</th>\n      <td>DEPARTMENT</td>\n      <td>27</td>\n    </tr>\n    <tr>\n      <th>28</th>\n      <td>DOCTORS OF</td>\n      <td>28</td>\n    </tr>\n    <tr>\n      <th>29</th>\n      <td>DRIVEWAY</td>\n      <td>29</td>\n    </tr>\n    <tr>\n      <th>30</th>\n      <td>DRUG STORE</td>\n      <td>30</td>\n    </tr>\n    <tr>\n      <th>31</th>\n      <td>DWELLING</td>\n      <td>31</td>\n    </tr>\n    <tr>\n      <th>32</th>\n      <td>FAST FOOD</td>\n      <td>32</td>\n    </tr>\n    <tr>\n      <th>33</th>\n      <td>FIRE DEPAR</td>\n      <td>33</td>\n    </tr>\n    <tr>\n      <th>34</th>\n      <td>GAS STATIO</td>\n      <td>34</td>\n    </tr>\n    <tr>\n      <th>35</th>\n      <td>GROCERY/CO</td>\n      <td>35</td>\n    </tr>\n    <tr>\n      <th>36</th>\n      <td>HARDWARE/B</td>\n      <td>36</td>\n    </tr>\n    <tr>\n      <th>37</th>\n      <td>HOSPITAL</td>\n      <td>37</td>\n    </tr>\n    <tr>\n      <th>38</th>\n      <td>HOTEL/MOTE</td>\n      <td>38</td>\n    </tr>\n    <tr>\n      <th>39</th>\n      <td>INNER HARB</td>\n      <td>39</td>\n    </tr>\n    <tr>\n      <th>40</th>\n      <td>JEWELRY ST</td>\n      <td>40</td>\n    </tr>\n    <tr>\n      <th>41</th>\n      <td>LAUNDRY/CL</td>\n      <td>41</td>\n    </tr>\n    <tr>\n      <th>42</th>\n      <td>LIBRARY</td>\n      <td>42</td>\n    </tr>\n    <tr>\n      <th>43</th>\n      <td>LIGHT RAIL</td>\n      <td>43</td>\n    </tr>\n    <tr>\n      <th>44</th>\n      <td>LIQUOR STO</td>\n      <td>44</td>\n    </tr>\n    <tr>\n      <th>45</th>\n      <td>MARKET STA</td>\n      <td>45</td>\n    </tr>\n    <tr>\n      <th>46</th>\n      <td>MINI STORA</td>\n      <td>46</td>\n    </tr>\n    <tr>\n      <th>47</th>\n      <td>MTA LOT</td>\n      <td>47</td>\n    </tr>\n    <tr>\n      <th>48</th>\n      <td>NIGHT DEPO</td>\n      <td>48</td>\n    </tr>\n    <tr>\n      <th>49</th>\n      <td>OFFICE BUI</td>\n      <td>49</td>\n    </tr>\n    <tr>\n      <th>50</th>\n      <td>OTHER - IN</td>\n      <td>50</td>\n    </tr>\n    <tr>\n      <th>51</th>\n      <td>OTHER - OU</td>\n      <td>51</td>\n    </tr>\n    <tr>\n      <th>52</th>\n      <td>OTHER/RESI</td>\n      <td>52</td>\n    </tr>\n    <tr>\n      <th>53</th>\n      <td>PARK</td>\n      <td>53</td>\n    </tr>\n    <tr>\n      <th>54</th>\n      <td>PARKING LO</td>\n      <td>54</td>\n    </tr>\n    <tr>\n      <th>55</th>\n      <td>PAWN SHOP</td>\n      <td>55</td>\n    </tr>\n    <tr>\n      <th>56</th>\n      <td>PENITENTIA</td>\n      <td>56</td>\n    </tr>\n    <tr>\n      <th>57</th>\n      <td>PLAYGROUND</td>\n      <td>57</td>\n    </tr>\n    <tr>\n      <th>58</th>\n      <td>POLICE DEP</td>\n      <td>58</td>\n    </tr>\n    <tr>\n      <th>59</th>\n      <td>POOL/BOWLI</td>\n      <td>59</td>\n    </tr>\n    <tr>\n      <th>60</th>\n      <td>PORCH/DECK</td>\n      <td>60</td>\n    </tr>\n    <tr>\n      <th>61</th>\n      <td>PUBLIC ARE</td>\n      <td>61</td>\n    </tr>\n    <tr>\n      <th>62</th>\n      <td>PUBLIC BUI</td>\n      <td>62</td>\n    </tr>\n    <tr>\n      <th>63</th>\n      <td>PUBLIC HOU</td>\n      <td>63</td>\n    </tr>\n    <tr>\n      <th>64</th>\n      <td>RACE TRACK</td>\n      <td>64</td>\n    </tr>\n    <tr>\n      <th>65</th>\n      <td>RECREATION</td>\n      <td>65</td>\n    </tr>\n    <tr>\n      <th>66</th>\n      <td>RELIGIOUS</td>\n      <td>66</td>\n    </tr>\n    <tr>\n      <th>67</th>\n      <td>RESTAURANT</td>\n      <td>67</td>\n    </tr>\n    <tr>\n      <th>68</th>\n      <td>RETAIL/SMA</td>\n      <td>68</td>\n    </tr>\n    <tr>\n      <th>69</th>\n      <td>ROW/TOWNHO</td>\n      <td>69</td>\n    </tr>\n    <tr>\n      <th>70</th>\n      <td>SALESMAN/C</td>\n      <td>70</td>\n    </tr>\n    <tr>\n      <th>71</th>\n      <td>SCHOOL</td>\n      <td>71</td>\n    </tr>\n    <tr>\n      <th>72</th>\n      <td>SCHOOL PLA</td>\n      <td>72</td>\n    </tr>\n    <tr>\n      <th>73</th>\n      <td>SHED/GARAGE</td>\n      <td>73</td>\n    </tr>\n    <tr>\n      <th>74</th>\n      <td>SHOPPING M</td>\n      <td>74</td>\n    </tr>\n    <tr>\n      <th>75</th>\n      <td>SINGLE HOU</td>\n      <td>75</td>\n    </tr>\n    <tr>\n      <th>76</th>\n      <td>SPECIALTY</td>\n      <td>76</td>\n    </tr>\n    <tr>\n      <th>77</th>\n      <td>STADIUM</td>\n      <td>77</td>\n    </tr>\n    <tr>\n      <th>78</th>\n      <td>STREET</td>\n      <td>78</td>\n    </tr>\n    <tr>\n      <th>79</th>\n      <td>SUBWAY</td>\n      <td>79</td>\n    </tr>\n    <tr>\n      <th>80</th>\n      <td>THEATRE</td>\n      <td>80</td>\n    </tr>\n    <tr>\n      <th>81</th>\n      <td>TRACTOR TR</td>\n      <td>81</td>\n    </tr>\n    <tr>\n      <th>82</th>\n      <td>UNKNOWN</td>\n      <td>82</td>\n    </tr>\n    <tr>\n      <th>83</th>\n      <td>UTILITIES-</td>\n      <td>83</td>\n    </tr>\n    <tr>\n      <th>84</th>\n      <td>VACANT BUI</td>\n      <td>84</td>\n    </tr>\n    <tr>\n      <th>85</th>\n      <td>VACANT DWE</td>\n      <td>85</td>\n    </tr>\n    <tr>\n      <th>86</th>\n      <td>VACANT LOT</td>\n      <td>86</td>\n    </tr>\n    <tr>\n      <th>87</th>\n      <td>WAREHOUSE</td>\n      <td>87</td>\n    </tr>\n    <tr>\n      <th>88</th>\n      <td>WHOLESALE/</td>\n      <td>88</td>\n    </tr>\n    <tr>\n      <th>89</th>\n      <td>YARD</td>\n      <td>89</td>\n    </tr>\n  </tbody>\n</table>\n</div>"
     },
     "execution_count": 124,
     "metadata": {},
     "output_type": "execute_result"
    }
   ],
   "source": [
    "Premise"
   ],
   "metadata": {
    "collapsed": false,
    "pycharm": {
     "name": "#%%\n"
    }
   }
  },
  {
   "cell_type": "code",
   "execution_count": 125,
   "outputs": [
    {
     "data": {
      "text/plain": "LabelEncoder()"
     },
     "execution_count": 125,
     "metadata": {},
     "output_type": "execute_result"
    }
   ],
   "source": [
    "le.fit(Premise[0])\n"
   ],
   "metadata": {
    "collapsed": false,
    "pycharm": {
     "name": "#%%\n"
    }
   }
  },
  {
   "cell_type": "code",
   "execution_count": 126,
   "outputs": [],
   "source": [
    "df[\"Premise\"] = [i.rstrip() for i in df[\"Premise\"]]"
   ],
   "metadata": {
    "collapsed": false,
    "pycharm": {
     "name": "#%%\n"
    }
   }
  },
  {
   "cell_type": "code",
   "execution_count": 127,
   "outputs": [],
   "source": [
    "df['Premise'] = df['Premise'].replace('ROW/TOWNHOUSE-OCC', 'ROW/TOWNHO')"
   ],
   "metadata": {
    "collapsed": false,
    "pycharm": {
     "name": "#%%\n"
    }
   }
  },
  {
   "cell_type": "code",
   "execution_count": 128,
   "outputs": [],
   "source": [
    "\n",
    "df['Premise'] = df['Premise'].replace('HOTEL/MOTEL', 'HOTEL/MOTE')"
   ],
   "metadata": {
    "collapsed": false,
    "pycharm": {
     "name": "#%%\n"
    }
   }
  },
  {
   "cell_type": "code",
   "execution_count": 129,
   "outputs": [],
   "source": [
    "df['Premise'] = df['Premise'].replace('OTHER - INSIDE', 'OTHER - IN')"
   ],
   "metadata": {
    "collapsed": false,
    "pycharm": {
     "name": "#%%\n"
    }
   }
  },
  {
   "cell_type": "code",
   "execution_count": 130,
   "outputs": [],
   "source": [
    "\n",
    "df['Premise'] = df['Premise'].replace('ROW/TOWNHOUSE-VAC', 'ROW/TOWNHO')"
   ],
   "metadata": {
    "collapsed": false,
    "pycharm": {
     "name": "#%%\n"
    }
   }
  },
  {
   "cell_type": "code",
   "execution_count": 131,
   "outputs": [],
   "source": [
    "df['Premise'] = df['Premise'].replace('RETAIL/SMALL BUSINES', 'RETAIL/SMA')"
   ],
   "metadata": {
    "collapsed": false,
    "pycharm": {
     "name": "#%%\n"
    }
   }
  },
  {
   "cell_type": "code",
   "execution_count": 132,
   "outputs": [],
   "source": [
    "df['Premise'] = df['Premise'].replace('APT/CONDO - OCCUPIED', 'APARTMENT')"
   ],
   "metadata": {
    "collapsed": false,
    "pycharm": {
     "name": "#%%\n"
    }
   }
  },
  {
   "cell_type": "code",
   "execution_count": 133,
   "outputs": [],
   "source": [
    "df['Premise'] = df['Premise'].replace('PARKING LOT-OUTSIDE', 'PARKING LO')"
   ],
   "metadata": {
    "collapsed": false,
    "pycharm": {
     "name": "#%%\n"
    }
   }
  },
  {
   "cell_type": "code",
   "execution_count": 134,
   "outputs": [],
   "source": [
    "df['Premise'] = df['Premise'].replace('GARAGE ON PRIV. PROP', 'SHED/GARAGE')\n"
   ],
   "metadata": {
    "collapsed": false,
    "pycharm": {
     "name": "#%%\n"
    }
   }
  },
  {
   "cell_type": "code",
   "execution_count": 135,
   "outputs": [],
   "source": [
    "df['Premise'] = df['Premise'].replace('RELIGIOUS  INSTITUTI', 'RELIGIOUS')\n"
   ],
   "metadata": {
    "collapsed": false,
    "pycharm": {
     "name": "#%%\n"
    }
   }
  },
  {
   "cell_type": "code",
   "execution_count": 136,
   "outputs": [],
   "source": [
    "df['Premise'] = df['Premise'].replace('OTHER - OUTSIDE', 'OTHER - OU')"
   ],
   "metadata": {
    "collapsed": false,
    "pycharm": {
     "name": "#%%\n"
    }
   }
  },
  {
   "cell_type": "code",
   "execution_count": 137,
   "outputs": [],
   "source": [
    "df['Premise'] = df['Premise'].replace('VACANT BUILDING', 'VACANT BUI')"
   ],
   "metadata": {
    "collapsed": false,
    "pycharm": {
     "name": "#%%\n"
    }
   }
  },
  {
   "cell_type": "code",
   "execution_count": 138,
   "outputs": [],
   "source": [
    "df['Premise'] = df['Premise'].replace('OTHER/RESIDENTIAL', 'OTHER/RESI')"
   ],
   "metadata": {
    "collapsed": false,
    "pycharm": {
     "name": "#%%\n"
    }
   }
  },
  {
   "cell_type": "code",
   "execution_count": 139,
   "outputs": [],
   "source": [
    "df['Premise'] = df['Premise'].replace('YARD/BUSINESS', 'YARD')"
   ],
   "metadata": {
    "collapsed": false,
    "pycharm": {
     "name": "#%%\n"
    }
   }
  },
  {
   "cell_type": "code",
   "execution_count": 140,
   "outputs": [],
   "source": [
    "df['Premise'] = df['Premise'].replace('POLICE DEPARTMENT', 'POLICE DEP')\n"
   ],
   "metadata": {
    "collapsed": false,
    "pycharm": {
     "name": "#%%\n"
    }
   }
  },
  {
   "cell_type": "code",
   "execution_count": 141,
   "outputs": [],
   "source": [
    "df['Premise'] = df['Premise'].replace('GAS STATION', 'GAS STATIO')"
   ],
   "metadata": {
    "collapsed": false,
    "pycharm": {
     "name": "#%%\n"
    }
   }
  },
  {
   "cell_type": "code",
   "execution_count": 142,
   "outputs": [],
   "source": [
    "df['Premise'] = df['Premise'].replace('SHOPPING MALLS/CNTR', 'SHOPPING M')"
   ],
   "metadata": {
    "collapsed": false,
    "pycharm": {
     "name": "#%%\n"
    }
   }
  },
  {
   "cell_type": "code",
   "execution_count": 143,
   "outputs": [],
   "source": [
    "df['Premise'] = df['Premise'].replace('RECREATION FACILITY', 'RECREATION')\n"
   ],
   "metadata": {
    "collapsed": false,
    "pycharm": {
     "name": "#%%\n"
    }
   }
  },
  {
   "cell_type": "code",
   "execution_count": 144,
   "outputs": [],
   "source": [
    "df['Premise'] = df['Premise'].replace('HOSP/NURS. HOME', 'HOSPITAL')"
   ],
   "metadata": {
    "collapsed": false,
    "pycharm": {
     "name": "#%%\n"
    }
   }
  },
  {
   "cell_type": "code",
   "execution_count": 145,
   "outputs": [],
   "source": [
    "df['Premise'] = df['Premise'].replace('PARKING LOT', 'PARKING LO')"
   ],
   "metadata": {
    "collapsed": false,
    "pycharm": {
     "name": "#%%\n"
    }
   }
  },
  {
   "cell_type": "code",
   "execution_count": 146,
   "outputs": [],
   "source": [
    "df['Premise'] = df['Premise'].replace('DRUG STORE / MED  BL', 'DRUG STORE')\n"
   ],
   "metadata": {
    "collapsed": false,
    "pycharm": {
     "name": "#%%\n"
    }
   }
  },
  {
   "cell_type": "code",
   "execution_count": 147,
   "outputs": [],
   "source": [
    "df['Premise'] = df['Premise'].replace('CONVENIENCE STORE', 'CONVENIENC')"
   ],
   "metadata": {
    "collapsed": false,
    "pycharm": {
     "name": "#%%\n"
    }
   }
  },
  {
   "cell_type": "code",
   "execution_count": 148,
   "outputs": [],
   "source": [
    "df['Premise'] = df['Premise'].replace('LAUNDRY/CLEANRS/SHOE', 'LAUNDRY/CL')"
   ],
   "metadata": {
    "collapsed": false,
    "pycharm": {
     "name": "#%%\n"
    }
   }
  },
  {
   "cell_type": "code",
   "execution_count": 149,
   "outputs": [],
   "source": [
    "df['Premise'] = df['Premise'].replace('PUBLIC HOUSING', 'PUBLIC HOU')"
   ],
   "metadata": {
    "collapsed": false,
    "pycharm": {
     "name": "#%%\n"
    }
   }
  },
  {
   "cell_type": "code",
   "execution_count": 150,
   "outputs": [],
   "source": [
    "df['Premise'] = df['Premise'].replace('SINGLE HOUSE', 'SINGLE HOU')"
   ],
   "metadata": {
    "collapsed": false,
    "pycharm": {
     "name": "#%%\n"
    }
   }
  },
  {
   "cell_type": "code",
   "execution_count": 151,
   "outputs": [],
   "source": [
    "df['Premise'] = df['Premise'].replace('BUS.  STORAGE SHED', 'BUS.  STOR')"
   ],
   "metadata": {
    "collapsed": false,
    "pycharm": {
     "name": "#%%\n"
    }
   }
  },
  {
   "cell_type": "code",
   "execution_count": 152,
   "outputs": [],
   "source": [
    "df['Premise'] = df['Premise'].replace('BUS. STOR', 'BUS.  STOR')\n"
   ],
   "metadata": {
    "collapsed": false,
    "pycharm": {
     "name": "#%%\n"
    }
   }
  },
  {
   "cell_type": "code",
   "execution_count": 153,
   "outputs": [],
   "source": [
    "df['Premise'] = df['Premise'].replace('CAR  REPAIR SHOP', 'CAR  REPAI')\n"
   ],
   "metadata": {
    "collapsed": false,
    "pycharm": {
     "name": "#%%\n"
    }
   }
  },
  {
   "cell_type": "code",
   "execution_count": 154,
   "outputs": [],
   "source": [
    "df['Premise'] = df['Premise'].replace('CAR REPAI', 'CAR  REPAI')\n"
   ],
   "metadata": {
    "collapsed": false,
    "pycharm": {
     "name": "#%%\n"
    }
   }
  },
  {
   "cell_type": "code",
   "execution_count": 155,
   "outputs": [],
   "source": [
    "df['Premise'] = df['Premise'].replace('LIQUOR STORE', 'LIQUOR STO')\n"
   ],
   "metadata": {
    "collapsed": false,
    "pycharm": {
     "name": "#%%\n"
    }
   }
  },
  {
   "cell_type": "code",
   "execution_count": 156,
   "outputs": [],
   "source": [
    "df['Premise'] = df['Premise'].replace('OFFICE BUILDING', 'OFFICE BUI')\n"
   ],
   "metadata": {
    "collapsed": false,
    "pycharm": {
     "name": "#%%\n"
    }
   }
  },
  {
   "cell_type": "code",
   "execution_count": 157,
   "outputs": [],
   "source": [
    "df['Premise'] = df['Premise'].replace('BANK/FINANCIAL INST', 'BANK/FINAN')\n"
   ],
   "metadata": {
    "collapsed": false,
    "pycharm": {
     "name": "#%%\n"
    }
   }
  },
  {
   "cell_type": "code",
   "execution_count": 158,
   "outputs": [],
   "source": [
    "df['Premise'] = df['Premise'].replace('BARBER/BEAUTY SHOP', 'BARBER/BEA')\n"
   ],
   "metadata": {
    "collapsed": false,
    "pycharm": {
     "name": "#%%\n"
    }
   }
  },
  {
   "cell_type": "code",
   "execution_count": 159,
   "outputs": [],
   "source": [
    "df['Premise'] = df['Premise'].replace('CAR LOT-NEW/USED', 'CAR LOT-NE')"
   ],
   "metadata": {
    "collapsed": false,
    "pycharm": {
     "name": "#%%\n"
    }
   }
  },
  {
   "cell_type": "code",
   "execution_count": 160,
   "outputs": [],
   "source": [
    "df['Premise'] = df['Premise'].replace('WHOLESALE/DISC. STOR', 'WHOLESALE/')\n"
   ],
   "metadata": {
    "collapsed": false,
    "pycharm": {
     "name": "#%%\n"
    }
   }
  },
  {
   "cell_type": "code",
   "execution_count": 161,
   "outputs": [],
   "source": [
    "df['Premise'] = df['Premise'].replace('GROCERY/CONFECTION', 'GROCERY/CO')"
   ],
   "metadata": {
    "collapsed": false,
    "pycharm": {
     "name": "#%%\n"
    }
   }
  },
  {
   "cell_type": "code",
   "execution_count": 162,
   "outputs": [],
   "source": [
    "df['Premise'] = df['Premise'].replace('JEWELRY STORE', 'JEWELRY ST')"
   ],
   "metadata": {
    "collapsed": false,
    "pycharm": {
     "name": "#%%\n"
    }
   }
  },
  {
   "cell_type": "code",
   "execution_count": 163,
   "outputs": [],
   "source": [
    "df['Premise'] = df['Premise'].replace('SPECIALTY STORE', 'SPECIALTY')"
   ],
   "metadata": {
    "collapsed": false,
    "pycharm": {
     "name": "#%%\n"
    }
   }
  },
  {
   "cell_type": "code",
   "execution_count": 164,
   "outputs": [],
   "source": [
    "df['Premise'] = df['Premise'].replace('AUTO PARTS STORE', 'AUTO PARTS')"
   ],
   "metadata": {
    "collapsed": false,
    "pycharm": {
     "name": "#%%\n"
    }
   }
  },
  {
   "cell_type": "code",
   "execution_count": 165,
   "outputs": [],
   "source": [
    "df['Premise'] = df['Premise'].replace('PUBLIC AREA', 'PUBLIC ARE')"
   ],
   "metadata": {
    "collapsed": false,
    "pycharm": {
     "name": "#%%\n"
    }
   }
  },
  {
   "cell_type": "code",
   "execution_count": 166,
   "outputs": [],
   "source": [
    "df['Premise'] = df['Premise'].replace('PARKING LOT-INSIDE', 'PARKING LO')"
   ],
   "metadata": {
    "collapsed": false,
    "pycharm": {
     "name": "#%%\n"
    }
   }
  },
  {
   "cell_type": "code",
   "execution_count": 167,
   "outputs": [],
   "source": [
    "df['Premise'] = df['Premise'].replace('GARAGE', 'SHED/GARAGE')"
   ],
   "metadata": {
    "collapsed": false,
    "pycharm": {
     "name": "#%%\n"
    }
   }
  },
  {
   "cell_type": "code",
   "execution_count": 168,
   "outputs": [],
   "source": [
    "df['Premise'] = df['Premise'].replace('PUBLIC BUILDING', 'PUBLIC BUI')"
   ],
   "metadata": {
    "collapsed": false,
    "pycharm": {
     "name": "#%%\n"
    }
   }
  },
  {
   "cell_type": "code",
   "execution_count": 169,
   "outputs": [],
   "source": [
    "df['Premise'] = df['Premise'].replace('VACANT LOT/WOODS', 'VACANT LOT')"
   ],
   "metadata": {
    "collapsed": false,
    "pycharm": {
     "name": "#%%\n"
    }
   }
  },
  {
   "cell_type": "code",
   "execution_count": 170,
   "outputs": [],
   "source": [
    "df['Premise'] = df['Premise'].replace('INNER HARBOR-S-KEY', 'INNER HARB')"
   ],
   "metadata": {
    "collapsed": false,
    "pycharm": {
     "name": "#%%\n"
    }
   }
  },
  {
   "cell_type": "code",
   "execution_count": 171,
   "outputs": [],
   "source": [
    "df['Premise'] = df['Premise'].replace('CLOTHING/SHOE STORE', 'CLOTHING/S')"
   ],
   "metadata": {
    "collapsed": false,
    "pycharm": {
     "name": "#%%\n"
    }
   }
  },
  {
   "cell_type": "code",
   "execution_count": 172,
   "outputs": [],
   "source": [
    "df['Premise'] = df['Premise'].replace('COMMON BUSINESS', 'BUS/AUTO')\n"
   ],
   "metadata": {
    "collapsed": false,
    "pycharm": {
     "name": "#%%\n"
    }
   }
  },
  {
   "cell_type": "markdown",
   "source": [
    "That last one is an error in the original."
   ],
   "metadata": {
    "collapsed": false,
    "pycharm": {
     "name": "#%% md\n"
    }
   }
  },
  {
   "cell_type": "code",
   "execution_count": 173,
   "outputs": [],
   "source": [
    "df['Premise'] = df['Premise'].replace(\"BOX CARS/COMM'L TRLR\", 'BUS/RAILRO')"
   ],
   "metadata": {
    "collapsed": false,
    "pycharm": {
     "name": "#%%\n"
    }
   }
  },
  {
   "cell_type": "code",
   "execution_count": 174,
   "outputs": [],
   "source": [
    "df['Premise'] = df['Premise'].replace(\"MARKET STALLS\", 'MARKET STA')"
   ],
   "metadata": {
    "collapsed": false,
    "pycharm": {
     "name": "#%%\n"
    }
   }
  },
  {
   "cell_type": "code",
   "execution_count": 175,
   "outputs": [],
   "source": [
    "df['Premise'] = df['Premise'].replace(\"CLUB HOUSE/FRATERNIT\", 'CLUB HOUSE')"
   ],
   "metadata": {
    "collapsed": false,
    "pycharm": {
     "name": "#%%\n"
    }
   }
  },
  {
   "cell_type": "code",
   "execution_count": 176,
   "outputs": [],
   "source": [
    "df['Premise'] = df['Premise'].replace(\"BUS. PARK LOT-OUTSID\", 'BUS. PARK')\n"
   ],
   "metadata": {
    "collapsed": false,
    "pycharm": {
     "name": "#%%\n"
    }
   }
  },
  {
   "cell_type": "code",
   "execution_count": 177,
   "outputs": [],
   "source": [
    "df['Premise'] = df['Premise'].replace(\"INNER HARBOR-W-LIGHT\", 'INNER HARB')\n"
   ],
   "metadata": {
    "collapsed": false,
    "pycharm": {
     "name": "#%%\n"
    }
   }
  },
  {
   "cell_type": "code",
   "execution_count": 178,
   "outputs": [],
   "source": [
    "df['Premise'] = df['Premise'].replace(\"BUS/RAILROAD STATION\", 'BUS/RAILRO')"
   ],
   "metadata": {
    "collapsed": false,
    "pycharm": {
     "name": "#%%\n"
    }
   }
  },
  {
   "cell_type": "markdown",
   "source": [
    "That one is also a mistake with the original...\n"
   ],
   "metadata": {
    "collapsed": false,
    "pycharm": {
     "name": "#%% md\n"
    }
   }
  },
  {
   "cell_type": "code",
   "execution_count": 179,
   "outputs": [],
   "source": [
    "df['Premise'] = df['Premise'].replace(\"TAVERN/NIGHT CLUB\", 'BAR')"
   ],
   "metadata": {
    "collapsed": false,
    "pycharm": {
     "name": "#%%\n"
    }
   }
  },
  {
   "cell_type": "code",
   "execution_count": 180,
   "outputs": [],
   "source": [
    "df['Premise'] = df['Premise'].replace(\"INNER HARBOR-N-PRATT\", 'INNER HARB')"
   ],
   "metadata": {
    "collapsed": false,
    "pycharm": {
     "name": "#%%\n"
    }
   }
  },
  {
   "cell_type": "code",
   "execution_count": 181,
   "outputs": [],
   "source": [
    "df['Premise'] = df['Premise'].replace(\"PIZZA/OTHER DELIVERY\", 'RESTAURANT')"
   ],
   "metadata": {
    "collapsed": false,
    "pycharm": {
     "name": "#%%\n"
    }
   }
  },
  {
   "cell_type": "markdown",
   "source": [
    "That one should be CARRY OUT in the original.\n"
   ],
   "metadata": {
    "collapsed": false,
    "pycharm": {
     "name": "#%% md\n"
    }
   }
  },
  {
   "cell_type": "code",
   "execution_count": 182,
   "outputs": [],
   "source": [
    "df['Premise'] = df['Premise'].replace(\"SHED\", 'SHED/GARAGE')"
   ],
   "metadata": {
    "collapsed": false,
    "pycharm": {
     "name": "#%%\n"
    }
   }
  },
  {
   "cell_type": "code",
   "execution_count": 183,
   "outputs": [],
   "source": [
    "df['Premise'] = df['Premise'].replace(\"APARTMENT HALLWAY\", 'APARTMENT')"
   ],
   "metadata": {
    "collapsed": false,
    "pycharm": {
     "name": "#%%\n"
    }
   }
  },
  {
   "cell_type": "code",
   "execution_count": 184,
   "outputs": [],
   "source": [
    "df['Premise'] = df['Premise'].replace(\"CONSTRUCTION SITE\", 'CONSTRUCTI')"
   ],
   "metadata": {
    "collapsed": false,
    "pycharm": {
     "name": "#%%\n"
    }
   }
  },
  {
   "cell_type": "code",
   "execution_count": 185,
   "outputs": [],
   "source": [
    "df['Premise'] = df['Premise'].replace(\"PENITENTIARY/JAIL\", 'PENITENTIA')"
   ],
   "metadata": {
    "collapsed": false,
    "pycharm": {
     "name": "#%%\n"
    }
   }
  },
  {
   "cell_type": "code",
   "execution_count": 186,
   "outputs": [],
   "source": [
    "df['Premise'] = df['Premise'].replace(\"CHAIN FOOD STORE\", 'CHAIN FOOD')"
   ],
   "metadata": {
    "collapsed": false,
    "pycharm": {
     "name": "#%%\n"
    }
   }
  },
  {
   "cell_type": "code",
   "execution_count": 187,
   "outputs": [],
   "source": [
    "df['Premise'] = df['Premise'].replace(\"VACANT DWELLING\", 'VACANT DWE')"
   ],
   "metadata": {
    "collapsed": false,
    "pycharm": {
     "name": "#%%\n"
    }
   }
  },
  {
   "cell_type": "code",
   "execution_count": 188,
   "outputs": [],
   "source": [
    "df['Premise'] = df['Premise'].replace(\"FINANCE/LOAN COMPANY\", 'BANK/FINAN')"
   ],
   "metadata": {
    "collapsed": false,
    "pycharm": {
     "name": "#%%\n"
    }
   }
  },
  {
   "cell_type": "code",
   "execution_count": 189,
   "outputs": [],
   "source": [
    "df['Premise'] = df['Premise'].replace(\"PLAYGROUND/ATHLETIC\", 'PLAYGROUND')"
   ],
   "metadata": {
    "collapsed": false,
    "pycharm": {
     "name": "#%%\n"
    }
   }
  },
  {
   "cell_type": "code",
   "execution_count": 190,
   "outputs": [],
   "source": [
    "df['Premise'] = df['Premise'].replace(\"DEPARTMENT STORE\", 'DEPARTMENT')"
   ],
   "metadata": {
    "collapsed": false,
    "pycharm": {
     "name": "#%%\n"
    }
   }
  },
  {
   "cell_type": "code",
   "execution_count": 191,
   "outputs": [],
   "source": [
    "df['Premise'] = df['Premise'].replace(\"DOCTORS OFFICE\", 'DOCTORS OF')\n"
   ],
   "metadata": {
    "collapsed": false,
    "pycharm": {
     "name": "#%%\n"
    }
   }
  },
  {
   "cell_type": "code",
   "execution_count": 192,
   "outputs": [],
   "source": [
    "df['Premise'] = df['Premise'].replace(\"CONVENTION CENTER\", 'CONVENTION')"
   ],
   "metadata": {
    "collapsed": false,
    "pycharm": {
     "name": "#%%\n"
    }
   }
  },
  {
   "cell_type": "code",
   "execution_count": 193,
   "outputs": [],
   "source": [
    "df['Premise'] = df['Premise'].replace(\"HOUSE UNDER CONSTRUC\", 'CONSTRUCTI')"
   ],
   "metadata": {
    "collapsed": false,
    "pycharm": {
     "name": "#%%\n"
    }
   }
  },
  {
   "cell_type": "code",
   "execution_count": 194,
   "outputs": [],
   "source": [
    "df['Premise'] = df['Premise'].replace(\"DAY CARE FACILITY\", 'SCHOOL PLA')"
   ],
   "metadata": {
    "collapsed": false,
    "pycharm": {
     "name": "#%%\n"
    }
   }
  },
  {
   "cell_type": "code",
   "execution_count": 195,
   "outputs": [],
   "source": [
    "df['Premise'] = df['Premise'].replace(\"FIRE DEPARTMENT\", 'FIRE DEPAR')"
   ],
   "metadata": {
    "collapsed": false,
    "pycharm": {
     "name": "#%%\n"
    }
   }
  },
  {
   "cell_type": "code",
   "execution_count": 196,
   "outputs": [],
   "source": [
    "df['Premise'] = df['Premise'].replace(\"SCHOOL PLAYGROUND\", 'SCHOOL PLA')"
   ],
   "metadata": {
    "collapsed": false,
    "pycharm": {
     "name": "#%%\n"
    }
   }
  },
  {
   "cell_type": "code",
   "execution_count": 197,
   "outputs": [],
   "source": [
    "df['Premise'] = df['Premise'].replace(\"SALESMAN/COLLECTORS\", 'SALESMAN/C')"
   ],
   "metadata": {
    "collapsed": false,
    "pycharm": {
     "name": "#%%\n"
    }
   }
  },
  {
   "cell_type": "code",
   "execution_count": 198,
   "outputs": [],
   "source": [
    "df['Premise'] = df['Premise'].replace(\"COURT HOUSE\", 'COURT HOUS')"
   ],
   "metadata": {
    "collapsed": false,
    "pycharm": {
     "name": "#%%\n"
    }
   }
  },
  {
   "cell_type": "code",
   "execution_count": 199,
   "outputs": [],
   "source": [
    "df['Premise'] = df['Premise'].replace(\"APT/CONDO - VACANT\", 'APARTMENT')"
   ],
   "metadata": {
    "collapsed": false,
    "pycharm": {
     "name": "#%%\n"
    }
   }
  },
  {
   "cell_type": "code",
   "execution_count": 200,
   "outputs": [],
   "source": [
    "df['Premise'] = df['Premise'].replace('APT. LOCKER/LAUNDRY', 'APARTMENT')"
   ],
   "metadata": {
    "collapsed": false,
    "pycharm": {
     "name": "#%%\n"
    }
   }
  },
  {
   "cell_type": "code",
   "execution_count": 201,
   "outputs": [],
   "source": [
    "df['Premise'] = df['Premise'].replace('HARDWARE/BLDG. SUP.', 'HARDWARE/B')"
   ],
   "metadata": {
    "collapsed": false,
    "pycharm": {
     "name": "#%%\n"
    }
   }
  },
  {
   "cell_type": "code",
   "execution_count": 202,
   "outputs": [],
   "source": [
    "df['Premise'] = df['Premise'].replace('BLDG UNDER CONST.', 'CONSTRUCTI')"
   ],
   "metadata": {
    "collapsed": false,
    "pycharm": {
     "name": "#%%\n"
    }
   }
  },
  {
   "cell_type": "code",
   "execution_count": 203,
   "outputs": [],
   "source": [
    "df['Premise'] = df['Premise'].replace('MOBILE HOME', 'DWELLING')"
   ],
   "metadata": {
    "collapsed": false,
    "pycharm": {
     "name": "#%%\n"
    }
   }
  },
  {
   "cell_type": "code",
   "execution_count": 204,
   "outputs": [],
   "source": [
    "df['Premise'] = df['Premise'].replace('BUS. PARK LOT-INSIDE', 'BUS. PARK')"
   ],
   "metadata": {
    "collapsed": false,
    "pycharm": {
     "name": "#%%\n"
    }
   }
  },
  {
   "cell_type": "code",
   "execution_count": 205,
   "outputs": [],
   "source": [
    "df['Premise'] = df['Premise'].replace('ATM MACHINES', 'ATM MACHIN')"
   ],
   "metadata": {
    "collapsed": false,
    "pycharm": {
     "name": "#%%\n"
    }
   }
  },
  {
   "cell_type": "code",
   "execution_count": 206,
   "outputs": [],
   "source": [
    "df['Premise'] = df['Premise'].replace('MAILBOX-STREET/RES.', 'STREET')"
   ],
   "metadata": {
    "collapsed": false,
    "pycharm": {
     "name": "#%%\n"
    }
   }
  },
  {
   "cell_type": "code",
   "execution_count": 207,
   "outputs": [],
   "source": [
    "df['Premise'] = df['Premise'].replace('PUBLIC SCHOOL', 'SCHOOL')"
   ],
   "metadata": {
    "collapsed": false,
    "pycharm": {
     "name": "#%%\n"
    }
   }
  },
  {
   "cell_type": "code",
   "execution_count": 208,
   "outputs": [],
   "source": [
    "df['Premise'] = df['Premise'].replace('RENTAL/VIDEO STORE', 'RETAIL/SMA')"
   ],
   "metadata": {
    "collapsed": false,
    "pycharm": {
     "name": "#%%\n"
    }
   }
  },
  {
   "cell_type": "code",
   "execution_count": 209,
   "outputs": [],
   "source": [
    "df['Premise'] = df['Premise'].replace('MINI STORAGE LOCKERS', 'MINI STORA')"
   ],
   "metadata": {
    "collapsed": false,
    "pycharm": {
     "name": "#%%\n"
    }
   }
  },
  {
   "cell_type": "code",
   "execution_count": 210,
   "outputs": [],
   "source": [
    "df['Premise'] = df['Premise'].replace('PHOTO STUDIO/CAMERA', 'RETAIL/SMA')"
   ],
   "metadata": {
    "collapsed": false,
    "pycharm": {
     "name": "#%%\n"
    }
   }
  },
  {
   "cell_type": "code",
   "execution_count": 211,
   "outputs": [],
   "source": [
    "df['Premise'] = df['Premise'].replace('BRIDGE-PIERS-DOCKS', 'BRIDGE-PIE')"
   ],
   "metadata": {
    "collapsed": false,
    "pycharm": {
     "name": "#%%\n"
    }
   }
  },
  {
   "cell_type": "code",
   "execution_count": 212,
   "outputs": [],
   "source": [
    "df['Premise'] = df['Premise'].replace('POOL/BOWLING/AMUSE.', 'POOL/BOWLI')"
   ],
   "metadata": {
    "collapsed": false,
    "pycharm": {
     "name": "#%%\n"
    }
   }
  },
  {
   "cell_type": "code",
   "execution_count": 213,
   "outputs": [],
   "source": [
    "df['Premise'] = df['Premise'].replace('MANUFACTURING PLANT', 'WAREHOUSE')"
   ],
   "metadata": {
    "collapsed": false,
    "pycharm": {
     "name": "#%%\n"
    }
   }
  },
  {
   "cell_type": "code",
   "execution_count": 214,
   "outputs": [],
   "source": [
    "df[\"Premise\"]=le.transform(df[\"Premise\"])"
   ],
   "metadata": {
    "collapsed": false,
    "pycharm": {
     "name": "#%%\n"
    }
   }
  },
  {
   "cell_type": "markdown",
   "source": [
    "Whoever truncated all of those in the kaggle data.....I will find you."
   ],
   "metadata": {
    "collapsed": false,
    "pycharm": {
     "name": "#%% md\n"
    }
   }
  },
  {
   "cell_type": "code",
   "execution_count": 215,
   "outputs": [
    {
     "data": {
      "text/plain": "   CrimeDate  Description   Post  District  Neighborhood  Longitude  Latitude  \\\n1 2018-12-30            7  523.0         3           118    39.3556  -76.6099   \n2 2018-12-29            4  123.0         0           248    39.3011  -76.6276   \n3 2018-12-29           12  441.0         2           207    39.3039  -76.5408   \n4 2018-12-28            4  942.0         6           216    39.2736  -76.6118   \n5 2018-12-28            3  613.0         4           136    39.3438  -76.6777   \n\n   Premise  Month  Hour  ...  Season_spring  Season_summer  Season_winter  \\\n1       78     12     0  ...              0              0              1   \n2       69     12     0  ...              0              0              1   \n3       38     12     0  ...              0              0              1   \n4       50     12     0  ...              0              0              1   \n5       78     12     0  ...              0              0              1   \n\n   Weapon_FIREARM  Weapon_HANDS  Weapon_KNIFE  Weapon_NONE  Weapon_OTHER  \\\n1               0             0             0            1             0   \n2               0             0             0            1             0   \n3               0             0             0            1             0   \n4               0             0             0            1             0   \n5               0             0             0            1             0   \n\n   Holiday  Weekend  \n1        0        1  \n2        0        1  \n3        0        1  \n4        0        0  \n5        0        0  \n\n[5 rows x 23 columns]",
      "text/html": "<div>\n<style scoped>\n    .dataframe tbody tr th:only-of-type {\n        vertical-align: middle;\n    }\n\n    .dataframe tbody tr th {\n        vertical-align: top;\n    }\n\n    .dataframe thead th {\n        text-align: right;\n    }\n</style>\n<table border=\"1\" class=\"dataframe\">\n  <thead>\n    <tr style=\"text-align: right;\">\n      <th></th>\n      <th>CrimeDate</th>\n      <th>Description</th>\n      <th>Post</th>\n      <th>District</th>\n      <th>Neighborhood</th>\n      <th>Longitude</th>\n      <th>Latitude</th>\n      <th>Premise</th>\n      <th>Month</th>\n      <th>Hour</th>\n      <th>...</th>\n      <th>Season_spring</th>\n      <th>Season_summer</th>\n      <th>Season_winter</th>\n      <th>Weapon_FIREARM</th>\n      <th>Weapon_HANDS</th>\n      <th>Weapon_KNIFE</th>\n      <th>Weapon_NONE</th>\n      <th>Weapon_OTHER</th>\n      <th>Holiday</th>\n      <th>Weekend</th>\n    </tr>\n  </thead>\n  <tbody>\n    <tr>\n      <th>1</th>\n      <td>2018-12-30</td>\n      <td>7</td>\n      <td>523.0</td>\n      <td>3</td>\n      <td>118</td>\n      <td>39.3556</td>\n      <td>-76.6099</td>\n      <td>78</td>\n      <td>12</td>\n      <td>0</td>\n      <td>...</td>\n      <td>0</td>\n      <td>0</td>\n      <td>1</td>\n      <td>0</td>\n      <td>0</td>\n      <td>0</td>\n      <td>1</td>\n      <td>0</td>\n      <td>0</td>\n      <td>1</td>\n    </tr>\n    <tr>\n      <th>2</th>\n      <td>2018-12-29</td>\n      <td>4</td>\n      <td>123.0</td>\n      <td>0</td>\n      <td>248</td>\n      <td>39.3011</td>\n      <td>-76.6276</td>\n      <td>69</td>\n      <td>12</td>\n      <td>0</td>\n      <td>...</td>\n      <td>0</td>\n      <td>0</td>\n      <td>1</td>\n      <td>0</td>\n      <td>0</td>\n      <td>0</td>\n      <td>1</td>\n      <td>0</td>\n      <td>0</td>\n      <td>1</td>\n    </tr>\n    <tr>\n      <th>3</th>\n      <td>2018-12-29</td>\n      <td>12</td>\n      <td>441.0</td>\n      <td>2</td>\n      <td>207</td>\n      <td>39.3039</td>\n      <td>-76.5408</td>\n      <td>38</td>\n      <td>12</td>\n      <td>0</td>\n      <td>...</td>\n      <td>0</td>\n      <td>0</td>\n      <td>1</td>\n      <td>0</td>\n      <td>0</td>\n      <td>0</td>\n      <td>1</td>\n      <td>0</td>\n      <td>0</td>\n      <td>1</td>\n    </tr>\n    <tr>\n      <th>4</th>\n      <td>2018-12-28</td>\n      <td>4</td>\n      <td>942.0</td>\n      <td>6</td>\n      <td>216</td>\n      <td>39.2736</td>\n      <td>-76.6118</td>\n      <td>50</td>\n      <td>12</td>\n      <td>0</td>\n      <td>...</td>\n      <td>0</td>\n      <td>0</td>\n      <td>1</td>\n      <td>0</td>\n      <td>0</td>\n      <td>0</td>\n      <td>1</td>\n      <td>0</td>\n      <td>0</td>\n      <td>0</td>\n    </tr>\n    <tr>\n      <th>5</th>\n      <td>2018-12-28</td>\n      <td>3</td>\n      <td>613.0</td>\n      <td>4</td>\n      <td>136</td>\n      <td>39.3438</td>\n      <td>-76.6777</td>\n      <td>78</td>\n      <td>12</td>\n      <td>0</td>\n      <td>...</td>\n      <td>0</td>\n      <td>0</td>\n      <td>1</td>\n      <td>0</td>\n      <td>0</td>\n      <td>0</td>\n      <td>1</td>\n      <td>0</td>\n      <td>0</td>\n      <td>0</td>\n    </tr>\n  </tbody>\n</table>\n<p>5 rows × 23 columns</p>\n</div>"
     },
     "execution_count": 215,
     "metadata": {},
     "output_type": "execute_result"
    }
   ],
   "source": [
    "df.head()"
   ],
   "metadata": {
    "collapsed": false,
    "pycharm": {
     "name": "#%%\n"
    }
   }
  },
  {
   "cell_type": "code",
   "execution_count": 216,
   "outputs": [],
   "source": [
    "df.to_csv(\"../data/V2_TEST_DATA_ENCODED_TRANSFORMED.csv\")"
   ],
   "metadata": {
    "collapsed": false,
    "pycharm": {
     "name": "#%%\n"
    }
   }
  },
  {
   "cell_type": "code",
   "execution_count": 217,
   "outputs": [
    {
     "data": {
      "text/plain": "Index(['CrimeDate', 'Description', 'Post', 'District', 'Neighborhood',\n       'Longitude', 'Latitude', 'Premise', 'Month', 'Hour', 'Year', 'Outside',\n       'Season_autumn', 'Season_spring', 'Season_summer', 'Season_winter',\n       'Weapon_FIREARM', 'Weapon_HANDS', 'Weapon_KNIFE', 'Weapon_NONE',\n       'Weapon_OTHER', 'Holiday', 'Weekend'],\n      dtype='object')"
     },
     "execution_count": 217,
     "metadata": {},
     "output_type": "execute_result"
    }
   ],
   "source": [
    "df.columns\n"
   ],
   "metadata": {
    "collapsed": false,
    "pycharm": {
     "name": "#%%\n"
    }
   }
  },
  {
   "cell_type": "code",
   "execution_count": null,
   "outputs": [],
   "source": [],
   "metadata": {
    "collapsed": false,
    "pycharm": {
     "name": "#%%\n"
    }
   }
  }
 ],
 "metadata": {
  "kernelspec": {
   "display_name": "Python 3",
   "language": "python",
   "name": "python3"
  },
  "language_info": {
   "codemirror_mode": {
    "name": "ipython",
    "version": 2
   },
   "file_extension": ".py",
   "mimetype": "text/x-python",
   "name": "python",
   "nbconvert_exporter": "python",
   "pygments_lexer": "ipython2",
   "version": "2.7.6"
  }
 },
 "nbformat": 4,
 "nbformat_minor": 0
}