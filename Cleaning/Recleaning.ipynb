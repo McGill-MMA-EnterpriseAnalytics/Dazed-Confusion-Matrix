{
 "cells": [
  {
   "cell_type": "code",
   "execution_count": 49,
   "metadata": {
    "collapsed": true
   },
   "outputs": [],
   "source": [
    "import pandas as pd\n",
    "import numpy as np"
   ]
  },
  {
   "cell_type": "code",
   "execution_count": 50,
   "outputs": [],
   "source": [
    "df = pd.read_csv('../data/V2_BPD_CRIME_DATA_CLEAN_ST.csv')\n"
   ],
   "metadata": {
    "collapsed": false,
    "pycharm": {
     "name": "#%%\n"
    }
   }
  },
  {
   "cell_type": "code",
   "execution_count": 51,
   "outputs": [
    {
     "data": {
      "text/plain": "   Unnamed: 0   CrimeDate          Description Inside/Outside   Weapon   Post  \\\n0           0  2017-09-02  ROBBERY - RESIDENCE         Inside    KNIFE  913.0   \n1           1  2017-09-02           AUTO THEFT        Outside     NONE  133.0   \n2           2  2017-09-02             SHOOTING        Outside  FIREARM  524.0   \n3           3  2017-09-02         AGG. ASSAULT         Inside    OTHER  934.0   \n4           4  2017-09-02       COMMON ASSAULT        Outside    HANDS  113.0   \n\n   District      Neighborhood  Longitude  Latitude     Premise  Season  Month  \\\n0  SOUTHERN          Brooklyn  -76.60541  39.22951  ROW/TOWNHO  summer      9   \n1   CENTRAL    Reservoir Hill  -76.63217  39.31360      STREET  summer      9   \n2  NORTHERN    Winston-Govans  -76.60697  39.34768      STREET  summer      9   \n3  SOUTHERN  Carrollton Ridge  -76.64526  39.28315  ROW/TOWNHO  summer      9   \n4   CENTRAL     Downtown West  -76.61365  39.28756      STREET  summer      9   \n\n   Hour  Year  \n0    23  2017  \n1    23  2017  \n2    22  2017  \n3    22  2017  \n4    22  2017  ",
      "text/html": "<div>\n<style scoped>\n    .dataframe tbody tr th:only-of-type {\n        vertical-align: middle;\n    }\n\n    .dataframe tbody tr th {\n        vertical-align: top;\n    }\n\n    .dataframe thead th {\n        text-align: right;\n    }\n</style>\n<table border=\"1\" class=\"dataframe\">\n  <thead>\n    <tr style=\"text-align: right;\">\n      <th></th>\n      <th>Unnamed: 0</th>\n      <th>CrimeDate</th>\n      <th>Description</th>\n      <th>Inside/Outside</th>\n      <th>Weapon</th>\n      <th>Post</th>\n      <th>District</th>\n      <th>Neighborhood</th>\n      <th>Longitude</th>\n      <th>Latitude</th>\n      <th>Premise</th>\n      <th>Season</th>\n      <th>Month</th>\n      <th>Hour</th>\n      <th>Year</th>\n    </tr>\n  </thead>\n  <tbody>\n    <tr>\n      <th>0</th>\n      <td>0</td>\n      <td>2017-09-02</td>\n      <td>ROBBERY - RESIDENCE</td>\n      <td>Inside</td>\n      <td>KNIFE</td>\n      <td>913.0</td>\n      <td>SOUTHERN</td>\n      <td>Brooklyn</td>\n      <td>-76.60541</td>\n      <td>39.22951</td>\n      <td>ROW/TOWNHO</td>\n      <td>summer</td>\n      <td>9</td>\n      <td>23</td>\n      <td>2017</td>\n    </tr>\n    <tr>\n      <th>1</th>\n      <td>1</td>\n      <td>2017-09-02</td>\n      <td>AUTO THEFT</td>\n      <td>Outside</td>\n      <td>NONE</td>\n      <td>133.0</td>\n      <td>CENTRAL</td>\n      <td>Reservoir Hill</td>\n      <td>-76.63217</td>\n      <td>39.31360</td>\n      <td>STREET</td>\n      <td>summer</td>\n      <td>9</td>\n      <td>23</td>\n      <td>2017</td>\n    </tr>\n    <tr>\n      <th>2</th>\n      <td>2</td>\n      <td>2017-09-02</td>\n      <td>SHOOTING</td>\n      <td>Outside</td>\n      <td>FIREARM</td>\n      <td>524.0</td>\n      <td>NORTHERN</td>\n      <td>Winston-Govans</td>\n      <td>-76.60697</td>\n      <td>39.34768</td>\n      <td>STREET</td>\n      <td>summer</td>\n      <td>9</td>\n      <td>22</td>\n      <td>2017</td>\n    </tr>\n    <tr>\n      <th>3</th>\n      <td>3</td>\n      <td>2017-09-02</td>\n      <td>AGG. ASSAULT</td>\n      <td>Inside</td>\n      <td>OTHER</td>\n      <td>934.0</td>\n      <td>SOUTHERN</td>\n      <td>Carrollton Ridge</td>\n      <td>-76.64526</td>\n      <td>39.28315</td>\n      <td>ROW/TOWNHO</td>\n      <td>summer</td>\n      <td>9</td>\n      <td>22</td>\n      <td>2017</td>\n    </tr>\n    <tr>\n      <th>4</th>\n      <td>4</td>\n      <td>2017-09-02</td>\n      <td>COMMON ASSAULT</td>\n      <td>Outside</td>\n      <td>HANDS</td>\n      <td>113.0</td>\n      <td>CENTRAL</td>\n      <td>Downtown West</td>\n      <td>-76.61365</td>\n      <td>39.28756</td>\n      <td>STREET</td>\n      <td>summer</td>\n      <td>9</td>\n      <td>22</td>\n      <td>2017</td>\n    </tr>\n  </tbody>\n</table>\n</div>"
     },
     "execution_count": 51,
     "metadata": {},
     "output_type": "execute_result"
    }
   ],
   "source": [
    "df.head()\n"
   ],
   "metadata": {
    "collapsed": false,
    "pycharm": {
     "name": "#%%\n"
    }
   }
  },
  {
   "cell_type": "code",
   "execution_count": 52,
   "outputs": [],
   "source": [
    "df = df.drop(columns=[\"Unnamed: 0\"])"
   ],
   "metadata": {
    "collapsed": false,
    "pycharm": {
     "name": "#%%\n"
    }
   }
  },
  {
   "cell_type": "markdown",
   "source": [
    "Let's check our previous label encoding to find inconsistencies\n"
   ],
   "metadata": {
    "collapsed": false,
    "pycharm": {
     "name": "#%% md\n"
    }
   }
  },
  {
   "cell_type": "code",
   "execution_count": 53,
   "outputs": [],
   "source": [
    "Description = pd.read_csv(\"../data/Description_decoder_2.csv\", header=None)\n",
    "Premise = pd.read_csv(\"../data/Premise_decoder.csv\", header=None)\n",
    "Neigh = pd.read_csv(\"../data/Neighborhood_decoder.csv\", header=None)\n",
    "District = pd.read_csv(\"../data/District_decoder.csv\", header=None)\n"
   ],
   "metadata": {
    "collapsed": false,
    "pycharm": {
     "name": "#%%\n"
    }
   }
  },
  {
   "cell_type": "code",
   "execution_count": 54,
   "outputs": [
    {
     "data": {
      "text/plain": "                       0   1\n0           AGG. ASSAULT   0\n1                  ARSON   1\n2      ASSAULT BY THREAT   2\n3             AUTO THEFT   3\n4               BURGLARY   4\n5         COMMON ASSAULT   5\n6               HOMICIDE   6\n7                LARCENY   7\n8      LARCENY FROM AUTO   8\n9          SEXUAL ASSULT   9\n10  ROBBERY - CARJACKING  10\n11  ROBBERY - COMMERCIAL  11\n12   ROBBERY - RESIDENCE  12\n13      ROBBERY - STREET  13\n14              SHOOTING  14",
      "text/html": "<div>\n<style scoped>\n    .dataframe tbody tr th:only-of-type {\n        vertical-align: middle;\n    }\n\n    .dataframe tbody tr th {\n        vertical-align: top;\n    }\n\n    .dataframe thead th {\n        text-align: right;\n    }\n</style>\n<table border=\"1\" class=\"dataframe\">\n  <thead>\n    <tr style=\"text-align: right;\">\n      <th></th>\n      <th>0</th>\n      <th>1</th>\n    </tr>\n  </thead>\n  <tbody>\n    <tr>\n      <th>0</th>\n      <td>AGG. ASSAULT</td>\n      <td>0</td>\n    </tr>\n    <tr>\n      <th>1</th>\n      <td>ARSON</td>\n      <td>1</td>\n    </tr>\n    <tr>\n      <th>2</th>\n      <td>ASSAULT BY THREAT</td>\n      <td>2</td>\n    </tr>\n    <tr>\n      <th>3</th>\n      <td>AUTO THEFT</td>\n      <td>3</td>\n    </tr>\n    <tr>\n      <th>4</th>\n      <td>BURGLARY</td>\n      <td>4</td>\n    </tr>\n    <tr>\n      <th>5</th>\n      <td>COMMON ASSAULT</td>\n      <td>5</td>\n    </tr>\n    <tr>\n      <th>6</th>\n      <td>HOMICIDE</td>\n      <td>6</td>\n    </tr>\n    <tr>\n      <th>7</th>\n      <td>LARCENY</td>\n      <td>7</td>\n    </tr>\n    <tr>\n      <th>8</th>\n      <td>LARCENY FROM AUTO</td>\n      <td>8</td>\n    </tr>\n    <tr>\n      <th>9</th>\n      <td>SEXUAL ASSULT</td>\n      <td>9</td>\n    </tr>\n    <tr>\n      <th>10</th>\n      <td>ROBBERY - CARJACKING</td>\n      <td>10</td>\n    </tr>\n    <tr>\n      <th>11</th>\n      <td>ROBBERY - COMMERCIAL</td>\n      <td>11</td>\n    </tr>\n    <tr>\n      <th>12</th>\n      <td>ROBBERY - RESIDENCE</td>\n      <td>12</td>\n    </tr>\n    <tr>\n      <th>13</th>\n      <td>ROBBERY - STREET</td>\n      <td>13</td>\n    </tr>\n    <tr>\n      <th>14</th>\n      <td>SHOOTING</td>\n      <td>14</td>\n    </tr>\n  </tbody>\n</table>\n</div>"
     },
     "execution_count": 54,
     "metadata": {},
     "output_type": "execute_result"
    }
   ],
   "source": [
    "Description\n"
   ],
   "metadata": {
    "collapsed": false,
    "pycharm": {
     "name": "#%%\n"
    }
   }
  },
  {
   "cell_type": "markdown",
   "source": [
    "That one looks fine. Neighborhood will be rough, though.\n",
    "\n"
   ],
   "metadata": {
    "collapsed": false,
    "pycharm": {
     "name": "#%% md\n"
    }
   }
  },
  {
   "cell_type": "code",
   "execution_count": 55,
   "outputs": [
    {
     "data": {
      "text/plain": "                             0    1\n0                        Abell    0\n1                    Allendale    1\n2                      Arcadia    2\n3                    Arlington    3\n4            Armistead Gardens    4\n5                    Ashburton    5\n6          Baltimore Highlands    6\n7                      Barclay    7\n8                 Barre Circle    8\n9                      Bayview    9\n10                  Beechfield   10\n11               Belair-Edison   11\n12             Belair-Parkside   12\n13            Bellona-Gittings   13\n14                   Belvedere   14\n15                       Berea   15\n16              Better Waverly   16\n17               Beverly Hills   17\n18               Biddle Street   18\n19                  Blythewood   19\n20                 Bolton Hill   20\n21                  Boyd-Booth   21\n22                Brewers Hill   22\n23        Bridgeview/Greenlawn   23\n24               Broadway East   24\n25              Broening Manor   25\n26                    Brooklyn   26\n27           Burleith-Leighton   27\n28              Butcher's Hill   28\n29                        CARE   29\n30           Callaway-Garrison   30\n31             Cameron Village   31\n32                      Canton   32\n33      Canton Industrial Area   33\n34   Carroll - Camden Industri   34\n35                Carroll Park   35\n36        Carroll-South Hilton   36\n37            Carrollton Ridge   37\n38                  Cedarcroft   38\n39                     Cedmont   39\n40                     Cedonia   40\n41         Central Forest Park   41\n42        Central Park Heights   42\n43               Charles North   43\n44             Charles Village   44\n45                 Cherry Hill   45\n46                   Cheswolde   46\n47             Chinquapin Park   47\n48                Clifton Park   48\n49                  Coldspring   49\n50   Coldstream Homestead Mont   50\n51   Concerned Citizens Of For   51\n52   Coppin Heights/Ash-Co-Eas   52\n53               Cross Country   53\n54                  Cross Keys   54\n55                  Curtis Bay   55\n56   Curtis Bay Industrial Are   56\n57                     Cylburn   57\n58                 Darley Park   58\n59                 Dickeyville   59\n60                    Dolfield   60\n61                  Dorchester   61\n62                    Downtown   62\n63               Downtown West   63\n64               Druid Heights   64\n65             Druid Hill Park   65\n66             Dunbar-Broadway   66\n67     Dundalk Marine Terminal   67\n68              East Arlington   68\n69       East Baltimore Midway   69\n70                  Easterwood   70\n71                    Eastwood   71\n72                    Edgewood   72\n73           Edmondson Village   73\n74      Ednor Gardens-Lakeside   74\n75       Ellwood Park/Monument   75\n76                   Evergreen   76\n77              Evergreen Lawn   77\n78                Evesham Park   78\n79              Fairfield Area   79\n80                    Fairmont   80\n81                   Fallstaff   81\n82                Federal Hill   82\n83                 Fells Point   83\n84                 Forest Park   84\n85     Forest Park Golf Course   85\n86                Four By Four   86\n87                   Frankford   87\n88             Franklin Square   88\n89                Franklintown   89\n90           Franklintown Road   90\n91                 Garwyn Oaks   91\n92                  Gay Street   92\n93                        Glen   93\n94                   Glen Oaks   94\n95              Glenham-Belhar   95\n96              Graceland Park   96\n97                   Greektown   97\n98         Greenmount Cemetery   98\n99             Greenmount West   99\n100                Greenspring  100\n101                 Grove Park  101\n102                   Guilford  102\n103               Gwynns Falls  103\n104   Gwynns Falls/Leakin Park  104\n105             Hamilton Hills  105\n106                    Hampden  106\n107            Hanlon-Longwood  107\n108                Harlem Park  108\n109                    Harwood  109\n110              Hawkins Point  110\n111          Heritage Crossing  111\n112           Herring Run Park  112\n113               Highlandtown  113\n114                     Hillen  114\n115               Hoes Heights  115\n116   Holabird Industrial Park  116\n117             Hollins Market  117\n118                   Homeland  118\n119            Hopkins Bayview  119\n120                Howard Park  120\n121              Hunting Ridge  121\n122                   Idlewood  122\n123               Inner Harbor  123\n124                  Irvington  124\n125     Johns Hopkins Homewood  125\n126            Johnston Square  126\n127           Jones Falls Area  127\n128                  Jonestown  128\n129            Kenilworth Park  129\n130                  Kernewood  130\n131                    Keswick  131\n132                    Kresson  132\n133               Lake Evesham  133\n134                Lake Walker  134\n135                   Lakeland  135\n136            Langston Hughes  136\n137                 Lauraville  137\n138                  Levindale  138\n139             Liberty Square  139\n140               Little Italy  140\n141                 Loch Raven  141\n142               Locust Point  142\n143  Locust Point Industrial A  143\n144    Lower Edmondson Village  144\n145     Lower Herring Run Park  145\n146          Loyola/Notre Dame  146\n147               Lucille Park  147\n148               Madison Park  148\n149            Madison-Eastend  149\n150                   Mayfield  150\n151             McElderry Park  151\n152                   Medfield  152\n153                    Medford  153\n154                 Mid-Govans  154\n155         Mid-Town Belvedere  155\n156  Middle Branch/Reedbird Pa  156\n157                Middle East  157\n158          Midtown-Edmondson  158\n159                   Millhill  159\n160            Milton-Montford  160\n161                  Mondawmin  161\n162                 Montebello  162\n163            Moravia-Walther  163\n164                Morgan Park  164\n165    Morgan State University  165\n166               Morrell Park  166\n167                     Mosher  167\n168                Mount Holly  168\n169               Mount Vernon  169\n170           Mount Washington  170\n171               Mount Winans  171\n172           Mt Pleasant Park  172\n173              New Northwood  173\n174  New Southwest/Mount Clare  174\n175         North Harford Road  175\n176   North Roland Park/Poplar  176\n177  Northwest Community Actio  177\n178          O'Donnell Heights  178\n179                 Oakenshawe  179\n180                     Oaklee  180\n181                Old Goucher  181\n182                    Oldtown  182\n183                     Oliver  183\n184                Orangeville  184\n185  Orangeville Industrial Ar  185\n186              Orchard Ridge  186\n187         Original Northwood  187\n188                  Otterbein  188\n189                    Overlea  189\n190     Panway/Braddish Avenue  190\n191                Park Circle  191\n192                   Parklane  192\n193                   Parkside  193\n194         Parkview/Woodbrook  194\n195             Patterson Park  195\n196  Patterson Park Neighborho  196\n197            Patterson Place  197\n198                   Pen Lucy  198\n199                 Penn North  199\n200              Penn-Fallsway  200\n201  Penrose/Fayette Street Ou  201\n202              Perkins Homes  202\n203               Perring Loch  203\n204     Pimlico Good Neighbors  204\n205      Pleasant View Gardens  205\n206                  Poppleton  206\n207             Port Covington  207\n208    Pulaski Industrial Area  208\n209                    Purnell  209\n210             Radnor-Winston  210\n211                 Ramblewood  211\n212       Reisterstown Station  212\n213                  Remington  213\n214             Reservoir Hill  214\n215            Richnor Springs  215\n216          Ridgely's Delight  216\n217                  Riverside  217\n218             Rognel Heights  218\n219                Roland Park  219\n220                   Rosebank  220\n221                   Rosemont  221\n222              Rosemont East  222\n223  Rosemont Homeowners/Tenan  223\n224           Sabina-Mattfeldt  224\n225                Saint Agnes  225\n226               Saint Helena  226\n227              Saint Josephs  227\n228                 Saint Paul  228\n229        Sandtown-Winchester  229\n230        Seton Business Park  230\n231                 Seton Hill  231\n232           Sharp-Leadenhall  232\n233               Shipley Hill  233\n234            South Baltimore  234\n235         South Clifton Park  235\n236   Spring Garden Industrial  236\n237               Stadium Area  237\n238  Stonewood-Pentwood-Winsto  238\n239             Taylor Heights  239\n240                  Ten Hills  240\n241               The Orchards  241\n242           Towanda-Grantley  242\n243                    Tremont  243\n244         Tuscany-Canterbury  244\n245               Union Square  245\n246     University Of Maryland  246\n247                    Uplands  247\n248          Upper Fells Point  248\n249                      Upton  249\n250       Villages Of Homeland  250\n251                Violetville  251\n252                  Wakefield  252\n253                   Walbrook  253\n254                 Waltherson  254\n255            Washington Hill  255\n256  Washington Village/Pigtow  256\n257                    Waverly  257\n258             West Arlington  258\n259           West Forest Park  259\n260                 West Hills  260\n261                  Westfield  261\n262                   Westgate  262\n263                   Westport  263\n264               Wilhelm Park  264\n265                Wilson Park  265\n266                 Winchester  266\n267              Windsor Hills  267\n268             Winston-Govans  268\n269                  Woodberry  269\n270         Woodbourne Heights  270\n271          Woodbourne-McCabe  271\n272                   Woodmere  272\n273                   Wrenlane  273\n274                 Wyman Park  274\n275                  Wyndhurst  275\n276               Yale Heights  276\n277              York-Homeland  277",
      "text/html": "<div>\n<style scoped>\n    .dataframe tbody tr th:only-of-type {\n        vertical-align: middle;\n    }\n\n    .dataframe tbody tr th {\n        vertical-align: top;\n    }\n\n    .dataframe thead th {\n        text-align: right;\n    }\n</style>\n<table border=\"1\" class=\"dataframe\">\n  <thead>\n    <tr style=\"text-align: right;\">\n      <th></th>\n      <th>0</th>\n      <th>1</th>\n    </tr>\n  </thead>\n  <tbody>\n    <tr>\n      <th>0</th>\n      <td>Abell</td>\n      <td>0</td>\n    </tr>\n    <tr>\n      <th>1</th>\n      <td>Allendale</td>\n      <td>1</td>\n    </tr>\n    <tr>\n      <th>2</th>\n      <td>Arcadia</td>\n      <td>2</td>\n    </tr>\n    <tr>\n      <th>3</th>\n      <td>Arlington</td>\n      <td>3</td>\n    </tr>\n    <tr>\n      <th>4</th>\n      <td>Armistead Gardens</td>\n      <td>4</td>\n    </tr>\n    <tr>\n      <th>5</th>\n      <td>Ashburton</td>\n      <td>5</td>\n    </tr>\n    <tr>\n      <th>6</th>\n      <td>Baltimore Highlands</td>\n      <td>6</td>\n    </tr>\n    <tr>\n      <th>7</th>\n      <td>Barclay</td>\n      <td>7</td>\n    </tr>\n    <tr>\n      <th>8</th>\n      <td>Barre Circle</td>\n      <td>8</td>\n    </tr>\n    <tr>\n      <th>9</th>\n      <td>Bayview</td>\n      <td>9</td>\n    </tr>\n    <tr>\n      <th>10</th>\n      <td>Beechfield</td>\n      <td>10</td>\n    </tr>\n    <tr>\n      <th>11</th>\n      <td>Belair-Edison</td>\n      <td>11</td>\n    </tr>\n    <tr>\n      <th>12</th>\n      <td>Belair-Parkside</td>\n      <td>12</td>\n    </tr>\n    <tr>\n      <th>13</th>\n      <td>Bellona-Gittings</td>\n      <td>13</td>\n    </tr>\n    <tr>\n      <th>14</th>\n      <td>Belvedere</td>\n      <td>14</td>\n    </tr>\n    <tr>\n      <th>15</th>\n      <td>Berea</td>\n      <td>15</td>\n    </tr>\n    <tr>\n      <th>16</th>\n      <td>Better Waverly</td>\n      <td>16</td>\n    </tr>\n    <tr>\n      <th>17</th>\n      <td>Beverly Hills</td>\n      <td>17</td>\n    </tr>\n    <tr>\n      <th>18</th>\n      <td>Biddle Street</td>\n      <td>18</td>\n    </tr>\n    <tr>\n      <th>19</th>\n      <td>Blythewood</td>\n      <td>19</td>\n    </tr>\n    <tr>\n      <th>20</th>\n      <td>Bolton Hill</td>\n      <td>20</td>\n    </tr>\n    <tr>\n      <th>21</th>\n      <td>Boyd-Booth</td>\n      <td>21</td>\n    </tr>\n    <tr>\n      <th>22</th>\n      <td>Brewers Hill</td>\n      <td>22</td>\n    </tr>\n    <tr>\n      <th>23</th>\n      <td>Bridgeview/Greenlawn</td>\n      <td>23</td>\n    </tr>\n    <tr>\n      <th>24</th>\n      <td>Broadway East</td>\n      <td>24</td>\n    </tr>\n    <tr>\n      <th>25</th>\n      <td>Broening Manor</td>\n      <td>25</td>\n    </tr>\n    <tr>\n      <th>26</th>\n      <td>Brooklyn</td>\n      <td>26</td>\n    </tr>\n    <tr>\n      <th>27</th>\n      <td>Burleith-Leighton</td>\n      <td>27</td>\n    </tr>\n    <tr>\n      <th>28</th>\n      <td>Butcher's Hill</td>\n      <td>28</td>\n    </tr>\n    <tr>\n      <th>29</th>\n      <td>CARE</td>\n      <td>29</td>\n    </tr>\n    <tr>\n      <th>30</th>\n      <td>Callaway-Garrison</td>\n      <td>30</td>\n    </tr>\n    <tr>\n      <th>31</th>\n      <td>Cameron Village</td>\n      <td>31</td>\n    </tr>\n    <tr>\n      <th>32</th>\n      <td>Canton</td>\n      <td>32</td>\n    </tr>\n    <tr>\n      <th>33</th>\n      <td>Canton Industrial Area</td>\n      <td>33</td>\n    </tr>\n    <tr>\n      <th>34</th>\n      <td>Carroll - Camden Industri</td>\n      <td>34</td>\n    </tr>\n    <tr>\n      <th>35</th>\n      <td>Carroll Park</td>\n      <td>35</td>\n    </tr>\n    <tr>\n      <th>36</th>\n      <td>Carroll-South Hilton</td>\n      <td>36</td>\n    </tr>\n    <tr>\n      <th>37</th>\n      <td>Carrollton Ridge</td>\n      <td>37</td>\n    </tr>\n    <tr>\n      <th>38</th>\n      <td>Cedarcroft</td>\n      <td>38</td>\n    </tr>\n    <tr>\n      <th>39</th>\n      <td>Cedmont</td>\n      <td>39</td>\n    </tr>\n    <tr>\n      <th>40</th>\n      <td>Cedonia</td>\n      <td>40</td>\n    </tr>\n    <tr>\n      <th>41</th>\n      <td>Central Forest Park</td>\n      <td>41</td>\n    </tr>\n    <tr>\n      <th>42</th>\n      <td>Central Park Heights</td>\n      <td>42</td>\n    </tr>\n    <tr>\n      <th>43</th>\n      <td>Charles North</td>\n      <td>43</td>\n    </tr>\n    <tr>\n      <th>44</th>\n      <td>Charles Village</td>\n      <td>44</td>\n    </tr>\n    <tr>\n      <th>45</th>\n      <td>Cherry Hill</td>\n      <td>45</td>\n    </tr>\n    <tr>\n      <th>46</th>\n      <td>Cheswolde</td>\n      <td>46</td>\n    </tr>\n    <tr>\n      <th>47</th>\n      <td>Chinquapin Park</td>\n      <td>47</td>\n    </tr>\n    <tr>\n      <th>48</th>\n      <td>Clifton Park</td>\n      <td>48</td>\n    </tr>\n    <tr>\n      <th>49</th>\n      <td>Coldspring</td>\n      <td>49</td>\n    </tr>\n    <tr>\n      <th>50</th>\n      <td>Coldstream Homestead Mont</td>\n      <td>50</td>\n    </tr>\n    <tr>\n      <th>51</th>\n      <td>Concerned Citizens Of For</td>\n      <td>51</td>\n    </tr>\n    <tr>\n      <th>52</th>\n      <td>Coppin Heights/Ash-Co-Eas</td>\n      <td>52</td>\n    </tr>\n    <tr>\n      <th>53</th>\n      <td>Cross Country</td>\n      <td>53</td>\n    </tr>\n    <tr>\n      <th>54</th>\n      <td>Cross Keys</td>\n      <td>54</td>\n    </tr>\n    <tr>\n      <th>55</th>\n      <td>Curtis Bay</td>\n      <td>55</td>\n    </tr>\n    <tr>\n      <th>56</th>\n      <td>Curtis Bay Industrial Are</td>\n      <td>56</td>\n    </tr>\n    <tr>\n      <th>57</th>\n      <td>Cylburn</td>\n      <td>57</td>\n    </tr>\n    <tr>\n      <th>58</th>\n      <td>Darley Park</td>\n      <td>58</td>\n    </tr>\n    <tr>\n      <th>59</th>\n      <td>Dickeyville</td>\n      <td>59</td>\n    </tr>\n    <tr>\n      <th>60</th>\n      <td>Dolfield</td>\n      <td>60</td>\n    </tr>\n    <tr>\n      <th>61</th>\n      <td>Dorchester</td>\n      <td>61</td>\n    </tr>\n    <tr>\n      <th>62</th>\n      <td>Downtown</td>\n      <td>62</td>\n    </tr>\n    <tr>\n      <th>63</th>\n      <td>Downtown West</td>\n      <td>63</td>\n    </tr>\n    <tr>\n      <th>64</th>\n      <td>Druid Heights</td>\n      <td>64</td>\n    </tr>\n    <tr>\n      <th>65</th>\n      <td>Druid Hill Park</td>\n      <td>65</td>\n    </tr>\n    <tr>\n      <th>66</th>\n      <td>Dunbar-Broadway</td>\n      <td>66</td>\n    </tr>\n    <tr>\n      <th>67</th>\n      <td>Dundalk Marine Terminal</td>\n      <td>67</td>\n    </tr>\n    <tr>\n      <th>68</th>\n      <td>East Arlington</td>\n      <td>68</td>\n    </tr>\n    <tr>\n      <th>69</th>\n      <td>East Baltimore Midway</td>\n      <td>69</td>\n    </tr>\n    <tr>\n      <th>70</th>\n      <td>Easterwood</td>\n      <td>70</td>\n    </tr>\n    <tr>\n      <th>71</th>\n      <td>Eastwood</td>\n      <td>71</td>\n    </tr>\n    <tr>\n      <th>72</th>\n      <td>Edgewood</td>\n      <td>72</td>\n    </tr>\n    <tr>\n      <th>73</th>\n      <td>Edmondson Village</td>\n      <td>73</td>\n    </tr>\n    <tr>\n      <th>74</th>\n      <td>Ednor Gardens-Lakeside</td>\n      <td>74</td>\n    </tr>\n    <tr>\n      <th>75</th>\n      <td>Ellwood Park/Monument</td>\n      <td>75</td>\n    </tr>\n    <tr>\n      <th>76</th>\n      <td>Evergreen</td>\n      <td>76</td>\n    </tr>\n    <tr>\n      <th>77</th>\n      <td>Evergreen Lawn</td>\n      <td>77</td>\n    </tr>\n    <tr>\n      <th>78</th>\n      <td>Evesham Park</td>\n      <td>78</td>\n    </tr>\n    <tr>\n      <th>79</th>\n      <td>Fairfield Area</td>\n      <td>79</td>\n    </tr>\n    <tr>\n      <th>80</th>\n      <td>Fairmont</td>\n      <td>80</td>\n    </tr>\n    <tr>\n      <th>81</th>\n      <td>Fallstaff</td>\n      <td>81</td>\n    </tr>\n    <tr>\n      <th>82</th>\n      <td>Federal Hill</td>\n      <td>82</td>\n    </tr>\n    <tr>\n      <th>83</th>\n      <td>Fells Point</td>\n      <td>83</td>\n    </tr>\n    <tr>\n      <th>84</th>\n      <td>Forest Park</td>\n      <td>84</td>\n    </tr>\n    <tr>\n      <th>85</th>\n      <td>Forest Park Golf Course</td>\n      <td>85</td>\n    </tr>\n    <tr>\n      <th>86</th>\n      <td>Four By Four</td>\n      <td>86</td>\n    </tr>\n    <tr>\n      <th>87</th>\n      <td>Frankford</td>\n      <td>87</td>\n    </tr>\n    <tr>\n      <th>88</th>\n      <td>Franklin Square</td>\n      <td>88</td>\n    </tr>\n    <tr>\n      <th>89</th>\n      <td>Franklintown</td>\n      <td>89</td>\n    </tr>\n    <tr>\n      <th>90</th>\n      <td>Franklintown Road</td>\n      <td>90</td>\n    </tr>\n    <tr>\n      <th>91</th>\n      <td>Garwyn Oaks</td>\n      <td>91</td>\n    </tr>\n    <tr>\n      <th>92</th>\n      <td>Gay Street</td>\n      <td>92</td>\n    </tr>\n    <tr>\n      <th>93</th>\n      <td>Glen</td>\n      <td>93</td>\n    </tr>\n    <tr>\n      <th>94</th>\n      <td>Glen Oaks</td>\n      <td>94</td>\n    </tr>\n    <tr>\n      <th>95</th>\n      <td>Glenham-Belhar</td>\n      <td>95</td>\n    </tr>\n    <tr>\n      <th>96</th>\n      <td>Graceland Park</td>\n      <td>96</td>\n    </tr>\n    <tr>\n      <th>97</th>\n      <td>Greektown</td>\n      <td>97</td>\n    </tr>\n    <tr>\n      <th>98</th>\n      <td>Greenmount Cemetery</td>\n      <td>98</td>\n    </tr>\n    <tr>\n      <th>99</th>\n      <td>Greenmount West</td>\n      <td>99</td>\n    </tr>\n    <tr>\n      <th>100</th>\n      <td>Greenspring</td>\n      <td>100</td>\n    </tr>\n    <tr>\n      <th>101</th>\n      <td>Grove Park</td>\n      <td>101</td>\n    </tr>\n    <tr>\n      <th>102</th>\n      <td>Guilford</td>\n      <td>102</td>\n    </tr>\n    <tr>\n      <th>103</th>\n      <td>Gwynns Falls</td>\n      <td>103</td>\n    </tr>\n    <tr>\n      <th>104</th>\n      <td>Gwynns Falls/Leakin Park</td>\n      <td>104</td>\n    </tr>\n    <tr>\n      <th>105</th>\n      <td>Hamilton Hills</td>\n      <td>105</td>\n    </tr>\n    <tr>\n      <th>106</th>\n      <td>Hampden</td>\n      <td>106</td>\n    </tr>\n    <tr>\n      <th>107</th>\n      <td>Hanlon-Longwood</td>\n      <td>107</td>\n    </tr>\n    <tr>\n      <th>108</th>\n      <td>Harlem Park</td>\n      <td>108</td>\n    </tr>\n    <tr>\n      <th>109</th>\n      <td>Harwood</td>\n      <td>109</td>\n    </tr>\n    <tr>\n      <th>110</th>\n      <td>Hawkins Point</td>\n      <td>110</td>\n    </tr>\n    <tr>\n      <th>111</th>\n      <td>Heritage Crossing</td>\n      <td>111</td>\n    </tr>\n    <tr>\n      <th>112</th>\n      <td>Herring Run Park</td>\n      <td>112</td>\n    </tr>\n    <tr>\n      <th>113</th>\n      <td>Highlandtown</td>\n      <td>113</td>\n    </tr>\n    <tr>\n      <th>114</th>\n      <td>Hillen</td>\n      <td>114</td>\n    </tr>\n    <tr>\n      <th>115</th>\n      <td>Hoes Heights</td>\n      <td>115</td>\n    </tr>\n    <tr>\n      <th>116</th>\n      <td>Holabird Industrial Park</td>\n      <td>116</td>\n    </tr>\n    <tr>\n      <th>117</th>\n      <td>Hollins Market</td>\n      <td>117</td>\n    </tr>\n    <tr>\n      <th>118</th>\n      <td>Homeland</td>\n      <td>118</td>\n    </tr>\n    <tr>\n      <th>119</th>\n      <td>Hopkins Bayview</td>\n      <td>119</td>\n    </tr>\n    <tr>\n      <th>120</th>\n      <td>Howard Park</td>\n      <td>120</td>\n    </tr>\n    <tr>\n      <th>121</th>\n      <td>Hunting Ridge</td>\n      <td>121</td>\n    </tr>\n    <tr>\n      <th>122</th>\n      <td>Idlewood</td>\n      <td>122</td>\n    </tr>\n    <tr>\n      <th>123</th>\n      <td>Inner Harbor</td>\n      <td>123</td>\n    </tr>\n    <tr>\n      <th>124</th>\n      <td>Irvington</td>\n      <td>124</td>\n    </tr>\n    <tr>\n      <th>125</th>\n      <td>Johns Hopkins Homewood</td>\n      <td>125</td>\n    </tr>\n    <tr>\n      <th>126</th>\n      <td>Johnston Square</td>\n      <td>126</td>\n    </tr>\n    <tr>\n      <th>127</th>\n      <td>Jones Falls Area</td>\n      <td>127</td>\n    </tr>\n    <tr>\n      <th>128</th>\n      <td>Jonestown</td>\n      <td>128</td>\n    </tr>\n    <tr>\n      <th>129</th>\n      <td>Kenilworth Park</td>\n      <td>129</td>\n    </tr>\n    <tr>\n      <th>130</th>\n      <td>Kernewood</td>\n      <td>130</td>\n    </tr>\n    <tr>\n      <th>131</th>\n      <td>Keswick</td>\n      <td>131</td>\n    </tr>\n    <tr>\n      <th>132</th>\n      <td>Kresson</td>\n      <td>132</td>\n    </tr>\n    <tr>\n      <th>133</th>\n      <td>Lake Evesham</td>\n      <td>133</td>\n    </tr>\n    <tr>\n      <th>134</th>\n      <td>Lake Walker</td>\n      <td>134</td>\n    </tr>\n    <tr>\n      <th>135</th>\n      <td>Lakeland</td>\n      <td>135</td>\n    </tr>\n    <tr>\n      <th>136</th>\n      <td>Langston Hughes</td>\n      <td>136</td>\n    </tr>\n    <tr>\n      <th>137</th>\n      <td>Lauraville</td>\n      <td>137</td>\n    </tr>\n    <tr>\n      <th>138</th>\n      <td>Levindale</td>\n      <td>138</td>\n    </tr>\n    <tr>\n      <th>139</th>\n      <td>Liberty Square</td>\n      <td>139</td>\n    </tr>\n    <tr>\n      <th>140</th>\n      <td>Little Italy</td>\n      <td>140</td>\n    </tr>\n    <tr>\n      <th>141</th>\n      <td>Loch Raven</td>\n      <td>141</td>\n    </tr>\n    <tr>\n      <th>142</th>\n      <td>Locust Point</td>\n      <td>142</td>\n    </tr>\n    <tr>\n      <th>143</th>\n      <td>Locust Point Industrial A</td>\n      <td>143</td>\n    </tr>\n    <tr>\n      <th>144</th>\n      <td>Lower Edmondson Village</td>\n      <td>144</td>\n    </tr>\n    <tr>\n      <th>145</th>\n      <td>Lower Herring Run Park</td>\n      <td>145</td>\n    </tr>\n    <tr>\n      <th>146</th>\n      <td>Loyola/Notre Dame</td>\n      <td>146</td>\n    </tr>\n    <tr>\n      <th>147</th>\n      <td>Lucille Park</td>\n      <td>147</td>\n    </tr>\n    <tr>\n      <th>148</th>\n      <td>Madison Park</td>\n      <td>148</td>\n    </tr>\n    <tr>\n      <th>149</th>\n      <td>Madison-Eastend</td>\n      <td>149</td>\n    </tr>\n    <tr>\n      <th>150</th>\n      <td>Mayfield</td>\n      <td>150</td>\n    </tr>\n    <tr>\n      <th>151</th>\n      <td>McElderry Park</td>\n      <td>151</td>\n    </tr>\n    <tr>\n      <th>152</th>\n      <td>Medfield</td>\n      <td>152</td>\n    </tr>\n    <tr>\n      <th>153</th>\n      <td>Medford</td>\n      <td>153</td>\n    </tr>\n    <tr>\n      <th>154</th>\n      <td>Mid-Govans</td>\n      <td>154</td>\n    </tr>\n    <tr>\n      <th>155</th>\n      <td>Mid-Town Belvedere</td>\n      <td>155</td>\n    </tr>\n    <tr>\n      <th>156</th>\n      <td>Middle Branch/Reedbird Pa</td>\n      <td>156</td>\n    </tr>\n    <tr>\n      <th>157</th>\n      <td>Middle East</td>\n      <td>157</td>\n    </tr>\n    <tr>\n      <th>158</th>\n      <td>Midtown-Edmondson</td>\n      <td>158</td>\n    </tr>\n    <tr>\n      <th>159</th>\n      <td>Millhill</td>\n      <td>159</td>\n    </tr>\n    <tr>\n      <th>160</th>\n      <td>Milton-Montford</td>\n      <td>160</td>\n    </tr>\n    <tr>\n      <th>161</th>\n      <td>Mondawmin</td>\n      <td>161</td>\n    </tr>\n    <tr>\n      <th>162</th>\n      <td>Montebello</td>\n      <td>162</td>\n    </tr>\n    <tr>\n      <th>163</th>\n      <td>Moravia-Walther</td>\n      <td>163</td>\n    </tr>\n    <tr>\n      <th>164</th>\n      <td>Morgan Park</td>\n      <td>164</td>\n    </tr>\n    <tr>\n      <th>165</th>\n      <td>Morgan State University</td>\n      <td>165</td>\n    </tr>\n    <tr>\n      <th>166</th>\n      <td>Morrell Park</td>\n      <td>166</td>\n    </tr>\n    <tr>\n      <th>167</th>\n      <td>Mosher</td>\n      <td>167</td>\n    </tr>\n    <tr>\n      <th>168</th>\n      <td>Mount Holly</td>\n      <td>168</td>\n    </tr>\n    <tr>\n      <th>169</th>\n      <td>Mount Vernon</td>\n      <td>169</td>\n    </tr>\n    <tr>\n      <th>170</th>\n      <td>Mount Washington</td>\n      <td>170</td>\n    </tr>\n    <tr>\n      <th>171</th>\n      <td>Mount Winans</td>\n      <td>171</td>\n    </tr>\n    <tr>\n      <th>172</th>\n      <td>Mt Pleasant Park</td>\n      <td>172</td>\n    </tr>\n    <tr>\n      <th>173</th>\n      <td>New Northwood</td>\n      <td>173</td>\n    </tr>\n    <tr>\n      <th>174</th>\n      <td>New Southwest/Mount Clare</td>\n      <td>174</td>\n    </tr>\n    <tr>\n      <th>175</th>\n      <td>North Harford Road</td>\n      <td>175</td>\n    </tr>\n    <tr>\n      <th>176</th>\n      <td>North Roland Park/Poplar</td>\n      <td>176</td>\n    </tr>\n    <tr>\n      <th>177</th>\n      <td>Northwest Community Actio</td>\n      <td>177</td>\n    </tr>\n    <tr>\n      <th>178</th>\n      <td>O'Donnell Heights</td>\n      <td>178</td>\n    </tr>\n    <tr>\n      <th>179</th>\n      <td>Oakenshawe</td>\n      <td>179</td>\n    </tr>\n    <tr>\n      <th>180</th>\n      <td>Oaklee</td>\n      <td>180</td>\n    </tr>\n    <tr>\n      <th>181</th>\n      <td>Old Goucher</td>\n      <td>181</td>\n    </tr>\n    <tr>\n      <th>182</th>\n      <td>Oldtown</td>\n      <td>182</td>\n    </tr>\n    <tr>\n      <th>183</th>\n      <td>Oliver</td>\n      <td>183</td>\n    </tr>\n    <tr>\n      <th>184</th>\n      <td>Orangeville</td>\n      <td>184</td>\n    </tr>\n    <tr>\n      <th>185</th>\n      <td>Orangeville Industrial Ar</td>\n      <td>185</td>\n    </tr>\n    <tr>\n      <th>186</th>\n      <td>Orchard Ridge</td>\n      <td>186</td>\n    </tr>\n    <tr>\n      <th>187</th>\n      <td>Original Northwood</td>\n      <td>187</td>\n    </tr>\n    <tr>\n      <th>188</th>\n      <td>Otterbein</td>\n      <td>188</td>\n    </tr>\n    <tr>\n      <th>189</th>\n      <td>Overlea</td>\n      <td>189</td>\n    </tr>\n    <tr>\n      <th>190</th>\n      <td>Panway/Braddish Avenue</td>\n      <td>190</td>\n    </tr>\n    <tr>\n      <th>191</th>\n      <td>Park Circle</td>\n      <td>191</td>\n    </tr>\n    <tr>\n      <th>192</th>\n      <td>Parklane</td>\n      <td>192</td>\n    </tr>\n    <tr>\n      <th>193</th>\n      <td>Parkside</td>\n      <td>193</td>\n    </tr>\n    <tr>\n      <th>194</th>\n      <td>Parkview/Woodbrook</td>\n      <td>194</td>\n    </tr>\n    <tr>\n      <th>195</th>\n      <td>Patterson Park</td>\n      <td>195</td>\n    </tr>\n    <tr>\n      <th>196</th>\n      <td>Patterson Park Neighborho</td>\n      <td>196</td>\n    </tr>\n    <tr>\n      <th>197</th>\n      <td>Patterson Place</td>\n      <td>197</td>\n    </tr>\n    <tr>\n      <th>198</th>\n      <td>Pen Lucy</td>\n      <td>198</td>\n    </tr>\n    <tr>\n      <th>199</th>\n      <td>Penn North</td>\n      <td>199</td>\n    </tr>\n    <tr>\n      <th>200</th>\n      <td>Penn-Fallsway</td>\n      <td>200</td>\n    </tr>\n    <tr>\n      <th>201</th>\n      <td>Penrose/Fayette Street Ou</td>\n      <td>201</td>\n    </tr>\n    <tr>\n      <th>202</th>\n      <td>Perkins Homes</td>\n      <td>202</td>\n    </tr>\n    <tr>\n      <th>203</th>\n      <td>Perring Loch</td>\n      <td>203</td>\n    </tr>\n    <tr>\n      <th>204</th>\n      <td>Pimlico Good Neighbors</td>\n      <td>204</td>\n    </tr>\n    <tr>\n      <th>205</th>\n      <td>Pleasant View Gardens</td>\n      <td>205</td>\n    </tr>\n    <tr>\n      <th>206</th>\n      <td>Poppleton</td>\n      <td>206</td>\n    </tr>\n    <tr>\n      <th>207</th>\n      <td>Port Covington</td>\n      <td>207</td>\n    </tr>\n    <tr>\n      <th>208</th>\n      <td>Pulaski Industrial Area</td>\n      <td>208</td>\n    </tr>\n    <tr>\n      <th>209</th>\n      <td>Purnell</td>\n      <td>209</td>\n    </tr>\n    <tr>\n      <th>210</th>\n      <td>Radnor-Winston</td>\n      <td>210</td>\n    </tr>\n    <tr>\n      <th>211</th>\n      <td>Ramblewood</td>\n      <td>211</td>\n    </tr>\n    <tr>\n      <th>212</th>\n      <td>Reisterstown Station</td>\n      <td>212</td>\n    </tr>\n    <tr>\n      <th>213</th>\n      <td>Remington</td>\n      <td>213</td>\n    </tr>\n    <tr>\n      <th>214</th>\n      <td>Reservoir Hill</td>\n      <td>214</td>\n    </tr>\n    <tr>\n      <th>215</th>\n      <td>Richnor Springs</td>\n      <td>215</td>\n    </tr>\n    <tr>\n      <th>216</th>\n      <td>Ridgely's Delight</td>\n      <td>216</td>\n    </tr>\n    <tr>\n      <th>217</th>\n      <td>Riverside</td>\n      <td>217</td>\n    </tr>\n    <tr>\n      <th>218</th>\n      <td>Rognel Heights</td>\n      <td>218</td>\n    </tr>\n    <tr>\n      <th>219</th>\n      <td>Roland Park</td>\n      <td>219</td>\n    </tr>\n    <tr>\n      <th>220</th>\n      <td>Rosebank</td>\n      <td>220</td>\n    </tr>\n    <tr>\n      <th>221</th>\n      <td>Rosemont</td>\n      <td>221</td>\n    </tr>\n    <tr>\n      <th>222</th>\n      <td>Rosemont East</td>\n      <td>222</td>\n    </tr>\n    <tr>\n      <th>223</th>\n      <td>Rosemont Homeowners/Tenan</td>\n      <td>223</td>\n    </tr>\n    <tr>\n      <th>224</th>\n      <td>Sabina-Mattfeldt</td>\n      <td>224</td>\n    </tr>\n    <tr>\n      <th>225</th>\n      <td>Saint Agnes</td>\n      <td>225</td>\n    </tr>\n    <tr>\n      <th>226</th>\n      <td>Saint Helena</td>\n      <td>226</td>\n    </tr>\n    <tr>\n      <th>227</th>\n      <td>Saint Josephs</td>\n      <td>227</td>\n    </tr>\n    <tr>\n      <th>228</th>\n      <td>Saint Paul</td>\n      <td>228</td>\n    </tr>\n    <tr>\n      <th>229</th>\n      <td>Sandtown-Winchester</td>\n      <td>229</td>\n    </tr>\n    <tr>\n      <th>230</th>\n      <td>Seton Business Park</td>\n      <td>230</td>\n    </tr>\n    <tr>\n      <th>231</th>\n      <td>Seton Hill</td>\n      <td>231</td>\n    </tr>\n    <tr>\n      <th>232</th>\n      <td>Sharp-Leadenhall</td>\n      <td>232</td>\n    </tr>\n    <tr>\n      <th>233</th>\n      <td>Shipley Hill</td>\n      <td>233</td>\n    </tr>\n    <tr>\n      <th>234</th>\n      <td>South Baltimore</td>\n      <td>234</td>\n    </tr>\n    <tr>\n      <th>235</th>\n      <td>South Clifton Park</td>\n      <td>235</td>\n    </tr>\n    <tr>\n      <th>236</th>\n      <td>Spring Garden Industrial</td>\n      <td>236</td>\n    </tr>\n    <tr>\n      <th>237</th>\n      <td>Stadium Area</td>\n      <td>237</td>\n    </tr>\n    <tr>\n      <th>238</th>\n      <td>Stonewood-Pentwood-Winsto</td>\n      <td>238</td>\n    </tr>\n    <tr>\n      <th>239</th>\n      <td>Taylor Heights</td>\n      <td>239</td>\n    </tr>\n    <tr>\n      <th>240</th>\n      <td>Ten Hills</td>\n      <td>240</td>\n    </tr>\n    <tr>\n      <th>241</th>\n      <td>The Orchards</td>\n      <td>241</td>\n    </tr>\n    <tr>\n      <th>242</th>\n      <td>Towanda-Grantley</td>\n      <td>242</td>\n    </tr>\n    <tr>\n      <th>243</th>\n      <td>Tremont</td>\n      <td>243</td>\n    </tr>\n    <tr>\n      <th>244</th>\n      <td>Tuscany-Canterbury</td>\n      <td>244</td>\n    </tr>\n    <tr>\n      <th>245</th>\n      <td>Union Square</td>\n      <td>245</td>\n    </tr>\n    <tr>\n      <th>246</th>\n      <td>University Of Maryland</td>\n      <td>246</td>\n    </tr>\n    <tr>\n      <th>247</th>\n      <td>Uplands</td>\n      <td>247</td>\n    </tr>\n    <tr>\n      <th>248</th>\n      <td>Upper Fells Point</td>\n      <td>248</td>\n    </tr>\n    <tr>\n      <th>249</th>\n      <td>Upton</td>\n      <td>249</td>\n    </tr>\n    <tr>\n      <th>250</th>\n      <td>Villages Of Homeland</td>\n      <td>250</td>\n    </tr>\n    <tr>\n      <th>251</th>\n      <td>Violetville</td>\n      <td>251</td>\n    </tr>\n    <tr>\n      <th>252</th>\n      <td>Wakefield</td>\n      <td>252</td>\n    </tr>\n    <tr>\n      <th>253</th>\n      <td>Walbrook</td>\n      <td>253</td>\n    </tr>\n    <tr>\n      <th>254</th>\n      <td>Waltherson</td>\n      <td>254</td>\n    </tr>\n    <tr>\n      <th>255</th>\n      <td>Washington Hill</td>\n      <td>255</td>\n    </tr>\n    <tr>\n      <th>256</th>\n      <td>Washington Village/Pigtow</td>\n      <td>256</td>\n    </tr>\n    <tr>\n      <th>257</th>\n      <td>Waverly</td>\n      <td>257</td>\n    </tr>\n    <tr>\n      <th>258</th>\n      <td>West Arlington</td>\n      <td>258</td>\n    </tr>\n    <tr>\n      <th>259</th>\n      <td>West Forest Park</td>\n      <td>259</td>\n    </tr>\n    <tr>\n      <th>260</th>\n      <td>West Hills</td>\n      <td>260</td>\n    </tr>\n    <tr>\n      <th>261</th>\n      <td>Westfield</td>\n      <td>261</td>\n    </tr>\n    <tr>\n      <th>262</th>\n      <td>Westgate</td>\n      <td>262</td>\n    </tr>\n    <tr>\n      <th>263</th>\n      <td>Westport</td>\n      <td>263</td>\n    </tr>\n    <tr>\n      <th>264</th>\n      <td>Wilhelm Park</td>\n      <td>264</td>\n    </tr>\n    <tr>\n      <th>265</th>\n      <td>Wilson Park</td>\n      <td>265</td>\n    </tr>\n    <tr>\n      <th>266</th>\n      <td>Winchester</td>\n      <td>266</td>\n    </tr>\n    <tr>\n      <th>267</th>\n      <td>Windsor Hills</td>\n      <td>267</td>\n    </tr>\n    <tr>\n      <th>268</th>\n      <td>Winston-Govans</td>\n      <td>268</td>\n    </tr>\n    <tr>\n      <th>269</th>\n      <td>Woodberry</td>\n      <td>269</td>\n    </tr>\n    <tr>\n      <th>270</th>\n      <td>Woodbourne Heights</td>\n      <td>270</td>\n    </tr>\n    <tr>\n      <th>271</th>\n      <td>Woodbourne-McCabe</td>\n      <td>271</td>\n    </tr>\n    <tr>\n      <th>272</th>\n      <td>Woodmere</td>\n      <td>272</td>\n    </tr>\n    <tr>\n      <th>273</th>\n      <td>Wrenlane</td>\n      <td>273</td>\n    </tr>\n    <tr>\n      <th>274</th>\n      <td>Wyman Park</td>\n      <td>274</td>\n    </tr>\n    <tr>\n      <th>275</th>\n      <td>Wyndhurst</td>\n      <td>275</td>\n    </tr>\n    <tr>\n      <th>276</th>\n      <td>Yale Heights</td>\n      <td>276</td>\n    </tr>\n    <tr>\n      <th>277</th>\n      <td>York-Homeland</td>\n      <td>277</td>\n    </tr>\n  </tbody>\n</table>\n</div>"
     },
     "execution_count": 55,
     "metadata": {},
     "output_type": "execute_result"
    }
   ],
   "source": [
    "pd.set_option('display.max_rows', 500)\n",
    "Neigh"
   ],
   "metadata": {
    "collapsed": false,
    "pycharm": {
     "name": "#%%\n"
    }
   }
  },
  {
   "cell_type": "markdown",
   "source": [
    "Patterson Park and Patternson Park Neighborho are the same thing. Surprisingly this is the only duplicate. All the others are distinct neighborhoods.\n"
   ],
   "metadata": {
    "collapsed": false,
    "pycharm": {
     "name": "#%% md\n"
    }
   }
  },
  {
   "cell_type": "code",
   "execution_count": 56,
   "outputs": [],
   "source": [
    "df['Neighborhood'] = df['Neighborhood'].replace('Patterson Park Neighborho', 'Patterson Park')"
   ],
   "metadata": {
    "collapsed": false,
    "pycharm": {
     "name": "#%%\n"
    }
   }
  },
  {
   "cell_type": "code",
   "execution_count": 57,
   "outputs": [
    {
     "data": {
      "text/plain": "array(['Abell', 'Allendale', 'Arcadia', 'Arlington', 'Armistead Gardens',\n       'Ashburton', 'Baltimore Highlands', 'Barclay', 'Barre Circle',\n       'Bayview', 'Beechfield', 'Belair-Edison', 'Belair-Parkside',\n       'Bellona-Gittings', 'Belvedere', 'Berea', 'Better Waverly',\n       'Beverly Hills', 'Biddle Street', 'Blythewood', 'Bolton Hill',\n       'Boyd-Booth', 'Brewers Hill', 'Bridgeview/Greenlawn',\n       'Broadway East', 'Broening Manor', 'Brooklyn', 'Burleith-Leighton',\n       \"Butcher's Hill\", 'CARE', 'Callaway-Garrison', 'Cameron Village',\n       'Canton', 'Canton Industrial Area', 'Carroll - Camden Industri',\n       'Carroll Park', 'Carroll-South Hilton', 'Carrollton Ridge',\n       'Cedarcroft', 'Cedmont', 'Cedonia', 'Central Forest Park',\n       'Central Park Heights', 'Charles North', 'Charles Village',\n       'Cherry Hill', 'Cheswolde', 'Chinquapin Park', 'Clifton Park',\n       'Coldspring', 'Coldstream Homestead Mont',\n       'Concerned Citizens Of For', 'Coppin Heights/Ash-Co-Eas',\n       'Cross Country', 'Cross Keys', 'Curtis Bay',\n       'Curtis Bay Industrial Are', 'Cylburn', 'Darley Park',\n       'Dickeyville', 'Dolfield', 'Dorchester', 'Downtown',\n       'Downtown West', 'Druid Heights', 'Druid Hill Park',\n       'Dunbar-Broadway', 'Dundalk Marine Terminal', 'East Arlington',\n       'East Baltimore Midway', 'Easterwood', 'Eastwood', 'Edgewood',\n       'Edmondson Village', 'Ednor Gardens-Lakeside',\n       'Ellwood Park/Monument', 'Evergreen', 'Evergreen Lawn',\n       'Evesham Park', 'Fairfield Area', 'Fairmont', 'Fallstaff',\n       'Federal Hill', 'Fells Point', 'Forest Park',\n       'Forest Park Golf Course', 'Four By Four', 'Frankford',\n       'Franklin Square', 'Franklintown', 'Franklintown Road',\n       'Garwyn Oaks', 'Gay Street', 'Glen', 'Glen Oaks', 'Glenham-Belhar',\n       'Graceland Park', 'Greektown', 'Greenmount Cemetery',\n       'Greenmount West', 'Greenspring', 'Grove Park', 'Guilford',\n       'Gwynns Falls', 'Gwynns Falls/Leakin Park', 'Hamilton Hills',\n       'Hampden', 'Hanlon-Longwood', 'Harlem Park', 'Harwood',\n       'Hawkins Point', 'Heritage Crossing', 'Herring Run Park',\n       'Highlandtown', 'Hillen', 'Hoes Heights',\n       'Holabird Industrial Park', 'Hollins Market', 'Homeland',\n       'Hopkins Bayview', 'Howard Park', 'Hunting Ridge', 'Idlewood',\n       'Inner Harbor', 'Irvington', 'Johns Hopkins Homewood',\n       'Johnston Square', 'Jones Falls Area', 'Jonestown',\n       'Kenilworth Park', 'Kernewood', 'Keswick', 'Kresson',\n       'Lake Evesham', 'Lake Walker', 'Lakeland', 'Langston Hughes',\n       'Lauraville', 'Levindale', 'Liberty Square', 'Little Italy',\n       'Loch Raven', 'Locust Point', 'Locust Point Industrial A',\n       'Lower Edmondson Village', 'Lower Herring Run Park',\n       'Loyola/Notre Dame', 'Lucille Park', 'Madison Park',\n       'Madison-Eastend', 'Mayfield', 'McElderry Park', 'Medfield',\n       'Medford', 'Mid-Govans', 'Mid-Town Belvedere',\n       'Middle Branch/Reedbird Pa', 'Middle East', 'Midtown-Edmondson',\n       'Millhill', 'Milton-Montford', 'Mondawmin', 'Montebello',\n       'Moravia-Walther', 'Morgan Park', 'Morgan State University',\n       'Morrell Park', 'Mosher', 'Mount Holly', 'Mount Vernon',\n       'Mount Washington', 'Mount Winans', 'Mt Pleasant Park',\n       'New Northwood', 'New Southwest/Mount Clare', 'North Harford Road',\n       'North Roland Park/Poplar', 'Northwest Community Actio',\n       \"O'Donnell Heights\", 'Oakenshawe', 'Oaklee', 'Old Goucher',\n       'Oldtown', 'Oliver', 'Orangeville', 'Orangeville Industrial Ar',\n       'Orchard Ridge', 'Original Northwood', 'Otterbein', 'Overlea',\n       'Panway/Braddish Avenue', 'Park Circle', 'Parklane', 'Parkside',\n       'Parkview/Woodbrook', 'Patterson Park', 'Patterson Place',\n       'Pen Lucy', 'Penn North', 'Penn-Fallsway',\n       'Penrose/Fayette Street Ou', 'Perkins Homes', 'Perring Loch',\n       'Pimlico Good Neighbors', 'Pleasant View Gardens', 'Poppleton',\n       'Port Covington', 'Pulaski Industrial Area', 'Purnell',\n       'Radnor-Winston', 'Ramblewood', 'Reisterstown Station',\n       'Remington', 'Reservoir Hill', 'Richnor Springs',\n       \"Ridgely's Delight\", 'Riverside', 'Rognel Heights', 'Roland Park',\n       'Rosebank', 'Rosemont', 'Rosemont East',\n       'Rosemont Homeowners/Tenan', 'Sabina-Mattfeldt', 'Saint Agnes',\n       'Saint Helena', 'Saint Josephs', 'Saint Paul',\n       'Sandtown-Winchester', 'Seton Business Park', 'Seton Hill',\n       'Sharp-Leadenhall', 'Shipley Hill', 'South Baltimore',\n       'South Clifton Park', 'Spring Garden Industrial', 'Stadium Area',\n       'Stonewood-Pentwood-Winsto', 'Taylor Heights', 'Ten Hills',\n       'The Orchards', 'Towanda-Grantley', 'Tremont',\n       'Tuscany-Canterbury', 'Union Square', 'University Of Maryland',\n       'Uplands', 'Upper Fells Point', 'Upton', 'Villages Of Homeland',\n       'Violetville', 'Wakefield', 'Walbrook', 'Waltherson',\n       'Washington Hill', 'Washington Village/Pigtow', 'Waverly',\n       'West Arlington', 'West Forest Park', 'West Hills', 'Westfield',\n       'Westgate', 'Westport', 'Wilhelm Park', 'Wilson Park',\n       'Winchester', 'Windsor Hills', 'Winston-Govans', 'Woodberry',\n       'Woodbourne Heights', 'Woodbourne-McCabe', 'Woodmere', 'Wrenlane',\n       'Wyman Park', 'Wyndhurst', 'Yale Heights', 'York-Homeland'],\n      dtype=object)"
     },
     "execution_count": 57,
     "metadata": {},
     "output_type": "execute_result"
    }
   ],
   "source": [
    "temp =df[\"Neighborhood\"].unique()\n",
    "np.sort(temp)"
   ],
   "metadata": {
    "collapsed": false,
    "pycharm": {
     "name": "#%%\n"
    }
   }
  },
  {
   "cell_type": "code",
   "execution_count": 58,
   "outputs": [
    {
     "data": {
      "text/plain": "0    Stonewood-Pentwood-Winsto\n1                          238\nName: 238, dtype: object"
     },
     "execution_count": 58,
     "metadata": {},
     "output_type": "execute_result"
    }
   ],
   "source": [
    "Neigh.iloc[238,]"
   ],
   "metadata": {
    "collapsed": false,
    "pycharm": {
     "name": "#%%\n"
    }
   }
  },
  {
   "cell_type": "markdown",
   "source": [
    "And some of the neighborhoods are cut off. Good to know when matching demographic data."
   ],
   "metadata": {
    "collapsed": false,
    "pycharm": {
     "name": "#%% md\n"
    }
   }
  },
  {
   "cell_type": "code",
   "execution_count": 59,
   "outputs": [
    {
     "data": {
      "text/plain": "              0  1\n0       CENTRAL  0\n1       EASTERN  1\n2  NORTHEASTERN  2\n3      NORTHERN  3\n4  NORTHWESTERN  4\n5  SOUTHEASTERN  5\n6      SOUTHERN  6\n7  SOUTHWESTERN  7\n8       WESTERN  8",
      "text/html": "<div>\n<style scoped>\n    .dataframe tbody tr th:only-of-type {\n        vertical-align: middle;\n    }\n\n    .dataframe tbody tr th {\n        vertical-align: top;\n    }\n\n    .dataframe thead th {\n        text-align: right;\n    }\n</style>\n<table border=\"1\" class=\"dataframe\">\n  <thead>\n    <tr style=\"text-align: right;\">\n      <th></th>\n      <th>0</th>\n      <th>1</th>\n    </tr>\n  </thead>\n  <tbody>\n    <tr>\n      <th>0</th>\n      <td>CENTRAL</td>\n      <td>0</td>\n    </tr>\n    <tr>\n      <th>1</th>\n      <td>EASTERN</td>\n      <td>1</td>\n    </tr>\n    <tr>\n      <th>2</th>\n      <td>NORTHEASTERN</td>\n      <td>2</td>\n    </tr>\n    <tr>\n      <th>3</th>\n      <td>NORTHERN</td>\n      <td>3</td>\n    </tr>\n    <tr>\n      <th>4</th>\n      <td>NORTHWESTERN</td>\n      <td>4</td>\n    </tr>\n    <tr>\n      <th>5</th>\n      <td>SOUTHEASTERN</td>\n      <td>5</td>\n    </tr>\n    <tr>\n      <th>6</th>\n      <td>SOUTHERN</td>\n      <td>6</td>\n    </tr>\n    <tr>\n      <th>7</th>\n      <td>SOUTHWESTERN</td>\n      <td>7</td>\n    </tr>\n    <tr>\n      <th>8</th>\n      <td>WESTERN</td>\n      <td>8</td>\n    </tr>\n  </tbody>\n</table>\n</div>"
     },
     "execution_count": 59,
     "metadata": {},
     "output_type": "execute_result"
    }
   ],
   "source": [
    "District\n"
   ],
   "metadata": {
    "collapsed": false,
    "pycharm": {
     "name": "#%%\n"
    }
   }
  },
  {
   "cell_type": "markdown",
   "source": [
    "No problem there. Premise will be messy though.\n",
    "\n"
   ],
   "metadata": {
    "collapsed": false,
    "pycharm": {
     "name": "#%% md\n"
    }
   }
  },
  {
   "cell_type": "code",
   "execution_count": 60,
   "outputs": [
    {
     "data": {
      "text/plain": "               0    1\n0          ALLEY    0\n1      APARTMENT    1\n2     APT. LOCKE    2\n3      APT/CONDO    3\n4          ARENA    4\n5     ATM MACHIN    5\n6     AUTO PARTS    6\n7          Alley    7\n8         BAKERY    8\n9     BANK/FINAN    9\n10           BAR   10\n11    BARBER/BEA   11\n12    BLDG UNDER   12\n13     BOAT YARD   13\n14     BOAT/SHIP   14\n15    BOX CARS/C   15\n16    BRIDGE-PIE   16\n17    BUS.  STOR   17\n18     BUS. PARK   18\n19      BUS/AUTO   19\n20    BUS/RAILRO   20\n21           CAB   21\n22    CAR  REPAI   22\n23    CAR LOT-NE   23\n24     CARRY OUT   24\n25      CEMETERY   25\n26    CHAIN FOOD   26\n27    CLOTHING/S   27\n28    CLUB HOUSE   28\n29    CONSTRUCTI   29\n30    CONVENIENC   30\n31    CONVENTION   31\n32    COURT HOUS   32\n33        Church   33\n34    Common Bus   34\n35    DEPARTMENT   35\n36    DOCTORS OF   36\n37      DRIVEWAY   37\n38    DRUG STORE   38\n39    Day Care F   39\n40      Dwelling   40\n41     FAST FOOD   41\n42    FINANCE/LO   42\n43    FIRE DEPAR   43\n44    GAS STATIO   44\n45    GROCERY/CO   45\n46    Gas Statio   46\n47    HARDWARE/B   47\n48    HOSP/NURS.   48\n49    HOTEL/MOTE   49\n50    HOUSE UNDE   50\n51      Hospital   51\n52    INNER HARB   52\n53    JEWELRY ST   53\n54    LAUNDRY/CL   54\n55       LIBRARY   55\n56    LIGHT RAIL   56\n57    LIQUOR STO   57\n58    MAILBOX-ST   58\n59    MANUFACTUR   59\n60    MARKET STA   60\n61    MINI STORA   61\n62    MOBILE HOM   62\n63       MTA LOT   63\n64    NIGHT DEPO   64\n65    OFFICE BUI   65\n66    OTHER - IN   66\n67    OTHER - OU   67\n68    OTHER/RESI   68\n69          PARK   69\n70    PARKING LO   70\n71     PAWN SHOP   71\n72    PENITENTIA   72\n73    PHOTO STUD   73\n74    PIZZA/OTHE   74\n75    PLAYGROUND   75\n76    POLICE DEP   76\n77    POOL/BOWLI   77\n78    PORCH/DECK   78\n79    PUBLIC BUI   79\n80    PUBLIC HOU   80\n81    Parking Lo   81\n82    Private Sc   82\n83    Public Are   83\n84    Public Hou   84\n85    Public Sch   85\n86    RACE TRACK   86\n87    RAILROAD C   87\n88    RECREATION   88\n89     RELIGIOUS   89\n90    RENTAL/VID   90\n91    RESTAURANT   91\n92    RETAIL/SMA   92\n93    ROW/TOWNHO   93\n94    SALESMAN/C   94\n95        SCHOOL   95\n96    SCHOOL PLA   96\n97   SHED/GARAGE   97\n98    SHOPPING M   98\n99    SINGLE HOU   99\n100      SKYWALK  100\n101    SPECIALTY  101\n102      STADIUM  102\n103       STREET  103\n104   STRUCTURE-  104\n105       SUBWAY  105\n106   TAVERN/NIG  106\n107      THEATRE  107\n108   TRACTOR TR  108\n109   TRUCKING &  109\n110      UNKNOWN  110\n111   UTILITIES-  111\n112   VACANT BUI  112\n113   VACANT LOT  113\n114   Vacant Dwe  114\n115      Vehicle  115\n116    WAREHOUSE  116\n117   WHOLESALE/  117\n118         YARD  118\n119   YARD/BUSIN  119",
      "text/html": "<div>\n<style scoped>\n    .dataframe tbody tr th:only-of-type {\n        vertical-align: middle;\n    }\n\n    .dataframe tbody tr th {\n        vertical-align: top;\n    }\n\n    .dataframe thead th {\n        text-align: right;\n    }\n</style>\n<table border=\"1\" class=\"dataframe\">\n  <thead>\n    <tr style=\"text-align: right;\">\n      <th></th>\n      <th>0</th>\n      <th>1</th>\n    </tr>\n  </thead>\n  <tbody>\n    <tr>\n      <th>0</th>\n      <td>ALLEY</td>\n      <td>0</td>\n    </tr>\n    <tr>\n      <th>1</th>\n      <td>APARTMENT</td>\n      <td>1</td>\n    </tr>\n    <tr>\n      <th>2</th>\n      <td>APT. LOCKE</td>\n      <td>2</td>\n    </tr>\n    <tr>\n      <th>3</th>\n      <td>APT/CONDO</td>\n      <td>3</td>\n    </tr>\n    <tr>\n      <th>4</th>\n      <td>ARENA</td>\n      <td>4</td>\n    </tr>\n    <tr>\n      <th>5</th>\n      <td>ATM MACHIN</td>\n      <td>5</td>\n    </tr>\n    <tr>\n      <th>6</th>\n      <td>AUTO PARTS</td>\n      <td>6</td>\n    </tr>\n    <tr>\n      <th>7</th>\n      <td>Alley</td>\n      <td>7</td>\n    </tr>\n    <tr>\n      <th>8</th>\n      <td>BAKERY</td>\n      <td>8</td>\n    </tr>\n    <tr>\n      <th>9</th>\n      <td>BANK/FINAN</td>\n      <td>9</td>\n    </tr>\n    <tr>\n      <th>10</th>\n      <td>BAR</td>\n      <td>10</td>\n    </tr>\n    <tr>\n      <th>11</th>\n      <td>BARBER/BEA</td>\n      <td>11</td>\n    </tr>\n    <tr>\n      <th>12</th>\n      <td>BLDG UNDER</td>\n      <td>12</td>\n    </tr>\n    <tr>\n      <th>13</th>\n      <td>BOAT YARD</td>\n      <td>13</td>\n    </tr>\n    <tr>\n      <th>14</th>\n      <td>BOAT/SHIP</td>\n      <td>14</td>\n    </tr>\n    <tr>\n      <th>15</th>\n      <td>BOX CARS/C</td>\n      <td>15</td>\n    </tr>\n    <tr>\n      <th>16</th>\n      <td>BRIDGE-PIE</td>\n      <td>16</td>\n    </tr>\n    <tr>\n      <th>17</th>\n      <td>BUS.  STOR</td>\n      <td>17</td>\n    </tr>\n    <tr>\n      <th>18</th>\n      <td>BUS. PARK</td>\n      <td>18</td>\n    </tr>\n    <tr>\n      <th>19</th>\n      <td>BUS/AUTO</td>\n      <td>19</td>\n    </tr>\n    <tr>\n      <th>20</th>\n      <td>BUS/RAILRO</td>\n      <td>20</td>\n    </tr>\n    <tr>\n      <th>21</th>\n      <td>CAB</td>\n      <td>21</td>\n    </tr>\n    <tr>\n      <th>22</th>\n      <td>CAR  REPAI</td>\n      <td>22</td>\n    </tr>\n    <tr>\n      <th>23</th>\n      <td>CAR LOT-NE</td>\n      <td>23</td>\n    </tr>\n    <tr>\n      <th>24</th>\n      <td>CARRY OUT</td>\n      <td>24</td>\n    </tr>\n    <tr>\n      <th>25</th>\n      <td>CEMETERY</td>\n      <td>25</td>\n    </tr>\n    <tr>\n      <th>26</th>\n      <td>CHAIN FOOD</td>\n      <td>26</td>\n    </tr>\n    <tr>\n      <th>27</th>\n      <td>CLOTHING/S</td>\n      <td>27</td>\n    </tr>\n    <tr>\n      <th>28</th>\n      <td>CLUB HOUSE</td>\n      <td>28</td>\n    </tr>\n    <tr>\n      <th>29</th>\n      <td>CONSTRUCTI</td>\n      <td>29</td>\n    </tr>\n    <tr>\n      <th>30</th>\n      <td>CONVENIENC</td>\n      <td>30</td>\n    </tr>\n    <tr>\n      <th>31</th>\n      <td>CONVENTION</td>\n      <td>31</td>\n    </tr>\n    <tr>\n      <th>32</th>\n      <td>COURT HOUS</td>\n      <td>32</td>\n    </tr>\n    <tr>\n      <th>33</th>\n      <td>Church</td>\n      <td>33</td>\n    </tr>\n    <tr>\n      <th>34</th>\n      <td>Common Bus</td>\n      <td>34</td>\n    </tr>\n    <tr>\n      <th>35</th>\n      <td>DEPARTMENT</td>\n      <td>35</td>\n    </tr>\n    <tr>\n      <th>36</th>\n      <td>DOCTORS OF</td>\n      <td>36</td>\n    </tr>\n    <tr>\n      <th>37</th>\n      <td>DRIVEWAY</td>\n      <td>37</td>\n    </tr>\n    <tr>\n      <th>38</th>\n      <td>DRUG STORE</td>\n      <td>38</td>\n    </tr>\n    <tr>\n      <th>39</th>\n      <td>Day Care F</td>\n      <td>39</td>\n    </tr>\n    <tr>\n      <th>40</th>\n      <td>Dwelling</td>\n      <td>40</td>\n    </tr>\n    <tr>\n      <th>41</th>\n      <td>FAST FOOD</td>\n      <td>41</td>\n    </tr>\n    <tr>\n      <th>42</th>\n      <td>FINANCE/LO</td>\n      <td>42</td>\n    </tr>\n    <tr>\n      <th>43</th>\n      <td>FIRE DEPAR</td>\n      <td>43</td>\n    </tr>\n    <tr>\n      <th>44</th>\n      <td>GAS STATIO</td>\n      <td>44</td>\n    </tr>\n    <tr>\n      <th>45</th>\n      <td>GROCERY/CO</td>\n      <td>45</td>\n    </tr>\n    <tr>\n      <th>46</th>\n      <td>Gas Statio</td>\n      <td>46</td>\n    </tr>\n    <tr>\n      <th>47</th>\n      <td>HARDWARE/B</td>\n      <td>47</td>\n    </tr>\n    <tr>\n      <th>48</th>\n      <td>HOSP/NURS.</td>\n      <td>48</td>\n    </tr>\n    <tr>\n      <th>49</th>\n      <td>HOTEL/MOTE</td>\n      <td>49</td>\n    </tr>\n    <tr>\n      <th>50</th>\n      <td>HOUSE UNDE</td>\n      <td>50</td>\n    </tr>\n    <tr>\n      <th>51</th>\n      <td>Hospital</td>\n      <td>51</td>\n    </tr>\n    <tr>\n      <th>52</th>\n      <td>INNER HARB</td>\n      <td>52</td>\n    </tr>\n    <tr>\n      <th>53</th>\n      <td>JEWELRY ST</td>\n      <td>53</td>\n    </tr>\n    <tr>\n      <th>54</th>\n      <td>LAUNDRY/CL</td>\n      <td>54</td>\n    </tr>\n    <tr>\n      <th>55</th>\n      <td>LIBRARY</td>\n      <td>55</td>\n    </tr>\n    <tr>\n      <th>56</th>\n      <td>LIGHT RAIL</td>\n      <td>56</td>\n    </tr>\n    <tr>\n      <th>57</th>\n      <td>LIQUOR STO</td>\n      <td>57</td>\n    </tr>\n    <tr>\n      <th>58</th>\n      <td>MAILBOX-ST</td>\n      <td>58</td>\n    </tr>\n    <tr>\n      <th>59</th>\n      <td>MANUFACTUR</td>\n      <td>59</td>\n    </tr>\n    <tr>\n      <th>60</th>\n      <td>MARKET STA</td>\n      <td>60</td>\n    </tr>\n    <tr>\n      <th>61</th>\n      <td>MINI STORA</td>\n      <td>61</td>\n    </tr>\n    <tr>\n      <th>62</th>\n      <td>MOBILE HOM</td>\n      <td>62</td>\n    </tr>\n    <tr>\n      <th>63</th>\n      <td>MTA LOT</td>\n      <td>63</td>\n    </tr>\n    <tr>\n      <th>64</th>\n      <td>NIGHT DEPO</td>\n      <td>64</td>\n    </tr>\n    <tr>\n      <th>65</th>\n      <td>OFFICE BUI</td>\n      <td>65</td>\n    </tr>\n    <tr>\n      <th>66</th>\n      <td>OTHER - IN</td>\n      <td>66</td>\n    </tr>\n    <tr>\n      <th>67</th>\n      <td>OTHER - OU</td>\n      <td>67</td>\n    </tr>\n    <tr>\n      <th>68</th>\n      <td>OTHER/RESI</td>\n      <td>68</td>\n    </tr>\n    <tr>\n      <th>69</th>\n      <td>PARK</td>\n      <td>69</td>\n    </tr>\n    <tr>\n      <th>70</th>\n      <td>PARKING LO</td>\n      <td>70</td>\n    </tr>\n    <tr>\n      <th>71</th>\n      <td>PAWN SHOP</td>\n      <td>71</td>\n    </tr>\n    <tr>\n      <th>72</th>\n      <td>PENITENTIA</td>\n      <td>72</td>\n    </tr>\n    <tr>\n      <th>73</th>\n      <td>PHOTO STUD</td>\n      <td>73</td>\n    </tr>\n    <tr>\n      <th>74</th>\n      <td>PIZZA/OTHE</td>\n      <td>74</td>\n    </tr>\n    <tr>\n      <th>75</th>\n      <td>PLAYGROUND</td>\n      <td>75</td>\n    </tr>\n    <tr>\n      <th>76</th>\n      <td>POLICE DEP</td>\n      <td>76</td>\n    </tr>\n    <tr>\n      <th>77</th>\n      <td>POOL/BOWLI</td>\n      <td>77</td>\n    </tr>\n    <tr>\n      <th>78</th>\n      <td>PORCH/DECK</td>\n      <td>78</td>\n    </tr>\n    <tr>\n      <th>79</th>\n      <td>PUBLIC BUI</td>\n      <td>79</td>\n    </tr>\n    <tr>\n      <th>80</th>\n      <td>PUBLIC HOU</td>\n      <td>80</td>\n    </tr>\n    <tr>\n      <th>81</th>\n      <td>Parking Lo</td>\n      <td>81</td>\n    </tr>\n    <tr>\n      <th>82</th>\n      <td>Private Sc</td>\n      <td>82</td>\n    </tr>\n    <tr>\n      <th>83</th>\n      <td>Public Are</td>\n      <td>83</td>\n    </tr>\n    <tr>\n      <th>84</th>\n      <td>Public Hou</td>\n      <td>84</td>\n    </tr>\n    <tr>\n      <th>85</th>\n      <td>Public Sch</td>\n      <td>85</td>\n    </tr>\n    <tr>\n      <th>86</th>\n      <td>RACE TRACK</td>\n      <td>86</td>\n    </tr>\n    <tr>\n      <th>87</th>\n      <td>RAILROAD C</td>\n      <td>87</td>\n    </tr>\n    <tr>\n      <th>88</th>\n      <td>RECREATION</td>\n      <td>88</td>\n    </tr>\n    <tr>\n      <th>89</th>\n      <td>RELIGIOUS</td>\n      <td>89</td>\n    </tr>\n    <tr>\n      <th>90</th>\n      <td>RENTAL/VID</td>\n      <td>90</td>\n    </tr>\n    <tr>\n      <th>91</th>\n      <td>RESTAURANT</td>\n      <td>91</td>\n    </tr>\n    <tr>\n      <th>92</th>\n      <td>RETAIL/SMA</td>\n      <td>92</td>\n    </tr>\n    <tr>\n      <th>93</th>\n      <td>ROW/TOWNHO</td>\n      <td>93</td>\n    </tr>\n    <tr>\n      <th>94</th>\n      <td>SALESMAN/C</td>\n      <td>94</td>\n    </tr>\n    <tr>\n      <th>95</th>\n      <td>SCHOOL</td>\n      <td>95</td>\n    </tr>\n    <tr>\n      <th>96</th>\n      <td>SCHOOL PLA</td>\n      <td>96</td>\n    </tr>\n    <tr>\n      <th>97</th>\n      <td>SHED/GARAGE</td>\n      <td>97</td>\n    </tr>\n    <tr>\n      <th>98</th>\n      <td>SHOPPING M</td>\n      <td>98</td>\n    </tr>\n    <tr>\n      <th>99</th>\n      <td>SINGLE HOU</td>\n      <td>99</td>\n    </tr>\n    <tr>\n      <th>100</th>\n      <td>SKYWALK</td>\n      <td>100</td>\n    </tr>\n    <tr>\n      <th>101</th>\n      <td>SPECIALTY</td>\n      <td>101</td>\n    </tr>\n    <tr>\n      <th>102</th>\n      <td>STADIUM</td>\n      <td>102</td>\n    </tr>\n    <tr>\n      <th>103</th>\n      <td>STREET</td>\n      <td>103</td>\n    </tr>\n    <tr>\n      <th>104</th>\n      <td>STRUCTURE-</td>\n      <td>104</td>\n    </tr>\n    <tr>\n      <th>105</th>\n      <td>SUBWAY</td>\n      <td>105</td>\n    </tr>\n    <tr>\n      <th>106</th>\n      <td>TAVERN/NIG</td>\n      <td>106</td>\n    </tr>\n    <tr>\n      <th>107</th>\n      <td>THEATRE</td>\n      <td>107</td>\n    </tr>\n    <tr>\n      <th>108</th>\n      <td>TRACTOR TR</td>\n      <td>108</td>\n    </tr>\n    <tr>\n      <th>109</th>\n      <td>TRUCKING &amp;</td>\n      <td>109</td>\n    </tr>\n    <tr>\n      <th>110</th>\n      <td>UNKNOWN</td>\n      <td>110</td>\n    </tr>\n    <tr>\n      <th>111</th>\n      <td>UTILITIES-</td>\n      <td>111</td>\n    </tr>\n    <tr>\n      <th>112</th>\n      <td>VACANT BUI</td>\n      <td>112</td>\n    </tr>\n    <tr>\n      <th>113</th>\n      <td>VACANT LOT</td>\n      <td>113</td>\n    </tr>\n    <tr>\n      <th>114</th>\n      <td>Vacant Dwe</td>\n      <td>114</td>\n    </tr>\n    <tr>\n      <th>115</th>\n      <td>Vehicle</td>\n      <td>115</td>\n    </tr>\n    <tr>\n      <th>116</th>\n      <td>WAREHOUSE</td>\n      <td>116</td>\n    </tr>\n    <tr>\n      <th>117</th>\n      <td>WHOLESALE/</td>\n      <td>117</td>\n    </tr>\n    <tr>\n      <th>118</th>\n      <td>YARD</td>\n      <td>118</td>\n    </tr>\n    <tr>\n      <th>119</th>\n      <td>YARD/BUSIN</td>\n      <td>119</td>\n    </tr>\n  </tbody>\n</table>\n</div>"
     },
     "execution_count": 60,
     "metadata": {},
     "output_type": "execute_result"
    }
   ],
   "source": [
    "Premise\n"
   ],
   "metadata": {
    "collapsed": false,
    "pycharm": {
     "name": "#%%\n"
    }
   }
  },
  {
   "cell_type": "markdown",
   "source": [
    "Combine:\n",
    "\n",
    "APT. LOCKE, APT/CONDO as APARTMENT\n",
    "\n",
    "Common bus as BUS/AUTO\n",
    "\n",
    "Gas Statio as GAS STATIO\n",
    "\n",
    "HOSP/NURS. as Hospital\n",
    "\n",
    "Parking Lo as PARKING LO\n",
    "\n",
    "\n",
    "\n",
    "\n"
   ],
   "metadata": {
    "collapsed": false,
    "pycharm": {
     "name": "#%% md\n"
    }
   }
  },
  {
   "cell_type": "code",
   "execution_count": 61,
   "outputs": [
    {
     "data": {
      "text/plain": "        CrimeDate Description Inside/Outside   Weapon   Post      District  \\\n1976   2017-08-16    HOMICIDE        Outside  FIREARM  733.0       WESTERN   \n2021   2017-08-15    SHOOTING        Outside  FIREARM  444.0  NORTHEASTERN   \n2485   2017-08-12    HOMICIDE        Outside  FIREARM  343.0       EASTERN   \n4269   2017-07-27    SHOOTING        Outside  FIREARM  622.0  NORTHWESTERN   \n4270   2017-07-27    HOMICIDE        Outside  FIREARM  622.0  NORTHWESTERN   \n5677   2017-07-16    SHOOTING        Outside  FIREARM  721.0       WESTERN   \n7310   2017-07-01    HOMICIDE        Outside  FIREARM  323.0       EASTERN   \n11079  2017-06-03    HOMICIDE        Outside  FIREARM  224.0  SOUTHEASTERN   \n12608  2017-05-22    SHOOTING        Outside  FIREARM  531.0      NORTHERN   \n14737  2017-05-04    HOMICIDE        Outside  FIREARM  524.0      NORTHERN   \n16818  2017-04-17    SHOOTING        Outside  FIREARM  934.0      SOUTHERN   \n16852  2017-04-17    HOMICIDE        Outside  FIREARM  443.0  NORTHEASTERN   \n\n                Neighborhood  Longitude  Latitude  Premise  Season  Month  \\\n1976              Penn North  -76.64275  39.31022  Vehicle  summer      8   \n2021               Frankford  -76.54832  39.33842  Vehicle  summer      8   \n2485                  Oliver  -76.60318  39.30730  Vehicle  summer      8   \n4269             Howard Park  -76.69786  39.33872  Vehicle  summer      7   \n4270             Howard Park  -76.69786  39.33872  Vehicle  summer      7   \n5677                  Mosher  -76.66151  39.29457  Vehicle  summer      7   \n7310           Biddle Street  -76.57956  39.30384  Vehicle  summer      7   \n11079  Ellwood Park/Monument  -76.57143  39.29724  Vehicle  spring      6   \n12608                Hampden  -76.63849  39.33581  Vehicle  spring      5   \n14737         Winston-Govans  -76.60857  39.35079  Vehicle  spring      5   \n16818       Carrollton Ridge  -76.64860  39.28511  Vehicle  spring      4   \n16852              Frankford  -76.54951  39.31854  Vehicle  spring      4   \n\n       Hour  Year  \n1976     10  2017  \n2021     23  2017  \n2485     16  2017  \n4269     22  2017  \n4270     22  2017  \n5677      1  2017  \n7310     15  2017  \n11079     3  2017  \n12608     2  2017  \n14737    23  2017  \n16818    19  2017  \n16852    15  2017  ",
      "text/html": "<div>\n<style scoped>\n    .dataframe tbody tr th:only-of-type {\n        vertical-align: middle;\n    }\n\n    .dataframe tbody tr th {\n        vertical-align: top;\n    }\n\n    .dataframe thead th {\n        text-align: right;\n    }\n</style>\n<table border=\"1\" class=\"dataframe\">\n  <thead>\n    <tr style=\"text-align: right;\">\n      <th></th>\n      <th>CrimeDate</th>\n      <th>Description</th>\n      <th>Inside/Outside</th>\n      <th>Weapon</th>\n      <th>Post</th>\n      <th>District</th>\n      <th>Neighborhood</th>\n      <th>Longitude</th>\n      <th>Latitude</th>\n      <th>Premise</th>\n      <th>Season</th>\n      <th>Month</th>\n      <th>Hour</th>\n      <th>Year</th>\n    </tr>\n  </thead>\n  <tbody>\n    <tr>\n      <th>1976</th>\n      <td>2017-08-16</td>\n      <td>HOMICIDE</td>\n      <td>Outside</td>\n      <td>FIREARM</td>\n      <td>733.0</td>\n      <td>WESTERN</td>\n      <td>Penn North</td>\n      <td>-76.64275</td>\n      <td>39.31022</td>\n      <td>Vehicle</td>\n      <td>summer</td>\n      <td>8</td>\n      <td>10</td>\n      <td>2017</td>\n    </tr>\n    <tr>\n      <th>2021</th>\n      <td>2017-08-15</td>\n      <td>SHOOTING</td>\n      <td>Outside</td>\n      <td>FIREARM</td>\n      <td>444.0</td>\n      <td>NORTHEASTERN</td>\n      <td>Frankford</td>\n      <td>-76.54832</td>\n      <td>39.33842</td>\n      <td>Vehicle</td>\n      <td>summer</td>\n      <td>8</td>\n      <td>23</td>\n      <td>2017</td>\n    </tr>\n    <tr>\n      <th>2485</th>\n      <td>2017-08-12</td>\n      <td>HOMICIDE</td>\n      <td>Outside</td>\n      <td>FIREARM</td>\n      <td>343.0</td>\n      <td>EASTERN</td>\n      <td>Oliver</td>\n      <td>-76.60318</td>\n      <td>39.30730</td>\n      <td>Vehicle</td>\n      <td>summer</td>\n      <td>8</td>\n      <td>16</td>\n      <td>2017</td>\n    </tr>\n    <tr>\n      <th>4269</th>\n      <td>2017-07-27</td>\n      <td>SHOOTING</td>\n      <td>Outside</td>\n      <td>FIREARM</td>\n      <td>622.0</td>\n      <td>NORTHWESTERN</td>\n      <td>Howard Park</td>\n      <td>-76.69786</td>\n      <td>39.33872</td>\n      <td>Vehicle</td>\n      <td>summer</td>\n      <td>7</td>\n      <td>22</td>\n      <td>2017</td>\n    </tr>\n    <tr>\n      <th>4270</th>\n      <td>2017-07-27</td>\n      <td>HOMICIDE</td>\n      <td>Outside</td>\n      <td>FIREARM</td>\n      <td>622.0</td>\n      <td>NORTHWESTERN</td>\n      <td>Howard Park</td>\n      <td>-76.69786</td>\n      <td>39.33872</td>\n      <td>Vehicle</td>\n      <td>summer</td>\n      <td>7</td>\n      <td>22</td>\n      <td>2017</td>\n    </tr>\n    <tr>\n      <th>5677</th>\n      <td>2017-07-16</td>\n      <td>SHOOTING</td>\n      <td>Outside</td>\n      <td>FIREARM</td>\n      <td>721.0</td>\n      <td>WESTERN</td>\n      <td>Mosher</td>\n      <td>-76.66151</td>\n      <td>39.29457</td>\n      <td>Vehicle</td>\n      <td>summer</td>\n      <td>7</td>\n      <td>1</td>\n      <td>2017</td>\n    </tr>\n    <tr>\n      <th>7310</th>\n      <td>2017-07-01</td>\n      <td>HOMICIDE</td>\n      <td>Outside</td>\n      <td>FIREARM</td>\n      <td>323.0</td>\n      <td>EASTERN</td>\n      <td>Biddle Street</td>\n      <td>-76.57956</td>\n      <td>39.30384</td>\n      <td>Vehicle</td>\n      <td>summer</td>\n      <td>7</td>\n      <td>15</td>\n      <td>2017</td>\n    </tr>\n    <tr>\n      <th>11079</th>\n      <td>2017-06-03</td>\n      <td>HOMICIDE</td>\n      <td>Outside</td>\n      <td>FIREARM</td>\n      <td>224.0</td>\n      <td>SOUTHEASTERN</td>\n      <td>Ellwood Park/Monument</td>\n      <td>-76.57143</td>\n      <td>39.29724</td>\n      <td>Vehicle</td>\n      <td>spring</td>\n      <td>6</td>\n      <td>3</td>\n      <td>2017</td>\n    </tr>\n    <tr>\n      <th>12608</th>\n      <td>2017-05-22</td>\n      <td>SHOOTING</td>\n      <td>Outside</td>\n      <td>FIREARM</td>\n      <td>531.0</td>\n      <td>NORTHERN</td>\n      <td>Hampden</td>\n      <td>-76.63849</td>\n      <td>39.33581</td>\n      <td>Vehicle</td>\n      <td>spring</td>\n      <td>5</td>\n      <td>2</td>\n      <td>2017</td>\n    </tr>\n    <tr>\n      <th>14737</th>\n      <td>2017-05-04</td>\n      <td>HOMICIDE</td>\n      <td>Outside</td>\n      <td>FIREARM</td>\n      <td>524.0</td>\n      <td>NORTHERN</td>\n      <td>Winston-Govans</td>\n      <td>-76.60857</td>\n      <td>39.35079</td>\n      <td>Vehicle</td>\n      <td>spring</td>\n      <td>5</td>\n      <td>23</td>\n      <td>2017</td>\n    </tr>\n    <tr>\n      <th>16818</th>\n      <td>2017-04-17</td>\n      <td>SHOOTING</td>\n      <td>Outside</td>\n      <td>FIREARM</td>\n      <td>934.0</td>\n      <td>SOUTHERN</td>\n      <td>Carrollton Ridge</td>\n      <td>-76.64860</td>\n      <td>39.28511</td>\n      <td>Vehicle</td>\n      <td>spring</td>\n      <td>4</td>\n      <td>19</td>\n      <td>2017</td>\n    </tr>\n    <tr>\n      <th>16852</th>\n      <td>2017-04-17</td>\n      <td>HOMICIDE</td>\n      <td>Outside</td>\n      <td>FIREARM</td>\n      <td>443.0</td>\n      <td>NORTHEASTERN</td>\n      <td>Frankford</td>\n      <td>-76.54951</td>\n      <td>39.31854</td>\n      <td>Vehicle</td>\n      <td>spring</td>\n      <td>4</td>\n      <td>15</td>\n      <td>2017</td>\n    </tr>\n  </tbody>\n</table>\n</div>"
     },
     "execution_count": 61,
     "metadata": {},
     "output_type": "execute_result"
    }
   ],
   "source": [
    "df[df[\"Premise\"]==\"Vehicle\"]"
   ],
   "metadata": {
    "collapsed": false,
    "pycharm": {
     "name": "#%%\n"
    }
   }
  },
  {
   "cell_type": "code",
   "execution_count": 62,
   "outputs": [],
   "source": [
    "df['Premise'] = df['Premise'].replace('APT. LOCKE', 'APARTMENT')\n",
    "df['Premise'] = df['Premise'].replace('APT/CONDO', 'APARTMENT')\n",
    "df['Premise'] = df['Premise'].replace('Common bus', 'BUS/AUTO')\n",
    "df['Premise'] = df['Premise'].replace('Gas Statio', 'GAS STATIO')\n",
    "df['Premise'] = df['Premise'].replace('HOSP/NURS.', 'Hospital')\n",
    "df['Premise'] = df['Premise'].replace('Parking Lo', 'PARKING LO')"
   ],
   "metadata": {
    "collapsed": false,
    "pycharm": {
     "name": "#%%\n"
    }
   }
  },
  {
   "cell_type": "markdown",
   "source": [
    "Vehicle as BUS/AUTO"
   ],
   "metadata": {
    "collapsed": false,
    "pycharm": {
     "name": "#%% md\n"
    }
   }
  },
  {
   "cell_type": "code",
   "execution_count": 63,
   "outputs": [],
   "source": [
    "df['Premise'] = df['Premise'].replace('Vehicle', 'BUS/AUTO')"
   ],
   "metadata": {
    "collapsed": false,
    "pycharm": {
     "name": "#%%\n"
    }
   }
  },
  {
   "cell_type": "code",
   "execution_count": 64,
   "outputs": [
    {
     "data": {
      "text/plain": "         CrimeDate Description Inside/Outside   Weapon   Post      District  \\\n219186  2012-11-30    SHOOTING        Outside  FIREARM  421.0  NORTHEASTERN   \n219187  2012-11-30    SHOOTING        Outside  FIREARM  421.0  NORTHEASTERN   \n\n                   Neighborhood  Longitude  Latitude     Premise  Season  \\\n219186  Morgan State University  -76.58747  39.34001  Private Sc  autumn   \n219187  Morgan State University  -76.58747  39.34001  Private Sc  autumn   \n\n        Month  Hour  Year  \n219186     11    12  2012  \n219187     11    12  2012  ",
      "text/html": "<div>\n<style scoped>\n    .dataframe tbody tr th:only-of-type {\n        vertical-align: middle;\n    }\n\n    .dataframe tbody tr th {\n        vertical-align: top;\n    }\n\n    .dataframe thead th {\n        text-align: right;\n    }\n</style>\n<table border=\"1\" class=\"dataframe\">\n  <thead>\n    <tr style=\"text-align: right;\">\n      <th></th>\n      <th>CrimeDate</th>\n      <th>Description</th>\n      <th>Inside/Outside</th>\n      <th>Weapon</th>\n      <th>Post</th>\n      <th>District</th>\n      <th>Neighborhood</th>\n      <th>Longitude</th>\n      <th>Latitude</th>\n      <th>Premise</th>\n      <th>Season</th>\n      <th>Month</th>\n      <th>Hour</th>\n      <th>Year</th>\n    </tr>\n  </thead>\n  <tbody>\n    <tr>\n      <th>219186</th>\n      <td>2012-11-30</td>\n      <td>SHOOTING</td>\n      <td>Outside</td>\n      <td>FIREARM</td>\n      <td>421.0</td>\n      <td>NORTHEASTERN</td>\n      <td>Morgan State University</td>\n      <td>-76.58747</td>\n      <td>39.34001</td>\n      <td>Private Sc</td>\n      <td>autumn</td>\n      <td>11</td>\n      <td>12</td>\n      <td>2012</td>\n    </tr>\n    <tr>\n      <th>219187</th>\n      <td>2012-11-30</td>\n      <td>SHOOTING</td>\n      <td>Outside</td>\n      <td>FIREARM</td>\n      <td>421.0</td>\n      <td>NORTHEASTERN</td>\n      <td>Morgan State University</td>\n      <td>-76.58747</td>\n      <td>39.34001</td>\n      <td>Private Sc</td>\n      <td>autumn</td>\n      <td>11</td>\n      <td>12</td>\n      <td>2012</td>\n    </tr>\n  </tbody>\n</table>\n</div>"
     },
     "execution_count": 64,
     "metadata": {},
     "output_type": "execute_result"
    }
   ],
   "source": [
    "df[df[\"Premise\"]==\"Private Sc\"]"
   ],
   "metadata": {
    "collapsed": false,
    "pycharm": {
     "name": "#%%\n"
    }
   }
  },
  {
   "cell_type": "code",
   "execution_count": 65,
   "outputs": [
    {
     "data": {
      "text/plain": "         CrimeDate Description Inside/Outside   Weapon   Post      District  \\\n74611   2016-01-02    SHOOTING        Outside  FIREARM  822.0  SOUTHWESTERN   \n76269   2015-12-20    HOMICIDE         Inside    KNIFE  132.0       CENTRAL   \n87750   2015-09-24    HOMICIDE        Outside  FIREARM  132.0       CENTRAL   \n129568  2014-11-03    HOMICIDE        Outside  FIREARM  813.0  SOUTHWESTERN   \n137502  2014-09-03    HOMICIDE        Outside  FIREARM  614.0  NORTHWESTERN   \n146128  2014-06-29    HOMICIDE        Outside  FIREARM  932.0      SOUTHERN   \n156163  2014-04-13    SHOOTING        Outside  FIREARM  132.0       CENTRAL   \n197018  2013-05-31    HOMICIDE        Outside  FIREARM  611.0  NORTHWESTERN   \n247670  2012-05-04    HOMICIDE        Outside  FIREARM  641.0  NORTHWESTERN   \n255595  2012-03-05    HOMICIDE        Outside  FIREARM  843.0  SOUTHWESTERN   \n255596  2012-03-05    HOMICIDE        Outside  FIREARM  843.0  SOUTHWESTERN   \n262617  2012-01-05    SHOOTING        Outside  FIREARM  841.0  SOUTHWESTERN   \n\n                     Neighborhood  Longitude  Latitude     Premise  Season  \\\n74611                     Uplands  -76.69199  39.29015  Public Sch  winter   \n76269                Madison Park  -76.62792  39.30271  Public Sch  autumn   \n87750                Madison Park  -76.62952  39.30648  Public Sch  autumn   \n129568  Northwest Community Actio  -76.66318  39.30465  Public Sch  autumn   \n137502       Central Park Heights  -76.67284  39.34670  Public Sch  summer   \n146128  Washington Village/Pigtow  -76.63487  39.28019  Public Sch  summer   \n156163               Madison Park  -76.62938  39.30636  Public Sch  spring   \n197018            Hanlon-Longwood  -76.66500  39.31839  Public Sch  spring   \n247670              Windsor Hills  -76.68290  39.31691  Public Sch  spring   \n255595                  Allendale  -76.67648  39.29186  Public Sch  winter   \n255596                  Allendale  -76.67648  39.29186  Public Sch  winter   \n262617                   Millhill  -76.65796  39.28203  Public Sch  winter   \n\n        Month  Hour  Year  \n74611       1    16  2016  \n76269      12    12  2015  \n87750       9    19  2015  \n129568     11     6  2014  \n137502      9    21  2014  \n146128      6    23  2014  \n156163      4    21  2014  \n197018      5    13  2013  \n247670      5    23  2012  \n255595      3    21  2012  \n255596      3    21  2012  \n262617      1     5  2012  ",
      "text/html": "<div>\n<style scoped>\n    .dataframe tbody tr th:only-of-type {\n        vertical-align: middle;\n    }\n\n    .dataframe tbody tr th {\n        vertical-align: top;\n    }\n\n    .dataframe thead th {\n        text-align: right;\n    }\n</style>\n<table border=\"1\" class=\"dataframe\">\n  <thead>\n    <tr style=\"text-align: right;\">\n      <th></th>\n      <th>CrimeDate</th>\n      <th>Description</th>\n      <th>Inside/Outside</th>\n      <th>Weapon</th>\n      <th>Post</th>\n      <th>District</th>\n      <th>Neighborhood</th>\n      <th>Longitude</th>\n      <th>Latitude</th>\n      <th>Premise</th>\n      <th>Season</th>\n      <th>Month</th>\n      <th>Hour</th>\n      <th>Year</th>\n    </tr>\n  </thead>\n  <tbody>\n    <tr>\n      <th>74611</th>\n      <td>2016-01-02</td>\n      <td>SHOOTING</td>\n      <td>Outside</td>\n      <td>FIREARM</td>\n      <td>822.0</td>\n      <td>SOUTHWESTERN</td>\n      <td>Uplands</td>\n      <td>-76.69199</td>\n      <td>39.29015</td>\n      <td>Public Sch</td>\n      <td>winter</td>\n      <td>1</td>\n      <td>16</td>\n      <td>2016</td>\n    </tr>\n    <tr>\n      <th>76269</th>\n      <td>2015-12-20</td>\n      <td>HOMICIDE</td>\n      <td>Inside</td>\n      <td>KNIFE</td>\n      <td>132.0</td>\n      <td>CENTRAL</td>\n      <td>Madison Park</td>\n      <td>-76.62792</td>\n      <td>39.30271</td>\n      <td>Public Sch</td>\n      <td>autumn</td>\n      <td>12</td>\n      <td>12</td>\n      <td>2015</td>\n    </tr>\n    <tr>\n      <th>87750</th>\n      <td>2015-09-24</td>\n      <td>HOMICIDE</td>\n      <td>Outside</td>\n      <td>FIREARM</td>\n      <td>132.0</td>\n      <td>CENTRAL</td>\n      <td>Madison Park</td>\n      <td>-76.62952</td>\n      <td>39.30648</td>\n      <td>Public Sch</td>\n      <td>autumn</td>\n      <td>9</td>\n      <td>19</td>\n      <td>2015</td>\n    </tr>\n    <tr>\n      <th>129568</th>\n      <td>2014-11-03</td>\n      <td>HOMICIDE</td>\n      <td>Outside</td>\n      <td>FIREARM</td>\n      <td>813.0</td>\n      <td>SOUTHWESTERN</td>\n      <td>Northwest Community Actio</td>\n      <td>-76.66318</td>\n      <td>39.30465</td>\n      <td>Public Sch</td>\n      <td>autumn</td>\n      <td>11</td>\n      <td>6</td>\n      <td>2014</td>\n    </tr>\n    <tr>\n      <th>137502</th>\n      <td>2014-09-03</td>\n      <td>HOMICIDE</td>\n      <td>Outside</td>\n      <td>FIREARM</td>\n      <td>614.0</td>\n      <td>NORTHWESTERN</td>\n      <td>Central Park Heights</td>\n      <td>-76.67284</td>\n      <td>39.34670</td>\n      <td>Public Sch</td>\n      <td>summer</td>\n      <td>9</td>\n      <td>21</td>\n      <td>2014</td>\n    </tr>\n    <tr>\n      <th>146128</th>\n      <td>2014-06-29</td>\n      <td>HOMICIDE</td>\n      <td>Outside</td>\n      <td>FIREARM</td>\n      <td>932.0</td>\n      <td>SOUTHERN</td>\n      <td>Washington Village/Pigtow</td>\n      <td>-76.63487</td>\n      <td>39.28019</td>\n      <td>Public Sch</td>\n      <td>summer</td>\n      <td>6</td>\n      <td>23</td>\n      <td>2014</td>\n    </tr>\n    <tr>\n      <th>156163</th>\n      <td>2014-04-13</td>\n      <td>SHOOTING</td>\n      <td>Outside</td>\n      <td>FIREARM</td>\n      <td>132.0</td>\n      <td>CENTRAL</td>\n      <td>Madison Park</td>\n      <td>-76.62938</td>\n      <td>39.30636</td>\n      <td>Public Sch</td>\n      <td>spring</td>\n      <td>4</td>\n      <td>21</td>\n      <td>2014</td>\n    </tr>\n    <tr>\n      <th>197018</th>\n      <td>2013-05-31</td>\n      <td>HOMICIDE</td>\n      <td>Outside</td>\n      <td>FIREARM</td>\n      <td>611.0</td>\n      <td>NORTHWESTERN</td>\n      <td>Hanlon-Longwood</td>\n      <td>-76.66500</td>\n      <td>39.31839</td>\n      <td>Public Sch</td>\n      <td>spring</td>\n      <td>5</td>\n      <td>13</td>\n      <td>2013</td>\n    </tr>\n    <tr>\n      <th>247670</th>\n      <td>2012-05-04</td>\n      <td>HOMICIDE</td>\n      <td>Outside</td>\n      <td>FIREARM</td>\n      <td>641.0</td>\n      <td>NORTHWESTERN</td>\n      <td>Windsor Hills</td>\n      <td>-76.68290</td>\n      <td>39.31691</td>\n      <td>Public Sch</td>\n      <td>spring</td>\n      <td>5</td>\n      <td>23</td>\n      <td>2012</td>\n    </tr>\n    <tr>\n      <th>255595</th>\n      <td>2012-03-05</td>\n      <td>HOMICIDE</td>\n      <td>Outside</td>\n      <td>FIREARM</td>\n      <td>843.0</td>\n      <td>SOUTHWESTERN</td>\n      <td>Allendale</td>\n      <td>-76.67648</td>\n      <td>39.29186</td>\n      <td>Public Sch</td>\n      <td>winter</td>\n      <td>3</td>\n      <td>21</td>\n      <td>2012</td>\n    </tr>\n    <tr>\n      <th>255596</th>\n      <td>2012-03-05</td>\n      <td>HOMICIDE</td>\n      <td>Outside</td>\n      <td>FIREARM</td>\n      <td>843.0</td>\n      <td>SOUTHWESTERN</td>\n      <td>Allendale</td>\n      <td>-76.67648</td>\n      <td>39.29186</td>\n      <td>Public Sch</td>\n      <td>winter</td>\n      <td>3</td>\n      <td>21</td>\n      <td>2012</td>\n    </tr>\n    <tr>\n      <th>262617</th>\n      <td>2012-01-05</td>\n      <td>SHOOTING</td>\n      <td>Outside</td>\n      <td>FIREARM</td>\n      <td>841.0</td>\n      <td>SOUTHWESTERN</td>\n      <td>Millhill</td>\n      <td>-76.65796</td>\n      <td>39.28203</td>\n      <td>Public Sch</td>\n      <td>winter</td>\n      <td>1</td>\n      <td>5</td>\n      <td>2012</td>\n    </tr>\n  </tbody>\n</table>\n</div>"
     },
     "execution_count": 65,
     "metadata": {},
     "output_type": "execute_result"
    }
   ],
   "source": [
    "df[df[\"Premise\"]==\"Public Sch\"]\n"
   ],
   "metadata": {
    "collapsed": false,
    "pycharm": {
     "name": "#%%\n"
    }
   }
  },
  {
   "cell_type": "markdown",
   "source": [
    "Merge these into SCHOOL"
   ],
   "metadata": {
    "collapsed": false,
    "pycharm": {
     "name": "#%% md\n"
    }
   }
  },
  {
   "cell_type": "code",
   "execution_count": 66,
   "outputs": [],
   "source": [
    "df['Premise'] = df['Premise'].replace('Private Sc', 'SCHOOL')\n",
    "df['Premise'] = df['Premise'].replace('Public Sch', 'SCHOOL')"
   ],
   "metadata": {
    "collapsed": false,
    "pycharm": {
     "name": "#%%\n"
    }
   }
  },
  {
   "cell_type": "markdown",
   "source": [
    "## Actually, we should convert all of the categorical variables to uppercase. This will fix many issues, as well as matching issues with the test data.\n"
   ],
   "metadata": {
    "collapsed": false,
    "pycharm": {
     "name": "#%% md\n"
    }
   }
  },
  {
   "cell_type": "code",
   "execution_count": 67,
   "outputs": [
    {
     "data": {
      "text/plain": "    CrimeDate          Description Inside/Outside   Weapon   Post  District  \\\n0  2017-09-02  ROBBERY - RESIDENCE         Inside    KNIFE  913.0  SOUTHERN   \n1  2017-09-02           AUTO THEFT        Outside     NONE  133.0   CENTRAL   \n2  2017-09-02             SHOOTING        Outside  FIREARM  524.0  NORTHERN   \n3  2017-09-02         AGG. ASSAULT         Inside    OTHER  934.0  SOUTHERN   \n4  2017-09-02       COMMON ASSAULT        Outside    HANDS  113.0   CENTRAL   \n\n       Neighborhood  Longitude  Latitude     Premise  Season  Month  Hour  \\\n0          Brooklyn  -76.60541  39.22951  ROW/TOWNHO  summer      9    23   \n1    Reservoir Hill  -76.63217  39.31360      STREET  summer      9    23   \n2    Winston-Govans  -76.60697  39.34768      STREET  summer      9    22   \n3  Carrollton Ridge  -76.64526  39.28315  ROW/TOWNHO  summer      9    22   \n4     Downtown West  -76.61365  39.28756      STREET  summer      9    22   \n\n   Year  \n0  2017  \n1  2017  \n2  2017  \n3  2017  \n4  2017  ",
      "text/html": "<div>\n<style scoped>\n    .dataframe tbody tr th:only-of-type {\n        vertical-align: middle;\n    }\n\n    .dataframe tbody tr th {\n        vertical-align: top;\n    }\n\n    .dataframe thead th {\n        text-align: right;\n    }\n</style>\n<table border=\"1\" class=\"dataframe\">\n  <thead>\n    <tr style=\"text-align: right;\">\n      <th></th>\n      <th>CrimeDate</th>\n      <th>Description</th>\n      <th>Inside/Outside</th>\n      <th>Weapon</th>\n      <th>Post</th>\n      <th>District</th>\n      <th>Neighborhood</th>\n      <th>Longitude</th>\n      <th>Latitude</th>\n      <th>Premise</th>\n      <th>Season</th>\n      <th>Month</th>\n      <th>Hour</th>\n      <th>Year</th>\n    </tr>\n  </thead>\n  <tbody>\n    <tr>\n      <th>0</th>\n      <td>2017-09-02</td>\n      <td>ROBBERY - RESIDENCE</td>\n      <td>Inside</td>\n      <td>KNIFE</td>\n      <td>913.0</td>\n      <td>SOUTHERN</td>\n      <td>Brooklyn</td>\n      <td>-76.60541</td>\n      <td>39.22951</td>\n      <td>ROW/TOWNHO</td>\n      <td>summer</td>\n      <td>9</td>\n      <td>23</td>\n      <td>2017</td>\n    </tr>\n    <tr>\n      <th>1</th>\n      <td>2017-09-02</td>\n      <td>AUTO THEFT</td>\n      <td>Outside</td>\n      <td>NONE</td>\n      <td>133.0</td>\n      <td>CENTRAL</td>\n      <td>Reservoir Hill</td>\n      <td>-76.63217</td>\n      <td>39.31360</td>\n      <td>STREET</td>\n      <td>summer</td>\n      <td>9</td>\n      <td>23</td>\n      <td>2017</td>\n    </tr>\n    <tr>\n      <th>2</th>\n      <td>2017-09-02</td>\n      <td>SHOOTING</td>\n      <td>Outside</td>\n      <td>FIREARM</td>\n      <td>524.0</td>\n      <td>NORTHERN</td>\n      <td>Winston-Govans</td>\n      <td>-76.60697</td>\n      <td>39.34768</td>\n      <td>STREET</td>\n      <td>summer</td>\n      <td>9</td>\n      <td>22</td>\n      <td>2017</td>\n    </tr>\n    <tr>\n      <th>3</th>\n      <td>2017-09-02</td>\n      <td>AGG. ASSAULT</td>\n      <td>Inside</td>\n      <td>OTHER</td>\n      <td>934.0</td>\n      <td>SOUTHERN</td>\n      <td>Carrollton Ridge</td>\n      <td>-76.64526</td>\n      <td>39.28315</td>\n      <td>ROW/TOWNHO</td>\n      <td>summer</td>\n      <td>9</td>\n      <td>22</td>\n      <td>2017</td>\n    </tr>\n    <tr>\n      <th>4</th>\n      <td>2017-09-02</td>\n      <td>COMMON ASSAULT</td>\n      <td>Outside</td>\n      <td>HANDS</td>\n      <td>113.0</td>\n      <td>CENTRAL</td>\n      <td>Downtown West</td>\n      <td>-76.61365</td>\n      <td>39.28756</td>\n      <td>STREET</td>\n      <td>summer</td>\n      <td>9</td>\n      <td>22</td>\n      <td>2017</td>\n    </tr>\n  </tbody>\n</table>\n</div>"
     },
     "execution_count": 67,
     "metadata": {},
     "output_type": "execute_result"
    }
   ],
   "source": [
    "df.head()\n"
   ],
   "metadata": {
    "collapsed": false,
    "pycharm": {
     "name": "#%%\n"
    }
   }
  },
  {
   "cell_type": "code",
   "execution_count": 68,
   "outputs": [
    {
     "data": {
      "text/plain": "array(['KNIFE', 'NONE', 'FIREARM', 'OTHER', 'HANDS'], dtype=object)"
     },
     "execution_count": 68,
     "metadata": {},
     "output_type": "execute_result"
    }
   ],
   "source": [
    "df[\"Weapon\"].unique()\n"
   ],
   "metadata": {
    "collapsed": false,
    "pycharm": {
     "name": "#%%\n"
    }
   }
  },
  {
   "cell_type": "code",
   "execution_count": 69,
   "outputs": [],
   "source": [
    "df['Inside/Outside'] = df['Inside/Outside'].str.upper()\n"
   ],
   "metadata": {
    "collapsed": false,
    "pycharm": {
     "name": "#%%\n"
    }
   }
  },
  {
   "cell_type": "code",
   "execution_count": 70,
   "outputs": [],
   "source": [
    "df['Neighborhood'] = df['Neighborhood'].str.upper()\n"
   ],
   "metadata": {
    "collapsed": false,
    "pycharm": {
     "name": "#%%\n"
    }
   }
  },
  {
   "cell_type": "code",
   "execution_count": 71,
   "outputs": [],
   "source": [
    "df['Premise'] = df['Premise'].str.upper()\n"
   ],
   "metadata": {
    "collapsed": false,
    "pycharm": {
     "name": "#%%\n"
    }
   }
  },
  {
   "cell_type": "code",
   "execution_count": 72,
   "outputs": [
    {
     "data": {
      "text/plain": "     CrimeDate           Description Inside/Outside   Weapon   Post  \\\n0   2017-09-02   ROBBERY - RESIDENCE         INSIDE    KNIFE  913.0   \n1   2017-09-02            AUTO THEFT        OUTSIDE     NONE  133.0   \n2   2017-09-02              SHOOTING        OUTSIDE  FIREARM  524.0   \n3   2017-09-02          AGG. ASSAULT         INSIDE    OTHER  934.0   \n4   2017-09-02        COMMON ASSAULT        OUTSIDE    HANDS  113.0   \n5   2017-09-02              BURGLARY         INSIDE     NONE  922.0   \n6   2017-09-02              HOMICIDE        OUTSIDE  FIREARM  232.0   \n7   2017-09-02      ROBBERY - STREET        OUTSIDE     NONE  123.0   \n8   2017-09-02          AGG. ASSAULT        OUTSIDE    OTHER  641.0   \n9   2017-09-02        COMMON ASSAULT         INSIDE    HANDS  332.0   \n10  2017-09-02          AGG. ASSAULT        OUTSIDE    OTHER  641.0   \n11  2017-09-02  ROBBERY - COMMERCIAL         INSIDE  FIREARM  844.0   \n12  2017-09-02          AGG. ASSAULT        OUTSIDE    OTHER  641.0   \n13  2017-09-02     LARCENY FROM AUTO        OUTSIDE     NONE  444.0   \n14  2017-09-02              BURGLARY         INSIDE     NONE  243.0   \n15  2017-09-02              SHOOTING        OUTSIDE  FIREARM  343.0   \n16  2017-09-02              HOMICIDE        OUTSIDE  FIREARM  343.0   \n17  2017-09-02        COMMON ASSAULT        OUTSIDE    HANDS  132.0   \n18  2017-09-02               LARCENY         INSIDE     NONE  212.0   \n19  2017-09-02              BURGLARY         INSIDE     NONE  426.0   \n\n        District              Neighborhood  Longitude  Latitude     Premise  \\\n0       SOUTHERN                  BROOKLYN  -76.60541  39.22951  ROW/TOWNHO   \n1        CENTRAL            RESERVOIR HILL  -76.63217  39.31360      STREET   \n2       NORTHERN            WINSTON-GOVANS  -76.60697  39.34768      STREET   \n3       SOUTHERN          CARROLLTON RIDGE  -76.64526  39.28315  ROW/TOWNHO   \n4        CENTRAL             DOWNTOWN WEST  -76.61365  39.28756      STREET   \n5       SOUTHERN               CHERRY HILL  -76.62131  39.24867  ROW/TOWNHO   \n6   SOUTHEASTERN                    CANTON  -76.56827  39.28202      STREET   \n7        CENTRAL                     UPTON  -76.62789  39.30254      STREET   \n8   NORTHWESTERN             WINDSOR HILLS  -76.68365  39.31370      STREET   \n9        EASTERN                     BEREA  -76.57419  39.30551  ROW/TOWNHO   \n10  NORTHWESTERN             WINDSOR HILLS  -76.68365  39.31370      STREET   \n11  SOUTHWESTERN                  EDGEWOOD  -76.67759  39.29402  RETAIL/SMA   \n12  NORTHWESTERN             WINDSOR HILLS  -76.68169  39.31400      STREET   \n13  NORTHEASTERN                 FRANKFORD  -76.54270  39.33288        YARD   \n14  SOUTHEASTERN  HOLABIRD INDUSTRIAL PARK  -76.53557  39.26533  OTHER - IN   \n15       EASTERN                    OLIVER  -76.60246  39.31038      STREET   \n16       EASTERN                    OLIVER  -76.60246  39.31038      STREET   \n17       CENTRAL              MADISON PARK  -76.62256  39.30083      STREET   \n18  SOUTHEASTERN           WASHINGTON HILL  -76.59390  39.29020  CONVENIENC   \n19  NORTHEASTERN                WALTHERSON  -76.55734  39.33643  ROW/TOWNHO   \n\n    Season  Month  Hour  Year  \n0   summer      9    23  2017  \n1   summer      9    23  2017  \n2   summer      9    22  2017  \n3   summer      9    22  2017  \n4   summer      9    22  2017  \n5   summer      9    22  2017  \n6   summer      9    21  2017  \n7   summer      9    21  2017  \n8   summer      9    21  2017  \n9   summer      9    21  2017  \n10  summer      9    21  2017  \n11  summer      9    20  2017  \n12  summer      9    20  2017  \n13  summer      9    20  2017  \n14  summer      9    19  2017  \n15  summer      9    18  2017  \n16  summer      9    18  2017  \n17  summer      9    18  2017  \n18  summer      9    18  2017  \n19  summer      9    17  2017  ",
      "text/html": "<div>\n<style scoped>\n    .dataframe tbody tr th:only-of-type {\n        vertical-align: middle;\n    }\n\n    .dataframe tbody tr th {\n        vertical-align: top;\n    }\n\n    .dataframe thead th {\n        text-align: right;\n    }\n</style>\n<table border=\"1\" class=\"dataframe\">\n  <thead>\n    <tr style=\"text-align: right;\">\n      <th></th>\n      <th>CrimeDate</th>\n      <th>Description</th>\n      <th>Inside/Outside</th>\n      <th>Weapon</th>\n      <th>Post</th>\n      <th>District</th>\n      <th>Neighborhood</th>\n      <th>Longitude</th>\n      <th>Latitude</th>\n      <th>Premise</th>\n      <th>Season</th>\n      <th>Month</th>\n      <th>Hour</th>\n      <th>Year</th>\n    </tr>\n  </thead>\n  <tbody>\n    <tr>\n      <th>0</th>\n      <td>2017-09-02</td>\n      <td>ROBBERY - RESIDENCE</td>\n      <td>INSIDE</td>\n      <td>KNIFE</td>\n      <td>913.0</td>\n      <td>SOUTHERN</td>\n      <td>BROOKLYN</td>\n      <td>-76.60541</td>\n      <td>39.22951</td>\n      <td>ROW/TOWNHO</td>\n      <td>summer</td>\n      <td>9</td>\n      <td>23</td>\n      <td>2017</td>\n    </tr>\n    <tr>\n      <th>1</th>\n      <td>2017-09-02</td>\n      <td>AUTO THEFT</td>\n      <td>OUTSIDE</td>\n      <td>NONE</td>\n      <td>133.0</td>\n      <td>CENTRAL</td>\n      <td>RESERVOIR HILL</td>\n      <td>-76.63217</td>\n      <td>39.31360</td>\n      <td>STREET</td>\n      <td>summer</td>\n      <td>9</td>\n      <td>23</td>\n      <td>2017</td>\n    </tr>\n    <tr>\n      <th>2</th>\n      <td>2017-09-02</td>\n      <td>SHOOTING</td>\n      <td>OUTSIDE</td>\n      <td>FIREARM</td>\n      <td>524.0</td>\n      <td>NORTHERN</td>\n      <td>WINSTON-GOVANS</td>\n      <td>-76.60697</td>\n      <td>39.34768</td>\n      <td>STREET</td>\n      <td>summer</td>\n      <td>9</td>\n      <td>22</td>\n      <td>2017</td>\n    </tr>\n    <tr>\n      <th>3</th>\n      <td>2017-09-02</td>\n      <td>AGG. ASSAULT</td>\n      <td>INSIDE</td>\n      <td>OTHER</td>\n      <td>934.0</td>\n      <td>SOUTHERN</td>\n      <td>CARROLLTON RIDGE</td>\n      <td>-76.64526</td>\n      <td>39.28315</td>\n      <td>ROW/TOWNHO</td>\n      <td>summer</td>\n      <td>9</td>\n      <td>22</td>\n      <td>2017</td>\n    </tr>\n    <tr>\n      <th>4</th>\n      <td>2017-09-02</td>\n      <td>COMMON ASSAULT</td>\n      <td>OUTSIDE</td>\n      <td>HANDS</td>\n      <td>113.0</td>\n      <td>CENTRAL</td>\n      <td>DOWNTOWN WEST</td>\n      <td>-76.61365</td>\n      <td>39.28756</td>\n      <td>STREET</td>\n      <td>summer</td>\n      <td>9</td>\n      <td>22</td>\n      <td>2017</td>\n    </tr>\n    <tr>\n      <th>5</th>\n      <td>2017-09-02</td>\n      <td>BURGLARY</td>\n      <td>INSIDE</td>\n      <td>NONE</td>\n      <td>922.0</td>\n      <td>SOUTHERN</td>\n      <td>CHERRY HILL</td>\n      <td>-76.62131</td>\n      <td>39.24867</td>\n      <td>ROW/TOWNHO</td>\n      <td>summer</td>\n      <td>9</td>\n      <td>22</td>\n      <td>2017</td>\n    </tr>\n    <tr>\n      <th>6</th>\n      <td>2017-09-02</td>\n      <td>HOMICIDE</td>\n      <td>OUTSIDE</td>\n      <td>FIREARM</td>\n      <td>232.0</td>\n      <td>SOUTHEASTERN</td>\n      <td>CANTON</td>\n      <td>-76.56827</td>\n      <td>39.28202</td>\n      <td>STREET</td>\n      <td>summer</td>\n      <td>9</td>\n      <td>21</td>\n      <td>2017</td>\n    </tr>\n    <tr>\n      <th>7</th>\n      <td>2017-09-02</td>\n      <td>ROBBERY - STREET</td>\n      <td>OUTSIDE</td>\n      <td>NONE</td>\n      <td>123.0</td>\n      <td>CENTRAL</td>\n      <td>UPTON</td>\n      <td>-76.62789</td>\n      <td>39.30254</td>\n      <td>STREET</td>\n      <td>summer</td>\n      <td>9</td>\n      <td>21</td>\n      <td>2017</td>\n    </tr>\n    <tr>\n      <th>8</th>\n      <td>2017-09-02</td>\n      <td>AGG. ASSAULT</td>\n      <td>OUTSIDE</td>\n      <td>OTHER</td>\n      <td>641.0</td>\n      <td>NORTHWESTERN</td>\n      <td>WINDSOR HILLS</td>\n      <td>-76.68365</td>\n      <td>39.31370</td>\n      <td>STREET</td>\n      <td>summer</td>\n      <td>9</td>\n      <td>21</td>\n      <td>2017</td>\n    </tr>\n    <tr>\n      <th>9</th>\n      <td>2017-09-02</td>\n      <td>COMMON ASSAULT</td>\n      <td>INSIDE</td>\n      <td>HANDS</td>\n      <td>332.0</td>\n      <td>EASTERN</td>\n      <td>BEREA</td>\n      <td>-76.57419</td>\n      <td>39.30551</td>\n      <td>ROW/TOWNHO</td>\n      <td>summer</td>\n      <td>9</td>\n      <td>21</td>\n      <td>2017</td>\n    </tr>\n    <tr>\n      <th>10</th>\n      <td>2017-09-02</td>\n      <td>AGG. ASSAULT</td>\n      <td>OUTSIDE</td>\n      <td>OTHER</td>\n      <td>641.0</td>\n      <td>NORTHWESTERN</td>\n      <td>WINDSOR HILLS</td>\n      <td>-76.68365</td>\n      <td>39.31370</td>\n      <td>STREET</td>\n      <td>summer</td>\n      <td>9</td>\n      <td>21</td>\n      <td>2017</td>\n    </tr>\n    <tr>\n      <th>11</th>\n      <td>2017-09-02</td>\n      <td>ROBBERY - COMMERCIAL</td>\n      <td>INSIDE</td>\n      <td>FIREARM</td>\n      <td>844.0</td>\n      <td>SOUTHWESTERN</td>\n      <td>EDGEWOOD</td>\n      <td>-76.67759</td>\n      <td>39.29402</td>\n      <td>RETAIL/SMA</td>\n      <td>summer</td>\n      <td>9</td>\n      <td>20</td>\n      <td>2017</td>\n    </tr>\n    <tr>\n      <th>12</th>\n      <td>2017-09-02</td>\n      <td>AGG. ASSAULT</td>\n      <td>OUTSIDE</td>\n      <td>OTHER</td>\n      <td>641.0</td>\n      <td>NORTHWESTERN</td>\n      <td>WINDSOR HILLS</td>\n      <td>-76.68169</td>\n      <td>39.31400</td>\n      <td>STREET</td>\n      <td>summer</td>\n      <td>9</td>\n      <td>20</td>\n      <td>2017</td>\n    </tr>\n    <tr>\n      <th>13</th>\n      <td>2017-09-02</td>\n      <td>LARCENY FROM AUTO</td>\n      <td>OUTSIDE</td>\n      <td>NONE</td>\n      <td>444.0</td>\n      <td>NORTHEASTERN</td>\n      <td>FRANKFORD</td>\n      <td>-76.54270</td>\n      <td>39.33288</td>\n      <td>YARD</td>\n      <td>summer</td>\n      <td>9</td>\n      <td>20</td>\n      <td>2017</td>\n    </tr>\n    <tr>\n      <th>14</th>\n      <td>2017-09-02</td>\n      <td>BURGLARY</td>\n      <td>INSIDE</td>\n      <td>NONE</td>\n      <td>243.0</td>\n      <td>SOUTHEASTERN</td>\n      <td>HOLABIRD INDUSTRIAL PARK</td>\n      <td>-76.53557</td>\n      <td>39.26533</td>\n      <td>OTHER - IN</td>\n      <td>summer</td>\n      <td>9</td>\n      <td>19</td>\n      <td>2017</td>\n    </tr>\n    <tr>\n      <th>15</th>\n      <td>2017-09-02</td>\n      <td>SHOOTING</td>\n      <td>OUTSIDE</td>\n      <td>FIREARM</td>\n      <td>343.0</td>\n      <td>EASTERN</td>\n      <td>OLIVER</td>\n      <td>-76.60246</td>\n      <td>39.31038</td>\n      <td>STREET</td>\n      <td>summer</td>\n      <td>9</td>\n      <td>18</td>\n      <td>2017</td>\n    </tr>\n    <tr>\n      <th>16</th>\n      <td>2017-09-02</td>\n      <td>HOMICIDE</td>\n      <td>OUTSIDE</td>\n      <td>FIREARM</td>\n      <td>343.0</td>\n      <td>EASTERN</td>\n      <td>OLIVER</td>\n      <td>-76.60246</td>\n      <td>39.31038</td>\n      <td>STREET</td>\n      <td>summer</td>\n      <td>9</td>\n      <td>18</td>\n      <td>2017</td>\n    </tr>\n    <tr>\n      <th>17</th>\n      <td>2017-09-02</td>\n      <td>COMMON ASSAULT</td>\n      <td>OUTSIDE</td>\n      <td>HANDS</td>\n      <td>132.0</td>\n      <td>CENTRAL</td>\n      <td>MADISON PARK</td>\n      <td>-76.62256</td>\n      <td>39.30083</td>\n      <td>STREET</td>\n      <td>summer</td>\n      <td>9</td>\n      <td>18</td>\n      <td>2017</td>\n    </tr>\n    <tr>\n      <th>18</th>\n      <td>2017-09-02</td>\n      <td>LARCENY</td>\n      <td>INSIDE</td>\n      <td>NONE</td>\n      <td>212.0</td>\n      <td>SOUTHEASTERN</td>\n      <td>WASHINGTON HILL</td>\n      <td>-76.59390</td>\n      <td>39.29020</td>\n      <td>CONVENIENC</td>\n      <td>summer</td>\n      <td>9</td>\n      <td>18</td>\n      <td>2017</td>\n    </tr>\n    <tr>\n      <th>19</th>\n      <td>2017-09-02</td>\n      <td>BURGLARY</td>\n      <td>INSIDE</td>\n      <td>NONE</td>\n      <td>426.0</td>\n      <td>NORTHEASTERN</td>\n      <td>WALTHERSON</td>\n      <td>-76.55734</td>\n      <td>39.33643</td>\n      <td>ROW/TOWNHO</td>\n      <td>summer</td>\n      <td>9</td>\n      <td>17</td>\n      <td>2017</td>\n    </tr>\n  </tbody>\n</table>\n</div>"
     },
     "execution_count": 72,
     "metadata": {},
     "output_type": "execute_result"
    }
   ],
   "source": [
    "df.head(20)\n"
   ],
   "metadata": {
    "collapsed": false,
    "pycharm": {
     "name": "#%%\n"
    }
   }
  },
  {
   "cell_type": "markdown",
   "source": [
    "Better. Let's check premises again.\n"
   ],
   "metadata": {
    "collapsed": false,
    "pycharm": {
     "name": "#%% md\n"
    }
   }
  },
  {
   "cell_type": "code",
   "execution_count": 73,
   "outputs": [
    {
     "data": {
      "text/plain": "array(['ALLEY', 'APARTMENT', 'ARENA', 'ATM MACHIN', 'AUTO PARTS',\n       'BAKERY', 'BANK/FINAN', 'BAR', 'BARBER/BEA', 'BLDG UNDER',\n       'BOAT YARD', 'BOAT/SHIP', 'BOX CARS/C', 'BRIDGE-PIE', 'BUS.  STOR',\n       'BUS. PARK', 'BUS/AUTO', 'BUS/RAILRO', 'CAB', 'CAR  REPAI',\n       'CAR LOT-NE', 'CARRY OUT', 'CEMETERY', 'CHAIN FOOD', 'CHURCH',\n       'CLOTHING/S', 'CLUB HOUSE', 'COMMON BUS', 'CONSTRUCTI',\n       'CONVENIENC', 'CONVENTION', 'COURT HOUS', 'DAY CARE F',\n       'DEPARTMENT', 'DOCTORS OF', 'DRIVEWAY', 'DRUG STORE', 'DWELLING',\n       'FAST FOOD', 'FINANCE/LO', 'FIRE DEPAR', 'GAS STATIO',\n       'GROCERY/CO', 'HARDWARE/B', 'HOSPITAL', 'HOTEL/MOTE', 'HOUSE UNDE',\n       'INNER HARB', 'JEWELRY ST', 'LAUNDRY/CL', 'LIBRARY', 'LIGHT RAIL',\n       'LIQUOR STO', 'MAILBOX-ST', 'MANUFACTUR', 'MARKET STA',\n       'MINI STORA', 'MOBILE HOM', 'MTA LOT', 'NIGHT DEPO', 'OFFICE BUI',\n       'OTHER - IN', 'OTHER - OU', 'OTHER/RESI', 'PARK', 'PARKING LO',\n       'PAWN SHOP', 'PENITENTIA', 'PHOTO STUD', 'PIZZA/OTHE',\n       'PLAYGROUND', 'POLICE DEP', 'POOL/BOWLI', 'PORCH/DECK',\n       'PUBLIC ARE', 'PUBLIC BUI', 'PUBLIC HOU', 'RACE TRACK',\n       'RAILROAD C', 'RECREATION', 'RELIGIOUS', 'RENTAL/VID',\n       'RESTAURANT', 'RETAIL/SMA', 'ROW/TOWNHO', 'SALESMAN/C', 'SCHOOL',\n       'SCHOOL PLA', 'SHED/GARAGE', 'SHOPPING M', 'SINGLE HOU', 'SKYWALK',\n       'SPECIALTY', 'STADIUM', 'STREET', 'STRUCTURE-', 'SUBWAY',\n       'TAVERN/NIG', 'THEATRE', 'TRACTOR TR', 'TRUCKING &', 'UNKNOWN',\n       'UTILITIES-', 'VACANT BUI', 'VACANT DWE', 'VACANT LOT',\n       'WAREHOUSE', 'WHOLESALE/', 'YARD', 'YARD/BUSIN'], dtype=object)"
     },
     "execution_count": 73,
     "metadata": {},
     "output_type": "execute_result"
    }
   ],
   "source": [
    "temp = df[\"Premise\"].unique()\n",
    "np.sort(temp)\n"
   ],
   "metadata": {
    "collapsed": false,
    "pycharm": {
     "name": "#%%\n"
    }
   }
  },
  {
   "cell_type": "code",
   "source": [
    "df[\"Premise\"][df[\"Premise\"]==\"TAVERN/NIG\"].count()"
   ],
   "metadata": {
    "collapsed": false,
    "pycharm": {
     "name": "#%%\n"
    }
   },
   "execution_count": 74,
   "outputs": [
    {
     "data": {
      "text/plain": "211"
     },
     "execution_count": 74,
     "metadata": {},
     "output_type": "execute_result"
    }
   ]
  },
  {
   "cell_type": "code",
   "execution_count": 75,
   "outputs": [
    {
     "data": {
      "text/plain": "1366"
     },
     "execution_count": 75,
     "metadata": {},
     "output_type": "execute_result"
    }
   ],
   "source": [
    "df[\"Premise\"][df[\"Premise\"]==\"BAR\"].count()\n"
   ],
   "metadata": {
    "collapsed": false,
    "pycharm": {
     "name": "#%%\n"
    }
   }
  },
  {
   "cell_type": "markdown",
   "source": [
    "TAVERN/NIG as BAR\n"
   ],
   "metadata": {
    "collapsed": false,
    "pycharm": {
     "name": "#%% md\n"
    }
   }
  },
  {
   "cell_type": "code",
   "execution_count": 76,
   "outputs": [],
   "source": [
    "df['Premise'] = df['Premise'].replace('TAVERN/NIG', 'BAR')\n",
    "\n"
   ],
   "metadata": {
    "collapsed": false,
    "pycharm": {
     "name": "#%%\n"
    }
   }
  },
  {
   "cell_type": "code",
   "execution_count": 77,
   "outputs": [
    {
     "data": {
      "text/plain": "7"
     },
     "execution_count": 77,
     "metadata": {},
     "output_type": "execute_result"
    }
   ],
   "source": [
    "df[\"Premise\"][df[\"Premise\"]==\"RAILROAD C\"].count()\n"
   ],
   "metadata": {
    "collapsed": false,
    "pycharm": {
     "name": "#%%\n"
    }
   }
  },
  {
   "cell_type": "code",
   "execution_count": 78,
   "outputs": [
    {
     "data": {
      "text/plain": "287"
     },
     "execution_count": 78,
     "metadata": {},
     "output_type": "execute_result"
    }
   ],
   "source": [
    "df[\"Premise\"][df[\"Premise\"]==\"BUS/RAILRO\"].count()"
   ],
   "metadata": {
    "collapsed": false,
    "pycharm": {
     "name": "#%%\n"
    }
   }
  },
  {
   "cell_type": "markdown",
   "source": [
    "RAILROAD C to BUS/RAILRO\n"
   ],
   "metadata": {
    "collapsed": false,
    "pycharm": {
     "name": "#%% md\n"
    }
   }
  },
  {
   "cell_type": "code",
   "execution_count": 79,
   "outputs": [],
   "source": [
    "df['Premise'] = df['Premise'].replace('RAILROAD C', 'BUS/RAILRO')"
   ],
   "metadata": {
    "collapsed": false,
    "pycharm": {
     "name": "#%%\n"
    }
   }
  },
  {
   "cell_type": "code",
   "execution_count": 80,
   "outputs": [],
   "source": [
    "df['Premise'] = df['Premise'].replace('COMMON BUS', 'BUS/AUTO')\n"
   ],
   "metadata": {
    "collapsed": false,
    "pycharm": {
     "name": "#%%\n"
    }
   }
  },
  {
   "cell_type": "code",
   "execution_count": 81,
   "outputs": [
    {
     "data": {
      "text/plain": "1"
     },
     "execution_count": 81,
     "metadata": {},
     "output_type": "execute_result"
    }
   ],
   "source": [
    "df[\"Premise\"][df[\"Premise\"]==\"CHURCH\"].count()"
   ],
   "metadata": {
    "collapsed": false,
    "pycharm": {
     "name": "#%%\n"
    }
   }
  },
  {
   "cell_type": "markdown",
   "source": [
    "CHURCH into RELIGIOUS"
   ],
   "metadata": {
    "collapsed": false,
    "pycharm": {
     "name": "#%% md\n"
    }
   }
  },
  {
   "cell_type": "code",
   "execution_count": 82,
   "outputs": [],
   "source": [
    "df['Premise'] = df['Premise'].replace('CHURCH', 'RELIGIOUS')\n"
   ],
   "metadata": {
    "collapsed": false,
    "pycharm": {
     "name": "#%%\n"
    }
   }
  },
  {
   "cell_type": "code",
   "execution_count": 83,
   "outputs": [
    {
     "data": {
      "text/plain": "12"
     },
     "execution_count": 83,
     "metadata": {},
     "output_type": "execute_result"
    }
   ],
   "source": [
    "df[\"Premise\"][df[\"Premise\"]==\"ARENA\"].count()"
   ],
   "metadata": {
    "collapsed": false,
    "pycharm": {
     "name": "#%%\n"
    }
   }
  },
  {
   "cell_type": "markdown",
   "source": [
    "ARENA into STADIUM\n"
   ],
   "metadata": {
    "collapsed": false,
    "pycharm": {
     "name": "#%% md\n"
    }
   }
  },
  {
   "cell_type": "code",
   "execution_count": 84,
   "outputs": [],
   "source": [
    "df['Premise'] = df['Premise'].replace('ARENA', 'STADIUM')\n"
   ],
   "metadata": {
    "collapsed": false,
    "pycharm": {
     "name": "#%%\n"
    }
   }
  },
  {
   "cell_type": "markdown",
   "source": [
    "YARD/BUSIN into YARD"
   ],
   "metadata": {
    "collapsed": false,
    "pycharm": {
     "name": "#%% md\n"
    }
   }
  },
  {
   "cell_type": "code",
   "execution_count": 85,
   "outputs": [],
   "source": [
    "df['Premise'] = df['Premise'].replace('YARD/BUSIN', 'YARD')\n"
   ],
   "metadata": {
    "collapsed": false,
    "pycharm": {
     "name": "#%%\n"
    }
   }
  },
  {
   "cell_type": "code",
   "execution_count": 86,
   "outputs": [
    {
     "data": {
      "text/plain": "array(['ROW/TOWNHO', 'STREET', 'RETAIL/SMA', 'YARD', 'OTHER - IN',\n       'CONVENIENC', 'OFFICE BUI', 'APARTMENT', 'PARKING LO',\n       'LAUNDRY/CL', 'CARRY OUT', 'HOSPITAL', 'RESTAURANT', 'BAR',\n       'SHED/GARAGE', 'ALLEY', 'DRIVEWAY', 'PORCH/DECK', 'TRACTOR TR',\n       'GAS STATIO', 'PLAYGROUND', 'BUS/AUTO', 'DRUG STORE', 'PARK',\n       'GROCERY/CO', 'CAR LOT-NE', 'SHOPPING M', 'LIQUOR STO',\n       'CHAIN FOOD', 'OTHER - OU', 'POLICE DEP', 'CLOTHING/S',\n       'SPECIALTY', 'POOL/BOWLI', 'INNER HARB', 'VACANT BUI', 'SCHOOL',\n       'OTHER/RESI', 'HOTEL/MOTE', 'DEPARTMENT', 'WAREHOUSE',\n       'BUS.  STOR', 'RELIGIOUS', 'DWELLING', 'BARBER/BEA', 'SINGLE HOU',\n       'PUBLIC BUI', 'MINI STORA', 'FAST FOOD', 'DOCTORS OF', 'STADIUM',\n       'HOUSE UNDE', 'UNKNOWN', 'BUS/RAILRO', 'LIBRARY', 'CAR  REPAI',\n       'AUTO PARTS', 'CONSTRUCTI', 'WHOLESALE/', 'FIRE DEPAR',\n       'PUBLIC HOU', 'RACE TRACK', 'RECREATION', 'BUS. PARK',\n       'BANK/FINAN', 'MARKET STA', 'CEMETERY', 'BLDG UNDER', 'FINANCE/LO',\n       'COURT HOUS', 'BAKERY', 'BOX CARS/C', 'PUBLIC ARE', 'PAWN SHOP',\n       'BOAT/SHIP', 'VACANT LOT', 'CLUB HOUSE', 'HARDWARE/B',\n       'CONVENTION', 'MAILBOX-ST', 'SCHOOL PLA', 'SUBWAY', 'CAB',\n       'DAY CARE F', 'PENITENTIA', 'JEWELRY ST', 'MANUFACTUR',\n       'PIZZA/OTHE', 'THEATRE', 'ATM MACHIN', 'BRIDGE-PIE', 'VACANT DWE',\n       'BOAT YARD', 'NIGHT DEPO', 'STRUCTURE-', 'SALESMAN/C',\n       'RENTAL/VID', 'LIGHT RAIL', 'PHOTO STUD', 'UTILITIES-', 'MTA LOT',\n       'SKYWALK', 'TRUCKING &', 'MOBILE HOM'], dtype=object)"
     },
     "execution_count": 86,
     "metadata": {},
     "output_type": "execute_result"
    }
   ],
   "source": [
    "df['Premise'].unique()\n"
   ],
   "metadata": {
    "collapsed": false,
    "pycharm": {
     "name": "#%%\n"
    }
   }
  },
  {
   "cell_type": "code",
   "execution_count": 87,
   "outputs": [
    {
     "data": {
      "text/plain": "44"
     },
     "execution_count": 87,
     "metadata": {},
     "output_type": "execute_result"
    }
   ],
   "source": [
    "df[\"Premise\"][df[\"Premise\"]==\"PIZZA/OTHE\"].count()"
   ],
   "metadata": {
    "collapsed": false,
    "pycharm": {
     "name": "#%%\n"
    }
   }
  },
  {
   "cell_type": "markdown",
   "source": [
    "Think this qualifies as a restaurant.\n"
   ],
   "metadata": {
    "collapsed": false,
    "pycharm": {
     "name": "#%% md\n"
    }
   }
  },
  {
   "cell_type": "code",
   "execution_count": 88,
   "outputs": [],
   "source": [
    "df['Premise'] = df['Premise'].replace('PIZZA/OTHE', 'RESTAURANT')\n"
   ],
   "metadata": {
    "collapsed": false,
    "pycharm": {
     "name": "#%%\n"
    }
   }
  },
  {
   "cell_type": "markdown",
   "source": [
    "Let's document all these changes in a separate .py file so we can reproduce this on the test data.\n"
   ],
   "metadata": {
    "collapsed": false,
    "pycharm": {
     "name": "#%% md\n"
    }
   }
  },
  {
   "cell_type": "markdown",
   "source": [
    "A similar process will need to be done on the test data.\n"
   ],
   "metadata": {
    "collapsed": false,
    "pycharm": {
     "name": "#%% md\n"
    }
   }
  },
  {
   "cell_type": "code",
   "execution_count": 89,
   "outputs": [],
   "source": [
    "df['Description'] = df['Description'].replace('RAPE', 'SEXUAL ASSAULT')"
   ],
   "metadata": {
    "collapsed": false,
    "pycharm": {
     "name": "#%%\n"
    }
   }
  },
  {
   "cell_type": "code",
   "execution_count": 90,
   "outputs": [
    {
     "data": {
      "text/plain": "STREET         102546\nROW/TOWNHO      60113\nAPARTMENT       12064\nPARKING LO      11945\nOTHER - IN      11358\nSCHOOL           7600\nCONVENIENC       4287\nRETAIL/SMA       3700\nYARD             3700\nOTHER - OU       3364\nOTHER/RESI       2991\nALLEY            2847\nGROCERY/CO       2837\nSHED/GARAGE      2658\nHOSPITAL         1981\nGAS STATIO       1665\nSINGLE HOU       1611\nBAR              1577\nDRUG STORE       1560\nRESTAURANT       1548\nDRIVEWAY         1532\nSPECIALTY        1333\nUNKNOWN          1271\nOFFICE BUI       1057\nHOTEL/MOTE       1025\nPORCH/DECK        975\nBUS/AUTO          903\nDEPARTMENT        875\nPARK              861\nVACANT BUI        764\nRELIGIOUS         626\nLIQUOR STO        573\nSHOPPING M        547\nPUBLIC HOU        502\nCARRY OUT         487\nDWELLING          405\nCLOTHING/S        359\nCONSTRUCTI        352\nBUS. PARK         342\nBARBER/BEA        342\nFAST FOOD         318\nSTADIUM           297\nBUS/RAILRO        294\nCAR LOT-NE        287\nCAR  REPAI        278\nPUBLIC BUI        277\nLIGHT RAIL        275\nMARKET STA        243\nRECREATION        237\nAUTO PARTS        215\nBANK/FINAN        212\nWHOLESALE/        212\nWAREHOUSE         208\nLAUNDRY/CL        187\nSUBWAY            183\nPOLICE DEP        181\nPLAYGROUND        174\nRACE TRACK        155\nHARDWARE/B        153\nPUBLIC ARE        145\nCOURT HOUS        135\nDOCTORS OF        103\nINNER HARB        102\nLIBRARY           102\nCONVENTION         96\nMINI STORA         88\nCHAIN FOOD         75\nCLUB HOUSE         67\nBUS.  STOR         52\nATM MACHIN         48\nHOUSE UNDE         43\nFIRE DEPAR         43\nVACANT LOT         41\nBAKERY             41\nSALESMAN/C         39\nPAWN SHOP          38\nCEMETERY           30\nSCHOOL PLA         29\nNIGHT DEPO         28\nTHEATRE            28\nJEWELRY ST         28\nPOOL/BOWLI         27\nCAB                26\nBRIDGE-PIE         25\nMTA LOT            25\nBOAT/SHIP          22\nVACANT DWE         17\nPENITENTIA         15\nUTILITIES-         12\nBOAT YARD          11\nMAILBOX-ST          9\nRENTAL/VID          9\nBLDG UNDER          9\nTRACTOR TR          9\nFINANCE/LO          8\nSTRUCTURE-          8\nSKYWALK             6\nTRUCKING &          5\nPHOTO STUD          3\nBOX CARS/C          2\nMANUFACTUR          1\nMOBILE HOM          1\nDAY CARE F          1\nName: Premise, dtype: int64"
     },
     "execution_count": 90,
     "metadata": {},
     "output_type": "execute_result"
    }
   ],
   "source": [
    "df['Premise'].value_counts()\n"
   ],
   "metadata": {
    "collapsed": false,
    "pycharm": {
     "name": "#%%\n"
    }
   }
  },
  {
   "cell_type": "markdown",
   "source": [
    "Let's combine some of the ones with 9 or fewer counts.\n"
   ],
   "metadata": {
    "collapsed": false,
    "pycharm": {
     "name": "#%% md\n"
    }
   }
  },
  {
   "cell_type": "markdown",
   "source": [
    "DAY CARE F to SCHOOL PLA\n",
    "\n",
    "MANUFACTUR to WAREHOUSE\n",
    "\n",
    "MOBILE HOM to DWELLING\n",
    "\n",
    "BOX CARS/C to BUS/RAILRO\n",
    "\n",
    "PHOTO STUD to RETAIL/SMA\n",
    "\n",
    "TRUCKING & to TRACTOR TR\n",
    "\n",
    "SKYWALK to PUBLIC ARE\n",
    "\n",
    "FINANCE/LO to BANK/FINAN\n",
    "\n",
    "STRUCTURE- to UNKNOWN\n",
    "\n",
    "BLDG UNDER to CONSTRUCTI\n",
    "\n",
    "HOUSE UNDE to CONSTRUCTI\n",
    "\n",
    "MAILBOX-ST to STREET\n",
    "\n",
    "RENTAL/VID to RETAIL/SMA\n"
   ],
   "metadata": {
    "collapsed": false,
    "pycharm": {
     "name": "#%% md\n"
    }
   }
  },
  {
   "cell_type": "code",
   "execution_count": 91,
   "outputs": [],
   "source": [
    "df['Premise'] = df['Premise'].replace('DAY CARE F', 'SCHOOL PLA')\n",
    "df['Premise'] = df['Premise'].replace('MANUFACTUR', 'WAREHOUSE')\n",
    "df['Premise'] = df['Premise'].replace('MOBILE HOM', 'DWELLING')\n",
    "df['Premise'] = df['Premise'].replace('BOX CARS/C', 'BUS/RAILRO')\n",
    "df['Premise'] = df['Premise'].replace('PHOTO STUD', 'RETAIL/SMA')\n",
    "df['Premise'] = df['Premise'].replace('TRUCKING &', 'TRACTOR TR')\n",
    "df['Premise'] = df['Premise'].replace('SKYWALK', 'PUBLIC ARE')\n",
    "df['Premise'] = df['Premise'].replace('FINANCE/LO', 'BANK/FINAN')\n",
    "df['Premise'] = df['Premise'].replace('STRUCTURE-', 'UNKNOWN')\n",
    "df['Premise'] = df['Premise'].replace('BLDG UNDER', 'CONSTRUCTI')\n",
    "df['Premise'] = df['Premise'].replace('HOUSE UNDE', 'CONSTRUCTI')\n",
    "df['Premise'] = df['Premise'].replace('MAILBOX-ST', 'STREET')\n",
    "df['Premise'] = df['Premise'].replace('RENTAL/VID', 'RETAIL/SMA')\n"
   ],
   "metadata": {
    "collapsed": false,
    "pycharm": {
     "name": "#%%\n"
    }
   }
  },
  {
   "cell_type": "code",
   "execution_count": 92,
   "outputs": [
    {
     "data": {
      "text/plain": "STREET         102555\nROW/TOWNHO      60113\nAPARTMENT       12064\nPARKING LO      11945\nOTHER - IN      11358\nSCHOOL           7600\nCONVENIENC       4287\nRETAIL/SMA       3712\nYARD             3700\nOTHER - OU       3364\nOTHER/RESI       2991\nALLEY            2847\nGROCERY/CO       2837\nSHED/GARAGE      2658\nHOSPITAL         1981\nGAS STATIO       1665\nSINGLE HOU       1611\nBAR              1577\nDRUG STORE       1560\nRESTAURANT       1548\nDRIVEWAY         1532\nSPECIALTY        1333\nUNKNOWN          1279\nOFFICE BUI       1057\nHOTEL/MOTE       1025\nPORCH/DECK        975\nBUS/AUTO          903\nDEPARTMENT        875\nPARK              861\nVACANT BUI        764\nRELIGIOUS         626\nLIQUOR STO        573\nSHOPPING M        547\nPUBLIC HOU        502\nCARRY OUT         487\nDWELLING          406\nCONSTRUCTI        404\nCLOTHING/S        359\nBARBER/BEA        342\nBUS. PARK         342\nFAST FOOD         318\nSTADIUM           297\nBUS/RAILRO        296\nCAR LOT-NE        287\nCAR  REPAI        278\nPUBLIC BUI        277\nLIGHT RAIL        275\nMARKET STA        243\nRECREATION        237\nBANK/FINAN        220\nAUTO PARTS        215\nWHOLESALE/        212\nWAREHOUSE         209\nLAUNDRY/CL        187\nSUBWAY            183\nPOLICE DEP        181\nPLAYGROUND        174\nRACE TRACK        155\nHARDWARE/B        153\nPUBLIC ARE        151\nCOURT HOUS        135\nDOCTORS OF        103\nLIBRARY           102\nINNER HARB        102\nCONVENTION         96\nMINI STORA         88\nCHAIN FOOD         75\nCLUB HOUSE         67\nBUS.  STOR         52\nATM MACHIN         48\nFIRE DEPAR         43\nVACANT LOT         41\nBAKERY             41\nSALESMAN/C         39\nPAWN SHOP          38\nCEMETERY           30\nSCHOOL PLA         30\nTHEATRE            28\nNIGHT DEPO         28\nJEWELRY ST         28\nPOOL/BOWLI         27\nCAB                26\nMTA LOT            25\nBRIDGE-PIE         25\nBOAT/SHIP          22\nVACANT DWE         17\nPENITENTIA         15\nTRACTOR TR         14\nUTILITIES-         12\nBOAT YARD          11\nName: Premise, dtype: int64"
     },
     "execution_count": 92,
     "metadata": {},
     "output_type": "execute_result"
    }
   ],
   "source": [
    "df['Premise'].value_counts()\n"
   ],
   "metadata": {
    "collapsed": false,
    "pycharm": {
     "name": "#%%\n"
    }
   }
  },
  {
   "cell_type": "markdown",
   "source": [
    "That should work much better.\n"
   ],
   "metadata": {
    "collapsed": false,
    "pycharm": {
     "name": "#%% md\n"
    }
   }
  },
  {
   "cell_type": "code",
   "execution_count": 93,
   "outputs": [
    {
     "data": {
      "text/plain": "    CrimeDate          Description Inside/Outside   Weapon   Post  District  \\\n0  2017-09-02  ROBBERY - RESIDENCE         INSIDE    KNIFE  913.0  SOUTHERN   \n1  2017-09-02           AUTO THEFT        OUTSIDE     NONE  133.0   CENTRAL   \n2  2017-09-02             SHOOTING        OUTSIDE  FIREARM  524.0  NORTHERN   \n3  2017-09-02         AGG. ASSAULT         INSIDE    OTHER  934.0  SOUTHERN   \n4  2017-09-02       COMMON ASSAULT        OUTSIDE    HANDS  113.0   CENTRAL   \n\n       Neighborhood  Longitude  Latitude     Premise  Season  Month  Hour  \\\n0          BROOKLYN  -76.60541  39.22951  ROW/TOWNHO  summer      9    23   \n1    RESERVOIR HILL  -76.63217  39.31360      STREET  summer      9    23   \n2    WINSTON-GOVANS  -76.60697  39.34768      STREET  summer      9    22   \n3  CARROLLTON RIDGE  -76.64526  39.28315  ROW/TOWNHO  summer      9    22   \n4     DOWNTOWN WEST  -76.61365  39.28756      STREET  summer      9    22   \n\n   Year  \n0  2017  \n1  2017  \n2  2017  \n3  2017  \n4  2017  ",
      "text/html": "<div>\n<style scoped>\n    .dataframe tbody tr th:only-of-type {\n        vertical-align: middle;\n    }\n\n    .dataframe tbody tr th {\n        vertical-align: top;\n    }\n\n    .dataframe thead th {\n        text-align: right;\n    }\n</style>\n<table border=\"1\" class=\"dataframe\">\n  <thead>\n    <tr style=\"text-align: right;\">\n      <th></th>\n      <th>CrimeDate</th>\n      <th>Description</th>\n      <th>Inside/Outside</th>\n      <th>Weapon</th>\n      <th>Post</th>\n      <th>District</th>\n      <th>Neighborhood</th>\n      <th>Longitude</th>\n      <th>Latitude</th>\n      <th>Premise</th>\n      <th>Season</th>\n      <th>Month</th>\n      <th>Hour</th>\n      <th>Year</th>\n    </tr>\n  </thead>\n  <tbody>\n    <tr>\n      <th>0</th>\n      <td>2017-09-02</td>\n      <td>ROBBERY - RESIDENCE</td>\n      <td>INSIDE</td>\n      <td>KNIFE</td>\n      <td>913.0</td>\n      <td>SOUTHERN</td>\n      <td>BROOKLYN</td>\n      <td>-76.60541</td>\n      <td>39.22951</td>\n      <td>ROW/TOWNHO</td>\n      <td>summer</td>\n      <td>9</td>\n      <td>23</td>\n      <td>2017</td>\n    </tr>\n    <tr>\n      <th>1</th>\n      <td>2017-09-02</td>\n      <td>AUTO THEFT</td>\n      <td>OUTSIDE</td>\n      <td>NONE</td>\n      <td>133.0</td>\n      <td>CENTRAL</td>\n      <td>RESERVOIR HILL</td>\n      <td>-76.63217</td>\n      <td>39.31360</td>\n      <td>STREET</td>\n      <td>summer</td>\n      <td>9</td>\n      <td>23</td>\n      <td>2017</td>\n    </tr>\n    <tr>\n      <th>2</th>\n      <td>2017-09-02</td>\n      <td>SHOOTING</td>\n      <td>OUTSIDE</td>\n      <td>FIREARM</td>\n      <td>524.0</td>\n      <td>NORTHERN</td>\n      <td>WINSTON-GOVANS</td>\n      <td>-76.60697</td>\n      <td>39.34768</td>\n      <td>STREET</td>\n      <td>summer</td>\n      <td>9</td>\n      <td>22</td>\n      <td>2017</td>\n    </tr>\n    <tr>\n      <th>3</th>\n      <td>2017-09-02</td>\n      <td>AGG. ASSAULT</td>\n      <td>INSIDE</td>\n      <td>OTHER</td>\n      <td>934.0</td>\n      <td>SOUTHERN</td>\n      <td>CARROLLTON RIDGE</td>\n      <td>-76.64526</td>\n      <td>39.28315</td>\n      <td>ROW/TOWNHO</td>\n      <td>summer</td>\n      <td>9</td>\n      <td>22</td>\n      <td>2017</td>\n    </tr>\n    <tr>\n      <th>4</th>\n      <td>2017-09-02</td>\n      <td>COMMON ASSAULT</td>\n      <td>OUTSIDE</td>\n      <td>HANDS</td>\n      <td>113.0</td>\n      <td>CENTRAL</td>\n      <td>DOWNTOWN WEST</td>\n      <td>-76.61365</td>\n      <td>39.28756</td>\n      <td>STREET</td>\n      <td>summer</td>\n      <td>9</td>\n      <td>22</td>\n      <td>2017</td>\n    </tr>\n  </tbody>\n</table>\n</div>"
     },
     "execution_count": 93,
     "metadata": {},
     "output_type": "execute_result"
    }
   ],
   "source": [
    "df.head()\n"
   ],
   "metadata": {
    "collapsed": false,
    "pycharm": {
     "name": "#%%\n"
    }
   }
  },
  {
   "cell_type": "markdown",
   "source": [
    "Let's save this for merging with the demographics data.\n"
   ],
   "metadata": {
    "collapsed": false,
    "pycharm": {
     "name": "#%% md\n"
    }
   }
  },
  {
   "cell_type": "code",
   "execution_count": 46,
   "outputs": [],
   "source": [
    "df.to_csv(\"../data/V2_BPD_CRIME_DATA_CLEAN.csv\")\n"
   ],
   "metadata": {
    "collapsed": false,
    "pycharm": {
     "name": "#%%\n"
    }
   }
  },
  {
   "cell_type": "markdown",
   "source": [
    "And now let's redo the encoding.\n"
   ],
   "metadata": {
    "collapsed": false,
    "pycharm": {
     "name": "#%% md\n"
    }
   }
  },
  {
   "cell_type": "code",
   "execution_count": 94,
   "outputs": [],
   "source": [
    "from sklearn.preprocessing import LabelEncoder\n",
    "lbl = LabelEncoder()"
   ],
   "metadata": {
    "collapsed": false,
    "pycharm": {
     "name": "#%%\n"
    }
   }
  },
  {
   "cell_type": "code",
   "execution_count": 95,
   "outputs": [
    {
     "data": {
      "text/plain": "{'AGG. ASSAULT': 0,\n 'ARSON': 1,\n 'ASSAULT BY THREAT': 2,\n 'AUTO THEFT': 3,\n 'BURGLARY': 4,\n 'COMMON ASSAULT': 5,\n 'HOMICIDE': 6,\n 'LARCENY': 7,\n 'LARCENY FROM AUTO': 8,\n 'ROBBERY - CARJACKING': 9,\n 'ROBBERY - COMMERCIAL': 10,\n 'ROBBERY - RESIDENCE': 11,\n 'ROBBERY - STREET': 12,\n 'SEXUAL ASSAULT': 13,\n 'SHOOTING': 14}"
     },
     "execution_count": 95,
     "metadata": {},
     "output_type": "execute_result"
    }
   ],
   "source": [
    "df[\"Description\"] = lbl.fit_transform(df[df.columns[1]])\n",
    "Description = dict(zip(lbl.classes_, lbl.transform(lbl.classes_)))\n",
    "Description\n"
   ],
   "metadata": {
    "collapsed": false,
    "pycharm": {
     "name": "#%%\n"
    }
   }
  },
  {
   "cell_type": "code",
   "execution_count": 96,
   "outputs": [
    {
     "data": {
      "text/plain": "{'CENTRAL': 0,\n 'EASTERN': 1,\n 'NORTHEASTERN': 2,\n 'NORTHERN': 3,\n 'NORTHWESTERN': 4,\n 'SOUTHEASTERN': 5,\n 'SOUTHERN': 6,\n 'SOUTHWESTERN': 7,\n 'WESTERN': 8}"
     },
     "execution_count": 96,
     "metadata": {},
     "output_type": "execute_result"
    }
   ],
   "source": [
    "df[\"District\"] = lbl.fit_transform(df[df.columns[5]])\n",
    "District = dict(zip(lbl.classes_, lbl.transform(lbl.classes_)))\n",
    "District"
   ],
   "metadata": {
    "collapsed": false,
    "pycharm": {
     "name": "#%%\n"
    }
   }
  },
  {
   "cell_type": "code",
   "execution_count": 97,
   "outputs": [
    {
     "data": {
      "text/plain": "{'ABELL': 0,\n 'ALLENDALE': 1,\n 'ARCADIA': 2,\n 'ARLINGTON': 3,\n 'ARMISTEAD GARDENS': 4,\n 'ASHBURTON': 5,\n 'BALTIMORE HIGHLANDS': 6,\n 'BARCLAY': 7,\n 'BARRE CIRCLE': 8,\n 'BAYVIEW': 9,\n 'BEECHFIELD': 10,\n 'BELAIR-EDISON': 11,\n 'BELAIR-PARKSIDE': 12,\n 'BELLONA-GITTINGS': 13,\n 'BELVEDERE': 14,\n 'BEREA': 15,\n 'BETTER WAVERLY': 16,\n 'BEVERLY HILLS': 17,\n 'BIDDLE STREET': 18,\n 'BLYTHEWOOD': 19,\n 'BOLTON HILL': 20,\n 'BOYD-BOOTH': 21,\n 'BREWERS HILL': 22,\n 'BRIDGEVIEW/GREENLAWN': 23,\n 'BROADWAY EAST': 24,\n 'BROENING MANOR': 25,\n 'BROOKLYN': 26,\n 'BURLEITH-LEIGHTON': 27,\n \"BUTCHER'S HILL\": 28,\n 'CALLAWAY-GARRISON': 29,\n 'CAMERON VILLAGE': 30,\n 'CANTON': 31,\n 'CANTON INDUSTRIAL AREA': 32,\n 'CARE': 33,\n 'CARROLL - CAMDEN INDUSTRI': 34,\n 'CARROLL PARK': 35,\n 'CARROLL-SOUTH HILTON': 36,\n 'CARROLLTON RIDGE': 37,\n 'CEDARCROFT': 38,\n 'CEDMONT': 39,\n 'CEDONIA': 40,\n 'CENTRAL FOREST PARK': 41,\n 'CENTRAL PARK HEIGHTS': 42,\n 'CHARLES NORTH': 43,\n 'CHARLES VILLAGE': 44,\n 'CHERRY HILL': 45,\n 'CHESWOLDE': 46,\n 'CHINQUAPIN PARK': 47,\n 'CLIFTON PARK': 48,\n 'COLDSPRING': 49,\n 'COLDSTREAM HOMESTEAD MONT': 50,\n 'CONCERNED CITIZENS OF FOR': 51,\n 'COPPIN HEIGHTS/ASH-CO-EAS': 52,\n 'CROSS COUNTRY': 53,\n 'CROSS KEYS': 54,\n 'CURTIS BAY': 55,\n 'CURTIS BAY INDUSTRIAL ARE': 56,\n 'CYLBURN': 57,\n 'DARLEY PARK': 58,\n 'DICKEYVILLE': 59,\n 'DOLFIELD': 60,\n 'DORCHESTER': 61,\n 'DOWNTOWN': 62,\n 'DOWNTOWN WEST': 63,\n 'DRUID HEIGHTS': 64,\n 'DRUID HILL PARK': 65,\n 'DUNBAR-BROADWAY': 66,\n 'DUNDALK MARINE TERMINAL': 67,\n 'EAST ARLINGTON': 68,\n 'EAST BALTIMORE MIDWAY': 69,\n 'EASTERWOOD': 70,\n 'EASTWOOD': 71,\n 'EDGEWOOD': 72,\n 'EDMONDSON VILLAGE': 73,\n 'EDNOR GARDENS-LAKESIDE': 74,\n 'ELLWOOD PARK/MONUMENT': 75,\n 'EVERGREEN': 76,\n 'EVERGREEN LAWN': 77,\n 'EVESHAM PARK': 78,\n 'FAIRFIELD AREA': 79,\n 'FAIRMONT': 80,\n 'FALLSTAFF': 81,\n 'FEDERAL HILL': 82,\n 'FELLS POINT': 83,\n 'FOREST PARK': 84,\n 'FOREST PARK GOLF COURSE': 85,\n 'FOUR BY FOUR': 86,\n 'FRANKFORD': 87,\n 'FRANKLIN SQUARE': 88,\n 'FRANKLINTOWN': 89,\n 'FRANKLINTOWN ROAD': 90,\n 'GARWYN OAKS': 91,\n 'GAY STREET': 92,\n 'GLEN': 93,\n 'GLEN OAKS': 94,\n 'GLENHAM-BELHAR': 95,\n 'GRACELAND PARK': 96,\n 'GREEKTOWN': 97,\n 'GREENMOUNT CEMETERY': 98,\n 'GREENMOUNT WEST': 99,\n 'GREENSPRING': 100,\n 'GROVE PARK': 101,\n 'GUILFORD': 102,\n 'GWYNNS FALLS': 103,\n 'GWYNNS FALLS/LEAKIN PARK': 104,\n 'HAMILTON HILLS': 105,\n 'HAMPDEN': 106,\n 'HANLON-LONGWOOD': 107,\n 'HARLEM PARK': 108,\n 'HARWOOD': 109,\n 'HAWKINS POINT': 110,\n 'HERITAGE CROSSING': 111,\n 'HERRING RUN PARK': 112,\n 'HIGHLANDTOWN': 113,\n 'HILLEN': 114,\n 'HOES HEIGHTS': 115,\n 'HOLABIRD INDUSTRIAL PARK': 116,\n 'HOLLINS MARKET': 117,\n 'HOMELAND': 118,\n 'HOPKINS BAYVIEW': 119,\n 'HOWARD PARK': 120,\n 'HUNTING RIDGE': 121,\n 'IDLEWOOD': 122,\n 'INNER HARBOR': 123,\n 'IRVINGTON': 124,\n 'JOHNS HOPKINS HOMEWOOD': 125,\n 'JOHNSTON SQUARE': 126,\n 'JONES FALLS AREA': 127,\n 'JONESTOWN': 128,\n 'KENILWORTH PARK': 129,\n 'KERNEWOOD': 130,\n 'KESWICK': 131,\n 'KRESSON': 132,\n 'LAKE EVESHAM': 133,\n 'LAKE WALKER': 134,\n 'LAKELAND': 135,\n 'LANGSTON HUGHES': 136,\n 'LAURAVILLE': 137,\n 'LEVINDALE': 138,\n 'LIBERTY SQUARE': 139,\n 'LITTLE ITALY': 140,\n 'LOCH RAVEN': 141,\n 'LOCUST POINT': 142,\n 'LOCUST POINT INDUSTRIAL A': 143,\n 'LOWER EDMONDSON VILLAGE': 144,\n 'LOWER HERRING RUN PARK': 145,\n 'LOYOLA/NOTRE DAME': 146,\n 'LUCILLE PARK': 147,\n 'MADISON PARK': 148,\n 'MADISON-EASTEND': 149,\n 'MAYFIELD': 150,\n 'MCELDERRY PARK': 151,\n 'MEDFIELD': 152,\n 'MEDFORD': 153,\n 'MID-GOVANS': 154,\n 'MID-TOWN BELVEDERE': 155,\n 'MIDDLE BRANCH/REEDBIRD PA': 156,\n 'MIDDLE EAST': 157,\n 'MIDTOWN-EDMONDSON': 158,\n 'MILLHILL': 159,\n 'MILTON-MONTFORD': 160,\n 'MONDAWMIN': 161,\n 'MONTEBELLO': 162,\n 'MORAVIA-WALTHER': 163,\n 'MORGAN PARK': 164,\n 'MORGAN STATE UNIVERSITY': 165,\n 'MORRELL PARK': 166,\n 'MOSHER': 167,\n 'MOUNT HOLLY': 168,\n 'MOUNT VERNON': 169,\n 'MOUNT WASHINGTON': 170,\n 'MOUNT WINANS': 171,\n 'MT PLEASANT PARK': 172,\n 'NEW NORTHWOOD': 173,\n 'NEW SOUTHWEST/MOUNT CLARE': 174,\n 'NORTH HARFORD ROAD': 175,\n 'NORTH ROLAND PARK/POPLAR': 176,\n 'NORTHWEST COMMUNITY ACTIO': 177,\n \"O'DONNELL HEIGHTS\": 178,\n 'OAKENSHAWE': 179,\n 'OAKLEE': 180,\n 'OLD GOUCHER': 181,\n 'OLDTOWN': 182,\n 'OLIVER': 183,\n 'ORANGEVILLE': 184,\n 'ORANGEVILLE INDUSTRIAL AR': 185,\n 'ORCHARD RIDGE': 186,\n 'ORIGINAL NORTHWOOD': 187,\n 'OTTERBEIN': 188,\n 'OVERLEA': 189,\n 'PANWAY/BRADDISH AVENUE': 190,\n 'PARK CIRCLE': 191,\n 'PARKLANE': 192,\n 'PARKSIDE': 193,\n 'PARKVIEW/WOODBROOK': 194,\n 'PATTERSON PARK': 195,\n 'PATTERSON PLACE': 196,\n 'PEN LUCY': 197,\n 'PENN NORTH': 198,\n 'PENN-FALLSWAY': 199,\n 'PENROSE/FAYETTE STREET OU': 200,\n 'PERKINS HOMES': 201,\n 'PERRING LOCH': 202,\n 'PIMLICO GOOD NEIGHBORS': 203,\n 'PLEASANT VIEW GARDENS': 204,\n 'POPPLETON': 205,\n 'PORT COVINGTON': 206,\n 'PULASKI INDUSTRIAL AREA': 207,\n 'PURNELL': 208,\n 'RADNOR-WINSTON': 209,\n 'RAMBLEWOOD': 210,\n 'REISTERSTOWN STATION': 211,\n 'REMINGTON': 212,\n 'RESERVOIR HILL': 213,\n 'RICHNOR SPRINGS': 214,\n \"RIDGELY'S DELIGHT\": 215,\n 'RIVERSIDE': 216,\n 'ROGNEL HEIGHTS': 217,\n 'ROLAND PARK': 218,\n 'ROSEBANK': 219,\n 'ROSEMONT': 220,\n 'ROSEMONT EAST': 221,\n 'ROSEMONT HOMEOWNERS/TENAN': 222,\n 'SABINA-MATTFELDT': 223,\n 'SAINT AGNES': 224,\n 'SAINT HELENA': 225,\n 'SAINT JOSEPHS': 226,\n 'SAINT PAUL': 227,\n 'SANDTOWN-WINCHESTER': 228,\n 'SETON BUSINESS PARK': 229,\n 'SETON HILL': 230,\n 'SHARP-LEADENHALL': 231,\n 'SHIPLEY HILL': 232,\n 'SOUTH BALTIMORE': 233,\n 'SOUTH CLIFTON PARK': 234,\n 'SPRING GARDEN INDUSTRIAL': 235,\n 'STADIUM AREA': 236,\n 'STONEWOOD-PENTWOOD-WINSTO': 237,\n 'TAYLOR HEIGHTS': 238,\n 'TEN HILLS': 239,\n 'THE ORCHARDS': 240,\n 'TOWANDA-GRANTLEY': 241,\n 'TREMONT': 242,\n 'TUSCANY-CANTERBURY': 243,\n 'UNION SQUARE': 244,\n 'UNIVERSITY OF MARYLAND': 245,\n 'UPLANDS': 246,\n 'UPPER FELLS POINT': 247,\n 'UPTON': 248,\n 'VILLAGES OF HOMELAND': 249,\n 'VIOLETVILLE': 250,\n 'WAKEFIELD': 251,\n 'WALBROOK': 252,\n 'WALTHERSON': 253,\n 'WASHINGTON HILL': 254,\n 'WASHINGTON VILLAGE/PIGTOW': 255,\n 'WAVERLY': 256,\n 'WEST ARLINGTON': 257,\n 'WEST FOREST PARK': 258,\n 'WEST HILLS': 259,\n 'WESTFIELD': 260,\n 'WESTGATE': 261,\n 'WESTPORT': 262,\n 'WILHELM PARK': 263,\n 'WILSON PARK': 264,\n 'WINCHESTER': 265,\n 'WINDSOR HILLS': 266,\n 'WINSTON-GOVANS': 267,\n 'WOODBERRY': 268,\n 'WOODBOURNE HEIGHTS': 269,\n 'WOODBOURNE-MCCABE': 270,\n 'WOODMERE': 271,\n 'WRENLANE': 272,\n 'WYMAN PARK': 273,\n 'WYNDHURST': 274,\n 'YALE HEIGHTS': 275,\n 'YORK-HOMELAND': 276}"
     },
     "execution_count": 97,
     "metadata": {},
     "output_type": "execute_result"
    }
   ],
   "source": [
    "df[\"Neighborhood\"] = lbl.fit_transform(df[df.columns[6]])\n",
    "Neighborhood = dict(zip(lbl.classes_, lbl.transform(lbl.classes_)))\n",
    "Neighborhood\n"
   ],
   "metadata": {
    "collapsed": false,
    "pycharm": {
     "name": "#%%\n"
    }
   }
  },
  {
   "cell_type": "code",
   "execution_count": 98,
   "outputs": [
    {
     "data": {
      "text/plain": "{'ALLEY': 0,\n 'APARTMENT': 1,\n 'ATM MACHIN': 2,\n 'AUTO PARTS': 3,\n 'BAKERY': 4,\n 'BANK/FINAN': 5,\n 'BAR': 6,\n 'BARBER/BEA': 7,\n 'BOAT YARD': 8,\n 'BOAT/SHIP': 9,\n 'BRIDGE-PIE': 10,\n 'BUS.  STOR': 11,\n 'BUS. PARK': 12,\n 'BUS/AUTO': 13,\n 'BUS/RAILRO': 14,\n 'CAB': 15,\n 'CAR  REPAI': 16,\n 'CAR LOT-NE': 17,\n 'CARRY OUT': 18,\n 'CEMETERY': 19,\n 'CHAIN FOOD': 20,\n 'CLOTHING/S': 21,\n 'CLUB HOUSE': 22,\n 'CONSTRUCTI': 23,\n 'CONVENIENC': 24,\n 'CONVENTION': 25,\n 'COURT HOUS': 26,\n 'DEPARTMENT': 27,\n 'DOCTORS OF': 28,\n 'DRIVEWAY': 29,\n 'DRUG STORE': 30,\n 'DWELLING': 31,\n 'FAST FOOD': 32,\n 'FIRE DEPAR': 33,\n 'GAS STATIO': 34,\n 'GROCERY/CO': 35,\n 'HARDWARE/B': 36,\n 'HOSPITAL': 37,\n 'HOTEL/MOTE': 38,\n 'INNER HARB': 39,\n 'JEWELRY ST': 40,\n 'LAUNDRY/CL': 41,\n 'LIBRARY': 42,\n 'LIGHT RAIL': 43,\n 'LIQUOR STO': 44,\n 'MARKET STA': 45,\n 'MINI STORA': 46,\n 'MTA LOT': 47,\n 'NIGHT DEPO': 48,\n 'OFFICE BUI': 49,\n 'OTHER - IN': 50,\n 'OTHER - OU': 51,\n 'OTHER/RESI': 52,\n 'PARK': 53,\n 'PARKING LO': 54,\n 'PAWN SHOP': 55,\n 'PENITENTIA': 56,\n 'PLAYGROUND': 57,\n 'POLICE DEP': 58,\n 'POOL/BOWLI': 59,\n 'PORCH/DECK': 60,\n 'PUBLIC ARE': 61,\n 'PUBLIC BUI': 62,\n 'PUBLIC HOU': 63,\n 'RACE TRACK': 64,\n 'RECREATION': 65,\n 'RELIGIOUS': 66,\n 'RESTAURANT': 67,\n 'RETAIL/SMA': 68,\n 'ROW/TOWNHO': 69,\n 'SALESMAN/C': 70,\n 'SCHOOL': 71,\n 'SCHOOL PLA': 72,\n 'SHED/GARAGE': 73,\n 'SHOPPING M': 74,\n 'SINGLE HOU': 75,\n 'SPECIALTY': 76,\n 'STADIUM': 77,\n 'STREET': 78,\n 'SUBWAY': 79,\n 'THEATRE': 80,\n 'TRACTOR TR': 81,\n 'UNKNOWN': 82,\n 'UTILITIES-': 83,\n 'VACANT BUI': 84,\n 'VACANT DWE': 85,\n 'VACANT LOT': 86,\n 'WAREHOUSE': 87,\n 'WHOLESALE/': 88,\n 'YARD': 89}"
     },
     "execution_count": 98,
     "metadata": {},
     "output_type": "execute_result"
    }
   ],
   "source": [
    "df[\"Premise\"] = lbl.fit_transform(df[df.columns[9]])\n",
    "Premise = dict(zip(lbl.classes_, lbl.transform(lbl.classes_)))\n",
    "Premise\n"
   ],
   "metadata": {
    "collapsed": false,
    "pycharm": {
     "name": "#%%\n"
    }
   }
  },
  {
   "cell_type": "code",
   "execution_count": 99,
   "outputs": [
    {
     "data": {
      "text/plain": "    CrimeDate  Description Inside/Outside   Weapon   Post  District  \\\n0  2017-09-02           11         INSIDE    KNIFE  913.0         6   \n1  2017-09-02            3        OUTSIDE     NONE  133.0         0   \n2  2017-09-02           14        OUTSIDE  FIREARM  524.0         3   \n3  2017-09-02            0         INSIDE    OTHER  934.0         6   \n4  2017-09-02            5        OUTSIDE    HANDS  113.0         0   \n\n   Neighborhood  Longitude  Latitude  Premise  Season  Month  Hour  Year  \n0            26  -76.60541  39.22951       69  summer      9    23  2017  \n1           213  -76.63217  39.31360       78  summer      9    23  2017  \n2           267  -76.60697  39.34768       78  summer      9    22  2017  \n3            37  -76.64526  39.28315       69  summer      9    22  2017  \n4            63  -76.61365  39.28756       78  summer      9    22  2017  ",
      "text/html": "<div>\n<style scoped>\n    .dataframe tbody tr th:only-of-type {\n        vertical-align: middle;\n    }\n\n    .dataframe tbody tr th {\n        vertical-align: top;\n    }\n\n    .dataframe thead th {\n        text-align: right;\n    }\n</style>\n<table border=\"1\" class=\"dataframe\">\n  <thead>\n    <tr style=\"text-align: right;\">\n      <th></th>\n      <th>CrimeDate</th>\n      <th>Description</th>\n      <th>Inside/Outside</th>\n      <th>Weapon</th>\n      <th>Post</th>\n      <th>District</th>\n      <th>Neighborhood</th>\n      <th>Longitude</th>\n      <th>Latitude</th>\n      <th>Premise</th>\n      <th>Season</th>\n      <th>Month</th>\n      <th>Hour</th>\n      <th>Year</th>\n    </tr>\n  </thead>\n  <tbody>\n    <tr>\n      <th>0</th>\n      <td>2017-09-02</td>\n      <td>11</td>\n      <td>INSIDE</td>\n      <td>KNIFE</td>\n      <td>913.0</td>\n      <td>6</td>\n      <td>26</td>\n      <td>-76.60541</td>\n      <td>39.22951</td>\n      <td>69</td>\n      <td>summer</td>\n      <td>9</td>\n      <td>23</td>\n      <td>2017</td>\n    </tr>\n    <tr>\n      <th>1</th>\n      <td>2017-09-02</td>\n      <td>3</td>\n      <td>OUTSIDE</td>\n      <td>NONE</td>\n      <td>133.0</td>\n      <td>0</td>\n      <td>213</td>\n      <td>-76.63217</td>\n      <td>39.31360</td>\n      <td>78</td>\n      <td>summer</td>\n      <td>9</td>\n      <td>23</td>\n      <td>2017</td>\n    </tr>\n    <tr>\n      <th>2</th>\n      <td>2017-09-02</td>\n      <td>14</td>\n      <td>OUTSIDE</td>\n      <td>FIREARM</td>\n      <td>524.0</td>\n      <td>3</td>\n      <td>267</td>\n      <td>-76.60697</td>\n      <td>39.34768</td>\n      <td>78</td>\n      <td>summer</td>\n      <td>9</td>\n      <td>22</td>\n      <td>2017</td>\n    </tr>\n    <tr>\n      <th>3</th>\n      <td>2017-09-02</td>\n      <td>0</td>\n      <td>INSIDE</td>\n      <td>OTHER</td>\n      <td>934.0</td>\n      <td>6</td>\n      <td>37</td>\n      <td>-76.64526</td>\n      <td>39.28315</td>\n      <td>69</td>\n      <td>summer</td>\n      <td>9</td>\n      <td>22</td>\n      <td>2017</td>\n    </tr>\n    <tr>\n      <th>4</th>\n      <td>2017-09-02</td>\n      <td>5</td>\n      <td>OUTSIDE</td>\n      <td>HANDS</td>\n      <td>113.0</td>\n      <td>0</td>\n      <td>63</td>\n      <td>-76.61365</td>\n      <td>39.28756</td>\n      <td>78</td>\n      <td>summer</td>\n      <td>9</td>\n      <td>22</td>\n      <td>2017</td>\n    </tr>\n  </tbody>\n</table>\n</div>"
     },
     "execution_count": 99,
     "metadata": {},
     "output_type": "execute_result"
    }
   ],
   "source": [
    "df.head()\n"
   ],
   "metadata": {
    "collapsed": false,
    "pycharm": {
     "name": "#%%\n"
    }
   }
  },
  {
   "cell_type": "code",
   "execution_count": 100,
   "outputs": [],
   "source": [
    "df = df.drop(columns=[\"Longitude\",\"Latitude\",\"Season\",\"Year\",\"Post\",\"District\"])\n"
   ],
   "metadata": {
    "collapsed": false,
    "pycharm": {
     "name": "#%%\n"
    }
   }
  },
  {
   "cell_type": "code",
   "execution_count": 101,
   "outputs": [
    {
     "data": {
      "text/plain": "    CrimeDate  Description Inside/Outside   Weapon  Neighborhood  Premise  \\\n0  2017-09-02           11         INSIDE    KNIFE            26       69   \n1  2017-09-02            3        OUTSIDE     NONE           213       78   \n2  2017-09-02           14        OUTSIDE  FIREARM           267       78   \n3  2017-09-02            0         INSIDE    OTHER            37       69   \n4  2017-09-02            5        OUTSIDE    HANDS            63       78   \n\n   Month  Hour  \n0      9    23  \n1      9    23  \n2      9    22  \n3      9    22  \n4      9    22  ",
      "text/html": "<div>\n<style scoped>\n    .dataframe tbody tr th:only-of-type {\n        vertical-align: middle;\n    }\n\n    .dataframe tbody tr th {\n        vertical-align: top;\n    }\n\n    .dataframe thead th {\n        text-align: right;\n    }\n</style>\n<table border=\"1\" class=\"dataframe\">\n  <thead>\n    <tr style=\"text-align: right;\">\n      <th></th>\n      <th>CrimeDate</th>\n      <th>Description</th>\n      <th>Inside/Outside</th>\n      <th>Weapon</th>\n      <th>Neighborhood</th>\n      <th>Premise</th>\n      <th>Month</th>\n      <th>Hour</th>\n    </tr>\n  </thead>\n  <tbody>\n    <tr>\n      <th>0</th>\n      <td>2017-09-02</td>\n      <td>11</td>\n      <td>INSIDE</td>\n      <td>KNIFE</td>\n      <td>26</td>\n      <td>69</td>\n      <td>9</td>\n      <td>23</td>\n    </tr>\n    <tr>\n      <th>1</th>\n      <td>2017-09-02</td>\n      <td>3</td>\n      <td>OUTSIDE</td>\n      <td>NONE</td>\n      <td>213</td>\n      <td>78</td>\n      <td>9</td>\n      <td>23</td>\n    </tr>\n    <tr>\n      <th>2</th>\n      <td>2017-09-02</td>\n      <td>14</td>\n      <td>OUTSIDE</td>\n      <td>FIREARM</td>\n      <td>267</td>\n      <td>78</td>\n      <td>9</td>\n      <td>22</td>\n    </tr>\n    <tr>\n      <th>3</th>\n      <td>2017-09-02</td>\n      <td>0</td>\n      <td>INSIDE</td>\n      <td>OTHER</td>\n      <td>37</td>\n      <td>69</td>\n      <td>9</td>\n      <td>22</td>\n    </tr>\n    <tr>\n      <th>4</th>\n      <td>2017-09-02</td>\n      <td>5</td>\n      <td>OUTSIDE</td>\n      <td>HANDS</td>\n      <td>63</td>\n      <td>78</td>\n      <td>9</td>\n      <td>22</td>\n    </tr>\n  </tbody>\n</table>\n</div>"
     },
     "execution_count": 101,
     "metadata": {},
     "output_type": "execute_result"
    }
   ],
   "source": [
    "df.head()\n"
   ],
   "metadata": {
    "collapsed": false,
    "pycharm": {
     "name": "#%%\n"
    }
   }
  },
  {
   "cell_type": "code",
   "execution_count": 102,
   "outputs": [],
   "source": [
    "df = pd.get_dummies(df, columns=[\"Inside/Outside\"],drop_first=True)\n",
    "df= df.rename(columns={\"Inside/Outside_OUTSIDE\":\"Outside\"})\n"
   ],
   "metadata": {
    "collapsed": false,
    "pycharm": {
     "name": "#%%\n"
    }
   }
  },
  {
   "cell_type": "code",
   "execution_count": 103,
   "outputs": [],
   "source": [
    "df = pd.get_dummies(df, columns=[\"Weapon\"])\n"
   ],
   "metadata": {
    "collapsed": false,
    "pycharm": {
     "name": "#%%\n"
    }
   }
  },
  {
   "cell_type": "code",
   "execution_count": 104,
   "outputs": [
    {
     "data": {
      "text/plain": "     CrimeDate  Description  Neighborhood  Premise  Month  Hour  \\\n0   2017-09-02           11            26       69      9    23   \n1   2017-09-02            3           213       78      9    23   \n2   2017-09-02           14           267       78      9    22   \n3   2017-09-02            0            37       69      9    22   \n4   2017-09-02            5            63       78      9    22   \n5   2017-09-02            4            45       69      9    22   \n6   2017-09-02            6            31       78      9    21   \n7   2017-09-02           12           248       78      9    21   \n8   2017-09-02            0           266       78      9    21   \n9   2017-09-02            5            15       69      9    21   \n10  2017-09-02            0           266       78      9    21   \n11  2017-09-02           10            72       68      9    20   \n12  2017-09-02            0           266       78      9    20   \n13  2017-09-02            8            87       89      9    20   \n14  2017-09-02            4           116       50      9    19   \n15  2017-09-02           14           183       78      9    18   \n16  2017-09-02            6           183       78      9    18   \n17  2017-09-02            5           148       78      9    18   \n18  2017-09-02            7           254       24      9    18   \n19  2017-09-02            4           253       69      9    17   \n\n    Inside/Outside_OUTSIDE  Weapon_FIREARM  Weapon_HANDS  Weapon_KNIFE  \\\n0                        0               0             0             1   \n1                        1               0             0             0   \n2                        1               1             0             0   \n3                        0               0             0             0   \n4                        1               0             1             0   \n5                        0               0             0             0   \n6                        1               1             0             0   \n7                        1               0             0             0   \n8                        1               0             0             0   \n9                        0               0             1             0   \n10                       1               0             0             0   \n11                       0               1             0             0   \n12                       1               0             0             0   \n13                       1               0             0             0   \n14                       0               0             0             0   \n15                       1               1             0             0   \n16                       1               1             0             0   \n17                       1               0             1             0   \n18                       0               0             0             0   \n19                       0               0             0             0   \n\n    Weapon_NONE  Weapon_OTHER  \n0             0             0  \n1             1             0  \n2             0             0  \n3             0             1  \n4             0             0  \n5             1             0  \n6             0             0  \n7             1             0  \n8             0             1  \n9             0             0  \n10            0             1  \n11            0             0  \n12            0             1  \n13            1             0  \n14            1             0  \n15            0             0  \n16            0             0  \n17            0             0  \n18            1             0  \n19            1             0  ",
      "text/html": "<div>\n<style scoped>\n    .dataframe tbody tr th:only-of-type {\n        vertical-align: middle;\n    }\n\n    .dataframe tbody tr th {\n        vertical-align: top;\n    }\n\n    .dataframe thead th {\n        text-align: right;\n    }\n</style>\n<table border=\"1\" class=\"dataframe\">\n  <thead>\n    <tr style=\"text-align: right;\">\n      <th></th>\n      <th>CrimeDate</th>\n      <th>Description</th>\n      <th>Neighborhood</th>\n      <th>Premise</th>\n      <th>Month</th>\n      <th>Hour</th>\n      <th>Inside/Outside_OUTSIDE</th>\n      <th>Weapon_FIREARM</th>\n      <th>Weapon_HANDS</th>\n      <th>Weapon_KNIFE</th>\n      <th>Weapon_NONE</th>\n      <th>Weapon_OTHER</th>\n    </tr>\n  </thead>\n  <tbody>\n    <tr>\n      <th>0</th>\n      <td>2017-09-02</td>\n      <td>11</td>\n      <td>26</td>\n      <td>69</td>\n      <td>9</td>\n      <td>23</td>\n      <td>0</td>\n      <td>0</td>\n      <td>0</td>\n      <td>1</td>\n      <td>0</td>\n      <td>0</td>\n    </tr>\n    <tr>\n      <th>1</th>\n      <td>2017-09-02</td>\n      <td>3</td>\n      <td>213</td>\n      <td>78</td>\n      <td>9</td>\n      <td>23</td>\n      <td>1</td>\n      <td>0</td>\n      <td>0</td>\n      <td>0</td>\n      <td>1</td>\n      <td>0</td>\n    </tr>\n    <tr>\n      <th>2</th>\n      <td>2017-09-02</td>\n      <td>14</td>\n      <td>267</td>\n      <td>78</td>\n      <td>9</td>\n      <td>22</td>\n      <td>1</td>\n      <td>1</td>\n      <td>0</td>\n      <td>0</td>\n      <td>0</td>\n      <td>0</td>\n    </tr>\n    <tr>\n      <th>3</th>\n      <td>2017-09-02</td>\n      <td>0</td>\n      <td>37</td>\n      <td>69</td>\n      <td>9</td>\n      <td>22</td>\n      <td>0</td>\n      <td>0</td>\n      <td>0</td>\n      <td>0</td>\n      <td>0</td>\n      <td>1</td>\n    </tr>\n    <tr>\n      <th>4</th>\n      <td>2017-09-02</td>\n      <td>5</td>\n      <td>63</td>\n      <td>78</td>\n      <td>9</td>\n      <td>22</td>\n      <td>1</td>\n      <td>0</td>\n      <td>1</td>\n      <td>0</td>\n      <td>0</td>\n      <td>0</td>\n    </tr>\n    <tr>\n      <th>5</th>\n      <td>2017-09-02</td>\n      <td>4</td>\n      <td>45</td>\n      <td>69</td>\n      <td>9</td>\n      <td>22</td>\n      <td>0</td>\n      <td>0</td>\n      <td>0</td>\n      <td>0</td>\n      <td>1</td>\n      <td>0</td>\n    </tr>\n    <tr>\n      <th>6</th>\n      <td>2017-09-02</td>\n      <td>6</td>\n      <td>31</td>\n      <td>78</td>\n      <td>9</td>\n      <td>21</td>\n      <td>1</td>\n      <td>1</td>\n      <td>0</td>\n      <td>0</td>\n      <td>0</td>\n      <td>0</td>\n    </tr>\n    <tr>\n      <th>7</th>\n      <td>2017-09-02</td>\n      <td>12</td>\n      <td>248</td>\n      <td>78</td>\n      <td>9</td>\n      <td>21</td>\n      <td>1</td>\n      <td>0</td>\n      <td>0</td>\n      <td>0</td>\n      <td>1</td>\n      <td>0</td>\n    </tr>\n    <tr>\n      <th>8</th>\n      <td>2017-09-02</td>\n      <td>0</td>\n      <td>266</td>\n      <td>78</td>\n      <td>9</td>\n      <td>21</td>\n      <td>1</td>\n      <td>0</td>\n      <td>0</td>\n      <td>0</td>\n      <td>0</td>\n      <td>1</td>\n    </tr>\n    <tr>\n      <th>9</th>\n      <td>2017-09-02</td>\n      <td>5</td>\n      <td>15</td>\n      <td>69</td>\n      <td>9</td>\n      <td>21</td>\n      <td>0</td>\n      <td>0</td>\n      <td>1</td>\n      <td>0</td>\n      <td>0</td>\n      <td>0</td>\n    </tr>\n    <tr>\n      <th>10</th>\n      <td>2017-09-02</td>\n      <td>0</td>\n      <td>266</td>\n      <td>78</td>\n      <td>9</td>\n      <td>21</td>\n      <td>1</td>\n      <td>0</td>\n      <td>0</td>\n      <td>0</td>\n      <td>0</td>\n      <td>1</td>\n    </tr>\n    <tr>\n      <th>11</th>\n      <td>2017-09-02</td>\n      <td>10</td>\n      <td>72</td>\n      <td>68</td>\n      <td>9</td>\n      <td>20</td>\n      <td>0</td>\n      <td>1</td>\n      <td>0</td>\n      <td>0</td>\n      <td>0</td>\n      <td>0</td>\n    </tr>\n    <tr>\n      <th>12</th>\n      <td>2017-09-02</td>\n      <td>0</td>\n      <td>266</td>\n      <td>78</td>\n      <td>9</td>\n      <td>20</td>\n      <td>1</td>\n      <td>0</td>\n      <td>0</td>\n      <td>0</td>\n      <td>0</td>\n      <td>1</td>\n    </tr>\n    <tr>\n      <th>13</th>\n      <td>2017-09-02</td>\n      <td>8</td>\n      <td>87</td>\n      <td>89</td>\n      <td>9</td>\n      <td>20</td>\n      <td>1</td>\n      <td>0</td>\n      <td>0</td>\n      <td>0</td>\n      <td>1</td>\n      <td>0</td>\n    </tr>\n    <tr>\n      <th>14</th>\n      <td>2017-09-02</td>\n      <td>4</td>\n      <td>116</td>\n      <td>50</td>\n      <td>9</td>\n      <td>19</td>\n      <td>0</td>\n      <td>0</td>\n      <td>0</td>\n      <td>0</td>\n      <td>1</td>\n      <td>0</td>\n    </tr>\n    <tr>\n      <th>15</th>\n      <td>2017-09-02</td>\n      <td>14</td>\n      <td>183</td>\n      <td>78</td>\n      <td>9</td>\n      <td>18</td>\n      <td>1</td>\n      <td>1</td>\n      <td>0</td>\n      <td>0</td>\n      <td>0</td>\n      <td>0</td>\n    </tr>\n    <tr>\n      <th>16</th>\n      <td>2017-09-02</td>\n      <td>6</td>\n      <td>183</td>\n      <td>78</td>\n      <td>9</td>\n      <td>18</td>\n      <td>1</td>\n      <td>1</td>\n      <td>0</td>\n      <td>0</td>\n      <td>0</td>\n      <td>0</td>\n    </tr>\n    <tr>\n      <th>17</th>\n      <td>2017-09-02</td>\n      <td>5</td>\n      <td>148</td>\n      <td>78</td>\n      <td>9</td>\n      <td>18</td>\n      <td>1</td>\n      <td>0</td>\n      <td>1</td>\n      <td>0</td>\n      <td>0</td>\n      <td>0</td>\n    </tr>\n    <tr>\n      <th>18</th>\n      <td>2017-09-02</td>\n      <td>7</td>\n      <td>254</td>\n      <td>24</td>\n      <td>9</td>\n      <td>18</td>\n      <td>0</td>\n      <td>0</td>\n      <td>0</td>\n      <td>0</td>\n      <td>1</td>\n      <td>0</td>\n    </tr>\n    <tr>\n      <th>19</th>\n      <td>2017-09-02</td>\n      <td>4</td>\n      <td>253</td>\n      <td>69</td>\n      <td>9</td>\n      <td>17</td>\n      <td>0</td>\n      <td>0</td>\n      <td>0</td>\n      <td>0</td>\n      <td>1</td>\n      <td>0</td>\n    </tr>\n  </tbody>\n</table>\n</div>"
     },
     "execution_count": 104,
     "metadata": {},
     "output_type": "execute_result"
    }
   ],
   "source": [
    "df.head(20)\n"
   ],
   "metadata": {
    "collapsed": false,
    "pycharm": {
     "name": "#%%\n"
    }
   }
  },
  {
   "cell_type": "markdown",
   "source": [
    "Alright let's add columns for holidays and weekends.\n"
   ],
   "metadata": {
    "collapsed": false,
    "pycharm": {
     "name": "#%% md\n"
    }
   }
  },
  {
   "cell_type": "code",
   "execution_count": 106,
   "outputs": [],
   "source": [
    "from pandas.tseries.holiday import USFederalHolidayCalendar\n",
    "calendar = USFederalHolidayCalendar()"
   ],
   "metadata": {
    "collapsed": false,
    "pycharm": {
     "name": "#%%\n"
    }
   }
  },
  {
   "cell_type": "code",
   "execution_count": 107,
   "outputs": [
    {
     "data": {
      "text/plain": "'2017-09-02'"
     },
     "execution_count": 107,
     "metadata": {},
     "output_type": "execute_result"
    }
   ],
   "source": [
    "df[\"CrimeDate\"][0]"
   ],
   "metadata": {
    "collapsed": false,
    "pycharm": {
     "name": "#%%\n"
    }
   }
  },
  {
   "cell_type": "code",
   "execution_count": 109,
   "outputs": [
    {
     "data": {
      "text/plain": "263121"
     },
     "execution_count": 109,
     "metadata": {},
     "output_type": "execute_result"
    }
   ],
   "source": [
    "len(df)\n"
   ],
   "metadata": {
    "collapsed": false,
    "pycharm": {
     "name": "#%%\n"
    }
   }
  },
  {
   "cell_type": "code",
   "execution_count": 111,
   "outputs": [
    {
     "data": {
      "text/plain": "'2012-01-01'"
     },
     "execution_count": 111,
     "metadata": {},
     "output_type": "execute_result"
    }
   ],
   "source": [
    "df[\"CrimeDate\"][263120]\n"
   ],
   "metadata": {
    "collapsed": false,
    "pycharm": {
     "name": "#%%\n"
    }
   }
  },
  {
   "cell_type": "code",
   "execution_count": 116,
   "outputs": [
    {
     "data": {
      "text/plain": "str"
     },
     "execution_count": 116,
     "metadata": {},
     "output_type": "execute_result"
    }
   ],
   "source": [
    "type(df[\"CrimeDate\"][0])"
   ],
   "metadata": {
    "collapsed": false,
    "pycharm": {
     "name": "#%%\n"
    }
   }
  },
  {
   "cell_type": "markdown",
   "source": [
    "Needs to be datetime."
   ],
   "metadata": {
    "collapsed": false,
    "pycharm": {
     "name": "#%% md\n"
    }
   }
  },
  {
   "cell_type": "code",
   "execution_count": 119,
   "outputs": [],
   "source": [
    "df.CrimeDate = pd.to_datetime(df.CrimeDate)"
   ],
   "metadata": {
    "collapsed": false,
    "pycharm": {
     "name": "#%%\n"
    }
   }
  },
  {
   "cell_type": "code",
   "execution_count": 120,
   "outputs": [],
   "source": [
    "dr = pd.date_range(start='2012-01-01', end='2017-09-02')\n",
    "holidays = calendar.holidays(start=dr.min(), end=dr.max())\n",
    "\n",
    "df['Holiday'] = df['CrimeDate'].isin(holidays)\n",
    "\n"
   ],
   "metadata": {
    "collapsed": false,
    "pycharm": {
     "name": "#%%\n"
    }
   }
  },
  {
   "cell_type": "code",
   "execution_count": 121,
   "outputs": [
    {
     "data": {
      "text/plain": "   CrimeDate  Description  Neighborhood  Premise  Month  Hour  \\\n0 2017-09-02           11            26       69      9    23   \n1 2017-09-02            3           213       78      9    23   \n2 2017-09-02           14           267       78      9    22   \n3 2017-09-02            0            37       69      9    22   \n4 2017-09-02            5            63       78      9    22   \n5 2017-09-02            4            45       69      9    22   \n6 2017-09-02            6            31       78      9    21   \n7 2017-09-02           12           248       78      9    21   \n8 2017-09-02            0           266       78      9    21   \n9 2017-09-02            5            15       69      9    21   \n\n   Inside/Outside_OUTSIDE  Weapon_FIREARM  Weapon_HANDS  Weapon_KNIFE  \\\n0                       0               0             0             1   \n1                       1               0             0             0   \n2                       1               1             0             0   \n3                       0               0             0             0   \n4                       1               0             1             0   \n5                       0               0             0             0   \n6                       1               1             0             0   \n7                       1               0             0             0   \n8                       1               0             0             0   \n9                       0               0             1             0   \n\n   Weapon_NONE  Weapon_OTHER  Holiday  \n0            0             0    False  \n1            1             0    False  \n2            0             0    False  \n3            0             1    False  \n4            0             0    False  \n5            1             0    False  \n6            0             0    False  \n7            1             0    False  \n8            0             1    False  \n9            0             0    False  ",
      "text/html": "<div>\n<style scoped>\n    .dataframe tbody tr th:only-of-type {\n        vertical-align: middle;\n    }\n\n    .dataframe tbody tr th {\n        vertical-align: top;\n    }\n\n    .dataframe thead th {\n        text-align: right;\n    }\n</style>\n<table border=\"1\" class=\"dataframe\">\n  <thead>\n    <tr style=\"text-align: right;\">\n      <th></th>\n      <th>CrimeDate</th>\n      <th>Description</th>\n      <th>Neighborhood</th>\n      <th>Premise</th>\n      <th>Month</th>\n      <th>Hour</th>\n      <th>Inside/Outside_OUTSIDE</th>\n      <th>Weapon_FIREARM</th>\n      <th>Weapon_HANDS</th>\n      <th>Weapon_KNIFE</th>\n      <th>Weapon_NONE</th>\n      <th>Weapon_OTHER</th>\n      <th>Holiday</th>\n    </tr>\n  </thead>\n  <tbody>\n    <tr>\n      <th>0</th>\n      <td>2017-09-02</td>\n      <td>11</td>\n      <td>26</td>\n      <td>69</td>\n      <td>9</td>\n      <td>23</td>\n      <td>0</td>\n      <td>0</td>\n      <td>0</td>\n      <td>1</td>\n      <td>0</td>\n      <td>0</td>\n      <td>False</td>\n    </tr>\n    <tr>\n      <th>1</th>\n      <td>2017-09-02</td>\n      <td>3</td>\n      <td>213</td>\n      <td>78</td>\n      <td>9</td>\n      <td>23</td>\n      <td>1</td>\n      <td>0</td>\n      <td>0</td>\n      <td>0</td>\n      <td>1</td>\n      <td>0</td>\n      <td>False</td>\n    </tr>\n    <tr>\n      <th>2</th>\n      <td>2017-09-02</td>\n      <td>14</td>\n      <td>267</td>\n      <td>78</td>\n      <td>9</td>\n      <td>22</td>\n      <td>1</td>\n      <td>1</td>\n      <td>0</td>\n      <td>0</td>\n      <td>0</td>\n      <td>0</td>\n      <td>False</td>\n    </tr>\n    <tr>\n      <th>3</th>\n      <td>2017-09-02</td>\n      <td>0</td>\n      <td>37</td>\n      <td>69</td>\n      <td>9</td>\n      <td>22</td>\n      <td>0</td>\n      <td>0</td>\n      <td>0</td>\n      <td>0</td>\n      <td>0</td>\n      <td>1</td>\n      <td>False</td>\n    </tr>\n    <tr>\n      <th>4</th>\n      <td>2017-09-02</td>\n      <td>5</td>\n      <td>63</td>\n      <td>78</td>\n      <td>9</td>\n      <td>22</td>\n      <td>1</td>\n      <td>0</td>\n      <td>1</td>\n      <td>0</td>\n      <td>0</td>\n      <td>0</td>\n      <td>False</td>\n    </tr>\n    <tr>\n      <th>5</th>\n      <td>2017-09-02</td>\n      <td>4</td>\n      <td>45</td>\n      <td>69</td>\n      <td>9</td>\n      <td>22</td>\n      <td>0</td>\n      <td>0</td>\n      <td>0</td>\n      <td>0</td>\n      <td>1</td>\n      <td>0</td>\n      <td>False</td>\n    </tr>\n    <tr>\n      <th>6</th>\n      <td>2017-09-02</td>\n      <td>6</td>\n      <td>31</td>\n      <td>78</td>\n      <td>9</td>\n      <td>21</td>\n      <td>1</td>\n      <td>1</td>\n      <td>0</td>\n      <td>0</td>\n      <td>0</td>\n      <td>0</td>\n      <td>False</td>\n    </tr>\n    <tr>\n      <th>7</th>\n      <td>2017-09-02</td>\n      <td>12</td>\n      <td>248</td>\n      <td>78</td>\n      <td>9</td>\n      <td>21</td>\n      <td>1</td>\n      <td>0</td>\n      <td>0</td>\n      <td>0</td>\n      <td>1</td>\n      <td>0</td>\n      <td>False</td>\n    </tr>\n    <tr>\n      <th>8</th>\n      <td>2017-09-02</td>\n      <td>0</td>\n      <td>266</td>\n      <td>78</td>\n      <td>9</td>\n      <td>21</td>\n      <td>1</td>\n      <td>0</td>\n      <td>0</td>\n      <td>0</td>\n      <td>0</td>\n      <td>1</td>\n      <td>False</td>\n    </tr>\n    <tr>\n      <th>9</th>\n      <td>2017-09-02</td>\n      <td>5</td>\n      <td>15</td>\n      <td>69</td>\n      <td>9</td>\n      <td>21</td>\n      <td>0</td>\n      <td>0</td>\n      <td>1</td>\n      <td>0</td>\n      <td>0</td>\n      <td>0</td>\n      <td>False</td>\n    </tr>\n  </tbody>\n</table>\n</div>"
     },
     "execution_count": 121,
     "metadata": {},
     "output_type": "execute_result"
    }
   ],
   "source": [
    "df.head(10)"
   ],
   "metadata": {
    "collapsed": false,
    "pycharm": {
     "name": "#%%\n"
    }
   }
  },
  {
   "cell_type": "code",
   "execution_count": 122,
   "outputs": [
    {
     "data": {
      "text/plain": "False    256502\nTrue       6619\nName: Holiday, dtype: int64"
     },
     "execution_count": 122,
     "metadata": {},
     "output_type": "execute_result"
    }
   ],
   "source": [
    "df['Holiday'].value_counts()"
   ],
   "metadata": {
    "collapsed": false,
    "pycharm": {
     "name": "#%%\n"
    }
   }
  },
  {
   "cell_type": "code",
   "execution_count": 125,
   "outputs": [],
   "source": [
    "df['Holiday'] = df['Holiday'].replace(False, 0)\n",
    "df['Holiday'] = df['Holiday'].replace(True, 1)"
   ],
   "metadata": {
    "collapsed": false,
    "pycharm": {
     "name": "#%%\n"
    }
   }
  },
  {
   "cell_type": "code",
   "execution_count": 126,
   "outputs": [
    {
     "data": {
      "text/plain": "0    256502\n1      6619\nName: Holiday, dtype: int64"
     },
     "execution_count": 126,
     "metadata": {},
     "output_type": "execute_result"
    }
   ],
   "source": [
    "df['Holiday'].value_counts()\n"
   ],
   "metadata": {
    "collapsed": false,
    "pycharm": {
     "name": "#%%\n"
    }
   }
  },
  {
   "cell_type": "markdown",
   "source": [
    "And same for weekends.\n"
   ],
   "metadata": {
    "collapsed": false,
    "pycharm": {
     "name": "#%% md\n"
    }
   }
  },
  {
   "cell_type": "code",
   "execution_count": 127,
   "outputs": [
    {
     "data": {
      "text/plain": "5"
     },
     "execution_count": 127,
     "metadata": {},
     "output_type": "execute_result"
    }
   ],
   "source": [
    "df[\"CrimeDate\"][0].weekday()"
   ],
   "metadata": {
    "collapsed": false,
    "pycharm": {
     "name": "#%%\n"
    }
   }
  },
  {
   "cell_type": "code",
   "execution_count": 128,
   "outputs": [
    {
     "data": {
      "text/plain": "4"
     },
     "execution_count": 128,
     "metadata": {},
     "output_type": "execute_result"
    }
   ],
   "source": [
    "df[\"CrimeDate\"][57674].weekday()"
   ],
   "metadata": {
    "collapsed": false,
    "pycharm": {
     "name": "#%%\n"
    }
   }
  },
  {
   "cell_type": "markdown",
   "source": [
    "Weekends will be 5 and 6 (starts from 0)"
   ],
   "metadata": {
    "collapsed": false,
    "pycharm": {
     "name": "#%% md\n"
    }
   }
  },
  {
   "cell_type": "code",
   "execution_count": 143,
   "outputs": [],
   "source": [
    "df[\"Weekday\"] = pd.to_datetime(df[\"CrimeDate\"]).dt.dayofweek"
   ],
   "metadata": {
    "collapsed": false,
    "pycharm": {
     "name": "#%%\n"
    }
   }
  },
  {
   "cell_type": "code",
   "execution_count": 145,
   "outputs": [
    {
     "data": {
      "text/plain": "   CrimeDate  Description  Neighborhood  Premise  Month  Hour  \\\n0 2017-09-02           11            26       69      9    23   \n1 2017-09-02            3           213       78      9    23   \n2 2017-09-02           14           267       78      9    22   \n3 2017-09-02            0            37       69      9    22   \n4 2017-09-02            5            63       78      9    22   \n5 2017-09-02            4            45       69      9    22   \n6 2017-09-02            6            31       78      9    21   \n7 2017-09-02           12           248       78      9    21   \n8 2017-09-02            0           266       78      9    21   \n9 2017-09-02            5            15       69      9    21   \n\n   Inside/Outside_OUTSIDE  Weapon_FIREARM  Weapon_HANDS  Weapon_KNIFE  \\\n0                       0               0             0             1   \n1                       1               0             0             0   \n2                       1               1             0             0   \n3                       0               0             0             0   \n4                       1               0             1             0   \n5                       0               0             0             0   \n6                       1               1             0             0   \n7                       1               0             0             0   \n8                       1               0             0             0   \n9                       0               0             1             0   \n\n   Weapon_NONE  Weapon_OTHER  Holiday  Weekday  \n0            0             0        0        5  \n1            1             0        0        5  \n2            0             0        0        5  \n3            0             1        0        5  \n4            0             0        0        5  \n5            1             0        0        5  \n6            0             0        0        5  \n7            1             0        0        5  \n8            0             1        0        5  \n9            0             0        0        5  ",
      "text/html": "<div>\n<style scoped>\n    .dataframe tbody tr th:only-of-type {\n        vertical-align: middle;\n    }\n\n    .dataframe tbody tr th {\n        vertical-align: top;\n    }\n\n    .dataframe thead th {\n        text-align: right;\n    }\n</style>\n<table border=\"1\" class=\"dataframe\">\n  <thead>\n    <tr style=\"text-align: right;\">\n      <th></th>\n      <th>CrimeDate</th>\n      <th>Description</th>\n      <th>Neighborhood</th>\n      <th>Premise</th>\n      <th>Month</th>\n      <th>Hour</th>\n      <th>Inside/Outside_OUTSIDE</th>\n      <th>Weapon_FIREARM</th>\n      <th>Weapon_HANDS</th>\n      <th>Weapon_KNIFE</th>\n      <th>Weapon_NONE</th>\n      <th>Weapon_OTHER</th>\n      <th>Holiday</th>\n      <th>Weekday</th>\n    </tr>\n  </thead>\n  <tbody>\n    <tr>\n      <th>0</th>\n      <td>2017-09-02</td>\n      <td>11</td>\n      <td>26</td>\n      <td>69</td>\n      <td>9</td>\n      <td>23</td>\n      <td>0</td>\n      <td>0</td>\n      <td>0</td>\n      <td>1</td>\n      <td>0</td>\n      <td>0</td>\n      <td>0</td>\n      <td>5</td>\n    </tr>\n    <tr>\n      <th>1</th>\n      <td>2017-09-02</td>\n      <td>3</td>\n      <td>213</td>\n      <td>78</td>\n      <td>9</td>\n      <td>23</td>\n      <td>1</td>\n      <td>0</td>\n      <td>0</td>\n      <td>0</td>\n      <td>1</td>\n      <td>0</td>\n      <td>0</td>\n      <td>5</td>\n    </tr>\n    <tr>\n      <th>2</th>\n      <td>2017-09-02</td>\n      <td>14</td>\n      <td>267</td>\n      <td>78</td>\n      <td>9</td>\n      <td>22</td>\n      <td>1</td>\n      <td>1</td>\n      <td>0</td>\n      <td>0</td>\n      <td>0</td>\n      <td>0</td>\n      <td>0</td>\n      <td>5</td>\n    </tr>\n    <tr>\n      <th>3</th>\n      <td>2017-09-02</td>\n      <td>0</td>\n      <td>37</td>\n      <td>69</td>\n      <td>9</td>\n      <td>22</td>\n      <td>0</td>\n      <td>0</td>\n      <td>0</td>\n      <td>0</td>\n      <td>0</td>\n      <td>1</td>\n      <td>0</td>\n      <td>5</td>\n    </tr>\n    <tr>\n      <th>4</th>\n      <td>2017-09-02</td>\n      <td>5</td>\n      <td>63</td>\n      <td>78</td>\n      <td>9</td>\n      <td>22</td>\n      <td>1</td>\n      <td>0</td>\n      <td>1</td>\n      <td>0</td>\n      <td>0</td>\n      <td>0</td>\n      <td>0</td>\n      <td>5</td>\n    </tr>\n    <tr>\n      <th>5</th>\n      <td>2017-09-02</td>\n      <td>4</td>\n      <td>45</td>\n      <td>69</td>\n      <td>9</td>\n      <td>22</td>\n      <td>0</td>\n      <td>0</td>\n      <td>0</td>\n      <td>0</td>\n      <td>1</td>\n      <td>0</td>\n      <td>0</td>\n      <td>5</td>\n    </tr>\n    <tr>\n      <th>6</th>\n      <td>2017-09-02</td>\n      <td>6</td>\n      <td>31</td>\n      <td>78</td>\n      <td>9</td>\n      <td>21</td>\n      <td>1</td>\n      <td>1</td>\n      <td>0</td>\n      <td>0</td>\n      <td>0</td>\n      <td>0</td>\n      <td>0</td>\n      <td>5</td>\n    </tr>\n    <tr>\n      <th>7</th>\n      <td>2017-09-02</td>\n      <td>12</td>\n      <td>248</td>\n      <td>78</td>\n      <td>9</td>\n      <td>21</td>\n      <td>1</td>\n      <td>0</td>\n      <td>0</td>\n      <td>0</td>\n      <td>1</td>\n      <td>0</td>\n      <td>0</td>\n      <td>5</td>\n    </tr>\n    <tr>\n      <th>8</th>\n      <td>2017-09-02</td>\n      <td>0</td>\n      <td>266</td>\n      <td>78</td>\n      <td>9</td>\n      <td>21</td>\n      <td>1</td>\n      <td>0</td>\n      <td>0</td>\n      <td>0</td>\n      <td>0</td>\n      <td>1</td>\n      <td>0</td>\n      <td>5</td>\n    </tr>\n    <tr>\n      <th>9</th>\n      <td>2017-09-02</td>\n      <td>5</td>\n      <td>15</td>\n      <td>69</td>\n      <td>9</td>\n      <td>21</td>\n      <td>0</td>\n      <td>0</td>\n      <td>1</td>\n      <td>0</td>\n      <td>0</td>\n      <td>0</td>\n      <td>0</td>\n      <td>5</td>\n    </tr>\n  </tbody>\n</table>\n</div>"
     },
     "execution_count": 145,
     "metadata": {},
     "output_type": "execute_result"
    }
   ],
   "source": [
    "df.head(10)"
   ],
   "metadata": {
    "collapsed": false,
    "pycharm": {
     "name": "#%%\n"
    }
   }
  },
  {
   "cell_type": "code",
   "execution_count": 148,
   "outputs": [],
   "source": [
    "df[\"Weekend\"] = (df[\"Weekday\"] > 4).astype(int)"
   ],
   "metadata": {
    "collapsed": false,
    "pycharm": {
     "name": "#%%\n"
    }
   }
  },
  {
   "cell_type": "code",
   "execution_count": 149,
   "outputs": [
    {
     "data": {
      "text/plain": "   CrimeDate  Description  Neighborhood  Premise  Month  Hour  \\\n0 2017-09-02           11            26       69      9    23   \n1 2017-09-02            3           213       78      9    23   \n2 2017-09-02           14           267       78      9    22   \n3 2017-09-02            0            37       69      9    22   \n4 2017-09-02            5            63       78      9    22   \n5 2017-09-02            4            45       69      9    22   \n6 2017-09-02            6            31       78      9    21   \n7 2017-09-02           12           248       78      9    21   \n8 2017-09-02            0           266       78      9    21   \n9 2017-09-02            5            15       69      9    21   \n\n   Inside/Outside_OUTSIDE  Weapon_FIREARM  Weapon_HANDS  Weapon_KNIFE  \\\n0                       0               0             0             1   \n1                       1               0             0             0   \n2                       1               1             0             0   \n3                       0               0             0             0   \n4                       1               0             1             0   \n5                       0               0             0             0   \n6                       1               1             0             0   \n7                       1               0             0             0   \n8                       1               0             0             0   \n9                       0               0             1             0   \n\n   Weapon_NONE  Weapon_OTHER  Holiday  Weekday  Weekend  \n0            0             0        0        5        1  \n1            1             0        0        5        1  \n2            0             0        0        5        1  \n3            0             1        0        5        1  \n4            0             0        0        5        1  \n5            1             0        0        5        1  \n6            0             0        0        5        1  \n7            1             0        0        5        1  \n8            0             1        0        5        1  \n9            0             0        0        5        1  ",
      "text/html": "<div>\n<style scoped>\n    .dataframe tbody tr th:only-of-type {\n        vertical-align: middle;\n    }\n\n    .dataframe tbody tr th {\n        vertical-align: top;\n    }\n\n    .dataframe thead th {\n        text-align: right;\n    }\n</style>\n<table border=\"1\" class=\"dataframe\">\n  <thead>\n    <tr style=\"text-align: right;\">\n      <th></th>\n      <th>CrimeDate</th>\n      <th>Description</th>\n      <th>Neighborhood</th>\n      <th>Premise</th>\n      <th>Month</th>\n      <th>Hour</th>\n      <th>Inside/Outside_OUTSIDE</th>\n      <th>Weapon_FIREARM</th>\n      <th>Weapon_HANDS</th>\n      <th>Weapon_KNIFE</th>\n      <th>Weapon_NONE</th>\n      <th>Weapon_OTHER</th>\n      <th>Holiday</th>\n      <th>Weekday</th>\n      <th>Weekend</th>\n    </tr>\n  </thead>\n  <tbody>\n    <tr>\n      <th>0</th>\n      <td>2017-09-02</td>\n      <td>11</td>\n      <td>26</td>\n      <td>69</td>\n      <td>9</td>\n      <td>23</td>\n      <td>0</td>\n      <td>0</td>\n      <td>0</td>\n      <td>1</td>\n      <td>0</td>\n      <td>0</td>\n      <td>0</td>\n      <td>5</td>\n      <td>1</td>\n    </tr>\n    <tr>\n      <th>1</th>\n      <td>2017-09-02</td>\n      <td>3</td>\n      <td>213</td>\n      <td>78</td>\n      <td>9</td>\n      <td>23</td>\n      <td>1</td>\n      <td>0</td>\n      <td>0</td>\n      <td>0</td>\n      <td>1</td>\n      <td>0</td>\n      <td>0</td>\n      <td>5</td>\n      <td>1</td>\n    </tr>\n    <tr>\n      <th>2</th>\n      <td>2017-09-02</td>\n      <td>14</td>\n      <td>267</td>\n      <td>78</td>\n      <td>9</td>\n      <td>22</td>\n      <td>1</td>\n      <td>1</td>\n      <td>0</td>\n      <td>0</td>\n      <td>0</td>\n      <td>0</td>\n      <td>0</td>\n      <td>5</td>\n      <td>1</td>\n    </tr>\n    <tr>\n      <th>3</th>\n      <td>2017-09-02</td>\n      <td>0</td>\n      <td>37</td>\n      <td>69</td>\n      <td>9</td>\n      <td>22</td>\n      <td>0</td>\n      <td>0</td>\n      <td>0</td>\n      <td>0</td>\n      <td>0</td>\n      <td>1</td>\n      <td>0</td>\n      <td>5</td>\n      <td>1</td>\n    </tr>\n    <tr>\n      <th>4</th>\n      <td>2017-09-02</td>\n      <td>5</td>\n      <td>63</td>\n      <td>78</td>\n      <td>9</td>\n      <td>22</td>\n      <td>1</td>\n      <td>0</td>\n      <td>1</td>\n      <td>0</td>\n      <td>0</td>\n      <td>0</td>\n      <td>0</td>\n      <td>5</td>\n      <td>1</td>\n    </tr>\n    <tr>\n      <th>5</th>\n      <td>2017-09-02</td>\n      <td>4</td>\n      <td>45</td>\n      <td>69</td>\n      <td>9</td>\n      <td>22</td>\n      <td>0</td>\n      <td>0</td>\n      <td>0</td>\n      <td>0</td>\n      <td>1</td>\n      <td>0</td>\n      <td>0</td>\n      <td>5</td>\n      <td>1</td>\n    </tr>\n    <tr>\n      <th>6</th>\n      <td>2017-09-02</td>\n      <td>6</td>\n      <td>31</td>\n      <td>78</td>\n      <td>9</td>\n      <td>21</td>\n      <td>1</td>\n      <td>1</td>\n      <td>0</td>\n      <td>0</td>\n      <td>0</td>\n      <td>0</td>\n      <td>0</td>\n      <td>5</td>\n      <td>1</td>\n    </tr>\n    <tr>\n      <th>7</th>\n      <td>2017-09-02</td>\n      <td>12</td>\n      <td>248</td>\n      <td>78</td>\n      <td>9</td>\n      <td>21</td>\n      <td>1</td>\n      <td>0</td>\n      <td>0</td>\n      <td>0</td>\n      <td>1</td>\n      <td>0</td>\n      <td>0</td>\n      <td>5</td>\n      <td>1</td>\n    </tr>\n    <tr>\n      <th>8</th>\n      <td>2017-09-02</td>\n      <td>0</td>\n      <td>266</td>\n      <td>78</td>\n      <td>9</td>\n      <td>21</td>\n      <td>1</td>\n      <td>0</td>\n      <td>0</td>\n      <td>0</td>\n      <td>0</td>\n      <td>1</td>\n      <td>0</td>\n      <td>5</td>\n      <td>1</td>\n    </tr>\n    <tr>\n      <th>9</th>\n      <td>2017-09-02</td>\n      <td>5</td>\n      <td>15</td>\n      <td>69</td>\n      <td>9</td>\n      <td>21</td>\n      <td>0</td>\n      <td>0</td>\n      <td>1</td>\n      <td>0</td>\n      <td>0</td>\n      <td>0</td>\n      <td>0</td>\n      <td>5</td>\n      <td>1</td>\n    </tr>\n  </tbody>\n</table>\n</div>"
     },
     "execution_count": 149,
     "metadata": {},
     "output_type": "execute_result"
    }
   ],
   "source": [
    "df.head(10)"
   ],
   "metadata": {
    "collapsed": false,
    "pycharm": {
     "name": "#%%\n"
    }
   }
  },
  {
   "cell_type": "code",
   "execution_count": 150,
   "outputs": [
    {
     "data": {
      "text/plain": "0"
     },
     "execution_count": 150,
     "metadata": {},
     "output_type": "execute_result"
    }
   ],
   "source": [
    "df[\"Weekend\"][57674]"
   ],
   "metadata": {
    "collapsed": false,
    "pycharm": {
     "name": "#%%\n"
    }
   }
  },
  {
   "cell_type": "code",
   "execution_count": 151,
   "outputs": [],
   "source": [
    "df = df.drop(columns=[\"Weekday\"])"
   ],
   "metadata": {
    "collapsed": false,
    "pycharm": {
     "name": "#%%\n"
    }
   }
  },
  {
   "cell_type": "code",
   "execution_count": 156,
   "outputs": [
    {
     "data": {
      "text/plain": "    CrimeDate  Description  Neighborhood  Premise  Month  Hour  Outside  \\\n0  2017-09-02           11            26       69      9    23        0   \n1  2017-09-02            3           213       78      9    23        1   \n2  2017-09-02           14           267       78      9    22        1   \n3  2017-09-02            0            37       69      9    22        0   \n4  2017-09-02            5            63       78      9    22        1   \n5  2017-09-02            4            45       69      9    22        0   \n6  2017-09-02            6            31       78      9    21        1   \n7  2017-09-02           12           248       78      9    21        1   \n8  2017-09-02            0           266       78      9    21        1   \n9  2017-09-02            5            15       69      9    21        0   \n10 2017-09-02            0           266       78      9    21        1   \n11 2017-09-02           10            72       68      9    20        0   \n12 2017-09-02            0           266       78      9    20        1   \n13 2017-09-02            8            87       89      9    20        1   \n14 2017-09-02            4           116       50      9    19        0   \n15 2017-09-02           14           183       78      9    18        1   \n16 2017-09-02            6           183       78      9    18        1   \n17 2017-09-02            5           148       78      9    18        1   \n18 2017-09-02            7           254       24      9    18        0   \n19 2017-09-02            4           253       69      9    17        0   \n\n    Weapon_FIREARM  Weapon_HANDS  Weapon_KNIFE  Weapon_NONE  Weapon_OTHER  \\\n0                0             0             1            0             0   \n1                0             0             0            1             0   \n2                1             0             0            0             0   \n3                0             0             0            0             1   \n4                0             1             0            0             0   \n5                0             0             0            1             0   \n6                1             0             0            0             0   \n7                0             0             0            1             0   \n8                0             0             0            0             1   \n9                0             1             0            0             0   \n10               0             0             0            0             1   \n11               1             0             0            0             0   \n12               0             0             0            0             1   \n13               0             0             0            1             0   \n14               0             0             0            1             0   \n15               1             0             0            0             0   \n16               1             0             0            0             0   \n17               0             1             0            0             0   \n18               0             0             0            1             0   \n19               0             0             0            1             0   \n\n    Holiday  Weekend  \n0         0        1  \n1         0        1  \n2         0        1  \n3         0        1  \n4         0        1  \n5         0        1  \n6         0        1  \n7         0        1  \n8         0        1  \n9         0        1  \n10        0        1  \n11        0        1  \n12        0        1  \n13        0        1  \n14        0        1  \n15        0        1  \n16        0        1  \n17        0        1  \n18        0        1  \n19        0        1  ",
      "text/html": "<div>\n<style scoped>\n    .dataframe tbody tr th:only-of-type {\n        vertical-align: middle;\n    }\n\n    .dataframe tbody tr th {\n        vertical-align: top;\n    }\n\n    .dataframe thead th {\n        text-align: right;\n    }\n</style>\n<table border=\"1\" class=\"dataframe\">\n  <thead>\n    <tr style=\"text-align: right;\">\n      <th></th>\n      <th>CrimeDate</th>\n      <th>Description</th>\n      <th>Neighborhood</th>\n      <th>Premise</th>\n      <th>Month</th>\n      <th>Hour</th>\n      <th>Outside</th>\n      <th>Weapon_FIREARM</th>\n      <th>Weapon_HANDS</th>\n      <th>Weapon_KNIFE</th>\n      <th>Weapon_NONE</th>\n      <th>Weapon_OTHER</th>\n      <th>Holiday</th>\n      <th>Weekend</th>\n    </tr>\n  </thead>\n  <tbody>\n    <tr>\n      <th>0</th>\n      <td>2017-09-02</td>\n      <td>11</td>\n      <td>26</td>\n      <td>69</td>\n      <td>9</td>\n      <td>23</td>\n      <td>0</td>\n      <td>0</td>\n      <td>0</td>\n      <td>1</td>\n      <td>0</td>\n      <td>0</td>\n      <td>0</td>\n      <td>1</td>\n    </tr>\n    <tr>\n      <th>1</th>\n      <td>2017-09-02</td>\n      <td>3</td>\n      <td>213</td>\n      <td>78</td>\n      <td>9</td>\n      <td>23</td>\n      <td>1</td>\n      <td>0</td>\n      <td>0</td>\n      <td>0</td>\n      <td>1</td>\n      <td>0</td>\n      <td>0</td>\n      <td>1</td>\n    </tr>\n    <tr>\n      <th>2</th>\n      <td>2017-09-02</td>\n      <td>14</td>\n      <td>267</td>\n      <td>78</td>\n      <td>9</td>\n      <td>22</td>\n      <td>1</td>\n      <td>1</td>\n      <td>0</td>\n      <td>0</td>\n      <td>0</td>\n      <td>0</td>\n      <td>0</td>\n      <td>1</td>\n    </tr>\n    <tr>\n      <th>3</th>\n      <td>2017-09-02</td>\n      <td>0</td>\n      <td>37</td>\n      <td>69</td>\n      <td>9</td>\n      <td>22</td>\n      <td>0</td>\n      <td>0</td>\n      <td>0</td>\n      <td>0</td>\n      <td>0</td>\n      <td>1</td>\n      <td>0</td>\n      <td>1</td>\n    </tr>\n    <tr>\n      <th>4</th>\n      <td>2017-09-02</td>\n      <td>5</td>\n      <td>63</td>\n      <td>78</td>\n      <td>9</td>\n      <td>22</td>\n      <td>1</td>\n      <td>0</td>\n      <td>1</td>\n      <td>0</td>\n      <td>0</td>\n      <td>0</td>\n      <td>0</td>\n      <td>1</td>\n    </tr>\n    <tr>\n      <th>5</th>\n      <td>2017-09-02</td>\n      <td>4</td>\n      <td>45</td>\n      <td>69</td>\n      <td>9</td>\n      <td>22</td>\n      <td>0</td>\n      <td>0</td>\n      <td>0</td>\n      <td>0</td>\n      <td>1</td>\n      <td>0</td>\n      <td>0</td>\n      <td>1</td>\n    </tr>\n    <tr>\n      <th>6</th>\n      <td>2017-09-02</td>\n      <td>6</td>\n      <td>31</td>\n      <td>78</td>\n      <td>9</td>\n      <td>21</td>\n      <td>1</td>\n      <td>1</td>\n      <td>0</td>\n      <td>0</td>\n      <td>0</td>\n      <td>0</td>\n      <td>0</td>\n      <td>1</td>\n    </tr>\n    <tr>\n      <th>7</th>\n      <td>2017-09-02</td>\n      <td>12</td>\n      <td>248</td>\n      <td>78</td>\n      <td>9</td>\n      <td>21</td>\n      <td>1</td>\n      <td>0</td>\n      <td>0</td>\n      <td>0</td>\n      <td>1</td>\n      <td>0</td>\n      <td>0</td>\n      <td>1</td>\n    </tr>\n    <tr>\n      <th>8</th>\n      <td>2017-09-02</td>\n      <td>0</td>\n      <td>266</td>\n      <td>78</td>\n      <td>9</td>\n      <td>21</td>\n      <td>1</td>\n      <td>0</td>\n      <td>0</td>\n      <td>0</td>\n      <td>0</td>\n      <td>1</td>\n      <td>0</td>\n      <td>1</td>\n    </tr>\n    <tr>\n      <th>9</th>\n      <td>2017-09-02</td>\n      <td>5</td>\n      <td>15</td>\n      <td>69</td>\n      <td>9</td>\n      <td>21</td>\n      <td>0</td>\n      <td>0</td>\n      <td>1</td>\n      <td>0</td>\n      <td>0</td>\n      <td>0</td>\n      <td>0</td>\n      <td>1</td>\n    </tr>\n    <tr>\n      <th>10</th>\n      <td>2017-09-02</td>\n      <td>0</td>\n      <td>266</td>\n      <td>78</td>\n      <td>9</td>\n      <td>21</td>\n      <td>1</td>\n      <td>0</td>\n      <td>0</td>\n      <td>0</td>\n      <td>0</td>\n      <td>1</td>\n      <td>0</td>\n      <td>1</td>\n    </tr>\n    <tr>\n      <th>11</th>\n      <td>2017-09-02</td>\n      <td>10</td>\n      <td>72</td>\n      <td>68</td>\n      <td>9</td>\n      <td>20</td>\n      <td>0</td>\n      <td>1</td>\n      <td>0</td>\n      <td>0</td>\n      <td>0</td>\n      <td>0</td>\n      <td>0</td>\n      <td>1</td>\n    </tr>\n    <tr>\n      <th>12</th>\n      <td>2017-09-02</td>\n      <td>0</td>\n      <td>266</td>\n      <td>78</td>\n      <td>9</td>\n      <td>20</td>\n      <td>1</td>\n      <td>0</td>\n      <td>0</td>\n      <td>0</td>\n      <td>0</td>\n      <td>1</td>\n      <td>0</td>\n      <td>1</td>\n    </tr>\n    <tr>\n      <th>13</th>\n      <td>2017-09-02</td>\n      <td>8</td>\n      <td>87</td>\n      <td>89</td>\n      <td>9</td>\n      <td>20</td>\n      <td>1</td>\n      <td>0</td>\n      <td>0</td>\n      <td>0</td>\n      <td>1</td>\n      <td>0</td>\n      <td>0</td>\n      <td>1</td>\n    </tr>\n    <tr>\n      <th>14</th>\n      <td>2017-09-02</td>\n      <td>4</td>\n      <td>116</td>\n      <td>50</td>\n      <td>9</td>\n      <td>19</td>\n      <td>0</td>\n      <td>0</td>\n      <td>0</td>\n      <td>0</td>\n      <td>1</td>\n      <td>0</td>\n      <td>0</td>\n      <td>1</td>\n    </tr>\n    <tr>\n      <th>15</th>\n      <td>2017-09-02</td>\n      <td>14</td>\n      <td>183</td>\n      <td>78</td>\n      <td>9</td>\n      <td>18</td>\n      <td>1</td>\n      <td>1</td>\n      <td>0</td>\n      <td>0</td>\n      <td>0</td>\n      <td>0</td>\n      <td>0</td>\n      <td>1</td>\n    </tr>\n    <tr>\n      <th>16</th>\n      <td>2017-09-02</td>\n      <td>6</td>\n      <td>183</td>\n      <td>78</td>\n      <td>9</td>\n      <td>18</td>\n      <td>1</td>\n      <td>1</td>\n      <td>0</td>\n      <td>0</td>\n      <td>0</td>\n      <td>0</td>\n      <td>0</td>\n      <td>1</td>\n    </tr>\n    <tr>\n      <th>17</th>\n      <td>2017-09-02</td>\n      <td>5</td>\n      <td>148</td>\n      <td>78</td>\n      <td>9</td>\n      <td>18</td>\n      <td>1</td>\n      <td>0</td>\n      <td>1</td>\n      <td>0</td>\n      <td>0</td>\n      <td>0</td>\n      <td>0</td>\n      <td>1</td>\n    </tr>\n    <tr>\n      <th>18</th>\n      <td>2017-09-02</td>\n      <td>7</td>\n      <td>254</td>\n      <td>24</td>\n      <td>9</td>\n      <td>18</td>\n      <td>0</td>\n      <td>0</td>\n      <td>0</td>\n      <td>0</td>\n      <td>1</td>\n      <td>0</td>\n      <td>0</td>\n      <td>1</td>\n    </tr>\n    <tr>\n      <th>19</th>\n      <td>2017-09-02</td>\n      <td>4</td>\n      <td>253</td>\n      <td>69</td>\n      <td>9</td>\n      <td>17</td>\n      <td>0</td>\n      <td>0</td>\n      <td>0</td>\n      <td>0</td>\n      <td>1</td>\n      <td>0</td>\n      <td>0</td>\n      <td>1</td>\n    </tr>\n  </tbody>\n</table>\n</div>"
     },
     "execution_count": 156,
     "metadata": {},
     "output_type": "execute_result"
    }
   ],
   "source": [
    "df.head(20)"
   ],
   "metadata": {
    "collapsed": false,
    "pycharm": {
     "name": "#%%\n"
    }
   }
  },
  {
   "cell_type": "code",
   "execution_count": 157,
   "outputs": [],
   "source": [
    "df.to_csv(\"../data/V2_BPD_CRIME_DATA_ENCODED.csv\")\n"
   ],
   "metadata": {
    "collapsed": false,
    "pycharm": {
     "name": "#%%\n"
    }
   }
  },
  {
   "cell_type": "code",
   "execution_count": 112,
   "outputs": [],
   "source": [
    "with open('../data/V2_Premise_decoder.csv', 'w') as f:\n",
    "    for key in Premise.keys():\n",
    "        f.write(\"%s,%s\\n\"%(key,Premise[key]))"
   ],
   "metadata": {
    "collapsed": false,
    "pycharm": {
     "name": "#%%\n"
    }
   }
  },
  {
   "cell_type": "code",
   "execution_count": 113,
   "outputs": [],
   "source": [
    "with open('../data/V2_Neighborhood_decoder.csv', 'w') as f:\n",
    "    for key in Neighborhood.keys():\n",
    "        f.write(\"%s,%s\\n\"%(key,Neighborhood[key]))"
   ],
   "metadata": {
    "collapsed": false,
    "pycharm": {
     "name": "#%%\n"
    }
   }
  },
  {
   "cell_type": "code",
   "execution_count": 119,
   "outputs": [],
   "source": [
    "with open('../data/V2_District_decoder.csv', 'w') as f:\n",
    "    for key in District.keys():\n",
    "        f.write(\"%s,%s\\n\"%(key,District[key]))"
   ],
   "metadata": {
    "collapsed": false,
    "pycharm": {
     "name": "#%%\n"
    }
   }
  },
  {
   "cell_type": "code",
   "execution_count": 120,
   "outputs": [],
   "source": [
    "with open('../data/V2_Description_decoder.csv', 'w') as f:\n",
    "    for key in Description.keys():\n",
    "        f.write(\"%s,%s\\n\"%(key,Description[key]))\n",
    "\n",
    "\n"
   ],
   "metadata": {
    "collapsed": false,
    "pycharm": {
     "name": "#%%\n"
    }
   }
  }
 ],
 "metadata": {
  "kernelspec": {
   "display_name": "Python 3",
   "language": "python",
   "name": "python3"
  },
  "language_info": {
   "codemirror_mode": {
    "name": "ipython",
    "version": 2
   },
   "file_extension": ".py",
   "mimetype": "text/x-python",
   "name": "python",
   "nbconvert_exporter": "python",
   "pygments_lexer": "ipython2",
   "version": "2.7.6"
  }
 },
 "nbformat": 4,
 "nbformat_minor": 0
}