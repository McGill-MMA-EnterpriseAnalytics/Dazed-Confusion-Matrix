{
 "cells": [
  {
   "cell_type": "markdown",
   "metadata": {},
   "source": [
    "# INSY695 - Group Project\n",
    "### Data Cleaning - Tiancheng Zhang"
   ]
  },
  {
   "cell_type": "code",
   "execution_count": 1,
   "metadata": {
    "ExecuteTime": {
     "end_time": "2021-02-18T16:07:55.478367Z",
     "start_time": "2021-02-18T16:07:54.281341Z"
    }
   },
   "outputs": [],
   "source": [
    "import numpy as np\n",
    "import pandas as pd\n",
    "import matplotlib.pyplot as plt\n",
    "import seaborn as sns\n",
    "\n",
    "import datetime"
   ]
  },
  {
   "cell_type": "code",
   "execution_count": 2,
   "metadata": {
    "ExecuteTime": {
     "end_time": "2021-02-18T16:07:56.227340Z",
     "start_time": "2021-02-18T16:07:55.512342Z"
    }
   },
   "outputs": [],
   "source": [
    "bpd_df = pd.read_csv('../data/BPD_CRIME_DATA.csv')"
   ]
  },
  {
   "cell_type": "code",
   "execution_count": 30,
   "metadata": {},
   "outputs": [
    {
     "data": {
      "text/plain": [
       "(276529, 15)"
      ]
     },
     "execution_count": 30,
     "metadata": {},
     "output_type": "execute_result"
    }
   ],
   "source": [
    "bpd_df.shape"
   ]
  },
  {
   "cell_type": "code",
   "execution_count": 31,
   "metadata": {
    "scrolled": true
   },
   "outputs": [
    {
     "name": "stdout",
     "output_type": "stream",
     "text": [
      "<class 'pandas.core.frame.DataFrame'>\n",
      "RangeIndex: 276529 entries, 0 to 276528\n",
      "Data columns (total 15 columns):\n",
      " #   Column           Non-Null Count   Dtype  \n",
      "---  ------           --------------   -----  \n",
      " 0   CrimeDate        276529 non-null  object \n",
      " 1   CrimeTime        276529 non-null  object \n",
      " 2   CrimeCode        276529 non-null  object \n",
      " 3   Location         274322 non-null  object \n",
      " 4   Description      276529 non-null  object \n",
      " 5   Inside/Outside   266250 non-null  object \n",
      " 6   Weapon           95577 non-null   object \n",
      " 7   Post             276305 non-null  float64\n",
      " 8   District         276449 non-null  object \n",
      " 9   Neighborhood     273789 non-null  object \n",
      " 10  Longitude        274325 non-null  float64\n",
      " 11  Latitude         274325 non-null  float64\n",
      " 12  Location 1       274325 non-null  object \n",
      " 13  Premise          265772 non-null  object \n",
      " 14  Total Incidents  276529 non-null  int64  \n",
      "dtypes: float64(3), int64(1), object(11)\n",
      "memory usage: 31.6+ MB\n"
     ]
    }
   ],
   "source": [
    "bpd_df.info()"
   ]
  },
  {
   "cell_type": "code",
   "execution_count": 32,
   "metadata": {
    "scrolled": true
   },
   "outputs": [
    {
     "data": {
      "text/html": [
       "<div>\n",
       "<style scoped>\n",
       "    .dataframe tbody tr th:only-of-type {\n",
       "        vertical-align: middle;\n",
       "    }\n",
       "\n",
       "    .dataframe tbody tr th {\n",
       "        vertical-align: top;\n",
       "    }\n",
       "\n",
       "    .dataframe thead th {\n",
       "        text-align: right;\n",
       "    }\n",
       "</style>\n",
       "<table border=\"1\" class=\"dataframe\">\n",
       "  <thead>\n",
       "    <tr style=\"text-align: right;\">\n",
       "      <th></th>\n",
       "      <th>CrimeDate</th>\n",
       "      <th>CrimeTime</th>\n",
       "      <th>CrimeCode</th>\n",
       "      <th>Location</th>\n",
       "      <th>Description</th>\n",
       "      <th>Inside/Outside</th>\n",
       "      <th>Weapon</th>\n",
       "      <th>Post</th>\n",
       "      <th>District</th>\n",
       "      <th>Neighborhood</th>\n",
       "      <th>Longitude</th>\n",
       "      <th>Latitude</th>\n",
       "      <th>Location 1</th>\n",
       "      <th>Premise</th>\n",
       "      <th>Total Incidents</th>\n",
       "    </tr>\n",
       "  </thead>\n",
       "  <tbody>\n",
       "    <tr>\n",
       "      <th>0</th>\n",
       "      <td>09/02/2017</td>\n",
       "      <td>23:30:00</td>\n",
       "      <td>3JK</td>\n",
       "      <td>4200 AUDREY AVE</td>\n",
       "      <td>ROBBERY - RESIDENCE</td>\n",
       "      <td>I</td>\n",
       "      <td>KNIFE</td>\n",
       "      <td>913.0</td>\n",
       "      <td>SOUTHERN</td>\n",
       "      <td>Brooklyn</td>\n",
       "      <td>-76.60541</td>\n",
       "      <td>39.22951</td>\n",
       "      <td>(39.2295100000, -76.6054100000)</td>\n",
       "      <td>ROW/TOWNHO</td>\n",
       "      <td>1</td>\n",
       "    </tr>\n",
       "    <tr>\n",
       "      <th>1</th>\n",
       "      <td>09/02/2017</td>\n",
       "      <td>23:00:00</td>\n",
       "      <td>7A</td>\n",
       "      <td>800 NEWINGTON AVE</td>\n",
       "      <td>AUTO THEFT</td>\n",
       "      <td>O</td>\n",
       "      <td>NaN</td>\n",
       "      <td>133.0</td>\n",
       "      <td>CENTRAL</td>\n",
       "      <td>Reservoir Hill</td>\n",
       "      <td>-76.63217</td>\n",
       "      <td>39.31360</td>\n",
       "      <td>(39.3136000000, -76.6321700000)</td>\n",
       "      <td>STREET</td>\n",
       "      <td>1</td>\n",
       "    </tr>\n",
       "    <tr>\n",
       "      <th>2</th>\n",
       "      <td>09/02/2017</td>\n",
       "      <td>22:53:00</td>\n",
       "      <td>9S</td>\n",
       "      <td>600 RADNOR AV</td>\n",
       "      <td>SHOOTING</td>\n",
       "      <td>Outside</td>\n",
       "      <td>FIREARM</td>\n",
       "      <td>524.0</td>\n",
       "      <td>NORTHERN</td>\n",
       "      <td>Winston-Govans</td>\n",
       "      <td>-76.60697</td>\n",
       "      <td>39.34768</td>\n",
       "      <td>(39.3476800000, -76.6069700000)</td>\n",
       "      <td>Street</td>\n",
       "      <td>1</td>\n",
       "    </tr>\n",
       "    <tr>\n",
       "      <th>3</th>\n",
       "      <td>09/02/2017</td>\n",
       "      <td>22:50:00</td>\n",
       "      <td>4C</td>\n",
       "      <td>1800 RAMSAY ST</td>\n",
       "      <td>AGG. ASSAULT</td>\n",
       "      <td>I</td>\n",
       "      <td>OTHER</td>\n",
       "      <td>934.0</td>\n",
       "      <td>SOUTHERN</td>\n",
       "      <td>Carrollton Ridge</td>\n",
       "      <td>-76.64526</td>\n",
       "      <td>39.28315</td>\n",
       "      <td>(39.2831500000, -76.6452600000)</td>\n",
       "      <td>ROW/TOWNHO</td>\n",
       "      <td>1</td>\n",
       "    </tr>\n",
       "    <tr>\n",
       "      <th>4</th>\n",
       "      <td>09/02/2017</td>\n",
       "      <td>22:31:00</td>\n",
       "      <td>4E</td>\n",
       "      <td>100 LIGHT ST</td>\n",
       "      <td>COMMON ASSAULT</td>\n",
       "      <td>O</td>\n",
       "      <td>HANDS</td>\n",
       "      <td>113.0</td>\n",
       "      <td>CENTRAL</td>\n",
       "      <td>Downtown West</td>\n",
       "      <td>-76.61365</td>\n",
       "      <td>39.28756</td>\n",
       "      <td>(39.2875600000, -76.6136500000)</td>\n",
       "      <td>STREET</td>\n",
       "      <td>1</td>\n",
       "    </tr>\n",
       "    <tr>\n",
       "      <th>5</th>\n",
       "      <td>09/02/2017</td>\n",
       "      <td>22:00:00</td>\n",
       "      <td>5A</td>\n",
       "      <td>CHERRYCREST RD</td>\n",
       "      <td>BURGLARY</td>\n",
       "      <td>I</td>\n",
       "      <td>NaN</td>\n",
       "      <td>922.0</td>\n",
       "      <td>SOUTHERN</td>\n",
       "      <td>Cherry Hill</td>\n",
       "      <td>-76.62131</td>\n",
       "      <td>39.24867</td>\n",
       "      <td>(39.2486700000, -76.6213100000)</td>\n",
       "      <td>ROW/TOWNHO</td>\n",
       "      <td>1</td>\n",
       "    </tr>\n",
       "    <tr>\n",
       "      <th>6</th>\n",
       "      <td>09/02/2017</td>\n",
       "      <td>21:15:00</td>\n",
       "      <td>1F</td>\n",
       "      <td>3400 HARMONY CT</td>\n",
       "      <td>HOMICIDE</td>\n",
       "      <td>Outside</td>\n",
       "      <td>FIREARM</td>\n",
       "      <td>232.0</td>\n",
       "      <td>SOUTHEASTERN</td>\n",
       "      <td>Canton</td>\n",
       "      <td>-76.56827</td>\n",
       "      <td>39.28202</td>\n",
       "      <td>(39.2820200000, -76.5682700000)</td>\n",
       "      <td>Street</td>\n",
       "      <td>1</td>\n",
       "    </tr>\n",
       "    <tr>\n",
       "      <th>7</th>\n",
       "      <td>09/02/2017</td>\n",
       "      <td>21:35:00</td>\n",
       "      <td>3B</td>\n",
       "      <td>400 W LANVALE ST</td>\n",
       "      <td>ROBBERY - STREET</td>\n",
       "      <td>O</td>\n",
       "      <td>NaN</td>\n",
       "      <td>123.0</td>\n",
       "      <td>CENTRAL</td>\n",
       "      <td>Upton</td>\n",
       "      <td>-76.62789</td>\n",
       "      <td>39.30254</td>\n",
       "      <td>(39.3025400000, -76.6278900000)</td>\n",
       "      <td>STREET</td>\n",
       "      <td>1</td>\n",
       "    </tr>\n",
       "    <tr>\n",
       "      <th>8</th>\n",
       "      <td>09/02/2017</td>\n",
       "      <td>21:00:00</td>\n",
       "      <td>4C</td>\n",
       "      <td>2300 LYNDHURST AVE</td>\n",
       "      <td>AGG. ASSAULT</td>\n",
       "      <td>O</td>\n",
       "      <td>OTHER</td>\n",
       "      <td>641.0</td>\n",
       "      <td>NORTHWESTERN</td>\n",
       "      <td>Windsor Hills</td>\n",
       "      <td>-76.68365</td>\n",
       "      <td>39.31370</td>\n",
       "      <td>(39.3137000000, -76.6836500000)</td>\n",
       "      <td>STREET</td>\n",
       "      <td>1</td>\n",
       "    </tr>\n",
       "    <tr>\n",
       "      <th>9</th>\n",
       "      <td>09/02/2017</td>\n",
       "      <td>21:00:00</td>\n",
       "      <td>4E</td>\n",
       "      <td>1200 N ELLWOOD AVE</td>\n",
       "      <td>COMMON ASSAULT</td>\n",
       "      <td>I</td>\n",
       "      <td>HANDS</td>\n",
       "      <td>332.0</td>\n",
       "      <td>EASTERN</td>\n",
       "      <td>Berea</td>\n",
       "      <td>-76.57419</td>\n",
       "      <td>39.30551</td>\n",
       "      <td>(39.3055100000, -76.5741900000)</td>\n",
       "      <td>ROW/TOWNHO</td>\n",
       "      <td>1</td>\n",
       "    </tr>\n",
       "  </tbody>\n",
       "</table>\n",
       "</div>"
      ],
      "text/plain": [
       "    CrimeDate CrimeTime CrimeCode            Location          Description  \\\n",
       "0  09/02/2017  23:30:00       3JK     4200 AUDREY AVE  ROBBERY - RESIDENCE   \n",
       "1  09/02/2017  23:00:00        7A   800 NEWINGTON AVE           AUTO THEFT   \n",
       "2  09/02/2017  22:53:00        9S       600 RADNOR AV             SHOOTING   \n",
       "3  09/02/2017  22:50:00        4C      1800 RAMSAY ST         AGG. ASSAULT   \n",
       "4  09/02/2017  22:31:00        4E        100 LIGHT ST       COMMON ASSAULT   \n",
       "5  09/02/2017  22:00:00        5A      CHERRYCREST RD             BURGLARY   \n",
       "6  09/02/2017  21:15:00        1F     3400 HARMONY CT             HOMICIDE   \n",
       "7  09/02/2017  21:35:00        3B    400 W LANVALE ST     ROBBERY - STREET   \n",
       "8  09/02/2017  21:00:00        4C  2300 LYNDHURST AVE         AGG. ASSAULT   \n",
       "9  09/02/2017  21:00:00        4E  1200 N ELLWOOD AVE       COMMON ASSAULT   \n",
       "\n",
       "  Inside/Outside   Weapon   Post      District      Neighborhood  Longitude  \\\n",
       "0              I    KNIFE  913.0      SOUTHERN          Brooklyn  -76.60541   \n",
       "1              O      NaN  133.0       CENTRAL    Reservoir Hill  -76.63217   \n",
       "2        Outside  FIREARM  524.0      NORTHERN    Winston-Govans  -76.60697   \n",
       "3              I    OTHER  934.0      SOUTHERN  Carrollton Ridge  -76.64526   \n",
       "4              O    HANDS  113.0       CENTRAL     Downtown West  -76.61365   \n",
       "5              I      NaN  922.0      SOUTHERN       Cherry Hill  -76.62131   \n",
       "6        Outside  FIREARM  232.0  SOUTHEASTERN            Canton  -76.56827   \n",
       "7              O      NaN  123.0       CENTRAL             Upton  -76.62789   \n",
       "8              O    OTHER  641.0  NORTHWESTERN     Windsor Hills  -76.68365   \n",
       "9              I    HANDS  332.0       EASTERN             Berea  -76.57419   \n",
       "\n",
       "   Latitude                       Location 1     Premise  Total Incidents  \n",
       "0  39.22951  (39.2295100000, -76.6054100000)  ROW/TOWNHO                1  \n",
       "1  39.31360  (39.3136000000, -76.6321700000)      STREET                1  \n",
       "2  39.34768  (39.3476800000, -76.6069700000)      Street                1  \n",
       "3  39.28315  (39.2831500000, -76.6452600000)  ROW/TOWNHO                1  \n",
       "4  39.28756  (39.2875600000, -76.6136500000)      STREET                1  \n",
       "5  39.24867  (39.2486700000, -76.6213100000)  ROW/TOWNHO                1  \n",
       "6  39.28202  (39.2820200000, -76.5682700000)      Street                1  \n",
       "7  39.30254  (39.3025400000, -76.6278900000)      STREET                1  \n",
       "8  39.31370  (39.3137000000, -76.6836500000)      STREET                1  \n",
       "9  39.30551  (39.3055100000, -76.5741900000)  ROW/TOWNHO                1  "
      ]
     },
     "execution_count": 32,
     "metadata": {},
     "output_type": "execute_result"
    }
   ],
   "source": [
    "bpd_df.head(10)"
   ]
  },
  {
   "cell_type": "markdown",
   "metadata": {},
   "source": [
    "## Dataset overview and ideas on cleaning, pre-processing and feature engineer\n",
    "\n",
    "**The dataset has 276,259 observations and 15 variables. Variables in <span style=\"color:red\">red</span> indicate the existence of missing values.**\n",
    "\n",
    "- Timestamp\n",
    " * CrimeDate: we first changed it to datetime, and then created/extracted new variables such as season and month from CrimeDate.\n",
    " * CrimeTime: we can extract/transform HourofTheDay\n",
    "- Categorical\n",
    " * CrimeCode: NEED A REFERENCE HERE\n",
    " * <span style=\"color:red\">Inside/Outside</span>: need to regroup \"I\" and \"O\" to \"Inside\" and \"Outside\" respectively.\n",
    " * <span style=\"color:red\">Weapon</span>: missing values account for $\\frac{2}{3}$ of the dataset, since it's a categorical variable, it will be hard to impute. By taking a further look at Weapon vs Description, we assume the NULL values stand for \"no weapon\", so we assign NULL values to \"None\".\n",
    " * District: rough geographical segmentation.\n",
    " * Neighborhood: administritive/geographical segmentation, can link to education level and housing price, etc\n",
    " * <span style=\"color:red\">Premise</span>: 123 different categories, top 5 most frequent are STREET,\n",
    "ROW/TOWNHO, \"PARKING LO\", \"APT/CONDO\", \"OTHER - IN\", which account for more than 80% of the dataset.\n",
    " \n",
    "- Numerical:\n",
    "    * Post: geographical/administration segmentation (reference:http://moit.baltimorecity.gov/sites/default/files/police_districts_w_posts.pdf)\n",
    "    * Longitude: useful for geographical analysis and visualization\n",
    "    * Latitude: useful for geographical analysis and visualization\n",
    "    * Location 1(DROPPED): provide same info as Longitude and Latitude, so we can probably drop this one.\n",
    "    * Total Incidents: all one column, can be dropped.\n",
    "    \n",
    " \n",
    "- Unstructure:\n",
    " * <span style=\"color:red\">Location</span>: suggest to drop.\n"
   ]
  },
  {
   "cell_type": "markdown",
   "metadata": {},
   "source": [
    "### Null Values"
   ]
  },
  {
   "cell_type": "code",
   "execution_count": 33,
   "metadata": {},
   "outputs": [
    {
     "data": {
      "text/html": [
       "<div>\n",
       "<style scoped>\n",
       "    .dataframe tbody tr th:only-of-type {\n",
       "        vertical-align: middle;\n",
       "    }\n",
       "\n",
       "    .dataframe tbody tr th {\n",
       "        vertical-align: top;\n",
       "    }\n",
       "\n",
       "    .dataframe thead th {\n",
       "        text-align: right;\n",
       "    }\n",
       "</style>\n",
       "<table border=\"1\" class=\"dataframe\">\n",
       "  <thead>\n",
       "    <tr style=\"text-align: right;\">\n",
       "      <th></th>\n",
       "      <th>Count</th>\n",
       "      <th>Proportion</th>\n",
       "    </tr>\n",
       "  </thead>\n",
       "  <tbody>\n",
       "    <tr>\n",
       "      <th>CrimeDate</th>\n",
       "      <td>0</td>\n",
       "      <td>0.000000</td>\n",
       "    </tr>\n",
       "    <tr>\n",
       "      <th>CrimeTime</th>\n",
       "      <td>0</td>\n",
       "      <td>0.000000</td>\n",
       "    </tr>\n",
       "    <tr>\n",
       "      <th>CrimeCode</th>\n",
       "      <td>0</td>\n",
       "      <td>0.000000</td>\n",
       "    </tr>\n",
       "    <tr>\n",
       "      <th>Location</th>\n",
       "      <td>2207</td>\n",
       "      <td>0.007981</td>\n",
       "    </tr>\n",
       "    <tr>\n",
       "      <th>Description</th>\n",
       "      <td>0</td>\n",
       "      <td>0.000000</td>\n",
       "    </tr>\n",
       "    <tr>\n",
       "      <th>Inside/Outside</th>\n",
       "      <td>10279</td>\n",
       "      <td>0.037172</td>\n",
       "    </tr>\n",
       "    <tr>\n",
       "      <th>Weapon</th>\n",
       "      <td>180952</td>\n",
       "      <td>0.654369</td>\n",
       "    </tr>\n",
       "    <tr>\n",
       "      <th>Post</th>\n",
       "      <td>224</td>\n",
       "      <td>0.000810</td>\n",
       "    </tr>\n",
       "    <tr>\n",
       "      <th>District</th>\n",
       "      <td>80</td>\n",
       "      <td>0.000289</td>\n",
       "    </tr>\n",
       "    <tr>\n",
       "      <th>Neighborhood</th>\n",
       "      <td>2740</td>\n",
       "      <td>0.009909</td>\n",
       "    </tr>\n",
       "    <tr>\n",
       "      <th>Longitude</th>\n",
       "      <td>2204</td>\n",
       "      <td>0.007970</td>\n",
       "    </tr>\n",
       "    <tr>\n",
       "      <th>Latitude</th>\n",
       "      <td>2204</td>\n",
       "      <td>0.007970</td>\n",
       "    </tr>\n",
       "    <tr>\n",
       "      <th>Location 1</th>\n",
       "      <td>2204</td>\n",
       "      <td>0.007970</td>\n",
       "    </tr>\n",
       "    <tr>\n",
       "      <th>Premise</th>\n",
       "      <td>10757</td>\n",
       "      <td>0.038900</td>\n",
       "    </tr>\n",
       "    <tr>\n",
       "      <th>Total Incidents</th>\n",
       "      <td>0</td>\n",
       "      <td>0.000000</td>\n",
       "    </tr>\n",
       "  </tbody>\n",
       "</table>\n",
       "</div>"
      ],
      "text/plain": [
       "                  Count  Proportion\n",
       "CrimeDate             0    0.000000\n",
       "CrimeTime             0    0.000000\n",
       "CrimeCode             0    0.000000\n",
       "Location           2207    0.007981\n",
       "Description           0    0.000000\n",
       "Inside/Outside    10279    0.037172\n",
       "Weapon           180952    0.654369\n",
       "Post                224    0.000810\n",
       "District             80    0.000289\n",
       "Neighborhood       2740    0.009909\n",
       "Longitude          2204    0.007970\n",
       "Latitude           2204    0.007970\n",
       "Location 1         2204    0.007970\n",
       "Premise           10757    0.038900\n",
       "Total Incidents       0    0.000000"
      ]
     },
     "execution_count": 33,
     "metadata": {},
     "output_type": "execute_result"
    }
   ],
   "source": [
    "null_count = bpd_df.isnull().sum()\n",
    "null_prop = null_count / len(bpd_df)\n",
    "pd.DataFrame({\n",
    "    'Count': null_count,\n",
    "    'Proportion': null_prop})"
   ]
  },
  {
   "cell_type": "markdown",
   "metadata": {},
   "source": [
    "### CrimeDate"
   ]
  },
  {
   "cell_type": "code",
   "execution_count": 34,
   "metadata": {},
   "outputs": [],
   "source": [
    "bpd_df.CrimeDate = pd.to_datetime(bpd_df.CrimeDate)"
   ]
  },
  {
   "cell_type": "code",
   "execution_count": 35,
   "metadata": {
    "scrolled": true
   },
   "outputs": [],
   "source": [
    "date = bpd_df.CrimeDate.dt.month*100 + bpd_df.CrimeDate.dt.day\n",
    "bpd_df['Season'] = (pd.cut(date,[0,321,620,922,1220,1300],\n",
    "                       labels=['winter','spring','summer','autumn','winter '])\n",
    "                  .str.strip()\n",
    "               )"
   ]
  },
  {
   "cell_type": "code",
   "execution_count": 36,
   "metadata": {
    "scrolled": true
   },
   "outputs": [
    {
     "data": {
      "text/plain": [
       "0         summer\n",
       "1         summer\n",
       "2         summer\n",
       "3         summer\n",
       "4         summer\n",
       "           ...  \n",
       "276524    winter\n",
       "276525    winter\n",
       "276526    winter\n",
       "276527    winter\n",
       "276528    winter\n",
       "Name: Season, Length: 276529, dtype: object"
      ]
     },
     "execution_count": 36,
     "metadata": {},
     "output_type": "execute_result"
    }
   ],
   "source": [
    "bpd_df['Season']"
   ]
  },
  {
   "cell_type": "code",
   "execution_count": 37,
   "metadata": {},
   "outputs": [],
   "source": [
    "bpd_df['Month'] = bpd_df.CrimeDate.dt.month"
   ]
  },
  {
   "cell_type": "markdown",
   "metadata": {},
   "source": [
    "### CrimeTime"
   ]
  },
  {
   "cell_type": "code",
   "execution_count": 38,
   "metadata": {},
   "outputs": [],
   "source": [
    "bpd_df['CrimeTime'] = [time if time != \"24:00:00\" else \"0:00:00\" for time in bpd_df['CrimeTime']]"
   ]
  },
  {
   "cell_type": "code",
   "execution_count": 39,
   "metadata": {
    "scrolled": true
   },
   "outputs": [],
   "source": [
    "bpd_df.CrimeTime = pd.to_datetime(bpd_df['CrimeTime'],format= '%H:%M:%S').dt.time"
   ]
  },
  {
   "cell_type": "code",
   "execution_count": 40,
   "metadata": {},
   "outputs": [
    {
     "data": {
      "text/plain": [
       "0         23:30:00\n",
       "1         23:00:00\n",
       "2         22:53:00\n",
       "3         22:50:00\n",
       "4         22:31:00\n",
       "            ...   \n",
       "276524    00:00:00\n",
       "276525    00:00:00\n",
       "276526    00:00:00\n",
       "276527    00:00:00\n",
       "276528    00:00:00\n",
       "Name: CrimeTime, Length: 276529, dtype: object"
      ]
     },
     "execution_count": 40,
     "metadata": {},
     "output_type": "execute_result"
    }
   ],
   "source": [
    "bpd_df.CrimeTime"
   ]
  },
  {
   "cell_type": "code",
   "execution_count": 41,
   "metadata": {
    "scrolled": true
   },
   "outputs": [],
   "source": [
    "bpd_df['Hour'] = [int(str(time)[:2]) for time in bpd_df.CrimeTime]"
   ]
  },
  {
   "cell_type": "markdown",
   "metadata": {},
   "source": [
    "### Inside/Outside"
   ]
  },
  {
   "cell_type": "code",
   "execution_count": 42,
   "metadata": {},
   "outputs": [
    {
     "data": {
      "text/plain": [
       "array(['I', 'O', 'Outside', nan, 'Inside'], dtype=object)"
      ]
     },
     "execution_count": 42,
     "metadata": {},
     "output_type": "execute_result"
    }
   ],
   "source": [
    "bpd_df['Inside/Outside'].unique()"
   ]
  },
  {
   "cell_type": "code",
   "execution_count": 43,
   "metadata": {},
   "outputs": [],
   "source": [
    "bpd_df['Inside/Outside'].value_counts()\n",
    "bpd_df['Inside/Outside'] = bpd_df['Inside/Outside'].replace('I', 'Inside')\n",
    "bpd_df['Inside/Outside'] = bpd_df['Inside/Outside'].replace('O', 'Outside')"
   ]
  },
  {
   "cell_type": "markdown",
   "metadata": {},
   "source": [
    "### Total Incidents"
   ]
  },
  {
   "cell_type": "code",
   "execution_count": 44,
   "metadata": {},
   "outputs": [
    {
     "data": {
      "text/plain": [
       "count    276529.0\n",
       "mean          1.0\n",
       "std           0.0\n",
       "min           1.0\n",
       "25%           1.0\n",
       "50%           1.0\n",
       "75%           1.0\n",
       "max           1.0\n",
       "Name: Total Incidents, dtype: float64"
      ]
     },
     "execution_count": 44,
     "metadata": {},
     "output_type": "execute_result"
    }
   ],
   "source": [
    "bpd_df['Total Incidents'].describe()"
   ]
  },
  {
   "cell_type": "markdown",
   "metadata": {},
   "source": [
    "### Premise"
   ]
  },
  {
   "cell_type": "code",
   "execution_count": 45,
   "metadata": {
    "scrolled": true
   },
   "outputs": [
    {
     "data": {
      "text/plain": [
       "STREET        100919\n",
       "ROW/TOWNHO     60502\n",
       "PARKING LO     12043\n",
       "APT/CONDO      12002\n",
       "OTHER - IN     11459\n",
       "               ...  \n",
       "MOBILE HOM         2\n",
       "Church             1\n",
       "Gas Statio         1\n",
       "MANUFACTUR         1\n",
       "Day Care F         1\n",
       "Name: Premise, Length: 123, dtype: int64"
      ]
     },
     "execution_count": 45,
     "metadata": {},
     "output_type": "execute_result"
    }
   ],
   "source": [
    "bpd_df['Premise'].value_counts()"
   ]
  },
  {
   "cell_type": "code",
   "execution_count": 46,
   "metadata": {},
   "outputs": [
    {
     "data": {
      "text/plain": [
       "array(['ROW/TOWNHO', 'STREET', 'Street', 'RETAIL/SMA', nan, 'YARD',\n",
       "       'OTHER - IN', 'CONVENIENC', 'OFFICE BUI', 'APT/CONDO',\n",
       "       'PARKING LO', 'LAUNDRY/CL', 'CARRY OUT', 'HOSP/NURS.',\n",
       "       'RESTAURANT', 'BAR', 'GARAGE ON', 'ALLEY', 'DRIVEWAY',\n",
       "       'PORCH/DECK', 'SHED/GARAG', 'TRACTOR TR', 'GAS STATIO',\n",
       "       'PLAYGROUND', 'BUS/AUTO', 'DRUG STORE', 'PARK', 'GROCERY/CO',\n",
       "       'CAR LOT-NE', 'SHOPPING M', 'LIQUOR STO', 'CHAIN FOOD',\n",
       "       'OTHER - OU', 'POLICE DEP', 'CLOTHING/S', 'YARD/BUSIN',\n",
       "       'SPECIALTY', 'POOL/BOWLI', 'INNER HARB', 'VACANT BUI', 'SCHOOL',\n",
       "       'OTHER/RESI', 'HOTEL/MOTE', 'DEPARTMENT', 'WAREHOUSE',\n",
       "       'BUS.  STOR', 'RELIGIOUS', 'Dwelling', 'TAVERN/NIG', 'APARTMENT',\n",
       "       'BARBER/BEA', 'SINGLE HOU', 'PUBLIC BUI', 'MINI STORA',\n",
       "       'FAST FOOD', 'DOCTORS OF', 'STADIUM', 'HOUSE UNDE', 'UNKNOWN',\n",
       "       'Alley', 'BUS/RAILRO', 'LIBRARY', 'CAR  REPAI', 'AUTO PARTS',\n",
       "       'CONSTRUCTI', 'Parking Lo', 'WHOLESALE/', 'Gas Statio', 'Vehicle',\n",
       "       'FIRE DEPAR', 'PUBLIC HOU', 'RACE TRACK', 'RECREATION',\n",
       "       'BUS. PARK', 'BANK/FINAN', 'Common Bus', 'MARKET STA', 'CEMETERY',\n",
       "       'BLDG UNDER', 'Hospital', 'FINANCE/LO', 'COURT HOUS', 'BAKERY',\n",
       "       'BOX CARS/C', 'Public Are', 'PAWN SHOP', 'BOAT/SHIP', 'VACANT LOT',\n",
       "       'CLUB HOUSE', 'HARDWARE/B', 'CONVENTION', 'MAILBOX-ST',\n",
       "       'SCHOOL PLA', 'SUBWAY', 'ARENA', 'CAB', 'Day Care F', 'Public Hou',\n",
       "       'PENITENTIA', 'APT. LOCKE', 'JEWELRY ST', 'MANUFACTUR',\n",
       "       'PIZZA/OTHE', 'THEATRE', 'ATM MACHIN', 'BRIDGE-PIE', 'Vacant Dwe',\n",
       "       'BOAT YARD', 'NIGHT DEPO', 'STRUCTURE-', 'SALESMAN/C',\n",
       "       'RENTAL/VID', 'LIGHT RAIL', 'Church', 'RAILROAD C', 'Garage',\n",
       "       'Public Sch', 'PHOTO STUD', 'UTILITIES-', 'MTA LOT', 'MOBILE HOM',\n",
       "       'SKYWALK', 'TRUCKING &', 'Private Sc'], dtype=object)"
      ]
     },
     "execution_count": 46,
     "metadata": {},
     "output_type": "execute_result"
    }
   ],
   "source": [
    "bpd_df['Premise'].unique()"
   ]
  },
  {
   "cell_type": "markdown",
   "metadata": {},
   "source": [
    "We notice we can group variables such as \"STREET\" and \"Street\" together."
   ]
  },
  {
   "cell_type": "code",
   "execution_count": 47,
   "metadata": {},
   "outputs": [],
   "source": [
    "bpd_df['Premise'] = bpd_df['Premise'].replace('Street', 'STREET')\n",
    "bpd_df['Premise'] = bpd_df['Premise'].replace('GARAGE ON', 'SHED/GARAGE')\n",
    "bpd_df['Premise'] = bpd_df['Premise'].replace('SHED/GARAG', 'SHED/GARAGE')   \n",
    "bpd_df['Premise'] = bpd_df['Premise'].replace('Garage', 'SHED/GARAGE')   \n",
    "                           \n"
   ]
  },
  {
   "cell_type": "markdown",
   "metadata": {},
   "source": [
    "### Weapon vs Description"
   ]
  },
  {
   "cell_type": "code",
   "execution_count": 48,
   "metadata": {
    "scrolled": true
   },
   "outputs": [
    {
     "data": {
      "text/plain": [
       "HANDS      48995\n",
       "FIREARM    22312\n",
       "OTHER      14620\n",
       "KNIFE       9650\n",
       "Name: Weapon, dtype: int64"
      ]
     },
     "execution_count": 48,
     "metadata": {},
     "output_type": "execute_result"
    }
   ],
   "source": [
    "bpd_df.Weapon.value_counts()"
   ]
  },
  {
   "cell_type": "code",
   "execution_count": 49,
   "metadata": {
    "scrolled": false
   },
   "outputs": [
    {
     "data": {
      "text/plain": [
       "array(['ROBBERY - RESIDENCE', 'AUTO THEFT', 'SHOOTING', 'AGG. ASSAULT',\n",
       "       'COMMON ASSAULT', 'BURGLARY', 'HOMICIDE', 'ROBBERY - STREET',\n",
       "       'ROBBERY - COMMERCIAL', 'LARCENY', 'LARCENY FROM AUTO', 'ARSON',\n",
       "       'ROBBERY - CARJACKING', 'ASSAULT BY THREAT', 'RAPE'], dtype=object)"
      ]
     },
     "execution_count": 49,
     "metadata": {},
     "output_type": "execute_result"
    }
   ],
   "source": [
    "bpd_df.Description.unique()"
   ]
  },
  {
   "cell_type": "code",
   "execution_count": 50,
   "metadata": {},
   "outputs": [
    {
     "name": "stderr",
     "output_type": "stream",
     "text": [
      "/Users/tuliprichard/anaconda3/lib/python3.7/site-packages/ipykernel_launcher.py:7: UserWarning: Matplotlib is currently using module://ipykernel.pylab.backend_inline, which is a non-GUI backend, so cannot show the figure.\n",
      "  import sys\n"
     ]
    },
    {
     "data": {
      "image/png": "[encoded data removed]",
      "text/plain": [
       "<Figure size 720x720 with 2 Axes>"
      ]
     },
     "metadata": {
      "needs_background": "light"
     },
     "output_type": "display_data"
    }
   ],
   "source": [
    "weapon_null = bpd_df[bpd_df['Weapon'].isnull()]\n",
    "\n",
    "fig, ax = plt.subplots(2,1)\n",
    "sns.countplot(y = bpd_df['Description'], ax = ax[0])\n",
    "sns.countplot(y = weapon_null['Description'], ax = ax[1])\n",
    "fig.set_size_inches(10,10)\n",
    "fig.show()"
   ]
  },
  {
   "cell_type": "markdown",
   "metadata": {},
   "source": [
    "By taking a further look at Weapon vs Description, we assume the NULL values stand for \"no weapon\", so we assign NULL values to \"None\"."
   ]
  },
  {
   "cell_type": "code",
   "execution_count": 51,
   "metadata": {},
   "outputs": [],
   "source": [
    "bpd_df['Weapon'] = bpd_df['Weapon'].fillna('NONE')"
   ]
  },
  {
   "cell_type": "code",
   "execution_count": 52,
   "metadata": {},
   "outputs": [],
   "source": [
    "bpd_df.to_csv('../data/BPD_CRIME_DATA_CLEAN.csv', index=False)\n",
    "bpd_df_clean = pd.read_csv('../data/BPD_CRIME_DATA_CLEAN.csv')"
   ]
  },
  {
   "cell_type": "code",
   "execution_count": 53,
   "metadata": {},
   "outputs": [
    {
     "data": {
      "text/html": [
       "<div>\n",
       "<style scoped>\n",
       "    .dataframe tbody tr th:only-of-type {\n",
       "        vertical-align: middle;\n",
       "    }\n",
       "\n",
       "    .dataframe tbody tr th {\n",
       "        vertical-align: top;\n",
       "    }\n",
       "\n",
       "    .dataframe thead th {\n",
       "        text-align: right;\n",
       "    }\n",
       "</style>\n",
       "<table border=\"1\" class=\"dataframe\">\n",
       "  <thead>\n",
       "    <tr style=\"text-align: right;\">\n",
       "      <th></th>\n",
       "      <th>CrimeDate</th>\n",
       "      <th>CrimeTime</th>\n",
       "      <th>CrimeCode</th>\n",
       "      <th>Location</th>\n",
       "      <th>Description</th>\n",
       "      <th>Inside/Outside</th>\n",
       "      <th>Weapon</th>\n",
       "      <th>Post</th>\n",
       "      <th>District</th>\n",
       "      <th>Neighborhood</th>\n",
       "      <th>Longitude</th>\n",
       "      <th>Latitude</th>\n",
       "      <th>Location 1</th>\n",
       "      <th>Premise</th>\n",
       "      <th>Total Incidents</th>\n",
       "      <th>Season</th>\n",
       "      <th>Month</th>\n",
       "      <th>Hour</th>\n",
       "    </tr>\n",
       "  </thead>\n",
       "  <tbody>\n",
       "    <tr>\n",
       "      <th>0</th>\n",
       "      <td>2017-09-02</td>\n",
       "      <td>23:30:00</td>\n",
       "      <td>3JK</td>\n",
       "      <td>4200 AUDREY AVE</td>\n",
       "      <td>ROBBERY - RESIDENCE</td>\n",
       "      <td>Inside</td>\n",
       "      <td>KNIFE</td>\n",
       "      <td>913.0</td>\n",
       "      <td>SOUTHERN</td>\n",
       "      <td>Brooklyn</td>\n",
       "      <td>-76.60541</td>\n",
       "      <td>39.22951</td>\n",
       "      <td>(39.2295100000, -76.6054100000)</td>\n",
       "      <td>ROW/TOWNHO</td>\n",
       "      <td>1</td>\n",
       "      <td>summer</td>\n",
       "      <td>9</td>\n",
       "      <td>23</td>\n",
       "    </tr>\n",
       "    <tr>\n",
       "      <th>1</th>\n",
       "      <td>2017-09-02</td>\n",
       "      <td>23:00:00</td>\n",
       "      <td>7A</td>\n",
       "      <td>800 NEWINGTON AVE</td>\n",
       "      <td>AUTO THEFT</td>\n",
       "      <td>Outside</td>\n",
       "      <td>NONE</td>\n",
       "      <td>133.0</td>\n",
       "      <td>CENTRAL</td>\n",
       "      <td>Reservoir Hill</td>\n",
       "      <td>-76.63217</td>\n",
       "      <td>39.31360</td>\n",
       "      <td>(39.3136000000, -76.6321700000)</td>\n",
       "      <td>STREET</td>\n",
       "      <td>1</td>\n",
       "      <td>summer</td>\n",
       "      <td>9</td>\n",
       "      <td>23</td>\n",
       "    </tr>\n",
       "    <tr>\n",
       "      <th>2</th>\n",
       "      <td>2017-09-02</td>\n",
       "      <td>22:53:00</td>\n",
       "      <td>9S</td>\n",
       "      <td>600 RADNOR AV</td>\n",
       "      <td>SHOOTING</td>\n",
       "      <td>Outside</td>\n",
       "      <td>FIREARM</td>\n",
       "      <td>524.0</td>\n",
       "      <td>NORTHERN</td>\n",
       "      <td>Winston-Govans</td>\n",
       "      <td>-76.60697</td>\n",
       "      <td>39.34768</td>\n",
       "      <td>(39.3476800000, -76.6069700000)</td>\n",
       "      <td>STREET</td>\n",
       "      <td>1</td>\n",
       "      <td>summer</td>\n",
       "      <td>9</td>\n",
       "      <td>22</td>\n",
       "    </tr>\n",
       "    <tr>\n",
       "      <th>3</th>\n",
       "      <td>2017-09-02</td>\n",
       "      <td>22:50:00</td>\n",
       "      <td>4C</td>\n",
       "      <td>1800 RAMSAY ST</td>\n",
       "      <td>AGG. ASSAULT</td>\n",
       "      <td>Inside</td>\n",
       "      <td>OTHER</td>\n",
       "      <td>934.0</td>\n",
       "      <td>SOUTHERN</td>\n",
       "      <td>Carrollton Ridge</td>\n",
       "      <td>-76.64526</td>\n",
       "      <td>39.28315</td>\n",
       "      <td>(39.2831500000, -76.6452600000)</td>\n",
       "      <td>ROW/TOWNHO</td>\n",
       "      <td>1</td>\n",
       "      <td>summer</td>\n",
       "      <td>9</td>\n",
       "      <td>22</td>\n",
       "    </tr>\n",
       "    <tr>\n",
       "      <th>4</th>\n",
       "      <td>2017-09-02</td>\n",
       "      <td>22:31:00</td>\n",
       "      <td>4E</td>\n",
       "      <td>100 LIGHT ST</td>\n",
       "      <td>COMMON ASSAULT</td>\n",
       "      <td>Outside</td>\n",
       "      <td>HANDS</td>\n",
       "      <td>113.0</td>\n",
       "      <td>CENTRAL</td>\n",
       "      <td>Downtown West</td>\n",
       "      <td>-76.61365</td>\n",
       "      <td>39.28756</td>\n",
       "      <td>(39.2875600000, -76.6136500000)</td>\n",
       "      <td>STREET</td>\n",
       "      <td>1</td>\n",
       "      <td>summer</td>\n",
       "      <td>9</td>\n",
       "      <td>22</td>\n",
       "    </tr>\n",
       "  </tbody>\n",
       "</table>\n",
       "</div>"
      ],
      "text/plain": [
       "    CrimeDate CrimeTime CrimeCode           Location          Description  \\\n",
       "0  2017-09-02  23:30:00       3JK    4200 AUDREY AVE  ROBBERY - RESIDENCE   \n",
       "1  2017-09-02  23:00:00        7A  800 NEWINGTON AVE           AUTO THEFT   \n",
       "2  2017-09-02  22:53:00        9S      600 RADNOR AV             SHOOTING   \n",
       "3  2017-09-02  22:50:00        4C     1800 RAMSAY ST         AGG. ASSAULT   \n",
       "4  2017-09-02  22:31:00        4E       100 LIGHT ST       COMMON ASSAULT   \n",
       "\n",
       "  Inside/Outside   Weapon   Post  District      Neighborhood  Longitude  \\\n",
       "0         Inside    KNIFE  913.0  SOUTHERN          Brooklyn  -76.60541   \n",
       "1        Outside     NONE  133.0   CENTRAL    Reservoir Hill  -76.63217   \n",
       "2        Outside  FIREARM  524.0  NORTHERN    Winston-Govans  -76.60697   \n",
       "3         Inside    OTHER  934.0  SOUTHERN  Carrollton Ridge  -76.64526   \n",
       "4        Outside    HANDS  113.0   CENTRAL     Downtown West  -76.61365   \n",
       "\n",
       "   Latitude                       Location 1     Premise  Total Incidents  \\\n",
       "0  39.22951  (39.2295100000, -76.6054100000)  ROW/TOWNHO                1   \n",
       "1  39.31360  (39.3136000000, -76.6321700000)      STREET                1   \n",
       "2  39.34768  (39.3476800000, -76.6069700000)      STREET                1   \n",
       "3  39.28315  (39.2831500000, -76.6452600000)  ROW/TOWNHO                1   \n",
       "4  39.28756  (39.2875600000, -76.6136500000)      STREET                1   \n",
       "\n",
       "   Season  Month  Hour  \n",
       "0  summer      9    23  \n",
       "1  summer      9    23  \n",
       "2  summer      9    22  \n",
       "3  summer      9    22  \n",
       "4  summer      9    22  "
      ]
     },
     "execution_count": 53,
     "metadata": {},
     "output_type": "execute_result"
    }
   ],
   "source": [
    "bpd_df_clean.head()"
   ]
  },
  {
   "cell_type": "code",
   "execution_count": null,
   "metadata": {},
   "outputs": [],
   "source": []
  }
 ],
 "metadata": {
  "hide_input": false,
  "kernelspec": {
   "display_name": "Python 3",
   "language": "python",
   "name": "python3"
  },
  "language_info": {
   "codemirror_mode": {
    "name": "ipython",
    "version": 3
   },
   "file_extension": ".py",
   "mimetype": "text/x-python",
   "name": "python",
   "nbconvert_exporter": "python",
   "pygments_lexer": "ipython3",
   "version": "3.7.7"
  },
  "toc": {
   "base_numbering": 1,
   "nav_menu": {},
   "number_sections": true,
   "sideBar": true,
   "skip_h1_title": false,
   "title_cell": "Table of Contents",
   "title_sidebar": "Contents",
   "toc_cell": false,
   "toc_position": {},
   "toc_section_display": true,
   "toc_window_display": false
  },
  "varInspector": {
   "cols": {
    "lenName": 16,
    "lenType": 16,
    "lenVar": 40
   },
   "kernels_config": {
    "python": {
     "delete_cmd_postfix": "",
     "delete_cmd_prefix": "del ",
     "library": "var_list.py",
     "varRefreshCmd": "print(var_dic_list())"
    },
    "r": {
     "delete_cmd_postfix": ") ",
     "delete_cmd_prefix": "rm(",
     "library": "var_list.r",
     "varRefreshCmd": "cat(var_dic_list()) "
    }
   },
   "types_to_exclude": [
    "module",
    "function",
    "builtin_function_or_method",
    "instance",
    "_Feature"
   ],
   "window_display": false
  }
 },
 "nbformat": 4,
 "nbformat_minor": 4
}
