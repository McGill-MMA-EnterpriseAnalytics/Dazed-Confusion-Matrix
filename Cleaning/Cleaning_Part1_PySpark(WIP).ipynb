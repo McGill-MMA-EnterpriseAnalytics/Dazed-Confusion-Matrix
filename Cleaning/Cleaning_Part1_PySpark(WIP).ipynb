{
 "cells": [
  {
   "cell_type": "markdown",
   "metadata": {},
   "source": [
    "### Cleaning using PySpark - Working in Progress\n",
    "#### Tiancheng Zhang"
   ]
  },
  {
   "cell_type": "code",
   "execution_count": 1,
   "metadata": {},
   "outputs": [],
   "source": [
    "# This is a data cleaning script without \"import pandas as pd\"!"
   ]
  },
  {
   "cell_type": "code",
   "execution_count": 11,
   "metadata": {},
   "outputs": [],
   "source": [
    "import pyspark\n",
    "from pyspark.sql import *\n",
    "from pyspark.sql import SparkSession\n",
    "import pyspark.sql.types\n",
    "from pyspark.sql.types import *\n",
    "import pyspark.sql.functions as F\n",
    "from pyspark.sql.functions import isnan, when, count, col\n",
    "\n",
    "from datetime import datetime as Date\n",
    "from pyspark.sql.dataframe import DataFrame"
   ]
  },
  {
   "cell_type": "code",
   "execution_count": 3,
   "metadata": {},
   "outputs": [],
   "source": [
    "#Create a SparkSession\n",
    "#.master('local[*]') specifies to use all cores on local machine\n",
    "spark = SparkSession.builder \\\n",
    "                    .master('local[*]') \\\n",
    "                    .config(\"spark-master\", \"local\") \\\n",
    "                    .appName('INSY695') \\\n",
    "                    .getOrCreate()"
   ]
  },
  {
   "cell_type": "code",
   "execution_count": 21,
   "metadata": {},
   "outputs": [],
   "source": [
    "#we specify the schema before loading the data, in this case it doesn't need to\n",
    "#detect the data type which makes the loading faster\n",
    "\n",
    "#Note that we load the date and time as strings and transform them\n",
    "#back to date and time once we dealt with the NUlls\n",
    "#since isnan() and col().isNull() doesn't seem to work with date\n",
    "bpd_schema = StructType([\n",
    "    # Define the name field\n",
    "    StructField('CrimeDate', StringType(), True), # Add the CrimeDate field\n",
    "    StructField('CrimeTime', StringType(), False), # Add the CrimeTime field\n",
    "    StructField('CrimeCode', StringType(), False), # Add the CrimeCode field\n",
    "    StructField('Location', StringType(), False), # Add the Location field\n",
    "    StructField('Description', StringType(), False), # Add the Description field\n",
    "    StructField('Inside/Outside', StringType(), False), # Add the Inside/Outside field\n",
    "    StructField('Weapon', StringType(), False), # Add the Weapon field\n",
    "    StructField('Post', FloatType(), False), # Add the Post field\n",
    "    StructField('District', StringType(), False), # Add the District field\n",
    "    StructField('Neighborhood', StringType(), False), # Add the Neighborhood field\n",
    "    StructField('Longitude', FloatType(), False), # Add the Longitude field\n",
    "    StructField('Latitude', FloatType(), False), # Add the Latitude field\n",
    "    StructField('Location 1', StringType(), False), # Add the Location 1 field\n",
    "    StructField('Premise', StringType(), False), # Add the Premise field\n",
    "    StructField('Total Incidents', IntegerType(), False) # Add the Total Incidents field\n",
    "])"
   ]
  },
  {
   "cell_type": "code",
   "execution_count": 22,
   "metadata": {},
   "outputs": [],
   "source": [
    "bpd_df = spark.read.csv('../DATA/BPD_CRIME_DATA.csv', header=True, dateFormat=\"dd/MM/yyyy\", schema=bpd_schema)"
   ]
  },
  {
   "cell_type": "code",
   "execution_count": 23,
   "metadata": {},
   "outputs": [
    {
     "data": {
      "text/html": [
       "<table border='1'>\n",
       "<tr><th>CrimeDate</th><th>CrimeTime</th><th>CrimeCode</th><th>Location</th><th>Description</th><th>Inside/Outside</th><th>Weapon</th><th>Post</th><th>District</th><th>Neighborhood</th><th>Longitude</th><th>Latitude</th><th>Location 1</th><th>Premise</th><th>Total Incidents</th></tr>\n",
       "<tr><td>09/02/2017</td><td>23:30:00</td><td>3JK</td><td>4200 AUDREY AVE</td><td>ROBBERY - RESIDENCE</td><td>I</td><td>KNIFE</td><td>913.0</td><td>SOUTHERN</td><td>Brooklyn</td><td>-76.60541</td><td>39.22951</td><td>(39.2295100000, -...</td><td>ROW/TOWNHO</td><td>1</td></tr>\n",
       "<tr><td>09/02/2017</td><td>23:00:00</td><td>7A</td><td>800 NEWINGTON AVE</td><td>AUTO THEFT</td><td>O</td><td>null</td><td>133.0</td><td>CENTRAL</td><td>Reservoir Hill</td><td>-76.63217</td><td>39.3136</td><td>(39.3136000000, -...</td><td>STREET</td><td>1</td></tr>\n",
       "<tr><td>09/02/2017</td><td>22:53:00</td><td>9S</td><td>600 RADNOR AV</td><td>SHOOTING</td><td>Outside</td><td>FIREARM</td><td>524.0</td><td>NORTHERN</td><td>Winston-Govans</td><td>-76.60697</td><td>39.34768</td><td>(39.3476800000, -...</td><td>Street</td><td>1</td></tr>\n",
       "<tr><td>09/02/2017</td><td>22:50:00</td><td>4C</td><td>1800 RAMSAY ST</td><td>AGG. ASSAULT</td><td>I</td><td>OTHER</td><td>934.0</td><td>SOUTHERN</td><td>Carrollton Ridge</td><td>-76.64526</td><td>39.28315</td><td>(39.2831500000, -...</td><td>ROW/TOWNHO</td><td>1</td></tr>\n",
       "<tr><td>09/02/2017</td><td>22:31:00</td><td>4E</td><td>100 LIGHT ST</td><td>COMMON ASSAULT</td><td>O</td><td>HANDS</td><td>113.0</td><td>CENTRAL</td><td>Downtown West</td><td>-76.61365</td><td>39.28756</td><td>(39.2875600000, -...</td><td>STREET</td><td>1</td></tr>\n",
       "<tr><td>09/02/2017</td><td>22:00:00</td><td>5A</td><td>CHERRYCREST RD</td><td>BURGLARY</td><td>I</td><td>null</td><td>922.0</td><td>SOUTHERN</td><td>Cherry Hill</td><td>-76.62131</td><td>39.24867</td><td>(39.2486700000, -...</td><td>ROW/TOWNHO</td><td>1</td></tr>\n",
       "<tr><td>09/02/2017</td><td>21:15:00</td><td>1F</td><td>3400 HARMONY CT</td><td>HOMICIDE</td><td>Outside</td><td>FIREARM</td><td>232.0</td><td>SOUTHEASTERN</td><td>Canton</td><td>-76.56827</td><td>39.28202</td><td>(39.2820200000, -...</td><td>Street</td><td>1</td></tr>\n",
       "<tr><td>09/02/2017</td><td>21:35:00</td><td>3B</td><td>400 W LANVALE ST</td><td>ROBBERY - STREET</td><td>O</td><td>null</td><td>123.0</td><td>CENTRAL</td><td>Upton</td><td>-76.62789</td><td>39.30254</td><td>(39.3025400000, -...</td><td>STREET</td><td>1</td></tr>\n",
       "<tr><td>09/02/2017</td><td>21:00:00</td><td>4C</td><td>2300 LYNDHURST AVE</td><td>AGG. ASSAULT</td><td>O</td><td>OTHER</td><td>641.0</td><td>NORTHWESTERN</td><td>Windsor Hills</td><td>-76.68365</td><td>39.3137</td><td>(39.3137000000, -...</td><td>STREET</td><td>1</td></tr>\n",
       "<tr><td>09/02/2017</td><td>21:00:00</td><td>4E</td><td>1200 N ELLWOOD AVE</td><td>COMMON ASSAULT</td><td>I</td><td>HANDS</td><td>332.0</td><td>EASTERN</td><td>Berea</td><td>-76.57419</td><td>39.30551</td><td>(39.3055100000, -...</td><td>ROW/TOWNHO</td><td>1</td></tr>\n",
       "<tr><td>09/02/2017</td><td>21:00:00</td><td>4C</td><td>2300 LYNDHURST AVE</td><td>AGG. ASSAULT</td><td>O</td><td>OTHER</td><td>641.0</td><td>NORTHWESTERN</td><td>Windsor Hills</td><td>-76.68365</td><td>39.3137</td><td>(39.3137000000, -...</td><td>STREET</td><td>1</td></tr>\n",
       "<tr><td>09/02/2017</td><td>20:56:00</td><td>3CF</td><td>3600 EDMONDSON AVE</td><td>ROBBERY - COMMERCIAL</td><td>I</td><td>FIREARM</td><td>844.0</td><td>SOUTHWESTERN</td><td>Edgewood</td><td>-76.67759</td><td>39.29402</td><td>(39.2940200000, -...</td><td>RETAIL/SMA</td><td>1</td></tr>\n",
       "<tr><td>09/02/2017</td><td>20:55:00</td><td>6C</td><td>5100 PARK HEIGHTS...</td><td>LARCENY</td><td>null</td><td>null</td><td>614.0</td><td>NORTHWESTERN</td><td>Central Park Heights</td><td>-76.67511</td><td>39.34861</td><td>(39.3486100000, -...</td><td>null</td><td>1</td></tr>\n",
       "<tr><td>09/02/2017</td><td>20:10:00</td><td>4C</td><td>3900 GWYNNS FALLS...</td><td>AGG. ASSAULT</td><td>O</td><td>OTHER</td><td>641.0</td><td>NORTHWESTERN</td><td>Windsor Hills</td><td>-76.68169</td><td>39.314</td><td>(39.3140000000, -...</td><td>STREET</td><td>1</td></tr>\n",
       "<tr><td>09/02/2017</td><td>20:00:00</td><td>6D</td><td>5500 SUMMERFIELD AVE</td><td>LARCENY FROM AUTO</td><td>O</td><td>null</td><td>444.0</td><td>NORTHEASTERN</td><td>Frankford</td><td>-76.5427</td><td>39.33288</td><td>(39.3328800000, -...</td><td>YARD</td><td>1</td></tr>\n",
       "<tr><td>09/02/2017</td><td>19:52:00</td><td>5D</td><td>2200 VAN DEMAN ST</td><td>BURGLARY</td><td>I</td><td>null</td><td>243.0</td><td>SOUTHEASTERN</td><td>Holabird Industri...</td><td>-76.53557</td><td>39.26533</td><td>(39.2653300000, -...</td><td>OTHER - IN</td><td>1</td></tr>\n",
       "<tr><td>09/02/2017</td><td>18:08:00</td><td>9S</td><td>1200 E LAFAYETTE AV</td><td>SHOOTING</td><td>Outside</td><td>FIREARM</td><td>343.0</td><td>EASTERN</td><td>Oliver</td><td>-76.60246</td><td>39.31038</td><td>(39.3103800000, -...</td><td>Street</td><td>1</td></tr>\n",
       "<tr><td>09/02/2017</td><td>18:08:00</td><td>1F</td><td>1200 E LAFAYETTE AV</td><td>HOMICIDE</td><td>Outside</td><td>FIREARM</td><td>343.0</td><td>EASTERN</td><td>Oliver</td><td>-76.60246</td><td>39.31038</td><td>(39.3103800000, -...</td><td>Street</td><td>1</td></tr>\n",
       "<tr><td>09/02/2017</td><td>18:16:00</td><td>4E</td><td>1000 N EUTAW ST</td><td>COMMON ASSAULT</td><td>O</td><td>HANDS</td><td>132.0</td><td>CENTRAL</td><td>Madison Park</td><td>-76.62256</td><td>39.30083</td><td>(39.3008300000, -...</td><td>STREET</td><td>1</td></tr>\n",
       "<tr><td>09/02/2017</td><td>18:00:00</td><td>6G</td><td>100 S BROADWAY</td><td>LARCENY</td><td>I</td><td>null</td><td>212.0</td><td>SOUTHEASTERN</td><td>Washington Hill</td><td>-76.5939</td><td>39.2902</td><td>(39.2902000000, -...</td><td>CONVENIENC</td><td>1</td></tr>\n",
       "</table>\n",
       "only showing top 20 rows\n"
      ],
      "text/plain": [
       "+----------+---------+---------+--------------------+--------------------+--------------+-------+-----+------------+--------------------+---------+--------+--------------------+----------+---------------+\n",
       "| CrimeDate|CrimeTime|CrimeCode|            Location|         Description|Inside/Outside| Weapon| Post|    District|        Neighborhood|Longitude|Latitude|          Location 1|   Premise|Total Incidents|\n",
       "+----------+---------+---------+--------------------+--------------------+--------------+-------+-----+------------+--------------------+---------+--------+--------------------+----------+---------------+\n",
       "|09/02/2017| 23:30:00|      3JK|     4200 AUDREY AVE| ROBBERY - RESIDENCE|             I|  KNIFE|913.0|    SOUTHERN|            Brooklyn|-76.60541|39.22951|(39.2295100000, -...|ROW/TOWNHO|              1|\n",
       "|09/02/2017| 23:00:00|       7A|   800 NEWINGTON AVE|          AUTO THEFT|             O|   null|133.0|     CENTRAL|      Reservoir Hill|-76.63217| 39.3136|(39.3136000000, -...|    STREET|              1|\n",
       "|09/02/2017| 22:53:00|       9S|       600 RADNOR AV|            SHOOTING|       Outside|FIREARM|524.0|    NORTHERN|      Winston-Govans|-76.60697|39.34768|(39.3476800000, -...|    Street|              1|\n",
       "|09/02/2017| 22:50:00|       4C|      1800 RAMSAY ST|        AGG. ASSAULT|             I|  OTHER|934.0|    SOUTHERN|    Carrollton Ridge|-76.64526|39.28315|(39.2831500000, -...|ROW/TOWNHO|              1|\n",
       "|09/02/2017| 22:31:00|       4E|        100 LIGHT ST|      COMMON ASSAULT|             O|  HANDS|113.0|     CENTRAL|       Downtown West|-76.61365|39.28756|(39.2875600000, -...|    STREET|              1|\n",
       "|09/02/2017| 22:00:00|       5A|      CHERRYCREST RD|            BURGLARY|             I|   null|922.0|    SOUTHERN|         Cherry Hill|-76.62131|39.24867|(39.2486700000, -...|ROW/TOWNHO|              1|\n",
       "|09/02/2017| 21:15:00|       1F|     3400 HARMONY CT|            HOMICIDE|       Outside|FIREARM|232.0|SOUTHEASTERN|              Canton|-76.56827|39.28202|(39.2820200000, -...|    Street|              1|\n",
       "|09/02/2017| 21:35:00|       3B|    400 W LANVALE ST|    ROBBERY - STREET|             O|   null|123.0|     CENTRAL|               Upton|-76.62789|39.30254|(39.3025400000, -...|    STREET|              1|\n",
       "|09/02/2017| 21:00:00|       4C|  2300 LYNDHURST AVE|        AGG. ASSAULT|             O|  OTHER|641.0|NORTHWESTERN|       Windsor Hills|-76.68365| 39.3137|(39.3137000000, -...|    STREET|              1|\n",
       "|09/02/2017| 21:00:00|       4E|  1200 N ELLWOOD AVE|      COMMON ASSAULT|             I|  HANDS|332.0|     EASTERN|               Berea|-76.57419|39.30551|(39.3055100000, -...|ROW/TOWNHO|              1|\n",
       "|09/02/2017| 21:00:00|       4C|  2300 LYNDHURST AVE|        AGG. ASSAULT|             O|  OTHER|641.0|NORTHWESTERN|       Windsor Hills|-76.68365| 39.3137|(39.3137000000, -...|    STREET|              1|\n",
       "|09/02/2017| 20:56:00|      3CF|  3600 EDMONDSON AVE|ROBBERY - COMMERCIAL|             I|FIREARM|844.0|SOUTHWESTERN|            Edgewood|-76.67759|39.29402|(39.2940200000, -...|RETAIL/SMA|              1|\n",
       "|09/02/2017| 20:55:00|       6C|5100 PARK HEIGHTS...|             LARCENY|          null|   null|614.0|NORTHWESTERN|Central Park Heights|-76.67511|39.34861|(39.3486100000, -...|      null|              1|\n",
       "|09/02/2017| 20:10:00|       4C|3900 GWYNNS FALLS...|        AGG. ASSAULT|             O|  OTHER|641.0|NORTHWESTERN|       Windsor Hills|-76.68169|  39.314|(39.3140000000, -...|    STREET|              1|\n",
       "|09/02/2017| 20:00:00|       6D|5500 SUMMERFIELD AVE|   LARCENY FROM AUTO|             O|   null|444.0|NORTHEASTERN|           Frankford| -76.5427|39.33288|(39.3328800000, -...|      YARD|              1|\n",
       "|09/02/2017| 19:52:00|       5D|   2200 VAN DEMAN ST|            BURGLARY|             I|   null|243.0|SOUTHEASTERN|Holabird Industri...|-76.53557|39.26533|(39.2653300000, -...|OTHER - IN|              1|\n",
       "|09/02/2017| 18:08:00|       9S| 1200 E LAFAYETTE AV|            SHOOTING|       Outside|FIREARM|343.0|     EASTERN|              Oliver|-76.60246|39.31038|(39.3103800000, -...|    Street|              1|\n",
       "|09/02/2017| 18:08:00|       1F| 1200 E LAFAYETTE AV|            HOMICIDE|       Outside|FIREARM|343.0|     EASTERN|              Oliver|-76.60246|39.31038|(39.3103800000, -...|    Street|              1|\n",
       "|09/02/2017| 18:16:00|       4E|     1000 N EUTAW ST|      COMMON ASSAULT|             O|  HANDS|132.0|     CENTRAL|        Madison Park|-76.62256|39.30083|(39.3008300000, -...|    STREET|              1|\n",
       "|09/02/2017| 18:00:00|       6G|      100 S BROADWAY|             LARCENY|             I|   null|212.0|SOUTHEASTERN|     Washington Hill| -76.5939| 39.2902|(39.2902000000, -...|CONVENIENC|              1|\n",
       "+----------+---------+---------+--------------------+--------------------+--------------+-------+-----+------------+--------------------+---------+--------+--------------------+----------+---------------+\n",
       "only showing top 20 rows"
      ]
     },
     "execution_count": 23,
     "metadata": {},
     "output_type": "execute_result"
    }
   ],
   "source": [
    "#This line allows to display the Dataframe\n",
    "spark.conf.set(\"spark.sql.repl.eagerEval.enabled\", True)\n",
    "bpd_df"
   ]
  },
  {
   "cell_type": "code",
   "execution_count": null,
   "metadata": {},
   "outputs": [],
   "source": []
  },
  {
   "cell_type": "markdown",
   "metadata": {},
   "source": [
    "#### We follow the same steps as we did in Cleaning_Part1.ipynb\n",
    "#### First, we count the NULL values in the dataset."
   ]
  },
  {
   "cell_type": "code",
   "execution_count": 24,
   "metadata": {
    "scrolled": true
   },
   "outputs": [
    {
     "data": {
      "text/html": [
       "<table border='1'>\n",
       "<tr><th>CrimeDate</th><th>CrimeTime</th><th>CrimeCode</th><th>Location</th><th>Description</th><th>Inside/Outside</th><th>Weapon</th><th>Post</th><th>District</th><th>Neighborhood</th><th>Longitude</th><th>Latitude</th><th>Location 1</th><th>Premise</th><th>Total Incidents</th></tr>\n",
       "<tr><td>0</td><td>0</td><td>0</td><td>2207</td><td>0</td><td>10279</td><td>180952</td><td>224</td><td>80</td><td>2740</td><td>2204</td><td>2204</td><td>2204</td><td>10757</td><td>0</td></tr>\n",
       "</table>\n"
      ],
      "text/plain": [
       "+---------+---------+---------+--------+-----------+--------------+------+----+--------+------------+---------+--------+----------+-------+---------------+\n",
       "|CrimeDate|CrimeTime|CrimeCode|Location|Description|Inside/Outside|Weapon|Post|District|Neighborhood|Longitude|Latitude|Location 1|Premise|Total Incidents|\n",
       "+---------+---------+---------+--------+-----------+--------------+------+----+--------+------------+---------+--------+----------+-------+---------------+\n",
       "|        0|        0|        0|    2207|          0|         10279|180952| 224|      80|        2740|     2204|    2204|      2204|  10757|              0|\n",
       "+---------+---------+---------+--------+-----------+--------------+------+----+--------+------------+---------+--------+----------+-------+---------------+"
      ]
     },
     "execution_count": 24,
     "metadata": {},
     "output_type": "execute_result"
    }
   ],
   "source": [
    "bpd_df.select([count(when(isnan(c) | col(c).isNull(), c)).alias(c) for c in bpd_df.columns])"
   ]
  },
  {
   "cell_type": "markdown",
   "metadata": {},
   "source": [
    "#### We drop the columns with repeated information."
   ]
  },
  {
   "cell_type": "code",
   "execution_count": 25,
   "metadata": {},
   "outputs": [],
   "source": [
    "columns_to_drop = ['CrimeCode', 'Location', 'Post', 'District', 'Location 1', 'Total Incidents']\n",
    "bpd_df = bpd_df.drop(*columns_to_drop)"
   ]
  },
  {
   "cell_type": "code",
   "execution_count": 26,
   "metadata": {
    "scrolled": true
   },
   "outputs": [],
   "source": [
    "#Modify the data type of CrimeDate and rename to Crime_Date\n",
    "bpd_df = bpd_df.withColumn('Crime_Date', F.from_unixtime(F.unix_timestamp('CrimeDate', 'dd/MM/yyyy')).cast(DateType()))\n",
    "bpd_df = bpd_df.drop(bpd_df.CrimeDate)\n",
    "\n",
    "#Modify the data type of CrimeTime and rename to Crime_Time\n",
    "bpd_df = bpd_df.withColumn('Crime_Time', F.from_unixtime(F.unix_timestamp('CrimeTime', 'HH:mm:ss')).cast(DateType()))\n",
    "bpd_df = bpd_df.drop(bpd_df.CrimeTime)"
   ]
  },
  {
   "cell_type": "code",
   "execution_count": null,
   "metadata": {},
   "outputs": [],
   "source": []
  },
  {
   "cell_type": "code",
   "execution_count": 31,
   "metadata": {},
   "outputs": [],
   "source": [
    "bpd_df.write.parquet('../DATA/BPD_CRIME_DATA_test.parquet')"
   ]
  },
  {
   "cell_type": "code",
   "execution_count": null,
   "metadata": {},
   "outputs": [],
   "source": []
  }
 ],
 "metadata": {
  "kernelspec": {
   "display_name": "Python 3",
   "language": "python",
   "name": "python3"
  },
  "language_info": {
   "codemirror_mode": {
    "name": "ipython",
    "version": 3
   },
   "file_extension": ".py",
   "mimetype": "text/x-python",
   "name": "python",
   "nbconvert_exporter": "python",
   "pygments_lexer": "ipython3",
   "version": "3.7.7"
  }
 },
 "nbformat": 4,
 "nbformat_minor": 4
}
