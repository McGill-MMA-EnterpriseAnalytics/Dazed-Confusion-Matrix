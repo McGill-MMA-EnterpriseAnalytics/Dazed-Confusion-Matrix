{
 "cells": [
  {
   "cell_type": "code",
   "execution_count": 284,
   "metadata": {},
   "outputs": [],
   "source": [
    "import pandas as pd\n",
    "import numpy as np"
   ]
  },
  {
   "cell_type": "code",
   "execution_count": 285,
   "metadata": {},
   "outputs": [],
   "source": [
    "data = pd.read_csv('/Users/samgreene/Downloads/911_calls_for_service.csv')"
   ]
  },
  {
   "cell_type": "code",
   "execution_count": 286,
   "metadata": {},
   "outputs": [
    {
     "data": {
      "text/html": [
       "<div>\n",
       "<style scoped>\n",
       "    .dataframe tbody tr th:only-of-type {\n",
       "        vertical-align: middle;\n",
       "    }\n",
       "\n",
       "    .dataframe tbody tr th {\n",
       "        vertical-align: top;\n",
       "    }\n",
       "\n",
       "    .dataframe thead th {\n",
       "        text-align: right;\n",
       "    }\n",
       "</style>\n",
       "<table border=\"1\" class=\"dataframe\">\n",
       "  <thead>\n",
       "    <tr style=\"text-align: right;\">\n",
       "      <th></th>\n",
       "      <th>Unnamed: 0</th>\n",
       "      <th>callDateTime</th>\n",
       "      <th>priority</th>\n",
       "      <th>district</th>\n",
       "      <th>description</th>\n",
       "      <th>callNumber</th>\n",
       "      <th>incidentLocation</th>\n",
       "      <th>location</th>\n",
       "    </tr>\n",
       "  </thead>\n",
       "  <tbody>\n",
       "    <tr>\n",
       "      <th>0</th>\n",
       "      <td>0</td>\n",
       "      <td>2015-07-13 10:41:00</td>\n",
       "      <td>Medium</td>\n",
       "      <td>CD</td>\n",
       "      <td>SEE TEXT</td>\n",
       "      <td>P151941002</td>\n",
       "      <td>0 N CALVERT ST</td>\n",
       "      <td>(39.2899299,-76.6123462)</td>\n",
       "    </tr>\n",
       "    <tr>\n",
       "      <th>1</th>\n",
       "      <td>1</td>\n",
       "      <td>2015-07-13 10:47:00</td>\n",
       "      <td>Medium</td>\n",
       "      <td>CD</td>\n",
       "      <td>911/NO  VOICE</td>\n",
       "      <td>P151941003</td>\n",
       "      <td>600 E FAYETTE ST</td>\n",
       "      <td>(39.2906737,-76.6071600)</td>\n",
       "    </tr>\n",
       "    <tr>\n",
       "      <th>2</th>\n",
       "      <td>2</td>\n",
       "      <td>2015-07-13 10:42:00</td>\n",
       "      <td>Medium</td>\n",
       "      <td>CD</td>\n",
       "      <td>911/NO  VOICE</td>\n",
       "      <td>P151941004</td>\n",
       "      <td>200 E BALTIMORE ST</td>\n",
       "      <td>(39.2898910,-76.6120720)</td>\n",
       "    </tr>\n",
       "    <tr>\n",
       "      <th>3</th>\n",
       "      <td>3</td>\n",
       "      <td>2015-07-13 10:45:00</td>\n",
       "      <td>Low</td>\n",
       "      <td>CD</td>\n",
       "      <td>PRKG COMPLAINT</td>\n",
       "      <td>P151941005</td>\n",
       "      <td>800 PARK AV</td>\n",
       "      <td>(39.2985163,-76.6184754)</td>\n",
       "    </tr>\n",
       "    <tr>\n",
       "      <th>4</th>\n",
       "      <td>4</td>\n",
       "      <td>2015-07-13 10:46:00</td>\n",
       "      <td>Medium</td>\n",
       "      <td>SW</td>\n",
       "      <td>AUTO THEFT</td>\n",
       "      <td>P151941006</td>\n",
       "      <td>3500 CLIFTON AV</td>\n",
       "      <td>(39.3112130,-76.6763150)</td>\n",
       "    </tr>\n",
       "  </tbody>\n",
       "</table>\n",
       "</div>"
      ],
      "text/plain": [
       "   Unnamed: 0         callDateTime priority district     description  \\\n",
       "0           0  2015-07-13 10:41:00   Medium       CD        SEE TEXT   \n",
       "1           1  2015-07-13 10:47:00   Medium       CD   911/NO  VOICE   \n",
       "2           2  2015-07-13 10:42:00   Medium       CD   911/NO  VOICE   \n",
       "3           3  2015-07-13 10:45:00      Low       CD  PRKG COMPLAINT   \n",
       "4           4  2015-07-13 10:46:00   Medium       SW      AUTO THEFT   \n",
       "\n",
       "   callNumber    incidentLocation                  location  \n",
       "0  P151941002      0 N CALVERT ST  (39.2899299,-76.6123462)  \n",
       "1  P151941003    600 E FAYETTE ST  (39.2906737,-76.6071600)  \n",
       "2  P151941004  200 E BALTIMORE ST  (39.2898910,-76.6120720)  \n",
       "3  P151941005         800 PARK AV  (39.2985163,-76.6184754)  \n",
       "4  P151941006     3500 CLIFTON AV  (39.3112130,-76.6763150)  "
      ]
     },
     "execution_count": 286,
     "metadata": {},
     "output_type": "execute_result"
    }
   ],
   "source": [
    "data.head()"
   ]
  },
  {
   "cell_type": "code",
   "execution_count": 287,
   "metadata": {},
   "outputs": [],
   "source": [
    "old_data = pd.read_csv('/Users/samgreene/Downloads/BPD_CRIME_DATA_CLEAN_ST.csv')"
   ]
  },
  {
   "cell_type": "code",
   "execution_count": 288,
   "metadata": {
    "scrolled": true
   },
   "outputs": [
    {
     "data": {
      "text/html": [
       "<div>\n",
       "<style scoped>\n",
       "    .dataframe tbody tr th:only-of-type {\n",
       "        vertical-align: middle;\n",
       "    }\n",
       "\n",
       "    .dataframe tbody tr th {\n",
       "        vertical-align: top;\n",
       "    }\n",
       "\n",
       "    .dataframe thead th {\n",
       "        text-align: right;\n",
       "    }\n",
       "</style>\n",
       "<table border=\"1\" class=\"dataframe\">\n",
       "  <thead>\n",
       "    <tr style=\"text-align: right;\">\n",
       "      <th></th>\n",
       "      <th>Unnamed: 0</th>\n",
       "      <th>Description</th>\n",
       "      <th>Inside/Outside</th>\n",
       "      <th>Weapon</th>\n",
       "      <th>Post</th>\n",
       "      <th>District</th>\n",
       "      <th>Neighborhood</th>\n",
       "      <th>Longitude</th>\n",
       "      <th>Latitude</th>\n",
       "      <th>Premise</th>\n",
       "      <th>Season</th>\n",
       "      <th>Month</th>\n",
       "      <th>Hour</th>\n",
       "      <th>Year</th>\n",
       "    </tr>\n",
       "  </thead>\n",
       "  <tbody>\n",
       "    <tr>\n",
       "      <th>0</th>\n",
       "      <td>0</td>\n",
       "      <td>ROBBERY - RESIDENCE</td>\n",
       "      <td>Inside</td>\n",
       "      <td>KNIFE</td>\n",
       "      <td>913.0</td>\n",
       "      <td>SOUTHERN</td>\n",
       "      <td>Brooklyn</td>\n",
       "      <td>-76.60541</td>\n",
       "      <td>39.22951</td>\n",
       "      <td>ROW/TOWNHO</td>\n",
       "      <td>summer</td>\n",
       "      <td>9</td>\n",
       "      <td>23</td>\n",
       "      <td>2017</td>\n",
       "    </tr>\n",
       "    <tr>\n",
       "      <th>1</th>\n",
       "      <td>1</td>\n",
       "      <td>AUTO THEFT</td>\n",
       "      <td>Outside</td>\n",
       "      <td>NONE</td>\n",
       "      <td>133.0</td>\n",
       "      <td>CENTRAL</td>\n",
       "      <td>Reservoir Hill</td>\n",
       "      <td>-76.63217</td>\n",
       "      <td>39.31360</td>\n",
       "      <td>STREET</td>\n",
       "      <td>summer</td>\n",
       "      <td>9</td>\n",
       "      <td>23</td>\n",
       "      <td>2017</td>\n",
       "    </tr>\n",
       "    <tr>\n",
       "      <th>2</th>\n",
       "      <td>2</td>\n",
       "      <td>SHOOTING</td>\n",
       "      <td>Outside</td>\n",
       "      <td>FIREARM</td>\n",
       "      <td>524.0</td>\n",
       "      <td>NORTHERN</td>\n",
       "      <td>Winston-Govans</td>\n",
       "      <td>-76.60697</td>\n",
       "      <td>39.34768</td>\n",
       "      <td>STREET</td>\n",
       "      <td>summer</td>\n",
       "      <td>9</td>\n",
       "      <td>22</td>\n",
       "      <td>2017</td>\n",
       "    </tr>\n",
       "    <tr>\n",
       "      <th>3</th>\n",
       "      <td>3</td>\n",
       "      <td>AGG. ASSAULT</td>\n",
       "      <td>Inside</td>\n",
       "      <td>OTHER</td>\n",
       "      <td>934.0</td>\n",
       "      <td>SOUTHERN</td>\n",
       "      <td>Carrollton Ridge</td>\n",
       "      <td>-76.64526</td>\n",
       "      <td>39.28315</td>\n",
       "      <td>ROW/TOWNHO</td>\n",
       "      <td>summer</td>\n",
       "      <td>9</td>\n",
       "      <td>22</td>\n",
       "      <td>2017</td>\n",
       "    </tr>\n",
       "    <tr>\n",
       "      <th>4</th>\n",
       "      <td>4</td>\n",
       "      <td>COMMON ASSAULT</td>\n",
       "      <td>Outside</td>\n",
       "      <td>HANDS</td>\n",
       "      <td>113.0</td>\n",
       "      <td>CENTRAL</td>\n",
       "      <td>Downtown West</td>\n",
       "      <td>-76.61365</td>\n",
       "      <td>39.28756</td>\n",
       "      <td>STREET</td>\n",
       "      <td>summer</td>\n",
       "      <td>9</td>\n",
       "      <td>22</td>\n",
       "      <td>2017</td>\n",
       "    </tr>\n",
       "  </tbody>\n",
       "</table>\n",
       "</div>"
      ],
      "text/plain": [
       "   Unnamed: 0          Description Inside/Outside   Weapon   Post  District  \\\n",
       "0           0  ROBBERY - RESIDENCE         Inside    KNIFE  913.0  SOUTHERN   \n",
       "1           1           AUTO THEFT        Outside     NONE  133.0   CENTRAL   \n",
       "2           2             SHOOTING        Outside  FIREARM  524.0  NORTHERN   \n",
       "3           3         AGG. ASSAULT         Inside    OTHER  934.0  SOUTHERN   \n",
       "4           4       COMMON ASSAULT        Outside    HANDS  113.0   CENTRAL   \n",
       "\n",
       "       Neighborhood  Longitude  Latitude     Premise  Season  Month  Hour  \\\n",
       "0          Brooklyn  -76.60541  39.22951  ROW/TOWNHO  summer      9    23   \n",
       "1    Reservoir Hill  -76.63217  39.31360      STREET  summer      9    23   \n",
       "2    Winston-Govans  -76.60697  39.34768      STREET  summer      9    22   \n",
       "3  Carrollton Ridge  -76.64526  39.28315  ROW/TOWNHO  summer      9    22   \n",
       "4     Downtown West  -76.61365  39.28756      STREET  summer      9    22   \n",
       "\n",
       "   Year  \n",
       "0  2017  \n",
       "1  2017  \n",
       "2  2017  \n",
       "3  2017  \n",
       "4  2017  "
      ]
     },
     "execution_count": 288,
     "metadata": {},
     "output_type": "execute_result"
    }
   ],
   "source": [
    "old_data.head()"
   ]
  },
  {
   "cell_type": "code",
   "execution_count": 289,
   "metadata": {},
   "outputs": [],
   "source": [
    "csas = housing['CSA2010'].to_list()"
   ]
  },
  {
   "cell_type": "code",
   "execution_count": 290,
   "metadata": {},
   "outputs": [],
   "source": [
    "def csa(hood):\n",
    "    areas = []\n",
    "    for csa in csas:\n",
    "        if hood in str(csa):\n",
    "            area = csa\n",
    "        else:\n",
    "            area = None\n",
    "        areas.append(area)\n",
    "    CSA = next((x for x in areas if x is not None), None)\n",
    "    return CSA"
   ]
  },
  {
   "cell_type": "code",
   "execution_count": 291,
   "metadata": {},
   "outputs": [],
   "source": [
    "old_data['CSA'] = old_data['Neighborhood'].apply(csa)"
   ]
  },
  {
   "cell_type": "code",
   "execution_count": 292,
   "metadata": {},
   "outputs": [
    {
     "data": {
      "text/plain": [
       "Downtown/Seton Hill                      9603\n",
       "Cedonia/Frankford                        6850\n",
       "Sandtown-Winchester/Harlem Park          6305\n",
       "Brooklyn/Curtis Bay/Hawkins Point        6291\n",
       "Belair-Edison                            5722\n",
       "Inner Harbor/Federal Hill                4695\n",
       "Medfield/Hampden/Woodberry/Remington     4430\n",
       "Upton/Druid Heights                      4353\n",
       "Penn North/Reservoir Hill                3952\n",
       "Cherry Hill                              3932\n",
       "Canton                                   3653\n",
       "Greater Charles Village/Barclay          3640\n",
       "Howard Park/West Arlington               3479\n",
       "Fells Point                              3218\n",
       "Washington Village/Pigtown               3119\n",
       "Greater Mondawmin                        3104\n",
       "Morrell Park/Violetville                 2869\n",
       "Westport/Mount Winans/Lakeland           2847\n",
       "Poppleton/The Terraces/Hollins Market    2786\n",
       "Allendale/Irvington/S. Hilton            2733\n",
       "Glen-Fallstaff                           2441\n",
       "Oldtown/Middle East                      2275\n",
       "Highlandtown                             1777\n",
       "Forest Park/Walbrook                     1587\n",
       "Dorchester/Ashburton                     1535\n",
       "North Baltimore/Guilford/Homeland        1493\n",
       "Beechfield/Ten Hills/West Hills          1490\n",
       "Loch Raven                               1465\n",
       "Clifton-Berea                            1332\n",
       "Mount Washington/Coldspring              1137\n",
       "Greater Rosemont                         1099\n",
       "Lauraville                               1095\n",
       "Edmondson Village                         964\n",
       "South Baltimore                           926\n",
       "Harbor East/Little Italy                  762\n",
       "Greater Roland Park/Poplar Hill           694\n",
       "Cross-Country/Cheswolde                   679\n",
       "Chinquapin Park/Belvedere                 676\n",
       "Dickeyville/Franklintown                  373\n",
       "Orangeville/East Highlandtown             358\n",
       "Patterson Park North & East               254\n",
       "Name: CSA, dtype: int64"
      ]
     },
     "execution_count": 292,
     "metadata": {},
     "output_type": "execute_result"
    }
   ],
   "source": [
    "old_data['CSA'].value_counts()"
   ]
  },
  {
   "cell_type": "code",
   "execution_count": 293,
   "metadata": {},
   "outputs": [
    {
     "data": {
      "text/plain": [
       "Unnamed: 0             0\n",
       "Description            0\n",
       "Inside/Outside         0\n",
       "Weapon                 0\n",
       "Post                   0\n",
       "District               0\n",
       "Neighborhood           0\n",
       "Longitude              0\n",
       "Latitude               0\n",
       "Premise                0\n",
       "Season                 0\n",
       "Month                  0\n",
       "Hour                   0\n",
       "Year                   0\n",
       "CSA               151128\n",
       "dtype: int64"
      ]
     },
     "execution_count": 293,
     "metadata": {},
     "output_type": "execute_result"
    }
   ],
   "source": [
    "old_data.isnull().sum(axis = 0)"
   ]
  },
  {
   "cell_type": "code",
   "execution_count": 294,
   "metadata": {},
   "outputs": [
    {
     "data": {
      "text/plain": [
       "0.5743669262430593"
      ]
     },
     "execution_count": 294,
     "metadata": {},
     "output_type": "execute_result"
    }
   ],
   "source": [
    "151128/263121"
   ]
  },
  {
   "cell_type": "code",
   "execution_count": 295,
   "metadata": {},
   "outputs": [
    {
     "data": {
      "text/plain": [
       "2013    47921\n",
       "2016    47827\n",
       "2012    47765\n",
       "2015    47702\n",
       "2014    44905\n",
       "2017    27001\n",
       "Name: Year, dtype: int64"
      ]
     },
     "execution_count": 295,
     "metadata": {},
     "output_type": "execute_result"
    }
   ],
   "source": [
    "old_data['Year'].value_counts()"
   ]
  },
  {
   "cell_type": "code",
   "execution_count": 296,
   "metadata": {},
   "outputs": [],
   "source": [
    "def year(Year):\n",
    "    yr = '20' + str(Year[-2]) + str (Year[-1])\n",
    "    return int(yr)"
   ]
  },
  {
   "cell_type": "code",
   "execution_count": 297,
   "metadata": {},
   "outputs": [
    {
     "data": {
      "text/plain": [
       "2015"
      ]
     },
     "execution_count": 297,
     "metadata": {},
     "output_type": "execute_result"
    }
   ],
   "source": [
    "year('hhpov15')"
   ]
  },
  {
   "cell_type": "code",
   "execution_count": 298,
   "metadata": {},
   "outputs": [],
   "source": [
    "def clean_demo(df):\n",
    "    cols = df.columns.to_list()\n",
    "    \n",
    "    beg = cols.index(\"CSA2010\")\n",
    "    end = cols.index(\"Shape__Area\")\n",
    "    \n",
    "    val_vars = cols[beg+1:end]\n",
    "    \n",
    "    df1=df.melt(id_vars = ['CSA2010'],\n",
    "                value_vars = val_vars,\n",
    "                var_name = 'Year',\n",
    "                value_name = val_vars[0][0:4])\n",
    "    \n",
    "    df1['Year'] = df1['Year'].apply(year)\n",
    "    \n",
    "    return df1\n",
    "\n",
    "def clean_demo_housing(df):\n",
    "    cols = df.columns.to_list()\n",
    "    \n",
    "    beg = cols.index(\"CSA2010\")\n",
    "    end = cols.index(\"SHAPE_Length\")\n",
    "    \n",
    "    val_vars = cols[beg+1:end]\n",
    "    \n",
    "    df1=df.melt(id_vars = ['CSA2010'],\n",
    "                value_vars = val_vars,\n",
    "                var_name = 'Year',\n",
    "                value_name = val_vars[0][0:4])\n",
    "    \n",
    "    df1['Year'] = df1['Year'].apply(year)\n",
    "    \n",
    "    return df1"
   ]
  },
  {
   "cell_type": "code",
   "execution_count": 299,
   "metadata": {},
   "outputs": [],
   "source": [
    "income = pd.read_csv('/Users/samgreene/Desktop/Baltimore Demo Data/Median_Household_Income.csv')\n",
    "poverty = pd.read_csv('/Users/samgreene/Desktop/Baltimore Demo Data/Percent_of_Family_Households_Living_Below_the_Poverty_Line.csv')\n",
    "perc18_24 = pd.read_csv('/Users/samgreene/Desktop/Baltimore Demo Data/Percent_of_Population_18-24_Years_old.csv')\n",
    "perc25_64 = pd.read_csv('/Users/samgreene/Desktop/Baltimore Demo Data/Percent_of_Population_25-64_Years_old.csv')\n",
    "perc65up = pd.read_csv('/Users/samgreene/Desktop/Baltimore Demo Data/Percent_of_Population_65_Years_and_over.csv')\n",
    "perc_asian = pd.read_csv('/Users/samgreene/Desktop/Baltimore Demo Data/Percent_of_Residents_-_Asian_(Non-Hispanic).csv')\n",
    "perc_aa = pd.read_csv('/Users/samgreene/Desktop/Baltimore Demo Data/Percent_of_Residents_-_Black_African-American_(Non-Hispanic).csv')\n",
    "perc_hispanic = pd.read_csv('/Users/samgreene/Desktop/Baltimore Demo Data/Percent_of_Residents_-_Hispanic.csv')\n",
    "perc_white = pd.read_csv('/Users/samgreene/Desktop/Baltimore Demo Data/Percent_of_Residents_-_White_Caucasian_(Non-Hispanic).csv')\n",
    "households = pd.read_csv('/Users/samgreene/Desktop/Baltimore Demo Data/Total_Number_of_Households.csv')\n",
    "housing = pd.read_csv('/Users/samgreene/Desktop/Baltimore Demo Data/Median_Price_of_Homes_Sold.csv')"
   ]
  },
  {
   "cell_type": "code",
   "execution_count": 300,
   "metadata": {},
   "outputs": [],
   "source": [
    "income = clean_demo(income)\n",
    "poverty = clean_demo(poverty)\n",
    "perc18_24 = clean_demo(perc18_24)\n",
    "perc25_64 = clean_demo(perc25_64)\n",
    "perc65up = clean_demo(perc65up)\n",
    "perc_asian = clean_demo(perc_asian)\n",
    "perc_aa = clean_demo(perc_aa)\n",
    "perc_hispanic = clean_demo(perc_hispanic)\n",
    "perc_white = clean_demo(perc_white)\n",
    "households = clean_demo(households)\n",
    "housing = clean_demo_housing(housing)"
   ]
  },
  {
   "cell_type": "code",
   "execution_count": 301,
   "metadata": {},
   "outputs": [
    {
     "data": {
      "text/html": [
       "<div>\n",
       "<style scoped>\n",
       "    .dataframe tbody tr th:only-of-type {\n",
       "        vertical-align: middle;\n",
       "    }\n",
       "\n",
       "    .dataframe tbody tr th {\n",
       "        vertical-align: top;\n",
       "    }\n",
       "\n",
       "    .dataframe thead th {\n",
       "        text-align: right;\n",
       "    }\n",
       "</style>\n",
       "<table border=\"1\" class=\"dataframe\">\n",
       "  <thead>\n",
       "    <tr style=\"text-align: right;\">\n",
       "      <th></th>\n",
       "      <th>Unnamed: 0</th>\n",
       "      <th>Description</th>\n",
       "      <th>Inside/Outside</th>\n",
       "      <th>Weapon</th>\n",
       "      <th>Post</th>\n",
       "      <th>District</th>\n",
       "      <th>Neighborhood</th>\n",
       "      <th>Longitude</th>\n",
       "      <th>Latitude</th>\n",
       "      <th>Premise</th>\n",
       "      <th>Season</th>\n",
       "      <th>Month</th>\n",
       "      <th>Hour</th>\n",
       "      <th>Year</th>\n",
       "      <th>CSA</th>\n",
       "    </tr>\n",
       "  </thead>\n",
       "  <tbody>\n",
       "    <tr>\n",
       "      <th>0</th>\n",
       "      <td>0</td>\n",
       "      <td>ROBBERY - RESIDENCE</td>\n",
       "      <td>Inside</td>\n",
       "      <td>KNIFE</td>\n",
       "      <td>913.0</td>\n",
       "      <td>SOUTHERN</td>\n",
       "      <td>Brooklyn</td>\n",
       "      <td>-76.60541</td>\n",
       "      <td>39.22951</td>\n",
       "      <td>ROW/TOWNHO</td>\n",
       "      <td>summer</td>\n",
       "      <td>9</td>\n",
       "      <td>23</td>\n",
       "      <td>2017</td>\n",
       "      <td>Brooklyn/Curtis Bay/Hawkins Point</td>\n",
       "    </tr>\n",
       "    <tr>\n",
       "      <th>1</th>\n",
       "      <td>1</td>\n",
       "      <td>AUTO THEFT</td>\n",
       "      <td>Outside</td>\n",
       "      <td>NONE</td>\n",
       "      <td>133.0</td>\n",
       "      <td>CENTRAL</td>\n",
       "      <td>Reservoir Hill</td>\n",
       "      <td>-76.63217</td>\n",
       "      <td>39.31360</td>\n",
       "      <td>STREET</td>\n",
       "      <td>summer</td>\n",
       "      <td>9</td>\n",
       "      <td>23</td>\n",
       "      <td>2017</td>\n",
       "      <td>Penn North/Reservoir Hill</td>\n",
       "    </tr>\n",
       "    <tr>\n",
       "      <th>2</th>\n",
       "      <td>2</td>\n",
       "      <td>SHOOTING</td>\n",
       "      <td>Outside</td>\n",
       "      <td>FIREARM</td>\n",
       "      <td>524.0</td>\n",
       "      <td>NORTHERN</td>\n",
       "      <td>Winston-Govans</td>\n",
       "      <td>-76.60697</td>\n",
       "      <td>39.34768</td>\n",
       "      <td>STREET</td>\n",
       "      <td>summer</td>\n",
       "      <td>9</td>\n",
       "      <td>22</td>\n",
       "      <td>2017</td>\n",
       "      <td>None</td>\n",
       "    </tr>\n",
       "    <tr>\n",
       "      <th>3</th>\n",
       "      <td>3</td>\n",
       "      <td>AGG. ASSAULT</td>\n",
       "      <td>Inside</td>\n",
       "      <td>OTHER</td>\n",
       "      <td>934.0</td>\n",
       "      <td>SOUTHERN</td>\n",
       "      <td>Carrollton Ridge</td>\n",
       "      <td>-76.64526</td>\n",
       "      <td>39.28315</td>\n",
       "      <td>ROW/TOWNHO</td>\n",
       "      <td>summer</td>\n",
       "      <td>9</td>\n",
       "      <td>22</td>\n",
       "      <td>2017</td>\n",
       "      <td>None</td>\n",
       "    </tr>\n",
       "    <tr>\n",
       "      <th>4</th>\n",
       "      <td>4</td>\n",
       "      <td>COMMON ASSAULT</td>\n",
       "      <td>Outside</td>\n",
       "      <td>HANDS</td>\n",
       "      <td>113.0</td>\n",
       "      <td>CENTRAL</td>\n",
       "      <td>Downtown West</td>\n",
       "      <td>-76.61365</td>\n",
       "      <td>39.28756</td>\n",
       "      <td>STREET</td>\n",
       "      <td>summer</td>\n",
       "      <td>9</td>\n",
       "      <td>22</td>\n",
       "      <td>2017</td>\n",
       "      <td>None</td>\n",
       "    </tr>\n",
       "  </tbody>\n",
       "</table>\n",
       "</div>"
      ],
      "text/plain": [
       "   Unnamed: 0          Description Inside/Outside   Weapon   Post  District  \\\n",
       "0           0  ROBBERY - RESIDENCE         Inside    KNIFE  913.0  SOUTHERN   \n",
       "1           1           AUTO THEFT        Outside     NONE  133.0   CENTRAL   \n",
       "2           2             SHOOTING        Outside  FIREARM  524.0  NORTHERN   \n",
       "3           3         AGG. ASSAULT         Inside    OTHER  934.0  SOUTHERN   \n",
       "4           4       COMMON ASSAULT        Outside    HANDS  113.0   CENTRAL   \n",
       "\n",
       "       Neighborhood  Longitude  Latitude     Premise  Season  Month  Hour  \\\n",
       "0          Brooklyn  -76.60541  39.22951  ROW/TOWNHO  summer      9    23   \n",
       "1    Reservoir Hill  -76.63217  39.31360      STREET  summer      9    23   \n",
       "2    Winston-Govans  -76.60697  39.34768      STREET  summer      9    22   \n",
       "3  Carrollton Ridge  -76.64526  39.28315  ROW/TOWNHO  summer      9    22   \n",
       "4     Downtown West  -76.61365  39.28756      STREET  summer      9    22   \n",
       "\n",
       "   Year                                CSA  \n",
       "0  2017  Brooklyn/Curtis Bay/Hawkins Point  \n",
       "1  2017          Penn North/Reservoir Hill  \n",
       "2  2017                               None  \n",
       "3  2017                               None  \n",
       "4  2017                               None  "
      ]
     },
     "execution_count": 301,
     "metadata": {},
     "output_type": "execute_result"
    }
   ],
   "source": [
    "old_data.head()"
   ]
  },
  {
   "cell_type": "code",
   "execution_count": 302,
   "metadata": {},
   "outputs": [
    {
     "data": {
      "text/html": [
       "<div>\n",
       "<style scoped>\n",
       "    .dataframe tbody tr th:only-of-type {\n",
       "        vertical-align: middle;\n",
       "    }\n",
       "\n",
       "    .dataframe tbody tr th {\n",
       "        vertical-align: top;\n",
       "    }\n",
       "\n",
       "    .dataframe thead th {\n",
       "        text-align: right;\n",
       "    }\n",
       "</style>\n",
       "<table border=\"1\" class=\"dataframe\">\n",
       "  <thead>\n",
       "    <tr style=\"text-align: right;\">\n",
       "      <th></th>\n",
       "      <th>CSA2010</th>\n",
       "      <th>Year</th>\n",
       "      <th>mhhi</th>\n",
       "    </tr>\n",
       "  </thead>\n",
       "  <tbody>\n",
       "    <tr>\n",
       "      <th>0</th>\n",
       "      <td>Allendale/Irvington/S. Hilton</td>\n",
       "      <td>2010</td>\n",
       "      <td>33563.12</td>\n",
       "    </tr>\n",
       "    <tr>\n",
       "      <th>1</th>\n",
       "      <td>Beechfield/Ten Hills/West Hills</td>\n",
       "      <td>2010</td>\n",
       "      <td>50780.92</td>\n",
       "    </tr>\n",
       "    <tr>\n",
       "      <th>2</th>\n",
       "      <td>Belair-Edison</td>\n",
       "      <td>2010</td>\n",
       "      <td>42920.83</td>\n",
       "    </tr>\n",
       "    <tr>\n",
       "      <th>3</th>\n",
       "      <td>Brooklyn/Curtis Bay/Hawkins Point</td>\n",
       "      <td>2010</td>\n",
       "      <td>32888.50</td>\n",
       "    </tr>\n",
       "    <tr>\n",
       "      <th>4</th>\n",
       "      <td>Canton</td>\n",
       "      <td>2010</td>\n",
       "      <td>74685.14</td>\n",
       "    </tr>\n",
       "  </tbody>\n",
       "</table>\n",
       "</div>"
      ],
      "text/plain": [
       "                             CSA2010  Year      mhhi\n",
       "0      Allendale/Irvington/S. Hilton  2010  33563.12\n",
       "1    Beechfield/Ten Hills/West Hills  2010  50780.92\n",
       "2                      Belair-Edison  2010  42920.83\n",
       "3  Brooklyn/Curtis Bay/Hawkins Point  2010  32888.50\n",
       "4                             Canton  2010  74685.14"
      ]
     },
     "execution_count": 302,
     "metadata": {},
     "output_type": "execute_result"
    }
   ],
   "source": [
    "income.head()"
   ]
  },
  {
   "cell_type": "code",
   "execution_count": 303,
   "metadata": {},
   "outputs": [],
   "source": [
    "new_data = pd.merge(old_data, income, how = 'left', left_on = ['CSA','Year'], right_on=['CSA2010','Year']).drop('CSA2010',axis=1)\n",
    "new_data = pd.merge(new_data, poverty, how = 'left', left_on = ['CSA','Year'], right_on=['CSA2010','Year']).drop('CSA2010',axis=1)\n",
    "new_data = pd.merge(new_data, perc18_24, how = 'left', left_on = ['CSA','Year'], right_on=['CSA2010','Year']).drop('CSA2010',axis=1)\n",
    "new_data = pd.merge(new_data, perc25_64, how = 'left', left_on = ['CSA','Year'], right_on=['CSA2010','Year']).drop('CSA2010',axis=1)\n",
    "new_data = pd.merge(new_data, perc65up, how = 'left', left_on = ['CSA','Year'], right_on=['CSA2010','Year']).drop('CSA2010',axis=1)\n",
    "new_data = pd.merge(new_data, perc_asian, how = 'left', left_on = ['CSA','Year'], right_on=['CSA2010','Year']).drop('CSA2010',axis=1)\n",
    "new_data = pd.merge(new_data, perc_aa, how = 'left', left_on = ['CSA','Year'], right_on=['CSA2010','Year']).drop('CSA2010',axis=1)\n",
    "new_data = pd.merge(new_data, perc_hispanic, how = 'left', left_on = ['CSA','Year'], right_on=['CSA2010','Year']).drop('CSA2010',axis=1)\n",
    "new_data = pd.merge(new_data, perc_white, how = 'left', left_on = ['CSA','Year'], right_on=['CSA2010','Year']).drop('CSA2010',axis=1)\n",
    "new_data = pd.merge(new_data, households, how = 'left', left_on = ['CSA','Year'], right_on=['CSA2010','Year']).drop('CSA2010',axis=1)\n",
    "new_data = pd.merge(new_data, housing, how = 'left', left_on = ['CSA','Year'], right_on=['CSA2010','Year']).drop('CSA2010',axis=1)"
   ]
  },
  {
   "cell_type": "code",
   "execution_count": 304,
   "metadata": {},
   "outputs": [
    {
     "data": {
      "text/plain": [
       "Index(['Unnamed: 0', 'Description', 'Inside/Outside', 'Weapon', 'Post',\n",
       "       'District', 'Neighborhood', 'Longitude', 'Latitude', 'Premise',\n",
       "       'Season', 'Month', 'Hour', 'Year', 'CSA', 'mhhi', 'hhpo', 'age2',\n",
       "       'age6_x', 'age6_y', 'pasi', 'paa1', 'phis', 'pwhi', 'hhs1', 'sale'],\n",
       "      dtype='object')"
      ]
     },
     "execution_count": 304,
     "metadata": {},
     "output_type": "execute_result"
    }
   ],
   "source": [
    "new_data.columns"
   ]
  },
  {
   "cell_type": "code",
   "execution_count": 305,
   "metadata": {},
   "outputs": [],
   "source": [
    "new_data = new_data.rename(columns = {'mhhi': 'median_household_income',\n",
    "                          'hhpo': 'households_below_poverty',\n",
    "                          'age2': 'perc18_24',\n",
    "                          'age6_x': 'perc25_64',\n",
    "                          'age6_y': 'perc65up',\n",
    "                          'pasi': 'perc_asian',\n",
    "                          'paa1': 'perc_aa',\n",
    "                          'phis': 'perc_hisp',\n",
    "                          'hhs1': 'num_households',\n",
    "                          'sale': 'median_price_homes_sold'})"
   ]
  },
  {
   "cell_type": "code",
   "execution_count": 306,
   "metadata": {},
   "outputs": [],
   "source": [
    "new_data.to_csv('BPD_CRIME_DATA_WITHDEMOGRAPHICS.csv')"
   ]
  },
  {
   "cell_type": "code",
   "execution_count": null,
   "metadata": {},
   "outputs": [],
   "source": []
  }
 ],
 "metadata": {
  "kernelspec": {
   "display_name": "Python 3",
   "language": "python",
   "name": "python3"
  },
  "language_info": {
   "codemirror_mode": {
    "name": "ipython",
    "version": 3
   },
   "file_extension": ".py",
   "mimetype": "text/x-python",
   "name": "python",
   "nbconvert_exporter": "python",
   "pygments_lexer": "ipython3",
   "version": "3.8.3"
  }
 },
 "nbformat": 4,
 "nbformat_minor": 4
}
